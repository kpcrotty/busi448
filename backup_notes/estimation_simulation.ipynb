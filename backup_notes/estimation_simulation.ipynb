{
 "cells": [
  {
   "cell_type": "code",
   "execution_count": 100,
   "metadata": {},
   "outputs": [],
   "source": [
    "import numpy as np\n",
    "from cvxopt import matrix\n",
    "from cvxopt.solvers import qp as Solver, options as SolverOptions\n",
    "from scipy.optimize import minimize_scalar\n",
    "from scipy.optimize import minimize\n",
    "import plotly.graph_objects as go\n",
    "from scipy.stats import multivariate_normal as mvn\n",
    "import pandas as pd\n",
    "##### Inputs\n",
    "# Number of simulations\n",
    "num_sims = 500\n",
    "\n",
    "# Risk-free rate\n",
    "r = 0.02\n",
    "# Expected returns\n",
    "means = np.array([0.06, 0.065, 0.08])\n",
    "# Standard deviations\n",
    "sds = np.array([0.15, 0.165, 0.21])\n",
    "\n",
    "# Correlations\n",
    "corr12 = 0.75\n",
    "corr13 = 0.75\n",
    "corr23 = 0.75\n",
    "# Covariance matrix\n",
    "C  = np.identity(3)\n",
    "C[0, 1] = C[1, 0] = corr12\n",
    "C[0, 2] = C[2, 0] = corr13\n",
    "C[1, 2] = C[2, 1] = corr23\n",
    "cov = np.diag(sds) @ C @ np.diag(sds)\n",
    "\n",
    "# Window length (and initial period)\n",
    "window = 30\n",
    "\n",
    "# Length of out-of-sample period\n",
    "T = 50\n",
    "\n",
    "n = len(means)\n",
    "raver = 2\n"
   ]
  },
  {
   "cell_type": "code",
   "execution_count": 101,
   "metadata": {},
   "outputs": [
    {
     "name": "stdout",
     "output_type": "stream",
     "text": [
      "0.9236475718970099\n"
     ]
    }
   ],
   "source": [
    "def tangency(means, cov, rf, short_lb):\n",
    "    '''\n",
    "    short_lb: lower bound on position weights\n",
    "    examples: 0  = no short-selling\n",
    "              -1 = no more than -100% in a given asset\n",
    "              None=no restrictions on short-selling\n",
    "    '''\n",
    "\n",
    "    n = len(means)\n",
    "    def f(w):\n",
    "        mn = w @ means\n",
    "        sd = np.sqrt(w.T @ cov @ w)\n",
    "        return -(mn - rf) / sd\n",
    "    # Initial guess (equal-weighted)\n",
    "    w0 = (1/n)*np.ones(n)\n",
    "    # Constraint: fully-invested portfolio\n",
    "    A = np.ones(n)\n",
    "    b = 1\n",
    "    cons = [{\"type\": \"eq\", \"fun\": lambda x: A @ x - b}]\n",
    "    bnds = [(short_lb, None) for i in range(n)] \n",
    "    # Optimization\n",
    "    wgts_tangency = minimize(f, w0, bounds=bnds, constraints=cons).x\n",
    "    return wgts_tangency\n",
    "\n",
    "wgts_true = tangency(means,cov,r,short_lb = -3.0)\n",
    "cal_wgt_true = (wgts_true @ means - r) / (raver * (wgts_true @ cov @ wgts_true))\n",
    "print(cal_wgt_true)"
   ]
  },
  {
   "cell_type": "code",
   "execution_count": 40,
   "metadata": {},
   "outputs": [],
   "source": [
    "\n",
    "def gmv(cov, short_lb): \n",
    "    '''\n",
    "    short_lb: lower bound on position weights\n",
    "    examples: 0  = no short-selling\n",
    "              -1 = no more than -100% in a given asset\n",
    "              None=no restrictions on short-selling\n",
    "    '''    \n",
    "    n = len(cov)\n",
    "    Q = matrix(cov, tc=\"d\")\n",
    "    p = matrix(np.zeros(n), (n, 1), tc=\"d\")\n",
    "    if short_lb==None:\n",
    "        # No position limits\n",
    "        G = matrix(np.zeros((n,n)), tc=\"d\")\n",
    "        h = matrix(np.zeros(n), (n, 1), tc=\"d\")\n",
    "    else:\n",
    "        # Constraint: short-sales not allowed\n",
    "        G = matrix(-np.identity(n), tc=\"d\")\n",
    "        h = matrix(-short_lb * np.ones(n), (n, 1), tc=\"d\")\n",
    "    # Fully-invested constraint\n",
    "    A = matrix(np.ones(n), (1, n), tc=\"d\")\n",
    "    b = matrix([1], (1, 1), tc=\"d\")\n",
    "    sol = Solver(Q, p, G, h, A, b, options={'show_progress': False})\n",
    "    wgts_gmv = np.array(sol[\"x\"]).flatten() if sol[\"status\"] == \"optimal\" else np.array(n * [np.nan])\n",
    "    return wgts_gmv\n",
    "\n",
    "wgts_gmv = gmv(cov,short_lb=None)\n"
   ]
  },
  {
   "cell_type": "code",
   "execution_count": 95,
   "metadata": {},
   "outputs": [],
   "source": [
    "\n",
    "# Simulate data\n",
    "def simulation(means, cov, short_lb, seed):\n",
    "\trets = mvn.rvs(means, cov, size=60+T, random_state = seed)\n",
    "\tdf = pd.DataFrame(data=rets, columns=['r0','r1','r2'])\n",
    "\tdf.columns\n",
    "\tdf['mn0']=df['r0'].rolling(60).mean()\n",
    "\tdf['mn1']=df['r1'].rolling(60).mean()\n",
    "\tdf['mn2']=df['r2'].rolling(60).mean()\n",
    "\tdf['sd0']=df['r0'].rolling(60).std()\n",
    "\tdf['sd1']=df['r1'].rolling(60).std()\n",
    "\tdf['sd2']=df['r2'].rolling(60).std()\n",
    "\n",
    "\tcorrs = df[['r0','r1','r2']].rolling(60, min_periods=60).corr()\n",
    "\tdf['c01']=corrs.loc[(slice(None),'r0'),'r1'].values\n",
    "\tdf['c02']=corrs.loc[(slice(None),'r0'),'r2'].values\n",
    "\tdf['c12']=corrs.loc[(slice(None),'r1'),'r2'].values\n",
    "\n",
    "\tmodel_list = ['true', 'ew', 'est_all', 'est_cov', 'est_sds']\n",
    "\tfor model in model_list:\n",
    "\t\tdf['portret_'+model] = np.nan  # portret is the realized portfolio return of the 100% risky asset portfolio\n",
    "\t\tif model not in ['true','ew']:\n",
    "\t\t\tdf['wgt0_'+model] = np.nan\n",
    "\t\t\tdf['wgt1_'+model] = np.nan\n",
    "\t\t\tdf['wgt2_'+model] = np.nan\n",
    "\t\tdf['wgt_cal_'+model] =np.nan\n",
    "\t\tdf['raver_portret_'+model] =np.nan #raver_portret_ is the realized return of the CAL choice of the raver investor\n",
    "\n",
    "\tfor i in np.arange(60,60+T):\n",
    "\t\t# Full estimation inputs at each point in time\n",
    "\t\tmeans = df[['mn0','mn1','mn2']].iloc[i-1].values\n",
    "\t\tsds   = df[['sd0','sd1','sd2']].iloc[i-1].values\n",
    "\t\tcorr01 = df.loc[i-1,'c01']\n",
    "\t\tcorr02 = df.loc[i-1,'c02']\n",
    "\t\tcorr12 = df.loc[i-1,'c12']\n",
    "\t\tC  = np.identity(3)\n",
    "\t\tC[0, 1] = C[1, 0] = corr01\n",
    "\t\tC[0, 2] = C[2, 0] = corr02\n",
    "\t\tC[1, 2] = C[2, 1] = corr12\n",
    "\t\tcov = np.diag(sds) @ C @ np.diag(sds)\n",
    "\n",
    "\t\t##### Note: all portfolio weights considered to be beginning of period weights\n",
    "\t\t##### (so multiply by contemporaneous realized returns)\n",
    "\t\t# Theoretical optimal weights\n",
    "\t\tmodel = 'true'\n",
    "\t\tdf.loc[i,'portret_'+model]= df.loc[i,['r0','r1','r2']].values @ wgts_true\n",
    "\t\tdf.loc[i,'raver_portret_'+model] = r + cal_wgt_true * (df.loc[i,'portret_'+model] -r)\n",
    "\n",
    "\t\t# Full estimation tangency portfolio\n",
    "\t\tmodel = 'est_all'\n",
    "\t\tw0, w1, w2 = tangency(means,cov,r,short_lb)\n",
    "\t\tdf.loc[i,'wgt0_' + model] = w0\n",
    "\t\tdf.loc[i,'wgt1_' + model] = w1\n",
    "\t\tdf.loc[i,'wgt2_' + model] = w2\n",
    "\t\t# df.loc[i,'portret_'+model] = df.loc[i,['r0','r1','r2']].values @ df.loc[i,['wgt0_'+model,'wgt1_'+model,'wgt2_'+model]].values\n",
    "\t\twgts = np.array([w0, w1, w2])\n",
    "\t\tdf.loc[i,'portret_'+model] = df.loc[i,['r0','r1','r2']].values @ wgts\n",
    "\t\tdf.loc[i,'wgt_cal_'+model] = (wgts @ means - r) / (raver * (wgts @ cov @ wgts))\n",
    "\t\tdf.loc[i,'wgt_cal_'+model] = max(0,df.loc[i,'wgt_cal_'+model])\n",
    "\t\tdf.loc[i,'raver_portret_'+model] = r + df.loc[i,'wgt_cal_'+model]  * (df.loc[i,'portret_'+model] -r)\n",
    "\n",
    "\t\t# Estimate only covariance matrix\n",
    "\t\tmodel = 'est_cov'\n",
    "\t\tw0, w1, w2 = gmv(cov,short_lb)\n",
    "\t\tdf.loc[i,'wgt0_' + model] = w0\n",
    "\t\tdf.loc[i,'wgt1_' + model] = w1\n",
    "\t\tdf.loc[i,'wgt2_' + model] = w2\n",
    "\t\t# df.loc[i,'portret_'+model] = df.loc[i,['r0','r1','r2']].values @ df.loc[i,['wgt0_'+model,'wgt1_'+model,'wgt2_'+model]].values\n",
    "\t\twgts = np.array([w0, w1, w2])\n",
    "\t\tdf.loc[i,'portret_'+model] = df.loc[i,['r0','r1','r2']].values @ wgts\n",
    "\t\tdf.loc[i,'wgt_cal_'+model] = (means.mean() - r) / (raver * (wgts @ cov @ wgts))\n",
    "\t\tdf.loc[i,'wgt_cal_'+model] = max(0,df.loc[i,'wgt_cal_'+model])\n",
    "\t\tdf.loc[i,'raver_portret_'+model] = r + df.loc[i,'wgt_cal_'+model]  * (df.loc[i,'portret_'+model] -r)\n",
    "\n",
    "\n",
    "\t\t# Estimate only standard deviations in covariance matrix\n",
    "\t\tmodel = 'est_sds'\n",
    "\t\tcov[0, 1] = cov[1, 0] = 0.0\n",
    "\t\tcov[0, 2] = cov[2, 0] = 0.0\n",
    "\t\tcov[1, 2] = cov[2, 1] = 0.0\n",
    "\t\tw0, w1, w2 = gmv(cov,short_lb)\n",
    "\t\tdf.loc[i,'wgt0_' + model] = w0\n",
    "\t\tdf.loc[i,'wgt1_' + model] = w1\n",
    "\t\tdf.loc[i,'wgt2_' + model] = w2\n",
    "\t\t# df.loc[i,'portret_'+model] = df.loc[i,['r0','r1','r2']].values @ df.loc[i,['wgt0_'+model,'wgt1_'+model,'wgt2_'+model]].values\n",
    "\t\twgts = np.array([w0, w1, w2])\n",
    "\t\tdf.loc[i,'wgt_cal_'+model] = (means.mean() - r) / (raver * (wgts @ cov @ wgts))\t\t\n",
    "\t\tdf.loc[i,'wgt_cal_'+model] = max(0,df.loc[i,'wgt_cal_'+model])\n",
    "\t\tdf.loc[i,'portret_'+model] = df.loc[i,['r0','r1','r2']].values @ wgts\n",
    "\t\tdf.loc[i,'raver_portret_'+model] = r + df.loc[i,'wgt_cal_'+model]  * (df.loc[i,'portret_'+model] -r)    \n",
    "\n",
    "\t\t# Equal-weighted portfolio\n",
    "\t\tmodel = 'ew'\n",
    "\t\tcov[0, 0] = cov[1, 1] = cov[2, 2] = (sds.mean())**2\n",
    "\t\twgts = (1/n)*np.ones(n)\n",
    "\t\t# df.loc[i,'portret_'+model]= df.loc[i,['r0','r1','r2']].values @ wgts_ew\n",
    "\t\tdf.loc[i,'portret_'+model] = df.loc[i,['r0','r1','r2']].values @ wgts\n",
    "\t\tdf.loc[i,'wgt_cal_'+model] = (means.mean() - r) / (raver * (wgts @ cov @ wgts))\n",
    "\t\tdf.loc[i,'wgt_cal_'+model] = max(0,df.loc[i,'wgt_cal_'+model])\n",
    "\t\tdf.loc[i,'raver_portret_'+model] = r + df.loc[i,'wgt_cal_'+model]  * (df.loc[i,'portret_'+model] -r)   \n",
    "\n",
    "\tportret_list = ['raver_portret_' +  model for model in model_list]\n",
    "\tcollist = ['wgt_cal_'+m for m in ['ew', 'est_all', 'est_cov', 'est_sds']]\n",
    "\tstats = df[portret_list+collist].describe()\n",
    "\n",
    "\tsr_df = pd.DataFrame(dtype=float, columns = ['sr', 'avg_wgt_cal', 'min_wgt_cal', 'mean_raver_port_ret', 'std_raver_port_ret'], index = model_list)\n",
    "\tfor model in model_list:\n",
    "\t\tsr_df.loc[model,'sr'] = (stats.loc['mean','raver_portret_' +  model] - r)/stats.loc['std','raver_portret_' +  model]\n",
    "\tfor model in ['ew', 'est_all', 'est_cov', 'est_sds']:\n",
    "\t\tsr_df.loc[model,'avg_wgt_cal'] = stats.loc['mean','wgt_cal_' +  model]\n",
    "\t\tsr_df.loc[model,'min_wgt_cal'] = stats.loc['min','wgt_cal_' +  model]\n",
    "\t\tsr_df.loc[model,'mean_raver_port_ret'] = stats.loc['mean','raver_portret_' +  model]\n",
    "\t\tsr_df.loc[model,'std_raver_port_ret'] = stats.loc['std','raver_portret_' +  model]\n",
    "\t\t\n",
    "\treturn sr_df, df\n",
    "\n"
   ]
  },
  {
   "cell_type": "code",
   "execution_count": 96,
   "metadata": {},
   "outputs": [],
   "source": [
    "\n",
    "sr_df, df = simulation(means, cov, short_lb=None, seed=4)\n"
   ]
  },
  {
   "cell_type": "code",
   "execution_count": 97,
   "metadata": {},
   "outputs": [
    {
     "data": {
      "text/html": [
       "<div>\n",
       "<style scoped>\n",
       "    .dataframe tbody tr th:only-of-type {\n",
       "        vertical-align: middle;\n",
       "    }\n",
       "\n",
       "    .dataframe tbody tr th {\n",
       "        vertical-align: top;\n",
       "    }\n",
       "\n",
       "    .dataframe thead th {\n",
       "        text-align: right;\n",
       "    }\n",
       "</style>\n",
       "<table border=\"1\" class=\"dataframe\">\n",
       "  <thead>\n",
       "    <tr style=\"text-align: right;\">\n",
       "      <th></th>\n",
       "      <th>r0</th>\n",
       "      <th>r1</th>\n",
       "      <th>r2</th>\n",
       "      <th>mn0</th>\n",
       "      <th>mn1</th>\n",
       "      <th>mn2</th>\n",
       "      <th>sd0</th>\n",
       "      <th>sd1</th>\n",
       "      <th>sd2</th>\n",
       "      <th>c01</th>\n",
       "      <th>...</th>\n",
       "      <th>wgt1_est_cov</th>\n",
       "      <th>wgt2_est_cov</th>\n",
       "      <th>wgt_cal_est_cov</th>\n",
       "      <th>raver_portret_est_cov</th>\n",
       "      <th>portret_est_sds</th>\n",
       "      <th>wgt0_est_sds</th>\n",
       "      <th>wgt1_est_sds</th>\n",
       "      <th>wgt2_est_sds</th>\n",
       "      <th>wgt_cal_est_sds</th>\n",
       "      <th>raver_portret_est_sds</th>\n",
       "    </tr>\n",
       "  </thead>\n",
       "  <tbody>\n",
       "    <tr>\n",
       "      <th>0</th>\n",
       "      <td>0.007103</td>\n",
       "      <td>0.131749</td>\n",
       "      <td>0.045605</td>\n",
       "      <td>NaN</td>\n",
       "      <td>NaN</td>\n",
       "      <td>NaN</td>\n",
       "      <td>NaN</td>\n",
       "      <td>NaN</td>\n",
       "      <td>NaN</td>\n",
       "      <td>NaN</td>\n",
       "      <td>...</td>\n",
       "      <td>NaN</td>\n",
       "      <td>NaN</td>\n",
       "      <td>NaN</td>\n",
       "      <td>NaN</td>\n",
       "      <td>NaN</td>\n",
       "      <td>NaN</td>\n",
       "      <td>NaN</td>\n",
       "      <td>NaN</td>\n",
       "      <td>NaN</td>\n",
       "      <td>NaN</td>\n",
       "    </tr>\n",
       "    <tr>\n",
       "      <th>1</th>\n",
       "      <td>-0.145411</td>\n",
       "      <td>0.009785</td>\n",
       "      <td>-0.017832</td>\n",
       "      <td>NaN</td>\n",
       "      <td>NaN</td>\n",
       "      <td>NaN</td>\n",
       "      <td>NaN</td>\n",
       "      <td>NaN</td>\n",
       "      <td>NaN</td>\n",
       "      <td>NaN</td>\n",
       "      <td>...</td>\n",
       "      <td>NaN</td>\n",
       "      <td>NaN</td>\n",
       "      <td>NaN</td>\n",
       "      <td>NaN</td>\n",
       "      <td>NaN</td>\n",
       "      <td>NaN</td>\n",
       "      <td>NaN</td>\n",
       "      <td>NaN</td>\n",
       "      <td>NaN</td>\n",
       "      <td>NaN</td>\n",
       "    </tr>\n",
       "    <tr>\n",
       "      <th>2</th>\n",
       "      <td>0.186328</td>\n",
       "      <td>0.180547</td>\n",
       "      <td>0.167359</td>\n",
       "      <td>NaN</td>\n",
       "      <td>NaN</td>\n",
       "      <td>NaN</td>\n",
       "      <td>NaN</td>\n",
       "      <td>NaN</td>\n",
       "      <td>NaN</td>\n",
       "      <td>NaN</td>\n",
       "      <td>...</td>\n",
       "      <td>NaN</td>\n",
       "      <td>NaN</td>\n",
       "      <td>NaN</td>\n",
       "      <td>NaN</td>\n",
       "      <td>NaN</td>\n",
       "      <td>NaN</td>\n",
       "      <td>NaN</td>\n",
       "      <td>NaN</td>\n",
       "      <td>NaN</td>\n",
       "      <td>NaN</td>\n",
       "    </tr>\n",
       "    <tr>\n",
       "      <th>3</th>\n",
       "      <td>0.226433</td>\n",
       "      <td>0.274437</td>\n",
       "      <td>0.269224</td>\n",
       "      <td>NaN</td>\n",
       "      <td>NaN</td>\n",
       "      <td>NaN</td>\n",
       "      <td>NaN</td>\n",
       "      <td>NaN</td>\n",
       "      <td>NaN</td>\n",
       "      <td>NaN</td>\n",
       "      <td>...</td>\n",
       "      <td>NaN</td>\n",
       "      <td>NaN</td>\n",
       "      <td>NaN</td>\n",
       "      <td>NaN</td>\n",
       "      <td>NaN</td>\n",
       "      <td>NaN</td>\n",
       "      <td>NaN</td>\n",
       "      <td>NaN</td>\n",
       "      <td>NaN</td>\n",
       "      <td>NaN</td>\n",
       "    </tr>\n",
       "    <tr>\n",
       "      <th>4</th>\n",
       "      <td>-0.058045</td>\n",
       "      <td>0.073959</td>\n",
       "      <td>-0.016805</td>\n",
       "      <td>NaN</td>\n",
       "      <td>NaN</td>\n",
       "      <td>NaN</td>\n",
       "      <td>NaN</td>\n",
       "      <td>NaN</td>\n",
       "      <td>NaN</td>\n",
       "      <td>NaN</td>\n",
       "      <td>...</td>\n",
       "      <td>NaN</td>\n",
       "      <td>NaN</td>\n",
       "      <td>NaN</td>\n",
       "      <td>NaN</td>\n",
       "      <td>NaN</td>\n",
       "      <td>NaN</td>\n",
       "      <td>NaN</td>\n",
       "      <td>NaN</td>\n",
       "      <td>NaN</td>\n",
       "      <td>NaN</td>\n",
       "    </tr>\n",
       "    <tr>\n",
       "      <th>...</th>\n",
       "      <td>...</td>\n",
       "      <td>...</td>\n",
       "      <td>...</td>\n",
       "      <td>...</td>\n",
       "      <td>...</td>\n",
       "      <td>...</td>\n",
       "      <td>...</td>\n",
       "      <td>...</td>\n",
       "      <td>...</td>\n",
       "      <td>...</td>\n",
       "      <td>...</td>\n",
       "      <td>...</td>\n",
       "      <td>...</td>\n",
       "      <td>...</td>\n",
       "      <td>...</td>\n",
       "      <td>...</td>\n",
       "      <td>...</td>\n",
       "      <td>...</td>\n",
       "      <td>...</td>\n",
       "      <td>...</td>\n",
       "      <td>...</td>\n",
       "    </tr>\n",
       "    <tr>\n",
       "      <th>105</th>\n",
       "      <td>0.055448</td>\n",
       "      <td>0.206687</td>\n",
       "      <td>0.069130</td>\n",
       "      <td>0.036566</td>\n",
       "      <td>0.038526</td>\n",
       "      <td>0.029006</td>\n",
       "      <td>0.135927</td>\n",
       "      <td>0.164814</td>\n",
       "      <td>0.213440</td>\n",
       "      <td>0.775175</td>\n",
       "      <td>...</td>\n",
       "      <td>0.163361</td>\n",
       "      <td>-0.073878</td>\n",
       "      <td>0.372264</td>\n",
       "      <td>0.042017</td>\n",
       "      <td>0.108089</td>\n",
       "      <td>0.475759</td>\n",
       "      <td>0.330539</td>\n",
       "      <td>0.193701</td>\n",
       "      <td>0.771414</td>\n",
       "      <td>0.087953</td>\n",
       "    </tr>\n",
       "    <tr>\n",
       "      <th>106</th>\n",
       "      <td>-0.254843</td>\n",
       "      <td>-0.356827</td>\n",
       "      <td>-0.470513</td>\n",
       "      <td>0.031350</td>\n",
       "      <td>0.030285</td>\n",
       "      <td>0.016239</td>\n",
       "      <td>0.140996</td>\n",
       "      <td>0.171981</td>\n",
       "      <td>0.220037</td>\n",
       "      <td>0.793396</td>\n",
       "      <td>...</td>\n",
       "      <td>0.145816</td>\n",
       "      <td>-0.072648</td>\n",
       "      <td>0.402713</td>\n",
       "      <td>-0.090362</td>\n",
       "      <td>-0.330037</td>\n",
       "      <td>0.479445</td>\n",
       "      <td>0.326108</td>\n",
       "      <td>0.194447</td>\n",
       "      <td>0.829705</td>\n",
       "      <td>-0.270428</td>\n",
       "    </tr>\n",
       "    <tr>\n",
       "      <th>107</th>\n",
       "      <td>-0.165711</td>\n",
       "      <td>-0.261316</td>\n",
       "      <td>-0.412056</td>\n",
       "      <td>0.026257</td>\n",
       "      <td>0.021744</td>\n",
       "      <td>0.003926</td>\n",
       "      <td>0.142521</td>\n",
       "      <td>0.173544</td>\n",
       "      <td>0.223019</td>\n",
       "      <td>0.799004</td>\n",
       "      <td>...</td>\n",
       "      <td>0.120646</td>\n",
       "      <td>-0.103033</td>\n",
       "      <td>0.151844</td>\n",
       "      <td>-0.006096</td>\n",
       "      <td>-0.245130</td>\n",
       "      <td>0.480137</td>\n",
       "      <td>0.322715</td>\n",
       "      <td>0.197147</td>\n",
       "      <td>0.312113</td>\n",
       "      <td>-0.062751</td>\n",
       "    </tr>\n",
       "    <tr>\n",
       "      <th>108</th>\n",
       "      <td>0.032262</td>\n",
       "      <td>0.165552</td>\n",
       "      <td>0.092030</td>\n",
       "      <td>0.026230</td>\n",
       "      <td>0.023923</td>\n",
       "      <td>0.003721</td>\n",
       "      <td>0.142519</td>\n",
       "      <td>0.174529</td>\n",
       "      <td>0.222930</td>\n",
       "      <td>0.795025</td>\n",
       "      <td>...</td>\n",
       "      <td>0.121020</td>\n",
       "      <td>-0.116731</td>\n",
       "      <td>0.000000</td>\n",
       "      <td>0.020000</td>\n",
       "      <td>0.087141</td>\n",
       "      <td>0.480118</td>\n",
       "      <td>0.323807</td>\n",
       "      <td>0.196075</td>\n",
       "      <td>0.000000</td>\n",
       "      <td>0.020000</td>\n",
       "    </tr>\n",
       "    <tr>\n",
       "      <th>109</th>\n",
       "      <td>0.008622</td>\n",
       "      <td>0.122238</td>\n",
       "      <td>0.099186</td>\n",
       "      <td>0.024391</td>\n",
       "      <td>0.026281</td>\n",
       "      <td>0.007941</td>\n",
       "      <td>0.142013</td>\n",
       "      <td>0.174891</td>\n",
       "      <td>0.222290</td>\n",
       "      <td>0.797933</td>\n",
       "      <td>...</td>\n",
       "      <td>0.118441</td>\n",
       "      <td>-0.116922</td>\n",
       "      <td>0.000000</td>\n",
       "      <td>0.020000</td>\n",
       "      <td>0.062958</td>\n",
       "      <td>0.481804</td>\n",
       "      <td>0.321281</td>\n",
       "      <td>0.196915</td>\n",
       "      <td>0.000000</td>\n",
       "      <td>0.020000</td>\n",
       "    </tr>\n",
       "  </tbody>\n",
       "</table>\n",
       "<p>110 rows × 36 columns</p>\n",
       "</div>"
      ],
      "text/plain": [
       "           r0        r1        r2       mn0       mn1       mn2       sd0  \\\n",
       "0    0.007103  0.131749  0.045605       NaN       NaN       NaN       NaN   \n",
       "1   -0.145411  0.009785 -0.017832       NaN       NaN       NaN       NaN   \n",
       "2    0.186328  0.180547  0.167359       NaN       NaN       NaN       NaN   \n",
       "3    0.226433  0.274437  0.269224       NaN       NaN       NaN       NaN   \n",
       "4   -0.058045  0.073959 -0.016805       NaN       NaN       NaN       NaN   \n",
       "..        ...       ...       ...       ...       ...       ...       ...   \n",
       "105  0.055448  0.206687  0.069130  0.036566  0.038526  0.029006  0.135927   \n",
       "106 -0.254843 -0.356827 -0.470513  0.031350  0.030285  0.016239  0.140996   \n",
       "107 -0.165711 -0.261316 -0.412056  0.026257  0.021744  0.003926  0.142521   \n",
       "108  0.032262  0.165552  0.092030  0.026230  0.023923  0.003721  0.142519   \n",
       "109  0.008622  0.122238  0.099186  0.024391  0.026281  0.007941  0.142013   \n",
       "\n",
       "          sd1       sd2       c01  ...  wgt1_est_cov  wgt2_est_cov  \\\n",
       "0         NaN       NaN       NaN  ...           NaN           NaN   \n",
       "1         NaN       NaN       NaN  ...           NaN           NaN   \n",
       "2         NaN       NaN       NaN  ...           NaN           NaN   \n",
       "3         NaN       NaN       NaN  ...           NaN           NaN   \n",
       "4         NaN       NaN       NaN  ...           NaN           NaN   \n",
       "..        ...       ...       ...  ...           ...           ...   \n",
       "105  0.164814  0.213440  0.775175  ...      0.163361     -0.073878   \n",
       "106  0.171981  0.220037  0.793396  ...      0.145816     -0.072648   \n",
       "107  0.173544  0.223019  0.799004  ...      0.120646     -0.103033   \n",
       "108  0.174529  0.222930  0.795025  ...      0.121020     -0.116731   \n",
       "109  0.174891  0.222290  0.797933  ...      0.118441     -0.116922   \n",
       "\n",
       "     wgt_cal_est_cov  raver_portret_est_cov  portret_est_sds  wgt0_est_sds  \\\n",
       "0                NaN                    NaN              NaN           NaN   \n",
       "1                NaN                    NaN              NaN           NaN   \n",
       "2                NaN                    NaN              NaN           NaN   \n",
       "3                NaN                    NaN              NaN           NaN   \n",
       "4                NaN                    NaN              NaN           NaN   \n",
       "..               ...                    ...              ...           ...   \n",
       "105         0.372264               0.042017         0.108089      0.475759   \n",
       "106         0.402713              -0.090362        -0.330037      0.479445   \n",
       "107         0.151844              -0.006096        -0.245130      0.480137   \n",
       "108         0.000000               0.020000         0.087141      0.480118   \n",
       "109         0.000000               0.020000         0.062958      0.481804   \n",
       "\n",
       "     wgt1_est_sds  wgt2_est_sds  wgt_cal_est_sds  raver_portret_est_sds  \n",
       "0             NaN           NaN              NaN                    NaN  \n",
       "1             NaN           NaN              NaN                    NaN  \n",
       "2             NaN           NaN              NaN                    NaN  \n",
       "3             NaN           NaN              NaN                    NaN  \n",
       "4             NaN           NaN              NaN                    NaN  \n",
       "..            ...           ...              ...                    ...  \n",
       "105      0.330539      0.193701         0.771414               0.087953  \n",
       "106      0.326108      0.194447         0.829705              -0.270428  \n",
       "107      0.322715      0.197147         0.312113              -0.062751  \n",
       "108      0.323807      0.196075         0.000000               0.020000  \n",
       "109      0.321281      0.196915         0.000000               0.020000  \n",
       "\n",
       "[110 rows x 36 columns]"
      ]
     },
     "execution_count": 97,
     "metadata": {},
     "output_type": "execute_result"
    }
   ],
   "source": [
    "df"
   ]
  },
  {
   "cell_type": "code",
   "execution_count": null,
   "metadata": {},
   "outputs": [],
   "source": [
    "\n",
    "collist = ['wgt_cal_'+m for m in ['ew', 'est_all', 'est_cov', 'est_sds']]\n",
    "df.describe()\n",
    "sr_df\n",
    "\n",
    "avg_wgt_cal, min_wgt_cal, mean_raver_port_ret, std_raver_port_ret\n"
   ]
  },
  {
   "cell_type": "code",
   "execution_count": 42,
   "metadata": {},
   "outputs": [],
   "source": [
    "\n",
    "sim_results = pd.DataFrame(dtype=float, columns=['true', 'ew', 'est_all', 'est_cov', 'est_sds'], index=range(num_sims))\n",
    "for s in range(num_sims):\n",
    "    # print('Simulation number: ' + str(s))\n",
    "    sim_results.iloc[s] = simulation(means, cov, short_lb=None, seed=s).T\n"
   ]
  },
  {
   "cell_type": "code",
   "execution_count": 44,
   "metadata": {},
   "outputs": [],
   "source": [
    "\n",
    "def figplot(xvar, yvar):\n",
    "    label_dict = {'true': 'theoretical optimal weights', \n",
    "                'ew': 'equal weights',\n",
    "                'est_all': 'estimate all inputs',\n",
    "                'est_cov': 'estimate covariance matrix only',\n",
    "                'est_sds': 'estimate standard deviations only'}\n",
    "\n",
    "\n",
    "    # Plot simulated Sharpe ratios\n",
    "    string =\"Sharpe Ratios:<br>\"\n",
    "    string += \"  \"+ label_dict[xvar] + \": %{x:0.3}<br>\"\n",
    "    string += \"  \"+ label_dict[yvar] + \": %{y:0.3}<br>\"\n",
    "    string += \"<extra></extra>\"\n",
    "\n",
    "    trace = go.Scatter(x=sim_results[xvar],y=sim_results[yvar],mode='markers', name='A simulated outcome', hovertemplate=string)\n",
    "    max_sr = sim_results.max().max()\n",
    "\n",
    "    # Plot 45 degree line\n",
    "    frac_x_beats_y = (sim_results[xvar] > sim_results[yvar]).mean()\n",
    "\n",
    "    string =\"Below this line: \" + f'({frac_x_beats_y:.0%} of simulations)<br>' + \"\"\n",
    "    string +=\"   `\"+label_dict[xvar] + \"` outperformed `\" +label_dict[yvar] + \"` \" + \"<br>\"\n",
    "    string +=\"Above this line: \" + f'({1-frac_x_beats_y:.0%} of simulations)<br>' + \"\" \n",
    "    string +=\"   `\"+label_dict[yvar] + \"` outperformed `\" +label_dict[xvar] + \"`<br>\"    \n",
    "    string += \"<extra></extra>\"   \n",
    "    trace_45 = go.Scatter(x=np.linspace(0,max_sr,100),y=np.linspace(0,max_sr,100),mode='lines', name='45-degree line', hovertemplate=string)\n",
    "    fig = go.Figure()\n",
    "    fig.add_trace(trace)\n",
    "    fig.add_trace(trace_45)\n",
    "    fig.layout.xaxis[\"title\"] = \"SR: \" + label_dict[xvar]\n",
    "    fig.layout.yaxis[\"title\"] = \"SR: \" + label_dict[yvar]\n",
    "    fig.update_yaxes(tickformat=\".2\")\n",
    "    fig.update_xaxes(tickformat=\".2\")\n",
    "    fig.update_layout(legend=dict(yanchor=\"top\", y =0.99, xanchor=\"left\", x=0.01))\n",
    "    fig.update_xaxes(range=[0, 1.05 * max_sr])\n",
    "    fig.update_yaxes(range=[0, 1.05 * max_sr])\n",
    "    fig.show()\n",
    "    \n"
   ]
  },
  {
   "cell_type": "code",
   "execution_count": 46,
   "metadata": {},
   "outputs": [],
   "source": [
    "def histplot(xvar, yvar):\n",
    "    label_dict = {'true': 'theoretical optimal weights', \n",
    "                'ew': 'equal weights',\n",
    "                'est_all': 'estimate all inputs',\n",
    "                'est_cov': 'estimate covariance matrix only',\n",
    "                'est_sds': 'estimate standard deviations only'}\n",
    "\n",
    "    # Plot differences in Sharpe ratios\n",
    "    avg_diff = (sim_results[xvar] - sim_results[yvar]).mean()\n",
    "    frac_x_beats_y = (sim_results[xvar] > sim_results[yvar]).mean()\n",
    "    string = \"This bin contains %{y:0.3}% of simulations <br>\"\n",
    "    string +=\"Average difference in SRs across all simulations: \" + f'{avg_diff:.3f} <br>'\n",
    "    string +=\"'\" + label_dict[xvar] + \"' outperforms '\" + label_dict[yvar] + \"' in \" +  f'{frac_x_beats_y:.0%} of all simulations<br>' + \"\" \n",
    "    string += \"<extra></extra>\"   \n",
    "    trace=go.Histogram(x=(sim_results[xvar] - sim_results[yvar]), hovertemplate = string )\n",
    "\n",
    "    max_sr = sim_results.max().max()\n",
    "\n",
    "    fig = go.Figure()\n",
    "    fig.add_trace(trace)\n",
    "    fig.layout.xaxis[\"title\"] = \"Difference in SRs: '\" + label_dict[xvar] + \"' minus '\" + label_dict[yvar] + \"'\"\n",
    "    fig.layout.yaxis[\"title\"] = \"Percent of Simulations\"\n",
    "    fig.update_yaxes(tickformat=\".2\")\n",
    "    fig.update_layout(legend=dict(yanchor=\"top\", y =0.99, xanchor=\"left\", x=0.01))\n",
    "    fig.update_xaxes(range=[-0.6*max_sr, 0.6*max_sr])\n",
    "    # fig.update_yaxes(range=[0, 1.05 * sim_results.max().max()])\n",
    "    fig.update_traces(marker_line_width=1,marker_line_color=\"black\", histnorm='percent')    \n",
    "    fig.show()\n",
    "                  \n"
   ]
  },
  {
   "cell_type": "code",
   "execution_count": 47,
   "metadata": {},
   "outputs": [
    {
     "data": {
      "application/vnd.plotly.v1+json": {
       "config": {
        "plotlyServerURL": "https://plot.ly"
       },
       "data": [
        {
         "hovertemplate": "Sharpe Ratios:<br>  equal weights: %{x:0.3}<br>  estimate all inputs: %{y:0.3}<br><extra></extra>",
         "mode": "markers",
         "name": "A simulated outcome",
         "type": "scatter",
         "x": [
          0.37974759474189446,
          0.22840573633179442,
          0.38093492439339743,
          0.003554893124784639,
          0.008333340756873465,
          0.27700855018327614,
          -0.012184406634727696,
          0.1998634643255864,
          0.46502405387088613,
          0.42014980894510623,
          0.20275816327333313,
          0.4557814148906067,
          0.2198941643081995,
          0.2290532920498744,
          0.17293185542564038,
          0.29196468037070006,
          0.24468883472343908,
          0.2920527912143128,
          0.6296596982492116,
          0.42177907477997656,
          0.31139269771134453,
          0.03704705430029676,
          0.18886278681949448,
          0.4583300478936236,
          0.41331390059239315,
          0.48280979759022785,
          0.33195419431023,
          0.10471542244404264,
          0.37480325314926427,
          0.10617681536239842,
          0.19912599263381625,
          0.35865809958808564,
          -0.028456817928050774,
          0.1216584820000033,
          0.22956275242201737,
          0.24836131946240492,
          0.01156757034875526,
          0.3945472794463428,
          0.1257534178531494,
          0.3515878228501073,
          0.37379848754412165,
          0.5268490350837538,
          0.10822572476811732,
          0.21857698121092176,
          0.22796047212984066,
          0.4260762172841117,
          0.203323150513889,
          0.012069449369935424,
          0.19022291488887164,
          0.25838159257926757,
          0.2804390455694124,
          0.3826460285773851,
          0.23803914204639842,
          0.29361621462141607,
          0.2618696678025174,
          0.4168508134501532,
          0.1868542388743788,
          0.20242716077375392,
          0.6962599176951734,
          0.33496073011184624,
          0.3590775022757683,
          0.30131190963547577,
          0.3656803849338618,
          0.01210183539502048,
          0.26255795593940473,
          0.30896210590744716,
          0.3083427142105964,
          0.25102400833101407,
          -0.03523147605761941,
          0.2524022582612907,
          0.0933829679802401,
          0.09443148124101257,
          0.5549691771541259,
          0.5043084390254172,
          0.26304940514911807,
          0.10023820602761466,
          0.3969699548435426,
          0.5094467563090922,
          -0.06244429028842631,
          0.22630717342343903,
          0.16631217069931917,
          0.41487232574754784,
          0.4676517268021512,
          0.15810441079270923,
          0.3016696547053115,
          0.20055508773487576,
          0.18874532842661762,
          0.31165955742633744,
          0.3023856050578943,
          0.366009175675542,
          0.3892143125408278,
          0.12114424269209392,
          0.3396922044863315,
          0.16804116361597113,
          0.3098535841822698,
          0.24278256520103686,
          0.3486443924191592,
          0.07668320070053854,
          -0.034005505407146225,
          0.2856327879075195,
          0.3033971054248801,
          0.32974808510836967,
          0.18841462230481537,
          0.6263324940067395,
          0.5016004020909717,
          0.1587513861132464,
          0.3053943532829982,
          0.28980492067483327,
          0.16987878082159005,
          0.1784175415668571,
          0.12878754264608303,
          0.5083912336773742,
          0.029080295478374547,
          0.056668215049345036,
          0.16309102434653938,
          0.1353500018092434,
          0.36348866719672396,
          0.0022966303572867935,
          0.5288904033968834,
          0.3005785899362712,
          -0.022660338464913853,
          0.28976271157473216,
          0.365079140832552,
          0.6599734542011321,
          0.1261540737184698,
          0.1525208290455341,
          0.3148401887613694,
          0.34785186825049136,
          0.5371054013256807,
          0.6871311943368991,
          0.3996284808589143,
          0.2470829877823797,
          0.3421896237858633,
          0.2985236274231441,
          0.42961475024492873,
          0.3396169145397116,
          0.2327401117659819,
          0.2601840768658945,
          0.26429303306900276,
          0.18672369712862608,
          0.13328264548119392,
          0.20682364323835717,
          0.31468092931865427,
          0.11941485140189279,
          0.269081138323256,
          -0.04611181162812946,
          0.2167314716761123,
          0.23792779407650697,
          0.22306223864129907,
          0.13551240868811965,
          0.15555158737298833,
          0.30251209657104977,
          0.5666880886559603,
          0.30408617106354435,
          0.4178449411090653,
          0.19339935639132355,
          0.372648271520036,
          0.32864390671783916,
          0.5255474861806892,
          0.20504022807080052,
          0.18657935940185388,
          0.33965911380952307,
          0.15515816281891112,
          0.2297056631627783,
          -0.01503716931126033,
          0.2982460287626656,
          0.12531299031581697,
          0.2262273885902056,
          0.2040350746123869,
          0.3568755992025234,
          0.20885215303115473,
          0.21834532937621698,
          0.5494751977243162,
          0.37120323283645923,
          0.18563385463917206,
          0.3004202070574361,
          0.3937394344340265,
          0.36016862862965243,
          0.2249944022787946,
          0.24535577485663024,
          0.07279508366794658,
          0.3451296067262054,
          0.23446046237143855,
          0.4017844650941189,
          -0.019279451472913135,
          0.21284478333031326,
          0.2996504807040639,
          0.4159621161184116,
          0.5324381856619658,
          0.27435599287047396,
          0.6542866765638098,
          0.1466354969912438,
          0.06048792915776158,
          -0.0006024669850088317,
          0.20533924066597126,
          -0.01652091442791666,
          0.17965621987371802,
          0.17369355263244501,
          0.22000763381810018,
          0.3524323994553953,
          0.31109079752959856,
          0.501201438114851,
          0.3993272158800782,
          -0.07661185054224957,
          0.018134695883853146,
          0.1940123598759162,
          0.3993725788473463,
          0.1396937051715508,
          0.44663418341625055,
          0.3153113109949689,
          0.5823521553076256,
          0.3488225633547524,
          0.16386616451116257,
          0.4051952173184111,
          0.34922000231474537,
          0.22702803444703987,
          0.31692683585980663,
          0.1893098732138827,
          0.07566558813150037,
          0.36884903834912525,
          0.09126939766323451,
          0.07141703479350424,
          0.09436882171252359,
          0.48938982423110755,
          0.44149005747011205,
          0.33324970527759495,
          0.12132019740104377,
          0.42289826587621004,
          0.22472795489466135,
          0.0578201651869473,
          0.32740213665037865,
          0.30934506614870677,
          0.29432024259351997,
          0.3512571067446999,
          0.45575694363669417,
          0.21663563573264757,
          0.23066722877500226,
          0.19417534468952377,
          0.32065224540143406,
          0.5605957447690332,
          0.30043754682522733,
          0.29916366499804004,
          0.2964512295369362,
          0.3946081692395053,
          0.5002316582262939,
          0.3375103155223004,
          0.15896162253478882,
          -0.0016568748027561467,
          0.4591503421862372,
          0.21992171382577133,
          0.20125429345586215,
          0.06595459171408018,
          0.3997071869954299,
          0.10762812453463558,
          0.24936208029653364,
          0.49388086712095886,
          0.37678146908410476,
          0.334690775494229,
          0.2685496878666994,
          0.3693184206446771,
          -0.11612217503554872,
          -0.023877181404676245,
          0.3207995826163236,
          0.2764499596886046,
          0.22222606603618622,
          0.43354497788261165,
          0.2080659999124596,
          0.2582058199232709,
          0.31647776177080683,
          0.2718619850845411,
          0.04297249699726854,
          0.24834129517718703,
          0.09079295835827098,
          0.47255195660545946,
          0.12088004507773265,
          -0.10362376709352474,
          0.09381947118594869,
          -0.05875699164444538,
          0.10308168766922475,
          0.23689628097688856,
          0.08928220109457453,
          0.14894924312845328,
          0.3934784437474797,
          0.1495592499398394,
          0.4617970854484371,
          0.210719486334013,
          0.3079032812090826,
          0.4149210579538254,
          0.26342109997193036,
          0.3947679246465885,
          0.5888187807651751,
          0.389703733877481,
          0.21434473175790297,
          0.4505516318802244,
          0.19590563733243607,
          0.3493910272112993,
          0.6936032861147555,
          0.18788461934876904,
          0.5053385673213552,
          0.2189499115429891,
          -0.19933449777237083,
          0.5289140031898538,
          -0.04785393000933211,
          0.19308100980731166,
          0.3417983224043848,
          -0.03625073803398024,
          0.44376222356110845,
          0.40899216229503793,
          0.22697103761476542,
          0.07880525139686212,
          0.2044244218143375,
          0.29468309594376296,
          0.45944925832540573,
          0.19406132223038436,
          0.24607684273401303,
          0.36856062658307237,
          0.48107207153370984,
          0.2102844143746766,
          0.4735437798402004,
          0.10664207540855133,
          0.10330545733959999,
          0.3990511835722507,
          0.5070716742937775,
          0.03429675442344442,
          0.3897624260031806,
          0.02771289132938501,
          0.1166055378615132,
          0.21367542088178587,
          0.3807918592682279,
          0.0820076245507667,
          0.22689954972625703,
          -0.0419751739087912,
          0.5184408833471659,
          0.18294203656108962,
          0.24635407975883614,
          0.40494347241941636,
          0.2503479316458344,
          0.2978883958171533,
          0.5393584834683213,
          0.5880651916271237,
          0.38435820049792185,
          0.20251338830970678,
          0.23186579534293073,
          0.21782119285770557,
          0.4282697011860281,
          0.25757552610264584,
          0.3682606953621571,
          0.3461582678825642,
          0.30925150762438364,
          0.3081804617140457,
          0.17585211705890208,
          0.5378792772527308,
          -0.16689932908419491,
          0.4613824700556579,
          0.0025699773767438004,
          0.3149222023057508,
          0.5732957073734084,
          0.3178687188283841,
          0.3103778481988746,
          0.0865082368244983,
          0.4300447124033371,
          0.1426741053814213,
          0.05790480309654571,
          0.1451478169991336,
          0.3861554915010401,
          0.42895235811612475,
          0.47477366913879754,
          0.27093608933302177,
          0.3009058346655129,
          0.39163927097166995,
          0.2187210671804129,
          0.2437726038605573,
          0.23074062295006242,
          0.3059703043303237,
          0.07116323547958768,
          0.22601677970314651,
          0.3442175252171896,
          0.3577096800934507,
          0.07553316371512563,
          0.279871092441001,
          -0.08901548522384396,
          0.13374511776377213,
          0.48565600333461717,
          0.2887786581653672,
          0.2258616371712534,
          0.4752043130570954,
          0.22850544882505983,
          -0.15105694154652535,
          0.08919565018186981,
          0.3634622033585281,
          0.13194996165088152,
          0.21287264321713112,
          0.34426936341514985,
          0.16897451033763275,
          0.37535476984135224,
          0.41917862928846156,
          0.5257625783743147,
          0.2314934074026395,
          0.18513224713396007,
          0.4315034331411318,
          0.11628948431103585,
          0.08243640065126077,
          0.016174845263020276,
          0.40687760775932186,
          0.4066709512351286,
          0.11273728275624022,
          0.18871082618053758,
          0.28847644159094343,
          0.17439222672204016,
          0.002094975178437774,
          0.24367061959671138,
          0.3890498290327383,
          0.3739853322994732,
          0.16799287031622748,
          0.33211990589464285,
          0.6399938648461428,
          0.46048059406955816,
          0.42202541295288815,
          0.4484954923667326,
          0.23159351262619454,
          0.3314118594917633,
          0.18640527608157254,
          -0.03830547214572243,
          0.35293942454502625,
          0.2654654527938278,
          0.1820575831589908,
          0.2010040349539674,
          0.07651746266853574,
          0.5021504704732048,
          0.26178747172954553,
          0.30515339876508824,
          -0.02430711299235627,
          -0.07511241532048166,
          0.14959510202161835,
          0.22084538726740824,
          0.15142677538562177,
          0.47075880087675437,
          0.32535938231378436,
          0.43730962106750426,
          0.148357622779095,
          0.24275989755212007,
          0.2038822401593667,
          0.3952697582262651,
          0.2805946598191592,
          0.4514462992089573,
          0.3630931630235759,
          0.23839865801123283,
          0.29597116824430686,
          0.27358675526893733,
          0.2997915488151178,
          0.4750367554936204,
          0.13672290680272162,
          0.273150978992081,
          0.046331807609095534,
          0.3044605921189759,
          0.0746538827348745,
          0.35719102651247675,
          0.277409763576726,
          0.31246810257474533,
          0.36326450083258693,
          0.38161825707612584,
          0.2794052686438829,
          0.2740910908269545,
          0.5112570216017019,
          -0.1513993559724451,
          0.1522917003310275,
          0.46177328791951183,
          0.13482259964096924,
          0.2633636658858057,
          0.047813492575471725,
          0.24525765362695523,
          0.5592570113842871,
          0.46380780624166423,
          0.12473482979644322,
          -0.12501966387674324,
          0.07247027206773526,
          0.48747550736565476,
          0.40197436007198284,
          0.4171450285581574,
          0.06654996324527623,
          0.22986931244039868,
          0.41656500378350936,
          0.27981796848538454,
          0.30099833990149855,
          0.32490673580487217,
          0.058660877760789785,
          0.33167172758815217,
          0.40608145729003553,
          0.3491016829208351,
          0.4801670008696947,
          0.32844121634804685,
          0.24320027983917883,
          0.5802037318690281,
          0.498346974073915,
          0.3143406529404177,
          0.4843047641532263,
          0.16436801130892434,
          0.4675058796171677,
          0.24244159106064606,
          0.09387013485906204
         ],
         "y": [
          0.21159846341682717,
          0.2875950331196701,
          0.22008379700116176,
          -0.054248252259658396,
          -0.017138484692540902,
          0.27264207042529337,
          -0.12542456972674457,
          0.06878402183843901,
          0.36030645933241373,
          0.47626723922008446,
          0.110476807699918,
          0.2973965207264484,
          0.254652591450219,
          0.17947572929601568,
          0.30996211010838787,
          0.26646851794205867,
          0.07665147109755463,
          0.16601399735842157,
          0.6669439195739172,
          0.359542091551378,
          0.345388939427551,
          -0.02354643164379716,
          0.020073816800717074,
          0.36378824296706835,
          0.30011060750503976,
          0.4250864541263744,
          0.23843176174431202,
          0.002727271913969509,
          0.37534263936532475,
          0.08695065688247858,
          0.21293292005679437,
          0.30431416674961,
          -0.18305202663579287,
          0.1601907113509084,
          0.10071887381596423,
          0.17788998590272603,
          0.005770421501822219,
          0.2653171451828035,
          0.10343154124025125,
          0.28332679622467116,
          0.3566014581977827,
          0.502020694982462,
          0.28910159098156835,
          0.17439812483848177,
          0.16456844737604878,
          0.4324766939595215,
          0.10722297375889644,
          0.040839931234595374,
          0.13369836410740443,
          0.19592951983321036,
          0.18420758173286078,
          0.36071273813362303,
          0.14243417204130462,
          0.1950193106639382,
          0.24135197738348,
          0.373993997444308,
          0.104062103117182,
          0.20291376351073898,
          0.6351642606815461,
          0.24640192807142525,
          0.4507272896045095,
          0.13300211180931237,
          0.20579555807118,
          0.1133251565865514,
          0.13026980437335312,
          0.2874341522179198,
          0.22605659797986669,
          0.06446369914450047,
          -0.09408127003570259,
          0.232773298768318,
          0.14602379608547955,
          0.019223729718737932,
          0.49960784967935956,
          0.4418285461684148,
          0.22866746050640177,
          0.06934449204688783,
          0.33036251797008126,
          0.44147411948758475,
          0.09942436460562686,
          0.12570378670437046,
          0.17887382968390286,
          0.3807226924079614,
          0.4076496051480954,
          0.07885355696058859,
          0.35852203709152763,
          0.14990675882290527,
          0.04514475726352539,
          0.28866127003326414,
          0.26498701712741723,
          0.35756712669362084,
          0.3492160041747747,
          0.07518781787074907,
          0.30001865414421297,
          0.11999830812292213,
          0.24914894274262467,
          0.3509840797167512,
          0.31107294175426414,
          0.001576336701416326,
          -0.11973654470671348,
          0.24491794754245852,
          0.2382456538300515,
          0.2589853016933215,
          0.15304661962574595,
          0.5724627917947072,
          0.5022900419655427,
          0.10495941947870085,
          0.46383267646023457,
          0.23005050801219878,
          0.14660875777877694,
          0.05018128851352559,
          0.011635808823526397,
          0.4662470136797348,
          0.004601855097462099,
          0.10139343112179999,
          0.09573482514913413,
          0.15487765625920774,
          0.3647004964581753,
          0.07224807100164188,
          0.5391997978906151,
          0.16847635741837017,
          -0.12224240788426244,
          0.2637868736235017,
          0.3066536919458886,
          0.6042751586239323,
          -0.11411989338389063,
          0.17358657353998433,
          0.25474120401853134,
          0.36052621667413015,
          0.5030318423686491,
          0.7211134151307521,
          0.3149148936112141,
          0.19409441519396908,
          0.24247035364651626,
          0.4394768236538884,
          0.20013429320825626,
          0.16371049603442608,
          0.15115730540257277,
          0.25662058477747496,
          0.1713230434563153,
          -0.013539851612741644,
          0.028451452232097562,
          0.11869253717006782,
          0.24689101167780356,
          -0.019621096324340146,
          0.15238749445183533,
          0.005915974699584189,
          0.18283875693463636,
          0.1905462673269712,
          0.14264834038109694,
          0.025674124974030384,
          0.05151644371564571,
          0.18873158368307966,
          0.5188382681625959,
          0.2775196406848624,
          0.4048773817173979,
          0.016067185163542944,
          0.3546483239172246,
          0.1909092588034227,
          0.4655368090706617,
          0.13637759984395242,
          0.12693531130729924,
          0.23674057851278774,
          0.08056680214297698,
          0.23159322910508862,
          -0.027853833963296323,
          0.19761770590148597,
          0.15317070460796325,
          0.07684225994502031,
          0.20937335711821695,
          0.3764463437538472,
          0.1290105868254687,
          0.14219098780116524,
          0.5310147248001792,
          0.300474087244334,
          0.1695432694527214,
          0.08998637399316119,
          0.3209182296326265,
          0.37858086011196473,
          0.20316660813249915,
          0.1506325858190702,
          -0.029527815144379767,
          0.3335262106530017,
          0.2689850548536828,
          0.3548754908090802,
          -0.11552455259818653,
          0.20274653004276494,
          0.29441153397780384,
          0.38876982909514657,
          0.40657802872042065,
          0.11070434363361602,
          0.6090461443340047,
          0.09076780887646654,
          0.10762971807599121,
          -0.07352688430804885,
          0.22860483485456345,
          -0.03979638820995263,
          0.05265166339162042,
          0.12118107704813028,
          0.1929303108552464,
          0.24256589447413754,
          0.274617767744765,
          0.5379375051553589,
          0.4624697542399044,
          -0.1397129347172918,
          0.2478585052769567,
          0.40123727248353014,
          0.356964962225251,
          0.05445565152670263,
          0.35598034241852766,
          0.1646910303192785,
          0.4629785520696495,
          0.26748684609078477,
          0.16177256638335705,
          0.33323654810158754,
          0.3666240990944398,
          0.18390327703826148,
          0.3915834483083747,
          0.14772840184801783,
          0.052279753812597106,
          0.21904443140851093,
          0.06562142862047046,
          0.15163049241574028,
          0.028307379758865967,
          0.47840624516743907,
          0.2763638539559291,
          0.22688594422893663,
          -0.023582997103579504,
          0.3495804927262448,
          0.16210930938838747,
          -0.005231887709671901,
          0.3010196271874213,
          0.2736286777517502,
          0.23044095551365648,
          0.2346431480458944,
          0.33735561939734116,
          0.20314553844808822,
          0.24680158799264595,
          0.19564782140548573,
          0.1130113550978695,
          0.4768956723737973,
          0.32118926602354164,
          0.20399984617637856,
          0.15397406979188596,
          0.3352058658912881,
          0.4941479629846618,
          0.33756399462411874,
          0.11824428988924336,
          -0.03179204541512561,
          0.36461668949703757,
          0.24599171189392577,
          0.1123143608735819,
          0.04129833532657934,
          0.45379745628418144,
          0.08756072591734577,
          0.23216007988554316,
          0.48818079719815266,
          0.37137444785728446,
          0.20184126493094157,
          0.2122557916615934,
          0.39552724948173,
          -0.18598931805279834,
          -0.03044636425275982,
          0.1564614659740248,
          0.19769627359002248,
          0.16405679634092024,
          0.5166818794714605,
          0.1357797512007258,
          0.2680514076204609,
          0.15750685380492918,
          0.17909793561066717,
          0.06797444486508308,
          0.1560873296346979,
          0.2952228531356106,
          0.27368420587757836,
          0.04755557633585302,
          -0.2867151158563562,
          -0.06229945822538904,
          -0.013837401528774124,
          0.06708586851531635,
          0.23521895054784414,
          -0.019671202695932585,
          0.13104701730440152,
          0.27717685821406823,
          0.04382676880384817,
          0.3566072649172761,
          0.1748514404388094,
          0.27063613903674827,
          0.37106411291728564,
          0.2432018348415585,
          0.3053972700695343,
          0.39098970600036437,
          0.22814840346294316,
          0.1483204473706497,
          0.3895533479346811,
          0.13845906016923906,
          0.26308134143482403,
          0.5829546783901981,
          0.08164518074253274,
          0.4070175328598988,
          0.1407957330261639,
          -0.09460889149774276,
          0.46469703620070923,
          0.2191301526956356,
          0.27587270499843514,
          0.397657790086277,
          0.00958649884329675,
          0.33654260519976004,
          0.40974710550815524,
          0.16637578513485163,
          0.1675933922410926,
          0.14660571808688838,
          0.2228469993495644,
          0.2937387921075252,
          0.14934499020206446,
          0.17909720233177254,
          0.37793311339557717,
          0.4028410941861689,
          0.20494258228388873,
          0.4305776961560828,
          0.08139077525208649,
          0.06248417747920184,
          0.35116037444798914,
          0.45068105271629005,
          -0.08227348220941684,
          0.4515350293870084,
          0.16832117742371666,
          0.018376571840110274,
          0.1320550974063267,
          0.29066777634415747,
          0.14066257207421023,
          0.24581410013095203,
          -0.07710985959903052,
          0.439102891724313,
          0.06872994870907555,
          0.2399801030280117,
          0.349823255465509,
          0.16240262687920842,
          0.15736146005021587,
          0.5104418702435293,
          0.5341760880671506,
          0.31938392334263577,
          0.28520310994801484,
          0.2866178270889133,
          0.2785106755497779,
          0.324098472091486,
          0.22738633151492643,
          0.2581358241530132,
          0.2544689114593539,
          0.19881480186362688,
          0.2762215399834067,
          0.09142037167222784,
          0.5079865432300612,
          -0.2440300285397937,
          0.3348494127732834,
          -0.03739906331067753,
          0.14159897219337528,
          0.33321668338141236,
          0.2260771971354887,
          0.2423344599868783,
          0.4162478738282985,
          0.3506113960133008,
          0.16702220178750107,
          0.05695765345209512,
          -0.011120869051353082,
          0.3688737236912864,
          0.4489901917618081,
          0.4637811889399063,
          0.25889100864108266,
          0.238661526302264,
          0.49563675753597747,
          0.15756518698172628,
          0.20396060999639928,
          0.17295044837856838,
          0.18949390320747614,
          0.11038949902551447,
          0.08374734162060314,
          0.3979664461963614,
          0.36179153740676695,
          -0.007409699378314294,
          0.2627487242400229,
          -0.07377179062646387,
          0.008164551866281762,
          0.4457536826897389,
          0.27842831207138785,
          0.190382679315149,
          0.4833864066453732,
          0.30593906613597815,
          0.13170474543748115,
          -0.1463964832918927,
          0.2533502252928082,
          0.08985244262726098,
          0.286168123965554,
          0.33481712574068195,
          0.11677888194004173,
          0.27537099626842126,
          0.44776523800423285,
          0.4829541080574993,
          0.3293649114674957,
          0.17335022614418547,
          0.3557448087020398,
          0.19433480016236174,
          0.0514823080286482,
          -0.10669094006730384,
          0.39498872371242577,
          0.44417369954008595,
          0.02751498455602428,
          0.19140842917110146,
          0.14100578322669605,
          0.11447803802882564,
          0.011860075397560245,
          0.18118103675999564,
          0.2760244370108204,
          0.3346716571104214,
          0.12428449483802505,
          0.25858005695207603,
          0.47960622476653947,
          0.28382018102124834,
          0.33025194699032656,
          0.3519557900108624,
          0.062144375640683286,
          0.33079280783540976,
          0.10647760448220157,
          -0.061779402432749375,
          0.33039551692644376,
          0.3125752300797599,
          0.20745812027438212,
          0.28326424624897656,
          0.030721973979686856,
          0.46770142394458064,
          0.1786904978679395,
          0.2062906386252067,
          -0.06982079377937515,
          -0.11163237598010925,
          0.17652829263010966,
          0.15529880089634304,
          0.13930031311866903,
          0.33443904972006994,
          0.42972081402762446,
          0.34067685277464255,
          0.07597425725200212,
          0.17075462844317954,
          0.11355037451056757,
          0.37493400850451936,
          0.12272935672335444,
          0.4421787333511645,
          0.2255927794748726,
          0.16987832466225225,
          0.25606395858309017,
          0.1750021840996174,
          0.24691495070504976,
          0.3875425632520606,
          0.045115084803999214,
          0.22611410003109617,
          -0.01699791459658515,
          0.1798741717760022,
          -0.0015151932822210661,
          0.23064441303931568,
          0.18145759352643673,
          0.32617742314107556,
          0.18030836688890517,
          0.34942782535364636,
          0.1935226462703473,
          0.34912201729491465,
          0.39229567334617227,
          -0.17724724165296862,
          0.12336993159715462,
          0.35457701571813566,
          0.06622694975071425,
          0.1501031469893574,
          0.03942159797466263,
          0.3554506493860159,
          0.5130725240277229,
          0.34746639199680746,
          0.13436161406162778,
          -0.14619821125460705,
          0.05120276903037833,
          0.4627788923172982,
          0.33406221630053184,
          0.11693756057393229,
          0.14417116438877162,
          0.20837747883334812,
          0.3081980723056625,
          0.21650369001802527,
          0.23515618081008358,
          0.4036875383847735,
          0.051937473104523985,
          0.27998508262828214,
          0.3553519485736013,
          0.34710675540392455,
          0.5120576226269816,
          0.24163101837691323,
          0.2868876396909787,
          0.5113596462702629,
          0.3757044225989021,
          0.3094869443534696,
          0.41979604983220103,
          0.05187327552902282,
          0.3189204698506548,
          0.16122967719359874,
          0.04746328302623185
         ]
        },
        {
         "hovertemplate": "Below this line: (79% of simulations)<br>   `equal weights` outperformed `estimate all inputs` <br>Above this line: (21% of simulations)<br>   `estimate all inputs` outperformed `equal weights`<br><extra></extra>",
         "mode": "lines",
         "name": "45-degree line",
         "type": "scatter",
         "x": [
          0,
          0.007817941154456087,
          0.015635882308912174,
          0.02345382346336826,
          0.03127176461782435,
          0.039089705772280436,
          0.04690764692673652,
          0.05472558808119261,
          0.0625435292356487,
          0.07036147039010478,
          0.07817941154456087,
          0.08599735269901695,
          0.09381529385347304,
          0.10163323500792913,
          0.10945117616238521,
          0.11726911731684131,
          0.1250870584712974,
          0.13290499962575347,
          0.14072294078020955,
          0.14854088193466566,
          0.15635882308912175,
          0.16417676424357783,
          0.1719947053980339,
          0.17981264655249,
          0.18763058770694607,
          0.19544852886140218,
          0.20326647001585826,
          0.21108441117031435,
          0.21890235232477043,
          0.2267202934792265,
          0.23453823463368262,
          0.2423561757881387,
          0.2501741169425948,
          0.2579920580970509,
          0.26580999925150695,
          0.27362794040596305,
          0.2814458815604191,
          0.2892638227148752,
          0.29708176386933133,
          0.3048997050237874,
          0.3127176461782435,
          0.32053558733269955,
          0.32835352848715565,
          0.33617146964161176,
          0.3439894107960678,
          0.3518073519505239,
          0.35962529310498,
          0.3674432342594361,
          0.37526117541389215,
          0.38307911656834825,
          0.39089705772280436,
          0.3987149988772604,
          0.4065329400317165,
          0.4143508811861726,
          0.4221688223406287,
          0.4299867634950848,
          0.43780470464954085,
          0.44562264580399696,
          0.453440586958453,
          0.4612585281129091,
          0.46907646926736524,
          0.4768944104218213,
          0.4847123515762774,
          0.49253029273073345,
          0.5003482338851896,
          0.5081661750396457,
          0.5159841161941018,
          0.5238020573485578,
          0.5316199985030139,
          0.53943793965747,
          0.5472558808119261,
          0.5550738219663822,
          0.5628917631208382,
          0.5707097042752943,
          0.5785276454297504,
          0.5863455865842065,
          0.5941635277386627,
          0.6019814688931187,
          0.6097994100475748,
          0.6176173512020309,
          0.625435292356487,
          0.6332532335109431,
          0.6410711746653991,
          0.6488891158198552,
          0.6567070569743113,
          0.6645249981287674,
          0.6723429392832235,
          0.6801608804376795,
          0.6879788215921356,
          0.6957967627465917,
          0.7036147039010479,
          0.711432645055504,
          0.71925058620996,
          0.7270685273644161,
          0.7348864685188722,
          0.7427044096733283,
          0.7505223508277843,
          0.7583402919822404,
          0.7661582331366965,
          0.7739761742911526
         ],
         "y": [
          0,
          0.007817941154456087,
          0.015635882308912174,
          0.02345382346336826,
          0.03127176461782435,
          0.039089705772280436,
          0.04690764692673652,
          0.05472558808119261,
          0.0625435292356487,
          0.07036147039010478,
          0.07817941154456087,
          0.08599735269901695,
          0.09381529385347304,
          0.10163323500792913,
          0.10945117616238521,
          0.11726911731684131,
          0.1250870584712974,
          0.13290499962575347,
          0.14072294078020955,
          0.14854088193466566,
          0.15635882308912175,
          0.16417676424357783,
          0.1719947053980339,
          0.17981264655249,
          0.18763058770694607,
          0.19544852886140218,
          0.20326647001585826,
          0.21108441117031435,
          0.21890235232477043,
          0.2267202934792265,
          0.23453823463368262,
          0.2423561757881387,
          0.2501741169425948,
          0.2579920580970509,
          0.26580999925150695,
          0.27362794040596305,
          0.2814458815604191,
          0.2892638227148752,
          0.29708176386933133,
          0.3048997050237874,
          0.3127176461782435,
          0.32053558733269955,
          0.32835352848715565,
          0.33617146964161176,
          0.3439894107960678,
          0.3518073519505239,
          0.35962529310498,
          0.3674432342594361,
          0.37526117541389215,
          0.38307911656834825,
          0.39089705772280436,
          0.3987149988772604,
          0.4065329400317165,
          0.4143508811861726,
          0.4221688223406287,
          0.4299867634950848,
          0.43780470464954085,
          0.44562264580399696,
          0.453440586958453,
          0.4612585281129091,
          0.46907646926736524,
          0.4768944104218213,
          0.4847123515762774,
          0.49253029273073345,
          0.5003482338851896,
          0.5081661750396457,
          0.5159841161941018,
          0.5238020573485578,
          0.5316199985030139,
          0.53943793965747,
          0.5472558808119261,
          0.5550738219663822,
          0.5628917631208382,
          0.5707097042752943,
          0.5785276454297504,
          0.5863455865842065,
          0.5941635277386627,
          0.6019814688931187,
          0.6097994100475748,
          0.6176173512020309,
          0.625435292356487,
          0.6332532335109431,
          0.6410711746653991,
          0.6488891158198552,
          0.6567070569743113,
          0.6645249981287674,
          0.6723429392832235,
          0.6801608804376795,
          0.6879788215921356,
          0.6957967627465917,
          0.7036147039010479,
          0.711432645055504,
          0.71925058620996,
          0.7270685273644161,
          0.7348864685188722,
          0.7427044096733283,
          0.7505223508277843,
          0.7583402919822404,
          0.7661582331366965,
          0.7739761742911526
         ]
        }
       ],
       "layout": {
        "legend": {
         "x": 0.01,
         "xanchor": "left",
         "y": 0.99,
         "yanchor": "top"
        },
        "template": {
         "data": {
          "bar": [
           {
            "error_x": {
             "color": "#2a3f5f"
            },
            "error_y": {
             "color": "#2a3f5f"
            },
            "marker": {
             "line": {
              "color": "#E5ECF6",
              "width": 0.5
             },
             "pattern": {
              "fillmode": "overlay",
              "size": 10,
              "solidity": 0.2
             }
            },
            "type": "bar"
           }
          ],
          "barpolar": [
           {
            "marker": {
             "line": {
              "color": "#E5ECF6",
              "width": 0.5
             },
             "pattern": {
              "fillmode": "overlay",
              "size": 10,
              "solidity": 0.2
             }
            },
            "type": "barpolar"
           }
          ],
          "carpet": [
           {
            "aaxis": {
             "endlinecolor": "#2a3f5f",
             "gridcolor": "white",
             "linecolor": "white",
             "minorgridcolor": "white",
             "startlinecolor": "#2a3f5f"
            },
            "baxis": {
             "endlinecolor": "#2a3f5f",
             "gridcolor": "white",
             "linecolor": "white",
             "minorgridcolor": "white",
             "startlinecolor": "#2a3f5f"
            },
            "type": "carpet"
           }
          ],
          "choropleth": [
           {
            "colorbar": {
             "outlinewidth": 0,
             "ticks": ""
            },
            "type": "choropleth"
           }
          ],
          "contour": [
           {
            "colorbar": {
             "outlinewidth": 0,
             "ticks": ""
            },
            "colorscale": [
             [
              0,
              "#0d0887"
             ],
             [
              0.1111111111111111,
              "#46039f"
             ],
             [
              0.2222222222222222,
              "#7201a8"
             ],
             [
              0.3333333333333333,
              "#9c179e"
             ],
             [
              0.4444444444444444,
              "#bd3786"
             ],
             [
              0.5555555555555556,
              "#d8576b"
             ],
             [
              0.6666666666666666,
              "#ed7953"
             ],
             [
              0.7777777777777778,
              "#fb9f3a"
             ],
             [
              0.8888888888888888,
              "#fdca26"
             ],
             [
              1,
              "#f0f921"
             ]
            ],
            "type": "contour"
           }
          ],
          "contourcarpet": [
           {
            "colorbar": {
             "outlinewidth": 0,
             "ticks": ""
            },
            "type": "contourcarpet"
           }
          ],
          "heatmap": [
           {
            "colorbar": {
             "outlinewidth": 0,
             "ticks": ""
            },
            "colorscale": [
             [
              0,
              "#0d0887"
             ],
             [
              0.1111111111111111,
              "#46039f"
             ],
             [
              0.2222222222222222,
              "#7201a8"
             ],
             [
              0.3333333333333333,
              "#9c179e"
             ],
             [
              0.4444444444444444,
              "#bd3786"
             ],
             [
              0.5555555555555556,
              "#d8576b"
             ],
             [
              0.6666666666666666,
              "#ed7953"
             ],
             [
              0.7777777777777778,
              "#fb9f3a"
             ],
             [
              0.8888888888888888,
              "#fdca26"
             ],
             [
              1,
              "#f0f921"
             ]
            ],
            "type": "heatmap"
           }
          ],
          "heatmapgl": [
           {
            "colorbar": {
             "outlinewidth": 0,
             "ticks": ""
            },
            "colorscale": [
             [
              0,
              "#0d0887"
             ],
             [
              0.1111111111111111,
              "#46039f"
             ],
             [
              0.2222222222222222,
              "#7201a8"
             ],
             [
              0.3333333333333333,
              "#9c179e"
             ],
             [
              0.4444444444444444,
              "#bd3786"
             ],
             [
              0.5555555555555556,
              "#d8576b"
             ],
             [
              0.6666666666666666,
              "#ed7953"
             ],
             [
              0.7777777777777778,
              "#fb9f3a"
             ],
             [
              0.8888888888888888,
              "#fdca26"
             ],
             [
              1,
              "#f0f921"
             ]
            ],
            "type": "heatmapgl"
           }
          ],
          "histogram": [
           {
            "marker": {
             "pattern": {
              "fillmode": "overlay",
              "size": 10,
              "solidity": 0.2
             }
            },
            "type": "histogram"
           }
          ],
          "histogram2d": [
           {
            "colorbar": {
             "outlinewidth": 0,
             "ticks": ""
            },
            "colorscale": [
             [
              0,
              "#0d0887"
             ],
             [
              0.1111111111111111,
              "#46039f"
             ],
             [
              0.2222222222222222,
              "#7201a8"
             ],
             [
              0.3333333333333333,
              "#9c179e"
             ],
             [
              0.4444444444444444,
              "#bd3786"
             ],
             [
              0.5555555555555556,
              "#d8576b"
             ],
             [
              0.6666666666666666,
              "#ed7953"
             ],
             [
              0.7777777777777778,
              "#fb9f3a"
             ],
             [
              0.8888888888888888,
              "#fdca26"
             ],
             [
              1,
              "#f0f921"
             ]
            ],
            "type": "histogram2d"
           }
          ],
          "histogram2dcontour": [
           {
            "colorbar": {
             "outlinewidth": 0,
             "ticks": ""
            },
            "colorscale": [
             [
              0,
              "#0d0887"
             ],
             [
              0.1111111111111111,
              "#46039f"
             ],
             [
              0.2222222222222222,
              "#7201a8"
             ],
             [
              0.3333333333333333,
              "#9c179e"
             ],
             [
              0.4444444444444444,
              "#bd3786"
             ],
             [
              0.5555555555555556,
              "#d8576b"
             ],
             [
              0.6666666666666666,
              "#ed7953"
             ],
             [
              0.7777777777777778,
              "#fb9f3a"
             ],
             [
              0.8888888888888888,
              "#fdca26"
             ],
             [
              1,
              "#f0f921"
             ]
            ],
            "type": "histogram2dcontour"
           }
          ],
          "mesh3d": [
           {
            "colorbar": {
             "outlinewidth": 0,
             "ticks": ""
            },
            "type": "mesh3d"
           }
          ],
          "parcoords": [
           {
            "line": {
             "colorbar": {
              "outlinewidth": 0,
              "ticks": ""
             }
            },
            "type": "parcoords"
           }
          ],
          "pie": [
           {
            "automargin": true,
            "type": "pie"
           }
          ],
          "scatter": [
           {
            "fillpattern": {
             "fillmode": "overlay",
             "size": 10,
             "solidity": 0.2
            },
            "type": "scatter"
           }
          ],
          "scatter3d": [
           {
            "line": {
             "colorbar": {
              "outlinewidth": 0,
              "ticks": ""
             }
            },
            "marker": {
             "colorbar": {
              "outlinewidth": 0,
              "ticks": ""
             }
            },
            "type": "scatter3d"
           }
          ],
          "scattercarpet": [
           {
            "marker": {
             "colorbar": {
              "outlinewidth": 0,
              "ticks": ""
             }
            },
            "type": "scattercarpet"
           }
          ],
          "scattergeo": [
           {
            "marker": {
             "colorbar": {
              "outlinewidth": 0,
              "ticks": ""
             }
            },
            "type": "scattergeo"
           }
          ],
          "scattergl": [
           {
            "marker": {
             "colorbar": {
              "outlinewidth": 0,
              "ticks": ""
             }
            },
            "type": "scattergl"
           }
          ],
          "scattermapbox": [
           {
            "marker": {
             "colorbar": {
              "outlinewidth": 0,
              "ticks": ""
             }
            },
            "type": "scattermapbox"
           }
          ],
          "scatterpolar": [
           {
            "marker": {
             "colorbar": {
              "outlinewidth": 0,
              "ticks": ""
             }
            },
            "type": "scatterpolar"
           }
          ],
          "scatterpolargl": [
           {
            "marker": {
             "colorbar": {
              "outlinewidth": 0,
              "ticks": ""
             }
            },
            "type": "scatterpolargl"
           }
          ],
          "scatterternary": [
           {
            "marker": {
             "colorbar": {
              "outlinewidth": 0,
              "ticks": ""
             }
            },
            "type": "scatterternary"
           }
          ],
          "surface": [
           {
            "colorbar": {
             "outlinewidth": 0,
             "ticks": ""
            },
            "colorscale": [
             [
              0,
              "#0d0887"
             ],
             [
              0.1111111111111111,
              "#46039f"
             ],
             [
              0.2222222222222222,
              "#7201a8"
             ],
             [
              0.3333333333333333,
              "#9c179e"
             ],
             [
              0.4444444444444444,
              "#bd3786"
             ],
             [
              0.5555555555555556,
              "#d8576b"
             ],
             [
              0.6666666666666666,
              "#ed7953"
             ],
             [
              0.7777777777777778,
              "#fb9f3a"
             ],
             [
              0.8888888888888888,
              "#fdca26"
             ],
             [
              1,
              "#f0f921"
             ]
            ],
            "type": "surface"
           }
          ],
          "table": [
           {
            "cells": {
             "fill": {
              "color": "#EBF0F8"
             },
             "line": {
              "color": "white"
             }
            },
            "header": {
             "fill": {
              "color": "#C8D4E3"
             },
             "line": {
              "color": "white"
             }
            },
            "type": "table"
           }
          ]
         },
         "layout": {
          "annotationdefaults": {
           "arrowcolor": "#2a3f5f",
           "arrowhead": 0,
           "arrowwidth": 1
          },
          "autotypenumbers": "strict",
          "coloraxis": {
           "colorbar": {
            "outlinewidth": 0,
            "ticks": ""
           }
          },
          "colorscale": {
           "diverging": [
            [
             0,
             "#8e0152"
            ],
            [
             0.1,
             "#c51b7d"
            ],
            [
             0.2,
             "#de77ae"
            ],
            [
             0.3,
             "#f1b6da"
            ],
            [
             0.4,
             "#fde0ef"
            ],
            [
             0.5,
             "#f7f7f7"
            ],
            [
             0.6,
             "#e6f5d0"
            ],
            [
             0.7,
             "#b8e186"
            ],
            [
             0.8,
             "#7fbc41"
            ],
            [
             0.9,
             "#4d9221"
            ],
            [
             1,
             "#276419"
            ]
           ],
           "sequential": [
            [
             0,
             "#0d0887"
            ],
            [
             0.1111111111111111,
             "#46039f"
            ],
            [
             0.2222222222222222,
             "#7201a8"
            ],
            [
             0.3333333333333333,
             "#9c179e"
            ],
            [
             0.4444444444444444,
             "#bd3786"
            ],
            [
             0.5555555555555556,
             "#d8576b"
            ],
            [
             0.6666666666666666,
             "#ed7953"
            ],
            [
             0.7777777777777778,
             "#fb9f3a"
            ],
            [
             0.8888888888888888,
             "#fdca26"
            ],
            [
             1,
             "#f0f921"
            ]
           ],
           "sequentialminus": [
            [
             0,
             "#0d0887"
            ],
            [
             0.1111111111111111,
             "#46039f"
            ],
            [
             0.2222222222222222,
             "#7201a8"
            ],
            [
             0.3333333333333333,
             "#9c179e"
            ],
            [
             0.4444444444444444,
             "#bd3786"
            ],
            [
             0.5555555555555556,
             "#d8576b"
            ],
            [
             0.6666666666666666,
             "#ed7953"
            ],
            [
             0.7777777777777778,
             "#fb9f3a"
            ],
            [
             0.8888888888888888,
             "#fdca26"
            ],
            [
             1,
             "#f0f921"
            ]
           ]
          },
          "colorway": [
           "#636efa",
           "#EF553B",
           "#00cc96",
           "#ab63fa",
           "#FFA15A",
           "#19d3f3",
           "#FF6692",
           "#B6E880",
           "#FF97FF",
           "#FECB52"
          ],
          "font": {
           "color": "#2a3f5f"
          },
          "geo": {
           "bgcolor": "white",
           "lakecolor": "white",
           "landcolor": "#E5ECF6",
           "showlakes": true,
           "showland": true,
           "subunitcolor": "white"
          },
          "hoverlabel": {
           "align": "left"
          },
          "hovermode": "closest",
          "mapbox": {
           "style": "light"
          },
          "paper_bgcolor": "white",
          "plot_bgcolor": "#E5ECF6",
          "polar": {
           "angularaxis": {
            "gridcolor": "white",
            "linecolor": "white",
            "ticks": ""
           },
           "bgcolor": "#E5ECF6",
           "radialaxis": {
            "gridcolor": "white",
            "linecolor": "white",
            "ticks": ""
           }
          },
          "scene": {
           "xaxis": {
            "backgroundcolor": "#E5ECF6",
            "gridcolor": "white",
            "gridwidth": 2,
            "linecolor": "white",
            "showbackground": true,
            "ticks": "",
            "zerolinecolor": "white"
           },
           "yaxis": {
            "backgroundcolor": "#E5ECF6",
            "gridcolor": "white",
            "gridwidth": 2,
            "linecolor": "white",
            "showbackground": true,
            "ticks": "",
            "zerolinecolor": "white"
           },
           "zaxis": {
            "backgroundcolor": "#E5ECF6",
            "gridcolor": "white",
            "gridwidth": 2,
            "linecolor": "white",
            "showbackground": true,
            "ticks": "",
            "zerolinecolor": "white"
           }
          },
          "shapedefaults": {
           "line": {
            "color": "#2a3f5f"
           }
          },
          "ternary": {
           "aaxis": {
            "gridcolor": "white",
            "linecolor": "white",
            "ticks": ""
           },
           "baxis": {
            "gridcolor": "white",
            "linecolor": "white",
            "ticks": ""
           },
           "bgcolor": "#E5ECF6",
           "caxis": {
            "gridcolor": "white",
            "linecolor": "white",
            "ticks": ""
           }
          },
          "title": {
           "x": 0.05
          },
          "xaxis": {
           "automargin": true,
           "gridcolor": "white",
           "linecolor": "white",
           "ticks": "",
           "title": {
            "standoff": 15
           },
           "zerolinecolor": "white",
           "zerolinewidth": 2
          },
          "yaxis": {
           "automargin": true,
           "gridcolor": "white",
           "linecolor": "white",
           "ticks": "",
           "title": {
            "standoff": 15
           },
           "zerolinecolor": "white",
           "zerolinewidth": 2
          }
         }
        },
        "xaxis": {
         "range": [
          0,
          0.8126749830057103
         ],
         "tickformat": ".2",
         "title": {
          "text": "SR: equal weights"
         }
        },
        "yaxis": {
         "range": [
          0,
          0.8126749830057103
         ],
         "tickformat": ".2",
         "title": {
          "text": "SR: estimate all inputs"
         }
        }
       }
      }
     },
     "metadata": {},
     "output_type": "display_data"
    },
    {
     "data": {
      "application/vnd.plotly.v1+json": {
       "config": {
        "plotlyServerURL": "https://plot.ly"
       },
       "data": [
        {
         "hovertemplate": "Sharpe Ratios:<br>  equal weights: %{x:0.3}<br>  estimate covariance matrix only: %{y:0.3}<br><extra></extra>",
         "mode": "markers",
         "name": "A simulated outcome",
         "type": "scatter",
         "x": [
          0.37974759474189446,
          0.22840573633179442,
          0.38093492439339743,
          0.003554893124784639,
          0.008333340756873465,
          0.27700855018327614,
          -0.012184406634727696,
          0.1998634643255864,
          0.46502405387088613,
          0.42014980894510623,
          0.20275816327333313,
          0.4557814148906067,
          0.2198941643081995,
          0.2290532920498744,
          0.17293185542564038,
          0.29196468037070006,
          0.24468883472343908,
          0.2920527912143128,
          0.6296596982492116,
          0.42177907477997656,
          0.31139269771134453,
          0.03704705430029676,
          0.18886278681949448,
          0.4583300478936236,
          0.41331390059239315,
          0.48280979759022785,
          0.33195419431023,
          0.10471542244404264,
          0.37480325314926427,
          0.10617681536239842,
          0.19912599263381625,
          0.35865809958808564,
          -0.028456817928050774,
          0.1216584820000033,
          0.22956275242201737,
          0.24836131946240492,
          0.01156757034875526,
          0.3945472794463428,
          0.1257534178531494,
          0.3515878228501073,
          0.37379848754412165,
          0.5268490350837538,
          0.10822572476811732,
          0.21857698121092176,
          0.22796047212984066,
          0.4260762172841117,
          0.203323150513889,
          0.012069449369935424,
          0.19022291488887164,
          0.25838159257926757,
          0.2804390455694124,
          0.3826460285773851,
          0.23803914204639842,
          0.29361621462141607,
          0.2618696678025174,
          0.4168508134501532,
          0.1868542388743788,
          0.20242716077375392,
          0.6962599176951734,
          0.33496073011184624,
          0.3590775022757683,
          0.30131190963547577,
          0.3656803849338618,
          0.01210183539502048,
          0.26255795593940473,
          0.30896210590744716,
          0.3083427142105964,
          0.25102400833101407,
          -0.03523147605761941,
          0.2524022582612907,
          0.0933829679802401,
          0.09443148124101257,
          0.5549691771541259,
          0.5043084390254172,
          0.26304940514911807,
          0.10023820602761466,
          0.3969699548435426,
          0.5094467563090922,
          -0.06244429028842631,
          0.22630717342343903,
          0.16631217069931917,
          0.41487232574754784,
          0.4676517268021512,
          0.15810441079270923,
          0.3016696547053115,
          0.20055508773487576,
          0.18874532842661762,
          0.31165955742633744,
          0.3023856050578943,
          0.366009175675542,
          0.3892143125408278,
          0.12114424269209392,
          0.3396922044863315,
          0.16804116361597113,
          0.3098535841822698,
          0.24278256520103686,
          0.3486443924191592,
          0.07668320070053854,
          -0.034005505407146225,
          0.2856327879075195,
          0.3033971054248801,
          0.32974808510836967,
          0.18841462230481537,
          0.6263324940067395,
          0.5016004020909717,
          0.1587513861132464,
          0.3053943532829982,
          0.28980492067483327,
          0.16987878082159005,
          0.1784175415668571,
          0.12878754264608303,
          0.5083912336773742,
          0.029080295478374547,
          0.056668215049345036,
          0.16309102434653938,
          0.1353500018092434,
          0.36348866719672396,
          0.0022966303572867935,
          0.5288904033968834,
          0.3005785899362712,
          -0.022660338464913853,
          0.28976271157473216,
          0.365079140832552,
          0.6599734542011321,
          0.1261540737184698,
          0.1525208290455341,
          0.3148401887613694,
          0.34785186825049136,
          0.5371054013256807,
          0.6871311943368991,
          0.3996284808589143,
          0.2470829877823797,
          0.3421896237858633,
          0.2985236274231441,
          0.42961475024492873,
          0.3396169145397116,
          0.2327401117659819,
          0.2601840768658945,
          0.26429303306900276,
          0.18672369712862608,
          0.13328264548119392,
          0.20682364323835717,
          0.31468092931865427,
          0.11941485140189279,
          0.269081138323256,
          -0.04611181162812946,
          0.2167314716761123,
          0.23792779407650697,
          0.22306223864129907,
          0.13551240868811965,
          0.15555158737298833,
          0.30251209657104977,
          0.5666880886559603,
          0.30408617106354435,
          0.4178449411090653,
          0.19339935639132355,
          0.372648271520036,
          0.32864390671783916,
          0.5255474861806892,
          0.20504022807080052,
          0.18657935940185388,
          0.33965911380952307,
          0.15515816281891112,
          0.2297056631627783,
          -0.01503716931126033,
          0.2982460287626656,
          0.12531299031581697,
          0.2262273885902056,
          0.2040350746123869,
          0.3568755992025234,
          0.20885215303115473,
          0.21834532937621698,
          0.5494751977243162,
          0.37120323283645923,
          0.18563385463917206,
          0.3004202070574361,
          0.3937394344340265,
          0.36016862862965243,
          0.2249944022787946,
          0.24535577485663024,
          0.07279508366794658,
          0.3451296067262054,
          0.23446046237143855,
          0.4017844650941189,
          -0.019279451472913135,
          0.21284478333031326,
          0.2996504807040639,
          0.4159621161184116,
          0.5324381856619658,
          0.27435599287047396,
          0.6542866765638098,
          0.1466354969912438,
          0.06048792915776158,
          -0.0006024669850088317,
          0.20533924066597126,
          -0.01652091442791666,
          0.17965621987371802,
          0.17369355263244501,
          0.22000763381810018,
          0.3524323994553953,
          0.31109079752959856,
          0.501201438114851,
          0.3993272158800782,
          -0.07661185054224957,
          0.018134695883853146,
          0.1940123598759162,
          0.3993725788473463,
          0.1396937051715508,
          0.44663418341625055,
          0.3153113109949689,
          0.5823521553076256,
          0.3488225633547524,
          0.16386616451116257,
          0.4051952173184111,
          0.34922000231474537,
          0.22702803444703987,
          0.31692683585980663,
          0.1893098732138827,
          0.07566558813150037,
          0.36884903834912525,
          0.09126939766323451,
          0.07141703479350424,
          0.09436882171252359,
          0.48938982423110755,
          0.44149005747011205,
          0.33324970527759495,
          0.12132019740104377,
          0.42289826587621004,
          0.22472795489466135,
          0.0578201651869473,
          0.32740213665037865,
          0.30934506614870677,
          0.29432024259351997,
          0.3512571067446999,
          0.45575694363669417,
          0.21663563573264757,
          0.23066722877500226,
          0.19417534468952377,
          0.32065224540143406,
          0.5605957447690332,
          0.30043754682522733,
          0.29916366499804004,
          0.2964512295369362,
          0.3946081692395053,
          0.5002316582262939,
          0.3375103155223004,
          0.15896162253478882,
          -0.0016568748027561467,
          0.4591503421862372,
          0.21992171382577133,
          0.20125429345586215,
          0.06595459171408018,
          0.3997071869954299,
          0.10762812453463558,
          0.24936208029653364,
          0.49388086712095886,
          0.37678146908410476,
          0.334690775494229,
          0.2685496878666994,
          0.3693184206446771,
          -0.11612217503554872,
          -0.023877181404676245,
          0.3207995826163236,
          0.2764499596886046,
          0.22222606603618622,
          0.43354497788261165,
          0.2080659999124596,
          0.2582058199232709,
          0.31647776177080683,
          0.2718619850845411,
          0.04297249699726854,
          0.24834129517718703,
          0.09079295835827098,
          0.47255195660545946,
          0.12088004507773265,
          -0.10362376709352474,
          0.09381947118594869,
          -0.05875699164444538,
          0.10308168766922475,
          0.23689628097688856,
          0.08928220109457453,
          0.14894924312845328,
          0.3934784437474797,
          0.1495592499398394,
          0.4617970854484371,
          0.210719486334013,
          0.3079032812090826,
          0.4149210579538254,
          0.26342109997193036,
          0.3947679246465885,
          0.5888187807651751,
          0.389703733877481,
          0.21434473175790297,
          0.4505516318802244,
          0.19590563733243607,
          0.3493910272112993,
          0.6936032861147555,
          0.18788461934876904,
          0.5053385673213552,
          0.2189499115429891,
          -0.19933449777237083,
          0.5289140031898538,
          -0.04785393000933211,
          0.19308100980731166,
          0.3417983224043848,
          -0.03625073803398024,
          0.44376222356110845,
          0.40899216229503793,
          0.22697103761476542,
          0.07880525139686212,
          0.2044244218143375,
          0.29468309594376296,
          0.45944925832540573,
          0.19406132223038436,
          0.24607684273401303,
          0.36856062658307237,
          0.48107207153370984,
          0.2102844143746766,
          0.4735437798402004,
          0.10664207540855133,
          0.10330545733959999,
          0.3990511835722507,
          0.5070716742937775,
          0.03429675442344442,
          0.3897624260031806,
          0.02771289132938501,
          0.1166055378615132,
          0.21367542088178587,
          0.3807918592682279,
          0.0820076245507667,
          0.22689954972625703,
          -0.0419751739087912,
          0.5184408833471659,
          0.18294203656108962,
          0.24635407975883614,
          0.40494347241941636,
          0.2503479316458344,
          0.2978883958171533,
          0.5393584834683213,
          0.5880651916271237,
          0.38435820049792185,
          0.20251338830970678,
          0.23186579534293073,
          0.21782119285770557,
          0.4282697011860281,
          0.25757552610264584,
          0.3682606953621571,
          0.3461582678825642,
          0.30925150762438364,
          0.3081804617140457,
          0.17585211705890208,
          0.5378792772527308,
          -0.16689932908419491,
          0.4613824700556579,
          0.0025699773767438004,
          0.3149222023057508,
          0.5732957073734084,
          0.3178687188283841,
          0.3103778481988746,
          0.0865082368244983,
          0.4300447124033371,
          0.1426741053814213,
          0.05790480309654571,
          0.1451478169991336,
          0.3861554915010401,
          0.42895235811612475,
          0.47477366913879754,
          0.27093608933302177,
          0.3009058346655129,
          0.39163927097166995,
          0.2187210671804129,
          0.2437726038605573,
          0.23074062295006242,
          0.3059703043303237,
          0.07116323547958768,
          0.22601677970314651,
          0.3442175252171896,
          0.3577096800934507,
          0.07553316371512563,
          0.279871092441001,
          -0.08901548522384396,
          0.13374511776377213,
          0.48565600333461717,
          0.2887786581653672,
          0.2258616371712534,
          0.4752043130570954,
          0.22850544882505983,
          -0.15105694154652535,
          0.08919565018186981,
          0.3634622033585281,
          0.13194996165088152,
          0.21287264321713112,
          0.34426936341514985,
          0.16897451033763275,
          0.37535476984135224,
          0.41917862928846156,
          0.5257625783743147,
          0.2314934074026395,
          0.18513224713396007,
          0.4315034331411318,
          0.11628948431103585,
          0.08243640065126077,
          0.016174845263020276,
          0.40687760775932186,
          0.4066709512351286,
          0.11273728275624022,
          0.18871082618053758,
          0.28847644159094343,
          0.17439222672204016,
          0.002094975178437774,
          0.24367061959671138,
          0.3890498290327383,
          0.3739853322994732,
          0.16799287031622748,
          0.33211990589464285,
          0.6399938648461428,
          0.46048059406955816,
          0.42202541295288815,
          0.4484954923667326,
          0.23159351262619454,
          0.3314118594917633,
          0.18640527608157254,
          -0.03830547214572243,
          0.35293942454502625,
          0.2654654527938278,
          0.1820575831589908,
          0.2010040349539674,
          0.07651746266853574,
          0.5021504704732048,
          0.26178747172954553,
          0.30515339876508824,
          -0.02430711299235627,
          -0.07511241532048166,
          0.14959510202161835,
          0.22084538726740824,
          0.15142677538562177,
          0.47075880087675437,
          0.32535938231378436,
          0.43730962106750426,
          0.148357622779095,
          0.24275989755212007,
          0.2038822401593667,
          0.3952697582262651,
          0.2805946598191592,
          0.4514462992089573,
          0.3630931630235759,
          0.23839865801123283,
          0.29597116824430686,
          0.27358675526893733,
          0.2997915488151178,
          0.4750367554936204,
          0.13672290680272162,
          0.273150978992081,
          0.046331807609095534,
          0.3044605921189759,
          0.0746538827348745,
          0.35719102651247675,
          0.277409763576726,
          0.31246810257474533,
          0.36326450083258693,
          0.38161825707612584,
          0.2794052686438829,
          0.2740910908269545,
          0.5112570216017019,
          -0.1513993559724451,
          0.1522917003310275,
          0.46177328791951183,
          0.13482259964096924,
          0.2633636658858057,
          0.047813492575471725,
          0.24525765362695523,
          0.5592570113842871,
          0.46380780624166423,
          0.12473482979644322,
          -0.12501966387674324,
          0.07247027206773526,
          0.48747550736565476,
          0.40197436007198284,
          0.4171450285581574,
          0.06654996324527623,
          0.22986931244039868,
          0.41656500378350936,
          0.27981796848538454,
          0.30099833990149855,
          0.32490673580487217,
          0.058660877760789785,
          0.33167172758815217,
          0.40608145729003553,
          0.3491016829208351,
          0.4801670008696947,
          0.32844121634804685,
          0.24320027983917883,
          0.5802037318690281,
          0.498346974073915,
          0.3143406529404177,
          0.4843047641532263,
          0.16436801130892434,
          0.4675058796171677,
          0.24244159106064606,
          0.09387013485906204
         ],
         "y": [
          0.3413542640948522,
          0.2565081960220829,
          0.24433875515123615,
          0.042374174713185414,
          0.03217759937771569,
          0.23793945084952553,
          -0.010534316002028891,
          0.14560216203133694,
          0.34464369581907106,
          0.48160201485691917,
          0.16881431961360185,
          0.30932165820140234,
          0.13533595198639187,
          0.1558617209620572,
          0.09619675287221269,
          0.2830456604818748,
          0.20202664939140558,
          0.23578235819039156,
          0.46079077977513916,
          0.39033282815920656,
          0.35093027951774663,
          -0.050030382157455804,
          0.15416498259214764,
          0.37398130939834523,
          0.2013272334470525,
          0.5198411935911066,
          0.3516864433941521,
          -0.0012032604440329997,
          0.30072186123860556,
          -0.03609527202685036,
          0.1930728315886462,
          0.3440857935338358,
          -0.0301784934164564,
          0.2022380253608414,
          0.16885575092162,
          0.2078516238029104,
          -0.08463208531042586,
          0.23669101196320538,
          0.16669915724054055,
          0.2895906575492549,
          0.37463054713650584,
          0.44624587095008394,
          0.052362299746295,
          0.15237326941890794,
          0.10893263296513357,
          0.4731611216163085,
          0.12010745192229388,
          -0.02639984946227642,
          0.14040785689472043,
          0.2693878004041508,
          0.2640824151141614,
          0.15154298814734124,
          0.197170164656685,
          0.13040832125777427,
          0.11647553522822919,
          0.33775345452584954,
          0.13862761466574905,
          -0.04582118369060174,
          0.5444654016832365,
          0.3236452632214495,
          0.23328621707043956,
          0.18908248010603715,
          0.28665508743363655,
          0.03218063802887859,
          0.21148242535472303,
          0.2833383543303788,
          0.22629401961653048,
          0.2595173995090613,
          -0.044267101355803536,
          0.09552907140118781,
          0.038672799796718615,
          0.19222748264586392,
          0.42382491484289264,
          0.4756443756601812,
          0.3206575043971507,
          0.04132054050401201,
          0.3182012715630885,
          0.31039349927664694,
          -0.09135114957202578,
          0.048631311213383016,
          0.31802073535200226,
          0.4240872737511803,
          0.3581685802729012,
          0.09947222154671015,
          0.27446676916913143,
          0.20690890218642022,
          0.11158312304014922,
          0.2728515274945711,
          0.24975332246125959,
          0.42764629139729987,
          0.3161143073734353,
          0.10019211020660437,
          0.4406738875911632,
          0.16077578808746512,
          0.27912822552241773,
          0.1845438547123658,
          0.3382383238645365,
          0.09999295108509548,
          -0.02591622490335198,
          0.2267682072473101,
          0.5152759205944837,
          0.2999822911174954,
          0.13837212002027877,
          0.48869747543246606,
          0.5383364862230913,
          0.18025499498177278,
          0.26771245143400346,
          0.3674907755174359,
          0.19508547621196198,
          0.09290382639216704,
          0.12736645027969204,
          0.4209061368789001,
          0.055981051812822334,
          0.10643169184168035,
          0.17890560221525637,
          0.15197640210051186,
          0.31147308343072366,
          0.00810900239558704,
          0.4119798445665057,
          0.2058177881060416,
          -0.017158653327690964,
          0.13455181820322404,
          0.355787132663421,
          0.5381920283986209,
          0.017621294191320327,
          0.171730584488665,
          0.2809718315387981,
          0.2639356055095008,
          0.489619007108432,
          0.49212247371133855,
          0.3153619549730281,
          0.21536993160094947,
          0.3316067998847811,
          0.4401461232861146,
          0.33361407827398887,
          0.21303204784916457,
          0.2880142227310633,
          0.25416355398487783,
          0.23472985571069516,
          0.003657447478253964,
          0.1271584368039834,
          0.15166506143532468,
          0.2730464649747569,
          0.14552927443025512,
          0.15571081671186876,
          -0.1470627734746381,
          0.18313001799323442,
          0.2613464992880872,
          0.1941518242791119,
          0.1591352536241226,
          0.11103756422209107,
          0.2057366708454357,
          0.46151714617920825,
          0.27150913635315327,
          0.33053164219613623,
          0.18354194920847083,
          0.41697393309023556,
          0.31688783987170266,
          0.37671203273355575,
          0.18937319297092647,
          0.16984884355791005,
          0.2573478758996718,
          0.16732295642593137,
          0.0065849876049989455,
          0.026009543023955285,
          0.29141144543315084,
          0.02678893919649794,
          0.19279866834028273,
          0.20411755199578577,
          0.2931578638542504,
          0.19714698314072782,
          0.21365539188055513,
          0.5847798080308766,
          0.44248832072423877,
          0.17676653132759124,
          0.2456113487229535,
          0.34926396022944334,
          0.31251809404384817,
          0.1289809577510819,
          0.13040601843110913,
          0.055949095747278826,
          0.2579301336451878,
          0.29168221831132995,
          0.5209972597828573,
          0.018444811320862686,
          0.2610085594347514,
          0.250877783664235,
          0.33542791692202534,
          0.5193976708372818,
          0.2829236440786498,
          0.5431311748139878,
          0.035114060678678144,
          0.006690935280243868,
          -0.051902100453483986,
          0.34007294785935566,
          -0.03444669495521065,
          0.20496027907415046,
          0.12746276570048398,
          0.17101153961104965,
          0.2024139892868084,
          0.33242266192227976,
          0.3757958535869419,
          0.2886147118637604,
          0.030206702755343023,
          0.11478552633997793,
          0.37991889814005164,
          0.33456858846176446,
          0.049150847634412236,
          0.37595943238722096,
          0.23507556021825585,
          0.5217560159703589,
          0.33685425590526225,
          0.15922910607171628,
          0.2794708762790944,
          0.24219632487914014,
          0.13957874045102425,
          0.19708177214256442,
          0.1589534928563948,
          0.05748383494581514,
          0.23036715194039512,
          0.11520451238517126,
          0.18476895411522506,
          0.06629939148942554,
          0.5356113815561889,
          0.342247686909583,
          0.23346543936518518,
          0.08767018093852706,
          0.41550650767364045,
          0.24306594034207654,
          0.05666666878498837,
          0.22839120609135477,
          0.23207206178483988,
          0.24538973183883245,
          0.31366322388177,
          0.33599339212320606,
          0.13122439987891804,
          0.08948611051518966,
          0.06275956816435257,
          0.3272724408778007,
          0.44776532181382195,
          0.17205885264267126,
          0.24648053224366404,
          0.3600652610922365,
          0.37087854057172026,
          0.49519134397758247,
          0.24669725046620716,
          0.10173016425647093,
          -0.036835583245252976,
          0.3298280909266085,
          0.2439207275670814,
          0.12852591958650506,
          0.1331177728179593,
          0.4948508411050801,
          0.05848270432707724,
          0.2284552540770913,
          0.5354824776728606,
          0.2728519834622422,
          0.386094130996459,
          0.16708582897330965,
          0.30470160211691816,
          -0.2076381330338429,
          -0.035070333858991214,
          0.13968798037092686,
          0.24148868022884712,
          0.2361480138092188,
          0.5618663044885981,
          0.12574630856162441,
          0.31260870371156113,
          0.23322710013855172,
          0.25086110726532096,
          -0.006963826045568665,
          0.16476643129668686,
          -0.008376900211461464,
          0.42041711194266246,
          -0.015908169637423607,
          -0.09716877907996274,
          0.0584940749629366,
          -0.11914664838590662,
          0.037466347151360636,
          0.25659269309405813,
          0.041349806493068235,
          0.043616611583683615,
          0.37220234689459386,
          0.16425721013151998,
          0.38428237961627265,
          0.14628191966855125,
          0.17666003735183436,
          0.306383022121917,
          0.27109226153979515,
          0.3422847356565357,
          0.5094737517225867,
          0.31541321497025254,
          0.2163325287628808,
          0.3422308901428426,
          0.1665270445134878,
          0.1617179017284069,
          0.5711667962548819,
          0.1779829221402159,
          0.3577505523169925,
          0.12317848294264411,
          -0.14097186748383878,
          0.4173196529445473,
          -0.26609114082803187,
          0.10417944420952571,
          0.1654923258986476,
          -0.019950585690188424,
          0.2987840222654909,
          0.30950876692196483,
          0.16979164993931903,
          0.05717631914044762,
          0.09902461532702914,
          0.15487419873974928,
          0.38407298994803424,
          0.12023994322346931,
          0.26470822059655513,
          0.20768000611441884,
          0.38927747257412204,
          0.13291400713482715,
          0.35692966913262797,
          -0.019352041036906936,
          0.10119350029927052,
          0.35978875860291754,
          0.43415406591832056,
          0.03313702760177452,
          0.3359719917602321,
          0.15653384050233604,
          0.17448336736772255,
          0.1472935908929784,
          0.33344223432397546,
          0.1599017582806005,
          0.14921245184545232,
          -0.10386897421046774,
          0.5349144277767138,
          0.21057467744376893,
          0.2270839385579662,
          0.30303241297503,
          0.225339676538467,
          0.3294300149858248,
          0.49936186525723186,
          0.4234758058986237,
          0.28345456566937144,
          0.15087704131821142,
          0.1975220703990999,
          0.04009622385435584,
          0.25637289334776614,
          0.14036878858579324,
          0.3252078580288141,
          0.354921621507079,
          0.3328270037874039,
          0.22213753897675578,
          0.08840822303969835,
          0.49111867209941185,
          -0.16699799579895336,
          0.3860630326568953,
          -0.030682599268478952,
          0.21414686797094573,
          0.3893132262734732,
          0.2515953749027616,
          0.3400639676463079,
          0.07917323764778189,
          0.43662945501568756,
          -0.0013840396309756722,
          0.03953108239314936,
          0.14500804801048733,
          0.3508367021358393,
          0.23590012518926615,
          0.42807945453014784,
          0.2465067754970339,
          0.2547251952876521,
          0.2284865672668073,
          0.08460648159209823,
          0.23266814412987472,
          0.2020185316491577,
          0.2872178517151967,
          0.05289850968711137,
          0.18634456100524124,
          0.23549180416060636,
          0.4265171629146614,
          -0.00007076489456475151,
          0.16554196208577437,
          -0.06282901361795226,
          0.08740921129970816,
          0.3898226989768077,
          0.13768992882599446,
          0.167891308395587,
          0.35000684657837866,
          0.1244038163130557,
          -0.2531282667393552,
          -0.06101542804856778,
          0.1813385167720945,
          0.1312983082324155,
          0.2661239870291234,
          0.2594145172979377,
          0.1516147216856489,
          0.24709594520692618,
          0.44103707797560276,
          0.5036214126949616,
          0.4122266581622198,
          0.17462462004740467,
          0.3032630173639608,
          -0.015558898275249712,
          0.08216704134694655,
          0.1280483810053825,
          0.3292006652446899,
          0.4932553320539634,
          0.03169225024267746,
          0.22646482126605075,
          0.20562343889896947,
          0.13344545900933744,
          0.11742337914553348,
          0.2526764232058029,
          0.31916344260767865,
          0.3236475808108298,
          0.08149101348683549,
          0.13192870912978616,
          0.559083094700264,
          0.3389474803423601,
          0.335412542759335,
          0.3386271320823896,
          0.14843390562125514,
          0.4171950930837377,
          0.19359097367763806,
          -0.05320928053829757,
          0.19607008783644703,
          0.35945246186361496,
          0.16173686152937436,
          0.2100038059635947,
          0.055365454762494035,
          0.4385888874514552,
          0.2760067371285485,
          0.18948367560362875,
          -0.018105389990283056,
          -0.07557220254868388,
          0.17320668282314403,
          0.2603986501336407,
          0.1469330795788134,
          0.4775497961301928,
          0.11985563732394838,
          0.48393387415303035,
          0.08952859382772231,
          0.21365903036097736,
          0.1951646248913412,
          0.25215634661373293,
          0.2558466745221107,
          0.3723738247900054,
          0.2525055559620786,
          0.1909481535354893,
          0.27665200108675536,
          0.11214665001621901,
          0.25702861554354706,
          0.40160958455854,
          0.11654382483009795,
          0.2777548163580378,
          0.052830092991672635,
          0.2750607383278736,
          -0.02394976735859066,
          0.27334933152442215,
          0.2538310166379848,
          0.2355828764581425,
          0.3173387108504125,
          0.25465317379556257,
          0.22136174362276598,
          0.19777525356495992,
          0.40270979278710617,
          -0.09323313420772239,
          0.0033125947969200216,
          0.4435766163086937,
          0.09781964106826257,
          0.13997861290208993,
          0.0832657189772907,
          0.09608075403998668,
          0.4112634613541771,
          0.3659326760123472,
          0.0645122960463429,
          -0.2054445631076453,
          0.06220221644539723,
          0.5062123416128977,
          0.4063233680406754,
          0.2524405798042661,
          0.15103811135674178,
          0.23831374352937337,
          0.3769230587897363,
          0.2632541898380953,
          0.2338443514502098,
          0.2821807936155887,
          -0.006106082609506094,
          0.34346557441305703,
          0.3548400057519841,
          0.3298283248009672,
          0.3587891087043457,
          0.24961926719748134,
          0.3103749635521748,
          0.5211444107317809,
          0.3118971658999695,
          0.2443670294944234,
          0.4101885045801549,
          0.08540461025829707,
          0.46814970719692917,
          0.24573993161962632,
          0.03863406464484776
         ]
        },
        {
         "hovertemplate": "Below this line: (76% of simulations)<br>   `equal weights` outperformed `estimate covariance matrix only` <br>Above this line: (24% of simulations)<br>   `estimate covariance matrix only` outperformed `equal weights`<br><extra></extra>",
         "mode": "lines",
         "name": "45-degree line",
         "type": "scatter",
         "x": [
          0,
          0.007817941154456087,
          0.015635882308912174,
          0.02345382346336826,
          0.03127176461782435,
          0.039089705772280436,
          0.04690764692673652,
          0.05472558808119261,
          0.0625435292356487,
          0.07036147039010478,
          0.07817941154456087,
          0.08599735269901695,
          0.09381529385347304,
          0.10163323500792913,
          0.10945117616238521,
          0.11726911731684131,
          0.1250870584712974,
          0.13290499962575347,
          0.14072294078020955,
          0.14854088193466566,
          0.15635882308912175,
          0.16417676424357783,
          0.1719947053980339,
          0.17981264655249,
          0.18763058770694607,
          0.19544852886140218,
          0.20326647001585826,
          0.21108441117031435,
          0.21890235232477043,
          0.2267202934792265,
          0.23453823463368262,
          0.2423561757881387,
          0.2501741169425948,
          0.2579920580970509,
          0.26580999925150695,
          0.27362794040596305,
          0.2814458815604191,
          0.2892638227148752,
          0.29708176386933133,
          0.3048997050237874,
          0.3127176461782435,
          0.32053558733269955,
          0.32835352848715565,
          0.33617146964161176,
          0.3439894107960678,
          0.3518073519505239,
          0.35962529310498,
          0.3674432342594361,
          0.37526117541389215,
          0.38307911656834825,
          0.39089705772280436,
          0.3987149988772604,
          0.4065329400317165,
          0.4143508811861726,
          0.4221688223406287,
          0.4299867634950848,
          0.43780470464954085,
          0.44562264580399696,
          0.453440586958453,
          0.4612585281129091,
          0.46907646926736524,
          0.4768944104218213,
          0.4847123515762774,
          0.49253029273073345,
          0.5003482338851896,
          0.5081661750396457,
          0.5159841161941018,
          0.5238020573485578,
          0.5316199985030139,
          0.53943793965747,
          0.5472558808119261,
          0.5550738219663822,
          0.5628917631208382,
          0.5707097042752943,
          0.5785276454297504,
          0.5863455865842065,
          0.5941635277386627,
          0.6019814688931187,
          0.6097994100475748,
          0.6176173512020309,
          0.625435292356487,
          0.6332532335109431,
          0.6410711746653991,
          0.6488891158198552,
          0.6567070569743113,
          0.6645249981287674,
          0.6723429392832235,
          0.6801608804376795,
          0.6879788215921356,
          0.6957967627465917,
          0.7036147039010479,
          0.711432645055504,
          0.71925058620996,
          0.7270685273644161,
          0.7348864685188722,
          0.7427044096733283,
          0.7505223508277843,
          0.7583402919822404,
          0.7661582331366965,
          0.7739761742911526
         ],
         "y": [
          0,
          0.007817941154456087,
          0.015635882308912174,
          0.02345382346336826,
          0.03127176461782435,
          0.039089705772280436,
          0.04690764692673652,
          0.05472558808119261,
          0.0625435292356487,
          0.07036147039010478,
          0.07817941154456087,
          0.08599735269901695,
          0.09381529385347304,
          0.10163323500792913,
          0.10945117616238521,
          0.11726911731684131,
          0.1250870584712974,
          0.13290499962575347,
          0.14072294078020955,
          0.14854088193466566,
          0.15635882308912175,
          0.16417676424357783,
          0.1719947053980339,
          0.17981264655249,
          0.18763058770694607,
          0.19544852886140218,
          0.20326647001585826,
          0.21108441117031435,
          0.21890235232477043,
          0.2267202934792265,
          0.23453823463368262,
          0.2423561757881387,
          0.2501741169425948,
          0.2579920580970509,
          0.26580999925150695,
          0.27362794040596305,
          0.2814458815604191,
          0.2892638227148752,
          0.29708176386933133,
          0.3048997050237874,
          0.3127176461782435,
          0.32053558733269955,
          0.32835352848715565,
          0.33617146964161176,
          0.3439894107960678,
          0.3518073519505239,
          0.35962529310498,
          0.3674432342594361,
          0.37526117541389215,
          0.38307911656834825,
          0.39089705772280436,
          0.3987149988772604,
          0.4065329400317165,
          0.4143508811861726,
          0.4221688223406287,
          0.4299867634950848,
          0.43780470464954085,
          0.44562264580399696,
          0.453440586958453,
          0.4612585281129091,
          0.46907646926736524,
          0.4768944104218213,
          0.4847123515762774,
          0.49253029273073345,
          0.5003482338851896,
          0.5081661750396457,
          0.5159841161941018,
          0.5238020573485578,
          0.5316199985030139,
          0.53943793965747,
          0.5472558808119261,
          0.5550738219663822,
          0.5628917631208382,
          0.5707097042752943,
          0.5785276454297504,
          0.5863455865842065,
          0.5941635277386627,
          0.6019814688931187,
          0.6097994100475748,
          0.6176173512020309,
          0.625435292356487,
          0.6332532335109431,
          0.6410711746653991,
          0.6488891158198552,
          0.6567070569743113,
          0.6645249981287674,
          0.6723429392832235,
          0.6801608804376795,
          0.6879788215921356,
          0.6957967627465917,
          0.7036147039010479,
          0.711432645055504,
          0.71925058620996,
          0.7270685273644161,
          0.7348864685188722,
          0.7427044096733283,
          0.7505223508277843,
          0.7583402919822404,
          0.7661582331366965,
          0.7739761742911526
         ]
        }
       ],
       "layout": {
        "legend": {
         "x": 0.01,
         "xanchor": "left",
         "y": 0.99,
         "yanchor": "top"
        },
        "template": {
         "data": {
          "bar": [
           {
            "error_x": {
             "color": "#2a3f5f"
            },
            "error_y": {
             "color": "#2a3f5f"
            },
            "marker": {
             "line": {
              "color": "#E5ECF6",
              "width": 0.5
             },
             "pattern": {
              "fillmode": "overlay",
              "size": 10,
              "solidity": 0.2
             }
            },
            "type": "bar"
           }
          ],
          "barpolar": [
           {
            "marker": {
             "line": {
              "color": "#E5ECF6",
              "width": 0.5
             },
             "pattern": {
              "fillmode": "overlay",
              "size": 10,
              "solidity": 0.2
             }
            },
            "type": "barpolar"
           }
          ],
          "carpet": [
           {
            "aaxis": {
             "endlinecolor": "#2a3f5f",
             "gridcolor": "white",
             "linecolor": "white",
             "minorgridcolor": "white",
             "startlinecolor": "#2a3f5f"
            },
            "baxis": {
             "endlinecolor": "#2a3f5f",
             "gridcolor": "white",
             "linecolor": "white",
             "minorgridcolor": "white",
             "startlinecolor": "#2a3f5f"
            },
            "type": "carpet"
           }
          ],
          "choropleth": [
           {
            "colorbar": {
             "outlinewidth": 0,
             "ticks": ""
            },
            "type": "choropleth"
           }
          ],
          "contour": [
           {
            "colorbar": {
             "outlinewidth": 0,
             "ticks": ""
            },
            "colorscale": [
             [
              0,
              "#0d0887"
             ],
             [
              0.1111111111111111,
              "#46039f"
             ],
             [
              0.2222222222222222,
              "#7201a8"
             ],
             [
              0.3333333333333333,
              "#9c179e"
             ],
             [
              0.4444444444444444,
              "#bd3786"
             ],
             [
              0.5555555555555556,
              "#d8576b"
             ],
             [
              0.6666666666666666,
              "#ed7953"
             ],
             [
              0.7777777777777778,
              "#fb9f3a"
             ],
             [
              0.8888888888888888,
              "#fdca26"
             ],
             [
              1,
              "#f0f921"
             ]
            ],
            "type": "contour"
           }
          ],
          "contourcarpet": [
           {
            "colorbar": {
             "outlinewidth": 0,
             "ticks": ""
            },
            "type": "contourcarpet"
           }
          ],
          "heatmap": [
           {
            "colorbar": {
             "outlinewidth": 0,
             "ticks": ""
            },
            "colorscale": [
             [
              0,
              "#0d0887"
             ],
             [
              0.1111111111111111,
              "#46039f"
             ],
             [
              0.2222222222222222,
              "#7201a8"
             ],
             [
              0.3333333333333333,
              "#9c179e"
             ],
             [
              0.4444444444444444,
              "#bd3786"
             ],
             [
              0.5555555555555556,
              "#d8576b"
             ],
             [
              0.6666666666666666,
              "#ed7953"
             ],
             [
              0.7777777777777778,
              "#fb9f3a"
             ],
             [
              0.8888888888888888,
              "#fdca26"
             ],
             [
              1,
              "#f0f921"
             ]
            ],
            "type": "heatmap"
           }
          ],
          "heatmapgl": [
           {
            "colorbar": {
             "outlinewidth": 0,
             "ticks": ""
            },
            "colorscale": [
             [
              0,
              "#0d0887"
             ],
             [
              0.1111111111111111,
              "#46039f"
             ],
             [
              0.2222222222222222,
              "#7201a8"
             ],
             [
              0.3333333333333333,
              "#9c179e"
             ],
             [
              0.4444444444444444,
              "#bd3786"
             ],
             [
              0.5555555555555556,
              "#d8576b"
             ],
             [
              0.6666666666666666,
              "#ed7953"
             ],
             [
              0.7777777777777778,
              "#fb9f3a"
             ],
             [
              0.8888888888888888,
              "#fdca26"
             ],
             [
              1,
              "#f0f921"
             ]
            ],
            "type": "heatmapgl"
           }
          ],
          "histogram": [
           {
            "marker": {
             "pattern": {
              "fillmode": "overlay",
              "size": 10,
              "solidity": 0.2
             }
            },
            "type": "histogram"
           }
          ],
          "histogram2d": [
           {
            "colorbar": {
             "outlinewidth": 0,
             "ticks": ""
            },
            "colorscale": [
             [
              0,
              "#0d0887"
             ],
             [
              0.1111111111111111,
              "#46039f"
             ],
             [
              0.2222222222222222,
              "#7201a8"
             ],
             [
              0.3333333333333333,
              "#9c179e"
             ],
             [
              0.4444444444444444,
              "#bd3786"
             ],
             [
              0.5555555555555556,
              "#d8576b"
             ],
             [
              0.6666666666666666,
              "#ed7953"
             ],
             [
              0.7777777777777778,
              "#fb9f3a"
             ],
             [
              0.8888888888888888,
              "#fdca26"
             ],
             [
              1,
              "#f0f921"
             ]
            ],
            "type": "histogram2d"
           }
          ],
          "histogram2dcontour": [
           {
            "colorbar": {
             "outlinewidth": 0,
             "ticks": ""
            },
            "colorscale": [
             [
              0,
              "#0d0887"
             ],
             [
              0.1111111111111111,
              "#46039f"
             ],
             [
              0.2222222222222222,
              "#7201a8"
             ],
             [
              0.3333333333333333,
              "#9c179e"
             ],
             [
              0.4444444444444444,
              "#bd3786"
             ],
             [
              0.5555555555555556,
              "#d8576b"
             ],
             [
              0.6666666666666666,
              "#ed7953"
             ],
             [
              0.7777777777777778,
              "#fb9f3a"
             ],
             [
              0.8888888888888888,
              "#fdca26"
             ],
             [
              1,
              "#f0f921"
             ]
            ],
            "type": "histogram2dcontour"
           }
          ],
          "mesh3d": [
           {
            "colorbar": {
             "outlinewidth": 0,
             "ticks": ""
            },
            "type": "mesh3d"
           }
          ],
          "parcoords": [
           {
            "line": {
             "colorbar": {
              "outlinewidth": 0,
              "ticks": ""
             }
            },
            "type": "parcoords"
           }
          ],
          "pie": [
           {
            "automargin": true,
            "type": "pie"
           }
          ],
          "scatter": [
           {
            "fillpattern": {
             "fillmode": "overlay",
             "size": 10,
             "solidity": 0.2
            },
            "type": "scatter"
           }
          ],
          "scatter3d": [
           {
            "line": {
             "colorbar": {
              "outlinewidth": 0,
              "ticks": ""
             }
            },
            "marker": {
             "colorbar": {
              "outlinewidth": 0,
              "ticks": ""
             }
            },
            "type": "scatter3d"
           }
          ],
          "scattercarpet": [
           {
            "marker": {
             "colorbar": {
              "outlinewidth": 0,
              "ticks": ""
             }
            },
            "type": "scattercarpet"
           }
          ],
          "scattergeo": [
           {
            "marker": {
             "colorbar": {
              "outlinewidth": 0,
              "ticks": ""
             }
            },
            "type": "scattergeo"
           }
          ],
          "scattergl": [
           {
            "marker": {
             "colorbar": {
              "outlinewidth": 0,
              "ticks": ""
             }
            },
            "type": "scattergl"
           }
          ],
          "scattermapbox": [
           {
            "marker": {
             "colorbar": {
              "outlinewidth": 0,
              "ticks": ""
             }
            },
            "type": "scattermapbox"
           }
          ],
          "scatterpolar": [
           {
            "marker": {
             "colorbar": {
              "outlinewidth": 0,
              "ticks": ""
             }
            },
            "type": "scatterpolar"
           }
          ],
          "scatterpolargl": [
           {
            "marker": {
             "colorbar": {
              "outlinewidth": 0,
              "ticks": ""
             }
            },
            "type": "scatterpolargl"
           }
          ],
          "scatterternary": [
           {
            "marker": {
             "colorbar": {
              "outlinewidth": 0,
              "ticks": ""
             }
            },
            "type": "scatterternary"
           }
          ],
          "surface": [
           {
            "colorbar": {
             "outlinewidth": 0,
             "ticks": ""
            },
            "colorscale": [
             [
              0,
              "#0d0887"
             ],
             [
              0.1111111111111111,
              "#46039f"
             ],
             [
              0.2222222222222222,
              "#7201a8"
             ],
             [
              0.3333333333333333,
              "#9c179e"
             ],
             [
              0.4444444444444444,
              "#bd3786"
             ],
             [
              0.5555555555555556,
              "#d8576b"
             ],
             [
              0.6666666666666666,
              "#ed7953"
             ],
             [
              0.7777777777777778,
              "#fb9f3a"
             ],
             [
              0.8888888888888888,
              "#fdca26"
             ],
             [
              1,
              "#f0f921"
             ]
            ],
            "type": "surface"
           }
          ],
          "table": [
           {
            "cells": {
             "fill": {
              "color": "#EBF0F8"
             },
             "line": {
              "color": "white"
             }
            },
            "header": {
             "fill": {
              "color": "#C8D4E3"
             },
             "line": {
              "color": "white"
             }
            },
            "type": "table"
           }
          ]
         },
         "layout": {
          "annotationdefaults": {
           "arrowcolor": "#2a3f5f",
           "arrowhead": 0,
           "arrowwidth": 1
          },
          "autotypenumbers": "strict",
          "coloraxis": {
           "colorbar": {
            "outlinewidth": 0,
            "ticks": ""
           }
          },
          "colorscale": {
           "diverging": [
            [
             0,
             "#8e0152"
            ],
            [
             0.1,
             "#c51b7d"
            ],
            [
             0.2,
             "#de77ae"
            ],
            [
             0.3,
             "#f1b6da"
            ],
            [
             0.4,
             "#fde0ef"
            ],
            [
             0.5,
             "#f7f7f7"
            ],
            [
             0.6,
             "#e6f5d0"
            ],
            [
             0.7,
             "#b8e186"
            ],
            [
             0.8,
             "#7fbc41"
            ],
            [
             0.9,
             "#4d9221"
            ],
            [
             1,
             "#276419"
            ]
           ],
           "sequential": [
            [
             0,
             "#0d0887"
            ],
            [
             0.1111111111111111,
             "#46039f"
            ],
            [
             0.2222222222222222,
             "#7201a8"
            ],
            [
             0.3333333333333333,
             "#9c179e"
            ],
            [
             0.4444444444444444,
             "#bd3786"
            ],
            [
             0.5555555555555556,
             "#d8576b"
            ],
            [
             0.6666666666666666,
             "#ed7953"
            ],
            [
             0.7777777777777778,
             "#fb9f3a"
            ],
            [
             0.8888888888888888,
             "#fdca26"
            ],
            [
             1,
             "#f0f921"
            ]
           ],
           "sequentialminus": [
            [
             0,
             "#0d0887"
            ],
            [
             0.1111111111111111,
             "#46039f"
            ],
            [
             0.2222222222222222,
             "#7201a8"
            ],
            [
             0.3333333333333333,
             "#9c179e"
            ],
            [
             0.4444444444444444,
             "#bd3786"
            ],
            [
             0.5555555555555556,
             "#d8576b"
            ],
            [
             0.6666666666666666,
             "#ed7953"
            ],
            [
             0.7777777777777778,
             "#fb9f3a"
            ],
            [
             0.8888888888888888,
             "#fdca26"
            ],
            [
             1,
             "#f0f921"
            ]
           ]
          },
          "colorway": [
           "#636efa",
           "#EF553B",
           "#00cc96",
           "#ab63fa",
           "#FFA15A",
           "#19d3f3",
           "#FF6692",
           "#B6E880",
           "#FF97FF",
           "#FECB52"
          ],
          "font": {
           "color": "#2a3f5f"
          },
          "geo": {
           "bgcolor": "white",
           "lakecolor": "white",
           "landcolor": "#E5ECF6",
           "showlakes": true,
           "showland": true,
           "subunitcolor": "white"
          },
          "hoverlabel": {
           "align": "left"
          },
          "hovermode": "closest",
          "mapbox": {
           "style": "light"
          },
          "paper_bgcolor": "white",
          "plot_bgcolor": "#E5ECF6",
          "polar": {
           "angularaxis": {
            "gridcolor": "white",
            "linecolor": "white",
            "ticks": ""
           },
           "bgcolor": "#E5ECF6",
           "radialaxis": {
            "gridcolor": "white",
            "linecolor": "white",
            "ticks": ""
           }
          },
          "scene": {
           "xaxis": {
            "backgroundcolor": "#E5ECF6",
            "gridcolor": "white",
            "gridwidth": 2,
            "linecolor": "white",
            "showbackground": true,
            "ticks": "",
            "zerolinecolor": "white"
           },
           "yaxis": {
            "backgroundcolor": "#E5ECF6",
            "gridcolor": "white",
            "gridwidth": 2,
            "linecolor": "white",
            "showbackground": true,
            "ticks": "",
            "zerolinecolor": "white"
           },
           "zaxis": {
            "backgroundcolor": "#E5ECF6",
            "gridcolor": "white",
            "gridwidth": 2,
            "linecolor": "white",
            "showbackground": true,
            "ticks": "",
            "zerolinecolor": "white"
           }
          },
          "shapedefaults": {
           "line": {
            "color": "#2a3f5f"
           }
          },
          "ternary": {
           "aaxis": {
            "gridcolor": "white",
            "linecolor": "white",
            "ticks": ""
           },
           "baxis": {
            "gridcolor": "white",
            "linecolor": "white",
            "ticks": ""
           },
           "bgcolor": "#E5ECF6",
           "caxis": {
            "gridcolor": "white",
            "linecolor": "white",
            "ticks": ""
           }
          },
          "title": {
           "x": 0.05
          },
          "xaxis": {
           "automargin": true,
           "gridcolor": "white",
           "linecolor": "white",
           "ticks": "",
           "title": {
            "standoff": 15
           },
           "zerolinecolor": "white",
           "zerolinewidth": 2
          },
          "yaxis": {
           "automargin": true,
           "gridcolor": "white",
           "linecolor": "white",
           "ticks": "",
           "title": {
            "standoff": 15
           },
           "zerolinecolor": "white",
           "zerolinewidth": 2
          }
         }
        },
        "xaxis": {
         "range": [
          0,
          0.8126749830057103
         ],
         "tickformat": ".2",
         "title": {
          "text": "SR: equal weights"
         }
        },
        "yaxis": {
         "range": [
          0,
          0.8126749830057103
         ],
         "tickformat": ".2",
         "title": {
          "text": "SR: estimate covariance matrix only"
         }
        }
       }
      }
     },
     "metadata": {},
     "output_type": "display_data"
    },
    {
     "data": {
      "application/vnd.plotly.v1+json": {
       "config": {
        "plotlyServerURL": "https://plot.ly"
       },
       "data": [
        {
         "hovertemplate": "Sharpe Ratios:<br>  equal weights: %{x:0.3}<br>  estimate standard deviations only: %{y:0.3}<br><extra></extra>",
         "mode": "markers",
         "name": "A simulated outcome",
         "type": "scatter",
         "x": [
          0.37974759474189446,
          0.22840573633179442,
          0.38093492439339743,
          0.003554893124784639,
          0.008333340756873465,
          0.27700855018327614,
          -0.012184406634727696,
          0.1998634643255864,
          0.46502405387088613,
          0.42014980894510623,
          0.20275816327333313,
          0.4557814148906067,
          0.2198941643081995,
          0.2290532920498744,
          0.17293185542564038,
          0.29196468037070006,
          0.24468883472343908,
          0.2920527912143128,
          0.6296596982492116,
          0.42177907477997656,
          0.31139269771134453,
          0.03704705430029676,
          0.18886278681949448,
          0.4583300478936236,
          0.41331390059239315,
          0.48280979759022785,
          0.33195419431023,
          0.10471542244404264,
          0.37480325314926427,
          0.10617681536239842,
          0.19912599263381625,
          0.35865809958808564,
          -0.028456817928050774,
          0.1216584820000033,
          0.22956275242201737,
          0.24836131946240492,
          0.01156757034875526,
          0.3945472794463428,
          0.1257534178531494,
          0.3515878228501073,
          0.37379848754412165,
          0.5268490350837538,
          0.10822572476811732,
          0.21857698121092176,
          0.22796047212984066,
          0.4260762172841117,
          0.203323150513889,
          0.012069449369935424,
          0.19022291488887164,
          0.25838159257926757,
          0.2804390455694124,
          0.3826460285773851,
          0.23803914204639842,
          0.29361621462141607,
          0.2618696678025174,
          0.4168508134501532,
          0.1868542388743788,
          0.20242716077375392,
          0.6962599176951734,
          0.33496073011184624,
          0.3590775022757683,
          0.30131190963547577,
          0.3656803849338618,
          0.01210183539502048,
          0.26255795593940473,
          0.30896210590744716,
          0.3083427142105964,
          0.25102400833101407,
          -0.03523147605761941,
          0.2524022582612907,
          0.0933829679802401,
          0.09443148124101257,
          0.5549691771541259,
          0.5043084390254172,
          0.26304940514911807,
          0.10023820602761466,
          0.3969699548435426,
          0.5094467563090922,
          -0.06244429028842631,
          0.22630717342343903,
          0.16631217069931917,
          0.41487232574754784,
          0.4676517268021512,
          0.15810441079270923,
          0.3016696547053115,
          0.20055508773487576,
          0.18874532842661762,
          0.31165955742633744,
          0.3023856050578943,
          0.366009175675542,
          0.3892143125408278,
          0.12114424269209392,
          0.3396922044863315,
          0.16804116361597113,
          0.3098535841822698,
          0.24278256520103686,
          0.3486443924191592,
          0.07668320070053854,
          -0.034005505407146225,
          0.2856327879075195,
          0.3033971054248801,
          0.32974808510836967,
          0.18841462230481537,
          0.6263324940067395,
          0.5016004020909717,
          0.1587513861132464,
          0.3053943532829982,
          0.28980492067483327,
          0.16987878082159005,
          0.1784175415668571,
          0.12878754264608303,
          0.5083912336773742,
          0.029080295478374547,
          0.056668215049345036,
          0.16309102434653938,
          0.1353500018092434,
          0.36348866719672396,
          0.0022966303572867935,
          0.5288904033968834,
          0.3005785899362712,
          -0.022660338464913853,
          0.28976271157473216,
          0.365079140832552,
          0.6599734542011321,
          0.1261540737184698,
          0.1525208290455341,
          0.3148401887613694,
          0.34785186825049136,
          0.5371054013256807,
          0.6871311943368991,
          0.3996284808589143,
          0.2470829877823797,
          0.3421896237858633,
          0.2985236274231441,
          0.42961475024492873,
          0.3396169145397116,
          0.2327401117659819,
          0.2601840768658945,
          0.26429303306900276,
          0.18672369712862608,
          0.13328264548119392,
          0.20682364323835717,
          0.31468092931865427,
          0.11941485140189279,
          0.269081138323256,
          -0.04611181162812946,
          0.2167314716761123,
          0.23792779407650697,
          0.22306223864129907,
          0.13551240868811965,
          0.15555158737298833,
          0.30251209657104977,
          0.5666880886559603,
          0.30408617106354435,
          0.4178449411090653,
          0.19339935639132355,
          0.372648271520036,
          0.32864390671783916,
          0.5255474861806892,
          0.20504022807080052,
          0.18657935940185388,
          0.33965911380952307,
          0.15515816281891112,
          0.2297056631627783,
          -0.01503716931126033,
          0.2982460287626656,
          0.12531299031581697,
          0.2262273885902056,
          0.2040350746123869,
          0.3568755992025234,
          0.20885215303115473,
          0.21834532937621698,
          0.5494751977243162,
          0.37120323283645923,
          0.18563385463917206,
          0.3004202070574361,
          0.3937394344340265,
          0.36016862862965243,
          0.2249944022787946,
          0.24535577485663024,
          0.07279508366794658,
          0.3451296067262054,
          0.23446046237143855,
          0.4017844650941189,
          -0.019279451472913135,
          0.21284478333031326,
          0.2996504807040639,
          0.4159621161184116,
          0.5324381856619658,
          0.27435599287047396,
          0.6542866765638098,
          0.1466354969912438,
          0.06048792915776158,
          -0.0006024669850088317,
          0.20533924066597126,
          -0.01652091442791666,
          0.17965621987371802,
          0.17369355263244501,
          0.22000763381810018,
          0.3524323994553953,
          0.31109079752959856,
          0.501201438114851,
          0.3993272158800782,
          -0.07661185054224957,
          0.018134695883853146,
          0.1940123598759162,
          0.3993725788473463,
          0.1396937051715508,
          0.44663418341625055,
          0.3153113109949689,
          0.5823521553076256,
          0.3488225633547524,
          0.16386616451116257,
          0.4051952173184111,
          0.34922000231474537,
          0.22702803444703987,
          0.31692683585980663,
          0.1893098732138827,
          0.07566558813150037,
          0.36884903834912525,
          0.09126939766323451,
          0.07141703479350424,
          0.09436882171252359,
          0.48938982423110755,
          0.44149005747011205,
          0.33324970527759495,
          0.12132019740104377,
          0.42289826587621004,
          0.22472795489466135,
          0.0578201651869473,
          0.32740213665037865,
          0.30934506614870677,
          0.29432024259351997,
          0.3512571067446999,
          0.45575694363669417,
          0.21663563573264757,
          0.23066722877500226,
          0.19417534468952377,
          0.32065224540143406,
          0.5605957447690332,
          0.30043754682522733,
          0.29916366499804004,
          0.2964512295369362,
          0.3946081692395053,
          0.5002316582262939,
          0.3375103155223004,
          0.15896162253478882,
          -0.0016568748027561467,
          0.4591503421862372,
          0.21992171382577133,
          0.20125429345586215,
          0.06595459171408018,
          0.3997071869954299,
          0.10762812453463558,
          0.24936208029653364,
          0.49388086712095886,
          0.37678146908410476,
          0.334690775494229,
          0.2685496878666994,
          0.3693184206446771,
          -0.11612217503554872,
          -0.023877181404676245,
          0.3207995826163236,
          0.2764499596886046,
          0.22222606603618622,
          0.43354497788261165,
          0.2080659999124596,
          0.2582058199232709,
          0.31647776177080683,
          0.2718619850845411,
          0.04297249699726854,
          0.24834129517718703,
          0.09079295835827098,
          0.47255195660545946,
          0.12088004507773265,
          -0.10362376709352474,
          0.09381947118594869,
          -0.05875699164444538,
          0.10308168766922475,
          0.23689628097688856,
          0.08928220109457453,
          0.14894924312845328,
          0.3934784437474797,
          0.1495592499398394,
          0.4617970854484371,
          0.210719486334013,
          0.3079032812090826,
          0.4149210579538254,
          0.26342109997193036,
          0.3947679246465885,
          0.5888187807651751,
          0.389703733877481,
          0.21434473175790297,
          0.4505516318802244,
          0.19590563733243607,
          0.3493910272112993,
          0.6936032861147555,
          0.18788461934876904,
          0.5053385673213552,
          0.2189499115429891,
          -0.19933449777237083,
          0.5289140031898538,
          -0.04785393000933211,
          0.19308100980731166,
          0.3417983224043848,
          -0.03625073803398024,
          0.44376222356110845,
          0.40899216229503793,
          0.22697103761476542,
          0.07880525139686212,
          0.2044244218143375,
          0.29468309594376296,
          0.45944925832540573,
          0.19406132223038436,
          0.24607684273401303,
          0.36856062658307237,
          0.48107207153370984,
          0.2102844143746766,
          0.4735437798402004,
          0.10664207540855133,
          0.10330545733959999,
          0.3990511835722507,
          0.5070716742937775,
          0.03429675442344442,
          0.3897624260031806,
          0.02771289132938501,
          0.1166055378615132,
          0.21367542088178587,
          0.3807918592682279,
          0.0820076245507667,
          0.22689954972625703,
          -0.0419751739087912,
          0.5184408833471659,
          0.18294203656108962,
          0.24635407975883614,
          0.40494347241941636,
          0.2503479316458344,
          0.2978883958171533,
          0.5393584834683213,
          0.5880651916271237,
          0.38435820049792185,
          0.20251338830970678,
          0.23186579534293073,
          0.21782119285770557,
          0.4282697011860281,
          0.25757552610264584,
          0.3682606953621571,
          0.3461582678825642,
          0.30925150762438364,
          0.3081804617140457,
          0.17585211705890208,
          0.5378792772527308,
          -0.16689932908419491,
          0.4613824700556579,
          0.0025699773767438004,
          0.3149222023057508,
          0.5732957073734084,
          0.3178687188283841,
          0.3103778481988746,
          0.0865082368244983,
          0.4300447124033371,
          0.1426741053814213,
          0.05790480309654571,
          0.1451478169991336,
          0.3861554915010401,
          0.42895235811612475,
          0.47477366913879754,
          0.27093608933302177,
          0.3009058346655129,
          0.39163927097166995,
          0.2187210671804129,
          0.2437726038605573,
          0.23074062295006242,
          0.3059703043303237,
          0.07116323547958768,
          0.22601677970314651,
          0.3442175252171896,
          0.3577096800934507,
          0.07553316371512563,
          0.279871092441001,
          -0.08901548522384396,
          0.13374511776377213,
          0.48565600333461717,
          0.2887786581653672,
          0.2258616371712534,
          0.4752043130570954,
          0.22850544882505983,
          -0.15105694154652535,
          0.08919565018186981,
          0.3634622033585281,
          0.13194996165088152,
          0.21287264321713112,
          0.34426936341514985,
          0.16897451033763275,
          0.37535476984135224,
          0.41917862928846156,
          0.5257625783743147,
          0.2314934074026395,
          0.18513224713396007,
          0.4315034331411318,
          0.11628948431103585,
          0.08243640065126077,
          0.016174845263020276,
          0.40687760775932186,
          0.4066709512351286,
          0.11273728275624022,
          0.18871082618053758,
          0.28847644159094343,
          0.17439222672204016,
          0.002094975178437774,
          0.24367061959671138,
          0.3890498290327383,
          0.3739853322994732,
          0.16799287031622748,
          0.33211990589464285,
          0.6399938648461428,
          0.46048059406955816,
          0.42202541295288815,
          0.4484954923667326,
          0.23159351262619454,
          0.3314118594917633,
          0.18640527608157254,
          -0.03830547214572243,
          0.35293942454502625,
          0.2654654527938278,
          0.1820575831589908,
          0.2010040349539674,
          0.07651746266853574,
          0.5021504704732048,
          0.26178747172954553,
          0.30515339876508824,
          -0.02430711299235627,
          -0.07511241532048166,
          0.14959510202161835,
          0.22084538726740824,
          0.15142677538562177,
          0.47075880087675437,
          0.32535938231378436,
          0.43730962106750426,
          0.148357622779095,
          0.24275989755212007,
          0.2038822401593667,
          0.3952697582262651,
          0.2805946598191592,
          0.4514462992089573,
          0.3630931630235759,
          0.23839865801123283,
          0.29597116824430686,
          0.27358675526893733,
          0.2997915488151178,
          0.4750367554936204,
          0.13672290680272162,
          0.273150978992081,
          0.046331807609095534,
          0.3044605921189759,
          0.0746538827348745,
          0.35719102651247675,
          0.277409763576726,
          0.31246810257474533,
          0.36326450083258693,
          0.38161825707612584,
          0.2794052686438829,
          0.2740910908269545,
          0.5112570216017019,
          -0.1513993559724451,
          0.1522917003310275,
          0.46177328791951183,
          0.13482259964096924,
          0.2633636658858057,
          0.047813492575471725,
          0.24525765362695523,
          0.5592570113842871,
          0.46380780624166423,
          0.12473482979644322,
          -0.12501966387674324,
          0.07247027206773526,
          0.48747550736565476,
          0.40197436007198284,
          0.4171450285581574,
          0.06654996324527623,
          0.22986931244039868,
          0.41656500378350936,
          0.27981796848538454,
          0.30099833990149855,
          0.32490673580487217,
          0.058660877760789785,
          0.33167172758815217,
          0.40608145729003553,
          0.3491016829208351,
          0.4801670008696947,
          0.32844121634804685,
          0.24320027983917883,
          0.5802037318690281,
          0.498346974073915,
          0.3143406529404177,
          0.4843047641532263,
          0.16436801130892434,
          0.4675058796171677,
          0.24244159106064606,
          0.09387013485906204
         ],
         "y": [
          0.37324777784476526,
          0.22922349957842122,
          0.3579935615986226,
          0.012611038845486982,
          0.017968766950676184,
          0.26884747775128226,
          -0.015667337229412496,
          0.19439229611367675,
          0.43960585807165536,
          0.43845568433229054,
          0.20148177080121465,
          0.4369313426759053,
          0.1959720623708553,
          0.2196792991850687,
          0.16133642325981468,
          0.2919119922700273,
          0.2437110894502225,
          0.3040356306756609,
          0.6226985040833842,
          0.43726978720509124,
          0.3280476265322906,
          0.017726598885888116,
          0.18054999288168194,
          0.44567099428913115,
          0.375132656683638,
          0.49601469463650694,
          0.3375636510079604,
          0.09062834696612522,
          0.35902805674846594,
          0.07960196114135566,
          0.1981823049966322,
          0.3550011183704821,
          -0.029439303640579974,
          0.13032584039984282,
          0.2254119290736381,
          0.2315566378416426,
          -0.011227839554821914,
          0.37004721062791995,
          0.15653902090970984,
          0.34528532689421143,
          0.3776829863471464,
          0.5169729334951653,
          0.09797666218561182,
          0.21691911146218065,
          0.20900856490928835,
          0.44061503849253514,
          0.18701462781081962,
          0.0017328232018418426,
          0.16438104592440317,
          0.2632112373401754,
          0.2793126741938329,
          0.34472733394503113,
          0.2305799830844043,
          0.26307021877155895,
          0.23305586468242487,
          0.40476299206564464,
          0.1763941420149011,
          0.14868567552410447,
          0.6650163787858948,
          0.3328739420068986,
          0.33916120898497415,
          0.2915081820979745,
          0.35387773349589974,
          0.018955729631664812,
          0.2508866289801665,
          0.31559604831289956,
          0.28964025451837505,
          0.2536021376386532,
          -0.046068331730851654,
          0.22721231891963561,
          0.0946723495516645,
          0.11297787732152358,
          0.543814897075167,
          0.4939696727320201,
          0.27415742120516884,
          0.09466391661140629,
          0.38756012668830536,
          0.47093736730399127,
          -0.07321567903583445,
          0.21179500923348485,
          0.19890804494647846,
          0.41148721851795267,
          0.4533777918411672,
          0.14744598682645832,
          0.31294109475758575,
          0.20831092200284207,
          0.17627099661159087,
          0.3096328430806528,
          0.2992088528277372,
          0.38880345736112953,
          0.38318870375449854,
          0.11584633124664816,
          0.3625829824410652,
          0.16800058879563998,
          0.3051283387059199,
          0.22975729478663362,
          0.3435365686210935,
          0.08072908515423312,
          -0.03363574214910725,
          0.2765182174557289,
          0.34342493540959995,
          0.3265467585262766,
          0.17791680953175207,
          0.5995351120481278,
          0.5203082383912916,
          0.1683910310265646,
          0.2908052256847931,
          0.30843974099134736,
          0.18165506339708457,
          0.1260656135769696,
          0.133540817502507,
          0.4980060959504801,
          0.034726687201681185,
          0.057881903867441034,
          0.1624745176568229,
          0.13918629306131083,
          0.36541058841600327,
          -0.0041511009477705725,
          0.4841539346834163,
          0.2905779389048534,
          -0.01576245918070917,
          0.27327533685455496,
          0.3615172413016131,
          0.6276516011369339,
          0.11151993715884191,
          0.16670552172893702,
          0.31397655191871804,
          0.33506090355546597,
          0.5395160232130094,
          0.658800517626133,
          0.39267743217367224,
          0.25406578902896043,
          0.34561304395584797,
          0.3391367488336688,
          0.42238271341759914,
          0.323804716807724,
          0.23976457256734945,
          0.25918323377204305,
          0.26369307173479956,
          0.15638821369812334,
          0.1307355353486471,
          0.18898008832973082,
          0.3067967675758038,
          0.12340849503577438,
          0.2570327754859888,
          -0.06362946964758423,
          0.2070831339925184,
          0.25032452346894224,
          0.22200030312836683,
          0.14071904144569916,
          0.15137942764864687,
          0.27345173144804574,
          0.5602547977716945,
          0.30628456123765574,
          0.3909330917490688,
          0.19298289734291904,
          0.40458242606195527,
          0.3304560730305262,
          0.49527829820866326,
          0.20781976481751713,
          0.18321213281623042,
          0.3292847858284705,
          0.15324581693646963,
          0.19408774575854795,
          -0.0054916231033142,
          0.30956126454585414,
          0.11304039185395555,
          0.2257405579630171,
          0.20649773776558872,
          0.34644449758134216,
          0.20682266571976707,
          0.20260885992084005,
          0.5665803519331712,
          0.3885946534973378,
          0.19038417935542698,
          0.28575299280524524,
          0.38177797176942585,
          0.351429552120982,
          0.20020472571968803,
          0.23214837902288968,
          0.07459135562651475,
          0.33644321586034,
          0.23919478721091425,
          0.42280154524968144,
          -0.006750661255282678,
          0.22450458153952074,
          0.2927984475949139,
          0.4025637491493875,
          0.5345206330073772,
          0.2785130592373985,
          0.6578320103749875,
          0.13426149156680228,
          0.04892210373085574,
          -0.00832412550580353,
          0.22051955531796305,
          -0.01965523199027959,
          0.19601496682318773,
          0.16981631890480173,
          0.20956056784897067,
          0.32687113386580546,
          0.3221741120039366,
          0.47838157621152766,
          0.3796326386158649,
          -0.06259743032494086,
          0.02678155856109433,
          0.22456742285353082,
          0.38167334543083886,
          0.12024960308051465,
          0.43530924027903445,
          0.31482809568550757,
          0.5836918737053555,
          0.3507354590180224,
          0.16776129471283524,
          0.381714303637403,
          0.33926241308026256,
          0.2123563091785694,
          0.28709309224835416,
          0.18546469192930276,
          0.06885075667218386,
          0.34963992243116093,
          0.09725233423837598,
          0.0970876610380314,
          0.09397333501375774,
          0.5007941659483901,
          0.43417833877346,
          0.31805952251155595,
          0.11245842112429849,
          0.4227520293527211,
          0.23287920249747984,
          0.05929575843487108,
          0.3103306645890335,
          0.30175746649851953,
          0.292156585501965,
          0.35549864565579486,
          0.44346979493219896,
          0.19166285659663582,
          0.1992619693889123,
          0.18410527426826892,
          0.333634136848798,
          0.5355684587224278,
          0.28725378802277207,
          0.2919707480781349,
          0.318736855677218,
          0.39060514493142273,
          0.508594578362418,
          0.33042636676182635,
          0.14991047544937533,
          -0.012281608539528959,
          0.4494559315623283,
          0.2274227395446658,
          0.18647733578404171,
          0.08491737592764681,
          0.4238857110307611,
          0.09111403610504895,
          0.24124998708590056,
          0.5164738493502424,
          0.3656491800435339,
          0.35888590207662036,
          0.251254562148721,
          0.3639634592322332,
          -0.13813978650650818,
          -0.025029165815633612,
          0.28060649623958445,
          0.263129366082248,
          0.22443857249795793,
          0.45351676004706815,
          0.19228821873532817,
          0.2812120176894391,
          0.30086660627489337,
          0.2705959900293942,
          0.03346390931620403,
          0.23886597648647628,
          0.058971901500337154,
          0.4660628538312423,
          0.08904194474702357,
          -0.10137818170824515,
          0.08393840386870044,
          -0.07267832886029493,
          0.09766239609191907,
          0.2518613314322348,
          0.08165250659143561,
          0.13912950632273643,
          0.3892683615461049,
          0.1534668922067685,
          0.45027180304757497,
          0.20019459444394305,
          0.29236616632479745,
          0.3801520689960353,
          0.25984752748708584,
          0.38775366811132034,
          0.5869874154416812,
          0.38627030110608557,
          0.21271826408933467,
          0.4325808578441236,
          0.19457183690330365,
          0.3266308037637175,
          0.674749152773036,
          0.17991856016964675,
          0.4857635936142244,
          0.20777787431829134,
          -0.19937973369630918,
          0.509190001879754,
          -0.07448877766864014,
          0.16736027829642605,
          0.31234659337252874,
          -0.0326858119191726,
          0.4298766123798006,
          0.38530620455509484,
          0.21676505963426015,
          0.08282570857819403,
          0.176999372847979,
          0.2639150870699308,
          0.4545629322937783,
          0.17183213164034558,
          0.2504580312021971,
          0.34762621262179094,
          0.4718260591152838,
          0.1960416037521265,
          0.4569261159017543,
          0.0835631811943331,
          0.10436505115200714,
          0.40377401089738296,
          0.49306770662586924,
          0.03533792885327105,
          0.38343608474427404,
          0.04453763142641198,
          0.12357249772922986,
          0.20216516506486798,
          0.36895298851583425,
          0.10554994690870104,
          0.21051393510458408,
          -0.05482886586335111,
          0.5365191503669497,
          0.1932224615798793,
          0.2369145833389961,
          0.38564419185868654,
          0.24665346745715472,
          0.31262713186931684,
          0.5429847058008607,
          0.5674986904761474,
          0.36799740277181286,
          0.20040418294197712,
          0.23191394344225102,
          0.1822028963845483,
          0.4059296757306843,
          0.23125465753850583,
          0.3622783798858818,
          0.3512466990925182,
          0.3174788757567331,
          0.29585287040293273,
          0.16111097724264745,
          0.5392398628754999,
          -0.1726478965432451,
          0.45223286890981995,
          -0.01253583002135192,
          0.29492031276844133,
          0.5372983130090576,
          0.3072266858916813,
          0.3147789663976974,
          0.08625518849542758,
          0.4458240835785795,
          0.11343565955101492,
          0.039306788253213584,
          0.15262557908021934,
          0.37650976388521956,
          0.3964875473413587,
          0.46526708378361314,
          0.2706429434892585,
          0.3005135999549338,
          0.3775199655475382,
          0.20150593619783944,
          0.2509341330474298,
          0.23364200455829107,
          0.30648333595811095,
          0.06314260958491127,
          0.21754951220650592,
          0.330712764917841,
          0.3859885299908654,
          0.05643416427266374,
          0.2508867166505319,
          -0.0871418320508827,
          0.11817553773712816,
          0.4765119416691425,
          0.262671901016335,
          0.20794491082319377,
          0.4557912746397015,
          0.20481149345179814,
          -0.17148176534137707,
          0.05449731216000703,
          0.3493032686511383,
          0.13110199709879458,
          0.22784485015426326,
          0.31987751168048617,
          0.16756893886652094,
          0.34659172517967607,
          0.43629640148693466,
          0.5283386945694049,
          0.2862710102746157,
          0.18881931402187274,
          0.3912781607577013,
          0.0890118763656992,
          0.08444681819755162,
          0.041555966611372626,
          0.3991015745389337,
          0.43187490004413237,
          0.09319906930897769,
          0.19938702241420095,
          0.2753495410802832,
          0.17198545228714962,
          0.017504804017576234,
          0.24975908765276003,
          0.38457014272819634,
          0.35839695744127337,
          0.15600032854605267,
          0.310050033987923,
          0.6303929451409518,
          0.44616875435455106,
          0.414618133068613,
          0.4412607617060075,
          0.22294164517500448,
          0.3522127060413052,
          0.19291053533986152,
          -0.0321987055544016,
          0.3188688738659915,
          0.2899804805681102,
          0.17334268527739022,
          0.20130699598554655,
          0.0708769525692324,
          0.4990983533576374,
          0.2646591797773591,
          0.2748688980188146,
          -0.01832308266522513,
          -0.07283024107768496,
          0.1542577669298335,
          0.22660654726698817,
          0.15104252630648943,
          0.48661332916400324,
          0.28641205368197936,
          0.44313476204009317,
          0.13838170086906673,
          0.24474030985270756,
          0.21459344366257663,
          0.3718503495154191,
          0.2785154694856726,
          0.447534882926173,
          0.3482658788750003,
          0.23746243550906232,
          0.29848317011108794,
          0.24549308063040431,
          0.2967794889608896,
          0.4717783883097794,
          0.13548759972124216,
          0.27891400932892924,
          0.05069378280170125,
          0.3028699528487227,
          0.052098373625232945,
          0.3469841670583528,
          0.2770507209298596,
          0.29394958537402466,
          0.35717865051893993,
          0.3526458434197243,
          0.27332696582430016,
          0.2578442580006445,
          0.47980119421387646,
          -0.1336464405310225,
          0.12189254349219572,
          0.463929572327599,
          0.13271741668092746,
          0.24488366741895176,
          0.05348220531408766,
          0.21389033488003714,
          0.5385313546960647,
          0.4525074659711204,
          0.09197777069027994,
          -0.15390956923263985,
          0.07321608089795877,
          0.503931662728618,
          0.4112891859459112,
          0.37283927891006774,
          0.08945012929078783,
          0.23759148874764371,
          0.4143107851669458,
          0.28232047702721746,
          0.2946194889763981,
          0.31392085212853865,
          0.030749154083602043,
          0.3420420479686142,
          0.3881337495290329,
          0.34678616759923514,
          0.45604809577022865,
          0.31666678367024875,
          0.2634570718766657,
          0.5659864892530465,
          0.46253957226121223,
          0.2946824145521457,
          0.4741205858282633,
          0.15082293298549218,
          0.46545305950810684,
          0.24822405089711258,
          0.0829698164116185
         ]
        },
        {
         "hovertemplate": "Below this line: (68% of simulations)<br>   `equal weights` outperformed `estimate standard deviations only` <br>Above this line: (32% of simulations)<br>   `estimate standard deviations only` outperformed `equal weights`<br><extra></extra>",
         "mode": "lines",
         "name": "45-degree line",
         "type": "scatter",
         "x": [
          0,
          0.007817941154456087,
          0.015635882308912174,
          0.02345382346336826,
          0.03127176461782435,
          0.039089705772280436,
          0.04690764692673652,
          0.05472558808119261,
          0.0625435292356487,
          0.07036147039010478,
          0.07817941154456087,
          0.08599735269901695,
          0.09381529385347304,
          0.10163323500792913,
          0.10945117616238521,
          0.11726911731684131,
          0.1250870584712974,
          0.13290499962575347,
          0.14072294078020955,
          0.14854088193466566,
          0.15635882308912175,
          0.16417676424357783,
          0.1719947053980339,
          0.17981264655249,
          0.18763058770694607,
          0.19544852886140218,
          0.20326647001585826,
          0.21108441117031435,
          0.21890235232477043,
          0.2267202934792265,
          0.23453823463368262,
          0.2423561757881387,
          0.2501741169425948,
          0.2579920580970509,
          0.26580999925150695,
          0.27362794040596305,
          0.2814458815604191,
          0.2892638227148752,
          0.29708176386933133,
          0.3048997050237874,
          0.3127176461782435,
          0.32053558733269955,
          0.32835352848715565,
          0.33617146964161176,
          0.3439894107960678,
          0.3518073519505239,
          0.35962529310498,
          0.3674432342594361,
          0.37526117541389215,
          0.38307911656834825,
          0.39089705772280436,
          0.3987149988772604,
          0.4065329400317165,
          0.4143508811861726,
          0.4221688223406287,
          0.4299867634950848,
          0.43780470464954085,
          0.44562264580399696,
          0.453440586958453,
          0.4612585281129091,
          0.46907646926736524,
          0.4768944104218213,
          0.4847123515762774,
          0.49253029273073345,
          0.5003482338851896,
          0.5081661750396457,
          0.5159841161941018,
          0.5238020573485578,
          0.5316199985030139,
          0.53943793965747,
          0.5472558808119261,
          0.5550738219663822,
          0.5628917631208382,
          0.5707097042752943,
          0.5785276454297504,
          0.5863455865842065,
          0.5941635277386627,
          0.6019814688931187,
          0.6097994100475748,
          0.6176173512020309,
          0.625435292356487,
          0.6332532335109431,
          0.6410711746653991,
          0.6488891158198552,
          0.6567070569743113,
          0.6645249981287674,
          0.6723429392832235,
          0.6801608804376795,
          0.6879788215921356,
          0.6957967627465917,
          0.7036147039010479,
          0.711432645055504,
          0.71925058620996,
          0.7270685273644161,
          0.7348864685188722,
          0.7427044096733283,
          0.7505223508277843,
          0.7583402919822404,
          0.7661582331366965,
          0.7739761742911526
         ],
         "y": [
          0,
          0.007817941154456087,
          0.015635882308912174,
          0.02345382346336826,
          0.03127176461782435,
          0.039089705772280436,
          0.04690764692673652,
          0.05472558808119261,
          0.0625435292356487,
          0.07036147039010478,
          0.07817941154456087,
          0.08599735269901695,
          0.09381529385347304,
          0.10163323500792913,
          0.10945117616238521,
          0.11726911731684131,
          0.1250870584712974,
          0.13290499962575347,
          0.14072294078020955,
          0.14854088193466566,
          0.15635882308912175,
          0.16417676424357783,
          0.1719947053980339,
          0.17981264655249,
          0.18763058770694607,
          0.19544852886140218,
          0.20326647001585826,
          0.21108441117031435,
          0.21890235232477043,
          0.2267202934792265,
          0.23453823463368262,
          0.2423561757881387,
          0.2501741169425948,
          0.2579920580970509,
          0.26580999925150695,
          0.27362794040596305,
          0.2814458815604191,
          0.2892638227148752,
          0.29708176386933133,
          0.3048997050237874,
          0.3127176461782435,
          0.32053558733269955,
          0.32835352848715565,
          0.33617146964161176,
          0.3439894107960678,
          0.3518073519505239,
          0.35962529310498,
          0.3674432342594361,
          0.37526117541389215,
          0.38307911656834825,
          0.39089705772280436,
          0.3987149988772604,
          0.4065329400317165,
          0.4143508811861726,
          0.4221688223406287,
          0.4299867634950848,
          0.43780470464954085,
          0.44562264580399696,
          0.453440586958453,
          0.4612585281129091,
          0.46907646926736524,
          0.4768944104218213,
          0.4847123515762774,
          0.49253029273073345,
          0.5003482338851896,
          0.5081661750396457,
          0.5159841161941018,
          0.5238020573485578,
          0.5316199985030139,
          0.53943793965747,
          0.5472558808119261,
          0.5550738219663822,
          0.5628917631208382,
          0.5707097042752943,
          0.5785276454297504,
          0.5863455865842065,
          0.5941635277386627,
          0.6019814688931187,
          0.6097994100475748,
          0.6176173512020309,
          0.625435292356487,
          0.6332532335109431,
          0.6410711746653991,
          0.6488891158198552,
          0.6567070569743113,
          0.6645249981287674,
          0.6723429392832235,
          0.6801608804376795,
          0.6879788215921356,
          0.6957967627465917,
          0.7036147039010479,
          0.711432645055504,
          0.71925058620996,
          0.7270685273644161,
          0.7348864685188722,
          0.7427044096733283,
          0.7505223508277843,
          0.7583402919822404,
          0.7661582331366965,
          0.7739761742911526
         ]
        }
       ],
       "layout": {
        "legend": {
         "x": 0.01,
         "xanchor": "left",
         "y": 0.99,
         "yanchor": "top"
        },
        "template": {
         "data": {
          "bar": [
           {
            "error_x": {
             "color": "#2a3f5f"
            },
            "error_y": {
             "color": "#2a3f5f"
            },
            "marker": {
             "line": {
              "color": "#E5ECF6",
              "width": 0.5
             },
             "pattern": {
              "fillmode": "overlay",
              "size": 10,
              "solidity": 0.2
             }
            },
            "type": "bar"
           }
          ],
          "barpolar": [
           {
            "marker": {
             "line": {
              "color": "#E5ECF6",
              "width": 0.5
             },
             "pattern": {
              "fillmode": "overlay",
              "size": 10,
              "solidity": 0.2
             }
            },
            "type": "barpolar"
           }
          ],
          "carpet": [
           {
            "aaxis": {
             "endlinecolor": "#2a3f5f",
             "gridcolor": "white",
             "linecolor": "white",
             "minorgridcolor": "white",
             "startlinecolor": "#2a3f5f"
            },
            "baxis": {
             "endlinecolor": "#2a3f5f",
             "gridcolor": "white",
             "linecolor": "white",
             "minorgridcolor": "white",
             "startlinecolor": "#2a3f5f"
            },
            "type": "carpet"
           }
          ],
          "choropleth": [
           {
            "colorbar": {
             "outlinewidth": 0,
             "ticks": ""
            },
            "type": "choropleth"
           }
          ],
          "contour": [
           {
            "colorbar": {
             "outlinewidth": 0,
             "ticks": ""
            },
            "colorscale": [
             [
              0,
              "#0d0887"
             ],
             [
              0.1111111111111111,
              "#46039f"
             ],
             [
              0.2222222222222222,
              "#7201a8"
             ],
             [
              0.3333333333333333,
              "#9c179e"
             ],
             [
              0.4444444444444444,
              "#bd3786"
             ],
             [
              0.5555555555555556,
              "#d8576b"
             ],
             [
              0.6666666666666666,
              "#ed7953"
             ],
             [
              0.7777777777777778,
              "#fb9f3a"
             ],
             [
              0.8888888888888888,
              "#fdca26"
             ],
             [
              1,
              "#f0f921"
             ]
            ],
            "type": "contour"
           }
          ],
          "contourcarpet": [
           {
            "colorbar": {
             "outlinewidth": 0,
             "ticks": ""
            },
            "type": "contourcarpet"
           }
          ],
          "heatmap": [
           {
            "colorbar": {
             "outlinewidth": 0,
             "ticks": ""
            },
            "colorscale": [
             [
              0,
              "#0d0887"
             ],
             [
              0.1111111111111111,
              "#46039f"
             ],
             [
              0.2222222222222222,
              "#7201a8"
             ],
             [
              0.3333333333333333,
              "#9c179e"
             ],
             [
              0.4444444444444444,
              "#bd3786"
             ],
             [
              0.5555555555555556,
              "#d8576b"
             ],
             [
              0.6666666666666666,
              "#ed7953"
             ],
             [
              0.7777777777777778,
              "#fb9f3a"
             ],
             [
              0.8888888888888888,
              "#fdca26"
             ],
             [
              1,
              "#f0f921"
             ]
            ],
            "type": "heatmap"
           }
          ],
          "heatmapgl": [
           {
            "colorbar": {
             "outlinewidth": 0,
             "ticks": ""
            },
            "colorscale": [
             [
              0,
              "#0d0887"
             ],
             [
              0.1111111111111111,
              "#46039f"
             ],
             [
              0.2222222222222222,
              "#7201a8"
             ],
             [
              0.3333333333333333,
              "#9c179e"
             ],
             [
              0.4444444444444444,
              "#bd3786"
             ],
             [
              0.5555555555555556,
              "#d8576b"
             ],
             [
              0.6666666666666666,
              "#ed7953"
             ],
             [
              0.7777777777777778,
              "#fb9f3a"
             ],
             [
              0.8888888888888888,
              "#fdca26"
             ],
             [
              1,
              "#f0f921"
             ]
            ],
            "type": "heatmapgl"
           }
          ],
          "histogram": [
           {
            "marker": {
             "pattern": {
              "fillmode": "overlay",
              "size": 10,
              "solidity": 0.2
             }
            },
            "type": "histogram"
           }
          ],
          "histogram2d": [
           {
            "colorbar": {
             "outlinewidth": 0,
             "ticks": ""
            },
            "colorscale": [
             [
              0,
              "#0d0887"
             ],
             [
              0.1111111111111111,
              "#46039f"
             ],
             [
              0.2222222222222222,
              "#7201a8"
             ],
             [
              0.3333333333333333,
              "#9c179e"
             ],
             [
              0.4444444444444444,
              "#bd3786"
             ],
             [
              0.5555555555555556,
              "#d8576b"
             ],
             [
              0.6666666666666666,
              "#ed7953"
             ],
             [
              0.7777777777777778,
              "#fb9f3a"
             ],
             [
              0.8888888888888888,
              "#fdca26"
             ],
             [
              1,
              "#f0f921"
             ]
            ],
            "type": "histogram2d"
           }
          ],
          "histogram2dcontour": [
           {
            "colorbar": {
             "outlinewidth": 0,
             "ticks": ""
            },
            "colorscale": [
             [
              0,
              "#0d0887"
             ],
             [
              0.1111111111111111,
              "#46039f"
             ],
             [
              0.2222222222222222,
              "#7201a8"
             ],
             [
              0.3333333333333333,
              "#9c179e"
             ],
             [
              0.4444444444444444,
              "#bd3786"
             ],
             [
              0.5555555555555556,
              "#d8576b"
             ],
             [
              0.6666666666666666,
              "#ed7953"
             ],
             [
              0.7777777777777778,
              "#fb9f3a"
             ],
             [
              0.8888888888888888,
              "#fdca26"
             ],
             [
              1,
              "#f0f921"
             ]
            ],
            "type": "histogram2dcontour"
           }
          ],
          "mesh3d": [
           {
            "colorbar": {
             "outlinewidth": 0,
             "ticks": ""
            },
            "type": "mesh3d"
           }
          ],
          "parcoords": [
           {
            "line": {
             "colorbar": {
              "outlinewidth": 0,
              "ticks": ""
             }
            },
            "type": "parcoords"
           }
          ],
          "pie": [
           {
            "automargin": true,
            "type": "pie"
           }
          ],
          "scatter": [
           {
            "fillpattern": {
             "fillmode": "overlay",
             "size": 10,
             "solidity": 0.2
            },
            "type": "scatter"
           }
          ],
          "scatter3d": [
           {
            "line": {
             "colorbar": {
              "outlinewidth": 0,
              "ticks": ""
             }
            },
            "marker": {
             "colorbar": {
              "outlinewidth": 0,
              "ticks": ""
             }
            },
            "type": "scatter3d"
           }
          ],
          "scattercarpet": [
           {
            "marker": {
             "colorbar": {
              "outlinewidth": 0,
              "ticks": ""
             }
            },
            "type": "scattercarpet"
           }
          ],
          "scattergeo": [
           {
            "marker": {
             "colorbar": {
              "outlinewidth": 0,
              "ticks": ""
             }
            },
            "type": "scattergeo"
           }
          ],
          "scattergl": [
           {
            "marker": {
             "colorbar": {
              "outlinewidth": 0,
              "ticks": ""
             }
            },
            "type": "scattergl"
           }
          ],
          "scattermapbox": [
           {
            "marker": {
             "colorbar": {
              "outlinewidth": 0,
              "ticks": ""
             }
            },
            "type": "scattermapbox"
           }
          ],
          "scatterpolar": [
           {
            "marker": {
             "colorbar": {
              "outlinewidth": 0,
              "ticks": ""
             }
            },
            "type": "scatterpolar"
           }
          ],
          "scatterpolargl": [
           {
            "marker": {
             "colorbar": {
              "outlinewidth": 0,
              "ticks": ""
             }
            },
            "type": "scatterpolargl"
           }
          ],
          "scatterternary": [
           {
            "marker": {
             "colorbar": {
              "outlinewidth": 0,
              "ticks": ""
             }
            },
            "type": "scatterternary"
           }
          ],
          "surface": [
           {
            "colorbar": {
             "outlinewidth": 0,
             "ticks": ""
            },
            "colorscale": [
             [
              0,
              "#0d0887"
             ],
             [
              0.1111111111111111,
              "#46039f"
             ],
             [
              0.2222222222222222,
              "#7201a8"
             ],
             [
              0.3333333333333333,
              "#9c179e"
             ],
             [
              0.4444444444444444,
              "#bd3786"
             ],
             [
              0.5555555555555556,
              "#d8576b"
             ],
             [
              0.6666666666666666,
              "#ed7953"
             ],
             [
              0.7777777777777778,
              "#fb9f3a"
             ],
             [
              0.8888888888888888,
              "#fdca26"
             ],
             [
              1,
              "#f0f921"
             ]
            ],
            "type": "surface"
           }
          ],
          "table": [
           {
            "cells": {
             "fill": {
              "color": "#EBF0F8"
             },
             "line": {
              "color": "white"
             }
            },
            "header": {
             "fill": {
              "color": "#C8D4E3"
             },
             "line": {
              "color": "white"
             }
            },
            "type": "table"
           }
          ]
         },
         "layout": {
          "annotationdefaults": {
           "arrowcolor": "#2a3f5f",
           "arrowhead": 0,
           "arrowwidth": 1
          },
          "autotypenumbers": "strict",
          "coloraxis": {
           "colorbar": {
            "outlinewidth": 0,
            "ticks": ""
           }
          },
          "colorscale": {
           "diverging": [
            [
             0,
             "#8e0152"
            ],
            [
             0.1,
             "#c51b7d"
            ],
            [
             0.2,
             "#de77ae"
            ],
            [
             0.3,
             "#f1b6da"
            ],
            [
             0.4,
             "#fde0ef"
            ],
            [
             0.5,
             "#f7f7f7"
            ],
            [
             0.6,
             "#e6f5d0"
            ],
            [
             0.7,
             "#b8e186"
            ],
            [
             0.8,
             "#7fbc41"
            ],
            [
             0.9,
             "#4d9221"
            ],
            [
             1,
             "#276419"
            ]
           ],
           "sequential": [
            [
             0,
             "#0d0887"
            ],
            [
             0.1111111111111111,
             "#46039f"
            ],
            [
             0.2222222222222222,
             "#7201a8"
            ],
            [
             0.3333333333333333,
             "#9c179e"
            ],
            [
             0.4444444444444444,
             "#bd3786"
            ],
            [
             0.5555555555555556,
             "#d8576b"
            ],
            [
             0.6666666666666666,
             "#ed7953"
            ],
            [
             0.7777777777777778,
             "#fb9f3a"
            ],
            [
             0.8888888888888888,
             "#fdca26"
            ],
            [
             1,
             "#f0f921"
            ]
           ],
           "sequentialminus": [
            [
             0,
             "#0d0887"
            ],
            [
             0.1111111111111111,
             "#46039f"
            ],
            [
             0.2222222222222222,
             "#7201a8"
            ],
            [
             0.3333333333333333,
             "#9c179e"
            ],
            [
             0.4444444444444444,
             "#bd3786"
            ],
            [
             0.5555555555555556,
             "#d8576b"
            ],
            [
             0.6666666666666666,
             "#ed7953"
            ],
            [
             0.7777777777777778,
             "#fb9f3a"
            ],
            [
             0.8888888888888888,
             "#fdca26"
            ],
            [
             1,
             "#f0f921"
            ]
           ]
          },
          "colorway": [
           "#636efa",
           "#EF553B",
           "#00cc96",
           "#ab63fa",
           "#FFA15A",
           "#19d3f3",
           "#FF6692",
           "#B6E880",
           "#FF97FF",
           "#FECB52"
          ],
          "font": {
           "color": "#2a3f5f"
          },
          "geo": {
           "bgcolor": "white",
           "lakecolor": "white",
           "landcolor": "#E5ECF6",
           "showlakes": true,
           "showland": true,
           "subunitcolor": "white"
          },
          "hoverlabel": {
           "align": "left"
          },
          "hovermode": "closest",
          "mapbox": {
           "style": "light"
          },
          "paper_bgcolor": "white",
          "plot_bgcolor": "#E5ECF6",
          "polar": {
           "angularaxis": {
            "gridcolor": "white",
            "linecolor": "white",
            "ticks": ""
           },
           "bgcolor": "#E5ECF6",
           "radialaxis": {
            "gridcolor": "white",
            "linecolor": "white",
            "ticks": ""
           }
          },
          "scene": {
           "xaxis": {
            "backgroundcolor": "#E5ECF6",
            "gridcolor": "white",
            "gridwidth": 2,
            "linecolor": "white",
            "showbackground": true,
            "ticks": "",
            "zerolinecolor": "white"
           },
           "yaxis": {
            "backgroundcolor": "#E5ECF6",
            "gridcolor": "white",
            "gridwidth": 2,
            "linecolor": "white",
            "showbackground": true,
            "ticks": "",
            "zerolinecolor": "white"
           },
           "zaxis": {
            "backgroundcolor": "#E5ECF6",
            "gridcolor": "white",
            "gridwidth": 2,
            "linecolor": "white",
            "showbackground": true,
            "ticks": "",
            "zerolinecolor": "white"
           }
          },
          "shapedefaults": {
           "line": {
            "color": "#2a3f5f"
           }
          },
          "ternary": {
           "aaxis": {
            "gridcolor": "white",
            "linecolor": "white",
            "ticks": ""
           },
           "baxis": {
            "gridcolor": "white",
            "linecolor": "white",
            "ticks": ""
           },
           "bgcolor": "#E5ECF6",
           "caxis": {
            "gridcolor": "white",
            "linecolor": "white",
            "ticks": ""
           }
          },
          "title": {
           "x": 0.05
          },
          "xaxis": {
           "automargin": true,
           "gridcolor": "white",
           "linecolor": "white",
           "ticks": "",
           "title": {
            "standoff": 15
           },
           "zerolinecolor": "white",
           "zerolinewidth": 2
          },
          "yaxis": {
           "automargin": true,
           "gridcolor": "white",
           "linecolor": "white",
           "ticks": "",
           "title": {
            "standoff": 15
           },
           "zerolinecolor": "white",
           "zerolinewidth": 2
          }
         }
        },
        "xaxis": {
         "range": [
          0,
          0.8126749830057103
         ],
         "tickformat": ".2",
         "title": {
          "text": "SR: equal weights"
         }
        },
        "yaxis": {
         "range": [
          0,
          0.8126749830057103
         ],
         "tickformat": ".2",
         "title": {
          "text": "SR: estimate standard deviations only"
         }
        }
       }
      }
     },
     "metadata": {},
     "output_type": "display_data"
    }
   ],
   "source": [
    "figplot('ew','est_all')\n",
    "figplot('ew','est_cov')\n",
    "figplot('ew','est_sds')"
   ]
  },
  {
   "cell_type": "code",
   "execution_count": 48,
   "metadata": {},
   "outputs": [
    {
     "data": {
      "application/vnd.plotly.v1+json": {
       "config": {
        "plotlyServerURL": "https://plot.ly"
       },
       "data": [
        {
         "histnorm": "percent",
         "hovertemplate": "This bin contains %{y:0.3}% of simulations <br>Average difference in SRs across all simulations: 0.047 <br>'equal weights' outperforms 'estimate all inputs' in 79% of all simulations<br><extra></extra>",
         "marker": {
          "line": {
           "color": "black",
           "width": 1
          }
         },
         "type": "histogram",
         "x": [
          0.16814913132506729,
          -0.059189296787875684,
          0.16085112739223567,
          0.05780314538444303,
          0.025471825449414367,
          0.004366479757982766,
          0.11324016309201687,
          0.1310794424871474,
          0.1047175945384724,
          -0.05611743027497823,
          0.09228135557341513,
          0.1583848941641583,
          -0.034758427142019516,
          0.04957756275385872,
          -0.1370302546827475,
          0.02549616242864139,
          0.16803736362588445,
          0.12603879385589126,
          -0.037284221324705547,
          0.06223698322859855,
          -0.033996241716206466,
          0.060593485944093924,
          0.1687889700187774,
          0.09454180492655523,
          0.11320329308735338,
          0.05772334346385344,
          0.09352243256591797,
          0.10198815053007312,
          -0.0005393862160604779,
          0.019226158479919847,
          -0.013806927422978121,
          0.05434393283847566,
          0.1545952087077421,
          -0.0385322293509051,
          0.12884387860605315,
          0.07047133355967888,
          0.005797148846933041,
          0.1292301342635393,
          0.02232187661289814,
          0.06826102662543615,
          0.017197029346338932,
          0.024828340101291757,
          -0.18087586621345103,
          0.044178856372439984,
          0.06339202475379188,
          -0.006400476675409772,
          0.09610017675499255,
          -0.02877048186465995,
          0.0565245507814672,
          0.06245207274605721,
          0.09623146383655162,
          0.021933290443762077,
          0.0956049700050938,
          0.09859690395747786,
          0.02051769041903742,
          0.04285681600584518,
          0.0827921357571968,
          -0.00048660273698505896,
          0.06109565701362729,
          0.08855880204042099,
          -0.09164978732874118,
          0.1683097978261634,
          0.1598848268626818,
          -0.10122332119153092,
          0.13228815156605161,
          0.021527953689527368,
          0.0822861162307297,
          0.18656030918651362,
          0.05884979397808318,
          0.019628959492972692,
          -0.05264082810523946,
          0.07520775152227463,
          0.0553613274747663,
          0.062479892857002395,
          0.034381944642716294,
          0.030893713980726822,
          0.06660743687346132,
          0.06797263682150745,
          -0.16186865489405317,
          0.10060338671906857,
          -0.012561658984583696,
          0.03414963333958643,
          0.06000212165405583,
          0.07925085383212065,
          -0.05685238238621615,
          0.05064832891197049,
          0.14360057116309222,
          0.022998287393073302,
          0.03739858793047707,
          0.008442048981921135,
          0.03999830836605306,
          0.04595642482134485,
          0.0396735503421185,
          0.048042855493049,
          0.06070464143964516,
          -0.10820151451571436,
          0.037571450664895034,
          0.07510686399912221,
          0.08573103929956725,
          0.040714840365060984,
          0.06515145159482857,
          0.07076278341504816,
          0.03536800267906942,
          0.053869702212032355,
          -0.0006896398745710464,
          0.05379196663454555,
          -0.15843832317723638,
          0.05975441266263448,
          0.023270023042813115,
          0.12823625305333153,
          0.11715173382255663,
          0.04214421999763934,
          0.024478440380912448,
          -0.04472521607245496,
          0.06735619919740525,
          -0.01952765444996435,
          -0.0012118292614513582,
          -0.06995144064435509,
          -0.010309394493731694,
          0.132102232517901,
          0.09958206941934858,
          0.02597583795123043,
          0.0584254488866634,
          0.05569829557719974,
          0.24027396710236043,
          -0.021065744494450228,
          0.060098984742838035,
          -0.012674348423638793,
          0.03407355895703168,
          -0.033982220793853046,
          0.08471358724770017,
          0.05298857258841061,
          0.09971927013934706,
          -0.14095319623074432,
          0.22948045703667247,
          0.17590641850528552,
          0.08158280636340912,
          0.003563492088419551,
          0.09296998961268746,
          0.20026354874136773,
          0.10483119324909636,
          0.08813110606828935,
          0.06778991764085071,
          0.13903594772623293,
          0.11669364387142064,
          -0.05202778632771365,
          0.03389271474147593,
          0.047381526749535774,
          0.08041389826020212,
          0.10983828371408927,
          0.10403514365734262,
          0.11378051288797011,
          0.04784982049336439,
          0.026566530378681952,
          0.012967559391667383,
          0.1773321712277806,
          0.017999947602811373,
          0.13773464791441647,
          0.060010677110027555,
          0.0686626282268481,
          0.05964404809455465,
          0.10291853529673534,
          0.07459136067593414,
          -0.0018875659423103208,
          0.012816664652035993,
          0.10062832286117962,
          -0.027857714292146285,
          0.1493851286451853,
          -0.005338282505830044,
          -0.01957074455132385,
          0.07984156620568603,
          0.07615434157505174,
          0.018460472924136995,
          0.07072914559212523,
          0.01609058518645065,
          0.21043383306427493,
          0.07282120480139997,
          -0.018412231482312302,
          0.02182779414629546,
          0.09472318903756002,
          0.10232289881232635,
          0.011603396073203709,
          -0.03452459248224424,
          0.04690897428503871,
          0.0962451011252734,
          0.01009825328754832,
          0.005238946726260074,
          0.027192287023265038,
          0.12586015694154512,
          0.16365164923685793,
          0.045240532229805064,
          0.05586768811477727,
          -0.047141788918229635,
          0.07292441732304002,
          -0.023265594188592198,
          0.023275473782035965,
          0.1270045564820976,
          0.05251247558431474,
          0.027077322962853784,
          0.10986650498125775,
          0.03647302978483358,
          -0.036736067040507914,
          -0.0631425383598262,
          0.06310108417504222,
          -0.22972380939310355,
          -0.20722491260761394,
          0.0424076166220953,
          0.08523805364484818,
          0.09065384099772289,
          0.1506202806756904,
          0.11937360323797613,
          0.08133571726396766,
          0.0020935981278055182,
          0.07195866921682359,
          -0.017404096779694456,
          0.043124757408778386,
          -0.07465661244856808,
          0.041581471365864875,
          0.023385834318903266,
          0.14980460694061432,
          0.02564796904276405,
          -0.08021345762223604,
          0.06606144195365762,
          0.01098357906366848,
          0.16512620351418295,
          0.10636376104865833,
          0.14490319450462327,
          0.07331777314996524,
          0.06261864550627388,
          0.06305205289661919,
          0.026382509462957338,
          0.03571638839695657,
          0.06387928707986348,
          0.1166139586988055,
          0.11840132423935301,
          0.013490097284559355,
          -0.016134359217643696,
          -0.0014724767159619567,
          0.20764089030356456,
          0.08370007239523586,
          -0.02075171919831431,
          0.09516381882166147,
          0.14247715974505024,
          0.05940230334821722,
          0.006083695241632103,
          -0.00005367910181836022,
          0.04071733264554546,
          0.030135170612369467,
          0.09453365268919961,
          -0.026069998068154437,
          0.08893993258228025,
          0.02465625638750084,
          -0.05409026928875155,
          0.020067398617289803,
          0.017202000410990487,
          0.005700069922806195,
          0.005407021226820297,
          0.13284951056328742,
          0.056293896205106025,
          -0.02620882883705289,
          0.06986714301724961,
          0.006569182848083575,
          0.16433811664229878,
          0.0787536860985821,
          0.05816926969526598,
          -0.08313690158884884,
          0.07228624871173381,
          -0.009845587697190017,
          0.15897090796587765,
          0.09276404947387396,
          -0.025001947867814546,
          0.09225396554248913,
          -0.2044298947773396,
          0.1988677507278811,
          0.07332446874187962,
          0.18309134876283145,
          0.15611892941133773,
          -0.04491959011567126,
          0.0359958191539084,
          0.0016773304290444158,
          0.10895340379050712,
          0.017902225824051765,
          0.11630158553341147,
          0.10573248113599124,
          0.105189820531161,
          0.03586804589520359,
          0.037267142172334344,
          0.04385694503653975,
          0.020219265130371866,
          0.08937065457705418,
          0.19782907476481076,
          0.16155533041453782,
          0.06602428438725327,
          0.0609982839455433,
          0.05744657716319701,
          0.08630968577647524,
          0.11064860772455742,
          0.1062394386062363,
          0.0983210344614564,
          0.07815417851682518,
          -0.10472560627462807,
          0.06421696698914459,
          -0.2669840827049677,
          -0.08279169519112348,
          -0.055859467681892205,
          -0.04583723687727699,
          0.10721961836134841,
          -0.0007549432131173095,
          0.06059525247991379,
          -0.08878814084423048,
          0.05781870372744913,
          0.07183609659419857,
          0.16571046621788055,
          0.0447163320283199,
          0.0669796404022405,
          -0.009372486812504799,
          0.07823097734754092,
          0.005341832090787868,
          0.042966083684117584,
          0.025251300156464845,
          0.04082127986039815,
          0.04789080912426158,
          0.056390621577487476,
          0.11657023663286126,
          -0.061772603383827784,
          -0.14060828609433165,
          0.09822896602140294,
          0.08162032347545917,
          0.09012408292407043,
          -0.05865494752344354,
          -0.018914550404695002,
          0.03513468569023932,
          0.07933799162285288,
          0.11421208785201407,
          0.006373976730824432,
          0.05512021695390734,
          0.08794530476662599,
          0.14052693576693745,
          0.028916613224791998,
          0.05388910355997312,
          0.06497427715528609,
          -0.08268972163830807,
          -0.05475203174598259,
          -0.060689482692072305,
          0.10417122909454207,
          0.030189194587719403,
          0.11012487120914388,
          0.0916893564232103,
          0.11043670576075676,
          0.03195892173063897,
          0.08443174538667424,
          0.029892734022669565,
          0.07713069945559878,
          0.12653305728237452,
          0.039969040687421326,
          0.17332323011237552,
          0.24007902399199604,
          0.09179152169289537,
          0.06804338821199629,
          -0.32973963700380016,
          0.07943331639003626,
          -0.024348096406079767,
          0.0009471496444505845,
          0.1562686860504867,
          0.017281767809753712,
          -0.020037833645683345,
          0.010992480198891263,
          0.012045080691939103,
          0.0622443083632489,
          -0.10399748656430752,
          0.06115588019868662,
          0.03981199386415801,
          0.057790174571494046,
          0.11647640112284754,
          -0.03922626354592679,
          0.1422694380825434,
          -0.05374892097917178,
          -0.004081857313316228,
          0.08294286309343991,
          0.017122368200978122,
          -0.015243694597380092,
          0.12558056589749036,
          0.03990232064487825,
          0.010350346093979335,
          0.035478957856104415,
          -0.008182093588277817,
          -0.07743361731091833,
          -0.2827616869840065,
          0.2355921334737625,
          0.11011197806571987,
          0.042097519023620536,
          -0.0732954807484229,
          0.0094522376744679,
          0.05219562839759102,
          0.09998377357293098,
          -0.02858660871577129,
          0.04280847031681545,
          -0.0978715040648562,
          0.0117820209897746,
          0.07575862443909204,
          -0.07804531585132589,
          0.030954092622612575,
          0.12286578533032412,
          0.011888884046896087,
          -0.03750274830495737,
          0.08522229820021593,
          -0.0026976029905638743,
          0.1474706583642474,
          0.05991418869321452,
          -0.00976510021912247,
          0.06248958283671574,
          0.11302539202191791,
          0.03931367518905182,
          0.04370837547820243,
          0.07353984894256682,
          0.16038764007960338,
          0.17666041304830982,
          0.09177346596256158,
          0.09653970235587017,
          0.16944913698551126,
          0.0006190516563535642,
          0.07992767159937096,
          0.023473930287026948,
          0.022543907618582493,
          -0.047109777285932075,
          -0.025400537115391336,
          -0.08226021129500916,
          0.045795488688848876,
          0.03444904652862418,
          0.08309697386160603,
          0.09886276013988154,
          0.04551368078701888,
          0.03651996065962759,
          -0.02693319060849131,
          0.0655465863710652,
          0.012126462266952742,
          0.13631975115668443,
          -0.1043614317138401,
          0.09663276829286171,
          0.07238336552709289,
          0.07200526910894053,
          0.09033186564879914,
          0.020335749721745733,
          0.15786530309580477,
          0.009267565857792814,
          0.1375003835487033,
          0.06852033334898058,
          0.03990720966121669,
          0.09858457116931993,
          0.05287659811006806,
          0.0874941922415598,
          0.0916078219987224,
          0.04703687896098485,
          0.06332972220568069,
          0.12458642034297371,
          0.07616907601709556,
          0.12654661347316107,
          0.09595217005028925,
          -0.01370932056633023,
          0.18295613394368176,
          0.032190431722479484,
          0.08588262237353558,
          -0.07503092646796017,
          0.11896134825552968,
          0.025847885680523514,
          0.028921768733872893,
          0.10719627220137617,
          0.06859564989025499,
          0.11326051889644828,
          0.008391894600809094,
          -0.11019299575906066,
          0.04618448735656422,
          0.11634141424485678,
          -0.009626784265184554,
          0.021178547377863816,
          0.021267503037356937,
          0.024696615048356574,
          0.067912143771451,
          0.3002074679842251,
          -0.07762120114349538,
          0.021491833607050564,
          0.10836693147784687,
          0.06331427846735926,
          0.06584215909141497,
          -0.07878080257990133,
          0.006723404656265801,
          0.05168664495987002,
          0.050729508716434224,
          0.0019949275169105496,
          -0.03189062175728691,
          0.08681019797113362,
          -0.04368735985179986,
          0.0688440855987652,
          0.1226425514750129,
          0.004853708586948113,
          0.06450871432102528,
          0.11249473577990152,
          0.1485854097665129,
          0.08121191386704732,
          0.046406851832830186
         ]
        }
       ],
       "layout": {
        "legend": {
         "x": 0.01,
         "xanchor": "left",
         "y": 0.99,
         "yanchor": "top"
        },
        "template": {
         "data": {
          "bar": [
           {
            "error_x": {
             "color": "#2a3f5f"
            },
            "error_y": {
             "color": "#2a3f5f"
            },
            "marker": {
             "line": {
              "color": "#E5ECF6",
              "width": 0.5
             },
             "pattern": {
              "fillmode": "overlay",
              "size": 10,
              "solidity": 0.2
             }
            },
            "type": "bar"
           }
          ],
          "barpolar": [
           {
            "marker": {
             "line": {
              "color": "#E5ECF6",
              "width": 0.5
             },
             "pattern": {
              "fillmode": "overlay",
              "size": 10,
              "solidity": 0.2
             }
            },
            "type": "barpolar"
           }
          ],
          "carpet": [
           {
            "aaxis": {
             "endlinecolor": "#2a3f5f",
             "gridcolor": "white",
             "linecolor": "white",
             "minorgridcolor": "white",
             "startlinecolor": "#2a3f5f"
            },
            "baxis": {
             "endlinecolor": "#2a3f5f",
             "gridcolor": "white",
             "linecolor": "white",
             "minorgridcolor": "white",
             "startlinecolor": "#2a3f5f"
            },
            "type": "carpet"
           }
          ],
          "choropleth": [
           {
            "colorbar": {
             "outlinewidth": 0,
             "ticks": ""
            },
            "type": "choropleth"
           }
          ],
          "contour": [
           {
            "colorbar": {
             "outlinewidth": 0,
             "ticks": ""
            },
            "colorscale": [
             [
              0,
              "#0d0887"
             ],
             [
              0.1111111111111111,
              "#46039f"
             ],
             [
              0.2222222222222222,
              "#7201a8"
             ],
             [
              0.3333333333333333,
              "#9c179e"
             ],
             [
              0.4444444444444444,
              "#bd3786"
             ],
             [
              0.5555555555555556,
              "#d8576b"
             ],
             [
              0.6666666666666666,
              "#ed7953"
             ],
             [
              0.7777777777777778,
              "#fb9f3a"
             ],
             [
              0.8888888888888888,
              "#fdca26"
             ],
             [
              1,
              "#f0f921"
             ]
            ],
            "type": "contour"
           }
          ],
          "contourcarpet": [
           {
            "colorbar": {
             "outlinewidth": 0,
             "ticks": ""
            },
            "type": "contourcarpet"
           }
          ],
          "heatmap": [
           {
            "colorbar": {
             "outlinewidth": 0,
             "ticks": ""
            },
            "colorscale": [
             [
              0,
              "#0d0887"
             ],
             [
              0.1111111111111111,
              "#46039f"
             ],
             [
              0.2222222222222222,
              "#7201a8"
             ],
             [
              0.3333333333333333,
              "#9c179e"
             ],
             [
              0.4444444444444444,
              "#bd3786"
             ],
             [
              0.5555555555555556,
              "#d8576b"
             ],
             [
              0.6666666666666666,
              "#ed7953"
             ],
             [
              0.7777777777777778,
              "#fb9f3a"
             ],
             [
              0.8888888888888888,
              "#fdca26"
             ],
             [
              1,
              "#f0f921"
             ]
            ],
            "type": "heatmap"
           }
          ],
          "heatmapgl": [
           {
            "colorbar": {
             "outlinewidth": 0,
             "ticks": ""
            },
            "colorscale": [
             [
              0,
              "#0d0887"
             ],
             [
              0.1111111111111111,
              "#46039f"
             ],
             [
              0.2222222222222222,
              "#7201a8"
             ],
             [
              0.3333333333333333,
              "#9c179e"
             ],
             [
              0.4444444444444444,
              "#bd3786"
             ],
             [
              0.5555555555555556,
              "#d8576b"
             ],
             [
              0.6666666666666666,
              "#ed7953"
             ],
             [
              0.7777777777777778,
              "#fb9f3a"
             ],
             [
              0.8888888888888888,
              "#fdca26"
             ],
             [
              1,
              "#f0f921"
             ]
            ],
            "type": "heatmapgl"
           }
          ],
          "histogram": [
           {
            "marker": {
             "pattern": {
              "fillmode": "overlay",
              "size": 10,
              "solidity": 0.2
             }
            },
            "type": "histogram"
           }
          ],
          "histogram2d": [
           {
            "colorbar": {
             "outlinewidth": 0,
             "ticks": ""
            },
            "colorscale": [
             [
              0,
              "#0d0887"
             ],
             [
              0.1111111111111111,
              "#46039f"
             ],
             [
              0.2222222222222222,
              "#7201a8"
             ],
             [
              0.3333333333333333,
              "#9c179e"
             ],
             [
              0.4444444444444444,
              "#bd3786"
             ],
             [
              0.5555555555555556,
              "#d8576b"
             ],
             [
              0.6666666666666666,
              "#ed7953"
             ],
             [
              0.7777777777777778,
              "#fb9f3a"
             ],
             [
              0.8888888888888888,
              "#fdca26"
             ],
             [
              1,
              "#f0f921"
             ]
            ],
            "type": "histogram2d"
           }
          ],
          "histogram2dcontour": [
           {
            "colorbar": {
             "outlinewidth": 0,
             "ticks": ""
            },
            "colorscale": [
             [
              0,
              "#0d0887"
             ],
             [
              0.1111111111111111,
              "#46039f"
             ],
             [
              0.2222222222222222,
              "#7201a8"
             ],
             [
              0.3333333333333333,
              "#9c179e"
             ],
             [
              0.4444444444444444,
              "#bd3786"
             ],
             [
              0.5555555555555556,
              "#d8576b"
             ],
             [
              0.6666666666666666,
              "#ed7953"
             ],
             [
              0.7777777777777778,
              "#fb9f3a"
             ],
             [
              0.8888888888888888,
              "#fdca26"
             ],
             [
              1,
              "#f0f921"
             ]
            ],
            "type": "histogram2dcontour"
           }
          ],
          "mesh3d": [
           {
            "colorbar": {
             "outlinewidth": 0,
             "ticks": ""
            },
            "type": "mesh3d"
           }
          ],
          "parcoords": [
           {
            "line": {
             "colorbar": {
              "outlinewidth": 0,
              "ticks": ""
             }
            },
            "type": "parcoords"
           }
          ],
          "pie": [
           {
            "automargin": true,
            "type": "pie"
           }
          ],
          "scatter": [
           {
            "fillpattern": {
             "fillmode": "overlay",
             "size": 10,
             "solidity": 0.2
            },
            "type": "scatter"
           }
          ],
          "scatter3d": [
           {
            "line": {
             "colorbar": {
              "outlinewidth": 0,
              "ticks": ""
             }
            },
            "marker": {
             "colorbar": {
              "outlinewidth": 0,
              "ticks": ""
             }
            },
            "type": "scatter3d"
           }
          ],
          "scattercarpet": [
           {
            "marker": {
             "colorbar": {
              "outlinewidth": 0,
              "ticks": ""
             }
            },
            "type": "scattercarpet"
           }
          ],
          "scattergeo": [
           {
            "marker": {
             "colorbar": {
              "outlinewidth": 0,
              "ticks": ""
             }
            },
            "type": "scattergeo"
           }
          ],
          "scattergl": [
           {
            "marker": {
             "colorbar": {
              "outlinewidth": 0,
              "ticks": ""
             }
            },
            "type": "scattergl"
           }
          ],
          "scattermapbox": [
           {
            "marker": {
             "colorbar": {
              "outlinewidth": 0,
              "ticks": ""
             }
            },
            "type": "scattermapbox"
           }
          ],
          "scatterpolar": [
           {
            "marker": {
             "colorbar": {
              "outlinewidth": 0,
              "ticks": ""
             }
            },
            "type": "scatterpolar"
           }
          ],
          "scatterpolargl": [
           {
            "marker": {
             "colorbar": {
              "outlinewidth": 0,
              "ticks": ""
             }
            },
            "type": "scatterpolargl"
           }
          ],
          "scatterternary": [
           {
            "marker": {
             "colorbar": {
              "outlinewidth": 0,
              "ticks": ""
             }
            },
            "type": "scatterternary"
           }
          ],
          "surface": [
           {
            "colorbar": {
             "outlinewidth": 0,
             "ticks": ""
            },
            "colorscale": [
             [
              0,
              "#0d0887"
             ],
             [
              0.1111111111111111,
              "#46039f"
             ],
             [
              0.2222222222222222,
              "#7201a8"
             ],
             [
              0.3333333333333333,
              "#9c179e"
             ],
             [
              0.4444444444444444,
              "#bd3786"
             ],
             [
              0.5555555555555556,
              "#d8576b"
             ],
             [
              0.6666666666666666,
              "#ed7953"
             ],
             [
              0.7777777777777778,
              "#fb9f3a"
             ],
             [
              0.8888888888888888,
              "#fdca26"
             ],
             [
              1,
              "#f0f921"
             ]
            ],
            "type": "surface"
           }
          ],
          "table": [
           {
            "cells": {
             "fill": {
              "color": "#EBF0F8"
             },
             "line": {
              "color": "white"
             }
            },
            "header": {
             "fill": {
              "color": "#C8D4E3"
             },
             "line": {
              "color": "white"
             }
            },
            "type": "table"
           }
          ]
         },
         "layout": {
          "annotationdefaults": {
           "arrowcolor": "#2a3f5f",
           "arrowhead": 0,
           "arrowwidth": 1
          },
          "autotypenumbers": "strict",
          "coloraxis": {
           "colorbar": {
            "outlinewidth": 0,
            "ticks": ""
           }
          },
          "colorscale": {
           "diverging": [
            [
             0,
             "#8e0152"
            ],
            [
             0.1,
             "#c51b7d"
            ],
            [
             0.2,
             "#de77ae"
            ],
            [
             0.3,
             "#f1b6da"
            ],
            [
             0.4,
             "#fde0ef"
            ],
            [
             0.5,
             "#f7f7f7"
            ],
            [
             0.6,
             "#e6f5d0"
            ],
            [
             0.7,
             "#b8e186"
            ],
            [
             0.8,
             "#7fbc41"
            ],
            [
             0.9,
             "#4d9221"
            ],
            [
             1,
             "#276419"
            ]
           ],
           "sequential": [
            [
             0,
             "#0d0887"
            ],
            [
             0.1111111111111111,
             "#46039f"
            ],
            [
             0.2222222222222222,
             "#7201a8"
            ],
            [
             0.3333333333333333,
             "#9c179e"
            ],
            [
             0.4444444444444444,
             "#bd3786"
            ],
            [
             0.5555555555555556,
             "#d8576b"
            ],
            [
             0.6666666666666666,
             "#ed7953"
            ],
            [
             0.7777777777777778,
             "#fb9f3a"
            ],
            [
             0.8888888888888888,
             "#fdca26"
            ],
            [
             1,
             "#f0f921"
            ]
           ],
           "sequentialminus": [
            [
             0,
             "#0d0887"
            ],
            [
             0.1111111111111111,
             "#46039f"
            ],
            [
             0.2222222222222222,
             "#7201a8"
            ],
            [
             0.3333333333333333,
             "#9c179e"
            ],
            [
             0.4444444444444444,
             "#bd3786"
            ],
            [
             0.5555555555555556,
             "#d8576b"
            ],
            [
             0.6666666666666666,
             "#ed7953"
            ],
            [
             0.7777777777777778,
             "#fb9f3a"
            ],
            [
             0.8888888888888888,
             "#fdca26"
            ],
            [
             1,
             "#f0f921"
            ]
           ]
          },
          "colorway": [
           "#636efa",
           "#EF553B",
           "#00cc96",
           "#ab63fa",
           "#FFA15A",
           "#19d3f3",
           "#FF6692",
           "#B6E880",
           "#FF97FF",
           "#FECB52"
          ],
          "font": {
           "color": "#2a3f5f"
          },
          "geo": {
           "bgcolor": "white",
           "lakecolor": "white",
           "landcolor": "#E5ECF6",
           "showlakes": true,
           "showland": true,
           "subunitcolor": "white"
          },
          "hoverlabel": {
           "align": "left"
          },
          "hovermode": "closest",
          "mapbox": {
           "style": "light"
          },
          "paper_bgcolor": "white",
          "plot_bgcolor": "#E5ECF6",
          "polar": {
           "angularaxis": {
            "gridcolor": "white",
            "linecolor": "white",
            "ticks": ""
           },
           "bgcolor": "#E5ECF6",
           "radialaxis": {
            "gridcolor": "white",
            "linecolor": "white",
            "ticks": ""
           }
          },
          "scene": {
           "xaxis": {
            "backgroundcolor": "#E5ECF6",
            "gridcolor": "white",
            "gridwidth": 2,
            "linecolor": "white",
            "showbackground": true,
            "ticks": "",
            "zerolinecolor": "white"
           },
           "yaxis": {
            "backgroundcolor": "#E5ECF6",
            "gridcolor": "white",
            "gridwidth": 2,
            "linecolor": "white",
            "showbackground": true,
            "ticks": "",
            "zerolinecolor": "white"
           },
           "zaxis": {
            "backgroundcolor": "#E5ECF6",
            "gridcolor": "white",
            "gridwidth": 2,
            "linecolor": "white",
            "showbackground": true,
            "ticks": "",
            "zerolinecolor": "white"
           }
          },
          "shapedefaults": {
           "line": {
            "color": "#2a3f5f"
           }
          },
          "ternary": {
           "aaxis": {
            "gridcolor": "white",
            "linecolor": "white",
            "ticks": ""
           },
           "baxis": {
            "gridcolor": "white",
            "linecolor": "white",
            "ticks": ""
           },
           "bgcolor": "#E5ECF6",
           "caxis": {
            "gridcolor": "white",
            "linecolor": "white",
            "ticks": ""
           }
          },
          "title": {
           "x": 0.05
          },
          "xaxis": {
           "automargin": true,
           "gridcolor": "white",
           "linecolor": "white",
           "ticks": "",
           "title": {
            "standoff": 15
           },
           "zerolinecolor": "white",
           "zerolinewidth": 2
          },
          "yaxis": {
           "automargin": true,
           "gridcolor": "white",
           "linecolor": "white",
           "ticks": "",
           "title": {
            "standoff": 15
           },
           "zerolinecolor": "white",
           "zerolinewidth": 2
          }
         }
        },
        "xaxis": {
         "range": [
          -0.4643857045746915,
          0.4643857045746915
         ],
         "title": {
          "text": "Difference in SRs: 'equal weights' minus 'estimate all inputs'"
         }
        },
        "yaxis": {
         "tickformat": ".2",
         "title": {
          "text": "Percent of Simulations"
         }
        }
       }
      }
     },
     "metadata": {},
     "output_type": "display_data"
    },
    {
     "data": {
      "application/vnd.plotly.v1+json": {
       "config": {
        "plotlyServerURL": "https://plot.ly"
       },
       "data": [
        {
         "histnorm": "percent",
         "hovertemplate": "This bin contains %{y:0.3}% of simulations <br>Average difference in SRs across all simulations: 0.046 <br>'equal weights' outperforms 'estimate covariance matrix only' in 76% of all simulations<br><extra></extra>",
         "marker": {
          "line": {
           "color": "black",
           "width": 1
          }
         },
         "type": "histogram",
         "x": [
          0.038393330647042256,
          -0.02810245969028849,
          0.13659616924216128,
          -0.03881928158840078,
          -0.02384425862084223,
          0.039069099333750607,
          -0.0016500906326988047,
          0.05426130229424947,
          0.12038035805181507,
          -0.06145220591181294,
          0.03394384365973127,
          0.14645975668920436,
          0.08455821232180763,
          0.07319157108781721,
          0.07673510255342769,
          0.008919019888825264,
          0.0426621853320335,
          0.05627043302392126,
          0.16886891847407248,
          0.03144624662077,
          -0.0395375818064021,
          0.08707743645775257,
          0.034697804227346835,
          0.08434873849527835,
          0.21198666714534065,
          -0.037031396000878736,
          -0.019732249083922127,
          0.10591868288807564,
          0.07408139191065871,
          0.1422720873892488,
          0.0060531610451700635,
          0.014572306054249862,
          0.0017216754884056273,
          -0.0805795433608381,
          0.06070700150039737,
          0.04050969565949453,
          0.09619965565918112,
          0.15785626748313744,
          -0.040945739387391156,
          0.06199716530085242,
          -0.0008320595923841934,
          0.08060316413366986,
          0.055863425021822316,
          0.06620371179201381,
          0.11902783916470709,
          -0.04708490433219681,
          0.08321569859159511,
          0.03846929883221185,
          0.0498150579941512,
          -0.011006207824883207,
          0.016356630455250987,
          0.23110304043004387,
          0.04086897738971343,
          0.1632078933636418,
          0.14539413257428824,
          0.07909735892430364,
          0.04822662420862975,
          0.24824834446435565,
          0.15179451601193683,
          0.011315466890396753,
          0.12579128520532873,
          0.11222942952943862,
          0.07902529750022524,
          -0.02007880263385811,
          0.0510755305846817,
          0.025623751577068365,
          0.08204869459406591,
          -0.008493391178047205,
          0.009035625298184129,
          0.15687318686010288,
          0.05471016818352148,
          -0.09779600140485135,
          0.13114426231123322,
          0.028664063365236025,
          -0.05760809924803262,
          0.05891766552360265,
          0.07876868328045411,
          0.19905325703244525,
          0.02890685928359947,
          0.17767586221005602,
          -0.1517085646526831,
          -0.009214948003632484,
          0.10948314652925001,
          0.05863218924599908,
          0.027202885536180055,
          -0.006353814451544454,
          0.0771622053864684,
          0.03880802993176635,
          0.052632282596634716,
          -0.061637115721757896,
          0.07310000516739246,
          0.02095213248548955,
          -0.10098168310483174,
          0.007265375528506007,
          0.030725358659852098,
          0.05823871048867105,
          0.010406068554622672,
          -0.023309750384556946,
          -0.008089280503794243,
          0.058864580660209415,
          -0.2118788151696036,
          0.029765793990874256,
          0.050042502284536605,
          0.13763501857427346,
          -0.036736084132119595,
          -0.02150360886852637,
          0.037681901848994726,
          -0.07768585484260265,
          -0.02520669539037193,
          0.08551371517469006,
          0.0014210923663909858,
          0.08748509679847405,
          -0.026900756334447787,
          -0.04976347679233531,
          -0.015814577868716984,
          -0.016626400291268467,
          0.052015583766000295,
          -0.005812372038300246,
          0.11691055883037771,
          0.09476080183022959,
          -0.0055016851372228885,
          0.15521089337150812,
          0.009292008169131005,
          0.12178142580251117,
          0.10853277952714946,
          -0.019209755443130888,
          0.033868357222571255,
          0.08391626274099057,
          0.04748639421724876,
          0.19500872062556052,
          0.08426652588588618,
          0.03171305618143022,
          0.010582823901082228,
          -0.1416224958629705,
          0.09600067197093987,
          0.12658486669054703,
          -0.05527411096508142,
          0.006020522881016677,
          0.029563177358307602,
          0.1830662496503721,
          0.00612420867721053,
          0.055158581803032486,
          0.04163446434389739,
          -0.026114423028362338,
          0.11337032161138721,
          0.10095096184650862,
          0.03360145368287787,
          -0.02341870521158021,
          0.028910414362187165,
          -0.023622844936002946,
          0.04451402315089725,
          0.09677542572561407,
          0.10517094247675207,
          0.032577034710391084,
          0.08731329891292905,
          0.009857407182852718,
          -0.04432566157019957,
          0.011756066846136504,
          0.1488354534471335,
          0.01566703509987405,
          0.016730515843943833,
          0.08231123790985129,
          -0.012164793607020247,
          0.22312067555777934,
          -0.04104671233521562,
          0.006834583329514754,
          0.09852405111931903,
          0.03342872024992288,
          -0.00008247738339886568,
          0.06371773534827296,
          0.011705169890426914,
          0.00468993749566185,
          -0.0353046103065604,
          -0.07128508788777954,
          0.008867323311580827,
          0.054808858334482596,
          0.04447547420458314,
          0.04765053458580426,
          0.09601344452771271,
          0.1149497564255211,
          0.016845987920667757,
          0.08719947308101761,
          -0.0572217559398914,
          -0.11921279468873835,
          -0.03772426279377582,
          -0.048163776104438116,
          0.048772697039828894,
          0.08053419919638627,
          0.013040514824683935,
          -0.00856765120817582,
          0.11115550174982203,
          0.11152143631256567,
          0.05379699387751771,
          0.05129963346847515,
          -0.1347337071933844,
          0.017925780527293985,
          -0.02530405920043244,
          0.04623078693196103,
          0.04899609420705053,
          0.15001841016858689,
          -0.0213318643926812,
          0.12540558452790906,
          0.11071250401631777,
          -0.1068185532975926,
          -0.09665083045612478,
          -0.18590653826413545,
          0.06480399038558182,
          0.09054285753713856,
          0.07067475102902959,
          0.08023575077671305,
          0.06059613933726671,
          0.011968307449490179,
          0.004637058439446284,
          0.12572434103931673,
          0.10702367743560523,
          0.08744929399601561,
          0.11984506371724221,
          0.030356380357487917,
          0.018181753185685233,
          0.13848188640873013,
          -0.023935114721936754,
          -0.11335191932172083,
          0.028069430223098046,
          -0.046221557325081375,
          0.09924237056052904,
          0.09978426591240977,
          0.03365001646251671,
          0.007391758202569598,
          -0.01833798544741519,
          0.0011534964019589283,
          0.09901093055902388,
          0.07727300436386689,
          0.04893051075468752,
          0.03759388286292992,
          0.11976355151348811,
          0.08541123585372953,
          0.1411811182598126,
          0.1314157765251712,
          -0.006620195476366664,
          0.11283042295521123,
          0.12837869418255607,
          0.052683132754376,
          -0.06361403155530032,
          0.023729628667785052,
          0.0050403142487114305,
          0.09081306505609321,
          0.057231458278317895,
          0.03517870844249683,
          0.1293222512596287,
          -0.023999013741310082,
          0.0727283738693571,
          -0.06716318110387913,
          -0.0951436541096502,
          0.04914542020755834,
          0.020906826219442343,
          -0.04160161055190176,
          0.10392948562186255,
          -0.05140335550223002,
          0.10146385889338977,
          0.06461681852775897,
          0.09151595799829418,
          0.011193152454314969,
          0.1811116022453967,
          0.034961279459757466,
          -0.013921947773032572,
          -0.12832132660598644,
          0.0823196913508352,
          -0.054402883788290224,
          0.08325066163225511,
          0.021000877819220165,
          0.049936323042837204,
          0.08357486388050017,
          0.09916985856973244,
          0.052134844662797,
          0.13678821471515626,
          -0.006454988013561994,
          0.03532539622301209,
          0.06038965674146124,
          0.0656153405178641,
          -0.019696412117169576,
          0.0479323946015063,
          0.10533263154476967,
          0.02127609685288584,
          -0.01469796019168057,
          0.07751470583216447,
          0.06443756666546174,
          0.13124324385724825,
          0.10853803583190841,
          -0.007671161567864793,
          0.052483188990052776,
          0.07934502904258844,
          0.07429051890722843,
          -0.001987797004977837,
          0.10832074173738182,
          0.02937859281894828,
          0.1876731254828924,
          0.12243648985987365,
          0.009901697208553134,
          0.1475880150043627,
          0.09577142860034499,
          -0.05836263028853206,
          0.1115943502453065,
          0.21823721081869976,
          0.08890156559778595,
          0.1763059965057372,
          -0.016300152343791816,
          0.14497820129561756,
          0.0994833953730731,
          0.05717938767544639,
          0.021628932256414497,
          0.10539980648730837,
          0.13980889720401368,
          0.07537626837737149,
          0.07382137900691504,
          -0.018631377862542098,
          0.16088062046865353,
          0.0917945989595878,
          0.07737040723984945,
          0.11661411070757244,
          0.12599411644545827,
          0.0021119570403294735,
          0.03926242496933319,
          0.07291760837545697,
          0.0011597268216698986,
          0.05379043424294849,
          -0.12882094917295103,
          -0.057877829506209344,
          0.06638182998880748,
          0.04734962494425243,
          -0.0778941337298338,
          0.07768709788080472,
          0.061893800301676544,
          -0.01647354442954796,
          -0.027632640882679305,
          0.01927014120086995,
          0.10191105944438639,
          0.0250082551073674,
          -0.031541619168671486,
          0.03999661821108941,
          0.16458938572849996,
          0.10090363482855041,
          0.05163634699149536,
          0.03434372494383081,
          0.17772496900334972,
          0.17189680783826194,
          0.1172067375168526,
          0.04305283733334303,
          -0.008763353624514802,
          -0.023575496163020238,
          0.08604292273728989,
          0.08744389401920373,
          0.046760605153318924,
          0.00009866671475844413,
          0.07531943739876262,
          0.033252576645222756,
          0.10077533433480507,
          0.1839824810999352,
          0.06627334392562245,
          -0.029686119447433323,
          0.007334999176716414,
          -0.00658474261235048,
          0.14405814501239697,
          0.018373720703396344,
          0.00013976898864626053,
          0.03531878936520083,
          0.1930522329268586,
          0.0466942146086497,
          0.02442931383598787,
          0.04618063937786082,
          0.16315270370486265,
          0.13411458558831468,
          0.011104459730682581,
          0.028722091300904723,
          0.01875245261512698,
          0.01826472579247631,
          0.03967221869790527,
          0.10872572105658326,
          -0.06880748282121069,
          0.07560392860969038,
          0.11432913035522663,
          -0.0261864716058917,
          0.046335906464063964,
          0.09583330435780946,
          0.15108872933937273,
          0.05797032877566641,
          0.1251974664787167,
          0.10410163251200412,
          0.10207132519282983,
          0.15021107823043758,
          0.18212368658643358,
          0.0006516534184660139,
          -0.05325134381199226,
          0.08485484611721217,
          0.017359788651983843,
          0.12825882463442606,
          -0.021858448687141208,
          0.022141165679353092,
          -0.18073325075958033,
          0.010507627086555393,
          0.12824041577717105,
          0.13184838258628556,
          0.0002693593043142234,
          -0.11187353574236221,
          0.07767694251463197,
          -0.0865843808188348,
          0.08104503251356276,
          -0.037753995085513165,
          0.08285300269197396,
          0.040946767712702725,
          -0.1153284039670957,
          -0.009005803609091534,
          0.06988638642505968,
          0.050337751488643445,
          0.08650185682939199,
          0.2001911967648567,
          0.08091077014587889,
          0.12153311372719805,
          0.08661287019355313,
          0.10986836028434299,
          0.0831596070049394,
          -0.08578323359197437,
          -0.007185697596065521,
          0.014903808392575144,
          0.15686933670857922,
          -0.09398700906978713,
          0.02032072162961643,
          -0.008999771009627289,
          0.0211520079060417,
          0.06356158302174963,
          -0.014219265399002978,
          0.11566972316145949,
          -0.006201723002073212,
          0.0004597872282022242,
          -0.023611580801525672,
          -0.03955326286623248,
          0.004493695806808362,
          -0.006790995253438459,
          0.20550374498983598,
          -0.04662425308552609,
          0.058829028951372694,
          0.029100867191142715,
          0.008717615268025503,
          0.14311341161253216,
          0.024747985297048525,
          0.07907247441895188,
          0.11058760706149734,
          0.04745050447574353,
          0.019319167157551498,
          0.16144010525271832,
          0.04276293327157077,
          0.07342717093508039,
          0.020179081972623664,
          -0.004603837365956764,
          -0.006498285382577101,
          0.029399853791102326,
          0.09860365009346517,
          0.0838416949880546,
          0.02357874693874118,
          0.07688522611660284,
          0.04592578998217445,
          0.12696508328056327,
          0.0580435250211169,
          0.07631583726199456,
          0.10854722881459578,
          -0.05816622176472272,
          0.14897910553410748,
          0.018196671610818116,
          0.03700295857270666,
          0.12338505298371574,
          -0.03545222640181897,
          0.14917689958696856,
          0.14799355003011,
          0.09787513022931704,
          0.060222533750100324,
          0.08042489923090207,
          0.010268055622338033,
          -0.018736834247242984,
          -0.0043490079686925864,
          0.16470444875389129,
          -0.08448814811146554,
          -0.008444431088974691,
          0.03964194499377305,
          0.01656377864728925,
          0.06715398845128875,
          0.042725942189283495,
          0.06476696037029588,
          -0.011793846824904863,
          0.05124145153805143,
          0.01927335811986791,
          0.121377892165349,
          0.0788219491505655,
          -0.06717468371299598,
          0.05905932113724721,
          0.18644980817394546,
          0.06997362344599428,
          0.07411625957307144,
          0.07896340105062727,
          -0.0006438275797614468,
          -0.0032983405589802617,
          0.055236070214214276
         ]
        }
       ],
       "layout": {
        "legend": {
         "x": 0.01,
         "xanchor": "left",
         "y": 0.99,
         "yanchor": "top"
        },
        "template": {
         "data": {
          "bar": [
           {
            "error_x": {
             "color": "#2a3f5f"
            },
            "error_y": {
             "color": "#2a3f5f"
            },
            "marker": {
             "line": {
              "color": "#E5ECF6",
              "width": 0.5
             },
             "pattern": {
              "fillmode": "overlay",
              "size": 10,
              "solidity": 0.2
             }
            },
            "type": "bar"
           }
          ],
          "barpolar": [
           {
            "marker": {
             "line": {
              "color": "#E5ECF6",
              "width": 0.5
             },
             "pattern": {
              "fillmode": "overlay",
              "size": 10,
              "solidity": 0.2
             }
            },
            "type": "barpolar"
           }
          ],
          "carpet": [
           {
            "aaxis": {
             "endlinecolor": "#2a3f5f",
             "gridcolor": "white",
             "linecolor": "white",
             "minorgridcolor": "white",
             "startlinecolor": "#2a3f5f"
            },
            "baxis": {
             "endlinecolor": "#2a3f5f",
             "gridcolor": "white",
             "linecolor": "white",
             "minorgridcolor": "white",
             "startlinecolor": "#2a3f5f"
            },
            "type": "carpet"
           }
          ],
          "choropleth": [
           {
            "colorbar": {
             "outlinewidth": 0,
             "ticks": ""
            },
            "type": "choropleth"
           }
          ],
          "contour": [
           {
            "colorbar": {
             "outlinewidth": 0,
             "ticks": ""
            },
            "colorscale": [
             [
              0,
              "#0d0887"
             ],
             [
              0.1111111111111111,
              "#46039f"
             ],
             [
              0.2222222222222222,
              "#7201a8"
             ],
             [
              0.3333333333333333,
              "#9c179e"
             ],
             [
              0.4444444444444444,
              "#bd3786"
             ],
             [
              0.5555555555555556,
              "#d8576b"
             ],
             [
              0.6666666666666666,
              "#ed7953"
             ],
             [
              0.7777777777777778,
              "#fb9f3a"
             ],
             [
              0.8888888888888888,
              "#fdca26"
             ],
             [
              1,
              "#f0f921"
             ]
            ],
            "type": "contour"
           }
          ],
          "contourcarpet": [
           {
            "colorbar": {
             "outlinewidth": 0,
             "ticks": ""
            },
            "type": "contourcarpet"
           }
          ],
          "heatmap": [
           {
            "colorbar": {
             "outlinewidth": 0,
             "ticks": ""
            },
            "colorscale": [
             [
              0,
              "#0d0887"
             ],
             [
              0.1111111111111111,
              "#46039f"
             ],
             [
              0.2222222222222222,
              "#7201a8"
             ],
             [
              0.3333333333333333,
              "#9c179e"
             ],
             [
              0.4444444444444444,
              "#bd3786"
             ],
             [
              0.5555555555555556,
              "#d8576b"
             ],
             [
              0.6666666666666666,
              "#ed7953"
             ],
             [
              0.7777777777777778,
              "#fb9f3a"
             ],
             [
              0.8888888888888888,
              "#fdca26"
             ],
             [
              1,
              "#f0f921"
             ]
            ],
            "type": "heatmap"
           }
          ],
          "heatmapgl": [
           {
            "colorbar": {
             "outlinewidth": 0,
             "ticks": ""
            },
            "colorscale": [
             [
              0,
              "#0d0887"
             ],
             [
              0.1111111111111111,
              "#46039f"
             ],
             [
              0.2222222222222222,
              "#7201a8"
             ],
             [
              0.3333333333333333,
              "#9c179e"
             ],
             [
              0.4444444444444444,
              "#bd3786"
             ],
             [
              0.5555555555555556,
              "#d8576b"
             ],
             [
              0.6666666666666666,
              "#ed7953"
             ],
             [
              0.7777777777777778,
              "#fb9f3a"
             ],
             [
              0.8888888888888888,
              "#fdca26"
             ],
             [
              1,
              "#f0f921"
             ]
            ],
            "type": "heatmapgl"
           }
          ],
          "histogram": [
           {
            "marker": {
             "pattern": {
              "fillmode": "overlay",
              "size": 10,
              "solidity": 0.2
             }
            },
            "type": "histogram"
           }
          ],
          "histogram2d": [
           {
            "colorbar": {
             "outlinewidth": 0,
             "ticks": ""
            },
            "colorscale": [
             [
              0,
              "#0d0887"
             ],
             [
              0.1111111111111111,
              "#46039f"
             ],
             [
              0.2222222222222222,
              "#7201a8"
             ],
             [
              0.3333333333333333,
              "#9c179e"
             ],
             [
              0.4444444444444444,
              "#bd3786"
             ],
             [
              0.5555555555555556,
              "#d8576b"
             ],
             [
              0.6666666666666666,
              "#ed7953"
             ],
             [
              0.7777777777777778,
              "#fb9f3a"
             ],
             [
              0.8888888888888888,
              "#fdca26"
             ],
             [
              1,
              "#f0f921"
             ]
            ],
            "type": "histogram2d"
           }
          ],
          "histogram2dcontour": [
           {
            "colorbar": {
             "outlinewidth": 0,
             "ticks": ""
            },
            "colorscale": [
             [
              0,
              "#0d0887"
             ],
             [
              0.1111111111111111,
              "#46039f"
             ],
             [
              0.2222222222222222,
              "#7201a8"
             ],
             [
              0.3333333333333333,
              "#9c179e"
             ],
             [
              0.4444444444444444,
              "#bd3786"
             ],
             [
              0.5555555555555556,
              "#d8576b"
             ],
             [
              0.6666666666666666,
              "#ed7953"
             ],
             [
              0.7777777777777778,
              "#fb9f3a"
             ],
             [
              0.8888888888888888,
              "#fdca26"
             ],
             [
              1,
              "#f0f921"
             ]
            ],
            "type": "histogram2dcontour"
           }
          ],
          "mesh3d": [
           {
            "colorbar": {
             "outlinewidth": 0,
             "ticks": ""
            },
            "type": "mesh3d"
           }
          ],
          "parcoords": [
           {
            "line": {
             "colorbar": {
              "outlinewidth": 0,
              "ticks": ""
             }
            },
            "type": "parcoords"
           }
          ],
          "pie": [
           {
            "automargin": true,
            "type": "pie"
           }
          ],
          "scatter": [
           {
            "fillpattern": {
             "fillmode": "overlay",
             "size": 10,
             "solidity": 0.2
            },
            "type": "scatter"
           }
          ],
          "scatter3d": [
           {
            "line": {
             "colorbar": {
              "outlinewidth": 0,
              "ticks": ""
             }
            },
            "marker": {
             "colorbar": {
              "outlinewidth": 0,
              "ticks": ""
             }
            },
            "type": "scatter3d"
           }
          ],
          "scattercarpet": [
           {
            "marker": {
             "colorbar": {
              "outlinewidth": 0,
              "ticks": ""
             }
            },
            "type": "scattercarpet"
           }
          ],
          "scattergeo": [
           {
            "marker": {
             "colorbar": {
              "outlinewidth": 0,
              "ticks": ""
             }
            },
            "type": "scattergeo"
           }
          ],
          "scattergl": [
           {
            "marker": {
             "colorbar": {
              "outlinewidth": 0,
              "ticks": ""
             }
            },
            "type": "scattergl"
           }
          ],
          "scattermapbox": [
           {
            "marker": {
             "colorbar": {
              "outlinewidth": 0,
              "ticks": ""
             }
            },
            "type": "scattermapbox"
           }
          ],
          "scatterpolar": [
           {
            "marker": {
             "colorbar": {
              "outlinewidth": 0,
              "ticks": ""
             }
            },
            "type": "scatterpolar"
           }
          ],
          "scatterpolargl": [
           {
            "marker": {
             "colorbar": {
              "outlinewidth": 0,
              "ticks": ""
             }
            },
            "type": "scatterpolargl"
           }
          ],
          "scatterternary": [
           {
            "marker": {
             "colorbar": {
              "outlinewidth": 0,
              "ticks": ""
             }
            },
            "type": "scatterternary"
           }
          ],
          "surface": [
           {
            "colorbar": {
             "outlinewidth": 0,
             "ticks": ""
            },
            "colorscale": [
             [
              0,
              "#0d0887"
             ],
             [
              0.1111111111111111,
              "#46039f"
             ],
             [
              0.2222222222222222,
              "#7201a8"
             ],
             [
              0.3333333333333333,
              "#9c179e"
             ],
             [
              0.4444444444444444,
              "#bd3786"
             ],
             [
              0.5555555555555556,
              "#d8576b"
             ],
             [
              0.6666666666666666,
              "#ed7953"
             ],
             [
              0.7777777777777778,
              "#fb9f3a"
             ],
             [
              0.8888888888888888,
              "#fdca26"
             ],
             [
              1,
              "#f0f921"
             ]
            ],
            "type": "surface"
           }
          ],
          "table": [
           {
            "cells": {
             "fill": {
              "color": "#EBF0F8"
             },
             "line": {
              "color": "white"
             }
            },
            "header": {
             "fill": {
              "color": "#C8D4E3"
             },
             "line": {
              "color": "white"
             }
            },
            "type": "table"
           }
          ]
         },
         "layout": {
          "annotationdefaults": {
           "arrowcolor": "#2a3f5f",
           "arrowhead": 0,
           "arrowwidth": 1
          },
          "autotypenumbers": "strict",
          "coloraxis": {
           "colorbar": {
            "outlinewidth": 0,
            "ticks": ""
           }
          },
          "colorscale": {
           "diverging": [
            [
             0,
             "#8e0152"
            ],
            [
             0.1,
             "#c51b7d"
            ],
            [
             0.2,
             "#de77ae"
            ],
            [
             0.3,
             "#f1b6da"
            ],
            [
             0.4,
             "#fde0ef"
            ],
            [
             0.5,
             "#f7f7f7"
            ],
            [
             0.6,
             "#e6f5d0"
            ],
            [
             0.7,
             "#b8e186"
            ],
            [
             0.8,
             "#7fbc41"
            ],
            [
             0.9,
             "#4d9221"
            ],
            [
             1,
             "#276419"
            ]
           ],
           "sequential": [
            [
             0,
             "#0d0887"
            ],
            [
             0.1111111111111111,
             "#46039f"
            ],
            [
             0.2222222222222222,
             "#7201a8"
            ],
            [
             0.3333333333333333,
             "#9c179e"
            ],
            [
             0.4444444444444444,
             "#bd3786"
            ],
            [
             0.5555555555555556,
             "#d8576b"
            ],
            [
             0.6666666666666666,
             "#ed7953"
            ],
            [
             0.7777777777777778,
             "#fb9f3a"
            ],
            [
             0.8888888888888888,
             "#fdca26"
            ],
            [
             1,
             "#f0f921"
            ]
           ],
           "sequentialminus": [
            [
             0,
             "#0d0887"
            ],
            [
             0.1111111111111111,
             "#46039f"
            ],
            [
             0.2222222222222222,
             "#7201a8"
            ],
            [
             0.3333333333333333,
             "#9c179e"
            ],
            [
             0.4444444444444444,
             "#bd3786"
            ],
            [
             0.5555555555555556,
             "#d8576b"
            ],
            [
             0.6666666666666666,
             "#ed7953"
            ],
            [
             0.7777777777777778,
             "#fb9f3a"
            ],
            [
             0.8888888888888888,
             "#fdca26"
            ],
            [
             1,
             "#f0f921"
            ]
           ]
          },
          "colorway": [
           "#636efa",
           "#EF553B",
           "#00cc96",
           "#ab63fa",
           "#FFA15A",
           "#19d3f3",
           "#FF6692",
           "#B6E880",
           "#FF97FF",
           "#FECB52"
          ],
          "font": {
           "color": "#2a3f5f"
          },
          "geo": {
           "bgcolor": "white",
           "lakecolor": "white",
           "landcolor": "#E5ECF6",
           "showlakes": true,
           "showland": true,
           "subunitcolor": "white"
          },
          "hoverlabel": {
           "align": "left"
          },
          "hovermode": "closest",
          "mapbox": {
           "style": "light"
          },
          "paper_bgcolor": "white",
          "plot_bgcolor": "#E5ECF6",
          "polar": {
           "angularaxis": {
            "gridcolor": "white",
            "linecolor": "white",
            "ticks": ""
           },
           "bgcolor": "#E5ECF6",
           "radialaxis": {
            "gridcolor": "white",
            "linecolor": "white",
            "ticks": ""
           }
          },
          "scene": {
           "xaxis": {
            "backgroundcolor": "#E5ECF6",
            "gridcolor": "white",
            "gridwidth": 2,
            "linecolor": "white",
            "showbackground": true,
            "ticks": "",
            "zerolinecolor": "white"
           },
           "yaxis": {
            "backgroundcolor": "#E5ECF6",
            "gridcolor": "white",
            "gridwidth": 2,
            "linecolor": "white",
            "showbackground": true,
            "ticks": "",
            "zerolinecolor": "white"
           },
           "zaxis": {
            "backgroundcolor": "#E5ECF6",
            "gridcolor": "white",
            "gridwidth": 2,
            "linecolor": "white",
            "showbackground": true,
            "ticks": "",
            "zerolinecolor": "white"
           }
          },
          "shapedefaults": {
           "line": {
            "color": "#2a3f5f"
           }
          },
          "ternary": {
           "aaxis": {
            "gridcolor": "white",
            "linecolor": "white",
            "ticks": ""
           },
           "baxis": {
            "gridcolor": "white",
            "linecolor": "white",
            "ticks": ""
           },
           "bgcolor": "#E5ECF6",
           "caxis": {
            "gridcolor": "white",
            "linecolor": "white",
            "ticks": ""
           }
          },
          "title": {
           "x": 0.05
          },
          "xaxis": {
           "automargin": true,
           "gridcolor": "white",
           "linecolor": "white",
           "ticks": "",
           "title": {
            "standoff": 15
           },
           "zerolinecolor": "white",
           "zerolinewidth": 2
          },
          "yaxis": {
           "automargin": true,
           "gridcolor": "white",
           "linecolor": "white",
           "ticks": "",
           "title": {
            "standoff": 15
           },
           "zerolinecolor": "white",
           "zerolinewidth": 2
          }
         }
        },
        "xaxis": {
         "range": [
          -0.4643857045746915,
          0.4643857045746915
         ],
         "title": {
          "text": "Difference in SRs: 'equal weights' minus 'estimate covariance matrix only'"
         }
        },
        "yaxis": {
         "tickformat": ".2",
         "title": {
          "text": "Percent of Simulations"
         }
        }
       }
      }
     },
     "metadata": {},
     "output_type": "display_data"
    },
    {
     "data": {
      "application/vnd.plotly.v1+json": {
       "config": {
        "plotlyServerURL": "https://plot.ly"
       },
       "data": [
        {
         "histnorm": "percent",
         "hovertemplate": "This bin contains %{y:0.3}% of simulations <br>Average difference in SRs across all simulations: 0.006 <br>'equal weights' outperforms 'estimate standard deviations only' in 68% of all simulations<br><extra></extra>",
         "marker": {
          "line": {
           "color": "black",
           "width": 1
          }
         },
         "type": "histogram",
         "x": [
          0.006499816897129196,
          -0.0008177632466268014,
          0.022941362794774822,
          -0.009056145720702343,
          -0.00963542619380272,
          0.008161072431993877,
          0.0034829305946848,
          0.005471168211909655,
          0.02541819579923077,
          -0.01830587538718431,
          0.0012763924721184705,
          0.01885007221470142,
          0.023922101937344203,
          0.009373992864805697,
          0.011595432165825703,
          0.000052688100672770855,
          0.0009777452732165903,
          -0.011982839461348094,
          0.006961194165827411,
          -0.015490712425114683,
          -0.016654928820946047,
          0.019320455414408647,
          0.008312793937812535,
          0.012659053604492432,
          0.03818124390875516,
          -0.013204897046279085,
          -0.005609456697730386,
          0.014087075477917418,
          0.01577519640079833,
          0.026574854221042762,
          0.0009436876371840541,
          0.00365698121760355,
          0.0009824857125292005,
          -0.008667358399839523,
          0.004150823348379268,
          0.01680468162076232,
          0.022795409903577174,
          0.02450006881842287,
          -0.030785603056560445,
          0.0063024959558958815,
          -0.003884498803024772,
          0.009876101588588537,
          0.010249062582505492,
          0.0016578697487411032,
          0.018951907220552316,
          -0.014538821208423425,
          0.016308522703069372,
          0.01033662616809358,
          0.025841868964468467,
          -0.004829644760907803,
          0.0011263713755795268,
          0.03791869463235398,
          0.007459158961994117,
          0.03054599584985712,
          0.028813803120092546,
          0.012087821384508535,
          0.010460096859477686,
          0.053741485249649446,
          0.031243538909278556,
          0.0020867881049476122,
          0.01991629329079414,
          0.00980372753750125,
          0.011802651437962053,
          -0.006853894236644332,
          0.011671326959238226,
          -0.006633942405452398,
          0.01870245969222134,
          -0.002578129307639121,
          0.010836855673232247,
          0.025189939341655088,
          -0.0012893815714244,
          -0.018546396080511007,
          0.011154280078958911,
          0.01033876629339714,
          -0.011108016056050773,
          0.0055742894162083695,
          0.009409828155237221,
          0.038509389005100925,
          0.010771388747408142,
          0.014512164189954185,
          -0.03259587424715929,
          0.0033851072295951745,
          0.014273934960984003,
          0.010658423966250913,
          -0.011271440052274262,
          -0.007755834267966305,
          0.012474331815026746,
          0.0020267143456846326,
          0.0031767522301571205,
          -0.02279428168558756,
          0.00602560878632924,
          0.005297911445445766,
          -0.02289077795473371,
          0.000040574820331151784,
          0.0047252454763499485,
          0.01302527041440324,
          0.00510782379806568,
          -0.0040458844536945815,
          -0.00036976325803897425,
          0.009114570451790593,
          -0.040027829984719876,
          0.0032013265820930448,
          0.010497812773063303,
          0.0267973819586117,
          -0.018707836300319913,
          -0.009639644913318202,
          0.014589127598205076,
          -0.01863482031651409,
          -0.011776282575494512,
          0.0523519279898875,
          -0.004753274856423961,
          0.010385137726894034,
          -0.005646391723306637,
          -0.0012136888180959982,
          0.000616506689716495,
          -0.003836291252067442,
          -0.00192192121927931,
          0.0064477313050573665,
          0.04473646871346715,
          0.010000651031417784,
          -0.006897879284204683,
          0.016487374720177195,
          0.0035618995309388835,
          0.032321853064198214,
          0.014634136559627878,
          -0.014184692683402916,
          0.0008636368426513386,
          0.012790964695025386,
          -0.0024106218873286567,
          0.028330676710766056,
          0.006951048685242045,
          -0.006982801246580739,
          -0.003423420169984648,
          -0.0406131214105247,
          0.007232036827329591,
          0.01581219773198761,
          -0.007024460801367566,
          0.0010008430938514556,
          0.0005999613342032029,
          0.03033548343050274,
          0.002547110132546826,
          0.017843554908626352,
          0.007884161742850448,
          -0.003993643633881591,
          0.01204836283726718,
          0.01751765801945477,
          0.009648337683593883,
          -0.012396729392435274,
          0.0010619355129322383,
          -0.005206632757579516,
          0.0041721597243414565,
          0.02906036512300403,
          0.006433290884265808,
          -0.0021983901741113865,
          0.026911849359996465,
          0.00041645904840451053,
          -0.03193415454191928,
          -0.0018121663126870469,
          0.03026918797202599,
          -0.0027795367467166043,
          0.0033672265856234673,
          0.010374327981052589,
          0.0019123458824414907,
          0.03561791740423034,
          -0.00954554620794613,
          -0.011315235783188549,
          0.01227259846186142,
          0.000486830627188517,
          -0.002462663153201816,
          0.010431101621181216,
          0.002029487311387662,
          0.015736469455376934,
          -0.017105154208855056,
          -0.017391420660878565,
          -0.004750324716254917,
          0.014667214252190863,
          0.01196146266460063,
          0.008739076508670451,
          0.024789676559106577,
          0.01320739583374056,
          -0.0017962719585681713,
          0.008686390865865423,
          -0.004734324839475695,
          -0.02101708015556253,
          -0.012528790217630457,
          -0.011659798209207484,
          0.006852033109150002,
          0.013398366969024134,
          -0.002082447345411409,
          -0.004157066366924533,
          -0.00354533381117772,
          0.012374005424441531,
          0.011565825426905839,
          0.0077216585207946975,
          -0.015180314651991794,
          0.003134317562362928,
          -0.016358746949469705,
          0.0038772337276432867,
          0.010447065969129504,
          0.02556126558958982,
          -0.011083314474338024,
          0.022819861903323302,
          0.01969457726421331,
          -0.014014420217308712,
          -0.008646862677241185,
          -0.030555062977614622,
          0.01769923341650742,
          0.019444102091036156,
          0.011324943137216104,
          0.00048321530946132674,
          -0.0013397183977298388,
          -0.0019128956632699645,
          -0.003895130201672675,
          0.02348091368100813,
          0.009957589234482811,
          0.014671725268470465,
          0.029833743611452468,
          0.003845181284579946,
          0.006814831459316509,
          0.019209115917964315,
          -0.00598293657514147,
          -0.025670626244527164,
          0.0003954866987658512,
          -0.011404341717282551,
          0.0073117186966520364,
          0.015190182766039007,
          0.008861776276745281,
          0.00014623652348894067,
          -0.00815124760281849,
          -0.001475593247923783,
          0.017071472061345128,
          0.007587599650187238,
          0.0021636570915549713,
          -0.004241538911094966,
          0.01228714870449521,
          0.024972779136011758,
          0.031405259386089956,
          0.01007007042125485,
          -0.012981891447363947,
          0.025027286046605424,
          0.013183758802455259,
          0.007192916919905146,
          -0.02228562614028179,
          0.004003024308082581,
          -0.008362920136124052,
          0.007083948760474024,
          0.009051147085413491,
          0.010624733736772812,
          0.009694410623908856,
          -0.007501025718894466,
          0.01477695767182044,
          -0.018962784213566633,
          -0.024178524035331217,
          0.016514088429586626,
          0.008112093210633081,
          -0.022592982229283576,
          0.011132289040570842,
          -0.02419512658239137,
          0.01729512571797842,
          0.005354961412443904,
          0.02201761147095946,
          0.001151984410957367,
          0.04019308637673913,
          0.013320593606356568,
          -0.002212506461771707,
          -0.019971782164456497,
          0.01577778117713144,
          -0.02300619776616819,
          0.015611155495913465,
          0.0012659950551469068,
          0.00950858768106451,
          0.009475318690710749,
          0.03182105685793382,
          0.006489102774217159,
          0.03183810033070908,
          -0.0022455853852795804,
          0.009881067317248249,
          0.013921337215849552,
          0.005419291577305682,
          -0.014965050455346268,
          0.007629694503138926,
          0.00981973680571685,
          0.00421008220137481,
          -0.003907642266929107,
          0.011525282400862147,
          0.010524891890069943,
          0.015537114884285164,
          0.03476898895779007,
          0.0035735724848445227,
          0.00701425653526816,
          0.0018313653234939276,
          0.003433432771395406,
          0.0016264676685683044,
          0.01797077403610081,
          0.0013338004291324201,
          0.022760223447581773,
          0.01885413334171948,
          0.007966059179122298,
          0.019574973707130794,
          0.011172037224697756,
          0.00004523592393834708,
          0.01972400131009977,
          0.026634847659308028,
          0.02572073151088561,
          0.029451729031856055,
          -0.0035649261148076386,
          0.013885611181307822,
          0.023685957739943087,
          0.010205977980505265,
          -0.004020457181331913,
          0.0274250489663585,
          0.030768008873832187,
          0.004886326031627419,
          0.022229190590038778,
          -0.004381188468184083,
          0.02093441396128143,
          0.009246012418426042,
          0.01424281062255009,
          0.016617663938446103,
          0.02307889421421823,
          -0.001059593812407153,
          -0.0047228273251322395,
          0.01400396766790829,
          -0.0010411744298266315,
          0.006326341258906576,
          -0.016824740097026974,
          -0.006966959867716657,
          0.011510255816917891,
          0.011838870752393649,
          -0.02354232235793434,
          0.016385614621672956,
          0.01285369195455991,
          -0.018078267019783878,
          -0.010280425018789674,
          0.009439496419840043,
          0.019299280560729826,
          0.0036944641886796914,
          -0.014738736052163526,
          -0.003626222332539397,
          0.020566501150976246,
          0.01636079772610899,
          0.002109205367729655,
          -0.00004814809932029984,
          0.03561829647315726,
          0.022340025455343804,
          0.02632086856414001,
          0.005982315476275313,
          -0.005088431209954003,
          -0.008227368132349477,
          0.01232759131111294,
          0.014741139816254634,
          -0.0013605856227690838,
          0.005748567459050197,
          0.00914960114583796,
          0.01510580739809572,
          0.02000188953730947,
          0.03599739436435079,
          0.010642032936702794,
          -0.004401118198822829,
          0.00025304832907072083,
          -0.015779371175242418,
          0.029238445830406384,
          0.018598014843332122,
          -0.007477762081085748,
          0.009645727615820554,
          0.03246481077476604,
          0.009506585355184394,
          0.0002931458437632761,
          0.0003922347105790869,
          0.014119305424131756,
          0.017215130982573462,
          -0.0071615291868724895,
          -0.0029013816082286426,
          -0.0005130316277872637,
          0.008020625894676406,
          0.00846726749664059,
          0.013504760299348606,
          -0.028278849897414693,
          0.019098999442461885,
          0.028984375790469086,
          -0.0018736531729612593,
          0.015569580026643964,
          0.009144061665474656,
          0.02610675714903221,
          0.01791672634805963,
          0.01941303841739389,
          0.023693955373261688,
          0.02042482379485172,
          0.034698338021862785,
          0.01415893470738977,
          0.0008479645520869383,
          -0.014972206937132138,
          0.024391851734663683,
          0.0014055714711118106,
          0.028763044661676174,
          -0.017117772198473102,
          -0.002576116195090128,
          -0.05477760287197622,
          -0.0036870668879126767,
          0.040225272383430544,
          0.02727760794533665,
          -0.0020104175462908463,
          -0.02538112134835235,
          0.007776033220388168,
          -0.025203948809003784,
          0.01953821344726253,
          -0.010676196233663365,
          0.013126900510660233,
          0.0024067744348905407,
          -0.01540982883913846,
          -0.0060884680560486515,
          0.0044796863045419855,
          0.01558837485819986,
          0.011992541770174808,
          0.02206987190671983,
          0.009600919705191058,
          0.014311839715007102,
          0.007407279884275142,
          0.007234730660725108,
          0.008651867451190065,
          -0.020800846549541896,
          -0.006505259258288987,
          -0.006106766591320825,
          0.03407055067903475,
          -0.024515027774282383,
          0.00871489788160057,
          -0.00030296103157914644,
          0.005640510099303331,
          0.00305211711556741,
          -0.0028717080478135593,
          0.030284500746273646,
          -0.0059840303271311394,
          -0.0022821742427966973,
          -0.004662664908215153,
          -0.0057611599995799345,
          0.00038424907913234274,
          -0.01585452828724887,
          0.038947328631805,
          -0.005825140972588905,
          0.009975921910028274,
          -0.0019804123005874863,
          -0.01071120350320992,
          0.023419408710845968,
          0.0020791903334866357,
          0.003911416282784297,
          0.014827284148575592,
          0.000936222502170514,
          -0.0025120018667810773,
          0.028093674638533017,
          0.0030120598542281996,
          0.0032583671838409822,
          0.0012353070814794531,
          -0.005763030336848218,
          -0.004361975192605713,
          0.0015906392702532135,
          0.022555509109641554,
          0.010206859454123973,
          0.0003590426468663699,
          0.018518517200720674,
          0.006085850313647001,
          0.02897241365640152,
          0.006078302819582715,
          0.01624683282631001,
          0.031455827387825486,
          -0.0177529154414226,
          0.030399156838831792,
          -0.0021562844080871835,
          0.0021051829600417793,
          0.018479998466853914,
          -0.005668712738615932,
          0.03136731874691809,
          0.02072565668822235,
          0.01130034027054383,
          0.03275705910616328,
          0.02888990535589661,
          -0.0007458088302235016,
          -0.016456155362963243,
          -0.009314825873928345,
          0.04430574964808964,
          -0.022900166045511594,
          -0.007722176307245032,
          0.0022542186165635525,
          -0.0025025085418329263,
          0.006378850925100432,
          0.010985883676333519,
          0.027911723677187743,
          -0.01037032038046204,
          0.01794770776100263,
          0.002315515321599959,
          0.02411890509946607,
          0.011774432677798097,
          -0.020256792037486898,
          0.014217242615981562,
          0.035807401812702755,
          0.019658238388271965,
          0.010184178324963045,
          0.013545078323432158,
          0.002052820109060882,
          -0.005782459836466525,
          0.010900318447443533
         ]
        }
       ],
       "layout": {
        "legend": {
         "x": 0.01,
         "xanchor": "left",
         "y": 0.99,
         "yanchor": "top"
        },
        "template": {
         "data": {
          "bar": [
           {
            "error_x": {
             "color": "#2a3f5f"
            },
            "error_y": {
             "color": "#2a3f5f"
            },
            "marker": {
             "line": {
              "color": "#E5ECF6",
              "width": 0.5
             },
             "pattern": {
              "fillmode": "overlay",
              "size": 10,
              "solidity": 0.2
             }
            },
            "type": "bar"
           }
          ],
          "barpolar": [
           {
            "marker": {
             "line": {
              "color": "#E5ECF6",
              "width": 0.5
             },
             "pattern": {
              "fillmode": "overlay",
              "size": 10,
              "solidity": 0.2
             }
            },
            "type": "barpolar"
           }
          ],
          "carpet": [
           {
            "aaxis": {
             "endlinecolor": "#2a3f5f",
             "gridcolor": "white",
             "linecolor": "white",
             "minorgridcolor": "white",
             "startlinecolor": "#2a3f5f"
            },
            "baxis": {
             "endlinecolor": "#2a3f5f",
             "gridcolor": "white",
             "linecolor": "white",
             "minorgridcolor": "white",
             "startlinecolor": "#2a3f5f"
            },
            "type": "carpet"
           }
          ],
          "choropleth": [
           {
            "colorbar": {
             "outlinewidth": 0,
             "ticks": ""
            },
            "type": "choropleth"
           }
          ],
          "contour": [
           {
            "colorbar": {
             "outlinewidth": 0,
             "ticks": ""
            },
            "colorscale": [
             [
              0,
              "#0d0887"
             ],
             [
              0.1111111111111111,
              "#46039f"
             ],
             [
              0.2222222222222222,
              "#7201a8"
             ],
             [
              0.3333333333333333,
              "#9c179e"
             ],
             [
              0.4444444444444444,
              "#bd3786"
             ],
             [
              0.5555555555555556,
              "#d8576b"
             ],
             [
              0.6666666666666666,
              "#ed7953"
             ],
             [
              0.7777777777777778,
              "#fb9f3a"
             ],
             [
              0.8888888888888888,
              "#fdca26"
             ],
             [
              1,
              "#f0f921"
             ]
            ],
            "type": "contour"
           }
          ],
          "contourcarpet": [
           {
            "colorbar": {
             "outlinewidth": 0,
             "ticks": ""
            },
            "type": "contourcarpet"
           }
          ],
          "heatmap": [
           {
            "colorbar": {
             "outlinewidth": 0,
             "ticks": ""
            },
            "colorscale": [
             [
              0,
              "#0d0887"
             ],
             [
              0.1111111111111111,
              "#46039f"
             ],
             [
              0.2222222222222222,
              "#7201a8"
             ],
             [
              0.3333333333333333,
              "#9c179e"
             ],
             [
              0.4444444444444444,
              "#bd3786"
             ],
             [
              0.5555555555555556,
              "#d8576b"
             ],
             [
              0.6666666666666666,
              "#ed7953"
             ],
             [
              0.7777777777777778,
              "#fb9f3a"
             ],
             [
              0.8888888888888888,
              "#fdca26"
             ],
             [
              1,
              "#f0f921"
             ]
            ],
            "type": "heatmap"
           }
          ],
          "heatmapgl": [
           {
            "colorbar": {
             "outlinewidth": 0,
             "ticks": ""
            },
            "colorscale": [
             [
              0,
              "#0d0887"
             ],
             [
              0.1111111111111111,
              "#46039f"
             ],
             [
              0.2222222222222222,
              "#7201a8"
             ],
             [
              0.3333333333333333,
              "#9c179e"
             ],
             [
              0.4444444444444444,
              "#bd3786"
             ],
             [
              0.5555555555555556,
              "#d8576b"
             ],
             [
              0.6666666666666666,
              "#ed7953"
             ],
             [
              0.7777777777777778,
              "#fb9f3a"
             ],
             [
              0.8888888888888888,
              "#fdca26"
             ],
             [
              1,
              "#f0f921"
             ]
            ],
            "type": "heatmapgl"
           }
          ],
          "histogram": [
           {
            "marker": {
             "pattern": {
              "fillmode": "overlay",
              "size": 10,
              "solidity": 0.2
             }
            },
            "type": "histogram"
           }
          ],
          "histogram2d": [
           {
            "colorbar": {
             "outlinewidth": 0,
             "ticks": ""
            },
            "colorscale": [
             [
              0,
              "#0d0887"
             ],
             [
              0.1111111111111111,
              "#46039f"
             ],
             [
              0.2222222222222222,
              "#7201a8"
             ],
             [
              0.3333333333333333,
              "#9c179e"
             ],
             [
              0.4444444444444444,
              "#bd3786"
             ],
             [
              0.5555555555555556,
              "#d8576b"
             ],
             [
              0.6666666666666666,
              "#ed7953"
             ],
             [
              0.7777777777777778,
              "#fb9f3a"
             ],
             [
              0.8888888888888888,
              "#fdca26"
             ],
             [
              1,
              "#f0f921"
             ]
            ],
            "type": "histogram2d"
           }
          ],
          "histogram2dcontour": [
           {
            "colorbar": {
             "outlinewidth": 0,
             "ticks": ""
            },
            "colorscale": [
             [
              0,
              "#0d0887"
             ],
             [
              0.1111111111111111,
              "#46039f"
             ],
             [
              0.2222222222222222,
              "#7201a8"
             ],
             [
              0.3333333333333333,
              "#9c179e"
             ],
             [
              0.4444444444444444,
              "#bd3786"
             ],
             [
              0.5555555555555556,
              "#d8576b"
             ],
             [
              0.6666666666666666,
              "#ed7953"
             ],
             [
              0.7777777777777778,
              "#fb9f3a"
             ],
             [
              0.8888888888888888,
              "#fdca26"
             ],
             [
              1,
              "#f0f921"
             ]
            ],
            "type": "histogram2dcontour"
           }
          ],
          "mesh3d": [
           {
            "colorbar": {
             "outlinewidth": 0,
             "ticks": ""
            },
            "type": "mesh3d"
           }
          ],
          "parcoords": [
           {
            "line": {
             "colorbar": {
              "outlinewidth": 0,
              "ticks": ""
             }
            },
            "type": "parcoords"
           }
          ],
          "pie": [
           {
            "automargin": true,
            "type": "pie"
           }
          ],
          "scatter": [
           {
            "fillpattern": {
             "fillmode": "overlay",
             "size": 10,
             "solidity": 0.2
            },
            "type": "scatter"
           }
          ],
          "scatter3d": [
           {
            "line": {
             "colorbar": {
              "outlinewidth": 0,
              "ticks": ""
             }
            },
            "marker": {
             "colorbar": {
              "outlinewidth": 0,
              "ticks": ""
             }
            },
            "type": "scatter3d"
           }
          ],
          "scattercarpet": [
           {
            "marker": {
             "colorbar": {
              "outlinewidth": 0,
              "ticks": ""
             }
            },
            "type": "scattercarpet"
           }
          ],
          "scattergeo": [
           {
            "marker": {
             "colorbar": {
              "outlinewidth": 0,
              "ticks": ""
             }
            },
            "type": "scattergeo"
           }
          ],
          "scattergl": [
           {
            "marker": {
             "colorbar": {
              "outlinewidth": 0,
              "ticks": ""
             }
            },
            "type": "scattergl"
           }
          ],
          "scattermapbox": [
           {
            "marker": {
             "colorbar": {
              "outlinewidth": 0,
              "ticks": ""
             }
            },
            "type": "scattermapbox"
           }
          ],
          "scatterpolar": [
           {
            "marker": {
             "colorbar": {
              "outlinewidth": 0,
              "ticks": ""
             }
            },
            "type": "scatterpolar"
           }
          ],
          "scatterpolargl": [
           {
            "marker": {
             "colorbar": {
              "outlinewidth": 0,
              "ticks": ""
             }
            },
            "type": "scatterpolargl"
           }
          ],
          "scatterternary": [
           {
            "marker": {
             "colorbar": {
              "outlinewidth": 0,
              "ticks": ""
             }
            },
            "type": "scatterternary"
           }
          ],
          "surface": [
           {
            "colorbar": {
             "outlinewidth": 0,
             "ticks": ""
            },
            "colorscale": [
             [
              0,
              "#0d0887"
             ],
             [
              0.1111111111111111,
              "#46039f"
             ],
             [
              0.2222222222222222,
              "#7201a8"
             ],
             [
              0.3333333333333333,
              "#9c179e"
             ],
             [
              0.4444444444444444,
              "#bd3786"
             ],
             [
              0.5555555555555556,
              "#d8576b"
             ],
             [
              0.6666666666666666,
              "#ed7953"
             ],
             [
              0.7777777777777778,
              "#fb9f3a"
             ],
             [
              0.8888888888888888,
              "#fdca26"
             ],
             [
              1,
              "#f0f921"
             ]
            ],
            "type": "surface"
           }
          ],
          "table": [
           {
            "cells": {
             "fill": {
              "color": "#EBF0F8"
             },
             "line": {
              "color": "white"
             }
            },
            "header": {
             "fill": {
              "color": "#C8D4E3"
             },
             "line": {
              "color": "white"
             }
            },
            "type": "table"
           }
          ]
         },
         "layout": {
          "annotationdefaults": {
           "arrowcolor": "#2a3f5f",
           "arrowhead": 0,
           "arrowwidth": 1
          },
          "autotypenumbers": "strict",
          "coloraxis": {
           "colorbar": {
            "outlinewidth": 0,
            "ticks": ""
           }
          },
          "colorscale": {
           "diverging": [
            [
             0,
             "#8e0152"
            ],
            [
             0.1,
             "#c51b7d"
            ],
            [
             0.2,
             "#de77ae"
            ],
            [
             0.3,
             "#f1b6da"
            ],
            [
             0.4,
             "#fde0ef"
            ],
            [
             0.5,
             "#f7f7f7"
            ],
            [
             0.6,
             "#e6f5d0"
            ],
            [
             0.7,
             "#b8e186"
            ],
            [
             0.8,
             "#7fbc41"
            ],
            [
             0.9,
             "#4d9221"
            ],
            [
             1,
             "#276419"
            ]
           ],
           "sequential": [
            [
             0,
             "#0d0887"
            ],
            [
             0.1111111111111111,
             "#46039f"
            ],
            [
             0.2222222222222222,
             "#7201a8"
            ],
            [
             0.3333333333333333,
             "#9c179e"
            ],
            [
             0.4444444444444444,
             "#bd3786"
            ],
            [
             0.5555555555555556,
             "#d8576b"
            ],
            [
             0.6666666666666666,
             "#ed7953"
            ],
            [
             0.7777777777777778,
             "#fb9f3a"
            ],
            [
             0.8888888888888888,
             "#fdca26"
            ],
            [
             1,
             "#f0f921"
            ]
           ],
           "sequentialminus": [
            [
             0,
             "#0d0887"
            ],
            [
             0.1111111111111111,
             "#46039f"
            ],
            [
             0.2222222222222222,
             "#7201a8"
            ],
            [
             0.3333333333333333,
             "#9c179e"
            ],
            [
             0.4444444444444444,
             "#bd3786"
            ],
            [
             0.5555555555555556,
             "#d8576b"
            ],
            [
             0.6666666666666666,
             "#ed7953"
            ],
            [
             0.7777777777777778,
             "#fb9f3a"
            ],
            [
             0.8888888888888888,
             "#fdca26"
            ],
            [
             1,
             "#f0f921"
            ]
           ]
          },
          "colorway": [
           "#636efa",
           "#EF553B",
           "#00cc96",
           "#ab63fa",
           "#FFA15A",
           "#19d3f3",
           "#FF6692",
           "#B6E880",
           "#FF97FF",
           "#FECB52"
          ],
          "font": {
           "color": "#2a3f5f"
          },
          "geo": {
           "bgcolor": "white",
           "lakecolor": "white",
           "landcolor": "#E5ECF6",
           "showlakes": true,
           "showland": true,
           "subunitcolor": "white"
          },
          "hoverlabel": {
           "align": "left"
          },
          "hovermode": "closest",
          "mapbox": {
           "style": "light"
          },
          "paper_bgcolor": "white",
          "plot_bgcolor": "#E5ECF6",
          "polar": {
           "angularaxis": {
            "gridcolor": "white",
            "linecolor": "white",
            "ticks": ""
           },
           "bgcolor": "#E5ECF6",
           "radialaxis": {
            "gridcolor": "white",
            "linecolor": "white",
            "ticks": ""
           }
          },
          "scene": {
           "xaxis": {
            "backgroundcolor": "#E5ECF6",
            "gridcolor": "white",
            "gridwidth": 2,
            "linecolor": "white",
            "showbackground": true,
            "ticks": "",
            "zerolinecolor": "white"
           },
           "yaxis": {
            "backgroundcolor": "#E5ECF6",
            "gridcolor": "white",
            "gridwidth": 2,
            "linecolor": "white",
            "showbackground": true,
            "ticks": "",
            "zerolinecolor": "white"
           },
           "zaxis": {
            "backgroundcolor": "#E5ECF6",
            "gridcolor": "white",
            "gridwidth": 2,
            "linecolor": "white",
            "showbackground": true,
            "ticks": "",
            "zerolinecolor": "white"
           }
          },
          "shapedefaults": {
           "line": {
            "color": "#2a3f5f"
           }
          },
          "ternary": {
           "aaxis": {
            "gridcolor": "white",
            "linecolor": "white",
            "ticks": ""
           },
           "baxis": {
            "gridcolor": "white",
            "linecolor": "white",
            "ticks": ""
           },
           "bgcolor": "#E5ECF6",
           "caxis": {
            "gridcolor": "white",
            "linecolor": "white",
            "ticks": ""
           }
          },
          "title": {
           "x": 0.05
          },
          "xaxis": {
           "automargin": true,
           "gridcolor": "white",
           "linecolor": "white",
           "ticks": "",
           "title": {
            "standoff": 15
           },
           "zerolinecolor": "white",
           "zerolinewidth": 2
          },
          "yaxis": {
           "automargin": true,
           "gridcolor": "white",
           "linecolor": "white",
           "ticks": "",
           "title": {
            "standoff": 15
           },
           "zerolinecolor": "white",
           "zerolinewidth": 2
          }
         }
        },
        "xaxis": {
         "range": [
          -0.4643857045746915,
          0.4643857045746915
         ],
         "title": {
          "text": "Difference in SRs: 'equal weights' minus 'estimate standard deviations only'"
         }
        },
        "yaxis": {
         "tickformat": ".2",
         "title": {
          "text": "Percent of Simulations"
         }
        }
       }
      }
     },
     "metadata": {},
     "output_type": "display_data"
    }
   ],
   "source": [
    "histplot('ew','est_all')\n",
    "histplot('ew','est_cov')\n",
    "histplot('ew','est_sds')"
   ]
  },
  {
   "cell_type": "code",
   "execution_count": 43,
   "metadata": {},
   "outputs": [],
   "source": [
    "sim_results_save = sim_results.copy()"
   ]
  },
  {
   "cell_type": "markdown",
   "metadata": {},
   "source": [
    "### Keep risk-aversion constant each period and choose portfolio based on that risk aversion"
   ]
  },
  {
   "cell_type": "code",
   "execution_count": 14,
   "metadata": {},
   "outputs": [],
   "source": [
    "\n",
    "seed = 10\n",
    "short_lb = -3.0\n",
    "\n",
    "# Simulate and estimate rolling inputs\n",
    "rets = mvn.rvs(means, cov, size=60+T, random_state = seed)\n",
    "df = pd.DataFrame(data=rets, columns=['r0','r1','r2'])\n",
    "df.columns\n",
    "df['mn0']=df['r0'].rolling(60).mean()\n",
    "df['mn1']=df['r1'].rolling(60).mean()\n",
    "df['mn2']=df['r2'].rolling(60).mean()\n",
    "df['sd0']=df['r0'].rolling(60).std()\n",
    "df['sd1']=df['r1'].rolling(60).std()\n",
    "df['sd2']=df['r2'].rolling(60).std()\n",
    "\n",
    "corrs = df[['r0','r1','r2']].rolling(60, min_periods=60).corr()\n",
    "df['c01']=corrs.loc[(slice(None),'r0'),'r1'].values\n",
    "df['c02']=corrs.loc[(slice(None),'r0'),'r2'].values\n",
    "df['c12']=corrs.loc[(slice(None),'r1'),'r2'].values\n",
    "\n"
   ]
  },
  {
   "cell_type": "code",
   "execution_count": 34,
   "metadata": {},
   "outputs": [],
   "source": [
    "model_list = ['true', 'ew', 'est_all', 'est_cov', 'est_sds']\n",
    "for model in model_list:\n",
    "    df['portret_'+model] = np.nan  # portret is the realized portfolio return of the 100% risky asset portfolio\n",
    "    if model not in ['true','ew']:\n",
    "        df['wgt0_'+model] = np.nan\n",
    "        df['wgt1_'+model] = np.nan\n",
    "        df['wgt2_'+model] = np.nan\n",
    "    df['wgt_cal_'+model] =np.nan\n",
    "    df['raver_portret_'+model] =np.nan #raver_portret_ is the realized return of the CAL choice of the raver investor\n",
    "\n",
    "for i in np.arange(60,60+T):\n",
    "    # Full estimation inputs at each point in time\n",
    "    means = df[['mn0','mn1','mn2']].iloc[i-1].values\n",
    "    sds   = df[['sd0','sd1','sd2']].iloc[i-1].values\n",
    "    corr01 = df.loc[i-1,'c01']\n",
    "    corr02 = df.loc[i-1,'c02']\n",
    "    corr12 = df.loc[i-1,'c12']\n",
    "    C  = np.identity(3)\n",
    "    C[0, 1] = C[1, 0] = corr01\n",
    "    C[0, 2] = C[2, 0] = corr02\n",
    "    C[1, 2] = C[2, 1] = corr12\n",
    "    cov = np.diag(sds) @ C @ np.diag(sds)\n",
    "\n",
    "    ##### Note: all portfolio weights considered to be beginning of period weights\n",
    "    ##### (so multiply by contemporaneous realized returns)\n",
    "    # Theoretical optimal weights\n",
    "    model = 'true'\n",
    "    df.loc[i,'portret_'+model]= df.loc[i,['r0','r1','r2']].values @ wgts_true\n",
    "    df.loc[i,'raver_portret_'+model] = r + cal_wgt_true * (df.loc[i,'portret_'+model] -r)\n",
    "\n",
    "    # Full estimation tangency portfolio\n",
    "    model = 'est_all'\n",
    "    w0, w1, w2 = tangency(means,cov,r,short_lb)\n",
    "    df.loc[i,'wgt0_' + model] = w0\n",
    "    df.loc[i,'wgt1_' + model] = w1\n",
    "    df.loc[i,'wgt2_' + model] = w2\n",
    "    # df.loc[i,'portret_'+model] = df.loc[i,['r0','r1','r2']].values @ df.loc[i,['wgt0_'+model,'wgt1_'+model,'wgt2_'+model]].values\n",
    "    wgts = np.array([w0, w1, w2])\n",
    "    df.loc[i,'portret_'+model] = df.loc[i,['r0','r1','r2']].values @ wgts\n",
    "    df.loc[i,'wgt_cal_'+model] = (wgts @ means - r) / (raver * (wgts @ cov @ wgts))\n",
    "    df.loc[i,'raver_portret_'+model] = r + df.loc[i,'wgt_cal_'+model]  * (df.loc[i,'portret_'+model] -r)\n",
    "\n",
    "    # Estimate only covariance matrix\n",
    "    model = 'est_cov'\n",
    "    w0, w1, w2 = gmv(cov,short_lb)\n",
    "    df.loc[i,'wgt0_' + model] = w0\n",
    "    df.loc[i,'wgt1_' + model] = w1\n",
    "    df.loc[i,'wgt2_' + model] = w2\n",
    "    # df.loc[i,'portret_'+model] = df.loc[i,['r0','r1','r2']].values @ df.loc[i,['wgt0_'+model,'wgt1_'+model,'wgt2_'+model]].values\n",
    "    wgts = np.array([w0, w1, w2])\n",
    "    df.loc[i,'portret_'+model] = df.loc[i,['r0','r1','r2']].values @ wgts\n",
    "    df.loc[i,'wgt_cal_'+model] = (means.mean() - r) / (raver * (wgts @ cov @ wgts))\n",
    "    df.loc[i,'raver_portret_'+model] = r + df.loc[i,'wgt_cal_'+model]  * (df.loc[i,'portret_'+model] -r)\n",
    "\n",
    "\n",
    "    # Estimate only standard deviations in covariance matrix\n",
    "    model = 'est_sds'\n",
    "    cov[0, 1] = cov[1, 0] = 0.0\n",
    "    cov[0, 2] = cov[2, 0] = 0.0\n",
    "    cov[1, 2] = cov[2, 1] = 0.0\n",
    "    w0, w1, w2 = gmv(cov,short_lb)\n",
    "    df.loc[i,'wgt0_' + model] = w0\n",
    "    df.loc[i,'wgt1_' + model] = w1\n",
    "    df.loc[i,'wgt2_' + model] = w2\n",
    "    # df.loc[i,'portret_'+model] = df.loc[i,['r0','r1','r2']].values @ df.loc[i,['wgt0_'+model,'wgt1_'+model,'wgt2_'+model]].values\n",
    "    wgts = np.array([w0, w1, w2])\n",
    "    df.loc[i,'portret_'+model] = df.loc[i,['r0','r1','r2']].values @ wgts\n",
    "    df.loc[i,'wgt_cal_'+model] = (means.mean() - r) / (raver * (wgts @ cov @ wgts))\n",
    "    df.loc[i,'raver_portret_'+model] = r + df.loc[i,'wgt_cal_'+model]  * (df.loc[i,'portret_'+model] -r)    \n",
    "\n",
    "    # Equal-weighted portfolio\n",
    "    model = 'ew'\n",
    "    cov[0, 0] = cov[1, 1] = cov[2, 2] = sds.mean()\n",
    "    wgts = (1/n)*np.ones(n)\n",
    "    # df.loc[i,'portret_'+model]= df.loc[i,['r0','r1','r2']].values @ wgts_ew\n",
    "    df.loc[i,'portret_'+model] = df.loc[i,['r0','r1','r2']].values @ wgts\n",
    "    df.loc[i,'wgt_cal_'+model] = (means.mean() - r) / (raver * (wgts @ cov @ wgts))\n",
    "    df.loc[i,'raver_portret_'+model] = r + df.loc[i,'wgt_cal_'+model]  * (df.loc[i,'portret_'+model] -r)   \n",
    "\n",
    "\n",
    "\n",
    "portret_list = ['raver_portret_' +  model for model in model_list]\n",
    "stats = df[portret_list].describe()\n",
    "\n",
    "sr_df = pd.DataFrame(dtype=float, columns = ['sr'], index = model_list)\n",
    "for model in model_list:\n",
    "    sr_df.loc[model,'sr'] = (stats.loc['mean','raver_portret_' +  model] - r)/stats.loc['std','raver_portret_' +  model]"
   ]
  },
  {
   "cell_type": "code",
   "execution_count": 36,
   "metadata": {},
   "outputs": [
    {
     "data": {
      "text/html": [
       "<div>\n",
       "<style scoped>\n",
       "    .dataframe tbody tr th:only-of-type {\n",
       "        vertical-align: middle;\n",
       "    }\n",
       "\n",
       "    .dataframe tbody tr th {\n",
       "        vertical-align: top;\n",
       "    }\n",
       "\n",
       "    .dataframe thead th {\n",
       "        text-align: right;\n",
       "    }\n",
       "</style>\n",
       "<table border=\"1\" class=\"dataframe\">\n",
       "  <thead>\n",
       "    <tr style=\"text-align: right;\">\n",
       "      <th></th>\n",
       "      <th>sr</th>\n",
       "    </tr>\n",
       "  </thead>\n",
       "  <tbody>\n",
       "    <tr>\n",
       "      <th>true</th>\n",
       "      <td>0.156056</td>\n",
       "    </tr>\n",
       "    <tr>\n",
       "      <th>ew</th>\n",
       "      <td>0.124838</td>\n",
       "    </tr>\n",
       "    <tr>\n",
       "      <th>est_all</th>\n",
       "      <td>0.030235</td>\n",
       "    </tr>\n",
       "    <tr>\n",
       "      <th>est_cov</th>\n",
       "      <td>0.129685</td>\n",
       "    </tr>\n",
       "    <tr>\n",
       "      <th>est_sds</th>\n",
       "      <td>0.127453</td>\n",
       "    </tr>\n",
       "  </tbody>\n",
       "</table>\n",
       "</div>"
      ],
      "text/plain": [
       "               sr\n",
       "true     0.156056\n",
       "ew       0.124838\n",
       "est_all  0.030235\n",
       "est_cov  0.129685\n",
       "est_sds  0.127453"
      ]
     },
     "execution_count": 36,
     "metadata": {},
     "output_type": "execute_result"
    }
   ],
   "source": [
    "collist = ['wgt_cal_'+m for m in ['ew', 'est_all', 'est_cov', 'est_sds']]\n",
    "df[collist].describe()\n",
    "sr_df"
   ]
  },
  {
   "cell_type": "code",
   "execution_count": null,
   "metadata": {},
   "outputs": [],
   "source": []
  },
  {
   "cell_type": "code",
   "execution_count": null,
   "metadata": {},
   "outputs": [],
   "source": []
  },
  {
   "cell_type": "code",
   "execution_count": null,
   "metadata": {},
   "outputs": [],
   "source": []
  },
  {
   "cell_type": "code",
   "execution_count": null,
   "metadata": {},
   "outputs": [],
   "source": []
  }
 ],
 "metadata": {
  "kernelspec": {
   "display_name": "Python 3.10.6 ('venv': venv)",
   "language": "python",
   "name": "python3"
  },
  "language_info": {
   "codemirror_mode": {
    "name": "ipython",
    "version": 3
   },
   "file_extension": ".py",
   "mimetype": "text/x-python",
   "name": "python",
   "nbconvert_exporter": "python",
   "pygments_lexer": "ipython3",
   "version": "3.10.6"
  },
  "orig_nbformat": 4,
  "vscode": {
   "interpreter": {
    "hash": "cc788b38d8cb434c82f45ef9d481d0310e17b79321e4c8cbfbfe90f656a3f023"
   }
  }
 },
 "nbformat": 4,
 "nbformat_minor": 2
}
