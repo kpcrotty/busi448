{
 "cells": [
  {
   "cell_type": "markdown",
   "metadata": {},
   "source": [
    "### Back-test gold/stocks/bonds"
   ]
  },
  {
   "cell_type": "code",
   "execution_count": 1,
   "metadata": {},
   "outputs": [],
   "source": [
    "import numpy as np\n",
    "from cvxopt import matrix\n",
    "from cvxopt.solvers import qp as Solver, options as SolverOptions\n",
    "from scipy.optimize import minimize_scalar\n",
    "from scipy.optimize import minimize\n",
    "import plotly.graph_objects as go\n",
    "from scipy.stats import multivariate_normal as mvn\n",
    "import pandas as pd\n",
    "\n",
    "import quandl\n",
    "quandl.ApiConfig.api_key = \"f-5zoU2G4zzHaUtkJ7BY\""
   ]
  },
  {
   "cell_type": "code",
   "execution_count": 2,
   "metadata": {},
   "outputs": [],
   "source": [
    "def tangency(means, cov, rf, short_lb):\n",
    "    '''\n",
    "    short_lb: lower bound on position weights\n",
    "    examples: 0  = no short-selling\n",
    "              -1 = no more than -100% in a given asset\n",
    "              None=no restrictions on short-selling\n",
    "    '''\n",
    "\n",
    "    n = len(means)\n",
    "    def f(w):\n",
    "        mn = w @ means\n",
    "        sd = np.sqrt(w.T @ cov @ w)\n",
    "        return -(mn - rf) / sd\n",
    "    # Initial guess (equal-weighted)\n",
    "    w0 = (1/n)*np.ones(n)\n",
    "    # Constraint: fully-invested portfolio\n",
    "    A = np.ones(n)\n",
    "    b = 1\n",
    "    cons = [{\"type\": \"eq\", \"fun\": lambda x: A @ x - b}]\n",
    "    bnds = [(short_lb, None) for i in range(n)] \n",
    "    # Optimization\n",
    "    wgts_tangency = minimize(f, w0, bounds=bnds, constraints=cons).x\n",
    "    return wgts_tangency\n",
    "def gmv(cov, short_lb): \n",
    "    '''\n",
    "    short_lb: lower bound on position weights\n",
    "    examples: 0  = no short-selling\n",
    "              -1 = no more than -100% in a given asset\n",
    "              None=no restrictions on short-selling\n",
    "    '''    \n",
    "    n = len(cov)\n",
    "    Q = matrix(cov, tc=\"d\")\n",
    "    p = matrix(np.zeros(n), (n, 1), tc=\"d\")\n",
    "    if short_lb==None:\n",
    "        # No position limits\n",
    "        G = matrix(np.zeros((n,n)), tc=\"d\")\n",
    "        h = matrix(np.zeros(n), (n, 1), tc=\"d\")\n",
    "    else:\n",
    "        # Constraint: short-sales not allowed\n",
    "        G = matrix(-np.identity(n), tc=\"d\")\n",
    "        h = matrix(-short_lb * np.ones(n), (n, 1), tc=\"d\")\n",
    "    # Fully-invested constraint\n",
    "    A = matrix(np.ones(n), (1, n), tc=\"d\")\n",
    "    b = matrix([1], (1, 1), tc=\"d\")\n",
    "    sol = Solver(Q, p, G, h, A, b, options={'show_progress': False})\n",
    "    wgts_gmv = np.array(sol[\"x\"]).flatten() if sol[\"status\"] == \"optimal\" else np.array(n * [np.nan])\n",
    "    return wgts_gmv    "
   ]
  },
  {
   "cell_type": "code",
   "execution_count": 22,
   "metadata": {},
   "outputs": [],
   "source": [
    "# Pull the data (from sbb.py and gold.py from website codebase)\n",
    "# Stocks, bonds, bills\n",
    "nominal = pd.read_csv('https://www.dropbox.com/s/hgwte6swx57jqcv/nominal_sbb.csv?dl=1', index_col=['Year'])\n",
    "\n",
    "# Gold\n",
    "d = quandl.get(\"LBMA/GOLD\")['USD (AM)']\n",
    "gold = d.resample('Y').last().iloc[:-1]\n",
    "gold.index = [x.year for x in gold.index]\n",
    "gold.loc[1967] = d.iloc[0]\n",
    "gold = gold.sort_index().pct_change().dropna()\n",
    "gold.name = 'Gold'\n",
    " \n",
    "\n",
    "df = pd.concat((nominal, gold), axis=1).dropna()\n",
    "assets = ['TBills','S&P 500', 'Gold', 'Corporates', 'Treasuries']\n",
    "df = df[assets]\n",
    "\n",
    "##### Inputs\n",
    "# Window length (and initial period)\n",
    "window = 20\n",
    "n = len(assets)-1\n",
    "raver = 5\n",
    "short_lb = None\n",
    "T = len(df)-window"
   ]
  },
  {
   "cell_type": "code",
   "execution_count": 23,
   "metadata": {},
   "outputs": [],
   "source": [
    "# Rolling input estimation\n",
    "risky = assets[1:]\n",
    "df.columns = ['rf']+['r'+str(i) for i in range(n)]\n",
    "asset_list = [str(i) for i in range(n)]\n",
    "for asset in asset_list:\n",
    "    df['mn' + asset]=df['r'+asset].rolling(window).mean()\n",
    "    df['sd' + asset]=df['r'+asset].rolling(window).std()\n",
    "\n",
    "ret_list = ['r' + asset for asset in asset_list]\n",
    "corrs = df[ret_list].rolling(window, min_periods=window).corr()\n",
    "\n",
    "corr_list = []\n",
    "for j, asset in enumerate(asset_list):\n",
    "    for k in range(j+1,n):\n",
    "        df['c'+asset+str(k)]=corrs.loc[(slice(None),'r'+asset),'r'+str(k)].values\n",
    "df['year'] = df.index\n",
    "df = df.reset_index()\n",
    "\n",
    "\n",
    "# Prepare columns for the rolling optimization output\n",
    "model_list = ['ew', 'est_all', 'est_cov', 'est_sds']\n",
    "for model in model_list:\n",
    "    df['portret_'+model] = np.nan      #portret is the realized portfolio return of the 100% risky asset portfolio\n",
    "    if model not in ['ew']:\n",
    "        for asset in asset_list:\n",
    "            df['wgt' + asset + '_' +model] = np.nan\n",
    "    df['wgt_cal_'+model] =np.nan\n",
    "    df['raver_portret_'+model] =np.nan #raver_portret_ is the realized return of the CAL choice of the raver investor\n",
    "\n",
    "mn_list = ['mn'+asset for asset in asset_list]\n",
    "sd_list = ['sd'+asset for asset in asset_list] \n",
    "\n",
    "# Choose optimal portfolios each time period\n",
    "for i in np.arange(window,window+T):\n",
    "    # Full estimation inputs at each point in time\n",
    "    means = df[mn_list].iloc[i-1].values\n",
    "    sds   = df[sd_list].iloc[i-1].values\n",
    "    C  = np.identity(n)\n",
    "    for j, asset in enumerate(asset_list):\n",
    "        for k in range(j+1,n):\n",
    "            C[j, k] = C[k, j] =    df.loc[i-1,'c'+asset+str(k)]  \n",
    "    cov = np.diag(sds) @ C @ np.diag(sds)\n",
    "\n",
    "    r = df.loc[i,'rf']\n",
    "    ##### Note: all portfolio weights considered to be beginning of period weights\n",
    "    ##### (so multiply by contemporaneous realized returns)\n",
    "    # Full estimation tangency portfolio\n",
    "    model = 'est_all'\n",
    "    wgts = tangency(means,cov,r,short_lb)\n",
    "    for j, asset in enumerate(asset_list):\n",
    "        df.loc[i,'wgt'+asset+'_' + model] = wgts[j]\n",
    "    df.loc[i,'portret_'+model] = df.loc[i,ret_list].values @ wgts\n",
    "    df.loc[i,'wgt_cal_'+model] = (wgts @ means - r) / (raver * (wgts @ cov @ wgts))\n",
    "    df.loc[i,'wgt_cal_'+model] = max(0,df.loc[i,'wgt_cal_'+model])\n",
    "    df.loc[i,'raver_portret_'+model] = r + df.loc[i,'wgt_cal_'+model]  * (df.loc[i,'portret_'+model] -r)\n",
    "    df.loc[i,'expret_'+model] = means @ wgts\n",
    "    df.loc[i,'sd'+model] = np.sqrt(wgts @ cov @ wgts)\n",
    "\n",
    "    # Estimate only covariance matrix\n",
    "    model = 'est_cov'\n",
    "    wgts = gmv(cov,short_lb)\n",
    "    for j, asset in enumerate(asset_list):\n",
    "        df.loc[i,'wgt'+asset+'_' + model] = wgts[j]\n",
    "    df.loc[i,'portret_'+model] = df.loc[i,ret_list].values @ wgts\n",
    "    df.loc[i,'wgt_cal_'+model] = (means.mean() - r) / (raver * (wgts @ cov @ wgts))\n",
    "    df.loc[i,'wgt_cal_'+model] = max(0,df.loc[i,'wgt_cal_'+model])\n",
    "    df.loc[i,'raver_portret_'+model] = r + df.loc[i,'wgt_cal_'+model]  * (df.loc[i,'portret_'+model] -r)\n",
    "    df.loc[i,'expret_'+model] = means.mean()\n",
    "    df.loc[i,'sd'+model] = np.sqrt(wgts @ cov @ wgts)\n",
    "\n",
    "    # Estimate only standard deviations in covariance matrix\n",
    "    model = 'est_sds'\n",
    "    for j, asset in enumerate(asset_list):\n",
    "        for k in range(j+1,n):\n",
    "            cov[j, k] = cov[k, j] = 0.0\n",
    "    wgts = gmv(cov,short_lb)\n",
    "    for j, asset in enumerate(asset_list):\n",
    "        df.loc[i,'wgt'+asset+'_' + model] = wgts[j]\n",
    "    df.loc[i,'portret_'+model] = df.loc[i,ret_list].values @ wgts\n",
    "    df.loc[i,'wgt_cal_'+model] = (means.mean() - r) / (raver * (wgts @ cov @ wgts))\t\t\n",
    "    df.loc[i,'wgt_cal_'+model] = max(0,df.loc[i,'wgt_cal_'+model])\n",
    "    df.loc[i,'raver_portret_'+model] = r + df.loc[i,'wgt_cal_'+model]  * (df.loc[i,'portret_'+model] -r)    \n",
    "    df.loc[i,'expret_'+model] = means.mean()\n",
    "    df.loc[i,'sd'+model] = np.sqrt(wgts @ cov @ wgts)\n",
    "\n",
    "    # Equal-weighted portfolio\n",
    "    model = 'ew'\n",
    "    for j, asset in enumerate(asset_list):\n",
    "        cov[j,j] = (sds.mean())**2\n",
    "    wgts = (1/n)*np.ones(n)\n",
    "    df.loc[i,'portret_'+model] = df.loc[i,ret_list].values @ wgts\n",
    "    df.loc[i,'wgt_cal_'+model] = (means.mean() - r) / (raver * (wgts @ cov @ wgts))\n",
    "    df.loc[i,'wgt_cal_'+model] = max(0,df.loc[i,'wgt_cal_'+model])\n",
    "    df.loc[i,'raver_portret_'+model] = r + df.loc[i,'wgt_cal_'+model]  * (df.loc[i,'portret_'+model] -r)   \n",
    "    df.loc[i,'expret_'+model] = means.mean()\n",
    "    df.loc[i,'sd'+model] = np.sqrt(wgts @ cov @ wgts)    "
   ]
  },
  {
   "cell_type": "code",
   "execution_count": 24,
   "metadata": {},
   "outputs": [
    {
     "data": {
      "text/html": [
       "<div>\n",
       "<style scoped>\n",
       "    .dataframe tbody tr th:only-of-type {\n",
       "        vertical-align: middle;\n",
       "    }\n",
       "\n",
       "    .dataframe tbody tr th {\n",
       "        vertical-align: top;\n",
       "    }\n",
       "\n",
       "    .dataframe thead th {\n",
       "        text-align: right;\n",
       "    }\n",
       "</style>\n",
       "<table border=\"1\" class=\"dataframe\">\n",
       "  <thead>\n",
       "    <tr style=\"text-align: right;\">\n",
       "      <th></th>\n",
       "      <th>raver_portret_est_all</th>\n",
       "      <th>raver_portret_est_cov</th>\n",
       "      <th>raver_portret_est_sds</th>\n",
       "      <th>raver_portret_ew</th>\n",
       "    </tr>\n",
       "  </thead>\n",
       "  <tbody>\n",
       "    <tr>\n",
       "      <th>count</th>\n",
       "      <td>34.000000</td>\n",
       "      <td>34.000000</td>\n",
       "      <td>34.000000</td>\n",
       "      <td>34.000000</td>\n",
       "    </tr>\n",
       "    <tr>\n",
       "      <th>mean</th>\n",
       "      <td>0.298606</td>\n",
       "      <td>0.305746</td>\n",
       "      <td>0.317689</td>\n",
       "      <td>0.212242</td>\n",
       "    </tr>\n",
       "    <tr>\n",
       "      <th>std</th>\n",
       "      <td>0.406017</td>\n",
       "      <td>0.371266</td>\n",
       "      <td>0.331448</td>\n",
       "      <td>0.242597</td>\n",
       "    </tr>\n",
       "    <tr>\n",
       "      <th>min</th>\n",
       "      <td>-0.802216</td>\n",
       "      <td>-0.454778</td>\n",
       "      <td>-0.302823</td>\n",
       "      <td>-0.257604</td>\n",
       "    </tr>\n",
       "    <tr>\n",
       "      <th>25%</th>\n",
       "      <td>0.069471</td>\n",
       "      <td>0.135104</td>\n",
       "      <td>0.036213</td>\n",
       "      <td>0.035269</td>\n",
       "    </tr>\n",
       "    <tr>\n",
       "      <th>50%</th>\n",
       "      <td>0.351288</td>\n",
       "      <td>0.241430</td>\n",
       "      <td>0.347497</td>\n",
       "      <td>0.212161</td>\n",
       "    </tr>\n",
       "    <tr>\n",
       "      <th>75%</th>\n",
       "      <td>0.568270</td>\n",
       "      <td>0.453158</td>\n",
       "      <td>0.543779</td>\n",
       "      <td>0.309358</td>\n",
       "    </tr>\n",
       "    <tr>\n",
       "      <th>max</th>\n",
       "      <td>1.176866</td>\n",
       "      <td>1.045235</td>\n",
       "      <td>0.974309</td>\n",
       "      <td>0.701113</td>\n",
       "    </tr>\n",
       "  </tbody>\n",
       "</table>\n",
       "</div>"
      ],
      "text/plain": [
       "       raver_portret_est_all  raver_portret_est_cov  raver_portret_est_sds  \\\n",
       "count              34.000000              34.000000              34.000000   \n",
       "mean                0.298606               0.305746               0.317689   \n",
       "std                 0.406017               0.371266               0.331448   \n",
       "min                -0.802216              -0.454778              -0.302823   \n",
       "25%                 0.069471               0.135104               0.036213   \n",
       "50%                 0.351288               0.241430               0.347497   \n",
       "75%                 0.568270               0.453158               0.543779   \n",
       "max                 1.176866               1.045235               0.974309   \n",
       "\n",
       "       raver_portret_ew  \n",
       "count         34.000000  \n",
       "mean           0.212242  \n",
       "std            0.242597  \n",
       "min           -0.257604  \n",
       "25%            0.035269  \n",
       "50%            0.212161  \n",
       "75%            0.309358  \n",
       "max            0.701113  "
      ]
     },
     "execution_count": 24,
     "metadata": {},
     "output_type": "execute_result"
    }
   ],
   "source": [
    "portret_list = ['raver_portret_' +  model for model in ['est_all', 'est_cov', 'est_sds','ew']]\n",
    "stats = df[portret_list].describe()\n",
    "stats"
   ]
  },
  {
   "cell_type": "code",
   "execution_count": 25,
   "metadata": {},
   "outputs": [],
   "source": [
    "sr_df = pd.DataFrame(dtype=float, columns = ['sr','avg_ret','sd_ret'], index = ['est_all', 'est_cov', 'est_sds','ew'])\n",
    "r = df[np.isnan(df['raver_portret_ew'])==False].rf.mean()\n",
    "for model in ['est_all', 'est_cov', 'est_sds','ew']:\n",
    "    sr_df.loc[model,'sr'] = (stats.loc['mean','raver_portret_' +  model] - r)/stats.loc['std','raver_portret_' +  model]\n",
    "    sr_df.loc[model,'avg_ret'] = stats.loc['mean','raver_portret_' +  model]\n",
    "    sr_df.loc[model,'sd_ret'] = stats.loc['std','raver_portret_' +  model]\n",
    "\n",
    "label_dict = {'true': 'theoretical optimal weights', \n",
    "            'ew': 'equal weights',\n",
    "            'est_all': 'estimate all inputs',\n",
    "            'est_cov': 'estimate covariance matrix only',\n",
    "            'est_sds': 'estimate standard deviations only'}\n",
    "\n",
    "xaxis_label_dict = {'true': 'theoretical optimal weights', \n",
    "            'ew': 'Equal Weights',\n",
    "            'est_all': 'Tangency',\n",
    "            'est_cov': 'GMV',\n",
    "            'est_sds': 'Risk Parity'}\n",
    "sr_df = sr_df.reset_index()\n",
    "sr_df['label'] = sr_df['index'].apply(lambda x: label_dict[x])\n",
    "sr_df['xaxis_label'] = sr_df['index'].apply(lambda x: xaxis_label_dict[x])"
   ]
  },
  {
   "cell_type": "code",
   "execution_count": 26,
   "metadata": {},
   "outputs": [
    {
     "data": {
      "text/html": [
       "<div>\n",
       "<style scoped>\n",
       "    .dataframe tbody tr th:only-of-type {\n",
       "        vertical-align: middle;\n",
       "    }\n",
       "\n",
       "    .dataframe tbody tr th {\n",
       "        vertical-align: top;\n",
       "    }\n",
       "\n",
       "    .dataframe thead th {\n",
       "        text-align: right;\n",
       "    }\n",
       "</style>\n",
       "<table border=\"1\" class=\"dataframe\">\n",
       "  <thead>\n",
       "    <tr style=\"text-align: right;\">\n",
       "      <th></th>\n",
       "      <th>index</th>\n",
       "      <th>sr</th>\n",
       "      <th>avg_ret</th>\n",
       "      <th>sd_ret</th>\n",
       "      <th>label</th>\n",
       "      <th>xaxis_label</th>\n",
       "    </tr>\n",
       "  </thead>\n",
       "  <tbody>\n",
       "    <tr>\n",
       "      <th>0</th>\n",
       "      <td>est_all</td>\n",
       "      <td>0.666248</td>\n",
       "      <td>0.298606</td>\n",
       "      <td>0.406017</td>\n",
       "      <td>estimate all inputs</td>\n",
       "      <td>Tangency</td>\n",
       "    </tr>\n",
       "    <tr>\n",
       "      <th>1</th>\n",
       "      <td>est_cov</td>\n",
       "      <td>0.747840</td>\n",
       "      <td>0.305746</td>\n",
       "      <td>0.371266</td>\n",
       "      <td>estimate covariance matrix only</td>\n",
       "      <td>GMV</td>\n",
       "    </tr>\n",
       "    <tr>\n",
       "      <th>2</th>\n",
       "      <td>est_sds</td>\n",
       "      <td>0.873715</td>\n",
       "      <td>0.317689</td>\n",
       "      <td>0.331448</td>\n",
       "      <td>estimate standard deviations only</td>\n",
       "      <td>Risk Parity</td>\n",
       "    </tr>\n",
       "    <tr>\n",
       "      <th>3</th>\n",
       "      <td>ew</td>\n",
       "      <td>0.759052</td>\n",
       "      <td>0.212242</td>\n",
       "      <td>0.242597</td>\n",
       "      <td>equal weights</td>\n",
       "      <td>Equal Weights</td>\n",
       "    </tr>\n",
       "  </tbody>\n",
       "</table>\n",
       "</div>"
      ],
      "text/plain": [
       "     index        sr   avg_ret    sd_ret                              label  \\\n",
       "0  est_all  0.666248  0.298606  0.406017                estimate all inputs   \n",
       "1  est_cov  0.747840  0.305746  0.371266    estimate covariance matrix only   \n",
       "2  est_sds  0.873715  0.317689  0.331448  estimate standard deviations only   \n",
       "3       ew  0.759052  0.212242  0.242597                      equal weights   \n",
       "\n",
       "     xaxis_label  \n",
       "0       Tangency  \n",
       "1            GMV  \n",
       "2    Risk Parity  \n",
       "3  Equal Weights  "
      ]
     },
     "execution_count": 26,
     "metadata": {},
     "output_type": "execute_result"
    }
   ],
   "source": [
    "df[np.isnan(df['raver_portret_ew'])==False].rf\n",
    "sr_df"
   ]
  },
  {
   "cell_type": "code",
   "execution_count": 27,
   "metadata": {},
   "outputs": [
    {
     "data": {
      "application/vnd.plotly.v1+json": {
       "config": {
        "plotlyServerURL": "https://plot.ly"
       },
       "data": [
        {
         "customdata": [
          [
           "estimate all inputs",
           0.29860568559826023,
           0.4060170738184946
          ],
          [
           "estimate covariance matrix only",
           0.3057456065086051,
           0.37126620279019085
          ],
          [
           "estimate standard deviations only",
           0.31768865674773056,
           0.3314475555795044
          ],
          [
           "equal weights",
           0.21224155968855304,
           0.24259706910894152
          ]
         ],
         "hovertemplate": "Strategy: %{customdata[0]} <br>Sharpe ratio: %{y:0.3f}<br>Average return: %{customdata[1]:0.1%}<br>SD(return): %{customdata[2]:0.1%}<br><extra></extra>",
         "type": "bar",
         "x": [
          "Tangency",
          "GMV",
          "Risk Parity",
          "Equal Weights"
         ],
         "y": [
          0.6662475765773849,
          0.7478402566792804,
          0.8737154875792087,
          0.759051897235468
         ]
        }
       ],
       "layout": {
        "template": {
         "data": {
          "bar": [
           {
            "error_x": {
             "color": "#2a3f5f"
            },
            "error_y": {
             "color": "#2a3f5f"
            },
            "marker": {
             "line": {
              "color": "#E5ECF6",
              "width": 0.5
             },
             "pattern": {
              "fillmode": "overlay",
              "size": 10,
              "solidity": 0.2
             }
            },
            "type": "bar"
           }
          ],
          "barpolar": [
           {
            "marker": {
             "line": {
              "color": "#E5ECF6",
              "width": 0.5
             },
             "pattern": {
              "fillmode": "overlay",
              "size": 10,
              "solidity": 0.2
             }
            },
            "type": "barpolar"
           }
          ],
          "carpet": [
           {
            "aaxis": {
             "endlinecolor": "#2a3f5f",
             "gridcolor": "white",
             "linecolor": "white",
             "minorgridcolor": "white",
             "startlinecolor": "#2a3f5f"
            },
            "baxis": {
             "endlinecolor": "#2a3f5f",
             "gridcolor": "white",
             "linecolor": "white",
             "minorgridcolor": "white",
             "startlinecolor": "#2a3f5f"
            },
            "type": "carpet"
           }
          ],
          "choropleth": [
           {
            "colorbar": {
             "outlinewidth": 0,
             "ticks": ""
            },
            "type": "choropleth"
           }
          ],
          "contour": [
           {
            "colorbar": {
             "outlinewidth": 0,
             "ticks": ""
            },
            "colorscale": [
             [
              0,
              "#0d0887"
             ],
             [
              0.1111111111111111,
              "#46039f"
             ],
             [
              0.2222222222222222,
              "#7201a8"
             ],
             [
              0.3333333333333333,
              "#9c179e"
             ],
             [
              0.4444444444444444,
              "#bd3786"
             ],
             [
              0.5555555555555556,
              "#d8576b"
             ],
             [
              0.6666666666666666,
              "#ed7953"
             ],
             [
              0.7777777777777778,
              "#fb9f3a"
             ],
             [
              0.8888888888888888,
              "#fdca26"
             ],
             [
              1,
              "#f0f921"
             ]
            ],
            "type": "contour"
           }
          ],
          "contourcarpet": [
           {
            "colorbar": {
             "outlinewidth": 0,
             "ticks": ""
            },
            "type": "contourcarpet"
           }
          ],
          "heatmap": [
           {
            "colorbar": {
             "outlinewidth": 0,
             "ticks": ""
            },
            "colorscale": [
             [
              0,
              "#0d0887"
             ],
             [
              0.1111111111111111,
              "#46039f"
             ],
             [
              0.2222222222222222,
              "#7201a8"
             ],
             [
              0.3333333333333333,
              "#9c179e"
             ],
             [
              0.4444444444444444,
              "#bd3786"
             ],
             [
              0.5555555555555556,
              "#d8576b"
             ],
             [
              0.6666666666666666,
              "#ed7953"
             ],
             [
              0.7777777777777778,
              "#fb9f3a"
             ],
             [
              0.8888888888888888,
              "#fdca26"
             ],
             [
              1,
              "#f0f921"
             ]
            ],
            "type": "heatmap"
           }
          ],
          "heatmapgl": [
           {
            "colorbar": {
             "outlinewidth": 0,
             "ticks": ""
            },
            "colorscale": [
             [
              0,
              "#0d0887"
             ],
             [
              0.1111111111111111,
              "#46039f"
             ],
             [
              0.2222222222222222,
              "#7201a8"
             ],
             [
              0.3333333333333333,
              "#9c179e"
             ],
             [
              0.4444444444444444,
              "#bd3786"
             ],
             [
              0.5555555555555556,
              "#d8576b"
             ],
             [
              0.6666666666666666,
              "#ed7953"
             ],
             [
              0.7777777777777778,
              "#fb9f3a"
             ],
             [
              0.8888888888888888,
              "#fdca26"
             ],
             [
              1,
              "#f0f921"
             ]
            ],
            "type": "heatmapgl"
           }
          ],
          "histogram": [
           {
            "marker": {
             "pattern": {
              "fillmode": "overlay",
              "size": 10,
              "solidity": 0.2
             }
            },
            "type": "histogram"
           }
          ],
          "histogram2d": [
           {
            "colorbar": {
             "outlinewidth": 0,
             "ticks": ""
            },
            "colorscale": [
             [
              0,
              "#0d0887"
             ],
             [
              0.1111111111111111,
              "#46039f"
             ],
             [
              0.2222222222222222,
              "#7201a8"
             ],
             [
              0.3333333333333333,
              "#9c179e"
             ],
             [
              0.4444444444444444,
              "#bd3786"
             ],
             [
              0.5555555555555556,
              "#d8576b"
             ],
             [
              0.6666666666666666,
              "#ed7953"
             ],
             [
              0.7777777777777778,
              "#fb9f3a"
             ],
             [
              0.8888888888888888,
              "#fdca26"
             ],
             [
              1,
              "#f0f921"
             ]
            ],
            "type": "histogram2d"
           }
          ],
          "histogram2dcontour": [
           {
            "colorbar": {
             "outlinewidth": 0,
             "ticks": ""
            },
            "colorscale": [
             [
              0,
              "#0d0887"
             ],
             [
              0.1111111111111111,
              "#46039f"
             ],
             [
              0.2222222222222222,
              "#7201a8"
             ],
             [
              0.3333333333333333,
              "#9c179e"
             ],
             [
              0.4444444444444444,
              "#bd3786"
             ],
             [
              0.5555555555555556,
              "#d8576b"
             ],
             [
              0.6666666666666666,
              "#ed7953"
             ],
             [
              0.7777777777777778,
              "#fb9f3a"
             ],
             [
              0.8888888888888888,
              "#fdca26"
             ],
             [
              1,
              "#f0f921"
             ]
            ],
            "type": "histogram2dcontour"
           }
          ],
          "mesh3d": [
           {
            "colorbar": {
             "outlinewidth": 0,
             "ticks": ""
            },
            "type": "mesh3d"
           }
          ],
          "parcoords": [
           {
            "line": {
             "colorbar": {
              "outlinewidth": 0,
              "ticks": ""
             }
            },
            "type": "parcoords"
           }
          ],
          "pie": [
           {
            "automargin": true,
            "type": "pie"
           }
          ],
          "scatter": [
           {
            "fillpattern": {
             "fillmode": "overlay",
             "size": 10,
             "solidity": 0.2
            },
            "type": "scatter"
           }
          ],
          "scatter3d": [
           {
            "line": {
             "colorbar": {
              "outlinewidth": 0,
              "ticks": ""
             }
            },
            "marker": {
             "colorbar": {
              "outlinewidth": 0,
              "ticks": ""
             }
            },
            "type": "scatter3d"
           }
          ],
          "scattercarpet": [
           {
            "marker": {
             "colorbar": {
              "outlinewidth": 0,
              "ticks": ""
             }
            },
            "type": "scattercarpet"
           }
          ],
          "scattergeo": [
           {
            "marker": {
             "colorbar": {
              "outlinewidth": 0,
              "ticks": ""
             }
            },
            "type": "scattergeo"
           }
          ],
          "scattergl": [
           {
            "marker": {
             "colorbar": {
              "outlinewidth": 0,
              "ticks": ""
             }
            },
            "type": "scattergl"
           }
          ],
          "scattermapbox": [
           {
            "marker": {
             "colorbar": {
              "outlinewidth": 0,
              "ticks": ""
             }
            },
            "type": "scattermapbox"
           }
          ],
          "scatterpolar": [
           {
            "marker": {
             "colorbar": {
              "outlinewidth": 0,
              "ticks": ""
             }
            },
            "type": "scatterpolar"
           }
          ],
          "scatterpolargl": [
           {
            "marker": {
             "colorbar": {
              "outlinewidth": 0,
              "ticks": ""
             }
            },
            "type": "scatterpolargl"
           }
          ],
          "scatterternary": [
           {
            "marker": {
             "colorbar": {
              "outlinewidth": 0,
              "ticks": ""
             }
            },
            "type": "scatterternary"
           }
          ],
          "surface": [
           {
            "colorbar": {
             "outlinewidth": 0,
             "ticks": ""
            },
            "colorscale": [
             [
              0,
              "#0d0887"
             ],
             [
              0.1111111111111111,
              "#46039f"
             ],
             [
              0.2222222222222222,
              "#7201a8"
             ],
             [
              0.3333333333333333,
              "#9c179e"
             ],
             [
              0.4444444444444444,
              "#bd3786"
             ],
             [
              0.5555555555555556,
              "#d8576b"
             ],
             [
              0.6666666666666666,
              "#ed7953"
             ],
             [
              0.7777777777777778,
              "#fb9f3a"
             ],
             [
              0.8888888888888888,
              "#fdca26"
             ],
             [
              1,
              "#f0f921"
             ]
            ],
            "type": "surface"
           }
          ],
          "table": [
           {
            "cells": {
             "fill": {
              "color": "#EBF0F8"
             },
             "line": {
              "color": "white"
             }
            },
            "header": {
             "fill": {
              "color": "#C8D4E3"
             },
             "line": {
              "color": "white"
             }
            },
            "type": "table"
           }
          ]
         },
         "layout": {
          "annotationdefaults": {
           "arrowcolor": "#2a3f5f",
           "arrowhead": 0,
           "arrowwidth": 1
          },
          "autotypenumbers": "strict",
          "coloraxis": {
           "colorbar": {
            "outlinewidth": 0,
            "ticks": ""
           }
          },
          "colorscale": {
           "diverging": [
            [
             0,
             "#8e0152"
            ],
            [
             0.1,
             "#c51b7d"
            ],
            [
             0.2,
             "#de77ae"
            ],
            [
             0.3,
             "#f1b6da"
            ],
            [
             0.4,
             "#fde0ef"
            ],
            [
             0.5,
             "#f7f7f7"
            ],
            [
             0.6,
             "#e6f5d0"
            ],
            [
             0.7,
             "#b8e186"
            ],
            [
             0.8,
             "#7fbc41"
            ],
            [
             0.9,
             "#4d9221"
            ],
            [
             1,
             "#276419"
            ]
           ],
           "sequential": [
            [
             0,
             "#0d0887"
            ],
            [
             0.1111111111111111,
             "#46039f"
            ],
            [
             0.2222222222222222,
             "#7201a8"
            ],
            [
             0.3333333333333333,
             "#9c179e"
            ],
            [
             0.4444444444444444,
             "#bd3786"
            ],
            [
             0.5555555555555556,
             "#d8576b"
            ],
            [
             0.6666666666666666,
             "#ed7953"
            ],
            [
             0.7777777777777778,
             "#fb9f3a"
            ],
            [
             0.8888888888888888,
             "#fdca26"
            ],
            [
             1,
             "#f0f921"
            ]
           ],
           "sequentialminus": [
            [
             0,
             "#0d0887"
            ],
            [
             0.1111111111111111,
             "#46039f"
            ],
            [
             0.2222222222222222,
             "#7201a8"
            ],
            [
             0.3333333333333333,
             "#9c179e"
            ],
            [
             0.4444444444444444,
             "#bd3786"
            ],
            [
             0.5555555555555556,
             "#d8576b"
            ],
            [
             0.6666666666666666,
             "#ed7953"
            ],
            [
             0.7777777777777778,
             "#fb9f3a"
            ],
            [
             0.8888888888888888,
             "#fdca26"
            ],
            [
             1,
             "#f0f921"
            ]
           ]
          },
          "colorway": [
           "#636efa",
           "#EF553B",
           "#00cc96",
           "#ab63fa",
           "#FFA15A",
           "#19d3f3",
           "#FF6692",
           "#B6E880",
           "#FF97FF",
           "#FECB52"
          ],
          "font": {
           "color": "#2a3f5f"
          },
          "geo": {
           "bgcolor": "white",
           "lakecolor": "white",
           "landcolor": "#E5ECF6",
           "showlakes": true,
           "showland": true,
           "subunitcolor": "white"
          },
          "hoverlabel": {
           "align": "left"
          },
          "hovermode": "closest",
          "mapbox": {
           "style": "light"
          },
          "paper_bgcolor": "white",
          "plot_bgcolor": "#E5ECF6",
          "polar": {
           "angularaxis": {
            "gridcolor": "white",
            "linecolor": "white",
            "ticks": ""
           },
           "bgcolor": "#E5ECF6",
           "radialaxis": {
            "gridcolor": "white",
            "linecolor": "white",
            "ticks": ""
           }
          },
          "scene": {
           "xaxis": {
            "backgroundcolor": "#E5ECF6",
            "gridcolor": "white",
            "gridwidth": 2,
            "linecolor": "white",
            "showbackground": true,
            "ticks": "",
            "zerolinecolor": "white"
           },
           "yaxis": {
            "backgroundcolor": "#E5ECF6",
            "gridcolor": "white",
            "gridwidth": 2,
            "linecolor": "white",
            "showbackground": true,
            "ticks": "",
            "zerolinecolor": "white"
           },
           "zaxis": {
            "backgroundcolor": "#E5ECF6",
            "gridcolor": "white",
            "gridwidth": 2,
            "linecolor": "white",
            "showbackground": true,
            "ticks": "",
            "zerolinecolor": "white"
           }
          },
          "shapedefaults": {
           "line": {
            "color": "#2a3f5f"
           }
          },
          "ternary": {
           "aaxis": {
            "gridcolor": "white",
            "linecolor": "white",
            "ticks": ""
           },
           "baxis": {
            "gridcolor": "white",
            "linecolor": "white",
            "ticks": ""
           },
           "bgcolor": "#E5ECF6",
           "caxis": {
            "gridcolor": "white",
            "linecolor": "white",
            "ticks": ""
           }
          },
          "title": {
           "x": 0.05
          },
          "xaxis": {
           "automargin": true,
           "gridcolor": "white",
           "linecolor": "white",
           "ticks": "",
           "title": {
            "standoff": 15
           },
           "zerolinecolor": "white",
           "zerolinewidth": 2
          },
          "yaxis": {
           "automargin": true,
           "gridcolor": "white",
           "linecolor": "white",
           "ticks": "",
           "title": {
            "standoff": 15
           },
           "zerolinecolor": "white",
           "zerolinewidth": 2
          }
         }
        },
        "xaxis": {
         "title": {
          "text": "Strategy"
         }
        },
        "yaxis": {
         "title": {
          "text": "Sharpe ratio"
         }
        }
       }
      }
     },
     "metadata": {},
     "output_type": "display_data"
    }
   ],
   "source": [
    "import plotly.graph_objects as go\n",
    "\n",
    "string =\"Strategy: %{customdata[0]} <br>\"\n",
    "string += \"Sharpe ratio: %{y:0.3f}<br>\"\n",
    "string += \"Average return: %{customdata[1]:0.1%}<br>\"\n",
    "string += \"SD(return): %{customdata[2]:0.1%}<br>\"\n",
    "string += \"<extra></extra>\"\n",
    "\n",
    "fig = go.Figure()\n",
    "fig.add_trace(go.Bar(x=sr_df['xaxis_label'], y=sr_df['sr'], customdata=sr_df[['label','avg_ret','sd_ret']], hovertemplate=string))\n",
    "fig.layout.yaxis[\"title\"] = \"Sharpe ratio\"\n",
    "fig.layout.xaxis[\"title\"] = \"Strategy\"\n",
    "fig.show()"
   ]
  },
  {
   "cell_type": "code",
   "execution_count": 28,
   "metadata": {},
   "outputs": [
    {
     "data": {
      "application/vnd.plotly.v1+json": {
       "config": {
        "plotlyServerURL": "https://plot.ly"
       },
       "data": [
        {
         "customdata": [
          [
           null,
           null,
           null,
           null,
           null
          ],
          [
           null,
           null,
           null,
           null,
           null
          ],
          [
           null,
           null,
           null,
           null,
           null
          ],
          [
           null,
           null,
           null,
           null,
           null
          ],
          [
           null,
           null,
           null,
           null,
           null
          ],
          [
           null,
           null,
           null,
           null,
           null
          ],
          [
           null,
           null,
           null,
           null,
           null
          ],
          [
           null,
           null,
           null,
           null,
           null
          ],
          [
           null,
           null,
           null,
           null,
           null
          ],
          [
           null,
           null,
           null,
           null,
           null
          ],
          [
           null,
           null,
           null,
           null,
           null
          ],
          [
           null,
           null,
           null,
           null,
           null
          ],
          [
           null,
           null,
           null,
           null,
           null
          ],
          [
           null,
           null,
           null,
           null,
           null
          ],
          [
           null,
           null,
           null,
           null,
           null
          ],
          [
           null,
           null,
           null,
           null,
           null
          ],
          [
           null,
           null,
           null,
           null,
           null
          ],
          [
           null,
           null,
           null,
           null,
           null
          ],
          [
           null,
           null,
           null,
           null,
           null
          ],
          [
           null,
           null,
           null,
           null,
           null
          ],
          [
           1.409971941806668,
           0.04650334305034444,
           0.2307975327400336,
           1.7355684235521682,
           -1.012869299342546
          ],
          [
           1.012864952760892,
           0.008183394382512019,
           0.2548449328451191,
           2.250633353046352,
           -1.5136616802739828
          ],
          [
           2.007324875952532,
           0.12541391115989847,
           0.19428905846801303,
           1.3299927037158745,
           -0.6496956733437861
          ],
          [
           3.1009399085149667,
           0.05775711312469818,
           0.18738684903288344,
           1.6813425017996664,
           -0.9264864639572479
          ],
          [
           3.967778283343357,
           0.06395959255354336,
           0.17479824002742306,
           1.5244658116310599,
           -0.7632236442120262
          ],
          [
           4.341458051680747,
           0.05504559777901348,
           0.17890131899909534,
           1.6156280126733849,
           -0.8495749294514934
          ],
          [
           3.747207941362266,
           0.06896085062994511,
           0.177553312517575,
           1.6625835382367005,
           -0.9090977013842205
          ],
          [
           3.761680550145702,
           0.24033315685455583,
           0.1294506259968343,
           2.0212501068032784,
           -1.3910338896546688
          ],
          [
           4.045771626137521,
           0.2697414769435068,
           0.12130156880446691,
           1.9425414159975878,
           -1.3335844617455614
          ],
          [
           3.9479836958275643,
           0.3164084127472946,
           0.1129639842841793,
           1.9680198546185332,
           -1.397392251650007
          ],
          [
           4.030574549255489,
           0.34871082487750465,
           0.10440730445145001,
           1.8866271431126245,
           -1.3397452724415793
          ],
          [
           3.692884267611654,
           0.44808334794311216,
           0.07025444761632844,
           1.4919610766971367,
           -1.0102988722565773
          ],
          [
           2.5897998356025984,
           0.6353251170214758,
           -0.2672698284030502,
           1.944809321302809,
           -1.3128646099212344
          ],
          [
           3.1514267405103054,
           0.19590768185898952,
           -0.2458339547643879,
           1.906024402492802,
           -0.8560981295874037
          ],
          [
           4.241781142372106,
           0.10753946555887561,
           -0.04960090238477281,
           1.7550520072546814,
           -0.8129905704287841
          ],
          [
           5.480125713716546,
           0.008202387290251448,
           0.043696784758909854,
           1.5781575604386642,
           -0.6300567324878256
          ],
          [
           5.090805218031703,
           -0.03065683145049642,
           -0.04884645003644659,
           1.8362383785996075,
           -0.7567350971126645
          ],
          [
           4.104577694001074,
           -0.06192021717602614,
           -0.126900972407499,
           2.1049030591634175,
           -0.9160818695798921
          ],
          [
           3.2711795664980996,
           -0.051888568434334176,
           -0.1195704679072917,
           2.1267593246946395,
           -0.9553002883530136
          ],
          [
           3.74139040190384,
           -0.01775938575985917,
           -0.031724620010434315,
           1.878283855456173,
           -0.8287998496858794
          ],
          [
           6.18960419072932,
           0.039359337515944406,
           0.11567017775308923,
           1.1028984107135007,
           -0.2579279259825344
          ],
          [
           5.290689264322044,
           0.013873087312591775,
           0.13851181132981033,
           0.6292989949706739,
           0.21831610638692392
          ],
          [
           5.270785346715947,
           0.03750917371508769,
           0.13116005227243732,
           0.5304745509662959,
           0.3008562230461791
          ],
          [
           5.633103806175869,
           0.05928027247755237,
           0.15164079351432727,
           0.47777220248574176,
           0.3113067315223786
          ],
          [
           5.651090730468091,
           0.06302050629416199,
           0.142088333819298,
           0.48411468046299555,
           0.3107764794235445
          ],
          [
           5.632448613176119,
           0.07304475001040332,
           0.15588082629701766,
           0.4626569173214121,
           0.30841750637116694
          ],
          [
           4.367782423953463,
           0.1339848779599415,
           0.08445342116175378,
           0.48613314330764257,
           0.2954285575706622
          ],
          [
           5.861715971817256,
           0.13792476113093358,
           0.08506126304097056,
           0.4296270022645173,
           0.34738697356357867
          ],
          [
           7.066310751492046,
           0.16291055056188922,
           0.02498538902902118,
           0.39067075673149315,
           0.42143330367759646
          ],
          [
           6.467194853375013,
           0.14660459196289172,
           0.026299611979988202,
           0.4296828350933735,
           0.3974129609637466
          ],
          [
           5.855102633347634,
           0.15849220993892776,
           -0.002216703662187743,
           0.4432676489383588,
           0.40045684478490123
          ],
          [
           5.499648430716805,
           0.19585693172417415,
           -0.01065827699369875,
           0.3455466321245669,
           0.4692547131449577
          ],
          [
           7.435818432035327,
           0.14050057419159193,
           -0.03298848440890938,
           0.4112350997057354,
           0.481252810511582
          ],
          [
           7.51530344471214,
           0.1250898135836733,
           -0.05653443056396962,
           0.4518381004645267,
           0.4796065165157696
          ]
         ],
         "hovertemplate": "Strategy: estimate all inputs <br>Year: %{x:4.0f}<br>Return: %{y:0.1%}<br>Weight in Risky Portfolio: %{customdata[0]: 0.1%} <br>Risky Portfolio Weights:<br>  S&P 500: %{customdata[1]: 0.1%} <br>  Gold: %{customdata[2]: 0.1%} <br>  Corporates: %{customdata[3]: 0.1%} <br>  Treasuries: %{customdata[4]: 0.1%} <br><extra></extra>",
         "name": "Tangency",
         "type": "scatter",
         "x": [
          1968,
          1969,
          1970,
          1971,
          1972,
          1973,
          1974,
          1975,
          1976,
          1977,
          1978,
          1979,
          1980,
          1981,
          1982,
          1983,
          1984,
          1985,
          1986,
          1987,
          1988,
          1989,
          1990,
          1991,
          1992,
          1993,
          1994,
          1995,
          1996,
          1997,
          1998,
          1999,
          2000,
          2001,
          2002,
          2003,
          2004,
          2005,
          2006,
          2007,
          2008,
          2009,
          2010,
          2011,
          2012,
          2013,
          2014,
          2015,
          2016,
          2017,
          2018,
          2019,
          2020,
          2021
         ],
         "y": [
          null,
          null,
          null,
          null,
          null,
          null,
          null,
          null,
          null,
          null,
          null,
          null,
          null,
          null,
          null,
          null,
          null,
          null,
          null,
          null,
          0.18487676871854786,
          0.08447867246252194,
          -0.010318298142591747,
          0.3851055114296952,
          0.3297108484513181,
          0.6867763203960919,
          0.06446898812818899,
          0.4938722712646324,
          0.37286437209356627,
          0.5385685747437683,
          0.0494232743412432,
          0.5781709881213571,
          -0.29415003791402466,
          0.16234280233923273,
          0.18273271392690646,
          1.1768664804095903,
          0.6661389731925003,
          0.11787071056436288,
          0.20167349357444936,
          -0.2556841372401169,
          -0.8022160668593822,
          0.8634151796856322,
          0.5828444031346444,
          0.7239547731353528,
          0.42741838682556194,
          -0.3001588442863708,
          0.43653233870901637,
          -0.03977804076576199,
          0.43906932170823687,
          0.5163375623731382,
          -0.20531674006431272,
          0.7954009294243255,
          0.8471002540272409,
          0.15220056243228575
         ]
        },
        {
         "customdata": [
          [
           null,
           null,
           null,
           null,
           null
          ],
          [
           null,
           null,
           null,
           null,
           null
          ],
          [
           null,
           null,
           null,
           null,
           null
          ],
          [
           null,
           null,
           null,
           null,
           null
          ],
          [
           null,
           null,
           null,
           null,
           null
          ],
          [
           null,
           null,
           null,
           null,
           null
          ],
          [
           null,
           null,
           null,
           null,
           null
          ],
          [
           null,
           null,
           null,
           null,
           null
          ],
          [
           null,
           null,
           null,
           null,
           null
          ],
          [
           null,
           null,
           null,
           null,
           null
          ],
          [
           null,
           null,
           null,
           null,
           null
          ],
          [
           null,
           null,
           null,
           null,
           null
          ],
          [
           null,
           null,
           null,
           null,
           null
          ],
          [
           null,
           null,
           null,
           null,
           null
          ],
          [
           null,
           null,
           null,
           null,
           null
          ],
          [
           null,
           null,
           null,
           null,
           null
          ],
          [
           null,
           null,
           null,
           null,
           null
          ],
          [
           null,
           null,
           null,
           null,
           null
          ],
          [
           null,
           null,
           null,
           null,
           null
          ],
          [
           null,
           null,
           null,
           null,
           null
          ],
          [
           1.7030509317179474,
           0.05856624456178873,
           0.12708502805960378,
           0.8641389537355073,
           -0.049790226356899815
          ],
          [
           1.173960842443053,
           0.05356320808988653,
           0.1272039113435949,
           0.8684828013540781,
           -0.0492499207875595
          ],
          [
           2.2743966505776707,
           0.07280789410325554,
           0.1380033794792532,
           0.8416290371403783,
           -0.052440310722887094
          ],
          [
           3.0701874912768448,
           0.04998140363748379,
           0.1418932848391265,
           1.0369178724401715,
           -0.22879256091678185
          ],
          [
           3.916602964700227,
           0.041519248395579494,
           0.14451975534658895,
           1.0618362708610372,
           -0.24787527460320563
          ],
          [
           4.022873059783724,
           0.04212121096568996,
           0.15446778062402347,
           1.187787557838236,
           -0.3843765494279495
          ],
          [
           3.3194681368657784,
           0.040180463024920315,
           0.15887911156400114,
           1.1918051492774653,
           -0.39086472386638665
          ],
          [
           2.5462528526956016,
           0.12491953892927744,
           0.13657731089994873,
           1.4207709808403262,
           -0.6822678306695524
          ],
          [
           3.051980989347987,
           0.11515043516861384,
           0.1400620585509175,
           1.490552002167707,
           -0.7457644958872384
          ],
          [
           2.8981418000975805,
           0.15355991329305838,
           0.13069127583395207,
           1.5139432384674942,
           -0.7981944275945045
          ],
          [
           3.0900619019780433,
           0.1409107142400258,
           0.1334942251834398,
           1.5742852717536977,
           -0.8486902111771634
          ],
          [
           2.9704178189907413,
           0.18324062471777539,
           0.11972713759243726,
           1.3422942967874785,
           -0.6452620590976911
          ],
          [
           1.8213365202655327,
           0.17256424307998464,
           0.21739687908456554,
           1.2601726407341056,
           -0.6501337628986558
          ],
          [
           2.605657960740277,
           0.02940000524915434,
           0.19161233781333256,
           1.2916200044583288,
           -0.5126323475208157
          ],
          [
           4.078546117427237,
           0.06447499130093443,
           0.272192678151008,
           1.184317688039361,
           -0.5209853574913036
          ],
          [
           4.992652994475884,
           0.04826564503868958,
           0.2440020845903347,
           1.1253566844118965,
           -0.4176244140409208
          ],
          [
           4.419235373179667,
           0.011062216153726927,
           0.17005146496634221,
           1.1540426021174912,
           -0.33515628323756036
          ],
          [
           3.525295219985532,
           0.01323693914634965,
           0.17272771232769388,
           1.143291386748665,
           -0.3292560382227084
          ],
          [
           2.627359399767093,
           0.030034601566260005,
           0.17359605365654793,
           1.0405082419937002,
           -0.2441388972165081
          ],
          [
           3.2635750570950828,
           0.02794433682748228,
           0.18704731009495018,
           0.9009473935729735,
           -0.1159390404954059
          ],
          [
           5.974573369756079,
           0.030841741336634587,
           0.18719471839887114,
           0.8624104687591327,
           -0.0804469284946385
          ],
          [
           5.3961113763953525,
           0.01197673508399618,
           0.2027627121585457,
           0.5739628463238391,
           0.21129770643361903
          ],
          [
           5.412510562551164,
           0.060130869101387326,
           0.1874911348414741,
           0.37799570385965137,
           0.3743822921974873
          ],
          [
           5.910429766064413,
           0.0582206397361907,
           0.1732853449240795,
           0.40227853376401446,
           0.3662154815757153
          ],
          [
           5.810377843146657,
           0.07186169525465406,
           0.14899953480404818,
           0.4170966279545712,
           0.3620421419867265
          ],
          [
           5.914386142740125,
           0.07265882992977424,
           0.14911520315405705,
           0.4181012725497666,
           0.3601246943664021
          ],
          [
           4.648275440725614,
           0.10953010073596443,
           0.09046873411632818,
           0.4451079891316223,
           0.3548931760160851
          ],
          [
           6.148034169331345,
           0.11909690735309912,
           0.09656262302648279,
           0.40276265073907797,
           0.3815778188813401
          ],
          [
           7.4421215004510675,
           0.15476654165022294,
           0.033201690836018295,
           0.35579190100421054,
           0.4562398665095482
          ],
          [
           6.916310557416255,
           0.14947534523365777,
           0.033994481765242675,
           0.3661454759149722,
           0.45038469708612733
          ],
          [
           6.971816472853758,
           0.1649988724726442,
           -0.027100325516474514,
           0.39166632942916724,
           0.4704351236146631
          ],
          [
           7.328349195625178,
           0.2348335863827562,
           -0.04815877413890421,
           0.2327305954357592,
           0.5805945923203888
          ],
          [
           8.949810207581693,
           0.16977047222684824,
           -0.06308723572871931,
           0.3328171876340637,
           0.5604995758678073
          ],
          [
           10.20120774667873,
           0.12900891753595878,
           -0.124696130905572,
           0.43672451621019026,
           0.5589626971594229
          ]
         ],
         "hovertemplate": "Strategy: estimate covariance matrix only <br>Year: %{x:4.0f}<br>Return: %{y:0.1%}<br>Weight in Risky Portfolio: %{customdata[0]: 0.1%} <br>Risky Portfolio Weights:<br>  S&P 500: %{customdata[1]: 0.1%} <br>  Gold: %{customdata[2]: 0.1%} <br>  Corporates: %{customdata[3]: 0.1%} <br>  Treasuries: %{customdata[4]: 0.1%} <br><extra></extra>",
         "name": "GMV",
         "type": "scatter",
         "x": [
          1968,
          1969,
          1970,
          1971,
          1972,
          1973,
          1974,
          1975,
          1976,
          1977,
          1978,
          1979,
          1980,
          1981,
          1982,
          1983,
          1984,
          1985,
          1986,
          1987,
          1988,
          1989,
          1990,
          1991,
          1992,
          1993,
          1994,
          1995,
          1996,
          1997,
          1998,
          1999,
          2000,
          2001,
          2002,
          2003,
          2004,
          2005,
          2006,
          2007,
          2008,
          2009,
          2010,
          2011,
          2012,
          2013,
          2014,
          2015,
          2016,
          2017,
          2018,
          2019,
          2020,
          2021
         ],
         "y": [
          null,
          null,
          null,
          null,
          null,
          null,
          null,
          null,
          null,
          null,
          null,
          null,
          null,
          null,
          null,
          null,
          null,
          null,
          null,
          null,
          0.1511233214587344,
          0.1531052388354315,
          0.0016994104515668934,
          0.3562052669413813,
          0.2945969670026906,
          0.5994832819934989,
          -0.05565159705270033,
          0.3585040704440988,
          0.14353848102269984,
          0.2582594373382151,
          0.016260896936744283,
          0.21831799537312474,
          -0.08402030840246939,
          0.13229237198625537,
          0.4259219739094822,
          1.0452348316448445,
          0.4335290988744238,
          0.1919740492733784,
          0.2246003476158333,
          0.15328225110966257,
          -0.4547784869339255,
          0.9082787609373485,
          0.6659888921237398,
          0.7702265993633465,
          0.41931355254134456,
          -0.3298854121018834,
          0.4590187311080747,
          -0.047568924076296565,
          0.43557496840653814,
          0.5296803164696425,
          -0.23824734859124297,
          1.044011268521292,
          1.0087997946156486,
          0.2066805221520505
         ]
        },
        {
         "customdata": [
          [
           null,
           null,
           null,
           null,
           null
          ],
          [
           null,
           null,
           null,
           null,
           null
          ],
          [
           null,
           null,
           null,
           null,
           null
          ],
          [
           null,
           null,
           null,
           null,
           null
          ],
          [
           null,
           null,
           null,
           null,
           null
          ],
          [
           null,
           null,
           null,
           null,
           null
          ],
          [
           null,
           null,
           null,
           null,
           null
          ],
          [
           null,
           null,
           null,
           null,
           null
          ],
          [
           null,
           null,
           null,
           null,
           null
          ],
          [
           null,
           null,
           null,
           null,
           null
          ],
          [
           null,
           null,
           null,
           null,
           null
          ],
          [
           null,
           null,
           null,
           null,
           null
          ],
          [
           null,
           null,
           null,
           null,
           null
          ],
          [
           null,
           null,
           null,
           null,
           null
          ],
          [
           null,
           null,
           null,
           null,
           null
          ],
          [
           null,
           null,
           null,
           null,
           null
          ],
          [
           null,
           null,
           null,
           null,
           null
          ],
          [
           null,
           null,
           null,
           null,
           null
          ],
          [
           null,
           null,
           null,
           null,
           null
          ],
          [
           null,
           null,
           null,
           null,
           null
          ],
          [
           2.452078192158818,
           0.15264509241867735,
           0.027162089491821646,
           0.45503272222856594,
           0.36516009586093506
          ],
          [
           1.6684190155777439,
           0.15160064353211283,
           0.026109404309477162,
           0.4536262075238826,
           0.36866374463452734
          ],
          [
           2.675576047598323,
           0.144024855214343,
           0.02538922995326411,
           0.4639929190661241,
           0.3665929957662688
          ],
          [
           3.6214582000325257,
           0.13861435963044338,
           0.024968591880176867,
           0.4620796055446029,
           0.3743374429447768
          ],
          [
           4.4932022034655725,
           0.13468075965267814,
           0.02502766482399723,
           0.4633702688366203,
           0.3769213066867043
          ],
          [
           4.380046722836678,
           0.13377312899051685,
           0.025393827122593075,
           0.4595833594855748,
           0.38124968440131524
          ],
          [
           3.814789640610835,
           0.1493085521064945,
           0.02808716751497279,
           0.4517863582317293,
           0.3708179221468034
          ],
          [
           2.9975781053572135,
           0.20244526186711406,
           0.03045245047626193,
           0.4545133950110937,
           0.3125888926455303
          ],
          [
           3.5072354984729026,
           0.209805954018741,
           0.03319465988996413,
           0.4533283408896904,
           0.30367104520160443
          ],
          [
           3.2722662637560953,
           0.21100677395627593,
           0.033189280763728346,
           0.4560848469879017,
           0.2997190982920939
          ],
          [
           3.5488621976591914,
           0.22198508094417943,
           0.031448913377033594,
           0.44553466020007676,
           0.3010313454787102
          ],
          [
           3.7879964373698876,
           0.21568620240001926,
           0.031643323451939265,
           0.44828232196476225,
           0.3043881521832792
          ],
          [
           2.4536024387722413,
           0.19100217987361892,
           0.14890095983975032,
           0.4175941458985023,
           0.24250271438812834
          ],
          [
           4.072979234598706,
           0.15304010855474887,
           0.14515283832332315,
           0.4626747319311155,
           0.23913232119081249
          ],
          [
           5.632867385649754,
           0.136031613122417,
           0.18473056864948745,
           0.44850758461635937,
           0.23073023361173614
          ],
          [
           6.222270187944015,
           0.08983092951891598,
           0.1410948740895733,
           0.5149328573400432,
           0.25414133905146763
          ],
          [
           6.255152539041093,
           0.08827376940980455,
           0.13346957945175486,
           0.5283644211135047,
           0.24989223002493585
          ],
          [
           5.116325030378397,
           0.08694774958811066,
           0.14771516861781145,
           0.5232231540911442,
           0.24211392770293377
          ],
          [
           3.6527199248979882,
           0.08110861740882132,
           0.12436467252566683,
           0.5473972274647392,
           0.24712948260077264
          ],
          [
           4.080080010898267,
           0.0717227441422652,
           0.10446341044725808,
           0.57147702124858,
           0.2523368241618966
          ],
          [
           7.674378870422307,
           0.06950046426298569,
           0.09220915004675212,
           0.5648562491072411,
           0.27343413658302107
          ],
          [
           7.081282112984541,
           0.05709205155089358,
           0.12169450387546175,
           0.5275999790984192,
           0.29361346547522543
          ],
          [
           6.09355772064298,
           0.06867318548684274,
           0.12650557138417498,
           0.5150525406539365,
           0.2897687024750458
          ],
          [
           6.632034110324937,
           0.0705406492946058,
           0.11671217880452596,
           0.5218397098738078,
           0.2909074620270604
          ],
          [
           6.807294414733575,
           0.07073204211619791,
           0.11997407626222445,
           0.5341637540070061,
           0.27513012761457156
          ],
          [
           7.009460690560996,
           0.06971356341639467,
           0.1253784481636642,
           0.5345010396721939,
           0.27040694874774723
          ],
          [
           5.901899617876238,
           0.0705789923885793,
           0.10284579675366284,
           0.5616130286581663,
           0.26496218219959145
          ],
          [
           6.871483021138972,
           0.06557286702128767,
           0.09489652186411074,
           0.5703065797819866,
           0.2692240313326148
          ],
          [
           6.317420016845127,
           0.06507942957208125,
           0.08119214086301327,
           0.5645765993444078,
           0.2891518302204977
          ],
          [
           5.873000655455195,
           0.06656854094684535,
           0.08283991337688423,
           0.5637313869548628,
           0.2868601587214076
          ],
          [
           5.2862685588676825,
           0.06896943413810919,
           0.09651909221154921,
           0.5546869945162823,
           0.27982447913405933
          ],
          [
           4.715636520646068,
           0.07611370748438157,
           0.1014113378744536,
           0.5120310284783156,
           0.31044392616284927
          ],
          [
           6.823959961836973,
           0.06956272277029837,
           0.09837021701503346,
           0.4909527879830848,
           0.34111427223158336
          ],
          [
           7.670188790890231,
           0.06991429141082474,
           0.0976140911261165,
           0.4745588250376494,
           0.35791279242540935
          ]
         ],
         "hovertemplate": "Strategy: estimate standard deviations only <br>Year: %{x:4.0f}<br>Return: %{y:0.1%}<br>Weight in Risky Portfolio: %{customdata[0]: 0.1%} <br>Risky Portfolio Weights:<br>  S&P 500: %{customdata[1]: 0.1%} <br>  Gold: %{customdata[2]: 0.1%} <br>  Corporates: %{customdata[3]: 0.1%} <br>  Treasuries: %{customdata[4]: 0.1%} <br><extra></extra>",
         "name": "Risk Parity",
         "type": "scatter",
         "x": [
          1968,
          1969,
          1970,
          1971,
          1972,
          1973,
          1974,
          1975,
          1976,
          1977,
          1978,
          1979,
          1980,
          1981,
          1982,
          1983,
          1984,
          1985,
          1986,
          1987,
          1988,
          1989,
          1990,
          1991,
          1992,
          1993,
          1994,
          1995,
          1996,
          1997,
          1998,
          1999,
          2000,
          2001,
          2002,
          2003,
          2004,
          2005,
          2006,
          2007,
          2008,
          2009,
          2010,
          2011,
          2012,
          2013,
          2014,
          2015,
          2016,
          2017,
          2018,
          2019,
          2020,
          2021
         ],
         "y": [
          null,
          null,
          null,
          null,
          null,
          null,
          null,
          null,
          null,
          null,
          null,
          null,
          null,
          null,
          null,
          null,
          null,
          null,
          null,
          null,
          0.196912899233048,
          0.2527528862919845,
          -0.001674153266550335,
          0.5043448105920989,
          0.3309253484350016,
          0.5444517567038389,
          -0.25063989816675336,
          0.6116861035660841,
          0.12763835708199744,
          0.3640684821481064,
          0.3858561472768958,
          -0.038116754079083666,
          0.04495291037489943,
          0.031983526352564434,
          0.510888407830883,
          0.7360412191161867,
          0.42576697782662504,
          0.18855263147215345,
          0.18815613321270752,
          0.19516823901545577,
          -0.0597376177735414,
          0.9743092213460129,
          0.6803282269489316,
          0.8419146122063244,
          0.5417604390612498,
          -0.3028233787371309,
          0.56586930754229,
          -0.07493739354620019,
          0.4605890560414576,
          0.46592050448778,
          -0.1856261348625542,
          0.6556860540610533,
          0.8551463439318437,
          0.033299057697175526
         ]
        },
        {
         "customdata": [
          [
           null,
           0.25,
           0.25,
           0.25,
           0.25
          ],
          [
           null,
           0.25,
           0.25,
           0.25,
           0.25
          ],
          [
           null,
           0.25,
           0.25,
           0.25,
           0.25
          ],
          [
           null,
           0.25,
           0.25,
           0.25,
           0.25
          ],
          [
           null,
           0.25,
           0.25,
           0.25,
           0.25
          ],
          [
           null,
           0.25,
           0.25,
           0.25,
           0.25
          ],
          [
           null,
           0.25,
           0.25,
           0.25,
           0.25
          ],
          [
           null,
           0.25,
           0.25,
           0.25,
           0.25
          ],
          [
           null,
           0.25,
           0.25,
           0.25,
           0.25
          ],
          [
           null,
           0.25,
           0.25,
           0.25,
           0.25
          ],
          [
           null,
           0.25,
           0.25,
           0.25,
           0.25
          ],
          [
           null,
           0.25,
           0.25,
           0.25,
           0.25
          ],
          [
           null,
           0.25,
           0.25,
           0.25,
           0.25
          ],
          [
           null,
           0.25,
           0.25,
           0.25,
           0.25
          ],
          [
           null,
           0.25,
           0.25,
           0.25,
           0.25
          ],
          [
           null,
           0.25,
           0.25,
           0.25,
           0.25
          ],
          [
           null,
           0.25,
           0.25,
           0.25,
           0.25
          ],
          [
           null,
           0.25,
           0.25,
           0.25,
           0.25
          ],
          [
           null,
           0.25,
           0.25,
           0.25,
           0.25
          ],
          [
           null,
           0.25,
           0.25,
           0.25,
           0.25
          ],
          [
           1.1338931630718665,
           0.25,
           0.25,
           0.25,
           0.25
          ],
          [
           0.7554608701997606,
           0.25,
           0.25,
           0.25,
           0.25
          ],
          [
           1.1831100671973414,
           0.25,
           0.25,
           0.25,
           0.25
          ],
          [
           1.577821442228201,
           0.25,
           0.25,
           0.25,
           0.25
          ],
          [
           1.9499608994532858,
           0.25,
           0.25,
           0.25,
           0.25
          ],
          [
           1.9133566691420252,
           0.25,
           0.25,
           0.25,
           0.25
          ],
          [
           1.7881787030584746,
           0.25,
           0.25,
           0.25,
           0.25
          ],
          [
           1.5226079862398592,
           0.25,
           0.25,
           0.25,
           0.25
          ],
          [
           1.8646337306326424,
           0.25,
           0.25,
           0.25,
           0.25
          ],
          [
           1.7391873806376843,
           0.25,
           0.25,
           0.25,
           0.25
          ],
          [
           1.849353444429517,
           0.25,
           0.25,
           0.25,
           0.25
          ],
          [
           1.9744166671411867,
           0.25,
           0.25,
           0.25,
           0.25
          ],
          [
           2.1951843358388485,
           0.25,
           0.25,
           0.25,
           0.25
          ],
          [
           3.447051386141792,
           0.25,
           0.25,
           0.25,
           0.25
          ],
          [
           4.859606257538297,
           0.25,
           0.25,
           0.25,
           0.25
          ],
          [
           4.5300626834806135,
           0.25,
           0.25,
           0.25,
           0.25
          ],
          [
           4.455327740133759,
           0.25,
           0.25,
           0.25,
           0.25
          ],
          [
           3.699503447178843,
           0.25,
           0.25,
           0.25,
           0.25
          ],
          [
           2.479406003823069,
           0.25,
           0.25,
           0.25,
           0.25
          ],
          [
           2.5388940226432504,
           0.25,
           0.25,
           0.25,
           0.25
          ],
          [
           4.603436108994639,
           0.25,
           0.25,
           0.25,
           0.25
          ],
          [
           4.2935446638469825,
           0.25,
           0.25,
           0.25,
           0.25
          ],
          [
           3.996304067201761,
           0.25,
           0.25,
           0.25,
           0.25
          ],
          [
           4.304016665588516,
           0.25,
           0.25,
           0.25,
           0.25
          ],
          [
           4.425601813872425,
           0.25,
           0.25,
           0.25,
           0.25
          ],
          [
           4.574904118432369,
           0.25,
           0.25,
           0.25,
           0.25
          ],
          [
           3.659598809413478,
           0.25,
           0.25,
           0.25,
           0.25
          ],
          [
           4.063779967146082,
           0.25,
           0.25,
           0.25,
           0.25
          ],
          [
           3.5848717920947024,
           0.25,
           0.25,
           0.25,
           0.25
          ],
          [
           3.3775408198615375,
           0.25,
           0.25,
           0.25,
           0.25
          ],
          [
           3.214116344227616,
           0.25,
           0.25,
           0.25,
           0.25
          ],
          [
           3.044047945188719,
           0.25,
           0.25,
           0.25,
           0.25
          ],
          [
           4.265016820265045,
           0.25,
           0.25,
           0.25,
           0.25
          ],
          [
           4.806675676226254,
           0.25,
           0.25,
           0.25,
           0.25
          ]
         ],
         "hovertemplate": "Strategy: equal weights <br>Year: %{x:4.0f}<br>Return: %{y:0.1%}<br>Weight in Risky Portfolio: %{customdata[0]: 0.1%} <br>Risky Portfolio Weights:<br>  S&P 500: %{customdata[1]: 0.1%} <br>  Gold: %{customdata[2]: 0.1%} <br>  Corporates: %{customdata[3]: 0.1%} <br>  Treasuries: %{customdata[4]: 0.1%} <br><extra></extra>",
         "name": "Equal Weights",
         "type": "scatter",
         "x": [
          1968,
          1969,
          1970,
          1971,
          1972,
          1973,
          1974,
          1975,
          1976,
          1977,
          1978,
          1979,
          1980,
          1981,
          1982,
          1983,
          1984,
          1985,
          1986,
          1987,
          1988,
          1989,
          1990,
          1991,
          1992,
          1993,
          1994,
          1995,
          1996,
          1997,
          1998,
          1999,
          2000,
          2001,
          2002,
          2003,
          2004,
          2005,
          2006,
          2007,
          2008,
          2009,
          2010,
          2011,
          2012,
          2013,
          2014,
          2015,
          2016,
          2017,
          2018,
          2019,
          2020,
          2021
         ],
         "y": [
          null,
          null,
          null,
          null,
          null,
          null,
          null,
          null,
          null,
          null,
          null,
          null,
          null,
          null,
          null,
          null,
          null,
          null,
          null,
          null,
          0.05962254735151154,
          0.1383068289767706,
          0.0064427593477521805,
          0.17988290797906914,
          0.08062902868166319,
          0.24985353863476095,
          -0.0786952767576075,
          0.2831779022039328,
          0.07077384254778213,
          0.1066609395037861,
          0.19337115073185235,
          0.027151432721199843,
          -0.010822785586834402,
          -0.057460889505357195,
          0.29397549038484816,
          0.6891166719144247,
          0.2878135432384095,
          0.19013993694752296,
          0.23094985833091572,
          0.25311228572981986,
          -0.257604314946275,
          0.7011126963951182,
          0.5890755122516041,
          0.45411558130972857,
          0.38066177712684574,
          -0.06853418805030463,
          0.314485492203302,
          -0.097697919123813,
          0.27810040013374454,
          0.36616064382748137,
          -0.10843573310885042,
          0.5391368418817006,
          0.678782190597929,
          0.2528523355363683
         ]
        }
       ],
       "layout": {
        "legend": {
         "x": 0.01,
         "xanchor": "left",
         "y": 0.99,
         "yanchor": "top"
        },
        "template": {
         "data": {
          "bar": [
           {
            "error_x": {
             "color": "#2a3f5f"
            },
            "error_y": {
             "color": "#2a3f5f"
            },
            "marker": {
             "line": {
              "color": "#E5ECF6",
              "width": 0.5
             },
             "pattern": {
              "fillmode": "overlay",
              "size": 10,
              "solidity": 0.2
             }
            },
            "type": "bar"
           }
          ],
          "barpolar": [
           {
            "marker": {
             "line": {
              "color": "#E5ECF6",
              "width": 0.5
             },
             "pattern": {
              "fillmode": "overlay",
              "size": 10,
              "solidity": 0.2
             }
            },
            "type": "barpolar"
           }
          ],
          "carpet": [
           {
            "aaxis": {
             "endlinecolor": "#2a3f5f",
             "gridcolor": "white",
             "linecolor": "white",
             "minorgridcolor": "white",
             "startlinecolor": "#2a3f5f"
            },
            "baxis": {
             "endlinecolor": "#2a3f5f",
             "gridcolor": "white",
             "linecolor": "white",
             "minorgridcolor": "white",
             "startlinecolor": "#2a3f5f"
            },
            "type": "carpet"
           }
          ],
          "choropleth": [
           {
            "colorbar": {
             "outlinewidth": 0,
             "ticks": ""
            },
            "type": "choropleth"
           }
          ],
          "contour": [
           {
            "colorbar": {
             "outlinewidth": 0,
             "ticks": ""
            },
            "colorscale": [
             [
              0,
              "#0d0887"
             ],
             [
              0.1111111111111111,
              "#46039f"
             ],
             [
              0.2222222222222222,
              "#7201a8"
             ],
             [
              0.3333333333333333,
              "#9c179e"
             ],
             [
              0.4444444444444444,
              "#bd3786"
             ],
             [
              0.5555555555555556,
              "#d8576b"
             ],
             [
              0.6666666666666666,
              "#ed7953"
             ],
             [
              0.7777777777777778,
              "#fb9f3a"
             ],
             [
              0.8888888888888888,
              "#fdca26"
             ],
             [
              1,
              "#f0f921"
             ]
            ],
            "type": "contour"
           }
          ],
          "contourcarpet": [
           {
            "colorbar": {
             "outlinewidth": 0,
             "ticks": ""
            },
            "type": "contourcarpet"
           }
          ],
          "heatmap": [
           {
            "colorbar": {
             "outlinewidth": 0,
             "ticks": ""
            },
            "colorscale": [
             [
              0,
              "#0d0887"
             ],
             [
              0.1111111111111111,
              "#46039f"
             ],
             [
              0.2222222222222222,
              "#7201a8"
             ],
             [
              0.3333333333333333,
              "#9c179e"
             ],
             [
              0.4444444444444444,
              "#bd3786"
             ],
             [
              0.5555555555555556,
              "#d8576b"
             ],
             [
              0.6666666666666666,
              "#ed7953"
             ],
             [
              0.7777777777777778,
              "#fb9f3a"
             ],
             [
              0.8888888888888888,
              "#fdca26"
             ],
             [
              1,
              "#f0f921"
             ]
            ],
            "type": "heatmap"
           }
          ],
          "heatmapgl": [
           {
            "colorbar": {
             "outlinewidth": 0,
             "ticks": ""
            },
            "colorscale": [
             [
              0,
              "#0d0887"
             ],
             [
              0.1111111111111111,
              "#46039f"
             ],
             [
              0.2222222222222222,
              "#7201a8"
             ],
             [
              0.3333333333333333,
              "#9c179e"
             ],
             [
              0.4444444444444444,
              "#bd3786"
             ],
             [
              0.5555555555555556,
              "#d8576b"
             ],
             [
              0.6666666666666666,
              "#ed7953"
             ],
             [
              0.7777777777777778,
              "#fb9f3a"
             ],
             [
              0.8888888888888888,
              "#fdca26"
             ],
             [
              1,
              "#f0f921"
             ]
            ],
            "type": "heatmapgl"
           }
          ],
          "histogram": [
           {
            "marker": {
             "pattern": {
              "fillmode": "overlay",
              "size": 10,
              "solidity": 0.2
             }
            },
            "type": "histogram"
           }
          ],
          "histogram2d": [
           {
            "colorbar": {
             "outlinewidth": 0,
             "ticks": ""
            },
            "colorscale": [
             [
              0,
              "#0d0887"
             ],
             [
              0.1111111111111111,
              "#46039f"
             ],
             [
              0.2222222222222222,
              "#7201a8"
             ],
             [
              0.3333333333333333,
              "#9c179e"
             ],
             [
              0.4444444444444444,
              "#bd3786"
             ],
             [
              0.5555555555555556,
              "#d8576b"
             ],
             [
              0.6666666666666666,
              "#ed7953"
             ],
             [
              0.7777777777777778,
              "#fb9f3a"
             ],
             [
              0.8888888888888888,
              "#fdca26"
             ],
             [
              1,
              "#f0f921"
             ]
            ],
            "type": "histogram2d"
           }
          ],
          "histogram2dcontour": [
           {
            "colorbar": {
             "outlinewidth": 0,
             "ticks": ""
            },
            "colorscale": [
             [
              0,
              "#0d0887"
             ],
             [
              0.1111111111111111,
              "#46039f"
             ],
             [
              0.2222222222222222,
              "#7201a8"
             ],
             [
              0.3333333333333333,
              "#9c179e"
             ],
             [
              0.4444444444444444,
              "#bd3786"
             ],
             [
              0.5555555555555556,
              "#d8576b"
             ],
             [
              0.6666666666666666,
              "#ed7953"
             ],
             [
              0.7777777777777778,
              "#fb9f3a"
             ],
             [
              0.8888888888888888,
              "#fdca26"
             ],
             [
              1,
              "#f0f921"
             ]
            ],
            "type": "histogram2dcontour"
           }
          ],
          "mesh3d": [
           {
            "colorbar": {
             "outlinewidth": 0,
             "ticks": ""
            },
            "type": "mesh3d"
           }
          ],
          "parcoords": [
           {
            "line": {
             "colorbar": {
              "outlinewidth": 0,
              "ticks": ""
             }
            },
            "type": "parcoords"
           }
          ],
          "pie": [
           {
            "automargin": true,
            "type": "pie"
           }
          ],
          "scatter": [
           {
            "fillpattern": {
             "fillmode": "overlay",
             "size": 10,
             "solidity": 0.2
            },
            "type": "scatter"
           }
          ],
          "scatter3d": [
           {
            "line": {
             "colorbar": {
              "outlinewidth": 0,
              "ticks": ""
             }
            },
            "marker": {
             "colorbar": {
              "outlinewidth": 0,
              "ticks": ""
             }
            },
            "type": "scatter3d"
           }
          ],
          "scattercarpet": [
           {
            "marker": {
             "colorbar": {
              "outlinewidth": 0,
              "ticks": ""
             }
            },
            "type": "scattercarpet"
           }
          ],
          "scattergeo": [
           {
            "marker": {
             "colorbar": {
              "outlinewidth": 0,
              "ticks": ""
             }
            },
            "type": "scattergeo"
           }
          ],
          "scattergl": [
           {
            "marker": {
             "colorbar": {
              "outlinewidth": 0,
              "ticks": ""
             }
            },
            "type": "scattergl"
           }
          ],
          "scattermapbox": [
           {
            "marker": {
             "colorbar": {
              "outlinewidth": 0,
              "ticks": ""
             }
            },
            "type": "scattermapbox"
           }
          ],
          "scatterpolar": [
           {
            "marker": {
             "colorbar": {
              "outlinewidth": 0,
              "ticks": ""
             }
            },
            "type": "scatterpolar"
           }
          ],
          "scatterpolargl": [
           {
            "marker": {
             "colorbar": {
              "outlinewidth": 0,
              "ticks": ""
             }
            },
            "type": "scatterpolargl"
           }
          ],
          "scatterternary": [
           {
            "marker": {
             "colorbar": {
              "outlinewidth": 0,
              "ticks": ""
             }
            },
            "type": "scatterternary"
           }
          ],
          "surface": [
           {
            "colorbar": {
             "outlinewidth": 0,
             "ticks": ""
            },
            "colorscale": [
             [
              0,
              "#0d0887"
             ],
             [
              0.1111111111111111,
              "#46039f"
             ],
             [
              0.2222222222222222,
              "#7201a8"
             ],
             [
              0.3333333333333333,
              "#9c179e"
             ],
             [
              0.4444444444444444,
              "#bd3786"
             ],
             [
              0.5555555555555556,
              "#d8576b"
             ],
             [
              0.6666666666666666,
              "#ed7953"
             ],
             [
              0.7777777777777778,
              "#fb9f3a"
             ],
             [
              0.8888888888888888,
              "#fdca26"
             ],
             [
              1,
              "#f0f921"
             ]
            ],
            "type": "surface"
           }
          ],
          "table": [
           {
            "cells": {
             "fill": {
              "color": "#EBF0F8"
             },
             "line": {
              "color": "white"
             }
            },
            "header": {
             "fill": {
              "color": "#C8D4E3"
             },
             "line": {
              "color": "white"
             }
            },
            "type": "table"
           }
          ]
         },
         "layout": {
          "annotationdefaults": {
           "arrowcolor": "#2a3f5f",
           "arrowhead": 0,
           "arrowwidth": 1
          },
          "autotypenumbers": "strict",
          "coloraxis": {
           "colorbar": {
            "outlinewidth": 0,
            "ticks": ""
           }
          },
          "colorscale": {
           "diverging": [
            [
             0,
             "#8e0152"
            ],
            [
             0.1,
             "#c51b7d"
            ],
            [
             0.2,
             "#de77ae"
            ],
            [
             0.3,
             "#f1b6da"
            ],
            [
             0.4,
             "#fde0ef"
            ],
            [
             0.5,
             "#f7f7f7"
            ],
            [
             0.6,
             "#e6f5d0"
            ],
            [
             0.7,
             "#b8e186"
            ],
            [
             0.8,
             "#7fbc41"
            ],
            [
             0.9,
             "#4d9221"
            ],
            [
             1,
             "#276419"
            ]
           ],
           "sequential": [
            [
             0,
             "#0d0887"
            ],
            [
             0.1111111111111111,
             "#46039f"
            ],
            [
             0.2222222222222222,
             "#7201a8"
            ],
            [
             0.3333333333333333,
             "#9c179e"
            ],
            [
             0.4444444444444444,
             "#bd3786"
            ],
            [
             0.5555555555555556,
             "#d8576b"
            ],
            [
             0.6666666666666666,
             "#ed7953"
            ],
            [
             0.7777777777777778,
             "#fb9f3a"
            ],
            [
             0.8888888888888888,
             "#fdca26"
            ],
            [
             1,
             "#f0f921"
            ]
           ],
           "sequentialminus": [
            [
             0,
             "#0d0887"
            ],
            [
             0.1111111111111111,
             "#46039f"
            ],
            [
             0.2222222222222222,
             "#7201a8"
            ],
            [
             0.3333333333333333,
             "#9c179e"
            ],
            [
             0.4444444444444444,
             "#bd3786"
            ],
            [
             0.5555555555555556,
             "#d8576b"
            ],
            [
             0.6666666666666666,
             "#ed7953"
            ],
            [
             0.7777777777777778,
             "#fb9f3a"
            ],
            [
             0.8888888888888888,
             "#fdca26"
            ],
            [
             1,
             "#f0f921"
            ]
           ]
          },
          "colorway": [
           "#636efa",
           "#EF553B",
           "#00cc96",
           "#ab63fa",
           "#FFA15A",
           "#19d3f3",
           "#FF6692",
           "#B6E880",
           "#FF97FF",
           "#FECB52"
          ],
          "font": {
           "color": "#2a3f5f"
          },
          "geo": {
           "bgcolor": "white",
           "lakecolor": "white",
           "landcolor": "#E5ECF6",
           "showlakes": true,
           "showland": true,
           "subunitcolor": "white"
          },
          "hoverlabel": {
           "align": "left"
          },
          "hovermode": "closest",
          "mapbox": {
           "style": "light"
          },
          "paper_bgcolor": "white",
          "plot_bgcolor": "#E5ECF6",
          "polar": {
           "angularaxis": {
            "gridcolor": "white",
            "linecolor": "white",
            "ticks": ""
           },
           "bgcolor": "#E5ECF6",
           "radialaxis": {
            "gridcolor": "white",
            "linecolor": "white",
            "ticks": ""
           }
          },
          "scene": {
           "xaxis": {
            "backgroundcolor": "#E5ECF6",
            "gridcolor": "white",
            "gridwidth": 2,
            "linecolor": "white",
            "showbackground": true,
            "ticks": "",
            "zerolinecolor": "white"
           },
           "yaxis": {
            "backgroundcolor": "#E5ECF6",
            "gridcolor": "white",
            "gridwidth": 2,
            "linecolor": "white",
            "showbackground": true,
            "ticks": "",
            "zerolinecolor": "white"
           },
           "zaxis": {
            "backgroundcolor": "#E5ECF6",
            "gridcolor": "white",
            "gridwidth": 2,
            "linecolor": "white",
            "showbackground": true,
            "ticks": "",
            "zerolinecolor": "white"
           }
          },
          "shapedefaults": {
           "line": {
            "color": "#2a3f5f"
           }
          },
          "ternary": {
           "aaxis": {
            "gridcolor": "white",
            "linecolor": "white",
            "ticks": ""
           },
           "baxis": {
            "gridcolor": "white",
            "linecolor": "white",
            "ticks": ""
           },
           "bgcolor": "#E5ECF6",
           "caxis": {
            "gridcolor": "white",
            "linecolor": "white",
            "ticks": ""
           }
          },
          "title": {
           "x": 0.05
          },
          "xaxis": {
           "automargin": true,
           "gridcolor": "white",
           "linecolor": "white",
           "ticks": "",
           "title": {
            "standoff": 15
           },
           "zerolinecolor": "white",
           "zerolinewidth": 2
          },
          "yaxis": {
           "automargin": true,
           "gridcolor": "white",
           "linecolor": "white",
           "ticks": "",
           "title": {
            "standoff": 15
           },
           "zerolinecolor": "white",
           "zerolinewidth": 2
          }
         }
        },
        "xaxis": {
         "range": [
          1988,
          2021
         ],
         "title": {
          "text": "Year"
         }
        },
        "yaxis": {
         "tickformat": ".0%",
         "title": {
          "text": "Return"
         }
        }
       }
      }
     },
     "metadata": {},
     "output_type": "display_data"
    }
   ],
   "source": [
    "# Plot the time-series of returns and portfolio weights.\n",
    "for asset in asset_list:\n",
    "    df['wgt'+asset + '_ew'] = 1/n\n",
    "label_dict = {'ew': 'equal weights',\n",
    "            'est_all': 'estimate all inputs',\n",
    "            'est_cov': 'estimate covariance matrix only',\n",
    "            'est_sds': 'estimate standard deviations only'}\n",
    "xaxis_label_dict = {'true': 'theoretical optimal weights', \n",
    "            'ew': 'Equal Weights',\n",
    "            'est_all': 'Tangency',\n",
    "            'est_cov': 'GMV',\n",
    "            'est_sds': 'Risk Parity'}            \n",
    "\n",
    "fig = go.Figure()\n",
    "for model in ['est_all', 'est_cov', 'est_sds', 'ew']:\n",
    "    string =  \"Strategy: \" + label_dict[model] +\" <br>\"\n",
    "    string += \"Year: %{x:4.0f}<br>\"\n",
    "    string += \"Return: %{y:0.1%}<br>\"\n",
    "    string += \"Weight in Risky Portfolio: %{customdata[0]: 0.1%} <br>\"\n",
    "    string += \"Risky Portfolio Weights:<br>\"\n",
    "    string += \"  \"+ risky[0] +\": %{customdata[1]: 0.1%} <br>\"\n",
    "    string += \"  \"+ risky[1] +\": %{customdata[2]: 0.1%} <br>\"\n",
    "    string += \"  \"+ risky[2] +\": %{customdata[3]: 0.1%} <br>\"\n",
    "    string += \"  \"+ risky[3] +\": %{customdata[4]: 0.1%} <br>\"\n",
    "    string += \"<extra></extra>\"\n",
    "\n",
    "    wgt_list = ['wgt_cal_'+ model] + ['wgt'+asset + \"_\" + model for asset in asset_list]\n",
    "    trace=go.Scatter(x=df['year'], y=df['raver_portret_'+model], customdata=df[wgt_list], hovertemplate=string, name = xaxis_label_dict[model])\n",
    "    fig.add_trace(trace)\n",
    "fig.layout.yaxis[\"title\"] = \"Return\"\n",
    "fig.layout.xaxis[\"title\"] = \"Year\"\n",
    "fig.update_yaxes(tickformat=\".0%\")\n",
    "fig.update_layout(legend=dict(yanchor=\"top\", y =0.99, xanchor=\"left\", x=0.01))\n",
    "fig.update_xaxes(range=[df['year'].iloc[window], df.year.max()])\n",
    "fig.show()"
   ]
  },
  {
   "cell_type": "code",
   "execution_count": 29,
   "metadata": {},
   "outputs": [
    {
     "data": {
      "application/vnd.plotly.v1+json": {
       "config": {
        "plotlyServerURL": "https://plot.ly"
       },
       "data": [
        {
         "hovertemplate": "Strategy: estimate all inputs <br>Year: %{x:4.0f}<br>Weight in Risky Portfolio: %{y: 0.1%} <br><extra></extra>",
         "name": "Tangency",
         "type": "scatter",
         "x": [
          1968,
          1969,
          1970,
          1971,
          1972,
          1973,
          1974,
          1975,
          1976,
          1977,
          1978,
          1979,
          1980,
          1981,
          1982,
          1983,
          1984,
          1985,
          1986,
          1987,
          1988,
          1989,
          1990,
          1991,
          1992,
          1993,
          1994,
          1995,
          1996,
          1997,
          1998,
          1999,
          2000,
          2001,
          2002,
          2003,
          2004,
          2005,
          2006,
          2007,
          2008,
          2009,
          2010,
          2011,
          2012,
          2013,
          2014,
          2015,
          2016,
          2017,
          2018,
          2019,
          2020,
          2021
         ],
         "y": [
          null,
          null,
          null,
          null,
          null,
          null,
          null,
          null,
          null,
          null,
          null,
          null,
          null,
          null,
          null,
          null,
          null,
          null,
          null,
          null,
          1.409971941806668,
          1.012864952760892,
          2.007324875952532,
          3.1009399085149667,
          3.967778283343357,
          4.341458051680747,
          3.747207941362266,
          3.761680550145702,
          4.045771626137521,
          3.9479836958275643,
          4.030574549255489,
          3.692884267611654,
          2.5897998356025984,
          3.1514267405103054,
          4.241781142372106,
          5.480125713716546,
          5.090805218031703,
          4.104577694001074,
          3.2711795664980996,
          3.74139040190384,
          6.18960419072932,
          5.290689264322044,
          5.270785346715947,
          5.633103806175869,
          5.651090730468091,
          5.632448613176119,
          4.367782423953463,
          5.861715971817256,
          7.066310751492046,
          6.467194853375013,
          5.855102633347634,
          5.499648430716805,
          7.435818432035327,
          7.51530344471214
         ]
        },
        {
         "hovertemplate": "Strategy: estimate covariance matrix only <br>Year: %{x:4.0f}<br>Weight in Risky Portfolio: %{y: 0.1%} <br><extra></extra>",
         "name": "GMV",
         "type": "scatter",
         "x": [
          1968,
          1969,
          1970,
          1971,
          1972,
          1973,
          1974,
          1975,
          1976,
          1977,
          1978,
          1979,
          1980,
          1981,
          1982,
          1983,
          1984,
          1985,
          1986,
          1987,
          1988,
          1989,
          1990,
          1991,
          1992,
          1993,
          1994,
          1995,
          1996,
          1997,
          1998,
          1999,
          2000,
          2001,
          2002,
          2003,
          2004,
          2005,
          2006,
          2007,
          2008,
          2009,
          2010,
          2011,
          2012,
          2013,
          2014,
          2015,
          2016,
          2017,
          2018,
          2019,
          2020,
          2021
         ],
         "y": [
          null,
          null,
          null,
          null,
          null,
          null,
          null,
          null,
          null,
          null,
          null,
          null,
          null,
          null,
          null,
          null,
          null,
          null,
          null,
          null,
          1.7030509317179474,
          1.173960842443053,
          2.2743966505776707,
          3.0701874912768448,
          3.916602964700227,
          4.022873059783724,
          3.3194681368657784,
          2.5462528526956016,
          3.051980989347987,
          2.8981418000975805,
          3.0900619019780433,
          2.9704178189907413,
          1.8213365202655327,
          2.605657960740277,
          4.078546117427237,
          4.992652994475884,
          4.419235373179667,
          3.525295219985532,
          2.627359399767093,
          3.2635750570950828,
          5.974573369756079,
          5.3961113763953525,
          5.412510562551164,
          5.910429766064413,
          5.810377843146657,
          5.914386142740125,
          4.648275440725614,
          6.148034169331345,
          7.4421215004510675,
          6.916310557416255,
          6.971816472853758,
          7.328349195625178,
          8.949810207581693,
          10.20120774667873
         ]
        },
        {
         "hovertemplate": "Strategy: estimate standard deviations only <br>Year: %{x:4.0f}<br>Weight in Risky Portfolio: %{y: 0.1%} <br><extra></extra>",
         "name": "Risk Parity",
         "type": "scatter",
         "x": [
          1968,
          1969,
          1970,
          1971,
          1972,
          1973,
          1974,
          1975,
          1976,
          1977,
          1978,
          1979,
          1980,
          1981,
          1982,
          1983,
          1984,
          1985,
          1986,
          1987,
          1988,
          1989,
          1990,
          1991,
          1992,
          1993,
          1994,
          1995,
          1996,
          1997,
          1998,
          1999,
          2000,
          2001,
          2002,
          2003,
          2004,
          2005,
          2006,
          2007,
          2008,
          2009,
          2010,
          2011,
          2012,
          2013,
          2014,
          2015,
          2016,
          2017,
          2018,
          2019,
          2020,
          2021
         ],
         "y": [
          null,
          null,
          null,
          null,
          null,
          null,
          null,
          null,
          null,
          null,
          null,
          null,
          null,
          null,
          null,
          null,
          null,
          null,
          null,
          null,
          2.452078192158818,
          1.6684190155777439,
          2.675576047598323,
          3.6214582000325257,
          4.4932022034655725,
          4.380046722836678,
          3.814789640610835,
          2.9975781053572135,
          3.5072354984729026,
          3.2722662637560953,
          3.5488621976591914,
          3.7879964373698876,
          2.4536024387722413,
          4.072979234598706,
          5.632867385649754,
          6.222270187944015,
          6.255152539041093,
          5.116325030378397,
          3.6527199248979882,
          4.080080010898267,
          7.674378870422307,
          7.081282112984541,
          6.09355772064298,
          6.632034110324937,
          6.807294414733575,
          7.009460690560996,
          5.901899617876238,
          6.871483021138972,
          6.317420016845127,
          5.873000655455195,
          5.2862685588676825,
          4.715636520646068,
          6.823959961836973,
          7.670188790890231
         ]
        },
        {
         "hovertemplate": "Strategy: equal weights <br>Year: %{x:4.0f}<br>Weight in Risky Portfolio: %{y: 0.1%} <br><extra></extra>",
         "name": "Equal Weights",
         "type": "scatter",
         "x": [
          1968,
          1969,
          1970,
          1971,
          1972,
          1973,
          1974,
          1975,
          1976,
          1977,
          1978,
          1979,
          1980,
          1981,
          1982,
          1983,
          1984,
          1985,
          1986,
          1987,
          1988,
          1989,
          1990,
          1991,
          1992,
          1993,
          1994,
          1995,
          1996,
          1997,
          1998,
          1999,
          2000,
          2001,
          2002,
          2003,
          2004,
          2005,
          2006,
          2007,
          2008,
          2009,
          2010,
          2011,
          2012,
          2013,
          2014,
          2015,
          2016,
          2017,
          2018,
          2019,
          2020,
          2021
         ],
         "y": [
          null,
          null,
          null,
          null,
          null,
          null,
          null,
          null,
          null,
          null,
          null,
          null,
          null,
          null,
          null,
          null,
          null,
          null,
          null,
          null,
          1.1338931630718665,
          0.7554608701997606,
          1.1831100671973414,
          1.577821442228201,
          1.9499608994532858,
          1.9133566691420252,
          1.7881787030584746,
          1.5226079862398592,
          1.8646337306326424,
          1.7391873806376843,
          1.849353444429517,
          1.9744166671411867,
          2.1951843358388485,
          3.447051386141792,
          4.859606257538297,
          4.5300626834806135,
          4.455327740133759,
          3.699503447178843,
          2.479406003823069,
          2.5388940226432504,
          4.603436108994639,
          4.2935446638469825,
          3.996304067201761,
          4.304016665588516,
          4.425601813872425,
          4.574904118432369,
          3.659598809413478,
          4.063779967146082,
          3.5848717920947024,
          3.3775408198615375,
          3.214116344227616,
          3.044047945188719,
          4.265016820265045,
          4.806675676226254
         ]
        }
       ],
       "layout": {
        "legend": {
         "x": 0.01,
         "xanchor": "left",
         "y": 0.99,
         "yanchor": "top"
        },
        "template": {
         "data": {
          "bar": [
           {
            "error_x": {
             "color": "#2a3f5f"
            },
            "error_y": {
             "color": "#2a3f5f"
            },
            "marker": {
             "line": {
              "color": "#E5ECF6",
              "width": 0.5
             },
             "pattern": {
              "fillmode": "overlay",
              "size": 10,
              "solidity": 0.2
             }
            },
            "type": "bar"
           }
          ],
          "barpolar": [
           {
            "marker": {
             "line": {
              "color": "#E5ECF6",
              "width": 0.5
             },
             "pattern": {
              "fillmode": "overlay",
              "size": 10,
              "solidity": 0.2
             }
            },
            "type": "barpolar"
           }
          ],
          "carpet": [
           {
            "aaxis": {
             "endlinecolor": "#2a3f5f",
             "gridcolor": "white",
             "linecolor": "white",
             "minorgridcolor": "white",
             "startlinecolor": "#2a3f5f"
            },
            "baxis": {
             "endlinecolor": "#2a3f5f",
             "gridcolor": "white",
             "linecolor": "white",
             "minorgridcolor": "white",
             "startlinecolor": "#2a3f5f"
            },
            "type": "carpet"
           }
          ],
          "choropleth": [
           {
            "colorbar": {
             "outlinewidth": 0,
             "ticks": ""
            },
            "type": "choropleth"
           }
          ],
          "contour": [
           {
            "colorbar": {
             "outlinewidth": 0,
             "ticks": ""
            },
            "colorscale": [
             [
              0,
              "#0d0887"
             ],
             [
              0.1111111111111111,
              "#46039f"
             ],
             [
              0.2222222222222222,
              "#7201a8"
             ],
             [
              0.3333333333333333,
              "#9c179e"
             ],
             [
              0.4444444444444444,
              "#bd3786"
             ],
             [
              0.5555555555555556,
              "#d8576b"
             ],
             [
              0.6666666666666666,
              "#ed7953"
             ],
             [
              0.7777777777777778,
              "#fb9f3a"
             ],
             [
              0.8888888888888888,
              "#fdca26"
             ],
             [
              1,
              "#f0f921"
             ]
            ],
            "type": "contour"
           }
          ],
          "contourcarpet": [
           {
            "colorbar": {
             "outlinewidth": 0,
             "ticks": ""
            },
            "type": "contourcarpet"
           }
          ],
          "heatmap": [
           {
            "colorbar": {
             "outlinewidth": 0,
             "ticks": ""
            },
            "colorscale": [
             [
              0,
              "#0d0887"
             ],
             [
              0.1111111111111111,
              "#46039f"
             ],
             [
              0.2222222222222222,
              "#7201a8"
             ],
             [
              0.3333333333333333,
              "#9c179e"
             ],
             [
              0.4444444444444444,
              "#bd3786"
             ],
             [
              0.5555555555555556,
              "#d8576b"
             ],
             [
              0.6666666666666666,
              "#ed7953"
             ],
             [
              0.7777777777777778,
              "#fb9f3a"
             ],
             [
              0.8888888888888888,
              "#fdca26"
             ],
             [
              1,
              "#f0f921"
             ]
            ],
            "type": "heatmap"
           }
          ],
          "heatmapgl": [
           {
            "colorbar": {
             "outlinewidth": 0,
             "ticks": ""
            },
            "colorscale": [
             [
              0,
              "#0d0887"
             ],
             [
              0.1111111111111111,
              "#46039f"
             ],
             [
              0.2222222222222222,
              "#7201a8"
             ],
             [
              0.3333333333333333,
              "#9c179e"
             ],
             [
              0.4444444444444444,
              "#bd3786"
             ],
             [
              0.5555555555555556,
              "#d8576b"
             ],
             [
              0.6666666666666666,
              "#ed7953"
             ],
             [
              0.7777777777777778,
              "#fb9f3a"
             ],
             [
              0.8888888888888888,
              "#fdca26"
             ],
             [
              1,
              "#f0f921"
             ]
            ],
            "type": "heatmapgl"
           }
          ],
          "histogram": [
           {
            "marker": {
             "pattern": {
              "fillmode": "overlay",
              "size": 10,
              "solidity": 0.2
             }
            },
            "type": "histogram"
           }
          ],
          "histogram2d": [
           {
            "colorbar": {
             "outlinewidth": 0,
             "ticks": ""
            },
            "colorscale": [
             [
              0,
              "#0d0887"
             ],
             [
              0.1111111111111111,
              "#46039f"
             ],
             [
              0.2222222222222222,
              "#7201a8"
             ],
             [
              0.3333333333333333,
              "#9c179e"
             ],
             [
              0.4444444444444444,
              "#bd3786"
             ],
             [
              0.5555555555555556,
              "#d8576b"
             ],
             [
              0.6666666666666666,
              "#ed7953"
             ],
             [
              0.7777777777777778,
              "#fb9f3a"
             ],
             [
              0.8888888888888888,
              "#fdca26"
             ],
             [
              1,
              "#f0f921"
             ]
            ],
            "type": "histogram2d"
           }
          ],
          "histogram2dcontour": [
           {
            "colorbar": {
             "outlinewidth": 0,
             "ticks": ""
            },
            "colorscale": [
             [
              0,
              "#0d0887"
             ],
             [
              0.1111111111111111,
              "#46039f"
             ],
             [
              0.2222222222222222,
              "#7201a8"
             ],
             [
              0.3333333333333333,
              "#9c179e"
             ],
             [
              0.4444444444444444,
              "#bd3786"
             ],
             [
              0.5555555555555556,
              "#d8576b"
             ],
             [
              0.6666666666666666,
              "#ed7953"
             ],
             [
              0.7777777777777778,
              "#fb9f3a"
             ],
             [
              0.8888888888888888,
              "#fdca26"
             ],
             [
              1,
              "#f0f921"
             ]
            ],
            "type": "histogram2dcontour"
           }
          ],
          "mesh3d": [
           {
            "colorbar": {
             "outlinewidth": 0,
             "ticks": ""
            },
            "type": "mesh3d"
           }
          ],
          "parcoords": [
           {
            "line": {
             "colorbar": {
              "outlinewidth": 0,
              "ticks": ""
             }
            },
            "type": "parcoords"
           }
          ],
          "pie": [
           {
            "automargin": true,
            "type": "pie"
           }
          ],
          "scatter": [
           {
            "fillpattern": {
             "fillmode": "overlay",
             "size": 10,
             "solidity": 0.2
            },
            "type": "scatter"
           }
          ],
          "scatter3d": [
           {
            "line": {
             "colorbar": {
              "outlinewidth": 0,
              "ticks": ""
             }
            },
            "marker": {
             "colorbar": {
              "outlinewidth": 0,
              "ticks": ""
             }
            },
            "type": "scatter3d"
           }
          ],
          "scattercarpet": [
           {
            "marker": {
             "colorbar": {
              "outlinewidth": 0,
              "ticks": ""
             }
            },
            "type": "scattercarpet"
           }
          ],
          "scattergeo": [
           {
            "marker": {
             "colorbar": {
              "outlinewidth": 0,
              "ticks": ""
             }
            },
            "type": "scattergeo"
           }
          ],
          "scattergl": [
           {
            "marker": {
             "colorbar": {
              "outlinewidth": 0,
              "ticks": ""
             }
            },
            "type": "scattergl"
           }
          ],
          "scattermapbox": [
           {
            "marker": {
             "colorbar": {
              "outlinewidth": 0,
              "ticks": ""
             }
            },
            "type": "scattermapbox"
           }
          ],
          "scatterpolar": [
           {
            "marker": {
             "colorbar": {
              "outlinewidth": 0,
              "ticks": ""
             }
            },
            "type": "scatterpolar"
           }
          ],
          "scatterpolargl": [
           {
            "marker": {
             "colorbar": {
              "outlinewidth": 0,
              "ticks": ""
             }
            },
            "type": "scatterpolargl"
           }
          ],
          "scatterternary": [
           {
            "marker": {
             "colorbar": {
              "outlinewidth": 0,
              "ticks": ""
             }
            },
            "type": "scatterternary"
           }
          ],
          "surface": [
           {
            "colorbar": {
             "outlinewidth": 0,
             "ticks": ""
            },
            "colorscale": [
             [
              0,
              "#0d0887"
             ],
             [
              0.1111111111111111,
              "#46039f"
             ],
             [
              0.2222222222222222,
              "#7201a8"
             ],
             [
              0.3333333333333333,
              "#9c179e"
             ],
             [
              0.4444444444444444,
              "#bd3786"
             ],
             [
              0.5555555555555556,
              "#d8576b"
             ],
             [
              0.6666666666666666,
              "#ed7953"
             ],
             [
              0.7777777777777778,
              "#fb9f3a"
             ],
             [
              0.8888888888888888,
              "#fdca26"
             ],
             [
              1,
              "#f0f921"
             ]
            ],
            "type": "surface"
           }
          ],
          "table": [
           {
            "cells": {
             "fill": {
              "color": "#EBF0F8"
             },
             "line": {
              "color": "white"
             }
            },
            "header": {
             "fill": {
              "color": "#C8D4E3"
             },
             "line": {
              "color": "white"
             }
            },
            "type": "table"
           }
          ]
         },
         "layout": {
          "annotationdefaults": {
           "arrowcolor": "#2a3f5f",
           "arrowhead": 0,
           "arrowwidth": 1
          },
          "autotypenumbers": "strict",
          "coloraxis": {
           "colorbar": {
            "outlinewidth": 0,
            "ticks": ""
           }
          },
          "colorscale": {
           "diverging": [
            [
             0,
             "#8e0152"
            ],
            [
             0.1,
             "#c51b7d"
            ],
            [
             0.2,
             "#de77ae"
            ],
            [
             0.3,
             "#f1b6da"
            ],
            [
             0.4,
             "#fde0ef"
            ],
            [
             0.5,
             "#f7f7f7"
            ],
            [
             0.6,
             "#e6f5d0"
            ],
            [
             0.7,
             "#b8e186"
            ],
            [
             0.8,
             "#7fbc41"
            ],
            [
             0.9,
             "#4d9221"
            ],
            [
             1,
             "#276419"
            ]
           ],
           "sequential": [
            [
             0,
             "#0d0887"
            ],
            [
             0.1111111111111111,
             "#46039f"
            ],
            [
             0.2222222222222222,
             "#7201a8"
            ],
            [
             0.3333333333333333,
             "#9c179e"
            ],
            [
             0.4444444444444444,
             "#bd3786"
            ],
            [
             0.5555555555555556,
             "#d8576b"
            ],
            [
             0.6666666666666666,
             "#ed7953"
            ],
            [
             0.7777777777777778,
             "#fb9f3a"
            ],
            [
             0.8888888888888888,
             "#fdca26"
            ],
            [
             1,
             "#f0f921"
            ]
           ],
           "sequentialminus": [
            [
             0,
             "#0d0887"
            ],
            [
             0.1111111111111111,
             "#46039f"
            ],
            [
             0.2222222222222222,
             "#7201a8"
            ],
            [
             0.3333333333333333,
             "#9c179e"
            ],
            [
             0.4444444444444444,
             "#bd3786"
            ],
            [
             0.5555555555555556,
             "#d8576b"
            ],
            [
             0.6666666666666666,
             "#ed7953"
            ],
            [
             0.7777777777777778,
             "#fb9f3a"
            ],
            [
             0.8888888888888888,
             "#fdca26"
            ],
            [
             1,
             "#f0f921"
            ]
           ]
          },
          "colorway": [
           "#636efa",
           "#EF553B",
           "#00cc96",
           "#ab63fa",
           "#FFA15A",
           "#19d3f3",
           "#FF6692",
           "#B6E880",
           "#FF97FF",
           "#FECB52"
          ],
          "font": {
           "color": "#2a3f5f"
          },
          "geo": {
           "bgcolor": "white",
           "lakecolor": "white",
           "landcolor": "#E5ECF6",
           "showlakes": true,
           "showland": true,
           "subunitcolor": "white"
          },
          "hoverlabel": {
           "align": "left"
          },
          "hovermode": "closest",
          "mapbox": {
           "style": "light"
          },
          "paper_bgcolor": "white",
          "plot_bgcolor": "#E5ECF6",
          "polar": {
           "angularaxis": {
            "gridcolor": "white",
            "linecolor": "white",
            "ticks": ""
           },
           "bgcolor": "#E5ECF6",
           "radialaxis": {
            "gridcolor": "white",
            "linecolor": "white",
            "ticks": ""
           }
          },
          "scene": {
           "xaxis": {
            "backgroundcolor": "#E5ECF6",
            "gridcolor": "white",
            "gridwidth": 2,
            "linecolor": "white",
            "showbackground": true,
            "ticks": "",
            "zerolinecolor": "white"
           },
           "yaxis": {
            "backgroundcolor": "#E5ECF6",
            "gridcolor": "white",
            "gridwidth": 2,
            "linecolor": "white",
            "showbackground": true,
            "ticks": "",
            "zerolinecolor": "white"
           },
           "zaxis": {
            "backgroundcolor": "#E5ECF6",
            "gridcolor": "white",
            "gridwidth": 2,
            "linecolor": "white",
            "showbackground": true,
            "ticks": "",
            "zerolinecolor": "white"
           }
          },
          "shapedefaults": {
           "line": {
            "color": "#2a3f5f"
           }
          },
          "ternary": {
           "aaxis": {
            "gridcolor": "white",
            "linecolor": "white",
            "ticks": ""
           },
           "baxis": {
            "gridcolor": "white",
            "linecolor": "white",
            "ticks": ""
           },
           "bgcolor": "#E5ECF6",
           "caxis": {
            "gridcolor": "white",
            "linecolor": "white",
            "ticks": ""
           }
          },
          "title": {
           "x": 0.05
          },
          "xaxis": {
           "automargin": true,
           "gridcolor": "white",
           "linecolor": "white",
           "ticks": "",
           "title": {
            "standoff": 15
           },
           "zerolinecolor": "white",
           "zerolinewidth": 2
          },
          "yaxis": {
           "automargin": true,
           "gridcolor": "white",
           "linecolor": "white",
           "ticks": "",
           "title": {
            "standoff": 15
           },
           "zerolinecolor": "white",
           "zerolinewidth": 2
          }
         }
        },
        "xaxis": {
         "range": [
          1988,
          2021
         ],
         "title": {
          "text": "Year"
         }
        },
        "yaxis": {
         "tickformat": ".0%",
         "title": {
          "text": "Risky Portfolio Weight"
         }
        }
       }
      }
     },
     "metadata": {},
     "output_type": "display_data"
    }
   ],
   "source": [
    "# Plot levereage (wgt_cal)\n",
    "fig = go.Figure()\n",
    "for model in ['est_all', 'est_cov', 'est_sds', 'ew']:\n",
    "    string =  \"Strategy: \" + label_dict[model] +\" <br>\"\n",
    "    string += \"Year: %{x:4.0f}<br>\"\n",
    "    string += \"Weight in Risky Portfolio: %{y: 0.1%} <br>\"\n",
    "    string += \"<extra></extra>\"\n",
    "\n",
    "    trace=go.Scatter(x=df['year'], y=df['wgt_cal_'+model], hovertemplate=string, name = xaxis_label_dict[model])\n",
    "    fig.add_trace(trace)\n",
    "fig.layout.yaxis[\"title\"] = \"Risky Portfolio Weight\"\n",
    "fig.layout.xaxis[\"title\"] = \"Year\"\n",
    "fig.update_yaxes(tickformat=\".0%\")\n",
    "fig.update_layout(legend=dict(yanchor=\"top\", y =0.99, xanchor=\"left\", x=0.01))\n",
    "fig.update_xaxes(range=[df['year'].iloc[window], df.year.max()])\n",
    "fig.show()"
   ]
  },
  {
   "cell_type": "code",
   "execution_count": 30,
   "metadata": {},
   "outputs": [
    {
     "data": {
      "text/html": [
       "<div>\n",
       "<style scoped>\n",
       "    .dataframe tbody tr th:only-of-type {\n",
       "        vertical-align: middle;\n",
       "    }\n",
       "\n",
       "    .dataframe tbody tr th {\n",
       "        vertical-align: top;\n",
       "    }\n",
       "\n",
       "    .dataframe thead th {\n",
       "        text-align: right;\n",
       "    }\n",
       "</style>\n",
       "<table border=\"1\" class=\"dataframe\">\n",
       "  <thead>\n",
       "    <tr style=\"text-align: right;\">\n",
       "      <th></th>\n",
       "      <th>year</th>\n",
       "      <th>wgt_cal_ew</th>\n",
       "      <th>wgt_cal_est_all</th>\n",
       "      <th>wgt_cal_est_cov</th>\n",
       "      <th>wgt_cal_est_sds</th>\n",
       "    </tr>\n",
       "  </thead>\n",
       "  <tbody>\n",
       "    <tr>\n",
       "      <th>0</th>\n",
       "      <td>1968</td>\n",
       "      <td>NaN</td>\n",
       "      <td>NaN</td>\n",
       "      <td>NaN</td>\n",
       "      <td>NaN</td>\n",
       "    </tr>\n",
       "    <tr>\n",
       "      <th>1</th>\n",
       "      <td>1969</td>\n",
       "      <td>NaN</td>\n",
       "      <td>NaN</td>\n",
       "      <td>NaN</td>\n",
       "      <td>NaN</td>\n",
       "    </tr>\n",
       "    <tr>\n",
       "      <th>2</th>\n",
       "      <td>1970</td>\n",
       "      <td>NaN</td>\n",
       "      <td>NaN</td>\n",
       "      <td>NaN</td>\n",
       "      <td>NaN</td>\n",
       "    </tr>\n",
       "    <tr>\n",
       "      <th>3</th>\n",
       "      <td>1971</td>\n",
       "      <td>NaN</td>\n",
       "      <td>NaN</td>\n",
       "      <td>NaN</td>\n",
       "      <td>NaN</td>\n",
       "    </tr>\n",
       "    <tr>\n",
       "      <th>4</th>\n",
       "      <td>1972</td>\n",
       "      <td>NaN</td>\n",
       "      <td>NaN</td>\n",
       "      <td>NaN</td>\n",
       "      <td>NaN</td>\n",
       "    </tr>\n",
       "    <tr>\n",
       "      <th>5</th>\n",
       "      <td>1973</td>\n",
       "      <td>NaN</td>\n",
       "      <td>NaN</td>\n",
       "      <td>NaN</td>\n",
       "      <td>NaN</td>\n",
       "    </tr>\n",
       "    <tr>\n",
       "      <th>6</th>\n",
       "      <td>1974</td>\n",
       "      <td>NaN</td>\n",
       "      <td>NaN</td>\n",
       "      <td>NaN</td>\n",
       "      <td>NaN</td>\n",
       "    </tr>\n",
       "    <tr>\n",
       "      <th>7</th>\n",
       "      <td>1975</td>\n",
       "      <td>NaN</td>\n",
       "      <td>NaN</td>\n",
       "      <td>NaN</td>\n",
       "      <td>NaN</td>\n",
       "    </tr>\n",
       "    <tr>\n",
       "      <th>8</th>\n",
       "      <td>1976</td>\n",
       "      <td>NaN</td>\n",
       "      <td>NaN</td>\n",
       "      <td>NaN</td>\n",
       "      <td>NaN</td>\n",
       "    </tr>\n",
       "    <tr>\n",
       "      <th>9</th>\n",
       "      <td>1977</td>\n",
       "      <td>NaN</td>\n",
       "      <td>NaN</td>\n",
       "      <td>NaN</td>\n",
       "      <td>NaN</td>\n",
       "    </tr>\n",
       "    <tr>\n",
       "      <th>10</th>\n",
       "      <td>1978</td>\n",
       "      <td>NaN</td>\n",
       "      <td>NaN</td>\n",
       "      <td>NaN</td>\n",
       "      <td>NaN</td>\n",
       "    </tr>\n",
       "    <tr>\n",
       "      <th>11</th>\n",
       "      <td>1979</td>\n",
       "      <td>NaN</td>\n",
       "      <td>NaN</td>\n",
       "      <td>NaN</td>\n",
       "      <td>NaN</td>\n",
       "    </tr>\n",
       "    <tr>\n",
       "      <th>12</th>\n",
       "      <td>1980</td>\n",
       "      <td>NaN</td>\n",
       "      <td>NaN</td>\n",
       "      <td>NaN</td>\n",
       "      <td>NaN</td>\n",
       "    </tr>\n",
       "    <tr>\n",
       "      <th>13</th>\n",
       "      <td>1981</td>\n",
       "      <td>NaN</td>\n",
       "      <td>NaN</td>\n",
       "      <td>NaN</td>\n",
       "      <td>NaN</td>\n",
       "    </tr>\n",
       "    <tr>\n",
       "      <th>14</th>\n",
       "      <td>1982</td>\n",
       "      <td>NaN</td>\n",
       "      <td>NaN</td>\n",
       "      <td>NaN</td>\n",
       "      <td>NaN</td>\n",
       "    </tr>\n",
       "    <tr>\n",
       "      <th>15</th>\n",
       "      <td>1983</td>\n",
       "      <td>NaN</td>\n",
       "      <td>NaN</td>\n",
       "      <td>NaN</td>\n",
       "      <td>NaN</td>\n",
       "    </tr>\n",
       "    <tr>\n",
       "      <th>16</th>\n",
       "      <td>1984</td>\n",
       "      <td>NaN</td>\n",
       "      <td>NaN</td>\n",
       "      <td>NaN</td>\n",
       "      <td>NaN</td>\n",
       "    </tr>\n",
       "    <tr>\n",
       "      <th>17</th>\n",
       "      <td>1985</td>\n",
       "      <td>NaN</td>\n",
       "      <td>NaN</td>\n",
       "      <td>NaN</td>\n",
       "      <td>NaN</td>\n",
       "    </tr>\n",
       "    <tr>\n",
       "      <th>18</th>\n",
       "      <td>1986</td>\n",
       "      <td>NaN</td>\n",
       "      <td>NaN</td>\n",
       "      <td>NaN</td>\n",
       "      <td>NaN</td>\n",
       "    </tr>\n",
       "    <tr>\n",
       "      <th>19</th>\n",
       "      <td>1987</td>\n",
       "      <td>NaN</td>\n",
       "      <td>NaN</td>\n",
       "      <td>NaN</td>\n",
       "      <td>NaN</td>\n",
       "    </tr>\n",
       "    <tr>\n",
       "      <th>20</th>\n",
       "      <td>1988</td>\n",
       "      <td>1.133893</td>\n",
       "      <td>1.409972</td>\n",
       "      <td>1.703051</td>\n",
       "      <td>2.452078</td>\n",
       "    </tr>\n",
       "    <tr>\n",
       "      <th>21</th>\n",
       "      <td>1989</td>\n",
       "      <td>0.755461</td>\n",
       "      <td>1.012865</td>\n",
       "      <td>1.173961</td>\n",
       "      <td>1.668419</td>\n",
       "    </tr>\n",
       "    <tr>\n",
       "      <th>22</th>\n",
       "      <td>1990</td>\n",
       "      <td>1.183110</td>\n",
       "      <td>2.007325</td>\n",
       "      <td>2.274397</td>\n",
       "      <td>2.675576</td>\n",
       "    </tr>\n",
       "    <tr>\n",
       "      <th>23</th>\n",
       "      <td>1991</td>\n",
       "      <td>1.577821</td>\n",
       "      <td>3.100940</td>\n",
       "      <td>3.070187</td>\n",
       "      <td>3.621458</td>\n",
       "    </tr>\n",
       "    <tr>\n",
       "      <th>24</th>\n",
       "      <td>1992</td>\n",
       "      <td>1.949961</td>\n",
       "      <td>3.967778</td>\n",
       "      <td>3.916603</td>\n",
       "      <td>4.493202</td>\n",
       "    </tr>\n",
       "    <tr>\n",
       "      <th>25</th>\n",
       "      <td>1993</td>\n",
       "      <td>1.913357</td>\n",
       "      <td>4.341458</td>\n",
       "      <td>4.022873</td>\n",
       "      <td>4.380047</td>\n",
       "    </tr>\n",
       "    <tr>\n",
       "      <th>26</th>\n",
       "      <td>1994</td>\n",
       "      <td>1.788179</td>\n",
       "      <td>3.747208</td>\n",
       "      <td>3.319468</td>\n",
       "      <td>3.814790</td>\n",
       "    </tr>\n",
       "    <tr>\n",
       "      <th>27</th>\n",
       "      <td>1995</td>\n",
       "      <td>1.522608</td>\n",
       "      <td>3.761681</td>\n",
       "      <td>2.546253</td>\n",
       "      <td>2.997578</td>\n",
       "    </tr>\n",
       "    <tr>\n",
       "      <th>28</th>\n",
       "      <td>1996</td>\n",
       "      <td>1.864634</td>\n",
       "      <td>4.045772</td>\n",
       "      <td>3.051981</td>\n",
       "      <td>3.507235</td>\n",
       "    </tr>\n",
       "    <tr>\n",
       "      <th>29</th>\n",
       "      <td>1997</td>\n",
       "      <td>1.739187</td>\n",
       "      <td>3.947984</td>\n",
       "      <td>2.898142</td>\n",
       "      <td>3.272266</td>\n",
       "    </tr>\n",
       "    <tr>\n",
       "      <th>30</th>\n",
       "      <td>1998</td>\n",
       "      <td>1.849353</td>\n",
       "      <td>4.030575</td>\n",
       "      <td>3.090062</td>\n",
       "      <td>3.548862</td>\n",
       "    </tr>\n",
       "    <tr>\n",
       "      <th>31</th>\n",
       "      <td>1999</td>\n",
       "      <td>1.974417</td>\n",
       "      <td>3.692884</td>\n",
       "      <td>2.970418</td>\n",
       "      <td>3.787996</td>\n",
       "    </tr>\n",
       "    <tr>\n",
       "      <th>32</th>\n",
       "      <td>2000</td>\n",
       "      <td>2.195184</td>\n",
       "      <td>2.589800</td>\n",
       "      <td>1.821337</td>\n",
       "      <td>2.453602</td>\n",
       "    </tr>\n",
       "    <tr>\n",
       "      <th>33</th>\n",
       "      <td>2001</td>\n",
       "      <td>3.447051</td>\n",
       "      <td>3.151427</td>\n",
       "      <td>2.605658</td>\n",
       "      <td>4.072979</td>\n",
       "    </tr>\n",
       "    <tr>\n",
       "      <th>34</th>\n",
       "      <td>2002</td>\n",
       "      <td>4.859606</td>\n",
       "      <td>4.241781</td>\n",
       "      <td>4.078546</td>\n",
       "      <td>5.632867</td>\n",
       "    </tr>\n",
       "    <tr>\n",
       "      <th>35</th>\n",
       "      <td>2003</td>\n",
       "      <td>4.530063</td>\n",
       "      <td>5.480126</td>\n",
       "      <td>4.992653</td>\n",
       "      <td>6.222270</td>\n",
       "    </tr>\n",
       "    <tr>\n",
       "      <th>36</th>\n",
       "      <td>2004</td>\n",
       "      <td>4.455328</td>\n",
       "      <td>5.090805</td>\n",
       "      <td>4.419235</td>\n",
       "      <td>6.255153</td>\n",
       "    </tr>\n",
       "    <tr>\n",
       "      <th>37</th>\n",
       "      <td>2005</td>\n",
       "      <td>3.699503</td>\n",
       "      <td>4.104578</td>\n",
       "      <td>3.525295</td>\n",
       "      <td>5.116325</td>\n",
       "    </tr>\n",
       "    <tr>\n",
       "      <th>38</th>\n",
       "      <td>2006</td>\n",
       "      <td>2.479406</td>\n",
       "      <td>3.271180</td>\n",
       "      <td>2.627359</td>\n",
       "      <td>3.652720</td>\n",
       "    </tr>\n",
       "    <tr>\n",
       "      <th>39</th>\n",
       "      <td>2007</td>\n",
       "      <td>2.538894</td>\n",
       "      <td>3.741390</td>\n",
       "      <td>3.263575</td>\n",
       "      <td>4.080080</td>\n",
       "    </tr>\n",
       "    <tr>\n",
       "      <th>40</th>\n",
       "      <td>2008</td>\n",
       "      <td>4.603436</td>\n",
       "      <td>6.189604</td>\n",
       "      <td>5.974573</td>\n",
       "      <td>7.674379</td>\n",
       "    </tr>\n",
       "    <tr>\n",
       "      <th>41</th>\n",
       "      <td>2009</td>\n",
       "      <td>4.293545</td>\n",
       "      <td>5.290689</td>\n",
       "      <td>5.396111</td>\n",
       "      <td>7.081282</td>\n",
       "    </tr>\n",
       "    <tr>\n",
       "      <th>42</th>\n",
       "      <td>2010</td>\n",
       "      <td>3.996304</td>\n",
       "      <td>5.270785</td>\n",
       "      <td>5.412511</td>\n",
       "      <td>6.093558</td>\n",
       "    </tr>\n",
       "    <tr>\n",
       "      <th>43</th>\n",
       "      <td>2011</td>\n",
       "      <td>4.304017</td>\n",
       "      <td>5.633104</td>\n",
       "      <td>5.910430</td>\n",
       "      <td>6.632034</td>\n",
       "    </tr>\n",
       "    <tr>\n",
       "      <th>44</th>\n",
       "      <td>2012</td>\n",
       "      <td>4.425602</td>\n",
       "      <td>5.651091</td>\n",
       "      <td>5.810378</td>\n",
       "      <td>6.807294</td>\n",
       "    </tr>\n",
       "    <tr>\n",
       "      <th>45</th>\n",
       "      <td>2013</td>\n",
       "      <td>4.574904</td>\n",
       "      <td>5.632449</td>\n",
       "      <td>5.914386</td>\n",
       "      <td>7.009461</td>\n",
       "    </tr>\n",
       "    <tr>\n",
       "      <th>46</th>\n",
       "      <td>2014</td>\n",
       "      <td>3.659599</td>\n",
       "      <td>4.367782</td>\n",
       "      <td>4.648275</td>\n",
       "      <td>5.901900</td>\n",
       "    </tr>\n",
       "    <tr>\n",
       "      <th>47</th>\n",
       "      <td>2015</td>\n",
       "      <td>4.063780</td>\n",
       "      <td>5.861716</td>\n",
       "      <td>6.148034</td>\n",
       "      <td>6.871483</td>\n",
       "    </tr>\n",
       "    <tr>\n",
       "      <th>48</th>\n",
       "      <td>2016</td>\n",
       "      <td>3.584872</td>\n",
       "      <td>7.066311</td>\n",
       "      <td>7.442122</td>\n",
       "      <td>6.317420</td>\n",
       "    </tr>\n",
       "    <tr>\n",
       "      <th>49</th>\n",
       "      <td>2017</td>\n",
       "      <td>3.377541</td>\n",
       "      <td>6.467195</td>\n",
       "      <td>6.916311</td>\n",
       "      <td>5.873001</td>\n",
       "    </tr>\n",
       "    <tr>\n",
       "      <th>50</th>\n",
       "      <td>2018</td>\n",
       "      <td>3.214116</td>\n",
       "      <td>5.855103</td>\n",
       "      <td>6.971816</td>\n",
       "      <td>5.286269</td>\n",
       "    </tr>\n",
       "    <tr>\n",
       "      <th>51</th>\n",
       "      <td>2019</td>\n",
       "      <td>3.044048</td>\n",
       "      <td>5.499648</td>\n",
       "      <td>7.328349</td>\n",
       "      <td>4.715637</td>\n",
       "    </tr>\n",
       "    <tr>\n",
       "      <th>52</th>\n",
       "      <td>2020</td>\n",
       "      <td>4.265017</td>\n",
       "      <td>7.435818</td>\n",
       "      <td>8.949810</td>\n",
       "      <td>6.823960</td>\n",
       "    </tr>\n",
       "    <tr>\n",
       "      <th>53</th>\n",
       "      <td>2021</td>\n",
       "      <td>4.806676</td>\n",
       "      <td>7.515303</td>\n",
       "      <td>10.201208</td>\n",
       "      <td>7.670189</td>\n",
       "    </tr>\n",
       "  </tbody>\n",
       "</table>\n",
       "</div>"
      ],
      "text/plain": [
       "    year  wgt_cal_ew  wgt_cal_est_all  wgt_cal_est_cov  wgt_cal_est_sds\n",
       "0   1968         NaN              NaN              NaN              NaN\n",
       "1   1969         NaN              NaN              NaN              NaN\n",
       "2   1970         NaN              NaN              NaN              NaN\n",
       "3   1971         NaN              NaN              NaN              NaN\n",
       "4   1972         NaN              NaN              NaN              NaN\n",
       "5   1973         NaN              NaN              NaN              NaN\n",
       "6   1974         NaN              NaN              NaN              NaN\n",
       "7   1975         NaN              NaN              NaN              NaN\n",
       "8   1976         NaN              NaN              NaN              NaN\n",
       "9   1977         NaN              NaN              NaN              NaN\n",
       "10  1978         NaN              NaN              NaN              NaN\n",
       "11  1979         NaN              NaN              NaN              NaN\n",
       "12  1980         NaN              NaN              NaN              NaN\n",
       "13  1981         NaN              NaN              NaN              NaN\n",
       "14  1982         NaN              NaN              NaN              NaN\n",
       "15  1983         NaN              NaN              NaN              NaN\n",
       "16  1984         NaN              NaN              NaN              NaN\n",
       "17  1985         NaN              NaN              NaN              NaN\n",
       "18  1986         NaN              NaN              NaN              NaN\n",
       "19  1987         NaN              NaN              NaN              NaN\n",
       "20  1988    1.133893         1.409972         1.703051         2.452078\n",
       "21  1989    0.755461         1.012865         1.173961         1.668419\n",
       "22  1990    1.183110         2.007325         2.274397         2.675576\n",
       "23  1991    1.577821         3.100940         3.070187         3.621458\n",
       "24  1992    1.949961         3.967778         3.916603         4.493202\n",
       "25  1993    1.913357         4.341458         4.022873         4.380047\n",
       "26  1994    1.788179         3.747208         3.319468         3.814790\n",
       "27  1995    1.522608         3.761681         2.546253         2.997578\n",
       "28  1996    1.864634         4.045772         3.051981         3.507235\n",
       "29  1997    1.739187         3.947984         2.898142         3.272266\n",
       "30  1998    1.849353         4.030575         3.090062         3.548862\n",
       "31  1999    1.974417         3.692884         2.970418         3.787996\n",
       "32  2000    2.195184         2.589800         1.821337         2.453602\n",
       "33  2001    3.447051         3.151427         2.605658         4.072979\n",
       "34  2002    4.859606         4.241781         4.078546         5.632867\n",
       "35  2003    4.530063         5.480126         4.992653         6.222270\n",
       "36  2004    4.455328         5.090805         4.419235         6.255153\n",
       "37  2005    3.699503         4.104578         3.525295         5.116325\n",
       "38  2006    2.479406         3.271180         2.627359         3.652720\n",
       "39  2007    2.538894         3.741390         3.263575         4.080080\n",
       "40  2008    4.603436         6.189604         5.974573         7.674379\n",
       "41  2009    4.293545         5.290689         5.396111         7.081282\n",
       "42  2010    3.996304         5.270785         5.412511         6.093558\n",
       "43  2011    4.304017         5.633104         5.910430         6.632034\n",
       "44  2012    4.425602         5.651091         5.810378         6.807294\n",
       "45  2013    4.574904         5.632449         5.914386         7.009461\n",
       "46  2014    3.659599         4.367782         4.648275         5.901900\n",
       "47  2015    4.063780         5.861716         6.148034         6.871483\n",
       "48  2016    3.584872         7.066311         7.442122         6.317420\n",
       "49  2017    3.377541         6.467195         6.916311         5.873001\n",
       "50  2018    3.214116         5.855103         6.971816         5.286269\n",
       "51  2019    3.044048         5.499648         7.328349         4.715637\n",
       "52  2020    4.265017         7.435818         8.949810         6.823960\n",
       "53  2021    4.806676         7.515303        10.201208         7.670189"
      ]
     },
     "execution_count": 30,
     "metadata": {},
     "output_type": "execute_result"
    }
   ],
   "source": [
    "collist = ['wgt_cal_'+m for m in ['ew', 'est_all', 'est_cov', 'est_sds']]\n",
    "df[['year']+collist]"
   ]
  },
  {
   "cell_type": "code",
   "execution_count": 159,
   "metadata": {},
   "outputs": [
    {
     "name": "stdout",
     "output_type": "stream",
     "text": [
      "wgt0_est_all    0.127097\n",
      "wgt1_est_all    0.060125\n",
      "wgt2_est_all    1.274002\n",
      "wgt3_est_all   -0.461224\n",
      "Name: mean, dtype: float64\n",
      "wgt0_est_cov    0.088549\n",
      "wgt1_est_cov    0.127096\n",
      "wgt2_est_cov    0.867950\n",
      "wgt3_est_cov   -0.083595\n",
      "Name: mean, dtype: float64\n",
      "wgt0_est_sds    0.115357\n",
      "wgt1_est_sds    0.086180\n",
      "wgt2_est_sds    0.499172\n",
      "wgt3_est_sds    0.299290\n",
      "Name: mean, dtype: float64\n"
     ]
    }
   ],
   "source": [
    "\n",
    "for model in ['est_all', 'est_cov', 'est_sds']:\n",
    "    collist = ['wgt' +asset +'_' +model for asset in asset_list]\n",
    "    print(df[collist].describe().loc['mean'])"
   ]
  },
  {
   "cell_type": "code",
   "execution_count": 165,
   "metadata": {},
   "outputs": [
    {
     "data": {
      "text/plain": [
       "['S&P 500', 'Gold', 'Corporates', 'Treasuries']"
      ]
     },
     "execution_count": 165,
     "metadata": {},
     "output_type": "execute_result"
    }
   ],
   "source": [
    "assets[1:]"
   ]
  },
  {
   "cell_type": "code",
   "execution_count": 168,
   "metadata": {},
   "outputs": [],
   "source": [
    "# Full sample tangency\n",
    "# Full estimation inputs at each point in time\n",
    "means = df[mn_list].iloc[-1].values\n",
    "sds   = df[sd_list].iloc[-1].values\n",
    "C  = np.identity(n)\n",
    "for j, asset in enumerate(asset_list):\n",
    "    for k in range(j+1,n):\n",
    "        C[j, k] = C[k, j] =    df['c'+asset+str(k)].iloc[-1]\n",
    "cov = np.diag(sds) @ C @ np.diag(sds)\n",
    "\n",
    "r = df['rf'].iloc[-1]\n",
    "##### Note: all portfolio weights considered to be beginning of period weights\n",
    "##### (so multiply by contemporaneous realized returns)\n",
    "# Full estimation tangency portfolio\n",
    "model = 'est_all'\n",
    "wgts = tangency(means,cov,r,short_lb)"
   ]
  },
  {
   "cell_type": "code",
   "execution_count": null,
   "metadata": {},
   "outputs": [],
   "source": [
    "df"
   ]
  },
  {
   "cell_type": "code",
   "execution_count": 32,
   "metadata": {},
   "outputs": [],
   "source": [
    "df.to_csv(\"D:/bbcx-investments-quarto/quarto/kevin/sbb.csv\")"
   ]
  },
  {
   "cell_type": "code",
   "execution_count": null,
   "metadata": {},
   "outputs": [],
   "source": [
    "# Plot levereage (wgt_cal)\n",
    "for model in ['est_all', 'est_cov', 'est_sds', 'ew']:\n",
    "    wgt_list = ['wgt'+asset + \"_\" + model for asset in asset_list]\n",
    "    df['expret_'+model] = np.nan\n",
    "    for i in np.arange(window,window+T):\n",
    "        means = df[mn_list].iloc[i-1].values\n",
    "        wgts = df[wgt_list].iloc[i].values\n",
    "        df.loc[i,'expret_'+model] = means @ wgts\n",
    "\n",
    "# df['exp_ret'] = \n",
    "# fig = go.Figure()\n",
    "# for model in ['est_all', 'est_cov', 'est_sds', 'ew']:\n",
    "#     string =  \"Strategy: \" + label_dict[model] +\" <br>\"\n",
    "#     string += \"Year: %{x:4.0f}<br>\"\n",
    "#     string += \"Weight in Risky Portfolio: %{y: 0.1%} <br>\"\n",
    "#     string += \"<extra></extra>\"\n",
    "\n",
    "#     trace=go.Scatter(x=df['year'], y=df['wgt_cal_'+model], hovertemplate=string, name = xaxis_label_dict[model])\n",
    "#     fig.add_trace(trace)\n",
    "# fig.layout.yaxis[\"title\"] = \"Risky Portfolio Weight\"\n",
    "# fig.layout.xaxis[\"title\"] = \"Year\"\n",
    "# fig.update_yaxes(tickformat=\".0%\")\n",
    "# fig.update_layout(legend=dict(yanchor=\"top\", y =0.99, xanchor=\"left\", x=0.01))\n",
    "# fig.update_xaxes(range=[df['year'].iloc[window], df.year.max()])\n",
    "# fig.show()\n",
    "df[['expret_'+model for model in model_list]]"
   ]
  },
  {
   "cell_type": "code",
   "execution_count": 21,
   "metadata": {},
   "outputs": [
    {
     "data": {
      "text/plain": [
       "<AxesSubplot:>"
      ]
     },
     "execution_count": 21,
     "metadata": {},
     "output_type": "execute_result"
    },
    {
     "data": {
      "image/png": "[encoded data removed]",
      "text/plain": [
       "<Figure size 432x288 with 1 Axes>"
      ]
     },
     "metadata": {
      "needs_background": "light"
     },
     "output_type": "display_data"
    },
    {
     "data": {
      "image/png": "[encoded data removed]",
      "text/plain": [
       "<Figure size 432x288 with 1 Axes>"
      ]
     },
     "metadata": {
      "needs_background": "light"
     },
     "output_type": "display_data"
    }
   ],
   "source": [
    "df[mn_list].plot()\n",
    "df[['c01','c12','c13']].plot()"
   ]
  }
 ],
 "metadata": {
  "kernelspec": {
   "display_name": "Python 3.10.6 ('venv': venv)",
   "language": "python",
   "name": "python3"
  },
  "language_info": {
   "codemirror_mode": {
    "name": "ipython",
    "version": 3
   },
   "file_extension": ".py",
   "mimetype": "text/x-python",
   "name": "python",
   "nbconvert_exporter": "python",
   "pygments_lexer": "ipython3",
   "version": "3.10.6"
  },
  "orig_nbformat": 4,
  "vscode": {
   "interpreter": {
    "hash": "cc788b38d8cb434c82f45ef9d481d0310e17b79321e4c8cbfbfe90f656a3f023"
   }
  }
 },
 "nbformat": 4,
 "nbformat_minor": 2
}
