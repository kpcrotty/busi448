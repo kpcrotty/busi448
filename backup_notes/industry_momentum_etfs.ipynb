{
 "cells": [
  {
   "cell_type": "markdown",
   "metadata": {},
   "source": [
    "# Industry momentum with traded sector ETFs"
   ]
  },
  {
   "cell_type": "code",
   "execution_count": 2,
   "metadata": {},
   "outputs": [
    {
     "data": {
      "text/html": [
       "<div>\n",
       "<style scoped>\n",
       "    .dataframe tbody tr th:only-of-type {\n",
       "        vertical-align: middle;\n",
       "    }\n",
       "\n",
       "    .dataframe tbody tr th {\n",
       "        vertical-align: top;\n",
       "    }\n",
       "\n",
       "    .dataframe thead th {\n",
       "        text-align: right;\n",
       "    }\n",
       "</style>\n",
       "<table border=\"1\" class=\"dataframe\">\n",
       "  <thead>\n",
       "    <tr style=\"text-align: right;\">\n",
       "      <th>Symbols</th>\n",
       "      <th>IYW</th>\n",
       "      <th>IBB</th>\n",
       "      <th>IHI</th>\n",
       "      <th>SOXX</th>\n",
       "      <th>IGV</th>\n",
       "      <th>ITA</th>\n",
       "      <th>IYR</th>\n",
       "      <th>IYH</th>\n",
       "      <th>IGM</th>\n",
       "      <th>IYE</th>\n",
       "      <th>...</th>\n",
       "      <th>IYT</th>\n",
       "      <th>IYC</th>\n",
       "      <th>REZ</th>\n",
       "      <th>REM</th>\n",
       "      <th>IAI</th>\n",
       "      <th>IHE</th>\n",
       "      <th>IAK</th>\n",
       "      <th>IYZ</th>\n",
       "      <th>IEZ</th>\n",
       "      <th>IGN</th>\n",
       "    </tr>\n",
       "    <tr>\n",
       "      <th>Date</th>\n",
       "      <th></th>\n",
       "      <th></th>\n",
       "      <th></th>\n",
       "      <th></th>\n",
       "      <th></th>\n",
       "      <th></th>\n",
       "      <th></th>\n",
       "      <th></th>\n",
       "      <th></th>\n",
       "      <th></th>\n",
       "      <th></th>\n",
       "      <th></th>\n",
       "      <th></th>\n",
       "      <th></th>\n",
       "      <th></th>\n",
       "      <th></th>\n",
       "      <th></th>\n",
       "      <th></th>\n",
       "      <th></th>\n",
       "      <th></th>\n",
       "      <th></th>\n",
       "    </tr>\n",
       "  </thead>\n",
       "  <tbody>\n",
       "    <tr>\n",
       "      <th>2000-05</th>\n",
       "      <td>NaN</td>\n",
       "      <td>NaN</td>\n",
       "      <td>NaN</td>\n",
       "      <td>NaN</td>\n",
       "      <td>NaN</td>\n",
       "      <td>NaN</td>\n",
       "      <td>NaN</td>\n",
       "      <td>NaN</td>\n",
       "      <td>NaN</td>\n",
       "      <td>NaN</td>\n",
       "      <td>...</td>\n",
       "      <td>NaN</td>\n",
       "      <td>NaN</td>\n",
       "      <td>NaN</td>\n",
       "      <td>NaN</td>\n",
       "      <td>NaN</td>\n",
       "      <td>NaN</td>\n",
       "      <td>NaN</td>\n",
       "      <td>NaN</td>\n",
       "      <td>NaN</td>\n",
       "      <td>NaN</td>\n",
       "    </tr>\n",
       "    <tr>\n",
       "      <th>2000-06</th>\n",
       "      <td>0.107133</td>\n",
       "      <td>NaN</td>\n",
       "      <td>NaN</td>\n",
       "      <td>NaN</td>\n",
       "      <td>NaN</td>\n",
       "      <td>NaN</td>\n",
       "      <td>NaN</td>\n",
       "      <td>NaN</td>\n",
       "      <td>NaN</td>\n",
       "      <td>NaN</td>\n",
       "      <td>...</td>\n",
       "      <td>NaN</td>\n",
       "      <td>NaN</td>\n",
       "      <td>NaN</td>\n",
       "      <td>NaN</td>\n",
       "      <td>NaN</td>\n",
       "      <td>NaN</td>\n",
       "      <td>NaN</td>\n",
       "      <td>0.046095</td>\n",
       "      <td>NaN</td>\n",
       "      <td>NaN</td>\n",
       "    </tr>\n",
       "    <tr>\n",
       "      <th>2000-07</th>\n",
       "      <td>-0.057080</td>\n",
       "      <td>NaN</td>\n",
       "      <td>NaN</td>\n",
       "      <td>NaN</td>\n",
       "      <td>NaN</td>\n",
       "      <td>NaN</td>\n",
       "      <td>0.063505</td>\n",
       "      <td>-0.034734</td>\n",
       "      <td>NaN</td>\n",
       "      <td>-0.033888</td>\n",
       "      <td>...</td>\n",
       "      <td>NaN</td>\n",
       "      <td>0.003154</td>\n",
       "      <td>NaN</td>\n",
       "      <td>NaN</td>\n",
       "      <td>NaN</td>\n",
       "      <td>NaN</td>\n",
       "      <td>NaN</td>\n",
       "      <td>-0.078683</td>\n",
       "      <td>NaN</td>\n",
       "      <td>NaN</td>\n",
       "    </tr>\n",
       "    <tr>\n",
       "      <th>2000-08</th>\n",
       "      <td>0.137438</td>\n",
       "      <td>NaN</td>\n",
       "      <td>NaN</td>\n",
       "      <td>NaN</td>\n",
       "      <td>NaN</td>\n",
       "      <td>NaN</td>\n",
       "      <td>-0.015082</td>\n",
       "      <td>0.025500</td>\n",
       "      <td>NaN</td>\n",
       "      <td>0.117141</td>\n",
       "      <td>...</td>\n",
       "      <td>NaN</td>\n",
       "      <td>0.001048</td>\n",
       "      <td>NaN</td>\n",
       "      <td>NaN</td>\n",
       "      <td>NaN</td>\n",
       "      <td>NaN</td>\n",
       "      <td>NaN</td>\n",
       "      <td>-0.024802</td>\n",
       "      <td>NaN</td>\n",
       "      <td>NaN</td>\n",
       "    </tr>\n",
       "    <tr>\n",
       "      <th>2000-09</th>\n",
       "      <td>-0.151667</td>\n",
       "      <td>NaN</td>\n",
       "      <td>NaN</td>\n",
       "      <td>NaN</td>\n",
       "      <td>NaN</td>\n",
       "      <td>NaN</td>\n",
       "      <td>0.031051</td>\n",
       "      <td>0.040956</td>\n",
       "      <td>NaN</td>\n",
       "      <td>0.016292</td>\n",
       "      <td>...</td>\n",
       "      <td>NaN</td>\n",
       "      <td>-0.025130</td>\n",
       "      <td>NaN</td>\n",
       "      <td>NaN</td>\n",
       "      <td>NaN</td>\n",
       "      <td>NaN</td>\n",
       "      <td>NaN</td>\n",
       "      <td>-0.053179</td>\n",
       "      <td>NaN</td>\n",
       "      <td>NaN</td>\n",
       "    </tr>\n",
       "    <tr>\n",
       "      <th>...</th>\n",
       "      <td>...</td>\n",
       "      <td>...</td>\n",
       "      <td>...</td>\n",
       "      <td>...</td>\n",
       "      <td>...</td>\n",
       "      <td>...</td>\n",
       "      <td>...</td>\n",
       "      <td>...</td>\n",
       "      <td>...</td>\n",
       "      <td>...</td>\n",
       "      <td>...</td>\n",
       "      <td>...</td>\n",
       "      <td>...</td>\n",
       "      <td>...</td>\n",
       "      <td>...</td>\n",
       "      <td>...</td>\n",
       "      <td>...</td>\n",
       "      <td>...</td>\n",
       "      <td>...</td>\n",
       "      <td>...</td>\n",
       "      <td>...</td>\n",
       "    </tr>\n",
       "    <tr>\n",
       "      <th>2022-06</th>\n",
       "      <td>-0.093890</td>\n",
       "      <td>0.008493</td>\n",
       "      <td>-0.072471</td>\n",
       "      <td>-0.178349</td>\n",
       "      <td>-0.056806</td>\n",
       "      <td>-0.026880</td>\n",
       "      <td>-0.068911</td>\n",
       "      <td>-0.024183</td>\n",
       "      <td>-0.099943</td>\n",
       "      <td>-0.164164</td>\n",
       "      <td>...</td>\n",
       "      <td>-0.083060</td>\n",
       "      <td>-0.106547</td>\n",
       "      <td>-0.058776</td>\n",
       "      <td>-0.108045</td>\n",
       "      <td>-0.087120</td>\n",
       "      <td>-0.010770</td>\n",
       "      <td>-0.059700</td>\n",
       "      <td>-0.075285</td>\n",
       "      <td>-0.211944</td>\n",
       "      <td>-0.070306</td>\n",
       "    </tr>\n",
       "    <tr>\n",
       "      <th>2022-07</th>\n",
       "      <td>0.114947</td>\n",
       "      <td>0.054833</td>\n",
       "      <td>0.065424</td>\n",
       "      <td>0.165098</td>\n",
       "      <td>0.095323</td>\n",
       "      <td>0.046688</td>\n",
       "      <td>0.088606</td>\n",
       "      <td>0.034434</td>\n",
       "      <td>0.129250</td>\n",
       "      <td>0.111490</td>\n",
       "      <td>...</td>\n",
       "      <td>0.093988</td>\n",
       "      <td>0.154565</td>\n",
       "      <td>0.075634</td>\n",
       "      <td>0.144727</td>\n",
       "      <td>0.105514</td>\n",
       "      <td>-0.005844</td>\n",
       "      <td>-0.008437</td>\n",
       "      <td>0.016315</td>\n",
       "      <td>0.032561</td>\n",
       "      <td>0.184952</td>\n",
       "    </tr>\n",
       "    <tr>\n",
       "      <th>2022-08</th>\n",
       "      <td>-0.060242</td>\n",
       "      <td>-0.021115</td>\n",
       "      <td>-0.059732</td>\n",
       "      <td>-0.092407</td>\n",
       "      <td>-0.047509</td>\n",
       "      <td>-0.020135</td>\n",
       "      <td>-0.058624</td>\n",
       "      <td>-0.061363</td>\n",
       "      <td>-0.057274</td>\n",
       "      <td>0.034222</td>\n",
       "      <td>...</td>\n",
       "      <td>-0.018505</td>\n",
       "      <td>-0.028698</td>\n",
       "      <td>-0.054161</td>\n",
       "      <td>-0.071545</td>\n",
       "      <td>-0.001077</td>\n",
       "      <td>-0.075526</td>\n",
       "      <td>0.012277</td>\n",
       "      <td>-0.030932</td>\n",
       "      <td>-0.003032</td>\n",
       "      <td>0.011036</td>\n",
       "    </tr>\n",
       "    <tr>\n",
       "      <th>2022-09</th>\n",
       "      <td>-0.122837</td>\n",
       "      <td>-0.035720</td>\n",
       "      <td>-0.064156</td>\n",
       "      <td>-0.133165</td>\n",
       "      <td>-0.110744</td>\n",
       "      <td>-0.099794</td>\n",
       "      <td>-0.127134</td>\n",
       "      <td>-0.027179</td>\n",
       "      <td>-0.116820</td>\n",
       "      <td>-0.091648</td>\n",
       "      <td>...</td>\n",
       "      <td>-0.137169</td>\n",
       "      <td>-0.083691</td>\n",
       "      <td>-0.107460</td>\n",
       "      <td>-0.242590</td>\n",
       "      <td>-0.074058</td>\n",
       "      <td>-0.032476</td>\n",
       "      <td>-0.044791</td>\n",
       "      <td>-0.152552</td>\n",
       "      <td>-0.121831</td>\n",
       "      <td>-0.084359</td>\n",
       "    </tr>\n",
       "    <tr>\n",
       "      <th>2022-10</th>\n",
       "      <td>0.015265</td>\n",
       "      <td>0.067715</td>\n",
       "      <td>0.047054</td>\n",
       "      <td>0.007624</td>\n",
       "      <td>0.056571</td>\n",
       "      <td>0.149139</td>\n",
       "      <td>0.010317</td>\n",
       "      <td>0.074269</td>\n",
       "      <td>0.030498</td>\n",
       "      <td>0.214195</td>\n",
       "      <td>...</td>\n",
       "      <td>0.070004</td>\n",
       "      <td>0.052062</td>\n",
       "      <td>-0.027430</td>\n",
       "      <td>0.096944</td>\n",
       "      <td>0.098021</td>\n",
       "      <td>0.058393</td>\n",
       "      <td>0.103806</td>\n",
       "      <td>0.076628</td>\n",
       "      <td>0.403125</td>\n",
       "      <td>0.134088</td>\n",
       "    </tr>\n",
       "  </tbody>\n",
       "</table>\n",
       "<p>270 rows × 34 columns</p>\n",
       "</div>"
      ],
      "text/plain": [
       "Symbols       IYW       IBB       IHI      SOXX       IGV       ITA       IYR  \\\n",
       "Date                                                                            \n",
       "2000-05       NaN       NaN       NaN       NaN       NaN       NaN       NaN   \n",
       "2000-06  0.107133       NaN       NaN       NaN       NaN       NaN       NaN   \n",
       "2000-07 -0.057080       NaN       NaN       NaN       NaN       NaN  0.063505   \n",
       "2000-08  0.137438       NaN       NaN       NaN       NaN       NaN -0.015082   \n",
       "2000-09 -0.151667       NaN       NaN       NaN       NaN       NaN  0.031051   \n",
       "...           ...       ...       ...       ...       ...       ...       ...   \n",
       "2022-06 -0.093890  0.008493 -0.072471 -0.178349 -0.056806 -0.026880 -0.068911   \n",
       "2022-07  0.114947  0.054833  0.065424  0.165098  0.095323  0.046688  0.088606   \n",
       "2022-08 -0.060242 -0.021115 -0.059732 -0.092407 -0.047509 -0.020135 -0.058624   \n",
       "2022-09 -0.122837 -0.035720 -0.064156 -0.133165 -0.110744 -0.099794 -0.127134   \n",
       "2022-10  0.015265  0.067715  0.047054  0.007624  0.056571  0.149139  0.010317   \n",
       "\n",
       "Symbols       IYH       IGM       IYE  ...       IYT       IYC       REZ  \\\n",
       "Date                                   ...                                 \n",
       "2000-05       NaN       NaN       NaN  ...       NaN       NaN       NaN   \n",
       "2000-06       NaN       NaN       NaN  ...       NaN       NaN       NaN   \n",
       "2000-07 -0.034734       NaN -0.033888  ...       NaN  0.003154       NaN   \n",
       "2000-08  0.025500       NaN  0.117141  ...       NaN  0.001048       NaN   \n",
       "2000-09  0.040956       NaN  0.016292  ...       NaN -0.025130       NaN   \n",
       "...           ...       ...       ...  ...       ...       ...       ...   \n",
       "2022-06 -0.024183 -0.099943 -0.164164  ... -0.083060 -0.106547 -0.058776   \n",
       "2022-07  0.034434  0.129250  0.111490  ...  0.093988  0.154565  0.075634   \n",
       "2022-08 -0.061363 -0.057274  0.034222  ... -0.018505 -0.028698 -0.054161   \n",
       "2022-09 -0.027179 -0.116820 -0.091648  ... -0.137169 -0.083691 -0.107460   \n",
       "2022-10  0.074269  0.030498  0.214195  ...  0.070004  0.052062 -0.027430   \n",
       "\n",
       "Symbols       REM       IAI       IHE       IAK       IYZ       IEZ       IGN  \n",
       "Date                                                                           \n",
       "2000-05       NaN       NaN       NaN       NaN       NaN       NaN       NaN  \n",
       "2000-06       NaN       NaN       NaN       NaN  0.046095       NaN       NaN  \n",
       "2000-07       NaN       NaN       NaN       NaN -0.078683       NaN       NaN  \n",
       "2000-08       NaN       NaN       NaN       NaN -0.024802       NaN       NaN  \n",
       "2000-09       NaN       NaN       NaN       NaN -0.053179       NaN       NaN  \n",
       "...           ...       ...       ...       ...       ...       ...       ...  \n",
       "2022-06 -0.108045 -0.087120 -0.010770 -0.059700 -0.075285 -0.211944 -0.070306  \n",
       "2022-07  0.144727  0.105514 -0.005844 -0.008437  0.016315  0.032561  0.184952  \n",
       "2022-08 -0.071545 -0.001077 -0.075526  0.012277 -0.030932 -0.003032  0.011036  \n",
       "2022-09 -0.242590 -0.074058 -0.032476 -0.044791 -0.152552 -0.121831 -0.084359  \n",
       "2022-10  0.096944  0.098021  0.058393  0.103806  0.076628  0.403125  0.134088  \n",
       "\n",
       "[270 rows x 34 columns]"
      ]
     },
     "execution_count": 2,
     "metadata": {},
     "output_type": "execute_result"
    }
   ],
   "source": [
    "import pandas as pd\n",
    "import numpy as np\n",
    "from pandas_datareader import DataReader as pdr\n",
    "import plotly.graph_objects as go\n",
    "import statsmodels.api as sm\n",
    "ticker_list = ['IYW','IBB','IHI','SOXX','IGV','ITA','IYR','IYH','IGM','IYE','ICF','IYF','USRT','IHF','IYK','IFRA','IYG','ITB','IEO','IYJ','IDU','IGE','IYM','IAT','IYT','IYC','REZ','REM','IAI','IHE','IAK','IYZ','IEZ','IGN']\n",
    "\n",
    "# Pull the data from Yahoo\n",
    "df = pdr(ticker_list, \"yahoo\", start=2000)\n",
    "df = df.loc[:,('Adj Close',slice(None))].droplevel('Attributes', axis=1)\n",
    "df = df.resample('M').last()\n",
    "df = df.pct_change()\n",
    "df.index = df.index.to_period(\"M\")\n",
    "df"
   ]
  },
  {
   "cell_type": "code",
   "execution_count": 3,
   "metadata": {},
   "outputs": [],
   "source": [
    "# Estimation window in months for past average returns\n",
    "WINDOW = 12\n",
    "\n",
    "# Fill missings with cross-sectional average\n",
    "for c in df.columns:\n",
    "    df[c]=df[c].fillna(df.mean(axis=1))\n",
    "\n",
    "# Calculate rolling average returns\n",
    "avgs = df.rolling(WINDOW).mean()  # this average is inclusive of the return in a given row\n",
    "avgs = avgs.iloc[WINDOW:]\n"
   ]
  },
  {
   "cell_type": "code",
   "execution_count": 4,
   "metadata": {},
   "outputs": [
    {
     "data": {
      "text/html": [
       "<div>\n",
       "<style scoped>\n",
       "    .dataframe tbody tr th:only-of-type {\n",
       "        vertical-align: middle;\n",
       "    }\n",
       "\n",
       "    .dataframe tbody tr th {\n",
       "        vertical-align: top;\n",
       "    }\n",
       "\n",
       "    .dataframe thead th {\n",
       "        text-align: right;\n",
       "    }\n",
       "</style>\n",
       "<table border=\"1\" class=\"dataframe\">\n",
       "  <thead>\n",
       "    <tr style=\"text-align: right;\">\n",
       "      <th>Symbols</th>\n",
       "      <th>IYW</th>\n",
       "      <th>IBB</th>\n",
       "      <th>IHI</th>\n",
       "      <th>SOXX</th>\n",
       "      <th>IGV</th>\n",
       "      <th>ITA</th>\n",
       "      <th>IYR</th>\n",
       "      <th>IYH</th>\n",
       "      <th>IGM</th>\n",
       "      <th>IYE</th>\n",
       "      <th>...</th>\n",
       "      <th>IYT</th>\n",
       "      <th>IYC</th>\n",
       "      <th>REZ</th>\n",
       "      <th>REM</th>\n",
       "      <th>IAI</th>\n",
       "      <th>IHE</th>\n",
       "      <th>IAK</th>\n",
       "      <th>IYZ</th>\n",
       "      <th>IEZ</th>\n",
       "      <th>IGN</th>\n",
       "    </tr>\n",
       "    <tr>\n",
       "      <th>Date</th>\n",
       "      <th></th>\n",
       "      <th></th>\n",
       "      <th></th>\n",
       "      <th></th>\n",
       "      <th></th>\n",
       "      <th></th>\n",
       "      <th></th>\n",
       "      <th></th>\n",
       "      <th></th>\n",
       "      <th></th>\n",
       "      <th></th>\n",
       "      <th></th>\n",
       "      <th></th>\n",
       "      <th></th>\n",
       "      <th></th>\n",
       "      <th></th>\n",
       "      <th></th>\n",
       "      <th></th>\n",
       "      <th></th>\n",
       "      <th></th>\n",
       "      <th></th>\n",
       "    </tr>\n",
       "  </thead>\n",
       "  <tbody>\n",
       "    <tr>\n",
       "      <th>2001-05</th>\n",
       "      <td>0</td>\n",
       "      <td>1</td>\n",
       "      <td>0</td>\n",
       "      <td>1</td>\n",
       "      <td>0</td>\n",
       "      <td>1</td>\n",
       "      <td>1</td>\n",
       "      <td>0</td>\n",
       "      <td>1</td>\n",
       "      <td>1</td>\n",
       "      <td>...</td>\n",
       "      <td>0</td>\n",
       "      <td>1</td>\n",
       "      <td>0</td>\n",
       "      <td>0</td>\n",
       "      <td>0</td>\n",
       "      <td>0</td>\n",
       "      <td>0</td>\n",
       "      <td>0</td>\n",
       "      <td>1</td>\n",
       "      <td>1</td>\n",
       "    </tr>\n",
       "    <tr>\n",
       "      <th>2001-06</th>\n",
       "      <td>0</td>\n",
       "      <td>1</td>\n",
       "      <td>0</td>\n",
       "      <td>1</td>\n",
       "      <td>0</td>\n",
       "      <td>1</td>\n",
       "      <td>1</td>\n",
       "      <td>0</td>\n",
       "      <td>1</td>\n",
       "      <td>1</td>\n",
       "      <td>...</td>\n",
       "      <td>0</td>\n",
       "      <td>1</td>\n",
       "      <td>0</td>\n",
       "      <td>0</td>\n",
       "      <td>0</td>\n",
       "      <td>0</td>\n",
       "      <td>0</td>\n",
       "      <td>0</td>\n",
       "      <td>1</td>\n",
       "      <td>1</td>\n",
       "    </tr>\n",
       "    <tr>\n",
       "      <th>2001-07</th>\n",
       "      <td>0</td>\n",
       "      <td>0</td>\n",
       "      <td>0</td>\n",
       "      <td>1</td>\n",
       "      <td>0</td>\n",
       "      <td>1</td>\n",
       "      <td>1</td>\n",
       "      <td>1</td>\n",
       "      <td>1</td>\n",
       "      <td>1</td>\n",
       "      <td>...</td>\n",
       "      <td>0</td>\n",
       "      <td>1</td>\n",
       "      <td>0</td>\n",
       "      <td>0</td>\n",
       "      <td>0</td>\n",
       "      <td>0</td>\n",
       "      <td>0</td>\n",
       "      <td>0</td>\n",
       "      <td>1</td>\n",
       "      <td>1</td>\n",
       "    </tr>\n",
       "    <tr>\n",
       "      <th>2001-08</th>\n",
       "      <td>0</td>\n",
       "      <td>1</td>\n",
       "      <td>0</td>\n",
       "      <td>0</td>\n",
       "      <td>0</td>\n",
       "      <td>0</td>\n",
       "      <td>1</td>\n",
       "      <td>1</td>\n",
       "      <td>0</td>\n",
       "      <td>1</td>\n",
       "      <td>...</td>\n",
       "      <td>0</td>\n",
       "      <td>1</td>\n",
       "      <td>0</td>\n",
       "      <td>0</td>\n",
       "      <td>0</td>\n",
       "      <td>0</td>\n",
       "      <td>0</td>\n",
       "      <td>0</td>\n",
       "      <td>0</td>\n",
       "      <td>0</td>\n",
       "    </tr>\n",
       "    <tr>\n",
       "      <th>2001-09</th>\n",
       "      <td>0</td>\n",
       "      <td>0</td>\n",
       "      <td>0</td>\n",
       "      <td>0</td>\n",
       "      <td>0</td>\n",
       "      <td>1</td>\n",
       "      <td>1</td>\n",
       "      <td>1</td>\n",
       "      <td>0</td>\n",
       "      <td>1</td>\n",
       "      <td>...</td>\n",
       "      <td>0</td>\n",
       "      <td>1</td>\n",
       "      <td>1</td>\n",
       "      <td>0</td>\n",
       "      <td>0</td>\n",
       "      <td>1</td>\n",
       "      <td>0</td>\n",
       "      <td>0</td>\n",
       "      <td>1</td>\n",
       "      <td>0</td>\n",
       "    </tr>\n",
       "    <tr>\n",
       "      <th>...</th>\n",
       "      <td>...</td>\n",
       "      <td>...</td>\n",
       "      <td>...</td>\n",
       "      <td>...</td>\n",
       "      <td>...</td>\n",
       "      <td>...</td>\n",
       "      <td>...</td>\n",
       "      <td>...</td>\n",
       "      <td>...</td>\n",
       "      <td>...</td>\n",
       "      <td>...</td>\n",
       "      <td>...</td>\n",
       "      <td>...</td>\n",
       "      <td>...</td>\n",
       "      <td>...</td>\n",
       "      <td>...</td>\n",
       "      <td>...</td>\n",
       "      <td>...</td>\n",
       "      <td>...</td>\n",
       "      <td>...</td>\n",
       "      <td>...</td>\n",
       "    </tr>\n",
       "    <tr>\n",
       "      <th>2022-06</th>\n",
       "      <td>0</td>\n",
       "      <td>0</td>\n",
       "      <td>0</td>\n",
       "      <td>0</td>\n",
       "      <td>0</td>\n",
       "      <td>1</td>\n",
       "      <td>1</td>\n",
       "      <td>1</td>\n",
       "      <td>0</td>\n",
       "      <td>1</td>\n",
       "      <td>...</td>\n",
       "      <td>0</td>\n",
       "      <td>0</td>\n",
       "      <td>1</td>\n",
       "      <td>0</td>\n",
       "      <td>0</td>\n",
       "      <td>1</td>\n",
       "      <td>1</td>\n",
       "      <td>0</td>\n",
       "      <td>1</td>\n",
       "      <td>0</td>\n",
       "    </tr>\n",
       "    <tr>\n",
       "      <th>2022-07</th>\n",
       "      <td>0</td>\n",
       "      <td>0</td>\n",
       "      <td>0</td>\n",
       "      <td>0</td>\n",
       "      <td>0</td>\n",
       "      <td>0</td>\n",
       "      <td>0</td>\n",
       "      <td>1</td>\n",
       "      <td>0</td>\n",
       "      <td>1</td>\n",
       "      <td>...</td>\n",
       "      <td>0</td>\n",
       "      <td>0</td>\n",
       "      <td>1</td>\n",
       "      <td>0</td>\n",
       "      <td>0</td>\n",
       "      <td>1</td>\n",
       "      <td>1</td>\n",
       "      <td>0</td>\n",
       "      <td>1</td>\n",
       "      <td>1</td>\n",
       "    </tr>\n",
       "    <tr>\n",
       "      <th>2022-08</th>\n",
       "      <td>0</td>\n",
       "      <td>0</td>\n",
       "      <td>0</td>\n",
       "      <td>0</td>\n",
       "      <td>0</td>\n",
       "      <td>1</td>\n",
       "      <td>0</td>\n",
       "      <td>0</td>\n",
       "      <td>0</td>\n",
       "      <td>1</td>\n",
       "      <td>...</td>\n",
       "      <td>1</td>\n",
       "      <td>0</td>\n",
       "      <td>1</td>\n",
       "      <td>0</td>\n",
       "      <td>0</td>\n",
       "      <td>1</td>\n",
       "      <td>1</td>\n",
       "      <td>0</td>\n",
       "      <td>1</td>\n",
       "      <td>1</td>\n",
       "    </tr>\n",
       "    <tr>\n",
       "      <th>2022-09</th>\n",
       "      <td>0</td>\n",
       "      <td>0</td>\n",
       "      <td>0</td>\n",
       "      <td>0</td>\n",
       "      <td>0</td>\n",
       "      <td>1</td>\n",
       "      <td>0</td>\n",
       "      <td>1</td>\n",
       "      <td>0</td>\n",
       "      <td>1</td>\n",
       "      <td>...</td>\n",
       "      <td>0</td>\n",
       "      <td>0</td>\n",
       "      <td>1</td>\n",
       "      <td>0</td>\n",
       "      <td>0</td>\n",
       "      <td>1</td>\n",
       "      <td>1</td>\n",
       "      <td>0</td>\n",
       "      <td>1</td>\n",
       "      <td>1</td>\n",
       "    </tr>\n",
       "    <tr>\n",
       "      <th>2022-10</th>\n",
       "      <td>0</td>\n",
       "      <td>0</td>\n",
       "      <td>0</td>\n",
       "      <td>0</td>\n",
       "      <td>0</td>\n",
       "      <td>1</td>\n",
       "      <td>0</td>\n",
       "      <td>1</td>\n",
       "      <td>0</td>\n",
       "      <td>1</td>\n",
       "      <td>...</td>\n",
       "      <td>0</td>\n",
       "      <td>0</td>\n",
       "      <td>0</td>\n",
       "      <td>0</td>\n",
       "      <td>1</td>\n",
       "      <td>1</td>\n",
       "      <td>1</td>\n",
       "      <td>0</td>\n",
       "      <td>1</td>\n",
       "      <td>1</td>\n",
       "    </tr>\n",
       "  </tbody>\n",
       "</table>\n",
       "<p>258 rows × 34 columns</p>\n",
       "</div>"
      ],
      "text/plain": [
       "Symbols  IYW  IBB  IHI  SOXX  IGV  ITA  IYR  IYH  IGM  IYE  ...  IYT  IYC  \\\n",
       "Date                                                        ...             \n",
       "2001-05    0    1    0     1    0    1    1    0    1    1  ...    0    1   \n",
       "2001-06    0    1    0     1    0    1    1    0    1    1  ...    0    1   \n",
       "2001-07    0    0    0     1    0    1    1    1    1    1  ...    0    1   \n",
       "2001-08    0    1    0     0    0    0    1    1    0    1  ...    0    1   \n",
       "2001-09    0    0    0     0    0    1    1    1    0    1  ...    0    1   \n",
       "...      ...  ...  ...   ...  ...  ...  ...  ...  ...  ...  ...  ...  ...   \n",
       "2022-06    0    0    0     0    0    1    1    1    0    1  ...    0    0   \n",
       "2022-07    0    0    0     0    0    0    0    1    0    1  ...    0    0   \n",
       "2022-08    0    0    0     0    0    1    0    0    0    1  ...    1    0   \n",
       "2022-09    0    0    0     0    0    1    0    1    0    1  ...    0    0   \n",
       "2022-10    0    0    0     0    0    1    0    1    0    1  ...    0    0   \n",
       "\n",
       "Symbols  REZ  REM  IAI  IHE  IAK  IYZ  IEZ  IGN  \n",
       "Date                                             \n",
       "2001-05    0    0    0    0    0    0    1    1  \n",
       "2001-06    0    0    0    0    0    0    1    1  \n",
       "2001-07    0    0    0    0    0    0    1    1  \n",
       "2001-08    0    0    0    0    0    0    0    0  \n",
       "2001-09    1    0    0    1    0    0    1    0  \n",
       "...      ...  ...  ...  ...  ...  ...  ...  ...  \n",
       "2022-06    1    0    0    1    1    0    1    0  \n",
       "2022-07    1    0    0    1    1    0    1    1  \n",
       "2022-08    1    0    0    1    1    0    1    1  \n",
       "2022-09    1    0    0    1    1    0    1    1  \n",
       "2022-10    0    0    1    1    1    0    1    1  \n",
       "\n",
       "[258 rows x 34 columns]"
      ]
     },
     "execution_count": 4,
     "metadata": {},
     "output_type": "execute_result"
    }
   ],
   "source": [
    "# Split into portfolios (not enough to do more than two portfolios each period)\n",
    "ports = avgs.apply(lambda x: pd.qcut(x, 2,labels=False), axis=1)\n",
    "ports"
   ]
  },
  {
   "cell_type": "code",
   "execution_count": 5,
   "metadata": {},
   "outputs": [
    {
     "data": {
      "text/html": [
       "<div>\n",
       "<style scoped>\n",
       "    .dataframe tbody tr th:only-of-type {\n",
       "        vertical-align: middle;\n",
       "    }\n",
       "\n",
       "    .dataframe tbody tr th {\n",
       "        vertical-align: top;\n",
       "    }\n",
       "\n",
       "    .dataframe thead th {\n",
       "        text-align: right;\n",
       "    }\n",
       "</style>\n",
       "<table border=\"1\" class=\"dataframe\">\n",
       "  <thead>\n",
       "    <tr style=\"text-align: right;\">\n",
       "      <th></th>\n",
       "      <th>hi</th>\n",
       "      <th>lo</th>\n",
       "    </tr>\n",
       "    <tr>\n",
       "      <th>Date</th>\n",
       "      <th></th>\n",
       "      <th></th>\n",
       "    </tr>\n",
       "  </thead>\n",
       "  <tbody>\n",
       "    <tr>\n",
       "      <th>2001-06-30</th>\n",
       "      <td>-0.010227</td>\n",
       "      <td>-0.013423</td>\n",
       "    </tr>\n",
       "    <tr>\n",
       "      <th>2001-07-31</th>\n",
       "      <td>-0.029662</td>\n",
       "      <td>-0.020879</td>\n",
       "    </tr>\n",
       "    <tr>\n",
       "      <th>2001-08-31</th>\n",
       "      <td>-0.043716</td>\n",
       "      <td>-0.058961</td>\n",
       "    </tr>\n",
       "    <tr>\n",
       "      <th>2001-09-30</th>\n",
       "      <td>-0.076862</td>\n",
       "      <td>-0.140701</td>\n",
       "    </tr>\n",
       "    <tr>\n",
       "      <th>2001-10-31</th>\n",
       "      <td>0.026658</td>\n",
       "      <td>0.090535</td>\n",
       "    </tr>\n",
       "    <tr>\n",
       "      <th>...</th>\n",
       "      <td>...</td>\n",
       "      <td>...</td>\n",
       "    </tr>\n",
       "    <tr>\n",
       "      <th>2022-06-30</th>\n",
       "      <td>-0.097393</td>\n",
       "      <td>-0.083420</td>\n",
       "    </tr>\n",
       "    <tr>\n",
       "      <th>2022-07-31</th>\n",
       "      <td>0.061494</td>\n",
       "      <td>0.107849</td>\n",
       "    </tr>\n",
       "    <tr>\n",
       "      <th>2022-08-31</th>\n",
       "      <td>-0.016220</td>\n",
       "      <td>-0.043322</td>\n",
       "    </tr>\n",
       "    <tr>\n",
       "      <th>2022-09-30</th>\n",
       "      <td>-0.090512</td>\n",
       "      <td>-0.103559</td>\n",
       "    </tr>\n",
       "    <tr>\n",
       "      <th>2022-10-31</th>\n",
       "      <td>0.108498</td>\n",
       "      <td>0.061151</td>\n",
       "    </tr>\n",
       "  </tbody>\n",
       "</table>\n",
       "<p>257 rows × 2 columns</p>\n",
       "</div>"
      ],
      "text/plain": [
       "                  hi        lo\n",
       "Date                          \n",
       "2001-06-30 -0.010227 -0.013423\n",
       "2001-07-31 -0.029662 -0.020879\n",
       "2001-08-31 -0.043716 -0.058961\n",
       "2001-09-30 -0.076862 -0.140701\n",
       "2001-10-31  0.026658  0.090535\n",
       "...              ...       ...\n",
       "2022-06-30 -0.097393 -0.083420\n",
       "2022-07-31  0.061494  0.107849\n",
       "2022-08-31 -0.016220 -0.043322\n",
       "2022-09-30 -0.090512 -0.103559\n",
       "2022-10-31  0.108498  0.061151\n",
       "\n",
       "[257 rows x 2 columns]"
      ]
     },
     "execution_count": 5,
     "metadata": {},
     "output_type": "execute_result"
    }
   ],
   "source": [
    "\n",
    "# Portfolio of the most recent winners\n",
    "hi = pd.DataFrame(dtype=float, columns=ports.columns, index=ports.index)\n",
    "for c in ports.columns:\n",
    "    hi[c] = (ports[c]==1)*1.0\n",
    "hi=hi.div(hi.sum(axis=1), axis=0)  # Normalize so weights sum to 1\n",
    "\n",
    "# Portfolio of the most recent losers\n",
    "lo = pd.DataFrame(dtype=float, columns=ports.columns, index=ports.index)\n",
    "for c in ports.columns:\n",
    "    lo[c] = (ports[c]==0)*1.0\n",
    "lo=lo.div(lo.sum(axis=1), axis=0)  # Normalize so weights sum to 1\n",
    "\n",
    "#  Multiply weights by returns in next month\n",
    "rets = pd.DataFrame(dtype=float,columns=['hi','lo'],index=hi.index[1:])\n",
    "for d in rets.index:\n",
    "    rets.loc[d,'hi'] = hi.loc[d-1] @ df.loc[d]\n",
    "    rets.loc[d,'lo'] = lo.loc[d-1] @ df.loc[d]\n",
    "rets.index = rets.index.to_timestamp('M')\n",
    "rets"
   ]
  },
  {
   "cell_type": "code",
   "execution_count": 9,
   "metadata": {},
   "outputs": [
    {
     "data": {
      "application/vnd.plotly.v1+json": {
       "config": {
        "plotlyServerURL": "https://plot.ly"
       },
       "data": [
        {
         "hovertemplate": "Strategy: Buy Past Winners<br>Date: %{x}<br>FV of $1: $%{y:,.2f}<br><extra></extra>",
         "mode": "lines",
         "name": "Buy Winners",
         "type": "scatter",
         "x": [
          "2001-06-30T00:00:00",
          "2001-07-31T00:00:00",
          "2001-08-31T00:00:00",
          "2001-09-30T00:00:00",
          "2001-10-31T00:00:00",
          "2001-11-30T00:00:00",
          "2001-12-31T00:00:00",
          "2002-01-31T00:00:00",
          "2002-02-28T00:00:00",
          "2002-03-31T00:00:00",
          "2002-04-30T00:00:00",
          "2002-05-31T00:00:00",
          "2002-06-30T00:00:00",
          "2002-07-31T00:00:00",
          "2002-08-31T00:00:00",
          "2002-09-30T00:00:00",
          "2002-10-31T00:00:00",
          "2002-11-30T00:00:00",
          "2002-12-31T00:00:00",
          "2003-01-31T00:00:00",
          "2003-02-28T00:00:00",
          "2003-03-31T00:00:00",
          "2003-04-30T00:00:00",
          "2003-05-31T00:00:00",
          "2003-06-30T00:00:00",
          "2003-07-31T00:00:00",
          "2003-08-31T00:00:00",
          "2003-09-30T00:00:00",
          "2003-10-31T00:00:00",
          "2003-11-30T00:00:00",
          "2003-12-31T00:00:00",
          "2004-01-31T00:00:00",
          "2004-02-29T00:00:00",
          "2004-03-31T00:00:00",
          "2004-04-30T00:00:00",
          "2004-05-31T00:00:00",
          "2004-06-30T00:00:00",
          "2004-07-31T00:00:00",
          "2004-08-31T00:00:00",
          "2004-09-30T00:00:00",
          "2004-10-31T00:00:00",
          "2004-11-30T00:00:00",
          "2004-12-31T00:00:00",
          "2005-01-31T00:00:00",
          "2005-02-28T00:00:00",
          "2005-03-31T00:00:00",
          "2005-04-30T00:00:00",
          "2005-05-31T00:00:00",
          "2005-06-30T00:00:00",
          "2005-07-31T00:00:00",
          "2005-08-31T00:00:00",
          "2005-09-30T00:00:00",
          "2005-10-31T00:00:00",
          "2005-11-30T00:00:00",
          "2005-12-31T00:00:00",
          "2006-01-31T00:00:00",
          "2006-02-28T00:00:00",
          "2006-03-31T00:00:00",
          "2006-04-30T00:00:00",
          "2006-05-31T00:00:00",
          "2006-06-30T00:00:00",
          "2006-07-31T00:00:00",
          "2006-08-31T00:00:00",
          "2006-09-30T00:00:00",
          "2006-10-31T00:00:00",
          "2006-11-30T00:00:00",
          "2006-12-31T00:00:00",
          "2007-01-31T00:00:00",
          "2007-02-28T00:00:00",
          "2007-03-31T00:00:00",
          "2007-04-30T00:00:00",
          "2007-05-31T00:00:00",
          "2007-06-30T00:00:00",
          "2007-07-31T00:00:00",
          "2007-08-31T00:00:00",
          "2007-09-30T00:00:00",
          "2007-10-31T00:00:00",
          "2007-11-30T00:00:00",
          "2007-12-31T00:00:00",
          "2008-01-31T00:00:00",
          "2008-02-29T00:00:00",
          "2008-03-31T00:00:00",
          "2008-04-30T00:00:00",
          "2008-05-31T00:00:00",
          "2008-06-30T00:00:00",
          "2008-07-31T00:00:00",
          "2008-08-31T00:00:00",
          "2008-09-30T00:00:00",
          "2008-10-31T00:00:00",
          "2008-11-30T00:00:00",
          "2008-12-31T00:00:00",
          "2009-01-31T00:00:00",
          "2009-02-28T00:00:00",
          "2009-03-31T00:00:00",
          "2009-04-30T00:00:00",
          "2009-05-31T00:00:00",
          "2009-06-30T00:00:00",
          "2009-07-31T00:00:00",
          "2009-08-31T00:00:00",
          "2009-09-30T00:00:00",
          "2009-10-31T00:00:00",
          "2009-11-30T00:00:00",
          "2009-12-31T00:00:00",
          "2010-01-31T00:00:00",
          "2010-02-28T00:00:00",
          "2010-03-31T00:00:00",
          "2010-04-30T00:00:00",
          "2010-05-31T00:00:00",
          "2010-06-30T00:00:00",
          "2010-07-31T00:00:00",
          "2010-08-31T00:00:00",
          "2010-09-30T00:00:00",
          "2010-10-31T00:00:00",
          "2010-11-30T00:00:00",
          "2010-12-31T00:00:00",
          "2011-01-31T00:00:00",
          "2011-02-28T00:00:00",
          "2011-03-31T00:00:00",
          "2011-04-30T00:00:00",
          "2011-05-31T00:00:00",
          "2011-06-30T00:00:00",
          "2011-07-31T00:00:00",
          "2011-08-31T00:00:00",
          "2011-09-30T00:00:00",
          "2011-10-31T00:00:00",
          "2011-11-30T00:00:00",
          "2011-12-31T00:00:00",
          "2012-01-31T00:00:00",
          "2012-02-29T00:00:00",
          "2012-03-31T00:00:00",
          "2012-04-30T00:00:00",
          "2012-05-31T00:00:00",
          "2012-06-30T00:00:00",
          "2012-07-31T00:00:00",
          "2012-08-31T00:00:00",
          "2012-09-30T00:00:00",
          "2012-10-31T00:00:00",
          "2012-11-30T00:00:00",
          "2012-12-31T00:00:00",
          "2013-01-31T00:00:00",
          "2013-02-28T00:00:00",
          "2013-03-31T00:00:00",
          "2013-04-30T00:00:00",
          "2013-05-31T00:00:00",
          "2013-06-30T00:00:00",
          "2013-07-31T00:00:00",
          "2013-08-31T00:00:00",
          "2013-09-30T00:00:00",
          "2013-10-31T00:00:00",
          "2013-11-30T00:00:00",
          "2013-12-31T00:00:00",
          "2014-01-31T00:00:00",
          "2014-02-28T00:00:00",
          "2014-03-31T00:00:00",
          "2014-04-30T00:00:00",
          "2014-05-31T00:00:00",
          "2014-06-30T00:00:00",
          "2014-07-31T00:00:00",
          "2014-08-31T00:00:00",
          "2014-09-30T00:00:00",
          "2014-10-31T00:00:00",
          "2014-11-30T00:00:00",
          "2014-12-31T00:00:00",
          "2015-01-31T00:00:00",
          "2015-02-28T00:00:00",
          "2015-03-31T00:00:00",
          "2015-04-30T00:00:00",
          "2015-05-31T00:00:00",
          "2015-06-30T00:00:00",
          "2015-07-31T00:00:00",
          "2015-08-31T00:00:00",
          "2015-09-30T00:00:00",
          "2015-10-31T00:00:00",
          "2015-11-30T00:00:00",
          "2015-12-31T00:00:00",
          "2016-01-31T00:00:00",
          "2016-02-29T00:00:00",
          "2016-03-31T00:00:00",
          "2016-04-30T00:00:00",
          "2016-05-31T00:00:00",
          "2016-06-30T00:00:00",
          "2016-07-31T00:00:00",
          "2016-08-31T00:00:00",
          "2016-09-30T00:00:00",
          "2016-10-31T00:00:00",
          "2016-11-30T00:00:00",
          "2016-12-31T00:00:00",
          "2017-01-31T00:00:00",
          "2017-02-28T00:00:00",
          "2017-03-31T00:00:00",
          "2017-04-30T00:00:00",
          "2017-05-31T00:00:00",
          "2017-06-30T00:00:00",
          "2017-07-31T00:00:00",
          "2017-08-31T00:00:00",
          "2017-09-30T00:00:00",
          "2017-10-31T00:00:00",
          "2017-11-30T00:00:00",
          "2017-12-31T00:00:00",
          "2018-01-31T00:00:00",
          "2018-02-28T00:00:00",
          "2018-03-31T00:00:00",
          "2018-04-30T00:00:00",
          "2018-05-31T00:00:00",
          "2018-06-30T00:00:00",
          "2018-07-31T00:00:00",
          "2018-08-31T00:00:00",
          "2018-09-30T00:00:00",
          "2018-10-31T00:00:00",
          "2018-11-30T00:00:00",
          "2018-12-31T00:00:00",
          "2019-01-31T00:00:00",
          "2019-02-28T00:00:00",
          "2019-03-31T00:00:00",
          "2019-04-30T00:00:00",
          "2019-05-31T00:00:00",
          "2019-06-30T00:00:00",
          "2019-07-31T00:00:00",
          "2019-08-31T00:00:00",
          "2019-09-30T00:00:00",
          "2019-10-31T00:00:00",
          "2019-11-30T00:00:00",
          "2019-12-31T00:00:00",
          "2020-01-31T00:00:00",
          "2020-02-29T00:00:00",
          "2020-03-31T00:00:00",
          "2020-04-30T00:00:00",
          "2020-05-31T00:00:00",
          "2020-06-30T00:00:00",
          "2020-07-31T00:00:00",
          "2020-08-31T00:00:00",
          "2020-09-30T00:00:00",
          "2020-10-31T00:00:00",
          "2020-11-30T00:00:00",
          "2020-12-31T00:00:00",
          "2021-01-31T00:00:00",
          "2021-02-28T00:00:00",
          "2021-03-31T00:00:00",
          "2021-04-30T00:00:00",
          "2021-05-31T00:00:00",
          "2021-06-30T00:00:00",
          "2021-07-31T00:00:00",
          "2021-08-31T00:00:00",
          "2021-09-30T00:00:00",
          "2021-10-31T00:00:00",
          "2021-11-30T00:00:00",
          "2021-12-31T00:00:00",
          "2022-01-31T00:00:00",
          "2022-02-28T00:00:00",
          "2022-03-31T00:00:00",
          "2022-04-30T00:00:00",
          "2022-05-31T00:00:00",
          "2022-06-30T00:00:00",
          "2022-07-31T00:00:00",
          "2022-08-31T00:00:00",
          "2022-09-30T00:00:00",
          "2022-10-31T00:00:00"
         ],
         "y": [
          0.9897733240086246,
          0.9604142756033557,
          0.9184286041416709,
          0.8478364635144001,
          0.8704376989865561,
          0.9339133475485556,
          0.9350411359660983,
          0.9181712986783843,
          0.8975311560730829,
          0.9407895870098452,
          0.8930942465147581,
          0.8889160123412095,
          0.8400186741698494,
          0.7725767354686145,
          0.7806854833897481,
          0.7071028805216149,
          0.7431019200672281,
          0.7928829478482303,
          0.7596206307702607,
          0.7386732784754937,
          0.7328421594333304,
          0.7377879190032487,
          0.7779265543746506,
          0.849371266120964,
          0.8538472954816916,
          0.8822784339840898,
          0.9365951709830116,
          0.9251710995919937,
          0.9981233760602153,
          1.0128249853673166,
          1.0423908888305788,
          1.096025437673716,
          1.0789697915133971,
          1.0498389754773911,
          0.967669185715367,
          0.9936057338818124,
          1.0364447173726423,
          0.9931860422885671,
          1.0077319777219262,
          1.0342622421373364,
          1.0644995394599568,
          1.123507858530732,
          1.1506354404447947,
          1.1011524340447114,
          1.15158673435511,
          1.1308498693404834,
          1.110279114055712,
          1.1472502179367585,
          1.1758387656648948,
          1.2460575124301778,
          1.2476266431890042,
          1.2812490150370677,
          1.2261124886550105,
          1.2656816081508981,
          1.2741259998477978,
          1.3636289403031008,
          1.3479098879301024,
          1.391217326063411,
          1.3900948557157429,
          1.3300227849352606,
          1.3453837176709786,
          1.335213477275144,
          1.346950723487385,
          1.3559129522485434,
          1.4003824993835334,
          1.442813663507871,
          1.4455141105102622,
          1.4886387059538382,
          1.4648935144162143,
          1.4771320420016802,
          1.529787258534461,
          1.5843896220889961,
          1.5459221165011372,
          1.5233304504441745,
          1.5370468992838462,
          1.612688137198092,
          1.6707255470610194,
          1.5921968418298176,
          1.6231927410908165,
          1.4855153446775249,
          1.4967372172329896,
          1.4700264191681314,
          1.5587599067208975,
          1.638619383714993,
          1.5575724788362895,
          1.5204791179272628,
          1.5307566495474787,
          1.3792784282825605,
          1.072074297245661,
          0.9824239694366621,
          0.9974257273894002,
          0.9057318227736373,
          0.8018722530322113,
          0.8643408023563812,
          0.9401951395678269,
          0.9743445771138821,
          0.9957983284777551,
          1.0718316372656715,
          1.099647378662966,
          1.1385221272601425,
          1.091094347768291,
          1.146688440218811,
          1.2063587950032122,
          1.143021797337096,
          1.1942125731806787,
          1.2816568072159769,
          1.3371245141973254,
          1.22965209952604,
          1.145278187121197,
          1.2187431815741854,
          1.1664884712985193,
          1.2658237420694471,
          1.3216540247770359,
          1.320844138273029,
          1.4086696962384226,
          1.4446728255744772,
          1.5120487807395546,
          1.5137983075700472,
          1.5593475793876193,
          1.5440230886624968,
          1.5079283239500159,
          1.4708933295259032,
          1.3697627104718035,
          1.2370528067107078,
          1.3792747673543369,
          1.3799222668067732,
          1.3927216792825619,
          1.4589908262611726,
          1.4888307802239769,
          1.545734205242136,
          1.55405162778207,
          1.4902350144149408,
          1.5584451798817323,
          1.5805490838554679,
          1.6104955732775306,
          1.6488498459370111,
          1.6244786476977615,
          1.6260163506811935,
          1.6546328536154782,
          1.7695267774886219,
          1.7814734236363785,
          1.86019566252929,
          1.9125548302476387,
          1.9211446109058614,
          1.8998736906317941,
          2.006776734528731,
          1.9389251237439964,
          2.0190856110451727,
          2.098196756661163,
          2.182467263513079,
          2.2320518623085057,
          2.1978098260752748,
          2.3040171389064517,
          2.3032535109304693,
          2.2661585438000675,
          2.3207663183189915,
          2.399224418939427,
          2.3373149708568657,
          2.4376077450694864,
          2.372432584110405,
          2.459999294816916,
          2.5461846006698843,
          2.5532814475809973,
          2.573483858823932,
          2.6628583340567524,
          2.6644955488614572,
          2.599549765855865,
          2.6838118970973666,
          2.6448037068717825,
          2.7108528088506425,
          2.5366312709028978,
          2.448729607748725,
          2.582773875374422,
          2.6180105537428586,
          2.5887195268966785,
          2.3911856604583783,
          2.387449405794762,
          2.56254323391382,
          2.524322638595968,
          2.588578936665737,
          2.634055563615165,
          2.7436264030364526,
          2.7214565876474923,
          2.7326386577692685,
          2.6613123624515036,
          2.744115218106941,
          2.7983925155691978,
          2.829792982156371,
          2.875387094198329,
          2.862917651611596,
          2.8654680240205948,
          2.905748411004664,
          2.9662910826842697,
          3.0212854114953527,
          3.0348641651139054,
          3.1445953320553044,
          3.2358528705819136,
          3.329276150716658,
          3.334308822621564,
          3.5516179106295724,
          3.4479794593158424,
          3.380173938334023,
          3.378459502115448,
          3.4920890822211788,
          3.4608068001753582,
          3.5397286931029432,
          3.630299878217965,
          3.6381517761265867,
          3.292604167759376,
          3.3573180997926566,
          3.0555315403273844,
          3.333293986340032,
          3.442292650123764,
          3.4950228069280973,
          3.577986585798728,
          3.3860606447117023,
          3.5628780447479707,
          3.627657230931278,
          3.6107620565194405,
          3.6854820483837827,
          3.73267142793404,
          3.8220563857691934,
          3.867735803855649,
          3.8797405911751888,
          3.5489693552316264,
          2.9296829243701032,
          3.3240029148627435,
          3.527497342120027,
          3.573925375307207,
          3.7935431323318065,
          4.000731803380162,
          3.92193276861964,
          3.8317192191039866,
          4.25888343801021,
          4.441078302649221,
          4.483002596143168,
          4.600040266867139,
          4.742391913888535,
          4.921357145762328,
          5.0587670093961,
          5.035264291891832,
          4.965230893460933,
          5.047166814854356,
          4.970587260123371,
          5.30790364028437,
          5.160729284190418,
          5.42717205974108,
          5.275661429788623,
          5.2948385263271085,
          5.607648215980098,
          5.324560912508637,
          5.470059272929413,
          4.937312880147896,
          5.240929966536161,
          5.155920806002899,
          4.689245962977254,
          5.198021077259179
         ]
        },
        {
         "hovertemplate": "Strategy: Buy Past Losers<br>Date: %{x}<br>FV of $1: $%{y:,.2f}<br><extra></extra>",
         "mode": "lines",
         "name": "Sell Losers",
         "type": "scatter",
         "x": [
          "2001-06-30T00:00:00",
          "2001-07-31T00:00:00",
          "2001-08-31T00:00:00",
          "2001-09-30T00:00:00",
          "2001-10-31T00:00:00",
          "2001-11-30T00:00:00",
          "2001-12-31T00:00:00",
          "2002-01-31T00:00:00",
          "2002-02-28T00:00:00",
          "2002-03-31T00:00:00",
          "2002-04-30T00:00:00",
          "2002-05-31T00:00:00",
          "2002-06-30T00:00:00",
          "2002-07-31T00:00:00",
          "2002-08-31T00:00:00",
          "2002-09-30T00:00:00",
          "2002-10-31T00:00:00",
          "2002-11-30T00:00:00",
          "2002-12-31T00:00:00",
          "2003-01-31T00:00:00",
          "2003-02-28T00:00:00",
          "2003-03-31T00:00:00",
          "2003-04-30T00:00:00",
          "2003-05-31T00:00:00",
          "2003-06-30T00:00:00",
          "2003-07-31T00:00:00",
          "2003-08-31T00:00:00",
          "2003-09-30T00:00:00",
          "2003-10-31T00:00:00",
          "2003-11-30T00:00:00",
          "2003-12-31T00:00:00",
          "2004-01-31T00:00:00",
          "2004-02-29T00:00:00",
          "2004-03-31T00:00:00",
          "2004-04-30T00:00:00",
          "2004-05-31T00:00:00",
          "2004-06-30T00:00:00",
          "2004-07-31T00:00:00",
          "2004-08-31T00:00:00",
          "2004-09-30T00:00:00",
          "2004-10-31T00:00:00",
          "2004-11-30T00:00:00",
          "2004-12-31T00:00:00",
          "2005-01-31T00:00:00",
          "2005-02-28T00:00:00",
          "2005-03-31T00:00:00",
          "2005-04-30T00:00:00",
          "2005-05-31T00:00:00",
          "2005-06-30T00:00:00",
          "2005-07-31T00:00:00",
          "2005-08-31T00:00:00",
          "2005-09-30T00:00:00",
          "2005-10-31T00:00:00",
          "2005-11-30T00:00:00",
          "2005-12-31T00:00:00",
          "2006-01-31T00:00:00",
          "2006-02-28T00:00:00",
          "2006-03-31T00:00:00",
          "2006-04-30T00:00:00",
          "2006-05-31T00:00:00",
          "2006-06-30T00:00:00",
          "2006-07-31T00:00:00",
          "2006-08-31T00:00:00",
          "2006-09-30T00:00:00",
          "2006-10-31T00:00:00",
          "2006-11-30T00:00:00",
          "2006-12-31T00:00:00",
          "2007-01-31T00:00:00",
          "2007-02-28T00:00:00",
          "2007-03-31T00:00:00",
          "2007-04-30T00:00:00",
          "2007-05-31T00:00:00",
          "2007-06-30T00:00:00",
          "2007-07-31T00:00:00",
          "2007-08-31T00:00:00",
          "2007-09-30T00:00:00",
          "2007-10-31T00:00:00",
          "2007-11-30T00:00:00",
          "2007-12-31T00:00:00",
          "2008-01-31T00:00:00",
          "2008-02-29T00:00:00",
          "2008-03-31T00:00:00",
          "2008-04-30T00:00:00",
          "2008-05-31T00:00:00",
          "2008-06-30T00:00:00",
          "2008-07-31T00:00:00",
          "2008-08-31T00:00:00",
          "2008-09-30T00:00:00",
          "2008-10-31T00:00:00",
          "2008-11-30T00:00:00",
          "2008-12-31T00:00:00",
          "2009-01-31T00:00:00",
          "2009-02-28T00:00:00",
          "2009-03-31T00:00:00",
          "2009-04-30T00:00:00",
          "2009-05-31T00:00:00",
          "2009-06-30T00:00:00",
          "2009-07-31T00:00:00",
          "2009-08-31T00:00:00",
          "2009-09-30T00:00:00",
          "2009-10-31T00:00:00",
          "2009-11-30T00:00:00",
          "2009-12-31T00:00:00",
          "2010-01-31T00:00:00",
          "2010-02-28T00:00:00",
          "2010-03-31T00:00:00",
          "2010-04-30T00:00:00",
          "2010-05-31T00:00:00",
          "2010-06-30T00:00:00",
          "2010-07-31T00:00:00",
          "2010-08-31T00:00:00",
          "2010-09-30T00:00:00",
          "2010-10-31T00:00:00",
          "2010-11-30T00:00:00",
          "2010-12-31T00:00:00",
          "2011-01-31T00:00:00",
          "2011-02-28T00:00:00",
          "2011-03-31T00:00:00",
          "2011-04-30T00:00:00",
          "2011-05-31T00:00:00",
          "2011-06-30T00:00:00",
          "2011-07-31T00:00:00",
          "2011-08-31T00:00:00",
          "2011-09-30T00:00:00",
          "2011-10-31T00:00:00",
          "2011-11-30T00:00:00",
          "2011-12-31T00:00:00",
          "2012-01-31T00:00:00",
          "2012-02-29T00:00:00",
          "2012-03-31T00:00:00",
          "2012-04-30T00:00:00",
          "2012-05-31T00:00:00",
          "2012-06-30T00:00:00",
          "2012-07-31T00:00:00",
          "2012-08-31T00:00:00",
          "2012-09-30T00:00:00",
          "2012-10-31T00:00:00",
          "2012-11-30T00:00:00",
          "2012-12-31T00:00:00",
          "2013-01-31T00:00:00",
          "2013-02-28T00:00:00",
          "2013-03-31T00:00:00",
          "2013-04-30T00:00:00",
          "2013-05-31T00:00:00",
          "2013-06-30T00:00:00",
          "2013-07-31T00:00:00",
          "2013-08-31T00:00:00",
          "2013-09-30T00:00:00",
          "2013-10-31T00:00:00",
          "2013-11-30T00:00:00",
          "2013-12-31T00:00:00",
          "2014-01-31T00:00:00",
          "2014-02-28T00:00:00",
          "2014-03-31T00:00:00",
          "2014-04-30T00:00:00",
          "2014-05-31T00:00:00",
          "2014-06-30T00:00:00",
          "2014-07-31T00:00:00",
          "2014-08-31T00:00:00",
          "2014-09-30T00:00:00",
          "2014-10-31T00:00:00",
          "2014-11-30T00:00:00",
          "2014-12-31T00:00:00",
          "2015-01-31T00:00:00",
          "2015-02-28T00:00:00",
          "2015-03-31T00:00:00",
          "2015-04-30T00:00:00",
          "2015-05-31T00:00:00",
          "2015-06-30T00:00:00",
          "2015-07-31T00:00:00",
          "2015-08-31T00:00:00",
          "2015-09-30T00:00:00",
          "2015-10-31T00:00:00",
          "2015-11-30T00:00:00",
          "2015-12-31T00:00:00",
          "2016-01-31T00:00:00",
          "2016-02-29T00:00:00",
          "2016-03-31T00:00:00",
          "2016-04-30T00:00:00",
          "2016-05-31T00:00:00",
          "2016-06-30T00:00:00",
          "2016-07-31T00:00:00",
          "2016-08-31T00:00:00",
          "2016-09-30T00:00:00",
          "2016-10-31T00:00:00",
          "2016-11-30T00:00:00",
          "2016-12-31T00:00:00",
          "2017-01-31T00:00:00",
          "2017-02-28T00:00:00",
          "2017-03-31T00:00:00",
          "2017-04-30T00:00:00",
          "2017-05-31T00:00:00",
          "2017-06-30T00:00:00",
          "2017-07-31T00:00:00",
          "2017-08-31T00:00:00",
          "2017-09-30T00:00:00",
          "2017-10-31T00:00:00",
          "2017-11-30T00:00:00",
          "2017-12-31T00:00:00",
          "2018-01-31T00:00:00",
          "2018-02-28T00:00:00",
          "2018-03-31T00:00:00",
          "2018-04-30T00:00:00",
          "2018-05-31T00:00:00",
          "2018-06-30T00:00:00",
          "2018-07-31T00:00:00",
          "2018-08-31T00:00:00",
          "2018-09-30T00:00:00",
          "2018-10-31T00:00:00",
          "2018-11-30T00:00:00",
          "2018-12-31T00:00:00",
          "2019-01-31T00:00:00",
          "2019-02-28T00:00:00",
          "2019-03-31T00:00:00",
          "2019-04-30T00:00:00",
          "2019-05-31T00:00:00",
          "2019-06-30T00:00:00",
          "2019-07-31T00:00:00",
          "2019-08-31T00:00:00",
          "2019-09-30T00:00:00",
          "2019-10-31T00:00:00",
          "2019-11-30T00:00:00",
          "2019-12-31T00:00:00",
          "2020-01-31T00:00:00",
          "2020-02-29T00:00:00",
          "2020-03-31T00:00:00",
          "2020-04-30T00:00:00",
          "2020-05-31T00:00:00",
          "2020-06-30T00:00:00",
          "2020-07-31T00:00:00",
          "2020-08-31T00:00:00",
          "2020-09-30T00:00:00",
          "2020-10-31T00:00:00",
          "2020-11-30T00:00:00",
          "2020-12-31T00:00:00",
          "2021-01-31T00:00:00",
          "2021-02-28T00:00:00",
          "2021-03-31T00:00:00",
          "2021-04-30T00:00:00",
          "2021-05-31T00:00:00",
          "2021-06-30T00:00:00",
          "2021-07-31T00:00:00",
          "2021-08-31T00:00:00",
          "2021-09-30T00:00:00",
          "2021-10-31T00:00:00",
          "2021-11-30T00:00:00",
          "2021-12-31T00:00:00",
          "2022-01-31T00:00:00",
          "2022-02-28T00:00:00",
          "2022-03-31T00:00:00",
          "2022-04-30T00:00:00",
          "2022-05-31T00:00:00",
          "2022-06-30T00:00:00",
          "2022-07-31T00:00:00",
          "2022-08-31T00:00:00",
          "2022-09-30T00:00:00",
          "2022-10-31T00:00:00"
         ],
         "y": [
          0.9865768087562812,
          0.9659783262965932,
          0.909023706487305,
          0.7811228691828632,
          0.8518418671280082,
          0.9294985001401327,
          0.9474411093784361,
          0.9188030768714559,
          0.8777575127385228,
          0.935386318245284,
          0.8560847945961428,
          0.829824266233185,
          0.7462016738863744,
          0.6738477694654659,
          0.673022169683102,
          0.5807199168902315,
          0.658071233352862,
          0.7428815866328115,
          0.6769710337467314,
          0.664648806317795,
          0.6618115692827068,
          0.6684506801193737,
          0.7298579561310021,
          0.7979008508897143,
          0.8032252130330519,
          0.8236871425432354,
          0.8474429997020579,
          0.845561772241823,
          0.8885840499281531,
          0.9029761221621603,
          0.9568821500285135,
          0.9763388578162211,
          0.9966512918338796,
          0.9922814641987011,
          0.962820676904859,
          0.9877726483826091,
          1.0081539181733672,
          0.962317714108792,
          0.9579823450271987,
          0.9862499036390077,
          1.0148930326741852,
          1.0637390876036221,
          1.1034182015535778,
          1.0579720277258526,
          1.0745716591966754,
          1.0478843275210454,
          1.0234000466283977,
          1.0825477347237764,
          1.0849679769854654,
          1.14921106155154,
          1.139377984526156,
          1.1497135941821983,
          1.1309678556272917,
          1.1826842997353648,
          1.1825667508332134,
          1.2321613040335258,
          1.2382210490307626,
          1.262758812770672,
          1.2723817739334884,
          1.2210358881607342,
          1.215131929835423,
          1.2067383500847084,
          1.2467826556893902,
          1.2797626898891568,
          1.324614882865027,
          1.370412608116381,
          1.3673872304201216,
          1.3958184290768485,
          1.3796148114052071,
          1.3775890231488648,
          1.4450740445167816,
          1.499537936294138,
          1.4483078957674882,
          1.3395692631356697,
          1.3471517956659704,
          1.37622987533749,
          1.3742106062618131,
          1.2858257664502533,
          1.2550654676221387,
          1.2517982501422928,
          1.170738587192829,
          1.164220685101375,
          1.2326953689409599,
          1.2241142733981767,
          1.0675059830151166,
          1.097810727090532,
          1.1242233359479592,
          1.030575746422026,
          0.8321021128888514,
          0.7233697051337729,
          0.7631897849833396,
          0.7039588766177688,
          0.6163628174637529,
          0.671545073572232,
          0.8061956433794564,
          0.8745718435953912,
          0.848654211291942,
          0.9262512166630865,
          0.9917296325755234,
          1.053577629279695,
          1.0094052590820304,
          1.072243261970247,
          1.1094686431807974,
          1.0915752572841526,
          1.1254200656871354,
          1.1855896802894927,
          1.2113828909642468,
          1.1220030424991083,
          1.066598581023141,
          1.1437038423471282,
          1.083269229981189,
          1.1932711791934945,
          1.224049944652605,
          1.2402453029988794,
          1.3418343948569105,
          1.3729078519682376,
          1.4125358513938449,
          1.4178796910459275,
          1.4634502231919897,
          1.4522826108400997,
          1.4161717195860544,
          1.3789535457893534,
          1.2832804974801868,
          1.1711186068645387,
          1.3325269930408432,
          1.317720339809898,
          1.321107704742417,
          1.418223628997636,
          1.4877473912885306,
          1.5070976726074559,
          1.481778147172702,
          1.3491655423432873,
          1.403817135805291,
          1.4036856750149527,
          1.4532419396016059,
          1.4807710392110254,
          1.4554214969628865,
          1.47028493269747,
          1.501687201468463,
          1.589744291941156,
          1.6017486076485827,
          1.6493765990253717,
          1.6577963939554778,
          1.7036415965817144,
          1.6736473991216605,
          1.7390062434561069,
          1.684924891115301,
          1.7511287509132638,
          1.8070152319871375,
          1.7990318305302457,
          1.848714516733051,
          1.8467103710624309,
          1.934475223009552,
          1.9516831584354826,
          1.984571019508688,
          2.031604254243596,
          2.0854167665396703,
          2.043598607529043,
          2.12157035397113,
          2.04981450394222,
          2.107782372135139,
          2.1004340156174037,
          2.1036402402343906,
          2.00659954557064,
          2.151258690724172,
          2.1353943635307395,
          2.1865193697437615,
          2.1677769437903183,
          2.104320256360079,
          2.0959336431825717,
          2.0007860630735865,
          1.9299565560498504,
          2.100428636947521,
          2.122601227216799,
          2.037702833764729,
          1.9005904160360345,
          1.899435492744284,
          2.051946998823379,
          2.15532510413252,
          2.1847443210912276,
          2.1583740814548493,
          2.243910303041817,
          2.272481673592468,
          2.29863882555235,
          2.232574205676533,
          2.403354057934825,
          2.450373667653682,
          2.5183766784397403,
          2.6402598642152,
          2.6290753157432083,
          2.651291616103018,
          2.6199558668301677,
          2.6540009284527013,
          2.6828911917569935,
          2.653409367707554,
          2.7304658007037403,
          2.7203113117797515,
          2.7887984832389767,
          2.8443736085524507,
          2.8563332301723667,
          2.6804947580099925,
          2.7324005867031933,
          2.8049967020037454,
          2.8623864433728183,
          2.919073570337734,
          3.0188573650878956,
          3.094444979895614,
          3.0559604413893657,
          2.8714047490156602,
          2.932271383952433,
          2.6325122807149763,
          2.918322884398112,
          3.0128644214019897,
          3.0089405266354503,
          3.114447267268069,
          2.8814631039768708,
          3.111739512687702,
          3.1293196297313224,
          2.9702407731559797,
          3.050886184523412,
          3.0998582278934697,
          3.217967219723974,
          3.3575752555835066,
          3.249132104749789,
          2.9371709097188394,
          2.2942441664119246,
          2.6710342344660556,
          2.7758816129139214,
          2.815583056327252,
          2.882625548648466,
          2.95084558363271,
          2.7659774795332273,
          2.7545548267397932,
          3.23580463349828,
          3.401896262485918,
          3.3944879921281315,
          3.7151823650323137,
          3.9281149278768845,
          4.114314496649315,
          4.187364676596565,
          4.317167484373617,
          4.427488421285698,
          4.525081924456025,
          4.32214120041562,
          4.56813964845803,
          4.442050804120371,
          4.699905569641063,
          4.492838689044919,
          4.42495654844279,
          4.480361212358875,
          4.029619950454826,
          4.069395234239477,
          3.729928283247778,
          4.132197759775354,
          3.9531818399195835,
          3.5437928530921723,
          3.7604985839676095
         ]
        }
       ],
       "layout": {
        "legend": {
         "x": 0.01,
         "xanchor": "left",
         "y": 0.99,
         "yanchor": "top"
        },
        "template": {
         "data": {
          "bar": [
           {
            "error_x": {
             "color": "#2a3f5f"
            },
            "error_y": {
             "color": "#2a3f5f"
            },
            "marker": {
             "line": {
              "color": "#E5ECF6",
              "width": 0.5
             },
             "pattern": {
              "fillmode": "overlay",
              "size": 10,
              "solidity": 0.2
             }
            },
            "type": "bar"
           }
          ],
          "barpolar": [
           {
            "marker": {
             "line": {
              "color": "#E5ECF6",
              "width": 0.5
             },
             "pattern": {
              "fillmode": "overlay",
              "size": 10,
              "solidity": 0.2
             }
            },
            "type": "barpolar"
           }
          ],
          "carpet": [
           {
            "aaxis": {
             "endlinecolor": "#2a3f5f",
             "gridcolor": "white",
             "linecolor": "white",
             "minorgridcolor": "white",
             "startlinecolor": "#2a3f5f"
            },
            "baxis": {
             "endlinecolor": "#2a3f5f",
             "gridcolor": "white",
             "linecolor": "white",
             "minorgridcolor": "white",
             "startlinecolor": "#2a3f5f"
            },
            "type": "carpet"
           }
          ],
          "choropleth": [
           {
            "colorbar": {
             "outlinewidth": 0,
             "ticks": ""
            },
            "type": "choropleth"
           }
          ],
          "contour": [
           {
            "colorbar": {
             "outlinewidth": 0,
             "ticks": ""
            },
            "colorscale": [
             [
              0,
              "#0d0887"
             ],
             [
              0.1111111111111111,
              "#46039f"
             ],
             [
              0.2222222222222222,
              "#7201a8"
             ],
             [
              0.3333333333333333,
              "#9c179e"
             ],
             [
              0.4444444444444444,
              "#bd3786"
             ],
             [
              0.5555555555555556,
              "#d8576b"
             ],
             [
              0.6666666666666666,
              "#ed7953"
             ],
             [
              0.7777777777777778,
              "#fb9f3a"
             ],
             [
              0.8888888888888888,
              "#fdca26"
             ],
             [
              1,
              "#f0f921"
             ]
            ],
            "type": "contour"
           }
          ],
          "contourcarpet": [
           {
            "colorbar": {
             "outlinewidth": 0,
             "ticks": ""
            },
            "type": "contourcarpet"
           }
          ],
          "heatmap": [
           {
            "colorbar": {
             "outlinewidth": 0,
             "ticks": ""
            },
            "colorscale": [
             [
              0,
              "#0d0887"
             ],
             [
              0.1111111111111111,
              "#46039f"
             ],
             [
              0.2222222222222222,
              "#7201a8"
             ],
             [
              0.3333333333333333,
              "#9c179e"
             ],
             [
              0.4444444444444444,
              "#bd3786"
             ],
             [
              0.5555555555555556,
              "#d8576b"
             ],
             [
              0.6666666666666666,
              "#ed7953"
             ],
             [
              0.7777777777777778,
              "#fb9f3a"
             ],
             [
              0.8888888888888888,
              "#fdca26"
             ],
             [
              1,
              "#f0f921"
             ]
            ],
            "type": "heatmap"
           }
          ],
          "heatmapgl": [
           {
            "colorbar": {
             "outlinewidth": 0,
             "ticks": ""
            },
            "colorscale": [
             [
              0,
              "#0d0887"
             ],
             [
              0.1111111111111111,
              "#46039f"
             ],
             [
              0.2222222222222222,
              "#7201a8"
             ],
             [
              0.3333333333333333,
              "#9c179e"
             ],
             [
              0.4444444444444444,
              "#bd3786"
             ],
             [
              0.5555555555555556,
              "#d8576b"
             ],
             [
              0.6666666666666666,
              "#ed7953"
             ],
             [
              0.7777777777777778,
              "#fb9f3a"
             ],
             [
              0.8888888888888888,
              "#fdca26"
             ],
             [
              1,
              "#f0f921"
             ]
            ],
            "type": "heatmapgl"
           }
          ],
          "histogram": [
           {
            "marker": {
             "pattern": {
              "fillmode": "overlay",
              "size": 10,
              "solidity": 0.2
             }
            },
            "type": "histogram"
           }
          ],
          "histogram2d": [
           {
            "colorbar": {
             "outlinewidth": 0,
             "ticks": ""
            },
            "colorscale": [
             [
              0,
              "#0d0887"
             ],
             [
              0.1111111111111111,
              "#46039f"
             ],
             [
              0.2222222222222222,
              "#7201a8"
             ],
             [
              0.3333333333333333,
              "#9c179e"
             ],
             [
              0.4444444444444444,
              "#bd3786"
             ],
             [
              0.5555555555555556,
              "#d8576b"
             ],
             [
              0.6666666666666666,
              "#ed7953"
             ],
             [
              0.7777777777777778,
              "#fb9f3a"
             ],
             [
              0.8888888888888888,
              "#fdca26"
             ],
             [
              1,
              "#f0f921"
             ]
            ],
            "type": "histogram2d"
           }
          ],
          "histogram2dcontour": [
           {
            "colorbar": {
             "outlinewidth": 0,
             "ticks": ""
            },
            "colorscale": [
             [
              0,
              "#0d0887"
             ],
             [
              0.1111111111111111,
              "#46039f"
             ],
             [
              0.2222222222222222,
              "#7201a8"
             ],
             [
              0.3333333333333333,
              "#9c179e"
             ],
             [
              0.4444444444444444,
              "#bd3786"
             ],
             [
              0.5555555555555556,
              "#d8576b"
             ],
             [
              0.6666666666666666,
              "#ed7953"
             ],
             [
              0.7777777777777778,
              "#fb9f3a"
             ],
             [
              0.8888888888888888,
              "#fdca26"
             ],
             [
              1,
              "#f0f921"
             ]
            ],
            "type": "histogram2dcontour"
           }
          ],
          "mesh3d": [
           {
            "colorbar": {
             "outlinewidth": 0,
             "ticks": ""
            },
            "type": "mesh3d"
           }
          ],
          "parcoords": [
           {
            "line": {
             "colorbar": {
              "outlinewidth": 0,
              "ticks": ""
             }
            },
            "type": "parcoords"
           }
          ],
          "pie": [
           {
            "automargin": true,
            "type": "pie"
           }
          ],
          "scatter": [
           {
            "fillpattern": {
             "fillmode": "overlay",
             "size": 10,
             "solidity": 0.2
            },
            "type": "scatter"
           }
          ],
          "scatter3d": [
           {
            "line": {
             "colorbar": {
              "outlinewidth": 0,
              "ticks": ""
             }
            },
            "marker": {
             "colorbar": {
              "outlinewidth": 0,
              "ticks": ""
             }
            },
            "type": "scatter3d"
           }
          ],
          "scattercarpet": [
           {
            "marker": {
             "colorbar": {
              "outlinewidth": 0,
              "ticks": ""
             }
            },
            "type": "scattercarpet"
           }
          ],
          "scattergeo": [
           {
            "marker": {
             "colorbar": {
              "outlinewidth": 0,
              "ticks": ""
             }
            },
            "type": "scattergeo"
           }
          ],
          "scattergl": [
           {
            "marker": {
             "colorbar": {
              "outlinewidth": 0,
              "ticks": ""
             }
            },
            "type": "scattergl"
           }
          ],
          "scattermapbox": [
           {
            "marker": {
             "colorbar": {
              "outlinewidth": 0,
              "ticks": ""
             }
            },
            "type": "scattermapbox"
           }
          ],
          "scatterpolar": [
           {
            "marker": {
             "colorbar": {
              "outlinewidth": 0,
              "ticks": ""
             }
            },
            "type": "scatterpolar"
           }
          ],
          "scatterpolargl": [
           {
            "marker": {
             "colorbar": {
              "outlinewidth": 0,
              "ticks": ""
             }
            },
            "type": "scatterpolargl"
           }
          ],
          "scatterternary": [
           {
            "marker": {
             "colorbar": {
              "outlinewidth": 0,
              "ticks": ""
             }
            },
            "type": "scatterternary"
           }
          ],
          "surface": [
           {
            "colorbar": {
             "outlinewidth": 0,
             "ticks": ""
            },
            "colorscale": [
             [
              0,
              "#0d0887"
             ],
             [
              0.1111111111111111,
              "#46039f"
             ],
             [
              0.2222222222222222,
              "#7201a8"
             ],
             [
              0.3333333333333333,
              "#9c179e"
             ],
             [
              0.4444444444444444,
              "#bd3786"
             ],
             [
              0.5555555555555556,
              "#d8576b"
             ],
             [
              0.6666666666666666,
              "#ed7953"
             ],
             [
              0.7777777777777778,
              "#fb9f3a"
             ],
             [
              0.8888888888888888,
              "#fdca26"
             ],
             [
              1,
              "#f0f921"
             ]
            ],
            "type": "surface"
           }
          ],
          "table": [
           {
            "cells": {
             "fill": {
              "color": "#EBF0F8"
             },
             "line": {
              "color": "white"
             }
            },
            "header": {
             "fill": {
              "color": "#C8D4E3"
             },
             "line": {
              "color": "white"
             }
            },
            "type": "table"
           }
          ]
         },
         "layout": {
          "annotationdefaults": {
           "arrowcolor": "#2a3f5f",
           "arrowhead": 0,
           "arrowwidth": 1
          },
          "autotypenumbers": "strict",
          "coloraxis": {
           "colorbar": {
            "outlinewidth": 0,
            "ticks": ""
           }
          },
          "colorscale": {
           "diverging": [
            [
             0,
             "#8e0152"
            ],
            [
             0.1,
             "#c51b7d"
            ],
            [
             0.2,
             "#de77ae"
            ],
            [
             0.3,
             "#f1b6da"
            ],
            [
             0.4,
             "#fde0ef"
            ],
            [
             0.5,
             "#f7f7f7"
            ],
            [
             0.6,
             "#e6f5d0"
            ],
            [
             0.7,
             "#b8e186"
            ],
            [
             0.8,
             "#7fbc41"
            ],
            [
             0.9,
             "#4d9221"
            ],
            [
             1,
             "#276419"
            ]
           ],
           "sequential": [
            [
             0,
             "#0d0887"
            ],
            [
             0.1111111111111111,
             "#46039f"
            ],
            [
             0.2222222222222222,
             "#7201a8"
            ],
            [
             0.3333333333333333,
             "#9c179e"
            ],
            [
             0.4444444444444444,
             "#bd3786"
            ],
            [
             0.5555555555555556,
             "#d8576b"
            ],
            [
             0.6666666666666666,
             "#ed7953"
            ],
            [
             0.7777777777777778,
             "#fb9f3a"
            ],
            [
             0.8888888888888888,
             "#fdca26"
            ],
            [
             1,
             "#f0f921"
            ]
           ],
           "sequentialminus": [
            [
             0,
             "#0d0887"
            ],
            [
             0.1111111111111111,
             "#46039f"
            ],
            [
             0.2222222222222222,
             "#7201a8"
            ],
            [
             0.3333333333333333,
             "#9c179e"
            ],
            [
             0.4444444444444444,
             "#bd3786"
            ],
            [
             0.5555555555555556,
             "#d8576b"
            ],
            [
             0.6666666666666666,
             "#ed7953"
            ],
            [
             0.7777777777777778,
             "#fb9f3a"
            ],
            [
             0.8888888888888888,
             "#fdca26"
            ],
            [
             1,
             "#f0f921"
            ]
           ]
          },
          "colorway": [
           "#636efa",
           "#EF553B",
           "#00cc96",
           "#ab63fa",
           "#FFA15A",
           "#19d3f3",
           "#FF6692",
           "#B6E880",
           "#FF97FF",
           "#FECB52"
          ],
          "font": {
           "color": "#2a3f5f"
          },
          "geo": {
           "bgcolor": "white",
           "lakecolor": "white",
           "landcolor": "#E5ECF6",
           "showlakes": true,
           "showland": true,
           "subunitcolor": "white"
          },
          "hoverlabel": {
           "align": "left"
          },
          "hovermode": "closest",
          "mapbox": {
           "style": "light"
          },
          "paper_bgcolor": "white",
          "plot_bgcolor": "#E5ECF6",
          "polar": {
           "angularaxis": {
            "gridcolor": "white",
            "linecolor": "white",
            "ticks": ""
           },
           "bgcolor": "#E5ECF6",
           "radialaxis": {
            "gridcolor": "white",
            "linecolor": "white",
            "ticks": ""
           }
          },
          "scene": {
           "xaxis": {
            "backgroundcolor": "#E5ECF6",
            "gridcolor": "white",
            "gridwidth": 2,
            "linecolor": "white",
            "showbackground": true,
            "ticks": "",
            "zerolinecolor": "white"
           },
           "yaxis": {
            "backgroundcolor": "#E5ECF6",
            "gridcolor": "white",
            "gridwidth": 2,
            "linecolor": "white",
            "showbackground": true,
            "ticks": "",
            "zerolinecolor": "white"
           },
           "zaxis": {
            "backgroundcolor": "#E5ECF6",
            "gridcolor": "white",
            "gridwidth": 2,
            "linecolor": "white",
            "showbackground": true,
            "ticks": "",
            "zerolinecolor": "white"
           }
          },
          "shapedefaults": {
           "line": {
            "color": "#2a3f5f"
           }
          },
          "ternary": {
           "aaxis": {
            "gridcolor": "white",
            "linecolor": "white",
            "ticks": ""
           },
           "baxis": {
            "gridcolor": "white",
            "linecolor": "white",
            "ticks": ""
           },
           "bgcolor": "#E5ECF6",
           "caxis": {
            "gridcolor": "white",
            "linecolor": "white",
            "ticks": ""
           }
          },
          "title": {
           "x": 0.05
          },
          "xaxis": {
           "automargin": true,
           "gridcolor": "white",
           "linecolor": "white",
           "ticks": "",
           "title": {
            "standoff": 15
           },
           "zerolinecolor": "white",
           "zerolinewidth": 2
          },
          "yaxis": {
           "automargin": true,
           "gridcolor": "white",
           "linecolor": "white",
           "ticks": "",
           "title": {
            "standoff": 15
           },
           "zerolinecolor": "white",
           "zerolinewidth": 2
          }
         }
        },
        "yaxis": {
         "title": {
          "text": "FV of $1"
         }
        }
       }
      }
     },
     "metadata": {},
     "output_type": "display_data"
    }
   ],
   "source": [
    "# Plot cumulative returns\n",
    "string =  \"Strategy: Buy Past Winners<br>\"\n",
    "string += \"Date: %{x}<br>\"\n",
    "string += \"FV of $1: $%{y:,.2f}<br>\"\n",
    "string += \"<extra></extra>\"\n",
    "trace_hi  = go.Scatter(x=rets.index, y=(1+rets.hi).cumprod(), mode=\"lines\", name='Buy Winners', hovertemplate=string)\n",
    "string =  \"Strategy: Buy Past Losers<br>\"\n",
    "string += \"Date: %{x}<br>\"\n",
    "string += \"FV of $1: $%{y:,.2f}<br>\"\n",
    "string += \"<extra></extra>\"\n",
    "trace_lo= go.Scatter(x=rets.index, y=(1+rets.lo).cumprod(), mode=\"lines\", name='Sell Losers',hovertemplate=string)\n",
    "fig = go.Figure()\n",
    "fig.add_trace(trace_hi)\n",
    "fig.add_trace(trace_lo)\n",
    "fig.update_yaxes(title=\"FV of $1\")\n",
    "fig.update_layout(legend=dict(yanchor=\"top\", y =0.99, xanchor=\"left\", x=0.01))\n",
    "fig.show()"
   ]
  },
  {
   "cell_type": "code",
   "execution_count": 10,
   "metadata": {},
   "outputs": [
    {
     "data": {
      "application/vnd.plotly.v1+json": {
       "config": {
        "plotlyServerURL": "https://plot.ly"
       },
       "data": [
        {
         "hovertemplate": "Strategy: Buy Winners and Short Losers<br>Date: %{x}<br>FV of $1: $%{y:,.2f}<br><extra></extra>",
         "mode": "lines",
         "name": "Long-Short",
         "type": "scatter",
         "x": [
          "2001-06-30T00:00:00",
          "2001-07-31T00:00:00",
          "2001-08-31T00:00:00",
          "2001-09-30T00:00:00",
          "2001-10-31T00:00:00",
          "2001-11-30T00:00:00",
          "2001-12-31T00:00:00",
          "2002-01-31T00:00:00",
          "2002-02-28T00:00:00",
          "2002-03-31T00:00:00",
          "2002-04-30T00:00:00",
          "2002-05-31T00:00:00",
          "2002-06-30T00:00:00",
          "2002-07-31T00:00:00",
          "2002-08-31T00:00:00",
          "2002-09-30T00:00:00",
          "2002-10-31T00:00:00",
          "2002-11-30T00:00:00",
          "2002-12-31T00:00:00",
          "2003-01-31T00:00:00",
          "2003-02-28T00:00:00",
          "2003-03-31T00:00:00",
          "2003-04-30T00:00:00",
          "2003-05-31T00:00:00",
          "2003-06-30T00:00:00",
          "2003-07-31T00:00:00",
          "2003-08-31T00:00:00",
          "2003-09-30T00:00:00",
          "2003-10-31T00:00:00",
          "2003-11-30T00:00:00",
          "2003-12-31T00:00:00",
          "2004-01-31T00:00:00",
          "2004-02-29T00:00:00",
          "2004-03-31T00:00:00",
          "2004-04-30T00:00:00",
          "2004-05-31T00:00:00",
          "2004-06-30T00:00:00",
          "2004-07-31T00:00:00",
          "2004-08-31T00:00:00",
          "2004-09-30T00:00:00",
          "2004-10-31T00:00:00",
          "2004-11-30T00:00:00",
          "2004-12-31T00:00:00",
          "2005-01-31T00:00:00",
          "2005-02-28T00:00:00",
          "2005-03-31T00:00:00",
          "2005-04-30T00:00:00",
          "2005-05-31T00:00:00",
          "2005-06-30T00:00:00",
          "2005-07-31T00:00:00",
          "2005-08-31T00:00:00",
          "2005-09-30T00:00:00",
          "2005-10-31T00:00:00",
          "2005-11-30T00:00:00",
          "2005-12-31T00:00:00",
          "2006-01-31T00:00:00",
          "2006-02-28T00:00:00",
          "2006-03-31T00:00:00",
          "2006-04-30T00:00:00",
          "2006-05-31T00:00:00",
          "2006-06-30T00:00:00",
          "2006-07-31T00:00:00",
          "2006-08-31T00:00:00",
          "2006-09-30T00:00:00",
          "2006-10-31T00:00:00",
          "2006-11-30T00:00:00",
          "2006-12-31T00:00:00",
          "2007-01-31T00:00:00",
          "2007-02-28T00:00:00",
          "2007-03-31T00:00:00",
          "2007-04-30T00:00:00",
          "2007-05-31T00:00:00",
          "2007-06-30T00:00:00",
          "2007-07-31T00:00:00",
          "2007-08-31T00:00:00",
          "2007-09-30T00:00:00",
          "2007-10-31T00:00:00",
          "2007-11-30T00:00:00",
          "2007-12-31T00:00:00",
          "2008-01-31T00:00:00",
          "2008-02-29T00:00:00",
          "2008-03-31T00:00:00",
          "2008-04-30T00:00:00",
          "2008-05-31T00:00:00",
          "2008-06-30T00:00:00",
          "2008-07-31T00:00:00",
          "2008-08-31T00:00:00",
          "2008-09-30T00:00:00",
          "2008-10-31T00:00:00",
          "2008-11-30T00:00:00",
          "2008-12-31T00:00:00",
          "2009-01-31T00:00:00",
          "2009-02-28T00:00:00",
          "2009-03-31T00:00:00",
          "2009-04-30T00:00:00",
          "2009-05-31T00:00:00",
          "2009-06-30T00:00:00",
          "2009-07-31T00:00:00",
          "2009-08-31T00:00:00",
          "2009-09-30T00:00:00",
          "2009-10-31T00:00:00",
          "2009-11-30T00:00:00",
          "2009-12-31T00:00:00",
          "2010-01-31T00:00:00",
          "2010-02-28T00:00:00",
          "2010-03-31T00:00:00",
          "2010-04-30T00:00:00",
          "2010-05-31T00:00:00",
          "2010-06-30T00:00:00",
          "2010-07-31T00:00:00",
          "2010-08-31T00:00:00",
          "2010-09-30T00:00:00",
          "2010-10-31T00:00:00",
          "2010-11-30T00:00:00",
          "2010-12-31T00:00:00",
          "2011-01-31T00:00:00",
          "2011-02-28T00:00:00",
          "2011-03-31T00:00:00",
          "2011-04-30T00:00:00",
          "2011-05-31T00:00:00",
          "2011-06-30T00:00:00",
          "2011-07-31T00:00:00",
          "2011-08-31T00:00:00",
          "2011-09-30T00:00:00",
          "2011-10-31T00:00:00",
          "2011-11-30T00:00:00",
          "2011-12-31T00:00:00",
          "2012-01-31T00:00:00",
          "2012-02-29T00:00:00",
          "2012-03-31T00:00:00",
          "2012-04-30T00:00:00",
          "2012-05-31T00:00:00",
          "2012-06-30T00:00:00",
          "2012-07-31T00:00:00",
          "2012-08-31T00:00:00",
          "2012-09-30T00:00:00",
          "2012-10-31T00:00:00",
          "2012-11-30T00:00:00",
          "2012-12-31T00:00:00",
          "2013-01-31T00:00:00",
          "2013-02-28T00:00:00",
          "2013-03-31T00:00:00",
          "2013-04-30T00:00:00",
          "2013-05-31T00:00:00",
          "2013-06-30T00:00:00",
          "2013-07-31T00:00:00",
          "2013-08-31T00:00:00",
          "2013-09-30T00:00:00",
          "2013-10-31T00:00:00",
          "2013-11-30T00:00:00",
          "2013-12-31T00:00:00",
          "2014-01-31T00:00:00",
          "2014-02-28T00:00:00",
          "2014-03-31T00:00:00",
          "2014-04-30T00:00:00",
          "2014-05-31T00:00:00",
          "2014-06-30T00:00:00",
          "2014-07-31T00:00:00",
          "2014-08-31T00:00:00",
          "2014-09-30T00:00:00",
          "2014-10-31T00:00:00",
          "2014-11-30T00:00:00",
          "2014-12-31T00:00:00",
          "2015-01-31T00:00:00",
          "2015-02-28T00:00:00",
          "2015-03-31T00:00:00",
          "2015-04-30T00:00:00",
          "2015-05-31T00:00:00",
          "2015-06-30T00:00:00",
          "2015-07-31T00:00:00",
          "2015-08-31T00:00:00",
          "2015-09-30T00:00:00",
          "2015-10-31T00:00:00",
          "2015-11-30T00:00:00",
          "2015-12-31T00:00:00",
          "2016-01-31T00:00:00",
          "2016-02-29T00:00:00",
          "2016-03-31T00:00:00",
          "2016-04-30T00:00:00",
          "2016-05-31T00:00:00",
          "2016-06-30T00:00:00",
          "2016-07-31T00:00:00",
          "2016-08-31T00:00:00",
          "2016-09-30T00:00:00",
          "2016-10-31T00:00:00",
          "2016-11-30T00:00:00",
          "2016-12-31T00:00:00",
          "2017-01-31T00:00:00",
          "2017-02-28T00:00:00",
          "2017-03-31T00:00:00",
          "2017-04-30T00:00:00",
          "2017-05-31T00:00:00",
          "2017-06-30T00:00:00",
          "2017-07-31T00:00:00",
          "2017-08-31T00:00:00",
          "2017-09-30T00:00:00",
          "2017-10-31T00:00:00",
          "2017-11-30T00:00:00",
          "2017-12-31T00:00:00",
          "2018-01-31T00:00:00",
          "2018-02-28T00:00:00",
          "2018-03-31T00:00:00",
          "2018-04-30T00:00:00",
          "2018-05-31T00:00:00",
          "2018-06-30T00:00:00",
          "2018-07-31T00:00:00",
          "2018-08-31T00:00:00",
          "2018-09-30T00:00:00",
          "2018-10-31T00:00:00",
          "2018-11-30T00:00:00",
          "2018-12-31T00:00:00",
          "2019-01-31T00:00:00",
          "2019-02-28T00:00:00",
          "2019-03-31T00:00:00",
          "2019-04-30T00:00:00",
          "2019-05-31T00:00:00",
          "2019-06-30T00:00:00",
          "2019-07-31T00:00:00",
          "2019-08-31T00:00:00",
          "2019-09-30T00:00:00",
          "2019-10-31T00:00:00",
          "2019-11-30T00:00:00",
          "2019-12-31T00:00:00",
          "2020-01-31T00:00:00",
          "2020-02-29T00:00:00",
          "2020-03-31T00:00:00",
          "2020-04-30T00:00:00",
          "2020-05-31T00:00:00",
          "2020-06-30T00:00:00",
          "2020-07-31T00:00:00",
          "2020-08-31T00:00:00",
          "2020-09-30T00:00:00",
          "2020-10-31T00:00:00",
          "2020-11-30T00:00:00",
          "2020-12-31T00:00:00",
          "2021-01-31T00:00:00",
          "2021-02-28T00:00:00",
          "2021-03-31T00:00:00",
          "2021-04-30T00:00:00",
          "2021-05-31T00:00:00",
          "2021-06-30T00:00:00",
          "2021-07-31T00:00:00",
          "2021-08-31T00:00:00",
          "2021-09-30T00:00:00",
          "2021-10-31T00:00:00",
          "2021-11-30T00:00:00",
          "2021-12-31T00:00:00",
          "2022-01-31T00:00:00",
          "2022-02-28T00:00:00",
          "2022-03-31T00:00:00",
          "2022-04-30T00:00:00",
          "2022-05-31T00:00:00",
          "2022-06-30T00:00:00",
          "2022-07-31T00:00:00",
          "2022-08-31T00:00:00",
          "2022-09-30T00:00:00",
          "2022-10-31T00:00:00"
         ],
         "y": [
          1.0031965152523434,
          0.9943847838516904,
          1.0095435309008627,
          1.0739922360479748,
          1.0053882876575306,
          0.9870506331525813,
          0.9691890208509768,
          0.9809984942426259,
          1.0027700316093087,
          0.9852642243201567,
          1.0188442913033302,
          1.0453309507722386,
          1.0931690795962026,
          1.1113995297817634,
          1.1244261555372497,
          1.1726551483276322,
          1.0761592364966934,
          1.0095597075382299,
          1.056778549708885,
          1.0468722338147578,
          1.0430770421141324,
          1.039652634823235,
          1.0007061532360324,
          0.9993175071786332,
          0.9979153176173774,
          1.0057219842773168,
          1.0386325195350394,
          1.028269499373118,
          1.0570328998781724,
          1.0554818254151197,
          1.0232826067412328,
          1.0551271119929204,
          1.0167562996269757,
          0.9937631472181,
          0.9454871318019615,
          0.9463263677037114,
          0.9676008315949292,
          0.9712079708510294,
          0.9898074422347801,
          0.9866591784929877,
          0.9868497553761468,
          0.9940573674592553,
          0.9809794334565846,
          0.9791957960768731,
          1.0086806855054948,
          1.0155680680476233,
          1.0208235466960913,
          0.9958170975416584,
          1.0184057150091794,
          1.0189210715501498,
          1.0289224422000258,
          1.0473173030701886,
          1.0193238556416595,
          1.0056082573686778,
          1.0124174371895267,
          1.0410774357700123,
          1.0239565549316374,
          1.0365638952320637,
          1.0278283449887051,
          1.024888532413297,
          1.0416809007813645,
          1.0410019182141055,
          1.0156083646705334,
          0.9955009491785823,
          0.9932605575440884,
          0.9890146924033246,
          0.9930491734488002,
          1.002027373622972,
          0.9976763128497682,
          1.0074764108154652,
          0.994035819916596,
          0.9920511667331692,
          1.0018574088684231,
          1.0624357796907609,
          1.065988378512989,
          1.0954386508245735,
          1.136468568652059,
          1.1561454446265171,
          1.2063105741261118,
          1.107132955305521,
          1.1871883768644498,
          1.1726112764132612,
          1.1744240571310653,
          1.2427684258721132,
          1.3402953283880634,
          1.2703276048595076,
          1.2483510092825696,
          1.2288060445179678,
          1.1917662035827061,
          1.2478372673141769,
          1.1982009373661378,
          1.1810416363983058,
          1.192573634121154,
          1.178709387329427,
          1.0458112527781998,
          0.9950980249684109,
          1.046498122973495,
          1.030715635007122,
          0.9846011511959738,
          0.9580053463008458,
          0.9582628118481886,
          0.9474345347630758,
          0.9638439314294647,
          0.9287843664151194,
          0.9415830171835352,
          0.9601879460616364,
          0.9808536211165033,
          0.9743873885600676,
          0.9556439480405405,
          0.9478604054346388,
          0.9573060601922824,
          0.9416170154082911,
          0.9588601745367489,
          0.9455859592021791,
          0.9310064506261779,
          0.9332416129991455,
          0.9498283365808848,
          0.9473339960393643,
          0.9453914670041159,
          0.9433149285080513,
          0.9447184221825364,
          0.946343953554802,
          0.9469366966322086,
          0.9379570383699891,
          0.9165193429987699,
          0.9271336992361857,
          0.9333499767711771,
          0.9091496073518107,
          0.8831758769476529,
          0.9054440797606915,
          0.9255278043725331,
          0.9703519668047954,
          0.9754596228175346,
          0.9893862117262252,
          0.9732023279912254,
          0.9779437374090748,
          0.9802305847179824,
          0.9711478868634217,
          0.9674975367440057,
          0.9779454890186134,
          0.9771633518169889,
          0.9912876623441446,
          1.0141292046098012,
          0.9906388867633568,
          0.9971116498300308,
          1.0142786816482998,
          1.0115277122904878,
          1.0136022233494886,
          1.0209681949851852,
          1.0664842895012214,
          1.0612618962733713,
          1.046131504137695,
          1.0469675632881765,
          1.0373073656735867,
          1.0031213569350734,
          1.0035202186475696,
          1.010865269945835,
          1.0050515013052415,
          1.0098307791832748,
          1.016985127572406,
          1.0257622448216375,
          1.0652756166300104,
          1.0666187048885585,
          1.1242611509403462,
          1.0822557141703135,
          1.090902150711915,
          1.03819387150625,
          1.080745216859978,
          1.0966733262937023,
          1.1284314336701795,
          1.1071357988412758,
          1.1079638552696796,
          1.0707482789494314,
          1.0740533977617737,
          1.1049958651189011,
          1.0950311369472945,
          1.0939855510811813,
          1.0863782093252077,
          1.0154424950079746,
          1.0274301163594888,
          1.0578814542378185,
          1.0599631926140436,
          1.0379018313138542,
          1.0302197636917403,
          1.032938654968028,
          0.9860628152070412,
          0.9862751766861309,
          0.9699708605705554,
          0.9386550140140666,
          0.9385607175557493,
          0.9314657581923633,
          0.9555685766087304,
          0.9630611571397307,
          0.9704326295244017,
          0.9854580212633799,
          0.992470861481043,
          1.0249637599726844,
          1.0287510776234192,
          1.0098052477047703,
          1.0713720581534774,
          1.106063384145321,
          1.0628942134833608,
          1.0341154763643925,
          1.0477386273873324,
          1.017603368694268,
          1.0060241620164816,
          1.0065760231662206,
          1.0212715616423071,
          0.9859490002439735,
          0.9844275030197289,
          0.9965737988483969,
          0.9789695860874515,
          0.979267329627439,
          0.9955434429448895,
          0.9842671988275014,
          1.0051009680389957,
          0.9772624045916498,
          0.9895095460192528,
          1.0352027636465153,
          1.028517997982421,
          1.0251777654797645,
          1.0106666077375897,
          0.9788989387664253,
          1.0135538047900765,
          1.0244572936775904,
          1.0699387501922726,
          1.0382279052778536,
          1.0610338413023628,
          1.0598236960797403,
          1.099714170369227,
          1.1337505436385484,
          1.1824485772201425,
          1.1601326735886601,
          1.0867780986304076,
          1.0774868493697762,
          1.0900048807277454,
          1.015483369579699,
          0.9887066751760822,
          0.9791513916260702,
          0.9891054489546817,
          0.9538491560232166,
          0.9162077945687443,
          0.9111313644357877,
          0.9381693573537061,
          0.9484391270947811,
          0.9483199983891077,
          0.9422320822183151,
          0.9574402912602893,
          0.9753865303671914,
          1.0207978734938703,
          1.0719617120315406,
          1.0906729759426117,
          1.0754322851135194,
          1.02558092304887,
          1.0533761780289095,
          1.067119520697083,
          1.1176449504021984
         ]
        }
       ],
       "layout": {
        "template": {
         "data": {
          "bar": [
           {
            "error_x": {
             "color": "#2a3f5f"
            },
            "error_y": {
             "color": "#2a3f5f"
            },
            "marker": {
             "line": {
              "color": "#E5ECF6",
              "width": 0.5
             },
             "pattern": {
              "fillmode": "overlay",
              "size": 10,
              "solidity": 0.2
             }
            },
            "type": "bar"
           }
          ],
          "barpolar": [
           {
            "marker": {
             "line": {
              "color": "#E5ECF6",
              "width": 0.5
             },
             "pattern": {
              "fillmode": "overlay",
              "size": 10,
              "solidity": 0.2
             }
            },
            "type": "barpolar"
           }
          ],
          "carpet": [
           {
            "aaxis": {
             "endlinecolor": "#2a3f5f",
             "gridcolor": "white",
             "linecolor": "white",
             "minorgridcolor": "white",
             "startlinecolor": "#2a3f5f"
            },
            "baxis": {
             "endlinecolor": "#2a3f5f",
             "gridcolor": "white",
             "linecolor": "white",
             "minorgridcolor": "white",
             "startlinecolor": "#2a3f5f"
            },
            "type": "carpet"
           }
          ],
          "choropleth": [
           {
            "colorbar": {
             "outlinewidth": 0,
             "ticks": ""
            },
            "type": "choropleth"
           }
          ],
          "contour": [
           {
            "colorbar": {
             "outlinewidth": 0,
             "ticks": ""
            },
            "colorscale": [
             [
              0,
              "#0d0887"
             ],
             [
              0.1111111111111111,
              "#46039f"
             ],
             [
              0.2222222222222222,
              "#7201a8"
             ],
             [
              0.3333333333333333,
              "#9c179e"
             ],
             [
              0.4444444444444444,
              "#bd3786"
             ],
             [
              0.5555555555555556,
              "#d8576b"
             ],
             [
              0.6666666666666666,
              "#ed7953"
             ],
             [
              0.7777777777777778,
              "#fb9f3a"
             ],
             [
              0.8888888888888888,
              "#fdca26"
             ],
             [
              1,
              "#f0f921"
             ]
            ],
            "type": "contour"
           }
          ],
          "contourcarpet": [
           {
            "colorbar": {
             "outlinewidth": 0,
             "ticks": ""
            },
            "type": "contourcarpet"
           }
          ],
          "heatmap": [
           {
            "colorbar": {
             "outlinewidth": 0,
             "ticks": ""
            },
            "colorscale": [
             [
              0,
              "#0d0887"
             ],
             [
              0.1111111111111111,
              "#46039f"
             ],
             [
              0.2222222222222222,
              "#7201a8"
             ],
             [
              0.3333333333333333,
              "#9c179e"
             ],
             [
              0.4444444444444444,
              "#bd3786"
             ],
             [
              0.5555555555555556,
              "#d8576b"
             ],
             [
              0.6666666666666666,
              "#ed7953"
             ],
             [
              0.7777777777777778,
              "#fb9f3a"
             ],
             [
              0.8888888888888888,
              "#fdca26"
             ],
             [
              1,
              "#f0f921"
             ]
            ],
            "type": "heatmap"
           }
          ],
          "heatmapgl": [
           {
            "colorbar": {
             "outlinewidth": 0,
             "ticks": ""
            },
            "colorscale": [
             [
              0,
              "#0d0887"
             ],
             [
              0.1111111111111111,
              "#46039f"
             ],
             [
              0.2222222222222222,
              "#7201a8"
             ],
             [
              0.3333333333333333,
              "#9c179e"
             ],
             [
              0.4444444444444444,
              "#bd3786"
             ],
             [
              0.5555555555555556,
              "#d8576b"
             ],
             [
              0.6666666666666666,
              "#ed7953"
             ],
             [
              0.7777777777777778,
              "#fb9f3a"
             ],
             [
              0.8888888888888888,
              "#fdca26"
             ],
             [
              1,
              "#f0f921"
             ]
            ],
            "type": "heatmapgl"
           }
          ],
          "histogram": [
           {
            "marker": {
             "pattern": {
              "fillmode": "overlay",
              "size": 10,
              "solidity": 0.2
             }
            },
            "type": "histogram"
           }
          ],
          "histogram2d": [
           {
            "colorbar": {
             "outlinewidth": 0,
             "ticks": ""
            },
            "colorscale": [
             [
              0,
              "#0d0887"
             ],
             [
              0.1111111111111111,
              "#46039f"
             ],
             [
              0.2222222222222222,
              "#7201a8"
             ],
             [
              0.3333333333333333,
              "#9c179e"
             ],
             [
              0.4444444444444444,
              "#bd3786"
             ],
             [
              0.5555555555555556,
              "#d8576b"
             ],
             [
              0.6666666666666666,
              "#ed7953"
             ],
             [
              0.7777777777777778,
              "#fb9f3a"
             ],
             [
              0.8888888888888888,
              "#fdca26"
             ],
             [
              1,
              "#f0f921"
             ]
            ],
            "type": "histogram2d"
           }
          ],
          "histogram2dcontour": [
           {
            "colorbar": {
             "outlinewidth": 0,
             "ticks": ""
            },
            "colorscale": [
             [
              0,
              "#0d0887"
             ],
             [
              0.1111111111111111,
              "#46039f"
             ],
             [
              0.2222222222222222,
              "#7201a8"
             ],
             [
              0.3333333333333333,
              "#9c179e"
             ],
             [
              0.4444444444444444,
              "#bd3786"
             ],
             [
              0.5555555555555556,
              "#d8576b"
             ],
             [
              0.6666666666666666,
              "#ed7953"
             ],
             [
              0.7777777777777778,
              "#fb9f3a"
             ],
             [
              0.8888888888888888,
              "#fdca26"
             ],
             [
              1,
              "#f0f921"
             ]
            ],
            "type": "histogram2dcontour"
           }
          ],
          "mesh3d": [
           {
            "colorbar": {
             "outlinewidth": 0,
             "ticks": ""
            },
            "type": "mesh3d"
           }
          ],
          "parcoords": [
           {
            "line": {
             "colorbar": {
              "outlinewidth": 0,
              "ticks": ""
             }
            },
            "type": "parcoords"
           }
          ],
          "pie": [
           {
            "automargin": true,
            "type": "pie"
           }
          ],
          "scatter": [
           {
            "fillpattern": {
             "fillmode": "overlay",
             "size": 10,
             "solidity": 0.2
            },
            "type": "scatter"
           }
          ],
          "scatter3d": [
           {
            "line": {
             "colorbar": {
              "outlinewidth": 0,
              "ticks": ""
             }
            },
            "marker": {
             "colorbar": {
              "outlinewidth": 0,
              "ticks": ""
             }
            },
            "type": "scatter3d"
           }
          ],
          "scattercarpet": [
           {
            "marker": {
             "colorbar": {
              "outlinewidth": 0,
              "ticks": ""
             }
            },
            "type": "scattercarpet"
           }
          ],
          "scattergeo": [
           {
            "marker": {
             "colorbar": {
              "outlinewidth": 0,
              "ticks": ""
             }
            },
            "type": "scattergeo"
           }
          ],
          "scattergl": [
           {
            "marker": {
             "colorbar": {
              "outlinewidth": 0,
              "ticks": ""
             }
            },
            "type": "scattergl"
           }
          ],
          "scattermapbox": [
           {
            "marker": {
             "colorbar": {
              "outlinewidth": 0,
              "ticks": ""
             }
            },
            "type": "scattermapbox"
           }
          ],
          "scatterpolar": [
           {
            "marker": {
             "colorbar": {
              "outlinewidth": 0,
              "ticks": ""
             }
            },
            "type": "scatterpolar"
           }
          ],
          "scatterpolargl": [
           {
            "marker": {
             "colorbar": {
              "outlinewidth": 0,
              "ticks": ""
             }
            },
            "type": "scatterpolargl"
           }
          ],
          "scatterternary": [
           {
            "marker": {
             "colorbar": {
              "outlinewidth": 0,
              "ticks": ""
             }
            },
            "type": "scatterternary"
           }
          ],
          "surface": [
           {
            "colorbar": {
             "outlinewidth": 0,
             "ticks": ""
            },
            "colorscale": [
             [
              0,
              "#0d0887"
             ],
             [
              0.1111111111111111,
              "#46039f"
             ],
             [
              0.2222222222222222,
              "#7201a8"
             ],
             [
              0.3333333333333333,
              "#9c179e"
             ],
             [
              0.4444444444444444,
              "#bd3786"
             ],
             [
              0.5555555555555556,
              "#d8576b"
             ],
             [
              0.6666666666666666,
              "#ed7953"
             ],
             [
              0.7777777777777778,
              "#fb9f3a"
             ],
             [
              0.8888888888888888,
              "#fdca26"
             ],
             [
              1,
              "#f0f921"
             ]
            ],
            "type": "surface"
           }
          ],
          "table": [
           {
            "cells": {
             "fill": {
              "color": "#EBF0F8"
             },
             "line": {
              "color": "white"
             }
            },
            "header": {
             "fill": {
              "color": "#C8D4E3"
             },
             "line": {
              "color": "white"
             }
            },
            "type": "table"
           }
          ]
         },
         "layout": {
          "annotationdefaults": {
           "arrowcolor": "#2a3f5f",
           "arrowhead": 0,
           "arrowwidth": 1
          },
          "autotypenumbers": "strict",
          "coloraxis": {
           "colorbar": {
            "outlinewidth": 0,
            "ticks": ""
           }
          },
          "colorscale": {
           "diverging": [
            [
             0,
             "#8e0152"
            ],
            [
             0.1,
             "#c51b7d"
            ],
            [
             0.2,
             "#de77ae"
            ],
            [
             0.3,
             "#f1b6da"
            ],
            [
             0.4,
             "#fde0ef"
            ],
            [
             0.5,
             "#f7f7f7"
            ],
            [
             0.6,
             "#e6f5d0"
            ],
            [
             0.7,
             "#b8e186"
            ],
            [
             0.8,
             "#7fbc41"
            ],
            [
             0.9,
             "#4d9221"
            ],
            [
             1,
             "#276419"
            ]
           ],
           "sequential": [
            [
             0,
             "#0d0887"
            ],
            [
             0.1111111111111111,
             "#46039f"
            ],
            [
             0.2222222222222222,
             "#7201a8"
            ],
            [
             0.3333333333333333,
             "#9c179e"
            ],
            [
             0.4444444444444444,
             "#bd3786"
            ],
            [
             0.5555555555555556,
             "#d8576b"
            ],
            [
             0.6666666666666666,
             "#ed7953"
            ],
            [
             0.7777777777777778,
             "#fb9f3a"
            ],
            [
             0.8888888888888888,
             "#fdca26"
            ],
            [
             1,
             "#f0f921"
            ]
           ],
           "sequentialminus": [
            [
             0,
             "#0d0887"
            ],
            [
             0.1111111111111111,
             "#46039f"
            ],
            [
             0.2222222222222222,
             "#7201a8"
            ],
            [
             0.3333333333333333,
             "#9c179e"
            ],
            [
             0.4444444444444444,
             "#bd3786"
            ],
            [
             0.5555555555555556,
             "#d8576b"
            ],
            [
             0.6666666666666666,
             "#ed7953"
            ],
            [
             0.7777777777777778,
             "#fb9f3a"
            ],
            [
             0.8888888888888888,
             "#fdca26"
            ],
            [
             1,
             "#f0f921"
            ]
           ]
          },
          "colorway": [
           "#636efa",
           "#EF553B",
           "#00cc96",
           "#ab63fa",
           "#FFA15A",
           "#19d3f3",
           "#FF6692",
           "#B6E880",
           "#FF97FF",
           "#FECB52"
          ],
          "font": {
           "color": "#2a3f5f"
          },
          "geo": {
           "bgcolor": "white",
           "lakecolor": "white",
           "landcolor": "#E5ECF6",
           "showlakes": true,
           "showland": true,
           "subunitcolor": "white"
          },
          "hoverlabel": {
           "align": "left"
          },
          "hovermode": "closest",
          "mapbox": {
           "style": "light"
          },
          "paper_bgcolor": "white",
          "plot_bgcolor": "#E5ECF6",
          "polar": {
           "angularaxis": {
            "gridcolor": "white",
            "linecolor": "white",
            "ticks": ""
           },
           "bgcolor": "#E5ECF6",
           "radialaxis": {
            "gridcolor": "white",
            "linecolor": "white",
            "ticks": ""
           }
          },
          "scene": {
           "xaxis": {
            "backgroundcolor": "#E5ECF6",
            "gridcolor": "white",
            "gridwidth": 2,
            "linecolor": "white",
            "showbackground": true,
            "ticks": "",
            "zerolinecolor": "white"
           },
           "yaxis": {
            "backgroundcolor": "#E5ECF6",
            "gridcolor": "white",
            "gridwidth": 2,
            "linecolor": "white",
            "showbackground": true,
            "ticks": "",
            "zerolinecolor": "white"
           },
           "zaxis": {
            "backgroundcolor": "#E5ECF6",
            "gridcolor": "white",
            "gridwidth": 2,
            "linecolor": "white",
            "showbackground": true,
            "ticks": "",
            "zerolinecolor": "white"
           }
          },
          "shapedefaults": {
           "line": {
            "color": "#2a3f5f"
           }
          },
          "ternary": {
           "aaxis": {
            "gridcolor": "white",
            "linecolor": "white",
            "ticks": ""
           },
           "baxis": {
            "gridcolor": "white",
            "linecolor": "white",
            "ticks": ""
           },
           "bgcolor": "#E5ECF6",
           "caxis": {
            "gridcolor": "white",
            "linecolor": "white",
            "ticks": ""
           }
          },
          "title": {
           "x": 0.05
          },
          "xaxis": {
           "automargin": true,
           "gridcolor": "white",
           "linecolor": "white",
           "ticks": "",
           "title": {
            "standoff": 15
           },
           "zerolinecolor": "white",
           "zerolinewidth": 2
          },
          "yaxis": {
           "automargin": true,
           "gridcolor": "white",
           "linecolor": "white",
           "ticks": "",
           "title": {
            "standoff": 15
           },
           "zerolinecolor": "white",
           "zerolinewidth": 2
          }
         }
        },
        "title": {
         "text": "Industry Momentum"
        },
        "yaxis": {
         "title": {
          "text": "FV of $1"
         },
         "type": "log"
        }
       }
      }
     },
     "metadata": {},
     "output_type": "display_data"
    }
   ],
   "source": [
    "# Plot cumulative returns of long-short strategy\n",
    "string =  \"Strategy: Buy Winners and Short Losers<br>\"\n",
    "string += \"Date: %{x}<br>\"\n",
    "string += \"FV of $1: $%{y:,.2f}<br>\"\n",
    "string += \"<extra></extra>\"\n",
    "trace  = go.Scatter(x=rets.index, y=(1+rets.hi-rets.lo).cumprod(), mode=\"lines\", name='Long-Short', hovertemplate=string)\n",
    "fig = go.Figure()\n",
    "fig.add_trace(trace)\n",
    "fig.update_yaxes(type=\"log\",title='FV of $1')\n",
    "fig.update_layout(title='Industry Momentum')\n",
    "fig.show()"
   ]
  },
  {
   "cell_type": "markdown",
   "metadata": {},
   "source": [
    "### Performance Statistics"
   ]
  },
  {
   "cell_type": "code",
   "execution_count": 11,
   "metadata": {},
   "outputs": [],
   "source": [
    "# Portfolio alpha and beta\n",
    "ff3 = pdr('F-F_Research_Data_Factors','famafrench', start=1900)[0]/100\n",
    "rets.index=rets.index.to_period(\"M\")\n",
    "df = rets.join(ff3[['Mkt-RF','RF']])\n",
    "df['hi-rf'] = df['hi']-df['RF']\n",
    "df['lo-rf'] = df['lo']-df['RF']\n",
    "df['hi-lo'] = df['hi']-df['lo']"
   ]
  },
  {
   "cell_type": "code",
   "execution_count": 22,
   "metadata": {},
   "outputs": [],
   "source": [
    "def mkt_model(varname):\n",
    "    mm = sm.OLS(df[varname], sm.add_constant(df['Mkt-RF']),missing='drop').fit()\n",
    "    alpha,beta = mm.params\n",
    "    print(f'Annualized alpha of long portfolio: {alpha*12: .2%}\\n')\n",
    "    print(mm.summary())"
   ]
  },
  {
   "cell_type": "code",
   "execution_count": 23,
   "metadata": {},
   "outputs": [
    {
     "name": "stdout",
     "output_type": "stream",
     "text": [
      "Annualized alpha of long portfolio:  0.28%\n",
      "\n",
      "                            OLS Regression Results                            \n",
      "==============================================================================\n",
      "Dep. Variable:                  hi-rf   R-squared:                       0.892\n",
      "Model:                            OLS   Adj. R-squared:                  0.892\n",
      "Method:                 Least Squares   F-statistic:                     2103.\n",
      "Date:                Thu, 27 Oct 2022   Prob (F-statistic):          7.17e-125\n",
      "Time:                        15:19:03   Log-Likelihood:                 704.99\n",
      "No. Observations:                 256   AIC:                            -1406.\n",
      "Df Residuals:                     254   BIC:                            -1399.\n",
      "Df Model:                           1                                         \n",
      "Covariance Type:            nonrobust                                         \n",
      "==============================================================================\n",
      "                 coef    std err          t      P>|t|      [0.025      0.975]\n",
      "------------------------------------------------------------------------------\n",
      "const          0.0002      0.001      0.243      0.808      -0.002       0.002\n",
      "Mkt-RF         0.9842      0.021     45.855      0.000       0.942       1.026\n",
      "==============================================================================\n",
      "Omnibus:                        9.822   Durbin-Watson:                   2.012\n",
      "Prob(Omnibus):                  0.007   Jarque-Bera (JB):               16.541\n",
      "Skew:                          -0.185   Prob(JB):                     0.000256\n",
      "Kurtosis:                       4.189   Cond. No.                         22.2\n",
      "==============================================================================\n",
      "\n",
      "Notes:\n",
      "[1] Standard Errors assume that the covariance matrix of the errors is correctly specified.\n"
     ]
    }
   ],
   "source": [
    "mkt_model('hi-rf')"
   ]
  },
  {
   "cell_type": "code",
   "execution_count": 24,
   "metadata": {},
   "outputs": [
    {
     "name": "stdout",
     "output_type": "stream",
     "text": [
      "Annualized alpha of long portfolio: -1.86%\n",
      "\n",
      "                            OLS Regression Results                            \n",
      "==============================================================================\n",
      "Dep. Variable:                  lo-rf   R-squared:                       0.887\n",
      "Model:                            OLS   Adj. R-squared:                  0.886\n",
      "Method:                 Least Squares   F-statistic:                     1993.\n",
      "Date:                Thu, 27 Oct 2022   Prob (F-statistic):          3.13e-122\n",
      "Time:                        15:19:14   Log-Likelihood:                 652.85\n",
      "No. Observations:                 256   AIC:                            -1302.\n",
      "Df Residuals:                     254   BIC:                            -1295.\n",
      "Df Model:                           1                                         \n",
      "Covariance Type:            nonrobust                                         \n",
      "==============================================================================\n",
      "                 coef    std err          t      P>|t|      [0.025      0.975]\n",
      "------------------------------------------------------------------------------\n",
      "const         -0.0015      0.001     -1.294      0.197      -0.004       0.001\n",
      "Mkt-RF         1.1745      0.026     44.639      0.000       1.123       1.226\n",
      "==============================================================================\n",
      "Omnibus:                       37.398   Durbin-Watson:                   1.943\n",
      "Prob(Omnibus):                  0.000   Jarque-Bera (JB):              131.347\n",
      "Skew:                           0.544   Prob(JB):                     3.01e-29\n",
      "Kurtosis:                       6.336   Cond. No.                         22.2\n",
      "==============================================================================\n",
      "\n",
      "Notes:\n",
      "[1] Standard Errors assume that the covariance matrix of the errors is correctly specified.\n"
     ]
    }
   ],
   "source": [
    "mkt_model('lo-rf')"
   ]
  },
  {
   "cell_type": "code",
   "execution_count": 25,
   "metadata": {},
   "outputs": [
    {
     "name": "stdout",
     "output_type": "stream",
     "text": [
      "Annualized alpha of long portfolio:  2.14%\n",
      "\n",
      "                            OLS Regression Results                            \n",
      "==============================================================================\n",
      "Dep. Variable:                  hi-lo   R-squared:                       0.097\n",
      "Model:                            OLS   Adj. R-squared:                  0.094\n",
      "Method:                 Least Squares   F-statistic:                     27.33\n",
      "Date:                Thu, 27 Oct 2022   Prob (F-statistic):           3.58e-07\n",
      "Time:                        15:19:33   Log-Likelihood:                 569.74\n",
      "No. Observations:                 256   AIC:                            -1135.\n",
      "Df Residuals:                     254   BIC:                            -1128.\n",
      "Df Model:                           1                                         \n",
      "Covariance Type:            nonrobust                                         \n",
      "==============================================================================\n",
      "                 coef    std err          t      P>|t|      [0.025      0.975]\n",
      "------------------------------------------------------------------------------\n",
      "const          0.0018      0.002      1.078      0.282      -0.001       0.005\n",
      "Mkt-RF        -0.1903      0.036     -5.228      0.000      -0.262      -0.119\n",
      "==============================================================================\n",
      "Omnibus:                       14.868   Durbin-Watson:                   2.027\n",
      "Prob(Omnibus):                  0.001   Jarque-Bera (JB):               20.445\n",
      "Skew:                          -0.418   Prob(JB):                     3.63e-05\n",
      "Kurtosis:                       4.103   Cond. No.                         22.2\n",
      "==============================================================================\n",
      "\n",
      "Notes:\n",
      "[1] Standard Errors assume that the covariance matrix of the errors is correctly specified.\n"
     ]
    }
   ],
   "source": [
    "mkt_model('hi-lo')"
   ]
  },
  {
   "cell_type": "code",
   "execution_count": null,
   "metadata": {},
   "outputs": [],
   "source": []
  }
 ],
 "metadata": {
  "kernelspec": {
   "display_name": "Python 3.10.6 ('venv': venv)",
   "language": "python",
   "name": "python3"
  },
  "language_info": {
   "codemirror_mode": {
    "name": "ipython",
    "version": 3
   },
   "file_extension": ".py",
   "mimetype": "text/x-python",
   "name": "python",
   "nbconvert_exporter": "python",
   "pygments_lexer": "ipython3",
   "version": "3.10.6"
  },
  "orig_nbformat": 4,
  "vscode": {
   "interpreter": {
    "hash": "cc788b38d8cb434c82f45ef9d481d0310e17b79321e4c8cbfbfe90f656a3f023"
   }
  }
 },
 "nbformat": 4,
 "nbformat_minor": 2
}
