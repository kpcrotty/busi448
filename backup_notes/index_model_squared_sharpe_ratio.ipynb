{
 "cells": [
  {
   "cell_type": "markdown",
   "metadata": {},
   "source": [
    "## Index Model (Portfolio Squared Sharpe Ratio)\n",
    "\n",
    "Below we show the following claim:\n",
    "\n",
    "$$ SR^2_P = SR^2_B + \\bigg[\\frac{\\alpha_A}{\\sigma(\\varepsilon_A)}\\bigg]^2 $$\n",
    "where $SR_P$ is the Sharpe ratio of a portfolio with $w_A$ invested in an active position and $1-w_A$ invested in a benchmark portfolio. "
   ]
  }
 ],
 "metadata": {
  "language_info": {
   "name": "python"
  },
  "orig_nbformat": 4
 },
 "nbformat": 4,
 "nbformat_minor": 2
}
