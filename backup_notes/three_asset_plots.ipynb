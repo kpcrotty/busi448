{
 "cells": [
  {
   "cell_type": "markdown",
   "metadata": {},
   "source": [
    "# Basic 3-asset portfolio plots"
   ]
  },
  {
   "cell_type": "code",
   "execution_count": 5,
   "metadata": {},
   "outputs": [],
   "source": [
    "import numpy as np\n",
    "import pandas as pd\n",
    "import plotly.graph_objects as go\n",
    "from scipy.optimize import minimize\n",
    "\n",
    "##### Inputs\n",
    "# Risk-free rate\n",
    "r = 0.02\n",
    "# Expected returns\n",
    "mns = np.array([0.10, 0.05, 0.07])\n",
    "# Standard deviations\n",
    "sds = np.array([0.20, 0.12, 0.15])\n",
    "# Correlations\n",
    "corr12 = 0.3\n",
    "corr13 = 0.3\n",
    "corr23 = 0.3\n",
    "# Covariance matrix\n",
    "C  = np.identity(3)\n",
    "C[0, 1] = C[1, 0] = corr12\n",
    "C[0, 2] = C[2, 0] = corr13\n",
    "C[1, 2] = C[2, 1] = corr23\n",
    "cov = np.diag(sds) @ C @ np.diag(sds)\n",
    "\n",
    "##### Tangency Portfolio\n",
    "w = np.linalg.solve(cov, mns - r)\n",
    "wgts_tangency = w / np.sum(w)\n",
    "mnTang = mns @ wgts_tangency\n",
    "sdTang = np.sqrt(wgts_tangency @ cov @ wgts_tangency)\n",
    "srTang = (mnTang - r)/sdTang\n",
    "\n",
    "##### Frontier Portfolios\n",
    "def frontier(means, cov, target):\n",
    "    n = len(means)\n",
    "    w = np.linalg.solve(cov, np.ones(n))\n",
    "    wgts_gmv = w / np.sum(w)\n",
    "    w = np.linalg.solve(cov, means)\n",
    "    piMu = w / np.sum(w)\n",
    "    m1 = wgts_gmv @ means\n",
    "    m2 = piMu @ means\n",
    "    a = (target - m2) / (m1 - m2)\n",
    "    wgts = a * wgts_gmv + (1 - a) * piMu\n",
    "    return wgts\n",
    "wgts_frontier = [frontier(mns, cov, m) for m in np.linspace(mns.min(), mns.max(),40)]\n",
    "mn_frontier = [mns @ w for w in wgts_frontier]\n",
    "sd_frontier = [np.sqrt(w @ cov @ w) for w in wgts_frontier]\n",
    "\n",
    "##### CAL\n",
    "wgt_cal = np.arange(0, 1.5, 0.05)\n",
    "mn_cal = [w*mnTang + (1-w)*r for w in wgt_cal]\n",
    "sd_cal = [w*sdTang for w in wgt_cal]\n"
   ]
  },
  {
   "cell_type": "code",
   "execution_count": 11,
   "metadata": {},
   "outputs": [
    {
     "data": {
      "application/vnd.plotly.v1+json": {
       "config": {
        "plotlyServerURL": "https://plot.ly"
       },
       "data": [
        {
         "hovertemplate": "Asset 1",
         "marker": {
          "color": "red",
          "size": 10
         },
         "mode": "markers",
         "name": "Asset 1",
         "type": "scatter",
         "x": [
          0.2
         ],
         "y": [
          0.1
         ]
        },
        {
         "hovertemplate": "Asset 2",
         "marker": {
          "color": "red",
          "size": 10
         },
         "mode": "markers",
         "name": "Asset 2",
         "type": "scatter",
         "x": [
          0.12
         ],
         "y": [
          0.05
         ]
        },
        {
         "hovertemplate": "Asset 3",
         "marker": {
          "color": "red",
          "size": 10
         },
         "mode": "markers",
         "name": "Asset 3",
         "type": "scatter",
         "x": [
          0.15
         ],
         "y": [
          0.07
         ]
        },
        {
         "customdata": [
          [
           -0.10259849119865877,
           0.8461022632020117,
           0.2564962279966471
          ],
          [
           -0.07919272680379127,
           0.8171083456917487,
           0.2620843811120424
          ],
          [
           -0.055786962408923835,
           0.788114428181486,
           0.2676725342274378
          ],
          [
           -0.03238119801405634,
           0.759120510671223,
           0.27326068734283315
          ],
          [
           -0.00897543361918876,
           0.7301265931609602,
           0.27884884045822855
          ],
          [
           0.01443033077567861,
           0.7011326756506974,
           0.28443699357362384
          ],
          [
           0.03783609517054616,
           0.6721387581404344,
           0.2900251466890193
          ],
          [
           0.06124185956541358,
           0.6431448406301717,
           0.29561329980441464
          ],
          [
           0.0846476239602811,
           0.6141509231199088,
           0.30120145291981004
          ],
          [
           0.10805338835514862,
           0.5851570056096459,
           0.3067896060352054
          ],
          [
           0.13145915275001602,
           0.5561630880993832,
           0.31237775915060073
          ],
          [
           0.1548649171448837,
           0.5271691705891202,
           0.3179659122659962
          ],
          [
           0.1782706815397511,
           0.4981752530788574,
           0.32355406538139153
          ],
          [
           0.2016764459346185,
           0.46918133556859465,
           0.3291422184967869
          ],
          [
           0.22508221032948617,
           0.44018741805833156,
           0.3347303716121823
          ],
          [
           0.24848797472435358,
           0.4111935005480688,
           0.3403185247275776
          ],
          [
           0.271893739119221,
           0.3821995830378061,
           0.34590667784297296
          ],
          [
           0.2952995035140884,
           0.35320566552754334,
           0.3514948309583683
          ],
          [
           0.31870526790895604,
           0.32421174801728025,
           0.3570829840737637
          ],
          [
           0.34211103230382345,
           0.29521783050701755,
           0.3626711371891591
          ],
          [
           0.3655167966986911,
           0.26622391299675446,
           0.3682592903045545
          ],
          [
           0.38892256109355855,
           0.2372299954864917,
           0.37384744341994985
          ],
          [
           0.41232832548842585,
           0.20823607797622895,
           0.37943559653534514
          ],
          [
           0.4357340898832933,
           0.1792421604659663,
           0.3850237496507405
          ],
          [
           0.45913985427816106,
           0.15024824295570316,
           0.3906119027661361
          ],
          [
           0.4825456186730284,
           0.12125432544544035,
           0.39620005588153134
          ],
          [
           0.505951383067896,
           0.09226040793517742,
           0.4017882089969267
          ],
          [
           0.5293571474627635,
           0.06326649042491472,
           0.4073763621123222
          ],
          [
           0.5527629118576309,
           0.0342725729146518,
           0.41296451522771743
          ],
          [
           0.5761686762524983,
           0.005278655404389099,
           0.4185526683431127
          ],
          [
           0.599574440647366,
           -0.023715262105873824,
           0.42414082145850823
          ],
          [
           0.6229802050422334,
           -0.052709179616136526,
           0.4297289745739037
          ],
          [
           0.6463859694371009,
           -0.08170309712639989,
           0.4353171276892989
          ],
          [
           0.6697917338319683,
           -0.11069701463666248,
           0.44090528080469427
          ],
          [
           0.6931974982268359,
           -0.13969093214692518,
           0.4464934339200899
          ],
          [
           0.7166032626217033,
           -0.168684849657188,
           0.45208158703548496
          ],
          [
           0.7400090270165709,
           -0.19767876716745092,
           0.45766974015088047
          ],
          [
           0.7634147914114383,
           -0.22667268467771384,
           0.46325789326627587
          ],
          [
           0.7868205558063059,
           -0.25566660218797677,
           0.46884604638167116
          ],
          [
           0.8102263202011734,
           -0.2846605196982397,
           0.47443419949706667
          ]
         ],
         "hovertemplate": "<br>Asset 1: %{customdata[0]:.1%}<br>Asset 2: %{customdata[1]:.1%}<br>Asset 3: %{customdata[2]:.1%}<br><extra></extra>",
         "marker": {
          "color": "blue",
          "size": 10
         },
         "mode": "lines",
         "name": "Frontier",
         "type": "scatter",
         "x": [
          0.11327066294791656,
          0.11143682839192887,
          0.10980526927681426,
          0.10838512075633333,
          0.10718478643579055,
          0.10621171915903108,
          0.10547220928594198,
          0.10497119308699886,
          0.10471209398187126,
          0.10469670804537395,
          0.10492514248986322,
          0.10539581196142342,
          0.1061054929445556,
          0.10704943198595845,
          0.10822149946076033,
          0.1096143777251148,
          0.11121977101263394,
          0.11302862436414551,
          0.11503134002831265,
          0.11721798178298948,
          0.11957846009777437,
          0.12210269361051203,
          0.12478074473267065,
          0.1276029291460312,
          0.13055990042415014,
          0.13364271200626962,
          0.13684285932238938,
          0.14015230509761004,
          0.14356349084056735,
          0.14706933732765495,
          0.15066323660127334,
          0.1543390376601356,
          0.15809102767093403,
          0.16191391019846657,
          0.16580278165028467,
          0.16975310686905448,
          0.1737606945828978,
          0.1778216732394433,
          0.18193246759973708,
          0.18608977634919446
         ],
         "y": [
          0.05000000000000001,
          0.05128205128205129,
          0.05256410256410257,
          0.053846153846153835,
          0.055128205128205134,
          0.0564102564102564,
          0.057692307692307696,
          0.05897435897435897,
          0.060256410256410264,
          0.061538461538461535,
          0.06282051282051282,
          0.06410256410256411,
          0.0653846153846154,
          0.06666666666666667,
          0.06794871794871796,
          0.06923076923076923,
          0.07051282051282051,
          0.07179487179487179,
          0.07307692307692308,
          0.07435897435897437,
          0.07564102564102565,
          0.07692307692307694,
          0.07820512820512819,
          0.07948717948717948,
          0.08076923076923079,
          0.08205128205128207,
          0.08333333333333334,
          0.08461538461538465,
          0.08589743589743591,
          0.08717948717948719,
          0.0884615384615385,
          0.08974358974358977,
          0.09102564102564102,
          0.09230769230769231,
          0.09358974358974362,
          0.09487179487179487,
          0.09615384615384617,
          0.09743589743589745,
          0.09871794871794876,
          0.10000000000000003
         ]
        },
        {
         "customdata": [
          [
           0.41180371352785133,
           0.20888594164456242,
           0.3793103448275863
          ]
         ],
         "hovertemplate": "<br>Tangency Portfolio:<br>Asset 1: %{customdata[0]:.1%}<br>Asset 2: %{customdata[1]:.1%}<br>Asset 3: %{customdata[2]:.1%}<br><extra></extra>",
         "marker": {
          "color": "blue",
          "size": 10
         },
         "mode": "markers",
         "name": "Tangency",
         "type": "scatter",
         "x": [
          0.12471910477720118
         ],
         "y": [
          0.0781763925729443
         ]
        },
        {
         "customdata": [
          0,
          0.05,
          0.1,
          0.15000000000000002,
          0.2,
          0.25,
          0.30000000000000004,
          0.35000000000000003,
          0.4,
          0.45,
          0.5,
          0.55,
          0.6000000000000001,
          0.65,
          0.7000000000000001,
          0.75,
          0.8,
          0.8500000000000001,
          0.9,
          0.9500000000000001,
          1,
          1.05,
          1.1,
          1.1500000000000001,
          1.2000000000000002,
          1.25,
          1.3,
          1.35,
          1.4000000000000001,
          1.4500000000000002
         ],
         "hovertemplate": "<br>Weight in Tangency: %{customdata:.1%}<br>Weight in Risk-free:  %{text:.1%}<br><extra></extra>",
         "marker": {
          "color": "black",
          "size": 10
         },
         "mode": "lines",
         "name": "CAL",
         "text": [
          1,
          0.95,
          0.9,
          0.85,
          0.8,
          0.75,
          0.7,
          0.6499999999999999,
          0.6,
          0.55,
          0.5,
          0.44999999999999996,
          0.3999999999999999,
          0.35,
          0.29999999999999993,
          0.25,
          0.19999999999999996,
          0.1499999999999999,
          0.09999999999999998,
          0.04999999999999993,
          0,
          -0.050000000000000044,
          -0.10000000000000009,
          -0.15000000000000013,
          -0.20000000000000018,
          -0.25,
          -0.30000000000000004,
          -0.3500000000000001,
          -0.40000000000000013,
          -0.4500000000000002
         ],
         "type": "scatter",
         "x": [
          0,
          0.006235955238860059,
          0.012471910477720118,
          0.018707865716580178,
          0.024943820955440236,
          0.031179776194300294,
          0.037415731433160355,
          0.043651686672020414,
          0.04988764191088047,
          0.05612359714974053,
          0.06235955238860059,
          0.06859550762746065,
          0.07483146286632071,
          0.08106741810518077,
          0.08730337334404083,
          0.09353932858290089,
          0.09977528382176094,
          0.10601123906062102,
          0.11224719429948106,
          0.11848314953834113,
          0.12471910477720118,
          0.13095506001606125,
          0.1371910152549213,
          0.14342697049378136,
          0.14966292573264142,
          0.15589888097150148,
          0.16213483621036154,
          0.1683707914492216,
          0.17460674668808165,
          0.18084270192694174
         ],
         "y": [
          0.02,
          0.022908819628647215,
          0.025817639257294432,
          0.02872645888594165,
          0.03163527851458886,
          0.03454409814323607,
          0.037452917771883296,
          0.040361737400530506,
          0.04327055702917772,
          0.04617937665782494,
          0.04908819628647215,
          0.05199701591511937,
          0.05490583554376659,
          0.0578146551724138,
          0.060723474801061016,
          0.06363229442970823,
          0.06654111405835544,
          0.06944993368700267,
          0.07235875331564988,
          0.07526757294429709,
          0.0781763925729443,
          0.08108521220159152,
          0.08399403183023874,
          0.08690285145888596,
          0.08981167108753317,
          0.09272049071618037,
          0.09562931034482759,
          0.0985381299734748,
          0.10144694960212203,
          0.10435576923076924
         ]
        }
       ],
       "layout": {
        "legend": {
         "x": 0.05,
         "xanchor": "left",
         "y": 0.95,
         "yanchor": "top"
        },
        "template": {
         "data": {
          "bar": [
           {
            "error_x": {
             "color": "#2a3f5f"
            },
            "error_y": {
             "color": "#2a3f5f"
            },
            "marker": {
             "line": {
              "color": "#E5ECF6",
              "width": 0.5
             },
             "pattern": {
              "fillmode": "overlay",
              "size": 10,
              "solidity": 0.2
             }
            },
            "type": "bar"
           }
          ],
          "barpolar": [
           {
            "marker": {
             "line": {
              "color": "#E5ECF6",
              "width": 0.5
             },
             "pattern": {
              "fillmode": "overlay",
              "size": 10,
              "solidity": 0.2
             }
            },
            "type": "barpolar"
           }
          ],
          "carpet": [
           {
            "aaxis": {
             "endlinecolor": "#2a3f5f",
             "gridcolor": "white",
             "linecolor": "white",
             "minorgridcolor": "white",
             "startlinecolor": "#2a3f5f"
            },
            "baxis": {
             "endlinecolor": "#2a3f5f",
             "gridcolor": "white",
             "linecolor": "white",
             "minorgridcolor": "white",
             "startlinecolor": "#2a3f5f"
            },
            "type": "carpet"
           }
          ],
          "choropleth": [
           {
            "colorbar": {
             "outlinewidth": 0,
             "ticks": ""
            },
            "type": "choropleth"
           }
          ],
          "contour": [
           {
            "colorbar": {
             "outlinewidth": 0,
             "ticks": ""
            },
            "colorscale": [
             [
              0,
              "#0d0887"
             ],
             [
              0.1111111111111111,
              "#46039f"
             ],
             [
              0.2222222222222222,
              "#7201a8"
             ],
             [
              0.3333333333333333,
              "#9c179e"
             ],
             [
              0.4444444444444444,
              "#bd3786"
             ],
             [
              0.5555555555555556,
              "#d8576b"
             ],
             [
              0.6666666666666666,
              "#ed7953"
             ],
             [
              0.7777777777777778,
              "#fb9f3a"
             ],
             [
              0.8888888888888888,
              "#fdca26"
             ],
             [
              1,
              "#f0f921"
             ]
            ],
            "type": "contour"
           }
          ],
          "contourcarpet": [
           {
            "colorbar": {
             "outlinewidth": 0,
             "ticks": ""
            },
            "type": "contourcarpet"
           }
          ],
          "heatmap": [
           {
            "colorbar": {
             "outlinewidth": 0,
             "ticks": ""
            },
            "colorscale": [
             [
              0,
              "#0d0887"
             ],
             [
              0.1111111111111111,
              "#46039f"
             ],
             [
              0.2222222222222222,
              "#7201a8"
             ],
             [
              0.3333333333333333,
              "#9c179e"
             ],
             [
              0.4444444444444444,
              "#bd3786"
             ],
             [
              0.5555555555555556,
              "#d8576b"
             ],
             [
              0.6666666666666666,
              "#ed7953"
             ],
             [
              0.7777777777777778,
              "#fb9f3a"
             ],
             [
              0.8888888888888888,
              "#fdca26"
             ],
             [
              1,
              "#f0f921"
             ]
            ],
            "type": "heatmap"
           }
          ],
          "heatmapgl": [
           {
            "colorbar": {
             "outlinewidth": 0,
             "ticks": ""
            },
            "colorscale": [
             [
              0,
              "#0d0887"
             ],
             [
              0.1111111111111111,
              "#46039f"
             ],
             [
              0.2222222222222222,
              "#7201a8"
             ],
             [
              0.3333333333333333,
              "#9c179e"
             ],
             [
              0.4444444444444444,
              "#bd3786"
             ],
             [
              0.5555555555555556,
              "#d8576b"
             ],
             [
              0.6666666666666666,
              "#ed7953"
             ],
             [
              0.7777777777777778,
              "#fb9f3a"
             ],
             [
              0.8888888888888888,
              "#fdca26"
             ],
             [
              1,
              "#f0f921"
             ]
            ],
            "type": "heatmapgl"
           }
          ],
          "histogram": [
           {
            "marker": {
             "pattern": {
              "fillmode": "overlay",
              "size": 10,
              "solidity": 0.2
             }
            },
            "type": "histogram"
           }
          ],
          "histogram2d": [
           {
            "colorbar": {
             "outlinewidth": 0,
             "ticks": ""
            },
            "colorscale": [
             [
              0,
              "#0d0887"
             ],
             [
              0.1111111111111111,
              "#46039f"
             ],
             [
              0.2222222222222222,
              "#7201a8"
             ],
             [
              0.3333333333333333,
              "#9c179e"
             ],
             [
              0.4444444444444444,
              "#bd3786"
             ],
             [
              0.5555555555555556,
              "#d8576b"
             ],
             [
              0.6666666666666666,
              "#ed7953"
             ],
             [
              0.7777777777777778,
              "#fb9f3a"
             ],
             [
              0.8888888888888888,
              "#fdca26"
             ],
             [
              1,
              "#f0f921"
             ]
            ],
            "type": "histogram2d"
           }
          ],
          "histogram2dcontour": [
           {
            "colorbar": {
             "outlinewidth": 0,
             "ticks": ""
            },
            "colorscale": [
             [
              0,
              "#0d0887"
             ],
             [
              0.1111111111111111,
              "#46039f"
             ],
             [
              0.2222222222222222,
              "#7201a8"
             ],
             [
              0.3333333333333333,
              "#9c179e"
             ],
             [
              0.4444444444444444,
              "#bd3786"
             ],
             [
              0.5555555555555556,
              "#d8576b"
             ],
             [
              0.6666666666666666,
              "#ed7953"
             ],
             [
              0.7777777777777778,
              "#fb9f3a"
             ],
             [
              0.8888888888888888,
              "#fdca26"
             ],
             [
              1,
              "#f0f921"
             ]
            ],
            "type": "histogram2dcontour"
           }
          ],
          "mesh3d": [
           {
            "colorbar": {
             "outlinewidth": 0,
             "ticks": ""
            },
            "type": "mesh3d"
           }
          ],
          "parcoords": [
           {
            "line": {
             "colorbar": {
              "outlinewidth": 0,
              "ticks": ""
             }
            },
            "type": "parcoords"
           }
          ],
          "pie": [
           {
            "automargin": true,
            "type": "pie"
           }
          ],
          "scatter": [
           {
            "fillpattern": {
             "fillmode": "overlay",
             "size": 10,
             "solidity": 0.2
            },
            "type": "scatter"
           }
          ],
          "scatter3d": [
           {
            "line": {
             "colorbar": {
              "outlinewidth": 0,
              "ticks": ""
             }
            },
            "marker": {
             "colorbar": {
              "outlinewidth": 0,
              "ticks": ""
             }
            },
            "type": "scatter3d"
           }
          ],
          "scattercarpet": [
           {
            "marker": {
             "colorbar": {
              "outlinewidth": 0,
              "ticks": ""
             }
            },
            "type": "scattercarpet"
           }
          ],
          "scattergeo": [
           {
            "marker": {
             "colorbar": {
              "outlinewidth": 0,
              "ticks": ""
             }
            },
            "type": "scattergeo"
           }
          ],
          "scattergl": [
           {
            "marker": {
             "colorbar": {
              "outlinewidth": 0,
              "ticks": ""
             }
            },
            "type": "scattergl"
           }
          ],
          "scattermapbox": [
           {
            "marker": {
             "colorbar": {
              "outlinewidth": 0,
              "ticks": ""
             }
            },
            "type": "scattermapbox"
           }
          ],
          "scatterpolar": [
           {
            "marker": {
             "colorbar": {
              "outlinewidth": 0,
              "ticks": ""
             }
            },
            "type": "scatterpolar"
           }
          ],
          "scatterpolargl": [
           {
            "marker": {
             "colorbar": {
              "outlinewidth": 0,
              "ticks": ""
             }
            },
            "type": "scatterpolargl"
           }
          ],
          "scatterternary": [
           {
            "marker": {
             "colorbar": {
              "outlinewidth": 0,
              "ticks": ""
             }
            },
            "type": "scatterternary"
           }
          ],
          "surface": [
           {
            "colorbar": {
             "outlinewidth": 0,
             "ticks": ""
            },
            "colorscale": [
             [
              0,
              "#0d0887"
             ],
             [
              0.1111111111111111,
              "#46039f"
             ],
             [
              0.2222222222222222,
              "#7201a8"
             ],
             [
              0.3333333333333333,
              "#9c179e"
             ],
             [
              0.4444444444444444,
              "#bd3786"
             ],
             [
              0.5555555555555556,
              "#d8576b"
             ],
             [
              0.6666666666666666,
              "#ed7953"
             ],
             [
              0.7777777777777778,
              "#fb9f3a"
             ],
             [
              0.8888888888888888,
              "#fdca26"
             ],
             [
              1,
              "#f0f921"
             ]
            ],
            "type": "surface"
           }
          ],
          "table": [
           {
            "cells": {
             "fill": {
              "color": "#EBF0F8"
             },
             "line": {
              "color": "white"
             }
            },
            "header": {
             "fill": {
              "color": "#C8D4E3"
             },
             "line": {
              "color": "white"
             }
            },
            "type": "table"
           }
          ]
         },
         "layout": {
          "annotationdefaults": {
           "arrowcolor": "#2a3f5f",
           "arrowhead": 0,
           "arrowwidth": 1
          },
          "autotypenumbers": "strict",
          "coloraxis": {
           "colorbar": {
            "outlinewidth": 0,
            "ticks": ""
           }
          },
          "colorscale": {
           "diverging": [
            [
             0,
             "#8e0152"
            ],
            [
             0.1,
             "#c51b7d"
            ],
            [
             0.2,
             "#de77ae"
            ],
            [
             0.3,
             "#f1b6da"
            ],
            [
             0.4,
             "#fde0ef"
            ],
            [
             0.5,
             "#f7f7f7"
            ],
            [
             0.6,
             "#e6f5d0"
            ],
            [
             0.7,
             "#b8e186"
            ],
            [
             0.8,
             "#7fbc41"
            ],
            [
             0.9,
             "#4d9221"
            ],
            [
             1,
             "#276419"
            ]
           ],
           "sequential": [
            [
             0,
             "#0d0887"
            ],
            [
             0.1111111111111111,
             "#46039f"
            ],
            [
             0.2222222222222222,
             "#7201a8"
            ],
            [
             0.3333333333333333,
             "#9c179e"
            ],
            [
             0.4444444444444444,
             "#bd3786"
            ],
            [
             0.5555555555555556,
             "#d8576b"
            ],
            [
             0.6666666666666666,
             "#ed7953"
            ],
            [
             0.7777777777777778,
             "#fb9f3a"
            ],
            [
             0.8888888888888888,
             "#fdca26"
            ],
            [
             1,
             "#f0f921"
            ]
           ],
           "sequentialminus": [
            [
             0,
             "#0d0887"
            ],
            [
             0.1111111111111111,
             "#46039f"
            ],
            [
             0.2222222222222222,
             "#7201a8"
            ],
            [
             0.3333333333333333,
             "#9c179e"
            ],
            [
             0.4444444444444444,
             "#bd3786"
            ],
            [
             0.5555555555555556,
             "#d8576b"
            ],
            [
             0.6666666666666666,
             "#ed7953"
            ],
            [
             0.7777777777777778,
             "#fb9f3a"
            ],
            [
             0.8888888888888888,
             "#fdca26"
            ],
            [
             1,
             "#f0f921"
            ]
           ]
          },
          "colorway": [
           "#636efa",
           "#EF553B",
           "#00cc96",
           "#ab63fa",
           "#FFA15A",
           "#19d3f3",
           "#FF6692",
           "#B6E880",
           "#FF97FF",
           "#FECB52"
          ],
          "font": {
           "color": "#2a3f5f"
          },
          "geo": {
           "bgcolor": "white",
           "lakecolor": "white",
           "landcolor": "#E5ECF6",
           "showlakes": true,
           "showland": true,
           "subunitcolor": "white"
          },
          "hoverlabel": {
           "align": "left"
          },
          "hovermode": "closest",
          "mapbox": {
           "style": "light"
          },
          "paper_bgcolor": "white",
          "plot_bgcolor": "#E5ECF6",
          "polar": {
           "angularaxis": {
            "gridcolor": "white",
            "linecolor": "white",
            "ticks": ""
           },
           "bgcolor": "#E5ECF6",
           "radialaxis": {
            "gridcolor": "white",
            "linecolor": "white",
            "ticks": ""
           }
          },
          "scene": {
           "xaxis": {
            "backgroundcolor": "#E5ECF6",
            "gridcolor": "white",
            "gridwidth": 2,
            "linecolor": "white",
            "showbackground": true,
            "ticks": "",
            "zerolinecolor": "white"
           },
           "yaxis": {
            "backgroundcolor": "#E5ECF6",
            "gridcolor": "white",
            "gridwidth": 2,
            "linecolor": "white",
            "showbackground": true,
            "ticks": "",
            "zerolinecolor": "white"
           },
           "zaxis": {
            "backgroundcolor": "#E5ECF6",
            "gridcolor": "white",
            "gridwidth": 2,
            "linecolor": "white",
            "showbackground": true,
            "ticks": "",
            "zerolinecolor": "white"
           }
          },
          "shapedefaults": {
           "line": {
            "color": "#2a3f5f"
           }
          },
          "ternary": {
           "aaxis": {
            "gridcolor": "white",
            "linecolor": "white",
            "ticks": ""
           },
           "baxis": {
            "gridcolor": "white",
            "linecolor": "white",
            "ticks": ""
           },
           "bgcolor": "#E5ECF6",
           "caxis": {
            "gridcolor": "white",
            "linecolor": "white",
            "ticks": ""
           }
          },
          "title": {
           "x": 0.05
          },
          "xaxis": {
           "automargin": true,
           "gridcolor": "white",
           "linecolor": "white",
           "ticks": "",
           "title": {
            "standoff": 15
           },
           "zerolinecolor": "white",
           "zerolinewidth": 2
          },
          "yaxis": {
           "automargin": true,
           "gridcolor": "white",
           "linecolor": "white",
           "ticks": "",
           "title": {
            "standoff": 15
           },
           "zerolinecolor": "white",
           "zerolinewidth": 2
          }
         }
        },
        "xaxis": {
         "range": [
          0,
          0.21000000000000002
         ],
         "tickformat": ".0%",
         "title": {
          "text": "Standard Deviation"
         }
        },
        "yaxis": {
         "range": [
          0,
          0.10500000000000001
         ],
         "tickformat": ".0%",
         "title": {
          "text": "Expected Return"
         }
        }
       }
      }
     },
     "metadata": {},
     "output_type": "display_data"
    }
   ],
   "source": [
    "##### Plot portfolios in expected return-stdev space\n",
    "fig = go.Figure()  \n",
    "\n",
    "# Plot assets\n",
    "for i in np.arange(len(mns)):\n",
    "    trace = go.Scatter(x=[sds[i]], y=[mns[i]], mode=\"markers\", hovertemplate=\"Asset \"+str(i+1),marker=dict(size=10, color=\"red\"), name=\"Asset \"+str(i+1)) \n",
    "    fig.add_trace(trace)\n",
    "\n",
    "# Plot frontier\n",
    "string = \"<br>\"\n",
    "string += \"Asset 1: %{customdata[0]:.1%}<br>\"\n",
    "string += \"Asset 2: %{customdata[1]:.1%}<br>\"\n",
    "string += \"Asset 3: %{customdata[2]:.1%}<br>\"\n",
    "string += \"<extra></extra>\"\n",
    "trace0 = go.Scatter(x=sd_frontier, y=mn_frontier, mode=\"lines\", customdata=wgts_frontier, hovertemplate=string, marker=dict(size=10, color=\"blue\"), name=\"Frontier\")       \n",
    "fig.add_trace(trace0)\n",
    "\n",
    "# Plot tangency\n",
    "string = \"<br>Tangency Portfolio:<br>\"\n",
    "string += \"Asset 1: %{customdata[0]:.1%}<br>\"\n",
    "string += \"Asset 2: %{customdata[1]:.1%}<br>\"\n",
    "string += \"Asset 3: %{customdata[2]:.1%}<br>\"\n",
    "string += \"<extra></extra>\"\n",
    "trace1 = go.Scatter(x=[sdTang], y=[mnTang], mode=\"markers\", customdata=[wgts_tangency], hovertemplate=string, marker=dict(size=10, color=\"blue\"), name=\"Tangency\")   \n",
    "fig.add_trace(trace1)\n",
    "\n",
    "# Plot CAL\n",
    "string = \"<br>\"\n",
    "string += \"Weight in Tangency: %{customdata:.1%}<br>\"\n",
    "string += \"Weight in Risk-free:  %{text:.1%}<br>\"\n",
    "string += \"<extra></extra>\"\n",
    "trace2 = go.Scatter(x=sd_cal, y=mn_cal, mode=\"lines\", text = 1-wgt_cal,customdata=wgt_cal, hovertemplate=string, marker=dict(size=10, color=\"black\"), name=\"CAL\")       \n",
    "fig.add_trace(trace2)\n",
    "\n",
    "fig.layout.xaxis[\"title\"] = \"Standard Deviation\"\n",
    "fig.layout.yaxis[\"title\"] = \"Expected Return\"\n",
    "fig.update_xaxes(range=[0, 1.05 * sds.max()])\n",
    "fig.update_yaxes(range=[0, 1.05 * mns.max()])\n",
    "fig.update_yaxes(tickformat=\".0%\")\n",
    "fig.update_xaxes(tickformat=\".0%\")\n",
    "fig.update_layout(legend=dict(yanchor=\"top\", y =0.95, xanchor=\"left\", x=0.05))\n",
    "fig.show()"
   ]
  },
  {
   "cell_type": "code",
   "execution_count": 104,
   "metadata": {},
   "outputs": [],
   "source": [
    "# Simulate return realizations\n",
    "from scipy.stats import multivariate_normal as mvn\n",
    "\n",
    "# Periods\n",
    "T = 30\n",
    "\n",
    "\n",
    "# Realizations\n",
    "def returns(mns, cov, init_wgts, T, seed):\n",
    "    realized = mvn.rvs(mns, cov, size=T,random_state=seed)\n",
    "\n",
    "\n",
    "    ret_cols = ['ret' + str(i) for i in range(len(mns))] \n",
    "    beg_wgt_cols = ['beg_wgt' + str(i) for i in range(len(mns))] \n",
    "    end_wgt_cols = ['end_wgt' + str(i) for i in range(len(mns))] \n",
    "    df = pd.DataFrame(dtype=float, columns=beg_wgt_cols + ret_cols + end_wgt_cols + ['exp_pret','sd_pret'], index=np.arange(T)+1)\n",
    "    df[ret_cols] = realized\n",
    "    # print(df)\n",
    "    df.loc[1,beg_wgt_cols] = init_wgts\n",
    "    for t in df.index:\n",
    "        if t > 1:\n",
    "            df.loc[t,beg_wgt_cols] = df.loc[t-1,end_wgt_cols].values\n",
    "        wgts = df.loc[t,beg_wgt_cols].values\n",
    "        # print(wgts)\n",
    "        rets = df.loc[t,ret_cols].values\n",
    "        # print(rets)\n",
    "        rp = wgts @ rets\n",
    "        # print(rp)\n",
    "        for i, w in enumerate(end_wgt_cols):\n",
    "            df.loc[t,w] = wgts[i] * (1+rets[i]) / (1+rp)\n",
    "        df.loc[t,'exp_pret'] = wgts @ mns\n",
    "        df.loc[t,'sd_pret']  = np.sqrt(wgts @ cov @ wgts)        \n",
    "    return df\n",
    "\n",
    "\n",
    "rets = returns(mns, cov, wgts_tangency, T, 26)\n",
    "rets['sharpe ratio'] = (rets.exp_pret - r) / rets.sd_pret\n"
   ]
  },
  {
   "cell_type": "code",
   "execution_count": 105,
   "metadata": {},
   "outputs": [
    {
     "data": {
      "application/vnd.plotly.v1+json": {
       "config": {
        "plotlyServerURL": "https://plot.ly"
       },
       "data": [
        {
         "hovertemplate": "Asset 1",
         "marker": {
          "color": "red",
          "size": 10
         },
         "mode": "markers",
         "name": "Asset 1",
         "type": "scatter",
         "x": [
          0.2
         ],
         "y": [
          0.1
         ]
        },
        {
         "hovertemplate": "Asset 2",
         "marker": {
          "color": "red",
          "size": 10
         },
         "mode": "markers",
         "name": "Asset 2",
         "type": "scatter",
         "x": [
          0.12
         ],
         "y": [
          0.05
         ]
        },
        {
         "hovertemplate": "Asset 3",
         "marker": {
          "color": "red",
          "size": 10
         },
         "mode": "markers",
         "name": "Asset 3",
         "type": "scatter",
         "x": [
          0.15
         ],
         "y": [
          0.07
         ]
        },
        {
         "customdata": [
          [
           -0.10259849119865877,
           0.8461022632020117,
           0.2564962279966471
          ],
          [
           -0.07919272680379127,
           0.8171083456917487,
           0.2620843811120424
          ],
          [
           -0.055786962408923835,
           0.788114428181486,
           0.2676725342274378
          ],
          [
           -0.03238119801405634,
           0.759120510671223,
           0.27326068734283315
          ],
          [
           -0.00897543361918876,
           0.7301265931609602,
           0.27884884045822855
          ],
          [
           0.01443033077567861,
           0.7011326756506974,
           0.28443699357362384
          ],
          [
           0.03783609517054616,
           0.6721387581404344,
           0.2900251466890193
          ],
          [
           0.06124185956541358,
           0.6431448406301717,
           0.29561329980441464
          ],
          [
           0.0846476239602811,
           0.6141509231199088,
           0.30120145291981004
          ],
          [
           0.10805338835514862,
           0.5851570056096459,
           0.3067896060352054
          ],
          [
           0.13145915275001602,
           0.5561630880993832,
           0.31237775915060073
          ],
          [
           0.1548649171448837,
           0.5271691705891202,
           0.3179659122659962
          ],
          [
           0.1782706815397511,
           0.4981752530788574,
           0.32355406538139153
          ],
          [
           0.2016764459346185,
           0.46918133556859465,
           0.3291422184967869
          ],
          [
           0.22508221032948617,
           0.44018741805833156,
           0.3347303716121823
          ],
          [
           0.24848797472435358,
           0.4111935005480688,
           0.3403185247275776
          ],
          [
           0.271893739119221,
           0.3821995830378061,
           0.34590667784297296
          ],
          [
           0.2952995035140884,
           0.35320566552754334,
           0.3514948309583683
          ],
          [
           0.31870526790895604,
           0.32421174801728025,
           0.3570829840737637
          ],
          [
           0.34211103230382345,
           0.29521783050701755,
           0.3626711371891591
          ],
          [
           0.3655167966986911,
           0.26622391299675446,
           0.3682592903045545
          ],
          [
           0.38892256109355855,
           0.2372299954864917,
           0.37384744341994985
          ],
          [
           0.41232832548842585,
           0.20823607797622895,
           0.37943559653534514
          ],
          [
           0.4357340898832933,
           0.1792421604659663,
           0.3850237496507405
          ],
          [
           0.45913985427816106,
           0.15024824295570316,
           0.3906119027661361
          ],
          [
           0.4825456186730284,
           0.12125432544544035,
           0.39620005588153134
          ],
          [
           0.505951383067896,
           0.09226040793517742,
           0.4017882089969267
          ],
          [
           0.5293571474627635,
           0.06326649042491472,
           0.4073763621123222
          ],
          [
           0.5527629118576309,
           0.0342725729146518,
           0.41296451522771743
          ],
          [
           0.5761686762524983,
           0.005278655404389099,
           0.4185526683431127
          ],
          [
           0.599574440647366,
           -0.023715262105873824,
           0.42414082145850823
          ],
          [
           0.6229802050422334,
           -0.052709179616136526,
           0.4297289745739037
          ],
          [
           0.6463859694371009,
           -0.08170309712639989,
           0.4353171276892989
          ],
          [
           0.6697917338319683,
           -0.11069701463666248,
           0.44090528080469427
          ],
          [
           0.6931974982268359,
           -0.13969093214692518,
           0.4464934339200899
          ],
          [
           0.7166032626217033,
           -0.168684849657188,
           0.45208158703548496
          ],
          [
           0.7400090270165709,
           -0.19767876716745092,
           0.45766974015088047
          ],
          [
           0.7634147914114383,
           -0.22667268467771384,
           0.46325789326627587
          ],
          [
           0.7868205558063059,
           -0.25566660218797677,
           0.46884604638167116
          ],
          [
           0.8102263202011734,
           -0.2846605196982397,
           0.47443419949706667
          ]
         ],
         "hovertemplate": "<br>Asset 1: %{customdata[0]:.1%}<br>Asset 2: %{customdata[1]:.1%}<br>Asset 3: %{customdata[2]:.1%}<br><extra></extra>",
         "marker": {
          "color": "blue",
          "size": 10
         },
         "mode": "lines",
         "name": "Frontier",
         "type": "scatter",
         "x": [
          0.11327066294791656,
          0.11143682839192887,
          0.10980526927681426,
          0.10838512075633333,
          0.10718478643579055,
          0.10621171915903108,
          0.10547220928594198,
          0.10497119308699886,
          0.10471209398187126,
          0.10469670804537395,
          0.10492514248986322,
          0.10539581196142342,
          0.1061054929445556,
          0.10704943198595845,
          0.10822149946076033,
          0.1096143777251148,
          0.11121977101263394,
          0.11302862436414551,
          0.11503134002831265,
          0.11721798178298948,
          0.11957846009777437,
          0.12210269361051203,
          0.12478074473267065,
          0.1276029291460312,
          0.13055990042415014,
          0.13364271200626962,
          0.13684285932238938,
          0.14015230509761004,
          0.14356349084056735,
          0.14706933732765495,
          0.15066323660127334,
          0.1543390376601356,
          0.15809102767093403,
          0.16191391019846657,
          0.16580278165028467,
          0.16975310686905448,
          0.1737606945828978,
          0.1778216732394433,
          0.18193246759973708,
          0.18608977634919446
         ],
         "y": [
          0.05000000000000001,
          0.05128205128205129,
          0.05256410256410257,
          0.053846153846153835,
          0.055128205128205134,
          0.0564102564102564,
          0.057692307692307696,
          0.05897435897435897,
          0.060256410256410264,
          0.061538461538461535,
          0.06282051282051282,
          0.06410256410256411,
          0.0653846153846154,
          0.06666666666666667,
          0.06794871794871796,
          0.06923076923076923,
          0.07051282051282051,
          0.07179487179487179,
          0.07307692307692308,
          0.07435897435897437,
          0.07564102564102565,
          0.07692307692307694,
          0.07820512820512819,
          0.07948717948717948,
          0.08076923076923079,
          0.08205128205128207,
          0.08333333333333334,
          0.08461538461538465,
          0.08589743589743591,
          0.08717948717948719,
          0.0884615384615385,
          0.08974358974358977,
          0.09102564102564102,
          0.09230769230769231,
          0.09358974358974362,
          0.09487179487179487,
          0.09615384615384617,
          0.09743589743589745,
          0.09871794871794876,
          0.10000000000000003
         ]
        },
        {
         "customdata": [
          [
           0.41180371352785133,
           0.20888594164456242,
           0.3793103448275863
          ]
         ],
         "hovertemplate": "<br>Tangency Portfolio:<br>Asset 1: %{customdata[0]:.1%}<br>Asset 2: %{customdata[1]:.1%}<br>Asset 3: %{customdata[2]:.1%}<br>Sharpe ratio: %{text:.4f}<br><extra></extra>",
         "marker": {
          "color": "blue",
          "size": 10
         },
         "mode": "markers",
         "name": "Tangency",
         "text": [
          "0.4664593502083814"
         ],
         "type": "scatter",
         "x": [
          0.12471910477720118
         ],
         "y": [
          0.0781763925729443
         ]
        },
        {
         "customdata": [
          0.35376255628669656,
          0.196475523077131,
          0.4497619206361724,
          0.4638636356411715
         ],
         "hovertemplate": "Year 2",
         "marker": {
          "color": "black",
          "size": 10
         },
         "mode": "markers",
         "name": "Year 2",
         "type": "scatter",
         "x": [
          0.12219833992528471
         ],
         "y": [
          0.07668336622705829
         ]
        },
        {
         "customdata": [
          0.3379461781998522,
          0.19348463150478334,
          0.46856919029536453,
          0.4622376281311214
         ],
         "hovertemplate": "Year 3",
         "marker": {
          "color": "black",
          "size": 10
         },
         "mode": "markers",
         "name": "Year 3",
         "type": "scatter",
         "x": [
          0.12173109520183492
         ],
         "y": [
          0.07626869271589991
         ]
        },
        {
         "customdata": [
          0.28907304072765855,
          0.20109700755429066,
          0.5098299517180509,
          0.45588773241533315
         ],
         "hovertemplate": "Year 4",
         "marker": {
          "color": "black",
          "size": 10
         },
         "mode": "markers",
         "name": "Year 4",
         "type": "scatter",
         "x": [
          0.1198765555309026
         ],
         "y": [
          0.07465025107074395
         ]
        },
        {
         "customdata": [
          0.2833811976811535,
          0.23021929118603987,
          0.4863995111328067,
          0.4566818786096539
         ],
         "hovertemplate": "Year 5",
         "marker": {
          "color": "black",
          "size": 10
         },
         "mode": "markers",
         "name": "Year 5",
         "type": "scatter",
         "x": [
          0.11801880615626967
         ],
         "y": [
          0.07389705010671382
         ]
        }
       ],
       "layout": {
        "legend": {
         "x": 0.05,
         "xanchor": "left",
         "y": 0.95,
         "yanchor": "top"
        },
        "template": {
         "data": {
          "bar": [
           {
            "error_x": {
             "color": "#2a3f5f"
            },
            "error_y": {
             "color": "#2a3f5f"
            },
            "marker": {
             "line": {
              "color": "#E5ECF6",
              "width": 0.5
             },
             "pattern": {
              "fillmode": "overlay",
              "size": 10,
              "solidity": 0.2
             }
            },
            "type": "bar"
           }
          ],
          "barpolar": [
           {
            "marker": {
             "line": {
              "color": "#E5ECF6",
              "width": 0.5
             },
             "pattern": {
              "fillmode": "overlay",
              "size": 10,
              "solidity": 0.2
             }
            },
            "type": "barpolar"
           }
          ],
          "carpet": [
           {
            "aaxis": {
             "endlinecolor": "#2a3f5f",
             "gridcolor": "white",
             "linecolor": "white",
             "minorgridcolor": "white",
             "startlinecolor": "#2a3f5f"
            },
            "baxis": {
             "endlinecolor": "#2a3f5f",
             "gridcolor": "white",
             "linecolor": "white",
             "minorgridcolor": "white",
             "startlinecolor": "#2a3f5f"
            },
            "type": "carpet"
           }
          ],
          "choropleth": [
           {
            "colorbar": {
             "outlinewidth": 0,
             "ticks": ""
            },
            "type": "choropleth"
           }
          ],
          "contour": [
           {
            "colorbar": {
             "outlinewidth": 0,
             "ticks": ""
            },
            "colorscale": [
             [
              0,
              "#0d0887"
             ],
             [
              0.1111111111111111,
              "#46039f"
             ],
             [
              0.2222222222222222,
              "#7201a8"
             ],
             [
              0.3333333333333333,
              "#9c179e"
             ],
             [
              0.4444444444444444,
              "#bd3786"
             ],
             [
              0.5555555555555556,
              "#d8576b"
             ],
             [
              0.6666666666666666,
              "#ed7953"
             ],
             [
              0.7777777777777778,
              "#fb9f3a"
             ],
             [
              0.8888888888888888,
              "#fdca26"
             ],
             [
              1,
              "#f0f921"
             ]
            ],
            "type": "contour"
           }
          ],
          "contourcarpet": [
           {
            "colorbar": {
             "outlinewidth": 0,
             "ticks": ""
            },
            "type": "contourcarpet"
           }
          ],
          "heatmap": [
           {
            "colorbar": {
             "outlinewidth": 0,
             "ticks": ""
            },
            "colorscale": [
             [
              0,
              "#0d0887"
             ],
             [
              0.1111111111111111,
              "#46039f"
             ],
             [
              0.2222222222222222,
              "#7201a8"
             ],
             [
              0.3333333333333333,
              "#9c179e"
             ],
             [
              0.4444444444444444,
              "#bd3786"
             ],
             [
              0.5555555555555556,
              "#d8576b"
             ],
             [
              0.6666666666666666,
              "#ed7953"
             ],
             [
              0.7777777777777778,
              "#fb9f3a"
             ],
             [
              0.8888888888888888,
              "#fdca26"
             ],
             [
              1,
              "#f0f921"
             ]
            ],
            "type": "heatmap"
           }
          ],
          "heatmapgl": [
           {
            "colorbar": {
             "outlinewidth": 0,
             "ticks": ""
            },
            "colorscale": [
             [
              0,
              "#0d0887"
             ],
             [
              0.1111111111111111,
              "#46039f"
             ],
             [
              0.2222222222222222,
              "#7201a8"
             ],
             [
              0.3333333333333333,
              "#9c179e"
             ],
             [
              0.4444444444444444,
              "#bd3786"
             ],
             [
              0.5555555555555556,
              "#d8576b"
             ],
             [
              0.6666666666666666,
              "#ed7953"
             ],
             [
              0.7777777777777778,
              "#fb9f3a"
             ],
             [
              0.8888888888888888,
              "#fdca26"
             ],
             [
              1,
              "#f0f921"
             ]
            ],
            "type": "heatmapgl"
           }
          ],
          "histogram": [
           {
            "marker": {
             "pattern": {
              "fillmode": "overlay",
              "size": 10,
              "solidity": 0.2
             }
            },
            "type": "histogram"
           }
          ],
          "histogram2d": [
           {
            "colorbar": {
             "outlinewidth": 0,
             "ticks": ""
            },
            "colorscale": [
             [
              0,
              "#0d0887"
             ],
             [
              0.1111111111111111,
              "#46039f"
             ],
             [
              0.2222222222222222,
              "#7201a8"
             ],
             [
              0.3333333333333333,
              "#9c179e"
             ],
             [
              0.4444444444444444,
              "#bd3786"
             ],
             [
              0.5555555555555556,
              "#d8576b"
             ],
             [
              0.6666666666666666,
              "#ed7953"
             ],
             [
              0.7777777777777778,
              "#fb9f3a"
             ],
             [
              0.8888888888888888,
              "#fdca26"
             ],
             [
              1,
              "#f0f921"
             ]
            ],
            "type": "histogram2d"
           }
          ],
          "histogram2dcontour": [
           {
            "colorbar": {
             "outlinewidth": 0,
             "ticks": ""
            },
            "colorscale": [
             [
              0,
              "#0d0887"
             ],
             [
              0.1111111111111111,
              "#46039f"
             ],
             [
              0.2222222222222222,
              "#7201a8"
             ],
             [
              0.3333333333333333,
              "#9c179e"
             ],
             [
              0.4444444444444444,
              "#bd3786"
             ],
             [
              0.5555555555555556,
              "#d8576b"
             ],
             [
              0.6666666666666666,
              "#ed7953"
             ],
             [
              0.7777777777777778,
              "#fb9f3a"
             ],
             [
              0.8888888888888888,
              "#fdca26"
             ],
             [
              1,
              "#f0f921"
             ]
            ],
            "type": "histogram2dcontour"
           }
          ],
          "mesh3d": [
           {
            "colorbar": {
             "outlinewidth": 0,
             "ticks": ""
            },
            "type": "mesh3d"
           }
          ],
          "parcoords": [
           {
            "line": {
             "colorbar": {
              "outlinewidth": 0,
              "ticks": ""
             }
            },
            "type": "parcoords"
           }
          ],
          "pie": [
           {
            "automargin": true,
            "type": "pie"
           }
          ],
          "scatter": [
           {
            "fillpattern": {
             "fillmode": "overlay",
             "size": 10,
             "solidity": 0.2
            },
            "type": "scatter"
           }
          ],
          "scatter3d": [
           {
            "line": {
             "colorbar": {
              "outlinewidth": 0,
              "ticks": ""
             }
            },
            "marker": {
             "colorbar": {
              "outlinewidth": 0,
              "ticks": ""
             }
            },
            "type": "scatter3d"
           }
          ],
          "scattercarpet": [
           {
            "marker": {
             "colorbar": {
              "outlinewidth": 0,
              "ticks": ""
             }
            },
            "type": "scattercarpet"
           }
          ],
          "scattergeo": [
           {
            "marker": {
             "colorbar": {
              "outlinewidth": 0,
              "ticks": ""
             }
            },
            "type": "scattergeo"
           }
          ],
          "scattergl": [
           {
            "marker": {
             "colorbar": {
              "outlinewidth": 0,
              "ticks": ""
             }
            },
            "type": "scattergl"
           }
          ],
          "scattermapbox": [
           {
            "marker": {
             "colorbar": {
              "outlinewidth": 0,
              "ticks": ""
             }
            },
            "type": "scattermapbox"
           }
          ],
          "scatterpolar": [
           {
            "marker": {
             "colorbar": {
              "outlinewidth": 0,
              "ticks": ""
             }
            },
            "type": "scatterpolar"
           }
          ],
          "scatterpolargl": [
           {
            "marker": {
             "colorbar": {
              "outlinewidth": 0,
              "ticks": ""
             }
            },
            "type": "scatterpolargl"
           }
          ],
          "scatterternary": [
           {
            "marker": {
             "colorbar": {
              "outlinewidth": 0,
              "ticks": ""
             }
            },
            "type": "scatterternary"
           }
          ],
          "surface": [
           {
            "colorbar": {
             "outlinewidth": 0,
             "ticks": ""
            },
            "colorscale": [
             [
              0,
              "#0d0887"
             ],
             [
              0.1111111111111111,
              "#46039f"
             ],
             [
              0.2222222222222222,
              "#7201a8"
             ],
             [
              0.3333333333333333,
              "#9c179e"
             ],
             [
              0.4444444444444444,
              "#bd3786"
             ],
             [
              0.5555555555555556,
              "#d8576b"
             ],
             [
              0.6666666666666666,
              "#ed7953"
             ],
             [
              0.7777777777777778,
              "#fb9f3a"
             ],
             [
              0.8888888888888888,
              "#fdca26"
             ],
             [
              1,
              "#f0f921"
             ]
            ],
            "type": "surface"
           }
          ],
          "table": [
           {
            "cells": {
             "fill": {
              "color": "#EBF0F8"
             },
             "line": {
              "color": "white"
             }
            },
            "header": {
             "fill": {
              "color": "#C8D4E3"
             },
             "line": {
              "color": "white"
             }
            },
            "type": "table"
           }
          ]
         },
         "layout": {
          "annotationdefaults": {
           "arrowcolor": "#2a3f5f",
           "arrowhead": 0,
           "arrowwidth": 1
          },
          "autotypenumbers": "strict",
          "coloraxis": {
           "colorbar": {
            "outlinewidth": 0,
            "ticks": ""
           }
          },
          "colorscale": {
           "diverging": [
            [
             0,
             "#8e0152"
            ],
            [
             0.1,
             "#c51b7d"
            ],
            [
             0.2,
             "#de77ae"
            ],
            [
             0.3,
             "#f1b6da"
            ],
            [
             0.4,
             "#fde0ef"
            ],
            [
             0.5,
             "#f7f7f7"
            ],
            [
             0.6,
             "#e6f5d0"
            ],
            [
             0.7,
             "#b8e186"
            ],
            [
             0.8,
             "#7fbc41"
            ],
            [
             0.9,
             "#4d9221"
            ],
            [
             1,
             "#276419"
            ]
           ],
           "sequential": [
            [
             0,
             "#0d0887"
            ],
            [
             0.1111111111111111,
             "#46039f"
            ],
            [
             0.2222222222222222,
             "#7201a8"
            ],
            [
             0.3333333333333333,
             "#9c179e"
            ],
            [
             0.4444444444444444,
             "#bd3786"
            ],
            [
             0.5555555555555556,
             "#d8576b"
            ],
            [
             0.6666666666666666,
             "#ed7953"
            ],
            [
             0.7777777777777778,
             "#fb9f3a"
            ],
            [
             0.8888888888888888,
             "#fdca26"
            ],
            [
             1,
             "#f0f921"
            ]
           ],
           "sequentialminus": [
            [
             0,
             "#0d0887"
            ],
            [
             0.1111111111111111,
             "#46039f"
            ],
            [
             0.2222222222222222,
             "#7201a8"
            ],
            [
             0.3333333333333333,
             "#9c179e"
            ],
            [
             0.4444444444444444,
             "#bd3786"
            ],
            [
             0.5555555555555556,
             "#d8576b"
            ],
            [
             0.6666666666666666,
             "#ed7953"
            ],
            [
             0.7777777777777778,
             "#fb9f3a"
            ],
            [
             0.8888888888888888,
             "#fdca26"
            ],
            [
             1,
             "#f0f921"
            ]
           ]
          },
          "colorway": [
           "#636efa",
           "#EF553B",
           "#00cc96",
           "#ab63fa",
           "#FFA15A",
           "#19d3f3",
           "#FF6692",
           "#B6E880",
           "#FF97FF",
           "#FECB52"
          ],
          "font": {
           "color": "#2a3f5f"
          },
          "geo": {
           "bgcolor": "white",
           "lakecolor": "white",
           "landcolor": "#E5ECF6",
           "showlakes": true,
           "showland": true,
           "subunitcolor": "white"
          },
          "hoverlabel": {
           "align": "left"
          },
          "hovermode": "closest",
          "mapbox": {
           "style": "light"
          },
          "paper_bgcolor": "white",
          "plot_bgcolor": "#E5ECF6",
          "polar": {
           "angularaxis": {
            "gridcolor": "white",
            "linecolor": "white",
            "ticks": ""
           },
           "bgcolor": "#E5ECF6",
           "radialaxis": {
            "gridcolor": "white",
            "linecolor": "white",
            "ticks": ""
           }
          },
          "scene": {
           "xaxis": {
            "backgroundcolor": "#E5ECF6",
            "gridcolor": "white",
            "gridwidth": 2,
            "linecolor": "white",
            "showbackground": true,
            "ticks": "",
            "zerolinecolor": "white"
           },
           "yaxis": {
            "backgroundcolor": "#E5ECF6",
            "gridcolor": "white",
            "gridwidth": 2,
            "linecolor": "white",
            "showbackground": true,
            "ticks": "",
            "zerolinecolor": "white"
           },
           "zaxis": {
            "backgroundcolor": "#E5ECF6",
            "gridcolor": "white",
            "gridwidth": 2,
            "linecolor": "white",
            "showbackground": true,
            "ticks": "",
            "zerolinecolor": "white"
           }
          },
          "shapedefaults": {
           "line": {
            "color": "#2a3f5f"
           }
          },
          "ternary": {
           "aaxis": {
            "gridcolor": "white",
            "linecolor": "white",
            "ticks": ""
           },
           "baxis": {
            "gridcolor": "white",
            "linecolor": "white",
            "ticks": ""
           },
           "bgcolor": "#E5ECF6",
           "caxis": {
            "gridcolor": "white",
            "linecolor": "white",
            "ticks": ""
           }
          },
          "title": {
           "x": 0.05
          },
          "xaxis": {
           "automargin": true,
           "gridcolor": "white",
           "linecolor": "white",
           "ticks": "",
           "title": {
            "standoff": 15
           },
           "zerolinecolor": "white",
           "zerolinewidth": 2
          },
          "yaxis": {
           "automargin": true,
           "gridcolor": "white",
           "linecolor": "white",
           "ticks": "",
           "title": {
            "standoff": 15
           },
           "zerolinecolor": "white",
           "zerolinewidth": 2
          }
         }
        },
        "xaxis": {
         "range": [
          0.08399999999999999,
          0.21000000000000002
         ],
         "tickformat": ".0%",
         "title": {
          "text": "Standard Deviation"
         }
        },
        "yaxis": {
         "range": [
          0.034999999999999996,
          0.10500000000000001
         ],
         "tickformat": ".0%",
         "title": {
          "text": "Expected Return"
         }
        }
       }
      }
     },
     "metadata": {},
     "output_type": "display_data"
    }
   ],
   "source": [
    "\n",
    "##### Plot non-rebalanced portfolios in expected return-stdev space\n",
    "fig = go.Figure()  \n",
    "\n",
    "# Plot assets\n",
    "for i in np.arange(len(mns)):\n",
    "    trace = go.Scatter(x=[sds[i]], y=[mns[i]], mode=\"markers\", hovertemplate=\"Asset \"+str(i+1),marker=dict(size=10, color=\"red\"), name=\"Asset \"+str(i+1)) \n",
    "    fig.add_trace(trace)\n",
    "\n",
    "# Plot frontier\n",
    "string = \"<br>\"\n",
    "string += \"Asset 1: %{customdata[0]:.1%}<br>\"\n",
    "string += \"Asset 2: %{customdata[1]:.1%}<br>\"\n",
    "string += \"Asset 3: %{customdata[2]:.1%}<br>\"\n",
    "string += \"<extra></extra>\"\n",
    "trace0 = go.Scatter(x=sd_frontier, y=mn_frontier, mode=\"lines\", customdata=wgts_frontier, hovertemplate=string, marker=dict(size=10, color=\"blue\"), name=\"Frontier\")       \n",
    "fig.add_trace(trace0)\n",
    "\n",
    "# Plot tangency\n",
    "string = \"<br>Tangency Portfolio:<br>\"\n",
    "string += \"Asset 1: %{customdata[0]:.1%}<br>\"\n",
    "string += \"Asset 2: %{customdata[1]:.1%}<br>\"\n",
    "string += \"Asset 3: %{customdata[2]:.1%}<br>\"\n",
    "string += \"Sharpe ratio: %{text:.4f}<br>\"\n",
    "string += \"<extra></extra>\"\n",
    "trace1 = go.Scatter(x=[sdTang], y=[mnTang], mode=\"markers\", text = [srTang], customdata=[wgts_tangency], hovertemplate=string, marker=dict(size=10, color=\"blue\"), name=\"Tangency\")   \n",
    "fig.add_trace(trace1)\n",
    "\n",
    "# Plot first five-years of non-rebalanced portfolios\n",
    "string = \"<br>Year %[x:.0f}<br>\"\n",
    "string += \"Asset 1: %{customdata[0]:.1%}<br>\"\n",
    "string += \"Asset 2: %{customdata[1]:.1%}<br>\"\n",
    "string += \"Asset 3: %{customdata[2]:.1%}<br>\"\n",
    "string += \"Sharpe ratio: %{customdata[3]:.4f}<br>\"\n",
    "string += \"<extra></extra>\"\n",
    "cd_cols = ['beg_wgt' + str(i) for i in range(len(mns))]+['sharpe ratio']\n",
    "for i in rets.index[1:5]:\n",
    "    trace = go.Scatter(x=[rets.loc[i,'sd_pret']], y=[rets.loc[i,'exp_pret']], mode=\"markers\", \n",
    "        customdata=rets.loc[i,cd_cols], hovertemplate=\"Year \"+str(i),marker=dict(size=10, color=\"black\"), name=\"Year \"+str(i)) \n",
    "    fig.add_trace(trace)\n",
    "\n",
    "fig.layout.xaxis[\"title\"] = \"Standard Deviation\"\n",
    "fig.layout.yaxis[\"title\"] = \"Expected Return\"\n",
    "fig.update_xaxes(range=[0.7*sds.min(), 1.05*sds.max()])\n",
    "fig.update_yaxes(range=[0.7*mns.min(), 1.05*mns.max()])\n",
    "fig.update_yaxes(tickformat=\".0%\")\n",
    "fig.update_xaxes(tickformat=\".0%\")\n",
    "fig.update_layout(legend=dict(yanchor=\"top\", y =0.95, xanchor=\"left\", x=0.05))\n",
    "fig.show()"
   ]
  },
  {
   "cell_type": "code",
   "execution_count": 106,
   "metadata": {},
   "outputs": [
    {
     "data": {
      "application/vnd.plotly.v1+json": {
       "config": {
        "plotlyServerURL": "https://plot.ly"
       },
       "data": [
        {
         "customdata": [
          [
           -0.10259849119865877,
           0.8461022632020117,
           0.2564962279966471
          ],
          [
           -0.07919272680379127,
           0.8171083456917487,
           0.2620843811120424
          ],
          [
           -0.055786962408923835,
           0.788114428181486,
           0.2676725342274378
          ],
          [
           -0.03238119801405634,
           0.759120510671223,
           0.27326068734283315
          ],
          [
           -0.00897543361918876,
           0.7301265931609602,
           0.27884884045822855
          ],
          [
           0.01443033077567861,
           0.7011326756506974,
           0.28443699357362384
          ],
          [
           0.03783609517054616,
           0.6721387581404344,
           0.2900251466890193
          ],
          [
           0.06124185956541358,
           0.6431448406301717,
           0.29561329980441464
          ],
          [
           0.0846476239602811,
           0.6141509231199088,
           0.30120145291981004
          ],
          [
           0.10805338835514862,
           0.5851570056096459,
           0.3067896060352054
          ],
          [
           0.13145915275001602,
           0.5561630880993832,
           0.31237775915060073
          ],
          [
           0.1548649171448837,
           0.5271691705891202,
           0.3179659122659962
          ],
          [
           0.1782706815397511,
           0.4981752530788574,
           0.32355406538139153
          ],
          [
           0.2016764459346185,
           0.46918133556859465,
           0.3291422184967869
          ],
          [
           0.22508221032948617,
           0.44018741805833156,
           0.3347303716121823
          ],
          [
           0.24848797472435358,
           0.4111935005480688,
           0.3403185247275776
          ],
          [
           0.271893739119221,
           0.3821995830378061,
           0.34590667784297296
          ],
          [
           0.2952995035140884,
           0.35320566552754334,
           0.3514948309583683
          ],
          [
           0.31870526790895604,
           0.32421174801728025,
           0.3570829840737637
          ],
          [
           0.34211103230382345,
           0.29521783050701755,
           0.3626711371891591
          ],
          [
           0.3655167966986911,
           0.26622391299675446,
           0.3682592903045545
          ],
          [
           0.38892256109355855,
           0.2372299954864917,
           0.37384744341994985
          ],
          [
           0.41232832548842585,
           0.20823607797622895,
           0.37943559653534514
          ],
          [
           0.4357340898832933,
           0.1792421604659663,
           0.3850237496507405
          ],
          [
           0.45913985427816106,
           0.15024824295570316,
           0.3906119027661361
          ],
          [
           0.4825456186730284,
           0.12125432544544035,
           0.39620005588153134
          ],
          [
           0.505951383067896,
           0.09226040793517742,
           0.4017882089969267
          ],
          [
           0.5293571474627635,
           0.06326649042491472,
           0.4073763621123222
          ],
          [
           0.5527629118576309,
           0.0342725729146518,
           0.41296451522771743
          ],
          [
           0.5761686762524983,
           0.005278655404389099,
           0.4185526683431127
          ],
          [
           0.599574440647366,
           -0.023715262105873824,
           0.42414082145850823
          ],
          [
           0.6229802050422334,
           -0.052709179616136526,
           0.4297289745739037
          ],
          [
           0.6463859694371009,
           -0.08170309712639989,
           0.4353171276892989
          ],
          [
           0.6697917338319683,
           -0.11069701463666248,
           0.44090528080469427
          ],
          [
           0.6931974982268359,
           -0.13969093214692518,
           0.4464934339200899
          ],
          [
           0.7166032626217033,
           -0.168684849657188,
           0.45208158703548496
          ],
          [
           0.7400090270165709,
           -0.19767876716745092,
           0.45766974015088047
          ],
          [
           0.7634147914114383,
           -0.22667268467771384,
           0.46325789326627587
          ],
          [
           0.7868205558063059,
           -0.25566660218797677,
           0.46884604638167116
          ],
          [
           0.8102263202011734,
           -0.2846605196982397,
           0.47443419949706667
          ]
         ],
         "hovertemplate": "<br>Asset 1: %{customdata[0]:.1%}<br>Asset 2: %{customdata[1]:.1%}<br>Asset 3: %{customdata[2]:.1%}<br><extra></extra>",
         "marker": {
          "color": "blue",
          "size": 10
         },
         "mode": "lines",
         "type": "scatter",
         "x": [
          0.11327066294791656,
          0.11143682839192887,
          0.10980526927681426,
          0.10838512075633333,
          0.10718478643579055,
          0.10621171915903108,
          0.10547220928594198,
          0.10497119308699886,
          0.10471209398187126,
          0.10469670804537395,
          0.10492514248986322,
          0.10539581196142342,
          0.1061054929445556,
          0.10704943198595845,
          0.10822149946076033,
          0.1096143777251148,
          0.11121977101263394,
          0.11302862436414551,
          0.11503134002831265,
          0.11721798178298948,
          0.11957846009777437,
          0.12210269361051203,
          0.12478074473267065,
          0.1276029291460312,
          0.13055990042415014,
          0.13364271200626962,
          0.13684285932238938,
          0.14015230509761004,
          0.14356349084056735,
          0.14706933732765495,
          0.15066323660127334,
          0.1543390376601356,
          0.15809102767093403,
          0.16191391019846657,
          0.16580278165028467,
          0.16975310686905448,
          0.1737606945828978,
          0.1778216732394433,
          0.18193246759973708,
          0.18608977634919446
         ],
         "y": [
          0.05000000000000001,
          0.05128205128205129,
          0.05256410256410257,
          0.053846153846153835,
          0.055128205128205134,
          0.0564102564102564,
          0.057692307692307696,
          0.05897435897435897,
          0.060256410256410264,
          0.061538461538461535,
          0.06282051282051282,
          0.06410256410256411,
          0.0653846153846154,
          0.06666666666666667,
          0.06794871794871796,
          0.06923076923076923,
          0.07051282051282051,
          0.07179487179487179,
          0.07307692307692308,
          0.07435897435897437,
          0.07564102564102565,
          0.07692307692307694,
          0.07820512820512819,
          0.07948717948717948,
          0.08076923076923079,
          0.08205128205128207,
          0.08333333333333334,
          0.08461538461538465,
          0.08589743589743591,
          0.08717948717948719,
          0.0884615384615385,
          0.08974358974358977,
          0.09102564102564102,
          0.09230769230769231,
          0.09358974358974362,
          0.09487179487179487,
          0.09615384615384617,
          0.09743589743589745,
          0.09871794871794876,
          0.10000000000000003
         ]
        },
        {
         "customdata": [
          [
           -0.10259849119865877,
           0.8461022632020117,
           0.2564962279966471
          ],
          [
           -0.07919272680379127,
           0.8171083456917487,
           0.2620843811120424
          ],
          [
           -0.055786962408923835,
           0.788114428181486,
           0.2676725342274378
          ],
          [
           -0.03238119801405634,
           0.759120510671223,
           0.27326068734283315
          ],
          [
           -0.00897543361918876,
           0.7301265931609602,
           0.27884884045822855
          ],
          [
           0.01443033077567861,
           0.7011326756506974,
           0.28443699357362384
          ],
          [
           0.03783609517054616,
           0.6721387581404344,
           0.2900251466890193
          ],
          [
           0.06124185956541358,
           0.6431448406301717,
           0.29561329980441464
          ],
          [
           0.0846476239602811,
           0.6141509231199088,
           0.30120145291981004
          ],
          [
           0.10805338835514862,
           0.5851570056096459,
           0.3067896060352054
          ],
          [
           0.13145915275001602,
           0.5561630880993832,
           0.31237775915060073
          ],
          [
           0.1548649171448837,
           0.5271691705891202,
           0.3179659122659962
          ],
          [
           0.1782706815397511,
           0.4981752530788574,
           0.32355406538139153
          ],
          [
           0.2016764459346185,
           0.46918133556859465,
           0.3291422184967869
          ],
          [
           0.22508221032948617,
           0.44018741805833156,
           0.3347303716121823
          ],
          [
           0.24848797472435358,
           0.4111935005480688,
           0.3403185247275776
          ],
          [
           0.271893739119221,
           0.3821995830378061,
           0.34590667784297296
          ],
          [
           0.2952995035140884,
           0.35320566552754334,
           0.3514948309583683
          ],
          [
           0.31870526790895604,
           0.32421174801728025,
           0.3570829840737637
          ],
          [
           0.34211103230382345,
           0.29521783050701755,
           0.3626711371891591
          ],
          [
           0.3655167966986911,
           0.26622391299675446,
           0.3682592903045545
          ],
          [
           0.38892256109355855,
           0.2372299954864917,
           0.37384744341994985
          ],
          [
           0.41232832548842585,
           0.20823607797622895,
           0.37943559653534514
          ],
          [
           0.4357340898832933,
           0.1792421604659663,
           0.3850237496507405
          ],
          [
           0.45913985427816106,
           0.15024824295570316,
           0.3906119027661361
          ],
          [
           0.4825456186730284,
           0.12125432544544035,
           0.39620005588153134
          ],
          [
           0.505951383067896,
           0.09226040793517742,
           0.4017882089969267
          ],
          [
           0.5293571474627635,
           0.06326649042491472,
           0.4073763621123222
          ],
          [
           0.5527629118576309,
           0.0342725729146518,
           0.41296451522771743
          ],
          [
           0.5761686762524983,
           0.005278655404389099,
           0.4185526683431127
          ],
          [
           0.599574440647366,
           -0.023715262105873824,
           0.42414082145850823
          ],
          [
           0.6229802050422334,
           -0.052709179616136526,
           0.4297289745739037
          ],
          [
           0.6463859694371009,
           -0.08170309712639989,
           0.4353171276892989
          ],
          [
           0.6697917338319683,
           -0.11069701463666248,
           0.44090528080469427
          ],
          [
           0.6931974982268359,
           -0.13969093214692518,
           0.4464934339200899
          ],
          [
           0.7166032626217033,
           -0.168684849657188,
           0.45208158703548496
          ],
          [
           0.7400090270165709,
           -0.19767876716745092,
           0.45766974015088047
          ],
          [
           0.7634147914114383,
           -0.22667268467771384,
           0.46325789326627587
          ],
          [
           0.7868205558063059,
           -0.25566660218797677,
           0.46884604638167116
          ],
          [
           0.8102263202011734,
           -0.2846605196982397,
           0.47443419949706667
          ]
         ],
         "hovertemplate": "<br>Asset 1: %{customdata[0]:.1%}<br>Asset 2: %{customdata[1]:.1%}<br>Asset 3: %{customdata[2]:.1%}<br><extra></extra>",
         "marker": {
          "color": "blue",
          "size": 10
         },
         "mode": "lines",
         "type": "scatter",
         "x": [
          0.11327066294791656,
          0.11143682839192887,
          0.10980526927681426,
          0.10838512075633333,
          0.10718478643579055,
          0.10621171915903108,
          0.10547220928594198,
          0.10497119308699886,
          0.10471209398187126,
          0.10469670804537395,
          0.10492514248986322,
          0.10539581196142342,
          0.1061054929445556,
          0.10704943198595845,
          0.10822149946076033,
          0.1096143777251148,
          0.11121977101263394,
          0.11302862436414551,
          0.11503134002831265,
          0.11721798178298948,
          0.11957846009777437,
          0.12210269361051203,
          0.12478074473267065,
          0.1276029291460312,
          0.13055990042415014,
          0.13364271200626962,
          0.13684285932238938,
          0.14015230509761004,
          0.14356349084056735,
          0.14706933732765495,
          0.15066323660127334,
          0.1543390376601356,
          0.15809102767093403,
          0.16191391019846657,
          0.16580278165028467,
          0.16975310686905448,
          0.1737606945828978,
          0.1778216732394433,
          0.18193246759973708,
          0.18608977634919446
         ],
         "y": [
          0.05000000000000001,
          0.05128205128205129,
          0.05256410256410257,
          0.053846153846153835,
          0.055128205128205134,
          0.0564102564102564,
          0.057692307692307696,
          0.05897435897435897,
          0.060256410256410264,
          0.061538461538461535,
          0.06282051282051282,
          0.06410256410256411,
          0.0653846153846154,
          0.06666666666666667,
          0.06794871794871796,
          0.06923076923076923,
          0.07051282051282051,
          0.07179487179487179,
          0.07307692307692308,
          0.07435897435897437,
          0.07564102564102565,
          0.07692307692307694,
          0.07820512820512819,
          0.07948717948717948,
          0.08076923076923079,
          0.08205128205128207,
          0.08333333333333334,
          0.08461538461538465,
          0.08589743589743591,
          0.08717948717948719,
          0.0884615384615385,
          0.08974358974358977,
          0.09102564102564102,
          0.09230769230769231,
          0.09358974358974362,
          0.09487179487179487,
          0.09615384615384617,
          0.09743589743589745,
          0.09871794871794876,
          0.10000000000000003
         ]
        },
        {
         "customdata": [
          [
           0.41180371352785133,
           0.20888594164456242,
           0.3793103448275863
          ]
         ],
         "hovertemplate": "<br>Tangency Portfolio:<br>Asset 1: %{customdata[0]:.1%}<br>Asset 2: %{customdata[1]:.1%}<br>Asset 3: %{customdata[2]:.1%}<br>Sharpe ratio: %{text:.4f}<br><extra></extra>",
         "marker": {
          "color": "blue",
          "size": 10
         },
         "mode": "markers",
         "text": [
          "0.4664593502083814"
         ],
         "type": "scatter",
         "x": [
          0.12471910477720118
         ],
         "y": [
          0.0781763925729443
         ]
        },
        {
         "hovertemplate": "Asset 1<extra></extra>",
         "marker": {
          "color": "red",
          "size": 10
         },
         "mode": "markers",
         "type": "scatter",
         "x": [
          0.2
         ],
         "y": [
          0.1
         ]
        },
        {
         "hovertemplate": "Asset 2<extra></extra>",
         "marker": {
          "color": "red",
          "size": 10
         },
         "mode": "markers",
         "type": "scatter",
         "x": [
          0.12
         ],
         "y": [
          0.05
         ]
        },
        {
         "hovertemplate": "Asset 3<extra></extra>",
         "marker": {
          "color": "red",
          "size": 10
         },
         "mode": "markers",
         "type": "scatter",
         "x": [
          0.15
         ],
         "y": [
          0.07
         ]
        }
       ],
       "frames": [
        {
         "data": [
          {
           "hovertemplate": "Year 1<extra></extra>",
           "marker": {
            "color": "black",
            "size": 10
           },
           "mode": "markers",
           "type": "scatter",
           "x": [
            0.12471910477720118
           ],
           "y": [
            0.0781763925729443
           ]
          }
         ],
         "layout": {
          "annotations": [
           {
            "showarrow": false,
            "text": "Year 1<br>Sharpe ratio: 0.4665",
            "x": 0.12471910477720118,
            "xref": "x",
            "y": 0.08599403183023874,
            "yref": "y"
           }
          ]
         }
        },
        {
         "data": [
          {
           "hovertemplate": "Year 2<extra></extra>",
           "marker": {
            "color": "black",
            "size": 10
           },
           "mode": "markers",
           "type": "scatter",
           "x": [
            0.12219833992528471
           ],
           "y": [
            0.07668336622705829
           ]
          }
         ],
         "layout": {
          "annotations": [
           {
            "showarrow": false,
            "text": "Year 2<br>Sharpe ratio: 0.4639",
            "x": 0.12471910477720118,
            "xref": "x",
            "y": 0.08599403183023874,
            "yref": "y"
           }
          ]
         }
        },
        {
         "data": [
          {
           "hovertemplate": "Year 3<extra></extra>",
           "marker": {
            "color": "black",
            "size": 10
           },
           "mode": "markers",
           "type": "scatter",
           "x": [
            0.12173109520183492
           ],
           "y": [
            0.07626869271589991
           ]
          }
         ],
         "layout": {
          "annotations": [
           {
            "showarrow": false,
            "text": "Year 3<br>Sharpe ratio: 0.4622",
            "x": 0.12471910477720118,
            "xref": "x",
            "y": 0.08599403183023874,
            "yref": "y"
           }
          ]
         }
        },
        {
         "data": [
          {
           "hovertemplate": "Year 4<extra></extra>",
           "marker": {
            "color": "black",
            "size": 10
           },
           "mode": "markers",
           "type": "scatter",
           "x": [
            0.1198765555309026
           ],
           "y": [
            0.07465025107074395
           ]
          }
         ],
         "layout": {
          "annotations": [
           {
            "showarrow": false,
            "text": "Year 4<br>Sharpe ratio: 0.4559",
            "x": 0.12471910477720118,
            "xref": "x",
            "y": 0.08599403183023874,
            "yref": "y"
           }
          ]
         }
        },
        {
         "data": [
          {
           "hovertemplate": "Year 5<extra></extra>",
           "marker": {
            "color": "black",
            "size": 10
           },
           "mode": "markers",
           "type": "scatter",
           "x": [
            0.11801880615626967
           ],
           "y": [
            0.07389705010671382
           ]
          }
         ],
         "layout": {
          "annotations": [
           {
            "showarrow": false,
            "text": "Year 5<br>Sharpe ratio: 0.4567",
            "x": 0.12471910477720118,
            "xref": "x",
            "y": 0.08599403183023874,
            "yref": "y"
           }
          ]
         }
        },
        {
         "data": [
          {
           "hovertemplate": "Year 6<extra></extra>",
           "marker": {
            "color": "black",
            "size": 10
           },
           "mode": "markers",
           "type": "scatter",
           "x": [
            0.1159285639757704
           ],
           "y": [
            0.07212175633453854
           ]
          }
         ],
         "layout": {
          "annotations": [
           {
            "showarrow": false,
            "text": "Year 6<br>Sharpe ratio: 0.4496",
            "x": 0.12471910477720118,
            "xref": "x",
            "y": 0.08599403183023874,
            "yref": "y"
           }
          ]
         }
        },
        {
         "data": [
          {
           "hovertemplate": "Year 7<extra></extra>",
           "marker": {
            "color": "black",
            "size": 10
           },
           "mode": "markers",
           "type": "scatter",
           "x": [
            0.12073510700271192
           ],
           "y": [
            0.0741328473723283
           ]
          }
         ],
         "layout": {
          "annotations": [
           {
            "showarrow": false,
            "text": "Year 7<br>Sharpe ratio: 0.4484",
            "x": 0.12471910477720118,
            "xref": "x",
            "y": 0.08599403183023874,
            "yref": "y"
           }
          ]
         }
        },
        {
         "data": [
          {
           "hovertemplate": "Year 8<extra></extra>",
           "marker": {
            "color": "black",
            "size": 10
           },
           "mode": "markers",
           "type": "scatter",
           "x": [
            0.12160400241376065
           ],
           "y": [
            0.0760174266626174
           ]
          }
         ],
         "layout": {
          "annotations": [
           {
            "showarrow": false,
            "text": "Year 8<br>Sharpe ratio: 0.4607",
            "x": 0.12471910477720118,
            "xref": "x",
            "y": 0.08599403183023874,
            "yref": "y"
           }
          ]
         }
        },
        {
         "data": [
          {
           "hovertemplate": "Year 9<extra></extra>",
           "marker": {
            "color": "black",
            "size": 10
           },
           "mode": "markers",
           "type": "scatter",
           "x": [
            0.12225994007260291
           ],
           "y": [
            0.07563460660448315
           ]
          }
         ],
         "layout": {
          "annotations": [
           {
            "showarrow": false,
            "text": "Year 9<br>Sharpe ratio: 0.4551",
            "x": 0.12471910477720118,
            "xref": "x",
            "y": 0.08599403183023874,
            "yref": "y"
           }
          ]
         }
        },
        {
         "data": [
          {
           "hovertemplate": "Year 10<extra></extra>",
           "marker": {
            "color": "black",
            "size": 10
           },
           "mode": "markers",
           "type": "scatter",
           "x": [
            0.12222857547500485
           ],
           "y": [
            0.07546757764877442
           ]
          }
         ],
         "layout": {
          "annotations": [
           {
            "showarrow": false,
            "text": "Year 10<br>Sharpe ratio: 0.4538",
            "x": 0.12471910477720118,
            "xref": "x",
            "y": 0.08599403183023874,
            "yref": "y"
           }
          ]
         }
        },
        {
         "data": [
          {
           "hovertemplate": "Year 11<extra></extra>",
           "marker": {
            "color": "black",
            "size": 10
           },
           "mode": "markers",
           "type": "scatter",
           "x": [
            0.12351311570147236
           ],
           "y": [
            0.07616815876573962
           ]
          }
         ],
         "layout": {
          "annotations": [
           {
            "showarrow": false,
            "text": "Year 11<br>Sharpe ratio: 0.4548",
            "x": 0.12471910477720118,
            "xref": "x",
            "y": 0.08599403183023874,
            "yref": "y"
           }
          ]
         }
        },
        {
         "data": [
          {
           "hovertemplate": "Year 12<extra></extra>",
           "marker": {
            "color": "black",
            "size": 10
           },
           "mode": "markers",
           "type": "scatter",
           "x": [
            0.12203173325285298
           ],
           "y": [
            0.0741986825405158
           ]
          }
         ],
         "layout": {
          "annotations": [
           {
            "showarrow": false,
            "text": "Year 12<br>Sharpe ratio: 0.4441",
            "x": 0.12471910477720118,
            "xref": "x",
            "y": 0.08599403183023874,
            "yref": "y"
           }
          ]
         }
        },
        {
         "data": [
          {
           "hovertemplate": "Year 13<extra></extra>",
           "marker": {
            "color": "black",
            "size": 10
           },
           "mode": "markers",
           "type": "scatter",
           "x": [
            0.12486152369933864
           ],
           "y": [
            0.07380611597835422
           ]
          }
         ],
         "layout": {
          "annotations": [
           {
            "showarrow": false,
            "text": "Year 13<br>Sharpe ratio: 0.4309",
            "x": 0.12471910477720118,
            "xref": "x",
            "y": 0.08599403183023874,
            "yref": "y"
           }
          ]
         }
        },
        {
         "data": [
          {
           "hovertemplate": "Year 14<extra></extra>",
           "marker": {
            "color": "black",
            "size": 10
           },
           "mode": "markers",
           "type": "scatter",
           "x": [
            0.12428229886247476
           ],
           "y": [
            0.07331830868840822
           ]
          }
         ],
         "layout": {
          "annotations": [
           {
            "showarrow": false,
            "text": "Year 14<br>Sharpe ratio: 0.429",
            "x": 0.12471910477720118,
            "xref": "x",
            "y": 0.08599403183023874,
            "yref": "y"
           }
          ]
         }
        },
        {
         "data": [
          {
           "hovertemplate": "Year 15<extra></extra>",
           "marker": {
            "color": "black",
            "size": 10
           },
           "mode": "markers",
           "type": "scatter",
           "x": [
            0.12488698562651261
           ],
           "y": [
            0.07424626536839679
           ]
          }
         ],
         "layout": {
          "annotations": [
           {
            "showarrow": false,
            "text": "Year 15<br>Sharpe ratio: 0.4344",
            "x": 0.12471910477720118,
            "xref": "x",
            "y": 0.08599403183023874,
            "yref": "y"
           }
          ]
         }
        },
        {
         "data": [
          {
           "hovertemplate": "Year 16<extra></extra>",
           "marker": {
            "color": "black",
            "size": 10
           },
           "mode": "markers",
           "type": "scatter",
           "x": [
            0.12591988996023412
           ],
           "y": [
            0.07465469361890185
           ]
          }
         ],
         "layout": {
          "annotations": [
           {
            "showarrow": false,
            "text": "Year 16<br>Sharpe ratio: 0.434",
            "x": 0.12471910477720118,
            "xref": "x",
            "y": 0.08599403183023874,
            "yref": "y"
           }
          ]
         }
        },
        {
         "data": [
          {
           "hovertemplate": "Year 17<extra></extra>",
           "marker": {
            "color": "black",
            "size": 10
           },
           "mode": "markers",
           "type": "scatter",
           "x": [
            0.12494914847309642
           ],
           "y": [
            0.07504921863600353
           ]
          }
         ],
         "layout": {
          "annotations": [
           {
            "showarrow": false,
            "text": "Year 17<br>Sharpe ratio: 0.4406",
            "x": 0.12471910477720118,
            "xref": "x",
            "y": 0.08599403183023874,
            "yref": "y"
           }
          ]
         }
        },
        {
         "data": [
          {
           "hovertemplate": "Year 18<extra></extra>",
           "marker": {
            "color": "black",
            "size": 10
           },
           "mode": "markers",
           "type": "scatter",
           "x": [
            0.1251714352973342
           ],
           "y": [
            0.07450681996104051
           ]
          }
         ],
         "layout": {
          "annotations": [
           {
            "showarrow": false,
            "text": "Year 18<br>Sharpe ratio: 0.4355",
            "x": 0.12471910477720118,
            "xref": "x",
            "y": 0.08599403183023874,
            "yref": "y"
           }
          ]
         }
        },
        {
         "data": [
          {
           "hovertemplate": "Year 19<extra></extra>",
           "marker": {
            "color": "black",
            "size": 10
           },
           "mode": "markers",
           "type": "scatter",
           "x": [
            0.12449494794219565
           ],
           "y": [
            0.07496728418226851
           ]
          }
         ],
         "layout": {
          "annotations": [
           {
            "showarrow": false,
            "text": "Year 19<br>Sharpe ratio: 0.4415",
            "x": 0.12471910477720118,
            "xref": "x",
            "y": 0.08599403183023874,
            "yref": "y"
           }
          ]
         }
        },
        {
         "data": [
          {
           "hovertemplate": "Year 20<extra></extra>",
           "marker": {
            "color": "black",
            "size": 10
           },
           "mode": "markers",
           "type": "scatter",
           "x": [
            0.12474335065164811
           ],
           "y": [
            0.0757559003372256
           ]
          }
         ],
         "layout": {
          "annotations": [
           {
            "showarrow": false,
            "text": "Year 20<br>Sharpe ratio: 0.447",
            "x": 0.12471910477720118,
            "xref": "x",
            "y": 0.08599403183023874,
            "yref": "y"
           }
          ]
         }
        },
        {
         "data": [
          {
           "hovertemplate": "Year 21<extra></extra>",
           "marker": {
            "color": "black",
            "size": 10
           },
           "mode": "markers",
           "type": "scatter",
           "x": [
            0.12631954783332064
           ],
           "y": [
            0.07739011490057011
           ]
          }
         ],
         "layout": {
          "annotations": [
           {
            "showarrow": false,
            "text": "Year 21<br>Sharpe ratio: 0.4543",
            "x": 0.12471910477720118,
            "xref": "x",
            "y": 0.08599403183023874,
            "yref": "y"
           }
          ]
         }
        },
        {
         "data": [
          {
           "hovertemplate": "Year 22<extra></extra>",
           "marker": {
            "color": "black",
            "size": 10
           },
           "mode": "markers",
           "type": "scatter",
           "x": [
            0.12665008101540257
           ],
           "y": [
            0.07724953331706724
           ]
          }
         ],
         "layout": {
          "annotations": [
           {
            "showarrow": false,
            "text": "Year 22<br>Sharpe ratio: 0.452",
            "x": 0.12471910477720118,
            "xref": "x",
            "y": 0.08599403183023874,
            "yref": "y"
           }
          ]
         }
        },
        {
         "data": [
          {
           "hovertemplate": "Year 23<extra></extra>",
           "marker": {
            "color": "black",
            "size": 10
           },
           "mode": "markers",
           "type": "scatter",
           "x": [
            0.12544146882513654
           ],
           "y": [
            0.07347616450107877
           ]
          }
         ],
         "layout": {
          "annotations": [
           {
            "showarrow": false,
            "text": "Year 23<br>Sharpe ratio: 0.4263",
            "x": 0.12471910477720118,
            "xref": "x",
            "y": 0.08599403183023874,
            "yref": "y"
           }
          ]
         }
        },
        {
         "data": [
          {
           "hovertemplate": "Year 24<extra></extra>",
           "marker": {
            "color": "black",
            "size": 10
           },
           "mode": "markers",
           "type": "scatter",
           "x": [
            0.12430262965100092
           ],
           "y": [
            0.07445904498972047
           ]
          }
         ],
         "layout": {
          "annotations": [
           {
            "showarrow": false,
            "text": "Year 24<br>Sharpe ratio: 0.4381",
            "x": 0.12471910477720118,
            "xref": "x",
            "y": 0.08599403183023874,
            "yref": "y"
           }
          ]
         }
        },
        {
         "data": [
          {
           "hovertemplate": "Year 25<extra></extra>",
           "marker": {
            "color": "black",
            "size": 10
           },
           "mode": "markers",
           "type": "scatter",
           "x": [
            0.12356832025948356
           ],
           "y": [
            0.07294119523159079
           ]
          }
         ],
         "layout": {
          "annotations": [
           {
            "showarrow": false,
            "text": "Year 25<br>Sharpe ratio: 0.4284",
            "x": 0.12471910477720118,
            "xref": "x",
            "y": 0.08599403183023874,
            "yref": "y"
           }
          ]
         }
        },
        {
         "data": [
          {
           "hovertemplate": "Year 26<extra></extra>",
           "marker": {
            "color": "black",
            "size": 10
           },
           "mode": "markers",
           "type": "scatter",
           "x": [
            0.1256906389386141
           ],
           "y": [
            0.07367679555306819
           ]
          }
         ],
         "layout": {
          "annotations": [
           {
            "showarrow": false,
            "text": "Year 26<br>Sharpe ratio: 0.4271",
            "x": 0.12471910477720118,
            "xref": "x",
            "y": 0.08599403183023874,
            "yref": "y"
           }
          ]
         }
        },
        {
         "data": [
          {
           "hovertemplate": "Year 27<extra></extra>",
           "marker": {
            "color": "black",
            "size": 10
           },
           "mode": "markers",
           "type": "scatter",
           "x": [
            0.12645911077841304
           ],
           "y": [
            0.07435101757901928
           ]
          }
         ],
         "layout": {
          "annotations": [
           {
            "showarrow": false,
            "text": "Year 27<br>Sharpe ratio: 0.4298",
            "x": 0.12471910477720118,
            "xref": "x",
            "y": 0.08599403183023874,
            "yref": "y"
           }
          ]
         }
        },
        {
         "data": [
          {
           "hovertemplate": "Year 28<extra></extra>",
           "marker": {
            "color": "black",
            "size": 10
           },
           "mode": "markers",
           "type": "scatter",
           "x": [
            0.127895112258399
           ],
           "y": [
            0.0749017198147761
           ]
          }
         ],
         "layout": {
          "annotations": [
           {
            "showarrow": false,
            "text": "Year 28<br>Sharpe ratio: 0.4293",
            "x": 0.12471910477720118,
            "xref": "x",
            "y": 0.08599403183023874,
            "yref": "y"
           }
          ]
         }
        },
        {
         "data": [
          {
           "hovertemplate": "Year 29<extra></extra>",
           "marker": {
            "color": "black",
            "size": 10
           },
           "mode": "markers",
           "type": "scatter",
           "x": [
            0.12779428580015315
           ],
           "y": [
            0.07460748378811408
           ]
          }
         ],
         "layout": {
          "annotations": [
           {
            "showarrow": false,
            "text": "Year 29<br>Sharpe ratio: 0.4273",
            "x": 0.12471910477720118,
            "xref": "x",
            "y": 0.08599403183023874,
            "yref": "y"
           }
          ]
         }
        },
        {
         "data": [
          {
           "hovertemplate": "Year 30<extra></extra>",
           "marker": {
            "color": "black",
            "size": 10
           },
           "mode": "markers",
           "type": "scatter",
           "x": [
            0.12926140883523957
           ],
           "y": [
            0.073368669580584
           ]
          }
         ],
         "layout": {
          "annotations": [
           {
            "showarrow": false,
            "text": "Year 30<br>Sharpe ratio: 0.4129",
            "x": 0.12471910477720118,
            "xref": "x",
            "y": 0.08599403183023874,
            "yref": "y"
           }
          ]
         }
        }
       ],
       "layout": {
        "hovermode": "closest",
        "showlegend": false,
        "template": {
         "data": {
          "bar": [
           {
            "error_x": {
             "color": "#2a3f5f"
            },
            "error_y": {
             "color": "#2a3f5f"
            },
            "marker": {
             "line": {
              "color": "#E5ECF6",
              "width": 0.5
             },
             "pattern": {
              "fillmode": "overlay",
              "size": 10,
              "solidity": 0.2
             }
            },
            "type": "bar"
           }
          ],
          "barpolar": [
           {
            "marker": {
             "line": {
              "color": "#E5ECF6",
              "width": 0.5
             },
             "pattern": {
              "fillmode": "overlay",
              "size": 10,
              "solidity": 0.2
             }
            },
            "type": "barpolar"
           }
          ],
          "carpet": [
           {
            "aaxis": {
             "endlinecolor": "#2a3f5f",
             "gridcolor": "white",
             "linecolor": "white",
             "minorgridcolor": "white",
             "startlinecolor": "#2a3f5f"
            },
            "baxis": {
             "endlinecolor": "#2a3f5f",
             "gridcolor": "white",
             "linecolor": "white",
             "minorgridcolor": "white",
             "startlinecolor": "#2a3f5f"
            },
            "type": "carpet"
           }
          ],
          "choropleth": [
           {
            "colorbar": {
             "outlinewidth": 0,
             "ticks": ""
            },
            "type": "choropleth"
           }
          ],
          "contour": [
           {
            "colorbar": {
             "outlinewidth": 0,
             "ticks": ""
            },
            "colorscale": [
             [
              0,
              "#0d0887"
             ],
             [
              0.1111111111111111,
              "#46039f"
             ],
             [
              0.2222222222222222,
              "#7201a8"
             ],
             [
              0.3333333333333333,
              "#9c179e"
             ],
             [
              0.4444444444444444,
              "#bd3786"
             ],
             [
              0.5555555555555556,
              "#d8576b"
             ],
             [
              0.6666666666666666,
              "#ed7953"
             ],
             [
              0.7777777777777778,
              "#fb9f3a"
             ],
             [
              0.8888888888888888,
              "#fdca26"
             ],
             [
              1,
              "#f0f921"
             ]
            ],
            "type": "contour"
           }
          ],
          "contourcarpet": [
           {
            "colorbar": {
             "outlinewidth": 0,
             "ticks": ""
            },
            "type": "contourcarpet"
           }
          ],
          "heatmap": [
           {
            "colorbar": {
             "outlinewidth": 0,
             "ticks": ""
            },
            "colorscale": [
             [
              0,
              "#0d0887"
             ],
             [
              0.1111111111111111,
              "#46039f"
             ],
             [
              0.2222222222222222,
              "#7201a8"
             ],
             [
              0.3333333333333333,
              "#9c179e"
             ],
             [
              0.4444444444444444,
              "#bd3786"
             ],
             [
              0.5555555555555556,
              "#d8576b"
             ],
             [
              0.6666666666666666,
              "#ed7953"
             ],
             [
              0.7777777777777778,
              "#fb9f3a"
             ],
             [
              0.8888888888888888,
              "#fdca26"
             ],
             [
              1,
              "#f0f921"
             ]
            ],
            "type": "heatmap"
           }
          ],
          "heatmapgl": [
           {
            "colorbar": {
             "outlinewidth": 0,
             "ticks": ""
            },
            "colorscale": [
             [
              0,
              "#0d0887"
             ],
             [
              0.1111111111111111,
              "#46039f"
             ],
             [
              0.2222222222222222,
              "#7201a8"
             ],
             [
              0.3333333333333333,
              "#9c179e"
             ],
             [
              0.4444444444444444,
              "#bd3786"
             ],
             [
              0.5555555555555556,
              "#d8576b"
             ],
             [
              0.6666666666666666,
              "#ed7953"
             ],
             [
              0.7777777777777778,
              "#fb9f3a"
             ],
             [
              0.8888888888888888,
              "#fdca26"
             ],
             [
              1,
              "#f0f921"
             ]
            ],
            "type": "heatmapgl"
           }
          ],
          "histogram": [
           {
            "marker": {
             "pattern": {
              "fillmode": "overlay",
              "size": 10,
              "solidity": 0.2
             }
            },
            "type": "histogram"
           }
          ],
          "histogram2d": [
           {
            "colorbar": {
             "outlinewidth": 0,
             "ticks": ""
            },
            "colorscale": [
             [
              0,
              "#0d0887"
             ],
             [
              0.1111111111111111,
              "#46039f"
             ],
             [
              0.2222222222222222,
              "#7201a8"
             ],
             [
              0.3333333333333333,
              "#9c179e"
             ],
             [
              0.4444444444444444,
              "#bd3786"
             ],
             [
              0.5555555555555556,
              "#d8576b"
             ],
             [
              0.6666666666666666,
              "#ed7953"
             ],
             [
              0.7777777777777778,
              "#fb9f3a"
             ],
             [
              0.8888888888888888,
              "#fdca26"
             ],
             [
              1,
              "#f0f921"
             ]
            ],
            "type": "histogram2d"
           }
          ],
          "histogram2dcontour": [
           {
            "colorbar": {
             "outlinewidth": 0,
             "ticks": ""
            },
            "colorscale": [
             [
              0,
              "#0d0887"
             ],
             [
              0.1111111111111111,
              "#46039f"
             ],
             [
              0.2222222222222222,
              "#7201a8"
             ],
             [
              0.3333333333333333,
              "#9c179e"
             ],
             [
              0.4444444444444444,
              "#bd3786"
             ],
             [
              0.5555555555555556,
              "#d8576b"
             ],
             [
              0.6666666666666666,
              "#ed7953"
             ],
             [
              0.7777777777777778,
              "#fb9f3a"
             ],
             [
              0.8888888888888888,
              "#fdca26"
             ],
             [
              1,
              "#f0f921"
             ]
            ],
            "type": "histogram2dcontour"
           }
          ],
          "mesh3d": [
           {
            "colorbar": {
             "outlinewidth": 0,
             "ticks": ""
            },
            "type": "mesh3d"
           }
          ],
          "parcoords": [
           {
            "line": {
             "colorbar": {
              "outlinewidth": 0,
              "ticks": ""
             }
            },
            "type": "parcoords"
           }
          ],
          "pie": [
           {
            "automargin": true,
            "type": "pie"
           }
          ],
          "scatter": [
           {
            "fillpattern": {
             "fillmode": "overlay",
             "size": 10,
             "solidity": 0.2
            },
            "type": "scatter"
           }
          ],
          "scatter3d": [
           {
            "line": {
             "colorbar": {
              "outlinewidth": 0,
              "ticks": ""
             }
            },
            "marker": {
             "colorbar": {
              "outlinewidth": 0,
              "ticks": ""
             }
            },
            "type": "scatter3d"
           }
          ],
          "scattercarpet": [
           {
            "marker": {
             "colorbar": {
              "outlinewidth": 0,
              "ticks": ""
             }
            },
            "type": "scattercarpet"
           }
          ],
          "scattergeo": [
           {
            "marker": {
             "colorbar": {
              "outlinewidth": 0,
              "ticks": ""
             }
            },
            "type": "scattergeo"
           }
          ],
          "scattergl": [
           {
            "marker": {
             "colorbar": {
              "outlinewidth": 0,
              "ticks": ""
             }
            },
            "type": "scattergl"
           }
          ],
          "scattermapbox": [
           {
            "marker": {
             "colorbar": {
              "outlinewidth": 0,
              "ticks": ""
             }
            },
            "type": "scattermapbox"
           }
          ],
          "scatterpolar": [
           {
            "marker": {
             "colorbar": {
              "outlinewidth": 0,
              "ticks": ""
             }
            },
            "type": "scatterpolar"
           }
          ],
          "scatterpolargl": [
           {
            "marker": {
             "colorbar": {
              "outlinewidth": 0,
              "ticks": ""
             }
            },
            "type": "scatterpolargl"
           }
          ],
          "scatterternary": [
           {
            "marker": {
             "colorbar": {
              "outlinewidth": 0,
              "ticks": ""
             }
            },
            "type": "scatterternary"
           }
          ],
          "surface": [
           {
            "colorbar": {
             "outlinewidth": 0,
             "ticks": ""
            },
            "colorscale": [
             [
              0,
              "#0d0887"
             ],
             [
              0.1111111111111111,
              "#46039f"
             ],
             [
              0.2222222222222222,
              "#7201a8"
             ],
             [
              0.3333333333333333,
              "#9c179e"
             ],
             [
              0.4444444444444444,
              "#bd3786"
             ],
             [
              0.5555555555555556,
              "#d8576b"
             ],
             [
              0.6666666666666666,
              "#ed7953"
             ],
             [
              0.7777777777777778,
              "#fb9f3a"
             ],
             [
              0.8888888888888888,
              "#fdca26"
             ],
             [
              1,
              "#f0f921"
             ]
            ],
            "type": "surface"
           }
          ],
          "table": [
           {
            "cells": {
             "fill": {
              "color": "#EBF0F8"
             },
             "line": {
              "color": "white"
             }
            },
            "header": {
             "fill": {
              "color": "#C8D4E3"
             },
             "line": {
              "color": "white"
             }
            },
            "type": "table"
           }
          ]
         },
         "layout": {
          "annotationdefaults": {
           "arrowcolor": "#2a3f5f",
           "arrowhead": 0,
           "arrowwidth": 1
          },
          "autotypenumbers": "strict",
          "coloraxis": {
           "colorbar": {
            "outlinewidth": 0,
            "ticks": ""
           }
          },
          "colorscale": {
           "diverging": [
            [
             0,
             "#8e0152"
            ],
            [
             0.1,
             "#c51b7d"
            ],
            [
             0.2,
             "#de77ae"
            ],
            [
             0.3,
             "#f1b6da"
            ],
            [
             0.4,
             "#fde0ef"
            ],
            [
             0.5,
             "#f7f7f7"
            ],
            [
             0.6,
             "#e6f5d0"
            ],
            [
             0.7,
             "#b8e186"
            ],
            [
             0.8,
             "#7fbc41"
            ],
            [
             0.9,
             "#4d9221"
            ],
            [
             1,
             "#276419"
            ]
           ],
           "sequential": [
            [
             0,
             "#0d0887"
            ],
            [
             0.1111111111111111,
             "#46039f"
            ],
            [
             0.2222222222222222,
             "#7201a8"
            ],
            [
             0.3333333333333333,
             "#9c179e"
            ],
            [
             0.4444444444444444,
             "#bd3786"
            ],
            [
             0.5555555555555556,
             "#d8576b"
            ],
            [
             0.6666666666666666,
             "#ed7953"
            ],
            [
             0.7777777777777778,
             "#fb9f3a"
            ],
            [
             0.8888888888888888,
             "#fdca26"
            ],
            [
             1,
             "#f0f921"
            ]
           ],
           "sequentialminus": [
            [
             0,
             "#0d0887"
            ],
            [
             0.1111111111111111,
             "#46039f"
            ],
            [
             0.2222222222222222,
             "#7201a8"
            ],
            [
             0.3333333333333333,
             "#9c179e"
            ],
            [
             0.4444444444444444,
             "#bd3786"
            ],
            [
             0.5555555555555556,
             "#d8576b"
            ],
            [
             0.6666666666666666,
             "#ed7953"
            ],
            [
             0.7777777777777778,
             "#fb9f3a"
            ],
            [
             0.8888888888888888,
             "#fdca26"
            ],
            [
             1,
             "#f0f921"
            ]
           ]
          },
          "colorway": [
           "#636efa",
           "#EF553B",
           "#00cc96",
           "#ab63fa",
           "#FFA15A",
           "#19d3f3",
           "#FF6692",
           "#B6E880",
           "#FF97FF",
           "#FECB52"
          ],
          "font": {
           "color": "#2a3f5f"
          },
          "geo": {
           "bgcolor": "white",
           "lakecolor": "white",
           "landcolor": "#E5ECF6",
           "showlakes": true,
           "showland": true,
           "subunitcolor": "white"
          },
          "hoverlabel": {
           "align": "left"
          },
          "hovermode": "closest",
          "mapbox": {
           "style": "light"
          },
          "paper_bgcolor": "white",
          "plot_bgcolor": "#E5ECF6",
          "polar": {
           "angularaxis": {
            "gridcolor": "white",
            "linecolor": "white",
            "ticks": ""
           },
           "bgcolor": "#E5ECF6",
           "radialaxis": {
            "gridcolor": "white",
            "linecolor": "white",
            "ticks": ""
           }
          },
          "scene": {
           "xaxis": {
            "backgroundcolor": "#E5ECF6",
            "gridcolor": "white",
            "gridwidth": 2,
            "linecolor": "white",
            "showbackground": true,
            "ticks": "",
            "zerolinecolor": "white"
           },
           "yaxis": {
            "backgroundcolor": "#E5ECF6",
            "gridcolor": "white",
            "gridwidth": 2,
            "linecolor": "white",
            "showbackground": true,
            "ticks": "",
            "zerolinecolor": "white"
           },
           "zaxis": {
            "backgroundcolor": "#E5ECF6",
            "gridcolor": "white",
            "gridwidth": 2,
            "linecolor": "white",
            "showbackground": true,
            "ticks": "",
            "zerolinecolor": "white"
           }
          },
          "shapedefaults": {
           "line": {
            "color": "#2a3f5f"
           }
          },
          "ternary": {
           "aaxis": {
            "gridcolor": "white",
            "linecolor": "white",
            "ticks": ""
           },
           "baxis": {
            "gridcolor": "white",
            "linecolor": "white",
            "ticks": ""
           },
           "bgcolor": "#E5ECF6",
           "caxis": {
            "gridcolor": "white",
            "linecolor": "white",
            "ticks": ""
           }
          },
          "title": {
           "x": 0.05
          },
          "xaxis": {
           "automargin": true,
           "gridcolor": "white",
           "linecolor": "white",
           "ticks": "",
           "title": {
            "standoff": 15
           },
           "zerolinecolor": "white",
           "zerolinewidth": 2
          },
          "yaxis": {
           "automargin": true,
           "gridcolor": "white",
           "linecolor": "white",
           "ticks": "",
           "title": {
            "standoff": 15
           },
           "zerolinecolor": "white",
           "zerolinewidth": 2
          }
         }
        },
        "updatemenus": [
         {
          "buttons": [
           {
            "args": [
             null,
             {
              "frame": {
               "duration": 800,
               "redraw": false
              },
              "fromcurrent": true
             }
            ],
            "label": "Play",
            "method": "animate"
           }
          ],
          "type": "buttons"
         }
        ],
        "xaxis": {
         "autorange": false,
         "range": [
          0.08399999999999999,
          0.21000000000000002
         ],
         "zeroline": false
        },
        "yaxis": {
         "autorange": false,
         "range": [
          0.034999999999999996,
          0.10500000000000001
         ],
         "zeroline": false
        }
       }
      }
     },
     "metadata": {},
     "output_type": "display_data"
    }
   ],
   "source": [
    "# Animated version of picture above\n",
    "stringFront = \"<br>\"\n",
    "stringFront += \"Asset 1: %{customdata[0]:.1%}<br>\"\n",
    "stringFront += \"Asset 2: %{customdata[1]:.1%}<br>\"\n",
    "stringFront += \"Asset 3: %{customdata[2]:.1%}<br>\"\n",
    "stringFront += \"<extra></extra>\"\n",
    "\n",
    "stringTang = \"<br>Tangency Portfolio:<br>\"\n",
    "stringTang += \"Asset 1: %{customdata[0]:.1%}<br>\"\n",
    "stringTang += \"Asset 2: %{customdata[1]:.1%}<br>\"\n",
    "stringTang += \"Asset 3: %{customdata[2]:.1%}<br>\"\n",
    "stringTang += \"Sharpe ratio: %{text:.4f}<br>\"\n",
    "stringTang += \"<extra></extra>\"\n",
    "\n",
    "string = \"<br>Year %[x:.0f}<br>\"\n",
    "string += \"Asset 1: %{customdata[0]:.1%}<br>\"\n",
    "string += \"Asset 2: %{customdata[1]:.1%}<br>\"\n",
    "string += \"Asset 3: %{customdata[2]:.1%}<br>\"\n",
    "string += \"Sharpe ratio: %{customdata[3]:.4f}<br>\"\n",
    "string += \"<extra></extra>\"\n",
    "\n",
    "\n",
    "fig = go.Figure(\n",
    "    data=[go.Scatter(x=sd_frontier, y=mn_frontier, mode=\"lines\", customdata=wgts_frontier, hovertemplate=stringFront, marker=dict(size=10, color=\"blue\")),\n",
    "          go.Scatter(x=sd_frontier, y=mn_frontier, mode=\"lines\", customdata=wgts_frontier, hovertemplate=stringFront, marker=dict(size=10, color=\"blue\")),\n",
    "          go.Scatter(x=[sdTang], y=[mnTang], mode=\"markers\", text = [srTang], customdata=[wgts_tangency], hovertemplate=stringTang, marker=dict(size=10, color=\"blue\"))   \n",
    "          ]+ \n",
    "          [go.Scatter(x=[sds[k]], y=[mns[k]], mode=\"markers\", hovertemplate=\"Asset \"+str(k+1)+ \"<extra></extra>\",\n",
    "            marker=dict(size=10, color=\"red\")) for k in np.arange(len(mns))],\n",
    "    layout=go.Layout(\n",
    "        xaxis=dict(range=[0.7*sds.min(), 1.05*sds.max()], autorange=False, zeroline=False),\n",
    "        yaxis=dict(range=[0.7*mns.min(), 1.05*mns.max()], autorange=False, zeroline=False),\n",
    "        hovermode=\"closest\",showlegend=False,\n",
    "        updatemenus=[dict(type=\"buttons\",\n",
    "                          buttons=[dict(label=\"Play\",\n",
    "                                        method=\"animate\",\n",
    "                                        args=[None,{\"frame\": {\"duration\": 800, \"redraw\": False},\"fromcurrent\": True}]),\n",
    "                                #    dict(label=\"Pause\",\n",
    "                                #         method=\"animate\",\n",
    "                                #         args=[None,{\"frame\": {\"duration\": 0, \"redraw\": False},\"mode\": \"immediate\",\"transition\": {\"duration\": 0}}]) \n",
    "                                        ])]),\n",
    "    frames=[go.Frame(\n",
    "        data=[go.Scatter(x=[rets.loc[i,'sd_pret']],y=[rets.loc[i,'exp_pret']],mode=\"markers\",hovertemplate=\"Year \"+str(i) + \"<extra></extra>\",marker=dict(size=10, color=\"black\")),\n",
    "            ],\n",
    "        layout=go.Layout(annotations=[go.layout.Annotation(x=sdTang, y=1.1*mnTang, xref=\"x\", yref=\"y\",\n",
    "            text=\"Year \" + str(i) +\"<br>Sharpe ratio: \" +str(np.round(rets.loc[i,'sharpe ratio'],4)),\n",
    "            showarrow=False, )])) for i in rets.index]\n",
    ")\n",
    "\n",
    "fig.show()"
   ]
  }
 ],
 "metadata": {
  "kernelspec": {
   "display_name": "Python 3.10.6 ('venv': venv)",
   "language": "python",
   "name": "python3"
  },
  "language_info": {
   "codemirror_mode": {
    "name": "ipython",
    "version": 3
   },
   "file_extension": ".py",
   "mimetype": "text/x-python",
   "name": "python",
   "nbconvert_exporter": "python",
   "pygments_lexer": "ipython3",
   "version": "3.10.6"
  },
  "orig_nbformat": 4,
  "vscode": {
   "interpreter": {
    "hash": "cc788b38d8cb434c82f45ef9d481d0310e17b79321e4c8cbfbfe90f656a3f023"
   }
  }
 },
 "nbformat": 4,
 "nbformat_minor": 2
}
