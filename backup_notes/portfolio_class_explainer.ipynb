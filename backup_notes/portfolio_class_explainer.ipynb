{
 "cells": [
  {
   "cell_type": "markdown",
   "metadata": {},
   "source": [
    "## The Portfolio Class\n",
    "\n",
    "A number of the portfolio webpages make use of the Portfolio class object defined below.  The Portfolio class object implements the various quadratic programming problems encountered in mean-variance analysis using the CVXOPT package.  The CVXOPT user guide is available <a href=\"https://cvxopt.org/userguide/index.html\"> here </a>.\n",
    "\n",
    "The function `cvxopt.solvers.qp` solves problems of the general form:\n",
    "\\begin{align*}\n",
    "    \\underset{w}{\\text{min  }}& \\frac{1}{2} w' Q w + p'x \\\\\n",
    "     \\text{subject to  } & Gw \\le h \\\\\n",
    "                        & Aw = b \\\\\n",
    "\\end{align*}\n",
    "\n",
    "For our purposes, the optimizer is usually solving for a $N \\times 1$ vector of portfolio weights, $w$.  The objective function often takes $Q$ as the $N \\times N$ covariance matrix of returns and $p$ as a $N \\times 1$ vector of zeros.  \n",
    "\n",
    "The constraint $Gw \\le h$ can be used to put position limits on the portfolio weights.  The most common use of this is short-selling constraints.  This is accomplished by setting $G$ equal to the negative of the $N \\times N$ identity matrix (that is, a matrix with -1s on the diagonal and zero elsewhere), and $h$ equal to a $N \\times 1$ vector of zeros.  Additional position limits could be enforced by adding rows to $G$ and $h$.  For instance, many funds have maximum position limits in addition to short-sale constraints.\n",
    "\n",
    "The constraint $Aw=b$ usually includes the constraint that the portfolio is fulling invested; that is, the portfolio weights sum to 100%.  This is accomplished by setting $A$ equal to a $N \\times 1$ vector of ones and setting $b=1$.  $A$ and $b$ can include additional rows for other constraints.  For instance, setting a target expected return would be accomplished by adding a row to $A$ with the asset mean vector and adding a row to $b$ with the target expected return.  This is done when solving for a point on the mean-variance frontier.\n"
   ]
  },
  {
   "cell_type": "markdown",
   "metadata": {},
   "source": [
    "``` p\n",
    "import numpy as np\n",
    "from cvxopt import matrix\n",
    "from cvxopt.solvers import qp as Solver, options as SolverOptions\n",
    "from scipy.optimize import minimize_scalar\n",
    "\n",
    "SolverOptions[\"show_progress\"] = False\n",
    "\n",
    "class portfolio:\n",
    "    def __init__(self, means, cov, Shorts):\n",
    "        self.means = np.array(means)\n",
    "        self.cov = np.array(cov)\n",
    "        self.Shorts = Shorts\n",
    "        self.n = len(means)\n",
    "        if Shorts:\n",
    "            w = np.linalg.solve(cov, np.ones(self.n))\n",
    "            self.GMV = w / np.sum(w)\n",
    "            w = np.linalg.solve(cov, means)\n",
    "            self.piMu = w / np.sum(w)\n",
    "        else:\n",
    "            n = self.n\n",
    "            Q = matrix(cov, tc=\"d\")\n",
    "            p = matrix(np.zeros(n), (n, 1), tc=\"d\")\n",
    "            G = matrix(-np.identity(n), tc=\"d\")\n",
    "            h = matrix(np.zeros(n), (n, 1), tc=\"d\")\n",
    "            A = matrix(np.ones(n), (1, n), tc=\"d\")\n",
    "            b = matrix([1], (1, 1), tc=\"d\")\n",
    "            sol = Solver(Q, p, G, h, A, b)\n",
    "            self.GMV = np.array(sol[\"x\"]).flatten() if sol[\"status\"] == \"optimal\" else np.array(n * [np.nan])\n",
    "\n",
    "    def frontier(self, m):\n",
    "        if self.Shorts:\n",
    "            gmv = self.GMV\n",
    "            piMu = self.piMu\n",
    "            m1 = gmv @ self.means\n",
    "            m2 = piMu @ self.means\n",
    "            a = (m - m2) / (m1 - m2)\n",
    "            return a * gmv + (1 - a) * piMu\n",
    "        else:\n",
    "            n = self.n\n",
    "            Q = matrix(self.cov, tc=\"d\")\n",
    "            p = matrix(np.zeros(n), (n, 1), tc=\"d\")\n",
    "            G = matrix(-np.identity(n), tc=\"d\")\n",
    "            h = matrix(np.zeros(n), (n, 1), tc=\"d\")\n",
    "            A = matrix(np.vstack((np.ones(n), self.means)), (2, n), tc=\"d\")\n",
    "            b = matrix([1, m], (2, 1), tc=\"d\")\n",
    "            sol = Solver(Q, p, G, h, A, b)\n",
    "            return np.array(sol[\"x\"]).flatten() if sol[\"status\"] == \"optimal\" else np.array(n * [np.nan])\n",
    "\n",
    "    def tangency(self, r):\n",
    "        if self.Shorts:\n",
    "            w = np.linalg.solve(self.cov, self.means - r)\n",
    "            return w / np.sum(w)\n",
    "        else:\n",
    "            def f(m):\n",
    "                w = self.frontier(m)\n",
    "                mn = w @ self.means\n",
    "                sd = np.sqrt(w.T @ self.cov @ w)\n",
    "                return - (mn - r) / sd\n",
    "            m = minimize_scalar(f, bounds=[max(r, np.min(self.means)), max(r, np.max(self.means))], method=\"bounded\").x\n",
    "            return self.frontier(m)\n",
    "\n",
    "    def optimal(self, raver, rs=None, rb=None):\n",
    "        n = self.n\n",
    "        if self.Shorts:\n",
    "            if (rs or rs==0) and (rb or rb==0):\n",
    "                Q = np.zeros((n + 2, n + 2))\n",
    "                Q[2:, 2:] = raver * self.cov\n",
    "                Q = matrix(Q, tc=\"d\")\n",
    "                p = np.array([-rs, rb] + list(-self.means))\n",
    "                p = matrix(p, (n + 2, 1), tc=\"d\")\n",
    "                G = np.zeros((2, n + 2))\n",
    "                G[0, 0] = G[1, 1] = -1\n",
    "                G = matrix(G, (2, n+2), tc=\"d\")\n",
    "                h = matrix([0, 0], (2, 1), tc=\"d\")\n",
    "                A = matrix([1, -1] + n*[1], (1, n+2), tc=\"d\")\n",
    "                b = matrix([1], (1, 1), tc=\"d\")\n",
    "                sol = Solver(Q, p, G, h, A, b)\n",
    "                return np.array(sol[\"x\"]).flatten()[2:] if sol[\"status\"] == \"optimal\" else None\n",
    "            else:\n",
    "                w = np.linalg.solve(self.cov, self.means)\n",
    "                a = np.sum(w)\n",
    "                return (a/raver)*self.piMu + (1-a/raver)*self.GMV\n",
    "        else:\n",
    "           if (rs or rs==0) and (rb or rb==0):\n",
    "                Q = np.zeros((n + 2, n + 2))\n",
    "                Q[2:, 2:] = raver * self.cov\n",
    "                Q = matrix(Q, tc=\"d\")\n",
    "                p = np.array([-rs, rb] + list(-self.means))\n",
    "                p = matrix(p, (n+2, 1), tc=\"d\")\n",
    "                G = matrix(-np.identity(n + 2), tc=\"d\")\n",
    "                h = matrix(np.zeros(n+2), (n+2, 1), tc=\"d\")\n",
    "                A = matrix([1, -1] + n * [1], (1, n+2), tc=\"d\")\n",
    "                b = matrix([1], (1, 1), tc=\"d\")\n",
    "                sol = Solver(Q, p, G, h, A, b)\n",
    "                return np.array(sol[\"x\"]).flatten()[2:] if sol[\"status\"] == \"optimal\" else None\n",
    "           else:\n",
    "                Q = matrix(raver * self.cov, tc=\"d\")\n",
    "                p = matrix(-self.means, (n, 1), tc=\"d\")\n",
    "                G = matrix(-np.identity(n), tc=\"d\")\n",
    "                h = matrix(np.zeros(n), (n, 1), tc=\"d\")\n",
    "                A = matrix(np.ones(n), (1, n), tc=\"d\")\n",
    "                b = matrix([1], (1, 1), tc=\"d\")\n",
    "                sol = Solver(Q, p, G, h, A, b)\n",
    "                return np.array(sol[\"x\"]).flatten() if sol[\"status\"] == \"optimal\" else None\n",
    "```"
   ]
  },
  {
   "cell_type": "markdown",
   "metadata": {},
   "source": [
    "## Understanding the Portfolio Class"
   ]
  },
  {
   "cell_type": "code",
   "execution_count": 4,
   "metadata": {},
   "outputs": [],
   "source": [
    "\n",
    "import numpy as np\n",
    "from cvxopt import matrix\n",
    "from cvxopt.solvers import qp as Solver, options as SolverOptions\n",
    "from scipy.optimize import minimize_scalar\n",
    "from scipy.optimize import minimize\n",
    "##### Inputs\n",
    "# Risk-free rate\n",
    "r = 0.02\n",
    "# Expected returns\n",
    "means = np.array([0.06, 0.065, 0.08])\n",
    "# Standard deviations\n",
    "sds = np.array([0.15, 0.165, 0.21])\n",
    "# Correlations\n",
    "corr12 = 0.75\n",
    "corr13 = 0.75\n",
    "corr23 = 0.75\n",
    "# Covariance matrix\n",
    "C  = np.identity(3)\n",
    "C[0, 1] = C[1, 0] = corr12\n",
    "C[0, 2] = C[2, 0] = corr13\n",
    "C[1, 2] = C[2, 1] = corr23\n",
    "cov = np.diag(sds) @ C @ np.diag(sds)\n",
    "Shorts = False\n"
   ]
  },
  {
   "cell_type": "markdown",
   "metadata": {},
   "source": [
    "\n",
    "# No Short-selling"
   ]
  },
  {
   "cell_type": "markdown",
   "metadata": {},
   "source": [
    "\n",
    "The GMV problem:\n",
    "$$ \\underset{w_1,w_2,\\dots,w_N}{\\text{min}} \\text{var}[r_p]$$ \n",
    "subject to the constraints $\\sum_i w_i=1$ and $w_i \\ge 0$ for all assets $i$\n"
   ]
  },
  {
   "cell_type": "code",
   "execution_count": 5,
   "metadata": {},
   "outputs": [
    {
     "name": "stdout",
     "output_type": "stream",
     "text": [
      "     pcost       dcost       gap    pres   dres\n",
      " 0:  1.2737e-02 -9.9119e-01  1e+00  0e+00  2e+00\n",
      " 1:  1.2705e-02 -1.1636e-03  1e-02  1e-16  3e-02\n",
      " 2:  1.1613e-02  9.6474e-03  2e-03  1e-16  4e-03\n",
      " 3:  1.0788e-02  1.0529e-02  3e-04  1e-16  3e-18\n",
      " 4:  1.0644e-02  1.0634e-02  1e-05  6e-17  2e-18\n",
      " 5:  1.0635e-02  1.0635e-02  1e-07  2e-16  4e-18\n",
      " 6:  1.0635e-02  1.0635e-02  1e-09  1e-16  8e-18\n",
      "Optimal solution found.\n",
      "GMV portfolio is:  [6.87499842e-01 3.12499846e-01 3.11399161e-07]\n"
     ]
    }
   ],
   "source": [
    "# The GMV problem with short-sale constraints\n",
    "n = len(means)\n",
    "Q = matrix(cov, tc=\"d\")\n",
    "p = matrix(np.zeros(n), (n, 1), tc=\"d\")\n",
    "# Constraint: short-sales not allowed\n",
    "G = matrix(-np.identity(n), tc=\"d\")\n",
    "h = matrix(np.zeros(n), (n, 1), tc=\"d\")\n",
    "# Constraint: fully-invested portfolio\n",
    "A = matrix(np.ones(n), (1, n), tc=\"d\")\n",
    "b = matrix([1], (1, 1), tc=\"d\")\n",
    "sol = Solver(Q, p, G, h, A, b)\n",
    "wgts_gmv = np.array(sol[\"x\"]).flatten() if sol[\"status\"] == \"optimal\" else np.array(n * [np.nan])\n",
    "print('GMV portfolio is: ', wgts_gmv)"
   ]
  },
  {
   "cell_type": "markdown",
   "metadata": {},
   "source": [
    "The frontier problem:\n",
    "$$ \\underset{w_1,w_2,\\dots,w_N}{\\text{min}} \\text{var}[r_p]$$ \n",
    "subject to the constraints $\\sum_i w_i E[r_i]=E[r_{\\text{target}}]$, $\\sum_i w_i=1$ and $w_i \\ge 0$ for all assets $i$.\n"
   ]
  },
  {
   "cell_type": "code",
   "execution_count": 6,
   "metadata": {},
   "outputs": [
    {
     "name": "stdout",
     "output_type": "stream",
     "text": [
      "     pcost       dcost       gap    pres   dres\n",
      " 0:  1.3663e-02 -1.0632e+00  1e+00  7e-18  2e+00\n",
      " 1:  1.3663e-02  2.7786e-03  1e-02  1e-16  2e-02\n",
      " 2:  1.3662e-02  1.3470e-02  2e-04  6e-17  4e-04\n",
      " 3:  1.3661e-02  1.3658e-02  3e-06  1e-16  5e-06\n",
      " 4:  1.3661e-02  1.3661e-02  3e-08  2e-16  5e-08\n",
      "Optimal solution found.\n",
      "Frontier portfolio for expected return of 7.0% is:  [0.25461946 0.32717405 0.41820649]\n"
     ]
    }
   ],
   "source": [
    "\n",
    "# The frontier problem with short-sale constraints for target return m\n",
    "m = 0.07        # a target expected return\n",
    "n = len(means)\n",
    "Q = matrix(cov, tc=\"d\")\n",
    "p = matrix(np.zeros(n), (n, 1), tc=\"d\")\n",
    "G = matrix(-np.identity(n), tc=\"d\")\n",
    "h = matrix(np.zeros(n), (n, 1), tc=\"d\")\n",
    "A = matrix(np.vstack((np.ones(n), means)), (2, n), tc=\"d\")\n",
    "b = matrix([1, m], (2, 1), tc=\"d\")\n",
    "sol = Solver(Q, p, G, h, A, b)\n",
    "wgts_frontier = np.array(sol[\"x\"]).flatten() if sol[\"status\"] == \"optimal\" else np.array(n * [np.nan])\n",
    "print('Frontier portfolio for expected return of ' + f'{m:.1%}' + ' is: ', wgts_frontier)\n"
   ]
  },
  {
   "cell_type": "markdown",
   "metadata": {},
   "source": [
    "\n",
    "The tangency problem:\n",
    "$$ \\underset{w_1,w_2,\\dots,w_N}{\\text{max}} \\frac{E[r_p] - r_f}{\\text{sd}[r_p]} $$ \n",
    "subject to the constraints $\\sum_i w_i=1$ and $w_i \\ge 0$ for all assets $i$.\n"
   ]
  },
  {
   "cell_type": "code",
   "execution_count": 7,
   "metadata": {},
   "outputs": [
    {
     "name": "stdout",
     "output_type": "stream",
     "text": [
      "     pcost       dcost       gap    pres   dres\n",
      " 0:  1.2463e-02 -1.0120e+00  1e+00  6e-17  2e+00\n",
      " 1:  1.2463e-02  2.2152e-03  1e-02  6e-17  2e-02\n",
      " 2:  1.2463e-02  1.2358e-02  1e-04  1e-16  2e-04\n",
      " 3:  1.2463e-02  1.2462e-02  1e-06  6e-17  2e-06\n",
      " 4:  1.2463e-02  1.2463e-02  1e-08  1e-16  2e-08\n",
      "Optimal solution found.\n",
      "     pcost       dcost       gap    pres   dres\n",
      " 0:  1.5134e-02 -1.1268e+00  1e+00  7e-16  3e+00\n",
      " 1:  1.5134e-02  3.5240e-03  1e-02  1e-16  3e-02\n",
      " 2:  1.5131e-02  1.4866e-02  3e-04  2e-16  6e-04\n",
      " 3:  1.5125e-02  1.5119e-02  6e-06  1e-16  8e-06\n",
      " 4:  1.5125e-02  1.5125e-02  6e-08  1e-16  8e-08\n",
      "Optimal solution found.\n",
      "     pcost       dcost       gap    pres   dres\n",
      " 0:  1.1354e-02 -1.0675e+00  1e+00  8e-17  3e+00\n",
      " 1:  1.1354e-02  4.5312e-04  1e-02  4e-16  3e-02\n",
      " 2:  1.1352e-02  1.1170e-02  2e-04  1e-16  4e-04\n",
      " 3:  1.1351e-02  1.1348e-02  2e-06  1e-16  5e-06\n",
      " 4:  1.1351e-02  1.1351e-02  2e-08  3e-17  5e-08\n",
      "Optimal solution found.\n",
      "     pcost       dcost       gap    pres   dres\n",
      " 0:  1.3492e-02 -1.0512e+00  1e+00  7e-18  2e+00\n",
      " 1:  1.3491e-02  2.7433e-03  1e-02  1e-16  2e-02\n",
      " 2:  1.3491e-02  1.3311e-02  2e-04  6e-17  4e-04\n",
      " 3:  1.3490e-02  1.3488e-02  2e-06  1e-16  5e-06\n",
      " 4:  1.3490e-02  1.3490e-02  2e-08  1e-16  5e-08\n",
      "Optimal solution found.\n",
      "     pcost       dcost       gap    pres   dres\n",
      " 0:  1.3457e-02 -1.0486e+00  1e+00  6e-17  2e+00\n",
      " 1:  1.3457e-02  2.7377e-03  1e-02  1e-16  2e-02\n",
      " 2:  1.3456e-02  1.3279e-02  2e-04  1e-16  4e-04\n",
      " 3:  1.3455e-02  1.3453e-02  2e-06  6e-17  5e-06\n",
      " 4:  1.3455e-02  1.3455e-02  2e-08  6e-17  5e-08\n",
      "Optimal solution found.\n",
      "     pcost       dcost       gap    pres   dres\n",
      " 0:  1.3403e-02 -1.0445e+00  1e+00  1e-17  2e+00\n",
      " 1:  1.3403e-02  2.7302e-03  1e-02  2e-16  2e-02\n",
      " 2:  1.3402e-02  1.3229e-02  2e-04  6e-17  4e-04\n",
      " 3:  1.3402e-02  1.3400e-02  2e-06  8e-17  4e-06\n",
      " 4:  1.3402e-02  1.3402e-02  2e-08  8e-17  4e-08\n",
      "Optimal solution found.\n",
      "     pcost       dcost       gap    pres   dres\n",
      " 0:  1.3398e-02 -1.0440e+00  1e+00  6e-17  2e+00\n",
      " 1:  1.3398e-02  2.7295e-03  1e-02  6e-17  2e-02\n",
      " 2:  1.3397e-02  1.3224e-02  2e-04  1e-16  4e-04\n",
      " 3:  1.3396e-02  1.3394e-02  2e-06  6e-17  4e-06\n",
      " 4:  1.3396e-02  1.3396e-02  2e-08  6e-17  4e-08\n",
      "Optimal solution found.\n",
      "     pcost       dcost       gap    pres   dres\n",
      " 0:  1.3399e-02 -1.0442e+00  1e+00  1e-17  2e+00\n",
      " 1:  1.3399e-02  2.7298e-03  1e-02  6e-17  2e-02\n",
      " 2:  1.3399e-02  1.3226e-02  2e-04  1e-16  4e-04\n",
      " 3:  1.3398e-02  1.3396e-02  2e-06  1e-16  4e-06\n",
      " 4:  1.3398e-02  1.3398e-02  2e-08  1e-16  4e-08\n",
      "Optimal solution found.\n",
      "     pcost       dcost       gap    pres   dres\n",
      " 0:  1.3396e-02 -1.0439e+00  1e+00  6e-17  2e+00\n",
      " 1:  1.3396e-02  2.7293e-03  1e-02  1e-16  2e-02\n",
      " 2:  1.3395e-02  1.3222e-02  2e-04  6e-17  4e-04\n",
      " 3:  1.3395e-02  1.3392e-02  2e-06  1e-16  4e-06\n",
      " 4:  1.3395e-02  1.3395e-02  2e-08  1e-16  4e-08\n",
      "Optimal solution found.\n",
      "     pcost       dcost       gap    pres   dres\n",
      " 0:  1.3398e-02 -1.0440e+00  1e+00  6e-17  2e+00\n",
      " 1:  1.3398e-02  2.7295e-03  1e-02  6e-17  2e-02\n",
      " 2:  1.3397e-02  1.3224e-02  2e-04  1e-16  4e-04\n",
      " 3:  1.3396e-02  1.3394e-02  2e-06  6e-17  4e-06\n",
      " 4:  1.3396e-02  1.3396e-02  2e-08  6e-17  4e-08\n",
      "Optimal solution found.\n",
      "Tangency portfolio is:  [0.27608257 0.33045765 0.39345978]\n"
     ]
    }
   ],
   "source": [
    "\n",
    "# Method 1: Tangency problem with short-sale constraints\n",
    "# The approach here is to find the expected return of the frontier portfolio with the highest sharpe ratio\n",
    "def frontier(m):\n",
    "    Q = matrix(cov, tc=\"d\")\n",
    "    p = matrix(np.zeros(n), (n, 1), tc=\"d\")\n",
    "    G = matrix(-np.identity(n), tc=\"d\")\n",
    "    h = matrix(np.zeros(n), (n, 1), tc=\"d\")\n",
    "    A = matrix(np.vstack((np.ones(n), means)), (2, n), tc=\"d\")\n",
    "    b = matrix([1, m], (2, 1), tc=\"d\")\n",
    "    sol = Solver(Q, p, G, h, A, b)\n",
    "    return np.array(sol[\"x\"]).flatten() if sol[\"status\"] == \"optimal\" else np.array(n * [np.nan])\n",
    "def f(m):\n",
    "    w = frontier(m)\n",
    "    mn = w @ means\n",
    "    sd = np.sqrt(w.T @ cov @ w)\n",
    "    return -(mn - r) / sd\n",
    "min_expret = max(r, np.min(means))\n",
    "max_expret = max(r, np.max(means))\n",
    "m = minimize_scalar(f, bounds=[min_expret,max_expret], method=\"bounded\").x\n",
    "wgts_tangency = frontier(m)\n",
    "print('Tangency portfolio is: ', wgts_tangency)"
   ]
  },
  {
   "cell_type": "code",
   "execution_count": 8,
   "metadata": {},
   "outputs": [
    {
     "name": "stdout",
     "output_type": "stream",
     "text": [
      "Tangency portfolio is:  [0.27515622 0.32986942 0.39497436]\n"
     ]
    }
   ],
   "source": [
    "# Method 2: Tangency problem with short-sale constraints\n",
    "# The approach here is to directly minimize the negative Sharpe ratio by changing the vector of weights\n",
    "n = len(means)\n",
    "def f(w):\n",
    "    mn = w @ means\n",
    "    sd = np.sqrt(w.T @ cov @ w)\n",
    "    return -(mn - r) / sd\n",
    "# Initial guess (equal-weighted)\n",
    "w0 = (1/n)*np.ones(n)\n",
    "# Constraint: fully-invested portfolio\n",
    "A = np.ones(n)\n",
    "b = 1\n",
    "cons = [{\"type\": \"eq\", \"fun\": lambda x: A @ x - b}]\n",
    "# Short-sale constraint\n",
    "bnds = [(0, None) for i in range(n)]   #Short-sale constraint\n",
    "# Optimization\n",
    "wgts_tangency = minimize(f, w0, bounds=bnds, constraints=cons).x\n",
    "print('Tangency portfolio is: ', wgts_tangency)"
   ]
  },
  {
   "cell_type": "markdown",
   "metadata": {},
   "source": [
    "### Optimal portfolios based on risk aversion:"
   ]
  },
  {
   "cell_type": "markdown",
   "metadata": {},
   "source": [
    "#### With risk-free rate(s)"
   ]
  },
  {
   "cell_type": "markdown",
   "metadata": {},
   "source": [
    "The optimal portfolio for investor with risk aversion $A$:\n",
    "$$ \\underset{w_{\\text{saving}},w_{\\text{borrow}},w_1,w_2,\\dots,w_N}{\\text{max}} E[r_p] - 0.5 \\cdot A \\text{var}[r_p] $$ \n",
    "subject to the constraints $w_{\\text{saving}} - w_{\\text{borrow}}+\\sum_i w_i=1$, $w_i \\ge 0$ for all assets $i=1,...,N$, $w_{\\text{saving}} \\ge 0$, and $w_{\\text{borrow}} \\ge 0$.  Under this notation where the borrowing weight is positive, the return on borrowing is negative: $-r_b < 0$.\n",
    "\n",
    "Alternatively, we can use the usual notation where borrowing is represented by $w_{\\text{borrow}}<0$.  In this case, the constraints are $w_{\\text{saving}} + w_{\\text{borrow}}+\\sum_i w_i=1$, $w_i \\ge 0$ for all assets $i=1,...,N$, $w_{\\text{saving}} \\ge 0$, and $w_{\\text{borrow}} \\le 0$, and the return on the borrowing asset is $r_b>0$.\n"
   ]
  },
  {
   "cell_type": "code",
   "execution_count": 16,
   "metadata": {},
   "outputs": [],
   "source": [
    "# Case #1: multiple borrowing rates\n",
    "raver = 3\n",
    "\n",
    "# Risk-free saving\n",
    "rs = 0.02\n",
    "# Risk-free borrowing\n",
    "rb = 0.04"
   ]
  },
  {
   "cell_type": "code",
   "execution_count": 17,
   "metadata": {},
   "outputs": [
    {
     "name": "stdout",
     "output_type": "stream",
     "text": [
      "     pcost       dcost       gap    pres   dres\n",
      " 0: -3.9456e-02 -5.2426e-01  7e+00  3e+00  3e+00\n",
      " 1:  3.7880e-02 -9.7271e-01  1e+00  4e-01  4e-01\n",
      " 2:  1.4246e-02 -1.1588e-01  1e-01  8e-16  9e-17\n",
      " 3: -3.3521e-02 -6.1566e-02  3e-02  3e-16  6e-17\n",
      " 4: -2.6937e-02 -5.0459e-02  2e-02  2e-16  3e-17\n",
      " 5: -3.5144e-02 -3.6520e-02  1e-03  1e-16  6e-18\n",
      " 6: -3.5252e-02 -3.5314e-02  6e-05  9e-17  1e-17\n",
      " 7: -3.5255e-02 -3.5256e-02  7e-07  6e-17  5e-18\n",
      " 8: -3.5255e-02 -3.5255e-02  7e-09  1e-16  1e-17\n",
      "Optimal solution found.\n",
      "Optimal risky portfolio for investor with risk aversion of 3.0 is:  [0.17008277 0.20359422 0.24242381]\n",
      "Saving weight:  38.4%\n",
      "Borrow weight:  0.0%\n",
      "Total weight in risky assets is:  61.6%\n"
     ]
    }
   ],
   "source": [
    "# Convention that borrowing weight is positive (this is what is coded in portfolio class)\n",
    "Q = np.zeros((n + 2, n + 2))\n",
    "Q[2:, 2:] = raver * cov\n",
    "Q = matrix(Q, tc=\"d\")\n",
    "p = np.array([-rs, rb] + list(-means))\n",
    "p = matrix(p, (n + 2, 1), tc=\"d\")\n",
    "# Constraint: short-sales not allowed, saving weight positive, borrowing weight positive\n",
    "G = matrix(-np.identity(n + 2), tc=\"d\")\n",
    "h = matrix(np.zeros(n+2), (n+2, 1), tc=\"d\")\n",
    "# Constraint: fully-invested portfolio\n",
    "A = matrix([1, -1] + n*[1], (1, n+2), tc=\"d\")\n",
    "b = matrix([1], (1, 1), tc=\"d\")\n",
    "sol = Solver(Q, p, G, h, A, b)\n",
    "if sol[\"status\"] == \"optimal\":\n",
    "    wgts_optimal = np.array(sol[\"x\"]).flatten()[2:]\n",
    "else:\n",
    "    wgts_optimal = None\n",
    "print('Optimal risky portfolio for investor with risk aversion of ' + f'{raver:.1f}' + ' is: ', wgts_optimal)\n",
    "print('Saving weight: ' + f'{np.array(sol[\"x\"]).flatten()[0]: .1%}')\n",
    "print('Borrow weight: ' + f'{np.array(sol[\"x\"]).flatten()[1]: .1%}')\n",
    "print('Total weight in risky assets is: ' + f'{np.sum(wgts_optimal): .1%}')"
   ]
  },
  {
   "cell_type": "code",
   "execution_count": 18,
   "metadata": {},
   "outputs": [
    {
     "name": "stdout",
     "output_type": "stream",
     "text": [
      "     pcost       dcost       gap    pres   dres\n",
      " 0: -3.9456e-02 -5.2426e-01  7e+00  3e+00  3e+00\n",
      " 1:  3.7880e-02 -9.7271e-01  1e+00  4e-01  4e-01\n",
      " 2:  1.4246e-02 -1.1588e-01  1e-01  8e-16  9e-17\n",
      " 3: -3.3521e-02 -6.1566e-02  3e-02  3e-16  6e-17\n",
      " 4: -2.6937e-02 -5.0459e-02  2e-02  2e-16  3e-17\n",
      " 5: -3.5144e-02 -3.6520e-02  1e-03  1e-16  6e-18\n",
      " 6: -3.5252e-02 -3.5314e-02  6e-05  9e-17  1e-17\n",
      " 7: -3.5255e-02 -3.5256e-02  7e-07  6e-17  5e-18\n",
      " 8: -3.5255e-02 -3.5255e-02  7e-09  1e-16  1e-17\n",
      "Optimal solution found.\n",
      "Optimal risky portfolio for investor with risk aversion of 3.0 is:  [0.17008277 0.20359422 0.24242381]\n",
      "Saving weight:  38.4%\n",
      "Borrow weight: -0.0%\n",
      "Total weight in risky assets is:  61.6%\n"
     ]
    }
   ],
   "source": [
    "# Convention where borrowing portfolio weight is negative\n",
    "Q = np.zeros((n + 2, n + 2))\n",
    "Q[2:, 2:] = raver * cov\n",
    "Q = matrix(Q, tc=\"d\")\n",
    "p = np.array([-rs, -rb] + list(-means))\n",
    "p = matrix(p, (n + 2, 1), tc=\"d\")\n",
    "# Constraint: short-sales not allowed, saving weight positive, borrowing weight negative\n",
    "G = -np.identity(n + 2)\n",
    "G[1, 1] = 1\n",
    "G = matrix(G, (n+2, n+2), tc=\"d\")\n",
    "h = matrix(np.zeros(n+2), (n+2, 1), tc=\"d\")\n",
    "# Constraint: fully-invested portfolio\n",
    "A = matrix(np.ones(n+2), (1, n+2), tc=\"d\")\n",
    "b = matrix([1], (1, 1), tc=\"d\")\n",
    "sol = Solver(Q, p, G, h, A, b)\n",
    "if sol[\"status\"] == \"optimal\":\n",
    "    wgts_optimal = np.array(sol[\"x\"]).flatten()[2:]\n",
    "else:\n",
    "    wgts_optimal = None\n",
    "print('Optimal risky portfolio for investor with risk aversion of ' + f'{raver:.1f}' + ' is: ', wgts_optimal)\n",
    "print('Saving weight: ' + f'{np.array(sol[\"x\"]).flatten()[0]: .1%}')\n",
    "print('Borrow weight: ' + f'{np.array(sol[\"x\"]).flatten()[1]: .1%}')\n",
    "print('Total weight in risky assets is: ' + f'{np.sum(wgts_optimal): .1%}')"
   ]
  },
  {
   "cell_type": "markdown",
   "metadata": {},
   "source": [
    "#### Risky-assets only (without risk-free assets)\n"
   ]
  },
  {
   "cell_type": "code",
   "execution_count": 19,
   "metadata": {},
   "outputs": [
    {
     "name": "stdout",
     "output_type": "stream",
     "text": [
      "     pcost       dcost       gap    pres   dres\n",
      " 0: -3.0013e-02 -1.0336e+00  1e+00  0e+00  2e+00\n",
      " 1: -3.0040e-02 -4.3508e-02  1e-02  1e-16  3e-02\n",
      " 2: -3.0567e-02 -3.1779e-02  1e-03  1e-16  2e-03\n",
      " 3: -3.0682e-02 -3.0757e-02  7e-05  1e-16  3e-05\n",
      " 4: -3.0684e-02 -3.0685e-02  9e-07  8e-17  3e-07\n",
      " 5: -3.0684e-02 -3.0684e-02  9e-09  8e-17  3e-09\n",
      "Optimal solution found.\n",
      "Optimal risky portfolio for investor with risk aversion of 3.0 is:  [0.47066932 0.36021959 0.16911109]\n"
     ]
    }
   ],
   "source": [
    "# Convention where borrowing portfolio weight is negative\n",
    "Q = matrix(raver * cov, tc=\"d\")\n",
    "p = matrix(-means, (n, 1), tc=\"d\")\n",
    "# Constraint: short-sales not allowed, saving weight positive, borrowing weight negative\n",
    "G = matrix(-np.identity(n), tc=\"d\")\n",
    "h = matrix(np.zeros(n), (n, 1), tc=\"d\")\n",
    "# Constraint: fully-invested portfolio\n",
    "A = matrix(np.ones(n), (1, n), tc=\"d\")\n",
    "b = matrix([1], (1, 1), tc=\"d\")\n",
    "sol = Solver(Q, p, G, h, A, b)\n",
    "if sol[\"status\"] == \"optimal\":\n",
    "    wgts_optimal = np.array(sol[\"x\"]).flatten()\n",
    "else:\n",
    "    wgts_optimal = None\n",
    "print('Optimal risky portfolio for investor with risk aversion of ' + f'{raver:.1f}' + ' is: ', wgts_optimal)"
   ]
  },
  {
   "cell_type": "markdown",
   "metadata": {},
   "source": [
    "# With Short-Sales\n",
    "The GMV problem:\n",
    "$$ \\underset{w_1,w_2,\\dots,w_N}{\\text{min}} \\text{var}[r_p]$$ \n",
    "subject to the constraints $\\sum_i w_i=1$\n"
   ]
  },
  {
   "cell_type": "code",
   "execution_count": 20,
   "metadata": {},
   "outputs": [
    {
     "name": "stdout",
     "output_type": "stream",
     "text": [
      "GMV portfolio is:  [ 0.78298611  0.40798611 -0.19097222]\n",
      "     pcost       dcost       gap    pres   dres\n",
      " 0:  1.0339e-02  1.0339e-02  3e+00  2e+00  0e+00\n",
      " 1:  1.0339e-02  1.0339e-02  3e-02  2e-02  0e+00\n",
      " 2:  1.0339e-02  1.0339e-02  3e-04  2e-04  0e+00\n",
      " 3:  1.0339e-02  1.0339e-02  3e-06  2e-06  0e+00\n",
      " 4:  1.0339e-02  1.0339e-02  3e-08  2e-08  0e+00\n",
      "Optimal solution found.\n",
      "GMV portfolio is:  [ 0.78298611  0.40798611 -0.19097222]\n"
     ]
    }
   ],
   "source": [
    "# Method 1: GMV: theoretical solution\n",
    "n = len(means)\n",
    "w = np.linalg.solve(cov, np.ones(n))\n",
    "wgts_gmv = w / np.sum(w)\n",
    "print('GMV portfolio is: ', wgts_gmv)\n",
    "# Method 2: The GMV problem without short-sale constraints\n",
    "n = len(means)\n",
    "Q = matrix(cov, tc=\"d\")\n",
    "p = matrix(np.zeros(n), (n, 1), tc=\"d\")\n",
    "# No position limits\n",
    "G = matrix(np.zeros((n,n)), tc=\"d\")\n",
    "h = matrix(np.zeros(n), (n, 1), tc=\"d\")\n",
    "# Fully-invested constraint\n",
    "A = matrix(np.ones(n), (1, n), tc=\"d\")\n",
    "b = matrix([1], (1, 1), tc=\"d\")\n",
    "sol = Solver(Q, p, G, h, A, b)\n",
    "wgts_gmv = np.array(sol[\"x\"]).flatten() if sol[\"status\"] == \"optimal\" else np.array(n * [np.nan])\n",
    "print('GMV portfolio is: ', wgts_gmv)"
   ]
  },
  {
   "cell_type": "markdown",
   "metadata": {},
   "source": [
    "The frontier problem:\n",
    "$$ \\underset{w_1,w_2,\\dots,w_N}{\\text{min}} \\text{var}[r_p]$$ \n",
    "subject to the constraints $\\sum_i w_i E[r_i]=E[r_{\\text{target}}]$, $\\sum_i w_i=1$.\n"
   ]
  },
  {
   "cell_type": "code",
   "execution_count": 21,
   "metadata": {},
   "outputs": [
    {
     "name": "stdout",
     "output_type": "stream",
     "text": [
      "Frontier portfolio for expected return of 7.0% is:  [0.25461741 0.32717678 0.4182058 ]\n"
     ]
    }
   ],
   "source": [
    "\n",
    "# Method 1: frontier: theoretical solution without short-sale constraint\n",
    "# m=target expected return\n",
    "m = 0.07\n",
    "n = len(means)\n",
    "w = np.linalg.solve(cov, np.ones(n))\n",
    "wgts_gmv = w / np.sum(w)\n",
    "w = np.linalg.solve(cov, means)\n",
    "piMu = w / np.sum(w)\n",
    "m1 = wgts_gmv @ means\n",
    "m2 = piMu @ means\n",
    "a = (m - m2) / (m1 - m2)\n",
    "wgts_frontier= a * wgts_gmv + (1 - a) * piMu\n",
    "\n",
    "print('Frontier portfolio for expected return of ' + f'{m:.1%}' + ' is: ', wgts_frontier)\n"
   ]
  },
  {
   "cell_type": "code",
   "execution_count": 22,
   "metadata": {},
   "outputs": [
    {
     "name": "stdout",
     "output_type": "stream",
     "text": [
      "     pcost       dcost       gap    pres   dres\n",
      " 0:  1.3661e-02  1.3661e-02  3e+00  2e+00  8e-18\n",
      " 1:  1.3661e-02  1.3661e-02  3e-02  2e-02  1e-17\n",
      " 2:  1.3661e-02  1.3661e-02  3e-04  2e-04  3e-18\n",
      " 3:  1.3661e-02  1.3661e-02  3e-06  2e-06  8e-18\n",
      " 4:  1.3661e-02  1.3661e-02  3e-08  2e-08  0e+00\n",
      "Optimal solution found.\n",
      "Frontier portfolio for expected return of 7.0% is:  [0.25461741 0.32717678 0.4182058 ]\n"
     ]
    }
   ],
   "source": [
    "# Method 2: frontier: numerical solutions without short-sale constraint\n",
    "# m=target expected return\n",
    "m = 0.07\n",
    "n = len(means)\n",
    "Q = matrix(cov, tc=\"d\")\n",
    "p = matrix(np.zeros(n), (n, 1), tc=\"d\")\n",
    "# No position limits\n",
    "G = matrix(np.zeros((n,n)), tc=\"d\")\n",
    "h = matrix(np.zeros(n), (n, 1), tc=\"d\")\n",
    "# Fully-invested constraint\n",
    "A = matrix(np.vstack((np.ones(n), means)), (2, n), tc=\"d\")\n",
    "b = matrix([1, m], (2, 1), tc=\"d\")\n",
    "sol = Solver(Q, p, G, h, A, b)\n",
    "wgts_frontier = np.array(sol[\"x\"]).flatten() if sol[\"status\"] == \"optimal\" else np.array(n * [np.nan])\n",
    "print('Frontier portfolio for expected return of ' + f'{m:.1%}' + ' is: ', wgts_frontier)\n"
   ]
  },
  {
   "cell_type": "markdown",
   "metadata": {},
   "source": [
    "The tangency problem:\n",
    "$$ \\underset{w_1,w_2,\\dots,w_N}{\\text{max}} \\frac{E[r_p] - r_f}{\\text{sd}[r_p]} $$ \n",
    "subject to the constraints $\\sum_i w_i=1$.\n"
   ]
  },
  {
   "cell_type": "code",
   "execution_count": 23,
   "metadata": {},
   "outputs": [
    {
     "name": "stdout",
     "output_type": "stream",
     "text": [
      "Tangency portfolio is:  [0.27606178 0.33045651 0.39348172]\n"
     ]
    }
   ],
   "source": [
    "# Method 1: tangency: theoretical solution without short-sale constraint\n",
    "w = np.linalg.solve(cov, means - r)\n",
    "wgts_tangency = w / np.sum(w)\n",
    "print('Tangency portfolio is: ', wgts_tangency)"
   ]
  },
  {
   "cell_type": "code",
   "execution_count": 24,
   "metadata": {},
   "outputs": [
    {
     "name": "stdout",
     "output_type": "stream",
     "text": [
      "Tangency portfolio is:  [0.27515622 0.32986942 0.39497436]\n"
     ]
    }
   ],
   "source": [
    "# Method #2: tangency: numerical solution without short-sale constraints\n",
    "# Directly minimize the negative Sharpe ratio by changing the weights\n",
    "n = len(means)\n",
    "def f(w):\n",
    "    mn = w @ means\n",
    "    sd = np.sqrt(w.T @ cov @ w)\n",
    "    return -(mn - r) / sd\n",
    "# Initial guess (equal-weighted)\n",
    "w0 = (1/n)*np.ones(n)\n",
    "# Constraint: fully-invested portfolio\n",
    "A = np.ones(n)\n",
    "b = 1\n",
    "cons = [{\"type\": \"eq\", \"fun\": lambda x: A @ x - b}]\n",
    "# No short-sale constraint\n",
    "bnds = [(None, None) for i in range(n)] \n",
    "# Optimization\n",
    "wgts_tangency = minimize(f, w0, bounds=bnds, constraints=cons).x\n",
    "print('Tangency portfolio is: ', wgts_tangency)"
   ]
  },
  {
   "cell_type": "markdown",
   "metadata": {},
   "source": [
    "### Optimal portfolios based on risk aversion:"
   ]
  },
  {
   "cell_type": "markdown",
   "metadata": {},
   "source": [
    "\n",
    "The optimal portfolio for investor with risk aversion $A$:\n",
    "$$ \\underset{w_{\\text{saving}},w_{\\text{borrow}},w_1,w_2,\\dots,w_N}{\\text{max}} E[r_p] - 0.5 \\cdot A \\text{var}[r_p] $$ \n",
    "subject to the constraints $w_{\\text{saving}} - w_{\\text{borrow}}+\\sum_i w_i=1$, $w_{\\text{saving}} \\ge 0$, and $w_{\\text{borrow}} \\ge 0$.  Under this notation where the borrowing weight is positive, the return on borrowing is negative: $-r_b < 0$. \n",
    "\n",
    "Alternatively, we can use the usual notation where borrowing is represented by $w_{\\text{borrow}}<0$.  In this case, the constraints are $w_{\\text{saving}} + w_{\\text{borrow}}+\\sum_i w_i=1$, $w_{\\text{saving}} \\ge 0$, and $w_{\\text{borrow}} \\le 0$, and the return on the borrowing risk-free asset is $r_b>0$.\n"
   ]
  },
  {
   "cell_type": "code",
   "execution_count": 25,
   "metadata": {},
   "outputs": [],
   "source": [
    "# Case #1: multiple borrowing rates\n",
    "raver = 3\n",
    "\n",
    "# Risk-free saving\n",
    "rs = 0.02\n",
    "# Risk-free borrowing\n",
    "rb = 0.04"
   ]
  },
  {
   "cell_type": "code",
   "execution_count": 26,
   "metadata": {},
   "outputs": [
    {
     "name": "stdout",
     "output_type": "stream",
     "text": [
      "     pcost       dcost       gap    pres   dres\n",
      " 0: -3.2806e-02 -1.0394e-02  2e+00  1e+00  1e+00\n",
      " 1: -1.5421e-02 -7.9172e-02  7e-02  3e-02  3e-02\n",
      " 2: -2.6430e-02 -3.5970e-02  1e-02  2e-16  7e-18\n",
      " 3: -3.5164e-02 -3.5483e-02  3e-04  2e-16  6e-18\n",
      " 4: -3.5254e-02 -3.5258e-02  4e-06  2e-16  6e-18\n",
      " 5: -3.5255e-02 -3.5255e-02  4e-08  6e-17  7e-18\n",
      "Optimal solution found.\n",
      "Optimal risky portfolio for investor with risk aversion of 3.0 is:  [0.17008091 0.20359394 0.24242445]\n",
      "Saving weight:  38.4%\n",
      "Borrow weight:  0.0%\n",
      "Total weight in risky assets is:  61.6%\n"
     ]
    }
   ],
   "source": [
    "# Convention that borrowing weight is positive (this is what is coded in portfolio class)\n",
    "Q = np.zeros((n + 2, n + 2))\n",
    "Q[2:, 2:] = raver * cov\n",
    "Q = matrix(Q, tc=\"d\")\n",
    "p = np.array([-rs, rb] + list(-means))\n",
    "p = matrix(p, (n + 2, 1), tc=\"d\")\n",
    "# Constraint: saving weight positive, borrowing weight positive\n",
    "G = np.zeros((2, n + 2))\n",
    "G[0, 0] = G[1, 1] = -1\n",
    "G = matrix(G, (2, n+2), tc=\"d\")\n",
    "h = matrix([0, 0], (2, 1), tc=\"d\")\n",
    "# Constraint: fully-invested portfolio\n",
    "A = matrix([1, -1] + n*[1], (1, n+2), tc=\"d\")\n",
    "b = matrix([1], (1, 1), tc=\"d\")\n",
    "sol = Solver(Q, p, G, h, A, b)\n",
    "if sol[\"status\"] == \"optimal\":\n",
    "    wgts_optimal = np.array(sol[\"x\"]).flatten()[2:]\n",
    "else:\n",
    "    wgts_optimal = None\n",
    "print('Optimal risky portfolio for investor with risk aversion of ' + f'{raver:.1f}' + ' is: ', wgts_optimal)\n",
    "print('Saving weight: ' + f'{np.array(sol[\"x\"]).flatten()[0]: .1%}')\n",
    "print('Borrow weight: ' + f'{np.array(sol[\"x\"]).flatten()[1]: .1%}')\n",
    "print('Total weight in risky assets is: ' + f'{np.sum(wgts_optimal): .1%}')"
   ]
  },
  {
   "cell_type": "code",
   "execution_count": 27,
   "metadata": {},
   "outputs": [
    {
     "name": "stdout",
     "output_type": "stream",
     "text": [
      "     pcost       dcost       gap    pres   dres\n",
      " 0: -3.2806e-02 -1.0394e-02  2e+00  1e+00  1e+00\n",
      " 1: -1.5421e-02 -7.9172e-02  7e-02  3e-02  3e-02\n",
      " 2: -2.6430e-02 -3.5970e-02  1e-02  2e-16  7e-18\n",
      " 3: -3.5164e-02 -3.5483e-02  3e-04  2e-16  6e-18\n",
      " 4: -3.5254e-02 -3.5258e-02  4e-06  2e-16  6e-18\n",
      " 5: -3.5255e-02 -3.5255e-02  4e-08  6e-17  7e-18\n",
      "Optimal solution found.\n",
      "Optimal risky portfolio for investor with risk aversion of 3.0 is:  [0.17008091 0.20359394 0.24242445]\n",
      "Saving weight:  38.4%\n",
      "Borrow weight: -0.0%\n",
      "Total weight in risky assets is:  61.6%\n"
     ]
    }
   ],
   "source": [
    "# Convention where borrowing portfolio weight is negative\n",
    "Q = np.zeros((n + 2, n + 2))\n",
    "Q[2:, 2:] = raver * cov\n",
    "Q = matrix(Q, tc=\"d\")\n",
    "p = np.array([-rs, -rb] + list(-means))\n",
    "p = matrix(p, (n + 2, 1), tc=\"d\")\n",
    "# Constraint: saving weight positive, borrowing weight negative\n",
    "G = np.zeros((2, n + 2))\n",
    "G[0, 0] = -1\n",
    "G[1, 1] = 1\n",
    "G = matrix(G, (2, n+2), tc=\"d\")\n",
    "h = matrix([0, 0], (2, 1), tc=\"d\")\n",
    "# Constraint: fully-invested portfolio\n",
    "A = matrix(np.ones(n+2), (1, n+2), tc=\"d\")\n",
    "b = matrix([1], (1, 1), tc=\"d\")\n",
    "sol = Solver(Q, p, G, h, A, b)\n",
    "if sol[\"status\"] == \"optimal\":\n",
    "    wgts_optimal = np.array(sol[\"x\"]).flatten()[2:]\n",
    "else:\n",
    "    wgts_optimal = None\n",
    "print('Optimal risky portfolio for investor with risk aversion of ' + f'{raver:.1f}' + ' is: ', wgts_optimal)\n",
    "print('Saving weight: ' + f'{np.array(sol[\"x\"]).flatten()[0]: .1%}')\n",
    "print('Borrow weight: ' + f'{np.array(sol[\"x\"]).flatten()[1]: .1%}')\n",
    "print('Total weight in risky assets is: ' + f'{np.sum(wgts_optimal): .1%}')"
   ]
  },
  {
   "cell_type": "markdown",
   "metadata": {},
   "source": [
    "#### Risky-assets only (without risk-free assets)"
   ]
  },
  {
   "cell_type": "code",
   "execution_count": 28,
   "metadata": {},
   "outputs": [
    {
     "name": "stdout",
     "output_type": "stream",
     "text": [
      "Optimal risky portfolio for investor with risk aversion of 3.0 is:  [0.47066983 0.36022009 0.16911008]\n"
     ]
    }
   ],
   "source": [
    "# Method #1: theoretical solution without short-sale constraint\n",
    "w = np.linalg.solve(cov, np.ones(n))\n",
    "GMV = w / np.sum(w)\n",
    "w = np.linalg.solve(cov, means)\n",
    "piMu = w / np.sum(w)\n",
    "a = np.sum(w)\n",
    "wgts_optimal = (a/raver)*piMu + (1-a/raver)*GMV\n",
    "print('Optimal risky portfolio for investor with risk aversion of ' + f'{raver:.1f}' + ' is: ', wgts_optimal)"
   ]
  },
  {
   "cell_type": "code",
   "execution_count": 29,
   "metadata": {},
   "outputs": [
    {
     "name": "stdout",
     "output_type": "stream",
     "text": [
      "     pcost       dcost       gap    pres   dres\n",
      " 0: -3.0013e-02 -1.0336e+00  1e+00  0e+00  2e+00\n",
      " 1: -3.0040e-02 -4.3508e-02  1e-02  1e-16  3e-02\n",
      " 2: -3.0567e-02 -3.1779e-02  1e-03  1e-16  2e-03\n",
      " 3: -3.0682e-02 -3.0757e-02  7e-05  1e-16  3e-05\n",
      " 4: -3.0684e-02 -3.0685e-02  9e-07  8e-17  3e-07\n",
      " 5: -3.0684e-02 -3.0684e-02  9e-09  8e-17  3e-09\n",
      "Optimal solution found.\n",
      "Optimal risky portfolio for investor with risk aversion of 3.0 is:  [0.47066932 0.36021959 0.16911109]\n"
     ]
    }
   ],
   "source": [
    "# Method #2: numerical solution without short-sale constraint\n",
    "Q = matrix(raver * cov, tc=\"d\")\n",
    "p = matrix(-means, (n, 1), tc=\"d\")\n",
    "# Constraint: short-sales not allowed, saving weight positive, borrowing weight negative\n",
    "G = matrix(-np.identity(n), tc=\"d\")\n",
    "h = matrix(np.zeros(n), (n, 1), tc=\"d\")\n",
    "# Constraint: fully-invested portfolio\n",
    "A = matrix(np.ones(n), (1, n), tc=\"d\")\n",
    "b = matrix([1], (1, 1), tc=\"d\")\n",
    "sol = Solver(Q, p, G, h, A, b)\n",
    "if sol[\"status\"] == \"optimal\":\n",
    "    wgts_optimal = np.array(sol[\"x\"]).flatten()\n",
    "else:\n",
    "    wgts_optimal = None\n",
    "print('Optimal risky portfolio for investor with risk aversion of ' + f'{raver:.1f}' + ' is: ', wgts_optimal)"
   ]
  }
 ],
 "metadata": {
  "kernelspec": {
   "display_name": "Python 3.10.6 ('venv': venv)",
   "language": "python",
   "name": "python3"
  },
  "language_info": {
   "codemirror_mode": {
    "name": "ipython",
    "version": 3
   },
   "file_extension": ".py",
   "mimetype": "text/x-python",
   "name": "python",
   "nbconvert_exporter": "python",
   "pygments_lexer": "ipython3",
   "version": "3.10.6"
  },
  "orig_nbformat": 4,
  "vscode": {
   "interpreter": {
    "hash": "cc788b38d8cb434c82f45ef9d481d0310e17b79321e4c8cbfbfe90f656a3f023"
   }
  }
 },
 "nbformat": 4,
 "nbformat_minor": 2
}
