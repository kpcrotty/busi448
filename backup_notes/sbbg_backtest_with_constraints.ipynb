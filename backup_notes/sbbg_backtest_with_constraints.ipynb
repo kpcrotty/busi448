{
 "cells": [
  {
   "cell_type": "markdown",
   "metadata": {},
   "source": [
    "# Implement SBB + Gold portfolios with following practical restrictions\n",
    "1. Cap leverage at 100%\n",
    "2. Target expected return of the 1/N portfolio\n",
    "3. Add risky borrowing with $r_b = r_s + 2\\%$\n",
    "\n"
   ]
  },
  {
   "cell_type": "code",
   "execution_count": 1,
   "metadata": {},
   "outputs": [],
   "source": [
    "import numpy as np\n",
    "from cvxopt import matrix\n",
    "from cvxopt.solvers import qp as Solver, options as SolverOptions\n",
    "from scipy.optimize import minimize_scalar\n",
    "from scipy.optimize import minimize\n",
    "import plotly.graph_objects as go\n",
    "from scipy.stats import multivariate_normal as mvn\n",
    "import pandas as pd\n",
    "\n",
    "import quandl\n",
    "quandl.ApiConfig.api_key = \"f-5zoU2G4zzHaUtkJ7BY\""
   ]
  },
  {
   "cell_type": "markdown",
   "metadata": {},
   "source": [
    "## Functions"
   ]
  },
  {
   "cell_type": "code",
   "execution_count": 67,
   "metadata": {},
   "outputs": [],
   "source": [
    "def tangency(means, cov, rf, short_lb):\n",
    "    '''\n",
    "    short_lb: lower bound on position weights\n",
    "    examples: 0  = no short-selling\n",
    "              -1 = no more than -100% in a given asset\n",
    "              None=no restrictions on short-selling\n",
    "    '''\n",
    "\n",
    "    n = len(means)\n",
    "    def f(w):\n",
    "        mn = w @ means\n",
    "        sd = np.sqrt(w.T @ cov @ w)\n",
    "        return -(mn - rf) / sd\n",
    "    # Initial guess (equal-weighted)\n",
    "    w0 = (1/n)*np.ones(n)\n",
    "    # Constraint: fully-invested portfolio\n",
    "    A = np.ones(n)\n",
    "    b = 1\n",
    "    cons = [{\"type\": \"eq\", \"fun\": lambda x: A @ x - b}]\n",
    "    bnds = [(short_lb, None) for i in range(n)] \n",
    "    # Optimization\n",
    "    wgts_tangency = minimize(f, w0, bounds=bnds, constraints=cons).x\n",
    "    return wgts_tangency\n",
    "def gmv(cov, short_lb): \n",
    "    '''\n",
    "    short_lb: lower bound on position weights\n",
    "    examples: 0  = no short-selling\n",
    "              -1 = no more than -100% in a given asset\n",
    "              None=no restrictions on short-selling\n",
    "    '''    \n",
    "    n = len(cov)\n",
    "    Q = matrix(cov, tc=\"d\")\n",
    "    p = matrix(np.zeros(n), (n, 1), tc=\"d\")\n",
    "    if short_lb==None:\n",
    "        # No position limits\n",
    "        G = matrix(np.zeros((n,n)), tc=\"d\")\n",
    "        h = matrix(np.zeros(n), (n, 1), tc=\"d\")\n",
    "    else:\n",
    "        # Constraint: short-sales not allowed\n",
    "        G = matrix(-np.identity(n), tc=\"d\")\n",
    "        h = matrix(-short_lb * np.ones(n), (n, 1), tc=\"d\")\n",
    "    # Fully-invested constraint\n",
    "    A = matrix(np.ones(n), (1, n), tc=\"d\")\n",
    "    b = matrix([1], (1, 1), tc=\"d\")\n",
    "    sol = Solver(Q, p, G, h, A, b, options={'show_progress': False})\n",
    "    wgts_gmv = np.array(sol[\"x\"]).flatten() if sol[\"status\"] == \"optimal\" else np.array(n * [np.nan])\n",
    "    return wgts_gmv    \n",
    "\n",
    "def optimal(means, cov, raver, rs, rb, short_lb):\n",
    "    '''\n",
    "    short_lb: lower bound on position weights\n",
    "    examples: 0  = no short-selling\n",
    "              -1 = no more than -100% in a given asset\n",
    "              None=no restrictions on short-selling\n",
    "    '''  \n",
    "    n = len(cov)\n",
    "    Q = np.zeros((n + 2, n + 2))\n",
    "    Q[2:, 2:] = raver * cov\n",
    "    Q = matrix(Q, tc=\"d\")\n",
    "    p = np.array([-rs, -rb] + list(-means))\n",
    "    p = matrix(p, (n + 2, 1), tc=\"d\")\n",
    "    if short_lb==None:\n",
    "        # Constraint: short-sales unconstrained, saving weight positive, borrowing weight negative\n",
    "        G = np.zeros((2, n + 2))\n",
    "        G[0, 0] = -1\n",
    "        G[1, 1] = 1\n",
    "        G = matrix(G, (2, n+2), tc=\"d\")\n",
    "        h = matrix([0, 0], (2, 1), tc=\"d\")\n",
    "    else:    \n",
    "        # Constraint: short-sales constrained, saving weight positive, borrowing weight negative\n",
    "        G = -np.identity(n + 2)\n",
    "        G[1, 1] = 1\n",
    "        G = matrix(G, (n+2, n+2), tc=\"d\")\n",
    "        h = matrix(np.zeros(n+2), (n+2, 1), tc=\"d\")\n",
    "    # Constraint: fully-invested portfolio\n",
    "    A = matrix(np.ones(n+2), (1, n+2), tc=\"d\")\n",
    "    b = matrix([1], (1, 1), tc=\"d\")\n",
    "    sol = Solver(Q, p, G, h, A, b)\n",
    "    # function returns vector of risky asset weights\n",
    "    return np.array(sol[\"x\"]).flatten()[2:] if sol[\"status\"] == \"optimal\" else None    \n",
    "\n"
   ]
  },
  {
   "cell_type": "markdown",
   "metadata": {},
   "source": [
    "## Pull the data"
   ]
  },
  {
   "cell_type": "code",
   "execution_count": 86,
   "metadata": {},
   "outputs": [],
   "source": [
    "# Pull the data (from sbb.py and gold.py from website codebase)\n",
    "# Stocks, bonds, bills\n",
    "nominal = pd.read_csv('https://www.dropbox.com/s/hgwte6swx57jqcv/nominal_sbb.csv?dl=1', index_col=['Year'])\n",
    "\n",
    "# Gold\n",
    "d = quandl.get(\"LBMA/GOLD\")['USD (AM)']\n",
    "gold = d.resample('Y').last().iloc[:-1]\n",
    "gold.index = [x.year for x in gold.index]\n",
    "gold.loc[1967] = d.iloc[0]\n",
    "gold = gold.sort_index().pct_change().dropna()\n",
    "gold.name = 'Gold'\n",
    " \n",
    "\n",
    "df = pd.concat((nominal, gold), axis=1).dropna()\n",
    "assets = ['TBills','S&P 500', 'Gold', 'Corporates', 'Treasuries']\n",
    "df = df[assets]\n",
    "\n",
    "\n",
    "##### Inputs\n",
    "# Window length (and initial period)\n",
    "window = 20\n",
    "n = len(assets)-1\n",
    "raver = 5\n",
    "short_lb = None\n",
    "T = len(df)-window\n",
    "#Extra borrowing rate (annual in decimal)\n",
    "excess_rb = 0.04"
   ]
  },
  {
   "cell_type": "markdown",
   "metadata": {},
   "source": [
    "## Option 0: Rolling input estimation: No constraints"
   ]
  },
  {
   "cell_type": "code",
   "execution_count": 98,
   "metadata": {},
   "outputs": [],
   "source": [
    "# Refresh data\n",
    "df = pd.concat((nominal, gold), axis=1).dropna()\n",
    "assets = ['TBills','S&P 500', 'Gold', 'Corporates', 'Treasuries']\n",
    "df = df[assets]\n",
    "\n",
    "# Rolling input estimation\n",
    "risky = assets[1:]\n",
    "df.columns = ['rf']+['r'+str(i) for i in range(n)]\n",
    "asset_list = [str(i) for i in range(n)]\n",
    "for asset in asset_list:\n",
    "    df['mn' + asset]=df['r'+asset].rolling(window).mean()\n",
    "    df['sd' + asset]=df['r'+asset].rolling(window).std()\n",
    "\n",
    "ret_list = ['r' + asset for asset in asset_list]\n",
    "corrs = df[ret_list].rolling(window, min_periods=window).corr()\n",
    "\n",
    "corr_list = []\n",
    "for j, asset in enumerate(asset_list):\n",
    "    for k in range(j+1,n):\n",
    "        df['c'+asset+str(k)]=corrs.loc[(slice(None),'r'+asset),'r'+str(k)].values\n",
    "df['year'] = df.index\n",
    "df = df.reset_index()\n",
    "\n",
    "\n",
    "# Prepare columns for the rolling optimization output\n",
    "model_list = ['ew', 'est_all', 'est_cov', 'est_sds']\n",
    "for model in model_list:\n",
    "    df['portret_'+model] = np.nan      #portret is the realized portfolio return of the 100% risky asset portfolio\n",
    "    if model not in ['ew']:\n",
    "        for asset in asset_list:\n",
    "            df['wgt' + asset + '_' +model] = np.nan\n",
    "    df['wgt_cal_'+model] =np.nan\n",
    "    df['raver_portret_'+model] =np.nan #raver_portret_ is the realized return of the CAL choice of the raver investor\n",
    "\n",
    "mn_list = ['mn'+asset for asset in asset_list]\n",
    "sd_list = ['sd'+asset for asset in asset_list] \n",
    "\n",
    "# Choose optimal portfolios each time period\n",
    "for i in np.arange(window,window+T):\n",
    "    # Full estimation inputs at each point in time\n",
    "    means = df[mn_list].iloc[i-1].values\n",
    "    sds   = df[sd_list].iloc[i-1].values\n",
    "    C  = np.identity(n)\n",
    "    for j, asset in enumerate(asset_list):\n",
    "        for k in range(j+1,n):\n",
    "            C[j, k] = C[k, j] =    df.loc[i-1,'c'+asset+str(k)]  \n",
    "    cov = np.diag(sds) @ C @ np.diag(sds)\n",
    "\n",
    "    r = df.loc[i,'rf']\n",
    "    ##### Note: all portfolio weights considered to be beginning of period weights\n",
    "    ##### (so multiply by contemporaneous realized returns)\n",
    "    # Full estimation tangency portfolio\n",
    "    model = 'est_all'\n",
    "    wgts = tangency(means,cov,r,short_lb)\n",
    "    for j, asset in enumerate(asset_list):\n",
    "        df.loc[i,'wgt'+asset+'_' + model] = wgts[j]\n",
    "    df.loc[i,'portret_'+model] = df.loc[i,ret_list].values @ wgts\n",
    "    df.loc[i,'wgt_cal_'+model] = (wgts @ means - r) / (raver * (wgts @ cov @ wgts))\n",
    "    df.loc[i,'wgt_cal_'+model] = max(0,df.loc[i,'wgt_cal_'+model])\n",
    "    df.loc[i,'raver_portret_'+model] = r + df.loc[i,'wgt_cal_'+model]  * (df.loc[i,'portret_'+model] -r)\n",
    "    df.loc[i,'expret_'+model] = means @ wgts\n",
    "    df.loc[i,'sd'+model] = np.sqrt(wgts @ cov @ wgts)\n",
    "\n",
    "    # Estimate only covariance matrix\n",
    "    model = 'est_cov'\n",
    "    wgts = gmv(cov,short_lb)\n",
    "    for j, asset in enumerate(asset_list):\n",
    "        df.loc[i,'wgt'+asset+'_' + model] = wgts[j]\n",
    "    df.loc[i,'portret_'+model] = df.loc[i,ret_list].values @ wgts\n",
    "    df.loc[i,'wgt_cal_'+model] = (means.mean() - r) / (raver * (wgts @ cov @ wgts))\n",
    "    df.loc[i,'wgt_cal_'+model] = max(0,df.loc[i,'wgt_cal_'+model])\n",
    "    df.loc[i,'raver_portret_'+model] = r + df.loc[i,'wgt_cal_'+model]  * (df.loc[i,'portret_'+model] -r)\n",
    "    df.loc[i,'expret_'+model] = means.mean()\n",
    "    df.loc[i,'sd'+model] = np.sqrt(wgts @ cov @ wgts)\n",
    "\n",
    "    # Estimate only standard deviations in covariance matrix\n",
    "    model = 'est_sds'\n",
    "    for j, asset in enumerate(asset_list):\n",
    "        for k in range(j+1,n):\n",
    "            cov[j, k] = cov[k, j] = 0.0\n",
    "    wgts = gmv(cov,short_lb)\n",
    "    for j, asset in enumerate(asset_list):\n",
    "        df.loc[i,'wgt'+asset+'_' + model] = wgts[j]\n",
    "    df.loc[i,'portret_'+model] = df.loc[i,ret_list].values @ wgts\n",
    "    df.loc[i,'wgt_cal_'+model] = (means.mean() - r) / (raver * (wgts @ cov @ wgts))\t\t\n",
    "    df.loc[i,'wgt_cal_'+model] = max(0,df.loc[i,'wgt_cal_'+model])\n",
    "    df.loc[i,'raver_portret_'+model] = r + df.loc[i,'wgt_cal_'+model]  * (df.loc[i,'portret_'+model] -r)    \n",
    "    df.loc[i,'expret_'+model] = means.mean()\n",
    "    df.loc[i,'sd'+model] = np.sqrt(wgts @ cov @ wgts)\n",
    "\n",
    "    # Equal-weighted portfolio\n",
    "    model = 'ew'\n",
    "    for j, asset in enumerate(asset_list):\n",
    "        cov[j,j] = (sds.mean())**2\n",
    "    wgts = (1/n)*np.ones(n)\n",
    "    df.loc[i,'portret_'+model] = df.loc[i,ret_list].values @ wgts\n",
    "    df.loc[i,'wgt_cal_'+model] = (means.mean() - r) / (raver * (wgts @ cov @ wgts))\n",
    "    df.loc[i,'wgt_cal_'+model] = max(0,df.loc[i,'wgt_cal_'+model])\n",
    "    df.loc[i,'raver_portret_'+model] = r + df.loc[i,'wgt_cal_'+model]  * (df.loc[i,'portret_'+model] -r)   \n",
    "    df.loc[i,'expret_'+model] = means.mean()\n",
    "    df.loc[i,'sd'+model] = np.sqrt(wgts @ cov @ wgts)    "
   ]
  },
  {
   "cell_type": "code",
   "execution_count": 35,
   "metadata": {},
   "outputs": [
    {
     "data": {
      "text/html": [
       "<div>\n",
       "<style scoped>\n",
       "    .dataframe tbody tr th:only-of-type {\n",
       "        vertical-align: middle;\n",
       "    }\n",
       "\n",
       "    .dataframe tbody tr th {\n",
       "        vertical-align: top;\n",
       "    }\n",
       "\n",
       "    .dataframe thead th {\n",
       "        text-align: right;\n",
       "    }\n",
       "</style>\n",
       "<table border=\"1\" class=\"dataframe\">\n",
       "  <thead>\n",
       "    <tr style=\"text-align: right;\">\n",
       "      <th></th>\n",
       "      <th>raver_portret_est_all</th>\n",
       "      <th>raver_portret_est_cov</th>\n",
       "      <th>raver_portret_est_sds</th>\n",
       "      <th>raver_portret_ew</th>\n",
       "    </tr>\n",
       "  </thead>\n",
       "  <tbody>\n",
       "    <tr>\n",
       "      <th>count</th>\n",
       "      <td>34.000000</td>\n",
       "      <td>34.000000</td>\n",
       "      <td>34.000000</td>\n",
       "      <td>34.000000</td>\n",
       "    </tr>\n",
       "    <tr>\n",
       "      <th>mean</th>\n",
       "      <td>0.298606</td>\n",
       "      <td>0.305746</td>\n",
       "      <td>0.317689</td>\n",
       "      <td>0.212242</td>\n",
       "    </tr>\n",
       "    <tr>\n",
       "      <th>std</th>\n",
       "      <td>0.406017</td>\n",
       "      <td>0.371266</td>\n",
       "      <td>0.331448</td>\n",
       "      <td>0.242597</td>\n",
       "    </tr>\n",
       "    <tr>\n",
       "      <th>min</th>\n",
       "      <td>-0.802216</td>\n",
       "      <td>-0.454778</td>\n",
       "      <td>-0.302823</td>\n",
       "      <td>-0.257604</td>\n",
       "    </tr>\n",
       "    <tr>\n",
       "      <th>25%</th>\n",
       "      <td>0.069471</td>\n",
       "      <td>0.135104</td>\n",
       "      <td>0.036213</td>\n",
       "      <td>0.035269</td>\n",
       "    </tr>\n",
       "    <tr>\n",
       "      <th>50%</th>\n",
       "      <td>0.351288</td>\n",
       "      <td>0.241430</td>\n",
       "      <td>0.347497</td>\n",
       "      <td>0.212161</td>\n",
       "    </tr>\n",
       "    <tr>\n",
       "      <th>75%</th>\n",
       "      <td>0.568270</td>\n",
       "      <td>0.453158</td>\n",
       "      <td>0.543779</td>\n",
       "      <td>0.309358</td>\n",
       "    </tr>\n",
       "    <tr>\n",
       "      <th>max</th>\n",
       "      <td>1.176866</td>\n",
       "      <td>1.045235</td>\n",
       "      <td>0.974309</td>\n",
       "      <td>0.701113</td>\n",
       "    </tr>\n",
       "  </tbody>\n",
       "</table>\n",
       "</div>"
      ],
      "text/plain": [
       "       raver_portret_est_all  raver_portret_est_cov  raver_portret_est_sds  \\\n",
       "count              34.000000              34.000000              34.000000   \n",
       "mean                0.298606               0.305746               0.317689   \n",
       "std                 0.406017               0.371266               0.331448   \n",
       "min                -0.802216              -0.454778              -0.302823   \n",
       "25%                 0.069471               0.135104               0.036213   \n",
       "50%                 0.351288               0.241430               0.347497   \n",
       "75%                 0.568270               0.453158               0.543779   \n",
       "max                 1.176866               1.045235               0.974309   \n",
       "\n",
       "       raver_portret_ew  \n",
       "count         34.000000  \n",
       "mean           0.212242  \n",
       "std            0.242597  \n",
       "min           -0.257604  \n",
       "25%            0.035269  \n",
       "50%            0.212161  \n",
       "75%            0.309358  \n",
       "max            0.701113  "
      ]
     },
     "execution_count": 35,
     "metadata": {},
     "output_type": "execute_result"
    }
   ],
   "source": [
    "portret_list = ['raver_portret_' +  model for model in ['est_all', 'est_cov', 'est_sds','ew']]\n",
    "stats = df[portret_list].describe()\n",
    "stats"
   ]
  },
  {
   "cell_type": "code",
   "execution_count": 36,
   "metadata": {},
   "outputs": [],
   "source": [
    "# Summarize sharpe ratio, avg ret, sd(ret) for each model\n",
    "sr_df = pd.DataFrame(dtype=float, columns = ['sr','avg_ret','sd_ret'], index = ['est_all', 'est_cov', 'est_sds','ew'])\n",
    "r = df[np.isnan(df['raver_portret_ew'])==False].rf.mean()\n",
    "for model in ['est_all', 'est_cov', 'est_sds','ew']:\n",
    "    sr_df.loc[model,'sr'] = (stats.loc['mean','raver_portret_' +  model] - r)/stats.loc['std','raver_portret_' +  model]\n",
    "    sr_df.loc[model,'avg_ret'] = stats.loc['mean','raver_portret_' +  model]\n",
    "    sr_df.loc[model,'sd_ret'] = stats.loc['std','raver_portret_' +  model]\n",
    "\n",
    "label_dict = {'true': 'theoretical optimal weights', \n",
    "            'ew': 'equal weights',\n",
    "            'est_all': 'estimate all inputs',\n",
    "            'est_cov': 'estimate covariance matrix only',\n",
    "            'est_sds': 'estimate standard deviations only'}\n",
    "\n",
    "xaxis_label_dict = {'true': 'theoretical optimal weights', \n",
    "            'ew': 'Est-None',\n",
    "            'est_all': 'Est-All',\n",
    "            'est_cov': 'Est-SD-Corr',\n",
    "            'est_sds': 'Est-SD'}\n",
    "sr_df = sr_df.reset_index()\n",
    "sr_df['label'] = sr_df['index'].apply(lambda x: label_dict[x])\n",
    "sr_df['xaxis_label'] = sr_df['index'].apply(lambda x: xaxis_label_dict[x])"
   ]
  },
  {
   "cell_type": "code",
   "execution_count": 37,
   "metadata": {},
   "outputs": [
    {
     "data": {
      "text/html": [
       "<div>\n",
       "<style scoped>\n",
       "    .dataframe tbody tr th:only-of-type {\n",
       "        vertical-align: middle;\n",
       "    }\n",
       "\n",
       "    .dataframe tbody tr th {\n",
       "        vertical-align: top;\n",
       "    }\n",
       "\n",
       "    .dataframe thead th {\n",
       "        text-align: right;\n",
       "    }\n",
       "</style>\n",
       "<table border=\"1\" class=\"dataframe\">\n",
       "  <thead>\n",
       "    <tr style=\"text-align: right;\">\n",
       "      <th></th>\n",
       "      <th>index</th>\n",
       "      <th>sr</th>\n",
       "      <th>avg_ret</th>\n",
       "      <th>sd_ret</th>\n",
       "      <th>label</th>\n",
       "      <th>xaxis_label</th>\n",
       "    </tr>\n",
       "  </thead>\n",
       "  <tbody>\n",
       "    <tr>\n",
       "      <th>0</th>\n",
       "      <td>est_all</td>\n",
       "      <td>0.666248</td>\n",
       "      <td>0.298606</td>\n",
       "      <td>0.406017</td>\n",
       "      <td>estimate all inputs</td>\n",
       "      <td>Est-All</td>\n",
       "    </tr>\n",
       "    <tr>\n",
       "      <th>1</th>\n",
       "      <td>est_cov</td>\n",
       "      <td>0.747840</td>\n",
       "      <td>0.305746</td>\n",
       "      <td>0.371266</td>\n",
       "      <td>estimate covariance matrix only</td>\n",
       "      <td>Est-SD-Corr</td>\n",
       "    </tr>\n",
       "    <tr>\n",
       "      <th>2</th>\n",
       "      <td>est_sds</td>\n",
       "      <td>0.873715</td>\n",
       "      <td>0.317689</td>\n",
       "      <td>0.331448</td>\n",
       "      <td>estimate standard deviations only</td>\n",
       "      <td>Est-SD</td>\n",
       "    </tr>\n",
       "    <tr>\n",
       "      <th>3</th>\n",
       "      <td>ew</td>\n",
       "      <td>0.759052</td>\n",
       "      <td>0.212242</td>\n",
       "      <td>0.242597</td>\n",
       "      <td>equal weights</td>\n",
       "      <td>Est-None</td>\n",
       "    </tr>\n",
       "  </tbody>\n",
       "</table>\n",
       "</div>"
      ],
      "text/plain": [
       "     index        sr   avg_ret    sd_ret                              label  \\\n",
       "0  est_all  0.666248  0.298606  0.406017                estimate all inputs   \n",
       "1  est_cov  0.747840  0.305746  0.371266    estimate covariance matrix only   \n",
       "2  est_sds  0.873715  0.317689  0.331448  estimate standard deviations only   \n",
       "3       ew  0.759052  0.212242  0.242597                      equal weights   \n",
       "\n",
       "   xaxis_label  \n",
       "0      Est-All  \n",
       "1  Est-SD-Corr  \n",
       "2       Est-SD  \n",
       "3     Est-None  "
      ]
     },
     "execution_count": 37,
     "metadata": {},
     "output_type": "execute_result"
    }
   ],
   "source": [
    "df[np.isnan(df['raver_portret_ew'])==False].rf\n",
    "sr_df"
   ]
  },
  {
   "cell_type": "code",
   "execution_count": 38,
   "metadata": {},
   "outputs": [
    {
     "data": {
      "application/vnd.plotly.v1+json": {
       "config": {
        "plotlyServerURL": "https://plot.ly"
       },
       "data": [
        {
         "customdata": [
          [
           "estimate all inputs",
           0.29860568559826023,
           0.4060170738184946
          ],
          [
           "estimate covariance matrix only",
           0.3057456065086051,
           0.37126620279019085
          ],
          [
           "estimate standard deviations only",
           0.31768865674773056,
           0.3314475555795044
          ],
          [
           "equal weights",
           0.21224155968855304,
           0.24259706910894152
          ]
         ],
         "hovertemplate": "Strategy: %{customdata[0]} <br>Sharpe ratio: %{y:0.3f}<br>Average return: %{customdata[1]:0.1%}<br>SD(return): %{customdata[2]:0.1%}<br><extra></extra>",
         "type": "bar",
         "x": [
          "Est-All",
          "Est-SD-Corr",
          "Est-SD",
          "Est-None"
         ],
         "y": [
          0.6662475765773849,
          0.7478402566792804,
          0.8737154875792087,
          0.759051897235468
         ]
        }
       ],
       "layout": {
        "template": {
         "data": {
          "bar": [
           {
            "error_x": {
             "color": "#2a3f5f"
            },
            "error_y": {
             "color": "#2a3f5f"
            },
            "marker": {
             "line": {
              "color": "#E5ECF6",
              "width": 0.5
             },
             "pattern": {
              "fillmode": "overlay",
              "size": 10,
              "solidity": 0.2
             }
            },
            "type": "bar"
           }
          ],
          "barpolar": [
           {
            "marker": {
             "line": {
              "color": "#E5ECF6",
              "width": 0.5
             },
             "pattern": {
              "fillmode": "overlay",
              "size": 10,
              "solidity": 0.2
             }
            },
            "type": "barpolar"
           }
          ],
          "carpet": [
           {
            "aaxis": {
             "endlinecolor": "#2a3f5f",
             "gridcolor": "white",
             "linecolor": "white",
             "minorgridcolor": "white",
             "startlinecolor": "#2a3f5f"
            },
            "baxis": {
             "endlinecolor": "#2a3f5f",
             "gridcolor": "white",
             "linecolor": "white",
             "minorgridcolor": "white",
             "startlinecolor": "#2a3f5f"
            },
            "type": "carpet"
           }
          ],
          "choropleth": [
           {
            "colorbar": {
             "outlinewidth": 0,
             "ticks": ""
            },
            "type": "choropleth"
           }
          ],
          "contour": [
           {
            "colorbar": {
             "outlinewidth": 0,
             "ticks": ""
            },
            "colorscale": [
             [
              0,
              "#0d0887"
             ],
             [
              0.1111111111111111,
              "#46039f"
             ],
             [
              0.2222222222222222,
              "#7201a8"
             ],
             [
              0.3333333333333333,
              "#9c179e"
             ],
             [
              0.4444444444444444,
              "#bd3786"
             ],
             [
              0.5555555555555556,
              "#d8576b"
             ],
             [
              0.6666666666666666,
              "#ed7953"
             ],
             [
              0.7777777777777778,
              "#fb9f3a"
             ],
             [
              0.8888888888888888,
              "#fdca26"
             ],
             [
              1,
              "#f0f921"
             ]
            ],
            "type": "contour"
           }
          ],
          "contourcarpet": [
           {
            "colorbar": {
             "outlinewidth": 0,
             "ticks": ""
            },
            "type": "contourcarpet"
           }
          ],
          "heatmap": [
           {
            "colorbar": {
             "outlinewidth": 0,
             "ticks": ""
            },
            "colorscale": [
             [
              0,
              "#0d0887"
             ],
             [
              0.1111111111111111,
              "#46039f"
             ],
             [
              0.2222222222222222,
              "#7201a8"
             ],
             [
              0.3333333333333333,
              "#9c179e"
             ],
             [
              0.4444444444444444,
              "#bd3786"
             ],
             [
              0.5555555555555556,
              "#d8576b"
             ],
             [
              0.6666666666666666,
              "#ed7953"
             ],
             [
              0.7777777777777778,
              "#fb9f3a"
             ],
             [
              0.8888888888888888,
              "#fdca26"
             ],
             [
              1,
              "#f0f921"
             ]
            ],
            "type": "heatmap"
           }
          ],
          "heatmapgl": [
           {
            "colorbar": {
             "outlinewidth": 0,
             "ticks": ""
            },
            "colorscale": [
             [
              0,
              "#0d0887"
             ],
             [
              0.1111111111111111,
              "#46039f"
             ],
             [
              0.2222222222222222,
              "#7201a8"
             ],
             [
              0.3333333333333333,
              "#9c179e"
             ],
             [
              0.4444444444444444,
              "#bd3786"
             ],
             [
              0.5555555555555556,
              "#d8576b"
             ],
             [
              0.6666666666666666,
              "#ed7953"
             ],
             [
              0.7777777777777778,
              "#fb9f3a"
             ],
             [
              0.8888888888888888,
              "#fdca26"
             ],
             [
              1,
              "#f0f921"
             ]
            ],
            "type": "heatmapgl"
           }
          ],
          "histogram": [
           {
            "marker": {
             "pattern": {
              "fillmode": "overlay",
              "size": 10,
              "solidity": 0.2
             }
            },
            "type": "histogram"
           }
          ],
          "histogram2d": [
           {
            "colorbar": {
             "outlinewidth": 0,
             "ticks": ""
            },
            "colorscale": [
             [
              0,
              "#0d0887"
             ],
             [
              0.1111111111111111,
              "#46039f"
             ],
             [
              0.2222222222222222,
              "#7201a8"
             ],
             [
              0.3333333333333333,
              "#9c179e"
             ],
             [
              0.4444444444444444,
              "#bd3786"
             ],
             [
              0.5555555555555556,
              "#d8576b"
             ],
             [
              0.6666666666666666,
              "#ed7953"
             ],
             [
              0.7777777777777778,
              "#fb9f3a"
             ],
             [
              0.8888888888888888,
              "#fdca26"
             ],
             [
              1,
              "#f0f921"
             ]
            ],
            "type": "histogram2d"
           }
          ],
          "histogram2dcontour": [
           {
            "colorbar": {
             "outlinewidth": 0,
             "ticks": ""
            },
            "colorscale": [
             [
              0,
              "#0d0887"
             ],
             [
              0.1111111111111111,
              "#46039f"
             ],
             [
              0.2222222222222222,
              "#7201a8"
             ],
             [
              0.3333333333333333,
              "#9c179e"
             ],
             [
              0.4444444444444444,
              "#bd3786"
             ],
             [
              0.5555555555555556,
              "#d8576b"
             ],
             [
              0.6666666666666666,
              "#ed7953"
             ],
             [
              0.7777777777777778,
              "#fb9f3a"
             ],
             [
              0.8888888888888888,
              "#fdca26"
             ],
             [
              1,
              "#f0f921"
             ]
            ],
            "type": "histogram2dcontour"
           }
          ],
          "mesh3d": [
           {
            "colorbar": {
             "outlinewidth": 0,
             "ticks": ""
            },
            "type": "mesh3d"
           }
          ],
          "parcoords": [
           {
            "line": {
             "colorbar": {
              "outlinewidth": 0,
              "ticks": ""
             }
            },
            "type": "parcoords"
           }
          ],
          "pie": [
           {
            "automargin": true,
            "type": "pie"
           }
          ],
          "scatter": [
           {
            "fillpattern": {
             "fillmode": "overlay",
             "size": 10,
             "solidity": 0.2
            },
            "type": "scatter"
           }
          ],
          "scatter3d": [
           {
            "line": {
             "colorbar": {
              "outlinewidth": 0,
              "ticks": ""
             }
            },
            "marker": {
             "colorbar": {
              "outlinewidth": 0,
              "ticks": ""
             }
            },
            "type": "scatter3d"
           }
          ],
          "scattercarpet": [
           {
            "marker": {
             "colorbar": {
              "outlinewidth": 0,
              "ticks": ""
             }
            },
            "type": "scattercarpet"
           }
          ],
          "scattergeo": [
           {
            "marker": {
             "colorbar": {
              "outlinewidth": 0,
              "ticks": ""
             }
            },
            "type": "scattergeo"
           }
          ],
          "scattergl": [
           {
            "marker": {
             "colorbar": {
              "outlinewidth": 0,
              "ticks": ""
             }
            },
            "type": "scattergl"
           }
          ],
          "scattermapbox": [
           {
            "marker": {
             "colorbar": {
              "outlinewidth": 0,
              "ticks": ""
             }
            },
            "type": "scattermapbox"
           }
          ],
          "scatterpolar": [
           {
            "marker": {
             "colorbar": {
              "outlinewidth": 0,
              "ticks": ""
             }
            },
            "type": "scatterpolar"
           }
          ],
          "scatterpolargl": [
           {
            "marker": {
             "colorbar": {
              "outlinewidth": 0,
              "ticks": ""
             }
            },
            "type": "scatterpolargl"
           }
          ],
          "scatterternary": [
           {
            "marker": {
             "colorbar": {
              "outlinewidth": 0,
              "ticks": ""
             }
            },
            "type": "scatterternary"
           }
          ],
          "surface": [
           {
            "colorbar": {
             "outlinewidth": 0,
             "ticks": ""
            },
            "colorscale": [
             [
              0,
              "#0d0887"
             ],
             [
              0.1111111111111111,
              "#46039f"
             ],
             [
              0.2222222222222222,
              "#7201a8"
             ],
             [
              0.3333333333333333,
              "#9c179e"
             ],
             [
              0.4444444444444444,
              "#bd3786"
             ],
             [
              0.5555555555555556,
              "#d8576b"
             ],
             [
              0.6666666666666666,
              "#ed7953"
             ],
             [
              0.7777777777777778,
              "#fb9f3a"
             ],
             [
              0.8888888888888888,
              "#fdca26"
             ],
             [
              1,
              "#f0f921"
             ]
            ],
            "type": "surface"
           }
          ],
          "table": [
           {
            "cells": {
             "fill": {
              "color": "#EBF0F8"
             },
             "line": {
              "color": "white"
             }
            },
            "header": {
             "fill": {
              "color": "#C8D4E3"
             },
             "line": {
              "color": "white"
             }
            },
            "type": "table"
           }
          ]
         },
         "layout": {
          "annotationdefaults": {
           "arrowcolor": "#2a3f5f",
           "arrowhead": 0,
           "arrowwidth": 1
          },
          "autotypenumbers": "strict",
          "coloraxis": {
           "colorbar": {
            "outlinewidth": 0,
            "ticks": ""
           }
          },
          "colorscale": {
           "diverging": [
            [
             0,
             "#8e0152"
            ],
            [
             0.1,
             "#c51b7d"
            ],
            [
             0.2,
             "#de77ae"
            ],
            [
             0.3,
             "#f1b6da"
            ],
            [
             0.4,
             "#fde0ef"
            ],
            [
             0.5,
             "#f7f7f7"
            ],
            [
             0.6,
             "#e6f5d0"
            ],
            [
             0.7,
             "#b8e186"
            ],
            [
             0.8,
             "#7fbc41"
            ],
            [
             0.9,
             "#4d9221"
            ],
            [
             1,
             "#276419"
            ]
           ],
           "sequential": [
            [
             0,
             "#0d0887"
            ],
            [
             0.1111111111111111,
             "#46039f"
            ],
            [
             0.2222222222222222,
             "#7201a8"
            ],
            [
             0.3333333333333333,
             "#9c179e"
            ],
            [
             0.4444444444444444,
             "#bd3786"
            ],
            [
             0.5555555555555556,
             "#d8576b"
            ],
            [
             0.6666666666666666,
             "#ed7953"
            ],
            [
             0.7777777777777778,
             "#fb9f3a"
            ],
            [
             0.8888888888888888,
             "#fdca26"
            ],
            [
             1,
             "#f0f921"
            ]
           ],
           "sequentialminus": [
            [
             0,
             "#0d0887"
            ],
            [
             0.1111111111111111,
             "#46039f"
            ],
            [
             0.2222222222222222,
             "#7201a8"
            ],
            [
             0.3333333333333333,
             "#9c179e"
            ],
            [
             0.4444444444444444,
             "#bd3786"
            ],
            [
             0.5555555555555556,
             "#d8576b"
            ],
            [
             0.6666666666666666,
             "#ed7953"
            ],
            [
             0.7777777777777778,
             "#fb9f3a"
            ],
            [
             0.8888888888888888,
             "#fdca26"
            ],
            [
             1,
             "#f0f921"
            ]
           ]
          },
          "colorway": [
           "#636efa",
           "#EF553B",
           "#00cc96",
           "#ab63fa",
           "#FFA15A",
           "#19d3f3",
           "#FF6692",
           "#B6E880",
           "#FF97FF",
           "#FECB52"
          ],
          "font": {
           "color": "#2a3f5f"
          },
          "geo": {
           "bgcolor": "white",
           "lakecolor": "white",
           "landcolor": "#E5ECF6",
           "showlakes": true,
           "showland": true,
           "subunitcolor": "white"
          },
          "hoverlabel": {
           "align": "left"
          },
          "hovermode": "closest",
          "mapbox": {
           "style": "light"
          },
          "paper_bgcolor": "white",
          "plot_bgcolor": "#E5ECF6",
          "polar": {
           "angularaxis": {
            "gridcolor": "white",
            "linecolor": "white",
            "ticks": ""
           },
           "bgcolor": "#E5ECF6",
           "radialaxis": {
            "gridcolor": "white",
            "linecolor": "white",
            "ticks": ""
           }
          },
          "scene": {
           "xaxis": {
            "backgroundcolor": "#E5ECF6",
            "gridcolor": "white",
            "gridwidth": 2,
            "linecolor": "white",
            "showbackground": true,
            "ticks": "",
            "zerolinecolor": "white"
           },
           "yaxis": {
            "backgroundcolor": "#E5ECF6",
            "gridcolor": "white",
            "gridwidth": 2,
            "linecolor": "white",
            "showbackground": true,
            "ticks": "",
            "zerolinecolor": "white"
           },
           "zaxis": {
            "backgroundcolor": "#E5ECF6",
            "gridcolor": "white",
            "gridwidth": 2,
            "linecolor": "white",
            "showbackground": true,
            "ticks": "",
            "zerolinecolor": "white"
           }
          },
          "shapedefaults": {
           "line": {
            "color": "#2a3f5f"
           }
          },
          "ternary": {
           "aaxis": {
            "gridcolor": "white",
            "linecolor": "white",
            "ticks": ""
           },
           "baxis": {
            "gridcolor": "white",
            "linecolor": "white",
            "ticks": ""
           },
           "bgcolor": "#E5ECF6",
           "caxis": {
            "gridcolor": "white",
            "linecolor": "white",
            "ticks": ""
           }
          },
          "title": {
           "x": 0.05
          },
          "xaxis": {
           "automargin": true,
           "gridcolor": "white",
           "linecolor": "white",
           "ticks": "",
           "title": {
            "standoff": 15
           },
           "zerolinecolor": "white",
           "zerolinewidth": 2
          },
          "yaxis": {
           "automargin": true,
           "gridcolor": "white",
           "linecolor": "white",
           "ticks": "",
           "title": {
            "standoff": 15
           },
           "zerolinecolor": "white",
           "zerolinewidth": 2
          }
         }
        },
        "xaxis": {
         "title": {
          "text": "Strategy"
         }
        },
        "yaxis": {
         "title": {
          "text": "Sharpe ratio"
         }
        }
       }
      }
     },
     "metadata": {},
     "output_type": "display_data"
    }
   ],
   "source": [
    "import plotly.graph_objects as go\n",
    "\n",
    "string =\"Strategy: %{customdata[0]} <br>\"\n",
    "string += \"Sharpe ratio: %{y:0.3f}<br>\"\n",
    "string += \"Average return: %{customdata[1]:0.1%}<br>\"\n",
    "string += \"SD(return): %{customdata[2]:0.1%}<br>\"\n",
    "string += \"<extra></extra>\"\n",
    "\n",
    "fig = go.Figure()\n",
    "fig.add_trace(go.Bar(x=sr_df['xaxis_label'], y=sr_df['sr'], customdata=sr_df[['label','avg_ret','sd_ret']], hovertemplate=string))\n",
    "fig.layout.yaxis[\"title\"] = \"Sharpe ratio\"\n",
    "fig.layout.xaxis[\"title\"] = \"Strategy\"\n",
    "fig.show()"
   ]
  },
  {
   "cell_type": "code",
   "execution_count": 11,
   "metadata": {},
   "outputs": [
    {
     "data": {
      "application/vnd.plotly.v1+json": {
       "config": {
        "plotlyServerURL": "https://plot.ly"
       },
       "data": [
        {
         "customdata": [
          [
           null,
           null,
           null,
           null,
           null
          ],
          [
           null,
           null,
           null,
           null,
           null
          ],
          [
           null,
           null,
           null,
           null,
           null
          ],
          [
           null,
           null,
           null,
           null,
           null
          ],
          [
           null,
           null,
           null,
           null,
           null
          ],
          [
           null,
           null,
           null,
           null,
           null
          ],
          [
           null,
           null,
           null,
           null,
           null
          ],
          [
           null,
           null,
           null,
           null,
           null
          ],
          [
           null,
           null,
           null,
           null,
           null
          ],
          [
           null,
           null,
           null,
           null,
           null
          ],
          [
           null,
           null,
           null,
           null,
           null
          ],
          [
           null,
           null,
           null,
           null,
           null
          ],
          [
           null,
           null,
           null,
           null,
           null
          ],
          [
           null,
           null,
           null,
           null,
           null
          ],
          [
           null,
           null,
           null,
           null,
           null
          ],
          [
           null,
           null,
           null,
           null,
           null
          ],
          [
           null,
           null,
           null,
           null,
           null
          ],
          [
           null,
           null,
           null,
           null,
           null
          ],
          [
           null,
           null,
           null,
           null,
           null
          ],
          [
           null,
           null,
           null,
           null,
           null
          ],
          [
           1.409971941806668,
           0.04650334305034444,
           0.2307975327400336,
           1.7355684235521682,
           -1.012869299342546
          ],
          [
           1.012864952760892,
           0.008183394382512019,
           0.2548449328451191,
           2.250633353046352,
           -1.5136616802739828
          ],
          [
           2.007324875952532,
           0.12541391115989847,
           0.19428905846801303,
           1.3299927037158745,
           -0.6496956733437861
          ],
          [
           3.1009399085149667,
           0.05775711312469818,
           0.18738684903288344,
           1.6813425017996664,
           -0.9264864639572479
          ],
          [
           3.967778283343357,
           0.06395959255354336,
           0.17479824002742306,
           1.5244658116310599,
           -0.7632236442120262
          ],
          [
           4.341458051680747,
           0.05504559777901348,
           0.17890131899909534,
           1.6156280126733849,
           -0.8495749294514934
          ],
          [
           3.747207941362266,
           0.06896085062994511,
           0.177553312517575,
           1.6625835382367005,
           -0.9090977013842205
          ],
          [
           3.761680550145702,
           0.24033315685455583,
           0.1294506259968343,
           2.0212501068032784,
           -1.3910338896546688
          ],
          [
           4.045771626137521,
           0.2697414769435068,
           0.12130156880446691,
           1.9425414159975878,
           -1.3335844617455614
          ],
          [
           3.9479836958275643,
           0.3164084127472946,
           0.1129639842841793,
           1.9680198546185332,
           -1.397392251650007
          ],
          [
           4.030574549255489,
           0.34871082487750465,
           0.10440730445145001,
           1.8866271431126245,
           -1.3397452724415793
          ],
          [
           3.692884267611654,
           0.44808334794311216,
           0.07025444761632844,
           1.4919610766971367,
           -1.0102988722565773
          ],
          [
           2.5897998356025984,
           0.6353251170214758,
           -0.2672698284030502,
           1.944809321302809,
           -1.3128646099212344
          ],
          [
           3.1514267405103054,
           0.19590768185898952,
           -0.2458339547643879,
           1.906024402492802,
           -0.8560981295874037
          ],
          [
           4.241781142372106,
           0.10753946555887561,
           -0.04960090238477281,
           1.7550520072546814,
           -0.8129905704287841
          ],
          [
           5.480125713716546,
           0.008202387290251448,
           0.043696784758909854,
           1.5781575604386642,
           -0.6300567324878256
          ],
          [
           5.090805218031703,
           -0.03065683145049642,
           -0.04884645003644659,
           1.8362383785996075,
           -0.7567350971126645
          ],
          [
           4.104577694001074,
           -0.06192021717602614,
           -0.126900972407499,
           2.1049030591634175,
           -0.9160818695798921
          ],
          [
           3.2711795664980996,
           -0.051888568434334176,
           -0.1195704679072917,
           2.1267593246946395,
           -0.9553002883530136
          ],
          [
           3.74139040190384,
           -0.01775938575985917,
           -0.031724620010434315,
           1.878283855456173,
           -0.8287998496858794
          ],
          [
           6.18960419072932,
           0.039359337515944406,
           0.11567017775308923,
           1.1028984107135007,
           -0.2579279259825344
          ],
          [
           5.290689264322044,
           0.013873087312591775,
           0.13851181132981033,
           0.6292989949706739,
           0.21831610638692392
          ],
          [
           5.270785346715947,
           0.03750917371508769,
           0.13116005227243732,
           0.5304745509662959,
           0.3008562230461791
          ],
          [
           5.633103806175869,
           0.05928027247755237,
           0.15164079351432727,
           0.47777220248574176,
           0.3113067315223786
          ],
          [
           5.651090730468091,
           0.06302050629416199,
           0.142088333819298,
           0.48411468046299555,
           0.3107764794235445
          ],
          [
           5.632448613176119,
           0.07304475001040332,
           0.15588082629701766,
           0.4626569173214121,
           0.30841750637116694
          ],
          [
           4.367782423953463,
           0.1339848779599415,
           0.08445342116175378,
           0.48613314330764257,
           0.2954285575706622
          ],
          [
           5.861715971817256,
           0.13792476113093358,
           0.08506126304097056,
           0.4296270022645173,
           0.34738697356357867
          ],
          [
           7.066310751492046,
           0.16291055056188922,
           0.02498538902902118,
           0.39067075673149315,
           0.42143330367759646
          ],
          [
           6.467194853375013,
           0.14660459196289172,
           0.026299611979988202,
           0.4296828350933735,
           0.3974129609637466
          ],
          [
           5.855102633347634,
           0.15849220993892776,
           -0.002216703662187743,
           0.4432676489383588,
           0.40045684478490123
          ],
          [
           5.499648430716805,
           0.19585693172417415,
           -0.01065827699369875,
           0.3455466321245669,
           0.4692547131449577
          ],
          [
           7.435818432035327,
           0.14050057419159193,
           -0.03298848440890938,
           0.4112350997057354,
           0.481252810511582
          ],
          [
           7.51530344471214,
           0.1250898135836733,
           -0.05653443056396962,
           0.4518381004645267,
           0.4796065165157696
          ]
         ],
         "hovertemplate": "Strategy: estimate all inputs <br>Year: %{x:4.0f}<br>Return: %{y:0.1%}<br>Weight in Risky Portfolio: %{customdata[0]: 0.1%} <br>Risky Portfolio Weights:<br>  S&P 500: %{customdata[1]: 0.1%} <br>  Gold: %{customdata[2]: 0.1%} <br>  Corporates: %{customdata[3]: 0.1%} <br>  Treasuries: %{customdata[4]: 0.1%} <br><extra></extra>",
         "name": "Tangency",
         "type": "scatter",
         "x": [
          1968,
          1969,
          1970,
          1971,
          1972,
          1973,
          1974,
          1975,
          1976,
          1977,
          1978,
          1979,
          1980,
          1981,
          1982,
          1983,
          1984,
          1985,
          1986,
          1987,
          1988,
          1989,
          1990,
          1991,
          1992,
          1993,
          1994,
          1995,
          1996,
          1997,
          1998,
          1999,
          2000,
          2001,
          2002,
          2003,
          2004,
          2005,
          2006,
          2007,
          2008,
          2009,
          2010,
          2011,
          2012,
          2013,
          2014,
          2015,
          2016,
          2017,
          2018,
          2019,
          2020,
          2021
         ],
         "y": [
          null,
          null,
          null,
          null,
          null,
          null,
          null,
          null,
          null,
          null,
          null,
          null,
          null,
          null,
          null,
          null,
          null,
          null,
          null,
          null,
          0.18487676871854786,
          0.08447867246252194,
          -0.010318298142591747,
          0.3851055114296952,
          0.3297108484513181,
          0.6867763203960919,
          0.06446898812818899,
          0.4938722712646324,
          0.37286437209356627,
          0.5385685747437683,
          0.0494232743412432,
          0.5781709881213571,
          -0.29415003791402466,
          0.16234280233923273,
          0.18273271392690646,
          1.1768664804095903,
          0.6661389731925003,
          0.11787071056436288,
          0.20167349357444936,
          -0.2556841372401169,
          -0.8022160668593822,
          0.8634151796856322,
          0.5828444031346444,
          0.7239547731353528,
          0.42741838682556194,
          -0.3001588442863708,
          0.43653233870901637,
          -0.03977804076576199,
          0.43906932170823687,
          0.5163375623731382,
          -0.20531674006431272,
          0.7954009294243255,
          0.8471002540272409,
          0.15220056243228575
         ]
        },
        {
         "customdata": [
          [
           null,
           null,
           null,
           null,
           null
          ],
          [
           null,
           null,
           null,
           null,
           null
          ],
          [
           null,
           null,
           null,
           null,
           null
          ],
          [
           null,
           null,
           null,
           null,
           null
          ],
          [
           null,
           null,
           null,
           null,
           null
          ],
          [
           null,
           null,
           null,
           null,
           null
          ],
          [
           null,
           null,
           null,
           null,
           null
          ],
          [
           null,
           null,
           null,
           null,
           null
          ],
          [
           null,
           null,
           null,
           null,
           null
          ],
          [
           null,
           null,
           null,
           null,
           null
          ],
          [
           null,
           null,
           null,
           null,
           null
          ],
          [
           null,
           null,
           null,
           null,
           null
          ],
          [
           null,
           null,
           null,
           null,
           null
          ],
          [
           null,
           null,
           null,
           null,
           null
          ],
          [
           null,
           null,
           null,
           null,
           null
          ],
          [
           null,
           null,
           null,
           null,
           null
          ],
          [
           null,
           null,
           null,
           null,
           null
          ],
          [
           null,
           null,
           null,
           null,
           null
          ],
          [
           null,
           null,
           null,
           null,
           null
          ],
          [
           null,
           null,
           null,
           null,
           null
          ],
          [
           1.7030509317179474,
           0.05856624456178873,
           0.12708502805960378,
           0.8641389537355073,
           -0.049790226356899815
          ],
          [
           1.173960842443053,
           0.05356320808988653,
           0.1272039113435949,
           0.8684828013540781,
           -0.0492499207875595
          ],
          [
           2.2743966505776707,
           0.07280789410325554,
           0.1380033794792532,
           0.8416290371403783,
           -0.052440310722887094
          ],
          [
           3.0701874912768448,
           0.04998140363748379,
           0.1418932848391265,
           1.0369178724401715,
           -0.22879256091678185
          ],
          [
           3.916602964700227,
           0.041519248395579494,
           0.14451975534658895,
           1.0618362708610372,
           -0.24787527460320563
          ],
          [
           4.022873059783724,
           0.04212121096568996,
           0.15446778062402347,
           1.187787557838236,
           -0.3843765494279495
          ],
          [
           3.3194681368657784,
           0.040180463024920315,
           0.15887911156400114,
           1.1918051492774653,
           -0.39086472386638665
          ],
          [
           2.5462528526956016,
           0.12491953892927744,
           0.13657731089994873,
           1.4207709808403262,
           -0.6822678306695524
          ],
          [
           3.051980989347987,
           0.11515043516861384,
           0.1400620585509175,
           1.490552002167707,
           -0.7457644958872384
          ],
          [
           2.8981418000975805,
           0.15355991329305838,
           0.13069127583395207,
           1.5139432384674942,
           -0.7981944275945045
          ],
          [
           3.0900619019780433,
           0.1409107142400258,
           0.1334942251834398,
           1.5742852717536977,
           -0.8486902111771634
          ],
          [
           2.9704178189907413,
           0.18324062471777539,
           0.11972713759243726,
           1.3422942967874785,
           -0.6452620590976911
          ],
          [
           1.8213365202655327,
           0.17256424307998464,
           0.21739687908456554,
           1.2601726407341056,
           -0.6501337628986558
          ],
          [
           2.605657960740277,
           0.02940000524915434,
           0.19161233781333256,
           1.2916200044583288,
           -0.5126323475208157
          ],
          [
           4.078546117427237,
           0.06447499130093443,
           0.272192678151008,
           1.184317688039361,
           -0.5209853574913036
          ],
          [
           4.992652994475884,
           0.04826564503868958,
           0.2440020845903347,
           1.1253566844118965,
           -0.4176244140409208
          ],
          [
           4.419235373179667,
           0.011062216153726927,
           0.17005146496634221,
           1.1540426021174912,
           -0.33515628323756036
          ],
          [
           3.525295219985532,
           0.01323693914634965,
           0.17272771232769388,
           1.143291386748665,
           -0.3292560382227084
          ],
          [
           2.627359399767093,
           0.030034601566260005,
           0.17359605365654793,
           1.0405082419937002,
           -0.2441388972165081
          ],
          [
           3.2635750570950828,
           0.02794433682748228,
           0.18704731009495018,
           0.9009473935729735,
           -0.1159390404954059
          ],
          [
           5.974573369756079,
           0.030841741336634587,
           0.18719471839887114,
           0.8624104687591327,
           -0.0804469284946385
          ],
          [
           5.3961113763953525,
           0.01197673508399618,
           0.2027627121585457,
           0.5739628463238391,
           0.21129770643361903
          ],
          [
           5.412510562551164,
           0.060130869101387326,
           0.1874911348414741,
           0.37799570385965137,
           0.3743822921974873
          ],
          [
           5.910429766064413,
           0.0582206397361907,
           0.1732853449240795,
           0.40227853376401446,
           0.3662154815757153
          ],
          [
           5.810377843146657,
           0.07186169525465406,
           0.14899953480404818,
           0.4170966279545712,
           0.3620421419867265
          ],
          [
           5.914386142740125,
           0.07265882992977424,
           0.14911520315405705,
           0.4181012725497666,
           0.3601246943664021
          ],
          [
           4.648275440725614,
           0.10953010073596443,
           0.09046873411632818,
           0.4451079891316223,
           0.3548931760160851
          ],
          [
           6.148034169331345,
           0.11909690735309912,
           0.09656262302648279,
           0.40276265073907797,
           0.3815778188813401
          ],
          [
           7.4421215004510675,
           0.15476654165022294,
           0.033201690836018295,
           0.35579190100421054,
           0.4562398665095482
          ],
          [
           6.916310557416255,
           0.14947534523365777,
           0.033994481765242675,
           0.3661454759149722,
           0.45038469708612733
          ],
          [
           6.971816472853758,
           0.1649988724726442,
           -0.027100325516474514,
           0.39166632942916724,
           0.4704351236146631
          ],
          [
           7.328349195625178,
           0.2348335863827562,
           -0.04815877413890421,
           0.2327305954357592,
           0.5805945923203888
          ],
          [
           8.949810207581693,
           0.16977047222684824,
           -0.06308723572871931,
           0.3328171876340637,
           0.5604995758678073
          ],
          [
           10.20120774667873,
           0.12900891753595878,
           -0.124696130905572,
           0.43672451621019026,
           0.5589626971594229
          ]
         ],
         "hovertemplate": "Strategy: estimate covariance matrix only <br>Year: %{x:4.0f}<br>Return: %{y:0.1%}<br>Weight in Risky Portfolio: %{customdata[0]: 0.1%} <br>Risky Portfolio Weights:<br>  S&P 500: %{customdata[1]: 0.1%} <br>  Gold: %{customdata[2]: 0.1%} <br>  Corporates: %{customdata[3]: 0.1%} <br>  Treasuries: %{customdata[4]: 0.1%} <br><extra></extra>",
         "name": "GMV",
         "type": "scatter",
         "x": [
          1968,
          1969,
          1970,
          1971,
          1972,
          1973,
          1974,
          1975,
          1976,
          1977,
          1978,
          1979,
          1980,
          1981,
          1982,
          1983,
          1984,
          1985,
          1986,
          1987,
          1988,
          1989,
          1990,
          1991,
          1992,
          1993,
          1994,
          1995,
          1996,
          1997,
          1998,
          1999,
          2000,
          2001,
          2002,
          2003,
          2004,
          2005,
          2006,
          2007,
          2008,
          2009,
          2010,
          2011,
          2012,
          2013,
          2014,
          2015,
          2016,
          2017,
          2018,
          2019,
          2020,
          2021
         ],
         "y": [
          null,
          null,
          null,
          null,
          null,
          null,
          null,
          null,
          null,
          null,
          null,
          null,
          null,
          null,
          null,
          null,
          null,
          null,
          null,
          null,
          0.1511233214587344,
          0.1531052388354315,
          0.0016994104515668934,
          0.3562052669413813,
          0.2945969670026906,
          0.5994832819934989,
          -0.05565159705270033,
          0.3585040704440988,
          0.14353848102269984,
          0.2582594373382151,
          0.016260896936744283,
          0.21831799537312474,
          -0.08402030840246939,
          0.13229237198625537,
          0.4259219739094822,
          1.0452348316448445,
          0.4335290988744238,
          0.1919740492733784,
          0.2246003476158333,
          0.15328225110966257,
          -0.4547784869339255,
          0.9082787609373485,
          0.6659888921237398,
          0.7702265993633465,
          0.41931355254134456,
          -0.3298854121018834,
          0.4590187311080747,
          -0.047568924076296565,
          0.43557496840653814,
          0.5296803164696425,
          -0.23824734859124297,
          1.044011268521292,
          1.0087997946156486,
          0.2066805221520505
         ]
        },
        {
         "customdata": [
          [
           null,
           null,
           null,
           null,
           null
          ],
          [
           null,
           null,
           null,
           null,
           null
          ],
          [
           null,
           null,
           null,
           null,
           null
          ],
          [
           null,
           null,
           null,
           null,
           null
          ],
          [
           null,
           null,
           null,
           null,
           null
          ],
          [
           null,
           null,
           null,
           null,
           null
          ],
          [
           null,
           null,
           null,
           null,
           null
          ],
          [
           null,
           null,
           null,
           null,
           null
          ],
          [
           null,
           null,
           null,
           null,
           null
          ],
          [
           null,
           null,
           null,
           null,
           null
          ],
          [
           null,
           null,
           null,
           null,
           null
          ],
          [
           null,
           null,
           null,
           null,
           null
          ],
          [
           null,
           null,
           null,
           null,
           null
          ],
          [
           null,
           null,
           null,
           null,
           null
          ],
          [
           null,
           null,
           null,
           null,
           null
          ],
          [
           null,
           null,
           null,
           null,
           null
          ],
          [
           null,
           null,
           null,
           null,
           null
          ],
          [
           null,
           null,
           null,
           null,
           null
          ],
          [
           null,
           null,
           null,
           null,
           null
          ],
          [
           null,
           null,
           null,
           null,
           null
          ],
          [
           2.452078192158818,
           0.15264509241867735,
           0.027162089491821646,
           0.45503272222856594,
           0.36516009586093506
          ],
          [
           1.6684190155777439,
           0.15160064353211283,
           0.026109404309477162,
           0.4536262075238826,
           0.36866374463452734
          ],
          [
           2.675576047598323,
           0.144024855214343,
           0.02538922995326411,
           0.4639929190661241,
           0.3665929957662688
          ],
          [
           3.6214582000325257,
           0.13861435963044338,
           0.024968591880176867,
           0.4620796055446029,
           0.3743374429447768
          ],
          [
           4.4932022034655725,
           0.13468075965267814,
           0.02502766482399723,
           0.4633702688366203,
           0.3769213066867043
          ],
          [
           4.380046722836678,
           0.13377312899051685,
           0.025393827122593075,
           0.4595833594855748,
           0.38124968440131524
          ],
          [
           3.814789640610835,
           0.1493085521064945,
           0.02808716751497279,
           0.4517863582317293,
           0.3708179221468034
          ],
          [
           2.9975781053572135,
           0.20244526186711406,
           0.03045245047626193,
           0.4545133950110937,
           0.3125888926455303
          ],
          [
           3.5072354984729026,
           0.209805954018741,
           0.03319465988996413,
           0.4533283408896904,
           0.30367104520160443
          ],
          [
           3.2722662637560953,
           0.21100677395627593,
           0.033189280763728346,
           0.4560848469879017,
           0.2997190982920939
          ],
          [
           3.5488621976591914,
           0.22198508094417943,
           0.031448913377033594,
           0.44553466020007676,
           0.3010313454787102
          ],
          [
           3.7879964373698876,
           0.21568620240001926,
           0.031643323451939265,
           0.44828232196476225,
           0.3043881521832792
          ],
          [
           2.4536024387722413,
           0.19100217987361892,
           0.14890095983975032,
           0.4175941458985023,
           0.24250271438812834
          ],
          [
           4.072979234598706,
           0.15304010855474887,
           0.14515283832332315,
           0.4626747319311155,
           0.23913232119081249
          ],
          [
           5.632867385649754,
           0.136031613122417,
           0.18473056864948745,
           0.44850758461635937,
           0.23073023361173614
          ],
          [
           6.222270187944015,
           0.08983092951891598,
           0.1410948740895733,
           0.5149328573400432,
           0.25414133905146763
          ],
          [
           6.255152539041093,
           0.08827376940980455,
           0.13346957945175486,
           0.5283644211135047,
           0.24989223002493585
          ],
          [
           5.116325030378397,
           0.08694774958811066,
           0.14771516861781145,
           0.5232231540911442,
           0.24211392770293377
          ],
          [
           3.6527199248979882,
           0.08110861740882132,
           0.12436467252566683,
           0.5473972274647392,
           0.24712948260077264
          ],
          [
           4.080080010898267,
           0.0717227441422652,
           0.10446341044725808,
           0.57147702124858,
           0.2523368241618966
          ],
          [
           7.674378870422307,
           0.06950046426298569,
           0.09220915004675212,
           0.5648562491072411,
           0.27343413658302107
          ],
          [
           7.081282112984541,
           0.05709205155089358,
           0.12169450387546175,
           0.5275999790984192,
           0.29361346547522543
          ],
          [
           6.09355772064298,
           0.06867318548684274,
           0.12650557138417498,
           0.5150525406539365,
           0.2897687024750458
          ],
          [
           6.632034110324937,
           0.0705406492946058,
           0.11671217880452596,
           0.5218397098738078,
           0.2909074620270604
          ],
          [
           6.807294414733575,
           0.07073204211619791,
           0.11997407626222445,
           0.5341637540070061,
           0.27513012761457156
          ],
          [
           7.009460690560996,
           0.06971356341639467,
           0.1253784481636642,
           0.5345010396721939,
           0.27040694874774723
          ],
          [
           5.901899617876238,
           0.0705789923885793,
           0.10284579675366284,
           0.5616130286581663,
           0.26496218219959145
          ],
          [
           6.871483021138972,
           0.06557286702128767,
           0.09489652186411074,
           0.5703065797819866,
           0.2692240313326148
          ],
          [
           6.317420016845127,
           0.06507942957208125,
           0.08119214086301327,
           0.5645765993444078,
           0.2891518302204977
          ],
          [
           5.873000655455195,
           0.06656854094684535,
           0.08283991337688423,
           0.5637313869548628,
           0.2868601587214076
          ],
          [
           5.2862685588676825,
           0.06896943413810919,
           0.09651909221154921,
           0.5546869945162823,
           0.27982447913405933
          ],
          [
           4.715636520646068,
           0.07611370748438157,
           0.1014113378744536,
           0.5120310284783156,
           0.31044392616284927
          ],
          [
           6.823959961836973,
           0.06956272277029837,
           0.09837021701503346,
           0.4909527879830848,
           0.34111427223158336
          ],
          [
           7.670188790890231,
           0.06991429141082474,
           0.0976140911261165,
           0.4745588250376494,
           0.35791279242540935
          ]
         ],
         "hovertemplate": "Strategy: estimate standard deviations only <br>Year: %{x:4.0f}<br>Return: %{y:0.1%}<br>Weight in Risky Portfolio: %{customdata[0]: 0.1%} <br>Risky Portfolio Weights:<br>  S&P 500: %{customdata[1]: 0.1%} <br>  Gold: %{customdata[2]: 0.1%} <br>  Corporates: %{customdata[3]: 0.1%} <br>  Treasuries: %{customdata[4]: 0.1%} <br><extra></extra>",
         "name": "Risk Parity",
         "type": "scatter",
         "x": [
          1968,
          1969,
          1970,
          1971,
          1972,
          1973,
          1974,
          1975,
          1976,
          1977,
          1978,
          1979,
          1980,
          1981,
          1982,
          1983,
          1984,
          1985,
          1986,
          1987,
          1988,
          1989,
          1990,
          1991,
          1992,
          1993,
          1994,
          1995,
          1996,
          1997,
          1998,
          1999,
          2000,
          2001,
          2002,
          2003,
          2004,
          2005,
          2006,
          2007,
          2008,
          2009,
          2010,
          2011,
          2012,
          2013,
          2014,
          2015,
          2016,
          2017,
          2018,
          2019,
          2020,
          2021
         ],
         "y": [
          null,
          null,
          null,
          null,
          null,
          null,
          null,
          null,
          null,
          null,
          null,
          null,
          null,
          null,
          null,
          null,
          null,
          null,
          null,
          null,
          0.196912899233048,
          0.2527528862919845,
          -0.001674153266550335,
          0.5043448105920989,
          0.3309253484350016,
          0.5444517567038389,
          -0.25063989816675336,
          0.6116861035660841,
          0.12763835708199744,
          0.3640684821481064,
          0.3858561472768958,
          -0.038116754079083666,
          0.04495291037489943,
          0.031983526352564434,
          0.510888407830883,
          0.7360412191161867,
          0.42576697782662504,
          0.18855263147215345,
          0.18815613321270752,
          0.19516823901545577,
          -0.0597376177735414,
          0.9743092213460129,
          0.6803282269489316,
          0.8419146122063244,
          0.5417604390612498,
          -0.3028233787371309,
          0.56586930754229,
          -0.07493739354620019,
          0.4605890560414576,
          0.46592050448778,
          -0.1856261348625542,
          0.6556860540610533,
          0.8551463439318437,
          0.033299057697175526
         ]
        },
        {
         "customdata": [
          [
           null,
           0.25,
           0.25,
           0.25,
           0.25
          ],
          [
           null,
           0.25,
           0.25,
           0.25,
           0.25
          ],
          [
           null,
           0.25,
           0.25,
           0.25,
           0.25
          ],
          [
           null,
           0.25,
           0.25,
           0.25,
           0.25
          ],
          [
           null,
           0.25,
           0.25,
           0.25,
           0.25
          ],
          [
           null,
           0.25,
           0.25,
           0.25,
           0.25
          ],
          [
           null,
           0.25,
           0.25,
           0.25,
           0.25
          ],
          [
           null,
           0.25,
           0.25,
           0.25,
           0.25
          ],
          [
           null,
           0.25,
           0.25,
           0.25,
           0.25
          ],
          [
           null,
           0.25,
           0.25,
           0.25,
           0.25
          ],
          [
           null,
           0.25,
           0.25,
           0.25,
           0.25
          ],
          [
           null,
           0.25,
           0.25,
           0.25,
           0.25
          ],
          [
           null,
           0.25,
           0.25,
           0.25,
           0.25
          ],
          [
           null,
           0.25,
           0.25,
           0.25,
           0.25
          ],
          [
           null,
           0.25,
           0.25,
           0.25,
           0.25
          ],
          [
           null,
           0.25,
           0.25,
           0.25,
           0.25
          ],
          [
           null,
           0.25,
           0.25,
           0.25,
           0.25
          ],
          [
           null,
           0.25,
           0.25,
           0.25,
           0.25
          ],
          [
           null,
           0.25,
           0.25,
           0.25,
           0.25
          ],
          [
           null,
           0.25,
           0.25,
           0.25,
           0.25
          ],
          [
           1.1338931630718665,
           0.25,
           0.25,
           0.25,
           0.25
          ],
          [
           0.7554608701997606,
           0.25,
           0.25,
           0.25,
           0.25
          ],
          [
           1.1831100671973414,
           0.25,
           0.25,
           0.25,
           0.25
          ],
          [
           1.577821442228201,
           0.25,
           0.25,
           0.25,
           0.25
          ],
          [
           1.9499608994532858,
           0.25,
           0.25,
           0.25,
           0.25
          ],
          [
           1.9133566691420252,
           0.25,
           0.25,
           0.25,
           0.25
          ],
          [
           1.7881787030584746,
           0.25,
           0.25,
           0.25,
           0.25
          ],
          [
           1.5226079862398592,
           0.25,
           0.25,
           0.25,
           0.25
          ],
          [
           1.8646337306326424,
           0.25,
           0.25,
           0.25,
           0.25
          ],
          [
           1.7391873806376843,
           0.25,
           0.25,
           0.25,
           0.25
          ],
          [
           1.849353444429517,
           0.25,
           0.25,
           0.25,
           0.25
          ],
          [
           1.9744166671411867,
           0.25,
           0.25,
           0.25,
           0.25
          ],
          [
           2.1951843358388485,
           0.25,
           0.25,
           0.25,
           0.25
          ],
          [
           3.447051386141792,
           0.25,
           0.25,
           0.25,
           0.25
          ],
          [
           4.859606257538297,
           0.25,
           0.25,
           0.25,
           0.25
          ],
          [
           4.5300626834806135,
           0.25,
           0.25,
           0.25,
           0.25
          ],
          [
           4.455327740133759,
           0.25,
           0.25,
           0.25,
           0.25
          ],
          [
           3.699503447178843,
           0.25,
           0.25,
           0.25,
           0.25
          ],
          [
           2.479406003823069,
           0.25,
           0.25,
           0.25,
           0.25
          ],
          [
           2.5388940226432504,
           0.25,
           0.25,
           0.25,
           0.25
          ],
          [
           4.603436108994639,
           0.25,
           0.25,
           0.25,
           0.25
          ],
          [
           4.2935446638469825,
           0.25,
           0.25,
           0.25,
           0.25
          ],
          [
           3.996304067201761,
           0.25,
           0.25,
           0.25,
           0.25
          ],
          [
           4.304016665588516,
           0.25,
           0.25,
           0.25,
           0.25
          ],
          [
           4.425601813872425,
           0.25,
           0.25,
           0.25,
           0.25
          ],
          [
           4.574904118432369,
           0.25,
           0.25,
           0.25,
           0.25
          ],
          [
           3.659598809413478,
           0.25,
           0.25,
           0.25,
           0.25
          ],
          [
           4.063779967146082,
           0.25,
           0.25,
           0.25,
           0.25
          ],
          [
           3.5848717920947024,
           0.25,
           0.25,
           0.25,
           0.25
          ],
          [
           3.3775408198615375,
           0.25,
           0.25,
           0.25,
           0.25
          ],
          [
           3.214116344227616,
           0.25,
           0.25,
           0.25,
           0.25
          ],
          [
           3.044047945188719,
           0.25,
           0.25,
           0.25,
           0.25
          ],
          [
           4.265016820265045,
           0.25,
           0.25,
           0.25,
           0.25
          ],
          [
           4.806675676226254,
           0.25,
           0.25,
           0.25,
           0.25
          ]
         ],
         "hovertemplate": "Strategy: equal weights <br>Year: %{x:4.0f}<br>Return: %{y:0.1%}<br>Weight in Risky Portfolio: %{customdata[0]: 0.1%} <br>Risky Portfolio Weights:<br>  S&P 500: %{customdata[1]: 0.1%} <br>  Gold: %{customdata[2]: 0.1%} <br>  Corporates: %{customdata[3]: 0.1%} <br>  Treasuries: %{customdata[4]: 0.1%} <br><extra></extra>",
         "name": "Equal Weights",
         "type": "scatter",
         "x": [
          1968,
          1969,
          1970,
          1971,
          1972,
          1973,
          1974,
          1975,
          1976,
          1977,
          1978,
          1979,
          1980,
          1981,
          1982,
          1983,
          1984,
          1985,
          1986,
          1987,
          1988,
          1989,
          1990,
          1991,
          1992,
          1993,
          1994,
          1995,
          1996,
          1997,
          1998,
          1999,
          2000,
          2001,
          2002,
          2003,
          2004,
          2005,
          2006,
          2007,
          2008,
          2009,
          2010,
          2011,
          2012,
          2013,
          2014,
          2015,
          2016,
          2017,
          2018,
          2019,
          2020,
          2021
         ],
         "y": [
          null,
          null,
          null,
          null,
          null,
          null,
          null,
          null,
          null,
          null,
          null,
          null,
          null,
          null,
          null,
          null,
          null,
          null,
          null,
          null,
          0.05962254735151154,
          0.1383068289767706,
          0.0064427593477521805,
          0.17988290797906914,
          0.08062902868166319,
          0.24985353863476095,
          -0.0786952767576075,
          0.2831779022039328,
          0.07077384254778213,
          0.1066609395037861,
          0.19337115073185235,
          0.027151432721199843,
          -0.010822785586834402,
          -0.057460889505357195,
          0.29397549038484816,
          0.6891166719144247,
          0.2878135432384095,
          0.19013993694752296,
          0.23094985833091572,
          0.25311228572981986,
          -0.257604314946275,
          0.7011126963951182,
          0.5890755122516041,
          0.45411558130972857,
          0.38066177712684574,
          -0.06853418805030463,
          0.314485492203302,
          -0.097697919123813,
          0.27810040013374454,
          0.36616064382748137,
          -0.10843573310885042,
          0.5391368418817006,
          0.678782190597929,
          0.2528523355363683
         ]
        }
       ],
       "layout": {
        "legend": {
         "x": 0.01,
         "xanchor": "left",
         "y": 0.99,
         "yanchor": "top"
        },
        "template": {
         "data": {
          "bar": [
           {
            "error_x": {
             "color": "#2a3f5f"
            },
            "error_y": {
             "color": "#2a3f5f"
            },
            "marker": {
             "line": {
              "color": "#E5ECF6",
              "width": 0.5
             },
             "pattern": {
              "fillmode": "overlay",
              "size": 10,
              "solidity": 0.2
             }
            },
            "type": "bar"
           }
          ],
          "barpolar": [
           {
            "marker": {
             "line": {
              "color": "#E5ECF6",
              "width": 0.5
             },
             "pattern": {
              "fillmode": "overlay",
              "size": 10,
              "solidity": 0.2
             }
            },
            "type": "barpolar"
           }
          ],
          "carpet": [
           {
            "aaxis": {
             "endlinecolor": "#2a3f5f",
             "gridcolor": "white",
             "linecolor": "white",
             "minorgridcolor": "white",
             "startlinecolor": "#2a3f5f"
            },
            "baxis": {
             "endlinecolor": "#2a3f5f",
             "gridcolor": "white",
             "linecolor": "white",
             "minorgridcolor": "white",
             "startlinecolor": "#2a3f5f"
            },
            "type": "carpet"
           }
          ],
          "choropleth": [
           {
            "colorbar": {
             "outlinewidth": 0,
             "ticks": ""
            },
            "type": "choropleth"
           }
          ],
          "contour": [
           {
            "colorbar": {
             "outlinewidth": 0,
             "ticks": ""
            },
            "colorscale": [
             [
              0,
              "#0d0887"
             ],
             [
              0.1111111111111111,
              "#46039f"
             ],
             [
              0.2222222222222222,
              "#7201a8"
             ],
             [
              0.3333333333333333,
              "#9c179e"
             ],
             [
              0.4444444444444444,
              "#bd3786"
             ],
             [
              0.5555555555555556,
              "#d8576b"
             ],
             [
              0.6666666666666666,
              "#ed7953"
             ],
             [
              0.7777777777777778,
              "#fb9f3a"
             ],
             [
              0.8888888888888888,
              "#fdca26"
             ],
             [
              1,
              "#f0f921"
             ]
            ],
            "type": "contour"
           }
          ],
          "contourcarpet": [
           {
            "colorbar": {
             "outlinewidth": 0,
             "ticks": ""
            },
            "type": "contourcarpet"
           }
          ],
          "heatmap": [
           {
            "colorbar": {
             "outlinewidth": 0,
             "ticks": ""
            },
            "colorscale": [
             [
              0,
              "#0d0887"
             ],
             [
              0.1111111111111111,
              "#46039f"
             ],
             [
              0.2222222222222222,
              "#7201a8"
             ],
             [
              0.3333333333333333,
              "#9c179e"
             ],
             [
              0.4444444444444444,
              "#bd3786"
             ],
             [
              0.5555555555555556,
              "#d8576b"
             ],
             [
              0.6666666666666666,
              "#ed7953"
             ],
             [
              0.7777777777777778,
              "#fb9f3a"
             ],
             [
              0.8888888888888888,
              "#fdca26"
             ],
             [
              1,
              "#f0f921"
             ]
            ],
            "type": "heatmap"
           }
          ],
          "heatmapgl": [
           {
            "colorbar": {
             "outlinewidth": 0,
             "ticks": ""
            },
            "colorscale": [
             [
              0,
              "#0d0887"
             ],
             [
              0.1111111111111111,
              "#46039f"
             ],
             [
              0.2222222222222222,
              "#7201a8"
             ],
             [
              0.3333333333333333,
              "#9c179e"
             ],
             [
              0.4444444444444444,
              "#bd3786"
             ],
             [
              0.5555555555555556,
              "#d8576b"
             ],
             [
              0.6666666666666666,
              "#ed7953"
             ],
             [
              0.7777777777777778,
              "#fb9f3a"
             ],
             [
              0.8888888888888888,
              "#fdca26"
             ],
             [
              1,
              "#f0f921"
             ]
            ],
            "type": "heatmapgl"
           }
          ],
          "histogram": [
           {
            "marker": {
             "pattern": {
              "fillmode": "overlay",
              "size": 10,
              "solidity": 0.2
             }
            },
            "type": "histogram"
           }
          ],
          "histogram2d": [
           {
            "colorbar": {
             "outlinewidth": 0,
             "ticks": ""
            },
            "colorscale": [
             [
              0,
              "#0d0887"
             ],
             [
              0.1111111111111111,
              "#46039f"
             ],
             [
              0.2222222222222222,
              "#7201a8"
             ],
             [
              0.3333333333333333,
              "#9c179e"
             ],
             [
              0.4444444444444444,
              "#bd3786"
             ],
             [
              0.5555555555555556,
              "#d8576b"
             ],
             [
              0.6666666666666666,
              "#ed7953"
             ],
             [
              0.7777777777777778,
              "#fb9f3a"
             ],
             [
              0.8888888888888888,
              "#fdca26"
             ],
             [
              1,
              "#f0f921"
             ]
            ],
            "type": "histogram2d"
           }
          ],
          "histogram2dcontour": [
           {
            "colorbar": {
             "outlinewidth": 0,
             "ticks": ""
            },
            "colorscale": [
             [
              0,
              "#0d0887"
             ],
             [
              0.1111111111111111,
              "#46039f"
             ],
             [
              0.2222222222222222,
              "#7201a8"
             ],
             [
              0.3333333333333333,
              "#9c179e"
             ],
             [
              0.4444444444444444,
              "#bd3786"
             ],
             [
              0.5555555555555556,
              "#d8576b"
             ],
             [
              0.6666666666666666,
              "#ed7953"
             ],
             [
              0.7777777777777778,
              "#fb9f3a"
             ],
             [
              0.8888888888888888,
              "#fdca26"
             ],
             [
              1,
              "#f0f921"
             ]
            ],
            "type": "histogram2dcontour"
           }
          ],
          "mesh3d": [
           {
            "colorbar": {
             "outlinewidth": 0,
             "ticks": ""
            },
            "type": "mesh3d"
           }
          ],
          "parcoords": [
           {
            "line": {
             "colorbar": {
              "outlinewidth": 0,
              "ticks": ""
             }
            },
            "type": "parcoords"
           }
          ],
          "pie": [
           {
            "automargin": true,
            "type": "pie"
           }
          ],
          "scatter": [
           {
            "fillpattern": {
             "fillmode": "overlay",
             "size": 10,
             "solidity": 0.2
            },
            "type": "scatter"
           }
          ],
          "scatter3d": [
           {
            "line": {
             "colorbar": {
              "outlinewidth": 0,
              "ticks": ""
             }
            },
            "marker": {
             "colorbar": {
              "outlinewidth": 0,
              "ticks": ""
             }
            },
            "type": "scatter3d"
           }
          ],
          "scattercarpet": [
           {
            "marker": {
             "colorbar": {
              "outlinewidth": 0,
              "ticks": ""
             }
            },
            "type": "scattercarpet"
           }
          ],
          "scattergeo": [
           {
            "marker": {
             "colorbar": {
              "outlinewidth": 0,
              "ticks": ""
             }
            },
            "type": "scattergeo"
           }
          ],
          "scattergl": [
           {
            "marker": {
             "colorbar": {
              "outlinewidth": 0,
              "ticks": ""
             }
            },
            "type": "scattergl"
           }
          ],
          "scattermapbox": [
           {
            "marker": {
             "colorbar": {
              "outlinewidth": 0,
              "ticks": ""
             }
            },
            "type": "scattermapbox"
           }
          ],
          "scatterpolar": [
           {
            "marker": {
             "colorbar": {
              "outlinewidth": 0,
              "ticks": ""
             }
            },
            "type": "scatterpolar"
           }
          ],
          "scatterpolargl": [
           {
            "marker": {
             "colorbar": {
              "outlinewidth": 0,
              "ticks": ""
             }
            },
            "type": "scatterpolargl"
           }
          ],
          "scatterternary": [
           {
            "marker": {
             "colorbar": {
              "outlinewidth": 0,
              "ticks": ""
             }
            },
            "type": "scatterternary"
           }
          ],
          "surface": [
           {
            "colorbar": {
             "outlinewidth": 0,
             "ticks": ""
            },
            "colorscale": [
             [
              0,
              "#0d0887"
             ],
             [
              0.1111111111111111,
              "#46039f"
             ],
             [
              0.2222222222222222,
              "#7201a8"
             ],
             [
              0.3333333333333333,
              "#9c179e"
             ],
             [
              0.4444444444444444,
              "#bd3786"
             ],
             [
              0.5555555555555556,
              "#d8576b"
             ],
             [
              0.6666666666666666,
              "#ed7953"
             ],
             [
              0.7777777777777778,
              "#fb9f3a"
             ],
             [
              0.8888888888888888,
              "#fdca26"
             ],
             [
              1,
              "#f0f921"
             ]
            ],
            "type": "surface"
           }
          ],
          "table": [
           {
            "cells": {
             "fill": {
              "color": "#EBF0F8"
             },
             "line": {
              "color": "white"
             }
            },
            "header": {
             "fill": {
              "color": "#C8D4E3"
             },
             "line": {
              "color": "white"
             }
            },
            "type": "table"
           }
          ]
         },
         "layout": {
          "annotationdefaults": {
           "arrowcolor": "#2a3f5f",
           "arrowhead": 0,
           "arrowwidth": 1
          },
          "autotypenumbers": "strict",
          "coloraxis": {
           "colorbar": {
            "outlinewidth": 0,
            "ticks": ""
           }
          },
          "colorscale": {
           "diverging": [
            [
             0,
             "#8e0152"
            ],
            [
             0.1,
             "#c51b7d"
            ],
            [
             0.2,
             "#de77ae"
            ],
            [
             0.3,
             "#f1b6da"
            ],
            [
             0.4,
             "#fde0ef"
            ],
            [
             0.5,
             "#f7f7f7"
            ],
            [
             0.6,
             "#e6f5d0"
            ],
            [
             0.7,
             "#b8e186"
            ],
            [
             0.8,
             "#7fbc41"
            ],
            [
             0.9,
             "#4d9221"
            ],
            [
             1,
             "#276419"
            ]
           ],
           "sequential": [
            [
             0,
             "#0d0887"
            ],
            [
             0.1111111111111111,
             "#46039f"
            ],
            [
             0.2222222222222222,
             "#7201a8"
            ],
            [
             0.3333333333333333,
             "#9c179e"
            ],
            [
             0.4444444444444444,
             "#bd3786"
            ],
            [
             0.5555555555555556,
             "#d8576b"
            ],
            [
             0.6666666666666666,
             "#ed7953"
            ],
            [
             0.7777777777777778,
             "#fb9f3a"
            ],
            [
             0.8888888888888888,
             "#fdca26"
            ],
            [
             1,
             "#f0f921"
            ]
           ],
           "sequentialminus": [
            [
             0,
             "#0d0887"
            ],
            [
             0.1111111111111111,
             "#46039f"
            ],
            [
             0.2222222222222222,
             "#7201a8"
            ],
            [
             0.3333333333333333,
             "#9c179e"
            ],
            [
             0.4444444444444444,
             "#bd3786"
            ],
            [
             0.5555555555555556,
             "#d8576b"
            ],
            [
             0.6666666666666666,
             "#ed7953"
            ],
            [
             0.7777777777777778,
             "#fb9f3a"
            ],
            [
             0.8888888888888888,
             "#fdca26"
            ],
            [
             1,
             "#f0f921"
            ]
           ]
          },
          "colorway": [
           "#636efa",
           "#EF553B",
           "#00cc96",
           "#ab63fa",
           "#FFA15A",
           "#19d3f3",
           "#FF6692",
           "#B6E880",
           "#FF97FF",
           "#FECB52"
          ],
          "font": {
           "color": "#2a3f5f"
          },
          "geo": {
           "bgcolor": "white",
           "lakecolor": "white",
           "landcolor": "#E5ECF6",
           "showlakes": true,
           "showland": true,
           "subunitcolor": "white"
          },
          "hoverlabel": {
           "align": "left"
          },
          "hovermode": "closest",
          "mapbox": {
           "style": "light"
          },
          "paper_bgcolor": "white",
          "plot_bgcolor": "#E5ECF6",
          "polar": {
           "angularaxis": {
            "gridcolor": "white",
            "linecolor": "white",
            "ticks": ""
           },
           "bgcolor": "#E5ECF6",
           "radialaxis": {
            "gridcolor": "white",
            "linecolor": "white",
            "ticks": ""
           }
          },
          "scene": {
           "xaxis": {
            "backgroundcolor": "#E5ECF6",
            "gridcolor": "white",
            "gridwidth": 2,
            "linecolor": "white",
            "showbackground": true,
            "ticks": "",
            "zerolinecolor": "white"
           },
           "yaxis": {
            "backgroundcolor": "#E5ECF6",
            "gridcolor": "white",
            "gridwidth": 2,
            "linecolor": "white",
            "showbackground": true,
            "ticks": "",
            "zerolinecolor": "white"
           },
           "zaxis": {
            "backgroundcolor": "#E5ECF6",
            "gridcolor": "white",
            "gridwidth": 2,
            "linecolor": "white",
            "showbackground": true,
            "ticks": "",
            "zerolinecolor": "white"
           }
          },
          "shapedefaults": {
           "line": {
            "color": "#2a3f5f"
           }
          },
          "ternary": {
           "aaxis": {
            "gridcolor": "white",
            "linecolor": "white",
            "ticks": ""
           },
           "baxis": {
            "gridcolor": "white",
            "linecolor": "white",
            "ticks": ""
           },
           "bgcolor": "#E5ECF6",
           "caxis": {
            "gridcolor": "white",
            "linecolor": "white",
            "ticks": ""
           }
          },
          "title": {
           "x": 0.05
          },
          "xaxis": {
           "automargin": true,
           "gridcolor": "white",
           "linecolor": "white",
           "ticks": "",
           "title": {
            "standoff": 15
           },
           "zerolinecolor": "white",
           "zerolinewidth": 2
          },
          "yaxis": {
           "automargin": true,
           "gridcolor": "white",
           "linecolor": "white",
           "ticks": "",
           "title": {
            "standoff": 15
           },
           "zerolinecolor": "white",
           "zerolinewidth": 2
          }
         }
        },
        "xaxis": {
         "range": [
          1988,
          2021
         ],
         "title": {
          "text": "Year"
         }
        },
        "yaxis": {
         "tickformat": ".0%",
         "title": {
          "text": "Return"
         }
        }
       }
      }
     },
     "metadata": {},
     "output_type": "display_data"
    }
   ],
   "source": [
    "# Plot the time-series of returns and portfolio weights.\n",
    "for asset in asset_list:\n",
    "    df['wgt'+asset + '_ew'] = 1/n\n",
    "label_dict = {'true': 'theoretical optimal weights', \n",
    "            'ew': 'equal weights',\n",
    "            'est_all': 'estimate all inputs',\n",
    "            'est_cov': 'estimate covariance matrix only',\n",
    "            'est_sds': 'estimate standard deviations only'}\n",
    "\n",
    "xaxis_label_dict = {'true': 'theoretical optimal weights', \n",
    "            'ew': 'Est-None',\n",
    "            'est_all': 'Est-All',\n",
    "            'est_cov': 'Est-SD-Corr',\n",
    "            'est_sds': 'Est-SD'}           \n",
    "\n",
    "fig = go.Figure()\n",
    "for model in ['est_all', 'est_cov', 'est_sds', 'ew']:\n",
    "    string =  \"Strategy: \" + label_dict[model] +\" <br>\"\n",
    "    string += \"Year: %{x:4.0f}<br>\"\n",
    "    string += \"Return: %{y:0.1%}<br>\"\n",
    "    string += \"Weight in Risky Portfolio: %{customdata[0]: 0.1%} <br>\"\n",
    "    string += \"Risky Portfolio Weights:<br>\"\n",
    "    string += \"  \"+ risky[0] +\": %{customdata[1]: 0.1%} <br>\"\n",
    "    string += \"  \"+ risky[1] +\": %{customdata[2]: 0.1%} <br>\"\n",
    "    string += \"  \"+ risky[2] +\": %{customdata[3]: 0.1%} <br>\"\n",
    "    string += \"  \"+ risky[3] +\": %{customdata[4]: 0.1%} <br>\"\n",
    "    string += \"<extra></extra>\"\n",
    "\n",
    "    wgt_list = ['wgt_cal_'+ model] + ['wgt'+asset + \"_\" + model for asset in asset_list]\n",
    "    trace=go.Scatter(x=df['year'], y=df['raver_portret_'+model], customdata=df[wgt_list], hovertemplate=string, name = xaxis_label_dict[model])\n",
    "    fig.add_trace(trace)\n",
    "fig.layout.yaxis[\"title\"] = \"Return\"\n",
    "fig.layout.xaxis[\"title\"] = \"Year\"\n",
    "fig.update_yaxes(tickformat=\".0%\")\n",
    "fig.update_layout(legend=dict(yanchor=\"top\", y =0.99, xanchor=\"left\", x=0.01))\n",
    "fig.update_xaxes(range=[df['year'].iloc[window], df.year.max()])\n",
    "fig.show()"
   ]
  },
  {
   "cell_type": "code",
   "execution_count": 12,
   "metadata": {},
   "outputs": [
    {
     "data": {
      "application/vnd.plotly.v1+json": {
       "config": {
        "plotlyServerURL": "https://plot.ly"
       },
       "data": [
        {
         "hovertemplate": "Strategy: estimate all inputs <br>Year: %{x:4.0f}<br>Weight in Risky Portfolio: %{y: 0.1%} <br><extra></extra>",
         "name": "Tangency",
         "type": "scatter",
         "x": [
          1968,
          1969,
          1970,
          1971,
          1972,
          1973,
          1974,
          1975,
          1976,
          1977,
          1978,
          1979,
          1980,
          1981,
          1982,
          1983,
          1984,
          1985,
          1986,
          1987,
          1988,
          1989,
          1990,
          1991,
          1992,
          1993,
          1994,
          1995,
          1996,
          1997,
          1998,
          1999,
          2000,
          2001,
          2002,
          2003,
          2004,
          2005,
          2006,
          2007,
          2008,
          2009,
          2010,
          2011,
          2012,
          2013,
          2014,
          2015,
          2016,
          2017,
          2018,
          2019,
          2020,
          2021
         ],
         "y": [
          null,
          null,
          null,
          null,
          null,
          null,
          null,
          null,
          null,
          null,
          null,
          null,
          null,
          null,
          null,
          null,
          null,
          null,
          null,
          null,
          1.409971941806668,
          1.012864952760892,
          2.007324875952532,
          3.1009399085149667,
          3.967778283343357,
          4.341458051680747,
          3.747207941362266,
          3.761680550145702,
          4.045771626137521,
          3.9479836958275643,
          4.030574549255489,
          3.692884267611654,
          2.5897998356025984,
          3.1514267405103054,
          4.241781142372106,
          5.480125713716546,
          5.090805218031703,
          4.104577694001074,
          3.2711795664980996,
          3.74139040190384,
          6.18960419072932,
          5.290689264322044,
          5.270785346715947,
          5.633103806175869,
          5.651090730468091,
          5.632448613176119,
          4.367782423953463,
          5.861715971817256,
          7.066310751492046,
          6.467194853375013,
          5.855102633347634,
          5.499648430716805,
          7.435818432035327,
          7.51530344471214
         ]
        },
        {
         "hovertemplate": "Strategy: estimate covariance matrix only <br>Year: %{x:4.0f}<br>Weight in Risky Portfolio: %{y: 0.1%} <br><extra></extra>",
         "name": "GMV",
         "type": "scatter",
         "x": [
          1968,
          1969,
          1970,
          1971,
          1972,
          1973,
          1974,
          1975,
          1976,
          1977,
          1978,
          1979,
          1980,
          1981,
          1982,
          1983,
          1984,
          1985,
          1986,
          1987,
          1988,
          1989,
          1990,
          1991,
          1992,
          1993,
          1994,
          1995,
          1996,
          1997,
          1998,
          1999,
          2000,
          2001,
          2002,
          2003,
          2004,
          2005,
          2006,
          2007,
          2008,
          2009,
          2010,
          2011,
          2012,
          2013,
          2014,
          2015,
          2016,
          2017,
          2018,
          2019,
          2020,
          2021
         ],
         "y": [
          null,
          null,
          null,
          null,
          null,
          null,
          null,
          null,
          null,
          null,
          null,
          null,
          null,
          null,
          null,
          null,
          null,
          null,
          null,
          null,
          1.7030509317179474,
          1.173960842443053,
          2.2743966505776707,
          3.0701874912768448,
          3.916602964700227,
          4.022873059783724,
          3.3194681368657784,
          2.5462528526956016,
          3.051980989347987,
          2.8981418000975805,
          3.0900619019780433,
          2.9704178189907413,
          1.8213365202655327,
          2.605657960740277,
          4.078546117427237,
          4.992652994475884,
          4.419235373179667,
          3.525295219985532,
          2.627359399767093,
          3.2635750570950828,
          5.974573369756079,
          5.3961113763953525,
          5.412510562551164,
          5.910429766064413,
          5.810377843146657,
          5.914386142740125,
          4.648275440725614,
          6.148034169331345,
          7.4421215004510675,
          6.916310557416255,
          6.971816472853758,
          7.328349195625178,
          8.949810207581693,
          10.20120774667873
         ]
        },
        {
         "hovertemplate": "Strategy: estimate standard deviations only <br>Year: %{x:4.0f}<br>Weight in Risky Portfolio: %{y: 0.1%} <br><extra></extra>",
         "name": "Risk Parity",
         "type": "scatter",
         "x": [
          1968,
          1969,
          1970,
          1971,
          1972,
          1973,
          1974,
          1975,
          1976,
          1977,
          1978,
          1979,
          1980,
          1981,
          1982,
          1983,
          1984,
          1985,
          1986,
          1987,
          1988,
          1989,
          1990,
          1991,
          1992,
          1993,
          1994,
          1995,
          1996,
          1997,
          1998,
          1999,
          2000,
          2001,
          2002,
          2003,
          2004,
          2005,
          2006,
          2007,
          2008,
          2009,
          2010,
          2011,
          2012,
          2013,
          2014,
          2015,
          2016,
          2017,
          2018,
          2019,
          2020,
          2021
         ],
         "y": [
          null,
          null,
          null,
          null,
          null,
          null,
          null,
          null,
          null,
          null,
          null,
          null,
          null,
          null,
          null,
          null,
          null,
          null,
          null,
          null,
          2.452078192158818,
          1.6684190155777439,
          2.675576047598323,
          3.6214582000325257,
          4.4932022034655725,
          4.380046722836678,
          3.814789640610835,
          2.9975781053572135,
          3.5072354984729026,
          3.2722662637560953,
          3.5488621976591914,
          3.7879964373698876,
          2.4536024387722413,
          4.072979234598706,
          5.632867385649754,
          6.222270187944015,
          6.255152539041093,
          5.116325030378397,
          3.6527199248979882,
          4.080080010898267,
          7.674378870422307,
          7.081282112984541,
          6.09355772064298,
          6.632034110324937,
          6.807294414733575,
          7.009460690560996,
          5.901899617876238,
          6.871483021138972,
          6.317420016845127,
          5.873000655455195,
          5.2862685588676825,
          4.715636520646068,
          6.823959961836973,
          7.670188790890231
         ]
        },
        {
         "hovertemplate": "Strategy: equal weights <br>Year: %{x:4.0f}<br>Weight in Risky Portfolio: %{y: 0.1%} <br><extra></extra>",
         "name": "Equal Weights",
         "type": "scatter",
         "x": [
          1968,
          1969,
          1970,
          1971,
          1972,
          1973,
          1974,
          1975,
          1976,
          1977,
          1978,
          1979,
          1980,
          1981,
          1982,
          1983,
          1984,
          1985,
          1986,
          1987,
          1988,
          1989,
          1990,
          1991,
          1992,
          1993,
          1994,
          1995,
          1996,
          1997,
          1998,
          1999,
          2000,
          2001,
          2002,
          2003,
          2004,
          2005,
          2006,
          2007,
          2008,
          2009,
          2010,
          2011,
          2012,
          2013,
          2014,
          2015,
          2016,
          2017,
          2018,
          2019,
          2020,
          2021
         ],
         "y": [
          null,
          null,
          null,
          null,
          null,
          null,
          null,
          null,
          null,
          null,
          null,
          null,
          null,
          null,
          null,
          null,
          null,
          null,
          null,
          null,
          1.1338931630718665,
          0.7554608701997606,
          1.1831100671973414,
          1.577821442228201,
          1.9499608994532858,
          1.9133566691420252,
          1.7881787030584746,
          1.5226079862398592,
          1.8646337306326424,
          1.7391873806376843,
          1.849353444429517,
          1.9744166671411867,
          2.1951843358388485,
          3.447051386141792,
          4.859606257538297,
          4.5300626834806135,
          4.455327740133759,
          3.699503447178843,
          2.479406003823069,
          2.5388940226432504,
          4.603436108994639,
          4.2935446638469825,
          3.996304067201761,
          4.304016665588516,
          4.425601813872425,
          4.574904118432369,
          3.659598809413478,
          4.063779967146082,
          3.5848717920947024,
          3.3775408198615375,
          3.214116344227616,
          3.044047945188719,
          4.265016820265045,
          4.806675676226254
         ]
        }
       ],
       "layout": {
        "legend": {
         "x": 0.01,
         "xanchor": "left",
         "y": 0.99,
         "yanchor": "top"
        },
        "template": {
         "data": {
          "bar": [
           {
            "error_x": {
             "color": "#2a3f5f"
            },
            "error_y": {
             "color": "#2a3f5f"
            },
            "marker": {
             "line": {
              "color": "#E5ECF6",
              "width": 0.5
             },
             "pattern": {
              "fillmode": "overlay",
              "size": 10,
              "solidity": 0.2
             }
            },
            "type": "bar"
           }
          ],
          "barpolar": [
           {
            "marker": {
             "line": {
              "color": "#E5ECF6",
              "width": 0.5
             },
             "pattern": {
              "fillmode": "overlay",
              "size": 10,
              "solidity": 0.2
             }
            },
            "type": "barpolar"
           }
          ],
          "carpet": [
           {
            "aaxis": {
             "endlinecolor": "#2a3f5f",
             "gridcolor": "white",
             "linecolor": "white",
             "minorgridcolor": "white",
             "startlinecolor": "#2a3f5f"
            },
            "baxis": {
             "endlinecolor": "#2a3f5f",
             "gridcolor": "white",
             "linecolor": "white",
             "minorgridcolor": "white",
             "startlinecolor": "#2a3f5f"
            },
            "type": "carpet"
           }
          ],
          "choropleth": [
           {
            "colorbar": {
             "outlinewidth": 0,
             "ticks": ""
            },
            "type": "choropleth"
           }
          ],
          "contour": [
           {
            "colorbar": {
             "outlinewidth": 0,
             "ticks": ""
            },
            "colorscale": [
             [
              0,
              "#0d0887"
             ],
             [
              0.1111111111111111,
              "#46039f"
             ],
             [
              0.2222222222222222,
              "#7201a8"
             ],
             [
              0.3333333333333333,
              "#9c179e"
             ],
             [
              0.4444444444444444,
              "#bd3786"
             ],
             [
              0.5555555555555556,
              "#d8576b"
             ],
             [
              0.6666666666666666,
              "#ed7953"
             ],
             [
              0.7777777777777778,
              "#fb9f3a"
             ],
             [
              0.8888888888888888,
              "#fdca26"
             ],
             [
              1,
              "#f0f921"
             ]
            ],
            "type": "contour"
           }
          ],
          "contourcarpet": [
           {
            "colorbar": {
             "outlinewidth": 0,
             "ticks": ""
            },
            "type": "contourcarpet"
           }
          ],
          "heatmap": [
           {
            "colorbar": {
             "outlinewidth": 0,
             "ticks": ""
            },
            "colorscale": [
             [
              0,
              "#0d0887"
             ],
             [
              0.1111111111111111,
              "#46039f"
             ],
             [
              0.2222222222222222,
              "#7201a8"
             ],
             [
              0.3333333333333333,
              "#9c179e"
             ],
             [
              0.4444444444444444,
              "#bd3786"
             ],
             [
              0.5555555555555556,
              "#d8576b"
             ],
             [
              0.6666666666666666,
              "#ed7953"
             ],
             [
              0.7777777777777778,
              "#fb9f3a"
             ],
             [
              0.8888888888888888,
              "#fdca26"
             ],
             [
              1,
              "#f0f921"
             ]
            ],
            "type": "heatmap"
           }
          ],
          "heatmapgl": [
           {
            "colorbar": {
             "outlinewidth": 0,
             "ticks": ""
            },
            "colorscale": [
             [
              0,
              "#0d0887"
             ],
             [
              0.1111111111111111,
              "#46039f"
             ],
             [
              0.2222222222222222,
              "#7201a8"
             ],
             [
              0.3333333333333333,
              "#9c179e"
             ],
             [
              0.4444444444444444,
              "#bd3786"
             ],
             [
              0.5555555555555556,
              "#d8576b"
             ],
             [
              0.6666666666666666,
              "#ed7953"
             ],
             [
              0.7777777777777778,
              "#fb9f3a"
             ],
             [
              0.8888888888888888,
              "#fdca26"
             ],
             [
              1,
              "#f0f921"
             ]
            ],
            "type": "heatmapgl"
           }
          ],
          "histogram": [
           {
            "marker": {
             "pattern": {
              "fillmode": "overlay",
              "size": 10,
              "solidity": 0.2
             }
            },
            "type": "histogram"
           }
          ],
          "histogram2d": [
           {
            "colorbar": {
             "outlinewidth": 0,
             "ticks": ""
            },
            "colorscale": [
             [
              0,
              "#0d0887"
             ],
             [
              0.1111111111111111,
              "#46039f"
             ],
             [
              0.2222222222222222,
              "#7201a8"
             ],
             [
              0.3333333333333333,
              "#9c179e"
             ],
             [
              0.4444444444444444,
              "#bd3786"
             ],
             [
              0.5555555555555556,
              "#d8576b"
             ],
             [
              0.6666666666666666,
              "#ed7953"
             ],
             [
              0.7777777777777778,
              "#fb9f3a"
             ],
             [
              0.8888888888888888,
              "#fdca26"
             ],
             [
              1,
              "#f0f921"
             ]
            ],
            "type": "histogram2d"
           }
          ],
          "histogram2dcontour": [
           {
            "colorbar": {
             "outlinewidth": 0,
             "ticks": ""
            },
            "colorscale": [
             [
              0,
              "#0d0887"
             ],
             [
              0.1111111111111111,
              "#46039f"
             ],
             [
              0.2222222222222222,
              "#7201a8"
             ],
             [
              0.3333333333333333,
              "#9c179e"
             ],
             [
              0.4444444444444444,
              "#bd3786"
             ],
             [
              0.5555555555555556,
              "#d8576b"
             ],
             [
              0.6666666666666666,
              "#ed7953"
             ],
             [
              0.7777777777777778,
              "#fb9f3a"
             ],
             [
              0.8888888888888888,
              "#fdca26"
             ],
             [
              1,
              "#f0f921"
             ]
            ],
            "type": "histogram2dcontour"
           }
          ],
          "mesh3d": [
           {
            "colorbar": {
             "outlinewidth": 0,
             "ticks": ""
            },
            "type": "mesh3d"
           }
          ],
          "parcoords": [
           {
            "line": {
             "colorbar": {
              "outlinewidth": 0,
              "ticks": ""
             }
            },
            "type": "parcoords"
           }
          ],
          "pie": [
           {
            "automargin": true,
            "type": "pie"
           }
          ],
          "scatter": [
           {
            "fillpattern": {
             "fillmode": "overlay",
             "size": 10,
             "solidity": 0.2
            },
            "type": "scatter"
           }
          ],
          "scatter3d": [
           {
            "line": {
             "colorbar": {
              "outlinewidth": 0,
              "ticks": ""
             }
            },
            "marker": {
             "colorbar": {
              "outlinewidth": 0,
              "ticks": ""
             }
            },
            "type": "scatter3d"
           }
          ],
          "scattercarpet": [
           {
            "marker": {
             "colorbar": {
              "outlinewidth": 0,
              "ticks": ""
             }
            },
            "type": "scattercarpet"
           }
          ],
          "scattergeo": [
           {
            "marker": {
             "colorbar": {
              "outlinewidth": 0,
              "ticks": ""
             }
            },
            "type": "scattergeo"
           }
          ],
          "scattergl": [
           {
            "marker": {
             "colorbar": {
              "outlinewidth": 0,
              "ticks": ""
             }
            },
            "type": "scattergl"
           }
          ],
          "scattermapbox": [
           {
            "marker": {
             "colorbar": {
              "outlinewidth": 0,
              "ticks": ""
             }
            },
            "type": "scattermapbox"
           }
          ],
          "scatterpolar": [
           {
            "marker": {
             "colorbar": {
              "outlinewidth": 0,
              "ticks": ""
             }
            },
            "type": "scatterpolar"
           }
          ],
          "scatterpolargl": [
           {
            "marker": {
             "colorbar": {
              "outlinewidth": 0,
              "ticks": ""
             }
            },
            "type": "scatterpolargl"
           }
          ],
          "scatterternary": [
           {
            "marker": {
             "colorbar": {
              "outlinewidth": 0,
              "ticks": ""
             }
            },
            "type": "scatterternary"
           }
          ],
          "surface": [
           {
            "colorbar": {
             "outlinewidth": 0,
             "ticks": ""
            },
            "colorscale": [
             [
              0,
              "#0d0887"
             ],
             [
              0.1111111111111111,
              "#46039f"
             ],
             [
              0.2222222222222222,
              "#7201a8"
             ],
             [
              0.3333333333333333,
              "#9c179e"
             ],
             [
              0.4444444444444444,
              "#bd3786"
             ],
             [
              0.5555555555555556,
              "#d8576b"
             ],
             [
              0.6666666666666666,
              "#ed7953"
             ],
             [
              0.7777777777777778,
              "#fb9f3a"
             ],
             [
              0.8888888888888888,
              "#fdca26"
             ],
             [
              1,
              "#f0f921"
             ]
            ],
            "type": "surface"
           }
          ],
          "table": [
           {
            "cells": {
             "fill": {
              "color": "#EBF0F8"
             },
             "line": {
              "color": "white"
             }
            },
            "header": {
             "fill": {
              "color": "#C8D4E3"
             },
             "line": {
              "color": "white"
             }
            },
            "type": "table"
           }
          ]
         },
         "layout": {
          "annotationdefaults": {
           "arrowcolor": "#2a3f5f",
           "arrowhead": 0,
           "arrowwidth": 1
          },
          "autotypenumbers": "strict",
          "coloraxis": {
           "colorbar": {
            "outlinewidth": 0,
            "ticks": ""
           }
          },
          "colorscale": {
           "diverging": [
            [
             0,
             "#8e0152"
            ],
            [
             0.1,
             "#c51b7d"
            ],
            [
             0.2,
             "#de77ae"
            ],
            [
             0.3,
             "#f1b6da"
            ],
            [
             0.4,
             "#fde0ef"
            ],
            [
             0.5,
             "#f7f7f7"
            ],
            [
             0.6,
             "#e6f5d0"
            ],
            [
             0.7,
             "#b8e186"
            ],
            [
             0.8,
             "#7fbc41"
            ],
            [
             0.9,
             "#4d9221"
            ],
            [
             1,
             "#276419"
            ]
           ],
           "sequential": [
            [
             0,
             "#0d0887"
            ],
            [
             0.1111111111111111,
             "#46039f"
            ],
            [
             0.2222222222222222,
             "#7201a8"
            ],
            [
             0.3333333333333333,
             "#9c179e"
            ],
            [
             0.4444444444444444,
             "#bd3786"
            ],
            [
             0.5555555555555556,
             "#d8576b"
            ],
            [
             0.6666666666666666,
             "#ed7953"
            ],
            [
             0.7777777777777778,
             "#fb9f3a"
            ],
            [
             0.8888888888888888,
             "#fdca26"
            ],
            [
             1,
             "#f0f921"
            ]
           ],
           "sequentialminus": [
            [
             0,
             "#0d0887"
            ],
            [
             0.1111111111111111,
             "#46039f"
            ],
            [
             0.2222222222222222,
             "#7201a8"
            ],
            [
             0.3333333333333333,
             "#9c179e"
            ],
            [
             0.4444444444444444,
             "#bd3786"
            ],
            [
             0.5555555555555556,
             "#d8576b"
            ],
            [
             0.6666666666666666,
             "#ed7953"
            ],
            [
             0.7777777777777778,
             "#fb9f3a"
            ],
            [
             0.8888888888888888,
             "#fdca26"
            ],
            [
             1,
             "#f0f921"
            ]
           ]
          },
          "colorway": [
           "#636efa",
           "#EF553B",
           "#00cc96",
           "#ab63fa",
           "#FFA15A",
           "#19d3f3",
           "#FF6692",
           "#B6E880",
           "#FF97FF",
           "#FECB52"
          ],
          "font": {
           "color": "#2a3f5f"
          },
          "geo": {
           "bgcolor": "white",
           "lakecolor": "white",
           "landcolor": "#E5ECF6",
           "showlakes": true,
           "showland": true,
           "subunitcolor": "white"
          },
          "hoverlabel": {
           "align": "left"
          },
          "hovermode": "closest",
          "mapbox": {
           "style": "light"
          },
          "paper_bgcolor": "white",
          "plot_bgcolor": "#E5ECF6",
          "polar": {
           "angularaxis": {
            "gridcolor": "white",
            "linecolor": "white",
            "ticks": ""
           },
           "bgcolor": "#E5ECF6",
           "radialaxis": {
            "gridcolor": "white",
            "linecolor": "white",
            "ticks": ""
           }
          },
          "scene": {
           "xaxis": {
            "backgroundcolor": "#E5ECF6",
            "gridcolor": "white",
            "gridwidth": 2,
            "linecolor": "white",
            "showbackground": true,
            "ticks": "",
            "zerolinecolor": "white"
           },
           "yaxis": {
            "backgroundcolor": "#E5ECF6",
            "gridcolor": "white",
            "gridwidth": 2,
            "linecolor": "white",
            "showbackground": true,
            "ticks": "",
            "zerolinecolor": "white"
           },
           "zaxis": {
            "backgroundcolor": "#E5ECF6",
            "gridcolor": "white",
            "gridwidth": 2,
            "linecolor": "white",
            "showbackground": true,
            "ticks": "",
            "zerolinecolor": "white"
           }
          },
          "shapedefaults": {
           "line": {
            "color": "#2a3f5f"
           }
          },
          "ternary": {
           "aaxis": {
            "gridcolor": "white",
            "linecolor": "white",
            "ticks": ""
           },
           "baxis": {
            "gridcolor": "white",
            "linecolor": "white",
            "ticks": ""
           },
           "bgcolor": "#E5ECF6",
           "caxis": {
            "gridcolor": "white",
            "linecolor": "white",
            "ticks": ""
           }
          },
          "title": {
           "x": 0.05
          },
          "xaxis": {
           "automargin": true,
           "gridcolor": "white",
           "linecolor": "white",
           "ticks": "",
           "title": {
            "standoff": 15
           },
           "zerolinecolor": "white",
           "zerolinewidth": 2
          },
          "yaxis": {
           "automargin": true,
           "gridcolor": "white",
           "linecolor": "white",
           "ticks": "",
           "title": {
            "standoff": 15
           },
           "zerolinecolor": "white",
           "zerolinewidth": 2
          }
         }
        },
        "xaxis": {
         "range": [
          1988,
          2021
         ],
         "title": {
          "text": "Year"
         }
        },
        "yaxis": {
         "tickformat": ".0%",
         "title": {
          "text": "Risky Portfolio Weight"
         }
        }
       }
      }
     },
     "metadata": {},
     "output_type": "display_data"
    }
   ],
   "source": [
    "# Plot leverage (wgt_cal)\n",
    "fig = go.Figure()\n",
    "for model in ['est_all', 'est_cov', 'est_sds', 'ew']:\n",
    "    string =  \"Strategy: \" + label_dict[model] +\" <br>\"\n",
    "    string += \"Year: %{x:4.0f}<br>\"\n",
    "    string += \"Weight in Risky Portfolio: %{y: 0.1%} <br>\"\n",
    "    string += \"<extra></extra>\"\n",
    "\n",
    "    trace=go.Scatter(x=df['year'], y=df['wgt_cal_'+model], hovertemplate=string, name = xaxis_label_dict[model])\n",
    "    fig.add_trace(trace)\n",
    "fig.layout.yaxis[\"title\"] = \"Risky Portfolio Weight\"\n",
    "fig.layout.xaxis[\"title\"] = \"Year\"\n",
    "fig.update_yaxes(tickformat=\".0%\")\n",
    "fig.update_layout(legend=dict(yanchor=\"top\", y =0.99, xanchor=\"left\", x=0.01))\n",
    "fig.update_xaxes(range=[df['year'].iloc[window], df.year.max()])\n",
    "fig.show()"
   ]
  },
  {
   "cell_type": "code",
   "execution_count": 99,
   "metadata": {},
   "outputs": [
    {
     "data": {
      "text/html": [
       "<div>\n",
       "<style scoped>\n",
       "    .dataframe tbody tr th:only-of-type {\n",
       "        vertical-align: middle;\n",
       "    }\n",
       "\n",
       "    .dataframe tbody tr th {\n",
       "        vertical-align: top;\n",
       "    }\n",
       "\n",
       "    .dataframe thead th {\n",
       "        text-align: right;\n",
       "    }\n",
       "</style>\n",
       "<table border=\"1\" class=\"dataframe\">\n",
       "  <thead>\n",
       "    <tr style=\"text-align: right;\">\n",
       "      <th></th>\n",
       "      <th>wgt_cal_est_all</th>\n",
       "      <th>wgt_cal_est_cov</th>\n",
       "      <th>wgt_cal_est_sds</th>\n",
       "      <th>wgt_cal_ew</th>\n",
       "    </tr>\n",
       "  </thead>\n",
       "  <tbody>\n",
       "    <tr>\n",
       "      <th>count</th>\n",
       "      <td>34.000000</td>\n",
       "      <td>34.000000</td>\n",
       "      <td>34.000000</td>\n",
       "      <td>34.000000</td>\n",
       "    </tr>\n",
       "    <tr>\n",
       "      <th>mean</th>\n",
       "      <td>4.543357</td>\n",
       "      <td>4.541040</td>\n",
       "      <td>4.954805</td>\n",
       "      <td>3.049132</td>\n",
       "    </tr>\n",
       "    <tr>\n",
       "      <th>std</th>\n",
       "      <td>1.581558</td>\n",
       "      <td>2.138640</td>\n",
       "      <td>1.680892</td>\n",
       "      <td>1.268526</td>\n",
       "    </tr>\n",
       "    <tr>\n",
       "      <th>min</th>\n",
       "      <td>1.012865</td>\n",
       "      <td>1.173961</td>\n",
       "      <td>1.668419</td>\n",
       "      <td>0.755461</td>\n",
       "    </tr>\n",
       "    <tr>\n",
       "      <th>25%</th>\n",
       "      <td>3.742845</td>\n",
       "      <td>2.990809</td>\n",
       "      <td>3.629274</td>\n",
       "      <td>1.876814</td>\n",
       "    </tr>\n",
       "    <tr>\n",
       "      <th>50%</th>\n",
       "      <td>4.291620</td>\n",
       "      <td>4.050710</td>\n",
       "      <td>4.915981</td>\n",
       "      <td>3.295829</td>\n",
       "    </tr>\n",
       "    <tr>\n",
       "      <th>75%</th>\n",
       "      <td>5.632940</td>\n",
       "      <td>5.913397</td>\n",
       "      <td>6.301853</td>\n",
       "      <td>4.286413</td>\n",
       "    </tr>\n",
       "    <tr>\n",
       "      <th>max</th>\n",
       "      <td>7.515303</td>\n",
       "      <td>10.201208</td>\n",
       "      <td>7.674379</td>\n",
       "      <td>4.859606</td>\n",
       "    </tr>\n",
       "  </tbody>\n",
       "</table>\n",
       "</div>"
      ],
      "text/plain": [
       "       wgt_cal_est_all  wgt_cal_est_cov  wgt_cal_est_sds  wgt_cal_ew\n",
       "count        34.000000        34.000000        34.000000   34.000000\n",
       "mean          4.543357         4.541040         4.954805    3.049132\n",
       "std           1.581558         2.138640         1.680892    1.268526\n",
       "min           1.012865         1.173961         1.668419    0.755461\n",
       "25%           3.742845         2.990809         3.629274    1.876814\n",
       "50%           4.291620         4.050710         4.915981    3.295829\n",
       "75%           5.632940         5.913397         6.301853    4.286413\n",
       "max           7.515303        10.201208         7.674379    4.859606"
      ]
     },
     "execution_count": 99,
     "metadata": {},
     "output_type": "execute_result"
    }
   ],
   "source": [
    "wgt_list = ['wgt_cal_' +  model for model in ['est_all', 'est_cov', 'est_sds','ew']]\n",
    "stats = df[wgt_list].describe()\n",
    "stats"
   ]
  },
  {
   "cell_type": "markdown",
   "metadata": {},
   "source": [
    "## Option 1: Rolling input estimation: Cap leverage at 100%"
   ]
  },
  {
   "cell_type": "code",
   "execution_count": 100,
   "metadata": {},
   "outputs": [],
   "source": [
    "# Refresh data\n",
    "df = pd.concat((nominal, gold), axis=1).dropna()\n",
    "assets = ['TBills','S&P 500', 'Gold', 'Corporates', 'Treasuries']\n",
    "df = df[assets]\n",
    "\n",
    "# Rolling input estimation\n",
    "risky = assets[1:]\n",
    "df.columns = ['rf']+['r'+str(i) for i in range(n)]\n",
    "asset_list = [str(i) for i in range(n)]\n",
    "for asset in asset_list:\n",
    "    df['mn' + asset]=df['r'+asset].rolling(window).mean()\n",
    "    df['sd' + asset]=df['r'+asset].rolling(window).std()\n",
    "\n",
    "ret_list = ['r' + asset for asset in asset_list]\n",
    "corrs = df[ret_list].rolling(window, min_periods=window).corr()\n",
    "\n",
    "corr_list = []\n",
    "for j, asset in enumerate(asset_list):\n",
    "    for k in range(j+1,n):\n",
    "        df['c'+asset+str(k)]=corrs.loc[(slice(None),'r'+asset),'r'+str(k)].values\n",
    "df['year'] = df.index\n",
    "df = df.reset_index()\n",
    "\n",
    "\n",
    "# Prepare columns for the rolling optimization output\n",
    "model_list = ['ew', 'est_all', 'est_cov', 'est_sds']\n",
    "for model in model_list:\n",
    "    df['portret_'+model] = np.nan      #portret is the realized portfolio return of the 100% risky asset portfolio\n",
    "    if model not in ['ew']:\n",
    "        for asset in asset_list:\n",
    "            df['wgt' + asset + '_' +model] = np.nan\n",
    "    df['wgt_cal_'+model] =np.nan\n",
    "    df['raver_portret_'+model] =np.nan #raver_portret_ is the realized return of the CAL choice of the raver investor\n",
    "\n",
    "mn_list = ['mn'+asset for asset in asset_list]\n",
    "sd_list = ['sd'+asset for asset in asset_list] "
   ]
  },
  {
   "cell_type": "code",
   "execution_count": 101,
   "metadata": {},
   "outputs": [],
   "source": [
    "max_leverage = 2.0\n",
    "\n",
    "# Choose optimal portfolios each time period\n",
    "for i in np.arange(window,window+T):\n",
    "    # Full estimation inputs at each point in time\n",
    "    means = df[mn_list].iloc[i-1].values\n",
    "    sds   = df[sd_list].iloc[i-1].values\n",
    "    C  = np.identity(n)\n",
    "    for j, asset in enumerate(asset_list):\n",
    "        for k in range(j+1,n):\n",
    "            C[j, k] = C[k, j] =    df.loc[i-1,'c'+asset+str(k)]  \n",
    "    cov = np.diag(sds) @ C @ np.diag(sds)\n",
    "\n",
    "    r = df.loc[i,'rf']\n",
    "    ##### Note: all portfolio weights considered to be beginning of period weights\n",
    "    ##### (so multiply by contemporaneous realized returns)\n",
    "    # Full estimation tangency portfolio\n",
    "    model = 'est_all'\n",
    "    wgts = tangency(means,cov,r,short_lb)\n",
    "    for j, asset in enumerate(asset_list):\n",
    "        df.loc[i,'wgt'+asset+'_' + model] = wgts[j]\n",
    "    df.loc[i,'portret_'+model] = df.loc[i,ret_list].values @ wgts\n",
    "    df.loc[i,'wgt_cal_'+model] = (wgts @ means - r) / (raver * (wgts @ cov @ wgts))\n",
    "    df.loc[i,'wgt_cal_'+model] = max(0,df.loc[i,'wgt_cal_'+model])\n",
    "    df.loc[i,'wgt_cal_'+model] = min(max_leverage,df.loc[i,'wgt_cal_'+model]) \n",
    "    df.loc[i,'raver_portret_'+model] = r + df.loc[i,'wgt_cal_'+model]  * (df.loc[i,'portret_'+model] -r)\n",
    "    df.loc[i,'expret_'+model] = means @ wgts\n",
    "    df.loc[i,'sd'+model] = np.sqrt(wgts @ cov @ wgts)\n",
    "\n",
    "    # Estimate only covariance matrix\n",
    "    model = 'est_cov'\n",
    "    wgts = gmv(cov,short_lb)\n",
    "    for j, asset in enumerate(asset_list):\n",
    "        df.loc[i,'wgt'+asset+'_' + model] = wgts[j]\n",
    "    df.loc[i,'portret_'+model] = df.loc[i,ret_list].values @ wgts\n",
    "    df.loc[i,'wgt_cal_'+model] = (means.mean() - r) / (raver * (wgts @ cov @ wgts))\n",
    "    df.loc[i,'wgt_cal_'+model] = max(0,df.loc[i,'wgt_cal_'+model])\n",
    "    df.loc[i,'wgt_cal_'+model] = min(max_leverage,df.loc[i,'wgt_cal_'+model]) \n",
    "    df.loc[i,'raver_portret_'+model] = r + df.loc[i,'wgt_cal_'+model]  * (df.loc[i,'portret_'+model] -r)\n",
    "    df.loc[i,'expret_'+model] = means.mean()\n",
    "    df.loc[i,'sd'+model] = np.sqrt(wgts @ cov @ wgts)\n",
    "\n",
    "    # Estimate only standard deviations in covariance matrix\n",
    "    model = 'est_sds'\n",
    "    for j, asset in enumerate(asset_list):\n",
    "        for k in range(j+1,n):\n",
    "            cov[j, k] = cov[k, j] = 0.0\n",
    "    wgts = gmv(cov,short_lb)\n",
    "    for j, asset in enumerate(asset_list):\n",
    "        df.loc[i,'wgt'+asset+'_' + model] = wgts[j]\n",
    "    df.loc[i,'portret_'+model] = df.loc[i,ret_list].values @ wgts\n",
    "    df.loc[i,'wgt_cal_'+model] = (means.mean() - r) / (raver * (wgts @ cov @ wgts))\t\t\n",
    "    df.loc[i,'wgt_cal_'+model] = max(0,df.loc[i,'wgt_cal_'+model])\n",
    "    df.loc[i,'wgt_cal_'+model] = min(max_leverage,df.loc[i,'wgt_cal_'+model]) \n",
    "    df.loc[i,'raver_portret_'+model] = r + df.loc[i,'wgt_cal_'+model]  * (df.loc[i,'portret_'+model] -r)    \n",
    "    df.loc[i,'expret_'+model] = means.mean()\n",
    "    df.loc[i,'sd'+model] = np.sqrt(wgts @ cov @ wgts)\n",
    "\n",
    "    # Equal-weighted portfolio\n",
    "    model = 'ew'\n",
    "    for j, asset in enumerate(asset_list):\n",
    "        cov[j,j] = (sds.mean())**2\n",
    "    wgts = (1/n)*np.ones(n)\n",
    "    df.loc[i,'portret_'+model] = df.loc[i,ret_list].values @ wgts\n",
    "    df.loc[i,'wgt_cal_'+model] = (means.mean() - r) / (raver * (wgts @ cov @ wgts))\n",
    "    df.loc[i,'wgt_cal_'+model] = max(0,df.loc[i,'wgt_cal_'+model])\n",
    "    df.loc[i,'wgt_cal_'+model] = min(max_leverage,df.loc[i,'wgt_cal_'+model]) \n",
    "    df.loc[i,'raver_portret_'+model] = r + df.loc[i,'wgt_cal_'+model]  * (df.loc[i,'portret_'+model] -r)   \n",
    "    df.loc[i,'expret_'+model] = means.mean()\n",
    "    df.loc[i,'sd'+model] = np.sqrt(wgts @ cov @ wgts)    "
   ]
  },
  {
   "cell_type": "code",
   "execution_count": 41,
   "metadata": {},
   "outputs": [
    {
     "data": {
      "text/html": [
       "<div>\n",
       "<style scoped>\n",
       "    .dataframe tbody tr th:only-of-type {\n",
       "        vertical-align: middle;\n",
       "    }\n",
       "\n",
       "    .dataframe tbody tr th {\n",
       "        vertical-align: top;\n",
       "    }\n",
       "\n",
       "    .dataframe thead th {\n",
       "        text-align: right;\n",
       "    }\n",
       "</style>\n",
       "<table border=\"1\" class=\"dataframe\">\n",
       "  <thead>\n",
       "    <tr style=\"text-align: right;\">\n",
       "      <th></th>\n",
       "      <th>raver_portret_est_all</th>\n",
       "      <th>raver_portret_est_cov</th>\n",
       "      <th>raver_portret_est_sds</th>\n",
       "      <th>raver_portret_ew</th>\n",
       "    </tr>\n",
       "  </thead>\n",
       "  <tbody>\n",
       "    <tr>\n",
       "      <th>count</th>\n",
       "      <td>34.000000</td>\n",
       "      <td>34.000000</td>\n",
       "      <td>34.000000</td>\n",
       "      <td>34.000000</td>\n",
       "    </tr>\n",
       "    <tr>\n",
       "      <th>mean</th>\n",
       "      <td>0.137336</td>\n",
       "      <td>0.141484</td>\n",
       "      <td>0.142960</td>\n",
       "      <td>0.132050</td>\n",
       "    </tr>\n",
       "    <tr>\n",
       "      <th>std</th>\n",
       "      <td>0.162242</td>\n",
       "      <td>0.133273</td>\n",
       "      <td>0.126154</td>\n",
       "      <td>0.126848</td>\n",
       "    </tr>\n",
       "    <tr>\n",
       "      <th>min</th>\n",
       "      <td>-0.249975</td>\n",
       "      <td>-0.143157</td>\n",
       "      <td>-0.111202</td>\n",
       "      <td>-0.104199</td>\n",
       "    </tr>\n",
       "    <tr>\n",
       "      <th>25%</th>\n",
       "      <td>0.049994</td>\n",
       "      <td>0.058107</td>\n",
       "      <td>0.036562</td>\n",
       "      <td>0.035269</td>\n",
       "    </tr>\n",
       "    <tr>\n",
       "      <th>50%</th>\n",
       "      <td>0.158966</td>\n",
       "      <td>0.156445</td>\n",
       "      <td>0.162290</td>\n",
       "      <td>0.137533</td>\n",
       "    </tr>\n",
       "    <tr>\n",
       "      <th>75%</th>\n",
       "      <td>0.264941</td>\n",
       "      <td>0.223857</td>\n",
       "      <td>0.243130</td>\n",
       "      <td>0.210632</td>\n",
       "    </tr>\n",
       "    <tr>\n",
       "      <th>max</th>\n",
       "      <td>0.435923</td>\n",
       "      <td>0.424768</td>\n",
       "      <td>0.426391</td>\n",
       "      <td>0.359540</td>\n",
       "    </tr>\n",
       "  </tbody>\n",
       "</table>\n",
       "</div>"
      ],
      "text/plain": [
       "       raver_portret_est_all  raver_portret_est_cov  raver_portret_est_sds  \\\n",
       "count              34.000000              34.000000              34.000000   \n",
       "mean                0.137336               0.141484               0.142960   \n",
       "std                 0.162242               0.133273               0.126154   \n",
       "min                -0.249975              -0.143157              -0.111202   \n",
       "25%                 0.049994               0.058107               0.036562   \n",
       "50%                 0.158966               0.156445               0.162290   \n",
       "75%                 0.264941               0.223857               0.243130   \n",
       "max                 0.435923               0.424768               0.426391   \n",
       "\n",
       "       raver_portret_ew  \n",
       "count         34.000000  \n",
       "mean           0.132050  \n",
       "std            0.126848  \n",
       "min           -0.104199  \n",
       "25%            0.035269  \n",
       "50%            0.137533  \n",
       "75%            0.210632  \n",
       "max            0.359540  "
      ]
     },
     "execution_count": 41,
     "metadata": {},
     "output_type": "execute_result"
    }
   ],
   "source": [
    "portret_list = ['raver_portret_' +  model for model in ['est_all', 'est_cov', 'est_sds','ew']]\n",
    "stats = df[portret_list].describe()\n",
    "stats"
   ]
  },
  {
   "cell_type": "code",
   "execution_count": 48,
   "metadata": {},
   "outputs": [],
   "source": [
    "sr_df = pd.DataFrame(dtype=float, columns = ['sr','avg_ret','sd_ret'], index = ['est_all', 'est_cov', 'est_sds','ew'])\n",
    "r = df[np.isnan(df['raver_portret_ew'])==False].rf.mean()\n",
    "for model in ['est_all', 'est_cov', 'est_sds','ew']:\n",
    "    sr_df.loc[model,'sr'] = (stats.loc['mean','raver_portret_' +  model] - r)/stats.loc['std','raver_portret_' +  model]\n",
    "    sr_df.loc[model,'avg_ret'] = stats.loc['mean','raver_portret_' +  model]\n",
    "    sr_df.loc[model,'sd_ret'] = stats.loc['std','raver_portret_' +  model]\n",
    "\n",
    "label_dict = {'true': 'theoretical optimal weights', \n",
    "            'ew': 'equal weights',\n",
    "            'est_all': 'estimate all inputs',\n",
    "            'est_cov': 'estimate covariance matrix only',\n",
    "            'est_sds': 'estimate standard deviations only'}\n",
    "\n",
    "xaxis_label_dict = {'true': 'theoretical optimal weights', \n",
    "            'ew': 'Est-None',\n",
    "            'est_all': 'Est-All',\n",
    "            'est_cov': 'Est-SD-Corr',\n",
    "            'est_sds': 'Est-SD'}\n",
    "sr_df = sr_df.reset_index()\n",
    "sr_df['label'] = sr_df['index'].apply(lambda x: label_dict[x])\n",
    "sr_df['xaxis_label'] = sr_df['index'].apply(lambda x: xaxis_label_dict[x])"
   ]
  },
  {
   "cell_type": "code",
   "execution_count": 43,
   "metadata": {},
   "outputs": [
    {
     "data": {
      "text/html": [
       "<div>\n",
       "<style scoped>\n",
       "    .dataframe tbody tr th:only-of-type {\n",
       "        vertical-align: middle;\n",
       "    }\n",
       "\n",
       "    .dataframe tbody tr th {\n",
       "        vertical-align: top;\n",
       "    }\n",
       "\n",
       "    .dataframe thead th {\n",
       "        text-align: right;\n",
       "    }\n",
       "</style>\n",
       "<table border=\"1\" class=\"dataframe\">\n",
       "  <thead>\n",
       "    <tr style=\"text-align: right;\">\n",
       "      <th></th>\n",
       "      <th>index</th>\n",
       "      <th>sr</th>\n",
       "      <th>avg_ret</th>\n",
       "      <th>sd_ret</th>\n",
       "      <th>label</th>\n",
       "      <th>xaxis_label</th>\n",
       "    </tr>\n",
       "  </thead>\n",
       "  <tbody>\n",
       "    <tr>\n",
       "      <th>0</th>\n",
       "      <td>est_all</td>\n",
       "      <td>0.673303</td>\n",
       "      <td>0.137336</td>\n",
       "      <td>0.162242</td>\n",
       "      <td>estimate all inputs</td>\n",
       "      <td>Est-All</td>\n",
       "    </tr>\n",
       "    <tr>\n",
       "      <th>1</th>\n",
       "      <td>est_cov</td>\n",
       "      <td>0.850779</td>\n",
       "      <td>0.141484</td>\n",
       "      <td>0.133273</td>\n",
       "      <td>estimate covariance matrix only</td>\n",
       "      <td>Est-SD-Corr</td>\n",
       "    </tr>\n",
       "    <tr>\n",
       "      <th>2</th>\n",
       "      <td>est_sds</td>\n",
       "      <td>0.910491</td>\n",
       "      <td>0.142960</td>\n",
       "      <td>0.126154</td>\n",
       "      <td>estimate standard deviations only</td>\n",
       "      <td>Est-SD</td>\n",
       "    </tr>\n",
       "    <tr>\n",
       "      <th>3</th>\n",
       "      <td>ew</td>\n",
       "      <td>0.819499</td>\n",
       "      <td>0.132050</td>\n",
       "      <td>0.126848</td>\n",
       "      <td>equal weights</td>\n",
       "      <td>Est-None</td>\n",
       "    </tr>\n",
       "  </tbody>\n",
       "</table>\n",
       "</div>"
      ],
      "text/plain": [
       "     index        sr   avg_ret    sd_ret                              label  \\\n",
       "0  est_all  0.673303  0.137336  0.162242                estimate all inputs   \n",
       "1  est_cov  0.850779  0.141484  0.133273    estimate covariance matrix only   \n",
       "2  est_sds  0.910491  0.142960  0.126154  estimate standard deviations only   \n",
       "3       ew  0.819499  0.132050  0.126848                      equal weights   \n",
       "\n",
       "   xaxis_label  \n",
       "0      Est-All  \n",
       "1  Est-SD-Corr  \n",
       "2       Est-SD  \n",
       "3     Est-None  "
      ]
     },
     "execution_count": 43,
     "metadata": {},
     "output_type": "execute_result"
    }
   ],
   "source": [
    "df[np.isnan(df['raver_portret_ew'])==False].rf\n",
    "sr_df"
   ]
  },
  {
   "cell_type": "code",
   "execution_count": 44,
   "metadata": {},
   "outputs": [
    {
     "data": {
      "application/vnd.plotly.v1+json": {
       "config": {
        "plotlyServerURL": "https://plot.ly"
       },
       "data": [
        {
         "customdata": [
          [
           "estimate all inputs",
           0.13733618198132866,
           0.16224248041221725
          ],
          [
           "estimate covariance matrix only",
           0.1414840553294515,
           0.13327339890951498
          ],
          [
           "estimate standard deviations only",
           0.14295982068971744,
           0.12615387533891026
          ],
          [
           "equal weights",
           0.1320499969324843,
           0.12684841012067807
          ]
         ],
         "hovertemplate": "Strategy: %{customdata[0]} <br>Sharpe ratio: %{y:0.3f}<br>Average return: %{customdata[1]:0.1%}<br>SD(return): %{customdata[2]:0.1%}<br><extra></extra>",
         "type": "bar",
         "x": [
          "Est-All",
          "Est-SD-Corr",
          "Est-SD",
          "Est-None"
         ],
         "y": [
          0.6733032408413284,
          0.8507793913831765,
          0.9104914634092334,
          0.8194994538436992
         ]
        }
       ],
       "layout": {
        "template": {
         "data": {
          "bar": [
           {
            "error_x": {
             "color": "#2a3f5f"
            },
            "error_y": {
             "color": "#2a3f5f"
            },
            "marker": {
             "line": {
              "color": "#E5ECF6",
              "width": 0.5
             },
             "pattern": {
              "fillmode": "overlay",
              "size": 10,
              "solidity": 0.2
             }
            },
            "type": "bar"
           }
          ],
          "barpolar": [
           {
            "marker": {
             "line": {
              "color": "#E5ECF6",
              "width": 0.5
             },
             "pattern": {
              "fillmode": "overlay",
              "size": 10,
              "solidity": 0.2
             }
            },
            "type": "barpolar"
           }
          ],
          "carpet": [
           {
            "aaxis": {
             "endlinecolor": "#2a3f5f",
             "gridcolor": "white",
             "linecolor": "white",
             "minorgridcolor": "white",
             "startlinecolor": "#2a3f5f"
            },
            "baxis": {
             "endlinecolor": "#2a3f5f",
             "gridcolor": "white",
             "linecolor": "white",
             "minorgridcolor": "white",
             "startlinecolor": "#2a3f5f"
            },
            "type": "carpet"
           }
          ],
          "choropleth": [
           {
            "colorbar": {
             "outlinewidth": 0,
             "ticks": ""
            },
            "type": "choropleth"
           }
          ],
          "contour": [
           {
            "colorbar": {
             "outlinewidth": 0,
             "ticks": ""
            },
            "colorscale": [
             [
              0,
              "#0d0887"
             ],
             [
              0.1111111111111111,
              "#46039f"
             ],
             [
              0.2222222222222222,
              "#7201a8"
             ],
             [
              0.3333333333333333,
              "#9c179e"
             ],
             [
              0.4444444444444444,
              "#bd3786"
             ],
             [
              0.5555555555555556,
              "#d8576b"
             ],
             [
              0.6666666666666666,
              "#ed7953"
             ],
             [
              0.7777777777777778,
              "#fb9f3a"
             ],
             [
              0.8888888888888888,
              "#fdca26"
             ],
             [
              1,
              "#f0f921"
             ]
            ],
            "type": "contour"
           }
          ],
          "contourcarpet": [
           {
            "colorbar": {
             "outlinewidth": 0,
             "ticks": ""
            },
            "type": "contourcarpet"
           }
          ],
          "heatmap": [
           {
            "colorbar": {
             "outlinewidth": 0,
             "ticks": ""
            },
            "colorscale": [
             [
              0,
              "#0d0887"
             ],
             [
              0.1111111111111111,
              "#46039f"
             ],
             [
              0.2222222222222222,
              "#7201a8"
             ],
             [
              0.3333333333333333,
              "#9c179e"
             ],
             [
              0.4444444444444444,
              "#bd3786"
             ],
             [
              0.5555555555555556,
              "#d8576b"
             ],
             [
              0.6666666666666666,
              "#ed7953"
             ],
             [
              0.7777777777777778,
              "#fb9f3a"
             ],
             [
              0.8888888888888888,
              "#fdca26"
             ],
             [
              1,
              "#f0f921"
             ]
            ],
            "type": "heatmap"
           }
          ],
          "heatmapgl": [
           {
            "colorbar": {
             "outlinewidth": 0,
             "ticks": ""
            },
            "colorscale": [
             [
              0,
              "#0d0887"
             ],
             [
              0.1111111111111111,
              "#46039f"
             ],
             [
              0.2222222222222222,
              "#7201a8"
             ],
             [
              0.3333333333333333,
              "#9c179e"
             ],
             [
              0.4444444444444444,
              "#bd3786"
             ],
             [
              0.5555555555555556,
              "#d8576b"
             ],
             [
              0.6666666666666666,
              "#ed7953"
             ],
             [
              0.7777777777777778,
              "#fb9f3a"
             ],
             [
              0.8888888888888888,
              "#fdca26"
             ],
             [
              1,
              "#f0f921"
             ]
            ],
            "type": "heatmapgl"
           }
          ],
          "histogram": [
           {
            "marker": {
             "pattern": {
              "fillmode": "overlay",
              "size": 10,
              "solidity": 0.2
             }
            },
            "type": "histogram"
           }
          ],
          "histogram2d": [
           {
            "colorbar": {
             "outlinewidth": 0,
             "ticks": ""
            },
            "colorscale": [
             [
              0,
              "#0d0887"
             ],
             [
              0.1111111111111111,
              "#46039f"
             ],
             [
              0.2222222222222222,
              "#7201a8"
             ],
             [
              0.3333333333333333,
              "#9c179e"
             ],
             [
              0.4444444444444444,
              "#bd3786"
             ],
             [
              0.5555555555555556,
              "#d8576b"
             ],
             [
              0.6666666666666666,
              "#ed7953"
             ],
             [
              0.7777777777777778,
              "#fb9f3a"
             ],
             [
              0.8888888888888888,
              "#fdca26"
             ],
             [
              1,
              "#f0f921"
             ]
            ],
            "type": "histogram2d"
           }
          ],
          "histogram2dcontour": [
           {
            "colorbar": {
             "outlinewidth": 0,
             "ticks": ""
            },
            "colorscale": [
             [
              0,
              "#0d0887"
             ],
             [
              0.1111111111111111,
              "#46039f"
             ],
             [
              0.2222222222222222,
              "#7201a8"
             ],
             [
              0.3333333333333333,
              "#9c179e"
             ],
             [
              0.4444444444444444,
              "#bd3786"
             ],
             [
              0.5555555555555556,
              "#d8576b"
             ],
             [
              0.6666666666666666,
              "#ed7953"
             ],
             [
              0.7777777777777778,
              "#fb9f3a"
             ],
             [
              0.8888888888888888,
              "#fdca26"
             ],
             [
              1,
              "#f0f921"
             ]
            ],
            "type": "histogram2dcontour"
           }
          ],
          "mesh3d": [
           {
            "colorbar": {
             "outlinewidth": 0,
             "ticks": ""
            },
            "type": "mesh3d"
           }
          ],
          "parcoords": [
           {
            "line": {
             "colorbar": {
              "outlinewidth": 0,
              "ticks": ""
             }
            },
            "type": "parcoords"
           }
          ],
          "pie": [
           {
            "automargin": true,
            "type": "pie"
           }
          ],
          "scatter": [
           {
            "fillpattern": {
             "fillmode": "overlay",
             "size": 10,
             "solidity": 0.2
            },
            "type": "scatter"
           }
          ],
          "scatter3d": [
           {
            "line": {
             "colorbar": {
              "outlinewidth": 0,
              "ticks": ""
             }
            },
            "marker": {
             "colorbar": {
              "outlinewidth": 0,
              "ticks": ""
             }
            },
            "type": "scatter3d"
           }
          ],
          "scattercarpet": [
           {
            "marker": {
             "colorbar": {
              "outlinewidth": 0,
              "ticks": ""
             }
            },
            "type": "scattercarpet"
           }
          ],
          "scattergeo": [
           {
            "marker": {
             "colorbar": {
              "outlinewidth": 0,
              "ticks": ""
             }
            },
            "type": "scattergeo"
           }
          ],
          "scattergl": [
           {
            "marker": {
             "colorbar": {
              "outlinewidth": 0,
              "ticks": ""
             }
            },
            "type": "scattergl"
           }
          ],
          "scattermapbox": [
           {
            "marker": {
             "colorbar": {
              "outlinewidth": 0,
              "ticks": ""
             }
            },
            "type": "scattermapbox"
           }
          ],
          "scatterpolar": [
           {
            "marker": {
             "colorbar": {
              "outlinewidth": 0,
              "ticks": ""
             }
            },
            "type": "scatterpolar"
           }
          ],
          "scatterpolargl": [
           {
            "marker": {
             "colorbar": {
              "outlinewidth": 0,
              "ticks": ""
             }
            },
            "type": "scatterpolargl"
           }
          ],
          "scatterternary": [
           {
            "marker": {
             "colorbar": {
              "outlinewidth": 0,
              "ticks": ""
             }
            },
            "type": "scatterternary"
           }
          ],
          "surface": [
           {
            "colorbar": {
             "outlinewidth": 0,
             "ticks": ""
            },
            "colorscale": [
             [
              0,
              "#0d0887"
             ],
             [
              0.1111111111111111,
              "#46039f"
             ],
             [
              0.2222222222222222,
              "#7201a8"
             ],
             [
              0.3333333333333333,
              "#9c179e"
             ],
             [
              0.4444444444444444,
              "#bd3786"
             ],
             [
              0.5555555555555556,
              "#d8576b"
             ],
             [
              0.6666666666666666,
              "#ed7953"
             ],
             [
              0.7777777777777778,
              "#fb9f3a"
             ],
             [
              0.8888888888888888,
              "#fdca26"
             ],
             [
              1,
              "#f0f921"
             ]
            ],
            "type": "surface"
           }
          ],
          "table": [
           {
            "cells": {
             "fill": {
              "color": "#EBF0F8"
             },
             "line": {
              "color": "white"
             }
            },
            "header": {
             "fill": {
              "color": "#C8D4E3"
             },
             "line": {
              "color": "white"
             }
            },
            "type": "table"
           }
          ]
         },
         "layout": {
          "annotationdefaults": {
           "arrowcolor": "#2a3f5f",
           "arrowhead": 0,
           "arrowwidth": 1
          },
          "autotypenumbers": "strict",
          "coloraxis": {
           "colorbar": {
            "outlinewidth": 0,
            "ticks": ""
           }
          },
          "colorscale": {
           "diverging": [
            [
             0,
             "#8e0152"
            ],
            [
             0.1,
             "#c51b7d"
            ],
            [
             0.2,
             "#de77ae"
            ],
            [
             0.3,
             "#f1b6da"
            ],
            [
             0.4,
             "#fde0ef"
            ],
            [
             0.5,
             "#f7f7f7"
            ],
            [
             0.6,
             "#e6f5d0"
            ],
            [
             0.7,
             "#b8e186"
            ],
            [
             0.8,
             "#7fbc41"
            ],
            [
             0.9,
             "#4d9221"
            ],
            [
             1,
             "#276419"
            ]
           ],
           "sequential": [
            [
             0,
             "#0d0887"
            ],
            [
             0.1111111111111111,
             "#46039f"
            ],
            [
             0.2222222222222222,
             "#7201a8"
            ],
            [
             0.3333333333333333,
             "#9c179e"
            ],
            [
             0.4444444444444444,
             "#bd3786"
            ],
            [
             0.5555555555555556,
             "#d8576b"
            ],
            [
             0.6666666666666666,
             "#ed7953"
            ],
            [
             0.7777777777777778,
             "#fb9f3a"
            ],
            [
             0.8888888888888888,
             "#fdca26"
            ],
            [
             1,
             "#f0f921"
            ]
           ],
           "sequentialminus": [
            [
             0,
             "#0d0887"
            ],
            [
             0.1111111111111111,
             "#46039f"
            ],
            [
             0.2222222222222222,
             "#7201a8"
            ],
            [
             0.3333333333333333,
             "#9c179e"
            ],
            [
             0.4444444444444444,
             "#bd3786"
            ],
            [
             0.5555555555555556,
             "#d8576b"
            ],
            [
             0.6666666666666666,
             "#ed7953"
            ],
            [
             0.7777777777777778,
             "#fb9f3a"
            ],
            [
             0.8888888888888888,
             "#fdca26"
            ],
            [
             1,
             "#f0f921"
            ]
           ]
          },
          "colorway": [
           "#636efa",
           "#EF553B",
           "#00cc96",
           "#ab63fa",
           "#FFA15A",
           "#19d3f3",
           "#FF6692",
           "#B6E880",
           "#FF97FF",
           "#FECB52"
          ],
          "font": {
           "color": "#2a3f5f"
          },
          "geo": {
           "bgcolor": "white",
           "lakecolor": "white",
           "landcolor": "#E5ECF6",
           "showlakes": true,
           "showland": true,
           "subunitcolor": "white"
          },
          "hoverlabel": {
           "align": "left"
          },
          "hovermode": "closest",
          "mapbox": {
           "style": "light"
          },
          "paper_bgcolor": "white",
          "plot_bgcolor": "#E5ECF6",
          "polar": {
           "angularaxis": {
            "gridcolor": "white",
            "linecolor": "white",
            "ticks": ""
           },
           "bgcolor": "#E5ECF6",
           "radialaxis": {
            "gridcolor": "white",
            "linecolor": "white",
            "ticks": ""
           }
          },
          "scene": {
           "xaxis": {
            "backgroundcolor": "#E5ECF6",
            "gridcolor": "white",
            "gridwidth": 2,
            "linecolor": "white",
            "showbackground": true,
            "ticks": "",
            "zerolinecolor": "white"
           },
           "yaxis": {
            "backgroundcolor": "#E5ECF6",
            "gridcolor": "white",
            "gridwidth": 2,
            "linecolor": "white",
            "showbackground": true,
            "ticks": "",
            "zerolinecolor": "white"
           },
           "zaxis": {
            "backgroundcolor": "#E5ECF6",
            "gridcolor": "white",
            "gridwidth": 2,
            "linecolor": "white",
            "showbackground": true,
            "ticks": "",
            "zerolinecolor": "white"
           }
          },
          "shapedefaults": {
           "line": {
            "color": "#2a3f5f"
           }
          },
          "ternary": {
           "aaxis": {
            "gridcolor": "white",
            "linecolor": "white",
            "ticks": ""
           },
           "baxis": {
            "gridcolor": "white",
            "linecolor": "white",
            "ticks": ""
           },
           "bgcolor": "#E5ECF6",
           "caxis": {
            "gridcolor": "white",
            "linecolor": "white",
            "ticks": ""
           }
          },
          "title": {
           "x": 0.05
          },
          "xaxis": {
           "automargin": true,
           "gridcolor": "white",
           "linecolor": "white",
           "ticks": "",
           "title": {
            "standoff": 15
           },
           "zerolinecolor": "white",
           "zerolinewidth": 2
          },
          "yaxis": {
           "automargin": true,
           "gridcolor": "white",
           "linecolor": "white",
           "ticks": "",
           "title": {
            "standoff": 15
           },
           "zerolinecolor": "white",
           "zerolinewidth": 2
          }
         }
        },
        "xaxis": {
         "title": {
          "text": "Strategy"
         }
        },
        "yaxis": {
         "title": {
          "text": "Sharpe ratio"
         }
        }
       }
      }
     },
     "metadata": {},
     "output_type": "display_data"
    }
   ],
   "source": [
    "import plotly.graph_objects as go\n",
    "\n",
    "string =\"Strategy: %{customdata[0]} <br>\"\n",
    "string += \"Sharpe ratio: %{y:0.3f}<br>\"\n",
    "string += \"Average return: %{customdata[1]:0.1%}<br>\"\n",
    "string += \"SD(return): %{customdata[2]:0.1%}<br>\"\n",
    "string += \"<extra></extra>\"\n",
    "\n",
    "fig = go.Figure()\n",
    "fig.add_trace(go.Bar(x=sr_df['xaxis_label'], y=sr_df['sr'], customdata=sr_df[['label','avg_ret','sd_ret']], hovertemplate=string))\n",
    "fig.layout.yaxis[\"title\"] = \"Sharpe ratio\"\n",
    "fig.layout.xaxis[\"title\"] = \"Strategy\"\n",
    "fig.show()"
   ]
  },
  {
   "cell_type": "code",
   "execution_count": 45,
   "metadata": {},
   "outputs": [
    {
     "data": {
      "application/vnd.plotly.v1+json": {
       "config": {
        "plotlyServerURL": "https://plot.ly"
       },
       "data": [
        {
         "customdata": [
          [
           null,
           null,
           null,
           null,
           null
          ],
          [
           null,
           null,
           null,
           null,
           null
          ],
          [
           null,
           null,
           null,
           null,
           null
          ],
          [
           null,
           null,
           null,
           null,
           null
          ],
          [
           null,
           null,
           null,
           null,
           null
          ],
          [
           null,
           null,
           null,
           null,
           null
          ],
          [
           null,
           null,
           null,
           null,
           null
          ],
          [
           null,
           null,
           null,
           null,
           null
          ],
          [
           null,
           null,
           null,
           null,
           null
          ],
          [
           null,
           null,
           null,
           null,
           null
          ],
          [
           null,
           null,
           null,
           null,
           null
          ],
          [
           null,
           null,
           null,
           null,
           null
          ],
          [
           null,
           null,
           null,
           null,
           null
          ],
          [
           null,
           null,
           null,
           null,
           null
          ],
          [
           null,
           null,
           null,
           null,
           null
          ],
          [
           null,
           null,
           null,
           null,
           null
          ],
          [
           null,
           null,
           null,
           null,
           null
          ],
          [
           null,
           null,
           null,
           null,
           null
          ],
          [
           null,
           null,
           null,
           null,
           null
          ],
          [
           null,
           null,
           null,
           null,
           null
          ],
          [
           1.409971941806668,
           0.04650334305034444,
           0.2307975327400336,
           1.7355684235521682,
           -1.012869299342546
          ],
          [
           1.012864952760892,
           0.008183394382512019,
           0.2548449328451191,
           2.250633353046352,
           -1.5136616802739828
          ],
          [
           2,
           0.12541391115989847,
           0.19428905846801303,
           1.3299927037158745,
           -0.6496956733437861
          ],
          [
           2,
           0.05775711312469818,
           0.18738684903288344,
           1.6813425017996664,
           -0.9264864639572479
          ],
          [
           2,
           0.06395959255354336,
           0.17479824002742306,
           1.5244658116310599,
           -0.7632236442120262
          ],
          [
           2,
           0.05504559777901348,
           0.17890131899909534,
           1.6156280126733849,
           -0.8495749294514934
          ],
          [
           2,
           0.06896085062994511,
           0.177553312517575,
           1.6625835382367005,
           -0.9090977013842205
          ],
          [
           2,
           0.24033315685455583,
           0.1294506259968343,
           2.0212501068032784,
           -1.3910338896546688
          ],
          [
           2,
           0.2697414769435068,
           0.12130156880446691,
           1.9425414159975878,
           -1.3335844617455614
          ],
          [
           2,
           0.3164084127472946,
           0.1129639842841793,
           1.9680198546185332,
           -1.397392251650007
          ],
          [
           2,
           0.34871082487750465,
           0.10440730445145001,
           1.8866271431126245,
           -1.3397452724415793
          ],
          [
           2,
           0.44808334794311216,
           0.07025444761632844,
           1.4919610766971367,
           -1.0102988722565773
          ],
          [
           2,
           0.6353251170214758,
           -0.2672698284030502,
           1.944809321302809,
           -1.3128646099212344
          ],
          [
           2,
           0.19590768185898952,
           -0.2458339547643879,
           1.906024402492802,
           -0.8560981295874037
          ],
          [
           2,
           0.10753946555887561,
           -0.04960090238477281,
           1.7550520072546814,
           -0.8129905704287841
          ],
          [
           2,
           0.008202387290251448,
           0.043696784758909854,
           1.5781575604386642,
           -0.6300567324878256
          ],
          [
           2,
           -0.03065683145049642,
           -0.04884645003644659,
           1.8362383785996075,
           -0.7567350971126645
          ],
          [
           2,
           -0.06192021717602614,
           -0.126900972407499,
           2.1049030591634175,
           -0.9160818695798921
          ],
          [
           2,
           -0.051888568434334176,
           -0.1195704679072917,
           2.1267593246946395,
           -0.9553002883530136
          ],
          [
           2,
           -0.01775938575985917,
           -0.031724620010434315,
           1.878283855456173,
           -0.8287998496858794
          ],
          [
           2,
           0.039359337515944406,
           0.11567017775308923,
           1.1028984107135007,
           -0.2579279259825344
          ],
          [
           2,
           0.013873087312591775,
           0.13851181132981033,
           0.6292989949706739,
           0.21831610638692392
          ],
          [
           2,
           0.03750917371508769,
           0.13116005227243732,
           0.5304745509662959,
           0.3008562230461791
          ],
          [
           2,
           0.05928027247755237,
           0.15164079351432727,
           0.47777220248574176,
           0.3113067315223786
          ],
          [
           2,
           0.06302050629416199,
           0.142088333819298,
           0.48411468046299555,
           0.3107764794235445
          ],
          [
           2,
           0.07304475001040332,
           0.15588082629701766,
           0.4626569173214121,
           0.30841750637116694
          ],
          [
           2,
           0.1339848779599415,
           0.08445342116175378,
           0.48613314330764257,
           0.2954285575706622
          ],
          [
           2,
           0.13792476113093358,
           0.08506126304097056,
           0.4296270022645173,
           0.34738697356357867
          ],
          [
           2,
           0.16291055056188922,
           0.02498538902902118,
           0.39067075673149315,
           0.42143330367759646
          ],
          [
           2,
           0.14660459196289172,
           0.026299611979988202,
           0.4296828350933735,
           0.3974129609637466
          ],
          [
           2,
           0.15849220993892776,
           -0.002216703662187743,
           0.4432676489383588,
           0.40045684478490123
          ],
          [
           2,
           0.19585693172417415,
           -0.01065827699369875,
           0.3455466321245669,
           0.4692547131449577
          ],
          [
           2,
           0.14050057419159193,
           -0.03298848440890938,
           0.4112350997057354,
           0.481252810511582
          ],
          [
           2,
           0.1250898135836733,
           -0.05653443056396962,
           0.4518381004645267,
           0.4796065165157696
          ]
         ],
         "hovertemplate": "Strategy: estimate all inputs <br>Year: %{x:4.0f}<br>Return: %{y:0.1%}<br>Weight in Risky Portfolio: %{customdata[0]: 0.1%} <br>Risky Portfolio Weights:<br>  S&P 500: %{customdata[1]: 0.1%} <br>  Gold: %{customdata[2]: 0.1%} <br>  Corporates: %{customdata[3]: 0.1%} <br>  Treasuries: %{customdata[4]: 0.1%} <br><extra></extra>",
         "name": "Est-All",
         "type": "scatter",
         "x": [
          1968,
          1969,
          1970,
          1971,
          1972,
          1973,
          1974,
          1975,
          1976,
          1977,
          1978,
          1979,
          1980,
          1981,
          1982,
          1983,
          1984,
          1985,
          1986,
          1987,
          1988,
          1989,
          1990,
          1991,
          1992,
          1993,
          1994,
          1995,
          1996,
          1997,
          1998,
          1999,
          2000,
          2001,
          2002,
          2003,
          2004,
          2005,
          2006,
          2007,
          2008,
          2009,
          2010,
          2011,
          2012,
          2013,
          2014,
          2015,
          2016,
          2017,
          2018,
          2019,
          2020,
          2021
         ],
         "y": [
          null,
          null,
          null,
          null,
          null,
          null,
          null,
          null,
          null,
          null,
          null,
          null,
          null,
          null,
          null,
          null,
          null,
          null,
          null,
          null,
          0.18487676871854786,
          0.08447867246252194,
          -0.01000720867581284,
          0.2674629523341074,
          0.18321318289828648,
          0.3325467685521889,
          0.05420998158584006,
          0.28829157348043793,
          0.20963532807755436,
          0.2978029921796385,
          0.048588687276548435,
          0.33439000576119876,
          -0.2139135919983539,
          0.11540797571489678,
          0.09462769463769623,
          0.43592270622478196,
          0.27003065967309503,
          0.07356797420141133,
          0.14167103901549497,
          -0.1164165454182617,
          -0.24997463308441337,
          0.3273233990410243,
          0.2220084489506966,
          0.25737443790392023,
          0.15182389868602258,
          -0.10620580875175237,
          0.2000635841917404,
          -0.013226277257218312,
          0.12654753116591233,
          0.16610868975840787,
          -0.05736476983067387,
          0.2991184673436211,
          0.22850110719799263,
          0.040944495348076405
         ]
        },
        {
         "customdata": [
          [
           null,
           null,
           null,
           null,
           null
          ],
          [
           null,
           null,
           null,
           null,
           null
          ],
          [
           null,
           null,
           null,
           null,
           null
          ],
          [
           null,
           null,
           null,
           null,
           null
          ],
          [
           null,
           null,
           null,
           null,
           null
          ],
          [
           null,
           null,
           null,
           null,
           null
          ],
          [
           null,
           null,
           null,
           null,
           null
          ],
          [
           null,
           null,
           null,
           null,
           null
          ],
          [
           null,
           null,
           null,
           null,
           null
          ],
          [
           null,
           null,
           null,
           null,
           null
          ],
          [
           null,
           null,
           null,
           null,
           null
          ],
          [
           null,
           null,
           null,
           null,
           null
          ],
          [
           null,
           null,
           null,
           null,
           null
          ],
          [
           null,
           null,
           null,
           null,
           null
          ],
          [
           null,
           null,
           null,
           null,
           null
          ],
          [
           null,
           null,
           null,
           null,
           null
          ],
          [
           null,
           null,
           null,
           null,
           null
          ],
          [
           null,
           null,
           null,
           null,
           null
          ],
          [
           null,
           null,
           null,
           null,
           null
          ],
          [
           null,
           null,
           null,
           null,
           null
          ],
          [
           1.7030509317179474,
           0.05856624456178873,
           0.12708502805960378,
           0.8641389537355073,
           -0.049790226356899815
          ],
          [
           1.173960842443053,
           0.05356320808988653,
           0.1272039113435949,
           0.8684828013540781,
           -0.0492499207875595
          ],
          [
           2,
           0.07280789410325554,
           0.1380033794792532,
           0.8416290371403783,
           -0.052440310722887094
          ],
          [
           2,
           0.04998140363748379,
           0.1418932848391265,
           1.0369178724401715,
           -0.22879256091678185
          ],
          [
           2,
           0.041519248395579494,
           0.14451975534658895,
           1.0618362708610372,
           -0.24787527460320563
          ],
          [
           2,
           0.04212121096568996,
           0.15446778062402347,
           1.187787557838236,
           -0.3843765494279495
          ],
          [
           2,
           0.040180463024920315,
           0.15887911156400114,
           1.1918051492774653,
           -0.39086472386638665
          ],
          [
           2,
           0.12491953892927744,
           0.13657731089994873,
           1.4207709808403262,
           -0.6822678306695524
          ],
          [
           2,
           0.11515043516861384,
           0.1400620585509175,
           1.490552002167707,
           -0.7457644958872384
          ],
          [
           2,
           0.15355991329305838,
           0.13069127583395207,
           1.5139432384674942,
           -0.7981944275945045
          ],
          [
           2,
           0.1409107142400258,
           0.1334942251834398,
           1.5742852717536977,
           -0.8486902111771634
          ],
          [
           2,
           0.18324062471777539,
           0.11972713759243726,
           1.3422942967874785,
           -0.6452620590976911
          ],
          [
           1.8213365202655327,
           0.17256424307998464,
           0.21739687908456554,
           1.2601726407341056,
           -0.6501337628986558
          ],
          [
           2,
           0.02940000524915434,
           0.19161233781333256,
           1.2916200044583288,
           -0.5126323475208157
          ],
          [
           2,
           0.06447499130093443,
           0.272192678151008,
           1.184317688039361,
           -0.5209853574913036
          ],
          [
           2,
           0.04826564503868958,
           0.2440020845903347,
           1.1253566844118965,
           -0.4176244140409208
          ],
          [
           2,
           0.011062216153726927,
           0.17005146496634221,
           1.1540426021174912,
           -0.33515628323756036
          ],
          [
           2,
           0.01323693914634965,
           0.17272771232769388,
           1.143291386748665,
           -0.3292560382227084
          ],
          [
           2,
           0.030034601566260005,
           0.17359605365654793,
           1.0405082419937002,
           -0.2441388972165081
          ],
          [
           2,
           0.02794433682748228,
           0.18704731009495018,
           0.9009473935729735,
           -0.1159390404954059
          ],
          [
           2,
           0.030841741336634587,
           0.18719471839887114,
           0.8624104687591327,
           -0.0804469284946385
          ],
          [
           2,
           0.01197673508399618,
           0.2027627121585457,
           0.5739628463238391,
           0.21129770643361903
          ],
          [
           2,
           0.060130869101387326,
           0.1874911348414741,
           0.37799570385965137,
           0.3743822921974873
          ],
          [
           2,
           0.0582206397361907,
           0.1732853449240795,
           0.40227853376401446,
           0.3662154815757153
          ],
          [
           2,
           0.07186169525465406,
           0.14899953480404818,
           0.4170966279545712,
           0.3620421419867265
          ],
          [
           2,
           0.07265882992977424,
           0.14911520315405705,
           0.4181012725497666,
           0.3601246943664021
          ],
          [
           2,
           0.10953010073596443,
           0.09046873411632818,
           0.4451079891316223,
           0.3548931760160851
          ],
          [
           2,
           0.11909690735309912,
           0.09656262302648279,
           0.40276265073907797,
           0.3815778188813401
          ],
          [
           2,
           0.15476654165022294,
           0.033201690836018295,
           0.35579190100421054,
           0.4562398665095482
          ],
          [
           2,
           0.14947534523365777,
           0.033994481765242675,
           0.3661454759149722,
           0.45038469708612733
          ],
          [
           2,
           0.1649988724726442,
           -0.027100325516474514,
           0.39166632942916724,
           0.4704351236146631
          ],
          [
           2,
           0.2348335863827562,
           -0.04815877413890421,
           0.2327305954357592,
           0.5805945923203888
          ],
          [
           2,
           0.16977047222684824,
           -0.06308723572871931,
           0.3328171876340637,
           0.5604995758678073
          ],
          [
           2,
           0.12900891753595878,
           -0.124696130905572,
           0.43672451621019026,
           0.5589626971594229
          ]
         ],
         "hovertemplate": "Strategy: estimate covariance matrix only <br>Year: %{x:4.0f}<br>Return: %{y:0.1%}<br>Weight in Risky Portfolio: %{customdata[0]: 0.1%} <br>Risky Portfolio Weights:<br>  S&P 500: %{customdata[1]: 0.1%} <br>  Gold: %{customdata[2]: 0.1%} <br>  Corporates: %{customdata[3]: 0.1%} <br>  Treasuries: %{customdata[4]: 0.1%} <br><extra></extra>",
         "name": "Est-SD-Corr",
         "type": "scatter",
         "x": [
          1968,
          1969,
          1970,
          1971,
          1972,
          1973,
          1974,
          1975,
          1976,
          1977,
          1978,
          1979,
          1980,
          1981,
          1982,
          1983,
          1984,
          1985,
          1986,
          1987,
          1988,
          1989,
          1990,
          1991,
          1992,
          1993,
          1994,
          1995,
          1996,
          1997,
          1998,
          1999,
          2000,
          2001,
          2002,
          2003,
          2004,
          2005,
          2006,
          2007,
          2008,
          2009,
          2010,
          2011,
          2012,
          2013,
          2014,
          2015,
          2016,
          2017,
          2018,
          2019,
          2020,
          2021
         ],
         "y": [
          null,
          null,
          null,
          null,
          null,
          null,
          null,
          null,
          null,
          null,
          null,
          null,
          null,
          null,
          null,
          null,
          null,
          null,
          null,
          null,
          0.1511233214587344,
          0.1531052388354315,
          0.010534783622871996,
          0.2507772289889337,
          0.16722791791265323,
          0.3131100994824164,
          -0.01665019162136601,
          0.2933712658231778,
          0.11131700304040594,
          0.1939078116389774,
          0.027374991205566933,
          0.16214796478724078,
          -0.08402030840246939,
          0.10941821944322297,
          0.217026514808442,
          0.42476823437465366,
          0.2037099106362448,
          0.12252705882716801,
          0.18225671101681282,
          0.11079020094404306,
          -0.14315734269836233,
          0.33758600626886404,
          0.24695407671462272,
          0.26098037459313006,
          0.1448955131878515,
          -0.11116748491206152,
          0.19768582207575494,
          -0.015120301490420056,
          0.11937841548584778,
          0.1597850879025226,
          -0.05451705318018581,
          0.2961938482503767,
          0.22613378065868303,
          0.04100316152156502
         ]
        },
        {
         "customdata": [
          [
           null,
           null,
           null,
           null,
           null
          ],
          [
           null,
           null,
           null,
           null,
           null
          ],
          [
           null,
           null,
           null,
           null,
           null
          ],
          [
           null,
           null,
           null,
           null,
           null
          ],
          [
           null,
           null,
           null,
           null,
           null
          ],
          [
           null,
           null,
           null,
           null,
           null
          ],
          [
           null,
           null,
           null,
           null,
           null
          ],
          [
           null,
           null,
           null,
           null,
           null
          ],
          [
           null,
           null,
           null,
           null,
           null
          ],
          [
           null,
           null,
           null,
           null,
           null
          ],
          [
           null,
           null,
           null,
           null,
           null
          ],
          [
           null,
           null,
           null,
           null,
           null
          ],
          [
           null,
           null,
           null,
           null,
           null
          ],
          [
           null,
           null,
           null,
           null,
           null
          ],
          [
           null,
           null,
           null,
           null,
           null
          ],
          [
           null,
           null,
           null,
           null,
           null
          ],
          [
           null,
           null,
           null,
           null,
           null
          ],
          [
           null,
           null,
           null,
           null,
           null
          ],
          [
           null,
           null,
           null,
           null,
           null
          ],
          [
           null,
           null,
           null,
           null,
           null
          ],
          [
           2,
           0.15264509241867735,
           0.027162089491821646,
           0.45503272222856594,
           0.36516009586093506
          ],
          [
           1.6684190155777439,
           0.15160064353211283,
           0.026109404309477162,
           0.4536262075238826,
           0.36866374463452734
          ],
          [
           2,
           0.144024855214343,
           0.02538922995326411,
           0.4639929190661241,
           0.3665929957662688
          ],
          [
           2,
           0.13861435963044338,
           0.024968591880176867,
           0.4620796055446029,
           0.3743374429447768
          ],
          [
           2,
           0.13468075965267814,
           0.02502766482399723,
           0.4633702688366203,
           0.3769213066867043
          ],
          [
           2,
           0.13377312899051685,
           0.025393827122593075,
           0.4595833594855748,
           0.38124968440131524
          ],
          [
           2,
           0.1493085521064945,
           0.02808716751497279,
           0.4517863582317293,
           0.3708179221468034
          ],
          [
           2,
           0.20244526186711406,
           0.03045245047626193,
           0.4545133950110937,
           0.3125888926455303
          ],
          [
           2,
           0.209805954018741,
           0.03319465988996413,
           0.4533283408896904,
           0.30367104520160443
          ],
          [
           2,
           0.21100677395627593,
           0.033189280763728346,
           0.4560848469879017,
           0.2997190982920939
          ],
          [
           2,
           0.22198508094417943,
           0.031448913377033594,
           0.44553466020007676,
           0.3010313454787102
          ],
          [
           2,
           0.21568620240001926,
           0.031643323451939265,
           0.44828232196476225,
           0.3043881521832792
          ],
          [
           2,
           0.19100217987361892,
           0.14890095983975032,
           0.4175941458985023,
           0.24250271438812834
          ],
          [
           2,
           0.15304010855474887,
           0.14515283832332315,
           0.4626747319311155,
           0.23913232119081249
          ],
          [
           2,
           0.136031613122417,
           0.18473056864948745,
           0.44850758461635937,
           0.23073023361173614
          ],
          [
           2,
           0.08983092951891598,
           0.1410948740895733,
           0.5149328573400432,
           0.25414133905146763
          ],
          [
           2,
           0.08827376940980455,
           0.13346957945175486,
           0.5283644211135047,
           0.24989223002493585
          ],
          [
           2,
           0.08694774958811066,
           0.14771516861781145,
           0.5232231540911442,
           0.24211392770293377
          ],
          [
           2,
           0.08110861740882132,
           0.12436467252566683,
           0.5473972274647392,
           0.24712948260077264
          ],
          [
           2,
           0.0717227441422652,
           0.10446341044725808,
           0.57147702124858,
           0.2523368241618966
          ],
          [
           2,
           0.06950046426298569,
           0.09220915004675212,
           0.5648562491072411,
           0.27343413658302107
          ],
          [
           2,
           0.05709205155089358,
           0.12169450387546175,
           0.5275999790984192,
           0.29361346547522543
          ],
          [
           2,
           0.06867318548684274,
           0.12650557138417498,
           0.5150525406539365,
           0.2897687024750458
          ],
          [
           2,
           0.0705406492946058,
           0.11671217880452596,
           0.5218397098738078,
           0.2909074620270604
          ],
          [
           2,
           0.07073204211619791,
           0.11997407626222445,
           0.5341637540070061,
           0.27513012761457156
          ],
          [
           2,
           0.06971356341639467,
           0.1253784481636642,
           0.5345010396721939,
           0.27040694874774723
          ],
          [
           2,
           0.0705789923885793,
           0.10284579675366284,
           0.5616130286581663,
           0.26496218219959145
          ],
          [
           2,
           0.06557286702128767,
           0.09489652186411074,
           0.5703065797819866,
           0.2692240313326148
          ],
          [
           2,
           0.06507942957208125,
           0.08119214086301327,
           0.5645765993444078,
           0.2891518302204977
          ],
          [
           2,
           0.06656854094684535,
           0.08283991337688423,
           0.5637313869548628,
           0.2868601587214076
          ],
          [
           2,
           0.06896943413810919,
           0.09651909221154921,
           0.5546869945162823,
           0.27982447913405933
          ],
          [
           2,
           0.07611370748438157,
           0.1014113378744536,
           0.5120310284783156,
           0.31044392616284927
          ],
          [
           2,
           0.06956272277029837,
           0.09837021701503346,
           0.4909527879830848,
           0.34111427223158336
          ],
          [
           2,
           0.06991429141082474,
           0.0976140911261165,
           0.4745588250376494,
           0.35791279242540935
          ]
         ],
         "hovertemplate": "Strategy: estimate standard deviations only <br>Year: %{x:4.0f}<br>Return: %{y:0.1%}<br>Weight in Risky Portfolio: %{customdata[0]: 0.1%} <br>Risky Portfolio Weights:<br>  S&P 500: %{customdata[1]: 0.1%} <br>  Gold: %{customdata[2]: 0.1%} <br>  Corporates: %{customdata[3]: 0.1%} <br>  Treasuries: %{customdata[4]: 0.1%} <br><extra></extra>",
         "name": "Est-SD",
         "type": "scatter",
         "x": [
          1968,
          1969,
          1970,
          1971,
          1972,
          1973,
          1974,
          1975,
          1976,
          1977,
          1978,
          1979,
          1980,
          1981,
          1982,
          1983,
          1984,
          1985,
          1986,
          1987,
          1988,
          1989,
          1990,
          1991,
          1992,
          1993,
          1994,
          1995,
          1996,
          1997,
          1998,
          1999,
          2000,
          2001,
          2002,
          2003,
          2004,
          2005,
          2006,
          2007,
          2008,
          2009,
          2010,
          2011,
          2012,
          2013,
          2014,
          2015,
          2016,
          2017,
          2018,
          2019,
          2020,
          2021
         ],
         "y": [
          null,
          null,
          null,
          null,
          null,
          null,
          null,
          null,
          null,
          null,
          null,
          null,
          null,
          null,
          null,
          null,
          null,
          null,
          null,
          null,
          0.17290154664889468,
          0.2527528862919845,
          0.017669039411544907,
          0.30259716912543794,
          0.16634218803739992,
          0.26489338752379565,
          -0.11120186682892447,
          0.4263906394405583,
          0.09429831880476432,
          0.2421943007019945,
          0.23830068110838318,
          0.0017686728870907747,
          0.04739576419040463,
          0.032950450118692486,
          0.19173068378428113,
          0.24344210504558958,
          0.14546415278732489,
          0.09287244674231944,
          0.1244088891435107,
          0.11786271181468257,
          -0.005475356986578644,
          0.2762551095478116,
          0.22421236417509108,
          0.2542600074531207,
          0.15977671493210727,
          -0.08598729612437504,
          0.1919732299459365,
          -0.021438932185833162,
          0.14798539880893874,
          0.16480369181939714,
          -0.05817450283310453,
          0.28701628470862056,
          0.25126675147838506,
          0.009126271931145086
         ]
        },
        {
         "customdata": [
          [
           null,
           0.25,
           0.25,
           0.25,
           0.25
          ],
          [
           null,
           0.25,
           0.25,
           0.25,
           0.25
          ],
          [
           null,
           0.25,
           0.25,
           0.25,
           0.25
          ],
          [
           null,
           0.25,
           0.25,
           0.25,
           0.25
          ],
          [
           null,
           0.25,
           0.25,
           0.25,
           0.25
          ],
          [
           null,
           0.25,
           0.25,
           0.25,
           0.25
          ],
          [
           null,
           0.25,
           0.25,
           0.25,
           0.25
          ],
          [
           null,
           0.25,
           0.25,
           0.25,
           0.25
          ],
          [
           null,
           0.25,
           0.25,
           0.25,
           0.25
          ],
          [
           null,
           0.25,
           0.25,
           0.25,
           0.25
          ],
          [
           null,
           0.25,
           0.25,
           0.25,
           0.25
          ],
          [
           null,
           0.25,
           0.25,
           0.25,
           0.25
          ],
          [
           null,
           0.25,
           0.25,
           0.25,
           0.25
          ],
          [
           null,
           0.25,
           0.25,
           0.25,
           0.25
          ],
          [
           null,
           0.25,
           0.25,
           0.25,
           0.25
          ],
          [
           null,
           0.25,
           0.25,
           0.25,
           0.25
          ],
          [
           null,
           0.25,
           0.25,
           0.25,
           0.25
          ],
          [
           null,
           0.25,
           0.25,
           0.25,
           0.25
          ],
          [
           null,
           0.25,
           0.25,
           0.25,
           0.25
          ],
          [
           null,
           0.25,
           0.25,
           0.25,
           0.25
          ],
          [
           1.1338931630718665,
           0.25,
           0.25,
           0.25,
           0.25
          ],
          [
           0.7554608701997606,
           0.25,
           0.25,
           0.25,
           0.25
          ],
          [
           1.1831100671973414,
           0.25,
           0.25,
           0.25,
           0.25
          ],
          [
           1.577821442228201,
           0.25,
           0.25,
           0.25,
           0.25
          ],
          [
           1.9499608994532858,
           0.25,
           0.25,
           0.25,
           0.25
          ],
          [
           1.9133566691420252,
           0.25,
           0.25,
           0.25,
           0.25
          ],
          [
           1.7881787030584746,
           0.25,
           0.25,
           0.25,
           0.25
          ],
          [
           1.5226079862398592,
           0.25,
           0.25,
           0.25,
           0.25
          ],
          [
           1.8646337306326424,
           0.25,
           0.25,
           0.25,
           0.25
          ],
          [
           1.7391873806376843,
           0.25,
           0.25,
           0.25,
           0.25
          ],
          [
           1.849353444429517,
           0.25,
           0.25,
           0.25,
           0.25
          ],
          [
           1.9744166671411867,
           0.25,
           0.25,
           0.25,
           0.25
          ],
          [
           2,
           0.25,
           0.25,
           0.25,
           0.25
          ],
          [
           2,
           0.25,
           0.25,
           0.25,
           0.25
          ],
          [
           2,
           0.25,
           0.25,
           0.25,
           0.25
          ],
          [
           2,
           0.25,
           0.25,
           0.25,
           0.25
          ],
          [
           2,
           0.25,
           0.25,
           0.25,
           0.25
          ],
          [
           2,
           0.25,
           0.25,
           0.25,
           0.25
          ],
          [
           2,
           0.25,
           0.25,
           0.25,
           0.25
          ],
          [
           2,
           0.25,
           0.25,
           0.25,
           0.25
          ],
          [
           2,
           0.25,
           0.25,
           0.25,
           0.25
          ],
          [
           2,
           0.25,
           0.25,
           0.25,
           0.25
          ],
          [
           2,
           0.25,
           0.25,
           0.25,
           0.25
          ],
          [
           2,
           0.25,
           0.25,
           0.25,
           0.25
          ],
          [
           2,
           0.25,
           0.25,
           0.25,
           0.25
          ],
          [
           2,
           0.25,
           0.25,
           0.25,
           0.25
          ],
          [
           2,
           0.25,
           0.25,
           0.25,
           0.25
          ],
          [
           2,
           0.25,
           0.25,
           0.25,
           0.25
          ],
          [
           2,
           0.25,
           0.25,
           0.25,
           0.25
          ],
          [
           2,
           0.25,
           0.25,
           0.25,
           0.25
          ],
          [
           2,
           0.25,
           0.25,
           0.25,
           0.25
          ],
          [
           2,
           0.25,
           0.25,
           0.25,
           0.25
          ],
          [
           2,
           0.25,
           0.25,
           0.25,
           0.25
          ],
          [
           2,
           0.25,
           0.25,
           0.25,
           0.25
          ]
         ],
         "hovertemplate": "Strategy: equal weights <br>Year: %{x:4.0f}<br>Return: %{y:0.1%}<br>Weight in Risky Portfolio: %{customdata[0]: 0.1%} <br>Risky Portfolio Weights:<br>  S&P 500: %{customdata[1]: 0.1%} <br>  Gold: %{customdata[2]: 0.1%} <br>  Corporates: %{customdata[3]: 0.1%} <br>  Treasuries: %{customdata[4]: 0.1%} <br><extra></extra>",
         "name": "Est-None",
         "type": "scatter",
         "x": [
          1968,
          1969,
          1970,
          1971,
          1972,
          1973,
          1974,
          1975,
          1976,
          1977,
          1978,
          1979,
          1980,
          1981,
          1982,
          1983,
          1984,
          1985,
          1986,
          1987,
          1988,
          1989,
          1990,
          1991,
          1992,
          1993,
          1994,
          1995,
          1996,
          1997,
          1998,
          1999,
          2000,
          2001,
          2002,
          2003,
          2004,
          2005,
          2006,
          2007,
          2008,
          2009,
          2010,
          2011,
          2012,
          2013,
          2014,
          2015,
          2016,
          2017,
          2018,
          2019,
          2020,
          2021
         ],
         "y": [
          null,
          null,
          null,
          null,
          null,
          null,
          null,
          null,
          null,
          null,
          null,
          null,
          null,
          null,
          null,
          null,
          null,
          null,
          null,
          null,
          0.05962254735151154,
          0.1383068289767706,
          0.0064427593477521805,
          0.17988290797906914,
          0.08062902868166319,
          0.24985353863476095,
          -0.0786952767576075,
          0.2831779022039328,
          0.07077384254778213,
          0.1066609395037861,
          0.19337115073185235,
          0.027151432721199843,
          -0.004688603505565173,
          -0.01911513556441647,
          0.13041718556181875,
          0.30988711611140485,
          0.1367589623445661,
          0.11724751404057944,
          0.19543376102799556,
          0.20862801670912323,
          -0.10419862807860938,
          0.32739049429767464,
          0.29549285711766266,
          0.21130047628301585,
          0.1724975633259577,
          -0.029632609818420298,
          0.1720162200294722,
          -0.04781566800757087,
          0.15655588281985724,
          0.2206172882958834,
          -0.06014957334170355,
          0.3595398123224944,
          0.3187801956311172,
          0.10555916617965494
         ]
        }
       ],
       "layout": {
        "legend": {
         "x": 0.01,
         "xanchor": "left",
         "y": 0.99,
         "yanchor": "top"
        },
        "template": {
         "data": {
          "bar": [
           {
            "error_x": {
             "color": "#2a3f5f"
            },
            "error_y": {
             "color": "#2a3f5f"
            },
            "marker": {
             "line": {
              "color": "#E5ECF6",
              "width": 0.5
             },
             "pattern": {
              "fillmode": "overlay",
              "size": 10,
              "solidity": 0.2
             }
            },
            "type": "bar"
           }
          ],
          "barpolar": [
           {
            "marker": {
             "line": {
              "color": "#E5ECF6",
              "width": 0.5
             },
             "pattern": {
              "fillmode": "overlay",
              "size": 10,
              "solidity": 0.2
             }
            },
            "type": "barpolar"
           }
          ],
          "carpet": [
           {
            "aaxis": {
             "endlinecolor": "#2a3f5f",
             "gridcolor": "white",
             "linecolor": "white",
             "minorgridcolor": "white",
             "startlinecolor": "#2a3f5f"
            },
            "baxis": {
             "endlinecolor": "#2a3f5f",
             "gridcolor": "white",
             "linecolor": "white",
             "minorgridcolor": "white",
             "startlinecolor": "#2a3f5f"
            },
            "type": "carpet"
           }
          ],
          "choropleth": [
           {
            "colorbar": {
             "outlinewidth": 0,
             "ticks": ""
            },
            "type": "choropleth"
           }
          ],
          "contour": [
           {
            "colorbar": {
             "outlinewidth": 0,
             "ticks": ""
            },
            "colorscale": [
             [
              0,
              "#0d0887"
             ],
             [
              0.1111111111111111,
              "#46039f"
             ],
             [
              0.2222222222222222,
              "#7201a8"
             ],
             [
              0.3333333333333333,
              "#9c179e"
             ],
             [
              0.4444444444444444,
              "#bd3786"
             ],
             [
              0.5555555555555556,
              "#d8576b"
             ],
             [
              0.6666666666666666,
              "#ed7953"
             ],
             [
              0.7777777777777778,
              "#fb9f3a"
             ],
             [
              0.8888888888888888,
              "#fdca26"
             ],
             [
              1,
              "#f0f921"
             ]
            ],
            "type": "contour"
           }
          ],
          "contourcarpet": [
           {
            "colorbar": {
             "outlinewidth": 0,
             "ticks": ""
            },
            "type": "contourcarpet"
           }
          ],
          "heatmap": [
           {
            "colorbar": {
             "outlinewidth": 0,
             "ticks": ""
            },
            "colorscale": [
             [
              0,
              "#0d0887"
             ],
             [
              0.1111111111111111,
              "#46039f"
             ],
             [
              0.2222222222222222,
              "#7201a8"
             ],
             [
              0.3333333333333333,
              "#9c179e"
             ],
             [
              0.4444444444444444,
              "#bd3786"
             ],
             [
              0.5555555555555556,
              "#d8576b"
             ],
             [
              0.6666666666666666,
              "#ed7953"
             ],
             [
              0.7777777777777778,
              "#fb9f3a"
             ],
             [
              0.8888888888888888,
              "#fdca26"
             ],
             [
              1,
              "#f0f921"
             ]
            ],
            "type": "heatmap"
           }
          ],
          "heatmapgl": [
           {
            "colorbar": {
             "outlinewidth": 0,
             "ticks": ""
            },
            "colorscale": [
             [
              0,
              "#0d0887"
             ],
             [
              0.1111111111111111,
              "#46039f"
             ],
             [
              0.2222222222222222,
              "#7201a8"
             ],
             [
              0.3333333333333333,
              "#9c179e"
             ],
             [
              0.4444444444444444,
              "#bd3786"
             ],
             [
              0.5555555555555556,
              "#d8576b"
             ],
             [
              0.6666666666666666,
              "#ed7953"
             ],
             [
              0.7777777777777778,
              "#fb9f3a"
             ],
             [
              0.8888888888888888,
              "#fdca26"
             ],
             [
              1,
              "#f0f921"
             ]
            ],
            "type": "heatmapgl"
           }
          ],
          "histogram": [
           {
            "marker": {
             "pattern": {
              "fillmode": "overlay",
              "size": 10,
              "solidity": 0.2
             }
            },
            "type": "histogram"
           }
          ],
          "histogram2d": [
           {
            "colorbar": {
             "outlinewidth": 0,
             "ticks": ""
            },
            "colorscale": [
             [
              0,
              "#0d0887"
             ],
             [
              0.1111111111111111,
              "#46039f"
             ],
             [
              0.2222222222222222,
              "#7201a8"
             ],
             [
              0.3333333333333333,
              "#9c179e"
             ],
             [
              0.4444444444444444,
              "#bd3786"
             ],
             [
              0.5555555555555556,
              "#d8576b"
             ],
             [
              0.6666666666666666,
              "#ed7953"
             ],
             [
              0.7777777777777778,
              "#fb9f3a"
             ],
             [
              0.8888888888888888,
              "#fdca26"
             ],
             [
              1,
              "#f0f921"
             ]
            ],
            "type": "histogram2d"
           }
          ],
          "histogram2dcontour": [
           {
            "colorbar": {
             "outlinewidth": 0,
             "ticks": ""
            },
            "colorscale": [
             [
              0,
              "#0d0887"
             ],
             [
              0.1111111111111111,
              "#46039f"
             ],
             [
              0.2222222222222222,
              "#7201a8"
             ],
             [
              0.3333333333333333,
              "#9c179e"
             ],
             [
              0.4444444444444444,
              "#bd3786"
             ],
             [
              0.5555555555555556,
              "#d8576b"
             ],
             [
              0.6666666666666666,
              "#ed7953"
             ],
             [
              0.7777777777777778,
              "#fb9f3a"
             ],
             [
              0.8888888888888888,
              "#fdca26"
             ],
             [
              1,
              "#f0f921"
             ]
            ],
            "type": "histogram2dcontour"
           }
          ],
          "mesh3d": [
           {
            "colorbar": {
             "outlinewidth": 0,
             "ticks": ""
            },
            "type": "mesh3d"
           }
          ],
          "parcoords": [
           {
            "line": {
             "colorbar": {
              "outlinewidth": 0,
              "ticks": ""
             }
            },
            "type": "parcoords"
           }
          ],
          "pie": [
           {
            "automargin": true,
            "type": "pie"
           }
          ],
          "scatter": [
           {
            "fillpattern": {
             "fillmode": "overlay",
             "size": 10,
             "solidity": 0.2
            },
            "type": "scatter"
           }
          ],
          "scatter3d": [
           {
            "line": {
             "colorbar": {
              "outlinewidth": 0,
              "ticks": ""
             }
            },
            "marker": {
             "colorbar": {
              "outlinewidth": 0,
              "ticks": ""
             }
            },
            "type": "scatter3d"
           }
          ],
          "scattercarpet": [
           {
            "marker": {
             "colorbar": {
              "outlinewidth": 0,
              "ticks": ""
             }
            },
            "type": "scattercarpet"
           }
          ],
          "scattergeo": [
           {
            "marker": {
             "colorbar": {
              "outlinewidth": 0,
              "ticks": ""
             }
            },
            "type": "scattergeo"
           }
          ],
          "scattergl": [
           {
            "marker": {
             "colorbar": {
              "outlinewidth": 0,
              "ticks": ""
             }
            },
            "type": "scattergl"
           }
          ],
          "scattermapbox": [
           {
            "marker": {
             "colorbar": {
              "outlinewidth": 0,
              "ticks": ""
             }
            },
            "type": "scattermapbox"
           }
          ],
          "scatterpolar": [
           {
            "marker": {
             "colorbar": {
              "outlinewidth": 0,
              "ticks": ""
             }
            },
            "type": "scatterpolar"
           }
          ],
          "scatterpolargl": [
           {
            "marker": {
             "colorbar": {
              "outlinewidth": 0,
              "ticks": ""
             }
            },
            "type": "scatterpolargl"
           }
          ],
          "scatterternary": [
           {
            "marker": {
             "colorbar": {
              "outlinewidth": 0,
              "ticks": ""
             }
            },
            "type": "scatterternary"
           }
          ],
          "surface": [
           {
            "colorbar": {
             "outlinewidth": 0,
             "ticks": ""
            },
            "colorscale": [
             [
              0,
              "#0d0887"
             ],
             [
              0.1111111111111111,
              "#46039f"
             ],
             [
              0.2222222222222222,
              "#7201a8"
             ],
             [
              0.3333333333333333,
              "#9c179e"
             ],
             [
              0.4444444444444444,
              "#bd3786"
             ],
             [
              0.5555555555555556,
              "#d8576b"
             ],
             [
              0.6666666666666666,
              "#ed7953"
             ],
             [
              0.7777777777777778,
              "#fb9f3a"
             ],
             [
              0.8888888888888888,
              "#fdca26"
             ],
             [
              1,
              "#f0f921"
             ]
            ],
            "type": "surface"
           }
          ],
          "table": [
           {
            "cells": {
             "fill": {
              "color": "#EBF0F8"
             },
             "line": {
              "color": "white"
             }
            },
            "header": {
             "fill": {
              "color": "#C8D4E3"
             },
             "line": {
              "color": "white"
             }
            },
            "type": "table"
           }
          ]
         },
         "layout": {
          "annotationdefaults": {
           "arrowcolor": "#2a3f5f",
           "arrowhead": 0,
           "arrowwidth": 1
          },
          "autotypenumbers": "strict",
          "coloraxis": {
           "colorbar": {
            "outlinewidth": 0,
            "ticks": ""
           }
          },
          "colorscale": {
           "diverging": [
            [
             0,
             "#8e0152"
            ],
            [
             0.1,
             "#c51b7d"
            ],
            [
             0.2,
             "#de77ae"
            ],
            [
             0.3,
             "#f1b6da"
            ],
            [
             0.4,
             "#fde0ef"
            ],
            [
             0.5,
             "#f7f7f7"
            ],
            [
             0.6,
             "#e6f5d0"
            ],
            [
             0.7,
             "#b8e186"
            ],
            [
             0.8,
             "#7fbc41"
            ],
            [
             0.9,
             "#4d9221"
            ],
            [
             1,
             "#276419"
            ]
           ],
           "sequential": [
            [
             0,
             "#0d0887"
            ],
            [
             0.1111111111111111,
             "#46039f"
            ],
            [
             0.2222222222222222,
             "#7201a8"
            ],
            [
             0.3333333333333333,
             "#9c179e"
            ],
            [
             0.4444444444444444,
             "#bd3786"
            ],
            [
             0.5555555555555556,
             "#d8576b"
            ],
            [
             0.6666666666666666,
             "#ed7953"
            ],
            [
             0.7777777777777778,
             "#fb9f3a"
            ],
            [
             0.8888888888888888,
             "#fdca26"
            ],
            [
             1,
             "#f0f921"
            ]
           ],
           "sequentialminus": [
            [
             0,
             "#0d0887"
            ],
            [
             0.1111111111111111,
             "#46039f"
            ],
            [
             0.2222222222222222,
             "#7201a8"
            ],
            [
             0.3333333333333333,
             "#9c179e"
            ],
            [
             0.4444444444444444,
             "#bd3786"
            ],
            [
             0.5555555555555556,
             "#d8576b"
            ],
            [
             0.6666666666666666,
             "#ed7953"
            ],
            [
             0.7777777777777778,
             "#fb9f3a"
            ],
            [
             0.8888888888888888,
             "#fdca26"
            ],
            [
             1,
             "#f0f921"
            ]
           ]
          },
          "colorway": [
           "#636efa",
           "#EF553B",
           "#00cc96",
           "#ab63fa",
           "#FFA15A",
           "#19d3f3",
           "#FF6692",
           "#B6E880",
           "#FF97FF",
           "#FECB52"
          ],
          "font": {
           "color": "#2a3f5f"
          },
          "geo": {
           "bgcolor": "white",
           "lakecolor": "white",
           "landcolor": "#E5ECF6",
           "showlakes": true,
           "showland": true,
           "subunitcolor": "white"
          },
          "hoverlabel": {
           "align": "left"
          },
          "hovermode": "closest",
          "mapbox": {
           "style": "light"
          },
          "paper_bgcolor": "white",
          "plot_bgcolor": "#E5ECF6",
          "polar": {
           "angularaxis": {
            "gridcolor": "white",
            "linecolor": "white",
            "ticks": ""
           },
           "bgcolor": "#E5ECF6",
           "radialaxis": {
            "gridcolor": "white",
            "linecolor": "white",
            "ticks": ""
           }
          },
          "scene": {
           "xaxis": {
            "backgroundcolor": "#E5ECF6",
            "gridcolor": "white",
            "gridwidth": 2,
            "linecolor": "white",
            "showbackground": true,
            "ticks": "",
            "zerolinecolor": "white"
           },
           "yaxis": {
            "backgroundcolor": "#E5ECF6",
            "gridcolor": "white",
            "gridwidth": 2,
            "linecolor": "white",
            "showbackground": true,
            "ticks": "",
            "zerolinecolor": "white"
           },
           "zaxis": {
            "backgroundcolor": "#E5ECF6",
            "gridcolor": "white",
            "gridwidth": 2,
            "linecolor": "white",
            "showbackground": true,
            "ticks": "",
            "zerolinecolor": "white"
           }
          },
          "shapedefaults": {
           "line": {
            "color": "#2a3f5f"
           }
          },
          "ternary": {
           "aaxis": {
            "gridcolor": "white",
            "linecolor": "white",
            "ticks": ""
           },
           "baxis": {
            "gridcolor": "white",
            "linecolor": "white",
            "ticks": ""
           },
           "bgcolor": "#E5ECF6",
           "caxis": {
            "gridcolor": "white",
            "linecolor": "white",
            "ticks": ""
           }
          },
          "title": {
           "x": 0.05
          },
          "xaxis": {
           "automargin": true,
           "gridcolor": "white",
           "linecolor": "white",
           "ticks": "",
           "title": {
            "standoff": 15
           },
           "zerolinecolor": "white",
           "zerolinewidth": 2
          },
          "yaxis": {
           "automargin": true,
           "gridcolor": "white",
           "linecolor": "white",
           "ticks": "",
           "title": {
            "standoff": 15
           },
           "zerolinecolor": "white",
           "zerolinewidth": 2
          }
         }
        },
        "xaxis": {
         "range": [
          1988,
          2021
         ],
         "title": {
          "text": "Year"
         }
        },
        "yaxis": {
         "tickformat": ".0%",
         "title": {
          "text": "Return"
         }
        }
       }
      }
     },
     "metadata": {},
     "output_type": "display_data"
    }
   ],
   "source": [
    "# Plot the time-series of returns and portfolio weights.\n",
    "for asset in asset_list:\n",
    "    df['wgt'+asset + '_ew'] = 1/n\n",
    "label_dict = {'true': 'theoretical optimal weights', \n",
    "            'ew': 'equal weights',\n",
    "            'est_all': 'estimate all inputs',\n",
    "            'est_cov': 'estimate covariance matrix only',\n",
    "            'est_sds': 'estimate standard deviations only'}\n",
    "\n",
    "xaxis_label_dict = {'true': 'theoretical optimal weights', \n",
    "            'ew': 'Est-None',\n",
    "            'est_all': 'Est-All',\n",
    "            'est_cov': 'Est-SD-Corr',\n",
    "            'est_sds': 'Est-SD'}           \n",
    "\n",
    "fig = go.Figure()\n",
    "for model in ['est_all', 'est_cov', 'est_sds', 'ew']:\n",
    "    string =  \"Strategy: \" + label_dict[model] +\" <br>\"\n",
    "    string += \"Year: %{x:4.0f}<br>\"\n",
    "    string += \"Return: %{y:0.1%}<br>\"\n",
    "    string += \"Weight in Risky Portfolio: %{customdata[0]: 0.1%} <br>\"\n",
    "    string += \"Risky Portfolio Weights:<br>\"\n",
    "    string += \"  \"+ risky[0] +\": %{customdata[1]: 0.1%} <br>\"\n",
    "    string += \"  \"+ risky[1] +\": %{customdata[2]: 0.1%} <br>\"\n",
    "    string += \"  \"+ risky[2] +\": %{customdata[3]: 0.1%} <br>\"\n",
    "    string += \"  \"+ risky[3] +\": %{customdata[4]: 0.1%} <br>\"\n",
    "    string += \"<extra></extra>\"\n",
    "\n",
    "    wgt_list = ['wgt_cal_'+ model] + ['wgt'+asset + \"_\" + model for asset in asset_list]\n",
    "    trace=go.Scatter(x=df['year'], y=df['raver_portret_'+model], customdata=df[wgt_list], hovertemplate=string, name = xaxis_label_dict[model])\n",
    "    fig.add_trace(trace)\n",
    "fig.layout.yaxis[\"title\"] = \"Return\"\n",
    "fig.layout.xaxis[\"title\"] = \"Year\"\n",
    "fig.update_yaxes(tickformat=\".0%\")\n",
    "fig.update_layout(legend=dict(yanchor=\"top\", y =0.99, xanchor=\"left\", x=0.01))\n",
    "fig.update_xaxes(range=[df['year'].iloc[window], df.year.max()])\n",
    "fig.show()"
   ]
  },
  {
   "cell_type": "code",
   "execution_count": 46,
   "metadata": {},
   "outputs": [
    {
     "data": {
      "application/vnd.plotly.v1+json": {
       "config": {
        "plotlyServerURL": "https://plot.ly"
       },
       "data": [
        {
         "hovertemplate": "Strategy: estimate all inputs <br>Year: %{x:4.0f}<br>Weight in Risky Portfolio: %{y: 0.1%} <br><extra></extra>",
         "name": "Est-All",
         "type": "scatter",
         "x": [
          1968,
          1969,
          1970,
          1971,
          1972,
          1973,
          1974,
          1975,
          1976,
          1977,
          1978,
          1979,
          1980,
          1981,
          1982,
          1983,
          1984,
          1985,
          1986,
          1987,
          1988,
          1989,
          1990,
          1991,
          1992,
          1993,
          1994,
          1995,
          1996,
          1997,
          1998,
          1999,
          2000,
          2001,
          2002,
          2003,
          2004,
          2005,
          2006,
          2007,
          2008,
          2009,
          2010,
          2011,
          2012,
          2013,
          2014,
          2015,
          2016,
          2017,
          2018,
          2019,
          2020,
          2021
         ],
         "y": [
          null,
          null,
          null,
          null,
          null,
          null,
          null,
          null,
          null,
          null,
          null,
          null,
          null,
          null,
          null,
          null,
          null,
          null,
          null,
          null,
          1.409971941806668,
          1.012864952760892,
          2,
          2,
          2,
          2,
          2,
          2,
          2,
          2,
          2,
          2,
          2,
          2,
          2,
          2,
          2,
          2,
          2,
          2,
          2,
          2,
          2,
          2,
          2,
          2,
          2,
          2,
          2,
          2,
          2,
          2,
          2,
          2
         ]
        },
        {
         "hovertemplate": "Strategy: estimate covariance matrix only <br>Year: %{x:4.0f}<br>Weight in Risky Portfolio: %{y: 0.1%} <br><extra></extra>",
         "name": "Est-SD-Corr",
         "type": "scatter",
         "x": [
          1968,
          1969,
          1970,
          1971,
          1972,
          1973,
          1974,
          1975,
          1976,
          1977,
          1978,
          1979,
          1980,
          1981,
          1982,
          1983,
          1984,
          1985,
          1986,
          1987,
          1988,
          1989,
          1990,
          1991,
          1992,
          1993,
          1994,
          1995,
          1996,
          1997,
          1998,
          1999,
          2000,
          2001,
          2002,
          2003,
          2004,
          2005,
          2006,
          2007,
          2008,
          2009,
          2010,
          2011,
          2012,
          2013,
          2014,
          2015,
          2016,
          2017,
          2018,
          2019,
          2020,
          2021
         ],
         "y": [
          null,
          null,
          null,
          null,
          null,
          null,
          null,
          null,
          null,
          null,
          null,
          null,
          null,
          null,
          null,
          null,
          null,
          null,
          null,
          null,
          1.7030509317179474,
          1.173960842443053,
          2,
          2,
          2,
          2,
          2,
          2,
          2,
          2,
          2,
          2,
          1.8213365202655327,
          2,
          2,
          2,
          2,
          2,
          2,
          2,
          2,
          2,
          2,
          2,
          2,
          2,
          2,
          2,
          2,
          2,
          2,
          2,
          2,
          2
         ]
        },
        {
         "hovertemplate": "Strategy: estimate standard deviations only <br>Year: %{x:4.0f}<br>Weight in Risky Portfolio: %{y: 0.1%} <br><extra></extra>",
         "name": "Est-SD",
         "type": "scatter",
         "x": [
          1968,
          1969,
          1970,
          1971,
          1972,
          1973,
          1974,
          1975,
          1976,
          1977,
          1978,
          1979,
          1980,
          1981,
          1982,
          1983,
          1984,
          1985,
          1986,
          1987,
          1988,
          1989,
          1990,
          1991,
          1992,
          1993,
          1994,
          1995,
          1996,
          1997,
          1998,
          1999,
          2000,
          2001,
          2002,
          2003,
          2004,
          2005,
          2006,
          2007,
          2008,
          2009,
          2010,
          2011,
          2012,
          2013,
          2014,
          2015,
          2016,
          2017,
          2018,
          2019,
          2020,
          2021
         ],
         "y": [
          null,
          null,
          null,
          null,
          null,
          null,
          null,
          null,
          null,
          null,
          null,
          null,
          null,
          null,
          null,
          null,
          null,
          null,
          null,
          null,
          2,
          1.6684190155777439,
          2,
          2,
          2,
          2,
          2,
          2,
          2,
          2,
          2,
          2,
          2,
          2,
          2,
          2,
          2,
          2,
          2,
          2,
          2,
          2,
          2,
          2,
          2,
          2,
          2,
          2,
          2,
          2,
          2,
          2,
          2,
          2
         ]
        },
        {
         "hovertemplate": "Strategy: equal weights <br>Year: %{x:4.0f}<br>Weight in Risky Portfolio: %{y: 0.1%} <br><extra></extra>",
         "name": "Est-None",
         "type": "scatter",
         "x": [
          1968,
          1969,
          1970,
          1971,
          1972,
          1973,
          1974,
          1975,
          1976,
          1977,
          1978,
          1979,
          1980,
          1981,
          1982,
          1983,
          1984,
          1985,
          1986,
          1987,
          1988,
          1989,
          1990,
          1991,
          1992,
          1993,
          1994,
          1995,
          1996,
          1997,
          1998,
          1999,
          2000,
          2001,
          2002,
          2003,
          2004,
          2005,
          2006,
          2007,
          2008,
          2009,
          2010,
          2011,
          2012,
          2013,
          2014,
          2015,
          2016,
          2017,
          2018,
          2019,
          2020,
          2021
         ],
         "y": [
          null,
          null,
          null,
          null,
          null,
          null,
          null,
          null,
          null,
          null,
          null,
          null,
          null,
          null,
          null,
          null,
          null,
          null,
          null,
          null,
          1.1338931630718665,
          0.7554608701997606,
          1.1831100671973414,
          1.577821442228201,
          1.9499608994532858,
          1.9133566691420252,
          1.7881787030584746,
          1.5226079862398592,
          1.8646337306326424,
          1.7391873806376843,
          1.849353444429517,
          1.9744166671411867,
          2,
          2,
          2,
          2,
          2,
          2,
          2,
          2,
          2,
          2,
          2,
          2,
          2,
          2,
          2,
          2,
          2,
          2,
          2,
          2,
          2,
          2
         ]
        }
       ],
       "layout": {
        "legend": {
         "x": 0.01,
         "xanchor": "left",
         "y": 0.99,
         "yanchor": "top"
        },
        "template": {
         "data": {
          "bar": [
           {
            "error_x": {
             "color": "#2a3f5f"
            },
            "error_y": {
             "color": "#2a3f5f"
            },
            "marker": {
             "line": {
              "color": "#E5ECF6",
              "width": 0.5
             },
             "pattern": {
              "fillmode": "overlay",
              "size": 10,
              "solidity": 0.2
             }
            },
            "type": "bar"
           }
          ],
          "barpolar": [
           {
            "marker": {
             "line": {
              "color": "#E5ECF6",
              "width": 0.5
             },
             "pattern": {
              "fillmode": "overlay",
              "size": 10,
              "solidity": 0.2
             }
            },
            "type": "barpolar"
           }
          ],
          "carpet": [
           {
            "aaxis": {
             "endlinecolor": "#2a3f5f",
             "gridcolor": "white",
             "linecolor": "white",
             "minorgridcolor": "white",
             "startlinecolor": "#2a3f5f"
            },
            "baxis": {
             "endlinecolor": "#2a3f5f",
             "gridcolor": "white",
             "linecolor": "white",
             "minorgridcolor": "white",
             "startlinecolor": "#2a3f5f"
            },
            "type": "carpet"
           }
          ],
          "choropleth": [
           {
            "colorbar": {
             "outlinewidth": 0,
             "ticks": ""
            },
            "type": "choropleth"
           }
          ],
          "contour": [
           {
            "colorbar": {
             "outlinewidth": 0,
             "ticks": ""
            },
            "colorscale": [
             [
              0,
              "#0d0887"
             ],
             [
              0.1111111111111111,
              "#46039f"
             ],
             [
              0.2222222222222222,
              "#7201a8"
             ],
             [
              0.3333333333333333,
              "#9c179e"
             ],
             [
              0.4444444444444444,
              "#bd3786"
             ],
             [
              0.5555555555555556,
              "#d8576b"
             ],
             [
              0.6666666666666666,
              "#ed7953"
             ],
             [
              0.7777777777777778,
              "#fb9f3a"
             ],
             [
              0.8888888888888888,
              "#fdca26"
             ],
             [
              1,
              "#f0f921"
             ]
            ],
            "type": "contour"
           }
          ],
          "contourcarpet": [
           {
            "colorbar": {
             "outlinewidth": 0,
             "ticks": ""
            },
            "type": "contourcarpet"
           }
          ],
          "heatmap": [
           {
            "colorbar": {
             "outlinewidth": 0,
             "ticks": ""
            },
            "colorscale": [
             [
              0,
              "#0d0887"
             ],
             [
              0.1111111111111111,
              "#46039f"
             ],
             [
              0.2222222222222222,
              "#7201a8"
             ],
             [
              0.3333333333333333,
              "#9c179e"
             ],
             [
              0.4444444444444444,
              "#bd3786"
             ],
             [
              0.5555555555555556,
              "#d8576b"
             ],
             [
              0.6666666666666666,
              "#ed7953"
             ],
             [
              0.7777777777777778,
              "#fb9f3a"
             ],
             [
              0.8888888888888888,
              "#fdca26"
             ],
             [
              1,
              "#f0f921"
             ]
            ],
            "type": "heatmap"
           }
          ],
          "heatmapgl": [
           {
            "colorbar": {
             "outlinewidth": 0,
             "ticks": ""
            },
            "colorscale": [
             [
              0,
              "#0d0887"
             ],
             [
              0.1111111111111111,
              "#46039f"
             ],
             [
              0.2222222222222222,
              "#7201a8"
             ],
             [
              0.3333333333333333,
              "#9c179e"
             ],
             [
              0.4444444444444444,
              "#bd3786"
             ],
             [
              0.5555555555555556,
              "#d8576b"
             ],
             [
              0.6666666666666666,
              "#ed7953"
             ],
             [
              0.7777777777777778,
              "#fb9f3a"
             ],
             [
              0.8888888888888888,
              "#fdca26"
             ],
             [
              1,
              "#f0f921"
             ]
            ],
            "type": "heatmapgl"
           }
          ],
          "histogram": [
           {
            "marker": {
             "pattern": {
              "fillmode": "overlay",
              "size": 10,
              "solidity": 0.2
             }
            },
            "type": "histogram"
           }
          ],
          "histogram2d": [
           {
            "colorbar": {
             "outlinewidth": 0,
             "ticks": ""
            },
            "colorscale": [
             [
              0,
              "#0d0887"
             ],
             [
              0.1111111111111111,
              "#46039f"
             ],
             [
              0.2222222222222222,
              "#7201a8"
             ],
             [
              0.3333333333333333,
              "#9c179e"
             ],
             [
              0.4444444444444444,
              "#bd3786"
             ],
             [
              0.5555555555555556,
              "#d8576b"
             ],
             [
              0.6666666666666666,
              "#ed7953"
             ],
             [
              0.7777777777777778,
              "#fb9f3a"
             ],
             [
              0.8888888888888888,
              "#fdca26"
             ],
             [
              1,
              "#f0f921"
             ]
            ],
            "type": "histogram2d"
           }
          ],
          "histogram2dcontour": [
           {
            "colorbar": {
             "outlinewidth": 0,
             "ticks": ""
            },
            "colorscale": [
             [
              0,
              "#0d0887"
             ],
             [
              0.1111111111111111,
              "#46039f"
             ],
             [
              0.2222222222222222,
              "#7201a8"
             ],
             [
              0.3333333333333333,
              "#9c179e"
             ],
             [
              0.4444444444444444,
              "#bd3786"
             ],
             [
              0.5555555555555556,
              "#d8576b"
             ],
             [
              0.6666666666666666,
              "#ed7953"
             ],
             [
              0.7777777777777778,
              "#fb9f3a"
             ],
             [
              0.8888888888888888,
              "#fdca26"
             ],
             [
              1,
              "#f0f921"
             ]
            ],
            "type": "histogram2dcontour"
           }
          ],
          "mesh3d": [
           {
            "colorbar": {
             "outlinewidth": 0,
             "ticks": ""
            },
            "type": "mesh3d"
           }
          ],
          "parcoords": [
           {
            "line": {
             "colorbar": {
              "outlinewidth": 0,
              "ticks": ""
             }
            },
            "type": "parcoords"
           }
          ],
          "pie": [
           {
            "automargin": true,
            "type": "pie"
           }
          ],
          "scatter": [
           {
            "fillpattern": {
             "fillmode": "overlay",
             "size": 10,
             "solidity": 0.2
            },
            "type": "scatter"
           }
          ],
          "scatter3d": [
           {
            "line": {
             "colorbar": {
              "outlinewidth": 0,
              "ticks": ""
             }
            },
            "marker": {
             "colorbar": {
              "outlinewidth": 0,
              "ticks": ""
             }
            },
            "type": "scatter3d"
           }
          ],
          "scattercarpet": [
           {
            "marker": {
             "colorbar": {
              "outlinewidth": 0,
              "ticks": ""
             }
            },
            "type": "scattercarpet"
           }
          ],
          "scattergeo": [
           {
            "marker": {
             "colorbar": {
              "outlinewidth": 0,
              "ticks": ""
             }
            },
            "type": "scattergeo"
           }
          ],
          "scattergl": [
           {
            "marker": {
             "colorbar": {
              "outlinewidth": 0,
              "ticks": ""
             }
            },
            "type": "scattergl"
           }
          ],
          "scattermapbox": [
           {
            "marker": {
             "colorbar": {
              "outlinewidth": 0,
              "ticks": ""
             }
            },
            "type": "scattermapbox"
           }
          ],
          "scatterpolar": [
           {
            "marker": {
             "colorbar": {
              "outlinewidth": 0,
              "ticks": ""
             }
            },
            "type": "scatterpolar"
           }
          ],
          "scatterpolargl": [
           {
            "marker": {
             "colorbar": {
              "outlinewidth": 0,
              "ticks": ""
             }
            },
            "type": "scatterpolargl"
           }
          ],
          "scatterternary": [
           {
            "marker": {
             "colorbar": {
              "outlinewidth": 0,
              "ticks": ""
             }
            },
            "type": "scatterternary"
           }
          ],
          "surface": [
           {
            "colorbar": {
             "outlinewidth": 0,
             "ticks": ""
            },
            "colorscale": [
             [
              0,
              "#0d0887"
             ],
             [
              0.1111111111111111,
              "#46039f"
             ],
             [
              0.2222222222222222,
              "#7201a8"
             ],
             [
              0.3333333333333333,
              "#9c179e"
             ],
             [
              0.4444444444444444,
              "#bd3786"
             ],
             [
              0.5555555555555556,
              "#d8576b"
             ],
             [
              0.6666666666666666,
              "#ed7953"
             ],
             [
              0.7777777777777778,
              "#fb9f3a"
             ],
             [
              0.8888888888888888,
              "#fdca26"
             ],
             [
              1,
              "#f0f921"
             ]
            ],
            "type": "surface"
           }
          ],
          "table": [
           {
            "cells": {
             "fill": {
              "color": "#EBF0F8"
             },
             "line": {
              "color": "white"
             }
            },
            "header": {
             "fill": {
              "color": "#C8D4E3"
             },
             "line": {
              "color": "white"
             }
            },
            "type": "table"
           }
          ]
         },
         "layout": {
          "annotationdefaults": {
           "arrowcolor": "#2a3f5f",
           "arrowhead": 0,
           "arrowwidth": 1
          },
          "autotypenumbers": "strict",
          "coloraxis": {
           "colorbar": {
            "outlinewidth": 0,
            "ticks": ""
           }
          },
          "colorscale": {
           "diverging": [
            [
             0,
             "#8e0152"
            ],
            [
             0.1,
             "#c51b7d"
            ],
            [
             0.2,
             "#de77ae"
            ],
            [
             0.3,
             "#f1b6da"
            ],
            [
             0.4,
             "#fde0ef"
            ],
            [
             0.5,
             "#f7f7f7"
            ],
            [
             0.6,
             "#e6f5d0"
            ],
            [
             0.7,
             "#b8e186"
            ],
            [
             0.8,
             "#7fbc41"
            ],
            [
             0.9,
             "#4d9221"
            ],
            [
             1,
             "#276419"
            ]
           ],
           "sequential": [
            [
             0,
             "#0d0887"
            ],
            [
             0.1111111111111111,
             "#46039f"
            ],
            [
             0.2222222222222222,
             "#7201a8"
            ],
            [
             0.3333333333333333,
             "#9c179e"
            ],
            [
             0.4444444444444444,
             "#bd3786"
            ],
            [
             0.5555555555555556,
             "#d8576b"
            ],
            [
             0.6666666666666666,
             "#ed7953"
            ],
            [
             0.7777777777777778,
             "#fb9f3a"
            ],
            [
             0.8888888888888888,
             "#fdca26"
            ],
            [
             1,
             "#f0f921"
            ]
           ],
           "sequentialminus": [
            [
             0,
             "#0d0887"
            ],
            [
             0.1111111111111111,
             "#46039f"
            ],
            [
             0.2222222222222222,
             "#7201a8"
            ],
            [
             0.3333333333333333,
             "#9c179e"
            ],
            [
             0.4444444444444444,
             "#bd3786"
            ],
            [
             0.5555555555555556,
             "#d8576b"
            ],
            [
             0.6666666666666666,
             "#ed7953"
            ],
            [
             0.7777777777777778,
             "#fb9f3a"
            ],
            [
             0.8888888888888888,
             "#fdca26"
            ],
            [
             1,
             "#f0f921"
            ]
           ]
          },
          "colorway": [
           "#636efa",
           "#EF553B",
           "#00cc96",
           "#ab63fa",
           "#FFA15A",
           "#19d3f3",
           "#FF6692",
           "#B6E880",
           "#FF97FF",
           "#FECB52"
          ],
          "font": {
           "color": "#2a3f5f"
          },
          "geo": {
           "bgcolor": "white",
           "lakecolor": "white",
           "landcolor": "#E5ECF6",
           "showlakes": true,
           "showland": true,
           "subunitcolor": "white"
          },
          "hoverlabel": {
           "align": "left"
          },
          "hovermode": "closest",
          "mapbox": {
           "style": "light"
          },
          "paper_bgcolor": "white",
          "plot_bgcolor": "#E5ECF6",
          "polar": {
           "angularaxis": {
            "gridcolor": "white",
            "linecolor": "white",
            "ticks": ""
           },
           "bgcolor": "#E5ECF6",
           "radialaxis": {
            "gridcolor": "white",
            "linecolor": "white",
            "ticks": ""
           }
          },
          "scene": {
           "xaxis": {
            "backgroundcolor": "#E5ECF6",
            "gridcolor": "white",
            "gridwidth": 2,
            "linecolor": "white",
            "showbackground": true,
            "ticks": "",
            "zerolinecolor": "white"
           },
           "yaxis": {
            "backgroundcolor": "#E5ECF6",
            "gridcolor": "white",
            "gridwidth": 2,
            "linecolor": "white",
            "showbackground": true,
            "ticks": "",
            "zerolinecolor": "white"
           },
           "zaxis": {
            "backgroundcolor": "#E5ECF6",
            "gridcolor": "white",
            "gridwidth": 2,
            "linecolor": "white",
            "showbackground": true,
            "ticks": "",
            "zerolinecolor": "white"
           }
          },
          "shapedefaults": {
           "line": {
            "color": "#2a3f5f"
           }
          },
          "ternary": {
           "aaxis": {
            "gridcolor": "white",
            "linecolor": "white",
            "ticks": ""
           },
           "baxis": {
            "gridcolor": "white",
            "linecolor": "white",
            "ticks": ""
           },
           "bgcolor": "#E5ECF6",
           "caxis": {
            "gridcolor": "white",
            "linecolor": "white",
            "ticks": ""
           }
          },
          "title": {
           "x": 0.05
          },
          "xaxis": {
           "automargin": true,
           "gridcolor": "white",
           "linecolor": "white",
           "ticks": "",
           "title": {
            "standoff": 15
           },
           "zerolinecolor": "white",
           "zerolinewidth": 2
          },
          "yaxis": {
           "automargin": true,
           "gridcolor": "white",
           "linecolor": "white",
           "ticks": "",
           "title": {
            "standoff": 15
           },
           "zerolinecolor": "white",
           "zerolinewidth": 2
          }
         }
        },
        "xaxis": {
         "range": [
          1988,
          2021
         ],
         "title": {
          "text": "Year"
         }
        },
        "yaxis": {
         "tickformat": ".0%",
         "title": {
          "text": "Risky Portfolio Weight"
         }
        }
       }
      }
     },
     "metadata": {},
     "output_type": "display_data"
    }
   ],
   "source": [
    "# Plot leverage (wgt_cal)\n",
    "fig = go.Figure()\n",
    "for model in ['est_all', 'est_cov', 'est_sds', 'ew']:\n",
    "    string =  \"Strategy: \" + label_dict[model] +\" <br>\"\n",
    "    string += \"Year: %{x:4.0f}<br>\"\n",
    "    string += \"Weight in Risky Portfolio: %{y: 0.1%} <br>\"\n",
    "    string += \"<extra></extra>\"\n",
    "\n",
    "    trace=go.Scatter(x=df['year'], y=df['wgt_cal_'+model], hovertemplate=string, name = xaxis_label_dict[model])\n",
    "    fig.add_trace(trace)\n",
    "fig.layout.yaxis[\"title\"] = \"Risky Portfolio Weight\"\n",
    "fig.layout.xaxis[\"title\"] = \"Year\"\n",
    "fig.update_yaxes(tickformat=\".0%\")\n",
    "fig.update_layout(legend=dict(yanchor=\"top\", y =0.99, xanchor=\"left\", x=0.01))\n",
    "fig.update_xaxes(range=[df['year'].iloc[window], df.year.max()])\n",
    "fig.show()"
   ]
  },
  {
   "cell_type": "code",
   "execution_count": 47,
   "metadata": {},
   "outputs": [
    {
     "data": {
      "application/vnd.plotly.v1+json": {
       "config": {
        "plotlyServerURL": "https://plot.ly"
       },
       "data": [
        {
         "hovertemplate": "Strategy: estimate all inputs <br>Year: %{x:4.0f}<br>Expected Return: %{y: 0.1%} <br><extra></extra>",
         "name": "Est-All",
         "type": "scatter",
         "x": [
          1968,
          1969,
          1970,
          1971,
          1972,
          1973,
          1974,
          1975,
          1976,
          1977,
          1978,
          1979,
          1980,
          1981,
          1982,
          1983,
          1984,
          1985,
          1986,
          1987,
          1988,
          1989,
          1990,
          1991,
          1992,
          1993,
          1994,
          1995,
          1996,
          1997,
          1998,
          1999,
          2000,
          2001,
          2002,
          2003,
          2004,
          2005,
          2006,
          2007,
          2008,
          2009,
          2010,
          2011,
          2012,
          2013,
          2014,
          2015,
          2016,
          2017,
          2018,
          2019,
          2020,
          2021
         ],
         "y": [
          null,
          null,
          null,
          null,
          null,
          null,
          null,
          null,
          null,
          null,
          null,
          null,
          null,
          null,
          null,
          null,
          null,
          null,
          null,
          null,
          0.1357203423271849,
          0.1499303638425507,
          0.1369936621803706,
          0.14445471539069454,
          0.1390183799501684,
          0.13369691782091797,
          0.13617646446967324,
          0.15895917003712356,
          0.15594888893805553,
          0.154220722723853,
          0.15499955489423659,
          0.15548788214700787,
          0.22239837827708622,
          0.18513804451238047,
          0.1501833568399177,
          0.12344742693429563,
          0.13379101594072446,
          0.14028850805191814,
          0.13143266866897985,
          0.11893666955242586,
          0.09637977809086795,
          0.08195080284083636,
          0.08204180324016441,
          0.08509881303207281,
          0.08483424050210688,
          0.08462087044685615,
          0.0770860609810982,
          0.08279708756743577,
          0.07132142207187545,
          0.07180704473461749,
          0.06926237988810849,
          0.059341645424609124,
          0.06645721227706397,
          0.06593268562877608
         ]
        },
        {
         "hovertemplate": "Strategy: estimate covariance matrix only <br>Year: %{x:4.0f}<br>Expected Return: %{y: 0.1%} <br><extra></extra>",
         "name": "Est-SD-Corr",
         "type": "scatter",
         "x": [
          1968,
          1969,
          1970,
          1971,
          1972,
          1973,
          1974,
          1975,
          1976,
          1977,
          1978,
          1979,
          1980,
          1981,
          1982,
          1983,
          1984,
          1985,
          1986,
          1987,
          1988,
          1989,
          1990,
          1991,
          1992,
          1993,
          1994,
          1995,
          1996,
          1997,
          1998,
          1999,
          2000,
          2001,
          2002,
          2003,
          2004,
          2005,
          2006,
          2007,
          2008,
          2009,
          2010,
          2011,
          2012,
          2013,
          2014,
          2015,
          2016,
          2017,
          2018,
          2019,
          2020,
          2021
         ],
         "y": [
          null,
          null,
          null,
          null,
          null,
          null,
          null,
          null,
          null,
          null,
          null,
          null,
          null,
          null,
          null,
          null,
          null,
          null,
          null,
          null,
          0.117331384745362,
          0.11558183610147524,
          0.1273412032222585,
          0.12417729689801,
          0.12402398939572834,
          0.11676367284022769,
          0.11561309479432821,
          0.10950557357432239,
          0.11644055877663975,
          0.1125609347915594,
          0.11328508081268307,
          0.1140554311526489,
          0.09706398632194917,
          0.09365971003628012,
          0.09655224770238702,
          0.08842754481371204,
          0.09306644293397151,
          0.09476648593072429,
          0.08765490016506314,
          0.08324671165577432,
          0.08610094021999237,
          0.08081445851890878,
          0.08119577010238921,
          0.08776510556941033,
          0.08637618347464632,
          0.08780672728423539,
          0.0798358606089355,
          0.08540891669717951,
          0.07398537044680628,
          0.07492024117624317,
          0.07652650538832671,
          0.0691825922504435,
          0.07672644829928049,
          0.08338150161103089
         ]
        },
        {
         "hovertemplate": "Strategy: estimate standard deviations only <br>Year: %{x:4.0f}<br>Expected Return: %{y: 0.1%} <br><extra></extra>",
         "name": "Est-SD",
         "type": "scatter",
         "x": [
          1968,
          1969,
          1970,
          1971,
          1972,
          1973,
          1974,
          1975,
          1976,
          1977,
          1978,
          1979,
          1980,
          1981,
          1982,
          1983,
          1984,
          1985,
          1986,
          1987,
          1988,
          1989,
          1990,
          1991,
          1992,
          1993,
          1994,
          1995,
          1996,
          1997,
          1998,
          1999,
          2000,
          2001,
          2002,
          2003,
          2004,
          2005,
          2006,
          2007,
          2008,
          2009,
          2010,
          2011,
          2012,
          2013,
          2014,
          2015,
          2016,
          2017,
          2018,
          2019,
          2020,
          2021
         ],
         "y": [
          null,
          null,
          null,
          null,
          null,
          null,
          null,
          null,
          null,
          null,
          null,
          null,
          null,
          null,
          null,
          null,
          null,
          null,
          null,
          null,
          0.117331384745362,
          0.11558183610147524,
          0.1273412032222585,
          0.12417729689801,
          0.12402398939572834,
          0.11676367284022769,
          0.11561309479432821,
          0.10950557357432239,
          0.11644055877663975,
          0.1125609347915594,
          0.11328508081268307,
          0.1140554311526489,
          0.09706398632194917,
          0.09365971003628012,
          0.09655224770238702,
          0.08842754481371204,
          0.09306644293397151,
          0.09476648593072429,
          0.08765490016506314,
          0.08324671165577432,
          0.08610094021999237,
          0.08081445851890878,
          0.08119577010238921,
          0.08776510556941033,
          0.08637618347464632,
          0.08780672728423539,
          0.0798358606089355,
          0.08540891669717951,
          0.07398537044680628,
          0.07492024117624317,
          0.07652650538832671,
          0.0691825922504435,
          0.07672644829928049,
          0.08338150161103089
         ]
        },
        {
         "hovertemplate": "Strategy: equal weights <br>Year: %{x:4.0f}<br>Expected Return: %{y: 0.1%} <br><extra></extra>",
         "name": "Est-None",
         "type": "scatter",
         "x": [
          1968,
          1969,
          1970,
          1971,
          1972,
          1973,
          1974,
          1975,
          1976,
          1977,
          1978,
          1979,
          1980,
          1981,
          1982,
          1983,
          1984,
          1985,
          1986,
          1987,
          1988,
          1989,
          1990,
          1991,
          1992,
          1993,
          1994,
          1995,
          1996,
          1997,
          1998,
          1999,
          2000,
          2001,
          2002,
          2003,
          2004,
          2005,
          2006,
          2007,
          2008,
          2009,
          2010,
          2011,
          2012,
          2013,
          2014,
          2015,
          2016,
          2017,
          2018,
          2019,
          2020,
          2021
         ],
         "y": [
          null,
          null,
          null,
          null,
          null,
          null,
          null,
          null,
          null,
          null,
          null,
          null,
          null,
          null,
          null,
          null,
          null,
          null,
          null,
          null,
          0.117331384745362,
          0.11558183610147524,
          0.1273412032222585,
          0.12417729689801,
          0.12402398939572834,
          0.11676367284022769,
          0.11561309479432821,
          0.10950557357432239,
          0.11644055877663975,
          0.1125609347915594,
          0.11328508081268307,
          0.1140554311526489,
          0.09706398632194917,
          0.09365971003628012,
          0.09655224770238702,
          0.08842754481371204,
          0.09306644293397151,
          0.09476648593072429,
          0.08765490016506314,
          0.08324671165577432,
          0.08610094021999237,
          0.08081445851890878,
          0.08119577010238921,
          0.08776510556941033,
          0.08637618347464632,
          0.08780672728423539,
          0.0798358606089355,
          0.08540891669717951,
          0.07398537044680628,
          0.07492024117624317,
          0.07652650538832671,
          0.0691825922504435,
          0.07672644829928049,
          0.08338150161103089
         ]
        }
       ],
       "layout": {
        "legend": {
         "x": 0.01,
         "xanchor": "left",
         "y": 0.99,
         "yanchor": "top"
        },
        "template": {
         "data": {
          "bar": [
           {
            "error_x": {
             "color": "#2a3f5f"
            },
            "error_y": {
             "color": "#2a3f5f"
            },
            "marker": {
             "line": {
              "color": "#E5ECF6",
              "width": 0.5
             },
             "pattern": {
              "fillmode": "overlay",
              "size": 10,
              "solidity": 0.2
             }
            },
            "type": "bar"
           }
          ],
          "barpolar": [
           {
            "marker": {
             "line": {
              "color": "#E5ECF6",
              "width": 0.5
             },
             "pattern": {
              "fillmode": "overlay",
              "size": 10,
              "solidity": 0.2
             }
            },
            "type": "barpolar"
           }
          ],
          "carpet": [
           {
            "aaxis": {
             "endlinecolor": "#2a3f5f",
             "gridcolor": "white",
             "linecolor": "white",
             "minorgridcolor": "white",
             "startlinecolor": "#2a3f5f"
            },
            "baxis": {
             "endlinecolor": "#2a3f5f",
             "gridcolor": "white",
             "linecolor": "white",
             "minorgridcolor": "white",
             "startlinecolor": "#2a3f5f"
            },
            "type": "carpet"
           }
          ],
          "choropleth": [
           {
            "colorbar": {
             "outlinewidth": 0,
             "ticks": ""
            },
            "type": "choropleth"
           }
          ],
          "contour": [
           {
            "colorbar": {
             "outlinewidth": 0,
             "ticks": ""
            },
            "colorscale": [
             [
              0,
              "#0d0887"
             ],
             [
              0.1111111111111111,
              "#46039f"
             ],
             [
              0.2222222222222222,
              "#7201a8"
             ],
             [
              0.3333333333333333,
              "#9c179e"
             ],
             [
              0.4444444444444444,
              "#bd3786"
             ],
             [
              0.5555555555555556,
              "#d8576b"
             ],
             [
              0.6666666666666666,
              "#ed7953"
             ],
             [
              0.7777777777777778,
              "#fb9f3a"
             ],
             [
              0.8888888888888888,
              "#fdca26"
             ],
             [
              1,
              "#f0f921"
             ]
            ],
            "type": "contour"
           }
          ],
          "contourcarpet": [
           {
            "colorbar": {
             "outlinewidth": 0,
             "ticks": ""
            },
            "type": "contourcarpet"
           }
          ],
          "heatmap": [
           {
            "colorbar": {
             "outlinewidth": 0,
             "ticks": ""
            },
            "colorscale": [
             [
              0,
              "#0d0887"
             ],
             [
              0.1111111111111111,
              "#46039f"
             ],
             [
              0.2222222222222222,
              "#7201a8"
             ],
             [
              0.3333333333333333,
              "#9c179e"
             ],
             [
              0.4444444444444444,
              "#bd3786"
             ],
             [
              0.5555555555555556,
              "#d8576b"
             ],
             [
              0.6666666666666666,
              "#ed7953"
             ],
             [
              0.7777777777777778,
              "#fb9f3a"
             ],
             [
              0.8888888888888888,
              "#fdca26"
             ],
             [
              1,
              "#f0f921"
             ]
            ],
            "type": "heatmap"
           }
          ],
          "heatmapgl": [
           {
            "colorbar": {
             "outlinewidth": 0,
             "ticks": ""
            },
            "colorscale": [
             [
              0,
              "#0d0887"
             ],
             [
              0.1111111111111111,
              "#46039f"
             ],
             [
              0.2222222222222222,
              "#7201a8"
             ],
             [
              0.3333333333333333,
              "#9c179e"
             ],
             [
              0.4444444444444444,
              "#bd3786"
             ],
             [
              0.5555555555555556,
              "#d8576b"
             ],
             [
              0.6666666666666666,
              "#ed7953"
             ],
             [
              0.7777777777777778,
              "#fb9f3a"
             ],
             [
              0.8888888888888888,
              "#fdca26"
             ],
             [
              1,
              "#f0f921"
             ]
            ],
            "type": "heatmapgl"
           }
          ],
          "histogram": [
           {
            "marker": {
             "pattern": {
              "fillmode": "overlay",
              "size": 10,
              "solidity": 0.2
             }
            },
            "type": "histogram"
           }
          ],
          "histogram2d": [
           {
            "colorbar": {
             "outlinewidth": 0,
             "ticks": ""
            },
            "colorscale": [
             [
              0,
              "#0d0887"
             ],
             [
              0.1111111111111111,
              "#46039f"
             ],
             [
              0.2222222222222222,
              "#7201a8"
             ],
             [
              0.3333333333333333,
              "#9c179e"
             ],
             [
              0.4444444444444444,
              "#bd3786"
             ],
             [
              0.5555555555555556,
              "#d8576b"
             ],
             [
              0.6666666666666666,
              "#ed7953"
             ],
             [
              0.7777777777777778,
              "#fb9f3a"
             ],
             [
              0.8888888888888888,
              "#fdca26"
             ],
             [
              1,
              "#f0f921"
             ]
            ],
            "type": "histogram2d"
           }
          ],
          "histogram2dcontour": [
           {
            "colorbar": {
             "outlinewidth": 0,
             "ticks": ""
            },
            "colorscale": [
             [
              0,
              "#0d0887"
             ],
             [
              0.1111111111111111,
              "#46039f"
             ],
             [
              0.2222222222222222,
              "#7201a8"
             ],
             [
              0.3333333333333333,
              "#9c179e"
             ],
             [
              0.4444444444444444,
              "#bd3786"
             ],
             [
              0.5555555555555556,
              "#d8576b"
             ],
             [
              0.6666666666666666,
              "#ed7953"
             ],
             [
              0.7777777777777778,
              "#fb9f3a"
             ],
             [
              0.8888888888888888,
              "#fdca26"
             ],
             [
              1,
              "#f0f921"
             ]
            ],
            "type": "histogram2dcontour"
           }
          ],
          "mesh3d": [
           {
            "colorbar": {
             "outlinewidth": 0,
             "ticks": ""
            },
            "type": "mesh3d"
           }
          ],
          "parcoords": [
           {
            "line": {
             "colorbar": {
              "outlinewidth": 0,
              "ticks": ""
             }
            },
            "type": "parcoords"
           }
          ],
          "pie": [
           {
            "automargin": true,
            "type": "pie"
           }
          ],
          "scatter": [
           {
            "fillpattern": {
             "fillmode": "overlay",
             "size": 10,
             "solidity": 0.2
            },
            "type": "scatter"
           }
          ],
          "scatter3d": [
           {
            "line": {
             "colorbar": {
              "outlinewidth": 0,
              "ticks": ""
             }
            },
            "marker": {
             "colorbar": {
              "outlinewidth": 0,
              "ticks": ""
             }
            },
            "type": "scatter3d"
           }
          ],
          "scattercarpet": [
           {
            "marker": {
             "colorbar": {
              "outlinewidth": 0,
              "ticks": ""
             }
            },
            "type": "scattercarpet"
           }
          ],
          "scattergeo": [
           {
            "marker": {
             "colorbar": {
              "outlinewidth": 0,
              "ticks": ""
             }
            },
            "type": "scattergeo"
           }
          ],
          "scattergl": [
           {
            "marker": {
             "colorbar": {
              "outlinewidth": 0,
              "ticks": ""
             }
            },
            "type": "scattergl"
           }
          ],
          "scattermapbox": [
           {
            "marker": {
             "colorbar": {
              "outlinewidth": 0,
              "ticks": ""
             }
            },
            "type": "scattermapbox"
           }
          ],
          "scatterpolar": [
           {
            "marker": {
             "colorbar": {
              "outlinewidth": 0,
              "ticks": ""
             }
            },
            "type": "scatterpolar"
           }
          ],
          "scatterpolargl": [
           {
            "marker": {
             "colorbar": {
              "outlinewidth": 0,
              "ticks": ""
             }
            },
            "type": "scatterpolargl"
           }
          ],
          "scatterternary": [
           {
            "marker": {
             "colorbar": {
              "outlinewidth": 0,
              "ticks": ""
             }
            },
            "type": "scatterternary"
           }
          ],
          "surface": [
           {
            "colorbar": {
             "outlinewidth": 0,
             "ticks": ""
            },
            "colorscale": [
             [
              0,
              "#0d0887"
             ],
             [
              0.1111111111111111,
              "#46039f"
             ],
             [
              0.2222222222222222,
              "#7201a8"
             ],
             [
              0.3333333333333333,
              "#9c179e"
             ],
             [
              0.4444444444444444,
              "#bd3786"
             ],
             [
              0.5555555555555556,
              "#d8576b"
             ],
             [
              0.6666666666666666,
              "#ed7953"
             ],
             [
              0.7777777777777778,
              "#fb9f3a"
             ],
             [
              0.8888888888888888,
              "#fdca26"
             ],
             [
              1,
              "#f0f921"
             ]
            ],
            "type": "surface"
           }
          ],
          "table": [
           {
            "cells": {
             "fill": {
              "color": "#EBF0F8"
             },
             "line": {
              "color": "white"
             }
            },
            "header": {
             "fill": {
              "color": "#C8D4E3"
             },
             "line": {
              "color": "white"
             }
            },
            "type": "table"
           }
          ]
         },
         "layout": {
          "annotationdefaults": {
           "arrowcolor": "#2a3f5f",
           "arrowhead": 0,
           "arrowwidth": 1
          },
          "autotypenumbers": "strict",
          "coloraxis": {
           "colorbar": {
            "outlinewidth": 0,
            "ticks": ""
           }
          },
          "colorscale": {
           "diverging": [
            [
             0,
             "#8e0152"
            ],
            [
             0.1,
             "#c51b7d"
            ],
            [
             0.2,
             "#de77ae"
            ],
            [
             0.3,
             "#f1b6da"
            ],
            [
             0.4,
             "#fde0ef"
            ],
            [
             0.5,
             "#f7f7f7"
            ],
            [
             0.6,
             "#e6f5d0"
            ],
            [
             0.7,
             "#b8e186"
            ],
            [
             0.8,
             "#7fbc41"
            ],
            [
             0.9,
             "#4d9221"
            ],
            [
             1,
             "#276419"
            ]
           ],
           "sequential": [
            [
             0,
             "#0d0887"
            ],
            [
             0.1111111111111111,
             "#46039f"
            ],
            [
             0.2222222222222222,
             "#7201a8"
            ],
            [
             0.3333333333333333,
             "#9c179e"
            ],
            [
             0.4444444444444444,
             "#bd3786"
            ],
            [
             0.5555555555555556,
             "#d8576b"
            ],
            [
             0.6666666666666666,
             "#ed7953"
            ],
            [
             0.7777777777777778,
             "#fb9f3a"
            ],
            [
             0.8888888888888888,
             "#fdca26"
            ],
            [
             1,
             "#f0f921"
            ]
           ],
           "sequentialminus": [
            [
             0,
             "#0d0887"
            ],
            [
             0.1111111111111111,
             "#46039f"
            ],
            [
             0.2222222222222222,
             "#7201a8"
            ],
            [
             0.3333333333333333,
             "#9c179e"
            ],
            [
             0.4444444444444444,
             "#bd3786"
            ],
            [
             0.5555555555555556,
             "#d8576b"
            ],
            [
             0.6666666666666666,
             "#ed7953"
            ],
            [
             0.7777777777777778,
             "#fb9f3a"
            ],
            [
             0.8888888888888888,
             "#fdca26"
            ],
            [
             1,
             "#f0f921"
            ]
           ]
          },
          "colorway": [
           "#636efa",
           "#EF553B",
           "#00cc96",
           "#ab63fa",
           "#FFA15A",
           "#19d3f3",
           "#FF6692",
           "#B6E880",
           "#FF97FF",
           "#FECB52"
          ],
          "font": {
           "color": "#2a3f5f"
          },
          "geo": {
           "bgcolor": "white",
           "lakecolor": "white",
           "landcolor": "#E5ECF6",
           "showlakes": true,
           "showland": true,
           "subunitcolor": "white"
          },
          "hoverlabel": {
           "align": "left"
          },
          "hovermode": "closest",
          "mapbox": {
           "style": "light"
          },
          "paper_bgcolor": "white",
          "plot_bgcolor": "#E5ECF6",
          "polar": {
           "angularaxis": {
            "gridcolor": "white",
            "linecolor": "white",
            "ticks": ""
           },
           "bgcolor": "#E5ECF6",
           "radialaxis": {
            "gridcolor": "white",
            "linecolor": "white",
            "ticks": ""
           }
          },
          "scene": {
           "xaxis": {
            "backgroundcolor": "#E5ECF6",
            "gridcolor": "white",
            "gridwidth": 2,
            "linecolor": "white",
            "showbackground": true,
            "ticks": "",
            "zerolinecolor": "white"
           },
           "yaxis": {
            "backgroundcolor": "#E5ECF6",
            "gridcolor": "white",
            "gridwidth": 2,
            "linecolor": "white",
            "showbackground": true,
            "ticks": "",
            "zerolinecolor": "white"
           },
           "zaxis": {
            "backgroundcolor": "#E5ECF6",
            "gridcolor": "white",
            "gridwidth": 2,
            "linecolor": "white",
            "showbackground": true,
            "ticks": "",
            "zerolinecolor": "white"
           }
          },
          "shapedefaults": {
           "line": {
            "color": "#2a3f5f"
           }
          },
          "ternary": {
           "aaxis": {
            "gridcolor": "white",
            "linecolor": "white",
            "ticks": ""
           },
           "baxis": {
            "gridcolor": "white",
            "linecolor": "white",
            "ticks": ""
           },
           "bgcolor": "#E5ECF6",
           "caxis": {
            "gridcolor": "white",
            "linecolor": "white",
            "ticks": ""
           }
          },
          "title": {
           "x": 0.05
          },
          "xaxis": {
           "automargin": true,
           "gridcolor": "white",
           "linecolor": "white",
           "ticks": "",
           "title": {
            "standoff": 15
           },
           "zerolinecolor": "white",
           "zerolinewidth": 2
          },
          "yaxis": {
           "automargin": true,
           "gridcolor": "white",
           "linecolor": "white",
           "ticks": "",
           "title": {
            "standoff": 15
           },
           "zerolinecolor": "white",
           "zerolinewidth": 2
          }
         }
        },
        "xaxis": {
         "range": [
          1988,
          2021
         ],
         "title": {
          "text": "Year"
         }
        },
        "yaxis": {
         "tickformat": ".0%",
         "title": {
          "text": "Expected Return"
         }
        }
       }
      }
     },
     "metadata": {},
     "output_type": "display_data"
    }
   ],
   "source": [
    "# Plot expected return (expret)\n",
    "fig = go.Figure()\n",
    "for model in ['est_all', 'est_cov', 'est_sds', 'ew']:\n",
    "    string =  \"Strategy: \" + label_dict[model] +\" <br>\"\n",
    "    string += \"Year: %{x:4.0f}<br>\"\n",
    "    string += \"Expected Return: %{y: 0.1%} <br>\"\n",
    "    string += \"<extra></extra>\"\n",
    "\n",
    "    trace=go.Scatter(x=df['year'], y=df['expret_'+model], hovertemplate=string, name = xaxis_label_dict[model])\n",
    "    fig.add_trace(trace)\n",
    "fig.layout.yaxis[\"title\"] = \"Expected Return\"\n",
    "fig.layout.xaxis[\"title\"] = \"Year\"\n",
    "fig.update_yaxes(tickformat=\".0%\")\n",
    "fig.update_layout(legend=dict(yanchor=\"top\", y =0.99, xanchor=\"left\", x=0.01))\n",
    "fig.update_xaxes(range=[df['year'].iloc[window], df.year.max()])\n",
    "fig.show()"
   ]
  },
  {
   "cell_type": "code",
   "execution_count": 102,
   "metadata": {},
   "outputs": [
    {
     "data": {
      "text/html": [
       "<div>\n",
       "<style scoped>\n",
       "    .dataframe tbody tr th:only-of-type {\n",
       "        vertical-align: middle;\n",
       "    }\n",
       "\n",
       "    .dataframe tbody tr th {\n",
       "        vertical-align: top;\n",
       "    }\n",
       "\n",
       "    .dataframe thead th {\n",
       "        text-align: right;\n",
       "    }\n",
       "</style>\n",
       "<table border=\"1\" class=\"dataframe\">\n",
       "  <thead>\n",
       "    <tr style=\"text-align: right;\">\n",
       "      <th></th>\n",
       "      <th>wgt_cal_est_all</th>\n",
       "      <th>wgt_cal_est_cov</th>\n",
       "      <th>wgt_cal_est_sds</th>\n",
       "      <th>wgt_cal_ew</th>\n",
       "    </tr>\n",
       "  </thead>\n",
       "  <tbody>\n",
       "    <tr>\n",
       "      <th>count</th>\n",
       "      <td>34.000000</td>\n",
       "      <td>34.000000</td>\n",
       "      <td>34.000000</td>\n",
       "      <td>34.000000</td>\n",
       "    </tr>\n",
       "    <tr>\n",
       "      <th>mean</th>\n",
       "      <td>1.953613</td>\n",
       "      <td>1.961716</td>\n",
       "      <td>1.990248</td>\n",
       "      <td>1.860352</td>\n",
       "    </tr>\n",
       "    <tr>\n",
       "      <th>std</th>\n",
       "      <td>0.194579</td>\n",
       "      <td>0.151018</td>\n",
       "      <td>0.056866</td>\n",
       "      <td>0.295111</td>\n",
       "    </tr>\n",
       "    <tr>\n",
       "      <th>min</th>\n",
       "      <td>1.012865</td>\n",
       "      <td>1.173961</td>\n",
       "      <td>1.668419</td>\n",
       "      <td>0.755461</td>\n",
       "    </tr>\n",
       "    <tr>\n",
       "      <th>25%</th>\n",
       "      <td>2.000000</td>\n",
       "      <td>2.000000</td>\n",
       "      <td>2.000000</td>\n",
       "      <td>1.876814</td>\n",
       "    </tr>\n",
       "    <tr>\n",
       "      <th>50%</th>\n",
       "      <td>2.000000</td>\n",
       "      <td>2.000000</td>\n",
       "      <td>2.000000</td>\n",
       "      <td>2.000000</td>\n",
       "    </tr>\n",
       "    <tr>\n",
       "      <th>75%</th>\n",
       "      <td>2.000000</td>\n",
       "      <td>2.000000</td>\n",
       "      <td>2.000000</td>\n",
       "      <td>2.000000</td>\n",
       "    </tr>\n",
       "    <tr>\n",
       "      <th>max</th>\n",
       "      <td>2.000000</td>\n",
       "      <td>2.000000</td>\n",
       "      <td>2.000000</td>\n",
       "      <td>2.000000</td>\n",
       "    </tr>\n",
       "  </tbody>\n",
       "</table>\n",
       "</div>"
      ],
      "text/plain": [
       "       wgt_cal_est_all  wgt_cal_est_cov  wgt_cal_est_sds  wgt_cal_ew\n",
       "count        34.000000        34.000000        34.000000   34.000000\n",
       "mean          1.953613         1.961716         1.990248    1.860352\n",
       "std           0.194579         0.151018         0.056866    0.295111\n",
       "min           1.012865         1.173961         1.668419    0.755461\n",
       "25%           2.000000         2.000000         2.000000    1.876814\n",
       "50%           2.000000         2.000000         2.000000    2.000000\n",
       "75%           2.000000         2.000000         2.000000    2.000000\n",
       "max           2.000000         2.000000         2.000000    2.000000"
      ]
     },
     "execution_count": 102,
     "metadata": {},
     "output_type": "execute_result"
    }
   ],
   "source": [
    "wgt_list = ['wgt_cal_' +  model for model in ['est_all', 'est_cov', 'est_sds','ew']]\n",
    "stats = df[wgt_list].describe()\n",
    "stats"
   ]
  },
  {
   "cell_type": "markdown",
   "metadata": {},
   "source": [
    "# Option 2: Match 1/N expected return"
   ]
  },
  {
   "cell_type": "code",
   "execution_count": 103,
   "metadata": {},
   "outputs": [],
   "source": [
    "# Refresh data\n",
    "df = pd.concat((nominal, gold), axis=1).dropna()\n",
    "assets = ['TBills','S&P 500', 'Gold', 'Corporates', 'Treasuries']\n",
    "df = df[assets]\n",
    "\n",
    "# Rolling input estimation\n",
    "risky = assets[1:]\n",
    "df.columns = ['rf']+['r'+str(i) for i in range(n)]\n",
    "asset_list = [str(i) for i in range(n)]\n",
    "for asset in asset_list:\n",
    "    df['mn' + asset]=df['r'+asset].rolling(window).mean()\n",
    "    df['sd' + asset]=df['r'+asset].rolling(window).std()\n",
    "\n",
    "ret_list = ['r' + asset for asset in asset_list]\n",
    "corrs = df[ret_list].rolling(window, min_periods=window).corr()\n",
    "\n",
    "corr_list = []\n",
    "for j, asset in enumerate(asset_list):\n",
    "    for k in range(j+1,n):\n",
    "        df['c'+asset+str(k)]=corrs.loc[(slice(None),'r'+asset),'r'+str(k)].values\n",
    "df['year'] = df.index\n",
    "df = df.reset_index()\n",
    "\n",
    "\n",
    "# Prepare columns for the rolling optimization output\n",
    "model_list = ['ew', 'est_all', 'est_cov', 'est_sds']\n",
    "for model in model_list:\n",
    "    df['portret_'+model] = np.nan      #portret is the realized portfolio return of the 100% risky asset portfolio\n",
    "    if model not in ['ew']:\n",
    "        for asset in asset_list:\n",
    "            df['wgt' + asset + '_' +model] = np.nan\n",
    "    df['wgt_cal_'+model] =np.nan\n",
    "    df['raver_portret_'+model] =np.nan #raver_portret_ is the realized return of the CAL choice of the raver investor\n",
    "\n",
    "mn_list = ['mn'+asset for asset in asset_list]\n",
    "sd_list = ['sd'+asset for asset in asset_list] \n",
    "\n",
    "# Choose optimal portfolios each time period\n",
    "for i in np.arange(window,window+T):\n",
    "    # Full estimation inputs at each point in time\n",
    "    means = df[mn_list].iloc[i-1].values\n",
    "    sds   = df[sd_list].iloc[i-1].values\n",
    "    C  = np.identity(n)\n",
    "    for j, asset in enumerate(asset_list):\n",
    "        for k in range(j+1,n):\n",
    "            C[j, k] = C[k, j] =    df.loc[i-1,'c'+asset+str(k)]  \n",
    "    cov = np.diag(sds) @ C @ np.diag(sds)\n",
    "\n",
    "    r = df.loc[i,'rf']\n",
    "    ##### Note: all portfolio weights considered to be beginning of period weights\n",
    "    ##### (so multiply by contemporaneous realized returns)\n",
    "    # Full estimation tangency portfolio\n",
    "    model = 'est_all'\n",
    "    wgts = tangency(means,cov,r,short_lb)\n",
    "    for j, asset in enumerate(asset_list):\n",
    "        df.loc[i,'wgt'+asset+'_' + model] = wgts[j]\n",
    "    df.loc[i,'portret_'+model] = df.loc[i,ret_list].values @ wgts\n",
    "    # df.loc[i,'wgt_cal_'+model] = (wgts @ means - r) / (raver * (wgts @ cov @ wgts))\n",
    "    # df.loc[i,'wgt_cal_'+model] = max(0,df.loc[i,'wgt_cal_'+model])\n",
    "    df.loc[i,'wgt_cal_'+model] = (means.mean() - r)/ (wgts @ means - r)\n",
    "    df.loc[i,'raver_portret_'+model] = r + df.loc[i,'wgt_cal_'+model]  * (df.loc[i,'portret_'+model] -r)\n",
    "    df.loc[i,'expret_'+model] = r + df.loc[i,'wgt_cal_'+model]  * (means @ wgts - r)\n",
    "    df.loc[i,'sd'+model] = df.loc[i,'wgt_cal_'+model] * np.sqrt(wgts @ cov @ wgts)\n",
    "\n",
    "    # Estimate only covariance matrix\n",
    "    model = 'est_cov'\n",
    "    wgts = gmv(cov,short_lb)\n",
    "    for j, asset in enumerate(asset_list):\n",
    "        df.loc[i,'wgt'+asset+'_' + model] = wgts[j]\n",
    "    df.loc[i,'portret_'+model] = df.loc[i,ret_list].values @ wgts\n",
    "    # df.loc[i,'wgt_cal_'+model] = (means.mean() - r) / (raver * (wgts @ cov @ wgts))\n",
    "    # df.loc[i,'wgt_cal_'+model] = max(0,df.loc[i,'wgt_cal_'+model])\n",
    "    df.loc[i,'wgt_cal_'+model] = 1.0\n",
    "    df.loc[i,'raver_portret_'+model] = r + df.loc[i,'wgt_cal_'+model]  * (df.loc[i,'portret_'+model] -r)\n",
    "    df.loc[i,'expret_'+model] = r + df.loc[i,'wgt_cal_'+model]  * (means.mean() - r)\n",
    "    df.loc[i,'sd'+model] = df.loc[i,'wgt_cal_'+model] *np.sqrt(wgts @ cov @ wgts)\n",
    "\n",
    "    # Estimate only standard deviations in covariance matrix\n",
    "    model = 'est_sds'\n",
    "    for j, asset in enumerate(asset_list):\n",
    "        for k in range(j+1,n):\n",
    "            cov[j, k] = cov[k, j] = 0.0\n",
    "    wgts = gmv(cov,short_lb)\n",
    "    for j, asset in enumerate(asset_list):\n",
    "        df.loc[i,'wgt'+asset+'_' + model] = wgts[j]\n",
    "    df.loc[i,'portret_'+model] = df.loc[i,ret_list].values @ wgts\n",
    "    # df.loc[i,'wgt_cal_'+model] = (means.mean() - r) / (raver * (wgts @ cov @ wgts))\t\t\n",
    "    # df.loc[i,'wgt_cal_'+model] = max(0,df.loc[i,'wgt_cal_'+model])\n",
    "    df.loc[i,'wgt_cal_'+model] = 1.0\n",
    "    df.loc[i,'raver_portret_'+model] = r + df.loc[i,'wgt_cal_'+model]  * (df.loc[i,'portret_'+model] -r)    \n",
    "    df.loc[i,'expret_'+model] = r + df.loc[i,'wgt_cal_'+model]  * (means.mean() - r)\n",
    "    df.loc[i,'sd'+model] = df.loc[i,'wgt_cal_'+model] *np.sqrt(wgts @ cov @ wgts)\n",
    "\n",
    "    # Equal-weighted portfolio\n",
    "    model = 'ew'\n",
    "    for j, asset in enumerate(asset_list):\n",
    "        cov[j,j] = (sds.mean())**2\n",
    "    wgts = (1/n)*np.ones(n)\n",
    "    df.loc[i,'portret_'+model] = df.loc[i,ret_list].values @ wgts\n",
    "    # df.loc[i,'wgt_cal_'+model] = (means.mean() - r) / (raver * (wgts @ cov @ wgts))\n",
    "    # df.loc[i,'wgt_cal_'+model] = max(0,df.loc[i,'wgt_cal_'+model])\n",
    "    df.loc[i,'wgt_cal_'+model] = 1.0\n",
    "    df.loc[i,'raver_portret_'+model] = r + df.loc[i,'wgt_cal_'+model]  * (df.loc[i,'portret_'+model] -r)   \n",
    "    df.loc[i,'expret_'+model] = r + df.loc[i,'wgt_cal_'+model]  * (means.mean() - r)\n",
    "    df.loc[i,'sd'+model] = df.loc[i,'wgt_cal_'+model] *np.sqrt(wgts @ cov @ wgts)    "
   ]
  },
  {
   "cell_type": "code",
   "execution_count": 58,
   "metadata": {},
   "outputs": [
    {
     "data": {
      "text/html": [
       "<div>\n",
       "<style scoped>\n",
       "    .dataframe tbody tr th:only-of-type {\n",
       "        vertical-align: middle;\n",
       "    }\n",
       "\n",
       "    .dataframe tbody tr th {\n",
       "        vertical-align: top;\n",
       "    }\n",
       "\n",
       "    .dataframe thead th {\n",
       "        text-align: right;\n",
       "    }\n",
       "</style>\n",
       "<table border=\"1\" class=\"dataframe\">\n",
       "  <thead>\n",
       "    <tr style=\"text-align: right;\">\n",
       "      <th></th>\n",
       "      <th>raver_portret_est_all</th>\n",
       "      <th>raver_portret_est_cov</th>\n",
       "      <th>raver_portret_est_sds</th>\n",
       "      <th>raver_portret_ew</th>\n",
       "    </tr>\n",
       "  </thead>\n",
       "  <tbody>\n",
       "    <tr>\n",
       "      <th>count</th>\n",
       "      <td>34.000000</td>\n",
       "      <td>34.000000</td>\n",
       "      <td>34.000000</td>\n",
       "      <td>34.000000</td>\n",
       "    </tr>\n",
       "    <tr>\n",
       "      <th>mean</th>\n",
       "      <td>0.076624</td>\n",
       "      <td>0.085547</td>\n",
       "      <td>0.086030</td>\n",
       "      <td>0.082503</td>\n",
       "    </tr>\n",
       "    <tr>\n",
       "      <th>std</th>\n",
       "      <td>0.065100</td>\n",
       "      <td>0.067320</td>\n",
       "      <td>0.065648</td>\n",
       "      <td>0.066292</td>\n",
       "    </tr>\n",
       "    <tr>\n",
       "      <th>min</th>\n",
       "      <td>-0.101785</td>\n",
       "      <td>-0.064754</td>\n",
       "      <td>-0.042702</td>\n",
       "      <td>-0.045274</td>\n",
       "    </tr>\n",
       "    <tr>\n",
       "      <th>25%</th>\n",
       "      <td>0.040639</td>\n",
       "      <td>0.047370</td>\n",
       "      <td>0.047921</td>\n",
       "      <td>0.040752</td>\n",
       "    </tr>\n",
       "    <tr>\n",
       "      <th>50%</th>\n",
       "      <td>0.087196</td>\n",
       "      <td>0.099889</td>\n",
       "      <td>0.086447</td>\n",
       "      <td>0.081351</td>\n",
       "    </tr>\n",
       "    <tr>\n",
       "      <th>75%</th>\n",
       "      <td>0.127263</td>\n",
       "      <td>0.123685</td>\n",
       "      <td>0.127238</td>\n",
       "      <td>0.131893</td>\n",
       "    </tr>\n",
       "    <tr>\n",
       "      <th>max</th>\n",
       "      <td>0.189141</td>\n",
       "      <td>0.217438</td>\n",
       "      <td>0.240645</td>\n",
       "      <td>0.204826</td>\n",
       "    </tr>\n",
       "  </tbody>\n",
       "</table>\n",
       "</div>"
      ],
      "text/plain": [
       "       raver_portret_est_all  raver_portret_est_cov  raver_portret_est_sds  \\\n",
       "count              34.000000              34.000000              34.000000   \n",
       "mean                0.076624               0.085547               0.086030   \n",
       "std                 0.065100               0.067320               0.065648   \n",
       "min                -0.101785              -0.064754              -0.042702   \n",
       "25%                 0.040639               0.047370               0.047921   \n",
       "50%                 0.087196               0.099889               0.086447   \n",
       "75%                 0.127263               0.123685               0.127238   \n",
       "max                 0.189141               0.217438               0.240645   \n",
       "\n",
       "       raver_portret_ew  \n",
       "count         34.000000  \n",
       "mean           0.082503  \n",
       "std            0.066292  \n",
       "min           -0.045274  \n",
       "25%            0.040752  \n",
       "50%            0.081351  \n",
       "75%            0.131893  \n",
       "max            0.204826  "
      ]
     },
     "execution_count": 58,
     "metadata": {},
     "output_type": "execute_result"
    }
   ],
   "source": [
    "portret_list = ['raver_portret_' +  model for model in ['est_all', 'est_cov', 'est_sds','ew']]\n",
    "stats = df[portret_list].describe()\n",
    "stats"
   ]
  },
  {
   "cell_type": "code",
   "execution_count": 59,
   "metadata": {},
   "outputs": [
    {
     "data": {
      "text/html": [
       "<div>\n",
       "<style scoped>\n",
       "    .dataframe tbody tr th:only-of-type {\n",
       "        vertical-align: middle;\n",
       "    }\n",
       "\n",
       "    .dataframe tbody tr th {\n",
       "        vertical-align: top;\n",
       "    }\n",
       "\n",
       "    .dataframe thead th {\n",
       "        text-align: right;\n",
       "    }\n",
       "</style>\n",
       "<table border=\"1\" class=\"dataframe\">\n",
       "  <thead>\n",
       "    <tr style=\"text-align: right;\">\n",
       "      <th></th>\n",
       "      <th>index</th>\n",
       "      <th>sr</th>\n",
       "      <th>avg_ret</th>\n",
       "      <th>sd_ret</th>\n",
       "      <th>label</th>\n",
       "      <th>xaxis_label</th>\n",
       "    </tr>\n",
       "  </thead>\n",
       "  <tbody>\n",
       "    <tr>\n",
       "      <th>0</th>\n",
       "      <td>est_all</td>\n",
       "      <td>0.745419</td>\n",
       "      <td>0.076624</td>\n",
       "      <td>0.065100</td>\n",
       "      <td>estimate all inputs</td>\n",
       "      <td>Est-All</td>\n",
       "    </tr>\n",
       "    <tr>\n",
       "      <th>1</th>\n",
       "      <td>est_cov</td>\n",
       "      <td>0.853379</td>\n",
       "      <td>0.085547</td>\n",
       "      <td>0.067320</td>\n",
       "      <td>estimate covariance matrix only</td>\n",
       "      <td>Est-SD-Corr</td>\n",
       "    </tr>\n",
       "    <tr>\n",
       "      <th>2</th>\n",
       "      <td>est_sds</td>\n",
       "      <td>0.882473</td>\n",
       "      <td>0.086030</td>\n",
       "      <td>0.065648</td>\n",
       "      <td>estimate standard deviations only</td>\n",
       "      <td>Est-SD</td>\n",
       "    </tr>\n",
       "    <tr>\n",
       "      <th>3</th>\n",
       "      <td>ew</td>\n",
       "      <td>0.820695</td>\n",
       "      <td>0.082503</td>\n",
       "      <td>0.066292</td>\n",
       "      <td>equal weights</td>\n",
       "      <td>Est-None</td>\n",
       "    </tr>\n",
       "  </tbody>\n",
       "</table>\n",
       "</div>"
      ],
      "text/plain": [
       "     index        sr   avg_ret    sd_ret                              label  \\\n",
       "0  est_all  0.745419  0.076624  0.065100                estimate all inputs   \n",
       "1  est_cov  0.853379  0.085547  0.067320    estimate covariance matrix only   \n",
       "2  est_sds  0.882473  0.086030  0.065648  estimate standard deviations only   \n",
       "3       ew  0.820695  0.082503  0.066292                      equal weights   \n",
       "\n",
       "   xaxis_label  \n",
       "0      Est-All  \n",
       "1  Est-SD-Corr  \n",
       "2       Est-SD  \n",
       "3     Est-None  "
      ]
     },
     "execution_count": 59,
     "metadata": {},
     "output_type": "execute_result"
    }
   ],
   "source": [
    "# Summarize sharpe ratio, avg ret, sd(ret) for each model\n",
    "sr_df = pd.DataFrame(dtype=float, columns = ['sr','avg_ret','sd_ret'], index = ['est_all', 'est_cov', 'est_sds','ew'])\n",
    "r = df[np.isnan(df['raver_portret_ew'])==False].rf.mean()\n",
    "for model in ['est_all', 'est_cov', 'est_sds','ew']:\n",
    "    sr_df.loc[model,'sr'] = (stats.loc['mean','raver_portret_' +  model] - r)/stats.loc['std','raver_portret_' +  model]\n",
    "    sr_df.loc[model,'avg_ret'] = stats.loc['mean','raver_portret_' +  model]\n",
    "    sr_df.loc[model,'sd_ret'] = stats.loc['std','raver_portret_' +  model]\n",
    "\n",
    "label_dict = {'true': 'theoretical optimal weights', \n",
    "            'ew': 'equal weights',\n",
    "            'est_all': 'estimate all inputs',\n",
    "            'est_cov': 'estimate covariance matrix only',\n",
    "            'est_sds': 'estimate standard deviations only'}\n",
    "\n",
    "xaxis_label_dict = {'true': 'theoretical optimal weights', \n",
    "            'ew': 'Est-None',\n",
    "            'est_all': 'Est-All',\n",
    "            'est_cov': 'Est-SD-Corr',\n",
    "            'est_sds': 'Est-SD'}\n",
    "sr_df = sr_df.reset_index()\n",
    "sr_df['label'] = sr_df['index'].apply(lambda x: label_dict[x])\n",
    "sr_df['xaxis_label'] = sr_df['index'].apply(lambda x: xaxis_label_dict[x])\n",
    "\n",
    "df[np.isnan(df['raver_portret_ew'])==False].rf\n",
    "sr_df"
   ]
  },
  {
   "cell_type": "code",
   "execution_count": 60,
   "metadata": {},
   "outputs": [
    {
     "data": {
      "application/vnd.plotly.v1+json": {
       "config": {
        "plotlyServerURL": "https://plot.ly"
       },
       "data": [
        {
         "customdata": [
          [
           "estimate all inputs",
           0.07662428469131831,
           0.06509961647010572
          ],
          [
           "estimate covariance matrix only",
           0.08554725565779803,
           0.06731997850243104
          ],
          [
           "estimate standard deviations only",
           0.08603043857221139,
           0.06564805226821793
          ],
          [
           "equal weights",
           0.08250293263513991,
           0.06629153708316948
          ]
         ],
         "hovertemplate": "Strategy: %{customdata[0]} <br>Sharpe ratio: %{y:0.3f}<br>Average return: %{customdata[1]:0.1%}<br>SD(return): %{customdata[2]:0.1%}<br><extra></extra>",
         "type": "bar",
         "x": [
          "Est-All",
          "Est-SD-Corr",
          "Est-SD",
          "Est-None"
         ],
         "y": [
          0.7454189933047461,
          0.8533790832698557,
          0.8824731648986207,
          0.8206950828314041
         ]
        }
       ],
       "layout": {
        "template": {
         "data": {
          "bar": [
           {
            "error_x": {
             "color": "#2a3f5f"
            },
            "error_y": {
             "color": "#2a3f5f"
            },
            "marker": {
             "line": {
              "color": "#E5ECF6",
              "width": 0.5
             },
             "pattern": {
              "fillmode": "overlay",
              "size": 10,
              "solidity": 0.2
             }
            },
            "type": "bar"
           }
          ],
          "barpolar": [
           {
            "marker": {
             "line": {
              "color": "#E5ECF6",
              "width": 0.5
             },
             "pattern": {
              "fillmode": "overlay",
              "size": 10,
              "solidity": 0.2
             }
            },
            "type": "barpolar"
           }
          ],
          "carpet": [
           {
            "aaxis": {
             "endlinecolor": "#2a3f5f",
             "gridcolor": "white",
             "linecolor": "white",
             "minorgridcolor": "white",
             "startlinecolor": "#2a3f5f"
            },
            "baxis": {
             "endlinecolor": "#2a3f5f",
             "gridcolor": "white",
             "linecolor": "white",
             "minorgridcolor": "white",
             "startlinecolor": "#2a3f5f"
            },
            "type": "carpet"
           }
          ],
          "choropleth": [
           {
            "colorbar": {
             "outlinewidth": 0,
             "ticks": ""
            },
            "type": "choropleth"
           }
          ],
          "contour": [
           {
            "colorbar": {
             "outlinewidth": 0,
             "ticks": ""
            },
            "colorscale": [
             [
              0,
              "#0d0887"
             ],
             [
              0.1111111111111111,
              "#46039f"
             ],
             [
              0.2222222222222222,
              "#7201a8"
             ],
             [
              0.3333333333333333,
              "#9c179e"
             ],
             [
              0.4444444444444444,
              "#bd3786"
             ],
             [
              0.5555555555555556,
              "#d8576b"
             ],
             [
              0.6666666666666666,
              "#ed7953"
             ],
             [
              0.7777777777777778,
              "#fb9f3a"
             ],
             [
              0.8888888888888888,
              "#fdca26"
             ],
             [
              1,
              "#f0f921"
             ]
            ],
            "type": "contour"
           }
          ],
          "contourcarpet": [
           {
            "colorbar": {
             "outlinewidth": 0,
             "ticks": ""
            },
            "type": "contourcarpet"
           }
          ],
          "heatmap": [
           {
            "colorbar": {
             "outlinewidth": 0,
             "ticks": ""
            },
            "colorscale": [
             [
              0,
              "#0d0887"
             ],
             [
              0.1111111111111111,
              "#46039f"
             ],
             [
              0.2222222222222222,
              "#7201a8"
             ],
             [
              0.3333333333333333,
              "#9c179e"
             ],
             [
              0.4444444444444444,
              "#bd3786"
             ],
             [
              0.5555555555555556,
              "#d8576b"
             ],
             [
              0.6666666666666666,
              "#ed7953"
             ],
             [
              0.7777777777777778,
              "#fb9f3a"
             ],
             [
              0.8888888888888888,
              "#fdca26"
             ],
             [
              1,
              "#f0f921"
             ]
            ],
            "type": "heatmap"
           }
          ],
          "heatmapgl": [
           {
            "colorbar": {
             "outlinewidth": 0,
             "ticks": ""
            },
            "colorscale": [
             [
              0,
              "#0d0887"
             ],
             [
              0.1111111111111111,
              "#46039f"
             ],
             [
              0.2222222222222222,
              "#7201a8"
             ],
             [
              0.3333333333333333,
              "#9c179e"
             ],
             [
              0.4444444444444444,
              "#bd3786"
             ],
             [
              0.5555555555555556,
              "#d8576b"
             ],
             [
              0.6666666666666666,
              "#ed7953"
             ],
             [
              0.7777777777777778,
              "#fb9f3a"
             ],
             [
              0.8888888888888888,
              "#fdca26"
             ],
             [
              1,
              "#f0f921"
             ]
            ],
            "type": "heatmapgl"
           }
          ],
          "histogram": [
           {
            "marker": {
             "pattern": {
              "fillmode": "overlay",
              "size": 10,
              "solidity": 0.2
             }
            },
            "type": "histogram"
           }
          ],
          "histogram2d": [
           {
            "colorbar": {
             "outlinewidth": 0,
             "ticks": ""
            },
            "colorscale": [
             [
              0,
              "#0d0887"
             ],
             [
              0.1111111111111111,
              "#46039f"
             ],
             [
              0.2222222222222222,
              "#7201a8"
             ],
             [
              0.3333333333333333,
              "#9c179e"
             ],
             [
              0.4444444444444444,
              "#bd3786"
             ],
             [
              0.5555555555555556,
              "#d8576b"
             ],
             [
              0.6666666666666666,
              "#ed7953"
             ],
             [
              0.7777777777777778,
              "#fb9f3a"
             ],
             [
              0.8888888888888888,
              "#fdca26"
             ],
             [
              1,
              "#f0f921"
             ]
            ],
            "type": "histogram2d"
           }
          ],
          "histogram2dcontour": [
           {
            "colorbar": {
             "outlinewidth": 0,
             "ticks": ""
            },
            "colorscale": [
             [
              0,
              "#0d0887"
             ],
             [
              0.1111111111111111,
              "#46039f"
             ],
             [
              0.2222222222222222,
              "#7201a8"
             ],
             [
              0.3333333333333333,
              "#9c179e"
             ],
             [
              0.4444444444444444,
              "#bd3786"
             ],
             [
              0.5555555555555556,
              "#d8576b"
             ],
             [
              0.6666666666666666,
              "#ed7953"
             ],
             [
              0.7777777777777778,
              "#fb9f3a"
             ],
             [
              0.8888888888888888,
              "#fdca26"
             ],
             [
              1,
              "#f0f921"
             ]
            ],
            "type": "histogram2dcontour"
           }
          ],
          "mesh3d": [
           {
            "colorbar": {
             "outlinewidth": 0,
             "ticks": ""
            },
            "type": "mesh3d"
           }
          ],
          "parcoords": [
           {
            "line": {
             "colorbar": {
              "outlinewidth": 0,
              "ticks": ""
             }
            },
            "type": "parcoords"
           }
          ],
          "pie": [
           {
            "automargin": true,
            "type": "pie"
           }
          ],
          "scatter": [
           {
            "fillpattern": {
             "fillmode": "overlay",
             "size": 10,
             "solidity": 0.2
            },
            "type": "scatter"
           }
          ],
          "scatter3d": [
           {
            "line": {
             "colorbar": {
              "outlinewidth": 0,
              "ticks": ""
             }
            },
            "marker": {
             "colorbar": {
              "outlinewidth": 0,
              "ticks": ""
             }
            },
            "type": "scatter3d"
           }
          ],
          "scattercarpet": [
           {
            "marker": {
             "colorbar": {
              "outlinewidth": 0,
              "ticks": ""
             }
            },
            "type": "scattercarpet"
           }
          ],
          "scattergeo": [
           {
            "marker": {
             "colorbar": {
              "outlinewidth": 0,
              "ticks": ""
             }
            },
            "type": "scattergeo"
           }
          ],
          "scattergl": [
           {
            "marker": {
             "colorbar": {
              "outlinewidth": 0,
              "ticks": ""
             }
            },
            "type": "scattergl"
           }
          ],
          "scattermapbox": [
           {
            "marker": {
             "colorbar": {
              "outlinewidth": 0,
              "ticks": ""
             }
            },
            "type": "scattermapbox"
           }
          ],
          "scatterpolar": [
           {
            "marker": {
             "colorbar": {
              "outlinewidth": 0,
              "ticks": ""
             }
            },
            "type": "scatterpolar"
           }
          ],
          "scatterpolargl": [
           {
            "marker": {
             "colorbar": {
              "outlinewidth": 0,
              "ticks": ""
             }
            },
            "type": "scatterpolargl"
           }
          ],
          "scatterternary": [
           {
            "marker": {
             "colorbar": {
              "outlinewidth": 0,
              "ticks": ""
             }
            },
            "type": "scatterternary"
           }
          ],
          "surface": [
           {
            "colorbar": {
             "outlinewidth": 0,
             "ticks": ""
            },
            "colorscale": [
             [
              0,
              "#0d0887"
             ],
             [
              0.1111111111111111,
              "#46039f"
             ],
             [
              0.2222222222222222,
              "#7201a8"
             ],
             [
              0.3333333333333333,
              "#9c179e"
             ],
             [
              0.4444444444444444,
              "#bd3786"
             ],
             [
              0.5555555555555556,
              "#d8576b"
             ],
             [
              0.6666666666666666,
              "#ed7953"
             ],
             [
              0.7777777777777778,
              "#fb9f3a"
             ],
             [
              0.8888888888888888,
              "#fdca26"
             ],
             [
              1,
              "#f0f921"
             ]
            ],
            "type": "surface"
           }
          ],
          "table": [
           {
            "cells": {
             "fill": {
              "color": "#EBF0F8"
             },
             "line": {
              "color": "white"
             }
            },
            "header": {
             "fill": {
              "color": "#C8D4E3"
             },
             "line": {
              "color": "white"
             }
            },
            "type": "table"
           }
          ]
         },
         "layout": {
          "annotationdefaults": {
           "arrowcolor": "#2a3f5f",
           "arrowhead": 0,
           "arrowwidth": 1
          },
          "autotypenumbers": "strict",
          "coloraxis": {
           "colorbar": {
            "outlinewidth": 0,
            "ticks": ""
           }
          },
          "colorscale": {
           "diverging": [
            [
             0,
             "#8e0152"
            ],
            [
             0.1,
             "#c51b7d"
            ],
            [
             0.2,
             "#de77ae"
            ],
            [
             0.3,
             "#f1b6da"
            ],
            [
             0.4,
             "#fde0ef"
            ],
            [
             0.5,
             "#f7f7f7"
            ],
            [
             0.6,
             "#e6f5d0"
            ],
            [
             0.7,
             "#b8e186"
            ],
            [
             0.8,
             "#7fbc41"
            ],
            [
             0.9,
             "#4d9221"
            ],
            [
             1,
             "#276419"
            ]
           ],
           "sequential": [
            [
             0,
             "#0d0887"
            ],
            [
             0.1111111111111111,
             "#46039f"
            ],
            [
             0.2222222222222222,
             "#7201a8"
            ],
            [
             0.3333333333333333,
             "#9c179e"
            ],
            [
             0.4444444444444444,
             "#bd3786"
            ],
            [
             0.5555555555555556,
             "#d8576b"
            ],
            [
             0.6666666666666666,
             "#ed7953"
            ],
            [
             0.7777777777777778,
             "#fb9f3a"
            ],
            [
             0.8888888888888888,
             "#fdca26"
            ],
            [
             1,
             "#f0f921"
            ]
           ],
           "sequentialminus": [
            [
             0,
             "#0d0887"
            ],
            [
             0.1111111111111111,
             "#46039f"
            ],
            [
             0.2222222222222222,
             "#7201a8"
            ],
            [
             0.3333333333333333,
             "#9c179e"
            ],
            [
             0.4444444444444444,
             "#bd3786"
            ],
            [
             0.5555555555555556,
             "#d8576b"
            ],
            [
             0.6666666666666666,
             "#ed7953"
            ],
            [
             0.7777777777777778,
             "#fb9f3a"
            ],
            [
             0.8888888888888888,
             "#fdca26"
            ],
            [
             1,
             "#f0f921"
            ]
           ]
          },
          "colorway": [
           "#636efa",
           "#EF553B",
           "#00cc96",
           "#ab63fa",
           "#FFA15A",
           "#19d3f3",
           "#FF6692",
           "#B6E880",
           "#FF97FF",
           "#FECB52"
          ],
          "font": {
           "color": "#2a3f5f"
          },
          "geo": {
           "bgcolor": "white",
           "lakecolor": "white",
           "landcolor": "#E5ECF6",
           "showlakes": true,
           "showland": true,
           "subunitcolor": "white"
          },
          "hoverlabel": {
           "align": "left"
          },
          "hovermode": "closest",
          "mapbox": {
           "style": "light"
          },
          "paper_bgcolor": "white",
          "plot_bgcolor": "#E5ECF6",
          "polar": {
           "angularaxis": {
            "gridcolor": "white",
            "linecolor": "white",
            "ticks": ""
           },
           "bgcolor": "#E5ECF6",
           "radialaxis": {
            "gridcolor": "white",
            "linecolor": "white",
            "ticks": ""
           }
          },
          "scene": {
           "xaxis": {
            "backgroundcolor": "#E5ECF6",
            "gridcolor": "white",
            "gridwidth": 2,
            "linecolor": "white",
            "showbackground": true,
            "ticks": "",
            "zerolinecolor": "white"
           },
           "yaxis": {
            "backgroundcolor": "#E5ECF6",
            "gridcolor": "white",
            "gridwidth": 2,
            "linecolor": "white",
            "showbackground": true,
            "ticks": "",
            "zerolinecolor": "white"
           },
           "zaxis": {
            "backgroundcolor": "#E5ECF6",
            "gridcolor": "white",
            "gridwidth": 2,
            "linecolor": "white",
            "showbackground": true,
            "ticks": "",
            "zerolinecolor": "white"
           }
          },
          "shapedefaults": {
           "line": {
            "color": "#2a3f5f"
           }
          },
          "ternary": {
           "aaxis": {
            "gridcolor": "white",
            "linecolor": "white",
            "ticks": ""
           },
           "baxis": {
            "gridcolor": "white",
            "linecolor": "white",
            "ticks": ""
           },
           "bgcolor": "#E5ECF6",
           "caxis": {
            "gridcolor": "white",
            "linecolor": "white",
            "ticks": ""
           }
          },
          "title": {
           "x": 0.05
          },
          "xaxis": {
           "automargin": true,
           "gridcolor": "white",
           "linecolor": "white",
           "ticks": "",
           "title": {
            "standoff": 15
           },
           "zerolinecolor": "white",
           "zerolinewidth": 2
          },
          "yaxis": {
           "automargin": true,
           "gridcolor": "white",
           "linecolor": "white",
           "ticks": "",
           "title": {
            "standoff": 15
           },
           "zerolinecolor": "white",
           "zerolinewidth": 2
          }
         }
        },
        "xaxis": {
         "title": {
          "text": "Strategy"
         }
        },
        "yaxis": {
         "title": {
          "text": "Sharpe ratio"
         }
        }
       }
      }
     },
     "metadata": {},
     "output_type": "display_data"
    }
   ],
   "source": [
    "import plotly.graph_objects as go\n",
    "\n",
    "string =\"Strategy: %{customdata[0]} <br>\"\n",
    "string += \"Sharpe ratio: %{y:0.3f}<br>\"\n",
    "string += \"Average return: %{customdata[1]:0.1%}<br>\"\n",
    "string += \"SD(return): %{customdata[2]:0.1%}<br>\"\n",
    "string += \"<extra></extra>\"\n",
    "\n",
    "fig = go.Figure()\n",
    "fig.add_trace(go.Bar(x=sr_df['xaxis_label'], y=sr_df['sr'], customdata=sr_df[['label','avg_ret','sd_ret']], hovertemplate=string))\n",
    "fig.layout.yaxis[\"title\"] = \"Sharpe ratio\"\n",
    "fig.layout.xaxis[\"title\"] = \"Strategy\"\n",
    "fig.show()"
   ]
  },
  {
   "cell_type": "code",
   "execution_count": 61,
   "metadata": {},
   "outputs": [
    {
     "data": {
      "application/vnd.plotly.v1+json": {
       "config": {
        "plotlyServerURL": "https://plot.ly"
       },
       "data": [
        {
         "customdata": [
          [
           null,
           null,
           null,
           null,
           null
          ],
          [
           null,
           null,
           null,
           null,
           null
          ],
          [
           null,
           null,
           null,
           null,
           null
          ],
          [
           null,
           null,
           null,
           null,
           null
          ],
          [
           null,
           null,
           null,
           null,
           null
          ],
          [
           null,
           null,
           null,
           null,
           null
          ],
          [
           null,
           null,
           null,
           null,
           null
          ],
          [
           null,
           null,
           null,
           null,
           null
          ],
          [
           null,
           null,
           null,
           null,
           null
          ],
          [
           null,
           null,
           null,
           null,
           null
          ],
          [
           null,
           null,
           null,
           null,
           null
          ],
          [
           null,
           null,
           null,
           null,
           null
          ],
          [
           null,
           null,
           null,
           null,
           null
          ],
          [
           null,
           null,
           null,
           null,
           null
          ],
          [
           null,
           null,
           null,
           null,
           null
          ],
          [
           null,
           null,
           null,
           null,
           null
          ],
          [
           null,
           null,
           null,
           null,
           null
          ],
          [
           null,
           null,
           null,
           null,
           null
          ],
          [
           null,
           null,
           null,
           null,
           null
          ],
          [
           null,
           null,
           null,
           null,
           null
          ],
          [
           0.7336683842527245,
           0.04650334305034444,
           0.2307975327400336,
           1.7355684235521682,
           -1.012869299342546
          ],
          [
           0.500847517998016,
           0.008183394382512019,
           0.2548449328451191,
           2.250633353046352,
           -1.5136616802739828
          ],
          [
           0.8444665193137646,
           0.12541391115989847,
           0.19428905846801303,
           1.3299927037158745,
           -0.6496956733437861
          ],
          [
           0.776445817559284,
           0.05775711312469818,
           0.18738684903288344,
           1.6813425017996664,
           -0.9264864639572479
          ],
          [
           0.8567894441818767,
           0.06395959255354336,
           0.17479824002742306,
           1.5244658116310599,
           -0.7632236442120262
          ],
          [
           0.836743811371416,
           0.05504559777901348,
           0.17890131899909534,
           1.6156280126733849,
           -0.8495749294514934
          ],
          [
           0.7805632905262201,
           0.06896085062994511,
           0.177553312517575,
           1.6625835382367005,
           -0.9090977013842205
          ],
          [
           0.5247550365320194,
           0.24033315685455583,
           0.1294506259968343,
           2.0212501068032784,
           -1.3910338896546688
          ],
          [
           0.6268946750180817,
           0.2697414769435068,
           0.12130156880446691,
           1.9425414159975878,
           -1.3335844617455614
          ],
          [
           0.597926578304492,
           0.3164084127472946,
           0.1129639842841793,
           1.9680198546185332,
           -1.397392251650007
          ],
          [
           0.6109917883305827,
           0.34871082487750465,
           0.10440730445145001,
           1.8866271431126245,
           -1.3397452724415793
          ],
          [
           0.6202500129933534,
           0.44808334794311216,
           0.07025444761632844,
           1.4919610766971367,
           -1.0102988722565773
          ],
          [
           0.23684414705213813,
           0.6353251170214758,
           -0.2672698284030502,
           1.944809321302809,
           -1.3128646099212344
          ],
          [
           0.3952034038277774,
           0.19590768185898952,
           -0.2458339547643879,
           1.906024402492802,
           -0.8560981295874037
          ],
          [
           0.6002402653043437,
           0.10753946555887561,
           -0.04960090238477281,
           1.7550520072546814,
           -0.8129905704287841
          ],
          [
           0.6910167444617163,
           0.008202387290251448,
           0.043696784758909854,
           1.5781575604386642,
           -0.6300567324878256
          ],
          [
           0.6608386949172372,
           -0.03065683145049642,
           -0.04884645003644659,
           1.8362383785996075,
           -0.7567350971126645
          ],
          [
           0.5816830376905993,
           -0.06192021717602614,
           -0.126900972407499,
           2.1049030591634175,
           -0.9160818695798921
          ],
          [
           0.47986398946793846,
           -0.051888568434334176,
           -0.1195704679072917,
           2.1267593246946395,
           -0.9553002883530136
          ],
          [
           0.5266793263238314,
           -0.01775938575985917,
           -0.031724620010434315,
           1.878283855456173,
           -0.8287998496858794
          ],
          [
           0.875754074190969,
           0.039359337515944406,
           0.11567017775308923,
           1.1028984107135007,
           -0.2579279259825344
          ],
          [
           0.9858752892227102,
           0.013873087312591775,
           0.13851181132981033,
           0.6292989949706739,
           0.21831610638692392
          ],
          [
           0.9895130870091006,
           0.03750917371508769,
           0.13116005227243732,
           0.5304745509662959,
           0.3008562230461791
          ],
          [
           1.03152621883474,
           0.05928027247755237,
           0.15164079351432727,
           0.47777220248574176,
           0.3113067315223786
          ],
          [
           1.0183617304596717,
           0.06302050629416199,
           0.142088333819298,
           0.48411468046299555,
           0.3107764794235445
          ],
          [
           1.0379099262877682,
           0.07304475001040332,
           0.15588082629701766,
           0.4626569173214121,
           0.30841750637116694
          ],
          [
           1.0358228454986365,
           0.1339848779599415,
           0.08445342116175378,
           0.48613314330764257,
           0.2954285575706622
          ],
          [
           1.031746236262729,
           0.13792476113093358,
           0.08506126304097056,
           0.4296270022645173,
           0.34738697356357867
          ],
          [
           1.0390915369279565,
           0.16291055056188922,
           0.02498538902902118,
           0.39067075673149315,
           0.42143330367759646
          ],
          [
           1.0498121700723853,
           0.14660459196289172,
           0.026299611979988202,
           0.4296828350933735,
           0.3974129609637466
          ],
          [
           1.145659146039544,
           0.15849220993892776,
           -0.002216703662187743,
           0.4432676489383588,
           0.40045684478490123
          ],
          [
           1.2244657272902095,
           0.19585693172417415,
           -0.01065827699369875,
           0.3455466321245669,
           0.4692547131449577
          ],
          [
           1.1566454043044985,
           0.14050057419159193,
           -0.03298848440890938,
           0.4112350997057354,
           0.481252810511582
          ],
          [
           1.2670763617678285,
           0.1250898135836733,
           -0.05653443056396962,
           0.4518381004645267,
           0.4796065165157696
          ]
         ],
         "hovertemplate": "Strategy: estimate all inputs <br>Year: %{x:4.0f}<br>Return: %{y:0.1%}<br>Weight in Risky Portfolio: %{customdata[0]: 0.1%} <br>Risky Portfolio Weights:<br>  S&P 500: %{customdata[1]: 0.1%} <br>  Gold: %{customdata[2]: 0.1%} <br>  Corporates: %{customdata[3]: 0.1%} <br>  Treasuries: %{customdata[4]: 0.1%} <br><extra></extra>",
         "name": "Est-All",
         "type": "scatter",
         "x": [
          1968,
          1969,
          1970,
          1971,
          1972,
          1973,
          1974,
          1975,
          1976,
          1977,
          1978,
          1979,
          1980,
          1981,
          1982,
          1983,
          1984,
          1985,
          1986,
          1987,
          1988,
          1989,
          1990,
          1991,
          1992,
          1993,
          1994,
          1995,
          1996,
          1997,
          1998,
          1999,
          2000,
          2001,
          2002,
          2003,
          2004,
          2005,
          2006,
          2007,
          2008,
          2009,
          2010,
          2011,
          2012,
          2013,
          2014,
          2015,
          2016,
          2017,
          2018,
          2019,
          2020,
          2021
         ],
         "y": [
          null,
          null,
          null,
          null,
          null,
          null,
          null,
          null,
          null,
          null,
          null,
          null,
          null,
          null,
          null,
          null,
          null,
          null,
          null,
          null,
          0.12818040879588807,
          0.08277913139482133,
          0.03906861140378918,
          0.13671826399903214,
          0.09810314835802028,
          0.15656252741587423,
          0.04704986693416444,
          0.11613670183399635,
          0.1000773174636036,
          0.12451046160289206,
          0.04801779058790475,
          0.13570140449111132,
          0.025946358270045655,
          0.04999274141585138,
          0.03961525114148355,
          0.1572307641835614,
          0.09840776898036362,
          0.043711474895444816,
          0.06991729603592936,
          0.0014121861400990116,
          -0.10178517324038716,
          0.16211061888254819,
          0.1105306322221968,
          0.1329984647454296,
          0.07772711051952695,
          -0.05483542196159934,
          0.10377189431667876,
          -0.006568914276970128,
          0.06727267651194002,
          0.0916137945566988,
          -0.02457669007862419,
          0.18914054644442074,
          0.13252688732758686,
          0.026159778191499863
         ]
        },
        {
         "customdata": [
          [
           null,
           null,
           null,
           null,
           null
          ],
          [
           null,
           null,
           null,
           null,
           null
          ],
          [
           null,
           null,
           null,
           null,
           null
          ],
          [
           null,
           null,
           null,
           null,
           null
          ],
          [
           null,
           null,
           null,
           null,
           null
          ],
          [
           null,
           null,
           null,
           null,
           null
          ],
          [
           null,
           null,
           null,
           null,
           null
          ],
          [
           null,
           null,
           null,
           null,
           null
          ],
          [
           null,
           null,
           null,
           null,
           null
          ],
          [
           null,
           null,
           null,
           null,
           null
          ],
          [
           null,
           null,
           null,
           null,
           null
          ],
          [
           null,
           null,
           null,
           null,
           null
          ],
          [
           null,
           null,
           null,
           null,
           null
          ],
          [
           null,
           null,
           null,
           null,
           null
          ],
          [
           null,
           null,
           null,
           null,
           null
          ],
          [
           null,
           null,
           null,
           null,
           null
          ],
          [
           null,
           null,
           null,
           null,
           null
          ],
          [
           null,
           null,
           null,
           null,
           null
          ],
          [
           null,
           null,
           null,
           null,
           null
          ],
          [
           null,
           null,
           null,
           null,
           null
          ],
          [
           1,
           0.05856624456178873,
           0.12708502805960378,
           0.8641389537355073,
           -0.049790226356899815
          ],
          [
           1,
           0.05356320808988653,
           0.1272039113435949,
           0.8684828013540781,
           -0.0492499207875595
          ],
          [
           1,
           0.07280789410325554,
           0.1380033794792532,
           0.8416290371403783,
           -0.052440310722887094
          ],
          [
           1,
           0.04998140363748379,
           0.1418932848391265,
           1.0369178724401715,
           -0.22879256091678185
          ],
          [
           1,
           0.041519248395579494,
           0.14451975534658895,
           1.0618362708610372,
           -0.24787527460320563
          ],
          [
           1,
           0.04212121096568996,
           0.15446778062402347,
           1.187787557838236,
           -0.3843765494279495
          ],
          [
           1,
           0.040180463024920315,
           0.15887911156400114,
           1.1918051492774653,
           -0.39086472386638665
          ],
          [
           1,
           0.12491953892927744,
           0.13657731089994873,
           1.4207709808403262,
           -0.6822678306695524
          ],
          [
           1,
           0.11515043516861384,
           0.1400620585509175,
           1.490552002167707,
           -0.7457644958872384
          ],
          [
           1,
           0.15355991329305838,
           0.13069127583395207,
           1.5139432384674942,
           -0.7981944275945045
          ],
          [
           1,
           0.1409107142400258,
           0.1334942251834398,
           1.5742852717536977,
           -0.8486902111771634
          ],
          [
           1,
           0.18324062471777539,
           0.11972713759243726,
           1.3422942967874785,
           -0.6452620590976911
          ],
          [
           1,
           0.17256424307998464,
           0.21739687908456554,
           1.2601726407341056,
           -0.6501337628986558
          ],
          [
           1,
           0.02940000524915434,
           0.19161233781333256,
           1.2916200044583288,
           -0.5126323475208157
          ],
          [
           1,
           0.06447499130093443,
           0.272192678151008,
           1.184317688039361,
           -0.5209853574913036
          ],
          [
           1,
           0.04826564503868958,
           0.2440020845903347,
           1.1253566844118965,
           -0.4176244140409208
          ],
          [
           1,
           0.011062216153726927,
           0.17005146496634221,
           1.1540426021174912,
           -0.33515628323756036
          ],
          [
           1,
           0.01323693914634965,
           0.17272771232769388,
           1.143291386748665,
           -0.3292560382227084
          ],
          [
           1,
           0.030034601566260005,
           0.17359605365654793,
           1.0405082419937002,
           -0.2441388972165081
          ],
          [
           1,
           0.02794433682748228,
           0.18704731009495018,
           0.9009473935729735,
           -0.1159390404954059
          ],
          [
           1,
           0.030841741336634587,
           0.18719471839887114,
           0.8624104687591327,
           -0.0804469284946385
          ],
          [
           1,
           0.01197673508399618,
           0.2027627121585457,
           0.5739628463238391,
           0.21129770643361903
          ],
          [
           1,
           0.060130869101387326,
           0.1874911348414741,
           0.37799570385965137,
           0.3743822921974873
          ],
          [
           1,
           0.0582206397361907,
           0.1732853449240795,
           0.40227853376401446,
           0.3662154815757153
          ],
          [
           1,
           0.07186169525465406,
           0.14899953480404818,
           0.4170966279545712,
           0.3620421419867265
          ],
          [
           1,
           0.07265882992977424,
           0.14911520315405705,
           0.4181012725497666,
           0.3601246943664021
          ],
          [
           1,
           0.10953010073596443,
           0.09046873411632818,
           0.4451079891316223,
           0.3548931760160851
          ],
          [
           1,
           0.11909690735309912,
           0.09656262302648279,
           0.40276265073907797,
           0.3815778188813401
          ],
          [
           1,
           0.15476654165022294,
           0.033201690836018295,
           0.35579190100421054,
           0.4562398665095482
          ],
          [
           1,
           0.14947534523365777,
           0.033994481765242675,
           0.3661454759149722,
           0.45038469708612733
          ],
          [
           1,
           0.1649988724726442,
           -0.027100325516474514,
           0.39166632942916724,
           0.4704351236146631
          ],
          [
           1,
           0.2348335863827562,
           -0.04815877413890421,
           0.2327305954357592,
           0.5805945923203888
          ],
          [
           1,
           0.16977047222684824,
           -0.06308723572871931,
           0.3328171876340637,
           0.5604995758678073
          ],
          [
           1,
           0.12900891753595878,
           -0.124696130905572,
           0.43672451621019026,
           0.5589626971594229
          ]
         ],
         "hovertemplate": "Strategy: estimate covariance matrix only <br>Year: %{x:4.0f}<br>Return: %{y:0.1%}<br>Weight in Risky Portfolio: %{customdata[0]: 0.1%} <br>Risky Portfolio Weights:<br>  S&P 500: %{customdata[1]: 0.1%} <br>  Gold: %{customdata[2]: 0.1%} <br>  Corporates: %{customdata[3]: 0.1%} <br>  Treasuries: %{customdata[4]: 0.1%} <br><extra></extra>",
         "name": "Est-SD-Corr",
         "type": "scatter",
         "x": [
          1968,
          1969,
          1970,
          1971,
          1972,
          1973,
          1974,
          1975,
          1976,
          1977,
          1978,
          1979,
          1980,
          1981,
          1982,
          1983,
          1984,
          1985,
          1986,
          1987,
          1988,
          1989,
          1990,
          1991,
          1992,
          1993,
          1994,
          1995,
          1996,
          1997,
          1998,
          1999,
          2000,
          2001,
          2002,
          2003,
          2004,
          2005,
          2006,
          2007,
          2008,
          2009,
          2010,
          2011,
          2012,
          2013,
          2014,
          2015,
          2016,
          2017,
          2018,
          2019,
          2020,
          2021
         ],
         "y": [
          null,
          null,
          null,
          null,
          null,
          null,
          null,
          null,
          null,
          null,
          null,
          null,
          null,
          null,
          null,
          null,
          null,
          null,
          null,
          null,
          0.11626149203376872,
          0.14243776833046162,
          0.042734058478102646,
          0.15226361449446682,
          0.10077229228965992,
          0.17154254974120822,
          0.012908237522650294,
          0.1741356329115889,
          0.08068766818686962,
          0.12225807248615536,
          0.03757082893611677,
          0.10426564906028704,
          -0.01990071598725754,
          0.07165077638827813,
          0.116525757404221,
          0.2174382838539935,
          0.1087132886514557,
          0.0769968627469173,
          0.1147616888417397,
          0.07716176713868818,
          -0.06475367134918117,
          0.16954300313443202,
          0.12416037169064466,
          0.13075268729656503,
          0.07287692326059239,
          -0.05529207578936411,
          0.09900541103787748,
          -0.0072976507452100275,
          0.06127670774292389,
          0.08454671061792796,
          -0.017562693256759604,
          0.15584692412518836,
          0.11351689032934151,
          0.020801580760782507
         ]
        },
        {
         "customdata": [
          [
           null,
           null,
           null,
           null,
           null
          ],
          [
           null,
           null,
           null,
           null,
           null
          ],
          [
           null,
           null,
           null,
           null,
           null
          ],
          [
           null,
           null,
           null,
           null,
           null
          ],
          [
           null,
           null,
           null,
           null,
           null
          ],
          [
           null,
           null,
           null,
           null,
           null
          ],
          [
           null,
           null,
           null,
           null,
           null
          ],
          [
           null,
           null,
           null,
           null,
           null
          ],
          [
           null,
           null,
           null,
           null,
           null
          ],
          [
           null,
           null,
           null,
           null,
           null
          ],
          [
           null,
           null,
           null,
           null,
           null
          ],
          [
           null,
           null,
           null,
           null,
           null
          ],
          [
           null,
           null,
           null,
           null,
           null
          ],
          [
           null,
           null,
           null,
           null,
           null
          ],
          [
           null,
           null,
           null,
           null,
           null
          ],
          [
           null,
           null,
           null,
           null,
           null
          ],
          [
           null,
           null,
           null,
           null,
           null
          ],
          [
           null,
           null,
           null,
           null,
           null
          ],
          [
           null,
           null,
           null,
           null,
           null
          ],
          [
           null,
           null,
           null,
           null,
           null
          ],
          [
           1,
           0.15264509241867735,
           0.027162089491821646,
           0.45503272222856594,
           0.36516009586093506
          ],
          [
           1,
           0.15160064353211283,
           0.026109404309477162,
           0.4536262075238826,
           0.36866374463452734
          ],
          [
           1,
           0.144024855214343,
           0.02538922995326411,
           0.4639929190661241,
           0.3665929957662688
          ],
          [
           1,
           0.13861435963044338,
           0.024968591880176867,
           0.4620796055446029,
           0.3743374429447768
          ],
          [
           1,
           0.13468075965267814,
           0.02502766482399723,
           0.4633702688366203,
           0.3769213066867043
          ],
          [
           1,
           0.13377312899051685,
           0.025393827122593075,
           0.4595833594855748,
           0.38124968440131524
          ],
          [
           1,
           0.1493085521064945,
           0.02808716751497279,
           0.4517863582317293,
           0.3708179221468034
          ],
          [
           1,
           0.20244526186711406,
           0.03045245047626193,
           0.4545133950110937,
           0.3125888926455303
          ],
          [
           1,
           0.209805954018741,
           0.03319465988996413,
           0.4533283408896904,
           0.30367104520160443
          ],
          [
           1,
           0.21100677395627593,
           0.033189280763728346,
           0.4560848469879017,
           0.2997190982920939
          ],
          [
           1,
           0.22198508094417943,
           0.031448913377033594,
           0.44553466020007676,
           0.3010313454787102
          ],
          [
           1,
           0.21568620240001926,
           0.031643323451939265,
           0.44828232196476225,
           0.3043881521832792
          ],
          [
           1,
           0.19100217987361892,
           0.14890095983975032,
           0.4175941458985023,
           0.24250271438812834
          ],
          [
           1,
           0.15304010855474887,
           0.14515283832332315,
           0.4626747319311155,
           0.23913232119081249
          ],
          [
           1,
           0.136031613122417,
           0.18473056864948745,
           0.44850758461635937,
           0.23073023361173614
          ],
          [
           1,
           0.08983092951891598,
           0.1410948740895733,
           0.5149328573400432,
           0.25414133905146763
          ],
          [
           1,
           0.08827376940980455,
           0.13346957945175486,
           0.5283644211135047,
           0.24989223002493585
          ],
          [
           1,
           0.08694774958811066,
           0.14771516861781145,
           0.5232231540911442,
           0.24211392770293377
          ],
          [
           1,
           0.08110861740882132,
           0.12436467252566683,
           0.5473972274647392,
           0.24712948260077264
          ],
          [
           1,
           0.0717227441422652,
           0.10446341044725808,
           0.57147702124858,
           0.2523368241618966
          ],
          [
           1,
           0.06950046426298569,
           0.09220915004675212,
           0.5648562491072411,
           0.27343413658302107
          ],
          [
           1,
           0.05709205155089358,
           0.12169450387546175,
           0.5275999790984192,
           0.29361346547522543
          ],
          [
           1,
           0.06867318548684274,
           0.12650557138417498,
           0.5150525406539365,
           0.2897687024750458
          ],
          [
           1,
           0.0705406492946058,
           0.11671217880452596,
           0.5218397098738078,
           0.2909074620270604
          ],
          [
           1,
           0.07073204211619791,
           0.11997407626222445,
           0.5341637540070061,
           0.27513012761457156
          ],
          [
           1,
           0.06971356341639467,
           0.1253784481636642,
           0.5345010396721939,
           0.27040694874774723
          ],
          [
           1,
           0.0705789923885793,
           0.10284579675366284,
           0.5616130286581663,
           0.26496218219959145
          ],
          [
           1,
           0.06557286702128767,
           0.09489652186411074,
           0.5703065797819866,
           0.2692240313326148
          ],
          [
           1,
           0.06507942957208125,
           0.08119214086301327,
           0.5645765993444078,
           0.2891518302204977
          ],
          [
           1,
           0.06656854094684535,
           0.08283991337688423,
           0.5637313869548628,
           0.2868601587214076
          ],
          [
           1,
           0.06896943413810919,
           0.09651909221154921,
           0.5546869945162823,
           0.27982447913405933
          ],
          [
           1,
           0.07611370748438157,
           0.1014113378744536,
           0.5120310284783156,
           0.31044392616284927
          ],
          [
           1,
           0.06956272277029837,
           0.09837021701503346,
           0.4909527879830848,
           0.34111427223158336
          ],
          [
           1,
           0.06991429141082474,
           0.0976140911261165,
           0.4745588250376494,
           0.35791279242540935
          ]
         ],
         "hovertemplate": "Strategy: estimate standard deviations only <br>Year: %{x:4.0f}<br>Return: %{y:0.1%}<br>Weight in Risky Portfolio: %{customdata[0]: 0.1%} <br>Risky Portfolio Weights:<br>  S&P 500: %{customdata[1]: 0.1%} <br>  Gold: %{customdata[2]: 0.1%} <br>  Corporates: %{customdata[3]: 0.1%} <br>  Treasuries: %{customdata[4]: 0.1%} <br><extra></extra>",
         "name": "Est-SD",
         "type": "scatter",
         "x": [
          1968,
          1969,
          1970,
          1971,
          1972,
          1973,
          1974,
          1975,
          1976,
          1977,
          1978,
          1979,
          1980,
          1981,
          1982,
          1983,
          1984,
          1985,
          1986,
          1987,
          1988,
          1989,
          1990,
          1991,
          1992,
          1993,
          1994,
          1995,
          1996,
          1997,
          1998,
          1999,
          2000,
          2001,
          2002,
          2003,
          2004,
          2005,
          2006,
          2007,
          2008,
          2009,
          2010,
          2011,
          2012,
          2013,
          2014,
          2015,
          2016,
          2017,
          2018,
          2019,
          2020,
          2021
         ],
         "y": [
          null,
          null,
          null,
          null,
          null,
          null,
          null,
          null,
          null,
          null,
          null,
          null,
          null,
          null,
          null,
          null,
          null,
          null,
          null,
          null,
          0.11978827332444734,
          0.18399023620931731,
          0.0463011863724391,
          0.17817358456271895,
          0.10032942735203326,
          0.14743419376189784,
          -0.034367600081128935,
          0.24064531972027914,
          0.07217832606904881,
          0.1464013170176639,
          0.1430336738875249,
          0.024076003110212036,
          0.052781215428535616,
          0.03341689172601289,
          0.10387784189214055,
          0.12677521918946144,
          0.07959040972699574,
          0.06216955670449302,
          0.08583777790508865,
          0.08069802257400793,
          0.004087321506710678,
          0.1388775547739058,
          0.11278951542087884,
          0.12739250372656036,
          0.08031752413272028,
          -0.04270198139552087,
          0.09614911497296826,
          -0.010456966092916582,
          0.07558019940446936,
          0.08705601257636522,
          -0.019391418083218967,
          0.1512581423543103,
          0.12608337573919254,
          0.004863135965572543
         ]
        },
        {
         "customdata": [
          [
           null,
           0.25,
           0.25,
           0.25,
           0.25
          ],
          [
           null,
           0.25,
           0.25,
           0.25,
           0.25
          ],
          [
           null,
           0.25,
           0.25,
           0.25,
           0.25
          ],
          [
           null,
           0.25,
           0.25,
           0.25,
           0.25
          ],
          [
           null,
           0.25,
           0.25,
           0.25,
           0.25
          ],
          [
           null,
           0.25,
           0.25,
           0.25,
           0.25
          ],
          [
           null,
           0.25,
           0.25,
           0.25,
           0.25
          ],
          [
           null,
           0.25,
           0.25,
           0.25,
           0.25
          ],
          [
           null,
           0.25,
           0.25,
           0.25,
           0.25
          ],
          [
           null,
           0.25,
           0.25,
           0.25,
           0.25
          ],
          [
           null,
           0.25,
           0.25,
           0.25,
           0.25
          ],
          [
           null,
           0.25,
           0.25,
           0.25,
           0.25
          ],
          [
           null,
           0.25,
           0.25,
           0.25,
           0.25
          ],
          [
           null,
           0.25,
           0.25,
           0.25,
           0.25
          ],
          [
           null,
           0.25,
           0.25,
           0.25,
           0.25
          ],
          [
           null,
           0.25,
           0.25,
           0.25,
           0.25
          ],
          [
           null,
           0.25,
           0.25,
           0.25,
           0.25
          ],
          [
           null,
           0.25,
           0.25,
           0.25,
           0.25
          ],
          [
           null,
           0.25,
           0.25,
           0.25,
           0.25
          ],
          [
           null,
           0.25,
           0.25,
           0.25,
           0.25
          ],
          [
           1,
           0.25,
           0.25,
           0.25,
           0.25
          ],
          [
           1,
           0.25,
           0.25,
           0.25,
           0.25
          ],
          [
           1,
           0.25,
           0.25,
           0.25,
           0.25
          ],
          [
           1,
           0.25,
           0.25,
           0.25,
           0.25
          ],
          [
           1,
           0.25,
           0.25,
           0.25,
           0.25
          ],
          [
           1,
           0.25,
           0.25,
           0.25,
           0.25
          ],
          [
           1,
           0.25,
           0.25,
           0.25,
           0.25
          ],
          [
           1,
           0.25,
           0.25,
           0.25,
           0.25
          ],
          [
           1,
           0.25,
           0.25,
           0.25,
           0.25
          ],
          [
           1,
           0.25,
           0.25,
           0.25,
           0.25
          ],
          [
           1,
           0.25,
           0.25,
           0.25,
           0.25
          ],
          [
           1,
           0.25,
           0.25,
           0.25,
           0.25
          ],
          [
           1,
           0.25,
           0.25,
           0.25,
           0.25
          ],
          [
           1,
           0.25,
           0.25,
           0.25,
           0.25
          ],
          [
           1,
           0.25,
           0.25,
           0.25,
           0.25
          ],
          [
           1,
           0.25,
           0.25,
           0.25,
           0.25
          ],
          [
           1,
           0.25,
           0.25,
           0.25,
           0.25
          ],
          [
           1,
           0.25,
           0.25,
           0.25,
           0.25
          ],
          [
           1,
           0.25,
           0.25,
           0.25,
           0.25
          ],
          [
           1,
           0.25,
           0.25,
           0.25,
           0.25
          ],
          [
           1,
           0.25,
           0.25,
           0.25,
           0.25
          ],
          [
           1,
           0.25,
           0.25,
           0.25,
           0.25
          ],
          [
           1,
           0.25,
           0.25,
           0.25,
           0.25
          ],
          [
           1,
           0.25,
           0.25,
           0.25,
           0.25
          ],
          [
           1,
           0.25,
           0.25,
           0.25,
           0.25
          ],
          [
           1,
           0.25,
           0.25,
           0.25,
           0.25
          ],
          [
           1,
           0.25,
           0.25,
           0.25,
           0.25
          ],
          [
           1,
           0.25,
           0.25,
           0.25,
           0.25
          ],
          [
           1,
           0.25,
           0.25,
           0.25,
           0.25
          ],
          [
           1,
           0.25,
           0.25,
           0.25,
           0.25
          ],
          [
           1,
           0.25,
           0.25,
           0.25,
           0.25
          ],
          [
           1,
           0.25,
           0.25,
           0.25,
           0.25
          ],
          [
           1,
           0.25,
           0.25,
           0.25,
           0.25
          ],
          [
           1,
           0.25,
           0.25,
           0.25,
           0.25
          ]
         ],
         "hovertemplate": "Strategy: equal weights <br>Year: %{x:4.0f}<br>Return: %{y:0.1%}<br>Weight in Risky Portfolio: %{customdata[0]: 0.1%} <br>Risky Portfolio Weights:<br>  S&P 500: %{customdata[1]: 0.1%} <br>  Gold: %{customdata[2]: 0.1%} <br>  Corporates: %{customdata[3]: 0.1%} <br>  Treasuries: %{customdata[4]: 0.1%} <br><extra></extra>",
         "name": "Est-None",
         "type": "scatter",
         "x": [
          1968,
          1969,
          1970,
          1971,
          1972,
          1973,
          1974,
          1975,
          1976,
          1977,
          1978,
          1979,
          1980,
          1981,
          1982,
          1983,
          1984,
          1985,
          1986,
          1987,
          1988,
          1989,
          1990,
          1991,
          1992,
          1993,
          1994,
          1995,
          1996,
          1997,
          1998,
          1999,
          2000,
          2001,
          2002,
          2003,
          2004,
          2005,
          2006,
          2007,
          2008,
          2009,
          2010,
          2011,
          2012,
          2013,
          2014,
          2015,
          2016,
          2017,
          2018,
          2019,
          2020,
          2021
         ],
         "y": [
          null,
          null,
          null,
          null,
          null,
          null,
          null,
          null,
          null,
          null,
          null,
          null,
          null,
          null,
          null,
          null,
          null,
          null,
          null,
          null,
          0.06045531998236727,
          0.15681901547922872,
          0.017043052551742266,
          0.133691180036788,
          0.058067072137864134,
          0.14489269526345416,
          -0.025290511750144032,
          0.20482559100367925,
          0.06116802682119076,
          0.08283752657293739,
          0.12649930942014598,
          0.03664278518450721,
          0.026739031580550715,
          0.007384098884458415,
          0.07322109278090937,
          0.1599977247223691,
          0.07523781450561635,
          0.07435709035362302,
          0.12135021384733108,
          0.12608067502122827,
          -0.04527431403930469,
          0.16444524714883732,
          0.1484297618921646,
          0.10591273814150792,
          0.0866779483296455,
          -0.014524638242543499,
          0.08617061001473611,
          -0.023645334003785434,
          0.07986544140992861,
          0.11496281081460835,
          -0.020378953337518477,
          0.1875199061612472,
          0.1598400978155586,
          0.05307958308982747
         ]
        }
       ],
       "layout": {
        "legend": {
         "x": 0.01,
         "xanchor": "left",
         "y": 0.99,
         "yanchor": "top"
        },
        "template": {
         "data": {
          "bar": [
           {
            "error_x": {
             "color": "#2a3f5f"
            },
            "error_y": {
             "color": "#2a3f5f"
            },
            "marker": {
             "line": {
              "color": "#E5ECF6",
              "width": 0.5
             },
             "pattern": {
              "fillmode": "overlay",
              "size": 10,
              "solidity": 0.2
             }
            },
            "type": "bar"
           }
          ],
          "barpolar": [
           {
            "marker": {
             "line": {
              "color": "#E5ECF6",
              "width": 0.5
             },
             "pattern": {
              "fillmode": "overlay",
              "size": 10,
              "solidity": 0.2
             }
            },
            "type": "barpolar"
           }
          ],
          "carpet": [
           {
            "aaxis": {
             "endlinecolor": "#2a3f5f",
             "gridcolor": "white",
             "linecolor": "white",
             "minorgridcolor": "white",
             "startlinecolor": "#2a3f5f"
            },
            "baxis": {
             "endlinecolor": "#2a3f5f",
             "gridcolor": "white",
             "linecolor": "white",
             "minorgridcolor": "white",
             "startlinecolor": "#2a3f5f"
            },
            "type": "carpet"
           }
          ],
          "choropleth": [
           {
            "colorbar": {
             "outlinewidth": 0,
             "ticks": ""
            },
            "type": "choropleth"
           }
          ],
          "contour": [
           {
            "colorbar": {
             "outlinewidth": 0,
             "ticks": ""
            },
            "colorscale": [
             [
              0,
              "#0d0887"
             ],
             [
              0.1111111111111111,
              "#46039f"
             ],
             [
              0.2222222222222222,
              "#7201a8"
             ],
             [
              0.3333333333333333,
              "#9c179e"
             ],
             [
              0.4444444444444444,
              "#bd3786"
             ],
             [
              0.5555555555555556,
              "#d8576b"
             ],
             [
              0.6666666666666666,
              "#ed7953"
             ],
             [
              0.7777777777777778,
              "#fb9f3a"
             ],
             [
              0.8888888888888888,
              "#fdca26"
             ],
             [
              1,
              "#f0f921"
             ]
            ],
            "type": "contour"
           }
          ],
          "contourcarpet": [
           {
            "colorbar": {
             "outlinewidth": 0,
             "ticks": ""
            },
            "type": "contourcarpet"
           }
          ],
          "heatmap": [
           {
            "colorbar": {
             "outlinewidth": 0,
             "ticks": ""
            },
            "colorscale": [
             [
              0,
              "#0d0887"
             ],
             [
              0.1111111111111111,
              "#46039f"
             ],
             [
              0.2222222222222222,
              "#7201a8"
             ],
             [
              0.3333333333333333,
              "#9c179e"
             ],
             [
              0.4444444444444444,
              "#bd3786"
             ],
             [
              0.5555555555555556,
              "#d8576b"
             ],
             [
              0.6666666666666666,
              "#ed7953"
             ],
             [
              0.7777777777777778,
              "#fb9f3a"
             ],
             [
              0.8888888888888888,
              "#fdca26"
             ],
             [
              1,
              "#f0f921"
             ]
            ],
            "type": "heatmap"
           }
          ],
          "heatmapgl": [
           {
            "colorbar": {
             "outlinewidth": 0,
             "ticks": ""
            },
            "colorscale": [
             [
              0,
              "#0d0887"
             ],
             [
              0.1111111111111111,
              "#46039f"
             ],
             [
              0.2222222222222222,
              "#7201a8"
             ],
             [
              0.3333333333333333,
              "#9c179e"
             ],
             [
              0.4444444444444444,
              "#bd3786"
             ],
             [
              0.5555555555555556,
              "#d8576b"
             ],
             [
              0.6666666666666666,
              "#ed7953"
             ],
             [
              0.7777777777777778,
              "#fb9f3a"
             ],
             [
              0.8888888888888888,
              "#fdca26"
             ],
             [
              1,
              "#f0f921"
             ]
            ],
            "type": "heatmapgl"
           }
          ],
          "histogram": [
           {
            "marker": {
             "pattern": {
              "fillmode": "overlay",
              "size": 10,
              "solidity": 0.2
             }
            },
            "type": "histogram"
           }
          ],
          "histogram2d": [
           {
            "colorbar": {
             "outlinewidth": 0,
             "ticks": ""
            },
            "colorscale": [
             [
              0,
              "#0d0887"
             ],
             [
              0.1111111111111111,
              "#46039f"
             ],
             [
              0.2222222222222222,
              "#7201a8"
             ],
             [
              0.3333333333333333,
              "#9c179e"
             ],
             [
              0.4444444444444444,
              "#bd3786"
             ],
             [
              0.5555555555555556,
              "#d8576b"
             ],
             [
              0.6666666666666666,
              "#ed7953"
             ],
             [
              0.7777777777777778,
              "#fb9f3a"
             ],
             [
              0.8888888888888888,
              "#fdca26"
             ],
             [
              1,
              "#f0f921"
             ]
            ],
            "type": "histogram2d"
           }
          ],
          "histogram2dcontour": [
           {
            "colorbar": {
             "outlinewidth": 0,
             "ticks": ""
            },
            "colorscale": [
             [
              0,
              "#0d0887"
             ],
             [
              0.1111111111111111,
              "#46039f"
             ],
             [
              0.2222222222222222,
              "#7201a8"
             ],
             [
              0.3333333333333333,
              "#9c179e"
             ],
             [
              0.4444444444444444,
              "#bd3786"
             ],
             [
              0.5555555555555556,
              "#d8576b"
             ],
             [
              0.6666666666666666,
              "#ed7953"
             ],
             [
              0.7777777777777778,
              "#fb9f3a"
             ],
             [
              0.8888888888888888,
              "#fdca26"
             ],
             [
              1,
              "#f0f921"
             ]
            ],
            "type": "histogram2dcontour"
           }
          ],
          "mesh3d": [
           {
            "colorbar": {
             "outlinewidth": 0,
             "ticks": ""
            },
            "type": "mesh3d"
           }
          ],
          "parcoords": [
           {
            "line": {
             "colorbar": {
              "outlinewidth": 0,
              "ticks": ""
             }
            },
            "type": "parcoords"
           }
          ],
          "pie": [
           {
            "automargin": true,
            "type": "pie"
           }
          ],
          "scatter": [
           {
            "fillpattern": {
             "fillmode": "overlay",
             "size": 10,
             "solidity": 0.2
            },
            "type": "scatter"
           }
          ],
          "scatter3d": [
           {
            "line": {
             "colorbar": {
              "outlinewidth": 0,
              "ticks": ""
             }
            },
            "marker": {
             "colorbar": {
              "outlinewidth": 0,
              "ticks": ""
             }
            },
            "type": "scatter3d"
           }
          ],
          "scattercarpet": [
           {
            "marker": {
             "colorbar": {
              "outlinewidth": 0,
              "ticks": ""
             }
            },
            "type": "scattercarpet"
           }
          ],
          "scattergeo": [
           {
            "marker": {
             "colorbar": {
              "outlinewidth": 0,
              "ticks": ""
             }
            },
            "type": "scattergeo"
           }
          ],
          "scattergl": [
           {
            "marker": {
             "colorbar": {
              "outlinewidth": 0,
              "ticks": ""
             }
            },
            "type": "scattergl"
           }
          ],
          "scattermapbox": [
           {
            "marker": {
             "colorbar": {
              "outlinewidth": 0,
              "ticks": ""
             }
            },
            "type": "scattermapbox"
           }
          ],
          "scatterpolar": [
           {
            "marker": {
             "colorbar": {
              "outlinewidth": 0,
              "ticks": ""
             }
            },
            "type": "scatterpolar"
           }
          ],
          "scatterpolargl": [
           {
            "marker": {
             "colorbar": {
              "outlinewidth": 0,
              "ticks": ""
             }
            },
            "type": "scatterpolargl"
           }
          ],
          "scatterternary": [
           {
            "marker": {
             "colorbar": {
              "outlinewidth": 0,
              "ticks": ""
             }
            },
            "type": "scatterternary"
           }
          ],
          "surface": [
           {
            "colorbar": {
             "outlinewidth": 0,
             "ticks": ""
            },
            "colorscale": [
             [
              0,
              "#0d0887"
             ],
             [
              0.1111111111111111,
              "#46039f"
             ],
             [
              0.2222222222222222,
              "#7201a8"
             ],
             [
              0.3333333333333333,
              "#9c179e"
             ],
             [
              0.4444444444444444,
              "#bd3786"
             ],
             [
              0.5555555555555556,
              "#d8576b"
             ],
             [
              0.6666666666666666,
              "#ed7953"
             ],
             [
              0.7777777777777778,
              "#fb9f3a"
             ],
             [
              0.8888888888888888,
              "#fdca26"
             ],
             [
              1,
              "#f0f921"
             ]
            ],
            "type": "surface"
           }
          ],
          "table": [
           {
            "cells": {
             "fill": {
              "color": "#EBF0F8"
             },
             "line": {
              "color": "white"
             }
            },
            "header": {
             "fill": {
              "color": "#C8D4E3"
             },
             "line": {
              "color": "white"
             }
            },
            "type": "table"
           }
          ]
         },
         "layout": {
          "annotationdefaults": {
           "arrowcolor": "#2a3f5f",
           "arrowhead": 0,
           "arrowwidth": 1
          },
          "autotypenumbers": "strict",
          "coloraxis": {
           "colorbar": {
            "outlinewidth": 0,
            "ticks": ""
           }
          },
          "colorscale": {
           "diverging": [
            [
             0,
             "#8e0152"
            ],
            [
             0.1,
             "#c51b7d"
            ],
            [
             0.2,
             "#de77ae"
            ],
            [
             0.3,
             "#f1b6da"
            ],
            [
             0.4,
             "#fde0ef"
            ],
            [
             0.5,
             "#f7f7f7"
            ],
            [
             0.6,
             "#e6f5d0"
            ],
            [
             0.7,
             "#b8e186"
            ],
            [
             0.8,
             "#7fbc41"
            ],
            [
             0.9,
             "#4d9221"
            ],
            [
             1,
             "#276419"
            ]
           ],
           "sequential": [
            [
             0,
             "#0d0887"
            ],
            [
             0.1111111111111111,
             "#46039f"
            ],
            [
             0.2222222222222222,
             "#7201a8"
            ],
            [
             0.3333333333333333,
             "#9c179e"
            ],
            [
             0.4444444444444444,
             "#bd3786"
            ],
            [
             0.5555555555555556,
             "#d8576b"
            ],
            [
             0.6666666666666666,
             "#ed7953"
            ],
            [
             0.7777777777777778,
             "#fb9f3a"
            ],
            [
             0.8888888888888888,
             "#fdca26"
            ],
            [
             1,
             "#f0f921"
            ]
           ],
           "sequentialminus": [
            [
             0,
             "#0d0887"
            ],
            [
             0.1111111111111111,
             "#46039f"
            ],
            [
             0.2222222222222222,
             "#7201a8"
            ],
            [
             0.3333333333333333,
             "#9c179e"
            ],
            [
             0.4444444444444444,
             "#bd3786"
            ],
            [
             0.5555555555555556,
             "#d8576b"
            ],
            [
             0.6666666666666666,
             "#ed7953"
            ],
            [
             0.7777777777777778,
             "#fb9f3a"
            ],
            [
             0.8888888888888888,
             "#fdca26"
            ],
            [
             1,
             "#f0f921"
            ]
           ]
          },
          "colorway": [
           "#636efa",
           "#EF553B",
           "#00cc96",
           "#ab63fa",
           "#FFA15A",
           "#19d3f3",
           "#FF6692",
           "#B6E880",
           "#FF97FF",
           "#FECB52"
          ],
          "font": {
           "color": "#2a3f5f"
          },
          "geo": {
           "bgcolor": "white",
           "lakecolor": "white",
           "landcolor": "#E5ECF6",
           "showlakes": true,
           "showland": true,
           "subunitcolor": "white"
          },
          "hoverlabel": {
           "align": "left"
          },
          "hovermode": "closest",
          "mapbox": {
           "style": "light"
          },
          "paper_bgcolor": "white",
          "plot_bgcolor": "#E5ECF6",
          "polar": {
           "angularaxis": {
            "gridcolor": "white",
            "linecolor": "white",
            "ticks": ""
           },
           "bgcolor": "#E5ECF6",
           "radialaxis": {
            "gridcolor": "white",
            "linecolor": "white",
            "ticks": ""
           }
          },
          "scene": {
           "xaxis": {
            "backgroundcolor": "#E5ECF6",
            "gridcolor": "white",
            "gridwidth": 2,
            "linecolor": "white",
            "showbackground": true,
            "ticks": "",
            "zerolinecolor": "white"
           },
           "yaxis": {
            "backgroundcolor": "#E5ECF6",
            "gridcolor": "white",
            "gridwidth": 2,
            "linecolor": "white",
            "showbackground": true,
            "ticks": "",
            "zerolinecolor": "white"
           },
           "zaxis": {
            "backgroundcolor": "#E5ECF6",
            "gridcolor": "white",
            "gridwidth": 2,
            "linecolor": "white",
            "showbackground": true,
            "ticks": "",
            "zerolinecolor": "white"
           }
          },
          "shapedefaults": {
           "line": {
            "color": "#2a3f5f"
           }
          },
          "ternary": {
           "aaxis": {
            "gridcolor": "white",
            "linecolor": "white",
            "ticks": ""
           },
           "baxis": {
            "gridcolor": "white",
            "linecolor": "white",
            "ticks": ""
           },
           "bgcolor": "#E5ECF6",
           "caxis": {
            "gridcolor": "white",
            "linecolor": "white",
            "ticks": ""
           }
          },
          "title": {
           "x": 0.05
          },
          "xaxis": {
           "automargin": true,
           "gridcolor": "white",
           "linecolor": "white",
           "ticks": "",
           "title": {
            "standoff": 15
           },
           "zerolinecolor": "white",
           "zerolinewidth": 2
          },
          "yaxis": {
           "automargin": true,
           "gridcolor": "white",
           "linecolor": "white",
           "ticks": "",
           "title": {
            "standoff": 15
           },
           "zerolinecolor": "white",
           "zerolinewidth": 2
          }
         }
        },
        "xaxis": {
         "range": [
          1988,
          2021
         ],
         "title": {
          "text": "Year"
         }
        },
        "yaxis": {
         "tickformat": ".0%",
         "title": {
          "text": "Return"
         }
        }
       }
      }
     },
     "metadata": {},
     "output_type": "display_data"
    }
   ],
   "source": [
    "# Plot the time-series of returns and portfolio weights.\n",
    "for asset in asset_list:\n",
    "    df['wgt'+asset + '_ew'] = 1/n\n",
    "label_dict = {'true': 'theoretical optimal weights', \n",
    "            'ew': 'equal weights',\n",
    "            'est_all': 'estimate all inputs',\n",
    "            'est_cov': 'estimate covariance matrix only',\n",
    "            'est_sds': 'estimate standard deviations only'}\n",
    "\n",
    "xaxis_label_dict = {'true': 'theoretical optimal weights', \n",
    "            'ew': 'Est-None',\n",
    "            'est_all': 'Est-All',\n",
    "            'est_cov': 'Est-SD-Corr',\n",
    "            'est_sds': 'Est-SD'}           \n",
    "\n",
    "fig = go.Figure()\n",
    "for model in ['est_all', 'est_cov', 'est_sds', 'ew']:\n",
    "    string =  \"Strategy: \" + label_dict[model] +\" <br>\"\n",
    "    string += \"Year: %{x:4.0f}<br>\"\n",
    "    string += \"Return: %{y:0.1%}<br>\"\n",
    "    string += \"Weight in Risky Portfolio: %{customdata[0]: 0.1%} <br>\"\n",
    "    string += \"Risky Portfolio Weights:<br>\"\n",
    "    string += \"  \"+ risky[0] +\": %{customdata[1]: 0.1%} <br>\"\n",
    "    string += \"  \"+ risky[1] +\": %{customdata[2]: 0.1%} <br>\"\n",
    "    string += \"  \"+ risky[2] +\": %{customdata[3]: 0.1%} <br>\"\n",
    "    string += \"  \"+ risky[3] +\": %{customdata[4]: 0.1%} <br>\"\n",
    "    string += \"<extra></extra>\"\n",
    "\n",
    "    wgt_list = ['wgt_cal_'+ model] + ['wgt'+asset + \"_\" + model for asset in asset_list]\n",
    "    trace=go.Scatter(x=df['year'], y=df['raver_portret_'+model], customdata=df[wgt_list], hovertemplate=string, name = xaxis_label_dict[model])\n",
    "    fig.add_trace(trace)\n",
    "fig.layout.yaxis[\"title\"] = \"Return\"\n",
    "fig.layout.xaxis[\"title\"] = \"Year\"\n",
    "fig.update_yaxes(tickformat=\".0%\")\n",
    "fig.update_layout(legend=dict(yanchor=\"top\", y =0.99, xanchor=\"left\", x=0.01))\n",
    "fig.update_xaxes(range=[df['year'].iloc[window], df.year.max()])\n",
    "fig.show()"
   ]
  },
  {
   "cell_type": "code",
   "execution_count": 62,
   "metadata": {},
   "outputs": [
    {
     "data": {
      "application/vnd.plotly.v1+json": {
       "config": {
        "plotlyServerURL": "https://plot.ly"
       },
       "data": [
        {
         "hovertemplate": "Strategy: estimate all inputs <br>Year: %{x:4.0f}<br>Weight in Risky Portfolio: %{y: 0.1%} <br><extra></extra>",
         "name": "Est-All",
         "type": "scatter",
         "x": [
          1968,
          1969,
          1970,
          1971,
          1972,
          1973,
          1974,
          1975,
          1976,
          1977,
          1978,
          1979,
          1980,
          1981,
          1982,
          1983,
          1984,
          1985,
          1986,
          1987,
          1988,
          1989,
          1990,
          1991,
          1992,
          1993,
          1994,
          1995,
          1996,
          1997,
          1998,
          1999,
          2000,
          2001,
          2002,
          2003,
          2004,
          2005,
          2006,
          2007,
          2008,
          2009,
          2010,
          2011,
          2012,
          2013,
          2014,
          2015,
          2016,
          2017,
          2018,
          2019,
          2020,
          2021
         ],
         "y": [
          null,
          null,
          null,
          null,
          null,
          null,
          null,
          null,
          null,
          null,
          null,
          null,
          null,
          null,
          null,
          null,
          null,
          null,
          null,
          null,
          0.7336683842527245,
          0.500847517998016,
          0.8444665193137646,
          0.776445817559284,
          0.8567894441818767,
          0.836743811371416,
          0.7805632905262201,
          0.5247550365320194,
          0.6268946750180817,
          0.597926578304492,
          0.6109917883305827,
          0.6202500129933534,
          0.23684414705213813,
          0.3952034038277774,
          0.6002402653043437,
          0.6910167444617163,
          0.6608386949172372,
          0.5816830376905993,
          0.47986398946793846,
          0.5266793263238314,
          0.875754074190969,
          0.9858752892227102,
          0.9895130870091006,
          1.03152621883474,
          1.0183617304596717,
          1.0379099262877682,
          1.0358228454986365,
          1.031746236262729,
          1.0390915369279565,
          1.0498121700723853,
          1.145659146039544,
          1.2244657272902095,
          1.1566454043044985,
          1.2670763617678285
         ]
        },
        {
         "hovertemplate": "Strategy: estimate covariance matrix only <br>Year: %{x:4.0f}<br>Weight in Risky Portfolio: %{y: 0.1%} <br><extra></extra>",
         "name": "Est-SD-Corr",
         "type": "scatter",
         "x": [
          1968,
          1969,
          1970,
          1971,
          1972,
          1973,
          1974,
          1975,
          1976,
          1977,
          1978,
          1979,
          1980,
          1981,
          1982,
          1983,
          1984,
          1985,
          1986,
          1987,
          1988,
          1989,
          1990,
          1991,
          1992,
          1993,
          1994,
          1995,
          1996,
          1997,
          1998,
          1999,
          2000,
          2001,
          2002,
          2003,
          2004,
          2005,
          2006,
          2007,
          2008,
          2009,
          2010,
          2011,
          2012,
          2013,
          2014,
          2015,
          2016,
          2017,
          2018,
          2019,
          2020,
          2021
         ],
         "y": [
          null,
          null,
          null,
          null,
          null,
          null,
          null,
          null,
          null,
          null,
          null,
          null,
          null,
          null,
          null,
          null,
          null,
          null,
          null,
          null,
          1,
          1,
          1,
          1,
          1,
          1,
          1,
          1,
          1,
          1,
          1,
          1,
          1,
          1,
          1,
          1,
          1,
          1,
          1,
          1,
          1,
          1,
          1,
          1,
          1,
          1,
          1,
          1,
          1,
          1,
          1,
          1,
          1,
          1
         ]
        },
        {
         "hovertemplate": "Strategy: estimate standard deviations only <br>Year: %{x:4.0f}<br>Weight in Risky Portfolio: %{y: 0.1%} <br><extra></extra>",
         "name": "Est-SD",
         "type": "scatter",
         "x": [
          1968,
          1969,
          1970,
          1971,
          1972,
          1973,
          1974,
          1975,
          1976,
          1977,
          1978,
          1979,
          1980,
          1981,
          1982,
          1983,
          1984,
          1985,
          1986,
          1987,
          1988,
          1989,
          1990,
          1991,
          1992,
          1993,
          1994,
          1995,
          1996,
          1997,
          1998,
          1999,
          2000,
          2001,
          2002,
          2003,
          2004,
          2005,
          2006,
          2007,
          2008,
          2009,
          2010,
          2011,
          2012,
          2013,
          2014,
          2015,
          2016,
          2017,
          2018,
          2019,
          2020,
          2021
         ],
         "y": [
          null,
          null,
          null,
          null,
          null,
          null,
          null,
          null,
          null,
          null,
          null,
          null,
          null,
          null,
          null,
          null,
          null,
          null,
          null,
          null,
          1,
          1,
          1,
          1,
          1,
          1,
          1,
          1,
          1,
          1,
          1,
          1,
          1,
          1,
          1,
          1,
          1,
          1,
          1,
          1,
          1,
          1,
          1,
          1,
          1,
          1,
          1,
          1,
          1,
          1,
          1,
          1,
          1,
          1
         ]
        },
        {
         "hovertemplate": "Strategy: equal weights <br>Year: %{x:4.0f}<br>Weight in Risky Portfolio: %{y: 0.1%} <br><extra></extra>",
         "name": "Est-None",
         "type": "scatter",
         "x": [
          1968,
          1969,
          1970,
          1971,
          1972,
          1973,
          1974,
          1975,
          1976,
          1977,
          1978,
          1979,
          1980,
          1981,
          1982,
          1983,
          1984,
          1985,
          1986,
          1987,
          1988,
          1989,
          1990,
          1991,
          1992,
          1993,
          1994,
          1995,
          1996,
          1997,
          1998,
          1999,
          2000,
          2001,
          2002,
          2003,
          2004,
          2005,
          2006,
          2007,
          2008,
          2009,
          2010,
          2011,
          2012,
          2013,
          2014,
          2015,
          2016,
          2017,
          2018,
          2019,
          2020,
          2021
         ],
         "y": [
          null,
          null,
          null,
          null,
          null,
          null,
          null,
          null,
          null,
          null,
          null,
          null,
          null,
          null,
          null,
          null,
          null,
          null,
          null,
          null,
          1,
          1,
          1,
          1,
          1,
          1,
          1,
          1,
          1,
          1,
          1,
          1,
          1,
          1,
          1,
          1,
          1,
          1,
          1,
          1,
          1,
          1,
          1,
          1,
          1,
          1,
          1,
          1,
          1,
          1,
          1,
          1,
          1,
          1
         ]
        }
       ],
       "layout": {
        "legend": {
         "x": 0.01,
         "xanchor": "left",
         "y": 0.99,
         "yanchor": "top"
        },
        "template": {
         "data": {
          "bar": [
           {
            "error_x": {
             "color": "#2a3f5f"
            },
            "error_y": {
             "color": "#2a3f5f"
            },
            "marker": {
             "line": {
              "color": "#E5ECF6",
              "width": 0.5
             },
             "pattern": {
              "fillmode": "overlay",
              "size": 10,
              "solidity": 0.2
             }
            },
            "type": "bar"
           }
          ],
          "barpolar": [
           {
            "marker": {
             "line": {
              "color": "#E5ECF6",
              "width": 0.5
             },
             "pattern": {
              "fillmode": "overlay",
              "size": 10,
              "solidity": 0.2
             }
            },
            "type": "barpolar"
           }
          ],
          "carpet": [
           {
            "aaxis": {
             "endlinecolor": "#2a3f5f",
             "gridcolor": "white",
             "linecolor": "white",
             "minorgridcolor": "white",
             "startlinecolor": "#2a3f5f"
            },
            "baxis": {
             "endlinecolor": "#2a3f5f",
             "gridcolor": "white",
             "linecolor": "white",
             "minorgridcolor": "white",
             "startlinecolor": "#2a3f5f"
            },
            "type": "carpet"
           }
          ],
          "choropleth": [
           {
            "colorbar": {
             "outlinewidth": 0,
             "ticks": ""
            },
            "type": "choropleth"
           }
          ],
          "contour": [
           {
            "colorbar": {
             "outlinewidth": 0,
             "ticks": ""
            },
            "colorscale": [
             [
              0,
              "#0d0887"
             ],
             [
              0.1111111111111111,
              "#46039f"
             ],
             [
              0.2222222222222222,
              "#7201a8"
             ],
             [
              0.3333333333333333,
              "#9c179e"
             ],
             [
              0.4444444444444444,
              "#bd3786"
             ],
             [
              0.5555555555555556,
              "#d8576b"
             ],
             [
              0.6666666666666666,
              "#ed7953"
             ],
             [
              0.7777777777777778,
              "#fb9f3a"
             ],
             [
              0.8888888888888888,
              "#fdca26"
             ],
             [
              1,
              "#f0f921"
             ]
            ],
            "type": "contour"
           }
          ],
          "contourcarpet": [
           {
            "colorbar": {
             "outlinewidth": 0,
             "ticks": ""
            },
            "type": "contourcarpet"
           }
          ],
          "heatmap": [
           {
            "colorbar": {
             "outlinewidth": 0,
             "ticks": ""
            },
            "colorscale": [
             [
              0,
              "#0d0887"
             ],
             [
              0.1111111111111111,
              "#46039f"
             ],
             [
              0.2222222222222222,
              "#7201a8"
             ],
             [
              0.3333333333333333,
              "#9c179e"
             ],
             [
              0.4444444444444444,
              "#bd3786"
             ],
             [
              0.5555555555555556,
              "#d8576b"
             ],
             [
              0.6666666666666666,
              "#ed7953"
             ],
             [
              0.7777777777777778,
              "#fb9f3a"
             ],
             [
              0.8888888888888888,
              "#fdca26"
             ],
             [
              1,
              "#f0f921"
             ]
            ],
            "type": "heatmap"
           }
          ],
          "heatmapgl": [
           {
            "colorbar": {
             "outlinewidth": 0,
             "ticks": ""
            },
            "colorscale": [
             [
              0,
              "#0d0887"
             ],
             [
              0.1111111111111111,
              "#46039f"
             ],
             [
              0.2222222222222222,
              "#7201a8"
             ],
             [
              0.3333333333333333,
              "#9c179e"
             ],
             [
              0.4444444444444444,
              "#bd3786"
             ],
             [
              0.5555555555555556,
              "#d8576b"
             ],
             [
              0.6666666666666666,
              "#ed7953"
             ],
             [
              0.7777777777777778,
              "#fb9f3a"
             ],
             [
              0.8888888888888888,
              "#fdca26"
             ],
             [
              1,
              "#f0f921"
             ]
            ],
            "type": "heatmapgl"
           }
          ],
          "histogram": [
           {
            "marker": {
             "pattern": {
              "fillmode": "overlay",
              "size": 10,
              "solidity": 0.2
             }
            },
            "type": "histogram"
           }
          ],
          "histogram2d": [
           {
            "colorbar": {
             "outlinewidth": 0,
             "ticks": ""
            },
            "colorscale": [
             [
              0,
              "#0d0887"
             ],
             [
              0.1111111111111111,
              "#46039f"
             ],
             [
              0.2222222222222222,
              "#7201a8"
             ],
             [
              0.3333333333333333,
              "#9c179e"
             ],
             [
              0.4444444444444444,
              "#bd3786"
             ],
             [
              0.5555555555555556,
              "#d8576b"
             ],
             [
              0.6666666666666666,
              "#ed7953"
             ],
             [
              0.7777777777777778,
              "#fb9f3a"
             ],
             [
              0.8888888888888888,
              "#fdca26"
             ],
             [
              1,
              "#f0f921"
             ]
            ],
            "type": "histogram2d"
           }
          ],
          "histogram2dcontour": [
           {
            "colorbar": {
             "outlinewidth": 0,
             "ticks": ""
            },
            "colorscale": [
             [
              0,
              "#0d0887"
             ],
             [
              0.1111111111111111,
              "#46039f"
             ],
             [
              0.2222222222222222,
              "#7201a8"
             ],
             [
              0.3333333333333333,
              "#9c179e"
             ],
             [
              0.4444444444444444,
              "#bd3786"
             ],
             [
              0.5555555555555556,
              "#d8576b"
             ],
             [
              0.6666666666666666,
              "#ed7953"
             ],
             [
              0.7777777777777778,
              "#fb9f3a"
             ],
             [
              0.8888888888888888,
              "#fdca26"
             ],
             [
              1,
              "#f0f921"
             ]
            ],
            "type": "histogram2dcontour"
           }
          ],
          "mesh3d": [
           {
            "colorbar": {
             "outlinewidth": 0,
             "ticks": ""
            },
            "type": "mesh3d"
           }
          ],
          "parcoords": [
           {
            "line": {
             "colorbar": {
              "outlinewidth": 0,
              "ticks": ""
             }
            },
            "type": "parcoords"
           }
          ],
          "pie": [
           {
            "automargin": true,
            "type": "pie"
           }
          ],
          "scatter": [
           {
            "fillpattern": {
             "fillmode": "overlay",
             "size": 10,
             "solidity": 0.2
            },
            "type": "scatter"
           }
          ],
          "scatter3d": [
           {
            "line": {
             "colorbar": {
              "outlinewidth": 0,
              "ticks": ""
             }
            },
            "marker": {
             "colorbar": {
              "outlinewidth": 0,
              "ticks": ""
             }
            },
            "type": "scatter3d"
           }
          ],
          "scattercarpet": [
           {
            "marker": {
             "colorbar": {
              "outlinewidth": 0,
              "ticks": ""
             }
            },
            "type": "scattercarpet"
           }
          ],
          "scattergeo": [
           {
            "marker": {
             "colorbar": {
              "outlinewidth": 0,
              "ticks": ""
             }
            },
            "type": "scattergeo"
           }
          ],
          "scattergl": [
           {
            "marker": {
             "colorbar": {
              "outlinewidth": 0,
              "ticks": ""
             }
            },
            "type": "scattergl"
           }
          ],
          "scattermapbox": [
           {
            "marker": {
             "colorbar": {
              "outlinewidth": 0,
              "ticks": ""
             }
            },
            "type": "scattermapbox"
           }
          ],
          "scatterpolar": [
           {
            "marker": {
             "colorbar": {
              "outlinewidth": 0,
              "ticks": ""
             }
            },
            "type": "scatterpolar"
           }
          ],
          "scatterpolargl": [
           {
            "marker": {
             "colorbar": {
              "outlinewidth": 0,
              "ticks": ""
             }
            },
            "type": "scatterpolargl"
           }
          ],
          "scatterternary": [
           {
            "marker": {
             "colorbar": {
              "outlinewidth": 0,
              "ticks": ""
             }
            },
            "type": "scatterternary"
           }
          ],
          "surface": [
           {
            "colorbar": {
             "outlinewidth": 0,
             "ticks": ""
            },
            "colorscale": [
             [
              0,
              "#0d0887"
             ],
             [
              0.1111111111111111,
              "#46039f"
             ],
             [
              0.2222222222222222,
              "#7201a8"
             ],
             [
              0.3333333333333333,
              "#9c179e"
             ],
             [
              0.4444444444444444,
              "#bd3786"
             ],
             [
              0.5555555555555556,
              "#d8576b"
             ],
             [
              0.6666666666666666,
              "#ed7953"
             ],
             [
              0.7777777777777778,
              "#fb9f3a"
             ],
             [
              0.8888888888888888,
              "#fdca26"
             ],
             [
              1,
              "#f0f921"
             ]
            ],
            "type": "surface"
           }
          ],
          "table": [
           {
            "cells": {
             "fill": {
              "color": "#EBF0F8"
             },
             "line": {
              "color": "white"
             }
            },
            "header": {
             "fill": {
              "color": "#C8D4E3"
             },
             "line": {
              "color": "white"
             }
            },
            "type": "table"
           }
          ]
         },
         "layout": {
          "annotationdefaults": {
           "arrowcolor": "#2a3f5f",
           "arrowhead": 0,
           "arrowwidth": 1
          },
          "autotypenumbers": "strict",
          "coloraxis": {
           "colorbar": {
            "outlinewidth": 0,
            "ticks": ""
           }
          },
          "colorscale": {
           "diverging": [
            [
             0,
             "#8e0152"
            ],
            [
             0.1,
             "#c51b7d"
            ],
            [
             0.2,
             "#de77ae"
            ],
            [
             0.3,
             "#f1b6da"
            ],
            [
             0.4,
             "#fde0ef"
            ],
            [
             0.5,
             "#f7f7f7"
            ],
            [
             0.6,
             "#e6f5d0"
            ],
            [
             0.7,
             "#b8e186"
            ],
            [
             0.8,
             "#7fbc41"
            ],
            [
             0.9,
             "#4d9221"
            ],
            [
             1,
             "#276419"
            ]
           ],
           "sequential": [
            [
             0,
             "#0d0887"
            ],
            [
             0.1111111111111111,
             "#46039f"
            ],
            [
             0.2222222222222222,
             "#7201a8"
            ],
            [
             0.3333333333333333,
             "#9c179e"
            ],
            [
             0.4444444444444444,
             "#bd3786"
            ],
            [
             0.5555555555555556,
             "#d8576b"
            ],
            [
             0.6666666666666666,
             "#ed7953"
            ],
            [
             0.7777777777777778,
             "#fb9f3a"
            ],
            [
             0.8888888888888888,
             "#fdca26"
            ],
            [
             1,
             "#f0f921"
            ]
           ],
           "sequentialminus": [
            [
             0,
             "#0d0887"
            ],
            [
             0.1111111111111111,
             "#46039f"
            ],
            [
             0.2222222222222222,
             "#7201a8"
            ],
            [
             0.3333333333333333,
             "#9c179e"
            ],
            [
             0.4444444444444444,
             "#bd3786"
            ],
            [
             0.5555555555555556,
             "#d8576b"
            ],
            [
             0.6666666666666666,
             "#ed7953"
            ],
            [
             0.7777777777777778,
             "#fb9f3a"
            ],
            [
             0.8888888888888888,
             "#fdca26"
            ],
            [
             1,
             "#f0f921"
            ]
           ]
          },
          "colorway": [
           "#636efa",
           "#EF553B",
           "#00cc96",
           "#ab63fa",
           "#FFA15A",
           "#19d3f3",
           "#FF6692",
           "#B6E880",
           "#FF97FF",
           "#FECB52"
          ],
          "font": {
           "color": "#2a3f5f"
          },
          "geo": {
           "bgcolor": "white",
           "lakecolor": "white",
           "landcolor": "#E5ECF6",
           "showlakes": true,
           "showland": true,
           "subunitcolor": "white"
          },
          "hoverlabel": {
           "align": "left"
          },
          "hovermode": "closest",
          "mapbox": {
           "style": "light"
          },
          "paper_bgcolor": "white",
          "plot_bgcolor": "#E5ECF6",
          "polar": {
           "angularaxis": {
            "gridcolor": "white",
            "linecolor": "white",
            "ticks": ""
           },
           "bgcolor": "#E5ECF6",
           "radialaxis": {
            "gridcolor": "white",
            "linecolor": "white",
            "ticks": ""
           }
          },
          "scene": {
           "xaxis": {
            "backgroundcolor": "#E5ECF6",
            "gridcolor": "white",
            "gridwidth": 2,
            "linecolor": "white",
            "showbackground": true,
            "ticks": "",
            "zerolinecolor": "white"
           },
           "yaxis": {
            "backgroundcolor": "#E5ECF6",
            "gridcolor": "white",
            "gridwidth": 2,
            "linecolor": "white",
            "showbackground": true,
            "ticks": "",
            "zerolinecolor": "white"
           },
           "zaxis": {
            "backgroundcolor": "#E5ECF6",
            "gridcolor": "white",
            "gridwidth": 2,
            "linecolor": "white",
            "showbackground": true,
            "ticks": "",
            "zerolinecolor": "white"
           }
          },
          "shapedefaults": {
           "line": {
            "color": "#2a3f5f"
           }
          },
          "ternary": {
           "aaxis": {
            "gridcolor": "white",
            "linecolor": "white",
            "ticks": ""
           },
           "baxis": {
            "gridcolor": "white",
            "linecolor": "white",
            "ticks": ""
           },
           "bgcolor": "#E5ECF6",
           "caxis": {
            "gridcolor": "white",
            "linecolor": "white",
            "ticks": ""
           }
          },
          "title": {
           "x": 0.05
          },
          "xaxis": {
           "automargin": true,
           "gridcolor": "white",
           "linecolor": "white",
           "ticks": "",
           "title": {
            "standoff": 15
           },
           "zerolinecolor": "white",
           "zerolinewidth": 2
          },
          "yaxis": {
           "automargin": true,
           "gridcolor": "white",
           "linecolor": "white",
           "ticks": "",
           "title": {
            "standoff": 15
           },
           "zerolinecolor": "white",
           "zerolinewidth": 2
          }
         }
        },
        "xaxis": {
         "range": [
          1988,
          2021
         ],
         "title": {
          "text": "Year"
         }
        },
        "yaxis": {
         "tickformat": ".0%",
         "title": {
          "text": "Risky Portfolio Weight"
         }
        }
       }
      }
     },
     "metadata": {},
     "output_type": "display_data"
    }
   ],
   "source": [
    "# Plot leverage (wgt_cal)\n",
    "fig = go.Figure()\n",
    "for model in ['est_all', 'est_cov', 'est_sds', 'ew']:\n",
    "    string =  \"Strategy: \" + label_dict[model] +\" <br>\"\n",
    "    string += \"Year: %{x:4.0f}<br>\"\n",
    "    string += \"Weight in Risky Portfolio: %{y: 0.1%} <br>\"\n",
    "    string += \"<extra></extra>\"\n",
    "\n",
    "    trace=go.Scatter(x=df['year'], y=df['wgt_cal_'+model], hovertemplate=string, name = xaxis_label_dict[model])\n",
    "    fig.add_trace(trace)\n",
    "fig.layout.yaxis[\"title\"] = \"Risky Portfolio Weight\"\n",
    "fig.layout.xaxis[\"title\"] = \"Year\"\n",
    "fig.update_yaxes(tickformat=\".0%\")\n",
    "fig.update_layout(legend=dict(yanchor=\"top\", y =0.99, xanchor=\"left\", x=0.01))\n",
    "fig.update_xaxes(range=[df['year'].iloc[window], df.year.max()])\n",
    "fig.show()"
   ]
  },
  {
   "cell_type": "code",
   "execution_count": 63,
   "metadata": {},
   "outputs": [
    {
     "data": {
      "application/vnd.plotly.v1+json": {
       "config": {
        "plotlyServerURL": "https://plot.ly"
       },
       "data": [
        {
         "hovertemplate": "Strategy: estimate all inputs <br>Year: %{x:4.0f}<br>Expected Return: %{y: 0.1%} <br><extra></extra>",
         "name": "Est-All",
         "type": "scatter",
         "x": [
          1968,
          1969,
          1970,
          1971,
          1972,
          1973,
          1974,
          1975,
          1976,
          1977,
          1978,
          1979,
          1980,
          1981,
          1982,
          1983,
          1984,
          1985,
          1986,
          1987,
          1988,
          1989,
          1990,
          1991,
          1992,
          1993,
          1994,
          1995,
          1996,
          1997,
          1998,
          1999,
          2000,
          2001,
          2002,
          2003,
          2004,
          2005,
          2006,
          2007,
          2008,
          2009,
          2010,
          2011,
          2012,
          2013,
          2014,
          2015,
          2016,
          2017,
          2018,
          2019,
          2020,
          2021
         ],
         "y": [
          null,
          null,
          null,
          null,
          null,
          null,
          null,
          null,
          null,
          null,
          null,
          null,
          null,
          null,
          null,
          null,
          null,
          null,
          null,
          null,
          0.117331384745362,
          0.11558183610147524,
          0.1273412032222585,
          0.12417729689800999,
          0.12402398939572834,
          0.11676367284022769,
          0.11561309479432821,
          0.10950557357432239,
          0.11644055877663975,
          0.1125609347915594,
          0.11328508081268307,
          0.1140554311526489,
          0.09706398632194917,
          0.09365971003628012,
          0.09655224770238702,
          0.08842754481371204,
          0.09306644293397151,
          0.09476648593072429,
          0.08765490016506314,
          0.08324671165577432,
          0.08610094021999237,
          0.08081445851890878,
          0.08119577010238921,
          0.08776510556941033,
          0.0863761834746463,
          0.08780672728423539,
          0.0798358606089355,
          0.08540891669717951,
          0.07398537044680628,
          0.07492024117624319,
          0.07652650538832671,
          0.0691825922504435,
          0.07672644829928049,
          0.08338150161103089
         ]
        },
        {
         "hovertemplate": "Strategy: estimate covariance matrix only <br>Year: %{x:4.0f}<br>Expected Return: %{y: 0.1%} <br><extra></extra>",
         "name": "Est-SD-Corr",
         "type": "scatter",
         "x": [
          1968,
          1969,
          1970,
          1971,
          1972,
          1973,
          1974,
          1975,
          1976,
          1977,
          1978,
          1979,
          1980,
          1981,
          1982,
          1983,
          1984,
          1985,
          1986,
          1987,
          1988,
          1989,
          1990,
          1991,
          1992,
          1993,
          1994,
          1995,
          1996,
          1997,
          1998,
          1999,
          2000,
          2001,
          2002,
          2003,
          2004,
          2005,
          2006,
          2007,
          2008,
          2009,
          2010,
          2011,
          2012,
          2013,
          2014,
          2015,
          2016,
          2017,
          2018,
          2019,
          2020,
          2021
         ],
         "y": [
          null,
          null,
          null,
          null,
          null,
          null,
          null,
          null,
          null,
          null,
          null,
          null,
          null,
          null,
          null,
          null,
          null,
          null,
          null,
          null,
          0.117331384745362,
          0.11558183610147524,
          0.1273412032222585,
          0.12417729689800999,
          0.12402398939572834,
          0.11676367284022769,
          0.11561309479432821,
          0.10950557357432239,
          0.11644055877663975,
          0.1125609347915594,
          0.11328508081268307,
          0.1140554311526489,
          0.09706398632194917,
          0.09365971003628012,
          0.09655224770238702,
          0.08842754481371204,
          0.09306644293397151,
          0.09476648593072429,
          0.08765490016506314,
          0.08324671165577432,
          0.08610094021999237,
          0.08081445851890878,
          0.08119577010238921,
          0.08776510556941033,
          0.08637618347464632,
          0.08780672728423539,
          0.0798358606089355,
          0.08540891669717951,
          0.07398537044680628,
          0.07492024117624319,
          0.07652650538832671,
          0.0691825922504435,
          0.07672644829928049,
          0.08338150161103089
         ]
        },
        {
         "hovertemplate": "Strategy: estimate standard deviations only <br>Year: %{x:4.0f}<br>Expected Return: %{y: 0.1%} <br><extra></extra>",
         "name": "Est-SD",
         "type": "scatter",
         "x": [
          1968,
          1969,
          1970,
          1971,
          1972,
          1973,
          1974,
          1975,
          1976,
          1977,
          1978,
          1979,
          1980,
          1981,
          1982,
          1983,
          1984,
          1985,
          1986,
          1987,
          1988,
          1989,
          1990,
          1991,
          1992,
          1993,
          1994,
          1995,
          1996,
          1997,
          1998,
          1999,
          2000,
          2001,
          2002,
          2003,
          2004,
          2005,
          2006,
          2007,
          2008,
          2009,
          2010,
          2011,
          2012,
          2013,
          2014,
          2015,
          2016,
          2017,
          2018,
          2019,
          2020,
          2021
         ],
         "y": [
          null,
          null,
          null,
          null,
          null,
          null,
          null,
          null,
          null,
          null,
          null,
          null,
          null,
          null,
          null,
          null,
          null,
          null,
          null,
          null,
          0.117331384745362,
          0.11558183610147524,
          0.1273412032222585,
          0.12417729689800999,
          0.12402398939572834,
          0.11676367284022769,
          0.11561309479432821,
          0.10950557357432239,
          0.11644055877663975,
          0.1125609347915594,
          0.11328508081268307,
          0.1140554311526489,
          0.09706398632194917,
          0.09365971003628012,
          0.09655224770238702,
          0.08842754481371204,
          0.09306644293397151,
          0.09476648593072429,
          0.08765490016506314,
          0.08324671165577432,
          0.08610094021999237,
          0.08081445851890878,
          0.08119577010238921,
          0.08776510556941033,
          0.08637618347464632,
          0.08780672728423539,
          0.0798358606089355,
          0.08540891669717951,
          0.07398537044680628,
          0.07492024117624319,
          0.07652650538832671,
          0.0691825922504435,
          0.07672644829928049,
          0.08338150161103089
         ]
        },
        {
         "hovertemplate": "Strategy: equal weights <br>Year: %{x:4.0f}<br>Expected Return: %{y: 0.1%} <br><extra></extra>",
         "name": "Est-None",
         "type": "scatter",
         "x": [
          1968,
          1969,
          1970,
          1971,
          1972,
          1973,
          1974,
          1975,
          1976,
          1977,
          1978,
          1979,
          1980,
          1981,
          1982,
          1983,
          1984,
          1985,
          1986,
          1987,
          1988,
          1989,
          1990,
          1991,
          1992,
          1993,
          1994,
          1995,
          1996,
          1997,
          1998,
          1999,
          2000,
          2001,
          2002,
          2003,
          2004,
          2005,
          2006,
          2007,
          2008,
          2009,
          2010,
          2011,
          2012,
          2013,
          2014,
          2015,
          2016,
          2017,
          2018,
          2019,
          2020,
          2021
         ],
         "y": [
          null,
          null,
          null,
          null,
          null,
          null,
          null,
          null,
          null,
          null,
          null,
          null,
          null,
          null,
          null,
          null,
          null,
          null,
          null,
          null,
          0.117331384745362,
          0.11558183610147524,
          0.1273412032222585,
          0.12417729689800999,
          0.12402398939572834,
          0.11676367284022769,
          0.11561309479432821,
          0.10950557357432239,
          0.11644055877663975,
          0.1125609347915594,
          0.11328508081268307,
          0.1140554311526489,
          0.09706398632194917,
          0.09365971003628012,
          0.09655224770238702,
          0.08842754481371204,
          0.09306644293397151,
          0.09476648593072429,
          0.08765490016506314,
          0.08324671165577432,
          0.08610094021999237,
          0.08081445851890878,
          0.08119577010238921,
          0.08776510556941033,
          0.08637618347464632,
          0.08780672728423539,
          0.0798358606089355,
          0.08540891669717951,
          0.07398537044680628,
          0.07492024117624319,
          0.07652650538832671,
          0.0691825922504435,
          0.07672644829928049,
          0.08338150161103089
         ]
        }
       ],
       "layout": {
        "legend": {
         "x": 0.01,
         "xanchor": "left",
         "y": 0.99,
         "yanchor": "top"
        },
        "template": {
         "data": {
          "bar": [
           {
            "error_x": {
             "color": "#2a3f5f"
            },
            "error_y": {
             "color": "#2a3f5f"
            },
            "marker": {
             "line": {
              "color": "#E5ECF6",
              "width": 0.5
             },
             "pattern": {
              "fillmode": "overlay",
              "size": 10,
              "solidity": 0.2
             }
            },
            "type": "bar"
           }
          ],
          "barpolar": [
           {
            "marker": {
             "line": {
              "color": "#E5ECF6",
              "width": 0.5
             },
             "pattern": {
              "fillmode": "overlay",
              "size": 10,
              "solidity": 0.2
             }
            },
            "type": "barpolar"
           }
          ],
          "carpet": [
           {
            "aaxis": {
             "endlinecolor": "#2a3f5f",
             "gridcolor": "white",
             "linecolor": "white",
             "minorgridcolor": "white",
             "startlinecolor": "#2a3f5f"
            },
            "baxis": {
             "endlinecolor": "#2a3f5f",
             "gridcolor": "white",
             "linecolor": "white",
             "minorgridcolor": "white",
             "startlinecolor": "#2a3f5f"
            },
            "type": "carpet"
           }
          ],
          "choropleth": [
           {
            "colorbar": {
             "outlinewidth": 0,
             "ticks": ""
            },
            "type": "choropleth"
           }
          ],
          "contour": [
           {
            "colorbar": {
             "outlinewidth": 0,
             "ticks": ""
            },
            "colorscale": [
             [
              0,
              "#0d0887"
             ],
             [
              0.1111111111111111,
              "#46039f"
             ],
             [
              0.2222222222222222,
              "#7201a8"
             ],
             [
              0.3333333333333333,
              "#9c179e"
             ],
             [
              0.4444444444444444,
              "#bd3786"
             ],
             [
              0.5555555555555556,
              "#d8576b"
             ],
             [
              0.6666666666666666,
              "#ed7953"
             ],
             [
              0.7777777777777778,
              "#fb9f3a"
             ],
             [
              0.8888888888888888,
              "#fdca26"
             ],
             [
              1,
              "#f0f921"
             ]
            ],
            "type": "contour"
           }
          ],
          "contourcarpet": [
           {
            "colorbar": {
             "outlinewidth": 0,
             "ticks": ""
            },
            "type": "contourcarpet"
           }
          ],
          "heatmap": [
           {
            "colorbar": {
             "outlinewidth": 0,
             "ticks": ""
            },
            "colorscale": [
             [
              0,
              "#0d0887"
             ],
             [
              0.1111111111111111,
              "#46039f"
             ],
             [
              0.2222222222222222,
              "#7201a8"
             ],
             [
              0.3333333333333333,
              "#9c179e"
             ],
             [
              0.4444444444444444,
              "#bd3786"
             ],
             [
              0.5555555555555556,
              "#d8576b"
             ],
             [
              0.6666666666666666,
              "#ed7953"
             ],
             [
              0.7777777777777778,
              "#fb9f3a"
             ],
             [
              0.8888888888888888,
              "#fdca26"
             ],
             [
              1,
              "#f0f921"
             ]
            ],
            "type": "heatmap"
           }
          ],
          "heatmapgl": [
           {
            "colorbar": {
             "outlinewidth": 0,
             "ticks": ""
            },
            "colorscale": [
             [
              0,
              "#0d0887"
             ],
             [
              0.1111111111111111,
              "#46039f"
             ],
             [
              0.2222222222222222,
              "#7201a8"
             ],
             [
              0.3333333333333333,
              "#9c179e"
             ],
             [
              0.4444444444444444,
              "#bd3786"
             ],
             [
              0.5555555555555556,
              "#d8576b"
             ],
             [
              0.6666666666666666,
              "#ed7953"
             ],
             [
              0.7777777777777778,
              "#fb9f3a"
             ],
             [
              0.8888888888888888,
              "#fdca26"
             ],
             [
              1,
              "#f0f921"
             ]
            ],
            "type": "heatmapgl"
           }
          ],
          "histogram": [
           {
            "marker": {
             "pattern": {
              "fillmode": "overlay",
              "size": 10,
              "solidity": 0.2
             }
            },
            "type": "histogram"
           }
          ],
          "histogram2d": [
           {
            "colorbar": {
             "outlinewidth": 0,
             "ticks": ""
            },
            "colorscale": [
             [
              0,
              "#0d0887"
             ],
             [
              0.1111111111111111,
              "#46039f"
             ],
             [
              0.2222222222222222,
              "#7201a8"
             ],
             [
              0.3333333333333333,
              "#9c179e"
             ],
             [
              0.4444444444444444,
              "#bd3786"
             ],
             [
              0.5555555555555556,
              "#d8576b"
             ],
             [
              0.6666666666666666,
              "#ed7953"
             ],
             [
              0.7777777777777778,
              "#fb9f3a"
             ],
             [
              0.8888888888888888,
              "#fdca26"
             ],
             [
              1,
              "#f0f921"
             ]
            ],
            "type": "histogram2d"
           }
          ],
          "histogram2dcontour": [
           {
            "colorbar": {
             "outlinewidth": 0,
             "ticks": ""
            },
            "colorscale": [
             [
              0,
              "#0d0887"
             ],
             [
              0.1111111111111111,
              "#46039f"
             ],
             [
              0.2222222222222222,
              "#7201a8"
             ],
             [
              0.3333333333333333,
              "#9c179e"
             ],
             [
              0.4444444444444444,
              "#bd3786"
             ],
             [
              0.5555555555555556,
              "#d8576b"
             ],
             [
              0.6666666666666666,
              "#ed7953"
             ],
             [
              0.7777777777777778,
              "#fb9f3a"
             ],
             [
              0.8888888888888888,
              "#fdca26"
             ],
             [
              1,
              "#f0f921"
             ]
            ],
            "type": "histogram2dcontour"
           }
          ],
          "mesh3d": [
           {
            "colorbar": {
             "outlinewidth": 0,
             "ticks": ""
            },
            "type": "mesh3d"
           }
          ],
          "parcoords": [
           {
            "line": {
             "colorbar": {
              "outlinewidth": 0,
              "ticks": ""
             }
            },
            "type": "parcoords"
           }
          ],
          "pie": [
           {
            "automargin": true,
            "type": "pie"
           }
          ],
          "scatter": [
           {
            "fillpattern": {
             "fillmode": "overlay",
             "size": 10,
             "solidity": 0.2
            },
            "type": "scatter"
           }
          ],
          "scatter3d": [
           {
            "line": {
             "colorbar": {
              "outlinewidth": 0,
              "ticks": ""
             }
            },
            "marker": {
             "colorbar": {
              "outlinewidth": 0,
              "ticks": ""
             }
            },
            "type": "scatter3d"
           }
          ],
          "scattercarpet": [
           {
            "marker": {
             "colorbar": {
              "outlinewidth": 0,
              "ticks": ""
             }
            },
            "type": "scattercarpet"
           }
          ],
          "scattergeo": [
           {
            "marker": {
             "colorbar": {
              "outlinewidth": 0,
              "ticks": ""
             }
            },
            "type": "scattergeo"
           }
          ],
          "scattergl": [
           {
            "marker": {
             "colorbar": {
              "outlinewidth": 0,
              "ticks": ""
             }
            },
            "type": "scattergl"
           }
          ],
          "scattermapbox": [
           {
            "marker": {
             "colorbar": {
              "outlinewidth": 0,
              "ticks": ""
             }
            },
            "type": "scattermapbox"
           }
          ],
          "scatterpolar": [
           {
            "marker": {
             "colorbar": {
              "outlinewidth": 0,
              "ticks": ""
             }
            },
            "type": "scatterpolar"
           }
          ],
          "scatterpolargl": [
           {
            "marker": {
             "colorbar": {
              "outlinewidth": 0,
              "ticks": ""
             }
            },
            "type": "scatterpolargl"
           }
          ],
          "scatterternary": [
           {
            "marker": {
             "colorbar": {
              "outlinewidth": 0,
              "ticks": ""
             }
            },
            "type": "scatterternary"
           }
          ],
          "surface": [
           {
            "colorbar": {
             "outlinewidth": 0,
             "ticks": ""
            },
            "colorscale": [
             [
              0,
              "#0d0887"
             ],
             [
              0.1111111111111111,
              "#46039f"
             ],
             [
              0.2222222222222222,
              "#7201a8"
             ],
             [
              0.3333333333333333,
              "#9c179e"
             ],
             [
              0.4444444444444444,
              "#bd3786"
             ],
             [
              0.5555555555555556,
              "#d8576b"
             ],
             [
              0.6666666666666666,
              "#ed7953"
             ],
             [
              0.7777777777777778,
              "#fb9f3a"
             ],
             [
              0.8888888888888888,
              "#fdca26"
             ],
             [
              1,
              "#f0f921"
             ]
            ],
            "type": "surface"
           }
          ],
          "table": [
           {
            "cells": {
             "fill": {
              "color": "#EBF0F8"
             },
             "line": {
              "color": "white"
             }
            },
            "header": {
             "fill": {
              "color": "#C8D4E3"
             },
             "line": {
              "color": "white"
             }
            },
            "type": "table"
           }
          ]
         },
         "layout": {
          "annotationdefaults": {
           "arrowcolor": "#2a3f5f",
           "arrowhead": 0,
           "arrowwidth": 1
          },
          "autotypenumbers": "strict",
          "coloraxis": {
           "colorbar": {
            "outlinewidth": 0,
            "ticks": ""
           }
          },
          "colorscale": {
           "diverging": [
            [
             0,
             "#8e0152"
            ],
            [
             0.1,
             "#c51b7d"
            ],
            [
             0.2,
             "#de77ae"
            ],
            [
             0.3,
             "#f1b6da"
            ],
            [
             0.4,
             "#fde0ef"
            ],
            [
             0.5,
             "#f7f7f7"
            ],
            [
             0.6,
             "#e6f5d0"
            ],
            [
             0.7,
             "#b8e186"
            ],
            [
             0.8,
             "#7fbc41"
            ],
            [
             0.9,
             "#4d9221"
            ],
            [
             1,
             "#276419"
            ]
           ],
           "sequential": [
            [
             0,
             "#0d0887"
            ],
            [
             0.1111111111111111,
             "#46039f"
            ],
            [
             0.2222222222222222,
             "#7201a8"
            ],
            [
             0.3333333333333333,
             "#9c179e"
            ],
            [
             0.4444444444444444,
             "#bd3786"
            ],
            [
             0.5555555555555556,
             "#d8576b"
            ],
            [
             0.6666666666666666,
             "#ed7953"
            ],
            [
             0.7777777777777778,
             "#fb9f3a"
            ],
            [
             0.8888888888888888,
             "#fdca26"
            ],
            [
             1,
             "#f0f921"
            ]
           ],
           "sequentialminus": [
            [
             0,
             "#0d0887"
            ],
            [
             0.1111111111111111,
             "#46039f"
            ],
            [
             0.2222222222222222,
             "#7201a8"
            ],
            [
             0.3333333333333333,
             "#9c179e"
            ],
            [
             0.4444444444444444,
             "#bd3786"
            ],
            [
             0.5555555555555556,
             "#d8576b"
            ],
            [
             0.6666666666666666,
             "#ed7953"
            ],
            [
             0.7777777777777778,
             "#fb9f3a"
            ],
            [
             0.8888888888888888,
             "#fdca26"
            ],
            [
             1,
             "#f0f921"
            ]
           ]
          },
          "colorway": [
           "#636efa",
           "#EF553B",
           "#00cc96",
           "#ab63fa",
           "#FFA15A",
           "#19d3f3",
           "#FF6692",
           "#B6E880",
           "#FF97FF",
           "#FECB52"
          ],
          "font": {
           "color": "#2a3f5f"
          },
          "geo": {
           "bgcolor": "white",
           "lakecolor": "white",
           "landcolor": "#E5ECF6",
           "showlakes": true,
           "showland": true,
           "subunitcolor": "white"
          },
          "hoverlabel": {
           "align": "left"
          },
          "hovermode": "closest",
          "mapbox": {
           "style": "light"
          },
          "paper_bgcolor": "white",
          "plot_bgcolor": "#E5ECF6",
          "polar": {
           "angularaxis": {
            "gridcolor": "white",
            "linecolor": "white",
            "ticks": ""
           },
           "bgcolor": "#E5ECF6",
           "radialaxis": {
            "gridcolor": "white",
            "linecolor": "white",
            "ticks": ""
           }
          },
          "scene": {
           "xaxis": {
            "backgroundcolor": "#E5ECF6",
            "gridcolor": "white",
            "gridwidth": 2,
            "linecolor": "white",
            "showbackground": true,
            "ticks": "",
            "zerolinecolor": "white"
           },
           "yaxis": {
            "backgroundcolor": "#E5ECF6",
            "gridcolor": "white",
            "gridwidth": 2,
            "linecolor": "white",
            "showbackground": true,
            "ticks": "",
            "zerolinecolor": "white"
           },
           "zaxis": {
            "backgroundcolor": "#E5ECF6",
            "gridcolor": "white",
            "gridwidth": 2,
            "linecolor": "white",
            "showbackground": true,
            "ticks": "",
            "zerolinecolor": "white"
           }
          },
          "shapedefaults": {
           "line": {
            "color": "#2a3f5f"
           }
          },
          "ternary": {
           "aaxis": {
            "gridcolor": "white",
            "linecolor": "white",
            "ticks": ""
           },
           "baxis": {
            "gridcolor": "white",
            "linecolor": "white",
            "ticks": ""
           },
           "bgcolor": "#E5ECF6",
           "caxis": {
            "gridcolor": "white",
            "linecolor": "white",
            "ticks": ""
           }
          },
          "title": {
           "x": 0.05
          },
          "xaxis": {
           "automargin": true,
           "gridcolor": "white",
           "linecolor": "white",
           "ticks": "",
           "title": {
            "standoff": 15
           },
           "zerolinecolor": "white",
           "zerolinewidth": 2
          },
          "yaxis": {
           "automargin": true,
           "gridcolor": "white",
           "linecolor": "white",
           "ticks": "",
           "title": {
            "standoff": 15
           },
           "zerolinecolor": "white",
           "zerolinewidth": 2
          }
         }
        },
        "xaxis": {
         "range": [
          1988,
          2021
         ],
         "title": {
          "text": "Year"
         }
        },
        "yaxis": {
         "tickformat": ".0%",
         "title": {
          "text": "Expected Return"
         }
        }
       }
      }
     },
     "metadata": {},
     "output_type": "display_data"
    }
   ],
   "source": [
    "# Plot expected return (expret_)\n",
    "fig = go.Figure()\n",
    "for model in ['est_all', 'est_cov', 'est_sds', 'ew']:\n",
    "    string =  \"Strategy: \" + label_dict[model] +\" <br>\"\n",
    "    string += \"Year: %{x:4.0f}<br>\"\n",
    "    string += \"Expected Return: %{y: 0.1%} <br>\"\n",
    "    string += \"<extra></extra>\"\n",
    "\n",
    "    trace=go.Scatter(x=df['year'], y=df['expret_'+model], hovertemplate=string, name = xaxis_label_dict[model])\n",
    "    fig.add_trace(trace)\n",
    "fig.layout.yaxis[\"title\"] = \"Expected Return\"\n",
    "fig.layout.xaxis[\"title\"] = \"Year\"\n",
    "fig.update_yaxes(tickformat=\".0%\")\n",
    "fig.update_layout(legend=dict(yanchor=\"top\", y =0.99, xanchor=\"left\", x=0.01))\n",
    "fig.update_xaxes(range=[df['year'].iloc[window], df.year.max()])\n",
    "fig.show()"
   ]
  },
  {
   "cell_type": "code",
   "execution_count": 64,
   "metadata": {},
   "outputs": [
    {
     "data": {
      "application/vnd.plotly.v1+json": {
       "config": {
        "plotlyServerURL": "https://plot.ly"
       },
       "data": [
        {
         "hovertemplate": "Strategy: estimate all inputs <br>Year: %{x:4.0f}<br>Expected Standard Deviation: %{y: 0.1%} <br><extra></extra>",
         "name": "Est-All",
         "type": "scatter",
         "x": [
          1968,
          1969,
          1970,
          1971,
          1972,
          1973,
          1974,
          1975,
          1976,
          1977,
          1978,
          1979,
          1980,
          1981,
          1982,
          1983,
          1984,
          1985,
          1986,
          1987,
          1988,
          1989,
          1990,
          1991,
          1992,
          1993,
          1994,
          1995,
          1996,
          1997,
          1998,
          1999,
          2000,
          2001,
          2002,
          2003,
          2004,
          2005,
          2006,
          2007,
          2008,
          2009,
          2010,
          2011,
          2012,
          2013,
          2014,
          2015,
          2016,
          2017,
          2018,
          2019,
          2020,
          2021
         ],
         "y": [
          null,
          null,
          null,
          null,
          null,
          null,
          null,
          null,
          null,
          null,
          null,
          null,
          null,
          null,
          null,
          null,
          null,
          null,
          null,
          null,
          0.07260671043849301,
          0.05838243410041325,
          0.06640421338363439,
          0.05938741338726259,
          0.06224325575543543,
          0.05783955878418858,
          0.055202878493944486,
          0.039032002818928095,
          0.045356288605345206,
          0.04331925964992161,
          0.04456879516194889,
          0.047678255873607994,
          0.02667307368435455,
          0.0387201045870612,
          0.04773916954901394,
          0.044442468772958696,
          0.045388135555033696,
          0.04235699993824967,
          0.034423047396272305,
          0.03343798019045093,
          0.04527898209315349,
          0.05436833619762406,
          0.05474805942300574,
          0.05652484074272359,
          0.0555172927767476,
          0.05669734236373414,
          0.06141019400844533,
          0.05466404487414839,
          0.04563457063736835,
          0.04615344883119057,
          0.047285279222052064,
          0.04889197605235017,
          0.04856921507421942,
          0.05283354866994674
         ]
        },
        {
         "hovertemplate": "Strategy: estimate covariance matrix only <br>Year: %{x:4.0f}<br>Expected Standard Deviation: %{y: 0.1%} <br><extra></extra>",
         "name": "Est-SD-Corr",
         "type": "scatter",
         "x": [
          1968,
          1969,
          1970,
          1971,
          1972,
          1973,
          1974,
          1975,
          1976,
          1977,
          1978,
          1979,
          1980,
          1981,
          1982,
          1983,
          1984,
          1985,
          1986,
          1987,
          1988,
          1989,
          1990,
          1991,
          1992,
          1993,
          1994,
          1995,
          1996,
          1997,
          1998,
          1999,
          2000,
          2001,
          2002,
          2003,
          2004,
          2005,
          2006,
          2007,
          2008,
          2009,
          2010,
          2011,
          2012,
          2013,
          2014,
          2015,
          2016,
          2017,
          2018,
          2019,
          2020,
          2021
         ],
         "y": [
          null,
          null,
          null,
          null,
          null,
          null,
          null,
          null,
          null,
          null,
          null,
          null,
          null,
          null,
          null,
          null,
          null,
          null,
          null,
          null,
          0.07712910210763743,
          0.07662639625888046,
          0.06788598883781864,
          0.06773342845487547,
          0.06768215395035544,
          0.06568683808166363,
          0.06638612318882756,
          0.06549116562873396,
          0.06595534398920012,
          0.06538602801921851,
          0.06511980576618613,
          0.06750113058615374,
          0.0653551382743887,
          0.0677362404276961,
          0.06283964704625315,
          0.05601230692168029,
          0.05992586126855932,
          0.059926441115216236,
          0.05544759130860248,
          0.04933289611734389,
          0.049247428842298935,
          0.05421890310238853,
          0.05431205622347213,
          0.05433298414711713,
          0.05425517861170825,
          0.054309605829067485,
          0.05849009105597127,
          0.052548408432289126,
          0.04362295217289382,
          0.04355811608996263,
          0.0404848493607322,
          0.0382761863000631,
          0.041164082705525414,
          0.040286158013167005
         ]
        },
        {
         "hovertemplate": "Strategy: estimate standard deviations only <br>Year: %{x:4.0f}<br>Expected Standard Deviation: %{y: 0.1%} <br><extra></extra>",
         "name": "Est-SD",
         "type": "scatter",
         "x": [
          1968,
          1969,
          1970,
          1971,
          1972,
          1973,
          1974,
          1975,
          1976,
          1977,
          1978,
          1979,
          1980,
          1981,
          1982,
          1983,
          1984,
          1985,
          1986,
          1987,
          1988,
          1989,
          1990,
          1991,
          1992,
          1993,
          1994,
          1995,
          1996,
          1997,
          1998,
          1999,
          2000,
          2001,
          2002,
          2003,
          2004,
          2005,
          2006,
          2007,
          2008,
          2009,
          2010,
          2011,
          2012,
          2013,
          2014,
          2015,
          2016,
          2017,
          2018,
          2019,
          2020,
          2021
         ],
         "y": [
          null,
          null,
          null,
          null,
          null,
          null,
          null,
          null,
          null,
          null,
          null,
          null,
          null,
          null,
          null,
          null,
          null,
          null,
          null,
          null,
          0.06427838199750725,
          0.06427656228527139,
          0.062589949658364,
          0.0623654082119593,
          0.0631903795613633,
          0.06295165465745876,
          0.06192646112235238,
          0.06035986093049133,
          0.061525965508778334,
          0.06153475193687237,
          0.060764806361140934,
          0.05977437402550562,
          0.056308341836481014,
          0.05417809038866421,
          0.053471413212624476,
          0.050173537050971904,
          0.05036964600277225,
          0.04974359508559657,
          0.04702558860841835,
          0.044121378670451857,
          0.043452562496863446,
          0.0473298612490841,
          0.05118705682735765,
          0.051292009429435986,
          0.05012519994247643,
          0.04988720656754711,
          0.051907763308850566,
          0.0497052730873862,
          0.04734711867124965,
          0.04726898820274277,
          0.046493355313649204,
          0.04771573040443678,
          0.04714190408340088,
          0.046459937477122994
         ]
        },
        {
         "hovertemplate": "Strategy: equal weights <br>Year: %{x:4.0f}<br>Expected Standard Deviation: %{y: 0.1%} <br><extra></extra>",
         "name": "Est-None",
         "type": "scatter",
         "x": [
          1968,
          1969,
          1970,
          1971,
          1972,
          1973,
          1974,
          1975,
          1976,
          1977,
          1978,
          1979,
          1980,
          1981,
          1982,
          1983,
          1984,
          1985,
          1986,
          1987,
          1988,
          1989,
          1990,
          1991,
          1992,
          1993,
          1994,
          1995,
          1996,
          1997,
          1998,
          1999,
          2000,
          2001,
          2002,
          2003,
          2004,
          2005,
          2006,
          2007,
          2008,
          2009,
          2010,
          2011,
          2012,
          2013,
          2014,
          2015,
          2016,
          2017,
          2018,
          2019,
          2020,
          2021
         ],
         "y": [
          null,
          null,
          null,
          null,
          null,
          null,
          null,
          null,
          null,
          null,
          null,
          null,
          null,
          null,
          null,
          null,
          null,
          null,
          null,
          null,
          0.09452485620455087,
          0.09552107898027604,
          0.09412406542188136,
          0.09448363231897823,
          0.09592150719347493,
          0.09524639659150447,
          0.0904494854393967,
          0.0846914235377351,
          0.08438089620344205,
          0.08440566266576191,
          0.08417569794319028,
          0.0827942951913066,
          0.05953047368574578,
          0.05889194700067795,
          0.05756862868274096,
          0.05880266987980706,
          0.059682639619191756,
          0.058498470970716185,
          0.057077981028644476,
          0.055932100300692136,
          0.056104274500782834,
          0.06078314777729606,
          0.06320717222074501,
          0.06367018575615475,
          0.06216661448101547,
          0.06175050168780267,
          0.06591913291438467,
          0.06463423464158942,
          0.06285308760065202,
          0.062331277459537676,
          0.05962586659923348,
          0.05938899733306613,
          0.059630023538804706,
          0.058689341671181415
         ]
        }
       ],
       "layout": {
        "legend": {
         "x": 0.01,
         "xanchor": "left",
         "y": 0.99,
         "yanchor": "top"
        },
        "template": {
         "data": {
          "bar": [
           {
            "error_x": {
             "color": "#2a3f5f"
            },
            "error_y": {
             "color": "#2a3f5f"
            },
            "marker": {
             "line": {
              "color": "#E5ECF6",
              "width": 0.5
             },
             "pattern": {
              "fillmode": "overlay",
              "size": 10,
              "solidity": 0.2
             }
            },
            "type": "bar"
           }
          ],
          "barpolar": [
           {
            "marker": {
             "line": {
              "color": "#E5ECF6",
              "width": 0.5
             },
             "pattern": {
              "fillmode": "overlay",
              "size": 10,
              "solidity": 0.2
             }
            },
            "type": "barpolar"
           }
          ],
          "carpet": [
           {
            "aaxis": {
             "endlinecolor": "#2a3f5f",
             "gridcolor": "white",
             "linecolor": "white",
             "minorgridcolor": "white",
             "startlinecolor": "#2a3f5f"
            },
            "baxis": {
             "endlinecolor": "#2a3f5f",
             "gridcolor": "white",
             "linecolor": "white",
             "minorgridcolor": "white",
             "startlinecolor": "#2a3f5f"
            },
            "type": "carpet"
           }
          ],
          "choropleth": [
           {
            "colorbar": {
             "outlinewidth": 0,
             "ticks": ""
            },
            "type": "choropleth"
           }
          ],
          "contour": [
           {
            "colorbar": {
             "outlinewidth": 0,
             "ticks": ""
            },
            "colorscale": [
             [
              0,
              "#0d0887"
             ],
             [
              0.1111111111111111,
              "#46039f"
             ],
             [
              0.2222222222222222,
              "#7201a8"
             ],
             [
              0.3333333333333333,
              "#9c179e"
             ],
             [
              0.4444444444444444,
              "#bd3786"
             ],
             [
              0.5555555555555556,
              "#d8576b"
             ],
             [
              0.6666666666666666,
              "#ed7953"
             ],
             [
              0.7777777777777778,
              "#fb9f3a"
             ],
             [
              0.8888888888888888,
              "#fdca26"
             ],
             [
              1,
              "#f0f921"
             ]
            ],
            "type": "contour"
           }
          ],
          "contourcarpet": [
           {
            "colorbar": {
             "outlinewidth": 0,
             "ticks": ""
            },
            "type": "contourcarpet"
           }
          ],
          "heatmap": [
           {
            "colorbar": {
             "outlinewidth": 0,
             "ticks": ""
            },
            "colorscale": [
             [
              0,
              "#0d0887"
             ],
             [
              0.1111111111111111,
              "#46039f"
             ],
             [
              0.2222222222222222,
              "#7201a8"
             ],
             [
              0.3333333333333333,
              "#9c179e"
             ],
             [
              0.4444444444444444,
              "#bd3786"
             ],
             [
              0.5555555555555556,
              "#d8576b"
             ],
             [
              0.6666666666666666,
              "#ed7953"
             ],
             [
              0.7777777777777778,
              "#fb9f3a"
             ],
             [
              0.8888888888888888,
              "#fdca26"
             ],
             [
              1,
              "#f0f921"
             ]
            ],
            "type": "heatmap"
           }
          ],
          "heatmapgl": [
           {
            "colorbar": {
             "outlinewidth": 0,
             "ticks": ""
            },
            "colorscale": [
             [
              0,
              "#0d0887"
             ],
             [
              0.1111111111111111,
              "#46039f"
             ],
             [
              0.2222222222222222,
              "#7201a8"
             ],
             [
              0.3333333333333333,
              "#9c179e"
             ],
             [
              0.4444444444444444,
              "#bd3786"
             ],
             [
              0.5555555555555556,
              "#d8576b"
             ],
             [
              0.6666666666666666,
              "#ed7953"
             ],
             [
              0.7777777777777778,
              "#fb9f3a"
             ],
             [
              0.8888888888888888,
              "#fdca26"
             ],
             [
              1,
              "#f0f921"
             ]
            ],
            "type": "heatmapgl"
           }
          ],
          "histogram": [
           {
            "marker": {
             "pattern": {
              "fillmode": "overlay",
              "size": 10,
              "solidity": 0.2
             }
            },
            "type": "histogram"
           }
          ],
          "histogram2d": [
           {
            "colorbar": {
             "outlinewidth": 0,
             "ticks": ""
            },
            "colorscale": [
             [
              0,
              "#0d0887"
             ],
             [
              0.1111111111111111,
              "#46039f"
             ],
             [
              0.2222222222222222,
              "#7201a8"
             ],
             [
              0.3333333333333333,
              "#9c179e"
             ],
             [
              0.4444444444444444,
              "#bd3786"
             ],
             [
              0.5555555555555556,
              "#d8576b"
             ],
             [
              0.6666666666666666,
              "#ed7953"
             ],
             [
              0.7777777777777778,
              "#fb9f3a"
             ],
             [
              0.8888888888888888,
              "#fdca26"
             ],
             [
              1,
              "#f0f921"
             ]
            ],
            "type": "histogram2d"
           }
          ],
          "histogram2dcontour": [
           {
            "colorbar": {
             "outlinewidth": 0,
             "ticks": ""
            },
            "colorscale": [
             [
              0,
              "#0d0887"
             ],
             [
              0.1111111111111111,
              "#46039f"
             ],
             [
              0.2222222222222222,
              "#7201a8"
             ],
             [
              0.3333333333333333,
              "#9c179e"
             ],
             [
              0.4444444444444444,
              "#bd3786"
             ],
             [
              0.5555555555555556,
              "#d8576b"
             ],
             [
              0.6666666666666666,
              "#ed7953"
             ],
             [
              0.7777777777777778,
              "#fb9f3a"
             ],
             [
              0.8888888888888888,
              "#fdca26"
             ],
             [
              1,
              "#f0f921"
             ]
            ],
            "type": "histogram2dcontour"
           }
          ],
          "mesh3d": [
           {
            "colorbar": {
             "outlinewidth": 0,
             "ticks": ""
            },
            "type": "mesh3d"
           }
          ],
          "parcoords": [
           {
            "line": {
             "colorbar": {
              "outlinewidth": 0,
              "ticks": ""
             }
            },
            "type": "parcoords"
           }
          ],
          "pie": [
           {
            "automargin": true,
            "type": "pie"
           }
          ],
          "scatter": [
           {
            "fillpattern": {
             "fillmode": "overlay",
             "size": 10,
             "solidity": 0.2
            },
            "type": "scatter"
           }
          ],
          "scatter3d": [
           {
            "line": {
             "colorbar": {
              "outlinewidth": 0,
              "ticks": ""
             }
            },
            "marker": {
             "colorbar": {
              "outlinewidth": 0,
              "ticks": ""
             }
            },
            "type": "scatter3d"
           }
          ],
          "scattercarpet": [
           {
            "marker": {
             "colorbar": {
              "outlinewidth": 0,
              "ticks": ""
             }
            },
            "type": "scattercarpet"
           }
          ],
          "scattergeo": [
           {
            "marker": {
             "colorbar": {
              "outlinewidth": 0,
              "ticks": ""
             }
            },
            "type": "scattergeo"
           }
          ],
          "scattergl": [
           {
            "marker": {
             "colorbar": {
              "outlinewidth": 0,
              "ticks": ""
             }
            },
            "type": "scattergl"
           }
          ],
          "scattermapbox": [
           {
            "marker": {
             "colorbar": {
              "outlinewidth": 0,
              "ticks": ""
             }
            },
            "type": "scattermapbox"
           }
          ],
          "scatterpolar": [
           {
            "marker": {
             "colorbar": {
              "outlinewidth": 0,
              "ticks": ""
             }
            },
            "type": "scatterpolar"
           }
          ],
          "scatterpolargl": [
           {
            "marker": {
             "colorbar": {
              "outlinewidth": 0,
              "ticks": ""
             }
            },
            "type": "scatterpolargl"
           }
          ],
          "scatterternary": [
           {
            "marker": {
             "colorbar": {
              "outlinewidth": 0,
              "ticks": ""
             }
            },
            "type": "scatterternary"
           }
          ],
          "surface": [
           {
            "colorbar": {
             "outlinewidth": 0,
             "ticks": ""
            },
            "colorscale": [
             [
              0,
              "#0d0887"
             ],
             [
              0.1111111111111111,
              "#46039f"
             ],
             [
              0.2222222222222222,
              "#7201a8"
             ],
             [
              0.3333333333333333,
              "#9c179e"
             ],
             [
              0.4444444444444444,
              "#bd3786"
             ],
             [
              0.5555555555555556,
              "#d8576b"
             ],
             [
              0.6666666666666666,
              "#ed7953"
             ],
             [
              0.7777777777777778,
              "#fb9f3a"
             ],
             [
              0.8888888888888888,
              "#fdca26"
             ],
             [
              1,
              "#f0f921"
             ]
            ],
            "type": "surface"
           }
          ],
          "table": [
           {
            "cells": {
             "fill": {
              "color": "#EBF0F8"
             },
             "line": {
              "color": "white"
             }
            },
            "header": {
             "fill": {
              "color": "#C8D4E3"
             },
             "line": {
              "color": "white"
             }
            },
            "type": "table"
           }
          ]
         },
         "layout": {
          "annotationdefaults": {
           "arrowcolor": "#2a3f5f",
           "arrowhead": 0,
           "arrowwidth": 1
          },
          "autotypenumbers": "strict",
          "coloraxis": {
           "colorbar": {
            "outlinewidth": 0,
            "ticks": ""
           }
          },
          "colorscale": {
           "diverging": [
            [
             0,
             "#8e0152"
            ],
            [
             0.1,
             "#c51b7d"
            ],
            [
             0.2,
             "#de77ae"
            ],
            [
             0.3,
             "#f1b6da"
            ],
            [
             0.4,
             "#fde0ef"
            ],
            [
             0.5,
             "#f7f7f7"
            ],
            [
             0.6,
             "#e6f5d0"
            ],
            [
             0.7,
             "#b8e186"
            ],
            [
             0.8,
             "#7fbc41"
            ],
            [
             0.9,
             "#4d9221"
            ],
            [
             1,
             "#276419"
            ]
           ],
           "sequential": [
            [
             0,
             "#0d0887"
            ],
            [
             0.1111111111111111,
             "#46039f"
            ],
            [
             0.2222222222222222,
             "#7201a8"
            ],
            [
             0.3333333333333333,
             "#9c179e"
            ],
            [
             0.4444444444444444,
             "#bd3786"
            ],
            [
             0.5555555555555556,
             "#d8576b"
            ],
            [
             0.6666666666666666,
             "#ed7953"
            ],
            [
             0.7777777777777778,
             "#fb9f3a"
            ],
            [
             0.8888888888888888,
             "#fdca26"
            ],
            [
             1,
             "#f0f921"
            ]
           ],
           "sequentialminus": [
            [
             0,
             "#0d0887"
            ],
            [
             0.1111111111111111,
             "#46039f"
            ],
            [
             0.2222222222222222,
             "#7201a8"
            ],
            [
             0.3333333333333333,
             "#9c179e"
            ],
            [
             0.4444444444444444,
             "#bd3786"
            ],
            [
             0.5555555555555556,
             "#d8576b"
            ],
            [
             0.6666666666666666,
             "#ed7953"
            ],
            [
             0.7777777777777778,
             "#fb9f3a"
            ],
            [
             0.8888888888888888,
             "#fdca26"
            ],
            [
             1,
             "#f0f921"
            ]
           ]
          },
          "colorway": [
           "#636efa",
           "#EF553B",
           "#00cc96",
           "#ab63fa",
           "#FFA15A",
           "#19d3f3",
           "#FF6692",
           "#B6E880",
           "#FF97FF",
           "#FECB52"
          ],
          "font": {
           "color": "#2a3f5f"
          },
          "geo": {
           "bgcolor": "white",
           "lakecolor": "white",
           "landcolor": "#E5ECF6",
           "showlakes": true,
           "showland": true,
           "subunitcolor": "white"
          },
          "hoverlabel": {
           "align": "left"
          },
          "hovermode": "closest",
          "mapbox": {
           "style": "light"
          },
          "paper_bgcolor": "white",
          "plot_bgcolor": "#E5ECF6",
          "polar": {
           "angularaxis": {
            "gridcolor": "white",
            "linecolor": "white",
            "ticks": ""
           },
           "bgcolor": "#E5ECF6",
           "radialaxis": {
            "gridcolor": "white",
            "linecolor": "white",
            "ticks": ""
           }
          },
          "scene": {
           "xaxis": {
            "backgroundcolor": "#E5ECF6",
            "gridcolor": "white",
            "gridwidth": 2,
            "linecolor": "white",
            "showbackground": true,
            "ticks": "",
            "zerolinecolor": "white"
           },
           "yaxis": {
            "backgroundcolor": "#E5ECF6",
            "gridcolor": "white",
            "gridwidth": 2,
            "linecolor": "white",
            "showbackground": true,
            "ticks": "",
            "zerolinecolor": "white"
           },
           "zaxis": {
            "backgroundcolor": "#E5ECF6",
            "gridcolor": "white",
            "gridwidth": 2,
            "linecolor": "white",
            "showbackground": true,
            "ticks": "",
            "zerolinecolor": "white"
           }
          },
          "shapedefaults": {
           "line": {
            "color": "#2a3f5f"
           }
          },
          "ternary": {
           "aaxis": {
            "gridcolor": "white",
            "linecolor": "white",
            "ticks": ""
           },
           "baxis": {
            "gridcolor": "white",
            "linecolor": "white",
            "ticks": ""
           },
           "bgcolor": "#E5ECF6",
           "caxis": {
            "gridcolor": "white",
            "linecolor": "white",
            "ticks": ""
           }
          },
          "title": {
           "x": 0.05
          },
          "xaxis": {
           "automargin": true,
           "gridcolor": "white",
           "linecolor": "white",
           "ticks": "",
           "title": {
            "standoff": 15
           },
           "zerolinecolor": "white",
           "zerolinewidth": 2
          },
          "yaxis": {
           "automargin": true,
           "gridcolor": "white",
           "linecolor": "white",
           "ticks": "",
           "title": {
            "standoff": 15
           },
           "zerolinecolor": "white",
           "zerolinewidth": 2
          }
         }
        },
        "xaxis": {
         "range": [
          1988,
          2021
         ],
         "title": {
          "text": "Year"
         }
        },
        "yaxis": {
         "tickformat": ".0%",
         "title": {
          "text": "Standard Deviation (Expected)"
         }
        }
       }
      }
     },
     "metadata": {},
     "output_type": "display_data"
    }
   ],
   "source": [
    "# Plot standard deviation (sd)\n",
    "fig = go.Figure()\n",
    "for model in ['est_all', 'est_cov', 'est_sds', 'ew']:\n",
    "    string =  \"Strategy: \" + label_dict[model] +\" <br>\"\n",
    "    string += \"Year: %{x:4.0f}<br>\"\n",
    "    string += \"Expected Standard Deviation: %{y: 0.1%} <br>\"\n",
    "    string += \"<extra></extra>\"\n",
    "\n",
    "    trace=go.Scatter(x=df['year'], y=df['sd'+model], hovertemplate=string, name = xaxis_label_dict[model])\n",
    "    fig.add_trace(trace)\n",
    "fig.layout.yaxis[\"title\"] = \"Standard Deviation (Expected)\"\n",
    "fig.layout.xaxis[\"title\"] = \"Year\"\n",
    "fig.update_yaxes(tickformat=\".0%\")\n",
    "fig.update_layout(legend=dict(yanchor=\"top\", y =0.99, xanchor=\"left\", x=0.01))\n",
    "fig.update_xaxes(range=[df['year'].iloc[window], df.year.max()])\n",
    "fig.show()"
   ]
  },
  {
   "cell_type": "code",
   "execution_count": 104,
   "metadata": {},
   "outputs": [
    {
     "data": {
      "text/html": [
       "<div>\n",
       "<style scoped>\n",
       "    .dataframe tbody tr th:only-of-type {\n",
       "        vertical-align: middle;\n",
       "    }\n",
       "\n",
       "    .dataframe tbody tr th {\n",
       "        vertical-align: top;\n",
       "    }\n",
       "\n",
       "    .dataframe thead th {\n",
       "        text-align: right;\n",
       "    }\n",
       "</style>\n",
       "<table border=\"1\" class=\"dataframe\">\n",
       "  <thead>\n",
       "    <tr style=\"text-align: right;\">\n",
       "      <th></th>\n",
       "      <th>wgt_cal_est_all</th>\n",
       "      <th>wgt_cal_est_cov</th>\n",
       "      <th>wgt_cal_est_sds</th>\n",
       "      <th>wgt_cal_ew</th>\n",
       "    </tr>\n",
       "  </thead>\n",
       "  <tbody>\n",
       "    <tr>\n",
       "      <th>count</th>\n",
       "      <td>34.000000</td>\n",
       "      <td>34.0</td>\n",
       "      <td>34.0</td>\n",
       "      <td>34.0</td>\n",
       "    </tr>\n",
       "    <tr>\n",
       "      <th>mean</th>\n",
       "      <td>0.805058</td>\n",
       "      <td>1.0</td>\n",
       "      <td>1.0</td>\n",
       "      <td>1.0</td>\n",
       "    </tr>\n",
       "    <tr>\n",
       "      <th>std</th>\n",
       "      <td>0.258204</td>\n",
       "      <td>0.0</td>\n",
       "      <td>0.0</td>\n",
       "      <td>0.0</td>\n",
       "    </tr>\n",
       "    <tr>\n",
       "      <th>min</th>\n",
       "      <td>0.236844</td>\n",
       "      <td>1.0</td>\n",
       "      <td>1.0</td>\n",
       "      <td>1.0</td>\n",
       "    </tr>\n",
       "    <tr>\n",
       "      <th>25%</th>\n",
       "      <td>0.602928</td>\n",
       "      <td>1.0</td>\n",
       "      <td>1.0</td>\n",
       "      <td>1.0</td>\n",
       "    </tr>\n",
       "    <tr>\n",
       "      <th>50%</th>\n",
       "      <td>0.808654</td>\n",
       "      <td>1.0</td>\n",
       "      <td>1.0</td>\n",
       "      <td>1.0</td>\n",
       "    </tr>\n",
       "    <tr>\n",
       "      <th>75%</th>\n",
       "      <td>1.031691</td>\n",
       "      <td>1.0</td>\n",
       "      <td>1.0</td>\n",
       "      <td>1.0</td>\n",
       "    </tr>\n",
       "    <tr>\n",
       "      <th>max</th>\n",
       "      <td>1.267076</td>\n",
       "      <td>1.0</td>\n",
       "      <td>1.0</td>\n",
       "      <td>1.0</td>\n",
       "    </tr>\n",
       "  </tbody>\n",
       "</table>\n",
       "</div>"
      ],
      "text/plain": [
       "       wgt_cal_est_all  wgt_cal_est_cov  wgt_cal_est_sds  wgt_cal_ew\n",
       "count        34.000000             34.0             34.0        34.0\n",
       "mean          0.805058              1.0              1.0         1.0\n",
       "std           0.258204              0.0              0.0         0.0\n",
       "min           0.236844              1.0              1.0         1.0\n",
       "25%           0.602928              1.0              1.0         1.0\n",
       "50%           0.808654              1.0              1.0         1.0\n",
       "75%           1.031691              1.0              1.0         1.0\n",
       "max           1.267076              1.0              1.0         1.0"
      ]
     },
     "execution_count": 104,
     "metadata": {},
     "output_type": "execute_result"
    }
   ],
   "source": [
    "wgt_list = ['wgt_cal_' +  model for model in ['est_all', 'est_cov', 'est_sds','ew']]\n",
    "stats = df[wgt_list].describe()\n",
    "stats"
   ]
  },
  {
   "cell_type": "markdown",
   "metadata": {},
   "source": [
    "## Option 3: Different risk-free borrowing and lending rates"
   ]
  },
  {
   "cell_type": "code",
   "execution_count": null,
   "metadata": {},
   "outputs": [],
   "source": [
    "# Refresh data\n",
    "df = pd.concat((nominal, gold), axis=1).dropna()\n",
    "assets = ['TBills','S&P 500', 'Gold', 'Corporates', 'Treasuries']\n",
    "df = df[assets]\n",
    "\n",
    "# Rolling input estimation\n",
    "risky = assets[1:]\n",
    "df.columns = ['rf']+['r'+str(i) for i in range(n)]\n",
    "asset_list = [str(i) for i in range(n)]\n",
    "for asset in asset_list:\n",
    "    df['mn' + asset]=df['r'+asset].rolling(window).mean()\n",
    "    df['sd' + asset]=df['r'+asset].rolling(window).std()\n",
    "\n",
    "ret_list = ['r' + asset for asset in asset_list]\n",
    "corrs = df[ret_list].rolling(window, min_periods=window).corr()\n",
    "\n",
    "corr_list = []\n",
    "for j, asset in enumerate(asset_list):\n",
    "    for k in range(j+1,n):\n",
    "        df['c'+asset+str(k)]=corrs.loc[(slice(None),'r'+asset),'r'+str(k)].values\n",
    "df['year'] = df.index\n",
    "df = df.reset_index()\n",
    "\n",
    "\n",
    "# Prepare columns for the rolling optimization output\n",
    "model_list = ['ew', 'est_all', 'est_cov', 'est_sds']\n",
    "for model in model_list:\n",
    "    # df['portret_'+model] = np.nan      #portret is the realized portfolio return of the 100% risky asset portfolio\n",
    "    # if model not in ['ew']:\n",
    "    for asset in asset_list:\n",
    "        df['wgt' + asset + '_' +model] = np.nan\n",
    "    df['wgt_cal_'+model] =np.nan\n",
    "    df['raver_portret_'+model] =np.nan   #raver_portret_ is the realized return of the CAL choice of the raver investor\n",
    "\n",
    "mn_list = ['mn'+asset for asset in asset_list]\n",
    "sd_list = ['sd'+asset for asset in asset_list] \n",
    "\n",
    "# Choose optimal portfolios each time period\n",
    "for i in np.arange(window,window+T):\n",
    "    # Full estimation inputs at each point in time\n",
    "    means = df[mn_list].iloc[i-1].values\n",
    "    sds   = df[sd_list].iloc[i-1].values\n",
    "    C  = np.identity(n)\n",
    "    for j, asset in enumerate(asset_list):\n",
    "        for k in range(j+1,n):\n",
    "            C[j, k] = C[k, j] =    df.loc[i-1,'c'+asset+str(k)]  \n",
    "    cov = np.diag(sds) @ C @ np.diag(sds)\n",
    "\n",
    "    r = df.loc[i,'rf']\n",
    "    rb = r + excess_rb\n",
    "    ##### Note: all portfolio weights considered to be beginning of period weights\n",
    "    ##### (so multiply by contemporaneous realized returns)\n",
    "    # Full estimation tangency portfolio\n",
    "    model = 'est_all'\n",
    "    wgts = optimal(means, cov, raver, r, rb, short_lb)\n",
    "    for j, asset in enumerate(asset_list):\n",
    "        df.loc[i,'wgt'+asset+'_' + model] = wgts[j]\n",
    "    df.loc[i,'wgt_cal_'+model] = np.sum(wgts)\n",
    "    df.loc[i,'raver_portret_'+model] = r + wgts @ (df.loc[i,ret_list].values - r ) if np.sum(wgts)<=1 else rb + wgts @ (df.loc[i,ret_list].values -rb)\n",
    "    df.loc[i,'expret_'+model] = r + wgts @ (means-r) if np.sum(wgts)<=1 else rb + wgts @ (means-rb)\n",
    "    df.loc[i,'sd'+model] = np.sqrt(wgts @ cov @ wgts)\n",
    "\n",
    "    # Estimate only covariance matrix\n",
    "    model = 'est_cov'\n",
    "    means = means.mean() * np.ones(n)\n",
    "    wgts = optimal(means, cov, raver, r, rb, short_lb)\n",
    "    for j, asset in enumerate(asset_list):\n",
    "        df.loc[i,'wgt'+asset+'_' + model] = wgts[j]\n",
    "    df.loc[i,'wgt_cal_'+model] = np.sum(wgts)\n",
    "    df.loc[i,'raver_portret_'+model] = r + wgts @ (df.loc[i,ret_list].values - r ) if np.sum(wgts)<=1 else rb + wgts @ (df.loc[i,ret_list].values -rb)\n",
    "    df.loc[i,'expret_'+model] = r + wgts @ (means-r) if np.sum(wgts)<=1 else rb + wgts @ (means-rb)\n",
    "    df.loc[i,'sd'+model] = np.sqrt(wgts @ cov @ wgts)\n",
    "\n",
    "    # Estimate only standard deviations in covariance matrix\n",
    "    model = 'est_sds'\n",
    "    for j, asset in enumerate(asset_list):\n",
    "        for k in range(j+1,n):\n",
    "            cov[j, k] = cov[k, j] = 0.0\n",
    "    wgts = optimal(means, cov, raver, r, rb, short_lb)\n",
    "    for j, asset in enumerate(asset_list):\n",
    "        df.loc[i,'wgt'+asset+'_' + model] = wgts[j]\n",
    "    df.loc[i,'wgt_cal_'+model] = np.sum(wgts)\n",
    "    df.loc[i,'raver_portret_'+model] = r + wgts @ (df.loc[i,ret_list].values - r ) if np.sum(wgts)<=1 else rb + wgts @ (df.loc[i,ret_list].values -rb)\n",
    "    df.loc[i,'expret_'+model] = r + wgts @ (means-r) if np.sum(wgts)<=1 else rb + wgts @ (means-rb)\n",
    "    df.loc[i,'sd'+model] = np.sqrt(wgts @ cov @ wgts)\n",
    "\n",
    "    # Equal-weighted portfolio\n",
    "    model = 'ew'\n",
    "    for j, asset in enumerate(asset_list):\n",
    "        cov[j,j] = (sds.mean())**2\n",
    "    wgts = optimal(means, cov, raver, r, rb, short_lb)\n",
    "    for j, asset in enumerate(asset_list):\n",
    "        df.loc[i,'wgt'+asset+'_' + model] = wgts[j]    \n",
    "    # wgts = (1/n)*np.ones(n)\n",
    "    df.loc[i,'wgt_cal_'+model] = np.sum(wgts)\n",
    "    df.loc[i,'raver_portret_'+model] = r + wgts @ (df.loc[i,ret_list].values - r ) if np.sum(wgts)<=1 else rb + wgts @ (df.loc[i,ret_list].values -rb)\n",
    "    df.loc[i,'expret_'+model] = r + wgts @ (means-r) if np.sum(wgts)<=1 else rb + wgts @ (means-rb)\n",
    "    df.loc[i,'sd'+model] = np.sqrt(wgts @ cov @ wgts)\n"
   ]
  },
  {
   "cell_type": "code",
   "execution_count": 88,
   "metadata": {},
   "outputs": [
    {
     "data": {
      "text/html": [
       "<div>\n",
       "<style scoped>\n",
       "    .dataframe tbody tr th:only-of-type {\n",
       "        vertical-align: middle;\n",
       "    }\n",
       "\n",
       "    .dataframe tbody tr th {\n",
       "        vertical-align: top;\n",
       "    }\n",
       "\n",
       "    .dataframe thead th {\n",
       "        text-align: right;\n",
       "    }\n",
       "</style>\n",
       "<table border=\"1\" class=\"dataframe\">\n",
       "  <thead>\n",
       "    <tr style=\"text-align: right;\">\n",
       "      <th></th>\n",
       "      <th>raver_portret_est_all</th>\n",
       "      <th>raver_portret_est_cov</th>\n",
       "      <th>raver_portret_est_sds</th>\n",
       "      <th>raver_portret_ew</th>\n",
       "    </tr>\n",
       "  </thead>\n",
       "  <tbody>\n",
       "    <tr>\n",
       "      <th>count</th>\n",
       "      <td>34.000000</td>\n",
       "      <td>34.000000</td>\n",
       "      <td>34.000000</td>\n",
       "      <td>34.000000</td>\n",
       "    </tr>\n",
       "    <tr>\n",
       "      <th>mean</th>\n",
       "      <td>0.109585</td>\n",
       "      <td>0.112968</td>\n",
       "      <td>0.111712</td>\n",
       "      <td>0.097536</td>\n",
       "    </tr>\n",
       "    <tr>\n",
       "      <th>std</th>\n",
       "      <td>0.232138</td>\n",
       "      <td>0.161175</td>\n",
       "      <td>0.150348</td>\n",
       "      <td>0.106861</td>\n",
       "    </tr>\n",
       "    <tr>\n",
       "      <th>min</th>\n",
       "      <td>-0.619804</td>\n",
       "      <td>-0.266419</td>\n",
       "      <td>-0.275482</td>\n",
       "      <td>-0.150321</td>\n",
       "    </tr>\n",
       "    <tr>\n",
       "      <th>25%</th>\n",
       "      <td>-0.002704</td>\n",
       "      <td>0.049963</td>\n",
       "      <td>0.047921</td>\n",
       "      <td>0.041672</td>\n",
       "    </tr>\n",
       "    <tr>\n",
       "      <th>50%</th>\n",
       "      <td>0.151706</td>\n",
       "      <td>0.119686</td>\n",
       "      <td>0.134911</td>\n",
       "      <td>0.100836</td>\n",
       "    </tr>\n",
       "    <tr>\n",
       "      <th>75%</th>\n",
       "      <td>0.243888</td>\n",
       "      <td>0.175461</td>\n",
       "      <td>0.200955</td>\n",
       "      <td>0.145017</td>\n",
       "    </tr>\n",
       "    <tr>\n",
       "      <th>max</th>\n",
       "      <td>0.571062</td>\n",
       "      <td>0.458854</td>\n",
       "      <td>0.383299</td>\n",
       "      <td>0.303154</td>\n",
       "    </tr>\n",
       "  </tbody>\n",
       "</table>\n",
       "</div>"
      ],
      "text/plain": [
       "       raver_portret_est_all  raver_portret_est_cov  raver_portret_est_sds  \\\n",
       "count              34.000000              34.000000              34.000000   \n",
       "mean                0.109585               0.112968               0.111712   \n",
       "std                 0.232138               0.161175               0.150348   \n",
       "min                -0.619804              -0.266419              -0.275482   \n",
       "25%                -0.002704               0.049963               0.047921   \n",
       "50%                 0.151706               0.119686               0.134911   \n",
       "75%                 0.243888               0.175461               0.200955   \n",
       "max                 0.571062               0.458854               0.383299   \n",
       "\n",
       "       raver_portret_ew  \n",
       "count         34.000000  \n",
       "mean           0.097536  \n",
       "std            0.106861  \n",
       "min           -0.150321  \n",
       "25%            0.041672  \n",
       "50%            0.100836  \n",
       "75%            0.145017  \n",
       "max            0.303154  "
      ]
     },
     "execution_count": 88,
     "metadata": {},
     "output_type": "execute_result"
    }
   ],
   "source": [
    "portret_list = ['raver_portret_' +  model for model in ['est_all', 'est_cov', 'est_sds','ew']]\n",
    "stats = df[portret_list].describe()\n",
    "stats"
   ]
  },
  {
   "cell_type": "code",
   "execution_count": 89,
   "metadata": {},
   "outputs": [
    {
     "data": {
      "text/html": [
       "<div>\n",
       "<style scoped>\n",
       "    .dataframe tbody tr th:only-of-type {\n",
       "        vertical-align: middle;\n",
       "    }\n",
       "\n",
       "    .dataframe tbody tr th {\n",
       "        vertical-align: top;\n",
       "    }\n",
       "\n",
       "    .dataframe thead th {\n",
       "        text-align: right;\n",
       "    }\n",
       "</style>\n",
       "<table border=\"1\" class=\"dataframe\">\n",
       "  <thead>\n",
       "    <tr style=\"text-align: right;\">\n",
       "      <th></th>\n",
       "      <th>index</th>\n",
       "      <th>sr</th>\n",
       "      <th>avg_ret</th>\n",
       "      <th>sd_ret</th>\n",
       "      <th>label</th>\n",
       "      <th>xaxis_label</th>\n",
       "    </tr>\n",
       "  </thead>\n",
       "  <tbody>\n",
       "    <tr>\n",
       "      <th>0</th>\n",
       "      <td>est_all</td>\n",
       "      <td>0.351030</td>\n",
       "      <td>0.109585</td>\n",
       "      <td>0.232138</td>\n",
       "      <td>estimate all inputs</td>\n",
       "      <td>Est-All</td>\n",
       "    </tr>\n",
       "    <tr>\n",
       "      <th>1</th>\n",
       "      <td>est_cov</td>\n",
       "      <td>0.526570</td>\n",
       "      <td>0.112968</td>\n",
       "      <td>0.161175</td>\n",
       "      <td>estimate covariance matrix only</td>\n",
       "      <td>Est-SD-Corr</td>\n",
       "    </tr>\n",
       "    <tr>\n",
       "      <th>2</th>\n",
       "      <td>est_sds</td>\n",
       "      <td>0.556138</td>\n",
       "      <td>0.111712</td>\n",
       "      <td>0.150348</td>\n",
       "      <td>estimate standard deviations only</td>\n",
       "      <td>Est-SD</td>\n",
       "    </tr>\n",
       "    <tr>\n",
       "      <th>3</th>\n",
       "      <td>ew</td>\n",
       "      <td>0.649799</td>\n",
       "      <td>0.097536</td>\n",
       "      <td>0.106861</td>\n",
       "      <td>equal weights</td>\n",
       "      <td>Est-None</td>\n",
       "    </tr>\n",
       "  </tbody>\n",
       "</table>\n",
       "</div>"
      ],
      "text/plain": [
       "     index        sr   avg_ret    sd_ret                              label  \\\n",
       "0  est_all  0.351030  0.109585  0.232138                estimate all inputs   \n",
       "1  est_cov  0.526570  0.112968  0.161175    estimate covariance matrix only   \n",
       "2  est_sds  0.556138  0.111712  0.150348  estimate standard deviations only   \n",
       "3       ew  0.649799  0.097536  0.106861                      equal weights   \n",
       "\n",
       "   xaxis_label  \n",
       "0      Est-All  \n",
       "1  Est-SD-Corr  \n",
       "2       Est-SD  \n",
       "3     Est-None  "
      ]
     },
     "execution_count": 89,
     "metadata": {},
     "output_type": "execute_result"
    }
   ],
   "source": [
    "# Summarize sharpe ratio, avg ret, sd(ret) for each model\n",
    "sr_df = pd.DataFrame(dtype=float, columns = ['sr','avg_ret','sd_ret'], index = ['est_all', 'est_cov', 'est_sds','ew'])\n",
    "r = df[np.isnan(df['raver_portret_ew'])==False].rf.mean()\n",
    "for model in ['est_all', 'est_cov', 'est_sds','ew']:\n",
    "    sr_df.loc[model,'sr'] = (stats.loc['mean','raver_portret_' +  model] - r)/stats.loc['std','raver_portret_' +  model]\n",
    "    sr_df.loc[model,'avg_ret'] = stats.loc['mean','raver_portret_' +  model]\n",
    "    sr_df.loc[model,'sd_ret'] = stats.loc['std','raver_portret_' +  model]\n",
    "\n",
    "label_dict = {'true': 'theoretical optimal weights', \n",
    "            'ew': 'equal weights',\n",
    "            'est_all': 'estimate all inputs',\n",
    "            'est_cov': 'estimate covariance matrix only',\n",
    "            'est_sds': 'estimate standard deviations only'}\n",
    "\n",
    "xaxis_label_dict = {'true': 'theoretical optimal weights', \n",
    "            'ew': 'Est-None',\n",
    "            'est_all': 'Est-All',\n",
    "            'est_cov': 'Est-SD-Corr',\n",
    "            'est_sds': 'Est-SD'}\n",
    "sr_df = sr_df.reset_index()\n",
    "sr_df['label'] = sr_df['index'].apply(lambda x: label_dict[x])\n",
    "sr_df['xaxis_label'] = sr_df['index'].apply(lambda x: xaxis_label_dict[x])\n",
    "\n",
    "df[np.isnan(df['raver_portret_ew'])==False].rf\n",
    "sr_df\n",
    "\n"
   ]
  },
  {
   "cell_type": "code",
   "execution_count": 90,
   "metadata": {},
   "outputs": [
    {
     "data": {
      "application/vnd.plotly.v1+json": {
       "config": {
        "plotlyServerURL": "https://plot.ly"
       },
       "data": [
        {
         "customdata": [
          [
           "estimate all inputs",
           0.10958519033651797,
           0.23213800871881504
          ],
          [
           "estimate covariance matrix only",
           0.11296762342961603,
           0.16117480352496907
          ],
          [
           "estimate standard deviations only",
           0.11171225843194373,
           0.15034849319117924
          ],
          [
           "equal weights",
           0.0975359625060099,
           0.10686097681436335
          ]
         ],
         "hovertemplate": "Strategy: %{customdata[0]} <br>Sharpe ratio: %{y:0.3f}<br>Average return: %{customdata[1]:0.1%}<br>SD(return): %{customdata[2]:0.1%}<br><extra></extra>",
         "type": "bar",
         "x": [
          "Est-All",
          "Est-SD-Corr",
          "Est-SD",
          "Est-None"
         ],
         "y": [
          0.3510299613088147,
          0.5265700807807779,
          0.5561376940969719,
          0.6497991171182105
         ]
        }
       ],
       "layout": {
        "template": {
         "data": {
          "bar": [
           {
            "error_x": {
             "color": "#2a3f5f"
            },
            "error_y": {
             "color": "#2a3f5f"
            },
            "marker": {
             "line": {
              "color": "#E5ECF6",
              "width": 0.5
             },
             "pattern": {
              "fillmode": "overlay",
              "size": 10,
              "solidity": 0.2
             }
            },
            "type": "bar"
           }
          ],
          "barpolar": [
           {
            "marker": {
             "line": {
              "color": "#E5ECF6",
              "width": 0.5
             },
             "pattern": {
              "fillmode": "overlay",
              "size": 10,
              "solidity": 0.2
             }
            },
            "type": "barpolar"
           }
          ],
          "carpet": [
           {
            "aaxis": {
             "endlinecolor": "#2a3f5f",
             "gridcolor": "white",
             "linecolor": "white",
             "minorgridcolor": "white",
             "startlinecolor": "#2a3f5f"
            },
            "baxis": {
             "endlinecolor": "#2a3f5f",
             "gridcolor": "white",
             "linecolor": "white",
             "minorgridcolor": "white",
             "startlinecolor": "#2a3f5f"
            },
            "type": "carpet"
           }
          ],
          "choropleth": [
           {
            "colorbar": {
             "outlinewidth": 0,
             "ticks": ""
            },
            "type": "choropleth"
           }
          ],
          "contour": [
           {
            "colorbar": {
             "outlinewidth": 0,
             "ticks": ""
            },
            "colorscale": [
             [
              0,
              "#0d0887"
             ],
             [
              0.1111111111111111,
              "#46039f"
             ],
             [
              0.2222222222222222,
              "#7201a8"
             ],
             [
              0.3333333333333333,
              "#9c179e"
             ],
             [
              0.4444444444444444,
              "#bd3786"
             ],
             [
              0.5555555555555556,
              "#d8576b"
             ],
             [
              0.6666666666666666,
              "#ed7953"
             ],
             [
              0.7777777777777778,
              "#fb9f3a"
             ],
             [
              0.8888888888888888,
              "#fdca26"
             ],
             [
              1,
              "#f0f921"
             ]
            ],
            "type": "contour"
           }
          ],
          "contourcarpet": [
           {
            "colorbar": {
             "outlinewidth": 0,
             "ticks": ""
            },
            "type": "contourcarpet"
           }
          ],
          "heatmap": [
           {
            "colorbar": {
             "outlinewidth": 0,
             "ticks": ""
            },
            "colorscale": [
             [
              0,
              "#0d0887"
             ],
             [
              0.1111111111111111,
              "#46039f"
             ],
             [
              0.2222222222222222,
              "#7201a8"
             ],
             [
              0.3333333333333333,
              "#9c179e"
             ],
             [
              0.4444444444444444,
              "#bd3786"
             ],
             [
              0.5555555555555556,
              "#d8576b"
             ],
             [
              0.6666666666666666,
              "#ed7953"
             ],
             [
              0.7777777777777778,
              "#fb9f3a"
             ],
             [
              0.8888888888888888,
              "#fdca26"
             ],
             [
              1,
              "#f0f921"
             ]
            ],
            "type": "heatmap"
           }
          ],
          "heatmapgl": [
           {
            "colorbar": {
             "outlinewidth": 0,
             "ticks": ""
            },
            "colorscale": [
             [
              0,
              "#0d0887"
             ],
             [
              0.1111111111111111,
              "#46039f"
             ],
             [
              0.2222222222222222,
              "#7201a8"
             ],
             [
              0.3333333333333333,
              "#9c179e"
             ],
             [
              0.4444444444444444,
              "#bd3786"
             ],
             [
              0.5555555555555556,
              "#d8576b"
             ],
             [
              0.6666666666666666,
              "#ed7953"
             ],
             [
              0.7777777777777778,
              "#fb9f3a"
             ],
             [
              0.8888888888888888,
              "#fdca26"
             ],
             [
              1,
              "#f0f921"
             ]
            ],
            "type": "heatmapgl"
           }
          ],
          "histogram": [
           {
            "marker": {
             "pattern": {
              "fillmode": "overlay",
              "size": 10,
              "solidity": 0.2
             }
            },
            "type": "histogram"
           }
          ],
          "histogram2d": [
           {
            "colorbar": {
             "outlinewidth": 0,
             "ticks": ""
            },
            "colorscale": [
             [
              0,
              "#0d0887"
             ],
             [
              0.1111111111111111,
              "#46039f"
             ],
             [
              0.2222222222222222,
              "#7201a8"
             ],
             [
              0.3333333333333333,
              "#9c179e"
             ],
             [
              0.4444444444444444,
              "#bd3786"
             ],
             [
              0.5555555555555556,
              "#d8576b"
             ],
             [
              0.6666666666666666,
              "#ed7953"
             ],
             [
              0.7777777777777778,
              "#fb9f3a"
             ],
             [
              0.8888888888888888,
              "#fdca26"
             ],
             [
              1,
              "#f0f921"
             ]
            ],
            "type": "histogram2d"
           }
          ],
          "histogram2dcontour": [
           {
            "colorbar": {
             "outlinewidth": 0,
             "ticks": ""
            },
            "colorscale": [
             [
              0,
              "#0d0887"
             ],
             [
              0.1111111111111111,
              "#46039f"
             ],
             [
              0.2222222222222222,
              "#7201a8"
             ],
             [
              0.3333333333333333,
              "#9c179e"
             ],
             [
              0.4444444444444444,
              "#bd3786"
             ],
             [
              0.5555555555555556,
              "#d8576b"
             ],
             [
              0.6666666666666666,
              "#ed7953"
             ],
             [
              0.7777777777777778,
              "#fb9f3a"
             ],
             [
              0.8888888888888888,
              "#fdca26"
             ],
             [
              1,
              "#f0f921"
             ]
            ],
            "type": "histogram2dcontour"
           }
          ],
          "mesh3d": [
           {
            "colorbar": {
             "outlinewidth": 0,
             "ticks": ""
            },
            "type": "mesh3d"
           }
          ],
          "parcoords": [
           {
            "line": {
             "colorbar": {
              "outlinewidth": 0,
              "ticks": ""
             }
            },
            "type": "parcoords"
           }
          ],
          "pie": [
           {
            "automargin": true,
            "type": "pie"
           }
          ],
          "scatter": [
           {
            "fillpattern": {
             "fillmode": "overlay",
             "size": 10,
             "solidity": 0.2
            },
            "type": "scatter"
           }
          ],
          "scatter3d": [
           {
            "line": {
             "colorbar": {
              "outlinewidth": 0,
              "ticks": ""
             }
            },
            "marker": {
             "colorbar": {
              "outlinewidth": 0,
              "ticks": ""
             }
            },
            "type": "scatter3d"
           }
          ],
          "scattercarpet": [
           {
            "marker": {
             "colorbar": {
              "outlinewidth": 0,
              "ticks": ""
             }
            },
            "type": "scattercarpet"
           }
          ],
          "scattergeo": [
           {
            "marker": {
             "colorbar": {
              "outlinewidth": 0,
              "ticks": ""
             }
            },
            "type": "scattergeo"
           }
          ],
          "scattergl": [
           {
            "marker": {
             "colorbar": {
              "outlinewidth": 0,
              "ticks": ""
             }
            },
            "type": "scattergl"
           }
          ],
          "scattermapbox": [
           {
            "marker": {
             "colorbar": {
              "outlinewidth": 0,
              "ticks": ""
             }
            },
            "type": "scattermapbox"
           }
          ],
          "scatterpolar": [
           {
            "marker": {
             "colorbar": {
              "outlinewidth": 0,
              "ticks": ""
             }
            },
            "type": "scatterpolar"
           }
          ],
          "scatterpolargl": [
           {
            "marker": {
             "colorbar": {
              "outlinewidth": 0,
              "ticks": ""
             }
            },
            "type": "scatterpolargl"
           }
          ],
          "scatterternary": [
           {
            "marker": {
             "colorbar": {
              "outlinewidth": 0,
              "ticks": ""
             }
            },
            "type": "scatterternary"
           }
          ],
          "surface": [
           {
            "colorbar": {
             "outlinewidth": 0,
             "ticks": ""
            },
            "colorscale": [
             [
              0,
              "#0d0887"
             ],
             [
              0.1111111111111111,
              "#46039f"
             ],
             [
              0.2222222222222222,
              "#7201a8"
             ],
             [
              0.3333333333333333,
              "#9c179e"
             ],
             [
              0.4444444444444444,
              "#bd3786"
             ],
             [
              0.5555555555555556,
              "#d8576b"
             ],
             [
              0.6666666666666666,
              "#ed7953"
             ],
             [
              0.7777777777777778,
              "#fb9f3a"
             ],
             [
              0.8888888888888888,
              "#fdca26"
             ],
             [
              1,
              "#f0f921"
             ]
            ],
            "type": "surface"
           }
          ],
          "table": [
           {
            "cells": {
             "fill": {
              "color": "#EBF0F8"
             },
             "line": {
              "color": "white"
             }
            },
            "header": {
             "fill": {
              "color": "#C8D4E3"
             },
             "line": {
              "color": "white"
             }
            },
            "type": "table"
           }
          ]
         },
         "layout": {
          "annotationdefaults": {
           "arrowcolor": "#2a3f5f",
           "arrowhead": 0,
           "arrowwidth": 1
          },
          "autotypenumbers": "strict",
          "coloraxis": {
           "colorbar": {
            "outlinewidth": 0,
            "ticks": ""
           }
          },
          "colorscale": {
           "diverging": [
            [
             0,
             "#8e0152"
            ],
            [
             0.1,
             "#c51b7d"
            ],
            [
             0.2,
             "#de77ae"
            ],
            [
             0.3,
             "#f1b6da"
            ],
            [
             0.4,
             "#fde0ef"
            ],
            [
             0.5,
             "#f7f7f7"
            ],
            [
             0.6,
             "#e6f5d0"
            ],
            [
             0.7,
             "#b8e186"
            ],
            [
             0.8,
             "#7fbc41"
            ],
            [
             0.9,
             "#4d9221"
            ],
            [
             1,
             "#276419"
            ]
           ],
           "sequential": [
            [
             0,
             "#0d0887"
            ],
            [
             0.1111111111111111,
             "#46039f"
            ],
            [
             0.2222222222222222,
             "#7201a8"
            ],
            [
             0.3333333333333333,
             "#9c179e"
            ],
            [
             0.4444444444444444,
             "#bd3786"
            ],
            [
             0.5555555555555556,
             "#d8576b"
            ],
            [
             0.6666666666666666,
             "#ed7953"
            ],
            [
             0.7777777777777778,
             "#fb9f3a"
            ],
            [
             0.8888888888888888,
             "#fdca26"
            ],
            [
             1,
             "#f0f921"
            ]
           ],
           "sequentialminus": [
            [
             0,
             "#0d0887"
            ],
            [
             0.1111111111111111,
             "#46039f"
            ],
            [
             0.2222222222222222,
             "#7201a8"
            ],
            [
             0.3333333333333333,
             "#9c179e"
            ],
            [
             0.4444444444444444,
             "#bd3786"
            ],
            [
             0.5555555555555556,
             "#d8576b"
            ],
            [
             0.6666666666666666,
             "#ed7953"
            ],
            [
             0.7777777777777778,
             "#fb9f3a"
            ],
            [
             0.8888888888888888,
             "#fdca26"
            ],
            [
             1,
             "#f0f921"
            ]
           ]
          },
          "colorway": [
           "#636efa",
           "#EF553B",
           "#00cc96",
           "#ab63fa",
           "#FFA15A",
           "#19d3f3",
           "#FF6692",
           "#B6E880",
           "#FF97FF",
           "#FECB52"
          ],
          "font": {
           "color": "#2a3f5f"
          },
          "geo": {
           "bgcolor": "white",
           "lakecolor": "white",
           "landcolor": "#E5ECF6",
           "showlakes": true,
           "showland": true,
           "subunitcolor": "white"
          },
          "hoverlabel": {
           "align": "left"
          },
          "hovermode": "closest",
          "mapbox": {
           "style": "light"
          },
          "paper_bgcolor": "white",
          "plot_bgcolor": "#E5ECF6",
          "polar": {
           "angularaxis": {
            "gridcolor": "white",
            "linecolor": "white",
            "ticks": ""
           },
           "bgcolor": "#E5ECF6",
           "radialaxis": {
            "gridcolor": "white",
            "linecolor": "white",
            "ticks": ""
           }
          },
          "scene": {
           "xaxis": {
            "backgroundcolor": "#E5ECF6",
            "gridcolor": "white",
            "gridwidth": 2,
            "linecolor": "white",
            "showbackground": true,
            "ticks": "",
            "zerolinecolor": "white"
           },
           "yaxis": {
            "backgroundcolor": "#E5ECF6",
            "gridcolor": "white",
            "gridwidth": 2,
            "linecolor": "white",
            "showbackground": true,
            "ticks": "",
            "zerolinecolor": "white"
           },
           "zaxis": {
            "backgroundcolor": "#E5ECF6",
            "gridcolor": "white",
            "gridwidth": 2,
            "linecolor": "white",
            "showbackground": true,
            "ticks": "",
            "zerolinecolor": "white"
           }
          },
          "shapedefaults": {
           "line": {
            "color": "#2a3f5f"
           }
          },
          "ternary": {
           "aaxis": {
            "gridcolor": "white",
            "linecolor": "white",
            "ticks": ""
           },
           "baxis": {
            "gridcolor": "white",
            "linecolor": "white",
            "ticks": ""
           },
           "bgcolor": "#E5ECF6",
           "caxis": {
            "gridcolor": "white",
            "linecolor": "white",
            "ticks": ""
           }
          },
          "title": {
           "x": 0.05
          },
          "xaxis": {
           "automargin": true,
           "gridcolor": "white",
           "linecolor": "white",
           "ticks": "",
           "title": {
            "standoff": 15
           },
           "zerolinecolor": "white",
           "zerolinewidth": 2
          },
          "yaxis": {
           "automargin": true,
           "gridcolor": "white",
           "linecolor": "white",
           "ticks": "",
           "title": {
            "standoff": 15
           },
           "zerolinecolor": "white",
           "zerolinewidth": 2
          }
         }
        },
        "xaxis": {
         "title": {
          "text": "Strategy"
         }
        },
        "yaxis": {
         "title": {
          "text": "Sharpe ratio"
         }
        }
       }
      }
     },
     "metadata": {},
     "output_type": "display_data"
    }
   ],
   "source": [
    "import plotly.graph_objects as go\n",
    "\n",
    "string =\"Strategy: %{customdata[0]} <br>\"\n",
    "string += \"Sharpe ratio: %{y:0.3f}<br>\"\n",
    "string += \"Average return: %{customdata[1]:0.1%}<br>\"\n",
    "string += \"SD(return): %{customdata[2]:0.1%}<br>\"\n",
    "string += \"<extra></extra>\"\n",
    "\n",
    "fig = go.Figure()\n",
    "fig.add_trace(go.Bar(x=sr_df['xaxis_label'], y=sr_df['sr'], customdata=sr_df[['label','avg_ret','sd_ret']], hovertemplate=string))\n",
    "fig.layout.yaxis[\"title\"] = \"Sharpe ratio\"\n",
    "fig.layout.xaxis[\"title\"] = \"Strategy\"\n",
    "fig.show()"
   ]
  },
  {
   "cell_type": "code",
   "execution_count": 92,
   "metadata": {},
   "outputs": [
    {
     "data": {
      "application/vnd.plotly.v1+json": {
       "config": {
        "plotlyServerURL": "https://plot.ly"
       },
       "data": [
        {
         "customdata": [
          [
           null,
           null,
           null,
           null,
           null
          ],
          [
           null,
           null,
           null,
           null,
           null
          ],
          [
           null,
           null,
           null,
           null,
           null
          ],
          [
           null,
           null,
           null,
           null,
           null
          ],
          [
           null,
           null,
           null,
           null,
           null
          ],
          [
           null,
           null,
           null,
           null,
           null
          ],
          [
           null,
           null,
           null,
           null,
           null
          ],
          [
           null,
           null,
           null,
           null,
           null
          ],
          [
           null,
           null,
           null,
           null,
           null
          ],
          [
           null,
           null,
           null,
           null,
           null
          ],
          [
           null,
           null,
           null,
           null,
           null
          ],
          [
           null,
           null,
           null,
           null,
           null
          ],
          [
           null,
           null,
           null,
           null,
           null
          ],
          [
           null,
           null,
           null,
           null,
           null
          ],
          [
           null,
           null,
           null,
           null,
           null
          ],
          [
           null,
           null,
           null,
           null,
           null
          ],
          [
           null,
           null,
           null,
           null,
           null
          ],
          [
           null,
           null,
           null,
           null,
           null
          ],
          [
           null,
           null,
           null,
           null,
           null
          ],
          [
           null,
           null,
           null,
           null,
           null
          ],
          [
           0.9999999875761736,
           0.04188266069762368,
           0.273212474604511,
           2.091329569580516,
           -1.4064247173064772
          ],
          [
           0.9999438107676126,
           0.007575479389859948,
           0.25648471310646714,
           2.268181114799031,
           -1.5322974965277454
          ],
          [
           1.000000003329399,
           0.17839724980015145,
           0.2509537313197732,
           1.8219830553069827,
           -1.2513340330975082
          ],
          [
           1.3570777685982724,
           0.09303399474000142,
           0.3338470154746325,
           3.403219431125486,
           -2.4730226727418474
          ],
          [
           2.221995267681848,
           0.18162252645483856,
           0.4414188051650195,
           4.191410556071251,
           -2.592456620009261
          ],
          [
           2.487363163690141,
           0.16088121851047463,
           0.49029426194144493,
           4.811891133093117,
           -2.9757034498548953
          ],
          [
           1.93189917521972,
           0.18566109511468673,
           0.37701553242045455,
           4.0663577023058854,
           -2.6971351546213063
          ],
          [
           1.8967364867187926,
           0.6705854800824519,
           0.23200565078829366,
           4.9538701802338885,
           -3.9597248243858414
          ],
          [
           2.2064806575647564,
           0.8795558202530546,
           0.23301927152897214,
           5.118394290035844,
           -4.024488724253114
          ],
          [
           2.0765843303036915,
           0.9630674688946428,
           0.20133340866127566,
           4.933928964182641,
           -4.021745511434868
          ],
          [
           2.142737202378167,
           1.140238953274679,
           0.16868927827090258,
           4.635130935083272,
           -3.801321964250687
          ],
          [
           1.9376165079878422,
           1.3326610455195234,
           0.04937964789394424,
           3.153179185908427,
           -2.5976033713340527
          ],
          [
           1.0000000382014442,
           1.3710951647727474,
           -1.0376480408015833,
           3.0368373473522334,
           -2.3702844331219532
          ],
          [
           1.4078426726884832,
           0.5664530732592422,
           -1.1087361563326852,
           3.754229128503801,
           -1.8041033727418747
          ],
          [
           2.2146917087781017,
           0.325231391708379,
           -0.7627570240852541,
           5.046075552837359,
           -2.393858211682382
          ],
          [
           2.9298904771849488,
           -0.07797663205489078,
           -0.38289096732343547,
           5.779378841188497,
           -2.388620764625222
          ],
          [
           2.8641819057544895,
           -0.18127345782027263,
           -0.6268376137797204,
           6.776168930536386,
           -3.1038759531819036
          ],
          [
           1.8770117977403187,
           -0.2836361542317798,
           -0.9055460897482501,
           6.092854176094939,
           -3.0266601343745902
          ],
          [
           1.0000000332732828,
           -0.23806090748938374,
           -0.7853833012261162,
           4.594311918389446,
           -2.570867676400663
          ],
          [
           1.0000000157539932,
           -0.14290636627578576,
           -0.6314333132115931,
           4.5569331108700935,
           -2.7825934156287215
          ],
          [
           2.891128624687744,
           0.1430253349410184,
           0.09947398369550654,
           3.980860615366672,
           -1.332231309315453
          ],
          [
           2.5693022431099566,
           0.04082572651104871,
           0.18100083223201816,
           1.7670119135721023,
           0.5804637707947875
          ],
          [
           2.5590187486886267,
           0.03513783573068067,
           0.1831962899349375,
           1.76931436813818,
           0.5713702548848284
          ],
          [
           2.9232696195760295,
           0.1764948790672659,
           0.38486542338025853,
           1.6000509702386871,
           0.761858346889818
          ],
          [
           2.9333556808296435,
           0.16083288584330255,
           0.3980915624913937,
           1.6021481685648116,
           0.7722830639301358
          ],
          [
           2.920153605150989,
           0.21426962253516343,
           0.4742983002427066,
           1.471111837148209,
           0.7604738452249098
          ],
          [
           2.029347511906727,
           0.32902471754011026,
           0.15717873295848628,
           1.0826928754602925,
           0.4604511859478378
          ],
          [
           2.964578443469976,
           0.46358013753901106,
           0.21895011148482835,
           1.3510404474389939,
           0.9310077470071425
          ],
          [
           2.8625803063540314,
           0.49999521500314686,
           0.03710083607789165,
           1.265321004507534,
           1.0601632507654588
          ],
          [
           2.2507186669349473,
           0.31772543553471844,
           0.026834588452499888,
           1.2351072073870568,
           0.6710514355606721
          ],
          [
           1.0000098336536647,
           0.12691429058562076,
           0.11856958089367825,
           0.6937401185781139,
           0.060785843596251936
          ],
          [
           1.0000000087056506,
           0.020479169784829616,
           0.15808649404121913,
           0.8531751129754389,
           -0.031740768095837105
          ],
          [
           2.7142938838357615,
           0.24216703725633357,
           0.052046360163519816,
           1.4890528382302624,
           0.9310276481856459
          ],
          [
           2.585154502563323,
           0.303257222835017,
           0.1906411625807666,
           1.2441012729074132,
           0.8471548442401264
          ]
         ],
         "hovertemplate": "Strategy: estimate all inputs <br>Year: %{x:4.0f}<br>Return: %{y:0.1%}<br>Weight in Risky Portfolio: %{customdata[0]: 0.1%} <br>Risky Portfolio Weights:<br>  S&P 500: %{customdata[1]: 0.1%} <br>  Gold: %{customdata[2]: 0.1%} <br>  Corporates: %{customdata[3]: 0.1%} <br>  Treasuries: %{customdata[4]: 0.1%} <br><extra></extra>",
         "name": "Est-All",
         "type": "scatter",
         "x": [
          1968,
          1969,
          1970,
          1971,
          1972,
          1973,
          1974,
          1975,
          1976,
          1977,
          1978,
          1979,
          1980,
          1981,
          1982,
          1983,
          1984,
          1985,
          1986,
          1987,
          1988,
          1989,
          1990,
          1991,
          1992,
          1993,
          1994,
          1995,
          1996,
          1997,
          1998,
          1999,
          2000,
          2001,
          2002,
          2003,
          2004,
          2005,
          2006,
          2007,
          2008,
          2009,
          2010,
          2011,
          2012,
          2013,
          2014,
          2015,
          2016,
          2017,
          2018,
          2019,
          2020,
          2021
         ],
         "y": [
          null,
          null,
          null,
          null,
          null,
          null,
          null,
          null,
          null,
          null,
          null,
          null,
          null,
          null,
          null,
          null,
          null,
          null,
          null,
          null,
          0.1644962322806972,
          0.08368598108637428,
          0.022120436159423676,
          0.19907709203996815,
          0.1646827261145909,
          0.36480169251753614,
          0.08086148671580276,
          0.23561142590988948,
          0.2683137776414588,
          0.361686167702098,
          0.02287600434443518,
          0.4389187841674938,
          -0.17035362174026478,
          0.0801087308473758,
          -0.06961261180049903,
          0.5710617887219172,
          0.37990060371582735,
          -0.01862075620057177,
          0.048394238290024316,
          -0.34782993477685076,
          -0.6198036150697277,
          0.3431795387359524,
          0.18758938065015707,
          0.29411298539408454,
          0.15435377902961964,
          -0.22564913596692043,
          0.1646134819644794,
          -0.0957015366698151,
          0.12030340596315911,
          0.14905780682086406,
          -0.025898777946202038,
          0.16389016076369756,
          0.24664731800271422,
          -0.010978563967178313
         ]
        },
        {
         "customdata": [
          [
           null,
           null,
           null,
           null,
           null
          ],
          [
           null,
           null,
           null,
           null,
           null
          ],
          [
           null,
           null,
           null,
           null,
           null
          ],
          [
           null,
           null,
           null,
           null,
           null
          ],
          [
           null,
           null,
           null,
           null,
           null
          ],
          [
           null,
           null,
           null,
           null,
           null
          ],
          [
           null,
           null,
           null,
           null,
           null
          ],
          [
           null,
           null,
           null,
           null,
           null
          ],
          [
           null,
           null,
           null,
           null,
           null
          ],
          [
           null,
           null,
           null,
           null,
           null
          ],
          [
           null,
           null,
           null,
           null,
           null
          ],
          [
           null,
           null,
           null,
           null,
           null
          ],
          [
           null,
           null,
           null,
           null,
           null
          ],
          [
           null,
           null,
           null,
           null,
           null
          ],
          [
           null,
           null,
           null,
           null,
           null
          ],
          [
           null,
           null,
           null,
           null,
           null
          ],
          [
           null,
           null,
           null,
           null,
           null
          ],
          [
           null,
           null,
           null,
           null,
           null
          ],
          [
           null,
           null,
           null,
           null,
           null
          ],
          [
           null,
           null,
           null,
           null,
           null
          ],
          [
           1.00000000106655,
           0.05856624462425279,
           0.12708502819514628,
           0.8641389546571534,
           -0.04979022641000244
          ],
          [
           0.9999999115486515,
           0.053563203352148384,
           0.12720390009223745,
           0.8684827245356042,
           -0.04924991643133845
          ],
          [
           1.0000000133731666,
           0.07280789507692767,
           0.13800338132479542,
           0.8416290483956238,
           -0.05244031142418017
          ],
          [
           1.3264434157604494,
           0.06629750376540593,
           0.18821341341548128,
           1.3754128845825973,
           -0.30348038600303495
          ],
          [
           2.1702120760244883,
           0.09010557425554712,
           0.3136385182772719,
           2.3044098977834304,
           -0.5379419142917611
          ],
          [
           2.168773269523186,
           0.0913513564223356,
           0.3350055936199536,
           2.57604190531179,
           -0.8336255858308932
          ],
          [
           1.5042240569093595,
           0.060440419099841956,
           0.2389897817549566,
           1.7927419766916155,
           -0.5879481206370547
          ],
          [
           1.000000030176734,
           0.12491954269894111,
           0.1365773150214059,
           1.4207710237145543,
           -0.6822678512581674
          ],
          [
           1.2129636813406444,
           0.1396732957500992,
           0.1698901901560698,
           1.8079854437790104,
           -0.9045852483445349
          ],
          [
           1.0269427931342778,
           0.15769724627063098,
           0.13421246384320107,
           1.5547330979585618,
           -0.8197000149381162
          ],
          [
           1.203552587698556,
           0.16959345475803467,
           0.16066732016234275,
           1.8947351125948897,
           -1.0214432998167113
          ],
          [
           1.214662740822662,
           0.22257555944974994,
           0.1454280930988818,
           1.6304348695265054,
           -0.7837757812524752
          ],
          [
           0.9999999976210716,
           0.1725642426694668,
           0.21739687856739387,
           1.2601726377362448,
           -0.6501337613520339
          ],
          [
           1.000000154181016,
           0.0294000097820771,
           0.19161236735631745,
           1.2916202036016127,
           -0.5126324265589913
          ],
          [
           2.05262566579088,
           0.1323430219459412,
           0.5587096772131153,
           2.430960882919713,
           -1.0693879162878897
          ],
          [
           2.442754220319479,
           0.11790110811470074,
           0.5960371218997904,
           2.7489697902118966,
           -1.0201537999069088
          ],
          [
           2.1915118130162745,
           0.024242977379032284,
           0.37266979429446234,
           2.52909799526452,
           -0.7344989539217401
          ],
          [
           1.2976231132819616,
           0.01717655818541029,
           0.22413547182073335,
           1.483561328661253,
           -0.427250245385435
          ],
          [
           1.0000000040142005,
           0.030034601686824983,
           0.17359605435339726,
           1.0405082461705086,
           -0.24413889819653053
          ],
          [
           1.000000005434011,
           0.027944336979332293,
           0.1870473111113675,
           0.9009473984687304,
           -0.11593904112541915
          ],
          [
           2.676025527805176,
           0.0825332871387983,
           0.5009378451056805,
           2.3078324298458677,
           -0.21527803428517023
          ],
          [
           2.6747365024120655,
           0.03203461050888391,
           0.542336827538533,
           1.5351993760906988,
           0.5651656882739498
          ],
          [
           2.700462859777396,
           0.16238117873443275,
           0.5063128461769165,
           1.0207633594284033,
           1.0110054754376432
          ],
          [
           3.200472518840889,
           0.1863335575050142,
           0.554594984347381,
           1.2874813922313348,
           1.1720625847571586
          ],
          [
           3.0926420450069756,
           0.2222425001700214,
           0.4608022260214796,
           1.2899305684429392,
           1.1196667503725357
          ],
          [
           3.2020953169862914,
           0.23266049905583366,
           0.47748109371106573,
           1.338800126857616,
           1.153153597361776
          ],
          [
           2.3098406469413453,
           0.25299707874351085,
           0.20896835933922406,
           1.0281285255745474,
           0.8197466832840629
          ],
          [
           3.250887580702252,
           0.38717065701423686,
           0.31391423195682633,
           1.3093360992583867,
           1.2404665924728022
          ],
          [
           3.2381494951400294,
           0.5011571987092378,
           0.10751203841844793,
           1.1521073646116957,
           1.477372893400648
          ],
          [
           2.699813572316736,
           0.40355556578855906,
           0.09177876325367604,
           0.9885245253176126,
           1.2159547179568884
          ],
          [
           2.0908601812470162,
           0.3449895724037062,
           -0.05666299152122906,
           0.8189195325386222,
           0.9836140678259169
          ],
          [
           1.86784644001157,
           0.4386330783201807,
           -0.08995319483067346,
           0.4347050141664555,
           1.0844615423556072
          ],
          [
           4.228604892683238,
           0.7178922494915942,
           -0.2667709936683232,
           1.4073523879984768,
           2.37013124886149
          ],
          [
           5.271986885464583,
           0.6801333213575563,
           -0.6573963668023505,
           2.3024059220209883,
           2.9468440088883883
          ]
         ],
         "hovertemplate": "Strategy: estimate covariance matrix only <br>Year: %{x:4.0f}<br>Return: %{y:0.1%}<br>Weight in Risky Portfolio: %{customdata[0]: 0.1%} <br>Risky Portfolio Weights:<br>  S&P 500: %{customdata[1]: 0.1%} <br>  Gold: %{customdata[2]: 0.1%} <br>  Corporates: %{customdata[3]: 0.1%} <br>  Treasuries: %{customdata[4]: 0.1%} <br><extra></extra>",
         "name": "Est-SD-Corr",
         "type": "scatter",
         "x": [
          1968,
          1969,
          1970,
          1971,
          1972,
          1973,
          1974,
          1975,
          1976,
          1977,
          1978,
          1979,
          1980,
          1981,
          1982,
          1983,
          1984,
          1985,
          1986,
          1987,
          1988,
          1989,
          1990,
          1991,
          1992,
          1993,
          1994,
          1995,
          1996,
          1997,
          1998,
          1999,
          2000,
          2001,
          2002,
          2003,
          2004,
          2005,
          2006,
          2007,
          2008,
          2009,
          2010,
          2011,
          2012,
          2013,
          2014,
          2015,
          2016,
          2017,
          2018,
          2019,
          2020,
          2021
         ],
         "y": [
          null,
          null,
          null,
          null,
          null,
          null,
          null,
          null,
          null,
          null,
          null,
          null,
          null,
          null,
          null,
          null,
          null,
          null,
          null,
          null,
          0.11626149204399314,
          0.14243776290652746,
          0.0427340575125697,
          0.17136499867853075,
          0.1317309848724695,
          0.29025198692969895,
          -0.022164795812587693,
          0.17413563530266157,
          0.07869205684066827,
          0.1231108048609037,
          0.027353336274366313,
          0.10810431596649105,
          -0.019900715801540833,
          0.0716507760440602,
          0.18021040744769168,
          0.4588542761535256,
          0.17424241342232233,
          0.07864277692138122,
          0.11476168895211022,
          0.07716176710406512,
          -0.26320124711626314,
          0.38398129436212775,
          0.26494799210728454,
          0.32929623363122545,
          0.13988037076421161,
          -0.26641886523260083,
          0.17586739859451497,
          -0.11494106138386456,
          0.10179103578892135,
          0.14444538259269973,
          -0.10150914027057642,
          0.2429326449933442,
          0.3479681377380956,
          -0.0637770065820843
         ]
        },
        {
         "customdata": [
          [
           null,
           null,
           null,
           null,
           null
          ],
          [
           null,
           null,
           null,
           null,
           null
          ],
          [
           null,
           null,
           null,
           null,
           null
          ],
          [
           null,
           null,
           null,
           null,
           null
          ],
          [
           null,
           null,
           null,
           null,
           null
          ],
          [
           null,
           null,
           null,
           null,
           null
          ],
          [
           null,
           null,
           null,
           null,
           null
          ],
          [
           null,
           null,
           null,
           null,
           null
          ],
          [
           null,
           null,
           null,
           null,
           null
          ],
          [
           null,
           null,
           null,
           null,
           null
          ],
          [
           null,
           null,
           null,
           null,
           null
          ],
          [
           null,
           null,
           null,
           null,
           null
          ],
          [
           null,
           null,
           null,
           null,
           null
          ],
          [
           null,
           null,
           null,
           null,
           null
          ],
          [
           null,
           null,
           null,
           null,
           null
          ],
          [
           null,
           null,
           null,
           null,
           null
          ],
          [
           null,
           null,
           null,
           null,
           null
          ],
          [
           null,
           null,
           null,
           null,
           null
          ],
          [
           null,
           null,
           null,
           null,
           null
          ],
          [
           null,
           null,
           null,
           null,
           null
          ],
          [
           1.000000013592823,
           0.15264509449355512,
           0.027162089861031125,
           0.45503272841374515,
           0.36516010082449163
          ],
          [
           0.9999999934786115,
           0.1516006425434661,
           0.026109404139207596,
           0.45362620456561,
           0.3686637422303278
          ],
          [
           1.0000000242887608,
           0.14402485871252826,
           0.02538923056993704,
           0.463992930335937,
           0.3665930046703586
          ],
          [
           1.5646102246200309,
           0.2168774443569498,
           0.0390661141500894,
           0.7229744754234764,
           0.5856921906895153
          ],
          [
           2.489709325085564,
           0.3353159432168804,
           0.06231161049742185,
           1.1536572792899384,
           0.9384244920813236
          ],
          [
           2.3613294930759263,
           0.3158824348663577,
           0.05996319292665042,
           1.0852277412802038,
           0.9002561240027147
          ],
          [
           1.7286790796492761,
           0.2581065704392208,
           0.04855369888973819,
           0.780993625946124,
           0.6410251843741931
          ],
          [
           1.0000000836582372,
           0.20244527880332788,
           0.03045245302386027,
           0.45451343303488306,
           0.31258891879616607
          ],
          [
           1.3938806626556557,
           0.2924444622167447,
           0.0462693945240523,
           0.6318856081999106,
           0.4232811977149481
          ],
          [
           1.1595120577969311,
           0.24466489867913335,
           0.03848337123515076,
           0.5288358794609405,
           0.3475279084217066
          ],
          [
           1.382231031539301,
           0.3068346674198084,
           0.04346966397792725,
           0.6158318329548641,
           0.4160948671867013
          ],
          [
           1.5489678249635355,
           0.33409098780620267,
           0.049014489901968,
           0.694374893223361,
           0.47148745403200365
          ],
          [
           1.0000000023862008,
           0.1910021803293886,
           0.148900960195058,
           0.4175941468949657,
           0.24250271496678846
          ],
          [
           1.3475091596798072,
           0.20622294807591618,
           0.19559477919420015,
           0.6234584392295773,
           0.32223299318011345
          ],
          [
           2.8348754404853276,
           0.3856326791703415,
           0.5236881521713207,
           1.2714631365003122,
           0.6540914726433531
          ],
          [
           3.0443692176735726,
           0.27347851662239203,
           0.4295448914498254,
           1.5676457400547248,
           0.7737000695466306
          ],
          [
           3.10194925613774,
           0.27382075335721767,
           0.41401586269738805,
           1.638959623042684,
           0.7751530170404509
          ],
          [
           1.8832514953787796,
           0.16374447943162906,
           0.27818481218962193,
           0.9853607873589488,
           0.4559614163985796
          ],
          [
           1.0000000067805,
           0.08110861795877834,
           0.12436467336892151,
           0.5473972311763659,
           0.24712948427643425
          ],
          [
           1.0000000067293322,
           0.07172274462491142,
           0.1044634111502271,
           0.5714770250942386,
           0.2523368258599551
          ],
          [
           3.437372627410888,
           0.23889899344993562,
           0.3169572083675292,
           1.941621409103216,
           0.939895016490207
          ],
          [
           3.510040371501761,
           0.20039540583549623,
           0.42715262159274836,
           1.8518972266389366,
           1.03059511743458
          ],
          [
           3.0402579284117346,
           0.2087841966456633,
           0.3846095663889947,
           1.565892570271738,
           0.8809715951053392
          ],
          [
           3.591215219300672,
           0.2533266533261396,
           0.4191385528005549,
           1.8740387081342655,
           1.0447113050397119
          ],
          [
           3.6232600521335687,
           0.256280582605449,
           0.4346972778125441,
           1.9354141911912874,
           0.996868000524288
          ],
          [
           3.794974174338636,
           0.26456117276633656,
           0.4758079727997611,
           2.0284176417131263,
           1.026187387059412
          ],
          [
           2.9327973501576388,
           0.2069938818540215,
           0.30162588019399345,
           1.6470972022626762,
           0.7770803858469473
          ],
          [
           3.6334218134530953,
           0.23825388540580578,
           0.3447990925618886,
           2.0721643673356986,
           0.9782044681497026
          ],
          [
           2.7487793783992425,
           0.17888899396572278,
           0.22317928249233732,
           1.5518965138046794,
           0.7948145881365027
          ],
          [
           2.292552873740201,
           0.15261189984838253,
           0.18991488147256524,
           1.29238401118092,
           0.6576420812383331
          ],
          [
           1.5853630466420232,
           0.10934159223036913,
           0.15301780208762408,
           0.8793802635590404,
           0.44362338876498963
          ],
          [
           1.201919710508633,
           0.09148256526536665,
           0.12188828586035644,
           0.6154201855200946,
           0.3731286738628153
          ],
          [
           3.224183025744309,
           0.2242829499805531,
           0.3171635839386549,
           1.5829216454569064,
           1.0998148463681943
          ],
          [
           3.963955606300473,
           0.2771371473984637,
           0.3869379237732947,
           1.8811301150273556,
           1.4187504201013588
          ]
         ],
         "hovertemplate": "Strategy: estimate standard deviations only <br>Year: %{x:4.0f}<br>Return: %{y:0.1%}<br>Weight in Risky Portfolio: %{customdata[0]: 0.1%} <br>Risky Portfolio Weights:<br>  S&P 500: %{customdata[1]: 0.1%} <br>  Gold: %{customdata[2]: 0.1%} <br>  Corporates: %{customdata[3]: 0.1%} <br>  Treasuries: %{customdata[4]: 0.1%} <br><extra></extra>",
         "name": "Est-SD",
         "type": "scatter",
         "x": [
          1968,
          1969,
          1970,
          1971,
          1972,
          1973,
          1974,
          1975,
          1976,
          1977,
          1978,
          1979,
          1980,
          1981,
          1982,
          1983,
          1984,
          1985,
          1986,
          1987,
          1988,
          1989,
          1990,
          1991,
          1992,
          1993,
          1994,
          1995,
          1996,
          1997,
          1998,
          1999,
          2000,
          2001,
          2002,
          2003,
          2004,
          2005,
          2006,
          2007,
          2008,
          2009,
          2010,
          2011,
          2012,
          2013,
          2014,
          2015,
          2016,
          2017,
          2018,
          2019,
          2020,
          2021
         ],
         "y": [
          null,
          null,
          null,
          null,
          null,
          null,
          null,
          null,
          null,
          null,
          null,
          null,
          null,
          null,
          null,
          null,
          null,
          null,
          null,
          null,
          0.11978827350269373,
          0.1839902355384388,
          0.04630118470544929,
          0.2258400036059039,
          0.13908087951624315,
          0.25288167873985223,
          -0.11950228604641061,
          0.2406453319130757,
          0.0651357369595045,
          0.15530097065578208,
          0.16415843906764355,
          -0.010128716441659594,
          0.05278121532023679,
          0.019354432607820972,
          0.19168184623745665,
          0.2835106406486232,
          0.13397570470615364,
          0.05395787042770226,
          0.08583777789540006,
          0.08069802255492821,
          -0.11671539439399892,
          0.3832991485345334,
          0.25851054886141256,
          0.35248490144548134,
          0.18382924304626866,
          -0.2754822851643335,
          0.20404581646761666,
          -0.14471398769472918,
          0.13224974387592076,
          0.13584688385896942,
          -0.06550812459626867,
          0.17059359873733707,
          0.31554679413390413,
          -0.10105934254086649
         ]
        },
        {
         "customdata": [
          [
           null,
           0.25,
           0.25,
           0.25,
           0.25
          ],
          [
           null,
           0.25,
           0.25,
           0.25,
           0.25
          ],
          [
           null,
           0.25,
           0.25,
           0.25,
           0.25
          ],
          [
           null,
           0.25,
           0.25,
           0.25,
           0.25
          ],
          [
           null,
           0.25,
           0.25,
           0.25,
           0.25
          ],
          [
           null,
           0.25,
           0.25,
           0.25,
           0.25
          ],
          [
           null,
           0.25,
           0.25,
           0.25,
           0.25
          ],
          [
           null,
           0.25,
           0.25,
           0.25,
           0.25
          ],
          [
           null,
           0.25,
           0.25,
           0.25,
           0.25
          ],
          [
           null,
           0.25,
           0.25,
           0.25,
           0.25
          ],
          [
           null,
           0.25,
           0.25,
           0.25,
           0.25
          ],
          [
           null,
           0.25,
           0.25,
           0.25,
           0.25
          ],
          [
           null,
           0.25,
           0.25,
           0.25,
           0.25
          ],
          [
           null,
           0.25,
           0.25,
           0.25,
           0.25
          ],
          [
           null,
           0.25,
           0.25,
           0.25,
           0.25
          ],
          [
           null,
           0.25,
           0.25,
           0.25,
           0.25
          ],
          [
           null,
           0.25,
           0.25,
           0.25,
           0.25
          ],
          [
           null,
           0.25,
           0.25,
           0.25,
           0.25
          ],
          [
           null,
           0.25,
           0.25,
           0.25,
           0.25
          ],
          [
           null,
           0.25,
           0.25,
           0.25,
           0.25
          ],
          [
           0.9999998821196991,
           0.25,
           0.25,
           0.25,
           0.25
          ],
          [
           0.7554573687259128,
           0.25,
           0.25,
           0.25,
           0.25
          ],
          [
           0.9999999420280813,
           0.25,
           0.25,
           0.25,
           0.25
          ],
          [
           1.0000000115685135,
           0.25,
           0.25,
           0.25,
           0.25
          ],
          [
           1.080484629521413,
           0.25,
           0.25,
           0.25,
           0.25
          ],
          [
           1.0315105201047823,
           0.25,
           0.25,
           0.25,
           0.25
          ],
          [
           1.000000057594451,
           0.25,
           0.25,
           0.25,
           0.25
          ],
          [
           0.9999999983385455,
           0.25,
           0.25,
           0.25,
           0.25
          ],
          [
           1.0000000311548851,
           0.25,
           0.25,
           0.25,
           0.25
          ],
          [
           1.0000000106569675,
           0.25,
           0.25,
           0.25,
           0.25
          ],
          [
           1.0000000258528383,
           0.25,
           0.25,
           0.25,
           0.25
          ],
          [
           1.0000000644920746,
           0.25,
           0.25,
           0.25,
           0.25
          ],
          [
           1.0000000009797523,
           0.25,
           0.25,
           0.25,
           0.25
          ],
          [
           1.1404210783570672,
           0.25,
           0.25,
           0.25,
           0.25
          ],
          [
           2.4457129610366097,
           0.25,
           0.25,
           0.25,
           0.25
          ],
          [
           2.2164226909838587,
           0.25,
           0.25,
           0.25,
           0.25
          ],
          [
           2.2094101277125175,
           0.25,
           0.25,
           0.25,
           0.25
          ],
          [
           1.3617429735683113,
           0.25,
           0.25,
           0.25,
           0.25
          ],
          [
           1.0000000033541103,
           0.25,
           0.25,
           0.25,
           0.25
          ],
          [
           1.0000000032245733,
           0.25,
           0.25,
           0.25,
           0.25
          ],
          [
           2.061889932656121,
           0.25,
           0.25,
           0.25,
           0.25
          ],
          [
           2.1282176464002056,
           0.25,
           0.25,
           0.25,
           0.25
          ],
          [
           1.9938749906522968,
           0.25,
           0.25,
           0.25,
           0.25
          ],
          [
           2.3306056084857256,
           0.25,
           0.25,
           0.25,
           0.25
          ],
          [
           2.355577873422974,
           0.25,
           0.25,
           0.25,
           0.25
          ],
          [
           2.476888191533441,
           0.25,
           0.25,
           0.25,
           0.25
          ],
          [
           1.8185433263713457,
           0.25,
           0.25,
           0.25,
           0.25
          ],
          [
           2.1487983375822406,
           0.25,
           0.25,
           0.25,
           0.25
          ],
          [
           1.5598183345030936,
           0.25,
           0.25,
           0.25,
           0.25
          ],
          [
           1.3184448091778096,
           0.25,
           0.25,
           0.25,
           0.25
          ],
          [
           1.0000038053473244,
           0.25,
           0.25,
           0.25,
           0.25
          ],
          [
           1.0000000666910647,
           0.25,
           0.25,
           0.25,
           0.25
          ],
          [
           2.015133871172679,
           0.25,
           0.25,
           0.25,
           0.25
          ],
          [
           2.484092195674218,
           0.25,
           0.25,
           0.25,
           0.25
          ]
         ],
         "hovertemplate": "Strategy: equal weights <br>Year: %{x:4.0f}<br>Return: %{y:0.1%}<br>Weight in Risky Portfolio: %{customdata[0]: 0.1%} <br>Risky Portfolio Weights:<br>  S&P 500: %{customdata[1]: 0.1%} <br>  Gold: %{customdata[2]: 0.1%} <br>  Corporates: %{customdata[3]: 0.1%} <br>  Treasuries: %{customdata[4]: 0.1%} <br><extra></extra>",
         "name": "Est-None",
         "type": "scatter",
         "x": [
          1968,
          1969,
          1970,
          1971,
          1972,
          1973,
          1974,
          1975,
          1976,
          1977,
          1978,
          1979,
          1980,
          1981,
          1982,
          1983,
          1984,
          1985,
          1986,
          1987,
          1988,
          1989,
          1990,
          1991,
          1992,
          1993,
          1994,
          1995,
          1996,
          1997,
          1998,
          1999,
          2000,
          2001,
          2002,
          2003,
          2004,
          2005,
          2006,
          2007,
          2008,
          2009,
          2010,
          2011,
          2012,
          2013,
          2014,
          2015,
          2016,
          2017,
          2018,
          2019,
          2020,
          2021
         ],
         "y": [
          null,
          null,
          null,
          null,
          null,
          null,
          null,
          null,
          null,
          null,
          null,
          null,
          null,
          null,
          null,
          null,
          null,
          null,
          null,
          null,
          0.06045532071554503,
          0.138306563906976,
          0.017043055907752916,
          0.1336911804988481,
          0.056759229542340285,
          0.14725339080625718,
          -0.02529051795635956,
          0.2048255907545847,
          0.06116802592111657,
          0.08283752649012414,
          0.12649931042149473,
          0.03664278197663608,
          0.026739031510569333,
          -0.0019537953267720204,
          0.09808170699345814,
          0.2936696739063984,
          0.10126570866204057,
          0.07540268081301492,
          0.12135021396165105,
          0.1260806751584253,
          -0.15032104721255496,
          0.3031542445231901,
          0.25483709465861243,
          0.19291802923879434,
          0.14879000458740582,
          -0.09591295072231643,
          0.12369722813572168,
          -0.09736410702943127,
          0.10040542321221821,
          0.13587013836780176,
          -0.020379256892433854,
          0.1875199149657953,
          0.2805802197487237,
          0.07160043495870838
         ]
        }
       ],
       "layout": {
        "legend": {
         "x": 0.01,
         "xanchor": "left",
         "y": 0.99,
         "yanchor": "top"
        },
        "template": {
         "data": {
          "bar": [
           {
            "error_x": {
             "color": "#2a3f5f"
            },
            "error_y": {
             "color": "#2a3f5f"
            },
            "marker": {
             "line": {
              "color": "#E5ECF6",
              "width": 0.5
             },
             "pattern": {
              "fillmode": "overlay",
              "size": 10,
              "solidity": 0.2
             }
            },
            "type": "bar"
           }
          ],
          "barpolar": [
           {
            "marker": {
             "line": {
              "color": "#E5ECF6",
              "width": 0.5
             },
             "pattern": {
              "fillmode": "overlay",
              "size": 10,
              "solidity": 0.2
             }
            },
            "type": "barpolar"
           }
          ],
          "carpet": [
           {
            "aaxis": {
             "endlinecolor": "#2a3f5f",
             "gridcolor": "white",
             "linecolor": "white",
             "minorgridcolor": "white",
             "startlinecolor": "#2a3f5f"
            },
            "baxis": {
             "endlinecolor": "#2a3f5f",
             "gridcolor": "white",
             "linecolor": "white",
             "minorgridcolor": "white",
             "startlinecolor": "#2a3f5f"
            },
            "type": "carpet"
           }
          ],
          "choropleth": [
           {
            "colorbar": {
             "outlinewidth": 0,
             "ticks": ""
            },
            "type": "choropleth"
           }
          ],
          "contour": [
           {
            "colorbar": {
             "outlinewidth": 0,
             "ticks": ""
            },
            "colorscale": [
             [
              0,
              "#0d0887"
             ],
             [
              0.1111111111111111,
              "#46039f"
             ],
             [
              0.2222222222222222,
              "#7201a8"
             ],
             [
              0.3333333333333333,
              "#9c179e"
             ],
             [
              0.4444444444444444,
              "#bd3786"
             ],
             [
              0.5555555555555556,
              "#d8576b"
             ],
             [
              0.6666666666666666,
              "#ed7953"
             ],
             [
              0.7777777777777778,
              "#fb9f3a"
             ],
             [
              0.8888888888888888,
              "#fdca26"
             ],
             [
              1,
              "#f0f921"
             ]
            ],
            "type": "contour"
           }
          ],
          "contourcarpet": [
           {
            "colorbar": {
             "outlinewidth": 0,
             "ticks": ""
            },
            "type": "contourcarpet"
           }
          ],
          "heatmap": [
           {
            "colorbar": {
             "outlinewidth": 0,
             "ticks": ""
            },
            "colorscale": [
             [
              0,
              "#0d0887"
             ],
             [
              0.1111111111111111,
              "#46039f"
             ],
             [
              0.2222222222222222,
              "#7201a8"
             ],
             [
              0.3333333333333333,
              "#9c179e"
             ],
             [
              0.4444444444444444,
              "#bd3786"
             ],
             [
              0.5555555555555556,
              "#d8576b"
             ],
             [
              0.6666666666666666,
              "#ed7953"
             ],
             [
              0.7777777777777778,
              "#fb9f3a"
             ],
             [
              0.8888888888888888,
              "#fdca26"
             ],
             [
              1,
              "#f0f921"
             ]
            ],
            "type": "heatmap"
           }
          ],
          "heatmapgl": [
           {
            "colorbar": {
             "outlinewidth": 0,
             "ticks": ""
            },
            "colorscale": [
             [
              0,
              "#0d0887"
             ],
             [
              0.1111111111111111,
              "#46039f"
             ],
             [
              0.2222222222222222,
              "#7201a8"
             ],
             [
              0.3333333333333333,
              "#9c179e"
             ],
             [
              0.4444444444444444,
              "#bd3786"
             ],
             [
              0.5555555555555556,
              "#d8576b"
             ],
             [
              0.6666666666666666,
              "#ed7953"
             ],
             [
              0.7777777777777778,
              "#fb9f3a"
             ],
             [
              0.8888888888888888,
              "#fdca26"
             ],
             [
              1,
              "#f0f921"
             ]
            ],
            "type": "heatmapgl"
           }
          ],
          "histogram": [
           {
            "marker": {
             "pattern": {
              "fillmode": "overlay",
              "size": 10,
              "solidity": 0.2
             }
            },
            "type": "histogram"
           }
          ],
          "histogram2d": [
           {
            "colorbar": {
             "outlinewidth": 0,
             "ticks": ""
            },
            "colorscale": [
             [
              0,
              "#0d0887"
             ],
             [
              0.1111111111111111,
              "#46039f"
             ],
             [
              0.2222222222222222,
              "#7201a8"
             ],
             [
              0.3333333333333333,
              "#9c179e"
             ],
             [
              0.4444444444444444,
              "#bd3786"
             ],
             [
              0.5555555555555556,
              "#d8576b"
             ],
             [
              0.6666666666666666,
              "#ed7953"
             ],
             [
              0.7777777777777778,
              "#fb9f3a"
             ],
             [
              0.8888888888888888,
              "#fdca26"
             ],
             [
              1,
              "#f0f921"
             ]
            ],
            "type": "histogram2d"
           }
          ],
          "histogram2dcontour": [
           {
            "colorbar": {
             "outlinewidth": 0,
             "ticks": ""
            },
            "colorscale": [
             [
              0,
              "#0d0887"
             ],
             [
              0.1111111111111111,
              "#46039f"
             ],
             [
              0.2222222222222222,
              "#7201a8"
             ],
             [
              0.3333333333333333,
              "#9c179e"
             ],
             [
              0.4444444444444444,
              "#bd3786"
             ],
             [
              0.5555555555555556,
              "#d8576b"
             ],
             [
              0.6666666666666666,
              "#ed7953"
             ],
             [
              0.7777777777777778,
              "#fb9f3a"
             ],
             [
              0.8888888888888888,
              "#fdca26"
             ],
             [
              1,
              "#f0f921"
             ]
            ],
            "type": "histogram2dcontour"
           }
          ],
          "mesh3d": [
           {
            "colorbar": {
             "outlinewidth": 0,
             "ticks": ""
            },
            "type": "mesh3d"
           }
          ],
          "parcoords": [
           {
            "line": {
             "colorbar": {
              "outlinewidth": 0,
              "ticks": ""
             }
            },
            "type": "parcoords"
           }
          ],
          "pie": [
           {
            "automargin": true,
            "type": "pie"
           }
          ],
          "scatter": [
           {
            "fillpattern": {
             "fillmode": "overlay",
             "size": 10,
             "solidity": 0.2
            },
            "type": "scatter"
           }
          ],
          "scatter3d": [
           {
            "line": {
             "colorbar": {
              "outlinewidth": 0,
              "ticks": ""
             }
            },
            "marker": {
             "colorbar": {
              "outlinewidth": 0,
              "ticks": ""
             }
            },
            "type": "scatter3d"
           }
          ],
          "scattercarpet": [
           {
            "marker": {
             "colorbar": {
              "outlinewidth": 0,
              "ticks": ""
             }
            },
            "type": "scattercarpet"
           }
          ],
          "scattergeo": [
           {
            "marker": {
             "colorbar": {
              "outlinewidth": 0,
              "ticks": ""
             }
            },
            "type": "scattergeo"
           }
          ],
          "scattergl": [
           {
            "marker": {
             "colorbar": {
              "outlinewidth": 0,
              "ticks": ""
             }
            },
            "type": "scattergl"
           }
          ],
          "scattermapbox": [
           {
            "marker": {
             "colorbar": {
              "outlinewidth": 0,
              "ticks": ""
             }
            },
            "type": "scattermapbox"
           }
          ],
          "scatterpolar": [
           {
            "marker": {
             "colorbar": {
              "outlinewidth": 0,
              "ticks": ""
             }
            },
            "type": "scatterpolar"
           }
          ],
          "scatterpolargl": [
           {
            "marker": {
             "colorbar": {
              "outlinewidth": 0,
              "ticks": ""
             }
            },
            "type": "scatterpolargl"
           }
          ],
          "scatterternary": [
           {
            "marker": {
             "colorbar": {
              "outlinewidth": 0,
              "ticks": ""
             }
            },
            "type": "scatterternary"
           }
          ],
          "surface": [
           {
            "colorbar": {
             "outlinewidth": 0,
             "ticks": ""
            },
            "colorscale": [
             [
              0,
              "#0d0887"
             ],
             [
              0.1111111111111111,
              "#46039f"
             ],
             [
              0.2222222222222222,
              "#7201a8"
             ],
             [
              0.3333333333333333,
              "#9c179e"
             ],
             [
              0.4444444444444444,
              "#bd3786"
             ],
             [
              0.5555555555555556,
              "#d8576b"
             ],
             [
              0.6666666666666666,
              "#ed7953"
             ],
             [
              0.7777777777777778,
              "#fb9f3a"
             ],
             [
              0.8888888888888888,
              "#fdca26"
             ],
             [
              1,
              "#f0f921"
             ]
            ],
            "type": "surface"
           }
          ],
          "table": [
           {
            "cells": {
             "fill": {
              "color": "#EBF0F8"
             },
             "line": {
              "color": "white"
             }
            },
            "header": {
             "fill": {
              "color": "#C8D4E3"
             },
             "line": {
              "color": "white"
             }
            },
            "type": "table"
           }
          ]
         },
         "layout": {
          "annotationdefaults": {
           "arrowcolor": "#2a3f5f",
           "arrowhead": 0,
           "arrowwidth": 1
          },
          "autotypenumbers": "strict",
          "coloraxis": {
           "colorbar": {
            "outlinewidth": 0,
            "ticks": ""
           }
          },
          "colorscale": {
           "diverging": [
            [
             0,
             "#8e0152"
            ],
            [
             0.1,
             "#c51b7d"
            ],
            [
             0.2,
             "#de77ae"
            ],
            [
             0.3,
             "#f1b6da"
            ],
            [
             0.4,
             "#fde0ef"
            ],
            [
             0.5,
             "#f7f7f7"
            ],
            [
             0.6,
             "#e6f5d0"
            ],
            [
             0.7,
             "#b8e186"
            ],
            [
             0.8,
             "#7fbc41"
            ],
            [
             0.9,
             "#4d9221"
            ],
            [
             1,
             "#276419"
            ]
           ],
           "sequential": [
            [
             0,
             "#0d0887"
            ],
            [
             0.1111111111111111,
             "#46039f"
            ],
            [
             0.2222222222222222,
             "#7201a8"
            ],
            [
             0.3333333333333333,
             "#9c179e"
            ],
            [
             0.4444444444444444,
             "#bd3786"
            ],
            [
             0.5555555555555556,
             "#d8576b"
            ],
            [
             0.6666666666666666,
             "#ed7953"
            ],
            [
             0.7777777777777778,
             "#fb9f3a"
            ],
            [
             0.8888888888888888,
             "#fdca26"
            ],
            [
             1,
             "#f0f921"
            ]
           ],
           "sequentialminus": [
            [
             0,
             "#0d0887"
            ],
            [
             0.1111111111111111,
             "#46039f"
            ],
            [
             0.2222222222222222,
             "#7201a8"
            ],
            [
             0.3333333333333333,
             "#9c179e"
            ],
            [
             0.4444444444444444,
             "#bd3786"
            ],
            [
             0.5555555555555556,
             "#d8576b"
            ],
            [
             0.6666666666666666,
             "#ed7953"
            ],
            [
             0.7777777777777778,
             "#fb9f3a"
            ],
            [
             0.8888888888888888,
             "#fdca26"
            ],
            [
             1,
             "#f0f921"
            ]
           ]
          },
          "colorway": [
           "#636efa",
           "#EF553B",
           "#00cc96",
           "#ab63fa",
           "#FFA15A",
           "#19d3f3",
           "#FF6692",
           "#B6E880",
           "#FF97FF",
           "#FECB52"
          ],
          "font": {
           "color": "#2a3f5f"
          },
          "geo": {
           "bgcolor": "white",
           "lakecolor": "white",
           "landcolor": "#E5ECF6",
           "showlakes": true,
           "showland": true,
           "subunitcolor": "white"
          },
          "hoverlabel": {
           "align": "left"
          },
          "hovermode": "closest",
          "mapbox": {
           "style": "light"
          },
          "paper_bgcolor": "white",
          "plot_bgcolor": "#E5ECF6",
          "polar": {
           "angularaxis": {
            "gridcolor": "white",
            "linecolor": "white",
            "ticks": ""
           },
           "bgcolor": "#E5ECF6",
           "radialaxis": {
            "gridcolor": "white",
            "linecolor": "white",
            "ticks": ""
           }
          },
          "scene": {
           "xaxis": {
            "backgroundcolor": "#E5ECF6",
            "gridcolor": "white",
            "gridwidth": 2,
            "linecolor": "white",
            "showbackground": true,
            "ticks": "",
            "zerolinecolor": "white"
           },
           "yaxis": {
            "backgroundcolor": "#E5ECF6",
            "gridcolor": "white",
            "gridwidth": 2,
            "linecolor": "white",
            "showbackground": true,
            "ticks": "",
            "zerolinecolor": "white"
           },
           "zaxis": {
            "backgroundcolor": "#E5ECF6",
            "gridcolor": "white",
            "gridwidth": 2,
            "linecolor": "white",
            "showbackground": true,
            "ticks": "",
            "zerolinecolor": "white"
           }
          },
          "shapedefaults": {
           "line": {
            "color": "#2a3f5f"
           }
          },
          "ternary": {
           "aaxis": {
            "gridcolor": "white",
            "linecolor": "white",
            "ticks": ""
           },
           "baxis": {
            "gridcolor": "white",
            "linecolor": "white",
            "ticks": ""
           },
           "bgcolor": "#E5ECF6",
           "caxis": {
            "gridcolor": "white",
            "linecolor": "white",
            "ticks": ""
           }
          },
          "title": {
           "x": 0.05
          },
          "xaxis": {
           "automargin": true,
           "gridcolor": "white",
           "linecolor": "white",
           "ticks": "",
           "title": {
            "standoff": 15
           },
           "zerolinecolor": "white",
           "zerolinewidth": 2
          },
          "yaxis": {
           "automargin": true,
           "gridcolor": "white",
           "linecolor": "white",
           "ticks": "",
           "title": {
            "standoff": 15
           },
           "zerolinecolor": "white",
           "zerolinewidth": 2
          }
         }
        },
        "xaxis": {
         "range": [
          1988,
          2021
         ],
         "title": {
          "text": "Year"
         }
        },
        "yaxis": {
         "tickformat": ".0%",
         "title": {
          "text": "Return"
         }
        }
       }
      }
     },
     "metadata": {},
     "output_type": "display_data"
    }
   ],
   "source": [
    "# Plot the time-series of returns and portfolio weights.\n",
    "for asset in asset_list:\n",
    "    df['wgt'+asset + '_ew'] = 1/n\n",
    "label_dict = {'true': 'theoretical optimal weights', \n",
    "            'ew': 'equal weights',\n",
    "            'est_all': 'estimate all inputs',\n",
    "            'est_cov': 'estimate covariance matrix only',\n",
    "            'est_sds': 'estimate standard deviations only'}\n",
    "\n",
    "xaxis_label_dict = {'true': 'theoretical optimal weights', \n",
    "            'ew': 'Est-None',\n",
    "            'est_all': 'Est-All',\n",
    "            'est_cov': 'Est-SD-Corr',\n",
    "            'est_sds': 'Est-SD'}           \n",
    "\n",
    "fig = go.Figure()\n",
    "for model in ['est_all', 'est_cov', 'est_sds', 'ew']:\n",
    "    string =  \"Strategy: \" + label_dict[model] +\" <br>\"\n",
    "    string += \"Year: %{x:4.0f}<br>\"\n",
    "    string += \"Return: %{y:0.1%}<br>\"\n",
    "    string += \"Weight in Risky Portfolio: %{customdata[0]: 0.1%} <br>\"\n",
    "    string += \"Risky Portfolio Weights:<br>\"\n",
    "    string += \"  \"+ risky[0] +\": %{customdata[1]: 0.1%} <br>\"\n",
    "    string += \"  \"+ risky[1] +\": %{customdata[2]: 0.1%} <br>\"\n",
    "    string += \"  \"+ risky[2] +\": %{customdata[3]: 0.1%} <br>\"\n",
    "    string += \"  \"+ risky[3] +\": %{customdata[4]: 0.1%} <br>\"\n",
    "    string += \"<extra></extra>\"\n",
    "\n",
    "    wgt_list = ['wgt_cal_'+ model] + ['wgt'+asset + \"_\" + model for asset in asset_list]\n",
    "    trace=go.Scatter(x=df['year'], y=df['raver_portret_'+model], customdata=df[wgt_list], hovertemplate=string, name = xaxis_label_dict[model])\n",
    "    fig.add_trace(trace)\n",
    "fig.layout.yaxis[\"title\"] = \"Return\"\n",
    "fig.layout.xaxis[\"title\"] = \"Year\"\n",
    "fig.update_yaxes(tickformat=\".0%\")\n",
    "fig.update_layout(legend=dict(yanchor=\"top\", y =0.99, xanchor=\"left\", x=0.01))\n",
    "fig.update_xaxes(range=[df['year'].iloc[window], df.year.max()])\n",
    "fig.show()"
   ]
  },
  {
   "cell_type": "code",
   "execution_count": 93,
   "metadata": {},
   "outputs": [
    {
     "data": {
      "application/vnd.plotly.v1+json": {
       "config": {
        "plotlyServerURL": "https://plot.ly"
       },
       "data": [
        {
         "hovertemplate": "Strategy: estimate all inputs <br>Year: %{x:4.0f}<br>Weight in Risky Portfolio: %{y: 0.1%} <br><extra></extra>",
         "name": "Est-All",
         "type": "scatter",
         "x": [
          1968,
          1969,
          1970,
          1971,
          1972,
          1973,
          1974,
          1975,
          1976,
          1977,
          1978,
          1979,
          1980,
          1981,
          1982,
          1983,
          1984,
          1985,
          1986,
          1987,
          1988,
          1989,
          1990,
          1991,
          1992,
          1993,
          1994,
          1995,
          1996,
          1997,
          1998,
          1999,
          2000,
          2001,
          2002,
          2003,
          2004,
          2005,
          2006,
          2007,
          2008,
          2009,
          2010,
          2011,
          2012,
          2013,
          2014,
          2015,
          2016,
          2017,
          2018,
          2019,
          2020,
          2021
         ],
         "y": [
          null,
          null,
          null,
          null,
          null,
          null,
          null,
          null,
          null,
          null,
          null,
          null,
          null,
          null,
          null,
          null,
          null,
          null,
          null,
          null,
          0.9999999875761736,
          0.9999438107676126,
          1.000000003329399,
          1.3570777685982724,
          2.221995267681848,
          2.487363163690141,
          1.93189917521972,
          1.8967364867187926,
          2.2064806575647564,
          2.0765843303036915,
          2.142737202378167,
          1.9376165079878422,
          1.0000000382014442,
          1.4078426726884832,
          2.2146917087781017,
          2.9298904771849488,
          2.8641819057544895,
          1.8770117977403187,
          1.0000000332732828,
          1.0000000157539932,
          2.891128624687744,
          2.5693022431099566,
          2.5590187486886267,
          2.9232696195760295,
          2.9333556808296435,
          2.920153605150989,
          2.029347511906727,
          2.964578443469976,
          2.8625803063540314,
          2.2507186669349473,
          1.0000098336536647,
          1.0000000087056506,
          2.7142938838357615,
          2.585154502563323
         ]
        },
        {
         "hovertemplate": "Strategy: estimate covariance matrix only <br>Year: %{x:4.0f}<br>Weight in Risky Portfolio: %{y: 0.1%} <br><extra></extra>",
         "name": "Est-SD-Corr",
         "type": "scatter",
         "x": [
          1968,
          1969,
          1970,
          1971,
          1972,
          1973,
          1974,
          1975,
          1976,
          1977,
          1978,
          1979,
          1980,
          1981,
          1982,
          1983,
          1984,
          1985,
          1986,
          1987,
          1988,
          1989,
          1990,
          1991,
          1992,
          1993,
          1994,
          1995,
          1996,
          1997,
          1998,
          1999,
          2000,
          2001,
          2002,
          2003,
          2004,
          2005,
          2006,
          2007,
          2008,
          2009,
          2010,
          2011,
          2012,
          2013,
          2014,
          2015,
          2016,
          2017,
          2018,
          2019,
          2020,
          2021
         ],
         "y": [
          null,
          null,
          null,
          null,
          null,
          null,
          null,
          null,
          null,
          null,
          null,
          null,
          null,
          null,
          null,
          null,
          null,
          null,
          null,
          null,
          1.00000000106655,
          0.9999999115486515,
          1.0000000133731666,
          1.3264434157604494,
          2.1702120760244883,
          2.168773269523186,
          1.5042240569093595,
          1.000000030176734,
          1.2129636813406444,
          1.0269427931342778,
          1.203552587698556,
          1.214662740822662,
          0.9999999976210716,
          1.000000154181016,
          2.05262566579088,
          2.442754220319479,
          2.1915118130162745,
          1.2976231132819616,
          1.0000000040142005,
          1.000000005434011,
          2.676025527805176,
          2.6747365024120655,
          2.700462859777396,
          3.200472518840889,
          3.0926420450069756,
          3.2020953169862914,
          2.3098406469413453,
          3.250887580702252,
          3.2381494951400294,
          2.699813572316736,
          2.0908601812470162,
          1.86784644001157,
          4.228604892683238,
          5.271986885464583
         ]
        },
        {
         "hovertemplate": "Strategy: estimate standard deviations only <br>Year: %{x:4.0f}<br>Weight in Risky Portfolio: %{y: 0.1%} <br><extra></extra>",
         "name": "Est-SD",
         "type": "scatter",
         "x": [
          1968,
          1969,
          1970,
          1971,
          1972,
          1973,
          1974,
          1975,
          1976,
          1977,
          1978,
          1979,
          1980,
          1981,
          1982,
          1983,
          1984,
          1985,
          1986,
          1987,
          1988,
          1989,
          1990,
          1991,
          1992,
          1993,
          1994,
          1995,
          1996,
          1997,
          1998,
          1999,
          2000,
          2001,
          2002,
          2003,
          2004,
          2005,
          2006,
          2007,
          2008,
          2009,
          2010,
          2011,
          2012,
          2013,
          2014,
          2015,
          2016,
          2017,
          2018,
          2019,
          2020,
          2021
         ],
         "y": [
          null,
          null,
          null,
          null,
          null,
          null,
          null,
          null,
          null,
          null,
          null,
          null,
          null,
          null,
          null,
          null,
          null,
          null,
          null,
          null,
          1.000000013592823,
          0.9999999934786115,
          1.0000000242887608,
          1.5646102246200309,
          2.489709325085564,
          2.3613294930759263,
          1.7286790796492761,
          1.0000000836582372,
          1.3938806626556557,
          1.1595120577969311,
          1.382231031539301,
          1.5489678249635355,
          1.0000000023862008,
          1.3475091596798072,
          2.8348754404853276,
          3.0443692176735726,
          3.10194925613774,
          1.8832514953787796,
          1.0000000067805,
          1.0000000067293322,
          3.437372627410888,
          3.510040371501761,
          3.0402579284117346,
          3.591215219300672,
          3.6232600521335687,
          3.794974174338636,
          2.9327973501576388,
          3.6334218134530953,
          2.7487793783992425,
          2.292552873740201,
          1.5853630466420232,
          1.201919710508633,
          3.224183025744309,
          3.963955606300473
         ]
        },
        {
         "hovertemplate": "Strategy: equal weights <br>Year: %{x:4.0f}<br>Weight in Risky Portfolio: %{y: 0.1%} <br><extra></extra>",
         "name": "Est-None",
         "type": "scatter",
         "x": [
          1968,
          1969,
          1970,
          1971,
          1972,
          1973,
          1974,
          1975,
          1976,
          1977,
          1978,
          1979,
          1980,
          1981,
          1982,
          1983,
          1984,
          1985,
          1986,
          1987,
          1988,
          1989,
          1990,
          1991,
          1992,
          1993,
          1994,
          1995,
          1996,
          1997,
          1998,
          1999,
          2000,
          2001,
          2002,
          2003,
          2004,
          2005,
          2006,
          2007,
          2008,
          2009,
          2010,
          2011,
          2012,
          2013,
          2014,
          2015,
          2016,
          2017,
          2018,
          2019,
          2020,
          2021
         ],
         "y": [
          null,
          null,
          null,
          null,
          null,
          null,
          null,
          null,
          null,
          null,
          null,
          null,
          null,
          null,
          null,
          null,
          null,
          null,
          null,
          null,
          0.9999998821196991,
          0.7554573687259128,
          0.9999999420280813,
          1.0000000115685135,
          1.080484629521413,
          1.0315105201047823,
          1.000000057594451,
          0.9999999983385455,
          1.0000000311548851,
          1.0000000106569675,
          1.0000000258528383,
          1.0000000644920746,
          1.0000000009797523,
          1.1404210783570672,
          2.4457129610366097,
          2.2164226909838587,
          2.2094101277125175,
          1.3617429735683113,
          1.0000000033541103,
          1.0000000032245733,
          2.061889932656121,
          2.1282176464002056,
          1.9938749906522968,
          2.3306056084857256,
          2.355577873422974,
          2.476888191533441,
          1.8185433263713457,
          2.1487983375822406,
          1.5598183345030936,
          1.3184448091778096,
          1.0000038053473244,
          1.0000000666910647,
          2.015133871172679,
          2.484092195674218
         ]
        }
       ],
       "layout": {
        "legend": {
         "x": 0.01,
         "xanchor": "left",
         "y": 0.99,
         "yanchor": "top"
        },
        "template": {
         "data": {
          "bar": [
           {
            "error_x": {
             "color": "#2a3f5f"
            },
            "error_y": {
             "color": "#2a3f5f"
            },
            "marker": {
             "line": {
              "color": "#E5ECF6",
              "width": 0.5
             },
             "pattern": {
              "fillmode": "overlay",
              "size": 10,
              "solidity": 0.2
             }
            },
            "type": "bar"
           }
          ],
          "barpolar": [
           {
            "marker": {
             "line": {
              "color": "#E5ECF6",
              "width": 0.5
             },
             "pattern": {
              "fillmode": "overlay",
              "size": 10,
              "solidity": 0.2
             }
            },
            "type": "barpolar"
           }
          ],
          "carpet": [
           {
            "aaxis": {
             "endlinecolor": "#2a3f5f",
             "gridcolor": "white",
             "linecolor": "white",
             "minorgridcolor": "white",
             "startlinecolor": "#2a3f5f"
            },
            "baxis": {
             "endlinecolor": "#2a3f5f",
             "gridcolor": "white",
             "linecolor": "white",
             "minorgridcolor": "white",
             "startlinecolor": "#2a3f5f"
            },
            "type": "carpet"
           }
          ],
          "choropleth": [
           {
            "colorbar": {
             "outlinewidth": 0,
             "ticks": ""
            },
            "type": "choropleth"
           }
          ],
          "contour": [
           {
            "colorbar": {
             "outlinewidth": 0,
             "ticks": ""
            },
            "colorscale": [
             [
              0,
              "#0d0887"
             ],
             [
              0.1111111111111111,
              "#46039f"
             ],
             [
              0.2222222222222222,
              "#7201a8"
             ],
             [
              0.3333333333333333,
              "#9c179e"
             ],
             [
              0.4444444444444444,
              "#bd3786"
             ],
             [
              0.5555555555555556,
              "#d8576b"
             ],
             [
              0.6666666666666666,
              "#ed7953"
             ],
             [
              0.7777777777777778,
              "#fb9f3a"
             ],
             [
              0.8888888888888888,
              "#fdca26"
             ],
             [
              1,
              "#f0f921"
             ]
            ],
            "type": "contour"
           }
          ],
          "contourcarpet": [
           {
            "colorbar": {
             "outlinewidth": 0,
             "ticks": ""
            },
            "type": "contourcarpet"
           }
          ],
          "heatmap": [
           {
            "colorbar": {
             "outlinewidth": 0,
             "ticks": ""
            },
            "colorscale": [
             [
              0,
              "#0d0887"
             ],
             [
              0.1111111111111111,
              "#46039f"
             ],
             [
              0.2222222222222222,
              "#7201a8"
             ],
             [
              0.3333333333333333,
              "#9c179e"
             ],
             [
              0.4444444444444444,
              "#bd3786"
             ],
             [
              0.5555555555555556,
              "#d8576b"
             ],
             [
              0.6666666666666666,
              "#ed7953"
             ],
             [
              0.7777777777777778,
              "#fb9f3a"
             ],
             [
              0.8888888888888888,
              "#fdca26"
             ],
             [
              1,
              "#f0f921"
             ]
            ],
            "type": "heatmap"
           }
          ],
          "heatmapgl": [
           {
            "colorbar": {
             "outlinewidth": 0,
             "ticks": ""
            },
            "colorscale": [
             [
              0,
              "#0d0887"
             ],
             [
              0.1111111111111111,
              "#46039f"
             ],
             [
              0.2222222222222222,
              "#7201a8"
             ],
             [
              0.3333333333333333,
              "#9c179e"
             ],
             [
              0.4444444444444444,
              "#bd3786"
             ],
             [
              0.5555555555555556,
              "#d8576b"
             ],
             [
              0.6666666666666666,
              "#ed7953"
             ],
             [
              0.7777777777777778,
              "#fb9f3a"
             ],
             [
              0.8888888888888888,
              "#fdca26"
             ],
             [
              1,
              "#f0f921"
             ]
            ],
            "type": "heatmapgl"
           }
          ],
          "histogram": [
           {
            "marker": {
             "pattern": {
              "fillmode": "overlay",
              "size": 10,
              "solidity": 0.2
             }
            },
            "type": "histogram"
           }
          ],
          "histogram2d": [
           {
            "colorbar": {
             "outlinewidth": 0,
             "ticks": ""
            },
            "colorscale": [
             [
              0,
              "#0d0887"
             ],
             [
              0.1111111111111111,
              "#46039f"
             ],
             [
              0.2222222222222222,
              "#7201a8"
             ],
             [
              0.3333333333333333,
              "#9c179e"
             ],
             [
              0.4444444444444444,
              "#bd3786"
             ],
             [
              0.5555555555555556,
              "#d8576b"
             ],
             [
              0.6666666666666666,
              "#ed7953"
             ],
             [
              0.7777777777777778,
              "#fb9f3a"
             ],
             [
              0.8888888888888888,
              "#fdca26"
             ],
             [
              1,
              "#f0f921"
             ]
            ],
            "type": "histogram2d"
           }
          ],
          "histogram2dcontour": [
           {
            "colorbar": {
             "outlinewidth": 0,
             "ticks": ""
            },
            "colorscale": [
             [
              0,
              "#0d0887"
             ],
             [
              0.1111111111111111,
              "#46039f"
             ],
             [
              0.2222222222222222,
              "#7201a8"
             ],
             [
              0.3333333333333333,
              "#9c179e"
             ],
             [
              0.4444444444444444,
              "#bd3786"
             ],
             [
              0.5555555555555556,
              "#d8576b"
             ],
             [
              0.6666666666666666,
              "#ed7953"
             ],
             [
              0.7777777777777778,
              "#fb9f3a"
             ],
             [
              0.8888888888888888,
              "#fdca26"
             ],
             [
              1,
              "#f0f921"
             ]
            ],
            "type": "histogram2dcontour"
           }
          ],
          "mesh3d": [
           {
            "colorbar": {
             "outlinewidth": 0,
             "ticks": ""
            },
            "type": "mesh3d"
           }
          ],
          "parcoords": [
           {
            "line": {
             "colorbar": {
              "outlinewidth": 0,
              "ticks": ""
             }
            },
            "type": "parcoords"
           }
          ],
          "pie": [
           {
            "automargin": true,
            "type": "pie"
           }
          ],
          "scatter": [
           {
            "fillpattern": {
             "fillmode": "overlay",
             "size": 10,
             "solidity": 0.2
            },
            "type": "scatter"
           }
          ],
          "scatter3d": [
           {
            "line": {
             "colorbar": {
              "outlinewidth": 0,
              "ticks": ""
             }
            },
            "marker": {
             "colorbar": {
              "outlinewidth": 0,
              "ticks": ""
             }
            },
            "type": "scatter3d"
           }
          ],
          "scattercarpet": [
           {
            "marker": {
             "colorbar": {
              "outlinewidth": 0,
              "ticks": ""
             }
            },
            "type": "scattercarpet"
           }
          ],
          "scattergeo": [
           {
            "marker": {
             "colorbar": {
              "outlinewidth": 0,
              "ticks": ""
             }
            },
            "type": "scattergeo"
           }
          ],
          "scattergl": [
           {
            "marker": {
             "colorbar": {
              "outlinewidth": 0,
              "ticks": ""
             }
            },
            "type": "scattergl"
           }
          ],
          "scattermapbox": [
           {
            "marker": {
             "colorbar": {
              "outlinewidth": 0,
              "ticks": ""
             }
            },
            "type": "scattermapbox"
           }
          ],
          "scatterpolar": [
           {
            "marker": {
             "colorbar": {
              "outlinewidth": 0,
              "ticks": ""
             }
            },
            "type": "scatterpolar"
           }
          ],
          "scatterpolargl": [
           {
            "marker": {
             "colorbar": {
              "outlinewidth": 0,
              "ticks": ""
             }
            },
            "type": "scatterpolargl"
           }
          ],
          "scatterternary": [
           {
            "marker": {
             "colorbar": {
              "outlinewidth": 0,
              "ticks": ""
             }
            },
            "type": "scatterternary"
           }
          ],
          "surface": [
           {
            "colorbar": {
             "outlinewidth": 0,
             "ticks": ""
            },
            "colorscale": [
             [
              0,
              "#0d0887"
             ],
             [
              0.1111111111111111,
              "#46039f"
             ],
             [
              0.2222222222222222,
              "#7201a8"
             ],
             [
              0.3333333333333333,
              "#9c179e"
             ],
             [
              0.4444444444444444,
              "#bd3786"
             ],
             [
              0.5555555555555556,
              "#d8576b"
             ],
             [
              0.6666666666666666,
              "#ed7953"
             ],
             [
              0.7777777777777778,
              "#fb9f3a"
             ],
             [
              0.8888888888888888,
              "#fdca26"
             ],
             [
              1,
              "#f0f921"
             ]
            ],
            "type": "surface"
           }
          ],
          "table": [
           {
            "cells": {
             "fill": {
              "color": "#EBF0F8"
             },
             "line": {
              "color": "white"
             }
            },
            "header": {
             "fill": {
              "color": "#C8D4E3"
             },
             "line": {
              "color": "white"
             }
            },
            "type": "table"
           }
          ]
         },
         "layout": {
          "annotationdefaults": {
           "arrowcolor": "#2a3f5f",
           "arrowhead": 0,
           "arrowwidth": 1
          },
          "autotypenumbers": "strict",
          "coloraxis": {
           "colorbar": {
            "outlinewidth": 0,
            "ticks": ""
           }
          },
          "colorscale": {
           "diverging": [
            [
             0,
             "#8e0152"
            ],
            [
             0.1,
             "#c51b7d"
            ],
            [
             0.2,
             "#de77ae"
            ],
            [
             0.3,
             "#f1b6da"
            ],
            [
             0.4,
             "#fde0ef"
            ],
            [
             0.5,
             "#f7f7f7"
            ],
            [
             0.6,
             "#e6f5d0"
            ],
            [
             0.7,
             "#b8e186"
            ],
            [
             0.8,
             "#7fbc41"
            ],
            [
             0.9,
             "#4d9221"
            ],
            [
             1,
             "#276419"
            ]
           ],
           "sequential": [
            [
             0,
             "#0d0887"
            ],
            [
             0.1111111111111111,
             "#46039f"
            ],
            [
             0.2222222222222222,
             "#7201a8"
            ],
            [
             0.3333333333333333,
             "#9c179e"
            ],
            [
             0.4444444444444444,
             "#bd3786"
            ],
            [
             0.5555555555555556,
             "#d8576b"
            ],
            [
             0.6666666666666666,
             "#ed7953"
            ],
            [
             0.7777777777777778,
             "#fb9f3a"
            ],
            [
             0.8888888888888888,
             "#fdca26"
            ],
            [
             1,
             "#f0f921"
            ]
           ],
           "sequentialminus": [
            [
             0,
             "#0d0887"
            ],
            [
             0.1111111111111111,
             "#46039f"
            ],
            [
             0.2222222222222222,
             "#7201a8"
            ],
            [
             0.3333333333333333,
             "#9c179e"
            ],
            [
             0.4444444444444444,
             "#bd3786"
            ],
            [
             0.5555555555555556,
             "#d8576b"
            ],
            [
             0.6666666666666666,
             "#ed7953"
            ],
            [
             0.7777777777777778,
             "#fb9f3a"
            ],
            [
             0.8888888888888888,
             "#fdca26"
            ],
            [
             1,
             "#f0f921"
            ]
           ]
          },
          "colorway": [
           "#636efa",
           "#EF553B",
           "#00cc96",
           "#ab63fa",
           "#FFA15A",
           "#19d3f3",
           "#FF6692",
           "#B6E880",
           "#FF97FF",
           "#FECB52"
          ],
          "font": {
           "color": "#2a3f5f"
          },
          "geo": {
           "bgcolor": "white",
           "lakecolor": "white",
           "landcolor": "#E5ECF6",
           "showlakes": true,
           "showland": true,
           "subunitcolor": "white"
          },
          "hoverlabel": {
           "align": "left"
          },
          "hovermode": "closest",
          "mapbox": {
           "style": "light"
          },
          "paper_bgcolor": "white",
          "plot_bgcolor": "#E5ECF6",
          "polar": {
           "angularaxis": {
            "gridcolor": "white",
            "linecolor": "white",
            "ticks": ""
           },
           "bgcolor": "#E5ECF6",
           "radialaxis": {
            "gridcolor": "white",
            "linecolor": "white",
            "ticks": ""
           }
          },
          "scene": {
           "xaxis": {
            "backgroundcolor": "#E5ECF6",
            "gridcolor": "white",
            "gridwidth": 2,
            "linecolor": "white",
            "showbackground": true,
            "ticks": "",
            "zerolinecolor": "white"
           },
           "yaxis": {
            "backgroundcolor": "#E5ECF6",
            "gridcolor": "white",
            "gridwidth": 2,
            "linecolor": "white",
            "showbackground": true,
            "ticks": "",
            "zerolinecolor": "white"
           },
           "zaxis": {
            "backgroundcolor": "#E5ECF6",
            "gridcolor": "white",
            "gridwidth": 2,
            "linecolor": "white",
            "showbackground": true,
            "ticks": "",
            "zerolinecolor": "white"
           }
          },
          "shapedefaults": {
           "line": {
            "color": "#2a3f5f"
           }
          },
          "ternary": {
           "aaxis": {
            "gridcolor": "white",
            "linecolor": "white",
            "ticks": ""
           },
           "baxis": {
            "gridcolor": "white",
            "linecolor": "white",
            "ticks": ""
           },
           "bgcolor": "#E5ECF6",
           "caxis": {
            "gridcolor": "white",
            "linecolor": "white",
            "ticks": ""
           }
          },
          "title": {
           "x": 0.05
          },
          "xaxis": {
           "automargin": true,
           "gridcolor": "white",
           "linecolor": "white",
           "ticks": "",
           "title": {
            "standoff": 15
           },
           "zerolinecolor": "white",
           "zerolinewidth": 2
          },
          "yaxis": {
           "automargin": true,
           "gridcolor": "white",
           "linecolor": "white",
           "ticks": "",
           "title": {
            "standoff": 15
           },
           "zerolinecolor": "white",
           "zerolinewidth": 2
          }
         }
        },
        "xaxis": {
         "range": [
          1988,
          2021
         ],
         "title": {
          "text": "Year"
         }
        },
        "yaxis": {
         "tickformat": ".0%",
         "title": {
          "text": "Risky Portfolio Weight"
         }
        }
       }
      }
     },
     "metadata": {},
     "output_type": "display_data"
    }
   ],
   "source": [
    "# Plot leverage (wgt_cal)\n",
    "fig = go.Figure()\n",
    "for model in ['est_all', 'est_cov', 'est_sds', 'ew']:\n",
    "    string =  \"Strategy: \" + label_dict[model] +\" <br>\"\n",
    "    string += \"Year: %{x:4.0f}<br>\"\n",
    "    string += \"Weight in Risky Portfolio: %{y: 0.1%} <br>\"\n",
    "    string += \"<extra></extra>\"\n",
    "\n",
    "    trace=go.Scatter(x=df['year'], y=df['wgt_cal_'+model], hovertemplate=string, name = xaxis_label_dict[model])\n",
    "    fig.add_trace(trace)\n",
    "fig.layout.yaxis[\"title\"] = \"Risky Portfolio Weight\"\n",
    "fig.layout.xaxis[\"title\"] = \"Year\"\n",
    "fig.update_yaxes(tickformat=\".0%\")\n",
    "fig.update_layout(legend=dict(yanchor=\"top\", y =0.99, xanchor=\"left\", x=0.01))\n",
    "fig.update_xaxes(range=[df['year'].iloc[window], df.year.max()])\n",
    "fig.show()\n"
   ]
  },
  {
   "cell_type": "code",
   "execution_count": 94,
   "metadata": {},
   "outputs": [
    {
     "data": {
      "application/vnd.plotly.v1+json": {
       "config": {
        "plotlyServerURL": "https://plot.ly"
       },
       "data": [
        {
         "hovertemplate": "Strategy: estimate all inputs <br>Year: %{x:4.0f}<br>Expected Return: %{y: 0.1%} <br><extra></extra>",
         "name": "Est-All",
         "type": "scatter",
         "x": [
          1968,
          1969,
          1970,
          1971,
          1972,
          1973,
          1974,
          1975,
          1976,
          1977,
          1978,
          1979,
          1980,
          1981,
          1982,
          1983,
          1984,
          1985,
          1986,
          1987,
          1988,
          1989,
          1990,
          1991,
          1992,
          1993,
          1994,
          1995,
          1996,
          1997,
          1998,
          1999,
          2000,
          2001,
          2002,
          2003,
          2004,
          2005,
          2006,
          2007,
          2008,
          2009,
          2010,
          2011,
          2012,
          2013,
          2014,
          2015,
          2016,
          2017,
          2018,
          2019,
          2020,
          2021
         ],
         "y": [
          null,
          null,
          null,
          null,
          null,
          null,
          null,
          null,
          null,
          null,
          null,
          null,
          null,
          null,
          null,
          null,
          null,
          null,
          null,
          null,
          0.14679497374281736,
          0.15042749943807138,
          0.15291222110393216,
          0.1967042839507275,
          0.2421348624852635,
          0.24712645198820643,
          0.20645509433727693,
          0.25999073384821175,
          0.2683876029450506,
          0.2586938801853347,
          0.2730969089516174,
          0.2640537384265242,
          0.39565291184606977,
          0.3681801842568988,
          0.36688338582006563,
          0.33483385346844213,
          0.34674872041499144,
          0.27886624612894795,
          0.20838814387532642,
          0.20082358815350435,
          0.20248271425177802,
          0.15274108675905293,
          0.1533846890288894,
          0.17467833138036637,
          0.17203603566627645,
          0.17181667984935392,
          0.11971545321851543,
          0.16972855795227818,
          0.1275535592873309,
          0.10478231653516579,
          0.07842266982385812,
          0.07533782201123485,
          0.12237982321685276,
          0.12761391407396636
         ]
        },
        {
         "hovertemplate": "Strategy: estimate covariance matrix only <br>Year: %{x:4.0f}<br>Expected Return: %{y: 0.1%} <br><extra></extra>",
         "name": "Est-SD-Corr",
         "type": "scatter",
         "x": [
          1968,
          1969,
          1970,
          1971,
          1972,
          1973,
          1974,
          1975,
          1976,
          1977,
          1978,
          1979,
          1980,
          1981,
          1982,
          1983,
          1984,
          1985,
          1986,
          1987,
          1988,
          1989,
          1990,
          1991,
          1992,
          1993,
          1994,
          1995,
          1996,
          1997,
          1998,
          1999,
          2000,
          2001,
          2002,
          2003,
          2004,
          2005,
          2006,
          2007,
          2008,
          2009,
          2010,
          2011,
          2012,
          2013,
          2014,
          2015,
          2016,
          2017,
          2018,
          2019,
          2020,
          2021
         ],
         "y": [
          null,
          null,
          null,
          null,
          null,
          null,
          null,
          null,
          null,
          null,
          null,
          null,
          null,
          null,
          null,
          null,
          null,
          null,
          null,
          null,
          0.11733138475672757,
          0.11558183305298453,
          0.12734120338819102,
          0.13411008762975374,
          0.18219209872012293,
          0.17144902297235132,
          0.13232632125691224,
          0.1095055740150709,
          0.1220590146290051,
          0.11315239919140763,
          0.11847942004606815,
          0.119995599514856,
          0.09706398622941523,
          0.09365971308542198,
          0.13921226879778406,
          0.1437127488963431,
          0.13995216619601275,
          0.10170105067900016,
          0.08765490016662159,
          0.08324671165421682,
          0.1404895444299793,
          0.1466558172730903,
          0.1489236812330678,
          0.1917156596620402,
          0.18162875047868465,
          0.19179714195571565,
          0.13158879183015287,
          0.18643756736413533,
          0.14294358550740305,
          0.11845570974054682,
          0.09521821866187524,
          0.08105698122512078,
          0.19239589456580053,
          0.26614351543383674
         ]
        },
        {
         "hovertemplate": "Strategy: estimate standard deviations only <br>Year: %{x:4.0f}<br>Expected Return: %{y: 0.1%} <br><extra></extra>",
         "name": "Est-SD",
         "type": "scatter",
         "x": [
          1968,
          1969,
          1970,
          1971,
          1972,
          1973,
          1974,
          1975,
          1976,
          1977,
          1978,
          1979,
          1980,
          1981,
          1982,
          1983,
          1984,
          1985,
          1986,
          1987,
          1988,
          1989,
          1990,
          1991,
          1992,
          1993,
          1994,
          1995,
          1996,
          1997,
          1998,
          1999,
          2000,
          2001,
          2002,
          2003,
          2004,
          2005,
          2006,
          2007,
          2008,
          2009,
          2010,
          2011,
          2012,
          2013,
          2014,
          2015,
          2016,
          2017,
          2018,
          2019,
          2020,
          2021
         ],
         "y": [
          null,
          null,
          null,
          null,
          null,
          null,
          null,
          null,
          null,
          null,
          null,
          null,
          null,
          null,
          null,
          null,
          null,
          null,
          null,
          null,
          0.11733138489021236,
          0.11558183587671447,
          0.1273412035236303,
          0.1413568598341758,
          0.19807345159024925,
          0.18045847311951022,
          0.13976620353605357,
          0.10950557479619893,
          0.1268320072165802,
          0.11606263942415695,
          0.12303901057496204,
          0.1292465225046968,
          0.09706398631931795,
          0.10053218208583249,
          0.17091469918196234,
          0.1667661612097221,
          0.17577767588821958,
          0.11534608613775854,
          0.08765490016769556,
          0.08324671165384555,
          0.16519597364594882,
          0.17949533658510117,
          0.16245741416865334,
          0.21017438608223685,
          0.20578134140935506,
          0.2197948938016261,
          0.15620234729633384,
          0.20360720200074367,
          0.12786591092502256,
          0.10802498626056552,
          0.0865566067861574,
          0.07194537731666072,
          0.1564110264792462,
          0.21018397315699858
         ]
        },
        {
         "hovertemplate": "Strategy: equal weights <br>Year: %{x:4.0f}<br>Expected Return: %{y: 0.1%} <br><extra></extra>",
         "name": "Est-None",
         "type": "scatter",
         "x": [
          1968,
          1969,
          1970,
          1971,
          1972,
          1973,
          1974,
          1975,
          1976,
          1977,
          1978,
          1979,
          1980,
          1981,
          1982,
          1983,
          1984,
          1985,
          1986,
          1987,
          1988,
          1989,
          1990,
          1991,
          1992,
          1993,
          1994,
          1995,
          1996,
          1997,
          1998,
          1999,
          2000,
          2001,
          2002,
          2003,
          2004,
          2005,
          2006,
          2007,
          2008,
          2009,
          2010,
          2011,
          2012,
          2013,
          2014,
          2015,
          2016,
          2017,
          2018,
          2019,
          2020,
          2021
         ],
         "y": [
          null,
          null,
          null,
          null,
          null,
          null,
          null,
          null,
          null,
          null,
          null,
          null,
          null,
          null,
          null,
          null,
          null,
          null,
          null,
          null,
          0.11733137877397212,
          0.10715363288057989,
          0.12734120018407374,
          0.1241772972500086,
          0.12802466485007818,
          0.11823800825643577,
          0.11561309670337855,
          0.10950557348359771,
          0.11644055959857495,
          0.11256093502550757,
          0.11328508147240651,
          0.1140554329372799,
          0.09706398632086881,
          0.0964367301789035,
          0.15514301498086908,
          0.13503990315905393,
          0.14065646087487174,
          0.10319503183490875,
          0.08765490016636532,
          0.08324671165485009,
          0.12056026694482788,
          0.12516972437861057,
          0.12078091990725737,
          0.1506230549855255,
          0.14807917397199305,
          0.1575504001744544,
          0.11217721187956813,
          0.13697148558307912,
          0.09123358071576071,
          0.08307622028195824,
          0.07652657059233939,
          0.06918259316295014,
          0.11309508945169694,
          0.1468731942711858
         ]
        }
       ],
       "layout": {
        "legend": {
         "x": 0.01,
         "xanchor": "left",
         "y": 0.99,
         "yanchor": "top"
        },
        "template": {
         "data": {
          "bar": [
           {
            "error_x": {
             "color": "#2a3f5f"
            },
            "error_y": {
             "color": "#2a3f5f"
            },
            "marker": {
             "line": {
              "color": "#E5ECF6",
              "width": 0.5
             },
             "pattern": {
              "fillmode": "overlay",
              "size": 10,
              "solidity": 0.2
             }
            },
            "type": "bar"
           }
          ],
          "barpolar": [
           {
            "marker": {
             "line": {
              "color": "#E5ECF6",
              "width": 0.5
             },
             "pattern": {
              "fillmode": "overlay",
              "size": 10,
              "solidity": 0.2
             }
            },
            "type": "barpolar"
           }
          ],
          "carpet": [
           {
            "aaxis": {
             "endlinecolor": "#2a3f5f",
             "gridcolor": "white",
             "linecolor": "white",
             "minorgridcolor": "white",
             "startlinecolor": "#2a3f5f"
            },
            "baxis": {
             "endlinecolor": "#2a3f5f",
             "gridcolor": "white",
             "linecolor": "white",
             "minorgridcolor": "white",
             "startlinecolor": "#2a3f5f"
            },
            "type": "carpet"
           }
          ],
          "choropleth": [
           {
            "colorbar": {
             "outlinewidth": 0,
             "ticks": ""
            },
            "type": "choropleth"
           }
          ],
          "contour": [
           {
            "colorbar": {
             "outlinewidth": 0,
             "ticks": ""
            },
            "colorscale": [
             [
              0,
              "#0d0887"
             ],
             [
              0.1111111111111111,
              "#46039f"
             ],
             [
              0.2222222222222222,
              "#7201a8"
             ],
             [
              0.3333333333333333,
              "#9c179e"
             ],
             [
              0.4444444444444444,
              "#bd3786"
             ],
             [
              0.5555555555555556,
              "#d8576b"
             ],
             [
              0.6666666666666666,
              "#ed7953"
             ],
             [
              0.7777777777777778,
              "#fb9f3a"
             ],
             [
              0.8888888888888888,
              "#fdca26"
             ],
             [
              1,
              "#f0f921"
             ]
            ],
            "type": "contour"
           }
          ],
          "contourcarpet": [
           {
            "colorbar": {
             "outlinewidth": 0,
             "ticks": ""
            },
            "type": "contourcarpet"
           }
          ],
          "heatmap": [
           {
            "colorbar": {
             "outlinewidth": 0,
             "ticks": ""
            },
            "colorscale": [
             [
              0,
              "#0d0887"
             ],
             [
              0.1111111111111111,
              "#46039f"
             ],
             [
              0.2222222222222222,
              "#7201a8"
             ],
             [
              0.3333333333333333,
              "#9c179e"
             ],
             [
              0.4444444444444444,
              "#bd3786"
             ],
             [
              0.5555555555555556,
              "#d8576b"
             ],
             [
              0.6666666666666666,
              "#ed7953"
             ],
             [
              0.7777777777777778,
              "#fb9f3a"
             ],
             [
              0.8888888888888888,
              "#fdca26"
             ],
             [
              1,
              "#f0f921"
             ]
            ],
            "type": "heatmap"
           }
          ],
          "heatmapgl": [
           {
            "colorbar": {
             "outlinewidth": 0,
             "ticks": ""
            },
            "colorscale": [
             [
              0,
              "#0d0887"
             ],
             [
              0.1111111111111111,
              "#46039f"
             ],
             [
              0.2222222222222222,
              "#7201a8"
             ],
             [
              0.3333333333333333,
              "#9c179e"
             ],
             [
              0.4444444444444444,
              "#bd3786"
             ],
             [
              0.5555555555555556,
              "#d8576b"
             ],
             [
              0.6666666666666666,
              "#ed7953"
             ],
             [
              0.7777777777777778,
              "#fb9f3a"
             ],
             [
              0.8888888888888888,
              "#fdca26"
             ],
             [
              1,
              "#f0f921"
             ]
            ],
            "type": "heatmapgl"
           }
          ],
          "histogram": [
           {
            "marker": {
             "pattern": {
              "fillmode": "overlay",
              "size": 10,
              "solidity": 0.2
             }
            },
            "type": "histogram"
           }
          ],
          "histogram2d": [
           {
            "colorbar": {
             "outlinewidth": 0,
             "ticks": ""
            },
            "colorscale": [
             [
              0,
              "#0d0887"
             ],
             [
              0.1111111111111111,
              "#46039f"
             ],
             [
              0.2222222222222222,
              "#7201a8"
             ],
             [
              0.3333333333333333,
              "#9c179e"
             ],
             [
              0.4444444444444444,
              "#bd3786"
             ],
             [
              0.5555555555555556,
              "#d8576b"
             ],
             [
              0.6666666666666666,
              "#ed7953"
             ],
             [
              0.7777777777777778,
              "#fb9f3a"
             ],
             [
              0.8888888888888888,
              "#fdca26"
             ],
             [
              1,
              "#f0f921"
             ]
            ],
            "type": "histogram2d"
           }
          ],
          "histogram2dcontour": [
           {
            "colorbar": {
             "outlinewidth": 0,
             "ticks": ""
            },
            "colorscale": [
             [
              0,
              "#0d0887"
             ],
             [
              0.1111111111111111,
              "#46039f"
             ],
             [
              0.2222222222222222,
              "#7201a8"
             ],
             [
              0.3333333333333333,
              "#9c179e"
             ],
             [
              0.4444444444444444,
              "#bd3786"
             ],
             [
              0.5555555555555556,
              "#d8576b"
             ],
             [
              0.6666666666666666,
              "#ed7953"
             ],
             [
              0.7777777777777778,
              "#fb9f3a"
             ],
             [
              0.8888888888888888,
              "#fdca26"
             ],
             [
              1,
              "#f0f921"
             ]
            ],
            "type": "histogram2dcontour"
           }
          ],
          "mesh3d": [
           {
            "colorbar": {
             "outlinewidth": 0,
             "ticks": ""
            },
            "type": "mesh3d"
           }
          ],
          "parcoords": [
           {
            "line": {
             "colorbar": {
              "outlinewidth": 0,
              "ticks": ""
             }
            },
            "type": "parcoords"
           }
          ],
          "pie": [
           {
            "automargin": true,
            "type": "pie"
           }
          ],
          "scatter": [
           {
            "fillpattern": {
             "fillmode": "overlay",
             "size": 10,
             "solidity": 0.2
            },
            "type": "scatter"
           }
          ],
          "scatter3d": [
           {
            "line": {
             "colorbar": {
              "outlinewidth": 0,
              "ticks": ""
             }
            },
            "marker": {
             "colorbar": {
              "outlinewidth": 0,
              "ticks": ""
             }
            },
            "type": "scatter3d"
           }
          ],
          "scattercarpet": [
           {
            "marker": {
             "colorbar": {
              "outlinewidth": 0,
              "ticks": ""
             }
            },
            "type": "scattercarpet"
           }
          ],
          "scattergeo": [
           {
            "marker": {
             "colorbar": {
              "outlinewidth": 0,
              "ticks": ""
             }
            },
            "type": "scattergeo"
           }
          ],
          "scattergl": [
           {
            "marker": {
             "colorbar": {
              "outlinewidth": 0,
              "ticks": ""
             }
            },
            "type": "scattergl"
           }
          ],
          "scattermapbox": [
           {
            "marker": {
             "colorbar": {
              "outlinewidth": 0,
              "ticks": ""
             }
            },
            "type": "scattermapbox"
           }
          ],
          "scatterpolar": [
           {
            "marker": {
             "colorbar": {
              "outlinewidth": 0,
              "ticks": ""
             }
            },
            "type": "scatterpolar"
           }
          ],
          "scatterpolargl": [
           {
            "marker": {
             "colorbar": {
              "outlinewidth": 0,
              "ticks": ""
             }
            },
            "type": "scatterpolargl"
           }
          ],
          "scatterternary": [
           {
            "marker": {
             "colorbar": {
              "outlinewidth": 0,
              "ticks": ""
             }
            },
            "type": "scatterternary"
           }
          ],
          "surface": [
           {
            "colorbar": {
             "outlinewidth": 0,
             "ticks": ""
            },
            "colorscale": [
             [
              0,
              "#0d0887"
             ],
             [
              0.1111111111111111,
              "#46039f"
             ],
             [
              0.2222222222222222,
              "#7201a8"
             ],
             [
              0.3333333333333333,
              "#9c179e"
             ],
             [
              0.4444444444444444,
              "#bd3786"
             ],
             [
              0.5555555555555556,
              "#d8576b"
             ],
             [
              0.6666666666666666,
              "#ed7953"
             ],
             [
              0.7777777777777778,
              "#fb9f3a"
             ],
             [
              0.8888888888888888,
              "#fdca26"
             ],
             [
              1,
              "#f0f921"
             ]
            ],
            "type": "surface"
           }
          ],
          "table": [
           {
            "cells": {
             "fill": {
              "color": "#EBF0F8"
             },
             "line": {
              "color": "white"
             }
            },
            "header": {
             "fill": {
              "color": "#C8D4E3"
             },
             "line": {
              "color": "white"
             }
            },
            "type": "table"
           }
          ]
         },
         "layout": {
          "annotationdefaults": {
           "arrowcolor": "#2a3f5f",
           "arrowhead": 0,
           "arrowwidth": 1
          },
          "autotypenumbers": "strict",
          "coloraxis": {
           "colorbar": {
            "outlinewidth": 0,
            "ticks": ""
           }
          },
          "colorscale": {
           "diverging": [
            [
             0,
             "#8e0152"
            ],
            [
             0.1,
             "#c51b7d"
            ],
            [
             0.2,
             "#de77ae"
            ],
            [
             0.3,
             "#f1b6da"
            ],
            [
             0.4,
             "#fde0ef"
            ],
            [
             0.5,
             "#f7f7f7"
            ],
            [
             0.6,
             "#e6f5d0"
            ],
            [
             0.7,
             "#b8e186"
            ],
            [
             0.8,
             "#7fbc41"
            ],
            [
             0.9,
             "#4d9221"
            ],
            [
             1,
             "#276419"
            ]
           ],
           "sequential": [
            [
             0,
             "#0d0887"
            ],
            [
             0.1111111111111111,
             "#46039f"
            ],
            [
             0.2222222222222222,
             "#7201a8"
            ],
            [
             0.3333333333333333,
             "#9c179e"
            ],
            [
             0.4444444444444444,
             "#bd3786"
            ],
            [
             0.5555555555555556,
             "#d8576b"
            ],
            [
             0.6666666666666666,
             "#ed7953"
            ],
            [
             0.7777777777777778,
             "#fb9f3a"
            ],
            [
             0.8888888888888888,
             "#fdca26"
            ],
            [
             1,
             "#f0f921"
            ]
           ],
           "sequentialminus": [
            [
             0,
             "#0d0887"
            ],
            [
             0.1111111111111111,
             "#46039f"
            ],
            [
             0.2222222222222222,
             "#7201a8"
            ],
            [
             0.3333333333333333,
             "#9c179e"
            ],
            [
             0.4444444444444444,
             "#bd3786"
            ],
            [
             0.5555555555555556,
             "#d8576b"
            ],
            [
             0.6666666666666666,
             "#ed7953"
            ],
            [
             0.7777777777777778,
             "#fb9f3a"
            ],
            [
             0.8888888888888888,
             "#fdca26"
            ],
            [
             1,
             "#f0f921"
            ]
           ]
          },
          "colorway": [
           "#636efa",
           "#EF553B",
           "#00cc96",
           "#ab63fa",
           "#FFA15A",
           "#19d3f3",
           "#FF6692",
           "#B6E880",
           "#FF97FF",
           "#FECB52"
          ],
          "font": {
           "color": "#2a3f5f"
          },
          "geo": {
           "bgcolor": "white",
           "lakecolor": "white",
           "landcolor": "#E5ECF6",
           "showlakes": true,
           "showland": true,
           "subunitcolor": "white"
          },
          "hoverlabel": {
           "align": "left"
          },
          "hovermode": "closest",
          "mapbox": {
           "style": "light"
          },
          "paper_bgcolor": "white",
          "plot_bgcolor": "#E5ECF6",
          "polar": {
           "angularaxis": {
            "gridcolor": "white",
            "linecolor": "white",
            "ticks": ""
           },
           "bgcolor": "#E5ECF6",
           "radialaxis": {
            "gridcolor": "white",
            "linecolor": "white",
            "ticks": ""
           }
          },
          "scene": {
           "xaxis": {
            "backgroundcolor": "#E5ECF6",
            "gridcolor": "white",
            "gridwidth": 2,
            "linecolor": "white",
            "showbackground": true,
            "ticks": "",
            "zerolinecolor": "white"
           },
           "yaxis": {
            "backgroundcolor": "#E5ECF6",
            "gridcolor": "white",
            "gridwidth": 2,
            "linecolor": "white",
            "showbackground": true,
            "ticks": "",
            "zerolinecolor": "white"
           },
           "zaxis": {
            "backgroundcolor": "#E5ECF6",
            "gridcolor": "white",
            "gridwidth": 2,
            "linecolor": "white",
            "showbackground": true,
            "ticks": "",
            "zerolinecolor": "white"
           }
          },
          "shapedefaults": {
           "line": {
            "color": "#2a3f5f"
           }
          },
          "ternary": {
           "aaxis": {
            "gridcolor": "white",
            "linecolor": "white",
            "ticks": ""
           },
           "baxis": {
            "gridcolor": "white",
            "linecolor": "white",
            "ticks": ""
           },
           "bgcolor": "#E5ECF6",
           "caxis": {
            "gridcolor": "white",
            "linecolor": "white",
            "ticks": ""
           }
          },
          "title": {
           "x": 0.05
          },
          "xaxis": {
           "automargin": true,
           "gridcolor": "white",
           "linecolor": "white",
           "ticks": "",
           "title": {
            "standoff": 15
           },
           "zerolinecolor": "white",
           "zerolinewidth": 2
          },
          "yaxis": {
           "automargin": true,
           "gridcolor": "white",
           "linecolor": "white",
           "ticks": "",
           "title": {
            "standoff": 15
           },
           "zerolinecolor": "white",
           "zerolinewidth": 2
          }
         }
        },
        "xaxis": {
         "range": [
          1988,
          2021
         ],
         "title": {
          "text": "Year"
         }
        },
        "yaxis": {
         "tickformat": ".0%",
         "title": {
          "text": "Expected Return"
         }
        }
       }
      }
     },
     "metadata": {},
     "output_type": "display_data"
    }
   ],
   "source": [
    "# Plot expected return (expret_)\n",
    "fig = go.Figure()\n",
    "for model in ['est_all', 'est_cov', 'est_sds', 'ew']:\n",
    "    string =  \"Strategy: \" + label_dict[model] +\" <br>\"\n",
    "    string += \"Year: %{x:4.0f}<br>\"\n",
    "    string += \"Expected Return: %{y: 0.1%} <br>\"\n",
    "    string += \"<extra></extra>\"\n",
    "\n",
    "    trace=go.Scatter(x=df['year'], y=df['expret_'+model], hovertemplate=string, name = xaxis_label_dict[model])\n",
    "    fig.add_trace(trace)\n",
    "fig.layout.yaxis[\"title\"] = \"Expected Return\"\n",
    "fig.layout.xaxis[\"title\"] = \"Year\"\n",
    "fig.update_yaxes(tickformat=\".0%\")\n",
    "fig.update_layout(legend=dict(yanchor=\"top\", y =0.99, xanchor=\"left\", x=0.01))\n",
    "fig.update_xaxes(range=[df['year'].iloc[window], df.year.max()])\n",
    "fig.show()"
   ]
  },
  {
   "cell_type": "code",
   "execution_count": 96,
   "metadata": {},
   "outputs": [
    {
     "data": {
      "application/vnd.plotly.v1+json": {
       "config": {
        "plotlyServerURL": "https://plot.ly"
       },
       "data": [
        {
         "hovertemplate": "Strategy: estimate all inputs <br>Year: %{x:4.0f}<br>Expected Standard Deviation: %{y: 0.1%} <br><extra></extra>",
         "name": "Est-All",
         "type": "scatter",
         "x": [
          1968,
          1969,
          1970,
          1971,
          1972,
          1973,
          1974,
          1975,
          1976,
          1977,
          1978,
          1979,
          1980,
          1981,
          1982,
          1983,
          1984,
          1985,
          1986,
          1987,
          1988,
          1989,
          1990,
          1991,
          1992,
          1993,
          1994,
          1995,
          1996,
          1997,
          1998,
          1999,
          2000,
          2001,
          2002,
          2003,
          2004,
          2005,
          2006,
          2007,
          2008,
          2009,
          2010,
          2011,
          2012,
          2013,
          2014,
          2015,
          2016,
          2017,
          2018,
          2019,
          2020,
          2021
         ],
         "y": [
          null,
          null,
          null,
          null,
          null,
          null,
          null,
          null,
          null,
          null,
          null,
          null,
          null,
          null,
          null,
          null,
          null,
          null,
          null,
          null,
          0.11653714548562966,
          0.1174118248199551,
          0.10465786330907352,
          0.1434952204846905,
          0.18320384143134344,
          0.18822939212194595,
          0.1574728243454146,
          0.18170897438426295,
          0.1888540740535632,
          0.18334970671459022,
          0.1925254649201713,
          0.18850487032474927,
          0.2463960355326731,
          0.24260953301083946,
          0.24934250213207942,
          0.23863176947155545,
          0.2420876536434867,
          0.2036661964471911,
          0.1588770480160894,
          0.15743510173633232,
          0.17252985027604137,
          0.14915838421949135,
          0.1496783572378543,
          0.16380073437336914,
          0.16197393297492696,
          0.162008282109899,
          0.1260083099602322,
          0.1607505029183506,
          0.12990655568928694,
          0.10533184331216641,
          0.06203647093237637,
          0.07331635984206218,
          0.1276556493288597,
          0.1319196073922031
         ]
        },
        {
         "hovertemplate": "Strategy: estimate covariance matrix only <br>Year: %{x:4.0f}<br>Expected Standard Deviation: %{y: 0.1%} <br><extra></extra>",
         "name": "Est-SD-Corr",
         "type": "scatter",
         "x": [
          1968,
          1969,
          1970,
          1971,
          1972,
          1973,
          1974,
          1975,
          1976,
          1977,
          1978,
          1979,
          1980,
          1981,
          1982,
          1983,
          1984,
          1985,
          1986,
          1987,
          1988,
          1989,
          1990,
          1991,
          1992,
          1993,
          1994,
          1995,
          1996,
          1997,
          1998,
          1999,
          2000,
          2001,
          2002,
          2003,
          2004,
          2005,
          2006,
          2007,
          2008,
          2009,
          2010,
          2011,
          2012,
          2013,
          2014,
          2015,
          2016,
          2017,
          2018,
          2019,
          2020,
          2021
         ],
         "y": [
          null,
          null,
          null,
          null,
          null,
          null,
          null,
          null,
          null,
          null,
          null,
          null,
          null,
          null,
          null,
          null,
          null,
          null,
          null,
          null,
          0.07712910218989949,
          0.07662638948117238,
          0.06788598974566928,
          0.089844560200851,
          0.14688462783440992,
          0.1424598585910098,
          0.09985960354558267,
          0.06549116760504342,
          0.08000143684922875,
          0.0671477102460124,
          0.07837511074032064,
          0.08199110828640593,
          0.06535513811891352,
          0.06773625087133846,
          0.1289862723563793,
          0.1368242991227645,
          0.1313282328752222,
          0.07776193508783504,
          0.055447591531180215,
          0.04933289638541939,
          0.13178737676076088,
          0.14502127924870137,
          0.14666769066962823,
          0.17389122262946605,
          0.16779184653393212,
          0.17390453449262838,
          0.13510278976438286,
          0.17082896835819822,
          0.14125764055517379,
          0.1175987930042291,
          0.08464815947213866,
          0.07149403831779247,
          0.17406664153140222,
          0.21238809671117037
         ]
        },
        {
         "hovertemplate": "Strategy: estimate standard deviations only <br>Year: %{x:4.0f}<br>Expected Standard Deviation: %{y: 0.1%} <br><extra></extra>",
         "name": "Est-SD",
         "type": "scatter",
         "x": [
          1968,
          1969,
          1970,
          1971,
          1972,
          1973,
          1974,
          1975,
          1976,
          1977,
          1978,
          1979,
          1980,
          1981,
          1982,
          1983,
          1984,
          1985,
          1986,
          1987,
          1988,
          1989,
          1990,
          1991,
          1992,
          1993,
          1994,
          1995,
          1996,
          1997,
          1998,
          1999,
          2000,
          2001,
          2002,
          2003,
          2004,
          2005,
          2006,
          2007,
          2008,
          2009,
          2010,
          2011,
          2012,
          2013,
          2014,
          2015,
          2016,
          2017,
          2018,
          2019,
          2020,
          2021
         ],
         "y": [
          null,
          null,
          null,
          null,
          null,
          null,
          null,
          null,
          null,
          null,
          null,
          null,
          null,
          null,
          null,
          null,
          null,
          null,
          null,
          null,
          0.06427838287123191,
          0.06427656186609895,
          0.06258995117859631,
          0.09757755535103356,
          0.15732567724962246,
          0.1486495987805879,
          0.10705097781892478,
          0.0603598659800909,
          0.08575985357390496,
          0.07135028684434659,
          0.08399100097784572,
          0.09258858212284428,
          0.05630834197084403,
          0.07300547305268555,
          0.15158479608451178,
          0.15274677173978335,
          0.1562440859502207,
          0.09367969983046624,
          0.04702558892727536,
          0.04412137896735928,
          0.14936264891757933,
          0.166129723761862,
          0.15562185535143613,
          0.1842006448915041,
          0.18161663455678267,
          0.18932066055373806,
          0.15223495068480686,
          0.18060022347935215,
          0.13014678343015276,
          0.10836665474298961,
          0.073708847428657,
          0.05735047687440863,
          0.15199412694696743,
          0.18416512963081114
         ]
        },
        {
         "hovertemplate": "Strategy: equal weights <br>Year: %{x:4.0f}<br>Expected Standard Deviation: %{y: 0.1%} <br><extra></extra>",
         "name": "Est-None",
         "type": "scatter",
         "x": [
          1968,
          1969,
          1970,
          1971,
          1972,
          1973,
          1974,
          1975,
          1976,
          1977,
          1978,
          1979,
          1980,
          1981,
          1982,
          1983,
          1984,
          1985,
          1986,
          1987,
          1988,
          1989,
          1990,
          1991,
          1992,
          1993,
          1994,
          1995,
          1996,
          1997,
          1998,
          1999,
          2000,
          2001,
          2002,
          2003,
          2004,
          2005,
          2006,
          2007,
          2008,
          2009,
          2010,
          2011,
          2012,
          2013,
          2014,
          2015,
          2016,
          2017,
          2018,
          2019,
          2020,
          2021
         ],
         "y": [
          null,
          null,
          null,
          null,
          null,
          null,
          null,
          null,
          null,
          null,
          null,
          null,
          null,
          null,
          null,
          null,
          null,
          null,
          null,
          null,
          0.09452484506193237,
          0.07216210298429944,
          0.09412405996532869,
          0.0944836334120134,
          0.10364171416307731,
          0.09824766008620914,
          0.09044949064878514,
          0.08469142339702414,
          0.08438089883231918,
          0.08440566356527032,
          0.08417570011937099,
          0.08279430053088245,
          0.059530473744070896,
          0.0671616177050604,
          0.14079634131848348,
          0.13033157181203747,
          0.13186342842325863,
          0.0796598818088626,
          0.05707798122009032,
          0.05593210048104929,
          0.11568083877213964,
          0.1293597677033929,
          0.12602719992079608,
          0.14839009201662223,
          0.1464383015370963,
          0.15294908845178423,
          0.11987679924163996,
          0.13888593594874782,
          0.09803939841962607,
          0.08218034921594926,
          0.059626093496365405,
          0.05938900129378159,
          0.1201624801718695,
          0.14578973561463943
         ]
        }
       ],
       "layout": {
        "legend": {
         "x": 0.01,
         "xanchor": "left",
         "y": 0.99,
         "yanchor": "top"
        },
        "template": {
         "data": {
          "bar": [
           {
            "error_x": {
             "color": "#2a3f5f"
            },
            "error_y": {
             "color": "#2a3f5f"
            },
            "marker": {
             "line": {
              "color": "#E5ECF6",
              "width": 0.5
             },
             "pattern": {
              "fillmode": "overlay",
              "size": 10,
              "solidity": 0.2
             }
            },
            "type": "bar"
           }
          ],
          "barpolar": [
           {
            "marker": {
             "line": {
              "color": "#E5ECF6",
              "width": 0.5
             },
             "pattern": {
              "fillmode": "overlay",
              "size": 10,
              "solidity": 0.2
             }
            },
            "type": "barpolar"
           }
          ],
          "carpet": [
           {
            "aaxis": {
             "endlinecolor": "#2a3f5f",
             "gridcolor": "white",
             "linecolor": "white",
             "minorgridcolor": "white",
             "startlinecolor": "#2a3f5f"
            },
            "baxis": {
             "endlinecolor": "#2a3f5f",
             "gridcolor": "white",
             "linecolor": "white",
             "minorgridcolor": "white",
             "startlinecolor": "#2a3f5f"
            },
            "type": "carpet"
           }
          ],
          "choropleth": [
           {
            "colorbar": {
             "outlinewidth": 0,
             "ticks": ""
            },
            "type": "choropleth"
           }
          ],
          "contour": [
           {
            "colorbar": {
             "outlinewidth": 0,
             "ticks": ""
            },
            "colorscale": [
             [
              0,
              "#0d0887"
             ],
             [
              0.1111111111111111,
              "#46039f"
             ],
             [
              0.2222222222222222,
              "#7201a8"
             ],
             [
              0.3333333333333333,
              "#9c179e"
             ],
             [
              0.4444444444444444,
              "#bd3786"
             ],
             [
              0.5555555555555556,
              "#d8576b"
             ],
             [
              0.6666666666666666,
              "#ed7953"
             ],
             [
              0.7777777777777778,
              "#fb9f3a"
             ],
             [
              0.8888888888888888,
              "#fdca26"
             ],
             [
              1,
              "#f0f921"
             ]
            ],
            "type": "contour"
           }
          ],
          "contourcarpet": [
           {
            "colorbar": {
             "outlinewidth": 0,
             "ticks": ""
            },
            "type": "contourcarpet"
           }
          ],
          "heatmap": [
           {
            "colorbar": {
             "outlinewidth": 0,
             "ticks": ""
            },
            "colorscale": [
             [
              0,
              "#0d0887"
             ],
             [
              0.1111111111111111,
              "#46039f"
             ],
             [
              0.2222222222222222,
              "#7201a8"
             ],
             [
              0.3333333333333333,
              "#9c179e"
             ],
             [
              0.4444444444444444,
              "#bd3786"
             ],
             [
              0.5555555555555556,
              "#d8576b"
             ],
             [
              0.6666666666666666,
              "#ed7953"
             ],
             [
              0.7777777777777778,
              "#fb9f3a"
             ],
             [
              0.8888888888888888,
              "#fdca26"
             ],
             [
              1,
              "#f0f921"
             ]
            ],
            "type": "heatmap"
           }
          ],
          "heatmapgl": [
           {
            "colorbar": {
             "outlinewidth": 0,
             "ticks": ""
            },
            "colorscale": [
             [
              0,
              "#0d0887"
             ],
             [
              0.1111111111111111,
              "#46039f"
             ],
             [
              0.2222222222222222,
              "#7201a8"
             ],
             [
              0.3333333333333333,
              "#9c179e"
             ],
             [
              0.4444444444444444,
              "#bd3786"
             ],
             [
              0.5555555555555556,
              "#d8576b"
             ],
             [
              0.6666666666666666,
              "#ed7953"
             ],
             [
              0.7777777777777778,
              "#fb9f3a"
             ],
             [
              0.8888888888888888,
              "#fdca26"
             ],
             [
              1,
              "#f0f921"
             ]
            ],
            "type": "heatmapgl"
           }
          ],
          "histogram": [
           {
            "marker": {
             "pattern": {
              "fillmode": "overlay",
              "size": 10,
              "solidity": 0.2
             }
            },
            "type": "histogram"
           }
          ],
          "histogram2d": [
           {
            "colorbar": {
             "outlinewidth": 0,
             "ticks": ""
            },
            "colorscale": [
             [
              0,
              "#0d0887"
             ],
             [
              0.1111111111111111,
              "#46039f"
             ],
             [
              0.2222222222222222,
              "#7201a8"
             ],
             [
              0.3333333333333333,
              "#9c179e"
             ],
             [
              0.4444444444444444,
              "#bd3786"
             ],
             [
              0.5555555555555556,
              "#d8576b"
             ],
             [
              0.6666666666666666,
              "#ed7953"
             ],
             [
              0.7777777777777778,
              "#fb9f3a"
             ],
             [
              0.8888888888888888,
              "#fdca26"
             ],
             [
              1,
              "#f0f921"
             ]
            ],
            "type": "histogram2d"
           }
          ],
          "histogram2dcontour": [
           {
            "colorbar": {
             "outlinewidth": 0,
             "ticks": ""
            },
            "colorscale": [
             [
              0,
              "#0d0887"
             ],
             [
              0.1111111111111111,
              "#46039f"
             ],
             [
              0.2222222222222222,
              "#7201a8"
             ],
             [
              0.3333333333333333,
              "#9c179e"
             ],
             [
              0.4444444444444444,
              "#bd3786"
             ],
             [
              0.5555555555555556,
              "#d8576b"
             ],
             [
              0.6666666666666666,
              "#ed7953"
             ],
             [
              0.7777777777777778,
              "#fb9f3a"
             ],
             [
              0.8888888888888888,
              "#fdca26"
             ],
             [
              1,
              "#f0f921"
             ]
            ],
            "type": "histogram2dcontour"
           }
          ],
          "mesh3d": [
           {
            "colorbar": {
             "outlinewidth": 0,
             "ticks": ""
            },
            "type": "mesh3d"
           }
          ],
          "parcoords": [
           {
            "line": {
             "colorbar": {
              "outlinewidth": 0,
              "ticks": ""
             }
            },
            "type": "parcoords"
           }
          ],
          "pie": [
           {
            "automargin": true,
            "type": "pie"
           }
          ],
          "scatter": [
           {
            "fillpattern": {
             "fillmode": "overlay",
             "size": 10,
             "solidity": 0.2
            },
            "type": "scatter"
           }
          ],
          "scatter3d": [
           {
            "line": {
             "colorbar": {
              "outlinewidth": 0,
              "ticks": ""
             }
            },
            "marker": {
             "colorbar": {
              "outlinewidth": 0,
              "ticks": ""
             }
            },
            "type": "scatter3d"
           }
          ],
          "scattercarpet": [
           {
            "marker": {
             "colorbar": {
              "outlinewidth": 0,
              "ticks": ""
             }
            },
            "type": "scattercarpet"
           }
          ],
          "scattergeo": [
           {
            "marker": {
             "colorbar": {
              "outlinewidth": 0,
              "ticks": ""
             }
            },
            "type": "scattergeo"
           }
          ],
          "scattergl": [
           {
            "marker": {
             "colorbar": {
              "outlinewidth": 0,
              "ticks": ""
             }
            },
            "type": "scattergl"
           }
          ],
          "scattermapbox": [
           {
            "marker": {
             "colorbar": {
              "outlinewidth": 0,
              "ticks": ""
             }
            },
            "type": "scattermapbox"
           }
          ],
          "scatterpolar": [
           {
            "marker": {
             "colorbar": {
              "outlinewidth": 0,
              "ticks": ""
             }
            },
            "type": "scatterpolar"
           }
          ],
          "scatterpolargl": [
           {
            "marker": {
             "colorbar": {
              "outlinewidth": 0,
              "ticks": ""
             }
            },
            "type": "scatterpolargl"
           }
          ],
          "scatterternary": [
           {
            "marker": {
             "colorbar": {
              "outlinewidth": 0,
              "ticks": ""
             }
            },
            "type": "scatterternary"
           }
          ],
          "surface": [
           {
            "colorbar": {
             "outlinewidth": 0,
             "ticks": ""
            },
            "colorscale": [
             [
              0,
              "#0d0887"
             ],
             [
              0.1111111111111111,
              "#46039f"
             ],
             [
              0.2222222222222222,
              "#7201a8"
             ],
             [
              0.3333333333333333,
              "#9c179e"
             ],
             [
              0.4444444444444444,
              "#bd3786"
             ],
             [
              0.5555555555555556,
              "#d8576b"
             ],
             [
              0.6666666666666666,
              "#ed7953"
             ],
             [
              0.7777777777777778,
              "#fb9f3a"
             ],
             [
              0.8888888888888888,
              "#fdca26"
             ],
             [
              1,
              "#f0f921"
             ]
            ],
            "type": "surface"
           }
          ],
          "table": [
           {
            "cells": {
             "fill": {
              "color": "#EBF0F8"
             },
             "line": {
              "color": "white"
             }
            },
            "header": {
             "fill": {
              "color": "#C8D4E3"
             },
             "line": {
              "color": "white"
             }
            },
            "type": "table"
           }
          ]
         },
         "layout": {
          "annotationdefaults": {
           "arrowcolor": "#2a3f5f",
           "arrowhead": 0,
           "arrowwidth": 1
          },
          "autotypenumbers": "strict",
          "coloraxis": {
           "colorbar": {
            "outlinewidth": 0,
            "ticks": ""
           }
          },
          "colorscale": {
           "diverging": [
            [
             0,
             "#8e0152"
            ],
            [
             0.1,
             "#c51b7d"
            ],
            [
             0.2,
             "#de77ae"
            ],
            [
             0.3,
             "#f1b6da"
            ],
            [
             0.4,
             "#fde0ef"
            ],
            [
             0.5,
             "#f7f7f7"
            ],
            [
             0.6,
             "#e6f5d0"
            ],
            [
             0.7,
             "#b8e186"
            ],
            [
             0.8,
             "#7fbc41"
            ],
            [
             0.9,
             "#4d9221"
            ],
            [
             1,
             "#276419"
            ]
           ],
           "sequential": [
            [
             0,
             "#0d0887"
            ],
            [
             0.1111111111111111,
             "#46039f"
            ],
            [
             0.2222222222222222,
             "#7201a8"
            ],
            [
             0.3333333333333333,
             "#9c179e"
            ],
            [
             0.4444444444444444,
             "#bd3786"
            ],
            [
             0.5555555555555556,
             "#d8576b"
            ],
            [
             0.6666666666666666,
             "#ed7953"
            ],
            [
             0.7777777777777778,
             "#fb9f3a"
            ],
            [
             0.8888888888888888,
             "#fdca26"
            ],
            [
             1,
             "#f0f921"
            ]
           ],
           "sequentialminus": [
            [
             0,
             "#0d0887"
            ],
            [
             0.1111111111111111,
             "#46039f"
            ],
            [
             0.2222222222222222,
             "#7201a8"
            ],
            [
             0.3333333333333333,
             "#9c179e"
            ],
            [
             0.4444444444444444,
             "#bd3786"
            ],
            [
             0.5555555555555556,
             "#d8576b"
            ],
            [
             0.6666666666666666,
             "#ed7953"
            ],
            [
             0.7777777777777778,
             "#fb9f3a"
            ],
            [
             0.8888888888888888,
             "#fdca26"
            ],
            [
             1,
             "#f0f921"
            ]
           ]
          },
          "colorway": [
           "#636efa",
           "#EF553B",
           "#00cc96",
           "#ab63fa",
           "#FFA15A",
           "#19d3f3",
           "#FF6692",
           "#B6E880",
           "#FF97FF",
           "#FECB52"
          ],
          "font": {
           "color": "#2a3f5f"
          },
          "geo": {
           "bgcolor": "white",
           "lakecolor": "white",
           "landcolor": "#E5ECF6",
           "showlakes": true,
           "showland": true,
           "subunitcolor": "white"
          },
          "hoverlabel": {
           "align": "left"
          },
          "hovermode": "closest",
          "mapbox": {
           "style": "light"
          },
          "paper_bgcolor": "white",
          "plot_bgcolor": "#E5ECF6",
          "polar": {
           "angularaxis": {
            "gridcolor": "white",
            "linecolor": "white",
            "ticks": ""
           },
           "bgcolor": "#E5ECF6",
           "radialaxis": {
            "gridcolor": "white",
            "linecolor": "white",
            "ticks": ""
           }
          },
          "scene": {
           "xaxis": {
            "backgroundcolor": "#E5ECF6",
            "gridcolor": "white",
            "gridwidth": 2,
            "linecolor": "white",
            "showbackground": true,
            "ticks": "",
            "zerolinecolor": "white"
           },
           "yaxis": {
            "backgroundcolor": "#E5ECF6",
            "gridcolor": "white",
            "gridwidth": 2,
            "linecolor": "white",
            "showbackground": true,
            "ticks": "",
            "zerolinecolor": "white"
           },
           "zaxis": {
            "backgroundcolor": "#E5ECF6",
            "gridcolor": "white",
            "gridwidth": 2,
            "linecolor": "white",
            "showbackground": true,
            "ticks": "",
            "zerolinecolor": "white"
           }
          },
          "shapedefaults": {
           "line": {
            "color": "#2a3f5f"
           }
          },
          "ternary": {
           "aaxis": {
            "gridcolor": "white",
            "linecolor": "white",
            "ticks": ""
           },
           "baxis": {
            "gridcolor": "white",
            "linecolor": "white",
            "ticks": ""
           },
           "bgcolor": "#E5ECF6",
           "caxis": {
            "gridcolor": "white",
            "linecolor": "white",
            "ticks": ""
           }
          },
          "title": {
           "x": 0.05
          },
          "xaxis": {
           "automargin": true,
           "gridcolor": "white",
           "linecolor": "white",
           "ticks": "",
           "title": {
            "standoff": 15
           },
           "zerolinecolor": "white",
           "zerolinewidth": 2
          },
          "yaxis": {
           "automargin": true,
           "gridcolor": "white",
           "linecolor": "white",
           "ticks": "",
           "title": {
            "standoff": 15
           },
           "zerolinecolor": "white",
           "zerolinewidth": 2
          }
         }
        },
        "xaxis": {
         "range": [
          1988,
          2021
         ],
         "title": {
          "text": "Year"
         }
        },
        "yaxis": {
         "tickformat": ".0%",
         "title": {
          "text": "Standard Deviation (Expected)"
         }
        }
       }
      }
     },
     "metadata": {},
     "output_type": "display_data"
    }
   ],
   "source": [
    "# Plot standard deviation (sd)\n",
    "fig = go.Figure()\n",
    "for model in ['est_all', 'est_cov', 'est_sds', 'ew']:\n",
    "    string =  \"Strategy: \" + label_dict[model] +\" <br>\"\n",
    "    string += \"Year: %{x:4.0f}<br>\"\n",
    "    string += \"Expected Standard Deviation: %{y: 0.1%} <br>\"\n",
    "    string += \"<extra></extra>\"\n",
    "\n",
    "    trace=go.Scatter(x=df['year'], y=df['sd'+model], hovertemplate=string, name = xaxis_label_dict[model])\n",
    "    fig.add_trace(trace)\n",
    "fig.layout.yaxis[\"title\"] = \"Standard Deviation (Expected)\"\n",
    "fig.layout.xaxis[\"title\"] = \"Year\"\n",
    "fig.update_yaxes(tickformat=\".0%\")\n",
    "fig.update_layout(legend=dict(yanchor=\"top\", y =0.99, xanchor=\"left\", x=0.01))\n",
    "fig.update_xaxes(range=[df['year'].iloc[window], df.year.max()])\n",
    "fig.show()"
   ]
  },
  {
   "cell_type": "code",
   "execution_count": 97,
   "metadata": {},
   "outputs": [
    {
     "data": {
      "text/html": [
       "<div>\n",
       "<style scoped>\n",
       "    .dataframe tbody tr th:only-of-type {\n",
       "        vertical-align: middle;\n",
       "    }\n",
       "\n",
       "    .dataframe tbody tr th {\n",
       "        vertical-align: top;\n",
       "    }\n",
       "\n",
       "    .dataframe thead th {\n",
       "        text-align: right;\n",
       "    }\n",
       "</style>\n",
       "<table border=\"1\" class=\"dataframe\">\n",
       "  <thead>\n",
       "    <tr style=\"text-align: right;\">\n",
       "      <th></th>\n",
       "      <th>wgt_cal_est_all</th>\n",
       "      <th>wgt_cal_est_cov</th>\n",
       "      <th>wgt_cal_est_sds</th>\n",
       "      <th>wgt_cal_ew</th>\n",
       "    </tr>\n",
       "  </thead>\n",
       "  <tbody>\n",
       "    <tr>\n",
       "      <th>count</th>\n",
       "      <td>34.000000</td>\n",
       "      <td>34.000000</td>\n",
       "      <td>34.000000</td>\n",
       "      <td>34.000000</td>\n",
       "    </tr>\n",
       "    <tr>\n",
       "      <th>mean</th>\n",
       "      <td>2.051617</td>\n",
       "      <td>2.068139</td>\n",
       "      <td>2.218264</td>\n",
       "      <td>1.498031</td>\n",
       "    </tr>\n",
       "    <tr>\n",
       "      <th>std</th>\n",
       "      <td>0.724315</td>\n",
       "      <td>1.059016</td>\n",
       "      <td>1.033974</td>\n",
       "      <td>0.593711</td>\n",
       "    </tr>\n",
       "    <tr>\n",
       "      <th>min</th>\n",
       "      <td>0.999944</td>\n",
       "      <td>1.000000</td>\n",
       "      <td>1.000000</td>\n",
       "      <td>0.755457</td>\n",
       "    </tr>\n",
       "    <tr>\n",
       "      <th>25%</th>\n",
       "      <td>1.369769</td>\n",
       "      <td>1.071095</td>\n",
       "      <td>1.238317</td>\n",
       "      <td>1.000000</td>\n",
       "    </tr>\n",
       "    <tr>\n",
       "      <th>50%</th>\n",
       "      <td>2.174609</td>\n",
       "      <td>2.071743</td>\n",
       "      <td>2.087902</td>\n",
       "      <td>1.110453</td>\n",
       "    </tr>\n",
       "    <tr>\n",
       "      <th>75%</th>\n",
       "      <td>2.682009</td>\n",
       "      <td>2.693867</td>\n",
       "      <td>3.087554</td>\n",
       "      <td>2.111636</td>\n",
       "    </tr>\n",
       "    <tr>\n",
       "      <th>max</th>\n",
       "      <td>2.964578</td>\n",
       "      <td>5.271987</td>\n",
       "      <td>3.963956</td>\n",
       "      <td>2.484092</td>\n",
       "    </tr>\n",
       "  </tbody>\n",
       "</table>\n",
       "</div>"
      ],
      "text/plain": [
       "       wgt_cal_est_all  wgt_cal_est_cov  wgt_cal_est_sds  wgt_cal_ew\n",
       "count        34.000000        34.000000        34.000000   34.000000\n",
       "mean          2.051617         2.068139         2.218264    1.498031\n",
       "std           0.724315         1.059016         1.033974    0.593711\n",
       "min           0.999944         1.000000         1.000000    0.755457\n",
       "25%           1.369769         1.071095         1.238317    1.000000\n",
       "50%           2.174609         2.071743         2.087902    1.110453\n",
       "75%           2.682009         2.693867         3.087554    2.111636\n",
       "max           2.964578         5.271987         3.963956    2.484092"
      ]
     },
     "execution_count": 97,
     "metadata": {},
     "output_type": "execute_result"
    }
   ],
   "source": [
    "wgt_list = ['wgt_cal_' +  model for model in ['est_all', 'est_cov', 'est_sds','ew']]\n",
    "stats = df[wgt_list].describe()\n",
    "stats"
   ]
  }
 ],
 "metadata": {
  "kernelspec": {
   "display_name": "Python 3.10.6 ('venv': venv)",
   "language": "python",
   "name": "python3"
  },
  "language_info": {
   "codemirror_mode": {
    "name": "ipython",
    "version": 3
   },
   "file_extension": ".py",
   "mimetype": "text/x-python",
   "name": "python",
   "nbconvert_exporter": "python",
   "pygments_lexer": "ipython3",
   "version": "3.10.6"
  },
  "orig_nbformat": 4,
  "vscode": {
   "interpreter": {
    "hash": "cc788b38d8cb434c82f45ef9d481d0310e17b79321e4c8cbfbfe90f656a3f023"
   }
  }
 },
 "nbformat": 4,
 "nbformat_minor": 2
}
