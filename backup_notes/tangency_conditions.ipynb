{
 "cells": [
  {
   "cell_type": "markdown",
   "metadata": {},
   "source": [
    "## Tangency\n",
    "\n",
    "We often discuss the efficient frontier for risky assets, but we can also consider the efficient frontier for the set of $N+1$ assets comprised of $N$ risky assets and the risk-free asset.  If it exists, the tangency portfolio is the efficient portfolio comprised solely of risky assets. \n",
    "\n",
    "Let $w_1,w_2,\\dots,w_N$ denote portfolio weights in the risky assets.  Since the portfolio is fully invested, the allocation to the risk-free asset is $1-\\sum_{i=1}^N w_i$.  The portfolio variance of the $N+1$ asset portfolio is $w'Vw$ where $w'=[w_1\\, w_2\\, \\dots\\,w_N]$.\n",
    "The $N+1$ asset frontier is comprised of portfolios that minimize portfolio variance for a given target expected return $\\mu_{\\text{target}}$:\n",
    "\n",
    "$$ \\underset{w_1,w_2,\\dots,w_N}{\\text{min}} w'Vw$$\n",
    "subject to constraints: $w' (\\mu - r_f \\mathbf{1}_N)=\\mu_{\\text{target}} - r_f\\,.$\n",
    "Note that the problem chooses only the risky asset weights because we have imposed the fully-invested constraint.  The first-order conditions of this constrained optimization problem are:\n",
    "\n",
    "$$V w = \\delta (\\mu - r_f \\mathbf{1}_N)$$\n",
    "where $\\delta$ is the Lagrange multiplier for the constraint.  Thus, the frontier portfolio $w$ solves the following system of equations:\n",
    "\n",
    "\\begin{equation*}\n",
    "    \\begin{bmatrix}\n",
    "        \\text{var}[r_1]     & \\text{cov}[r_1,r_2] & \\dots  & \\text{cov}[r_1,r_N] \\\\\n",
    "        \\text{cov}[r_2,r_1] & \\text{var}[r_2]     & \\dots  & \\text{cov}[r_2,r_N] \\\\\n",
    "        \\vdots              & \\vdots              & \\ddots &  \\vdots \\\\\n",
    "        \\text{cov}[r_N,r_1] & \\text{cov}[r_N,r_2] & \\dots  & \\text{var}[r_N] \\\\\n",
    "    \\end{bmatrix}\n",
    "    \\begin{bmatrix}\n",
    "     w_1 \\\\ w_2 \\\\ \\vdots \\\\ w_N\n",
    "    \\end{bmatrix}\n",
    "    = \\delta \n",
    "    \\begin{bmatrix}\n",
    "     \\mu_1 - r_f \\\\ \\mu_2 - r_f \\\\ \\vdots \\\\ \\mu_N - r_f\n",
    "    \\end{bmatrix}\n",
    "\\end{equation*}\n",
    "\n",
    "We can rewrite this as:\n",
    "\n",
    "\\begin{align*}\n",
    "    \\sum_{i=1}^N \\text{cov}[r_1,r_i] w_i &= \\delta (\\mu_1 - r_f) \\\\\n",
    "    \\sum_{i=1}^N \\text{cov}[r_2,r_i] w_i &= \\delta (\\mu_2 - r_f) \\\\\n",
    "    & \\vdots \\\\\n",
    "    \\sum_{i=1}^N \\text{cov}[r_N,r_i] w_i &= \\delta (\\mu_N - r_f) \n",
    "\\end{align*}\n",
    "\n",
    "We can view the terms on the left-hand side of the equations above as the contributions of each asset to overall portfolio risk.  The equations thus say that the ratio of an asset's excess return to its contribution to overall portfolio risk is the same across all assets for the optimal combination of risky assets.  If this were not the case for some pair of assets, then it would be possible to create a more efficient portfolio by investing a little more in the asset with the higher ratio and a little less in the asset with the lower ratio.\n"
   ]
  },
  {
   "cell_type": "code",
   "execution_count": 2,
   "metadata": {},
   "outputs": [],
   "source": [
    "\n",
    "import numpy as np\n",
    "from cvxopt import matrix\n",
    "from cvxopt.solvers import qp as Solver, options as SolverOptions\n",
    "from scipy.optimize import minimize_scalar\n",
    "from scipy.optimize import minimize\n",
    "##### Inputs\n",
    "# Risk-free rate\n",
    "r = 0.02\n",
    "# Expected returns\n",
    "means = np.array([0.06, 0.065, 0.08])\n",
    "# Standard deviations\n",
    "sds = np.array([0.15, 0.165, 0.21])\n",
    "# Correlations\n",
    "corr12 = 0.75\n",
    "corr13 = 0.75\n",
    "corr23 = 0.75\n",
    "# Covariance matrix\n",
    "C  = np.identity(3)\n",
    "C[0, 1] = C[1, 0] = corr12\n",
    "C[0, 2] = C[2, 0] = corr13\n",
    "C[1, 2] = C[2, 1] = corr23\n",
    "cov = np.diag(sds) @ C @ np.diag(sds)"
   ]
  },
  {
   "cell_type": "markdown",
   "metadata": {},
   "source": [
    "The tangency problem:\n",
    "$$ \\underset{w_1,w_2,\\dots,w_N}{\\text{max}} \\frac{E[r_p] - r_f}{\\text{sd}[r_p]} $$ \n",
    "subject to the constraints $\\sum_i w_i=1$.\n"
   ]
  },
  {
   "cell_type": "code",
   "execution_count": 16,
   "metadata": {},
   "outputs": [
    {
     "name": "stdout",
     "output_type": "stream",
     "text": [
      "Tangency portfolio is:  [0.27606178 0.33045651 0.39348172]\n"
     ]
    }
   ],
   "source": [
    "# Tangency: theoretical solution without short-sale constraint\n",
    "w = np.linalg.solve(cov, means - r)\n",
    "wgts_tangency = w / np.sum(w)\n",
    "print('Tangency portfolio is: ', wgts_tangency)"
   ]
  },
  {
   "cell_type": "markdown",
   "metadata": {},
   "source": [
    "Let's compare the ratios of excess return to the risk contribution for each asset."
   ]
  },
  {
   "cell_type": "code",
   "execution_count": 12,
   "metadata": {},
   "outputs": [
    {
     "name": "stdout",
     "output_type": "stream",
     "text": [
      "1.848301193755739\n",
      "1.848301193755739\n",
      "1.848301193755739\n"
     ]
    }
   ],
   "source": [
    "def ratio(means, cov, rf, w):\n",
    "    n = len(means)\n",
    "    for i in np.arange(n):\n",
    "        ratio = (means[i] - rf)/(cov[i,:] @ w)\n",
    "        print(ratio)\n",
    "ratio(means,cov, r, wgts_tangency)"
   ]
  },
  {
   "cell_type": "code",
   "execution_count": 15,
   "metadata": {},
   "outputs": [
    {
     "name": "stdout",
     "output_type": "stream",
     "text": [
      "1.8507063472524783\n",
      "1.862501355606362\n",
      "1.8779127216551381\n"
     ]
    }
   ],
   "source": [
    "ratio(means,cov, r, wgts_tangency + np.array([0.025, 0, -0.025]))\n",
    "# cov"
   ]
  }
 ],
 "metadata": {
  "kernelspec": {
   "display_name": "Python 3.10.6 ('venv': venv)",
   "language": "python",
   "name": "python3"
  },
  "language_info": {
   "codemirror_mode": {
    "name": "ipython",
    "version": 3
   },
   "file_extension": ".py",
   "mimetype": "text/x-python",
   "name": "python",
   "nbconvert_exporter": "python",
   "pygments_lexer": "ipython3",
   "version": "3.10.6"
  },
  "orig_nbformat": 4,
  "vscode": {
   "interpreter": {
    "hash": "cc788b38d8cb434c82f45ef9d481d0310e17b79321e4c8cbfbfe90f656a3f023"
   }
  }
 },
 "nbformat": 4,
 "nbformat_minor": 2
}
