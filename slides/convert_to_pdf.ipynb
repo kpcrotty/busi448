{
 "cells": [
  {
   "cell_type": "markdown",
   "metadata": {},
   "source": [
    "# Make PDFs of slides"
   ]
  },
  {
   "cell_type": "code",
   "execution_count": 1,
   "metadata": {},
   "outputs": [],
   "source": [
    "import os"
   ]
  },
  {
   "cell_type": "code",
   "execution_count": 2,
   "metadata": {},
   "outputs": [
    {
     "name": "stdout",
     "output_type": "stream",
     "text": [
      "['01_intro.html', '02_saving.html', '03_saving_real_nominal.html', '04_returns.html', '05_returns_portfolios.html', '06_stocks.html', '07_treasuries.html', '08_arbitrage.html', '09_markets.html', '10_leverage.html', '11_shorting.html', '12_diversification.html', '13_portfolios_theory.html', '14_portfolios_borrowing_frictions.html', '15_portfolios_short_constraints.html', '16_rebalancing.html', '17_input_sensitivity.html', '18_mkt_model_regression.html', '19_capm.html', '20_predictability.html', '21_multifactor_models.html', '22_duration.html', '23_convexity.html', '24_credit_risk.html', '25_asset_mgt.html', '26_tax_advantaged_accts.html', '27_review.html', '99_learn_investments.html']\n"
     ]
    }
   ],
   "source": [
    "directory_path = os.getcwd()\n",
    "html_files = []\n",
    "# Loop through all files in the directory\n",
    "for filename in os.listdir(directory_path):\n",
    "    # Check if the file has a .html suffix\n",
    "    if filename.endswith('.html'):\n",
    "        # If it does, append the file to the list\n",
    "        html_files.append(filename)\n",
    "\n",
    "# Now, 'html_files' contains a list of all .html files in the specified directory\n",
    "print(html_files)"
   ]
  },
  {
   "cell_type": "code",
   "execution_count": 3,
   "metadata": {},
   "outputs": [
    {
     "data": {
      "text/plain": [
       "['01_intro.html',\n",
       " '02_saving.html',\n",
       " '03_saving_real_nominal.html',\n",
       " '04_returns.html',\n",
       " '05_returns_portfolios.html',\n",
       " '06_stocks.html',\n",
       " '07_treasuries.html',\n",
       " '08_arbitrage.html',\n",
       " '09_markets.html',\n",
       " '10_leverage.html',\n",
       " '11_shorting.html',\n",
       " '12_diversification.html',\n",
       " '13_portfolios_theory.html',\n",
       " '14_portfolios_borrowing_frictions.html',\n",
       " '15_portfolios_short_constraints.html',\n",
       " '16_rebalancing.html',\n",
       " '17_input_sensitivity.html',\n",
       " '18_mkt_model_regression.html',\n",
       " '19_capm.html',\n",
       " '20_predictability.html',\n",
       " '21_multifactor_models.html',\n",
       " '22_duration.html',\n",
       " '23_convexity.html',\n",
       " '24_credit_risk.html',\n",
       " '25_asset_mgt.html',\n",
       " '26_tax_advantaged_accts.html',\n",
       " '27_review.html']"
      ]
     },
     "execution_count": 3,
     "metadata": {},
     "output_type": "execute_result"
    }
   ],
   "source": [
    "html_files = html_files[:-1]\n",
    "html_files"
   ]
  },
  {
   "cell_type": "code",
   "execution_count": 22,
   "metadata": {},
   "outputs": [
    {
     "name": "stdout",
     "output_type": "stream",
     "text": [
      "decktape automatic 01_intro.html ./pdfs/01_intro.pdf\n",
      "decktape automatic 02_saving.html ./pdfs/02_saving.pdf\n",
      "decktape automatic 03_saving_real_nominal.html ./pdfs/03_saving_real_nominal.pdf\n",
      "decktape automatic 04_returns.html ./pdfs/04_returns.pdf\n",
      "decktape automatic 05_returns_portfolios.html ./pdfs/05_returns_portfolios.pdf\n",
      "decktape automatic 06_stocks.html ./pdfs/06_stocks.pdf\n",
      "decktape automatic 07_treasuries.html ./pdfs/07_treasuries.pdf\n",
      "decktape automatic 08_arbitrage.html ./pdfs/08_arbitrage.pdf\n",
      "decktape automatic 09_markets.html ./pdfs/09_markets.pdf\n",
      "decktape automatic 10_leverage.html ./pdfs/10_leverage.pdf\n",
      "decktape automatic 11_shorting.html ./pdfs/11_shorting.pdf\n",
      "decktape automatic 12_diversification.html ./pdfs/12_diversification.pdf\n",
      "decktape automatic 13_portfolios_theory.html ./pdfs/13_portfolios_theory.pdf\n",
      "decktape automatic 14_portfolios_borrowing_frictions.html ./pdfs/14_portfolios_borrowing_frictions.pdf\n",
      "decktape automatic 15_portfolios_short_constraints.html ./pdfs/15_portfolios_short_constraints.pdf\n",
      "decktape automatic 16_rebalancing.html ./pdfs/16_rebalancing.pdf\n",
      "decktape automatic 17_input_sensitivity.html ./pdfs/17_input_sensitivity.pdf\n",
      "decktape automatic 18_mkt_model_regression.html ./pdfs/18_mkt_model_regression.pdf\n",
      "decktape automatic 19_capm.html ./pdfs/19_capm.pdf\n",
      "decktape automatic 20_predictability.html ./pdfs/20_predictability.pdf\n",
      "decktape automatic 21_multifactor_models.html ./pdfs/21_multifactor_models.pdf\n",
      "decktape automatic 22_duration.html ./pdfs/22_duration.pdf\n",
      "decktape automatic 23_convexity.html ./pdfs/23_convexity.pdf\n",
      "decktape automatic 24_credit_risk.html ./pdfs/24_credit_risk.pdf\n",
      "decktape automatic 25_asset_mgt.html ./pdfs/25_asset_mgt.pdf\n",
      "decktape automatic 26_tax_advantaged_accts.html ./pdfs/26_tax_advantaged_accts.pdf\n",
      "decktape automatic 27_review.html ./pdfs/27_review.pdf\n"
     ]
    }
   ],
   "source": [
    "for FILE in html_files:\n",
    "    # FILE = html_files[0]\n",
    "    FILE = FILE.split('.')[0]\n",
    "    print(f'decktape automatic {FILE}.html ./pdfs/{FILE}.pdf')\n",
    "    os.system(f'decktape automatic {FILE}.html ./pdfs/{FILE}.pdf')\n"
   ]
  },
  {
   "cell_type": "code",
   "execution_count": null,
   "metadata": {},
   "outputs": [],
   "source": []
  },
  {
   "cell_type": "code",
   "execution_count": null,
   "metadata": {},
   "outputs": [],
   "source": [
    "# One-off updates\n",
    "FILE = '23_convexity.html'\n",
    "FILE = FILE.split('.')[0]\n",
    "print(f'decktape automatic {FILE}.html ./pdfs/{FILE}.pdf')\n",
    "os.system(f'decktape automatic {FILE}.html ./pdfs/{FILE}.pdf')"
   ]
  },
  {
   "cell_type": "code",
   "execution_count": null,
   "metadata": {},
   "outputs": [],
   "source": []
  }
 ],
 "metadata": {
  "kernelspec": {
   "display_name": "Python 3",
   "language": "python",
   "name": "python3"
  },
  "language_info": {
   "codemirror_mode": {
    "name": "ipython",
    "version": 3
   },
   "file_extension": ".py",
   "mimetype": "text/x-python",
   "name": "python",
   "nbconvert_exporter": "python",
   "pygments_lexer": "ipython3",
   "version": "3.10.6"
  }
 },
 "nbformat": 4,
 "nbformat_minor": 2
}
