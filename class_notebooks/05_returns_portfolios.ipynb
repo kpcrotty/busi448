{
 "cells": [
  {
   "attachments": {},
   "cell_type": "markdown",
   "metadata": {},
   "source": [
    "# Portfolio returns"
   ]
  },
  {
   "cell_type": "code",
   "execution_count": 1,
   "metadata": {
    "trusted": true
   },
   "outputs": [],
   "source": [
    "# Install and import pandas_datareader\n",
    "import pandas as pd\n",
    "import numpy as np\n",
    "from pandas_datareader import DataReader as pdr\n",
    "import yfinance as yf\n",
    "import matplotlib.pyplot as plt\n",
    "pd.options.display.float_format = '{:.2f}'.format"
   ]
  },
  {
   "attachments": {},
   "cell_type": "markdown",
   "metadata": {},
   "source": [
    "### Portfolio expected return"
   ]
  },
  {
   "cell_type": "code",
   "execution_count": 2,
   "metadata": {},
   "outputs": [
    {
     "name": "stdout",
     "output_type": "stream",
     "text": [
      "Portfolio Expected Return:\t  0.0675\n"
     ]
    }
   ],
   "source": [
    "# Expected returns\n",
    "mns = np.array([0.10, 0.05, 0.07])\n",
    "\n",
    "# Portfolio weights\n",
    "wgts = np.array([0.25, 0.5, 0.25])\n",
    "\n",
    "#Portfolio expected return\n",
    "port_expret = wgts @ mns\n",
    "print(f'Portfolio Expected Return:\\t {port_expret: ,.4f}')"
   ]
  },
  {
   "attachments": {},
   "cell_type": "markdown",
   "metadata": {},
   "source": [
    "### Portfolio risk (variance and standard deviation)"
   ]
  },
  {
   "cell_type": "code",
   "execution_count": 3,
   "metadata": {},
   "outputs": [],
   "source": [
    "##### Inputs\n",
    "# Standard deviations\n",
    "sds = np.array([0.20, 0.12, 0.15])\n",
    "\n",
    "# Correlations\n",
    "corr12 = 0.3\n",
    "corr13 = 0.3\n",
    "corr23 = 0.3\n",
    "\n",
    "# Portfolio weights\n",
    "wgts = np.array([0.25, 0.5, 0.25])"
   ]
  },
  {
   "cell_type": "code",
   "execution_count": 4,
   "metadata": {},
   "outputs": [
    {
     "data": {
      "text/plain": [
       "array([[0.04  , 0.0072, 0.009 ],\n",
       "       [0.0072, 0.0144, 0.0054],\n",
       "       [0.009 , 0.0054, 0.0225]])"
      ]
     },
     "execution_count": 4,
     "metadata": {},
     "output_type": "execute_result"
    }
   ],
   "source": [
    "##### Method 1 to calculate covariance matrix\n",
    "# Covariances\n",
    "cov12 = corr12 * sds[0] * sds[1]\n",
    "cov13 = corr13 * sds[0] * sds[2]\n",
    "cov23 = corr23 * sds[1] * sds[2]\n",
    "# Covariance matrix\n",
    "cov = np.array([[sds[0]**2,  cov12,     cov13], \\\n",
    "                [cov12,      sds[1]**2, cov23], \\\n",
    "                [cov13,      cov23,     sds[2]**2]])\n",
    "cov"
   ]
  },
  {
   "cell_type": "code",
   "execution_count": 5,
   "metadata": {},
   "outputs": [
    {
     "data": {
      "text/plain": [
       "array([[0.04  , 0.0072, 0.009 ],\n",
       "       [0.0072, 0.0144, 0.0054],\n",
       "       [0.009 , 0.0054, 0.0225]])"
      ]
     },
     "execution_count": 5,
     "metadata": {},
     "output_type": "execute_result"
    }
   ],
   "source": [
    "##### Method 2 to calculate covariance matrix\n",
    "# Correlation matrix\n",
    "C  = np.identity(3)\n",
    "C[0, 1] = C[1, 0] = corr12\n",
    "C[0, 2] = C[2, 0] = corr13\n",
    "C[1, 2] = C[2, 1] = corr23\n",
    "# Covariance matrix\n",
    "cov = np.diag(sds) @ C @ np.diag(sds)\n",
    "cov "
   ]
  },
  {
   "cell_type": "code",
   "execution_count": 6,
   "metadata": {},
   "outputs": [
    {
     "name": "stdout",
     "output_type": "stream",
     "text": [
      "Portfolio Variance:\t  0.0118\n"
     ]
    }
   ],
   "source": [
    "# Portfolio variance\n",
    "port_var = wgts @ cov @ wgts\n",
    "print(f'Portfolio Variance:\\t {port_var: ,.4f}')"
   ]
  },
  {
   "cell_type": "code",
   "execution_count": 7,
   "metadata": {},
   "outputs": [
    {
     "name": "stdout",
     "output_type": "stream",
     "text": [
      "Portfolio Standard Deviation:\t  0.1085\n"
     ]
    }
   ],
   "source": [
    "# Portfolio standard deviation\n",
    "port_sd  = np.sqrt(port_var)\n",
    "print(f'Portfolio Standard Deviation:\\t {port_sd: ,.4f}')"
   ]
  },
  {
   "cell_type": "markdown",
   "metadata": {},
   "source": [
    "## Realized portfolio returns (with rebalancing to target weights)"
   ]
  },
  {
   "cell_type": "code",
   "execution_count": 8,
   "metadata": {},
   "outputs": [],
   "source": [
    "# Function to fetch a yahoo time-series\n",
    "def returns(ticker):\n",
    "    ret = yf.download(ticker, start='2000-01-01', end='2024-12-31', progress=False)\n",
    "    ret = ret[\"Close\"].resample(\"ME\").last()\n",
    "    ret = ret.pct_change()\n",
    "    ret.columns = [ticker]\n",
    "    return ret\n",
    "aapl = returns('AAPL')\n",
    "ibm = returns('IBM')"
   ]
  },
  {
   "cell_type": "code",
   "execution_count": 9,
   "metadata": {
    "trusted": true
   },
   "outputs": [
    {
     "data": {
      "text/html": [
       "<div>\n",
       "<style scoped>\n",
       "    .dataframe tbody tr th:only-of-type {\n",
       "        vertical-align: middle;\n",
       "    }\n",
       "\n",
       "    .dataframe tbody tr th {\n",
       "        vertical-align: top;\n",
       "    }\n",
       "\n",
       "    .dataframe thead th {\n",
       "        text-align: right;\n",
       "    }\n",
       "</style>\n",
       "<table border=\"1\" class=\"dataframe\">\n",
       "  <thead>\n",
       "    <tr style=\"text-align: right;\">\n",
       "      <th></th>\n",
       "      <th>IBM</th>\n",
       "      <th>AAPL</th>\n",
       "    </tr>\n",
       "    <tr>\n",
       "      <th>Date</th>\n",
       "      <th></th>\n",
       "      <th></th>\n",
       "    </tr>\n",
       "  </thead>\n",
       "  <tbody>\n",
       "    <tr>\n",
       "      <th>2000-01-31</th>\n",
       "      <td>NaN</td>\n",
       "      <td>NaN</td>\n",
       "    </tr>\n",
       "    <tr>\n",
       "      <th>2000-02-29</th>\n",
       "      <td>-0.08</td>\n",
       "      <td>0.10</td>\n",
       "    </tr>\n",
       "    <tr>\n",
       "      <th>2000-03-31</th>\n",
       "      <td>0.15</td>\n",
       "      <td>0.18</td>\n",
       "    </tr>\n",
       "    <tr>\n",
       "      <th>2000-04-30</th>\n",
       "      <td>-0.06</td>\n",
       "      <td>-0.09</td>\n",
       "    </tr>\n",
       "    <tr>\n",
       "      <th>2000-05-31</th>\n",
       "      <td>-0.04</td>\n",
       "      <td>-0.32</td>\n",
       "    </tr>\n",
       "    <tr>\n",
       "      <th>...</th>\n",
       "      <td>...</td>\n",
       "      <td>...</td>\n",
       "    </tr>\n",
       "    <tr>\n",
       "      <th>2024-08-31</th>\n",
       "      <td>0.06</td>\n",
       "      <td>0.03</td>\n",
       "    </tr>\n",
       "    <tr>\n",
       "      <th>2024-09-30</th>\n",
       "      <td>0.09</td>\n",
       "      <td>0.02</td>\n",
       "    </tr>\n",
       "    <tr>\n",
       "      <th>2024-10-31</th>\n",
       "      <td>-0.06</td>\n",
       "      <td>-0.03</td>\n",
       "    </tr>\n",
       "    <tr>\n",
       "      <th>2024-11-30</th>\n",
       "      <td>0.11</td>\n",
       "      <td>0.05</td>\n",
       "    </tr>\n",
       "    <tr>\n",
       "      <th>2024-12-31</th>\n",
       "      <td>-0.03</td>\n",
       "      <td>0.06</td>\n",
       "    </tr>\n",
       "  </tbody>\n",
       "</table>\n",
       "<p>300 rows × 2 columns</p>\n",
       "</div>"
      ],
      "text/plain": [
       "             IBM  AAPL\n",
       "Date                  \n",
       "2000-01-31   NaN   NaN\n",
       "2000-02-29 -0.08  0.10\n",
       "2000-03-31  0.15  0.18\n",
       "2000-04-30 -0.06 -0.09\n",
       "2000-05-31 -0.04 -0.32\n",
       "...          ...   ...\n",
       "2024-08-31  0.06  0.03\n",
       "2024-09-30  0.09  0.02\n",
       "2024-10-31 -0.06 -0.03\n",
       "2024-11-30  0.11  0.05\n",
       "2024-12-31 -0.03  0.06\n",
       "\n",
       "[300 rows x 2 columns]"
      ]
     },
     "execution_count": 9,
     "metadata": {},
     "output_type": "execute_result"
    }
   ],
   "source": [
    "# Merging time-series\n",
    "df = pd.merge(left=ibm,right=aapl,how='inner',left_index=True,right_index=True)\n",
    "df"
   ]
  },
  {
   "cell_type": "code",
   "execution_count": 10,
   "metadata": {},
   "outputs": [
    {
     "data": {
      "text/plain": [
       "0.026007824994661866"
      ]
     },
     "execution_count": 10,
     "metadata": {},
     "output_type": "execute_result"
    }
   ],
   "source": [
    "df.mean()\n",
    "df.IBM.mean()\n",
    "df.AAPL.mean()"
   ]
  },
  {
   "cell_type": "code",
   "execution_count": 11,
   "metadata": {},
   "outputs": [
    {
     "data": {
      "text/plain": [
       "0.07180570410286771"
      ]
     },
     "execution_count": 11,
     "metadata": {},
     "output_type": "execute_result"
    }
   ],
   "source": [
    "df.IBM.std()"
   ]
  },
  {
   "cell_type": "code",
   "execution_count": 12,
   "metadata": {
    "trusted": true
   },
   "outputs": [
    {
     "data": {
      "text/html": [
       "<div>\n",
       "<style scoped>\n",
       "    .dataframe tbody tr th:only-of-type {\n",
       "        vertical-align: middle;\n",
       "    }\n",
       "\n",
       "    .dataframe tbody tr th {\n",
       "        vertical-align: top;\n",
       "    }\n",
       "\n",
       "    .dataframe thead th {\n",
       "        text-align: right;\n",
       "    }\n",
       "</style>\n",
       "<table border=\"1\" class=\"dataframe\">\n",
       "  <thead>\n",
       "    <tr style=\"text-align: right;\">\n",
       "      <th></th>\n",
       "      <th>IBM</th>\n",
       "      <th>AAPL</th>\n",
       "    </tr>\n",
       "  </thead>\n",
       "  <tbody>\n",
       "    <tr>\n",
       "      <th>IBM</th>\n",
       "      <td>1.00</td>\n",
       "      <td>0.42</td>\n",
       "    </tr>\n",
       "    <tr>\n",
       "      <th>AAPL</th>\n",
       "      <td>0.42</td>\n",
       "      <td>1.00</td>\n",
       "    </tr>\n",
       "  </tbody>\n",
       "</table>\n",
       "</div>"
      ],
      "text/plain": [
       "      IBM  AAPL\n",
       "IBM  1.00  0.42\n",
       "AAPL 0.42  1.00"
      ]
     },
     "execution_count": 12,
     "metadata": {},
     "output_type": "execute_result"
    }
   ],
   "source": [
    "df.corr()"
   ]
  },
  {
   "cell_type": "code",
   "execution_count": 13,
   "metadata": {
    "trusted": true
   },
   "outputs": [
    {
     "name": "stdout",
     "output_type": "stream",
     "text": [
      "Mean of  50.00% portfolio is:  1.65% (per month)\n",
      "Mean of  75.00% portfolio is:  2.13% (per month)\n"
     ]
    },
    {
     "data": {
      "image/png": "[encoded data removed]",
      "text/plain": [
       "<Figure size 640x480 with 1 Axes>"
      ]
     },
     "metadata": {},
     "output_type": "display_data"
    }
   ],
   "source": [
    "# How would different portfolios of AAPL and IBM have fared?\n",
    "wgt = 0.5\n",
    "df['retp'] = wgt*df.AAPL + (1-wgt)*df.IBM\n",
    "df['cumretp'] = (1+df['retp']).cumprod()\n",
    "print(f'Mean of {wgt: .2%} portfolio is: {df.retp.mean(): .2%} (per month)')\n",
    "df.cumretp.plot(color='black', label='wgt=0.5')\n",
    "\n",
    "\n",
    "wgt = 0.75\n",
    "df['retp'] = wgt*df.AAPL + (1-wgt)*df.IBM\n",
    "df['cumretp'] = (1+df['retp']).cumprod()\n",
    "print(f'Mean of {wgt: .2%} portfolio is: {df.retp.mean(): .2%} (per month)')\n",
    "df.cumretp.plot(color='red', label='wgt=0.75')\n",
    "plt.legend()\n",
    "plt.show()\n"
   ]
  },
  {
   "cell_type": "code",
   "execution_count": null,
   "metadata": {},
   "outputs": [],
   "source": []
  }
 ],
 "metadata": {
  "kernelspec": {
   "display_name": "base",
   "language": "python",
   "name": "python3"
  },
  "language_info": {
   "codemirror_mode": {
    "name": "ipython",
    "version": 3
   },
   "file_extension": ".py",
   "mimetype": "text/x-python",
   "name": "python",
   "nbconvert_exporter": "python",
   "pygments_lexer": "ipython3",
   "version": "3.12.8"
  }
 },
 "nbformat": 4,
 "nbformat_minor": 4
}
