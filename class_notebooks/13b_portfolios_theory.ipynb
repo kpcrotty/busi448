{
 "cells": [
  {
   "attachments": {},
   "cell_type": "markdown",
   "metadata": {},
   "source": [
    "# Optimal portfolios"
   ]
  },
  {
   "cell_type": "code",
   "execution_count": 1,
   "metadata": {},
   "outputs": [],
   "source": [
    "import numpy as np\n",
    "import pandas as pd\n",
    "import plotly.graph_objects as go\n",
    "from scipy.optimize import minimize\n",
    "from cvxopt import matrix\n",
    "from cvxopt.solvers import qp as Solver, options as SolverOptions"
   ]
  },
  {
   "attachments": {},
   "cell_type": "markdown",
   "metadata": {},
   "source": [
    "### Inputs"
   ]
  },
  {
   "cell_type": "code",
   "execution_count": 2,
   "metadata": {},
   "outputs": [],
   "source": [
    "##### Inputs\n",
    "# Risk-free rate\n",
    "RF = 0.01\n",
    "\n",
    "# Expected returns\n",
    "MNS = np.array([0.06, 0.065, 0.08])\n",
    "\n",
    "# Standard deviations\n",
    "SDS = np.array([0.15, 0.165, 0.21])\n",
    "\n",
    "# Correlations\n",
    "C  = np.identity(3)\n",
    "C[0, 1] = C[1, 0] = 0.75\n",
    "C[0, 2] = C[2, 0] = 0.75\n",
    "C[1, 2] = C[2, 1] = 0.75\n",
    "\n",
    "# Covariance matrix\n",
    "COV = np.diag(SDS) @ C @ np.diag(SDS)"
   ]
  },
  {
   "attachments": {},
   "cell_type": "markdown",
   "metadata": {},
   "source": [
    "### Tangency portfolio"
   ]
  },
  {
   "cell_type": "code",
   "execution_count": 3,
   "metadata": {},
   "outputs": [
    {
     "name": "stdout",
     "output_type": "stream",
     "text": [
      "Tangency portfolio weights: [0.38119026 0.34653252 0.27227722]\n"
     ]
    }
   ],
   "source": [
    "n = len(MNS)\n",
    "def f(w):\n",
    "    mn = w @ MNS\n",
    "    sd = np.sqrt(w @ COV @ w)\n",
    "    return -(mn - RF) / sd\n",
    "# Initial guess (equal-weighted)\n",
    "w0 = (1/n)*np.ones(n)\n",
    "# Constraint: fully-invested portfolio\n",
    "A = np.ones(n)\n",
    "b = 1\n",
    "cons = [{\"type\": \"eq\", \"fun\": lambda x: A @ x - b}]\n",
    "# No short-sale constraint\n",
    "bnds = [(None, None) for i in range(n)] \n",
    "# Optimization\n",
    "TOL = 10**(-10)\n",
    "wgts = minimize(f, w0, bounds=bnds, constraints=cons, options={'ftol':TOL}).x\n",
    "\n",
    "print(f'Tangency portfolio weights: {wgts}')"
   ]
  },
  {
   "cell_type": "markdown",
   "metadata": {},
   "source": [
    "### Tangency portfolio: theoretical solution without short-sale constraint"
   ]
  },
  {
   "cell_type": "code",
   "execution_count": 4,
   "metadata": {},
   "outputs": [
    {
     "name": "stdout",
     "output_type": "stream",
     "text": [
      "Tangency portfolio weights: [0.38118812 0.34653465 0.27227723]\n"
     ]
    }
   ],
   "source": [
    "w = np.linalg.solve(COV, MNS - RF)\n",
    "wgts = w / np.sum(w)\n",
    "print(f'Tangency portfolio weights: {wgts}')"
   ]
  },
  {
   "cell_type": "code",
   "execution_count": 5,
   "metadata": {},
   "outputs": [
    {
     "name": "stdout",
     "output_type": "stream",
     "text": [
      "Portfolio Expected Return:\t  0.0672\n",
      "Portfolio Standard Deviation:\t  0.1566\n",
      "Portfolio Sharpe Ratio:\t\t  0.3651\n"
     ]
    }
   ],
   "source": [
    "#Portfolio expected return\n",
    "port_expret = wgts @ MNS\n",
    "print(f'Portfolio Expected Return:\\t {port_expret: ,.4f}')\n",
    "\n",
    "# Portfolio standard deviation\n",
    "port_sd = np.sqrt(wgts @ COV @ wgts)\n",
    "print(f'Portfolio Standard Deviation:\\t {port_sd: ,.4f}')\n",
    "\n",
    "# Portfolio sharpe ratio\n",
    "port_sr = (port_expret - RF)/port_sd\n",
    "print(f'Portfolio Sharpe Ratio:\\t\\t {port_sr: ,.4f}')"
   ]
  },
  {
   "attachments": {},
   "cell_type": "markdown",
   "metadata": {},
   "source": [
    "### Capital allocation and risk aversion"
   ]
  },
  {
   "cell_type": "code",
   "execution_count": 6,
   "metadata": {},
   "outputs": [],
   "source": [
    "def capital_allocation(mean, sd, rf, risk_aversion):\n",
    "    return (mean - rf) / (risk_aversion * (sd**2))"
   ]
  },
  {
   "cell_type": "code",
   "execution_count": 7,
   "metadata": {},
   "outputs": [
    {
     "name": "stdout",
     "output_type": "stream",
     "text": [
      "For risk aversion of  3.0, invest  77.7% in the risky asset\n"
     ]
    }
   ],
   "source": [
    "RAVER = 3\n",
    "wgt_risky = capital_allocation(port_expret, port_sd, RF, RAVER)\n",
    "print(f'For risk aversion of {RAVER: .1f}, invest {wgt_risky: ,.1%} in the risky asset')"
   ]
  },
  {
   "cell_type": "code",
   "execution_count": 8,
   "metadata": {},
   "outputs": [
    {
     "name": "stdout",
     "output_type": "stream",
     "text": [
      "For risk aversion of  3.0, Portfolio Expected Return:\t\t  0.0544\n",
      "For risk aversion of  3.0, Portfolio Standard Deviation:\t  0.1217\n"
     ]
    }
   ],
   "source": [
    "# Portfolio expected return\n",
    "optport_expret = wgt_risky*port_expret + (1-wgt_risky)*RF\n",
    "print(f'For risk aversion of {RAVER: .1f}, Portfolio Expected Return:\\t\\t {optport_expret: ,.4f}')\n",
    "\n",
    "# Portfolio standard deviation\n",
    "optport_sd     = np.abs(wgt_risky)*port_sd\n",
    "print(f'For risk aversion of {RAVER: .1f}, Portfolio Standard Deviation:\\t {optport_sd: ,.4f}')"
   ]
  },
  {
   "cell_type": "markdown",
   "metadata": {},
   "source": [
    "### Capital allocation line"
   ]
  },
  {
   "cell_type": "code",
   "execution_count": 9,
   "metadata": {},
   "outputs": [
    {
     "data": {
      "text/html": [
       "<div>\n",
       "<style scoped>\n",
       "    .dataframe tbody tr th:only-of-type {\n",
       "        vertical-align: middle;\n",
       "    }\n",
       "\n",
       "    .dataframe tbody tr th {\n",
       "        vertical-align: top;\n",
       "    }\n",
       "\n",
       "    .dataframe thead th {\n",
       "        text-align: right;\n",
       "    }\n",
       "</style>\n",
       "<table border=\"1\" class=\"dataframe\">\n",
       "  <thead>\n",
       "    <tr style=\"text-align: right;\">\n",
       "      <th></th>\n",
       "      <th>wgt_tangency</th>\n",
       "      <th>wgt_rf</th>\n",
       "      <th>port_expret</th>\n",
       "      <th>port_sd</th>\n",
       "      <th>risk_aversion</th>\n",
       "    </tr>\n",
       "  </thead>\n",
       "  <tbody>\n",
       "    <tr>\n",
       "      <th>36</th>\n",
       "      <td>1.80</td>\n",
       "      <td>-0.80</td>\n",
       "      <td>0.112921</td>\n",
       "      <td>0.281860</td>\n",
       "      <td>1.295495</td>\n",
       "    </tr>\n",
       "    <tr>\n",
       "      <th>37</th>\n",
       "      <td>1.85</td>\n",
       "      <td>-0.85</td>\n",
       "      <td>0.115780</td>\n",
       "      <td>0.289690</td>\n",
       "      <td>1.260481</td>\n",
       "    </tr>\n",
       "    <tr>\n",
       "      <th>38</th>\n",
       "      <td>1.90</td>\n",
       "      <td>-0.90</td>\n",
       "      <td>0.118639</td>\n",
       "      <td>0.297519</td>\n",
       "      <td>1.227311</td>\n",
       "    </tr>\n",
       "    <tr>\n",
       "      <th>39</th>\n",
       "      <td>1.95</td>\n",
       "      <td>-0.95</td>\n",
       "      <td>0.121498</td>\n",
       "      <td>0.305349</td>\n",
       "      <td>1.195841</td>\n",
       "    </tr>\n",
       "    <tr>\n",
       "      <th>40</th>\n",
       "      <td>2.00</td>\n",
       "      <td>-1.00</td>\n",
       "      <td>0.124356</td>\n",
       "      <td>0.313178</td>\n",
       "      <td>1.165945</td>\n",
       "    </tr>\n",
       "  </tbody>\n",
       "</table>\n",
       "</div>"
      ],
      "text/plain": [
       "    wgt_tangency  wgt_rf  port_expret   port_sd  risk_aversion\n",
       "36          1.80   -0.80     0.112921  0.281860       1.295495\n",
       "37          1.85   -0.85     0.115780  0.289690       1.260481\n",
       "38          1.90   -0.90     0.118639  0.297519       1.227311\n",
       "39          1.95   -0.95     0.121498  0.305349       1.195841\n",
       "40          2.00   -1.00     0.124356  0.313178       1.165945"
      ]
     },
     "execution_count": 9,
     "metadata": {},
     "output_type": "execute_result"
    }
   ],
   "source": [
    "WGTS = np.arange(0,2.05,0.05)\n",
    "cal = pd.DataFrame(dtype='float',columns=['wgt_tangency', 'wgt_rf', 'port_expret', 'port_sd','risk_aversion'], index=np.arange(len(WGTS)))\n",
    "cal.wgt_tangency = WGTS\n",
    "cal.wgt_rf = 1-WGTS\n",
    "cal.port_expret = cal.wgt_tangency*port_expret + cal.wgt_rf*RF\n",
    "cal.port_sd = np.abs(cal.wgt_tangency)*port_sd\n",
    "cal.risk_aversion = (port_expret - RF) / (cal.wgt_tangency * port_sd**2)\n",
    "cal.tail()"
   ]
  },
  {
   "attachments": {},
   "cell_type": "markdown",
   "metadata": {},
   "source": [
    "### The full picture\n",
    "Note we will now also calculate the sharpe ratio for each frontier portfolio"
   ]
  },
  {
   "cell_type": "code",
   "execution_count": 10,
   "metadata": {},
   "outputs": [],
   "source": [
    "# Calculate frontier portfolios (from last time)\n",
    "def frontier(means, cov, target):\n",
    "    n = len(means)\n",
    "    Q = matrix(cov, tc=\"d\")\n",
    "    p = matrix(np.zeros(n), (n, 1), tc=\"d\")\n",
    "    # Constraint: short-sales allowed\n",
    "    G = matrix(np.zeros((n,n)), tc=\"d\")\n",
    "    h = matrix(np.zeros(n), (n, 1), tc=\"d\")\n",
    "    # Fully-invested constraint + E[r] = target\n",
    "    A = matrix(np.vstack((np.ones(n), means)), (2, n), tc=\"d\")\n",
    "    b = matrix([1, target], (2, 1), tc=\"d\")\n",
    "    sol = Solver(Q, p, G, h, A, b)\n",
    "    wgts = np.array(sol[\"x\"]).flatten() if sol[\"status\"] == \"optimal\" else np.array(n * [np.nan])\n",
    "    return wgts\n",
    "SolverOptions['show_progress'] = False\n",
    "\n",
    "NUM_TARGETS = 30\n",
    "df = pd.DataFrame(dtype='float',columns=['target_expret','w1','w2','w3','port_expret','port_sd','sharpe'], index=np.arange(NUM_TARGETS))\n",
    "df.target_expret = np.linspace(0.05, 0.10,NUM_TARGETS)\n",
    "for i in df.index:\n",
    "    wgts = frontier(MNS, COV, df.loc[i,'target_expret'])\n",
    "    df.loc[i,['w1','w2','w3']] = wgts\n",
    "    df.loc[i,'port_expret'] = wgts @ MNS\n",
    "    df.loc[i,'port_sd'] = np.sqrt(wgts @ COV @ wgts)\n",
    "df.sharpe = (df.port_expret - RF)/df.port_sd"
   ]
  },
  {
   "cell_type": "code",
   "execution_count": 11,
   "metadata": {},
   "outputs": [
    {
     "data": {
      "application/vnd.plotly.v1+json": {
       "config": {
        "plotlyServerURL": "https://plot.ly"
       },
       "data": [
        {
         "customdata": [
          [
           1.151715039577836,
           0.4643799472295511,
           -0.6160949868073871,
           0.25866372054461695
          ],
          [
           1.0743790373942315,
           0.45255208807205854,
           -0.5269311254662901,
           0.27693839366723355
          ],
          [
           0.9970430352106265,
           0.4407242289145667,
           -0.43776726412519323,
           0.2944784544969786
          ],
          [
           0.9197070330270215,
           0.4288963697570743,
           -0.34860340278409585,
           0.3108067633563266
          ],
          [
           0.8423710308434171,
           0.41706851059958155,
           -0.2594395414429987,
           0.32546163104924003
          ],
          [
           0.7650350286598121,
           0.40524065144208904,
           -0.1702756801019011,
           0.33804839762818223
          ],
          [
           0.6876990264762078,
           0.39341279228459636,
           -0.08111181876080419,
           0.34828615876253916
          ],
          [
           0.6103630242926028,
           0.38158493312710373,
           0.00805204258029346,
           0.35603801145645997
          ],
          [
           0.5330270221089983,
           0.36975707396961155,
           0.09721590392139016,
           0.36131756773300305
          ],
          [
           0.45569101992539324,
           0.3579292148121188,
           0.18637976526248792,
           0.3642718188510896
          ],
          [
           0.37835501774178837,
           0.3461013556546266,
           0.2755436266035851,
           0.36514717505273664
          ],
          [
           0.30101901555818406,
           0.3342734964971339,
           0.36470748794468205,
           0.36424874148941894
          ],
          [
           0.22368301337457897,
           0.3224456373396412,
           0.45387134928577977,
           0.3619020496531098
          ],
          [
           0.14634701119097457,
           0.3106177781821493,
           0.5430352106268762,
           0.35842307120519906
          ],
          [
           0.0690110090073693,
           0.2987899190246567,
           0.632199071967974,
           0.35409851732553793
          ],
          [
           -0.008324993176235565,
           0.2869620598671636,
           0.7213629333090719,
           0.3491756067717227
          ],
          [
           -0.08566099535983906,
           0.2751342007096717,
           0.8105267946501674,
           0.34385907893179674
          ],
          [
           -0.16299699754344438,
           0.2633063415521786,
           0.8996906559912657,
           0.33831295512173337
          ],
          [
           -0.24033299972704875,
           0.2514784823946855,
           0.9888545173323634,
           0.33266491675520027
          ],
          [
           -0.31766900191065406,
           0.23965062323719383,
           1.0780183786734603,
           0.3270117568729213
          ],
          [
           -0.39500500409425865,
           0.22782276407970273,
           1.1671822400145562,
           0.3214249258470059
          ],
          [
           -0.4723410062778642,
           0.2159949049222096,
           1.2563461013556547,
           0.31595563124416465
          ],
          [
           -0.5496770084614678,
           0.2041670457647162,
           1.3455099626967517,
           0.31063925091321504
          ],
          [
           -0.6270130106450733,
           0.19233918660722404,
           1.4346738240378494,
           0.3054990008954644
          ],
          [
           -0.7043490128286776,
           0.1805113274497325,
           1.5238376853789453,
           0.30054889892612446
          ],
          [
           -0.781685015012283,
           0.16868346829223949,
           1.6130015467200436,
           0.2957961097389437
          ],
          [
           -0.8590210171958875,
           0.15685560913474592,
           1.7021654080611417,
           0.2912427721836453
          ],
          [
           -0.9363570193794928,
           0.1450277499772549,
           1.7913292694022376,
           0.28688740507287525
          ],
          [
           -1.0136930215630964,
           0.13319989081976072,
           1.8804931307433355,
           0.28272597778498076
          ],
          [
           -1.0910290237467033,
           0.1213720316622705,
           1.969656992084433,
           0.2787527181615841
          ]
         ],
         "hovertemplate": "Asset 1: %{customdata[0]:.1%}<br>Asset 2: %{customdata[1]:.1%}<br>Asset 3: %{customdata[2]:.1%}<br>Sharpe ratio: %{customdata[3]:.4f}<br><extra></extra>",
         "mode": "lines",
         "name": "Frontier",
         "type": "scatter",
         "x": [
          0.15464093656342653,
          0.15066216488989173,
          0.1475431400789111,
          0.1453392239772955,
          0.14409241289964164,
          0.143827599823887,
          0.1445501818535715,
          0.14624552390976636,
          0.14888039844225476,
          0.15240608388101853,
          0.15676248707682788,
          0.161882555860779,
          0.16769635659865983,
          0.17413441856178968,
          0.1811301880587035,
          0.18862162100737837,
          0.196552050062221,
          0.2048705016414362,
          0.21353163252526924,
          0.2224954276427732,
          0.23172676613182916,
          0.24119493060350897,
          0.2508731084486508,
          0.2607379146259451,
          0.2707689518597464,
          0.2809484152756621,
          0.29126074295642235,
          0.30169231066782143,
          0.3122311672969125,
          0.32286680680125196
         ],
         "y": [
          0.05,
          0.05172413793103449,
          0.05344827586206896,
          0.05517241379310344,
          0.05689655172413793,
          0.05862068965517242,
          0.060344827586206906,
          0.062068965517241385,
          0.06379310344827586,
          0.06551724137931035,
          0.06724137931034484,
          0.06896551724137931,
          0.0706896551724138,
          0.07241379310344828,
          0.07413793103448277,
          0.07586206896551725,
          0.07758620689655171,
          0.0793103448275862,
          0.0810344827586207,
          0.08275862068965519,
          0.08448275862068966,
          0.08620689655172416,
          0.08793103448275863,
          0.08965517241379312,
          0.09137931034482759,
          0.09310344827586207,
          0.09482758620689657,
          0.096551724137931,
          0.09827586206896549,
          0.1
         ]
        },
        {
         "marker": {
          "color": "red",
          "size": 10
         },
         "mode": "markers",
         "name": "Asset 1",
         "type": "scatter",
         "x": [
          0.15
         ],
         "y": [
          0.06
         ]
        },
        {
         "marker": {
          "color": "red",
          "size": 10
         },
         "mode": "markers",
         "name": "Asset 2",
         "type": "scatter",
         "x": [
          0.165
         ],
         "y": [
          0.065
         ]
        },
        {
         "marker": {
          "color": "red",
          "size": 10
         },
         "mode": "markers",
         "name": "Asset 3",
         "type": "scatter",
         "x": [
          0.21
         ],
         "y": [
          0.08
         ]
        },
        {
         "customdata": [
          [
           -1.0910290237467033,
           0.1213720316622705,
           1.969656992084433,
           0.3651483716701107
          ]
         ],
         "hovertemplate": "Asset 1: %{customdata[0]:.1%}<br>Asset 2: %{customdata[1]:.1%}<br>Asset 3: %{customdata[2]:.1%}<br>Sharpe ratio: %{customdata[3]:.4f}<br><extra></extra>",
         "marker": {
          "color": "black",
          "size": 10
         },
         "mode": "markers",
         "name": "Tangency",
         "type": "scatter",
         "x": [
          0.15658899849467003
         ],
         "y": [
          0.06717821782178218
         ]
        },
        {
         "customdata": [
          [
           0,
           1,
           null
          ],
          [
           0.05,
           0.95,
           46.63780663780662
          ],
          [
           0.1,
           0.9,
           23.31890331890331
          ],
          [
           0.15000000000000002,
           0.85,
           15.54593554593554
          ],
          [
           0.2,
           0.8,
           11.659451659451655
          ],
          [
           0.25,
           0.75,
           9.327561327561325
          ],
          [
           0.30000000000000004,
           0.7,
           7.77296777296777
          ],
          [
           0.35000000000000003,
           0.6499999999999999,
           6.662543805400946
          ],
          [
           0.4,
           0.6,
           5.829725829725827
          ],
          [
           0.45,
           0.55,
           5.181978515311847
          ],
          [
           0.5,
           0.5,
           4.6637806637806625
          ],
          [
           0.55,
           0.44999999999999996,
           4.239800603436966
          ],
          [
           0.6000000000000001,
           0.3999999999999999,
           3.886483886483885
          ],
          [
           0.65,
           0.35,
           3.5875235875235867
          ],
          [
           0.7000000000000001,
           0.29999999999999993,
           3.331271902700473
          ],
          [
           0.75,
           0.25,
           3.1091871091871086
          ],
          [
           0.8,
           0.19999999999999996,
           2.9148629148629137
          ],
          [
           0.8500000000000001,
           0.1499999999999999,
           2.7434003904592132
          ],
          [
           0.9,
           0.09999999999999998,
           2.5909892576559237
          ],
          [
           0.9500000000000001,
           0.04999999999999993,
           2.4546214019898223
          ],
          [
           1,
           0,
           2.3318903318903312
          ],
          [
           1.05,
           -0.050000000000000044,
           2.2208479351336488
          ],
          [
           1.1,
           -0.10000000000000009,
           2.119900301718483
          ],
          [
           1.1500000000000001,
           -0.15000000000000013,
           2.0277307233828967
          ],
          [
           1.2000000000000002,
           -0.20000000000000018,
           1.9432419432419425
          ],
          [
           1.25,
           -0.25,
           1.8655122655122651
          ],
          [
           1.3,
           -0.30000000000000004,
           1.7937617937617933
          ],
          [
           1.35,
           -0.3500000000000001,
           1.7273261717706156
          ],
          [
           1.4000000000000001,
           -0.40000000000000013,
           1.6656359513502366
          ],
          [
           1.4500000000000002,
           -0.4500000000000002,
           1.6082002288898833
          ],
          [
           1.5,
           -0.5,
           1.5545935545935543
          ],
          [
           1.55,
           -0.55,
           1.5044453754131168
          ],
          [
           1.6,
           -0.6000000000000001,
           1.4574314574314569
          ],
          [
           1.6500000000000001,
           -0.6500000000000001,
           1.4132668678123221
          ],
          [
           1.7000000000000002,
           -0.7000000000000002,
           1.3717001952296066
          ],
          [
           1.75,
           -0.75,
           1.3325087610801896
          ],
          [
           1.8,
           -0.8,
           1.2954946288279618
          ],
          [
           1.85,
           -0.8500000000000001,
           1.2604812604812603
          ],
          [
           1.9000000000000001,
           -0.9000000000000001,
           1.2273107009949111
          ],
          [
           1.9500000000000002,
           -0.9500000000000002,
           1.1958411958411954
          ],
          [
           2,
           -1,
           1.1659451659451656
          ]
         ],
         "hovertemplate": "Tangency: %{customdata[0]:.1%}<br>Risk-free: %{customdata[1]:.1%}<br>Optimal if risk aversion is: %{customdata[2]:.1f}<br><extra></extra>",
         "marker": {
          "color": "black"
         },
         "mode": "lines",
         "name": "CAL",
         "type": "scatter",
         "x": [
          0,
          0.007829449924733502,
          0.015658899849467004,
          0.023488349774200508,
          0.03131779969893401,
          0.03914724962366751,
          0.046976699548401016,
          0.054806149473134516,
          0.06263559939786802,
          0.07046504932260152,
          0.07829449924733502,
          0.08612394917206853,
          0.09395339909680203,
          0.10178284902153553,
          0.10961229894626903,
          0.11744174887100253,
          0.12527119879573603,
          0.13310064872046953,
          0.14093009864520303,
          0.14875954856993653,
          0.15658899849467003,
          0.16441844841940353,
          0.17224789834413706,
          0.18007734826887056,
          0.18790679819360406,
          0.19573624811833754,
          0.20356569804307106,
          0.21139514796780456,
          0.21922459789253806,
          0.22705404781727156,
          0.23488349774200507,
          0.24271294766673857,
          0.25054239759147207,
          0.25837184751620557,
          0.26620129744093907,
          0.27403074736567257,
          0.28186019729040607,
          0.28968964721513957,
          0.29751909713987307,
          0.30534854706460657,
          0.31317799698934007
         ],
         "y": [
          0.01,
          0.01285891089108911,
          0.015717821782178218,
          0.01857673267326733,
          0.021435643564356437,
          0.024294554455445545,
          0.027153465346534657,
          0.030012376237623765,
          0.03287128712871287,
          0.035730198019801984,
          0.03858910891089109,
          0.0414480198019802,
          0.04430693069306931,
          0.047165841584158416,
          0.05002475247524753,
          0.05288366336633664,
          0.05574257425742575,
          0.05860148514851486,
          0.061460396039603966,
          0.06431930693069308,
          0.06717821782178218,
          0.0700371287128713,
          0.0728960396039604,
          0.07575495049504952,
          0.07861386138613863,
          0.08147277227722773,
          0.08433168316831684,
          0.08719059405940595,
          0.09004950495049506,
          0.09290841584158417,
          0.09576732673267327,
          0.09862623762376238,
          0.10148514851485149,
          0.1043440594059406,
          0.10720297029702971,
          0.11006188118811883,
          0.11292079207920794,
          0.11577970297029705,
          0.11863861386138616,
          0.12149752475247527,
          0.12435643564356437
         ]
        },
        {
         "customdata": [
          [
           0.7772967772967772,
           0.22270322270322285,
           3
          ]
         ],
         "hovertemplate": "Tangency: %{customdata[0]:.1%}<br>Risk-free: %{customdata[1]:.1%}<br>Optimal if risk aversion is: %{customdata[2]:.1f}<br><extra></extra>",
         "marker": {
          "color": "red",
          "size": 15,
          "symbol": "star"
         },
         "mode": "markers",
         "name": "Optimal Portfolio",
         "type": "scatter",
         "x": [
          0.1217161238900369
         ],
         "y": [
          0.05444444444444444
         ]
        }
       ],
       "layout": {
        "legend": {
         "x": 0.01,
         "xanchor": "left",
         "y": 0.99,
         "yanchor": "top"
        },
        "template": {
         "data": {
          "bar": [
           {
            "error_x": {
             "color": "#2a3f5f"
            },
            "error_y": {
             "color": "#2a3f5f"
            },
            "marker": {
             "line": {
              "color": "#E5ECF6",
              "width": 0.5
             },
             "pattern": {
              "fillmode": "overlay",
              "size": 10,
              "solidity": 0.2
             }
            },
            "type": "bar"
           }
          ],
          "barpolar": [
           {
            "marker": {
             "line": {
              "color": "#E5ECF6",
              "width": 0.5
             },
             "pattern": {
              "fillmode": "overlay",
              "size": 10,
              "solidity": 0.2
             }
            },
            "type": "barpolar"
           }
          ],
          "carpet": [
           {
            "aaxis": {
             "endlinecolor": "#2a3f5f",
             "gridcolor": "white",
             "linecolor": "white",
             "minorgridcolor": "white",
             "startlinecolor": "#2a3f5f"
            },
            "baxis": {
             "endlinecolor": "#2a3f5f",
             "gridcolor": "white",
             "linecolor": "white",
             "minorgridcolor": "white",
             "startlinecolor": "#2a3f5f"
            },
            "type": "carpet"
           }
          ],
          "choropleth": [
           {
            "colorbar": {
             "outlinewidth": 0,
             "ticks": ""
            },
            "type": "choropleth"
           }
          ],
          "contour": [
           {
            "colorbar": {
             "outlinewidth": 0,
             "ticks": ""
            },
            "colorscale": [
             [
              0,
              "#0d0887"
             ],
             [
              0.1111111111111111,
              "#46039f"
             ],
             [
              0.2222222222222222,
              "#7201a8"
             ],
             [
              0.3333333333333333,
              "#9c179e"
             ],
             [
              0.4444444444444444,
              "#bd3786"
             ],
             [
              0.5555555555555556,
              "#d8576b"
             ],
             [
              0.6666666666666666,
              "#ed7953"
             ],
             [
              0.7777777777777778,
              "#fb9f3a"
             ],
             [
              0.8888888888888888,
              "#fdca26"
             ],
             [
              1,
              "#f0f921"
             ]
            ],
            "type": "contour"
           }
          ],
          "contourcarpet": [
           {
            "colorbar": {
             "outlinewidth": 0,
             "ticks": ""
            },
            "type": "contourcarpet"
           }
          ],
          "heatmap": [
           {
            "colorbar": {
             "outlinewidth": 0,
             "ticks": ""
            },
            "colorscale": [
             [
              0,
              "#0d0887"
             ],
             [
              0.1111111111111111,
              "#46039f"
             ],
             [
              0.2222222222222222,
              "#7201a8"
             ],
             [
              0.3333333333333333,
              "#9c179e"
             ],
             [
              0.4444444444444444,
              "#bd3786"
             ],
             [
              0.5555555555555556,
              "#d8576b"
             ],
             [
              0.6666666666666666,
              "#ed7953"
             ],
             [
              0.7777777777777778,
              "#fb9f3a"
             ],
             [
              0.8888888888888888,
              "#fdca26"
             ],
             [
              1,
              "#f0f921"
             ]
            ],
            "type": "heatmap"
           }
          ],
          "heatmapgl": [
           {
            "colorbar": {
             "outlinewidth": 0,
             "ticks": ""
            },
            "colorscale": [
             [
              0,
              "#0d0887"
             ],
             [
              0.1111111111111111,
              "#46039f"
             ],
             [
              0.2222222222222222,
              "#7201a8"
             ],
             [
              0.3333333333333333,
              "#9c179e"
             ],
             [
              0.4444444444444444,
              "#bd3786"
             ],
             [
              0.5555555555555556,
              "#d8576b"
             ],
             [
              0.6666666666666666,
              "#ed7953"
             ],
             [
              0.7777777777777778,
              "#fb9f3a"
             ],
             [
              0.8888888888888888,
              "#fdca26"
             ],
             [
              1,
              "#f0f921"
             ]
            ],
            "type": "heatmapgl"
           }
          ],
          "histogram": [
           {
            "marker": {
             "pattern": {
              "fillmode": "overlay",
              "size": 10,
              "solidity": 0.2
             }
            },
            "type": "histogram"
           }
          ],
          "histogram2d": [
           {
            "colorbar": {
             "outlinewidth": 0,
             "ticks": ""
            },
            "colorscale": [
             [
              0,
              "#0d0887"
             ],
             [
              0.1111111111111111,
              "#46039f"
             ],
             [
              0.2222222222222222,
              "#7201a8"
             ],
             [
              0.3333333333333333,
              "#9c179e"
             ],
             [
              0.4444444444444444,
              "#bd3786"
             ],
             [
              0.5555555555555556,
              "#d8576b"
             ],
             [
              0.6666666666666666,
              "#ed7953"
             ],
             [
              0.7777777777777778,
              "#fb9f3a"
             ],
             [
              0.8888888888888888,
              "#fdca26"
             ],
             [
              1,
              "#f0f921"
             ]
            ],
            "type": "histogram2d"
           }
          ],
          "histogram2dcontour": [
           {
            "colorbar": {
             "outlinewidth": 0,
             "ticks": ""
            },
            "colorscale": [
             [
              0,
              "#0d0887"
             ],
             [
              0.1111111111111111,
              "#46039f"
             ],
             [
              0.2222222222222222,
              "#7201a8"
             ],
             [
              0.3333333333333333,
              "#9c179e"
             ],
             [
              0.4444444444444444,
              "#bd3786"
             ],
             [
              0.5555555555555556,
              "#d8576b"
             ],
             [
              0.6666666666666666,
              "#ed7953"
             ],
             [
              0.7777777777777778,
              "#fb9f3a"
             ],
             [
              0.8888888888888888,
              "#fdca26"
             ],
             [
              1,
              "#f0f921"
             ]
            ],
            "type": "histogram2dcontour"
           }
          ],
          "mesh3d": [
           {
            "colorbar": {
             "outlinewidth": 0,
             "ticks": ""
            },
            "type": "mesh3d"
           }
          ],
          "parcoords": [
           {
            "line": {
             "colorbar": {
              "outlinewidth": 0,
              "ticks": ""
             }
            },
            "type": "parcoords"
           }
          ],
          "pie": [
           {
            "automargin": true,
            "type": "pie"
           }
          ],
          "scatter": [
           {
            "fillpattern": {
             "fillmode": "overlay",
             "size": 10,
             "solidity": 0.2
            },
            "type": "scatter"
           }
          ],
          "scatter3d": [
           {
            "line": {
             "colorbar": {
              "outlinewidth": 0,
              "ticks": ""
             }
            },
            "marker": {
             "colorbar": {
              "outlinewidth": 0,
              "ticks": ""
             }
            },
            "type": "scatter3d"
           }
          ],
          "scattercarpet": [
           {
            "marker": {
             "colorbar": {
              "outlinewidth": 0,
              "ticks": ""
             }
            },
            "type": "scattercarpet"
           }
          ],
          "scattergeo": [
           {
            "marker": {
             "colorbar": {
              "outlinewidth": 0,
              "ticks": ""
             }
            },
            "type": "scattergeo"
           }
          ],
          "scattergl": [
           {
            "marker": {
             "colorbar": {
              "outlinewidth": 0,
              "ticks": ""
             }
            },
            "type": "scattergl"
           }
          ],
          "scattermapbox": [
           {
            "marker": {
             "colorbar": {
              "outlinewidth": 0,
              "ticks": ""
             }
            },
            "type": "scattermapbox"
           }
          ],
          "scatterpolar": [
           {
            "marker": {
             "colorbar": {
              "outlinewidth": 0,
              "ticks": ""
             }
            },
            "type": "scatterpolar"
           }
          ],
          "scatterpolargl": [
           {
            "marker": {
             "colorbar": {
              "outlinewidth": 0,
              "ticks": ""
             }
            },
            "type": "scatterpolargl"
           }
          ],
          "scatterternary": [
           {
            "marker": {
             "colorbar": {
              "outlinewidth": 0,
              "ticks": ""
             }
            },
            "type": "scatterternary"
           }
          ],
          "surface": [
           {
            "colorbar": {
             "outlinewidth": 0,
             "ticks": ""
            },
            "colorscale": [
             [
              0,
              "#0d0887"
             ],
             [
              0.1111111111111111,
              "#46039f"
             ],
             [
              0.2222222222222222,
              "#7201a8"
             ],
             [
              0.3333333333333333,
              "#9c179e"
             ],
             [
              0.4444444444444444,
              "#bd3786"
             ],
             [
              0.5555555555555556,
              "#d8576b"
             ],
             [
              0.6666666666666666,
              "#ed7953"
             ],
             [
              0.7777777777777778,
              "#fb9f3a"
             ],
             [
              0.8888888888888888,
              "#fdca26"
             ],
             [
              1,
              "#f0f921"
             ]
            ],
            "type": "surface"
           }
          ],
          "table": [
           {
            "cells": {
             "fill": {
              "color": "#EBF0F8"
             },
             "line": {
              "color": "white"
             }
            },
            "header": {
             "fill": {
              "color": "#C8D4E3"
             },
             "line": {
              "color": "white"
             }
            },
            "type": "table"
           }
          ]
         },
         "layout": {
          "annotationdefaults": {
           "arrowcolor": "#2a3f5f",
           "arrowhead": 0,
           "arrowwidth": 1
          },
          "autotypenumbers": "strict",
          "coloraxis": {
           "colorbar": {
            "outlinewidth": 0,
            "ticks": ""
           }
          },
          "colorscale": {
           "diverging": [
            [
             0,
             "#8e0152"
            ],
            [
             0.1,
             "#c51b7d"
            ],
            [
             0.2,
             "#de77ae"
            ],
            [
             0.3,
             "#f1b6da"
            ],
            [
             0.4,
             "#fde0ef"
            ],
            [
             0.5,
             "#f7f7f7"
            ],
            [
             0.6,
             "#e6f5d0"
            ],
            [
             0.7,
             "#b8e186"
            ],
            [
             0.8,
             "#7fbc41"
            ],
            [
             0.9,
             "#4d9221"
            ],
            [
             1,
             "#276419"
            ]
           ],
           "sequential": [
            [
             0,
             "#0d0887"
            ],
            [
             0.1111111111111111,
             "#46039f"
            ],
            [
             0.2222222222222222,
             "#7201a8"
            ],
            [
             0.3333333333333333,
             "#9c179e"
            ],
            [
             0.4444444444444444,
             "#bd3786"
            ],
            [
             0.5555555555555556,
             "#d8576b"
            ],
            [
             0.6666666666666666,
             "#ed7953"
            ],
            [
             0.7777777777777778,
             "#fb9f3a"
            ],
            [
             0.8888888888888888,
             "#fdca26"
            ],
            [
             1,
             "#f0f921"
            ]
           ],
           "sequentialminus": [
            [
             0,
             "#0d0887"
            ],
            [
             0.1111111111111111,
             "#46039f"
            ],
            [
             0.2222222222222222,
             "#7201a8"
            ],
            [
             0.3333333333333333,
             "#9c179e"
            ],
            [
             0.4444444444444444,
             "#bd3786"
            ],
            [
             0.5555555555555556,
             "#d8576b"
            ],
            [
             0.6666666666666666,
             "#ed7953"
            ],
            [
             0.7777777777777778,
             "#fb9f3a"
            ],
            [
             0.8888888888888888,
             "#fdca26"
            ],
            [
             1,
             "#f0f921"
            ]
           ]
          },
          "colorway": [
           "#636efa",
           "#EF553B",
           "#00cc96",
           "#ab63fa",
           "#FFA15A",
           "#19d3f3",
           "#FF6692",
           "#B6E880",
           "#FF97FF",
           "#FECB52"
          ],
          "font": {
           "color": "#2a3f5f"
          },
          "geo": {
           "bgcolor": "white",
           "lakecolor": "white",
           "landcolor": "#E5ECF6",
           "showlakes": true,
           "showland": true,
           "subunitcolor": "white"
          },
          "hoverlabel": {
           "align": "left"
          },
          "hovermode": "closest",
          "mapbox": {
           "style": "light"
          },
          "paper_bgcolor": "white",
          "plot_bgcolor": "#E5ECF6",
          "polar": {
           "angularaxis": {
            "gridcolor": "white",
            "linecolor": "white",
            "ticks": ""
           },
           "bgcolor": "#E5ECF6",
           "radialaxis": {
            "gridcolor": "white",
            "linecolor": "white",
            "ticks": ""
           }
          },
          "scene": {
           "xaxis": {
            "backgroundcolor": "#E5ECF6",
            "gridcolor": "white",
            "gridwidth": 2,
            "linecolor": "white",
            "showbackground": true,
            "ticks": "",
            "zerolinecolor": "white"
           },
           "yaxis": {
            "backgroundcolor": "#E5ECF6",
            "gridcolor": "white",
            "gridwidth": 2,
            "linecolor": "white",
            "showbackground": true,
            "ticks": "",
            "zerolinecolor": "white"
           },
           "zaxis": {
            "backgroundcolor": "#E5ECF6",
            "gridcolor": "white",
            "gridwidth": 2,
            "linecolor": "white",
            "showbackground": true,
            "ticks": "",
            "zerolinecolor": "white"
           }
          },
          "shapedefaults": {
           "line": {
            "color": "#2a3f5f"
           }
          },
          "ternary": {
           "aaxis": {
            "gridcolor": "white",
            "linecolor": "white",
            "ticks": ""
           },
           "baxis": {
            "gridcolor": "white",
            "linecolor": "white",
            "ticks": ""
           },
           "bgcolor": "#E5ECF6",
           "caxis": {
            "gridcolor": "white",
            "linecolor": "white",
            "ticks": ""
           }
          },
          "title": {
           "x": 0.05
          },
          "xaxis": {
           "automargin": true,
           "gridcolor": "white",
           "linecolor": "white",
           "ticks": "",
           "title": {
            "standoff": 15
           },
           "zerolinecolor": "white",
           "zerolinewidth": 2
          },
          "yaxis": {
           "automargin": true,
           "gridcolor": "white",
           "linecolor": "white",
           "ticks": "",
           "title": {
            "standoff": 15
           },
           "zerolinecolor": "white",
           "zerolinewidth": 2
          }
         }
        },
        "xaxis": {
         "range": [
          0.10067931987672088,
          0.40358350850156494
         ],
         "tickformat": ".1%",
         "title": {
          "text": "Standard Deviation"
         }
        },
        "yaxis": {
         "range": [
          0.034999999999999996,
          0.125
         ],
         "tickformat": ".1%",
         "title": {
          "text": "Expected Return"
         }
        }
       }
      }
     },
     "metadata": {},
     "output_type": "display_data"
    }
   ],
   "source": [
    "fig = go.Figure()\n",
    "\n",
    "# Plot frontier\n",
    "string =  \"Asset 1: %{customdata[0]:.1%}<br>\"\n",
    "string += \"Asset 2: %{customdata[1]:.1%}<br>\"\n",
    "string += \"Asset 3: %{customdata[2]:.1%}<br>\"\n",
    "string += \"Sharpe ratio: %{customdata[3]:.4f}<br>\"\n",
    "string += \"<extra></extra>\"\n",
    "trace= go.Scatter(x=df.port_sd, y=df.port_expret,mode=\"lines\",\n",
    "    customdata=df[['w1','w2','w3','sharpe']],hovertemplate=string, name='Frontier')\n",
    "fig.add_trace(trace)\n",
    "\n",
    "# Plot underlying assets\n",
    "trace1= go.Scatter(x=[SDS[0]], y=[MNS[0]],mode=\"markers\", marker=dict(size=10, color=\"red\"), name='Asset 1')\n",
    "fig.add_trace(trace1)\n",
    "trace2= go.Scatter(x=[SDS[1]], y=[MNS[1]],mode=\"markers\", marker=dict(size=10, color=\"red\"), name='Asset 2')\n",
    "fig.add_trace(trace2)\n",
    "trace3= go.Scatter(x=[SDS[2]], y=[MNS[2]],mode=\"markers\", marker=dict(size=10, color=\"red\"), name='Asset 3')\n",
    "fig.add_trace(trace3)\n",
    "\n",
    "# Plot tangency\n",
    "trace= go.Scatter(x=[port_sd], y=[port_expret] ,\n",
    "    mode=\"markers\", marker=dict(size=10, color=\"black\"),\n",
    "    customdata=np.append(wgts,port_sr).reshape(1,4),hovertemplate=string, name='Tangency')\n",
    "fig.add_trace(trace)\n",
    "\n",
    "# Plot CAL\n",
    "string =  \"Tangency: %{customdata[0]:.1%}<br>\"\n",
    "string += \"Risk-free: %{customdata[1]:.1%}<br>\"\n",
    "string += \"Optimal if risk aversion is: %{customdata[2]:.1f}<br>\"\n",
    "string += \"<extra></extra>\"\n",
    "trace= go.Scatter(x=cal.port_sd, y=cal.port_expret,mode=\"lines\",marker=dict(color=\"black\"),\n",
    "    customdata=cal[['wgt_tangency','wgt_rf','risk_aversion']],hovertemplate=string, name='CAL')\n",
    "fig.add_trace(trace)\n",
    "\n",
    "# Plot optimal location on CAL for risk aversion\n",
    "trace= go.Scatter(x=[optport_sd], y=[optport_expret],\n",
    "    mode=\"markers\", marker=dict(size=15, color=\"red\", symbol='star'),\n",
    "    customdata=[[wgt_risky, 1-wgt_risky, RAVER]],hovertemplate=string, name='Optimal Portfolio')\n",
    "fig.add_trace(trace)\n",
    "\n",
    "# Formatting\n",
    "fig.layout.yaxis[\"title\"] = \"Expected Return\"\n",
    "fig.layout.xaxis[\"title\"] = \"Standard Deviation\"\n",
    "fig.update_yaxes(tickformat=\".1%\")\n",
    "fig.update_xaxes(tickformat=\".1%\")\n",
    "fig.update_xaxes(range=[0.7 * df[\"port_sd\"].min(), 1.25 * df[\"port_sd\"].max()])\n",
    "fig.update_yaxes(range=[0.7 * df[\"port_expret\"].min(), 1.25 * df[\"port_expret\"].max()])\n",
    "fig.update_layout(legend=dict(yanchor=\"top\", y=0.99, xanchor=\"left\", x=0.01))\n",
    "fig.show()"
   ]
  }
 ],
 "metadata": {
  "kernelspec": {
   "display_name": "venv",
   "language": "python",
   "name": "python3"
  },
  "language_info": {
   "codemirror_mode": {
    "name": "ipython",
    "version": 3
   },
   "file_extension": ".py",
   "mimetype": "text/x-python",
   "name": "python",
   "nbconvert_exporter": "python",
   "pygments_lexer": "ipython3",
   "version": "3.10.6"
  },
  "orig_nbformat": 4,
  "vscode": {
   "interpreter": {
    "hash": "cc788b38d8cb434c82f45ef9d481d0310e17b79321e4c8cbfbfe90f656a3f023"
   }
  }
 },
 "nbformat": 4,
 "nbformat_minor": 2
}
