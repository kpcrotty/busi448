{
 "cells": [
  {
   "cell_type": "markdown",
   "metadata": {},
   "source": [
    "# Fama-MacBeth Characteristic Regressions\n",
    "(Based on Lewellen's Critical Finance Review article)"
   ]
  },
  {
   "cell_type": "code",
   "execution_count": 1,
   "metadata": {},
   "outputs": [],
   "source": [
    "import numpy as np\n",
    "import pandas as pd\n",
    "import statsmodels.api as sm\n",
    "from pandas_datareader import DataReader as pdr\n",
    "from scipy import stats\n",
    "import plotly.graph_objects as go\n",
    "pd.options.display.float_format = '{:,.4f}'.format"
   ]
  },
  {
   "cell_type": "markdown",
   "metadata": {},
   "source": [
    "### Pull data from dropbox"
   ]
  },
  {
   "cell_type": "code",
   "execution_count": 2,
   "metadata": {},
   "outputs": [
    {
     "data": {
      "text/html": [
       "<div>\n",
       "<style scoped>\n",
       "    .dataframe tbody tr th:only-of-type {\n",
       "        vertical-align: middle;\n",
       "    }\n",
       "\n",
       "    .dataframe tbody tr th {\n",
       "        vertical-align: top;\n",
       "    }\n",
       "\n",
       "    .dataframe thead th {\n",
       "        text-align: right;\n",
       "    }\n",
       "</style>\n",
       "<table border=\"1\" class=\"dataframe\">\n",
       "  <thead>\n",
       "    <tr style=\"text-align: right;\">\n",
       "      <th></th>\n",
       "      <th>ticker</th>\n",
       "      <th>date</th>\n",
       "      <th>ret</th>\n",
       "      <th>beta</th>\n",
       "      <th>mve</th>\n",
       "      <th>bm</th>\n",
       "      <th>mom12m</th>\n",
       "      <th>illiq</th>\n",
       "      <th>idiovol</th>\n",
       "      <th>mdate</th>\n",
       "    </tr>\n",
       "  </thead>\n",
       "  <tbody>\n",
       "    <tr>\n",
       "      <th>0</th>\n",
       "      <td>GFGC</td>\n",
       "      <td>19880229</td>\n",
       "      <td>0.0800</td>\n",
       "      <td>0.0519</td>\n",
       "      <td>8.7323</td>\n",
       "      <td>0.9222</td>\n",
       "      <td>-0.0680</td>\n",
       "      <td>0.0000</td>\n",
       "      <td>0.0337</td>\n",
       "      <td>1988-02</td>\n",
       "    </tr>\n",
       "    <tr>\n",
       "      <th>1</th>\n",
       "      <td>GFGC</td>\n",
       "      <td>19880331</td>\n",
       "      <td>-0.0763</td>\n",
       "      <td>0.0508</td>\n",
       "      <td>8.8093</td>\n",
       "      <td>0.9222</td>\n",
       "      <td>0.0708</td>\n",
       "      <td>0.0000</td>\n",
       "      <td>0.0339</td>\n",
       "      <td>1988-03</td>\n",
       "    </tr>\n",
       "    <tr>\n",
       "      <th>2</th>\n",
       "      <td>GFGC</td>\n",
       "      <td>19880429</td>\n",
       "      <td>0.0306</td>\n",
       "      <td>0.0470</td>\n",
       "      <td>8.7121</td>\n",
       "      <td>0.9222</td>\n",
       "      <td>0.1154</td>\n",
       "      <td>0.0000</td>\n",
       "      <td>0.0336</td>\n",
       "      <td>1988-04</td>\n",
       "    </tr>\n",
       "    <tr>\n",
       "      <th>3</th>\n",
       "      <td>GFGC</td>\n",
       "      <td>19880531</td>\n",
       "      <td>0.0198</td>\n",
       "      <td>0.0363</td>\n",
       "      <td>8.7423</td>\n",
       "      <td>0.9222</td>\n",
       "      <td>0.0724</td>\n",
       "      <td>0.0000</td>\n",
       "      <td>0.0332</td>\n",
       "      <td>1988-05</td>\n",
       "    </tr>\n",
       "    <tr>\n",
       "      <th>4</th>\n",
       "      <td>GFGC</td>\n",
       "      <td>19880630</td>\n",
       "      <td>-0.0120</td>\n",
       "      <td>0.0243</td>\n",
       "      <td>8.7619</td>\n",
       "      <td>0.9222</td>\n",
       "      <td>0.1902</td>\n",
       "      <td>0.0000</td>\n",
       "      <td>0.0334</td>\n",
       "      <td>1988-06</td>\n",
       "    </tr>\n",
       "  </tbody>\n",
       "</table>\n",
       "</div>"
      ],
      "text/plain": [
       "  ticker      date     ret   beta    mve     bm  mom12m  illiq  idiovol  \\\n",
       "0   GFGC  19880229  0.0800 0.0519 8.7323 0.9222 -0.0680 0.0000   0.0337   \n",
       "1   GFGC  19880331 -0.0763 0.0508 8.8093 0.9222  0.0708 0.0000   0.0339   \n",
       "2   GFGC  19880429  0.0306 0.0470 8.7121 0.9222  0.1154 0.0000   0.0336   \n",
       "3   GFGC  19880531  0.0198 0.0363 8.7423 0.9222  0.0724 0.0000   0.0332   \n",
       "4   GFGC  19880630 -0.0120 0.0243 8.7619 0.9222  0.1902 0.0000   0.0334   \n",
       "\n",
       "     mdate  \n",
       "0  1988-02  \n",
       "1  1988-03  \n",
       "2  1988-04  \n",
       "3  1988-05  \n",
       "4  1988-06  "
      ]
     },
     "execution_count": 2,
     "metadata": {},
     "output_type": "execute_result"
    }
   ],
   "source": [
    "df = pd.read_csv('https://www.dropbox.com/s/w2vb22u6kh7ysvn/stocks.csv?dl=1')\n",
    "df['mdate']=pd.to_datetime(df.date,format='%Y%m%d').dt.to_period('M')\n",
    "df.head()"
   ]
  },
  {
   "attachments": {},
   "cell_type": "markdown",
   "metadata": {},
   "source": [
    "Remove outliers"
   ]
  },
  {
   "cell_type": "code",
   "execution_count": 3,
   "metadata": {},
   "outputs": [
    {
     "data": {
      "text/plain": [
       "count   2,007,750.0000\n",
       "mean            0.0069\n",
       "std             0.1533\n",
       "min            -0.9354\n",
       "25%            -0.0657\n",
       "50%             0.0000\n",
       "75%             0.0712\n",
       "max             0.9584\n",
       "Name: ret, dtype: float64"
      ]
     },
     "execution_count": 3,
     "metadata": {},
     "output_type": "execute_result"
    }
   ],
   "source": [
    "cols_to_trim_on = ['ret', 'beta', 'mve', 'bm', 'mom12m', 'illiq','idiovol']\n",
    "df = df[(np.abs(stats.zscore(df[cols_to_trim_on])) < 5).all(axis=1)]\n",
    "df.ret.describe()"
   ]
  },
  {
   "attachments": {},
   "cell_type": "markdown",
   "metadata": {},
   "source": [
    "Add in risk-free rate\n",
    "\n"
   ]
  },
  {
   "cell_type": "code",
   "execution_count": 4,
   "metadata": {},
   "outputs": [],
   "source": [
    "ff3 = pdr(\"F-F_Research_Data_Factors\", \"famafrench\", start=1926)[0]/100\n",
    "df = df.merge(ff3.RF, how='inner', left_on='mdate', right_index=True)\n",
    "df['xret'] = df.ret - df.RF"
   ]
  },
  {
   "cell_type": "markdown",
   "metadata": {},
   "source": [
    "### Run cross-sectional regressions and take time-series average"
   ]
  },
  {
   "cell_type": "code",
   "execution_count": 5,
   "metadata": {},
   "outputs": [],
   "source": [
    "CHARS = ['beta','mve', 'bm','mom12m']\n",
    "coefs = df.groupby('date').apply(lambda d: sm.OLS(d.xret,sm.add_constant(d[CHARS])).fit().params) "
   ]
  },
  {
   "cell_type": "code",
   "execution_count": 6,
   "metadata": {},
   "outputs": [
    {
     "data": {
      "text/html": [
       "<div>\n",
       "<style scoped>\n",
       "    .dataframe tbody tr th:only-of-type {\n",
       "        vertical-align: middle;\n",
       "    }\n",
       "\n",
       "    .dataframe tbody tr th {\n",
       "        vertical-align: top;\n",
       "    }\n",
       "\n",
       "    .dataframe thead th {\n",
       "        text-align: right;\n",
       "    }\n",
       "</style>\n",
       "<table border=\"1\" class=\"dataframe\">\n",
       "  <thead>\n",
       "    <tr style=\"text-align: right;\">\n",
       "      <th></th>\n",
       "      <th>mean</th>\n",
       "      <th>tstat</th>\n",
       "      <th>pval</th>\n",
       "    </tr>\n",
       "  </thead>\n",
       "  <tbody>\n",
       "    <tr>\n",
       "      <th>const</th>\n",
       "      <td>-0.0151</td>\n",
       "      <td>-3.2798</td>\n",
       "      <td>0.0011</td>\n",
       "    </tr>\n",
       "    <tr>\n",
       "      <th>beta</th>\n",
       "      <td>-0.0028</td>\n",
       "      <td>-1.9697</td>\n",
       "      <td>0.0494</td>\n",
       "    </tr>\n",
       "    <tr>\n",
       "      <th>mve</th>\n",
       "      <td>0.0014</td>\n",
       "      <td>4.2606</td>\n",
       "      <td>0.0000</td>\n",
       "    </tr>\n",
       "    <tr>\n",
       "      <th>bm</th>\n",
       "      <td>0.0046</td>\n",
       "      <td>6.7982</td>\n",
       "      <td>0.0000</td>\n",
       "    </tr>\n",
       "    <tr>\n",
       "      <th>mom12m</th>\n",
       "      <td>0.0108</td>\n",
       "      <td>8.8704</td>\n",
       "      <td>0.0000</td>\n",
       "    </tr>\n",
       "  </tbody>\n",
       "</table>\n",
       "</div>"
      ],
      "text/plain": [
       "          mean   tstat   pval\n",
       "const  -0.0151 -3.2798 0.0011\n",
       "beta   -0.0028 -1.9697 0.0494\n",
       "mve     0.0014  4.2606 0.0000\n",
       "bm      0.0046  6.7982 0.0000\n",
       "mom12m  0.0108  8.8704 0.0000"
      ]
     },
     "execution_count": 6,
     "metadata": {},
     "output_type": "execute_result"
    }
   ],
   "source": [
    "T = len(coefs)\n",
    "stats = pd.DataFrame(dtype=float,index=coefs.columns,columns=['mean','tstat','pval'])\n",
    "for coef in coefs.columns :\n",
    "    tsreg = sm.OLS(coefs[coef],np.ones(T)).fit()\n",
    "\n",
    "    stats.loc[coef,'mean'] = coefs[coef].mean()\n",
    "    stats.loc[coef,'tstat'] = tsreg.tvalues['const']\n",
    "    stats.loc[coef,'pval'] = tsreg.pvalues['const']\n",
    "stats.round(4)"
   ]
  },
  {
   "cell_type": "markdown",
   "metadata": {},
   "source": [
    "### Multiply current characteristics to get expected return estimate"
   ]
  },
  {
   "cell_type": "code",
   "execution_count": 7,
   "metadata": {},
   "outputs": [
    {
     "data": {
      "text/html": [
       "<div>\n",
       "<style scoped>\n",
       "    .dataframe tbody tr th:only-of-type {\n",
       "        vertical-align: middle;\n",
       "    }\n",
       "\n",
       "    .dataframe tbody tr th {\n",
       "        vertical-align: top;\n",
       "    }\n",
       "\n",
       "    .dataframe thead th {\n",
       "        text-align: right;\n",
       "    }\n",
       "</style>\n",
       "<table border=\"1\" class=\"dataframe\">\n",
       "  <thead>\n",
       "    <tr style=\"text-align: right;\">\n",
       "      <th></th>\n",
       "      <th>ticker</th>\n",
       "      <th>date</th>\n",
       "      <th>ret</th>\n",
       "      <th>beta</th>\n",
       "      <th>mve</th>\n",
       "      <th>bm</th>\n",
       "      <th>mom12m</th>\n",
       "      <th>illiq</th>\n",
       "      <th>idiovol</th>\n",
       "      <th>mdate</th>\n",
       "      <th>RF</th>\n",
       "      <th>xret</th>\n",
       "    </tr>\n",
       "  </thead>\n",
       "  <tbody>\n",
       "    <tr>\n",
       "      <th>181626</th>\n",
       "      <td>IBM</td>\n",
       "      <td>20221230</td>\n",
       "      <td>-0.0538</td>\n",
       "      <td>0.7553</td>\n",
       "      <td>18.7180</td>\n",
       "      <td>0.1575</td>\n",
       "      <td>0.2265</td>\n",
       "      <td>0.0000</td>\n",
       "      <td>0.0313</td>\n",
       "      <td>2022-12</td>\n",
       "      <td>0.0033</td>\n",
       "      <td>-0.0571</td>\n",
       "    </tr>\n",
       "  </tbody>\n",
       "</table>\n",
       "</div>"
      ],
      "text/plain": [
       "       ticker      date     ret   beta     mve     bm  mom12m  illiq  idiovol  \\\n",
       "181626    IBM  20221230 -0.0538 0.7553 18.7180 0.1575  0.2265 0.0000   0.0313   \n",
       "\n",
       "          mdate     RF    xret  \n",
       "181626  2022-12 0.0033 -0.0571  "
      ]
     },
     "execution_count": 7,
     "metadata": {},
     "output_type": "execute_result"
    }
   ],
   "source": [
    "TICKER='IBM'\n",
    "ds = df[df.ticker==TICKER]\n",
    "last = ds.sort_values(by='date').tail(1)\n",
    "last"
   ]
  },
  {
   "cell_type": "code",
   "execution_count": 8,
   "metadata": {},
   "outputs": [
    {
     "name": "stdout",
     "output_type": "stream",
     "text": [
      "The estimated annual excess return for IBM is:\t  15.5%\n"
     ]
    }
   ],
   "source": [
    "lag_char = last[CHARS]\n",
    "ts_avgs = stats['mean']\n",
    "excess_return = ts_avgs['const'] + last[CHARS] @ ts_avgs[CHARS]\n",
    "excess_return = 12*excess_return.values[0]\n",
    "print(f'The estimated annual excess return for {TICKER} is:\\t {excess_return: .1%}')"
   ]
  },
  {
   "cell_type": "code",
   "execution_count": 9,
   "metadata": {},
   "outputs": [
    {
     "name": "stdout",
     "output_type": "stream",
     "text": [
      "The current risk-free rate is:\t  4.7%\n"
     ]
    }
   ],
   "source": [
    "# Most recent risk-free rate (in decimal notation)\n",
    "rf = pdr(\"DGS3MO\", \"fred\", start=1920).iloc[-1]/100\n",
    "rf = rf[0]\n",
    "print(f'The current risk-free rate is:\\t {rf: .1%}')"
   ]
  },
  {
   "cell_type": "code",
   "execution_count": 10,
   "metadata": {},
   "outputs": [
    {
     "name": "stdout",
     "output_type": "stream",
     "text": [
      "The estimated expected return for IBM is:\t  20.2%\n"
     ]
    }
   ],
   "source": [
    "expret = rf + excess_return\n",
    "\n",
    "print(f'The estimated expected return for {TICKER} is:\\t {expret: .1%}')"
   ]
  }
 ],
 "metadata": {
  "kernelspec": {
   "display_name": "Python 3.10.6 ('venv': venv)",
   "language": "python",
   "name": "python3"
  },
  "language_info": {
   "codemirror_mode": {
    "name": "ipython",
    "version": 3
   },
   "file_extension": ".py",
   "mimetype": "text/x-python",
   "name": "python",
   "nbconvert_exporter": "python",
   "pygments_lexer": "ipython3",
   "version": "3.10.6"
  },
  "orig_nbformat": 4,
  "vscode": {
   "interpreter": {
    "hash": "cc788b38d8cb434c82f45ef9d481d0310e17b79321e4c8cbfbfe90f656a3f023"
   }
  }
 },
 "nbformat": 4,
 "nbformat_minor": 2
}
