{
 "cells": [
  {
   "cell_type": "markdown",
   "metadata": {},
   "source": [
    "# Interest Rate Risk II: Convexity"
   ]
  },
  {
   "cell_type": "code",
   "execution_count": 4,
   "metadata": {},
   "outputs": [],
   "source": [
    "import numpy as np\n",
    "import pandas as pd\n",
    "import numpy_financial as npf\n",
    "import plotly.graph_objects as go"
   ]
  },
  {
   "cell_type": "code",
   "execution_count": 5,
   "metadata": {},
   "outputs": [],
   "source": [
    "def bondpv(cr,ytm,nop,ttm, principal):\n",
    "    ''' \n",
    "    Inputs:\n",
    "        cr:             coupon rate (per year, in decimal)\n",
    "        ytm:            yield-to-maturity (per year, in decimal)\n",
    "        nop:            number of payments per year\n",
    "        ttm:            time-to-maturity (in periods)\n",
    "        principal:      face value\n",
    "    Outputs:\n",
    "        p:              bond price\n",
    "    '''\n",
    "    dr = ytm/nop\n",
    "    c = cr/nop*principal\n",
    "    p = -npf.pv(dr,ttm,c,principal)\n",
    "    return p\n",
    "\n",
    "def mduration(cr,ytm,nop,ttm, principal):\n",
    "    ''' \n",
    "    Inputs:\n",
    "        cr:             coupon rate (per year, in decimal)\n",
    "        ytm:            yield-to-maturity (per year, in decimal)\n",
    "        nop:            number of payments per year\n",
    "        ttm:            time-to-maturity (in periods)\n",
    "        principal:      face value\n",
    "    Outputs:\n",
    "        duration:       modified duration\n",
    "    '''\n",
    "    dr = ytm/nop\n",
    "    c = cr/nop*principal\n",
    "    p = -npf.pv(dr,ttm,c,principal)\n",
    "    # Write out CFs and discount\n",
    "    cfs = c*np.ones(ttm)\n",
    "    cfs[-1] = cfs[-1]+principal\n",
    "    pvs = cfs/(1+dr)**(1+np.arange(ttm))\n",
    "    # Calculate weights\n",
    "    wgts = pvs / np.sum(pvs)\n",
    "    t = (1+np.arange(ttm))/nop\n",
    "    # Calculate duration\n",
    "    duration = t @ wgts\n",
    "    return duration / (1+dr)\n",
    "def implied_pct_chg(cr,ytm,nop,ttm, principal, delta_ytm):\n",
    "    dmod = mduration(cr,ytm,nop,ttm, principal)\n",
    "    return -dmod * delta_ytm\n",
    "def actual_pct_chg(cr,ytm,nop,ttm, principal, delta_ytm):\n",
    "    p = bondpv(cr,ytm,nop,ttm, principal)\n",
    "    pnew = bondpv(cr,ytm+delta_ytm,nop,ttm, principal)\n",
    "    return pnew/p - 1"
   ]
  },
  {
   "cell_type": "markdown",
   "metadata": {},
   "source": [
    "### From last time: duration appoximation"
   ]
  },
  {
   "cell_type": "code",
   "execution_count": 6,
   "metadata": {},
   "outputs": [
    {
     "data": {
      "text/html": [
       "<div>\n",
       "<style scoped>\n",
       "    .dataframe tbody tr th:only-of-type {\n",
       "        vertical-align: middle;\n",
       "    }\n",
       "\n",
       "    .dataframe tbody tr th {\n",
       "        vertical-align: top;\n",
       "    }\n",
       "\n",
       "    .dataframe thead tr th {\n",
       "        text-align: left;\n",
       "    }\n",
       "\n",
       "    .dataframe thead tr:last-of-type th {\n",
       "        text-align: right;\n",
       "    }\n",
       "</style>\n",
       "<table border=\"1\" class=\"dataframe\">\n",
       "  <thead>\n",
       "    <tr>\n",
       "      <th></th>\n",
       "      <th colspan=\"2\" halign=\"left\">actual_pct_chg</th>\n",
       "      <th colspan=\"2\" halign=\"left\">approx_pct_chg</th>\n",
       "      <th>new_ytm</th>\n",
       "    </tr>\n",
       "    <tr>\n",
       "      <th></th>\n",
       "      <th>10</th>\n",
       "      <th>20</th>\n",
       "      <th>10</th>\n",
       "      <th>20</th>\n",
       "      <th></th>\n",
       "    </tr>\n",
       "    <tr>\n",
       "      <th>delta_ytm</th>\n",
       "      <th></th>\n",
       "      <th></th>\n",
       "      <th></th>\n",
       "      <th></th>\n",
       "      <th></th>\n",
       "    </tr>\n",
       "  </thead>\n",
       "  <tbody>\n",
       "    <tr>\n",
       "      <th>-0.0200</th>\n",
       "      <td>0.1529</td>\n",
       "      <td>0.2283</td>\n",
       "      <td>0.1393</td>\n",
       "      <td>0.1953</td>\n",
       "      <td>0.0800</td>\n",
       "    </tr>\n",
       "    <tr>\n",
       "      <th>-0.0150</th>\n",
       "      <td>0.1120</td>\n",
       "      <td>0.1645</td>\n",
       "      <td>0.1045</td>\n",
       "      <td>0.1465</td>\n",
       "      <td>0.0850</td>\n",
       "    </tr>\n",
       "    <tr>\n",
       "      <th>-0.0100</th>\n",
       "      <td>0.0729</td>\n",
       "      <td>0.1054</td>\n",
       "      <td>0.0696</td>\n",
       "      <td>0.0976</td>\n",
       "      <td>0.0900</td>\n",
       "    </tr>\n",
       "    <tr>\n",
       "      <th>-0.0050</th>\n",
       "      <td>0.0356</td>\n",
       "      <td>0.0507</td>\n",
       "      <td>0.0348</td>\n",
       "      <td>0.0488</td>\n",
       "      <td>0.0950</td>\n",
       "    </tr>\n",
       "    <tr>\n",
       "      <th>0.0000</th>\n",
       "      <td>0.0000</td>\n",
       "      <td>0.0000</td>\n",
       "      <td>-0.0000</td>\n",
       "      <td>-0.0000</td>\n",
       "      <td>0.1000</td>\n",
       "    </tr>\n",
       "    <tr>\n",
       "      <th>0.0050</th>\n",
       "      <td>-0.0340</td>\n",
       "      <td>-0.0470</td>\n",
       "      <td>-0.0348</td>\n",
       "      <td>-0.0488</td>\n",
       "      <td>0.1050</td>\n",
       "    </tr>\n",
       "    <tr>\n",
       "      <th>0.0100</th>\n",
       "      <td>-0.0666</td>\n",
       "      <td>-0.0908</td>\n",
       "      <td>-0.0696</td>\n",
       "      <td>-0.0976</td>\n",
       "      <td>0.1100</td>\n",
       "    </tr>\n",
       "    <tr>\n",
       "      <th>0.0150</th>\n",
       "      <td>-0.0977</td>\n",
       "      <td>-0.1314</td>\n",
       "      <td>-0.1045</td>\n",
       "      <td>-0.1465</td>\n",
       "      <td>0.1150</td>\n",
       "    </tr>\n",
       "    <tr>\n",
       "      <th>0.0200</th>\n",
       "      <td>-0.1274</td>\n",
       "      <td>-0.1692</td>\n",
       "      <td>-0.1393</td>\n",
       "      <td>-0.1953</td>\n",
       "      <td>0.1200</td>\n",
       "    </tr>\n",
       "  </tbody>\n",
       "</table>\n",
       "</div>"
      ],
      "text/plain": [
       "          actual_pct_chg         approx_pct_chg         new_ytm\n",
       "                      10      20             10      20        \n",
       "delta_ytm                                                      \n",
       "-0.0200           0.1529  0.2283         0.1393  0.1953  0.0800\n",
       "-0.0150           0.1120  0.1645         0.1045  0.1465  0.0850\n",
       "-0.0100           0.0729  0.1054         0.0696  0.0976  0.0900\n",
       "-0.0050           0.0356  0.0507         0.0348  0.0488  0.0950\n",
       "0.0000            0.0000  0.0000        -0.0000 -0.0000  0.1000\n",
       "0.0050           -0.0340 -0.0470        -0.0348 -0.0488  0.1050\n",
       "0.0100           -0.0666 -0.0908        -0.0696 -0.0976  0.1100\n",
       "0.0150           -0.0977 -0.1314        -0.1045 -0.1465  0.1150\n",
       "0.0200           -0.1274 -0.1692        -0.1393 -0.1953  0.1200"
      ]
     },
     "execution_count": 6,
     "metadata": {},
     "output_type": "execute_result"
    }
   ],
   "source": [
    "CR  = 0.05          # annual coupon rate\n",
    "YTM = 0.10          # annual yield to maturity\n",
    "NOP = 1             # payments per year\n",
    "PRINCIPAL = 100     # face value of the bond\n",
    "TTM_LIST  = [10, 20]\n",
    "DELTA_YIELDS    = np.arange(-0.02,0.025,0.005)\n",
    "column_index = pd.MultiIndex.from_product([['actual_pct_chg','approx_pct_chg'],TTM_LIST])\n",
    "df = pd.DataFrame(dtype=float,columns=column_index,index=DELTA_YIELDS)\n",
    "df.index.name='delta_ytm'\n",
    "\n",
    "df['new_ytm'] = YTM + df.index\n",
    "for dy in df.index:\n",
    "    for ttm in TTM_LIST:\n",
    "        df.loc[dy,('actual_pct_chg',ttm)] = actual_pct_chg(CR,YTM,NOP,ttm,PRINCIPAL,dy)\n",
    "        df.loc[dy,('approx_pct_chg',ttm)] = implied_pct_chg(CR,YTM,NOP,ttm,PRINCIPAL,dy)\n",
    "pd.options.display.float_format = '{:,.4f}'.format        \n",
    "df"
   ]
  },
  {
   "cell_type": "markdown",
   "metadata": {},
   "source": [
    "## Convexity"
   ]
  },
  {
   "cell_type": "code",
   "execution_count": 7,
   "metadata": {},
   "outputs": [],
   "source": [
    "def convexity(cr,ytm,nop,ttm, principal):\n",
    "    ''' \n",
    "    Inputs:\n",
    "        cr:             coupon rate (per year, in decimal)\n",
    "        ytm:            yield-to-maturity (per year, in decimal)\n",
    "        nop:            number of payments per year\n",
    "        ttm:            time-to-maturity (in periods)\n",
    "        principal:      face value\n",
    "    Outputs:\n",
    "        convexity:      convexity of the bond\n",
    "    '''\n",
    "    dr = ytm/nop\n",
    "    c = cr/nop*principal\n",
    "    p = -npf.pv(dr,ttm,c,principal)\n",
    "    # Write out CFs and discount\n",
    "    cfs = c*np.ones(ttm)\n",
    "    cfs[-1] = cfs[-1]+principal\n",
    "    pvs = cfs/(1+dr)**(1+np.arange(ttm))\n",
    "    # Calculate weights\n",
    "    wgts = pvs / np.sum(pvs)\n",
    "    t_terms = (1+np.arange(ttm)) * (2+np.arange(ttm)) / nop**2\n",
    "    # Calculate duration\n",
    "    convexity = t_terms @ wgts / (1+dr)**2\n",
    "    return convexity"
   ]
  },
  {
   "cell_type": "code",
   "execution_count": 8,
   "metadata": {},
   "outputs": [
    {
     "data": {
      "text/plain": [
       "63.39892288902894"
      ]
     },
     "execution_count": 8,
     "metadata": {},
     "output_type": "execute_result"
    }
   ],
   "source": [
    "TTM_PERIODS = TTM_LIST[0]\n",
    "convexity(CR,YTM,NOP,TTM_PERIODS,PRINCIPAL)"
   ]
  },
  {
   "cell_type": "code",
   "execution_count": 9,
   "metadata": {},
   "outputs": [
    {
     "data": {
      "text/plain": [
       "6.9644205086450865"
      ]
     },
     "execution_count": 9,
     "metadata": {},
     "output_type": "execute_result"
    }
   ],
   "source": [
    "mduration(CR,YTM,NOP,TTM_PERIODS,PRINCIPAL)   "
   ]
  },
  {
   "cell_type": "markdown",
   "metadata": {},
   "source": [
    "### Approximate price change with convexity\n",
    "\n",
    "For a change in yield $y$, the percent change in price is:\n",
    "$$\\frac{\\Delta P}{P} \\approx -D_{\\text{modified}} \\cdot \\Delta y + 0.5\\cdot\\text{convexity}\\cdot (\\Delta y)^2.$$"
   ]
  },
  {
   "cell_type": "code",
   "execution_count": 11,
   "metadata": {},
   "outputs": [],
   "source": [
    "def implied_pct_chg2(cr,ytm,nop,ttm, principal, delta_ytm):\n",
    "    dmod = mduration(cr,ytm,nop,ttm, principal)\n",
    "    convx= convexity(cr,ytm,nop,ttm, principal)\n",
    "    return -dmod * delta_ytm + 0.5*convx*delta_ytm**2"
   ]
  },
  {
   "cell_type": "code",
   "execution_count": 12,
   "metadata": {},
   "outputs": [
    {
     "data": {
      "text/plain": [
       "0.0639678749012571"
      ]
     },
     "execution_count": 12,
     "metadata": {},
     "output_type": "execute_result"
    }
   ],
   "source": [
    "implied_pct_chg(0.06,0.05,1,5,100,-0.015)"
   ]
  },
  {
   "cell_type": "code",
   "execution_count": 13,
   "metadata": {},
   "outputs": [
    {
     "data": {
      "text/plain": [
       "0.06669403978717336"
      ]
     },
     "execution_count": 13,
     "metadata": {},
     "output_type": "execute_result"
    }
   ],
   "source": [
    "actual_pct_chg(0.06,0.05,1,5,100,-0.015)"
   ]
  },
  {
   "cell_type": "code",
   "execution_count": 14,
   "metadata": {},
   "outputs": [
    {
     "data": {
      "text/plain": [
       "0.06660533509198213"
      ]
     },
     "execution_count": 14,
     "metadata": {},
     "output_type": "execute_result"
    }
   ],
   "source": [
    "implied_pct_chg2(0.06,0.05,1,5,100,-0.015)"
   ]
  },
  {
   "cell_type": "markdown",
   "metadata": {},
   "source": [
    "### Testing the second-order approximation"
   ]
  },
  {
   "cell_type": "code",
   "execution_count": 15,
   "metadata": {},
   "outputs": [],
   "source": [
    "# Initialize new columns\n",
    "for ttm in TTM_LIST:\n",
    "    df[('approx2_pct_chg',ttm)] = np.nan\n",
    "for dy in df.index:\n",
    "    for ttm in TTM_LIST:\n",
    "        df.loc[dy,('approx2_pct_chg',ttm)] = implied_pct_chg2(CR,YTM,NOP,ttm,PRINCIPAL,dy)\n"
   ]
  },
  {
   "cell_type": "code",
   "execution_count": 16,
   "metadata": {},
   "outputs": [
    {
     "data": {
      "text/html": [
       "<div>\n",
       "<style scoped>\n",
       "    .dataframe tbody tr th:only-of-type {\n",
       "        vertical-align: middle;\n",
       "    }\n",
       "\n",
       "    .dataframe tbody tr th {\n",
       "        vertical-align: top;\n",
       "    }\n",
       "\n",
       "    .dataframe thead tr th {\n",
       "        text-align: left;\n",
       "    }\n",
       "\n",
       "    .dataframe thead tr:last-of-type th {\n",
       "        text-align: right;\n",
       "    }\n",
       "</style>\n",
       "<table border=\"1\" class=\"dataframe\">\n",
       "  <thead>\n",
       "    <tr>\n",
       "      <th></th>\n",
       "      <th colspan=\"2\" halign=\"left\">actual_pct_chg</th>\n",
       "      <th colspan=\"2\" halign=\"left\">approx_pct_chg</th>\n",
       "      <th>new_ytm</th>\n",
       "      <th colspan=\"2\" halign=\"left\">approx2_pct_chg</th>\n",
       "    </tr>\n",
       "    <tr>\n",
       "      <th></th>\n",
       "      <th>10</th>\n",
       "      <th>20</th>\n",
       "      <th>10</th>\n",
       "      <th>20</th>\n",
       "      <th></th>\n",
       "      <th>10</th>\n",
       "      <th>20</th>\n",
       "    </tr>\n",
       "    <tr>\n",
       "      <th>delta_ytm</th>\n",
       "      <th></th>\n",
       "      <th></th>\n",
       "      <th></th>\n",
       "      <th></th>\n",
       "      <th></th>\n",
       "      <th></th>\n",
       "      <th></th>\n",
       "    </tr>\n",
       "  </thead>\n",
       "  <tbody>\n",
       "    <tr>\n",
       "      <th>-0.0200</th>\n",
       "      <td>0.1529</td>\n",
       "      <td>0.2283</td>\n",
       "      <td>0.1393</td>\n",
       "      <td>0.1953</td>\n",
       "      <td>0.0800</td>\n",
       "      <td>0.1520</td>\n",
       "      <td>0.2245</td>\n",
       "    </tr>\n",
       "    <tr>\n",
       "      <th>-0.0150</th>\n",
       "      <td>0.1120</td>\n",
       "      <td>0.1645</td>\n",
       "      <td>0.1045</td>\n",
       "      <td>0.1465</td>\n",
       "      <td>0.0850</td>\n",
       "      <td>0.1116</td>\n",
       "      <td>0.1629</td>\n",
       "    </tr>\n",
       "    <tr>\n",
       "      <th>-0.0100</th>\n",
       "      <td>0.0729</td>\n",
       "      <td>0.1054</td>\n",
       "      <td>0.0696</td>\n",
       "      <td>0.0976</td>\n",
       "      <td>0.0900</td>\n",
       "      <td>0.0728</td>\n",
       "      <td>0.1050</td>\n",
       "    </tr>\n",
       "    <tr>\n",
       "      <th>-0.0050</th>\n",
       "      <td>0.0356</td>\n",
       "      <td>0.0507</td>\n",
       "      <td>0.0348</td>\n",
       "      <td>0.0488</td>\n",
       "      <td>0.0950</td>\n",
       "      <td>0.0356</td>\n",
       "      <td>0.0506</td>\n",
       "    </tr>\n",
       "    <tr>\n",
       "      <th>0.0000</th>\n",
       "      <td>0.0000</td>\n",
       "      <td>0.0000</td>\n",
       "      <td>-0.0000</td>\n",
       "      <td>-0.0000</td>\n",
       "      <td>0.1000</td>\n",
       "      <td>-0.0000</td>\n",
       "      <td>-0.0000</td>\n",
       "    </tr>\n",
       "    <tr>\n",
       "      <th>0.0050</th>\n",
       "      <td>-0.0340</td>\n",
       "      <td>-0.0470</td>\n",
       "      <td>-0.0348</td>\n",
       "      <td>-0.0488</td>\n",
       "      <td>0.1050</td>\n",
       "      <td>-0.0340</td>\n",
       "      <td>-0.0470</td>\n",
       "    </tr>\n",
       "    <tr>\n",
       "      <th>0.0100</th>\n",
       "      <td>-0.0666</td>\n",
       "      <td>-0.0908</td>\n",
       "      <td>-0.0696</td>\n",
       "      <td>-0.0976</td>\n",
       "      <td>0.1100</td>\n",
       "      <td>-0.0665</td>\n",
       "      <td>-0.0903</td>\n",
       "    </tr>\n",
       "    <tr>\n",
       "      <th>0.0150</th>\n",
       "      <td>-0.0977</td>\n",
       "      <td>-0.1314</td>\n",
       "      <td>-0.1045</td>\n",
       "      <td>-0.1465</td>\n",
       "      <td>0.1150</td>\n",
       "      <td>-0.0973</td>\n",
       "      <td>-0.1300</td>\n",
       "    </tr>\n",
       "    <tr>\n",
       "      <th>0.0200</th>\n",
       "      <td>-0.1274</td>\n",
       "      <td>-0.1692</td>\n",
       "      <td>-0.1393</td>\n",
       "      <td>-0.1953</td>\n",
       "      <td>0.1200</td>\n",
       "      <td>-0.1266</td>\n",
       "      <td>-0.1661</td>\n",
       "    </tr>\n",
       "  </tbody>\n",
       "</table>\n",
       "</div>"
      ],
      "text/plain": [
       "          actual_pct_chg         approx_pct_chg         new_ytm  \\\n",
       "                      10      20             10      20           \n",
       "delta_ytm                                                         \n",
       "-0.0200           0.1529  0.2283         0.1393  0.1953  0.0800   \n",
       "-0.0150           0.1120  0.1645         0.1045  0.1465  0.0850   \n",
       "-0.0100           0.0729  0.1054         0.0696  0.0976  0.0900   \n",
       "-0.0050           0.0356  0.0507         0.0348  0.0488  0.0950   \n",
       "0.0000            0.0000  0.0000        -0.0000 -0.0000  0.1000   \n",
       "0.0050           -0.0340 -0.0470        -0.0348 -0.0488  0.1050   \n",
       "0.0100           -0.0666 -0.0908        -0.0696 -0.0976  0.1100   \n",
       "0.0150           -0.0977 -0.1314        -0.1045 -0.1465  0.1150   \n",
       "0.0200           -0.1274 -0.1692        -0.1393 -0.1953  0.1200   \n",
       "\n",
       "          approx2_pct_chg          \n",
       "                       10      20  \n",
       "delta_ytm                          \n",
       "-0.0200            0.1520  0.2245  \n",
       "-0.0150            0.1116  0.1629  \n",
       "-0.0100            0.0728  0.1050  \n",
       "-0.0050            0.0356  0.0506  \n",
       "0.0000            -0.0000 -0.0000  \n",
       "0.0050            -0.0340 -0.0470  \n",
       "0.0100            -0.0665 -0.0903  \n",
       "0.0150            -0.0973 -0.1300  \n",
       "0.0200            -0.1266 -0.1661  "
      ]
     },
     "execution_count": 16,
     "metadata": {},
     "output_type": "execute_result"
    }
   ],
   "source": [
    "df"
   ]
  },
  {
   "cell_type": "code",
   "execution_count": 18,
   "metadata": {},
   "outputs": [
    {
     "data": {
      "application/vnd.plotly.v1+json": {
       "config": {
        "plotlyServerURL": "https://plot.ly"
       },
       "data": [
        {
         "mode": "lines",
         "name": "20 years to maturity: Actual % Change",
         "type": "scatter",
         "x": [
          -0.02,
          -0.015,
          -0.009999999999999998,
          -0.0049999999999999975,
          3.469446951953614e-18,
          0.0050000000000000044,
          0.010000000000000005,
          0.015000000000000003,
          0.020000000000000007
         ],
         "y": [
          0.22832802196451674,
          0.16447469418267735,
          0.10540494501088005,
          0.05070500548568613,
          0,
          -0.04704993539829683,
          -0.09075312791965306,
          -0.13138948063926947,
          -0.16921326222333055
         ]
        },
        {
         "mode": "lines",
         "name": "20 years to maturity: 1st order Approx % Change",
         "type": "scatter",
         "x": [
          -0.02,
          -0.015,
          -0.009999999999999998,
          -0.0049999999999999975,
          3.469446951953614e-18,
          0.0050000000000000044,
          0.010000000000000005,
          0.015000000000000003,
          0.020000000000000007
         ],
         "y": [
          0.1952942560204338,
          0.14647069201532534,
          0.09764712801021688,
          0.04882356400510842,
          -3.387815306420714e-17,
          -0.04882356400510849,
          -0.09764712801021695,
          -0.14647069201532537,
          -0.19529425602043385
         ]
        },
        {
         "mode": "lines",
         "name": "20 years to maturity: 2nd order Approx % Change",
         "type": "scatter",
         "x": [
          -0.02,
          -0.015,
          -0.009999999999999998,
          -0.0049999999999999975,
          3.469446951953614e-18,
          0.0050000000000000044,
          0.010000000000000005,
          0.015000000000000003,
          0.020000000000000007
         ],
         "y": [
          0.22451382435815503,
          0.16290669920529355,
          0.10495202009464719,
          0.050649787026215996,
          -3.387815306420714e-17,
          -0.04699734098400091,
          -0.09034223592578663,
          -0.13003468482535716,
          -0.16607468768271258
         ]
        }
       ],
       "layout": {
        "legend": {
         "x": 0.6,
         "xanchor": "left",
         "y": 0.99,
         "yanchor": "top"
        },
        "template": {
         "data": {
          "bar": [
           {
            "error_x": {
             "color": "#2a3f5f"
            },
            "error_y": {
             "color": "#2a3f5f"
            },
            "marker": {
             "line": {
              "color": "#E5ECF6",
              "width": 0.5
             },
             "pattern": {
              "fillmode": "overlay",
              "size": 10,
              "solidity": 0.2
             }
            },
            "type": "bar"
           }
          ],
          "barpolar": [
           {
            "marker": {
             "line": {
              "color": "#E5ECF6",
              "width": 0.5
             },
             "pattern": {
              "fillmode": "overlay",
              "size": 10,
              "solidity": 0.2
             }
            },
            "type": "barpolar"
           }
          ],
          "carpet": [
           {
            "aaxis": {
             "endlinecolor": "#2a3f5f",
             "gridcolor": "white",
             "linecolor": "white",
             "minorgridcolor": "white",
             "startlinecolor": "#2a3f5f"
            },
            "baxis": {
             "endlinecolor": "#2a3f5f",
             "gridcolor": "white",
             "linecolor": "white",
             "minorgridcolor": "white",
             "startlinecolor": "#2a3f5f"
            },
            "type": "carpet"
           }
          ],
          "choropleth": [
           {
            "colorbar": {
             "outlinewidth": 0,
             "ticks": ""
            },
            "type": "choropleth"
           }
          ],
          "contour": [
           {
            "colorbar": {
             "outlinewidth": 0,
             "ticks": ""
            },
            "colorscale": [
             [
              0,
              "#0d0887"
             ],
             [
              0.1111111111111111,
              "#46039f"
             ],
             [
              0.2222222222222222,
              "#7201a8"
             ],
             [
              0.3333333333333333,
              "#9c179e"
             ],
             [
              0.4444444444444444,
              "#bd3786"
             ],
             [
              0.5555555555555556,
              "#d8576b"
             ],
             [
              0.6666666666666666,
              "#ed7953"
             ],
             [
              0.7777777777777778,
              "#fb9f3a"
             ],
             [
              0.8888888888888888,
              "#fdca26"
             ],
             [
              1,
              "#f0f921"
             ]
            ],
            "type": "contour"
           }
          ],
          "contourcarpet": [
           {
            "colorbar": {
             "outlinewidth": 0,
             "ticks": ""
            },
            "type": "contourcarpet"
           }
          ],
          "heatmap": [
           {
            "colorbar": {
             "outlinewidth": 0,
             "ticks": ""
            },
            "colorscale": [
             [
              0,
              "#0d0887"
             ],
             [
              0.1111111111111111,
              "#46039f"
             ],
             [
              0.2222222222222222,
              "#7201a8"
             ],
             [
              0.3333333333333333,
              "#9c179e"
             ],
             [
              0.4444444444444444,
              "#bd3786"
             ],
             [
              0.5555555555555556,
              "#d8576b"
             ],
             [
              0.6666666666666666,
              "#ed7953"
             ],
             [
              0.7777777777777778,
              "#fb9f3a"
             ],
             [
              0.8888888888888888,
              "#fdca26"
             ],
             [
              1,
              "#f0f921"
             ]
            ],
            "type": "heatmap"
           }
          ],
          "heatmapgl": [
           {
            "colorbar": {
             "outlinewidth": 0,
             "ticks": ""
            },
            "colorscale": [
             [
              0,
              "#0d0887"
             ],
             [
              0.1111111111111111,
              "#46039f"
             ],
             [
              0.2222222222222222,
              "#7201a8"
             ],
             [
              0.3333333333333333,
              "#9c179e"
             ],
             [
              0.4444444444444444,
              "#bd3786"
             ],
             [
              0.5555555555555556,
              "#d8576b"
             ],
             [
              0.6666666666666666,
              "#ed7953"
             ],
             [
              0.7777777777777778,
              "#fb9f3a"
             ],
             [
              0.8888888888888888,
              "#fdca26"
             ],
             [
              1,
              "#f0f921"
             ]
            ],
            "type": "heatmapgl"
           }
          ],
          "histogram": [
           {
            "marker": {
             "pattern": {
              "fillmode": "overlay",
              "size": 10,
              "solidity": 0.2
             }
            },
            "type": "histogram"
           }
          ],
          "histogram2d": [
           {
            "colorbar": {
             "outlinewidth": 0,
             "ticks": ""
            },
            "colorscale": [
             [
              0,
              "#0d0887"
             ],
             [
              0.1111111111111111,
              "#46039f"
             ],
             [
              0.2222222222222222,
              "#7201a8"
             ],
             [
              0.3333333333333333,
              "#9c179e"
             ],
             [
              0.4444444444444444,
              "#bd3786"
             ],
             [
              0.5555555555555556,
              "#d8576b"
             ],
             [
              0.6666666666666666,
              "#ed7953"
             ],
             [
              0.7777777777777778,
              "#fb9f3a"
             ],
             [
              0.8888888888888888,
              "#fdca26"
             ],
             [
              1,
              "#f0f921"
             ]
            ],
            "type": "histogram2d"
           }
          ],
          "histogram2dcontour": [
           {
            "colorbar": {
             "outlinewidth": 0,
             "ticks": ""
            },
            "colorscale": [
             [
              0,
              "#0d0887"
             ],
             [
              0.1111111111111111,
              "#46039f"
             ],
             [
              0.2222222222222222,
              "#7201a8"
             ],
             [
              0.3333333333333333,
              "#9c179e"
             ],
             [
              0.4444444444444444,
              "#bd3786"
             ],
             [
              0.5555555555555556,
              "#d8576b"
             ],
             [
              0.6666666666666666,
              "#ed7953"
             ],
             [
              0.7777777777777778,
              "#fb9f3a"
             ],
             [
              0.8888888888888888,
              "#fdca26"
             ],
             [
              1,
              "#f0f921"
             ]
            ],
            "type": "histogram2dcontour"
           }
          ],
          "mesh3d": [
           {
            "colorbar": {
             "outlinewidth": 0,
             "ticks": ""
            },
            "type": "mesh3d"
           }
          ],
          "parcoords": [
           {
            "line": {
             "colorbar": {
              "outlinewidth": 0,
              "ticks": ""
             }
            },
            "type": "parcoords"
           }
          ],
          "pie": [
           {
            "automargin": true,
            "type": "pie"
           }
          ],
          "scatter": [
           {
            "fillpattern": {
             "fillmode": "overlay",
             "size": 10,
             "solidity": 0.2
            },
            "type": "scatter"
           }
          ],
          "scatter3d": [
           {
            "line": {
             "colorbar": {
              "outlinewidth": 0,
              "ticks": ""
             }
            },
            "marker": {
             "colorbar": {
              "outlinewidth": 0,
              "ticks": ""
             }
            },
            "type": "scatter3d"
           }
          ],
          "scattercarpet": [
           {
            "marker": {
             "colorbar": {
              "outlinewidth": 0,
              "ticks": ""
             }
            },
            "type": "scattercarpet"
           }
          ],
          "scattergeo": [
           {
            "marker": {
             "colorbar": {
              "outlinewidth": 0,
              "ticks": ""
             }
            },
            "type": "scattergeo"
           }
          ],
          "scattergl": [
           {
            "marker": {
             "colorbar": {
              "outlinewidth": 0,
              "ticks": ""
             }
            },
            "type": "scattergl"
           }
          ],
          "scattermapbox": [
           {
            "marker": {
             "colorbar": {
              "outlinewidth": 0,
              "ticks": ""
             }
            },
            "type": "scattermapbox"
           }
          ],
          "scatterpolar": [
           {
            "marker": {
             "colorbar": {
              "outlinewidth": 0,
              "ticks": ""
             }
            },
            "type": "scatterpolar"
           }
          ],
          "scatterpolargl": [
           {
            "marker": {
             "colorbar": {
              "outlinewidth": 0,
              "ticks": ""
             }
            },
            "type": "scatterpolargl"
           }
          ],
          "scatterternary": [
           {
            "marker": {
             "colorbar": {
              "outlinewidth": 0,
              "ticks": ""
             }
            },
            "type": "scatterternary"
           }
          ],
          "surface": [
           {
            "colorbar": {
             "outlinewidth": 0,
             "ticks": ""
            },
            "colorscale": [
             [
              0,
              "#0d0887"
             ],
             [
              0.1111111111111111,
              "#46039f"
             ],
             [
              0.2222222222222222,
              "#7201a8"
             ],
             [
              0.3333333333333333,
              "#9c179e"
             ],
             [
              0.4444444444444444,
              "#bd3786"
             ],
             [
              0.5555555555555556,
              "#d8576b"
             ],
             [
              0.6666666666666666,
              "#ed7953"
             ],
             [
              0.7777777777777778,
              "#fb9f3a"
             ],
             [
              0.8888888888888888,
              "#fdca26"
             ],
             [
              1,
              "#f0f921"
             ]
            ],
            "type": "surface"
           }
          ],
          "table": [
           {
            "cells": {
             "fill": {
              "color": "#EBF0F8"
             },
             "line": {
              "color": "white"
             }
            },
            "header": {
             "fill": {
              "color": "#C8D4E3"
             },
             "line": {
              "color": "white"
             }
            },
            "type": "table"
           }
          ]
         },
         "layout": {
          "annotationdefaults": {
           "arrowcolor": "#2a3f5f",
           "arrowhead": 0,
           "arrowwidth": 1
          },
          "autotypenumbers": "strict",
          "coloraxis": {
           "colorbar": {
            "outlinewidth": 0,
            "ticks": ""
           }
          },
          "colorscale": {
           "diverging": [
            [
             0,
             "#8e0152"
            ],
            [
             0.1,
             "#c51b7d"
            ],
            [
             0.2,
             "#de77ae"
            ],
            [
             0.3,
             "#f1b6da"
            ],
            [
             0.4,
             "#fde0ef"
            ],
            [
             0.5,
             "#f7f7f7"
            ],
            [
             0.6,
             "#e6f5d0"
            ],
            [
             0.7,
             "#b8e186"
            ],
            [
             0.8,
             "#7fbc41"
            ],
            [
             0.9,
             "#4d9221"
            ],
            [
             1,
             "#276419"
            ]
           ],
           "sequential": [
            [
             0,
             "#0d0887"
            ],
            [
             0.1111111111111111,
             "#46039f"
            ],
            [
             0.2222222222222222,
             "#7201a8"
            ],
            [
             0.3333333333333333,
             "#9c179e"
            ],
            [
             0.4444444444444444,
             "#bd3786"
            ],
            [
             0.5555555555555556,
             "#d8576b"
            ],
            [
             0.6666666666666666,
             "#ed7953"
            ],
            [
             0.7777777777777778,
             "#fb9f3a"
            ],
            [
             0.8888888888888888,
             "#fdca26"
            ],
            [
             1,
             "#f0f921"
            ]
           ],
           "sequentialminus": [
            [
             0,
             "#0d0887"
            ],
            [
             0.1111111111111111,
             "#46039f"
            ],
            [
             0.2222222222222222,
             "#7201a8"
            ],
            [
             0.3333333333333333,
             "#9c179e"
            ],
            [
             0.4444444444444444,
             "#bd3786"
            ],
            [
             0.5555555555555556,
             "#d8576b"
            ],
            [
             0.6666666666666666,
             "#ed7953"
            ],
            [
             0.7777777777777778,
             "#fb9f3a"
            ],
            [
             0.8888888888888888,
             "#fdca26"
            ],
            [
             1,
             "#f0f921"
            ]
           ]
          },
          "colorway": [
           "#636efa",
           "#EF553B",
           "#00cc96",
           "#ab63fa",
           "#FFA15A",
           "#19d3f3",
           "#FF6692",
           "#B6E880",
           "#FF97FF",
           "#FECB52"
          ],
          "font": {
           "color": "#2a3f5f"
          },
          "geo": {
           "bgcolor": "white",
           "lakecolor": "white",
           "landcolor": "#E5ECF6",
           "showlakes": true,
           "showland": true,
           "subunitcolor": "white"
          },
          "hoverlabel": {
           "align": "left"
          },
          "hovermode": "closest",
          "mapbox": {
           "style": "light"
          },
          "paper_bgcolor": "white",
          "plot_bgcolor": "#E5ECF6",
          "polar": {
           "angularaxis": {
            "gridcolor": "white",
            "linecolor": "white",
            "ticks": ""
           },
           "bgcolor": "#E5ECF6",
           "radialaxis": {
            "gridcolor": "white",
            "linecolor": "white",
            "ticks": ""
           }
          },
          "scene": {
           "xaxis": {
            "backgroundcolor": "#E5ECF6",
            "gridcolor": "white",
            "gridwidth": 2,
            "linecolor": "white",
            "showbackground": true,
            "ticks": "",
            "zerolinecolor": "white"
           },
           "yaxis": {
            "backgroundcolor": "#E5ECF6",
            "gridcolor": "white",
            "gridwidth": 2,
            "linecolor": "white",
            "showbackground": true,
            "ticks": "",
            "zerolinecolor": "white"
           },
           "zaxis": {
            "backgroundcolor": "#E5ECF6",
            "gridcolor": "white",
            "gridwidth": 2,
            "linecolor": "white",
            "showbackground": true,
            "ticks": "",
            "zerolinecolor": "white"
           }
          },
          "shapedefaults": {
           "line": {
            "color": "#2a3f5f"
           }
          },
          "ternary": {
           "aaxis": {
            "gridcolor": "white",
            "linecolor": "white",
            "ticks": ""
           },
           "baxis": {
            "gridcolor": "white",
            "linecolor": "white",
            "ticks": ""
           },
           "bgcolor": "#E5ECF6",
           "caxis": {
            "gridcolor": "white",
            "linecolor": "white",
            "ticks": ""
           }
          },
          "title": {
           "x": 0.05
          },
          "xaxis": {
           "automargin": true,
           "gridcolor": "white",
           "linecolor": "white",
           "ticks": "",
           "title": {
            "standoff": 15
           },
           "zerolinecolor": "white",
           "zerolinewidth": 2
          },
          "yaxis": {
           "automargin": true,
           "gridcolor": "white",
           "linecolor": "white",
           "ticks": "",
           "title": {
            "standoff": 15
           },
           "zerolinecolor": "white",
           "zerolinewidth": 2
          }
         }
        },
        "title": {
         "text": "Interest Rate Risk"
        },
        "xaxis": {
         "tickformat": ".2%",
         "title": {
          "text": "Change in Yield"
         }
        },
        "yaxis": {
         "tickformat": ".2%",
         "title": {
          "text": "% Change in Price"
         }
        }
       }
      }
     },
     "metadata": {},
     "output_type": "display_data"
    }
   ],
   "source": [
    "# Plot the data\n",
    "ttm = TTM_LIST[1]\n",
    "\n",
    "fig = go.Figure()\n",
    "ttm_years = int(ttm/NOP)\n",
    "trace_act=go.Scatter(x=df.index, y=df[('actual_pct_chg',ttm)], mode='lines', name=str(ttm_years)+' years to maturity: Actual % Change')\n",
    "trace_approx=go.Scatter(x=df.index, y=df[('approx_pct_chg',ttm)], mode='lines', name=str(ttm_years)+' years to maturity: 1st order Approx % Change')\n",
    "trace_approx2=go.Scatter(x=df.index, y=df[('approx2_pct_chg',ttm)], mode='lines', name=str(ttm_years)+' years to maturity: 2nd order Approx % Change')\n",
    "fig.add_trace(trace_act)\n",
    "fig.add_trace(trace_approx)\n",
    "fig.add_trace(trace_approx2)\n",
    "\n",
    "fig.update_xaxes(title='Change in Yield',tickformat=\".2%\")\n",
    "fig.update_yaxes(title='% Change in Price',tickformat=\".2%\")\n",
    "fig.update_layout(title='Interest Rate Risk')\n",
    "fig.update_layout(legend=dict(yanchor=\"top\", y =0.99, xanchor=\"left\", x=0.6))\n",
    "fig.show()"
   ]
  },
  {
   "cell_type": "markdown",
   "metadata": {},
   "source": [
    "### Estimating Duration and Convexity\n"
   ]
  },
  {
   "cell_type": "code",
   "execution_count": 47,
   "metadata": {},
   "outputs": [],
   "source": [
    "# Assume we observe prices at increments of DY (in yield difference)\n",
    "DY = 0.0005\n",
    "\n",
    "p0 = bondpv(CR,YTM,NOP,TTM_PERIODS,PRINCIPAL)\n",
    "pplus  = bondpv(CR,YTM+DY,NOP,TTM_PERIODS,PRINCIPAL)\n",
    "pminus = bondpv(CR,YTM-DY,NOP,TTM_PERIODS,PRINCIPAL)\n"
   ]
  },
  {
   "cell_type": "code",
   "execution_count": 36,
   "metadata": {},
   "outputs": [],
   "source": [
    "def est_mduration(dy, p0, pplus, pminus):\n",
    "    return (pminus - pplus)/ (p0*2*dy)\n",
    "def est_convexity(dy, p0, pplus, pminus):\n",
    "    return (pplus + pminus - 2*p0)/ (p0*(dy**2))\n"
   ]
  },
  {
   "cell_type": "code",
   "execution_count": 48,
   "metadata": {},
   "outputs": [
    {
     "name": "stdout",
     "output_type": "stream",
     "text": [
      "Actual modified duration is:\t 6.9644\n",
      "Estimated modified duration is:\t 6.9644\n"
     ]
    }
   ],
   "source": [
    "print(f'Actual modified duration is:\\t {mduration(CR,YTM,NOP,TTM_PERIODS,PRINCIPAL):,.4f}')\n",
    "print(f'Estimated modified duration is:\\t {est_mduration(DY, p0, pplus, pminus):,.4f}')"
   ]
  },
  {
   "cell_type": "code",
   "execution_count": 49,
   "metadata": {},
   "outputs": [
    {
     "name": "stdout",
     "output_type": "stream",
     "text": [
      "Actual convexity is:\t 63.3989\n",
      "Estimated convexity is:\t 63.3991\n"
     ]
    }
   ],
   "source": [
    "print(f'Actual convexity is:\\t {convexity(CR,YTM,NOP,TTM_PERIODS,PRINCIPAL):,.4f}')\n",
    "print(f'Estimated convexity is:\\t {est_convexity(DY, p0, pplus, pminus):,.4f}')\n"
   ]
  }
 ],
 "metadata": {
  "kernelspec": {
   "display_name": "Python 3.10.6 ('venv': venv)",
   "language": "python",
   "name": "python3"
  },
  "language_info": {
   "codemirror_mode": {
    "name": "ipython",
    "version": 3
   },
   "file_extension": ".py",
   "mimetype": "text/x-python",
   "name": "python",
   "nbconvert_exporter": "python",
   "pygments_lexer": "ipython3",
   "version": "3.10.6"
  },
  "orig_nbformat": 4,
  "vscode": {
   "interpreter": {
    "hash": "cc788b38d8cb434c82f45ef9d481d0310e17b79321e4c8cbfbfe90f656a3f023"
   }
  }
 },
 "nbformat": 4,
 "nbformat_minor": 2
}
