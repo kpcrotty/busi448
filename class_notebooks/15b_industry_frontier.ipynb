{
 "cells": [
  {
   "attachments": {},
   "cell_type": "markdown",
   "metadata": {},
   "source": [
    "# Optimal portfolios: 48 industry portfolios"
   ]
  },
  {
   "cell_type": "code",
   "execution_count": 1,
   "metadata": {},
   "outputs": [],
   "source": [
    "import numpy as np\n",
    "import pandas as pd\n",
    "from pandas_datareader import DataReader as pdr\n",
    "import plotly.graph_objects as go\n",
    "from scipy.optimize import minimize\n",
    "from cvxopt import matrix\n",
    "from cvxopt.solvers import qp as Solver, options as SolverOptions"
   ]
  },
  {
   "attachments": {},
   "cell_type": "markdown",
   "metadata": {},
   "source": [
    "### Inputs"
   ]
  },
  {
   "cell_type": "code",
   "execution_count": 2,
   "metadata": {},
   "outputs": [],
   "source": [
    "##### Inputs\n",
    "\n",
    "# Read data and clean-up missing data (coded -99.99)\n",
    "ff48 = pdr(\"48_Industry_Portfolios\", \"famafrench\", start=1900)[0]\n",
    "\n",
    "# Clean-up missings\n",
    "for c in ff48.columns:\n",
    "    ff48[c] = np.where(ff48[c]==-99.99, np.nan, ff48[c])\n",
    "ff48 = ff48/100\n",
    "\n",
    "ff48 = ff48.loc['1970-01':].copy()  # There is missing data prior to 1970\n",
    "\n",
    "# Estimate inputs from historical data\n",
    "MNS = ff48.mean().values\n",
    "SDS = ff48.std()\n",
    "C   = ff48.corr()\n",
    "COV = np.diag(SDS) @ C @ np.diag(SDS)\n",
    "COV = COV.to_numpy()"
   ]
  },
  {
   "cell_type": "code",
   "execution_count": 3,
   "metadata": {},
   "outputs": [
    {
     "data": {
      "text/html": [
       "<div>\n",
       "<style scoped>\n",
       "    .dataframe tbody tr th:only-of-type {\n",
       "        vertical-align: middle;\n",
       "    }\n",
       "\n",
       "    .dataframe tbody tr th {\n",
       "        vertical-align: top;\n",
       "    }\n",
       "\n",
       "    .dataframe thead th {\n",
       "        text-align: right;\n",
       "    }\n",
       "</style>\n",
       "<table border=\"1\" class=\"dataframe\">\n",
       "  <thead>\n",
       "    <tr style=\"text-align: right;\">\n",
       "      <th></th>\n",
       "      <th>Agric</th>\n",
       "      <th>Food</th>\n",
       "      <th>Soda</th>\n",
       "      <th>Beer</th>\n",
       "      <th>Smoke</th>\n",
       "      <th>Toys</th>\n",
       "      <th>Fun</th>\n",
       "      <th>Books</th>\n",
       "      <th>Hshld</th>\n",
       "      <th>Clths</th>\n",
       "      <th>...</th>\n",
       "      <th>Boxes</th>\n",
       "      <th>Trans</th>\n",
       "      <th>Whlsl</th>\n",
       "      <th>Rtail</th>\n",
       "      <th>Meals</th>\n",
       "      <th>Banks</th>\n",
       "      <th>Insur</th>\n",
       "      <th>RlEst</th>\n",
       "      <th>Fin</th>\n",
       "      <th>Other</th>\n",
       "    </tr>\n",
       "    <tr>\n",
       "      <th>Date</th>\n",
       "      <th></th>\n",
       "      <th></th>\n",
       "      <th></th>\n",
       "      <th></th>\n",
       "      <th></th>\n",
       "      <th></th>\n",
       "      <th></th>\n",
       "      <th></th>\n",
       "      <th></th>\n",
       "      <th></th>\n",
       "      <th></th>\n",
       "      <th></th>\n",
       "      <th></th>\n",
       "      <th></th>\n",
       "      <th></th>\n",
       "      <th></th>\n",
       "      <th></th>\n",
       "      <th></th>\n",
       "      <th></th>\n",
       "      <th></th>\n",
       "      <th></th>\n",
       "    </tr>\n",
       "  </thead>\n",
       "  <tbody>\n",
       "    <tr>\n",
       "      <th>1970-01</th>\n",
       "      <td>0.0083</td>\n",
       "      <td>-0.0281</td>\n",
       "      <td>-0.0276</td>\n",
       "      <td>-0.0135</td>\n",
       "      <td>-0.0699</td>\n",
       "      <td>-0.0795</td>\n",
       "      <td>-0.0574</td>\n",
       "      <td>-0.1139</td>\n",
       "      <td>-0.0690</td>\n",
       "      <td>-0.0509</td>\n",
       "      <td>...</td>\n",
       "      <td>-0.0849</td>\n",
       "      <td>-0.0762</td>\n",
       "      <td>-0.0768</td>\n",
       "      <td>-0.0573</td>\n",
       "      <td>-0.1186</td>\n",
       "      <td>-0.0753</td>\n",
       "      <td>-0.0888</td>\n",
       "      <td>-0.1094</td>\n",
       "      <td>-0.1082</td>\n",
       "      <td>-0.0359</td>\n",
       "    </tr>\n",
       "    <tr>\n",
       "      <th>1970-02</th>\n",
       "      <td>0.0948</td>\n",
       "      <td>0.0596</td>\n",
       "      <td>0.0386</td>\n",
       "      <td>0.0687</td>\n",
       "      <td>0.0028</td>\n",
       "      <td>0.0612</td>\n",
       "      <td>0.0822</td>\n",
       "      <td>0.0068</td>\n",
       "      <td>0.0028</td>\n",
       "      <td>0.0322</td>\n",
       "      <td>...</td>\n",
       "      <td>0.0637</td>\n",
       "      <td>0.1048</td>\n",
       "      <td>0.0181</td>\n",
       "      <td>0.0579</td>\n",
       "      <td>0.0543</td>\n",
       "      <td>0.1554</td>\n",
       "      <td>0.1035</td>\n",
       "      <td>0.0024</td>\n",
       "      <td>0.0918</td>\n",
       "      <td>-0.0481</td>\n",
       "    </tr>\n",
       "    <tr>\n",
       "      <th>1970-03</th>\n",
       "      <td>-0.1328</td>\n",
       "      <td>-0.0061</td>\n",
       "      <td>-0.0108</td>\n",
       "      <td>-0.0060</td>\n",
       "      <td>0.0142</td>\n",
       "      <td>-0.0280</td>\n",
       "      <td>-0.0252</td>\n",
       "      <td>-0.0289</td>\n",
       "      <td>-0.0096</td>\n",
       "      <td>-0.0109</td>\n",
       "      <td>...</td>\n",
       "      <td>-0.0237</td>\n",
       "      <td>-0.0334</td>\n",
       "      <td>-0.0528</td>\n",
       "      <td>-0.0098</td>\n",
       "      <td>-0.0752</td>\n",
       "      <td>-0.0120</td>\n",
       "      <td>-0.0025</td>\n",
       "      <td>-0.0095</td>\n",
       "      <td>-0.0059</td>\n",
       "      <td>0.0014</td>\n",
       "    </tr>\n",
       "    <tr>\n",
       "      <th>1970-04</th>\n",
       "      <td>-0.1764</td>\n",
       "      <td>-0.1057</td>\n",
       "      <td>-0.0867</td>\n",
       "      <td>-0.0941</td>\n",
       "      <td>-0.0282</td>\n",
       "      <td>-0.1990</td>\n",
       "      <td>-0.2182</td>\n",
       "      <td>-0.1517</td>\n",
       "      <td>-0.0792</td>\n",
       "      <td>-0.1435</td>\n",
       "      <td>...</td>\n",
       "      <td>-0.1069</td>\n",
       "      <td>-0.1196</td>\n",
       "      <td>-0.2056</td>\n",
       "      <td>-0.1013</td>\n",
       "      <td>-0.1827</td>\n",
       "      <td>-0.1090</td>\n",
       "      <td>-0.1527</td>\n",
       "      <td>-0.1870</td>\n",
       "      <td>-0.1258</td>\n",
       "      <td>-0.2720</td>\n",
       "    </tr>\n",
       "    <tr>\n",
       "      <th>1970-05</th>\n",
       "      <td>-0.1092</td>\n",
       "      <td>-0.0866</td>\n",
       "      <td>-0.0365</td>\n",
       "      <td>-0.0610</td>\n",
       "      <td>0.0354</td>\n",
       "      <td>-0.0774</td>\n",
       "      <td>-0.1315</td>\n",
       "      <td>-0.1755</td>\n",
       "      <td>-0.0824</td>\n",
       "      <td>-0.1019</td>\n",
       "      <td>...</td>\n",
       "      <td>-0.1025</td>\n",
       "      <td>-0.0706</td>\n",
       "      <td>-0.1159</td>\n",
       "      <td>-0.0949</td>\n",
       "      <td>-0.1219</td>\n",
       "      <td>-0.0649</td>\n",
       "      <td>-0.0872</td>\n",
       "      <td>-0.1503</td>\n",
       "      <td>-0.0945</td>\n",
       "      <td>-0.0655</td>\n",
       "    </tr>\n",
       "  </tbody>\n",
       "</table>\n",
       "<p>5 rows × 48 columns</p>\n",
       "</div>"
      ],
      "text/plain": [
       "          Agric   Food    Soda    Beer    Smoke   Toys    Fun     Books  \\\n",
       "Date                                                                      \n",
       "1970-01  0.0083 -0.0281 -0.0276 -0.0135 -0.0699 -0.0795 -0.0574 -0.1139   \n",
       "1970-02  0.0948  0.0596  0.0386  0.0687  0.0028  0.0612  0.0822  0.0068   \n",
       "1970-03 -0.1328 -0.0061 -0.0108 -0.0060  0.0142 -0.0280 -0.0252 -0.0289   \n",
       "1970-04 -0.1764 -0.1057 -0.0867 -0.0941 -0.0282 -0.1990 -0.2182 -0.1517   \n",
       "1970-05 -0.1092 -0.0866 -0.0365 -0.0610  0.0354 -0.0774 -0.1315 -0.1755   \n",
       "\n",
       "          Hshld   Clths  ...   Boxes   Trans   Whlsl   Rtail   Meals   Banks  \\\n",
       "Date                     ...                                                   \n",
       "1970-01 -0.0690 -0.0509  ... -0.0849 -0.0762 -0.0768 -0.0573 -0.1186 -0.0753   \n",
       "1970-02  0.0028  0.0322  ...  0.0637  0.1048  0.0181  0.0579  0.0543  0.1554   \n",
       "1970-03 -0.0096 -0.0109  ... -0.0237 -0.0334 -0.0528 -0.0098 -0.0752 -0.0120   \n",
       "1970-04 -0.0792 -0.1435  ... -0.1069 -0.1196 -0.2056 -0.1013 -0.1827 -0.1090   \n",
       "1970-05 -0.0824 -0.1019  ... -0.1025 -0.0706 -0.1159 -0.0949 -0.1219 -0.0649   \n",
       "\n",
       "          Insur   RlEst   Fin     Other  \n",
       "Date                                     \n",
       "1970-01 -0.0888 -0.1094 -0.1082 -0.0359  \n",
       "1970-02  0.1035  0.0024  0.0918 -0.0481  \n",
       "1970-03 -0.0025 -0.0095 -0.0059  0.0014  \n",
       "1970-04 -0.1527 -0.1870 -0.1258 -0.2720  \n",
       "1970-05 -0.0872 -0.1503 -0.0945 -0.0655  \n",
       "\n",
       "[5 rows x 48 columns]"
      ]
     },
     "execution_count": 3,
     "metadata": {},
     "output_type": "execute_result"
    }
   ],
   "source": [
    "ff48.head(5)"
   ]
  },
  {
   "attachments": {},
   "cell_type": "markdown",
   "metadata": {},
   "source": [
    "## Efficient Frontier"
   ]
  },
  {
   "cell_type": "code",
   "execution_count": 4,
   "metadata": {},
   "outputs": [],
   "source": [
    "def frontier(means, cov, target, Shorts):\n",
    "    n = len(means)\n",
    "    Q = matrix(cov, tc=\"d\")\n",
    "    p = matrix(np.zeros(n), (n, 1), tc=\"d\")\n",
    "    if Shorts==1:\n",
    "        # Constraint: short-sales allowed\n",
    "        G = matrix(np.zeros((n,n)), tc=\"d\")\n",
    "    else:\n",
    "        # Constraint: short-sales not allowed\n",
    "        G = matrix(-np.identity(n), tc=\"d\")\n",
    "    h = matrix(np.zeros(n), (n, 1), tc=\"d\")        \n",
    "    # Fully-invested constraint + E[r] = target\n",
    "    A = matrix(np.vstack((np.ones(n), means)), (2, n), tc=\"d\")\n",
    "    b = matrix([1, target], (2, 1), tc=\"d\")\n",
    "    sol = Solver(Q, p, G, h, A, b)\n",
    "    wgts = np.array(sol[\"x\"]).flatten() if sol[\"status\"] == \"optimal\" else np.array(n * [np.nan])\n",
    "    return wgts\n",
    "SolverOptions['show_progress'] = False"
   ]
  },
  {
   "cell_type": "code",
   "execution_count": 5,
   "metadata": {},
   "outputs": [
    {
     "data": {
      "text/plain": [
       "array([ 0.096,  0.089, -0.012,  0.022,  0.013, -0.043, -0.028, -0.027,\n",
       "        0.225,  0.04 , -0.051,  0.083,  0.091, -0.109,  0.093,  0.024,\n",
       "       -0.192, -0.088, -0.071,  0.052,  0.025, -0.043,  0.025, -0.05 ,\n",
       "       -0.023,  0.091,  0.041,  0.049, -0.02 ,  0.088,  0.36 ,  0.202,\n",
       "       -0.032, -0.062,  0.093, -0.018, -0.063,  0.105,  0.014,  0.104,\n",
       "        0.04 ,  0.106, -0.056, -0.075, -0.019, -0.008,  0.026, -0.106])"
      ]
     },
     "execution_count": 5,
     "metadata": {},
     "output_type": "execute_result"
    }
   ],
   "source": [
    "frontier(MNS, COV, 0.01, 1).round(3)"
   ]
  },
  {
   "cell_type": "code",
   "execution_count": 6,
   "metadata": {},
   "outputs": [
    {
     "data": {
      "text/plain": [
       "array([0.02 , 0.128, 0.   , 0.029, 0.054, 0.   , 0.   , 0.   , 0.046,\n",
       "       0.   , 0.   , 0.   , 0.118, 0.   , 0.   , 0.   , 0.   , 0.   ,\n",
       "       0.   , 0.   , 0.   , 0.   , 0.   , 0.   , 0.   , 0.052, 0.042,\n",
       "       0.   , 0.   , 0.001, 0.372, 0.137, 0.   , 0.   , 0.   , 0.   ,\n",
       "       0.   , 0.   , 0.   , 0.   , 0.   , 0.   , 0.   , 0.   , 0.   ,\n",
       "       0.   , 0.   , 0.   ])"
      ]
     },
     "execution_count": 6,
     "metadata": {},
     "output_type": "execute_result"
    }
   ],
   "source": [
    "frontier(MNS, COV, 0.01, 0).round(3)"
   ]
  },
  {
   "attachments": {},
   "cell_type": "markdown",
   "metadata": {},
   "source": [
    "Frontier with short-selling"
   ]
  },
  {
   "cell_type": "code",
   "execution_count": 7,
   "metadata": {},
   "outputs": [],
   "source": [
    "frontier_ss  = [frontier(MNS, COV, m, 1) for m in np.linspace(0.9*MNS.min(), 1.1*MNS.max(),50)]\n",
    "expret_ss = [wgt @ MNS for wgt in frontier_ss]\n",
    "sd_ss = [np.sqrt(wgt @ COV @ wgt) for wgt in frontier_ss]"
   ]
  },
  {
   "attachments": {},
   "cell_type": "markdown",
   "metadata": {},
   "source": [
    "Frontier without short-selling"
   ]
  },
  {
   "cell_type": "code",
   "execution_count": 8,
   "metadata": {},
   "outputs": [],
   "source": [
    "frontier_noss  = [frontier(MNS, COV, m, 0) for m in np.linspace(MNS.min(), MNS.max(),50)]\n",
    "expret_noss = [wgt @ MNS for wgt in frontier_noss]\n",
    "sd_noss = [np.sqrt(wgt @ COV @ wgt) for wgt in frontier_noss]"
   ]
  },
  {
   "attachments": {},
   "cell_type": "markdown",
   "metadata": {},
   "source": [
    "Frontier without short-selling and with maximum position sizes"
   ]
  },
  {
   "cell_type": "code",
   "execution_count": 9,
   "metadata": {},
   "outputs": [],
   "source": [
    "def constrained_frontier(means, cov, target, max_position):\n",
    "    n = len(means)\n",
    "    Q = matrix(cov, tc=\"d\")\n",
    "    p = matrix(np.zeros(n), (n, 1), tc=\"d\")\n",
    "    # Constraint: short-sales not allowed and maximum position limits\n",
    "    G = matrix(np.vstack((-np.identity(n), np.identity(n))), tc=\"d\")\n",
    "    h = matrix(np.append(np.zeros(n), max_position*np.ones(n)), (2*n, 1), tc=\"d\")        \n",
    "    # Fully-invested constraint + E[r] = target\n",
    "    A = matrix(np.vstack((np.ones(n), means)), (2, n), tc=\"d\")\n",
    "    b = matrix([1, target], (2, 1), tc=\"d\")\n",
    "    sol = Solver(Q, p, G, h, A, b)\n",
    "    wgts = np.array(sol[\"x\"]).flatten() if sol[\"status\"] == \"optimal\" else np.array(n * [np.nan])\n",
    "    return wgts\n",
    "SolverOptions['show_progress'] = False"
   ]
  },
  {
   "cell_type": "code",
   "execution_count": 10,
   "metadata": {},
   "outputs": [
    {
     "data": {
      "text/plain": [
       "array([[-1., -0., -0., -0.],\n",
       "       [-0., -1., -0., -0.],\n",
       "       [-0., -0., -1., -0.],\n",
       "       [-0., -0., -0., -1.],\n",
       "       [ 1.,  0.,  0.,  0.],\n",
       "       [ 0.,  1.,  0.,  0.],\n",
       "       [ 0.,  0.,  1.,  0.],\n",
       "       [ 0.,  0.,  0.,  1.]])"
      ]
     },
     "execution_count": 10,
     "metadata": {},
     "output_type": "execute_result"
    }
   ],
   "source": [
    "# what the new G is doing\n",
    "np.vstack((-np.identity(4), np.identity(4)))"
   ]
  },
  {
   "cell_type": "code",
   "execution_count": 11,
   "metadata": {},
   "outputs": [
    {
     "data": {
      "text/plain": [
       "array([0. , 0. , 0. , 0. , 0.5, 0.5, 0.5, 0.5])"
      ]
     },
     "execution_count": 11,
     "metadata": {},
     "output_type": "execute_result"
    }
   ],
   "source": [
    "# what the new h is doing\n",
    "np.append(np.zeros(4), 0.5*np.ones(4))"
   ]
  },
  {
   "cell_type": "code",
   "execution_count": 12,
   "metadata": {},
   "outputs": [],
   "source": [
    "# The constrained frontier\n",
    "frontier_maxlim  = [constrained_frontier(MNS, COV, m, 0.1) for m in np.linspace(MNS.min(), MNS.max(),50)]\n",
    "expret_maxlim = [wgt @ MNS for wgt in frontier_maxlim]\n",
    "sd_maxlim = [np.sqrt(wgt @ COV @ wgt) for wgt in frontier_maxlim]"
   ]
  },
  {
   "cell_type": "markdown",
   "metadata": {},
   "source": [
    "## Global minimum variance"
   ]
  },
  {
   "cell_type": "code",
   "execution_count": 13,
   "metadata": {},
   "outputs": [],
   "source": [
    "def gmv(means, cov, Shorts):\n",
    "    n = len(means)\n",
    "    Q = matrix(cov, tc=\"d\")\n",
    "    p = matrix(np.zeros(n), (n, 1), tc=\"d\")\n",
    "    if Shorts==1:\n",
    "        # Constraint: short-sales allowed\n",
    "        G = matrix(np.zeros((n,n)), tc=\"d\")\n",
    "    else:\n",
    "        # Constraint: short-sales not allowed\n",
    "        G = matrix(-np.identity(n), tc=\"d\")\n",
    "    h = matrix(np.zeros(n), (n, 1), tc=\"d\")\n",
    "    # Constraint: fully-invested portfolio\n",
    "    A = matrix(np.ones(n), (1, n), tc=\"d\")\n",
    "    b = matrix([1], (1, 1), tc=\"d\")\n",
    "    sol = Solver(Q, p, G, h, A, b)\n",
    "    wgts = np.array(sol[\"x\"]).flatten() if sol[\"status\"] == \"optimal\" else np.array(n * [np.nan])\n",
    "    return wgts"
   ]
  },
  {
   "attachments": {},
   "cell_type": "markdown",
   "metadata": {},
   "source": [
    "GMV with shorting"
   ]
  },
  {
   "cell_type": "code",
   "execution_count": 14,
   "metadata": {},
   "outputs": [
    {
     "name": "stdout",
     "output_type": "stream",
     "text": [
      "GMV weights\t\t [ 0.1    0.086 -0.014  0.009 -0.008 -0.019 -0.039 -0.025  0.257  0.03\n",
      " -0.053  0.078  0.09  -0.11   0.072  0.019 -0.199 -0.088 -0.056  0.057\n",
      "  0.026 -0.054  0.021 -0.061 -0.02   0.072  0.041  0.042 -0.019  0.081\n",
      "  0.371  0.22  -0.004 -0.087  0.113 -0.031 -0.072  0.116  0.025  0.095\n",
      "  0.046  0.116 -0.064 -0.069 -0.034  0.018  0.006 -0.078]\n",
      "GMV Expected Return:\t  0.0091\n",
      "GMV Standard Deviation:\t  0.0317\n"
     ]
    }
   ],
   "source": [
    "wgts_gmv = gmv(MNS, COV, 1)\n",
    "print(f'GMV weights\\t\\t {wgts_gmv.round(3)}')\n",
    "\n",
    "# Portfolio expected return\n",
    "gmv_expret = wgts_gmv @ MNS\n",
    "print(f'GMV Expected Return:\\t {gmv_expret: ,.4f}')\n",
    "\n",
    "# Portfolio standard deviation\n",
    "gmv_sd = np.sqrt(wgts_gmv @ COV @ wgts_gmv)\n",
    "print(f'GMV Standard Deviation:\\t {gmv_sd: ,.4f}')"
   ]
  },
  {
   "attachments": {},
   "cell_type": "markdown",
   "metadata": {},
   "source": [
    "GMV without shorting"
   ]
  },
  {
   "cell_type": "code",
   "execution_count": 15,
   "metadata": {},
   "outputs": [
    {
     "name": "stdout",
     "output_type": "stream",
     "text": [
      "GMV w/o shorting weights\t\t [0.025 0.114 0.    0.    0.006 0.    0.    0.    0.143 0.    0.    0.\n",
      " 0.088 0.    0.    0.    0.    0.    0.    0.    0.    0.    0.    0.\n",
      " 0.    0.006 0.048 0.    0.    0.    0.411 0.159 0.    0.    0.    0.\n",
      " 0.    0.    0.    0.    0.    0.    0.    0.    0.    0.    0.    0.   ]\n",
      "GMV w/o shorting Expected Return:\t  0.0094\n",
      "GMV w/o shorting Standard Deviation:\t  0.0357\n"
     ]
    }
   ],
   "source": [
    "wgts_gmv_ssc = gmv(MNS, COV, 0)\n",
    "print(f'GMV w/o shorting weights\\t\\t {wgts_gmv_ssc.round(3)}')\n",
    "\n",
    "# Portfolio expected return\n",
    "gmv_ssc_expret = wgts_gmv_ssc @ MNS\n",
    "print(f'GMV w/o shorting Expected Return:\\t {gmv_ssc_expret: ,.4f}')\n",
    "\n",
    "# Portfolio standard deviation\n",
    "gmv_ssc_sd = np.sqrt(wgts_gmv_ssc @ COV @ wgts_gmv_ssc)\n",
    "print(f'GMV w/o shorting Standard Deviation:\\t {gmv_ssc_sd: ,.4f}')"
   ]
  },
  {
   "attachments": {},
   "cell_type": "markdown",
   "metadata": {},
   "source": [
    "GMV without short-selling and with maximum position sizes"
   ]
  },
  {
   "cell_type": "code",
   "execution_count": 16,
   "metadata": {},
   "outputs": [],
   "source": [
    "def constrained_gmv(means, cov, max_position):\n",
    "    n = len(means)\n",
    "    Q = matrix(cov, tc=\"d\")\n",
    "    p = matrix(np.zeros(n), (n, 1), tc=\"d\")\n",
    "    # Constraint: short-sales not allowed and maximum position limits\n",
    "    G = matrix(np.vstack((-np.identity(n), np.identity(n))), tc=\"d\")\n",
    "    h = matrix(np.append(np.zeros(n), max_position*np.ones(n)), (2*n, 1), tc=\"d\")   \n",
    "    # Constraint: fully-invested portfolio\n",
    "    A = matrix(np.ones(n), (1, n), tc=\"d\")\n",
    "    b = matrix([1], (1, 1), tc=\"d\")\n",
    "    sol = Solver(Q, p, G, h, A, b)\n",
    "    wgts = np.array(sol[\"x\"]).flatten() if sol[\"status\"] == \"optimal\" else np.array(n * [np.nan])\n",
    "    return wgts    "
   ]
  },
  {
   "cell_type": "code",
   "execution_count": 17,
   "metadata": {},
   "outputs": [
    {
     "name": "stdout",
     "output_type": "stream",
     "text": [
      "GMV w/o shorting and max position limits: Weights\t\t [0.065 0.1   0.017 0.1   0.082 0.    0.    0.    0.1   0.    0.    0.025\n",
      " 0.1   0.    0.    0.    0.    0.    0.    0.    0.    0.    0.    0.\n",
      " 0.    0.051 0.059 0.    0.    0.076 0.1   0.1   0.    0.    0.    0.\n",
      " 0.    0.    0.001 0.    0.    0.024 0.    0.    0.    0.    0.    0.   ]\n",
      "GMV w/o shorting and max position limits: Expected Return:\t  0.0105\n",
      "GMV w/o shorting and max position limits: Standard Deviation:\t  0.0380\n"
     ]
    }
   ],
   "source": [
    "wgts_gmv_maxlim = constrained_gmv(MNS, COV, 0.1)\n",
    "print(f'GMV w/o shorting and max position limits: Weights\\t\\t {wgts_gmv_maxlim.round(3)}')\n",
    "\n",
    "# Portfolio expected return\n",
    "gmv_maxlim_expret = wgts_gmv_maxlim @ MNS\n",
    "print(f'GMV w/o shorting and max position limits: Expected Return:\\t {gmv_maxlim_expret: ,.4f}')\n",
    "\n",
    "# Portfolio standard deviation\n",
    "gmv_maxlim_sd = np.sqrt(wgts_gmv_maxlim @ COV @ wgts_gmv_maxlim)\n",
    "print(f'GMV w/o shorting and max position limits: Standard Deviation:\\t {gmv_maxlim_sd: ,.4f}')"
   ]
  },
  {
   "attachments": {},
   "cell_type": "markdown",
   "metadata": {},
   "source": [
    "### The full picture"
   ]
  },
  {
   "cell_type": "code",
   "execution_count": 18,
   "metadata": {},
   "outputs": [
    {
     "data": {
      "application/vnd.plotly.v1+json": {
       "config": {
        "plotlyServerURL": "https://plot.ly"
       },
       "data": [
        {
         "marker": {
          "color": "black"
         },
         "mode": "lines",
         "name": "Frontier with shorting",
         "type": "scatter",
         "x": [
          0.0345581412714968,
          0.034294071898681486,
          0.03404132488458625,
          0.03380015422536972,
          0.033570809413453494,
          0.03335353439959349,
          0.03314856652210057,
          0.032956135411334214,
          0.032776461878687844,
          0.032609756800300906,
          0.032456220006637775,
          0.032316039189829386,
          0.032189388841242596,
          0.032076429232095784,
          0.03197730545004372,
          0.03189214650449158,
          0.03182106451294995,
          0.031764153980005545,
          0.031721491179458945,
          0.031693133648888254,
          0.031679119804358606,
          0.03167946868125045,
          0.03169417980526649,
          0.031723233195650256,
          0.031766589500565864,
          0.031824190262505166,
          0.03189595830956653,
          0.03198179826654365,
          0.03208159717802394,
          0.03219522523416948,
          0.032322536588572745,
          0.032463370256570014,
          0.03261755108167223,
          0.03278489075733898,
          0.03296518889117146,
          0.03315823409871808,
          0.03336380511444964,
          0.033581671908041934,
          0.03381159679486581,
          0.034053335530496845,
          0.034306638380077824,
          0.03457125115446457,
          0.03484691620622288,
          0.035133373379691024,
          0.03543036091045157,
          0.03573761627064316,
          0.036054876957568906,
          0.03638188122400955,
          0.03671836874951356,
          0.03706408125270855
         ],
         "y": [
          0.004848820754716982,
          0.005057052689000126,
          0.005265284623283274,
          0.005473516557566424,
          0.005681748491849567,
          0.005889980426132718,
          0.006098212360415865,
          0.006306444294699013,
          0.006514676228982158,
          0.006722908163265307,
          0.006931140097548452,
          0.0071393720318316,
          0.007347603966114748,
          0.007555835900397893,
          0.0077640678346810425,
          0.007972299768964188,
          0.008180531703247335,
          0.008388763637530487,
          0.00859699557181363,
          0.00880522750609678,
          0.00901345944037993,
          0.009221691374663072,
          0.009429923308946224,
          0.00963815524322937,
          0.009846387177512518,
          0.01005461911179566,
          0.010262851046078814,
          0.010471082980361958,
          0.010679314914645107,
          0.010887546848928252,
          0.011095778783211399,
          0.011304010717494544,
          0.011512242651777693,
          0.011720474586060844,
          0.011928706520343986,
          0.012136938454627136,
          0.012345170388910287,
          0.012553402323193429,
          0.012761634257476574,
          0.012969866191759726,
          0.013178098126042877,
          0.013386330060326017,
          0.013594561994609164,
          0.013802793928892313,
          0.014011025863175462,
          0.014219257797458609,
          0.014427489731741752,
          0.014635721666024906,
          0.01484395360030805,
          0.015052185534591195
         ]
        },
        {
         "marker": {
          "color": "black",
          "size": 10
         },
         "mode": "markers",
         "name": "GMV with shorting",
         "type": "scatter",
         "x": [
          0.031677494237865984
         ],
         "y": [
          0.009112518425396428
         ]
        },
        {
         "marker": {
          "color": "blue"
         },
         "mode": "lines",
         "name": "Frontier without shorting",
         "type": "scatter",
         "x": [
          0.06783716529021766,
          0.06351297911119334,
          0.061221446106880836,
          0.05928721194521922,
          0.057404907465647255,
          0.05558406376454622,
          0.05382749112269264,
          0.05213622586571194,
          0.05050096311288434,
          0.04892198520381746,
          0.04740173424089015,
          0.045940926819835894,
          0.04454556357963053,
          0.04322429544893962,
          0.04198064630343723,
          0.04082401219108687,
          0.0397602479515103,
          0.03879942418610311,
          0.0379474667774158,
          0.03721244094596269,
          0.03660198445482337,
          0.03612298081212594,
          0.035841711915169286,
          0.03570545377702307,
          0.035689244289416555,
          0.03572754667750782,
          0.03581052484059275,
          0.035935580935303156,
          0.0361016327053988,
          0.036308829064513146,
          0.036572013578509144,
          0.036898690876865564,
          0.037289118010979644,
          0.03774132655910133,
          0.03825185489047345,
          0.038821562301058446,
          0.039444350386697524,
          0.040122022496762916,
          0.04085782164041013,
          0.04165300258674973,
          0.04250129866231787,
          0.043402042426951525,
          0.04435044355759509,
          0.045351614518949805,
          0.04644507556469004,
          0.04765050565570134,
          0.04896026861938741,
          0.050392931131754914,
          0.05207099693477271,
          0.06237185416445042
         ],
         "y": [
          0.005387578616352202,
          0.0055568893595173904,
          0.005726200102682582,
          0.005895510845847772,
          0.006064821589012963,
          0.006234132332178155,
          0.0064034430753433435,
          0.006572753818508536,
          0.006742064561673728,
          0.006911375304838917,
          0.007080686048004108,
          0.0072499967911692975,
          0.00741930753433449,
          0.007588618277499678,
          0.0077579290206648745,
          0.00792723976383006,
          0.008096550506995252,
          0.00826586125016044,
          0.008435171993325632,
          0.008604482736490823,
          0.008773793479656013,
          0.008943104222821208,
          0.009112414965986398,
          0.009281725709151586,
          0.009451036452316777,
          0.00962034719548197,
          0.00978965793864716,
          0.00995896868181235,
          0.010128279424977543,
          0.01029759016814273,
          0.01046690091130792,
          0.010636211654473112,
          0.010805522397638302,
          0.010974833140803494,
          0.011144143883968683,
          0.011313454627133873,
          0.011482765370299065,
          0.011652076113464254,
          0.011821386856629444,
          0.011990697599794636,
          0.012160008342959824,
          0.012329319086125019,
          0.01249862982929021,
          0.0126679405724554,
          0.012837251315620586,
          0.013006562058785783,
          0.013175872801950973,
          0.01334518354511616,
          0.01351449428828135,
          0.013683805031446544
         ]
        },
        {
         "marker": {
          "color": "blue",
          "size": 10
         },
         "mode": "markers",
         "name": "GMV without shorting",
         "type": "scatter",
         "x": [
          0.0356877682666103
         ],
         "y": [
          0.009405264586649656
         ]
        },
        {
         "marker": {
          "color": "purple"
         },
         "mode": "lines",
         "name": "Frontier without shorting + w/ max positions",
         "type": "scatter",
         "x": [
          null,
          null,
          null,
          null,
          null,
          null,
          null,
          null,
          null,
          null,
          null,
          null,
          null,
          null,
          0.04733405798164149,
          0.04585189505639557,
          0.04457657208489243,
          0.043467277190590466,
          0.042513153510076104,
          0.0417207652901076,
          0.04106773251070096,
          0.04054763265404291,
          0.04008091042340358,
          0.03965468498763244,
          0.03926917130565354,
          0.03892660994472751,
          0.03862404152196563,
          0.038363204186635635,
          0.03816820577672459,
          0.03804065917862226,
          0.03800046861319521,
          0.03807889102972193,
          0.03833696461116242,
          0.03882195513172663,
          0.03973445554904785,
          0.04087660077562762,
          0.042334675941173565,
          0.044008282250758105,
          0.047072783877559116,
          null,
          null,
          null,
          null,
          null,
          null,
          null,
          null,
          null,
          null,
          null
         ],
         "y": [
          null,
          null,
          null,
          null,
          null,
          null,
          null,
          null,
          null,
          null,
          null,
          null,
          null,
          null,
          0.007757929020664869,
          0.00792723976383006,
          0.008096550506995252,
          0.00826586125016044,
          0.008435171993325628,
          0.008604482736490823,
          0.008773793479656015,
          0.008943104222821206,
          0.009112414965986393,
          0.009281725709151586,
          0.009451036452316777,
          0.009620347195481969,
          0.00978965793864716,
          0.009958968681812348,
          0.01012827942497754,
          0.01029759016814273,
          0.010466900911307923,
          0.01063621165447311,
          0.010805522397638302,
          0.010974833140803494,
          0.011144143883968682,
          0.011313454627133873,
          0.011482765370299066,
          0.011652076113464256,
          0.011821386856629444,
          null,
          null,
          null,
          null,
          null,
          null,
          null,
          null,
          null,
          null,
          null
         ]
        },
        {
         "marker": {
          "color": "purple",
          "size": 10
         },
         "mode": "markers",
         "name": "GMV without shorting + w/ max positions",
         "type": "scatter",
         "x": [
          0.03800000073220521
         ],
         "y": [
          0.010450766145662971
         ]
        }
       ],
       "layout": {
        "legend": {
         "x": 0.01,
         "xanchor": "left",
         "y": 0.99,
         "yanchor": "top"
        },
        "template": {
         "data": {
          "bar": [
           {
            "error_x": {
             "color": "#2a3f5f"
            },
            "error_y": {
             "color": "#2a3f5f"
            },
            "marker": {
             "line": {
              "color": "#E5ECF6",
              "width": 0.5
             },
             "pattern": {
              "fillmode": "overlay",
              "size": 10,
              "solidity": 0.2
             }
            },
            "type": "bar"
           }
          ],
          "barpolar": [
           {
            "marker": {
             "line": {
              "color": "#E5ECF6",
              "width": 0.5
             },
             "pattern": {
              "fillmode": "overlay",
              "size": 10,
              "solidity": 0.2
             }
            },
            "type": "barpolar"
           }
          ],
          "carpet": [
           {
            "aaxis": {
             "endlinecolor": "#2a3f5f",
             "gridcolor": "white",
             "linecolor": "white",
             "minorgridcolor": "white",
             "startlinecolor": "#2a3f5f"
            },
            "baxis": {
             "endlinecolor": "#2a3f5f",
             "gridcolor": "white",
             "linecolor": "white",
             "minorgridcolor": "white",
             "startlinecolor": "#2a3f5f"
            },
            "type": "carpet"
           }
          ],
          "choropleth": [
           {
            "colorbar": {
             "outlinewidth": 0,
             "ticks": ""
            },
            "type": "choropleth"
           }
          ],
          "contour": [
           {
            "colorbar": {
             "outlinewidth": 0,
             "ticks": ""
            },
            "colorscale": [
             [
              0,
              "#0d0887"
             ],
             [
              0.1111111111111111,
              "#46039f"
             ],
             [
              0.2222222222222222,
              "#7201a8"
             ],
             [
              0.3333333333333333,
              "#9c179e"
             ],
             [
              0.4444444444444444,
              "#bd3786"
             ],
             [
              0.5555555555555556,
              "#d8576b"
             ],
             [
              0.6666666666666666,
              "#ed7953"
             ],
             [
              0.7777777777777778,
              "#fb9f3a"
             ],
             [
              0.8888888888888888,
              "#fdca26"
             ],
             [
              1,
              "#f0f921"
             ]
            ],
            "type": "contour"
           }
          ],
          "contourcarpet": [
           {
            "colorbar": {
             "outlinewidth": 0,
             "ticks": ""
            },
            "type": "contourcarpet"
           }
          ],
          "heatmap": [
           {
            "colorbar": {
             "outlinewidth": 0,
             "ticks": ""
            },
            "colorscale": [
             [
              0,
              "#0d0887"
             ],
             [
              0.1111111111111111,
              "#46039f"
             ],
             [
              0.2222222222222222,
              "#7201a8"
             ],
             [
              0.3333333333333333,
              "#9c179e"
             ],
             [
              0.4444444444444444,
              "#bd3786"
             ],
             [
              0.5555555555555556,
              "#d8576b"
             ],
             [
              0.6666666666666666,
              "#ed7953"
             ],
             [
              0.7777777777777778,
              "#fb9f3a"
             ],
             [
              0.8888888888888888,
              "#fdca26"
             ],
             [
              1,
              "#f0f921"
             ]
            ],
            "type": "heatmap"
           }
          ],
          "heatmapgl": [
           {
            "colorbar": {
             "outlinewidth": 0,
             "ticks": ""
            },
            "colorscale": [
             [
              0,
              "#0d0887"
             ],
             [
              0.1111111111111111,
              "#46039f"
             ],
             [
              0.2222222222222222,
              "#7201a8"
             ],
             [
              0.3333333333333333,
              "#9c179e"
             ],
             [
              0.4444444444444444,
              "#bd3786"
             ],
             [
              0.5555555555555556,
              "#d8576b"
             ],
             [
              0.6666666666666666,
              "#ed7953"
             ],
             [
              0.7777777777777778,
              "#fb9f3a"
             ],
             [
              0.8888888888888888,
              "#fdca26"
             ],
             [
              1,
              "#f0f921"
             ]
            ],
            "type": "heatmapgl"
           }
          ],
          "histogram": [
           {
            "marker": {
             "pattern": {
              "fillmode": "overlay",
              "size": 10,
              "solidity": 0.2
             }
            },
            "type": "histogram"
           }
          ],
          "histogram2d": [
           {
            "colorbar": {
             "outlinewidth": 0,
             "ticks": ""
            },
            "colorscale": [
             [
              0,
              "#0d0887"
             ],
             [
              0.1111111111111111,
              "#46039f"
             ],
             [
              0.2222222222222222,
              "#7201a8"
             ],
             [
              0.3333333333333333,
              "#9c179e"
             ],
             [
              0.4444444444444444,
              "#bd3786"
             ],
             [
              0.5555555555555556,
              "#d8576b"
             ],
             [
              0.6666666666666666,
              "#ed7953"
             ],
             [
              0.7777777777777778,
              "#fb9f3a"
             ],
             [
              0.8888888888888888,
              "#fdca26"
             ],
             [
              1,
              "#f0f921"
             ]
            ],
            "type": "histogram2d"
           }
          ],
          "histogram2dcontour": [
           {
            "colorbar": {
             "outlinewidth": 0,
             "ticks": ""
            },
            "colorscale": [
             [
              0,
              "#0d0887"
             ],
             [
              0.1111111111111111,
              "#46039f"
             ],
             [
              0.2222222222222222,
              "#7201a8"
             ],
             [
              0.3333333333333333,
              "#9c179e"
             ],
             [
              0.4444444444444444,
              "#bd3786"
             ],
             [
              0.5555555555555556,
              "#d8576b"
             ],
             [
              0.6666666666666666,
              "#ed7953"
             ],
             [
              0.7777777777777778,
              "#fb9f3a"
             ],
             [
              0.8888888888888888,
              "#fdca26"
             ],
             [
              1,
              "#f0f921"
             ]
            ],
            "type": "histogram2dcontour"
           }
          ],
          "mesh3d": [
           {
            "colorbar": {
             "outlinewidth": 0,
             "ticks": ""
            },
            "type": "mesh3d"
           }
          ],
          "parcoords": [
           {
            "line": {
             "colorbar": {
              "outlinewidth": 0,
              "ticks": ""
             }
            },
            "type": "parcoords"
           }
          ],
          "pie": [
           {
            "automargin": true,
            "type": "pie"
           }
          ],
          "scatter": [
           {
            "fillpattern": {
             "fillmode": "overlay",
             "size": 10,
             "solidity": 0.2
            },
            "type": "scatter"
           }
          ],
          "scatter3d": [
           {
            "line": {
             "colorbar": {
              "outlinewidth": 0,
              "ticks": ""
             }
            },
            "marker": {
             "colorbar": {
              "outlinewidth": 0,
              "ticks": ""
             }
            },
            "type": "scatter3d"
           }
          ],
          "scattercarpet": [
           {
            "marker": {
             "colorbar": {
              "outlinewidth": 0,
              "ticks": ""
             }
            },
            "type": "scattercarpet"
           }
          ],
          "scattergeo": [
           {
            "marker": {
             "colorbar": {
              "outlinewidth": 0,
              "ticks": ""
             }
            },
            "type": "scattergeo"
           }
          ],
          "scattergl": [
           {
            "marker": {
             "colorbar": {
              "outlinewidth": 0,
              "ticks": ""
             }
            },
            "type": "scattergl"
           }
          ],
          "scattermapbox": [
           {
            "marker": {
             "colorbar": {
              "outlinewidth": 0,
              "ticks": ""
             }
            },
            "type": "scattermapbox"
           }
          ],
          "scatterpolar": [
           {
            "marker": {
             "colorbar": {
              "outlinewidth": 0,
              "ticks": ""
             }
            },
            "type": "scatterpolar"
           }
          ],
          "scatterpolargl": [
           {
            "marker": {
             "colorbar": {
              "outlinewidth": 0,
              "ticks": ""
             }
            },
            "type": "scatterpolargl"
           }
          ],
          "scatterternary": [
           {
            "marker": {
             "colorbar": {
              "outlinewidth": 0,
              "ticks": ""
             }
            },
            "type": "scatterternary"
           }
          ],
          "surface": [
           {
            "colorbar": {
             "outlinewidth": 0,
             "ticks": ""
            },
            "colorscale": [
             [
              0,
              "#0d0887"
             ],
             [
              0.1111111111111111,
              "#46039f"
             ],
             [
              0.2222222222222222,
              "#7201a8"
             ],
             [
              0.3333333333333333,
              "#9c179e"
             ],
             [
              0.4444444444444444,
              "#bd3786"
             ],
             [
              0.5555555555555556,
              "#d8576b"
             ],
             [
              0.6666666666666666,
              "#ed7953"
             ],
             [
              0.7777777777777778,
              "#fb9f3a"
             ],
             [
              0.8888888888888888,
              "#fdca26"
             ],
             [
              1,
              "#f0f921"
             ]
            ],
            "type": "surface"
           }
          ],
          "table": [
           {
            "cells": {
             "fill": {
              "color": "#EBF0F8"
             },
             "line": {
              "color": "white"
             }
            },
            "header": {
             "fill": {
              "color": "#C8D4E3"
             },
             "line": {
              "color": "white"
             }
            },
            "type": "table"
           }
          ]
         },
         "layout": {
          "annotationdefaults": {
           "arrowcolor": "#2a3f5f",
           "arrowhead": 0,
           "arrowwidth": 1
          },
          "autotypenumbers": "strict",
          "coloraxis": {
           "colorbar": {
            "outlinewidth": 0,
            "ticks": ""
           }
          },
          "colorscale": {
           "diverging": [
            [
             0,
             "#8e0152"
            ],
            [
             0.1,
             "#c51b7d"
            ],
            [
             0.2,
             "#de77ae"
            ],
            [
             0.3,
             "#f1b6da"
            ],
            [
             0.4,
             "#fde0ef"
            ],
            [
             0.5,
             "#f7f7f7"
            ],
            [
             0.6,
             "#e6f5d0"
            ],
            [
             0.7,
             "#b8e186"
            ],
            [
             0.8,
             "#7fbc41"
            ],
            [
             0.9,
             "#4d9221"
            ],
            [
             1,
             "#276419"
            ]
           ],
           "sequential": [
            [
             0,
             "#0d0887"
            ],
            [
             0.1111111111111111,
             "#46039f"
            ],
            [
             0.2222222222222222,
             "#7201a8"
            ],
            [
             0.3333333333333333,
             "#9c179e"
            ],
            [
             0.4444444444444444,
             "#bd3786"
            ],
            [
             0.5555555555555556,
             "#d8576b"
            ],
            [
             0.6666666666666666,
             "#ed7953"
            ],
            [
             0.7777777777777778,
             "#fb9f3a"
            ],
            [
             0.8888888888888888,
             "#fdca26"
            ],
            [
             1,
             "#f0f921"
            ]
           ],
           "sequentialminus": [
            [
             0,
             "#0d0887"
            ],
            [
             0.1111111111111111,
             "#46039f"
            ],
            [
             0.2222222222222222,
             "#7201a8"
            ],
            [
             0.3333333333333333,
             "#9c179e"
            ],
            [
             0.4444444444444444,
             "#bd3786"
            ],
            [
             0.5555555555555556,
             "#d8576b"
            ],
            [
             0.6666666666666666,
             "#ed7953"
            ],
            [
             0.7777777777777778,
             "#fb9f3a"
            ],
            [
             0.8888888888888888,
             "#fdca26"
            ],
            [
             1,
             "#f0f921"
            ]
           ]
          },
          "colorway": [
           "#636efa",
           "#EF553B",
           "#00cc96",
           "#ab63fa",
           "#FFA15A",
           "#19d3f3",
           "#FF6692",
           "#B6E880",
           "#FF97FF",
           "#FECB52"
          ],
          "font": {
           "color": "#2a3f5f"
          },
          "geo": {
           "bgcolor": "white",
           "lakecolor": "white",
           "landcolor": "#E5ECF6",
           "showlakes": true,
           "showland": true,
           "subunitcolor": "white"
          },
          "hoverlabel": {
           "align": "left"
          },
          "hovermode": "closest",
          "mapbox": {
           "style": "light"
          },
          "paper_bgcolor": "white",
          "plot_bgcolor": "#E5ECF6",
          "polar": {
           "angularaxis": {
            "gridcolor": "white",
            "linecolor": "white",
            "ticks": ""
           },
           "bgcolor": "#E5ECF6",
           "radialaxis": {
            "gridcolor": "white",
            "linecolor": "white",
            "ticks": ""
           }
          },
          "scene": {
           "xaxis": {
            "backgroundcolor": "#E5ECF6",
            "gridcolor": "white",
            "gridwidth": 2,
            "linecolor": "white",
            "showbackground": true,
            "ticks": "",
            "zerolinecolor": "white"
           },
           "yaxis": {
            "backgroundcolor": "#E5ECF6",
            "gridcolor": "white",
            "gridwidth": 2,
            "linecolor": "white",
            "showbackground": true,
            "ticks": "",
            "zerolinecolor": "white"
           },
           "zaxis": {
            "backgroundcolor": "#E5ECF6",
            "gridcolor": "white",
            "gridwidth": 2,
            "linecolor": "white",
            "showbackground": true,
            "ticks": "",
            "zerolinecolor": "white"
           }
          },
          "shapedefaults": {
           "line": {
            "color": "#2a3f5f"
           }
          },
          "ternary": {
           "aaxis": {
            "gridcolor": "white",
            "linecolor": "white",
            "ticks": ""
           },
           "baxis": {
            "gridcolor": "white",
            "linecolor": "white",
            "ticks": ""
           },
           "bgcolor": "#E5ECF6",
           "caxis": {
            "gridcolor": "white",
            "linecolor": "white",
            "ticks": ""
           }
          },
          "title": {
           "x": 0.05
          },
          "xaxis": {
           "automargin": true,
           "gridcolor": "white",
           "linecolor": "white",
           "ticks": "",
           "title": {
            "standoff": 15
           },
           "zerolinecolor": "white",
           "zerolinewidth": 2
          },
          "yaxis": {
           "automargin": true,
           "gridcolor": "white",
           "linecolor": "white",
           "ticks": "",
           "title": {
            "standoff": 15
           },
           "zerolinecolor": "white",
           "zerolinewidth": 2
          }
         }
        },
        "xaxis": {
         "range": [
          0.012671647921743443,
          0.07462088181923943
         ],
         "tickformat": ".1%",
         "title": {
          "text": "Standard Deviation"
         }
        },
        "yaxis": {
         "range": [
          0.0033941745283018873,
          0.016557404088050315
         ],
         "tickformat": ".1%",
         "title": {
          "text": "Expected Return"
         }
        }
       }
      }
     },
     "metadata": {},
     "output_type": "display_data"
    }
   ],
   "source": [
    "fig = go.Figure()\n",
    "\n",
    "# Plot frontier with shorting\n",
    "trace= go.Scatter(x=sd_ss, y=expret_ss,mode=\"lines\", marker=dict(color=\"black\"),name='Frontier with shorting')\n",
    "fig.add_trace(trace)\n",
    "\n",
    "# Plot GMV with shorting\n",
    "trace= go.Scatter(x=[gmv_sd], y=[gmv_expret] ,\n",
    "    mode=\"markers\", marker=dict(size=10, color=\"black\"), name='GMV with shorting')\n",
    "fig.add_trace(trace)\n",
    "\n",
    "# Plot frontier without shorting\n",
    "trace= go.Scatter(x=sd_noss, y=expret_noss,mode=\"lines\",marker=dict(color=\"blue\"), name='Frontier without shorting')\n",
    "fig.add_trace(trace)\n",
    "\n",
    "# Plot GMV without shorting\n",
    "trace= go.Scatter(x=[gmv_ssc_sd], y=[gmv_ssc_expret] ,\n",
    "    mode=\"markers\", marker=dict(size=10, color=\"blue\"),name='GMV without shorting')\n",
    "fig.add_trace(trace)\n",
    "\n",
    "# Plot frontier without shorting and with max position sizes\n",
    "trace= go.Scatter(x=sd_maxlim, y=expret_maxlim,mode=\"lines\",marker=dict(color=\"purple\"), name='Frontier without shorting + w/ max positions')\n",
    "fig.add_trace(trace)\n",
    "\n",
    "# Plot GMV without shorting  and with max position sizes\n",
    "trace= go.Scatter(x=[gmv_maxlim_sd], y=[gmv_maxlim_expret] ,\n",
    "    mode=\"markers\", marker=dict(size=10, color=\"purple\"),name='GMV without shorting + w/ max positions')\n",
    "fig.add_trace(trace)\n",
    "\n",
    "# Formatting\n",
    "fig.layout.yaxis[\"title\"] = \"Expected Return\"\n",
    "fig.layout.xaxis[\"title\"] = \"Standard Deviation\"\n",
    "fig.update_yaxes(tickformat=\".1%\")\n",
    "fig.update_xaxes(tickformat=\".1%\")\n",
    "fig.update_xaxes(range=[0.4 * np.min(sd_ss), 1.1 * np.max(sd_noss)])\n",
    "fig.update_yaxes(range=[0.7 * np.min(expret_ss), 1.1 * np.max(expret_ss)])\n",
    "fig.update_layout(legend=dict(yanchor=\"top\", y=0.99, xanchor=\"left\", x=0.01))\n",
    "fig.show()"
   ]
  }
 ],
 "metadata": {
  "kernelspec": {
   "display_name": "venv",
   "language": "python",
   "name": "python3"
  },
  "language_info": {
   "codemirror_mode": {
    "name": "ipython",
    "version": 3
   },
   "file_extension": ".py",
   "mimetype": "text/x-python",
   "name": "python",
   "nbconvert_exporter": "python",
   "pygments_lexer": "ipython3",
   "version": "3.10.6"
  },
  "orig_nbformat": 4,
  "vscode": {
   "interpreter": {
    "hash": "cc788b38d8cb434c82f45ef9d481d0310e17b79321e4c8cbfbfe90f656a3f023"
   }
  }
 },
 "nbformat": 4,
 "nbformat_minor": 2
}
