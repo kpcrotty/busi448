{
 "cells": [
  {
   "cell_type": "markdown",
   "metadata": {},
   "source": [
    "# Market Model Regression"
   ]
  },
  {
   "cell_type": "code",
   "execution_count": 1,
   "metadata": {},
   "outputs": [],
   "source": [
    "import pandas as pd\n",
    "import numpy as np\n",
    "from pandas_datareader import DataReader as pdr\n",
    "import statsmodels.api as sm\n",
    "import plotly.graph_objects as go\n",
    "\n",
    "# Read industry and clean-up missing data (coded -99.99)\n",
    "ff48 = pdr(\"48_Industry_Portfolios\", \"famafrench\", start=1900)[0]\n",
    "\n",
    "# Clean-up missings\n",
    "for c in ff48.columns:\n",
    "    ff48[c] = np.where(ff48[c]==-99.99, np.nan, ff48[c])\n",
    "ff48 = ff48/100\n",
    "\n",
    "# Pull and merge market returns\n",
    "ff3 = pdr('F-F_Research_Data_Factors','famafrench', start=1900)[0]/100\n",
    "df = ff48.join(ff3[['Mkt-RF','RF']])\n",
    "df = df.loc['1970-01':].copy()  # There is missing data prior to 1970"
   ]
  },
  {
   "cell_type": "code",
   "execution_count": 2,
   "metadata": {},
   "outputs": [
    {
     "data": {
      "text/plain": [
       "Index(['Agric', 'Food ', 'Soda ', 'Beer ', 'Smoke', 'Toys ', 'Fun  ', 'Books',\n",
       "       'Hshld', 'Clths', 'Hlth ', 'MedEq', 'Drugs', 'Chems', 'Rubbr', 'Txtls',\n",
       "       'BldMt', 'Cnstr', 'Steel', 'FabPr', 'Mach ', 'ElcEq', 'Autos', 'Aero ',\n",
       "       'Ships', 'Guns ', 'Gold ', 'Mines', 'Coal ', 'Oil  ', 'Util ', 'Telcm',\n",
       "       'PerSv', 'BusSv', 'Comps', 'Chips', 'LabEq', 'Paper', 'Boxes', 'Trans',\n",
       "       'Whlsl', 'Rtail', 'Meals', 'Banks', 'Insur', 'RlEst', 'Fin  ', 'Other',\n",
       "       'Mkt-RF', 'RF'],\n",
       "      dtype='object')"
      ]
     },
     "execution_count": 2,
     "metadata": {},
     "output_type": "execute_result"
    }
   ],
   "source": [
    "df.columns"
   ]
  },
  {
   "cell_type": "code",
   "execution_count": 3,
   "metadata": {},
   "outputs": [
    {
     "name": "stdout",
     "output_type": "stream",
     "text": [
      "                            OLS Regression Results                            \n",
      "==============================================================================\n",
      "Dep. Variable:                      y   R-squared:                       0.331\n",
      "Model:                            OLS   Adj. R-squared:                  0.330\n",
      "Method:                 Least Squares   F-statistic:                     313.6\n",
      "Date:                Mon, 20 Mar 2023   Prob (F-statistic):           2.46e-57\n",
      "Time:                        21:04:26   Log-Likelihood:                 1254.6\n",
      "No. Observations:                 637   AIC:                            -2505.\n",
      "Df Residuals:                     635   BIC:                            -2496.\n",
      "Df Model:                           1                                         \n",
      "Covariance Type:            nonrobust                                         \n",
      "==============================================================================\n",
      "                 coef    std err          t      P>|t|      [0.025      0.975]\n",
      "------------------------------------------------------------------------------\n",
      "const          0.0025      0.001      1.856      0.064      -0.000       0.005\n",
      "Mkt-RF         0.5133      0.029     17.710      0.000       0.456       0.570\n",
      "==============================================================================\n",
      "Omnibus:                        8.611   Durbin-Watson:                   1.995\n",
      "Prob(Omnibus):                  0.013   Jarque-Bera (JB):               13.252\n",
      "Skew:                          -0.015   Prob(JB):                      0.00133\n",
      "Kurtosis:                       3.706   Cond. No.                         21.6\n",
      "==============================================================================\n",
      "\n",
      "Notes:\n",
      "[1] Standard Errors assume that the covariance matrix of the errors is correctly specified.\n"
     ]
    }
   ],
   "source": [
    "## Market model - Utilities\n",
    "varname = 'Util '\n",
    "y = df[varname]-df['RF']\n",
    "X = sm.add_constant(df['Mkt-RF'])\n",
    "mm = sm.OLS(y, X, missing='drop').fit()\n",
    "print(mm.summary())"
   ]
  },
  {
   "cell_type": "code",
   "execution_count": 4,
   "metadata": {},
   "outputs": [
    {
     "name": "stdout",
     "output_type": "stream",
     "text": [
      "                            OLS Regression Results                            \n",
      "==============================================================================\n",
      "Dep. Variable:                      y   R-squared:                       0.520\n",
      "Model:                            OLS   Adj. R-squared:                  0.520\n",
      "Method:                 Least Squares   F-statistic:                     689.2\n",
      "Date:                Mon, 20 Mar 2023   Prob (F-statistic):          1.99e-103\n",
      "Time:                        21:04:27   Log-Likelihood:                 940.08\n",
      "No. Observations:                 637   AIC:                            -1876.\n",
      "Df Residuals:                     635   BIC:                            -1867.\n",
      "Df Model:                           1                                         \n",
      "Covariance Type:            nonrobust                                         \n",
      "==============================================================================\n",
      "                 coef    std err          t      P>|t|      [0.025      0.975]\n",
      "------------------------------------------------------------------------------\n",
      "const         -0.0005      0.002     -0.214      0.831      -0.005       0.004\n",
      "Mkt-RF         1.2466      0.047     26.253      0.000       1.153       1.340\n",
      "==============================================================================\n",
      "Omnibus:                      193.212   Durbin-Watson:                   1.890\n",
      "Prob(Omnibus):                  0.000   Jarque-Bera (JB):             1952.737\n",
      "Skew:                           1.041   Prob(JB):                         0.00\n",
      "Kurtosis:                      11.321   Cond. No.                         21.6\n",
      "==============================================================================\n",
      "\n",
      "Notes:\n",
      "[1] Standard Errors assume that the covariance matrix of the errors is correctly specified.\n"
     ]
    }
   ],
   "source": [
    "## Market model - Autos\n",
    "varname = 'Autos'\n",
    "y = df[varname]-df['RF']\n",
    "X = sm.add_constant(df['Mkt-RF'])\n",
    "mm = sm.OLS(y, X, missing='drop').fit()\n",
    "print(mm.summary())"
   ]
  },
  {
   "attachments": {},
   "cell_type": "markdown",
   "metadata": {},
   "source": [
    "Let's define a function that calculates the alphas and betas for a given column"
   ]
  },
  {
   "cell_type": "code",
   "execution_count": 5,
   "metadata": {},
   "outputs": [
    {
     "data": {
      "text/html": [
       "<div>\n",
       "<style scoped>\n",
       "    .dataframe tbody tr th:only-of-type {\n",
       "        vertical-align: middle;\n",
       "    }\n",
       "\n",
       "    .dataframe tbody tr th {\n",
       "        vertical-align: top;\n",
       "    }\n",
       "\n",
       "    .dataframe thead th {\n",
       "        text-align: right;\n",
       "    }\n",
       "</style>\n",
       "<table border=\"1\" class=\"dataframe\">\n",
       "  <thead>\n",
       "    <tr style=\"text-align: right;\">\n",
       "      <th></th>\n",
       "      <th>alpha</th>\n",
       "      <th>beta</th>\n",
       "    </tr>\n",
       "  </thead>\n",
       "  <tbody>\n",
       "    <tr>\n",
       "      <th>Agric</th>\n",
       "      <td>0.001589</td>\n",
       "      <td>0.853298</td>\n",
       "    </tr>\n",
       "    <tr>\n",
       "      <th>Food</th>\n",
       "      <td>0.003277</td>\n",
       "      <td>0.649457</td>\n",
       "    </tr>\n",
       "    <tr>\n",
       "      <th>Soda</th>\n",
       "      <td>0.002838</td>\n",
       "      <td>0.794496</td>\n",
       "    </tr>\n",
       "    <tr>\n",
       "      <th>Beer</th>\n",
       "      <td>0.003280</td>\n",
       "      <td>0.719799</td>\n",
       "    </tr>\n",
       "    <tr>\n",
       "      <th>Smoke</th>\n",
       "      <td>0.006392</td>\n",
       "      <td>0.635200</td>\n",
       "    </tr>\n",
       "  </tbody>\n",
       "</table>\n",
       "</div>"
      ],
      "text/plain": [
       "          alpha      beta\n",
       "Agric  0.001589  0.853298\n",
       "Food   0.003277  0.649457\n",
       "Soda   0.002838  0.794496\n",
       "Beer   0.003280  0.719799\n",
       "Smoke  0.006392  0.635200"
      ]
     },
     "execution_count": 5,
     "metadata": {},
     "output_type": "execute_result"
    }
   ],
   "source": [
    "def params(varname):\n",
    "    y = df[varname]-df['RF']\n",
    "    X = sm.add_constant(df['Mkt-RF'])\n",
    "    mm = sm.OLS(y, X, missing='drop').fit()\n",
    "    return mm.params.values\n",
    "df_beta = pd.DataFrame(index=ff48.columns, columns = ['alpha','beta'],dtype=float)\n",
    "for c in ff48.columns:\n",
    "    df_beta.loc[c,:] = params(c)\n",
    "df_beta.head()"
   ]
  },
  {
   "attachments": {},
   "cell_type": "markdown",
   "metadata": {},
   "source": [
    "## Market Model and the Covariance Matrix\n",
    "\n",
    "We need estimates of the betas, the individual industry volatilities, and the market return volatility."
   ]
  },
  {
   "cell_type": "code",
   "execution_count": 6,
   "metadata": {},
   "outputs": [],
   "source": [
    "betas = df_beta.beta.values\n",
    "asset_list = df.columns[:-2]\n",
    "sds = df[asset_list].std().values\n",
    "mkt_std = df['Mkt-RF'].std()\n",
    "n = len(asset_list)"
   ]
  },
  {
   "attachments": {},
   "cell_type": "markdown",
   "metadata": {},
   "source": [
    "Calculate the covariance matrix\n",
    "1. Variances along the diagonal\n",
    "2. Covariances off the diagonal of $\\beta_j \\beta_k \\sigma_{\\text{mkt}}^2$"
   ]
  },
  {
   "cell_type": "code",
   "execution_count": 7,
   "metadata": {},
   "outputs": [
    {
     "data": {
      "text/plain": [
       "array([[0.0041656 , 0.00118615, 0.00145104, ..., 0.0022559 , 0.00223918,\n",
       "        0.0020592 ],\n",
       "       [0.00118615, 0.00201243, 0.00110441, ..., 0.001717  , 0.00170428,\n",
       "        0.00156729],\n",
       "       [0.00145104, 0.00110441, 0.00411775, ..., 0.00210045, 0.00208488,\n",
       "        0.0019173 ],\n",
       "       ...,\n",
       "       [0.0022559 , 0.001717  , 0.00210045, ..., 0.0059591 , 0.00324131,\n",
       "        0.00298078],\n",
       "       [0.00223918, 0.00170428, 0.00208488, ..., 0.00324131, 0.00402793,\n",
       "        0.00295869],\n",
       "       [0.0020592 , 0.00156729, 0.0019173 , ..., 0.00298078, 0.00295869,\n",
       "        0.00459477]])"
      ]
     },
     "execution_count": 7,
     "metadata": {},
     "output_type": "execute_result"
    }
   ],
   "source": [
    "C  = np.identity(n)\n",
    "cov = np.diag(sds) @ C @ np.diag(sds)\n",
    "for j, asset in enumerate(asset_list):\n",
    "    for k in range(j+1,n):\n",
    "        cov[j, k] = cov[k, j] = betas[j] * betas[k] * (mkt_std**2)\n",
    "cov"
   ]
  },
  {
   "cell_type": "code",
   "execution_count": 8,
   "metadata": {},
   "outputs": [
    {
     "data": {
      "text/html": [
       "<div>\n",
       "<style scoped>\n",
       "    .dataframe tbody tr th:only-of-type {\n",
       "        vertical-align: middle;\n",
       "    }\n",
       "\n",
       "    .dataframe tbody tr th {\n",
       "        vertical-align: top;\n",
       "    }\n",
       "\n",
       "    .dataframe thead th {\n",
       "        text-align: right;\n",
       "    }\n",
       "</style>\n",
       "<table border=\"1\" class=\"dataframe\">\n",
       "  <thead>\n",
       "    <tr style=\"text-align: right;\">\n",
       "      <th></th>\n",
       "      <th>Agric</th>\n",
       "      <th>Food</th>\n",
       "      <th>Soda</th>\n",
       "      <th>Beer</th>\n",
       "      <th>Smoke</th>\n",
       "      <th>Toys</th>\n",
       "      <th>Fun</th>\n",
       "      <th>Books</th>\n",
       "      <th>Hshld</th>\n",
       "      <th>Clths</th>\n",
       "    </tr>\n",
       "  </thead>\n",
       "  <tbody>\n",
       "    <tr>\n",
       "      <th>Agric</th>\n",
       "      <td>0.004166</td>\n",
       "      <td>0.001186</td>\n",
       "      <td>0.001451</td>\n",
       "      <td>0.001315</td>\n",
       "      <td>0.001160</td>\n",
       "      <td>0.002156</td>\n",
       "      <td>0.002455</td>\n",
       "      <td>0.001986</td>\n",
       "      <td>0.001405</td>\n",
       "      <td>0.002038</td>\n",
       "    </tr>\n",
       "    <tr>\n",
       "      <th>Food</th>\n",
       "      <td>0.001186</td>\n",
       "      <td>0.002012</td>\n",
       "      <td>0.001104</td>\n",
       "      <td>0.001001</td>\n",
       "      <td>0.000883</td>\n",
       "      <td>0.001641</td>\n",
       "      <td>0.001868</td>\n",
       "      <td>0.001512</td>\n",
       "      <td>0.001070</td>\n",
       "      <td>0.001551</td>\n",
       "    </tr>\n",
       "    <tr>\n",
       "      <th>Soda</th>\n",
       "      <td>0.001451</td>\n",
       "      <td>0.001104</td>\n",
       "      <td>0.004118</td>\n",
       "      <td>0.001224</td>\n",
       "      <td>0.001080</td>\n",
       "      <td>0.002007</td>\n",
       "      <td>0.002286</td>\n",
       "      <td>0.001849</td>\n",
       "      <td>0.001308</td>\n",
       "      <td>0.001898</td>\n",
       "    </tr>\n",
       "    <tr>\n",
       "      <th>Beer</th>\n",
       "      <td>0.001315</td>\n",
       "      <td>0.001001</td>\n",
       "      <td>0.001224</td>\n",
       "      <td>0.002700</td>\n",
       "      <td>0.000979</td>\n",
       "      <td>0.001819</td>\n",
       "      <td>0.002071</td>\n",
       "      <td>0.001676</td>\n",
       "      <td>0.001185</td>\n",
       "      <td>0.001719</td>\n",
       "    </tr>\n",
       "    <tr>\n",
       "      <th>Smoke</th>\n",
       "      <td>0.001160</td>\n",
       "      <td>0.000883</td>\n",
       "      <td>0.001080</td>\n",
       "      <td>0.000979</td>\n",
       "      <td>0.003884</td>\n",
       "      <td>0.001605</td>\n",
       "      <td>0.001827</td>\n",
       "      <td>0.001479</td>\n",
       "      <td>0.001046</td>\n",
       "      <td>0.001517</td>\n",
       "    </tr>\n",
       "    <tr>\n",
       "      <th>Toys</th>\n",
       "      <td>0.002156</td>\n",
       "      <td>0.001641</td>\n",
       "      <td>0.002007</td>\n",
       "      <td>0.001819</td>\n",
       "      <td>0.001605</td>\n",
       "      <td>0.005488</td>\n",
       "      <td>0.003396</td>\n",
       "      <td>0.002748</td>\n",
       "      <td>0.001944</td>\n",
       "      <td>0.002819</td>\n",
       "    </tr>\n",
       "    <tr>\n",
       "      <th>Fun</th>\n",
       "      <td>0.002455</td>\n",
       "      <td>0.001868</td>\n",
       "      <td>0.002286</td>\n",
       "      <td>0.002071</td>\n",
       "      <td>0.001827</td>\n",
       "      <td>0.003396</td>\n",
       "      <td>0.006241</td>\n",
       "      <td>0.003129</td>\n",
       "      <td>0.002213</td>\n",
       "      <td>0.003210</td>\n",
       "    </tr>\n",
       "    <tr>\n",
       "      <th>Books</th>\n",
       "      <td>0.001986</td>\n",
       "      <td>0.001512</td>\n",
       "      <td>0.001849</td>\n",
       "      <td>0.001676</td>\n",
       "      <td>0.001479</td>\n",
       "      <td>0.002748</td>\n",
       "      <td>0.003129</td>\n",
       "      <td>0.003752</td>\n",
       "      <td>0.001791</td>\n",
       "      <td>0.002597</td>\n",
       "    </tr>\n",
       "    <tr>\n",
       "      <th>Hshld</th>\n",
       "      <td>0.001405</td>\n",
       "      <td>0.001070</td>\n",
       "      <td>0.001308</td>\n",
       "      <td>0.001185</td>\n",
       "      <td>0.001046</td>\n",
       "      <td>0.001944</td>\n",
       "      <td>0.002213</td>\n",
       "      <td>0.001791</td>\n",
       "      <td>0.002198</td>\n",
       "      <td>0.001838</td>\n",
       "    </tr>\n",
       "    <tr>\n",
       "      <th>Clths</th>\n",
       "      <td>0.002038</td>\n",
       "      <td>0.001551</td>\n",
       "      <td>0.001898</td>\n",
       "      <td>0.001719</td>\n",
       "      <td>0.001517</td>\n",
       "      <td>0.002819</td>\n",
       "      <td>0.003210</td>\n",
       "      <td>0.002597</td>\n",
       "      <td>0.001838</td>\n",
       "      <td>0.004565</td>\n",
       "    </tr>\n",
       "  </tbody>\n",
       "</table>\n",
       "</div>"
      ],
      "text/plain": [
       "          Agric     Food      Soda      Beer      Smoke     Toys      Fun    \\\n",
       "Agric  0.004166  0.001186  0.001451  0.001315  0.001160  0.002156  0.002455   \n",
       "Food   0.001186  0.002012  0.001104  0.001001  0.000883  0.001641  0.001868   \n",
       "Soda   0.001451  0.001104  0.004118  0.001224  0.001080  0.002007  0.002286   \n",
       "Beer   0.001315  0.001001  0.001224  0.002700  0.000979  0.001819  0.002071   \n",
       "Smoke  0.001160  0.000883  0.001080  0.000979  0.003884  0.001605  0.001827   \n",
       "Toys   0.002156  0.001641  0.002007  0.001819  0.001605  0.005488  0.003396   \n",
       "Fun    0.002455  0.001868  0.002286  0.002071  0.001827  0.003396  0.006241   \n",
       "Books  0.001986  0.001512  0.001849  0.001676  0.001479  0.002748  0.003129   \n",
       "Hshld  0.001405  0.001070  0.001308  0.001185  0.001046  0.001944  0.002213   \n",
       "Clths  0.002038  0.001551  0.001898  0.001719  0.001517  0.002819  0.003210   \n",
       "\n",
       "          Books     Hshld     Clths  \n",
       "Agric  0.001986  0.001405  0.002038  \n",
       "Food   0.001512  0.001070  0.001551  \n",
       "Soda   0.001849  0.001308  0.001898  \n",
       "Beer   0.001676  0.001185  0.001719  \n",
       "Smoke  0.001479  0.001046  0.001517  \n",
       "Toys   0.002748  0.001944  0.002819  \n",
       "Fun    0.003129  0.002213  0.003210  \n",
       "Books  0.003752  0.001791  0.002597  \n",
       "Hshld  0.001791  0.002198  0.001838  \n",
       "Clths  0.002597  0.001838  0.004565  "
      ]
     },
     "execution_count": 8,
     "metadata": {},
     "output_type": "execute_result"
    }
   ],
   "source": [
    "df_cov = pd.DataFrame(cov, columns=ff48.columns, index=ff48.columns)\n",
    "df_cov.iloc[:10,:10]"
   ]
  },
  {
   "attachments": {},
   "cell_type": "markdown",
   "metadata": {},
   "source": [
    "## Let's split the sample in half and estimate betas (and alphas) on each half"
   ]
  },
  {
   "cell_type": "code",
   "execution_count": 9,
   "metadata": {},
   "outputs": [],
   "source": [
    "# Adjust function to take a dataframe as an argument\n",
    "def params(frame, varname):\n",
    "    y = frame[varname]-frame['RF']\n",
    "    X = sm.add_constant(frame['Mkt-RF'])\n",
    "    mm = sm.OLS(y, X, missing='drop').fit()\n",
    "    return mm.params.values\n",
    "\n",
    "# Find the halfway mark\n",
    "T = len(df.index)\n",
    "halfway = df.index[int(T/2)]\n",
    "halfway\n",
    "\n",
    "# Split sample\n",
    "df_first_half = df.loc[:halfway]\n",
    "df_second_half= df.loc[halfway+1:]\n",
    "\n",
    "# Output dataframe will have two sets of parameters\n",
    "df_beta = pd.DataFrame(index=ff48.columns, columns = ['alpha_0','beta_0','alpha_1','beta_1'],dtype=float)\n",
    "for c in ff48.columns:\n",
    "    # First half regression\n",
    "    df_beta.loc[c,['alpha_0','beta_0']] = params(df_first_half,c)\n",
    "\n",
    "    # Second half regression\n",
    "    df_beta.loc[c,['alpha_1','beta_1']] = params(df_second_half,c)    "
   ]
  },
  {
   "cell_type": "code",
   "execution_count": 10,
   "metadata": {},
   "outputs": [
    {
     "data": {
      "text/html": [
       "<div>\n",
       "<style scoped>\n",
       "    .dataframe tbody tr th:only-of-type {\n",
       "        vertical-align: middle;\n",
       "    }\n",
       "\n",
       "    .dataframe tbody tr th {\n",
       "        vertical-align: top;\n",
       "    }\n",
       "\n",
       "    .dataframe thead th {\n",
       "        text-align: right;\n",
       "    }\n",
       "</style>\n",
       "<table border=\"1\" class=\"dataframe\">\n",
       "  <thead>\n",
       "    <tr style=\"text-align: right;\">\n",
       "      <th></th>\n",
       "      <th>Agric</th>\n",
       "      <th>Food</th>\n",
       "      <th>Soda</th>\n",
       "      <th>Beer</th>\n",
       "      <th>Smoke</th>\n",
       "      <th>Toys</th>\n",
       "      <th>Fun</th>\n",
       "      <th>Books</th>\n",
       "      <th>Hshld</th>\n",
       "      <th>Clths</th>\n",
       "      <th>...</th>\n",
       "      <th>Whlsl</th>\n",
       "      <th>Rtail</th>\n",
       "      <th>Meals</th>\n",
       "      <th>Banks</th>\n",
       "      <th>Insur</th>\n",
       "      <th>RlEst</th>\n",
       "      <th>Fin</th>\n",
       "      <th>Other</th>\n",
       "      <th>Mkt-RF</th>\n",
       "      <th>RF</th>\n",
       "    </tr>\n",
       "    <tr>\n",
       "      <th>Date</th>\n",
       "      <th></th>\n",
       "      <th></th>\n",
       "      <th></th>\n",
       "      <th></th>\n",
       "      <th></th>\n",
       "      <th></th>\n",
       "      <th></th>\n",
       "      <th></th>\n",
       "      <th></th>\n",
       "      <th></th>\n",
       "      <th></th>\n",
       "      <th></th>\n",
       "      <th></th>\n",
       "      <th></th>\n",
       "      <th></th>\n",
       "      <th></th>\n",
       "      <th></th>\n",
       "      <th></th>\n",
       "      <th></th>\n",
       "      <th></th>\n",
       "      <th></th>\n",
       "    </tr>\n",
       "  </thead>\n",
       "  <tbody>\n",
       "    <tr>\n",
       "      <th>1996-03</th>\n",
       "      <td>-0.0140</td>\n",
       "      <td>-0.0422</td>\n",
       "      <td>0.0744</td>\n",
       "      <td>0.0190</td>\n",
       "      <td>-0.0768</td>\n",
       "      <td>-0.0047</td>\n",
       "      <td>0.0177</td>\n",
       "      <td>0.0092</td>\n",
       "      <td>0.0156</td>\n",
       "      <td>0.1149</td>\n",
       "      <td>...</td>\n",
       "      <td>0.0269</td>\n",
       "      <td>0.0825</td>\n",
       "      <td>0.0092</td>\n",
       "      <td>0.0314</td>\n",
       "      <td>-0.0252</td>\n",
       "      <td>0.0666</td>\n",
       "      <td>0.0233</td>\n",
       "      <td>0.0666</td>\n",
       "      <td>0.0073</td>\n",
       "      <td>0.0039</td>\n",
       "    </tr>\n",
       "    <tr>\n",
       "      <th>1996-04</th>\n",
       "      <td>0.0595</td>\n",
       "      <td>-0.0059</td>\n",
       "      <td>-0.0105</td>\n",
       "      <td>-0.0089</td>\n",
       "      <td>-0.0160</td>\n",
       "      <td>0.0084</td>\n",
       "      <td>0.0305</td>\n",
       "      <td>0.0280</td>\n",
       "      <td>0.0389</td>\n",
       "      <td>0.0541</td>\n",
       "      <td>...</td>\n",
       "      <td>0.0504</td>\n",
       "      <td>0.0436</td>\n",
       "      <td>0.0260</td>\n",
       "      <td>-0.0131</td>\n",
       "      <td>-0.0128</td>\n",
       "      <td>0.0233</td>\n",
       "      <td>0.0054</td>\n",
       "      <td>0.0512</td>\n",
       "      <td>0.0206</td>\n",
       "      <td>0.0046</td>\n",
       "    </tr>\n",
       "    <tr>\n",
       "      <th>1996-05</th>\n",
       "      <td>-0.0188</td>\n",
       "      <td>0.0587</td>\n",
       "      <td>0.0494</td>\n",
       "      <td>0.0969</td>\n",
       "      <td>0.0548</td>\n",
       "      <td>0.0410</td>\n",
       "      <td>0.0223</td>\n",
       "      <td>0.0323</td>\n",
       "      <td>0.0324</td>\n",
       "      <td>0.0805</td>\n",
       "      <td>...</td>\n",
       "      <td>0.0412</td>\n",
       "      <td>0.0511</td>\n",
       "      <td>0.0034</td>\n",
       "      <td>0.0202</td>\n",
       "      <td>0.0014</td>\n",
       "      <td>0.0412</td>\n",
       "      <td>0.0266</td>\n",
       "      <td>0.0536</td>\n",
       "      <td>0.0236</td>\n",
       "      <td>0.0042</td>\n",
       "    </tr>\n",
       "    <tr>\n",
       "      <th>1996-06</th>\n",
       "      <td>-0.0048</td>\n",
       "      <td>0.0246</td>\n",
       "      <td>0.0404</td>\n",
       "      <td>0.0654</td>\n",
       "      <td>0.0368</td>\n",
       "      <td>-0.0174</td>\n",
       "      <td>-0.0297</td>\n",
       "      <td>0.0046</td>\n",
       "      <td>0.0136</td>\n",
       "      <td>0.0012</td>\n",
       "      <td>...</td>\n",
       "      <td>-0.0405</td>\n",
       "      <td>-0.0108</td>\n",
       "      <td>-0.0053</td>\n",
       "      <td>-0.0007</td>\n",
       "      <td>0.0150</td>\n",
       "      <td>0.0018</td>\n",
       "      <td>0.0112</td>\n",
       "      <td>-0.0281</td>\n",
       "      <td>-0.0114</td>\n",
       "      <td>0.0040</td>\n",
       "    </tr>\n",
       "    <tr>\n",
       "      <th>1996-07</th>\n",
       "      <td>-0.0496</td>\n",
       "      <td>-0.0229</td>\n",
       "      <td>-0.0219</td>\n",
       "      <td>-0.0578</td>\n",
       "      <td>0.0020</td>\n",
       "      <td>-0.1067</td>\n",
       "      <td>-0.1231</td>\n",
       "      <td>-0.0665</td>\n",
       "      <td>-0.0332</td>\n",
       "      <td>-0.0433</td>\n",
       "      <td>...</td>\n",
       "      <td>-0.0785</td>\n",
       "      <td>-0.0762</td>\n",
       "      <td>-0.0744</td>\n",
       "      <td>-0.0046</td>\n",
       "      <td>-0.0515</td>\n",
       "      <td>-0.0907</td>\n",
       "      <td>-0.0387</td>\n",
       "      <td>-0.1063</td>\n",
       "      <td>-0.0597</td>\n",
       "      <td>0.0045</td>\n",
       "    </tr>\n",
       "  </tbody>\n",
       "</table>\n",
       "<p>5 rows × 50 columns</p>\n",
       "</div>"
      ],
      "text/plain": [
       "          Agric   Food    Soda    Beer    Smoke   Toys    Fun     Books  \\\n",
       "Date                                                                      \n",
       "1996-03 -0.0140 -0.0422  0.0744  0.0190 -0.0768 -0.0047  0.0177  0.0092   \n",
       "1996-04  0.0595 -0.0059 -0.0105 -0.0089 -0.0160  0.0084  0.0305  0.0280   \n",
       "1996-05 -0.0188  0.0587  0.0494  0.0969  0.0548  0.0410  0.0223  0.0323   \n",
       "1996-06 -0.0048  0.0246  0.0404  0.0654  0.0368 -0.0174 -0.0297  0.0046   \n",
       "1996-07 -0.0496 -0.0229 -0.0219 -0.0578  0.0020 -0.1067 -0.1231 -0.0665   \n",
       "\n",
       "          Hshld   Clths  ...   Whlsl   Rtail   Meals   Banks   Insur   RlEst  \\\n",
       "Date                     ...                                                   \n",
       "1996-03  0.0156  0.1149  ...  0.0269  0.0825  0.0092  0.0314 -0.0252  0.0666   \n",
       "1996-04  0.0389  0.0541  ...  0.0504  0.0436  0.0260 -0.0131 -0.0128  0.0233   \n",
       "1996-05  0.0324  0.0805  ...  0.0412  0.0511  0.0034  0.0202  0.0014  0.0412   \n",
       "1996-06  0.0136  0.0012  ... -0.0405 -0.0108 -0.0053 -0.0007  0.0150  0.0018   \n",
       "1996-07 -0.0332 -0.0433  ... -0.0785 -0.0762 -0.0744 -0.0046 -0.0515 -0.0907   \n",
       "\n",
       "          Fin     Other  Mkt-RF      RF  \n",
       "Date                                     \n",
       "1996-03  0.0233  0.0666  0.0073  0.0039  \n",
       "1996-04  0.0054  0.0512  0.0206  0.0046  \n",
       "1996-05  0.0266  0.0536  0.0236  0.0042  \n",
       "1996-06  0.0112 -0.0281 -0.0114  0.0040  \n",
       "1996-07 -0.0387 -0.1063 -0.0597  0.0045  \n",
       "\n",
       "[5 rows x 50 columns]"
      ]
     },
     "execution_count": 10,
     "metadata": {},
     "output_type": "execute_result"
    }
   ],
   "source": [
    "df_first_half.tail()"
   ]
  },
  {
   "cell_type": "code",
   "execution_count": 11,
   "metadata": {},
   "outputs": [
    {
     "data": {
      "text/html": [
       "<div>\n",
       "<style scoped>\n",
       "    .dataframe tbody tr th:only-of-type {\n",
       "        vertical-align: middle;\n",
       "    }\n",
       "\n",
       "    .dataframe tbody tr th {\n",
       "        vertical-align: top;\n",
       "    }\n",
       "\n",
       "    .dataframe thead th {\n",
       "        text-align: right;\n",
       "    }\n",
       "</style>\n",
       "<table border=\"1\" class=\"dataframe\">\n",
       "  <thead>\n",
       "    <tr style=\"text-align: right;\">\n",
       "      <th></th>\n",
       "      <th>Agric</th>\n",
       "      <th>Food</th>\n",
       "      <th>Soda</th>\n",
       "      <th>Beer</th>\n",
       "      <th>Smoke</th>\n",
       "      <th>Toys</th>\n",
       "      <th>Fun</th>\n",
       "      <th>Books</th>\n",
       "      <th>Hshld</th>\n",
       "      <th>Clths</th>\n",
       "      <th>...</th>\n",
       "      <th>Whlsl</th>\n",
       "      <th>Rtail</th>\n",
       "      <th>Meals</th>\n",
       "      <th>Banks</th>\n",
       "      <th>Insur</th>\n",
       "      <th>RlEst</th>\n",
       "      <th>Fin</th>\n",
       "      <th>Other</th>\n",
       "      <th>Mkt-RF</th>\n",
       "      <th>RF</th>\n",
       "    </tr>\n",
       "    <tr>\n",
       "      <th>Date</th>\n",
       "      <th></th>\n",
       "      <th></th>\n",
       "      <th></th>\n",
       "      <th></th>\n",
       "      <th></th>\n",
       "      <th></th>\n",
       "      <th></th>\n",
       "      <th></th>\n",
       "      <th></th>\n",
       "      <th></th>\n",
       "      <th></th>\n",
       "      <th></th>\n",
       "      <th></th>\n",
       "      <th></th>\n",
       "      <th></th>\n",
       "      <th></th>\n",
       "      <th></th>\n",
       "      <th></th>\n",
       "      <th></th>\n",
       "      <th></th>\n",
       "      <th></th>\n",
       "    </tr>\n",
       "  </thead>\n",
       "  <tbody>\n",
       "    <tr>\n",
       "      <th>1996-08</th>\n",
       "      <td>0.0310</td>\n",
       "      <td>-0.0107</td>\n",
       "      <td>0.0940</td>\n",
       "      <td>0.0214</td>\n",
       "      <td>-0.1318</td>\n",
       "      <td>0.0187</td>\n",
       "      <td>-0.0035</td>\n",
       "      <td>0.0362</td>\n",
       "      <td>0.0169</td>\n",
       "      <td>0.0577</td>\n",
       "      <td>...</td>\n",
       "      <td>0.0380</td>\n",
       "      <td>0.0689</td>\n",
       "      <td>0.0358</td>\n",
       "      <td>0.0444</td>\n",
       "      <td>0.0393</td>\n",
       "      <td>0.0758</td>\n",
       "      <td>0.0340</td>\n",
       "      <td>0.0887</td>\n",
       "      <td>0.0277</td>\n",
       "      <td>0.0041</td>\n",
       "    </tr>\n",
       "    <tr>\n",
       "      <th>1996-09</th>\n",
       "      <td>0.0421</td>\n",
       "      <td>0.0906</td>\n",
       "      <td>0.0892</td>\n",
       "      <td>0.0073</td>\n",
       "      <td>0.0141</td>\n",
       "      <td>0.0703</td>\n",
       "      <td>0.0766</td>\n",
       "      <td>0.0279</td>\n",
       "      <td>0.0634</td>\n",
       "      <td>0.0715</td>\n",
       "      <td>...</td>\n",
       "      <td>0.0489</td>\n",
       "      <td>0.0329</td>\n",
       "      <td>0.0049</td>\n",
       "      <td>0.0644</td>\n",
       "      <td>0.0502</td>\n",
       "      <td>0.0282</td>\n",
       "      <td>0.0503</td>\n",
       "      <td>0.0512</td>\n",
       "      <td>0.0501</td>\n",
       "      <td>0.0044</td>\n",
       "    </tr>\n",
       "    <tr>\n",
       "      <th>1996-10</th>\n",
       "      <td>0.0585</td>\n",
       "      <td>0.0258</td>\n",
       "      <td>-0.0241</td>\n",
       "      <td>0.0078</td>\n",
       "      <td>0.0331</td>\n",
       "      <td>-0.0044</td>\n",
       "      <td>-0.0223</td>\n",
       "      <td>0.0121</td>\n",
       "      <td>0.0105</td>\n",
       "      <td>-0.0025</td>\n",
       "      <td>...</td>\n",
       "      <td>0.0012</td>\n",
       "      <td>-0.0196</td>\n",
       "      <td>-0.0365</td>\n",
       "      <td>0.0720</td>\n",
       "      <td>0.0364</td>\n",
       "      <td>-0.0218</td>\n",
       "      <td>0.0289</td>\n",
       "      <td>0.0189</td>\n",
       "      <td>0.0086</td>\n",
       "      <td>0.0042</td>\n",
       "    </tr>\n",
       "    <tr>\n",
       "      <th>1996-11</th>\n",
       "      <td>0.0118</td>\n",
       "      <td>0.0621</td>\n",
       "      <td>0.0303</td>\n",
       "      <td>0.0274</td>\n",
       "      <td>0.1074</td>\n",
       "      <td>0.0650</td>\n",
       "      <td>0.0909</td>\n",
       "      <td>0.0540</td>\n",
       "      <td>0.0540</td>\n",
       "      <td>-0.0049</td>\n",
       "      <td>...</td>\n",
       "      <td>0.0477</td>\n",
       "      <td>0.0210</td>\n",
       "      <td>0.0391</td>\n",
       "      <td>0.0936</td>\n",
       "      <td>0.0721</td>\n",
       "      <td>-0.0031</td>\n",
       "      <td>0.0802</td>\n",
       "      <td>0.0369</td>\n",
       "      <td>0.0625</td>\n",
       "      <td>0.0041</td>\n",
       "    </tr>\n",
       "    <tr>\n",
       "      <th>1996-12</th>\n",
       "      <td>0.0038</td>\n",
       "      <td>-0.0265</td>\n",
       "      <td>0.0463</td>\n",
       "      <td>0.0052</td>\n",
       "      <td>0.0930</td>\n",
       "      <td>-0.0785</td>\n",
       "      <td>-0.0575</td>\n",
       "      <td>-0.0168</td>\n",
       "      <td>0.0039</td>\n",
       "      <td>0.0265</td>\n",
       "      <td>...</td>\n",
       "      <td>-0.0016</td>\n",
       "      <td>-0.0431</td>\n",
       "      <td>-0.0298</td>\n",
       "      <td>-0.0345</td>\n",
       "      <td>0.0036</td>\n",
       "      <td>-0.0014</td>\n",
       "      <td>0.0200</td>\n",
       "      <td>-0.0443</td>\n",
       "      <td>-0.0170</td>\n",
       "      <td>0.0046</td>\n",
       "    </tr>\n",
       "  </tbody>\n",
       "</table>\n",
       "<p>5 rows × 50 columns</p>\n",
       "</div>"
      ],
      "text/plain": [
       "          Agric   Food    Soda    Beer    Smoke   Toys    Fun     Books  \\\n",
       "Date                                                                      \n",
       "1996-08  0.0310 -0.0107  0.0940  0.0214 -0.1318  0.0187 -0.0035  0.0362   \n",
       "1996-09  0.0421  0.0906  0.0892  0.0073  0.0141  0.0703  0.0766  0.0279   \n",
       "1996-10  0.0585  0.0258 -0.0241  0.0078  0.0331 -0.0044 -0.0223  0.0121   \n",
       "1996-11  0.0118  0.0621  0.0303  0.0274  0.1074  0.0650  0.0909  0.0540   \n",
       "1996-12  0.0038 -0.0265  0.0463  0.0052  0.0930 -0.0785 -0.0575 -0.0168   \n",
       "\n",
       "          Hshld   Clths  ...   Whlsl   Rtail   Meals   Banks   Insur   RlEst  \\\n",
       "Date                     ...                                                   \n",
       "1996-08  0.0169  0.0577  ...  0.0380  0.0689  0.0358  0.0444  0.0393  0.0758   \n",
       "1996-09  0.0634  0.0715  ...  0.0489  0.0329  0.0049  0.0644  0.0502  0.0282   \n",
       "1996-10  0.0105 -0.0025  ...  0.0012 -0.0196 -0.0365  0.0720  0.0364 -0.0218   \n",
       "1996-11  0.0540 -0.0049  ...  0.0477  0.0210  0.0391  0.0936  0.0721 -0.0031   \n",
       "1996-12  0.0039  0.0265  ... -0.0016 -0.0431 -0.0298 -0.0345  0.0036 -0.0014   \n",
       "\n",
       "          Fin     Other  Mkt-RF      RF  \n",
       "Date                                     \n",
       "1996-08  0.0340  0.0887  0.0277  0.0041  \n",
       "1996-09  0.0503  0.0512  0.0501  0.0044  \n",
       "1996-10  0.0289  0.0189  0.0086  0.0042  \n",
       "1996-11  0.0802  0.0369  0.0625  0.0041  \n",
       "1996-12  0.0200 -0.0443 -0.0170  0.0046  \n",
       "\n",
       "[5 rows x 50 columns]"
      ]
     },
     "execution_count": 11,
     "metadata": {},
     "output_type": "execute_result"
    }
   ],
   "source": [
    "df_second_half.head()"
   ]
  },
  {
   "attachments": {},
   "cell_type": "markdown",
   "metadata": {},
   "source": [
    "### How persistent is beta?"
   ]
  },
  {
   "cell_type": "code",
   "execution_count": 12,
   "metadata": {},
   "outputs": [
    {
     "name": "stdout",
     "output_type": "stream",
     "text": [
      "                            OLS Regression Results                            \n",
      "==============================================================================\n",
      "Dep. Variable:                 beta_1   R-squared:                       0.245\n",
      "Model:                            OLS   Adj. R-squared:                  0.229\n",
      "Method:                 Least Squares   F-statistic:                     14.95\n",
      "Date:                Mon, 20 Mar 2023   Prob (F-statistic):           0.000345\n",
      "Time:                        21:04:28   Log-Likelihood:                -3.3085\n",
      "No. Observations:                  48   AIC:                             10.62\n",
      "Df Residuals:                      46   BIC:                             14.36\n",
      "Df Model:                           1                                         \n",
      "Covariance Type:            nonrobust                                         \n",
      "==============================================================================\n",
      "                 coef    std err          t      P>|t|      [0.025      0.975]\n",
      "------------------------------------------------------------------------------\n",
      "const          0.0992      0.232      0.428      0.671      -0.367       0.566\n",
      "beta_0         0.8106      0.210      3.867      0.000       0.389       1.232\n",
      "==============================================================================\n",
      "Omnibus:                        0.886   Durbin-Watson:                   1.463\n",
      "Prob(Omnibus):                  0.642   Jarque-Bera (JB):                0.867\n",
      "Skew:                           0.301   Prob(JB):                        0.648\n",
      "Kurtosis:                       2.736   Cond. No.                         12.1\n",
      "==============================================================================\n",
      "\n",
      "Notes:\n",
      "[1] Standard Errors assume that the covariance matrix of the errors is correctly specified.\n"
     ]
    }
   ],
   "source": [
    "# Beta regression\n",
    "y = df_beta['beta_1']\n",
    "X = sm.add_constant(df_beta['beta_0'])\n",
    "results = sm.OLS(y, X, missing='drop').fit()\n",
    "print(results.summary())"
   ]
  },
  {
   "cell_type": "code",
   "execution_count": 13,
   "metadata": {},
   "outputs": [
    {
     "data": {
      "application/vnd.plotly.v1+json": {
       "config": {
        "plotlyServerURL": "https://plot.ly"
       },
       "data": [
        {
         "mode": "markers",
         "name": "Alphas",
         "type": "scatter",
         "x": [
          1.015731048648829,
          0.8527985870268324,
          0.9115422760898965,
          0.9526830045033335,
          0.7942521727351983,
          1.3520795325679362,
          1.3264163691773536,
          1.1229103819778978,
          0.9740187177313373,
          1.209417100686587,
          1.4627833048534362,
          1.0210085322669322,
          0.9245644992815089,
          1.061652960093471,
          1.120378082999717,
          1.0673468525018504,
          1.2038390656079776,
          1.3588088089800052,
          1.0630455577470062,
          1.090271200627555,
          1.1518481617386676,
          1.176496939173372,
          0.9954932531725977,
          1.2267922953634733,
          1.1228380080735019,
          1.0888323778875062,
          0.7333429564544169,
          1.0280285740670565,
          1.1363326377522274,
          0.8285645385818841,
          0.6176710064894032,
          0.6622693328422614,
          1.2857255866324842,
          1.2866915157070253,
          1.0220067710597023,
          1.294533609151228,
          1.341121893136449,
          1.0628125373552273,
          0.9347105174406798,
          1.179324902530237,
          1.1811112417165517,
          1.1210817255818535,
          1.2973325076333273,
          1.0867019142403844,
          1.002252793294848,
          1.2367071072702394,
          1.0734477024396423,
          1.2763018608563272
         ],
         "y": [
          0.695901045670903,
          0.4561192336689501,
          0.6806958857265858,
          0.4981368150370292,
          0.48272431582037423,
          1.0178003073210413,
          1.3620238255936692,
          1.0551442898780752,
          0.5725958716923192,
          1.0260598298812909,
          0.7933622058385731,
          0.7874989040627498,
          0.6117674812307177,
          1.048874865099402,
          1.006034861891153,
          1.2315011487500607,
          1.1785361692783367,
          1.1959852222125607,
          1.6074498540981401,
          1.126159188134406,
          1.2988230346509413,
          1.275422207878142,
          1.48643165316032,
          1.0408178125565577,
          1.0723154242933108,
          0.4963681960862908,
          0.40832243770450716,
          1.2181980095566511,
          1.1764159062518642,
          0.8983989467082971,
          0.4123652078620222,
          0.9321324575142826,
          0.9044531209319164,
          1.2277884456934949,
          1.3622802480098701,
          1.4761194215917435,
          1.1766305505839088,
          0.8547080786253924,
          0.9784217969216564,
          0.9547924032452161,
          0.9044277109142809,
          0.8848357893286589,
          0.7723175038220724,
          1.0683082838652624,
          0.8789412398992342,
          1.2322371786041417,
          1.3717209005598583,
          0.9844277537302523
         ]
        },
        {
         "mode": "lines",
         "name": "45-degree line",
         "type": "scatter",
         "x": [
          0.40832243770450716,
          0.47143440698838257,
          0.534546376272258,
          0.5976583455561334,
          0.6607703148400088,
          0.7238822841238842,
          0.7869942534077596,
          0.850106222691635,
          0.9132181919755105,
          0.9763301612593859,
          1.0394421305432613,
          1.1025540998271368,
          1.1656660691110121,
          1.2287780383948874,
          1.291890007678763,
          1.3550019769626385,
          1.4181139462465138,
          1.4812259155303893,
          1.5443378848142646,
          1.6074498540981401
         ],
         "y": [
          0.40832243770450716,
          0.47143440698838257,
          0.534546376272258,
          0.5976583455561334,
          0.6607703148400088,
          0.7238822841238842,
          0.7869942534077596,
          0.850106222691635,
          0.9132181919755105,
          0.9763301612593859,
          1.0394421305432613,
          1.1025540998271368,
          1.1656660691110121,
          1.2287780383948874,
          1.291890007678763,
          1.3550019769626385,
          1.4181139462465138,
          1.4812259155303893,
          1.5443378848142646,
          1.6074498540981401
         ]
        },
        {
         "mode": "lines",
         "name": "Predicted",
         "type": "scatter",
         "x": [
          0.40832243770450716,
          0.47143440698838257,
          0.534546376272258,
          0.5976583455561334,
          0.6607703148400088,
          0.7238822841238842,
          0.7869942534077596,
          0.850106222691635,
          0.9132181919755105,
          0.9763301612593859,
          1.0394421305432613,
          1.1025540998271368,
          1.1656660691110121,
          1.2287780383948874,
          1.291890007678763,
          1.3550019769626385,
          1.4181139462465138,
          1.4812259155303893,
          1.5443378848142646,
          1.6074498540981401
         ],
         "y": [
          0.43016919259807895,
          0.48132488086335956,
          0.5324805691286403,
          0.5836362573939209,
          0.6347919456592015,
          0.6859476339244822,
          0.7371033221897628,
          0.7882590104550434,
          0.8394146987203241,
          0.8905703869856048,
          0.9417260752508854,
          0.9928817635161661,
          1.0440374517814468,
          1.0951931400467272,
          1.146348828312008,
          1.1975045165772886,
          1.2486602048425692,
          1.29981589310785,
          1.3509715813731304,
          1.4021272696384113
         ]
        }
       ],
       "layout": {
        "legend": {
         "x": 0.01,
         "xanchor": "left",
         "y": 0.99,
         "yanchor": "top"
        },
        "template": {
         "data": {
          "bar": [
           {
            "error_x": {
             "color": "#2a3f5f"
            },
            "error_y": {
             "color": "#2a3f5f"
            },
            "marker": {
             "line": {
              "color": "#E5ECF6",
              "width": 0.5
             },
             "pattern": {
              "fillmode": "overlay",
              "size": 10,
              "solidity": 0.2
             }
            },
            "type": "bar"
           }
          ],
          "barpolar": [
           {
            "marker": {
             "line": {
              "color": "#E5ECF6",
              "width": 0.5
             },
             "pattern": {
              "fillmode": "overlay",
              "size": 10,
              "solidity": 0.2
             }
            },
            "type": "barpolar"
           }
          ],
          "carpet": [
           {
            "aaxis": {
             "endlinecolor": "#2a3f5f",
             "gridcolor": "white",
             "linecolor": "white",
             "minorgridcolor": "white",
             "startlinecolor": "#2a3f5f"
            },
            "baxis": {
             "endlinecolor": "#2a3f5f",
             "gridcolor": "white",
             "linecolor": "white",
             "minorgridcolor": "white",
             "startlinecolor": "#2a3f5f"
            },
            "type": "carpet"
           }
          ],
          "choropleth": [
           {
            "colorbar": {
             "outlinewidth": 0,
             "ticks": ""
            },
            "type": "choropleth"
           }
          ],
          "contour": [
           {
            "colorbar": {
             "outlinewidth": 0,
             "ticks": ""
            },
            "colorscale": [
             [
              0,
              "#0d0887"
             ],
             [
              0.1111111111111111,
              "#46039f"
             ],
             [
              0.2222222222222222,
              "#7201a8"
             ],
             [
              0.3333333333333333,
              "#9c179e"
             ],
             [
              0.4444444444444444,
              "#bd3786"
             ],
             [
              0.5555555555555556,
              "#d8576b"
             ],
             [
              0.6666666666666666,
              "#ed7953"
             ],
             [
              0.7777777777777778,
              "#fb9f3a"
             ],
             [
              0.8888888888888888,
              "#fdca26"
             ],
             [
              1,
              "#f0f921"
             ]
            ],
            "type": "contour"
           }
          ],
          "contourcarpet": [
           {
            "colorbar": {
             "outlinewidth": 0,
             "ticks": ""
            },
            "type": "contourcarpet"
           }
          ],
          "heatmap": [
           {
            "colorbar": {
             "outlinewidth": 0,
             "ticks": ""
            },
            "colorscale": [
             [
              0,
              "#0d0887"
             ],
             [
              0.1111111111111111,
              "#46039f"
             ],
             [
              0.2222222222222222,
              "#7201a8"
             ],
             [
              0.3333333333333333,
              "#9c179e"
             ],
             [
              0.4444444444444444,
              "#bd3786"
             ],
             [
              0.5555555555555556,
              "#d8576b"
             ],
             [
              0.6666666666666666,
              "#ed7953"
             ],
             [
              0.7777777777777778,
              "#fb9f3a"
             ],
             [
              0.8888888888888888,
              "#fdca26"
             ],
             [
              1,
              "#f0f921"
             ]
            ],
            "type": "heatmap"
           }
          ],
          "heatmapgl": [
           {
            "colorbar": {
             "outlinewidth": 0,
             "ticks": ""
            },
            "colorscale": [
             [
              0,
              "#0d0887"
             ],
             [
              0.1111111111111111,
              "#46039f"
             ],
             [
              0.2222222222222222,
              "#7201a8"
             ],
             [
              0.3333333333333333,
              "#9c179e"
             ],
             [
              0.4444444444444444,
              "#bd3786"
             ],
             [
              0.5555555555555556,
              "#d8576b"
             ],
             [
              0.6666666666666666,
              "#ed7953"
             ],
             [
              0.7777777777777778,
              "#fb9f3a"
             ],
             [
              0.8888888888888888,
              "#fdca26"
             ],
             [
              1,
              "#f0f921"
             ]
            ],
            "type": "heatmapgl"
           }
          ],
          "histogram": [
           {
            "marker": {
             "pattern": {
              "fillmode": "overlay",
              "size": 10,
              "solidity": 0.2
             }
            },
            "type": "histogram"
           }
          ],
          "histogram2d": [
           {
            "colorbar": {
             "outlinewidth": 0,
             "ticks": ""
            },
            "colorscale": [
             [
              0,
              "#0d0887"
             ],
             [
              0.1111111111111111,
              "#46039f"
             ],
             [
              0.2222222222222222,
              "#7201a8"
             ],
             [
              0.3333333333333333,
              "#9c179e"
             ],
             [
              0.4444444444444444,
              "#bd3786"
             ],
             [
              0.5555555555555556,
              "#d8576b"
             ],
             [
              0.6666666666666666,
              "#ed7953"
             ],
             [
              0.7777777777777778,
              "#fb9f3a"
             ],
             [
              0.8888888888888888,
              "#fdca26"
             ],
             [
              1,
              "#f0f921"
             ]
            ],
            "type": "histogram2d"
           }
          ],
          "histogram2dcontour": [
           {
            "colorbar": {
             "outlinewidth": 0,
             "ticks": ""
            },
            "colorscale": [
             [
              0,
              "#0d0887"
             ],
             [
              0.1111111111111111,
              "#46039f"
             ],
             [
              0.2222222222222222,
              "#7201a8"
             ],
             [
              0.3333333333333333,
              "#9c179e"
             ],
             [
              0.4444444444444444,
              "#bd3786"
             ],
             [
              0.5555555555555556,
              "#d8576b"
             ],
             [
              0.6666666666666666,
              "#ed7953"
             ],
             [
              0.7777777777777778,
              "#fb9f3a"
             ],
             [
              0.8888888888888888,
              "#fdca26"
             ],
             [
              1,
              "#f0f921"
             ]
            ],
            "type": "histogram2dcontour"
           }
          ],
          "mesh3d": [
           {
            "colorbar": {
             "outlinewidth": 0,
             "ticks": ""
            },
            "type": "mesh3d"
           }
          ],
          "parcoords": [
           {
            "line": {
             "colorbar": {
              "outlinewidth": 0,
              "ticks": ""
             }
            },
            "type": "parcoords"
           }
          ],
          "pie": [
           {
            "automargin": true,
            "type": "pie"
           }
          ],
          "scatter": [
           {
            "fillpattern": {
             "fillmode": "overlay",
             "size": 10,
             "solidity": 0.2
            },
            "type": "scatter"
           }
          ],
          "scatter3d": [
           {
            "line": {
             "colorbar": {
              "outlinewidth": 0,
              "ticks": ""
             }
            },
            "marker": {
             "colorbar": {
              "outlinewidth": 0,
              "ticks": ""
             }
            },
            "type": "scatter3d"
           }
          ],
          "scattercarpet": [
           {
            "marker": {
             "colorbar": {
              "outlinewidth": 0,
              "ticks": ""
             }
            },
            "type": "scattercarpet"
           }
          ],
          "scattergeo": [
           {
            "marker": {
             "colorbar": {
              "outlinewidth": 0,
              "ticks": ""
             }
            },
            "type": "scattergeo"
           }
          ],
          "scattergl": [
           {
            "marker": {
             "colorbar": {
              "outlinewidth": 0,
              "ticks": ""
             }
            },
            "type": "scattergl"
           }
          ],
          "scattermapbox": [
           {
            "marker": {
             "colorbar": {
              "outlinewidth": 0,
              "ticks": ""
             }
            },
            "type": "scattermapbox"
           }
          ],
          "scatterpolar": [
           {
            "marker": {
             "colorbar": {
              "outlinewidth": 0,
              "ticks": ""
             }
            },
            "type": "scatterpolar"
           }
          ],
          "scatterpolargl": [
           {
            "marker": {
             "colorbar": {
              "outlinewidth": 0,
              "ticks": ""
             }
            },
            "type": "scatterpolargl"
           }
          ],
          "scatterternary": [
           {
            "marker": {
             "colorbar": {
              "outlinewidth": 0,
              "ticks": ""
             }
            },
            "type": "scatterternary"
           }
          ],
          "surface": [
           {
            "colorbar": {
             "outlinewidth": 0,
             "ticks": ""
            },
            "colorscale": [
             [
              0,
              "#0d0887"
             ],
             [
              0.1111111111111111,
              "#46039f"
             ],
             [
              0.2222222222222222,
              "#7201a8"
             ],
             [
              0.3333333333333333,
              "#9c179e"
             ],
             [
              0.4444444444444444,
              "#bd3786"
             ],
             [
              0.5555555555555556,
              "#d8576b"
             ],
             [
              0.6666666666666666,
              "#ed7953"
             ],
             [
              0.7777777777777778,
              "#fb9f3a"
             ],
             [
              0.8888888888888888,
              "#fdca26"
             ],
             [
              1,
              "#f0f921"
             ]
            ],
            "type": "surface"
           }
          ],
          "table": [
           {
            "cells": {
             "fill": {
              "color": "#EBF0F8"
             },
             "line": {
              "color": "white"
             }
            },
            "header": {
             "fill": {
              "color": "#C8D4E3"
             },
             "line": {
              "color": "white"
             }
            },
            "type": "table"
           }
          ]
         },
         "layout": {
          "annotationdefaults": {
           "arrowcolor": "#2a3f5f",
           "arrowhead": 0,
           "arrowwidth": 1
          },
          "autotypenumbers": "strict",
          "coloraxis": {
           "colorbar": {
            "outlinewidth": 0,
            "ticks": ""
           }
          },
          "colorscale": {
           "diverging": [
            [
             0,
             "#8e0152"
            ],
            [
             0.1,
             "#c51b7d"
            ],
            [
             0.2,
             "#de77ae"
            ],
            [
             0.3,
             "#f1b6da"
            ],
            [
             0.4,
             "#fde0ef"
            ],
            [
             0.5,
             "#f7f7f7"
            ],
            [
             0.6,
             "#e6f5d0"
            ],
            [
             0.7,
             "#b8e186"
            ],
            [
             0.8,
             "#7fbc41"
            ],
            [
             0.9,
             "#4d9221"
            ],
            [
             1,
             "#276419"
            ]
           ],
           "sequential": [
            [
             0,
             "#0d0887"
            ],
            [
             0.1111111111111111,
             "#46039f"
            ],
            [
             0.2222222222222222,
             "#7201a8"
            ],
            [
             0.3333333333333333,
             "#9c179e"
            ],
            [
             0.4444444444444444,
             "#bd3786"
            ],
            [
             0.5555555555555556,
             "#d8576b"
            ],
            [
             0.6666666666666666,
             "#ed7953"
            ],
            [
             0.7777777777777778,
             "#fb9f3a"
            ],
            [
             0.8888888888888888,
             "#fdca26"
            ],
            [
             1,
             "#f0f921"
            ]
           ],
           "sequentialminus": [
            [
             0,
             "#0d0887"
            ],
            [
             0.1111111111111111,
             "#46039f"
            ],
            [
             0.2222222222222222,
             "#7201a8"
            ],
            [
             0.3333333333333333,
             "#9c179e"
            ],
            [
             0.4444444444444444,
             "#bd3786"
            ],
            [
             0.5555555555555556,
             "#d8576b"
            ],
            [
             0.6666666666666666,
             "#ed7953"
            ],
            [
             0.7777777777777778,
             "#fb9f3a"
            ],
            [
             0.8888888888888888,
             "#fdca26"
            ],
            [
             1,
             "#f0f921"
            ]
           ]
          },
          "colorway": [
           "#636efa",
           "#EF553B",
           "#00cc96",
           "#ab63fa",
           "#FFA15A",
           "#19d3f3",
           "#FF6692",
           "#B6E880",
           "#FF97FF",
           "#FECB52"
          ],
          "font": {
           "color": "#2a3f5f"
          },
          "geo": {
           "bgcolor": "white",
           "lakecolor": "white",
           "landcolor": "#E5ECF6",
           "showlakes": true,
           "showland": true,
           "subunitcolor": "white"
          },
          "hoverlabel": {
           "align": "left"
          },
          "hovermode": "closest",
          "mapbox": {
           "style": "light"
          },
          "paper_bgcolor": "white",
          "plot_bgcolor": "#E5ECF6",
          "polar": {
           "angularaxis": {
            "gridcolor": "white",
            "linecolor": "white",
            "ticks": ""
           },
           "bgcolor": "#E5ECF6",
           "radialaxis": {
            "gridcolor": "white",
            "linecolor": "white",
            "ticks": ""
           }
          },
          "scene": {
           "xaxis": {
            "backgroundcolor": "#E5ECF6",
            "gridcolor": "white",
            "gridwidth": 2,
            "linecolor": "white",
            "showbackground": true,
            "ticks": "",
            "zerolinecolor": "white"
           },
           "yaxis": {
            "backgroundcolor": "#E5ECF6",
            "gridcolor": "white",
            "gridwidth": 2,
            "linecolor": "white",
            "showbackground": true,
            "ticks": "",
            "zerolinecolor": "white"
           },
           "zaxis": {
            "backgroundcolor": "#E5ECF6",
            "gridcolor": "white",
            "gridwidth": 2,
            "linecolor": "white",
            "showbackground": true,
            "ticks": "",
            "zerolinecolor": "white"
           }
          },
          "shapedefaults": {
           "line": {
            "color": "#2a3f5f"
           }
          },
          "ternary": {
           "aaxis": {
            "gridcolor": "white",
            "linecolor": "white",
            "ticks": ""
           },
           "baxis": {
            "gridcolor": "white",
            "linecolor": "white",
            "ticks": ""
           },
           "bgcolor": "#E5ECF6",
           "caxis": {
            "gridcolor": "white",
            "linecolor": "white",
            "ticks": ""
           }
          },
          "title": {
           "x": 0.05
          },
          "xaxis": {
           "automargin": true,
           "gridcolor": "white",
           "linecolor": "white",
           "ticks": "",
           "title": {
            "standoff": 15
           },
           "zerolinecolor": "white",
           "zerolinewidth": 2
          },
          "yaxis": {
           "automargin": true,
           "gridcolor": "white",
           "linecolor": "white",
           "ticks": "",
           "title": {
            "standoff": 15
           },
           "zerolinecolor": "white",
           "zerolinewidth": 2
          }
         }
        },
        "title": {
         "text": "Beta Persistence"
        },
        "xaxis": {
         "range": [
          0.36749019393405646,
          1.7681948395079543
         ],
         "tickformat": ".2f",
         "title": {
          "text": "1st Half Beta"
         }
        },
        "yaxis": {
         "range": [
          0.36749019393405646,
          1.7681948395079543
         ],
         "tickformat": ".2f",
         "title": {
          "text": "2nd Half Beta"
         }
        }
       }
      }
     },
     "metadata": {},
     "output_type": "display_data"
    }
   ],
   "source": [
    "# Scatter plot\n",
    "\n",
    "trace  = go.Scatter(x=df_beta['beta_0'], y=df_beta['beta_1'], mode=\"markers\", name = 'Alphas')\n",
    "minval = np.min([df_beta['beta_1'].min(), df_beta['beta_0'].min()])\n",
    "maxval = np.max([df_beta['beta_1'].max(), df_beta['beta_0'].max()])\n",
    "\n",
    "trace_45 = go.Scatter(x= np.linspace(minval,maxval,20), y = np.linspace(minval,maxval,20), mode='lines',name='45-degree line')\n",
    "ols_fit = results.params[0] + results.params[1]*np.linspace(minval,maxval,20)\n",
    "trace_ols= go.Scatter(x= np.linspace(minval,maxval,20), y = ols_fit, mode='lines',name='Predicted')\n",
    "\n",
    "fig = go.Figure()\n",
    "fig.add_trace(trace)\n",
    "fig.add_trace(trace_45)\n",
    "fig.add_trace(trace_ols)\n",
    "fig.update_xaxes(title='1st Half Beta',tickformat=\".2f\", range=[0.9*minval, 1.1*maxval])\n",
    "fig.update_yaxes(title='2nd Half Beta',tickformat=\".2f\", range=[0.9*minval, 1.1*maxval])\n",
    "fig.update_layout(title='Beta Persistence')\n",
    "fig.update_layout(legend=dict(yanchor=\"top\", y =0.99, xanchor=\"left\", x=0.01))\n",
    "fig.show()"
   ]
  },
  {
   "attachments": {},
   "cell_type": "markdown",
   "metadata": {},
   "source": [
    "Let's compare the predictive power (in a mean-squared error sense) of using either\n",
    "- first half beta\n",
    "- first half beta 'shrunk' towards 1\n",
    "\n",
    "(Note: better predictors of beta will have a *lower* MSE)"
   ]
  },
  {
   "cell_type": "code",
   "execution_count": 14,
   "metadata": {},
   "outputs": [],
   "source": [
    "#Shrinking betas vs. using prior estimates\n",
    "df_beta['beta_adj'] = 0.67*df_beta['beta_0'] +0.33"
   ]
  },
  {
   "cell_type": "code",
   "execution_count": 15,
   "metadata": {},
   "outputs": [
    {
     "name": "stdout",
     "output_type": "stream",
     "text": [
      "Mean-squared Error of Using Past Beta:\t  0.0799\n"
     ]
    }
   ],
   "source": [
    "# Use first-half estimate\n",
    "mse_firsthalf = ((df_beta.beta_1 - df_beta.beta_0)**2).mean()\n",
    "print(f'Mean-squared Error of Using Past Beta:\\t {mse_firsthalf: .4f}')"
   ]
  },
  {
   "cell_type": "code",
   "execution_count": 16,
   "metadata": {},
   "outputs": [
    {
     "name": "stdout",
     "output_type": "stream",
     "text": [
      "Mean-squared Error of Adjusted Beta:\t  0.0739\n"
     ]
    }
   ],
   "source": [
    "# Use adjusted version of first-half estimate\n",
    "mse_shrink = ((df_beta.beta_1 - df_beta.beta_adj)**2).mean()\n",
    "print(f'Mean-squared Error of Adjusted Beta:\\t {mse_shrink: .4f}')"
   ]
  },
  {
   "cell_type": "code",
   "execution_count": 17,
   "metadata": {},
   "outputs": [
    {
     "name": "stdout",
     "output_type": "stream",
     "text": [
      "Mean-squared Error of Fitted Beta:\t  0.0672\n",
      "Note this has a look-ahead problem!\n"
     ]
    }
   ],
   "source": [
    "# Use fitted regression (remember that we knew the outcomes in order to fit this!)\n",
    "a = results.params[0]\n",
    "b = results.params[1]\n",
    "df_beta['beta_fitted'] = a + b*df_beta['beta_0']            # alternatively, use: results.fittedvalues\n",
    "mse_fitted = ((df_beta.beta_1 - df_beta.beta_fitted)**2).mean()\n",
    "print(f'Mean-squared Error of Fitted Beta:\\t {mse_fitted: .4f}')\n",
    "print(f'Note this has a look-ahead problem!')"
   ]
  },
  {
   "attachments": {},
   "cell_type": "markdown",
   "metadata": {},
   "source": [
    "### How persistent is alpha?"
   ]
  },
  {
   "cell_type": "code",
   "execution_count": 18,
   "metadata": {},
   "outputs": [
    {
     "name": "stdout",
     "output_type": "stream",
     "text": [
      "                            OLS Regression Results                            \n",
      "==============================================================================\n",
      "Dep. Variable:                alpha_1   R-squared:                       0.200\n",
      "Model:                            OLS   Adj. R-squared:                  0.183\n",
      "Method:                 Least Squares   F-statistic:                     11.51\n",
      "Date:                Mon, 20 Mar 2023   Prob (F-statistic):            0.00144\n",
      "Time:                        21:04:29   Log-Likelihood:                 222.40\n",
      "No. Observations:                  48   AIC:                            -440.8\n",
      "Df Residuals:                      46   BIC:                            -437.1\n",
      "Df Model:                           1                                         \n",
      "Covariance Type:            nonrobust                                         \n",
      "==============================================================================\n",
      "                 coef    std err          t      P>|t|      [0.025      0.975]\n",
      "------------------------------------------------------------------------------\n",
      "const          0.0012      0.000      3.335      0.002       0.000       0.002\n",
      "alpha_0        0.4845      0.143      3.392      0.001       0.197       0.772\n",
      "==============================================================================\n",
      "Omnibus:                        0.989   Durbin-Watson:                   1.774\n",
      "Prob(Omnibus):                  0.610   Jarque-Bera (JB):                1.011\n",
      "Skew:                           0.313   Prob(JB):                        0.603\n",
      "Kurtosis:                       2.661   Cond. No.                         412.\n",
      "==============================================================================\n",
      "\n",
      "Notes:\n",
      "[1] Standard Errors assume that the covariance matrix of the errors is correctly specified.\n"
     ]
    }
   ],
   "source": [
    "# Alpha regression\n",
    "y = df_beta['alpha_1']\n",
    "X = sm.add_constant(df_beta['alpha_0'])\n",
    "# X = df_beta['alpha_0']\n",
    "results = sm.OLS(y, X, missing='drop').fit()\n",
    "print(results.summary())"
   ]
  },
  {
   "cell_type": "code",
   "execution_count": 19,
   "metadata": {},
   "outputs": [
    {
     "data": {
      "application/vnd.plotly.v1+json": {
       "config": {
        "plotlyServerURL": "https://plot.ly"
       },
       "data": [
        {
         "mode": "markers",
         "type": "scatter",
         "x": [
          -0.0007346650148750288,
          0.003922591683465789,
          0.0007953233789803967,
          0.0037932887262841003,
          0.005698467586261039,
          -0.0019452068933081721,
          0.0024017175870931964,
          0.0001875110921459491,
          -0.0009998643005673079,
          0.0003467624434362413,
          -0.0005927976934089196,
          -0.0005812787564778981,
          0.0017294339143304506,
          0.0010860912410928395,
          0.0004212921712564957,
          0.0008992864374584328,
          -0.00027700568850976925,
          -0.004270707510818131,
          -0.002615089453643686,
          -0.0014197881328395308,
          -0.0016041880212686547,
          0.0010818425213312433,
          -0.00023034338285572871,
          0.002100649934651996,
          -0.0035491411838219633,
          0.003741483254213637,
          0.002821125339608691,
          -0.0006150351399648755,
          -0.0030883988382950527,
          0.0022866600629049957,
          0.0012881786680971842,
          0.0030580688741868936,
          -0.004816219419392979,
          0.00010026837547862956,
          -0.0033837507743079242,
          -0.0009730674544398485,
          -0.0015453948810190354,
          0.00034932270939149065,
          0.00042056324887917713,
          -0.000019151393896834224,
          0.00009193390706043153,
          0.00031706247903554876,
          -0.00038709164696808,
          0.0007900003306731588,
          0.0013643907041966208,
          -0.005698362502700251,
          0.0007174758185642782,
          -0.005768405438586064
         ],
         "y": [
          0.004250050258832972,
          0.0030182090038238817,
          0.005128214621981128,
          0.003210886361304341,
          0.007400867004452881,
          -0.003640514145367313,
          0.0004193384254633104,
          -0.0023245218029305775,
          0.0023925728640321405,
          0.001602479752940189,
          -0.00006091525806649692,
          0.0034649958132827617,
          0.00369273693607525,
          0.00010515113274254737,
          0.0011773008279635736,
          -0.0026943392615613447,
          -0.00003336940874327024,
          0.0020716358902487433,
          -0.00332761346858234,
          -0.002490631170735282,
          0.0010598347321661608,
          0.00010273814287336158,
          -0.0012028491049041142,
          0.0019717583945563933,
          0.005119204685934258,
          0.007004292541060268,
          0.0026700415478928424,
          0.001995467964495053,
          0.004574112378908054,
          0.002474287309778177,
          0.003937267996129886,
          -0.0016736576115983317,
          -0.0021526339389454276,
          0.00019180402263844806,
          -0.00014376188469490984,
          0.0006875850581420811,
          0.0016210504336992848,
          -0.0008363372915672287,
          0.0006944054602943308,
          0.0004470712115664554,
          0.000517353725733568,
          0.0026687292343729042,
          0.0032681525182863833,
          -0.0007517281498812792,
          0.0023602659675043417,
          -0.002809195690130436,
          0.0002111608319322303,
          -0.0034199170116581542
         ]
        },
        {
         "mode": "lines",
         "name": "45-degree line",
         "type": "scatter",
         "x": [
          -0.005768405438586064,
          -0.005075285836320857,
          -0.004382166234055649,
          -0.0036890466317904412,
          -0.0029959270295252336,
          -0.002302807427260026,
          -0.0016096878249948184,
          -0.0009165682227296103,
          -0.00022344862046440317,
          0.000469670981800804,
          0.001162790584066012,
          0.00185591018633122,
          0.0025490297885964273,
          0.0032421493908616345,
          0.003935268993126843,
          0.0046283885953920505,
          0.005321508197657258,
          0.006014627799922465,
          0.006707747402187672,
          0.007400867004452881
         ],
         "y": [
          -0.005768405438586064,
          -0.005075285836320857,
          -0.004382166234055649,
          -0.0036890466317904412,
          -0.0029959270295252336,
          -0.002302807427260026,
          -0.0016096878249948184,
          -0.0009165682227296103,
          -0.00022344862046440317,
          0.000469670981800804,
          0.001162790584066012,
          0.00185591018633122,
          0.0025490297885964273,
          0.0032421493908616345,
          0.003935268993126843,
          0.0046283885953920505,
          0.005321508197657258,
          0.006014627799922465,
          0.006707747402187672,
          0.007400867004452881
         ]
        },
        {
         "mode": "lines",
         "name": "Predicted",
         "type": "scatter",
         "x": [
          -0.005768405438586064,
          -0.005075285836320857,
          -0.004382166234055649,
          -0.0036890466317904412,
          -0.0029959270295252336,
          -0.002302807427260026,
          -0.0016096878249948184,
          -0.0009165682227296103,
          -0.00022344862046440317,
          0.000469670981800804,
          0.001162790584066012,
          0.00185591018633122,
          0.0025490297885964273,
          0.0032421493908616345,
          0.003935268993126843,
          0.0046283885953920505,
          0.005321508197657258,
          0.006014627799922465,
          0.006707747402187672,
          0.007400867004452881
         ],
         "y": [
          -0.00163724341500191,
          -0.001301458507762108,
          -0.0009656736005223062,
          -0.0006298886932825042,
          -0.00029410378604270227,
          0.000041681121197099675,
          0.0003774660284369015,
          0.0007132509356767036,
          0.0010490358429165053,
          0.001384820750156307,
          0.001720605657396109,
          0.002056390564635911,
          0.002392175471875713,
          0.0027279603791155148,
          0.0030637452863553167,
          0.0033995301935951187,
          0.00373531510083492,
          0.0040711000080747226,
          0.004406884915314524,
          0.0047426698225543264
         ]
        }
       ],
       "layout": {
        "legend": {
         "x": 0.01,
         "xanchor": "left",
         "y": 0.99,
         "yanchor": "top"
        },
        "template": {
         "data": {
          "bar": [
           {
            "error_x": {
             "color": "#2a3f5f"
            },
            "error_y": {
             "color": "#2a3f5f"
            },
            "marker": {
             "line": {
              "color": "#E5ECF6",
              "width": 0.5
             },
             "pattern": {
              "fillmode": "overlay",
              "size": 10,
              "solidity": 0.2
             }
            },
            "type": "bar"
           }
          ],
          "barpolar": [
           {
            "marker": {
             "line": {
              "color": "#E5ECF6",
              "width": 0.5
             },
             "pattern": {
              "fillmode": "overlay",
              "size": 10,
              "solidity": 0.2
             }
            },
            "type": "barpolar"
           }
          ],
          "carpet": [
           {
            "aaxis": {
             "endlinecolor": "#2a3f5f",
             "gridcolor": "white",
             "linecolor": "white",
             "minorgridcolor": "white",
             "startlinecolor": "#2a3f5f"
            },
            "baxis": {
             "endlinecolor": "#2a3f5f",
             "gridcolor": "white",
             "linecolor": "white",
             "minorgridcolor": "white",
             "startlinecolor": "#2a3f5f"
            },
            "type": "carpet"
           }
          ],
          "choropleth": [
           {
            "colorbar": {
             "outlinewidth": 0,
             "ticks": ""
            },
            "type": "choropleth"
           }
          ],
          "contour": [
           {
            "colorbar": {
             "outlinewidth": 0,
             "ticks": ""
            },
            "colorscale": [
             [
              0,
              "#0d0887"
             ],
             [
              0.1111111111111111,
              "#46039f"
             ],
             [
              0.2222222222222222,
              "#7201a8"
             ],
             [
              0.3333333333333333,
              "#9c179e"
             ],
             [
              0.4444444444444444,
              "#bd3786"
             ],
             [
              0.5555555555555556,
              "#d8576b"
             ],
             [
              0.6666666666666666,
              "#ed7953"
             ],
             [
              0.7777777777777778,
              "#fb9f3a"
             ],
             [
              0.8888888888888888,
              "#fdca26"
             ],
             [
              1,
              "#f0f921"
             ]
            ],
            "type": "contour"
           }
          ],
          "contourcarpet": [
           {
            "colorbar": {
             "outlinewidth": 0,
             "ticks": ""
            },
            "type": "contourcarpet"
           }
          ],
          "heatmap": [
           {
            "colorbar": {
             "outlinewidth": 0,
             "ticks": ""
            },
            "colorscale": [
             [
              0,
              "#0d0887"
             ],
             [
              0.1111111111111111,
              "#46039f"
             ],
             [
              0.2222222222222222,
              "#7201a8"
             ],
             [
              0.3333333333333333,
              "#9c179e"
             ],
             [
              0.4444444444444444,
              "#bd3786"
             ],
             [
              0.5555555555555556,
              "#d8576b"
             ],
             [
              0.6666666666666666,
              "#ed7953"
             ],
             [
              0.7777777777777778,
              "#fb9f3a"
             ],
             [
              0.8888888888888888,
              "#fdca26"
             ],
             [
              1,
              "#f0f921"
             ]
            ],
            "type": "heatmap"
           }
          ],
          "heatmapgl": [
           {
            "colorbar": {
             "outlinewidth": 0,
             "ticks": ""
            },
            "colorscale": [
             [
              0,
              "#0d0887"
             ],
             [
              0.1111111111111111,
              "#46039f"
             ],
             [
              0.2222222222222222,
              "#7201a8"
             ],
             [
              0.3333333333333333,
              "#9c179e"
             ],
             [
              0.4444444444444444,
              "#bd3786"
             ],
             [
              0.5555555555555556,
              "#d8576b"
             ],
             [
              0.6666666666666666,
              "#ed7953"
             ],
             [
              0.7777777777777778,
              "#fb9f3a"
             ],
             [
              0.8888888888888888,
              "#fdca26"
             ],
             [
              1,
              "#f0f921"
             ]
            ],
            "type": "heatmapgl"
           }
          ],
          "histogram": [
           {
            "marker": {
             "pattern": {
              "fillmode": "overlay",
              "size": 10,
              "solidity": 0.2
             }
            },
            "type": "histogram"
           }
          ],
          "histogram2d": [
           {
            "colorbar": {
             "outlinewidth": 0,
             "ticks": ""
            },
            "colorscale": [
             [
              0,
              "#0d0887"
             ],
             [
              0.1111111111111111,
              "#46039f"
             ],
             [
              0.2222222222222222,
              "#7201a8"
             ],
             [
              0.3333333333333333,
              "#9c179e"
             ],
             [
              0.4444444444444444,
              "#bd3786"
             ],
             [
              0.5555555555555556,
              "#d8576b"
             ],
             [
              0.6666666666666666,
              "#ed7953"
             ],
             [
              0.7777777777777778,
              "#fb9f3a"
             ],
             [
              0.8888888888888888,
              "#fdca26"
             ],
             [
              1,
              "#f0f921"
             ]
            ],
            "type": "histogram2d"
           }
          ],
          "histogram2dcontour": [
           {
            "colorbar": {
             "outlinewidth": 0,
             "ticks": ""
            },
            "colorscale": [
             [
              0,
              "#0d0887"
             ],
             [
              0.1111111111111111,
              "#46039f"
             ],
             [
              0.2222222222222222,
              "#7201a8"
             ],
             [
              0.3333333333333333,
              "#9c179e"
             ],
             [
              0.4444444444444444,
              "#bd3786"
             ],
             [
              0.5555555555555556,
              "#d8576b"
             ],
             [
              0.6666666666666666,
              "#ed7953"
             ],
             [
              0.7777777777777778,
              "#fb9f3a"
             ],
             [
              0.8888888888888888,
              "#fdca26"
             ],
             [
              1,
              "#f0f921"
             ]
            ],
            "type": "histogram2dcontour"
           }
          ],
          "mesh3d": [
           {
            "colorbar": {
             "outlinewidth": 0,
             "ticks": ""
            },
            "type": "mesh3d"
           }
          ],
          "parcoords": [
           {
            "line": {
             "colorbar": {
              "outlinewidth": 0,
              "ticks": ""
             }
            },
            "type": "parcoords"
           }
          ],
          "pie": [
           {
            "automargin": true,
            "type": "pie"
           }
          ],
          "scatter": [
           {
            "fillpattern": {
             "fillmode": "overlay",
             "size": 10,
             "solidity": 0.2
            },
            "type": "scatter"
           }
          ],
          "scatter3d": [
           {
            "line": {
             "colorbar": {
              "outlinewidth": 0,
              "ticks": ""
             }
            },
            "marker": {
             "colorbar": {
              "outlinewidth": 0,
              "ticks": ""
             }
            },
            "type": "scatter3d"
           }
          ],
          "scattercarpet": [
           {
            "marker": {
             "colorbar": {
              "outlinewidth": 0,
              "ticks": ""
             }
            },
            "type": "scattercarpet"
           }
          ],
          "scattergeo": [
           {
            "marker": {
             "colorbar": {
              "outlinewidth": 0,
              "ticks": ""
             }
            },
            "type": "scattergeo"
           }
          ],
          "scattergl": [
           {
            "marker": {
             "colorbar": {
              "outlinewidth": 0,
              "ticks": ""
             }
            },
            "type": "scattergl"
           }
          ],
          "scattermapbox": [
           {
            "marker": {
             "colorbar": {
              "outlinewidth": 0,
              "ticks": ""
             }
            },
            "type": "scattermapbox"
           }
          ],
          "scatterpolar": [
           {
            "marker": {
             "colorbar": {
              "outlinewidth": 0,
              "ticks": ""
             }
            },
            "type": "scatterpolar"
           }
          ],
          "scatterpolargl": [
           {
            "marker": {
             "colorbar": {
              "outlinewidth": 0,
              "ticks": ""
             }
            },
            "type": "scatterpolargl"
           }
          ],
          "scatterternary": [
           {
            "marker": {
             "colorbar": {
              "outlinewidth": 0,
              "ticks": ""
             }
            },
            "type": "scatterternary"
           }
          ],
          "surface": [
           {
            "colorbar": {
             "outlinewidth": 0,
             "ticks": ""
            },
            "colorscale": [
             [
              0,
              "#0d0887"
             ],
             [
              0.1111111111111111,
              "#46039f"
             ],
             [
              0.2222222222222222,
              "#7201a8"
             ],
             [
              0.3333333333333333,
              "#9c179e"
             ],
             [
              0.4444444444444444,
              "#bd3786"
             ],
             [
              0.5555555555555556,
              "#d8576b"
             ],
             [
              0.6666666666666666,
              "#ed7953"
             ],
             [
              0.7777777777777778,
              "#fb9f3a"
             ],
             [
              0.8888888888888888,
              "#fdca26"
             ],
             [
              1,
              "#f0f921"
             ]
            ],
            "type": "surface"
           }
          ],
          "table": [
           {
            "cells": {
             "fill": {
              "color": "#EBF0F8"
             },
             "line": {
              "color": "white"
             }
            },
            "header": {
             "fill": {
              "color": "#C8D4E3"
             },
             "line": {
              "color": "white"
             }
            },
            "type": "table"
           }
          ]
         },
         "layout": {
          "annotationdefaults": {
           "arrowcolor": "#2a3f5f",
           "arrowhead": 0,
           "arrowwidth": 1
          },
          "autotypenumbers": "strict",
          "coloraxis": {
           "colorbar": {
            "outlinewidth": 0,
            "ticks": ""
           }
          },
          "colorscale": {
           "diverging": [
            [
             0,
             "#8e0152"
            ],
            [
             0.1,
             "#c51b7d"
            ],
            [
             0.2,
             "#de77ae"
            ],
            [
             0.3,
             "#f1b6da"
            ],
            [
             0.4,
             "#fde0ef"
            ],
            [
             0.5,
             "#f7f7f7"
            ],
            [
             0.6,
             "#e6f5d0"
            ],
            [
             0.7,
             "#b8e186"
            ],
            [
             0.8,
             "#7fbc41"
            ],
            [
             0.9,
             "#4d9221"
            ],
            [
             1,
             "#276419"
            ]
           ],
           "sequential": [
            [
             0,
             "#0d0887"
            ],
            [
             0.1111111111111111,
             "#46039f"
            ],
            [
             0.2222222222222222,
             "#7201a8"
            ],
            [
             0.3333333333333333,
             "#9c179e"
            ],
            [
             0.4444444444444444,
             "#bd3786"
            ],
            [
             0.5555555555555556,
             "#d8576b"
            ],
            [
             0.6666666666666666,
             "#ed7953"
            ],
            [
             0.7777777777777778,
             "#fb9f3a"
            ],
            [
             0.8888888888888888,
             "#fdca26"
            ],
            [
             1,
             "#f0f921"
            ]
           ],
           "sequentialminus": [
            [
             0,
             "#0d0887"
            ],
            [
             0.1111111111111111,
             "#46039f"
            ],
            [
             0.2222222222222222,
             "#7201a8"
            ],
            [
             0.3333333333333333,
             "#9c179e"
            ],
            [
             0.4444444444444444,
             "#bd3786"
            ],
            [
             0.5555555555555556,
             "#d8576b"
            ],
            [
             0.6666666666666666,
             "#ed7953"
            ],
            [
             0.7777777777777778,
             "#fb9f3a"
            ],
            [
             0.8888888888888888,
             "#fdca26"
            ],
            [
             1,
             "#f0f921"
            ]
           ]
          },
          "colorway": [
           "#636efa",
           "#EF553B",
           "#00cc96",
           "#ab63fa",
           "#FFA15A",
           "#19d3f3",
           "#FF6692",
           "#B6E880",
           "#FF97FF",
           "#FECB52"
          ],
          "font": {
           "color": "#2a3f5f"
          },
          "geo": {
           "bgcolor": "white",
           "lakecolor": "white",
           "landcolor": "#E5ECF6",
           "showlakes": true,
           "showland": true,
           "subunitcolor": "white"
          },
          "hoverlabel": {
           "align": "left"
          },
          "hovermode": "closest",
          "mapbox": {
           "style": "light"
          },
          "paper_bgcolor": "white",
          "plot_bgcolor": "#E5ECF6",
          "polar": {
           "angularaxis": {
            "gridcolor": "white",
            "linecolor": "white",
            "ticks": ""
           },
           "bgcolor": "#E5ECF6",
           "radialaxis": {
            "gridcolor": "white",
            "linecolor": "white",
            "ticks": ""
           }
          },
          "scene": {
           "xaxis": {
            "backgroundcolor": "#E5ECF6",
            "gridcolor": "white",
            "gridwidth": 2,
            "linecolor": "white",
            "showbackground": true,
            "ticks": "",
            "zerolinecolor": "white"
           },
           "yaxis": {
            "backgroundcolor": "#E5ECF6",
            "gridcolor": "white",
            "gridwidth": 2,
            "linecolor": "white",
            "showbackground": true,
            "ticks": "",
            "zerolinecolor": "white"
           },
           "zaxis": {
            "backgroundcolor": "#E5ECF6",
            "gridcolor": "white",
            "gridwidth": 2,
            "linecolor": "white",
            "showbackground": true,
            "ticks": "",
            "zerolinecolor": "white"
           }
          },
          "shapedefaults": {
           "line": {
            "color": "#2a3f5f"
           }
          },
          "ternary": {
           "aaxis": {
            "gridcolor": "white",
            "linecolor": "white",
            "ticks": ""
           },
           "baxis": {
            "gridcolor": "white",
            "linecolor": "white",
            "ticks": ""
           },
           "bgcolor": "#E5ECF6",
           "caxis": {
            "gridcolor": "white",
            "linecolor": "white",
            "ticks": ""
           }
          },
          "title": {
           "x": 0.05
          },
          "xaxis": {
           "automargin": true,
           "gridcolor": "white",
           "linecolor": "white",
           "ticks": "",
           "title": {
            "standoff": 15
           },
           "zerolinecolor": "white",
           "zerolinewidth": 2
          },
          "yaxis": {
           "automargin": true,
           "gridcolor": "white",
           "linecolor": "white",
           "ticks": "",
           "title": {
            "standoff": 15
           },
           "zerolinecolor": "white",
           "zerolinewidth": 2
          }
         }
        },
        "title": {
         "text": "Alpha Persistence"
        },
        "xaxis": {
         "range": [
          -0.006345245982444671,
          0.00814095370489817
         ],
         "tickformat": ".2%",
         "title": {
          "text": "1st Half Alpha"
         }
        },
        "yaxis": {
         "range": [
          -0.006345245982444671,
          0.00814095370489817
         ],
         "tickformat": ".2%",
         "title": {
          "text": "2nd Half Alpha"
         }
        }
       }
      }
     },
     "metadata": {},
     "output_type": "display_data"
    }
   ],
   "source": [
    "# Scatter plot\n",
    "\n",
    "trace  = go.Scatter(x=df_beta['alpha_0'], y=df_beta['alpha_1'], mode=\"markers\")\n",
    "minval = np.min([df_beta['alpha_1'].min(), df_beta['alpha_0'].min()])\n",
    "maxval = np.max([df_beta['alpha_1'].max(), df_beta['alpha_0'].max()])\n",
    "trace_45 = go.Scatter(x= np.linspace(minval,maxval,20), y = np.linspace(minval,maxval,20), mode='lines',name='45-degree line')\n",
    "ols_fit = results.params[0] + results.params[1]*np.linspace(minval,maxval,20)\n",
    "# ols_fit = results.params['alpha_0']*np.linspace(minval,maxval,20)\n",
    "trace_ols= go.Scatter(x= np.linspace(minval,maxval,20), y = ols_fit, mode='lines',name='Predicted')\n",
    "\n",
    "fig = go.Figure()\n",
    "fig.add_trace(trace)\n",
    "fig.add_trace(trace_45)\n",
    "fig.add_trace(trace_ols)\n",
    "fig.update_xaxes(title='1st Half Alpha',tickformat=\".2%\", range=[1.1*minval, 1.1*maxval])\n",
    "fig.update_yaxes(title='2nd Half Alpha',tickformat=\".2%\", range=[1.1*minval, 1.1*maxval])\n",
    "fig.update_layout(title='Alpha Persistence')\n",
    "fig.update_layout(legend=dict(yanchor=\"top\", y =0.99, xanchor=\"left\", x=0.01))\n",
    "fig.show()"
   ]
  }
 ],
 "metadata": {
  "kernelspec": {
   "display_name": "Python 3.10.6 ('venv': venv)",
   "language": "python",
   "name": "python3"
  },
  "language_info": {
   "codemirror_mode": {
    "name": "ipython",
    "version": 3
   },
   "file_extension": ".py",
   "mimetype": "text/x-python",
   "name": "python",
   "nbconvert_exporter": "python",
   "pygments_lexer": "ipython3",
   "version": "3.10.6"
  },
  "orig_nbformat": 4,
  "vscode": {
   "interpreter": {
    "hash": "cc788b38d8cb434c82f45ef9d481d0310e17b79321e4c8cbfbfe90f656a3f023"
   }
  }
 },
 "nbformat": 4,
 "nbformat_minor": 2
}
