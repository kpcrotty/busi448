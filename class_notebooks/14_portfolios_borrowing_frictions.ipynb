{
 "cells": [
  {
   "attachments": {},
   "cell_type": "markdown",
   "metadata": {},
   "source": [
    "# Optimal portfolios with frictions"
   ]
  },
  {
   "cell_type": "code",
   "execution_count": 1,
   "metadata": {},
   "outputs": [],
   "source": [
    "import numpy as np\n",
    "import pandas as pd\n",
    "import plotly.graph_objects as go\n",
    "from scipy.optimize import minimize\n",
    "from cvxopt import matrix\n",
    "from cvxopt.solvers import qp as Solver, options as SolverOptions"
   ]
  },
  {
   "attachments": {},
   "cell_type": "markdown",
   "metadata": {},
   "source": [
    "### Inputs"
   ]
  },
  {
   "cell_type": "code",
   "execution_count": 2,
   "metadata": {},
   "outputs": [
    {
     "name": "stdout",
     "output_type": "stream",
     "text": [
      "[[ 0.0225    -0.0002625]\n",
      " [-0.0002625  0.001225 ]]\n"
     ]
    }
   ],
   "source": [
    "##### Inputs\n",
    "# Risk-free rate\n",
    "RF = 0.02\n",
    "RF_BORROW = 0.0325\n",
    "\n",
    "# Expected returns\n",
    "MNS = np.array([0.06, 0.035])\n",
    "\n",
    "# Standard deviations\n",
    "SDS = np.array([0.15, 0.035])\n",
    "\n",
    "# Correlations\n",
    "C  = np.identity(2)\n",
    "C[0, 1] = C[1, 0] = -0.05\n",
    "\n",
    "# Covariance matrix\n",
    "COV = np.diag(SDS) @ C @ np.diag(SDS)\n",
    "print(COV)"
   ]
  },
  {
   "cell_type": "markdown",
   "metadata": {},
   "source": [
    "### Tangency function"
   ]
  },
  {
   "cell_type": "code",
   "execution_count": 3,
   "metadata": {},
   "outputs": [],
   "source": [
    "def tangency(means, cov, rf):\n",
    "    n = len(means)\n",
    "    def f(w):\n",
    "        mn = w @ means\n",
    "        sd = np.sqrt(w @ cov @ w)\n",
    "        return -(mn - rf) / sd\n",
    "    # Initial guess (equal-weighted)\n",
    "    w0 = (1/n)*np.ones(n)\n",
    "    # Constraint: fully-invested portfolio\n",
    "    A = np.ones(n)\n",
    "    b = 1\n",
    "    cons = [{\"type\": \"eq\", \"fun\": lambda x: A @ x - b}]\n",
    "    # No short-sale constraint\n",
    "    bnds = [(None, None) for i in range(n)] \n",
    "    # Optimization\n",
    "    TOL = 10**(-10)\n",
    "    wgts = minimize(f, w0, bounds=bnds, constraints=cons, options={'ftol':TOL}).x\n",
    "    return wgts"
   ]
  },
  {
   "attachments": {},
   "cell_type": "markdown",
   "metadata": {},
   "source": [
    "### Tangency portfolio relative to savings rate"
   ]
  },
  {
   "cell_type": "code",
   "execution_count": 4,
   "metadata": {},
   "outputs": [
    {
     "name": "stdout",
     "output_type": "stream",
     "text": [
      "Tangency (relative to savings rate) portfolio weights: [0.13203413 0.86796587]\n"
     ]
    }
   ],
   "source": [
    "wgts_tang_save = tangency(MNS, COV, RF)\n",
    "print(f'Tangency (relative to savings rate) portfolio weights: {wgts_tang_save}')"
   ]
  },
  {
   "cell_type": "code",
   "execution_count": 5,
   "metadata": {},
   "outputs": [
    {
     "name": "stdout",
     "output_type": "stream",
     "text": [
      "Portfolio Expected Return:\t\t\t  0.0383\n",
      "Portfolio Standard Deviation:\t\t\t  0.0354\n",
      "Portfolio Sharpe Ratio (using savings rate):\t  0.5166\n"
     ]
    }
   ],
   "source": [
    "# Portfolio expected return\n",
    "port_expret = wgts_tang_save @ MNS\n",
    "print(f'Portfolio Expected Return:\\t\\t\\t {port_expret: ,.4f}')\n",
    "\n",
    "# Portfolio standard deviation\n",
    "port_sd = np.sqrt(wgts_tang_save @ COV @ wgts_tang_save)\n",
    "print(f'Portfolio Standard Deviation:\\t\\t\\t {port_sd: ,.4f}')\n",
    "\n",
    "# Portfolio sharpe ratio\n",
    "port_sr = (port_expret - RF)/port_sd\n",
    "print(f'Portfolio Sharpe Ratio (using savings rate):\\t {port_sr: ,.4f}')"
   ]
  },
  {
   "attachments": {},
   "cell_type": "markdown",
   "metadata": {},
   "source": [
    "### Tangency portfolio relative to borrowing rate"
   ]
  },
  {
   "cell_type": "code",
   "execution_count": 6,
   "metadata": {},
   "outputs": [
    {
     "name": "stdout",
     "output_type": "stream",
     "text": [
      "Tangency (relative to borrowing rate) portfolio weights: [0.35111804 0.64888196]\n"
     ]
    }
   ],
   "source": [
    "wgts_tang_borrow = tangency(MNS, COV, RF_BORROW)\n",
    "print(f'Tangency (relative to borrowing rate) portfolio weights: {wgts_tang_borrow}')"
   ]
  },
  {
   "cell_type": "code",
   "execution_count": 7,
   "metadata": {},
   "outputs": [
    {
     "name": "stdout",
     "output_type": "stream",
     "text": [
      "Portfolio Expected Return:\t\t\t  0.0438\n",
      "Portfolio Standard Deviation:\t\t\t  0.0563\n",
      "Portfolio Sharpe Ratio (using savings rate):\t  0.2003\n"
     ]
    }
   ],
   "source": [
    "# Portfolio expected return\n",
    "port_expret = wgts_tang_borrow @ MNS\n",
    "print(f'Portfolio Expected Return:\\t\\t\\t {port_expret: ,.4f}')\n",
    "\n",
    "# Portfolio standard deviation\n",
    "port_sd = np.sqrt(wgts_tang_borrow @ COV @ wgts_tang_borrow)\n",
    "print(f'Portfolio Standard Deviation:\\t\\t\\t {port_sd: ,.4f}')\n",
    "\n",
    "# Portfolio sharpe ratio\n",
    "port_sr = (port_expret - RF_BORROW)/port_sd\n",
    "print(f'Portfolio Sharpe Ratio (using savings rate):\\t {port_sr: ,.4f}')"
   ]
  },
  {
   "attachments": {},
   "cell_type": "markdown",
   "metadata": {},
   "source": [
    "### Capital allocation and risk aversion"
   ]
  },
  {
   "attachments": {},
   "cell_type": "markdown",
   "metadata": {},
   "source": [
    "- Method #1: Find risk-aversions that represent each tangency portfolio\n",
    "- Method #2: Directly maximize MV utility using all assets"
   ]
  },
  {
   "attachments": {},
   "cell_type": "markdown",
   "metadata": {},
   "source": [
    "#### Method 1\n",
    "Set $w^*=1$ in the expression $w^* = \\frac{E[r_p-r_f]}{A\\cdot \\text{var}(r_p)}$ and solve for $A$:\n",
    "\n",
    "$$A = \\frac{E[r_p-r_f]}{\\text{var}(r_p)}.$$\n"
   ]
  },
  {
   "cell_type": "code",
   "execution_count": 8,
   "metadata": {},
   "outputs": [
    {
     "name": "stdout",
     "output_type": "stream",
     "text": [
      "Risk aversion upper threshold:\t  14.6\n",
      "Risk aversions above this level will do some saving\n"
     ]
    }
   ],
   "source": [
    "lo_expret = wgts_tang_save @ MNS\n",
    "lo_var    = wgts_tang_save @ COV @ wgts_tang_save\n",
    "raver_upper_threshold = (lo_expret - RF) / lo_var\n",
    "print(f'Risk aversion upper threshold:\\t {raver_upper_threshold: ,.1f}')\n",
    "print(f'Risk aversions above this level will do some saving')"
   ]
  },
  {
   "cell_type": "code",
   "execution_count": 9,
   "metadata": {},
   "outputs": [
    {
     "name": "stdout",
     "output_type": "stream",
     "text": [
      "Risk aversion lower threshold:\t  3.6\n",
      "Risk aversions below this level will invest in levered positions\n",
      "Risk aversions between  3.6 and  14.6 will invest along the risky asset frontier\n"
     ]
    }
   ],
   "source": [
    "hi_expret = wgts_tang_borrow @ MNS\n",
    "hi_var    = wgts_tang_borrow @ COV @ wgts_tang_borrow\n",
    "raver_lower_threshold = (hi_expret - RF_BORROW) / hi_var\n",
    "print(f'Risk aversion lower threshold:\\t {raver_lower_threshold: ,.1f}')\n",
    "print(f'Risk aversions below this level will invest in levered positions')\n",
    "print(f'Risk aversions between {raver_lower_threshold: ,.1f} and {raver_upper_threshold: ,.1f} will invest along the risky asset frontier')\n"
   ]
  },
  {
   "attachments": {},
   "cell_type": "markdown",
   "metadata": {},
   "source": [
    "For risk aversions between the thresholds, we solve for the frontier portfolio that maximizes mean-variance utility at the given risk aversion.  We make use of the fact that any frontier portfolio can be expressed as a portfolio of two frontier portfolios.  So we consider the portfolio that invests $a$ in the efficient low-risk portfolio and $1-a$ in the efficient high-risk portfolio and maximizes utility:\n",
    "$$ \\underset{a}\\max E[r_p] - 0.5\\cdot A \\cdot \\text{var}[r_p]\\,. $$  \n",
    "with $r_p = a \\cdot r_{\\text{LO}} + (1-a) \\cdot r_{\\text{HI}}$.  In order to calculate the portfolio variance, we need to calculate the covariance between the two frontier portfolios.  \n"
   ]
  },
  {
   "cell_type": "code",
   "execution_count": 10,
   "metadata": {},
   "outputs": [],
   "source": [
    "# What is the covariance between the efficient low and high risk portfolios?\n",
    "cov_hilo = wgts_tang_save @ COV @ wgts_tang_borrow"
   ]
  },
  {
   "cell_type": "code",
   "execution_count": 11,
   "metadata": {},
   "outputs": [],
   "source": [
    "def opt_allocation(means, cov, rf_save, rf_borrow, risk_aversion):\n",
    "    # Calculate two tangencies\n",
    "    wgts_tang_save = tangency(means, cov, rf_save)\n",
    "    wgts_tang_borrow = tangency(means, cov, rf_borrow)\n",
    "\n",
    "    # Find risk aversion thresholds\n",
    "    lo_expret = wgts_tang_save @ means\n",
    "    lo_var    = wgts_tang_save @ cov @ wgts_tang_save\n",
    "    raver_upper_threshold = (lo_expret - rf_save) / lo_var  \n",
    "\n",
    "    hi_expret = wgts_tang_borrow @ means\n",
    "    hi_var    = wgts_tang_borrow @ cov @ wgts_tang_borrow\n",
    "    raver_lower_threshold = (hi_expret - rf_borrow) / hi_var    \n",
    "    \n",
    "    # Find optimal allocation based on risk aversion\n",
    "    wgts = np.zeros(4)  # 1st element is risk-free saving, 2nd element is risk-free borrowing, 3nd is low-risk tangency, 4th\n",
    "    if risk_aversion >= raver_upper_threshold:\n",
    "        # Savings CAL\n",
    "        wgts[2] = (lo_expret - rf_save) / (risk_aversion * lo_var)\n",
    "        wgts[0] = 1-wgts[2]\n",
    "        wgts[1] = 0.0\n",
    "        wgts[3] = 0.0\n",
    "    elif risk_aversion >= raver_lower_threshold:\n",
    "        # Risky asset frontier\n",
    "        cov_hilo = wgts_tang_save @ cov @ wgts_tang_borrow\n",
    "        wgts[0] = 0.0\n",
    "        wgts[1] = 0.0\n",
    "        wgts[2] = (lo_expret-hi_expret - risk_aversion * (cov_hilo  - hi_var))/(risk_aversion*(lo_var + hi_var - 2*cov_hilo))\n",
    "        wgts[3] = 1-wgts[2]\n",
    "    else:\n",
    "        # Borrowing CAL\n",
    "        wgts[0] = 0.0  \n",
    "        wgts[2] = 0.0  \n",
    "        wgts[3] = (hi_expret - rf_borrow) / (risk_aversion * hi_var)\n",
    "        wgts[1] = 1-wgts[3]\n",
    "    return wgts\n"
   ]
  },
  {
   "cell_type": "code",
   "execution_count": 12,
   "metadata": {},
   "outputs": [
    {
     "name": "stdout",
     "output_type": "stream",
     "text": [
      "For risk aversion of  2.0, invest:\n",
      "\tRisk-free saving\t 0.0%\n",
      "\tRisk-free borrowing\t-77.9%\n",
      "\tEfficient low-risk\t 0.0%\n",
      "\tEfficient high-risk\t 177.9%\n"
     ]
    }
   ],
   "source": [
    "RAVER = 2\n",
    "wgts = opt_allocation(MNS, COV, RF, RF_BORROW, RAVER)\n",
    "print(f'For risk aversion of {RAVER: .1f}, invest:')\n",
    "print(f'\\tRisk-free saving\\t{wgts[0]: ,.1%}')\n",
    "print(f'\\tRisk-free borrowing\\t{wgts[1]: ,.1%}')\n",
    "print(f'\\tEfficient low-risk\\t{wgts[2]: ,.1%}')\n",
    "print(f'\\tEfficient high-risk\\t{wgts[3]: ,.1%}')\n"
   ]
  },
  {
   "cell_type": "code",
   "execution_count": 13,
   "metadata": {},
   "outputs": [
    {
     "data": {
      "text/plain": [
       "array([0.02      , 0.0325    , 0.03830085, 0.04377795])"
      ]
     },
     "execution_count": 13,
     "metadata": {},
     "output_type": "execute_result"
    }
   ],
   "source": [
    "# Expected returns for risk-free savings + borrowing + low-risk efficient + high-risk efficient\n",
    "new_mns = np.array([RF, RF_BORROW, lo_expret, hi_expret])\n",
    "new_mns"
   ]
  },
  {
   "cell_type": "code",
   "execution_count": 14,
   "metadata": {},
   "outputs": [
    {
     "data": {
      "text/plain": [
       "array([[0.        , 0.        , 0.        , 0.        ],\n",
       "       [0.        , 0.        , 0.        , 0.        ],\n",
       "       [0.        , 0.        , 0.00125495, 0.00163053],\n",
       "       [0.        , 0.        , 0.00163053, 0.00317006]])"
      ]
     },
     "execution_count": 14,
     "metadata": {},
     "output_type": "execute_result"
    }
   ],
   "source": [
    "# COV for risk-free savings + borrowing + low-risk efficient + high-risk efficient\n",
    "new_cov = np.zeros((4,4))\n",
    "new_cov[2,2] = lo_var\n",
    "new_cov[3,3] = hi_var\n",
    "new_cov[2,3] = new_cov[3,2] = cov_hilo\n",
    "new_cov"
   ]
  },
  {
   "cell_type": "code",
   "execution_count": 15,
   "metadata": {},
   "outputs": [
    {
     "name": "stdout",
     "output_type": "stream",
     "text": [
      "For risk aversion of  2.0, Portfolio Expected Return:\t\t  0.0526\n",
      "For risk aversion of  2.0, Portfolio Standard Deviation:\t  0.1002\n"
     ]
    }
   ],
   "source": [
    "# Portfolio expected return\n",
    "optport_expret = wgts @ new_mns\n",
    "print(f'For risk aversion of {RAVER: .1f}, Portfolio Expected Return:\\t\\t {optport_expret: ,.4f}')\n",
    "\n",
    "# Portfolio standard deviation\n",
    "optport_sd     = np.sqrt(wgts @ new_cov @ wgts)\n",
    "print(f'For risk aversion of {RAVER: .1f}, Portfolio Standard Deviation:\\t {optport_sd: ,.4f}')"
   ]
  },
  {
   "attachments": {},
   "cell_type": "markdown",
   "metadata": {},
   "source": [
    "#### Method #2: Directly maximize MV utility using all assets\n",
    "\n",
    "The optimal portfolio for investor with risk aversion $A$:\n",
    "$$ \\underset{w_{\\text{saving}},w_{\\text{borrow}},w_1,w_2,\\dots,w_N}{\\text{max}} E[r_p] - 0.5 \\cdot A \\cdot \\text{var}[r_p] $$ \n",
    "subject to the constraints $w_{\\text{saving}} + w_{\\text{borrow}} + \\sum_i w_i=1$, $w_{\\text{saving}} \\ge 0$, and $w_{\\text{borrow}} \\le 0$. \n",
    "\n",
    "We will map this problem into the `cvxopt.solvers.qp` function's general form:\n",
    "\\begin{align*}\n",
    "    \\underset{w}{\\text{min  }}& \\frac{1}{2} w' Q w + p'w \\\\\n",
    "     \\text{subject to  } & Gw \\le h \\\\\n",
    "                        & Aw = b \\\\\n",
    "\\end{align*}"
   ]
  },
  {
   "cell_type": "code",
   "execution_count": 16,
   "metadata": {},
   "outputs": [],
   "source": [
    "def opt_allocation2(means, cov, rf_save, rf_borrow, risk_aversion):\n",
    "    n=len(means)\n",
    "    Q = np.zeros((n + 2, n + 2))\n",
    "    Q[2:, 2:] = risk_aversion * cov\n",
    "    Q = matrix(Q, tc=\"d\")\n",
    "    p = np.array([-rf_save, -rf_borrow] + list(-means))\n",
    "    p = matrix(p, (n + 2, 1), tc=\"d\")\n",
    "    # Constraint: saving weight positive, borrowing weight negative\n",
    "    G = np.zeros((2, n + 2))\n",
    "    G[0, 0] = -1\n",
    "    G[1, 1] = 1\n",
    "    G = matrix(G, (2, n+2), tc=\"d\")\n",
    "    h = matrix([0, 0], (2, 1), tc=\"d\")\n",
    "    # Constraint: fully-invested portfolio\n",
    "    A = matrix(np.ones(n+2), (1, n+2), tc=\"d\")\n",
    "    b = matrix([1], (1, 1), tc=\"d\")\n",
    "    sol = Solver(Q, p, G, h, A, b)\n",
    "    if sol[\"status\"] == \"optimal\":\n",
    "        wgts_optimal = np.array(sol[\"x\"]).flatten()\n",
    "    else:\n",
    "        wgts_optimal = None\n",
    "    return wgts_optimal"
   ]
  },
  {
   "cell_type": "code",
   "execution_count": 17,
   "metadata": {},
   "outputs": [
    {
     "name": "stdout",
     "output_type": "stream",
     "text": [
      "     pcost       dcost       gap    pres   dres\n",
      " 0: -4.2049e-02 -2.9322e-02  2e+00  1e+00  1e+00\n",
      " 1: -2.9913e-02 -6.4796e-02  4e-02  2e-02  2e-02\n",
      " 2: -3.9174e-02 -4.2633e-02  3e-03  6e-05  6e-05\n",
      " 3: -4.2497e-02 -4.2538e-02  4e-05  7e-07  7e-07\n",
      " 4: -4.2530e-02 -4.2531e-02  4e-07  7e-09  7e-09\n",
      " 5: -4.2531e-02 -4.2531e-02  4e-09  7e-11  7e-11\n",
      "Optimal solution found.\n",
      "For risk aversion of  2.0, invest:\n",
      "\tRisk-free saving\t\t 0.0%\n",
      "\tRisk-free borrowing\t\t-77.9%\n",
      "\tTotal weight in risky assets:\t 177.9%\n",
      "Weights in each risky asset of [0.6246 1.1542]\n"
     ]
    }
   ],
   "source": [
    "wgts = opt_allocation2(MNS, COV, RF, RF_BORROW, RAVER)\n",
    "print(f'For risk aversion of {RAVER: .1f}, invest:')\n",
    "print(f'\\tRisk-free saving\\t\\t{wgts[0]: ,.1%}')\n",
    "print(f'\\tRisk-free borrowing\\t\\t{wgts[1]: ,.1%}')\n",
    "print(f'\\tTotal weight in risky assets:\\t{np.sum(wgts[2:]): .1%}')\n",
    "print(f'Weights in each risky asset of {wgts[2:].round(4)}')\n"
   ]
  },
  {
   "cell_type": "code",
   "execution_count": 18,
   "metadata": {},
   "outputs": [
    {
     "name": "stdout",
     "output_type": "stream",
     "text": [
      "For risk aversion of  2.0, Portfolio Expected Return:\t\t  0.0526\n",
      "For risk aversion of  2.0, Portfolio Standard Deviation:\t  0.1002\n"
     ]
    }
   ],
   "source": [
    "# Augment undelying asset means and covariances\n",
    "augmented_mns = np.append([RF, RF_BORROW], MNS)\n",
    "n = len(MNS)\n",
    "augmented_cov = np.zeros((n + 2, n + 2))\n",
    "augmented_cov[2:,2:] = COV\n",
    "\n",
    "# Portfolio expected return\n",
    "optport_expret = wgts @ augmented_mns\n",
    "print(f'For risk aversion of {RAVER: .1f}, Portfolio Expected Return:\\t\\t {optport_expret: ,.4f}')\n",
    "\n",
    "# Portfolio standard deviation\n",
    "optport_sd     = np.sqrt(wgts @ augmented_cov @ wgts)\n",
    "print(f'For risk aversion of {RAVER: .1f}, Portfolio Standard Deviation:\\t {optport_sd: ,.4f}')"
   ]
  },
  {
   "attachments": {},
   "cell_type": "markdown",
   "metadata": {},
   "source": [
    "### Optimal allocation dataframe"
   ]
  },
  {
   "cell_type": "code",
   "execution_count": 19,
   "metadata": {},
   "outputs": [
    {
     "data": {
      "text/html": [
       "<div>\n",
       "<style scoped>\n",
       "    .dataframe tbody tr th:only-of-type {\n",
       "        vertical-align: middle;\n",
       "    }\n",
       "\n",
       "    .dataframe tbody tr th {\n",
       "        vertical-align: top;\n",
       "    }\n",
       "\n",
       "    .dataframe thead th {\n",
       "        text-align: right;\n",
       "    }\n",
       "</style>\n",
       "<table border=\"1\" class=\"dataframe\">\n",
       "  <thead>\n",
       "    <tr style=\"text-align: right;\">\n",
       "      <th></th>\n",
       "      <th>risk_aversion</th>\n",
       "      <th>saving</th>\n",
       "      <th>borrowing</th>\n",
       "      <th>low_risk</th>\n",
       "      <th>high_risk</th>\n",
       "      <th>port_expret</th>\n",
       "      <th>port_sd</th>\n",
       "    </tr>\n",
       "  </thead>\n",
       "  <tbody>\n",
       "    <tr>\n",
       "      <th>0</th>\n",
       "      <td>0.25</td>\n",
       "      <td>0.0</td>\n",
       "      <td>-13.230593</td>\n",
       "      <td>0.0</td>\n",
       "      <td>14.230593</td>\n",
       "      <td>0.192992</td>\n",
       "      <td>0.801229</td>\n",
       "    </tr>\n",
       "    <tr>\n",
       "      <th>1</th>\n",
       "      <td>0.50</td>\n",
       "      <td>0.0</td>\n",
       "      <td>-6.115297</td>\n",
       "      <td>0.0</td>\n",
       "      <td>7.115297</td>\n",
       "      <td>0.112746</td>\n",
       "      <td>0.400614</td>\n",
       "    </tr>\n",
       "    <tr>\n",
       "      <th>2</th>\n",
       "      <td>0.75</td>\n",
       "      <td>0.0</td>\n",
       "      <td>-3.743531</td>\n",
       "      <td>0.0</td>\n",
       "      <td>4.743531</td>\n",
       "      <td>0.085997</td>\n",
       "      <td>0.267076</td>\n",
       "    </tr>\n",
       "    <tr>\n",
       "      <th>3</th>\n",
       "      <td>1.00</td>\n",
       "      <td>0.0</td>\n",
       "      <td>-2.557648</td>\n",
       "      <td>0.0</td>\n",
       "      <td>3.557648</td>\n",
       "      <td>0.072623</td>\n",
       "      <td>0.200307</td>\n",
       "    </tr>\n",
       "    <tr>\n",
       "      <th>4</th>\n",
       "      <td>1.25</td>\n",
       "      <td>0.0</td>\n",
       "      <td>-1.846119</td>\n",
       "      <td>0.0</td>\n",
       "      <td>2.846119</td>\n",
       "      <td>0.064598</td>\n",
       "      <td>0.160246</td>\n",
       "    </tr>\n",
       "  </tbody>\n",
       "</table>\n",
       "</div>"
      ],
      "text/plain": [
       "   risk_aversion  saving  borrowing  low_risk  high_risk  port_expret  \\\n",
       "0           0.25     0.0 -13.230593       0.0  14.230593     0.192992   \n",
       "1           0.50     0.0  -6.115297       0.0   7.115297     0.112746   \n",
       "2           0.75     0.0  -3.743531       0.0   4.743531     0.085997   \n",
       "3           1.00     0.0  -2.557648       0.0   3.557648     0.072623   \n",
       "4           1.25     0.0  -1.846119       0.0   2.846119     0.064598   \n",
       "\n",
       "    port_sd  \n",
       "0  0.801229  \n",
       "1  0.400614  \n",
       "2  0.267076  \n",
       "3  0.200307  \n",
       "4  0.160246  "
      ]
     },
     "execution_count": 19,
     "metadata": {},
     "output_type": "execute_result"
    }
   ],
   "source": [
    "RAVER_LEVELS = np.arange(0.25,30.25,0.25)\n",
    "\n",
    "# Dataframe\n",
    "df_opt = pd.DataFrame(dtype='float',columns=['risk_aversion','saving','borrowing','low_risk','high_risk','port_expret', 'port_sd'], index=np.arange(len(RAVER_LEVELS)))\n",
    "df_opt.risk_aversion = RAVER_LEVELS\n",
    "for i in df_opt.index:\n",
    "    wgts = opt_allocation(MNS, COV, RF, RF_BORROW, df_opt.loc[i,'risk_aversion'])\n",
    "    df_opt.loc[i,['saving','borrowing','low_risk','high_risk']]=wgts\n",
    "    df_opt.loc[i,'port_expret']= wgts @ new_mns\n",
    "    df_opt.loc[i,'port_sd']    = np.sqrt(wgts @ new_cov @ wgts)\n",
    "df_opt.head()"
   ]
  },
  {
   "attachments": {},
   "cell_type": "markdown",
   "metadata": {},
   "source": [
    "### The full picture\n",
    "Note we will now also calculate the sharpe ratio for each frontier portfolio"
   ]
  },
  {
   "cell_type": "code",
   "execution_count": 20,
   "metadata": {},
   "outputs": [],
   "source": [
    "# Calculate frontier portfolios (from last time)\n",
    "def frontier(means, cov, target):\n",
    "    n = len(means)\n",
    "    Q = matrix(cov, tc=\"d\")\n",
    "    p = matrix(np.zeros(n), (n, 1), tc=\"d\")\n",
    "    # Constraint: short-sales allowed\n",
    "    G = matrix(np.zeros((n,n)), tc=\"d\")\n",
    "    h = matrix(np.zeros(n), (n, 1), tc=\"d\")\n",
    "    # Fully-invested constraint + E[r] = target\n",
    "    A = matrix(np.vstack((np.ones(n), means)), (2, n), tc=\"d\")\n",
    "    b = matrix([1, target], (2, 1), tc=\"d\")\n",
    "    sol = Solver(Q, p, G, h, A, b)\n",
    "    wgts = np.array(sol[\"x\"]).flatten() if sol[\"status\"] == \"optimal\" else np.array(n * [np.nan])\n",
    "    return wgts\n",
    "SolverOptions['show_progress'] = False\n",
    "\n",
    "NUM_TARGETS = 30\n",
    "df = pd.DataFrame(dtype='float',columns=['target_expret','w1','w2','port_expret','port_sd','sharpe'], index=np.arange(NUM_TARGETS))\n",
    "df.target_expret = np.linspace(MNS.min(), MNS.max(),NUM_TARGETS)\n",
    "for i in df.index:\n",
    "    wgts = frontier(MNS, COV, df.loc[i,'target_expret'])\n",
    "    df.loc[i,['w1','w2']] = wgts\n",
    "    df.loc[i,'port_expret'] = wgts @ MNS\n",
    "    df.loc[i,'port_sd'] = np.sqrt(wgts @ COV @ wgts)\n",
    "df.sharpe = (df.port_expret - RF)/df.port_sd"
   ]
  },
  {
   "cell_type": "code",
   "execution_count": 24,
   "metadata": {},
   "outputs": [
    {
     "data": {
      "application/vnd.plotly.v1+json": {
       "config": {
        "plotlyServerURL": "https://plot.ly"
       },
       "data": [
        {
         "customdata": [
          [
           1.9168925706007624e-16,
           0.9999999999999998
          ],
          [
           0.03448275862068994,
           0.96551724137931
          ],
          [
           0.06896551724137945,
           0.9310344827586206
          ],
          [
           0.10344827586206885,
           0.8965517241379312
          ],
          [
           0.13793103448275876,
           0.8620689655172412
          ],
          [
           0.17241379310344845,
           0.8275862068965516
          ],
          [
           0.20689655172413787,
           0.7931034482758621
          ],
          [
           0.24137931034482754,
           0.7586206896551725
          ],
          [
           0.2758620689655173,
           0.7241379310344827
          ],
          [
           0.3103448275862071,
           0.6896551724137929
          ],
          [
           0.3448275862068964,
           0.6551724137931036
          ],
          [
           0.37931034482758624,
           0.6206896551724137
          ],
          [
           0.41379310344827563,
           0.5862068965517244
          ],
          [
           0.44827586206896536,
           0.5517241379310347
          ],
          [
           0.48275862068965514,
           0.5172413793103449
          ],
          [
           0.517241379310345,
           0.4827586206896551
          ],
          [
           0.5517241379310345,
           0.4482758620689655
          ],
          [
           0.5862068965517241,
           0.4137931034482759
          ],
          [
           0.6206896551724139,
           0.37931034482758613
          ],
          [
           0.6551724137931032,
           0.3448275862068968
          ],
          [
           0.689655172413793,
           0.31034482758620696
          ],
          [
           0.7241379310344827,
           0.27586206896551735
          ],
          [
           0.7586206896551724,
           0.24137931034482757
          ],
          [
           0.793103448275862,
           0.20689655172413796
          ],
          [
           0.8275862068965516,
           0.1724137931034484
          ],
          [
           0.8620689655172414,
           0.13793103448275856
          ],
          [
           0.8965517241379307,
           0.10344827586206923
          ],
          [
           0.9310344827586206,
           0.0689655172413794
          ],
          [
           0.9655172413793102,
           0.03448275862068983
          ],
          [
           1,
           3.91118702368885e-23
          ]
         ],
         "hovertemplate": "Stock: %{customdata[0]:.1%}<br>Bond: %{customdata[1]:.1%}<br><extra></extra>",
         "mode": "lines",
         "name": "Frontier",
         "type": "scatter",
         "x": [
          0.034999999999999996,
          0.03393005325186209,
          0.033692231574799156,
          0.03430384620486581,
          0.03572129199155287,
          0.03785415406247999,
          0.04058981028740658,
          0.04381549793955153,
          0.04743134471376,
          0.05135500466519027,
          0.05552125708329551,
          0.059879486580953364,
          0.06439072355106165,
          0.0690249743701613,
          0.07375905595460872,
          0.07857492618494959,
          0.08345842770965041,
          0.08839835251691691,
          0.09338574698948862,
          0.0984133943881926,
          0.10347542747130165,
          0.10856703655747803,
          0.11368424782932078,
          0.11882375361562007,
          0.12398278139820157,
          0.12915899188327695,
          0.1343503990560357,
          0.1395553069928521,
          0.14477225954706877,
          0.15
         ],
         "y": [
          0.03500000000000001,
          0.035862068965517246,
          0.03672413793103449,
          0.03758620689655172,
          0.03844827586206897,
          0.03931034482758622,
          0.04017241379310345,
          0.04103448275862069,
          0.041896551724137934,
          0.04275862068965518,
          0.043620689655172414,
          0.04448275862068966,
          0.04534482758620689,
          0.046206896551724136,
          0.04706896551724138,
          0.04793103448275862,
          0.048793103448275865,
          0.0496551724137931,
          0.05051724137931035,
          0.05137931034482758,
          0.052241379310344824,
          0.05310344827586207,
          0.05396551724137931,
          0.05482758620689655,
          0.05568965517241379,
          0.05655172413793103,
          0.05741379310344827,
          0.05827586206896551,
          0.059137931034482755,
          0.06
         ]
        },
        {
         "marker": {
          "color": "red",
          "size": 10
         },
         "mode": "markers",
         "name": "Stock",
         "type": "scatter",
         "x": [
          0.15
         ],
         "y": [
          0.06
         ]
        },
        {
         "marker": {
          "color": "red",
          "size": 10
         },
         "mode": "markers",
         "name": "Bond",
         "type": "scatter",
         "x": [
          0.035
         ],
         "y": [
          0.035
         ]
        },
        {
         "customdata": [
          [
           0.13203412816785248,
           0.8679658718321476
          ]
         ],
         "hovertemplate": "Stock: %{customdata[0]:.1%}<br>Bond: %{customdata[1]:.1%}<br><extra></extra>",
         "marker": {
          "color": "black",
          "size": 10
         },
         "mode": "markers",
         "name": "Efficient Low-Risk Tangency",
         "type": "scatter",
         "x": [
          0.035425259144796356
         ],
         "y": [
          0.038300853204196315
         ]
        },
        {
         "customdata": [
          [
           0.35111804354599024,
           0.6488819564540097
          ]
         ],
         "hovertemplate": "Stock: %{customdata[0]:.1%}<br>Bond: %{customdata[1]:.1%}<br><extra></extra>",
         "marker": {
          "color": "black",
          "size": 10
         },
         "mode": "markers",
         "name": "Efficient High-Risk Tangency",
         "type": "scatter",
         "x": [
          0.05630326742438758
         ],
         "y": [
          0.04377795108864976
         ]
        },
        {
         "customdata": [
          [
           0,
           -13.230593085414576,
           0,
           14.230593085414576,
           0.25
          ],
          [
           0,
           -6.115296542707288,
           0,
           7.115296542707288,
           0.5
          ],
          [
           0,
           -3.7435310284715255,
           0,
           4.7435310284715255,
           0.75
          ],
          [
           0,
           -2.557648271353644,
           0,
           3.557648271353644,
           1
          ],
          [
           0,
           -1.8461186170829151,
           0,
           2.846118617082915,
           1.25
          ],
          [
           0,
           -1.3717655142357628,
           0,
           2.3717655142357628,
           1.5
          ],
          [
           0,
           -1.0329418693449393,
           0,
           2.0329418693449393,
           1.75
          ],
          [
           0,
           -0.778824135676822,
           0,
           1.778824135676822,
           2
          ],
          [
           0,
           -0.5811770094905084,
           0,
           1.5811770094905084,
           2.25
          ],
          [
           0,
           -0.42305930854145757,
           0,
           1.4230593085414576,
           2.5
          ],
          [
           0,
           -0.2936902804922341,
           0,
           1.2936902804922341,
           2.75
          ],
          [
           0,
           -0.18588275711788138,
           0,
           1.1858827571178814,
           3
          ],
          [
           0,
           -0.09466100657035192,
           0,
           1.094661006570352,
           3.25
          ],
          [
           0,
           -0.016470934672469628,
           0,
           1.0164709346724696,
           3.5
          ],
          [
           0,
           0,
           0.06784499897078027,
           0.9321550010292198,
           3.75
          ],
          [
           0,
           0,
           0.14627216490186273,
           0.8537278350981372,
           4
          ],
          [
           0,
           0,
           0.21547260542928842,
           0.7845273945707116,
           4.25
          ],
          [
           0,
           0,
           0.27698410812033336,
           0.7230158918796666,
           4.5
          ],
          [
           0,
           0,
           0.3320207157912684,
           0.6679792842087315,
           4.75
          ],
          [
           0,
           0,
           0.38155366269511,
           0.6184463373048901,
           5
          ],
          [
           0,
           0,
           0.42636918608429997,
           0.5736308139157,
           5.25
          ],
          [
           0,
           0,
           0.46711057098356357,
           0.5328894290164364,
           5.5
          ],
          [
           0,
           0,
           0.5043092267611519,
           0.49569077323884814,
           5.75
          ],
          [
           0,
           0,
           0.5384079945572747,
           0.4615920054427253,
           6
          ],
          [
           0,
           0,
           0.5697788609297076,
           0.43022113907029236,
           6.25
          ],
          [
           0,
           0,
           0.5987365837350305,
           0.40126341626496953,
           6.5
          ],
          [
           0,
           0,
           0.6255492900362553,
           0.37445070996374474,
           6.75
          ],
          [
           0,
           0,
           0.6504468030302497,
           0.3495531969697503,
           7
          ],
          [
           0,
           0,
           0.6736272461625891,
           0.32637275383741093,
           7.25
          ],
          [
           0,
           0,
           0.6952623264194395,
           0.3047376735805605,
           7.5
          ],
          [
           0,
           0,
           0.7155015950468157,
           0.28449840495318435,
           7.75
          ],
          [
           0,
           0,
           0.7344759093849808,
           0.26552409061501925,
           8
          ],
          [
           0,
           0,
           0.7523002652784085,
           0.24769973472159146,
           8.25
          ],
          [
           0,
           0,
           0.7690761296486935,
           0.23092387035130646,
           8.5
          ],
          [
           0,
           0,
           0.7848933731978196,
           0.2151066268021804,
           8.75
          ],
          [
           0,
           0,
           0.7998318809942161,
           0.2001681190057839,
           9
          ],
          [
           0,
           0,
           0.8139629018826994,
           0.18603709811730063,
           9.25
          ],
          [
           0,
           0,
           0.8273501848296836,
           0.1726498151703164,
           9.5
          ],
          [
           0,
           0,
           0.8400509404460532,
           0.15994905955394678,
           9.75
          ],
          [
           0,
           0,
           0.8521166582816044,
           0.14788334171839557,
           10
          ],
          [
           0,
           0,
           0.8635938045154214,
           0.13640619548457855,
           10.25
          ],
          [
           0,
           0,
           0.8745244199761995,
           0.12547558002380055,
           10.5
          ],
          [
           0,
           0,
           0.8849466347178715,
           0.1150533652821285,
           10.75
          ],
          [
           0,
           0,
           0.8948951124258312,
           0.1051048875741688,
           11
          ],
          [
           0,
           0,
           0.9044014355689924,
           0.09559856443100756,
           11.25
          ],
          [
           0,
           0,
           0.9134944403146253,
           0.08650555968537466,
           11.5
          ],
          [
           0,
           0,
           0.9222005086881034,
           0.07779949131189656,
           11.75
          ],
          [
           0,
           0,
           0.9305438242126867,
           0.06945617578731333,
           12
          ],
          [
           0,
           0,
           0.9385465962464706,
           0.06145340375352937,
           12.25
          ],
          [
           0,
           0,
           0.9462292573989032,
           0.05377074260109682,
           12.5
          ],
          [
           0,
           0,
           0.9536106377218287,
           0.04638936227817125,
           12.75
          ],
          [
           0,
           0,
           0.9607081188015647,
           0.0392918811984353,
           13
          ],
          [
           0,
           0,
           0.9675377704065936,
           0.03246222959340639,
           13.25
          ],
          [
           0,
           0,
           0.974114471952177,
           0.02588552804782296,
           13.5
          ],
          [
           0,
           0,
           0.9804520207142848,
           0.019547979285715167,
           13.75
          ],
          [
           0,
           0,
           0.9865632284491742,
           0.013436771550825788,
           14
          ],
          [
           0,
           0,
           0.9924600078424888,
           0.007539992157511222,
           14.25
          ],
          [
           0,
           0,
           0.9981534500153438,
           0.001846549984656165,
           14.5
          ],
          [
           0.01132569943996542,
           0,
           0.9886743005600346,
           0,
           14.75
          ],
          [
           0.027803604449299413,
           0,
           0.9721963955507006,
           0,
           15
          ],
          [
           0.043741250277999355,
           0,
           0.9562587497220006,
           0,
           15.25
          ],
          [
           0.059164778499322,
           0,
           0.940835221500678,
           0,
           15.5
          ],
          [
           0.07409867090409461,
           0,
           0.9259013290959054,
           0,
           15.75
          ],
          [
           0.08856587917121816,
           0,
           0.9114341208287818,
           0,
           16
          ],
          [
           0.10258794256858417,
           0,
           0.8974120574314158,
           0,
           16.25
          ],
          [
           0.11618509495390861,
           0,
           0.8838149050460914,
           0,
           16.5
          ],
          [
           0.12937636219340254,
           0,
           0.8706236378065975,
           0,
           16.75
          ],
          [
           0.1421796509846759,
           0,
           0.8578203490153241,
           0,
           17
          ],
          [
           0.1546118299559126,
           0,
           0.8453881700440874,
           0,
           17.25
          ],
          [
           0.16668880381368523,
           0,
           0.8333111961863148,
           0,
           17.5
          ],
          [
           0.17842558122476015,
           0,
           0.8215744187752398,
           0,
           17.75
          ],
          [
           0.18983633704108283,
           0,
           0.8101636629589172,
           0,
           18
          ],
          [
           0.20093446941038307,
           0,
           0.7990655305896169,
           0,
           18.25
          ],
          [
           0.21173265225618865,
           0,
           0.7882673477438114,
           0,
           18.5
          ],
          [
           0.22224288355943955,
           0,
           0.7777571164405604,
           0,
           18.75
          ],
          [
           0.23247652982839428,
           0,
           0.7675234701716057,
           0,
           19
          ],
          [
           0.24244436710335016,
           0,
           0.7575556328966498,
           0,
           19.25
          ],
          [
           0.25215661880715345,
           0,
           0.7478433811928465,
           0,
           19.5
          ],
          [
           0.26162299072098694,
           0,
           0.7383770092790131,
           0,
           19.75
          ],
          [
           0.27085270333697464,
           0,
           0.7291472966630254,
           0,
           20
          ],
          [
           0.2798545218142958,
           0,
           0.7201454781857042,
           0,
           20.25
          ],
          [
           0.28863678374338986,
           0,
           0.7113632162566101,
           0,
           20.5
          ],
          [
           0.29720742490310803,
           0,
           0.702792575096892,
           0,
           20.75
          ],
          [
           0.30557400317807104,
           0,
           0.694425996821929,
           0,
           21
          ],
          [
           0.3137437207877407,
           0,
           0.6862562792122593,
           0,
           21.25
          ],
          [
           0.32172344496462746,
           0,
           0.6782765550353725,
           0,
           21.5
          ],
          [
           0.3295197272064134,
           0,
           0.6704802727935866,
           0,
           21.75
          ],
          [
           0.3371388212154314,
           0,
           0.6628611787845686,
           0,
           22
          ],
          [
           0.3445866996287412,
           0,
           0.6554133003712588,
           0,
           22.25
          ],
          [
           0.35186906963286624,
           0,
           0.6481309303671338,
           0,
           22.5
          ],
          [
           0.3589913875489886,
           0,
           0.6410086124510114,
           0,
           22.75
          ],
          [
           0.36595887246693437,
           0,
           0.6340411275330656,
           0,
           23
          ],
          [
           0.372776518999548,
           0,
           0.627223481000452,
           0,
           23.25
          ],
          [
           0.37944910922295705,
           0,
           0.620550890777043,
           0,
           23.5
          ],
          [
           0.3859812238627154,
           0,
           0.6140187761372846,
           0,
           23.75
          ],
          [
           0.39237725278081215,
           0,
           0.6076227472191879,
           0,
           24
          ],
          [
           0.3986414048139997,
           0,
           0.6013585951860003,
           0,
           24.25
          ],
          [
           0.40477771700977516,
           0,
           0.5952222829902248,
           0,
           24.5
          ],
          [
           0.4107900633026057,
           0,
           0.5892099366973943,
           0,
           24.75
          ],
          [
           0.4166821626695796,
           0,
           0.5833178373304204,
           0,
           25
          ],
          [
           0.422457586801564,
           0,
           0.577542413198436,
           0,
           25.25
          ],
          [
           0.4281197673231173,
           0,
           0.5718802326768827,
           0,
           25.5
          ],
          [
           0.4336720025918249,
           0,
           0.5663279974081751,
           0,
           25.75
          ],
          [
           0.439117464105365,
           0,
           0.560882535894635,
           0,
           26
          ],
          [
           0.44445920254245674,
           0,
           0.5555407974575433,
           0,
           26.25
          ],
          [
           0.44970015346186765,
           0,
           0.5502998465381324,
           0,
           26.5
          ],
          [
           0.4548431426818502,
           0,
           0.5451568573181498,
           0,
           26.75
          ],
          [
           0.4598908913607219,
           0,
           0.5401091086392781,
           0,
           27
          ],
          [
           0.4648460207977795,
           0,
           0.5351539792022205,
           0,
           27.25
          ],
          [
           0.46971105697234516,
           0,
           0.5302889430276548,
           0,
           27.5
          ],
          [
           0.47448843483745917,
           0,
           0.5255115651625408,
           0,
           27.75
          ],
          [
           0.47918050238355325,
           0,
           0.5208194976164467,
           0,
           28
          ],
          [
           0.4837895244863536,
           0,
           0.5162104755136464,
           0,
           28.25
          ],
          [
           0.4883176865522628,
           0,
           0.5116823134477372,
           0,
           28.5
          ],
          [
           0.49276709797354756,
           0,
           0.5072329020264524,
           0,
           28.75
          ],
          [
           0.4971397954048101,
           0,
           0.5028602045951899,
           0,
           29
          ],
          [
           0.5014377458714356,
           0,
           0.4985622541285644,
           0,
           29.25
          ],
          [
           0.5056628497199827,
           0,
           0.4943371502800173,
           0,
           29.5
          ],
          [
           0.5098169434198148,
           0,
           0.4901830565801852,
           0,
           29.75
          ],
          [
           0.5139018022246498,
           0,
           0.4860981977753503,
           0,
           30
          ]
         ],
         "hovertemplate": "Saving: %{customdata[0]:.1%}<br>Borrowing: %{customdata[1]:.1%}<br>Efficient Low-Risk: %{customdata[2]:.1%}<br>Efficient High-Risk: %{customdata[3]:.1%}<br>Optimal if risk aversion is: %{customdata[4]:.1f}<br><extra></extra>",
         "marker": {
          "color": "black"
         },
         "mode": "lines",
         "name": "Optimal allocation",
         "type": "scatter",
         "x": [
          0.8012288880957376,
          0.4006144440478688,
          0.2670762960319126,
          0.2003072220239344,
          0.16024577761914752,
          0.1335381480159563,
          0.1144612697279625,
          0.1001536110119672,
          0.08902543201063752,
          0.08012288880957376,
          0.07283898982688523,
          0.06676907400797814,
          0.061632991391979815,
          0.05723063486398125,
          0.05446574188373974,
          0.052388750563141025,
          0.05060282779049541,
          0.0490561602343972,
          0.04770805753334956,
          0.04652616767315481,
          0.045484485045492816,
          0.04456189985344185,
          0.04374112478221361,
          0.043007889403848386,
          0.042350327716936954,
          0.04175850708231403,
          0.0412240620731068,
          0.04073990712570394,
          0.04030000904091761,
          0.03989920540826306,
          0.03953305859905853,
          0.03919773754779706,
          0.03888992141743378,
          0.038606720627021154,
          0.038345611749699055,
          0.038104383562917545,
          0.03788109211959249,
          0.03767402315754949,
          0.0374816605102779,
          0.03730265945025711,
          0.03713582410568586,
          0.03698008825621759,
          0.03683449894363385,
          0.036698202437057764,
          0.03657043217521488,
          0.03645049837488539,
          0.03633777904851067,
          0.03623171221758145,
          0.036131789144018184,
          0.036037548430868836,
          0.03594857086756995,
          0.03586447491474182,
          0.035784912739814864,
          0.035709566728344216,
          0.03563814640716943,
          0.03557038572502375,
          0.03550604064412006,
          0.03544488700290548,
          0.035024043307139506,
          0.03444030925202051,
          0.03387571401838083,
          0.0333293315342134,
          0.032800294525733825,
          0.03228778992376923,
          0.03179105469417278,
          0.031309372047291374,
          0.030842067986884037,
          0.030388508163547517,
          0.029948095001756964,
          0.02952026507316044,
          0.029104486691848317,
          0.028700257710017097,
          0.02830710349481138,
          0.027924575069205825,
          0.02755224740161641,
          0.027189717830542512,
          0.02683660461196404,
          0.026492545578477317,
          0.026157196900268742,
          0.025830231939015385,
          0.02551134018668186,
          0.025200226281966227,
          0.024896609097846155,
          0.02460022089430037,
          0.02431080653083801,
          0.024028122733967802,
          0.02375193741518656,
          0.023482029035468532,
          0.023218186012598098,
          0.022960206168013676,
          0.022707896210123417,
          0.022461071251317726,
          0.022219554356142267,
          0.02198317611831097,
          0.02175177426443401,
          0.02152519328251282,
          0.02130328407341475,
          0.02108590362368603,
          0.020872914698194252,
          0.02066418555121231,
          0.020459589654665652,
          0.02025900544236501,
          0.02006231606913816,
          0.01986940918385799,
          0.019680176715440294,
          0.019494514670955008,
          0.01931232294505823,
          0.019133505140011397,
          0.01895796839560762,
          0.018785623228374824,
          0.018616383379470546,
          0.01845016567072528,
          0.01828688986832948,
          0.018126478553695008,
          0.01796885700105418,
          0.017813953061389918,
          0.017661697052318213,
          0.017512021653569753,
          0.017364861807741435,
          0.017220154626010255
         ],
         "y": [
          0.19299193277978305,
          0.11274596638989154,
          0.08599731092659434,
          0.07262298319494577,
          0.06459838655595661,
          0.05924865546329717,
          0.055427418968540434,
          0.05256149159747288,
          0.05033243697553145,
          0.048549193277978304,
          0.047090175707253004,
          0.04587432773164858,
          0.04484553329075254,
          0.04396370948427022,
          0.04340635738831615,
          0.04297680412371134,
          0.04259778653729533,
          0.04226088201603665,
          0.04195944112859468,
          0.04168814432989691,
          0.0414426853215513,
          0.04121954076850984,
          0.0410158000896459,
          0.04082903780068729,
          0.04065721649484536,
          0.04049861221252974,
          0.04035175639557083,
          0.04021539027982327,
          0.04008842872378244,
          0.03996993127147767,
          0.03985907881609578,
          0.03975515463917526,
          0.03965752889721962,
          0.03956564584596726,
          0.039479013254786456,
          0.039397193585337914,
          0.03931979660072444,
          0.03924647314161693,
          0.03917690985989955,
          0.03911082474226805,
          0.03904796328891124,
          0.038988095238095245,
          0.03893101174778231,
          0.03887652296157451,
          0.03882445589919817,
          0.03877465262214254,
          0.03872696863347226,
          0.03868127147766323,
          0.03863743951188723,
          0.03859536082474228,
          0.03855493228219123,
          0.038516058683584466,
          0.038478652013227005,
          0.038442630775105006,
          0.038407919400187444,
          0.038374447717231225,
          0.038342150479291015,
          0.03831096693921081,
          0.03809358324131066,
          0.03779202352062215,
          0.03750035100389064,
          0.037218087278021436,
          0.03694478430535443,
          0.036680022050583266,
          0.036423406326728136,
          0.036174566836929226,
          0.03593315539160192,
          0.0356988442829019,
          0.035471324800541,
          0.035250305874818984,
          0.03503551283432857,
          0.034826686267185124,
          0.03462358097585382,
          0.03442596501672066,
          0.03423361881649772,
          0.03404633435838591,
          0.033863914431653624,
          0.033686171938940114,
          0.03351292925616872,
          0.03334401764046661,
          0.03317927668194233,
          0.03301855379557718,
          0.032861703749847336,
          0.03270858822901582,
          0.03255907542632152,
          0.032413039665550335,
          0.032270361048704926,
          0.03213092512769692,
          0.031994622598172234,
          0.0318613490137481,
          0.03173100451909153,
          0.03160349360040575,
          0.031478724852014285,
          0.03135661075784393,
          0.031237067486708726,
          0.031120014700388846,
          0.03100537537358071,
          0.030893075624870703,
          0.03078304455795282,
          0.03067521411237329,
          0.03056951892314187,
          0.030465896188601262,
          0.030364285545993484,
          0.030264628954205088,
          0.030166870583212657,
          0.030070956709786118,
          0.02997683561904045,
          0.029884457511456748,
          0.029793774415021367,
          0.029704740102157533,
          0.029617310011147105,
          0.029531441171761867,
          0.02944709213484362,
          0.029364222905590605,
          0.0292827948803246,
          0.029202770786528696,
          0.02912411462596008,
          0.029046791620655328,
          0.028970768161658226,
          0.028896011760311077
         ]
        }
       ],
       "layout": {
        "legend": {
         "x": 0.01,
         "xanchor": "left",
         "y": 0.99,
         "yanchor": "top"
        },
        "template": {
         "data": {
          "bar": [
           {
            "error_x": {
             "color": "#2a3f5f"
            },
            "error_y": {
             "color": "#2a3f5f"
            },
            "marker": {
             "line": {
              "color": "#E5ECF6",
              "width": 0.5
             },
             "pattern": {
              "fillmode": "overlay",
              "size": 10,
              "solidity": 0.2
             }
            },
            "type": "bar"
           }
          ],
          "barpolar": [
           {
            "marker": {
             "line": {
              "color": "#E5ECF6",
              "width": 0.5
             },
             "pattern": {
              "fillmode": "overlay",
              "size": 10,
              "solidity": 0.2
             }
            },
            "type": "barpolar"
           }
          ],
          "carpet": [
           {
            "aaxis": {
             "endlinecolor": "#2a3f5f",
             "gridcolor": "white",
             "linecolor": "white",
             "minorgridcolor": "white",
             "startlinecolor": "#2a3f5f"
            },
            "baxis": {
             "endlinecolor": "#2a3f5f",
             "gridcolor": "white",
             "linecolor": "white",
             "minorgridcolor": "white",
             "startlinecolor": "#2a3f5f"
            },
            "type": "carpet"
           }
          ],
          "choropleth": [
           {
            "colorbar": {
             "outlinewidth": 0,
             "ticks": ""
            },
            "type": "choropleth"
           }
          ],
          "contour": [
           {
            "colorbar": {
             "outlinewidth": 0,
             "ticks": ""
            },
            "colorscale": [
             [
              0,
              "#0d0887"
             ],
             [
              0.1111111111111111,
              "#46039f"
             ],
             [
              0.2222222222222222,
              "#7201a8"
             ],
             [
              0.3333333333333333,
              "#9c179e"
             ],
             [
              0.4444444444444444,
              "#bd3786"
             ],
             [
              0.5555555555555556,
              "#d8576b"
             ],
             [
              0.6666666666666666,
              "#ed7953"
             ],
             [
              0.7777777777777778,
              "#fb9f3a"
             ],
             [
              0.8888888888888888,
              "#fdca26"
             ],
             [
              1,
              "#f0f921"
             ]
            ],
            "type": "contour"
           }
          ],
          "contourcarpet": [
           {
            "colorbar": {
             "outlinewidth": 0,
             "ticks": ""
            },
            "type": "contourcarpet"
           }
          ],
          "heatmap": [
           {
            "colorbar": {
             "outlinewidth": 0,
             "ticks": ""
            },
            "colorscale": [
             [
              0,
              "#0d0887"
             ],
             [
              0.1111111111111111,
              "#46039f"
             ],
             [
              0.2222222222222222,
              "#7201a8"
             ],
             [
              0.3333333333333333,
              "#9c179e"
             ],
             [
              0.4444444444444444,
              "#bd3786"
             ],
             [
              0.5555555555555556,
              "#d8576b"
             ],
             [
              0.6666666666666666,
              "#ed7953"
             ],
             [
              0.7777777777777778,
              "#fb9f3a"
             ],
             [
              0.8888888888888888,
              "#fdca26"
             ],
             [
              1,
              "#f0f921"
             ]
            ],
            "type": "heatmap"
           }
          ],
          "heatmapgl": [
           {
            "colorbar": {
             "outlinewidth": 0,
             "ticks": ""
            },
            "colorscale": [
             [
              0,
              "#0d0887"
             ],
             [
              0.1111111111111111,
              "#46039f"
             ],
             [
              0.2222222222222222,
              "#7201a8"
             ],
             [
              0.3333333333333333,
              "#9c179e"
             ],
             [
              0.4444444444444444,
              "#bd3786"
             ],
             [
              0.5555555555555556,
              "#d8576b"
             ],
             [
              0.6666666666666666,
              "#ed7953"
             ],
             [
              0.7777777777777778,
              "#fb9f3a"
             ],
             [
              0.8888888888888888,
              "#fdca26"
             ],
             [
              1,
              "#f0f921"
             ]
            ],
            "type": "heatmapgl"
           }
          ],
          "histogram": [
           {
            "marker": {
             "pattern": {
              "fillmode": "overlay",
              "size": 10,
              "solidity": 0.2
             }
            },
            "type": "histogram"
           }
          ],
          "histogram2d": [
           {
            "colorbar": {
             "outlinewidth": 0,
             "ticks": ""
            },
            "colorscale": [
             [
              0,
              "#0d0887"
             ],
             [
              0.1111111111111111,
              "#46039f"
             ],
             [
              0.2222222222222222,
              "#7201a8"
             ],
             [
              0.3333333333333333,
              "#9c179e"
             ],
             [
              0.4444444444444444,
              "#bd3786"
             ],
             [
              0.5555555555555556,
              "#d8576b"
             ],
             [
              0.6666666666666666,
              "#ed7953"
             ],
             [
              0.7777777777777778,
              "#fb9f3a"
             ],
             [
              0.8888888888888888,
              "#fdca26"
             ],
             [
              1,
              "#f0f921"
             ]
            ],
            "type": "histogram2d"
           }
          ],
          "histogram2dcontour": [
           {
            "colorbar": {
             "outlinewidth": 0,
             "ticks": ""
            },
            "colorscale": [
             [
              0,
              "#0d0887"
             ],
             [
              0.1111111111111111,
              "#46039f"
             ],
             [
              0.2222222222222222,
              "#7201a8"
             ],
             [
              0.3333333333333333,
              "#9c179e"
             ],
             [
              0.4444444444444444,
              "#bd3786"
             ],
             [
              0.5555555555555556,
              "#d8576b"
             ],
             [
              0.6666666666666666,
              "#ed7953"
             ],
             [
              0.7777777777777778,
              "#fb9f3a"
             ],
             [
              0.8888888888888888,
              "#fdca26"
             ],
             [
              1,
              "#f0f921"
             ]
            ],
            "type": "histogram2dcontour"
           }
          ],
          "mesh3d": [
           {
            "colorbar": {
             "outlinewidth": 0,
             "ticks": ""
            },
            "type": "mesh3d"
           }
          ],
          "parcoords": [
           {
            "line": {
             "colorbar": {
              "outlinewidth": 0,
              "ticks": ""
             }
            },
            "type": "parcoords"
           }
          ],
          "pie": [
           {
            "automargin": true,
            "type": "pie"
           }
          ],
          "scatter": [
           {
            "fillpattern": {
             "fillmode": "overlay",
             "size": 10,
             "solidity": 0.2
            },
            "type": "scatter"
           }
          ],
          "scatter3d": [
           {
            "line": {
             "colorbar": {
              "outlinewidth": 0,
              "ticks": ""
             }
            },
            "marker": {
             "colorbar": {
              "outlinewidth": 0,
              "ticks": ""
             }
            },
            "type": "scatter3d"
           }
          ],
          "scattercarpet": [
           {
            "marker": {
             "colorbar": {
              "outlinewidth": 0,
              "ticks": ""
             }
            },
            "type": "scattercarpet"
           }
          ],
          "scattergeo": [
           {
            "marker": {
             "colorbar": {
              "outlinewidth": 0,
              "ticks": ""
             }
            },
            "type": "scattergeo"
           }
          ],
          "scattergl": [
           {
            "marker": {
             "colorbar": {
              "outlinewidth": 0,
              "ticks": ""
             }
            },
            "type": "scattergl"
           }
          ],
          "scattermapbox": [
           {
            "marker": {
             "colorbar": {
              "outlinewidth": 0,
              "ticks": ""
             }
            },
            "type": "scattermapbox"
           }
          ],
          "scatterpolar": [
           {
            "marker": {
             "colorbar": {
              "outlinewidth": 0,
              "ticks": ""
             }
            },
            "type": "scatterpolar"
           }
          ],
          "scatterpolargl": [
           {
            "marker": {
             "colorbar": {
              "outlinewidth": 0,
              "ticks": ""
             }
            },
            "type": "scatterpolargl"
           }
          ],
          "scatterternary": [
           {
            "marker": {
             "colorbar": {
              "outlinewidth": 0,
              "ticks": ""
             }
            },
            "type": "scatterternary"
           }
          ],
          "surface": [
           {
            "colorbar": {
             "outlinewidth": 0,
             "ticks": ""
            },
            "colorscale": [
             [
              0,
              "#0d0887"
             ],
             [
              0.1111111111111111,
              "#46039f"
             ],
             [
              0.2222222222222222,
              "#7201a8"
             ],
             [
              0.3333333333333333,
              "#9c179e"
             ],
             [
              0.4444444444444444,
              "#bd3786"
             ],
             [
              0.5555555555555556,
              "#d8576b"
             ],
             [
              0.6666666666666666,
              "#ed7953"
             ],
             [
              0.7777777777777778,
              "#fb9f3a"
             ],
             [
              0.8888888888888888,
              "#fdca26"
             ],
             [
              1,
              "#f0f921"
             ]
            ],
            "type": "surface"
           }
          ],
          "table": [
           {
            "cells": {
             "fill": {
              "color": "#EBF0F8"
             },
             "line": {
              "color": "white"
             }
            },
            "header": {
             "fill": {
              "color": "#C8D4E3"
             },
             "line": {
              "color": "white"
             }
            },
            "type": "table"
           }
          ]
         },
         "layout": {
          "annotationdefaults": {
           "arrowcolor": "#2a3f5f",
           "arrowhead": 0,
           "arrowwidth": 1
          },
          "autotypenumbers": "strict",
          "coloraxis": {
           "colorbar": {
            "outlinewidth": 0,
            "ticks": ""
           }
          },
          "colorscale": {
           "diverging": [
            [
             0,
             "#8e0152"
            ],
            [
             0.1,
             "#c51b7d"
            ],
            [
             0.2,
             "#de77ae"
            ],
            [
             0.3,
             "#f1b6da"
            ],
            [
             0.4,
             "#fde0ef"
            ],
            [
             0.5,
             "#f7f7f7"
            ],
            [
             0.6,
             "#e6f5d0"
            ],
            [
             0.7,
             "#b8e186"
            ],
            [
             0.8,
             "#7fbc41"
            ],
            [
             0.9,
             "#4d9221"
            ],
            [
             1,
             "#276419"
            ]
           ],
           "sequential": [
            [
             0,
             "#0d0887"
            ],
            [
             0.1111111111111111,
             "#46039f"
            ],
            [
             0.2222222222222222,
             "#7201a8"
            ],
            [
             0.3333333333333333,
             "#9c179e"
            ],
            [
             0.4444444444444444,
             "#bd3786"
            ],
            [
             0.5555555555555556,
             "#d8576b"
            ],
            [
             0.6666666666666666,
             "#ed7953"
            ],
            [
             0.7777777777777778,
             "#fb9f3a"
            ],
            [
             0.8888888888888888,
             "#fdca26"
            ],
            [
             1,
             "#f0f921"
            ]
           ],
           "sequentialminus": [
            [
             0,
             "#0d0887"
            ],
            [
             0.1111111111111111,
             "#46039f"
            ],
            [
             0.2222222222222222,
             "#7201a8"
            ],
            [
             0.3333333333333333,
             "#9c179e"
            ],
            [
             0.4444444444444444,
             "#bd3786"
            ],
            [
             0.5555555555555556,
             "#d8576b"
            ],
            [
             0.6666666666666666,
             "#ed7953"
            ],
            [
             0.7777777777777778,
             "#fb9f3a"
            ],
            [
             0.8888888888888888,
             "#fdca26"
            ],
            [
             1,
             "#f0f921"
            ]
           ]
          },
          "colorway": [
           "#636efa",
           "#EF553B",
           "#00cc96",
           "#ab63fa",
           "#FFA15A",
           "#19d3f3",
           "#FF6692",
           "#B6E880",
           "#FF97FF",
           "#FECB52"
          ],
          "font": {
           "color": "#2a3f5f"
          },
          "geo": {
           "bgcolor": "white",
           "lakecolor": "white",
           "landcolor": "#E5ECF6",
           "showlakes": true,
           "showland": true,
           "subunitcolor": "white"
          },
          "hoverlabel": {
           "align": "left"
          },
          "hovermode": "closest",
          "mapbox": {
           "style": "light"
          },
          "paper_bgcolor": "white",
          "plot_bgcolor": "#E5ECF6",
          "polar": {
           "angularaxis": {
            "gridcolor": "white",
            "linecolor": "white",
            "ticks": ""
           },
           "bgcolor": "#E5ECF6",
           "radialaxis": {
            "gridcolor": "white",
            "linecolor": "white",
            "ticks": ""
           }
          },
          "scene": {
           "xaxis": {
            "backgroundcolor": "#E5ECF6",
            "gridcolor": "white",
            "gridwidth": 2,
            "linecolor": "white",
            "showbackground": true,
            "ticks": "",
            "zerolinecolor": "white"
           },
           "yaxis": {
            "backgroundcolor": "#E5ECF6",
            "gridcolor": "white",
            "gridwidth": 2,
            "linecolor": "white",
            "showbackground": true,
            "ticks": "",
            "zerolinecolor": "white"
           },
           "zaxis": {
            "backgroundcolor": "#E5ECF6",
            "gridcolor": "white",
            "gridwidth": 2,
            "linecolor": "white",
            "showbackground": true,
            "ticks": "",
            "zerolinecolor": "white"
           }
          },
          "shapedefaults": {
           "line": {
            "color": "#2a3f5f"
           }
          },
          "ternary": {
           "aaxis": {
            "gridcolor": "white",
            "linecolor": "white",
            "ticks": ""
           },
           "baxis": {
            "gridcolor": "white",
            "linecolor": "white",
            "ticks": ""
           },
           "bgcolor": "#E5ECF6",
           "caxis": {
            "gridcolor": "white",
            "linecolor": "white",
            "ticks": ""
           }
          },
          "title": {
           "x": 0.05
          },
          "xaxis": {
           "automargin": true,
           "gridcolor": "white",
           "linecolor": "white",
           "ticks": "",
           "title": {
            "standoff": 15
           },
           "zerolinecolor": "white",
           "zerolinewidth": 2
          },
          "yaxis": {
           "automargin": true,
           "gridcolor": "white",
           "linecolor": "white",
           "ticks": "",
           "title": {
            "standoff": 15
           },
           "zerolinecolor": "white",
           "zerolinewidth": 2
          }
         }
        },
        "xaxis": {
         "range": [
          0.016846115787399578,
          0.1875
         ],
         "tickformat": ".1%",
         "title": {
          "text": "Standard Deviation"
         }
        },
        "yaxis": {
         "range": [
          0.024500000000000004,
          0.075
         ],
         "tickformat": ".1%",
         "title": {
          "text": "Expected Return"
         }
        }
       }
      }
     },
     "metadata": {},
     "output_type": "display_data"
    }
   ],
   "source": [
    "fig = go.Figure()\n",
    "\n",
    "# Plot frontier\n",
    "string =  \"Stock: %{customdata[0]:.1%}<br>\"\n",
    "string += \"Bond: %{customdata[1]:.1%}<br>\"\n",
    "string += \"<extra></extra>\"\n",
    "trace= go.Scatter(x=df.port_sd, y=df.port_expret,mode=\"lines\",\n",
    "    customdata=df[['w1','w2']],hovertemplate=string, name='Frontier')\n",
    "fig.add_trace(trace)\n",
    "\n",
    "# Plot underlying assets\n",
    "trace1= go.Scatter(x=[SDS[0]], y=[MNS[0]],mode=\"markers\", marker=dict(size=10, color=\"red\"), name='Stock')\n",
    "fig.add_trace(trace1)\n",
    "trace2= go.Scatter(x=[SDS[1]], y=[MNS[1]],mode=\"markers\", marker=dict(size=10, color=\"red\"), name='Bond')\n",
    "fig.add_trace(trace2)\n",
    "\n",
    "# Plot low-risk tangency\n",
    "trace= go.Scatter(x=[np.sqrt(lo_var)], y=[lo_expret] ,\n",
    "    mode=\"markers\", marker=dict(size=10, color=\"black\"),\n",
    "    customdata=wgts_tang_save.reshape(1,2),hovertemplate=string, name='Efficient Low-Risk Tangency')\n",
    "fig.add_trace(trace)\n",
    "\n",
    "# Plot low-risk tangency\n",
    "trace= go.Scatter(x=[np.sqrt(hi_var)], y=[hi_expret] ,\n",
    "    mode=\"markers\", marker=dict(size=10, color=\"black\"),\n",
    "    customdata=wgts_tang_borrow.reshape(1,2),hovertemplate=string, name='Efficient High-Risk Tangency')\n",
    "fig.add_trace(trace)\n",
    "\n",
    "# Plot optimal allocation\n",
    "string =  \"Saving: %{customdata[0]:.1%}<br>\"\n",
    "string += \"Borrowing: %{customdata[1]:.1%}<br>\"\n",
    "string += \"Efficient Low-Risk: %{customdata[2]:.1%}<br>\"\n",
    "string += \"Efficient High-Risk: %{customdata[3]:.1%}<br>\"\n",
    "string += \"Optimal if risk aversion is: %{customdata[4]:.1f}<br>\"\n",
    "string += \"<extra></extra>\"\n",
    "trace= go.Scatter(x=df_opt.port_sd, y=df_opt.port_expret,mode=\"lines\",marker=dict(color=\"black\"),\n",
    "    customdata=df_opt[['saving','borrowing','low_risk','high_risk','risk_aversion']],hovertemplate=string, name='Optimal allocation')\n",
    "fig.add_trace(trace)\n",
    "\n",
    "# Formatting\n",
    "fig.layout.yaxis[\"title\"] = \"Expected Return\"\n",
    "fig.layout.xaxis[\"title\"] = \"Standard Deviation\"\n",
    "fig.update_yaxes(tickformat=\".1%\")\n",
    "fig.update_xaxes(tickformat=\".1%\")\n",
    "fig.update_xaxes(range=[0.5 * df[\"port_sd\"].min(), 1.25 * df[\"port_sd\"].max()])\n",
    "fig.update_yaxes(range=[0.7 * df[\"port_expret\"].min(), 1.25 * df[\"port_expret\"].max()])\n",
    "fig.update_layout(legend=dict(yanchor=\"top\", y=0.99, xanchor=\"left\", x=0.01))\n",
    "fig.show()"
   ]
  }
 ],
 "metadata": {
  "kernelspec": {
   "display_name": "venv",
   "language": "python",
   "name": "python3"
  },
  "language_info": {
   "codemirror_mode": {
    "name": "ipython",
    "version": 3
   },
   "file_extension": ".py",
   "mimetype": "text/x-python",
   "name": "python",
   "nbconvert_exporter": "python",
   "pygments_lexer": "ipython3",
   "version": "3.10.6"
  },
  "orig_nbformat": 4,
  "vscode": {
   "interpreter": {
    "hash": "cc788b38d8cb434c82f45ef9d481d0310e17b79321e4c8cbfbfe90f656a3f023"
   }
  }
 },
 "nbformat": 4,
 "nbformat_minor": 2
}
