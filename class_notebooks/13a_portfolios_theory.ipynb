{
 "cells": [
  {
   "attachments": {},
   "cell_type": "markdown",
   "metadata": {},
   "source": [
    "# Optimal portfolios"
   ]
  },
  {
   "cell_type": "code",
   "execution_count": 1,
   "metadata": {},
   "outputs": [],
   "source": [
    "import numpy as np\n",
    "import pandas as pd\n",
    "import plotly.graph_objects as go\n",
    "from scipy.optimize import minimize\n",
    "from cvxopt import matrix\n",
    "from cvxopt.solvers import qp as Solver, options as SolverOptions"
   ]
  },
  {
   "attachments": {},
   "cell_type": "markdown",
   "metadata": {},
   "source": [
    "### Inputs"
   ]
  },
  {
   "cell_type": "code",
   "execution_count": 2,
   "metadata": {},
   "outputs": [
    {
     "name": "stdout",
     "output_type": "stream",
     "text": [
      "[[ 0.0225    -0.0002625]\n",
      " [-0.0002625  0.001225 ]]\n"
     ]
    }
   ],
   "source": [
    "##### Inputs\n",
    "# Risk-free rate\n",
    "RF = 0.02\n",
    "\n",
    "# Expected returns\n",
    "MNS = np.array([0.06, 0.035])\n",
    "\n",
    "# Standard deviations\n",
    "SDS = np.array([0.15, 0.035])\n",
    "\n",
    "# Correlations\n",
    "C  = np.identity(2)\n",
    "C[0, 1] = C[1, 0] = -0.05\n",
    "\n",
    "# Covariance matrix\n",
    "COV = np.diag(SDS) @ C @ np.diag(SDS)\n",
    "print(COV)"
   ]
  },
  {
   "attachments": {},
   "cell_type": "markdown",
   "metadata": {},
   "source": [
    "### Tangency portfolio"
   ]
  },
  {
   "cell_type": "code",
   "execution_count": 3,
   "metadata": {},
   "outputs": [
    {
     "name": "stdout",
     "output_type": "stream",
     "text": [
      "Tangency portfolio weights: [0.13203413 0.86796587]\n"
     ]
    }
   ],
   "source": [
    "n = len(MNS)\n",
    "def f(w):\n",
    "    mn = w @ MNS\n",
    "    sd = np.sqrt(w @ COV @ w)\n",
    "    return -(mn - RF) / sd\n",
    "# Initial guess (equal-weighted)\n",
    "w0 = (1/n)*np.ones(n)\n",
    "# Constraint: fully-invested portfolio\n",
    "A = np.ones(n)\n",
    "b = 1\n",
    "cons = [{\"type\": \"eq\", \"fun\": lambda x: A @ x - b}]\n",
    "# No short-sale constraint\n",
    "bnds = [(None, None) for i in range(n)] \n",
    "# Optimization\n",
    "TOL = 10**(-10)\n",
    "wgts = minimize(f, w0, bounds=bnds, constraints=cons, options={'ftol':TOL}).x\n",
    "\n",
    "print(f'Tangency portfolio weights: {wgts}')"
   ]
  },
  {
   "cell_type": "markdown",
   "metadata": {},
   "source": [
    "### Tangency portfolio: theoretical solution without short-sale constraint"
   ]
  },
  {
   "cell_type": "code",
   "execution_count": 4,
   "metadata": {},
   "outputs": [
    {
     "name": "stdout",
     "output_type": "stream",
     "text": [
      "Tangency portfolio weights: [0.13203429 0.86796571]\n"
     ]
    }
   ],
   "source": [
    "w = np.linalg.solve(COV, MNS - RF)\n",
    "wgts = w / np.sum(w)\n",
    "print(f'Tangency portfolio weights: {wgts}')"
   ]
  },
  {
   "cell_type": "code",
   "execution_count": 5,
   "metadata": {},
   "outputs": [
    {
     "name": "stdout",
     "output_type": "stream",
     "text": [
      "Portfolio Expected Return:\t  0.0383\n",
      "Portfolio Standard Deviation:\t  0.0354\n",
      "Portfolio Sharpe Ratio:\t\t  0.5166\n"
     ]
    }
   ],
   "source": [
    "#Portfolio expected return\n",
    "port_expret = wgts @ MNS\n",
    "print(f'Portfolio Expected Return:\\t {port_expret: ,.4f}')\n",
    "\n",
    "# Portfolio standard deviation\n",
    "port_sd = np.sqrt(wgts @ COV @ wgts)\n",
    "print(f'Portfolio Standard Deviation:\\t {port_sd: ,.4f}')\n",
    "\n",
    "# Portfolio sharpe ratio\n",
    "port_sr = (port_expret - RF)/port_sd\n",
    "print(f'Portfolio Sharpe Ratio:\\t\\t {port_sr: ,.4f}')"
   ]
  },
  {
   "attachments": {},
   "cell_type": "markdown",
   "metadata": {},
   "source": [
    "### Capital allocation and risk aversion"
   ]
  },
  {
   "cell_type": "code",
   "execution_count": 6,
   "metadata": {},
   "outputs": [],
   "source": [
    "def capital_allocation(mean, sd, rf, risk_aversion):\n",
    "    return (mean - rf) / (risk_aversion * (sd**2))"
   ]
  },
  {
   "cell_type": "code",
   "execution_count": 7,
   "metadata": {},
   "outputs": [
    {
     "name": "stdout",
     "output_type": "stream",
     "text": [
      "For risk aversion of  10.0, invest  145.8% in the risky asset\n"
     ]
    }
   ],
   "source": [
    "RAVER = 10\n",
    "wgt_risky = capital_allocation(port_expret, port_sd, RF, RAVER)\n",
    "print(f'For risk aversion of {RAVER: .1f}, invest {wgt_risky: ,.1%} in the risky asset')"
   ]
  },
  {
   "cell_type": "code",
   "execution_count": 8,
   "metadata": {},
   "outputs": [
    {
     "name": "stdout",
     "output_type": "stream",
     "text": [
      "For risk aversion of  10.0, Portfolio Expected Return:\t\t  0.0467\n",
      "For risk aversion of  10.0, Portfolio Standard Deviation:\t  0.0517\n"
     ]
    }
   ],
   "source": [
    "# Portfolio expected return\n",
    "optport_expret = wgt_risky*port_expret + (1-wgt_risky)*RF\n",
    "print(f'For risk aversion of {RAVER: .1f}, Portfolio Expected Return:\\t\\t {optport_expret: ,.4f}')\n",
    "\n",
    "# Portfolio standard deviation\n",
    "optport_sd     = np.abs(wgt_risky)*port_sd\n",
    "print(f'For risk aversion of {RAVER: .1f}, Portfolio Standard Deviation:\\t {optport_sd: ,.4f}')"
   ]
  },
  {
   "cell_type": "markdown",
   "metadata": {},
   "source": [
    "### Capital allocation line"
   ]
  },
  {
   "cell_type": "code",
   "execution_count": 9,
   "metadata": {},
   "outputs": [
    {
     "data": {
      "text/html": [
       "<div>\n",
       "<style scoped>\n",
       "    .dataframe tbody tr th:only-of-type {\n",
       "        vertical-align: middle;\n",
       "    }\n",
       "\n",
       "    .dataframe tbody tr th {\n",
       "        vertical-align: top;\n",
       "    }\n",
       "\n",
       "    .dataframe thead th {\n",
       "        text-align: right;\n",
       "    }\n",
       "</style>\n",
       "<table border=\"1\" class=\"dataframe\">\n",
       "  <thead>\n",
       "    <tr style=\"text-align: right;\">\n",
       "      <th></th>\n",
       "      <th>wgt_tangency</th>\n",
       "      <th>wgt_rf</th>\n",
       "      <th>port_expret</th>\n",
       "      <th>port_sd</th>\n",
       "      <th>risk_aversion</th>\n",
       "    </tr>\n",
       "  </thead>\n",
       "  <tbody>\n",
       "    <tr>\n",
       "      <th>46</th>\n",
       "      <td>2.30</td>\n",
       "      <td>-1.30</td>\n",
       "      <td>0.062092</td>\n",
       "      <td>0.081478</td>\n",
       "      <td>6.340410</td>\n",
       "    </tr>\n",
       "    <tr>\n",
       "      <th>47</th>\n",
       "      <td>2.35</td>\n",
       "      <td>-1.35</td>\n",
       "      <td>0.063007</td>\n",
       "      <td>0.083249</td>\n",
       "      <td>6.205507</td>\n",
       "    </tr>\n",
       "    <tr>\n",
       "      <th>48</th>\n",
       "      <td>2.40</td>\n",
       "      <td>-1.40</td>\n",
       "      <td>0.063922</td>\n",
       "      <td>0.085021</td>\n",
       "      <td>6.076226</td>\n",
       "    </tr>\n",
       "    <tr>\n",
       "      <th>49</th>\n",
       "      <td>2.45</td>\n",
       "      <td>-1.45</td>\n",
       "      <td>0.064837</td>\n",
       "      <td>0.086792</td>\n",
       "      <td>5.952221</td>\n",
       "    </tr>\n",
       "    <tr>\n",
       "      <th>50</th>\n",
       "      <td>2.50</td>\n",
       "      <td>-1.50</td>\n",
       "      <td>0.065752</td>\n",
       "      <td>0.088563</td>\n",
       "      <td>5.833177</td>\n",
       "    </tr>\n",
       "  </tbody>\n",
       "</table>\n",
       "</div>"
      ],
      "text/plain": [
       "    wgt_tangency  wgt_rf  port_expret   port_sd  risk_aversion\n",
       "46          2.30   -1.30     0.062092  0.081478       6.340410\n",
       "47          2.35   -1.35     0.063007  0.083249       6.205507\n",
       "48          2.40   -1.40     0.063922  0.085021       6.076226\n",
       "49          2.45   -1.45     0.064837  0.086792       5.952221\n",
       "50          2.50   -1.50     0.065752  0.088563       5.833177"
      ]
     },
     "execution_count": 9,
     "metadata": {},
     "output_type": "execute_result"
    }
   ],
   "source": [
    "WGTS = np.arange(0,2.51,0.05)\n",
    "cal = pd.DataFrame(dtype='float',columns=['wgt_tangency', 'wgt_rf', 'port_expret', 'port_sd','risk_aversion'], index=np.arange(len(WGTS)))\n",
    "cal.wgt_tangency = WGTS\n",
    "cal.wgt_rf = 1-WGTS\n",
    "cal.port_expret = cal.wgt_tangency*port_expret + cal.wgt_rf*RF\n",
    "cal.port_sd = np.abs(cal.wgt_tangency)*port_sd\n",
    "cal.risk_aversion = (port_expret - RF) / (cal.wgt_tangency * port_sd**2)\n",
    "cal.tail()"
   ]
  },
  {
   "attachments": {},
   "cell_type": "markdown",
   "metadata": {},
   "source": [
    "### The full picture\n",
    "Note we will now also calculate the sharpe ratio for each frontier portfolio"
   ]
  },
  {
   "cell_type": "code",
   "execution_count": 10,
   "metadata": {},
   "outputs": [],
   "source": [
    "# Calculate frontier portfolios (from last time)\n",
    "def frontier(means, cov, target):\n",
    "    n = len(means)\n",
    "    Q = matrix(cov, tc=\"d\")\n",
    "    p = matrix(np.zeros(n), (n, 1), tc=\"d\")\n",
    "    # Constraint: short-sales allowed\n",
    "    G = matrix(np.zeros((n,n)), tc=\"d\")\n",
    "    h = matrix(np.zeros(n), (n, 1), tc=\"d\")\n",
    "    # Fully-invested constraint + E[r] = target\n",
    "    A = matrix(np.vstack((np.ones(n), means)), (2, n), tc=\"d\")\n",
    "    b = matrix([1, target], (2, 1), tc=\"d\")\n",
    "    sol = Solver(Q, p, G, h, A, b)\n",
    "    wgts = np.array(sol[\"x\"]).flatten() if sol[\"status\"] == \"optimal\" else np.array(n * [np.nan])\n",
    "    return wgts\n",
    "SolverOptions['show_progress'] = False\n",
    "\n",
    "NUM_TARGETS = 30\n",
    "df = pd.DataFrame(dtype='float',columns=['target_expret','w1','w2','port_expret','port_sd','sharpe'], index=np.arange(NUM_TARGETS))\n",
    "df.target_expret = np.linspace(MNS.min(), MNS.max(),NUM_TARGETS)\n",
    "for i in df.index:\n",
    "    wgts = frontier(MNS, COV, df.loc[i,'target_expret'])\n",
    "    df.loc[i,['w1','w2']] = wgts\n",
    "    df.loc[i,'port_expret'] = wgts @ MNS\n",
    "    df.loc[i,'port_sd'] = np.sqrt(wgts @ COV @ wgts)\n",
    "df.sharpe = (df.port_expret - RF)/df.port_sd"
   ]
  },
  {
   "cell_type": "code",
   "execution_count": 11,
   "metadata": {},
   "outputs": [
    {
     "data": {
      "application/vnd.plotly.v1+json": {
       "config": {
        "plotlyServerURL": "https://plot.ly"
       },
       "data": [
        {
         "customdata": [
          [
           1.9168925706007624e-16,
           0.9999999999999998,
           0.4285714285714289
          ],
          [
           0.03448275862068994,
           0.96551724137931,
           0.46749319394736677
          ],
          [
           0.06896551724137945,
           0.9310344827586206,
           0.4963796444858724
          ],
          [
           0.10344827586206885,
           0.8965517241379312,
           0.5126599154953421
          ],
          [
           0.13793103448275876,
           0.8620689655172412,
           0.5164504090846292
          ],
          [
           0.17241379310344845,
           0.8275862068965516,
           0.5101248543479171
          ],
          [
           0.20689655172413787,
           0.7931034482758621,
           0.49698221426184275
          ],
          [
           0.24137931034482754,
           0.7586206896551725,
           0.48006946737522316
          ],
          [
           0.2758620689655173,
           0.7241379310344827,
           0.4616472894934743
          ],
          [
           0.3103448275862071,
           0.6896551724137929,
           0.4431626642433459
          ],
          [
           0.3448275862068964,
           0.6551724137931036,
           0.42543506570349415
          ],
          [
           0.37931034482758624,
           0.6206896551724137,
           0.4088672101019183
          ],
          [
           0.41379310344827563,
           0.5862068965517244,
           0.3936099206294602
          ],
          [
           0.44827586206896536,
           0.5517241379310347,
           0.37967267341794303
          ],
          [
           0.48275862068965514,
           0.5172413793103449,
           0.3669917566989958
          ],
          [
           0.517241379310345,
           0.4827586206896551,
           0.35547006963792216
          ],
          [
           0.5517241379310345,
           0.4482758620689655,
           0.34499935163464
          ],
          [
           0.5862068965517241,
           0.4137931034482759,
           0.33547200337379535
          ],
          [
           0.6206896551724139,
           0.37931034482758613,
           0.32678692801745574
          ],
          [
           0.6551724137931032,
           0.3448275862068968,
           0.31885202761172504
          ],
          [
           0.689655172413793,
           0.31034482758620696,
           0.3115848863662515
          ],
          [
           0.7241379310344827,
           0.27586206896551735,
           0.3049125160410572
          ],
          [
           0.7586206896551724,
           0.24137931034482757,
           0.2987706554770301
          ],
          [
           0.793103448275862,
           0.20689655172413796,
           0.29310289523052285
          ],
          [
           0.8275862068965516,
           0.1724137931034484,
           0.28785977189677314
          ],
          [
           0.8620689655172414,
           0.13793103448275856,
           0.282997905178475
          ],
          [
           0.8965517241379307,
           0.10344827586206923,
           0.2784792108272301
          ],
          [
           0.9310344827586206,
           0.0689655172413794,
           0.2742702007808701
          ],
          [
           0.9655172413793102,
           0.03448275862068983,
           0.2703413703490489
          ],
          [
           1,
           3.91118702368885e-23,
           0.26666666666666666
          ]
         ],
         "hovertemplate": "Stock: %{customdata[0]:.1%}<br>Bond: %{customdata[1]:.1%}<br>Sharpe ratio: %{customdata[2]:.4f}<br><extra></extra>",
         "mode": "lines",
         "name": "Frontier",
         "type": "scatter",
         "x": [
          0.034999999999999996,
          0.03393005325186209,
          0.033692231574799156,
          0.03430384620486581,
          0.03572129199155287,
          0.03785415406247999,
          0.04058981028740658,
          0.04381549793955153,
          0.04743134471376,
          0.05135500466519027,
          0.05552125708329551,
          0.059879486580953364,
          0.06439072355106165,
          0.0690249743701613,
          0.07375905595460872,
          0.07857492618494959,
          0.08345842770965041,
          0.08839835251691691,
          0.09338574698948862,
          0.0984133943881926,
          0.10347542747130165,
          0.10856703655747803,
          0.11368424782932078,
          0.11882375361562007,
          0.12398278139820157,
          0.12915899188327695,
          0.1343503990560357,
          0.1395553069928521,
          0.14477225954706877,
          0.15
         ],
         "y": [
          0.03500000000000001,
          0.035862068965517246,
          0.03672413793103449,
          0.03758620689655172,
          0.03844827586206897,
          0.03931034482758622,
          0.04017241379310345,
          0.04103448275862069,
          0.041896551724137934,
          0.04275862068965518,
          0.043620689655172414,
          0.04448275862068966,
          0.04534482758620689,
          0.046206896551724136,
          0.04706896551724138,
          0.04793103448275862,
          0.048793103448275865,
          0.0496551724137931,
          0.05051724137931035,
          0.05137931034482758,
          0.052241379310344824,
          0.05310344827586207,
          0.05396551724137931,
          0.05482758620689655,
          0.05568965517241379,
          0.05655172413793103,
          0.05741379310344827,
          0.05827586206896551,
          0.059137931034482755,
          0.06
         ]
        },
        {
         "marker": {
          "color": "red",
          "size": 10
         },
         "mode": "markers",
         "name": "Stock",
         "type": "scatter",
         "x": [
          0.15
         ],
         "y": [
          0.06
         ]
        },
        {
         "marker": {
          "color": "red",
          "size": 10
         },
         "mode": "markers",
         "name": "Bond",
         "type": "scatter",
         "x": [
          0.035
         ],
         "y": [
          0.035
         ]
        },
        {
         "customdata": [
          [
           1,
           3.91118702368885e-23,
           0.5166046387804326
          ]
         ],
         "hovertemplate": "Stock: %{customdata[0]:.1%}<br>Bond: %{customdata[1]:.1%}<br>Sharpe ratio: %{customdata[2]:.4f}<br><extra></extra>",
         "marker": {
          "color": "black",
          "size": 10
         },
         "mode": "markers",
         "name": "Tangency",
         "type": "scatter",
         "x": [
          0.03542526719998681
         ],
         "y": [
          0.038300857365549494
         ]
        },
        {
         "customdata": [
          [
           0,
           1,
           null
          ],
          [
           0.05,
           0.95,
           291.6588523462852
          ],
          [
           0.1,
           0.9,
           145.8294261731426
          ],
          [
           0.15000000000000002,
           0.85,
           97.21961744876171
          ],
          [
           0.2,
           0.8,
           72.9147130865713
          ],
          [
           0.25,
           0.75,
           58.33177046925704
          ],
          [
           0.30000000000000004,
           0.7,
           48.609808724380855
          ],
          [
           0.35000000000000003,
           0.6499999999999999,
           41.665550335183596
          ],
          [
           0.4,
           0.6,
           36.45735654328565
          ],
          [
           0.45,
           0.55,
           32.40653914958724
          ],
          [
           0.5,
           0.5,
           29.16588523462852
          ],
          [
           0.55,
           0.44999999999999996,
           26.51444112238956
          ],
          [
           0.6000000000000001,
           0.3999999999999999,
           24.304904362190427
          ],
          [
           0.65,
           0.35,
           22.435296334329628
          ],
          [
           0.7000000000000001,
           0.29999999999999993,
           20.832775167591798
          ],
          [
           0.75,
           0.25,
           19.443923489752347
          ],
          [
           0.8,
           0.19999999999999996,
           18.228678271642824
          ],
          [
           0.8500000000000001,
           0.1499999999999999,
           17.156403079193243
          ],
          [
           0.9,
           0.09999999999999998,
           16.20326957479362
          ],
          [
           0.9500000000000001,
           0.04999999999999993,
           15.350465912962378
          ],
          [
           1,
           0,
           14.58294261731426
          ],
          [
           1.05,
           -0.050000000000000044,
           13.88851677839453
          ],
          [
           1.1,
           -0.10000000000000009,
           13.25722056119478
          ],
          [
           1.1500000000000001,
           -0.15000000000000013,
           12.68081966722979
          ],
          [
           1.2000000000000002,
           -0.20000000000000018,
           12.152452181095214
          ],
          [
           1.25,
           -0.25,
           11.666354093851407
          ],
          [
           1.3,
           -0.30000000000000004,
           11.217648167164814
          ],
          [
           1.35,
           -0.3500000000000001,
           10.80217971652908
          ],
          [
           1.4000000000000001,
           -0.40000000000000013,
           10.416387583795899
          ],
          [
           1.4500000000000002,
           -0.4500000000000002,
           10.057201805044315
          ],
          [
           1.5,
           -0.5,
           9.721961744876173
          ],
          [
           1.55,
           -0.55,
           9.408350075686618
          ],
          [
           1.6,
           -0.6000000000000001,
           9.114339135821412
          ],
          [
           1.6500000000000001,
           -0.6500000000000001,
           8.838147040796521
          ],
          [
           1.7000000000000002,
           -0.7000000000000002,
           8.578201539596622
          ],
          [
           1.75,
           -0.75,
           8.33311006703672
          ],
          [
           1.8,
           -0.8,
           8.10163478739681
          ],
          [
           1.85,
           -0.8500000000000001,
           7.882671685034734
          ],
          [
           1.9000000000000001,
           -0.9000000000000001,
           7.675232956481189
          ],
          [
           1.9500000000000002,
           -0.9500000000000002,
           7.47843211144321
          ],
          [
           2,
           -1,
           7.29147130865713
          ],
          [
           2.0500000000000003,
           -1.0500000000000003,
           7.113630545031345
          ],
          [
           2.1,
           -1.1,
           6.944258389197265
          ],
          [
           2.15,
           -1.15,
           6.782764008053144
          ],
          [
           2.2,
           -1.2000000000000002,
           6.62861028059739
          ],
          [
           2.25,
           -1.25,
           6.481307829917449
          ],
          [
           2.3000000000000003,
           -1.3000000000000003,
           6.340409833614895
          ],
          [
           2.35,
           -1.35,
           6.205507496729472
          ],
          [
           2.4000000000000004,
           -1.4000000000000004,
           6.076226090547607
          ],
          [
           2.45,
           -1.4500000000000002,
           5.952221476454799
          ],
          [
           2.5,
           -1.5,
           5.833177046925703
          ]
         ],
         "hovertemplate": "Tangency: %{customdata[0]:.1%}<br>Risk-free: %{customdata[1]:.1%}<br>Optimal if risk aversion is: %{customdata[2]:.1f}<br><extra></extra>",
         "marker": {
          "color": "black"
         },
         "mode": "lines",
         "name": "CAL",
         "type": "scatter",
         "x": [
          0,
          0.0017712633599993406,
          0.003542526719998681,
          0.005313790079998022,
          0.007085053439997362,
          0.008856316799996702,
          0.010627580159996044,
          0.012398843519995383,
          0.014170106879994725,
          0.015941370239994063,
          0.017712633599993404,
          0.019483896959992746,
          0.021255160319992087,
          0.023026423679991425,
          0.024797687039990766,
          0.026568950399990104,
          0.02834021375998945,
          0.03011147711998879,
          0.031882740479988125,
          0.03365400383998747,
          0.03542526719998681,
          0.03719653055998615,
          0.03896779391998549,
          0.040739057279984836,
          0.042510320639984174,
          0.04428158399998351,
          0.04605284735998285,
          0.047824110719982195,
          0.04959537407998153,
          0.05136663743998088,
          0.05313790079998021,
          0.054909164159979554,
          0.0566804275199789,
          0.05845169087997824,
          0.06022295423997758,
          0.06199421759997691,
          0.06376548095997625,
          0.0655367443199756,
          0.06730800767997494,
          0.06907927103997429,
          0.07085053439997362,
          0.07262179775997296,
          0.0743930611199723,
          0.07616432447997164,
          0.07793558783997098,
          0.07970685119997031,
          0.08147811455996967,
          0.083249377919969,
          0.08502064127996835,
          0.08679190463996769,
          0.08856316799996702
         ],
         "y": [
          0.02,
          0.020915042868277472,
          0.02183008573655495,
          0.022745128604832427,
          0.0236601714731099,
          0.024575214341387375,
          0.02549025720966485,
          0.026405300077942322,
          0.027320342946219798,
          0.028235385814497277,
          0.029150428682774746,
          0.03006547155105222,
          0.030980514419329697,
          0.03189555728760717,
          0.03281060015588465,
          0.033725643024162116,
          0.03464068589243959,
          0.03555572876071707,
          0.03647077162899455,
          0.037385814497272025,
          0.038300857365549494,
          0.03921590023382697,
          0.040130943102104445,
          0.04104598597038192,
          0.041961028838659396,
          0.04287607170693687,
          0.04379111457521435,
          0.04470615744349182,
          0.04562120031176929,
          0.046536243180046774,
          0.047451286048324236,
          0.04836632891660171,
          0.04928137178487919,
          0.05019641465315667,
          0.05111145752143414,
          0.052026500389711614,
          0.052941543257989096,
          0.053856586126266565,
          0.05477162899454405,
          0.055686671862821516,
          0.056601714731098984,
          0.05751675759937647,
          0.058431800467653935,
          0.05934684333593141,
          0.060261886204208887,
          0.06117692907248636,
          0.06209197194076384,
          0.0630070148090413,
          0.06392205767731879,
          0.06483710054559627,
          0.06575214341387374
         ]
        },
        {
         "customdata": [
          [
           1.4582942617314258,
           -0.45829426173142584,
           10
          ]
         ],
         "hovertemplate": "Tangency: %{customdata[0]:.1%}<br>Risk-free: %{customdata[1]:.1%}<br>Optimal if risk aversion is: %{customdata[2]:.1f}<br><extra></extra>",
         "marker": {
          "color": "red",
          "size": 15,
          "symbol": "star"
         },
         "mode": "markers",
         "name": "Optimal Portfolio",
         "type": "scatter",
         "x": [
          0.05166046387804326
         ],
         "y": [
          0.04668803528094612
         ]
        }
       ],
       "layout": {
        "legend": {
         "x": 0.01,
         "xanchor": "left",
         "y": 0.99,
         "yanchor": "top"
        },
        "template": {
         "data": {
          "bar": [
           {
            "error_x": {
             "color": "#2a3f5f"
            },
            "error_y": {
             "color": "#2a3f5f"
            },
            "marker": {
             "line": {
              "color": "#E5ECF6",
              "width": 0.5
             },
             "pattern": {
              "fillmode": "overlay",
              "size": 10,
              "solidity": 0.2
             }
            },
            "type": "bar"
           }
          ],
          "barpolar": [
           {
            "marker": {
             "line": {
              "color": "#E5ECF6",
              "width": 0.5
             },
             "pattern": {
              "fillmode": "overlay",
              "size": 10,
              "solidity": 0.2
             }
            },
            "type": "barpolar"
           }
          ],
          "carpet": [
           {
            "aaxis": {
             "endlinecolor": "#2a3f5f",
             "gridcolor": "white",
             "linecolor": "white",
             "minorgridcolor": "white",
             "startlinecolor": "#2a3f5f"
            },
            "baxis": {
             "endlinecolor": "#2a3f5f",
             "gridcolor": "white",
             "linecolor": "white",
             "minorgridcolor": "white",
             "startlinecolor": "#2a3f5f"
            },
            "type": "carpet"
           }
          ],
          "choropleth": [
           {
            "colorbar": {
             "outlinewidth": 0,
             "ticks": ""
            },
            "type": "choropleth"
           }
          ],
          "contour": [
           {
            "colorbar": {
             "outlinewidth": 0,
             "ticks": ""
            },
            "colorscale": [
             [
              0,
              "#0d0887"
             ],
             [
              0.1111111111111111,
              "#46039f"
             ],
             [
              0.2222222222222222,
              "#7201a8"
             ],
             [
              0.3333333333333333,
              "#9c179e"
             ],
             [
              0.4444444444444444,
              "#bd3786"
             ],
             [
              0.5555555555555556,
              "#d8576b"
             ],
             [
              0.6666666666666666,
              "#ed7953"
             ],
             [
              0.7777777777777778,
              "#fb9f3a"
             ],
             [
              0.8888888888888888,
              "#fdca26"
             ],
             [
              1,
              "#f0f921"
             ]
            ],
            "type": "contour"
           }
          ],
          "contourcarpet": [
           {
            "colorbar": {
             "outlinewidth": 0,
             "ticks": ""
            },
            "type": "contourcarpet"
           }
          ],
          "heatmap": [
           {
            "colorbar": {
             "outlinewidth": 0,
             "ticks": ""
            },
            "colorscale": [
             [
              0,
              "#0d0887"
             ],
             [
              0.1111111111111111,
              "#46039f"
             ],
             [
              0.2222222222222222,
              "#7201a8"
             ],
             [
              0.3333333333333333,
              "#9c179e"
             ],
             [
              0.4444444444444444,
              "#bd3786"
             ],
             [
              0.5555555555555556,
              "#d8576b"
             ],
             [
              0.6666666666666666,
              "#ed7953"
             ],
             [
              0.7777777777777778,
              "#fb9f3a"
             ],
             [
              0.8888888888888888,
              "#fdca26"
             ],
             [
              1,
              "#f0f921"
             ]
            ],
            "type": "heatmap"
           }
          ],
          "heatmapgl": [
           {
            "colorbar": {
             "outlinewidth": 0,
             "ticks": ""
            },
            "colorscale": [
             [
              0,
              "#0d0887"
             ],
             [
              0.1111111111111111,
              "#46039f"
             ],
             [
              0.2222222222222222,
              "#7201a8"
             ],
             [
              0.3333333333333333,
              "#9c179e"
             ],
             [
              0.4444444444444444,
              "#bd3786"
             ],
             [
              0.5555555555555556,
              "#d8576b"
             ],
             [
              0.6666666666666666,
              "#ed7953"
             ],
             [
              0.7777777777777778,
              "#fb9f3a"
             ],
             [
              0.8888888888888888,
              "#fdca26"
             ],
             [
              1,
              "#f0f921"
             ]
            ],
            "type": "heatmapgl"
           }
          ],
          "histogram": [
           {
            "marker": {
             "pattern": {
              "fillmode": "overlay",
              "size": 10,
              "solidity": 0.2
             }
            },
            "type": "histogram"
           }
          ],
          "histogram2d": [
           {
            "colorbar": {
             "outlinewidth": 0,
             "ticks": ""
            },
            "colorscale": [
             [
              0,
              "#0d0887"
             ],
             [
              0.1111111111111111,
              "#46039f"
             ],
             [
              0.2222222222222222,
              "#7201a8"
             ],
             [
              0.3333333333333333,
              "#9c179e"
             ],
             [
              0.4444444444444444,
              "#bd3786"
             ],
             [
              0.5555555555555556,
              "#d8576b"
             ],
             [
              0.6666666666666666,
              "#ed7953"
             ],
             [
              0.7777777777777778,
              "#fb9f3a"
             ],
             [
              0.8888888888888888,
              "#fdca26"
             ],
             [
              1,
              "#f0f921"
             ]
            ],
            "type": "histogram2d"
           }
          ],
          "histogram2dcontour": [
           {
            "colorbar": {
             "outlinewidth": 0,
             "ticks": ""
            },
            "colorscale": [
             [
              0,
              "#0d0887"
             ],
             [
              0.1111111111111111,
              "#46039f"
             ],
             [
              0.2222222222222222,
              "#7201a8"
             ],
             [
              0.3333333333333333,
              "#9c179e"
             ],
             [
              0.4444444444444444,
              "#bd3786"
             ],
             [
              0.5555555555555556,
              "#d8576b"
             ],
             [
              0.6666666666666666,
              "#ed7953"
             ],
             [
              0.7777777777777778,
              "#fb9f3a"
             ],
             [
              0.8888888888888888,
              "#fdca26"
             ],
             [
              1,
              "#f0f921"
             ]
            ],
            "type": "histogram2dcontour"
           }
          ],
          "mesh3d": [
           {
            "colorbar": {
             "outlinewidth": 0,
             "ticks": ""
            },
            "type": "mesh3d"
           }
          ],
          "parcoords": [
           {
            "line": {
             "colorbar": {
              "outlinewidth": 0,
              "ticks": ""
             }
            },
            "type": "parcoords"
           }
          ],
          "pie": [
           {
            "automargin": true,
            "type": "pie"
           }
          ],
          "scatter": [
           {
            "fillpattern": {
             "fillmode": "overlay",
             "size": 10,
             "solidity": 0.2
            },
            "type": "scatter"
           }
          ],
          "scatter3d": [
           {
            "line": {
             "colorbar": {
              "outlinewidth": 0,
              "ticks": ""
             }
            },
            "marker": {
             "colorbar": {
              "outlinewidth": 0,
              "ticks": ""
             }
            },
            "type": "scatter3d"
           }
          ],
          "scattercarpet": [
           {
            "marker": {
             "colorbar": {
              "outlinewidth": 0,
              "ticks": ""
             }
            },
            "type": "scattercarpet"
           }
          ],
          "scattergeo": [
           {
            "marker": {
             "colorbar": {
              "outlinewidth": 0,
              "ticks": ""
             }
            },
            "type": "scattergeo"
           }
          ],
          "scattergl": [
           {
            "marker": {
             "colorbar": {
              "outlinewidth": 0,
              "ticks": ""
             }
            },
            "type": "scattergl"
           }
          ],
          "scattermapbox": [
           {
            "marker": {
             "colorbar": {
              "outlinewidth": 0,
              "ticks": ""
             }
            },
            "type": "scattermapbox"
           }
          ],
          "scatterpolar": [
           {
            "marker": {
             "colorbar": {
              "outlinewidth": 0,
              "ticks": ""
             }
            },
            "type": "scatterpolar"
           }
          ],
          "scatterpolargl": [
           {
            "marker": {
             "colorbar": {
              "outlinewidth": 0,
              "ticks": ""
             }
            },
            "type": "scatterpolargl"
           }
          ],
          "scatterternary": [
           {
            "marker": {
             "colorbar": {
              "outlinewidth": 0,
              "ticks": ""
             }
            },
            "type": "scatterternary"
           }
          ],
          "surface": [
           {
            "colorbar": {
             "outlinewidth": 0,
             "ticks": ""
            },
            "colorscale": [
             [
              0,
              "#0d0887"
             ],
             [
              0.1111111111111111,
              "#46039f"
             ],
             [
              0.2222222222222222,
              "#7201a8"
             ],
             [
              0.3333333333333333,
              "#9c179e"
             ],
             [
              0.4444444444444444,
              "#bd3786"
             ],
             [
              0.5555555555555556,
              "#d8576b"
             ],
             [
              0.6666666666666666,
              "#ed7953"
             ],
             [
              0.7777777777777778,
              "#fb9f3a"
             ],
             [
              0.8888888888888888,
              "#fdca26"
             ],
             [
              1,
              "#f0f921"
             ]
            ],
            "type": "surface"
           }
          ],
          "table": [
           {
            "cells": {
             "fill": {
              "color": "#EBF0F8"
             },
             "line": {
              "color": "white"
             }
            },
            "header": {
             "fill": {
              "color": "#C8D4E3"
             },
             "line": {
              "color": "white"
             }
            },
            "type": "table"
           }
          ]
         },
         "layout": {
          "annotationdefaults": {
           "arrowcolor": "#2a3f5f",
           "arrowhead": 0,
           "arrowwidth": 1
          },
          "autotypenumbers": "strict",
          "coloraxis": {
           "colorbar": {
            "outlinewidth": 0,
            "ticks": ""
           }
          },
          "colorscale": {
           "diverging": [
            [
             0,
             "#8e0152"
            ],
            [
             0.1,
             "#c51b7d"
            ],
            [
             0.2,
             "#de77ae"
            ],
            [
             0.3,
             "#f1b6da"
            ],
            [
             0.4,
             "#fde0ef"
            ],
            [
             0.5,
             "#f7f7f7"
            ],
            [
             0.6,
             "#e6f5d0"
            ],
            [
             0.7,
             "#b8e186"
            ],
            [
             0.8,
             "#7fbc41"
            ],
            [
             0.9,
             "#4d9221"
            ],
            [
             1,
             "#276419"
            ]
           ],
           "sequential": [
            [
             0,
             "#0d0887"
            ],
            [
             0.1111111111111111,
             "#46039f"
            ],
            [
             0.2222222222222222,
             "#7201a8"
            ],
            [
             0.3333333333333333,
             "#9c179e"
            ],
            [
             0.4444444444444444,
             "#bd3786"
            ],
            [
             0.5555555555555556,
             "#d8576b"
            ],
            [
             0.6666666666666666,
             "#ed7953"
            ],
            [
             0.7777777777777778,
             "#fb9f3a"
            ],
            [
             0.8888888888888888,
             "#fdca26"
            ],
            [
             1,
             "#f0f921"
            ]
           ],
           "sequentialminus": [
            [
             0,
             "#0d0887"
            ],
            [
             0.1111111111111111,
             "#46039f"
            ],
            [
             0.2222222222222222,
             "#7201a8"
            ],
            [
             0.3333333333333333,
             "#9c179e"
            ],
            [
             0.4444444444444444,
             "#bd3786"
            ],
            [
             0.5555555555555556,
             "#d8576b"
            ],
            [
             0.6666666666666666,
             "#ed7953"
            ],
            [
             0.7777777777777778,
             "#fb9f3a"
            ],
            [
             0.8888888888888888,
             "#fdca26"
            ],
            [
             1,
             "#f0f921"
            ]
           ]
          },
          "colorway": [
           "#636efa",
           "#EF553B",
           "#00cc96",
           "#ab63fa",
           "#FFA15A",
           "#19d3f3",
           "#FF6692",
           "#B6E880",
           "#FF97FF",
           "#FECB52"
          ],
          "font": {
           "color": "#2a3f5f"
          },
          "geo": {
           "bgcolor": "white",
           "lakecolor": "white",
           "landcolor": "#E5ECF6",
           "showlakes": true,
           "showland": true,
           "subunitcolor": "white"
          },
          "hoverlabel": {
           "align": "left"
          },
          "hovermode": "closest",
          "mapbox": {
           "style": "light"
          },
          "paper_bgcolor": "white",
          "plot_bgcolor": "#E5ECF6",
          "polar": {
           "angularaxis": {
            "gridcolor": "white",
            "linecolor": "white",
            "ticks": ""
           },
           "bgcolor": "#E5ECF6",
           "radialaxis": {
            "gridcolor": "white",
            "linecolor": "white",
            "ticks": ""
           }
          },
          "scene": {
           "xaxis": {
            "backgroundcolor": "#E5ECF6",
            "gridcolor": "white",
            "gridwidth": 2,
            "linecolor": "white",
            "showbackground": true,
            "ticks": "",
            "zerolinecolor": "white"
           },
           "yaxis": {
            "backgroundcolor": "#E5ECF6",
            "gridcolor": "white",
            "gridwidth": 2,
            "linecolor": "white",
            "showbackground": true,
            "ticks": "",
            "zerolinecolor": "white"
           },
           "zaxis": {
            "backgroundcolor": "#E5ECF6",
            "gridcolor": "white",
            "gridwidth": 2,
            "linecolor": "white",
            "showbackground": true,
            "ticks": "",
            "zerolinecolor": "white"
           }
          },
          "shapedefaults": {
           "line": {
            "color": "#2a3f5f"
           }
          },
          "ternary": {
           "aaxis": {
            "gridcolor": "white",
            "linecolor": "white",
            "ticks": ""
           },
           "baxis": {
            "gridcolor": "white",
            "linecolor": "white",
            "ticks": ""
           },
           "bgcolor": "#E5ECF6",
           "caxis": {
            "gridcolor": "white",
            "linecolor": "white",
            "ticks": ""
           }
          },
          "title": {
           "x": 0.05
          },
          "xaxis": {
           "automargin": true,
           "gridcolor": "white",
           "linecolor": "white",
           "ticks": "",
           "title": {
            "standoff": 15
           },
           "zerolinecolor": "white",
           "zerolinewidth": 2
          },
          "yaxis": {
           "automargin": true,
           "gridcolor": "white",
           "linecolor": "white",
           "ticks": "",
           "title": {
            "standoff": 15
           },
           "zerolinecolor": "white",
           "zerolinewidth": 2
          }
         }
        },
        "xaxis": {
         "range": [
          0.02358456210235941,
          0.1875
         ],
         "tickformat": ".1%",
         "title": {
          "text": "Standard Deviation"
         }
        },
        "yaxis": {
         "range": [
          0.024500000000000004,
          0.075
         ],
         "tickformat": ".1%",
         "title": {
          "text": "Expected Return"
         }
        }
       }
      }
     },
     "metadata": {},
     "output_type": "display_data"
    }
   ],
   "source": [
    "fig = go.Figure()\n",
    "\n",
    "# Plot frontier\n",
    "string =  \"Stock: %{customdata[0]:.1%}<br>\"\n",
    "string += \"Bond: %{customdata[1]:.1%}<br>\"\n",
    "string += \"Sharpe ratio: %{customdata[2]:.4f}<br>\"\n",
    "string += \"<extra></extra>\"\n",
    "trace= go.Scatter(x=df.port_sd, y=df.port_expret,mode=\"lines\",\n",
    "    customdata=df[['w1','w2','sharpe']],hovertemplate=string, name='Frontier')\n",
    "fig.add_trace(trace)\n",
    "\n",
    "# Plot underlying assets\n",
    "trace1= go.Scatter(x=[SDS[0]], y=[MNS[0]],mode=\"markers\", marker=dict(size=10, color=\"red\"), name='Stock')\n",
    "fig.add_trace(trace1)\n",
    "trace2= go.Scatter(x=[SDS[1]], y=[MNS[1]],mode=\"markers\", marker=dict(size=10, color=\"red\"), name='Bond')\n",
    "fig.add_trace(trace2)\n",
    "\n",
    "# Plot tangency\n",
    "trace= go.Scatter(x=[port_sd], y=[port_expret] ,\n",
    "    mode=\"markers\", marker=dict(size=10, color=\"black\"),\n",
    "    customdata=np.append(wgts,port_sr).reshape(1,3),hovertemplate=string, name='Tangency')\n",
    "fig.add_trace(trace)\n",
    "\n",
    "# Plot CAL\n",
    "string =  \"Tangency: %{customdata[0]:.1%}<br>\"\n",
    "string += \"Risk-free: %{customdata[1]:.1%}<br>\"\n",
    "string += \"Optimal if risk aversion is: %{customdata[2]:.1f}<br>\"\n",
    "string += \"<extra></extra>\"\n",
    "trace= go.Scatter(x=cal.port_sd, y=cal.port_expret,mode=\"lines\",marker=dict(color=\"black\"),\n",
    "    customdata=cal[['wgt_tangency','wgt_rf','risk_aversion']],hovertemplate=string, name='CAL')\n",
    "fig.add_trace(trace)\n",
    "\n",
    "# Plot optimal location on CAL for risk aversion\n",
    "string =  \"Tangency: %{customdata[0]:.1%}<br>\"\n",
    "string += \"Risk-free: %{customdata[1]:.1%}<br>\"\n",
    "string += \"Optimal if risk aversion is: %{customdata[2]:.1f}<br>\"\n",
    "string += \"<extra></extra>\"\n",
    "trace= go.Scatter(x=[optport_sd], y=[optport_expret],\n",
    "    mode=\"markers\", marker=dict(size=15, color=\"red\", symbol='star'),\n",
    "    customdata=[[wgt_risky, 1-wgt_risky, RAVER]],hovertemplate=string, name='Optimal Portfolio')\n",
    "fig.add_trace(trace)\n",
    "\n",
    "# Formatting\n",
    "fig.layout.yaxis[\"title\"] = \"Expected Return\"\n",
    "fig.layout.xaxis[\"title\"] = \"Standard Deviation\"\n",
    "fig.update_yaxes(tickformat=\".1%\")\n",
    "fig.update_xaxes(tickformat=\".1%\")\n",
    "fig.update_xaxes(range=[0.7 * df[\"port_sd\"].min(), 1.25 * df[\"port_sd\"].max()])\n",
    "fig.update_yaxes(range=[0.7 * df[\"port_expret\"].min(), 1.25 * df[\"port_expret\"].max()])\n",
    "fig.update_layout(legend=dict(yanchor=\"top\", y=0.99, xanchor=\"left\", x=0.01))\n",
    "fig.show()"
   ]
  }
 ],
 "metadata": {
  "kernelspec": {
   "display_name": "venv",
   "language": "python",
   "name": "python3"
  },
  "language_info": {
   "codemirror_mode": {
    "name": "ipython",
    "version": 3
   },
   "file_extension": ".py",
   "mimetype": "text/x-python",
   "name": "python",
   "nbconvert_exporter": "python",
   "pygments_lexer": "ipython3",
   "version": "3.10.6"
  },
  "orig_nbformat": 4,
  "vscode": {
   "interpreter": {
    "hash": "cc788b38d8cb434c82f45ef9d481d0310e17b79321e4c8cbfbfe90f656a3f023"
   }
  }
 },
 "nbformat": 4,
 "nbformat_minor": 2
}
