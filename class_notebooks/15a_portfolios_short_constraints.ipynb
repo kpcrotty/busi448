{
 "cells": [
  {
   "attachments": {},
   "cell_type": "markdown",
   "metadata": {},
   "source": [
    "# Optimal portfolios with short-sales constraints"
   ]
  },
  {
   "cell_type": "code",
   "execution_count": 1,
   "metadata": {},
   "outputs": [],
   "source": [
    "import numpy as np\n",
    "import pandas as pd\n",
    "import plotly.graph_objects as go\n",
    "from scipy.optimize import minimize\n",
    "from cvxopt import matrix\n",
    "from cvxopt.solvers import qp as Solver, options as SolverOptions"
   ]
  },
  {
   "attachments": {},
   "cell_type": "markdown",
   "metadata": {},
   "source": [
    "### Inputs"
   ]
  },
  {
   "cell_type": "code",
   "execution_count": 2,
   "metadata": {},
   "outputs": [],
   "source": [
    "##### Inputs\n",
    "# Risk-free rate\n",
    "RF = 0.01\n",
    "\n",
    "# Expected returns\n",
    "MNS = np.array([0.06, 0.065, 0.08])\n",
    "\n",
    "# Standard deviations\n",
    "SDS = np.array([0.15, 0.165, 0.21])\n",
    "\n",
    "# Correlations\n",
    "C  = np.identity(3)\n",
    "C[0, 1] = C[1, 0] = 0.75\n",
    "C[0, 2] = C[2, 0] = 0.75\n",
    "C[1, 2] = C[2, 1] = 0.75\n",
    "\n",
    "# Covariance matrix\n",
    "COV = np.diag(SDS) @ C @ np.diag(SDS)"
   ]
  },
  {
   "attachments": {},
   "cell_type": "markdown",
   "metadata": {},
   "source": [
    "## Efficient Frontier"
   ]
  },
  {
   "cell_type": "code",
   "execution_count": 3,
   "metadata": {},
   "outputs": [],
   "source": [
    "def frontier(means, cov, target, Shorts):\n",
    "    n = len(means)\n",
    "    Q = matrix(cov, tc=\"d\")\n",
    "    p = matrix(np.zeros(n), (n, 1), tc=\"d\")\n",
    "    if Shorts==1:\n",
    "        # Constraint: short-sales allowed\n",
    "        G = matrix(np.zeros((n,n)), tc=\"d\")\n",
    "    else:\n",
    "        # Constraint: short-sales not allowed\n",
    "        G = matrix(-np.identity(n), tc=\"d\")\n",
    "    h = matrix(np.zeros(n), (n, 1), tc=\"d\")        \n",
    "    # Fully-invested constraint + E[r] = target\n",
    "    A = matrix(np.vstack((np.ones(n), means)), (2, n), tc=\"d\")\n",
    "    b = matrix([1, target], (2, 1), tc=\"d\")\n",
    "    sol = Solver(Q, p, G, h, A, b)\n",
    "    wgts = np.array(sol[\"x\"]).flatten() if sol[\"status\"] == \"optimal\" else np.array(n * [np.nan])\n",
    "    return wgts\n",
    "SolverOptions['show_progress'] = False"
   ]
  },
  {
   "attachments": {},
   "cell_type": "markdown",
   "metadata": {},
   "source": [
    "Efficient frontier with short-selling"
   ]
  },
  {
   "cell_type": "code",
   "execution_count": 4,
   "metadata": {},
   "outputs": [
    {
     "data": {
      "text/html": [
       "<div>\n",
       "<style scoped>\n",
       "    .dataframe tbody tr th:only-of-type {\n",
       "        vertical-align: middle;\n",
       "    }\n",
       "\n",
       "    .dataframe tbody tr th {\n",
       "        vertical-align: top;\n",
       "    }\n",
       "\n",
       "    .dataframe thead th {\n",
       "        text-align: right;\n",
       "    }\n",
       "</style>\n",
       "<table border=\"1\" class=\"dataframe\">\n",
       "  <thead>\n",
       "    <tr style=\"text-align: right;\">\n",
       "      <th></th>\n",
       "      <th>target_expret</th>\n",
       "      <th>w1</th>\n",
       "      <th>w2</th>\n",
       "      <th>w3</th>\n",
       "      <th>port_expret</th>\n",
       "      <th>port_sd</th>\n",
       "    </tr>\n",
       "  </thead>\n",
       "  <tbody>\n",
       "    <tr>\n",
       "      <th>0</th>\n",
       "      <td>0.054000</td>\n",
       "      <td>0.9723</td>\n",
       "      <td>0.4369</td>\n",
       "      <td>-0.4092</td>\n",
       "      <td>0.054000</td>\n",
       "      <td>0.146736</td>\n",
       "    </tr>\n",
       "    <tr>\n",
       "      <th>1</th>\n",
       "      <td>0.054694</td>\n",
       "      <td>0.9412</td>\n",
       "      <td>0.4322</td>\n",
       "      <td>-0.3734</td>\n",
       "      <td>0.054694</td>\n",
       "      <td>0.145856</td>\n",
       "    </tr>\n",
       "    <tr>\n",
       "      <th>2</th>\n",
       "      <td>0.055388</td>\n",
       "      <td>0.9100</td>\n",
       "      <td>0.4274</td>\n",
       "      <td>-0.3375</td>\n",
       "      <td>0.055388</td>\n",
       "      <td>0.145131</td>\n",
       "    </tr>\n",
       "    <tr>\n",
       "      <th>3</th>\n",
       "      <td>0.056082</td>\n",
       "      <td>0.8789</td>\n",
       "      <td>0.4227</td>\n",
       "      <td>-0.3016</td>\n",
       "      <td>0.056082</td>\n",
       "      <td>0.144560</td>\n",
       "    </tr>\n",
       "    <tr>\n",
       "      <th>4</th>\n",
       "      <td>0.056776</td>\n",
       "      <td>0.8478</td>\n",
       "      <td>0.4179</td>\n",
       "      <td>-0.2657</td>\n",
       "      <td>0.056776</td>\n",
       "      <td>0.144148</td>\n",
       "    </tr>\n",
       "    <tr>\n",
       "      <th>5</th>\n",
       "      <td>0.057469</td>\n",
       "      <td>0.8167</td>\n",
       "      <td>0.4131</td>\n",
       "      <td>-0.2298</td>\n",
       "      <td>0.057469</td>\n",
       "      <td>0.143895</td>\n",
       "    </tr>\n",
       "    <tr>\n",
       "      <th>6</th>\n",
       "      <td>0.058163</td>\n",
       "      <td>0.7856</td>\n",
       "      <td>0.4084</td>\n",
       "      <td>-0.1939</td>\n",
       "      <td>0.058163</td>\n",
       "      <td>0.143801</td>\n",
       "    </tr>\n",
       "    <tr>\n",
       "      <th>7</th>\n",
       "      <td>0.058857</td>\n",
       "      <td>0.7544</td>\n",
       "      <td>0.4036</td>\n",
       "      <td>-0.1580</td>\n",
       "      <td>0.058857</td>\n",
       "      <td>0.143868</td>\n",
       "    </tr>\n",
       "    <tr>\n",
       "      <th>8</th>\n",
       "      <td>0.059551</td>\n",
       "      <td>0.7233</td>\n",
       "      <td>0.3989</td>\n",
       "      <td>-0.1222</td>\n",
       "      <td>0.059551</td>\n",
       "      <td>0.144095</td>\n",
       "    </tr>\n",
       "    <tr>\n",
       "      <th>9</th>\n",
       "      <td>0.060245</td>\n",
       "      <td>0.6922</td>\n",
       "      <td>0.3941</td>\n",
       "      <td>-0.0863</td>\n",
       "      <td>0.060245</td>\n",
       "      <td>0.144482</td>\n",
       "    </tr>\n",
       "  </tbody>\n",
       "</table>\n",
       "</div>"
      ],
      "text/plain": [
       "   target_expret      w1      w2      w3  port_expret   port_sd\n",
       "0       0.054000  0.9723  0.4369 -0.4092     0.054000  0.146736\n",
       "1       0.054694  0.9412  0.4322 -0.3734     0.054694  0.145856\n",
       "2       0.055388  0.9100  0.4274 -0.3375     0.055388  0.145131\n",
       "3       0.056082  0.8789  0.4227 -0.3016     0.056082  0.144560\n",
       "4       0.056776  0.8478  0.4179 -0.2657     0.056776  0.144148\n",
       "5       0.057469  0.8167  0.4131 -0.2298     0.057469  0.143895\n",
       "6       0.058163  0.7856  0.4084 -0.1939     0.058163  0.143801\n",
       "7       0.058857  0.7544  0.4036 -0.1580     0.058857  0.143868\n",
       "8       0.059551  0.7233  0.3989 -0.1222     0.059551  0.144095\n",
       "9       0.060245  0.6922  0.3941 -0.0863     0.060245  0.144482"
      ]
     },
     "execution_count": 4,
     "metadata": {},
     "output_type": "execute_result"
    }
   ],
   "source": [
    "NUM_TARGETS = 50\n",
    "df = pd.DataFrame(dtype='float',columns=['target_expret','w1','w2','w3','port_expret','port_sd'], index=np.arange(NUM_TARGETS))\n",
    "df.target_expret = np.linspace(0.9*MNS.min(), 1.1*MNS.max(),NUM_TARGETS)\n",
    "for i in df.index:\n",
    "    wgts = frontier(MNS, COV, df.loc[i,'target_expret'], 1)\n",
    "    df.loc[i,['w1','w2','w3']] = wgts.round(4)\n",
    "    df.loc[i,'port_expret'] = wgts @ MNS\n",
    "    df.loc[i,'port_sd'] = np.sqrt(wgts @ COV @ wgts)\n",
    "df.head(10)"
   ]
  },
  {
   "attachments": {},
   "cell_type": "markdown",
   "metadata": {},
   "source": [
    "Efficient frontier without short-selling"
   ]
  },
  {
   "cell_type": "code",
   "execution_count": 5,
   "metadata": {},
   "outputs": [
    {
     "data": {
      "text/html": [
       "<div>\n",
       "<style scoped>\n",
       "    .dataframe tbody tr th:only-of-type {\n",
       "        vertical-align: middle;\n",
       "    }\n",
       "\n",
       "    .dataframe tbody tr th {\n",
       "        vertical-align: top;\n",
       "    }\n",
       "\n",
       "    .dataframe thead th {\n",
       "        text-align: right;\n",
       "    }\n",
       "</style>\n",
       "<table border=\"1\" class=\"dataframe\">\n",
       "  <thead>\n",
       "    <tr style=\"text-align: right;\">\n",
       "      <th></th>\n",
       "      <th>target_expret</th>\n",
       "      <th>w1</th>\n",
       "      <th>w2</th>\n",
       "      <th>w3</th>\n",
       "      <th>port_expret</th>\n",
       "      <th>port_sd</th>\n",
       "    </tr>\n",
       "  </thead>\n",
       "  <tbody>\n",
       "    <tr>\n",
       "      <th>0</th>\n",
       "      <td>0.060000</td>\n",
       "      <td>1.0000</td>\n",
       "      <td>-0.0000</td>\n",
       "      <td>0.0</td>\n",
       "      <td>0.060000</td>\n",
       "      <td>0.150000</td>\n",
       "    </tr>\n",
       "    <tr>\n",
       "      <th>1</th>\n",
       "      <td>0.060408</td>\n",
       "      <td>0.9184</td>\n",
       "      <td>0.0816</td>\n",
       "      <td>0.0</td>\n",
       "      <td>0.060408</td>\n",
       "      <td>0.148125</td>\n",
       "    </tr>\n",
       "    <tr>\n",
       "      <th>2</th>\n",
       "      <td>0.060816</td>\n",
       "      <td>0.8367</td>\n",
       "      <td>0.1633</td>\n",
       "      <td>0.0</td>\n",
       "      <td>0.060816</td>\n",
       "      <td>0.146800</td>\n",
       "    </tr>\n",
       "    <tr>\n",
       "      <th>3</th>\n",
       "      <td>0.061224</td>\n",
       "      <td>0.7551</td>\n",
       "      <td>0.2449</td>\n",
       "      <td>0.0</td>\n",
       "      <td>0.061224</td>\n",
       "      <td>0.146038</td>\n",
       "    </tr>\n",
       "    <tr>\n",
       "      <th>4</th>\n",
       "      <td>0.061633</td>\n",
       "      <td>0.6736</td>\n",
       "      <td>0.3264</td>\n",
       "      <td>0.0</td>\n",
       "      <td>0.061633</td>\n",
       "      <td>0.145850</td>\n",
       "    </tr>\n",
       "  </tbody>\n",
       "</table>\n",
       "</div>"
      ],
      "text/plain": [
       "   target_expret      w1      w2   w3  port_expret   port_sd\n",
       "0       0.060000  1.0000 -0.0000  0.0     0.060000  0.150000\n",
       "1       0.060408  0.9184  0.0816  0.0     0.060408  0.148125\n",
       "2       0.060816  0.8367  0.1633  0.0     0.060816  0.146800\n",
       "3       0.061224  0.7551  0.2449  0.0     0.061224  0.146038\n",
       "4       0.061633  0.6736  0.3264  0.0     0.061633  0.145850"
      ]
     },
     "execution_count": 5,
     "metadata": {},
     "output_type": "execute_result"
    }
   ],
   "source": [
    "df_ssc = pd.DataFrame(dtype='float',columns=['target_expret','w1','w2','w3','port_expret','port_sd'], index=np.arange(NUM_TARGETS))\n",
    "df_ssc.target_expret = np.linspace(MNS.min(), MNS.max(),NUM_TARGETS)\n",
    "for i in df_ssc.index:\n",
    "    wgts = frontier(MNS, COV, df_ssc.loc[i,'target_expret'], 0)\n",
    "    df_ssc.loc[i,['w1','w2','w3']] = wgts.round(4)\n",
    "    df_ssc.loc[i,'port_expret'] = wgts @ MNS\n",
    "    df_ssc.loc[i,'port_sd'] = np.sqrt(wgts @ COV @ wgts)\n",
    "df_ssc.head()"
   ]
  },
  {
   "cell_type": "markdown",
   "metadata": {},
   "source": [
    "## Global minimum variance"
   ]
  },
  {
   "cell_type": "code",
   "execution_count": 6,
   "metadata": {},
   "outputs": [],
   "source": [
    "def gmv(means, cov, Shorts):\n",
    "    n = len(means)\n",
    "    Q = matrix(cov, tc=\"d\")\n",
    "    p = matrix(np.zeros(n), (n, 1), tc=\"d\")\n",
    "    if Shorts==1:\n",
    "        # Constraint: short-sales allowed\n",
    "        G = matrix(np.zeros((n,n)), tc=\"d\")\n",
    "    else:\n",
    "        # Constraint: short-sales not allowed\n",
    "        G = matrix(-np.identity(n), tc=\"d\")\n",
    "    h = matrix(np.zeros(n), (n, 1), tc=\"d\")\n",
    "    # Constraint: fully-invested portfolio\n",
    "    A = matrix(np.ones(n), (1, n), tc=\"d\")\n",
    "    b = matrix([1], (1, 1), tc=\"d\")\n",
    "    sol = Solver(Q, p, G, h, A, b)\n",
    "    wgts = np.array(sol[\"x\"]).flatten() if sol[\"status\"] == \"optimal\" else np.array(n * [np.nan])\n",
    "    return wgts"
   ]
  },
  {
   "attachments": {},
   "cell_type": "markdown",
   "metadata": {},
   "source": [
    "GMV with shorting"
   ]
  },
  {
   "cell_type": "code",
   "execution_count": 7,
   "metadata": {},
   "outputs": [
    {
     "name": "stdout",
     "output_type": "stream",
     "text": [
      "GMV weights\t\t [ 0.783  0.408 -0.191]\n",
      "GMV Expected Return:\t  0.0582\n",
      "GMV Standard Deviation:\t  0.1438\n"
     ]
    }
   ],
   "source": [
    "wgts_gmv = gmv(MNS, COV, 1)\n",
    "print(f'GMV weights\\t\\t {wgts_gmv.round(4)}')\n",
    "\n",
    "# Portfolio expected return\n",
    "gmv_expret = wgts_gmv @ MNS\n",
    "print(f'GMV Expected Return:\\t {gmv_expret: ,.4f}')\n",
    "\n",
    "# Portfolio standard deviation\n",
    "gmv_sd = np.sqrt(wgts_gmv @ COV @ wgts_gmv)\n",
    "print(f'GMV Standard Deviation:\\t {gmv_sd: ,.4f}')"
   ]
  },
  {
   "attachments": {},
   "cell_type": "markdown",
   "metadata": {},
   "source": [
    "GMV without shorting"
   ]
  },
  {
   "cell_type": "code",
   "execution_count": 8,
   "metadata": {},
   "outputs": [
    {
     "name": "stdout",
     "output_type": "stream",
     "text": [
      "GMV w/o shorting weights\t\t [0.6875 0.3125 0.    ]\n",
      "GMV w/o shorting Expected Return:\t  0.0616\n",
      "GMV w/o shorting Standard Deviation:\t  0.1458\n"
     ]
    }
   ],
   "source": [
    "wgts_gmv_ssc = gmv(MNS, COV, 0)\n",
    "print(f'GMV w/o shorting weights\\t\\t {wgts_gmv_ssc.round(4)}')\n",
    "\n",
    "# Portfolio expected return\n",
    "gmv_ssc_expret = wgts_gmv_ssc @ MNS\n",
    "print(f'GMV w/o shorting Expected Return:\\t {gmv_ssc_expret: ,.4f}')\n",
    "\n",
    "# Portfolio standard deviation\n",
    "gmv_ssc_sd = np.sqrt(wgts_gmv_ssc @ COV @ wgts_gmv_ssc)\n",
    "print(f'GMV w/o shorting Standard Deviation:\\t {gmv_ssc_sd: ,.4f}')"
   ]
  },
  {
   "attachments": {},
   "cell_type": "markdown",
   "metadata": {},
   "source": [
    "## Tangency Portfolio"
   ]
  },
  {
   "cell_type": "code",
   "execution_count": 9,
   "metadata": {},
   "outputs": [],
   "source": [
    "def tangency(means, cov, rf, Shorts):\n",
    "    n = len(means)\n",
    "    def f(w):\n",
    "        mn = w @ means\n",
    "        sd = np.sqrt(w @ cov @ w)\n",
    "        return -(mn - rf) / sd\n",
    "    # Initial guess (equal-weighted)\n",
    "    w0 = (1/n)*np.ones(n)\n",
    "    # Constraint: fully-invested portfolio\n",
    "    A = np.ones(n)\n",
    "    b = 1\n",
    "    cons = [{\"type\": \"eq\", \"fun\": lambda x: A @ x - b}]\n",
    "    if Shorts==1:\n",
    "        # No short-sale constraint\n",
    "        bnds = [(None, None) for i in range(n)] \n",
    "    else:\n",
    "        # Short-sale constraint\n",
    "        bnds = [(0, None) for i in range(n)] \n",
    "    # Optimization\n",
    "    TOL = 10**(-10)\n",
    "    wgts = minimize(f, w0, bounds=bnds, constraints=cons, options={'ftol':TOL}).x\n",
    "    return wgts"
   ]
  },
  {
   "attachments": {},
   "cell_type": "markdown",
   "metadata": {},
   "source": [
    "Tangency with shorting"
   ]
  },
  {
   "cell_type": "code",
   "execution_count": 10,
   "metadata": {},
   "outputs": [
    {
     "name": "stdout",
     "output_type": "stream",
     "text": [
      "Tangency weights\t\t [0.3812 0.3465 0.2723]\n",
      "Tangency Expected Return:\t  0.0672\n",
      "Tangency Standard Deviation:\t  0.1566\n"
     ]
    }
   ],
   "source": [
    "wgts_tang = tangency(MNS, COV, RF, 1)\n",
    "print(f'Tangency weights\\t\\t {wgts_tang.round(4)}')\n",
    "\n",
    "# Portfolio expected return\n",
    "tang_expret = wgts_tang @ MNS\n",
    "print(f'Tangency Expected Return:\\t {tang_expret: ,.4f}')\n",
    "\n",
    "# Portfolio standard deviation\n",
    "tang_sd = np.sqrt(wgts_tang @ COV @ wgts_tang)\n",
    "print(f'Tangency Standard Deviation:\\t {tang_sd: ,.4f}')"
   ]
  },
  {
   "attachments": {},
   "cell_type": "markdown",
   "metadata": {},
   "source": [
    "Tangency without shorting"
   ]
  },
  {
   "cell_type": "code",
   "execution_count": 11,
   "metadata": {},
   "outputs": [
    {
     "name": "stdout",
     "output_type": "stream",
     "text": [
      "Tangency w/o shorting weights\t\t [0.3812 0.3465 0.2723]\n",
      "Tangency w/o shorting Expected Return:\t\t  0.0672\n",
      "Tangency w/o shorting Standard Deviation:\t  0.1566\n"
     ]
    }
   ],
   "source": [
    "wgts_tang_ssc = tangency(MNS, COV, RF, 0)\n",
    "print(f'Tangency w/o shorting weights\\t\\t {wgts_tang.round(4)}')\n",
    "\n",
    "# Portfolio expected return\n",
    "tang_ssc_expret = wgts_tang_ssc @ MNS\n",
    "print(f'Tangency w/o shorting Expected Return:\\t\\t {tang_ssc_expret: ,.4f}')\n",
    "\n",
    "# Portfolio standard deviation\n",
    "tang_ssc_sd = np.sqrt(wgts_tang_ssc @ COV @ wgts_tang_ssc)\n",
    "print(f'Tangency w/o shorting Standard Deviation:\\t {tang_ssc_sd: ,.4f}')"
   ]
  },
  {
   "attachments": {},
   "cell_type": "markdown",
   "metadata": {},
   "source": [
    "### The full picture"
   ]
  },
  {
   "cell_type": "code",
   "execution_count": 12,
   "metadata": {},
   "outputs": [
    {
     "data": {
      "application/vnd.plotly.v1+json": {
       "config": {
        "plotlyServerURL": "https://plot.ly"
       },
       "data": [
        {
         "marker": {
          "color": "red",
          "size": 10
         },
         "mode": "markers",
         "name": "Asset 1",
         "type": "scatter",
         "x": [
          0.15
         ],
         "y": [
          0.06
         ]
        },
        {
         "marker": {
          "color": "red",
          "size": 10
         },
         "mode": "markers",
         "name": "Asset 2",
         "type": "scatter",
         "x": [
          0.165
         ],
         "y": [
          0.065
         ]
        },
        {
         "marker": {
          "color": "red",
          "size": 10
         },
         "mode": "markers",
         "name": "Asset 3",
         "type": "scatter",
         "x": [
          0.21
         ],
         "y": [
          0.08
         ]
        },
        {
         "customdata": [
          [
           0.9723,
           0.4369,
           -0.4092
          ],
          [
           0.9412,
           0.4322,
           -0.3734
          ],
          [
           0.91,
           0.4274,
           -0.3375
          ],
          [
           0.8789,
           0.4227,
           -0.3016
          ],
          [
           0.8478,
           0.4179,
           -0.2657
          ],
          [
           0.8167,
           0.4131,
           -0.2298
          ],
          [
           0.7856,
           0.4084,
           -0.1939
          ],
          [
           0.7544,
           0.4036,
           -0.158
          ],
          [
           0.7233,
           0.3989,
           -0.1222
          ],
          [
           0.6922,
           0.3941,
           -0.0863
          ],
          [
           0.6611,
           0.3893,
           -0.0504
          ],
          [
           0.6299,
           0.3846,
           -0.0145
          ],
          [
           0.5988,
           0.3798,
           0.0214
          ],
          [
           0.5677,
           0.3751,
           0.0573
          ],
          [
           0.5366,
           0.3703,
           0.0931
          ],
          [
           0.5054,
           0.3655,
           0.129
          ],
          [
           0.4743,
           0.3608,
           0.1649
          ],
          [
           0.4432,
           0.356,
           0.2008
          ],
          [
           0.4121,
           0.3513,
           0.2367
          ],
          [
           0.3809,
           0.3465,
           0.2726
          ],
          [
           0.3498,
           0.3417,
           0.3084
          ],
          [
           0.3187,
           0.337,
           0.3443
          ],
          [
           0.2876,
           0.3322,
           0.3802
          ],
          [
           0.2564,
           0.3275,
           0.4161
          ],
          [
           0.2253,
           0.3227,
           0.452
          ],
          [
           0.1942,
           0.3179,
           0.4879
          ],
          [
           0.1631,
           0.3132,
           0.5237
          ],
          [
           0.132,
           0.3084,
           0.5596
          ],
          [
           0.1008,
           0.3037,
           0.5955
          ],
          [
           0.0697,
           0.2989,
           0.6314
          ],
          [
           0.0386,
           0.2941,
           0.6673
          ],
          [
           0.0075,
           0.2894,
           0.7032
          ],
          [
           -0.0237,
           0.2846,
           0.7391
          ],
          [
           -0.0548,
           0.2799,
           0.7749
          ],
          [
           -0.0859,
           0.2751,
           0.8108
          ],
          [
           -0.117,
           0.2703,
           0.8467
          ],
          [
           -0.1482,
           0.2656,
           0.8826
          ],
          [
           -0.1793,
           0.2608,
           0.9185
          ],
          [
           -0.2104,
           0.2561,
           0.9544
          ],
          [
           -0.2415,
           0.2513,
           0.9902
          ],
          [
           -0.2727,
           0.2465,
           1.0261
          ],
          [
           -0.3038,
           0.2418,
           1.062
          ],
          [
           -0.3349,
           0.237,
           1.0979
          ],
          [
           -0.366,
           0.2323,
           1.1338
          ],
          [
           -0.3972,
           0.2275,
           1.1697
          ],
          [
           -0.4283,
           0.2227,
           1.2055
          ],
          [
           -0.4594,
           0.218,
           1.2414
          ],
          [
           -0.4905,
           0.2132,
           1.2773
          ],
          [
           -0.5216,
           0.2085,
           1.3132
          ],
          [
           -0.5528,
           0.2037,
           1.3491
          ]
         ],
         "hovertemplate": "Asset 1: %{customdata[0]:.1%}<br>Asset 2: %{customdata[1]:.1%}<br>Asset 3: %{customdata[2]:.1%}<br><extra></extra>",
         "marker": {
          "color": "black"
         },
         "mode": "lines",
         "name": "Frontier with shorting",
         "type": "scatter",
         "x": [
          0.14673600493784317,
          0.1458564714640021,
          0.14513050739811692,
          0.144560426376777,
          0.1441480778842761,
          0.14389481793352457,
          0.14380148707648377,
          0.14386839656293227,
          0.14409532317415874,
          0.14448151293032765,
          0.1450256935287768,
          0.1457260950388229,
          0.14658047807917832,
          0.1475861684558278,
          0.1487400970549589,
          0.15003884367476397,
          0.1514786834425789,
          0.1530556344948753,
          0.1547655056873326,
          0.1566039432376394,
          0.15856647537041013,
          0.16064855421729463,
          0.1628455944129724,
          0.1651530080083818,
          0.16756623548798266,
          0.17008077282252262,
          0.17269219460964105,
          0.17539617345078198,
          0.1781884957850942,
          0.18106507445122422,
          0.1840219582788839,
          0.18705533902687266,
          0.1901615559859993,
          0.19333709855707856,
          0.1965786070985796,
          0.19988287231791793,
          0.2032468334567589,
          0.20666757549560827,
          0.21014232557759874,
          0.2136684488266464,
          0.21724344371166623,
          0.22086493708671304,
          0.22453067901698112,
          0.22823853748267536,
          0.23198649303683538,
          0.235772633479214,
          0.2395951485961538,
          0.24345232500593889,
          0.24734254114016996,
          0.25126426238415034
         ],
         "y": [
          0.05399999999999999,
          0.054693877551020405,
          0.055387755102040824,
          0.056081632653061216,
          0.05677551020408163,
          0.05746938775510205,
          0.05816326530612245,
          0.05885714285714287,
          0.05955102040816327,
          0.06024489795918368,
          0.060938775510204074,
          0.061632653061224486,
          0.0623265306122449,
          0.0630204081632653,
          0.06371428571428572,
          0.06440816326530613,
          0.06510204081632653,
          0.06579591836734694,
          0.06648979591836734,
          0.06718367346938775,
          0.06787755102040817,
          0.06857142857142857,
          0.06926530612244898,
          0.06995918367346937,
          0.0706530612244898,
          0.07134693877551021,
          0.07204081632653062,
          0.07273469387755102,
          0.07342857142857143,
          0.07412244897959185,
          0.07481632653061225,
          0.07551020408163266,
          0.07620408163265306,
          0.07689795918367348,
          0.07759183673469389,
          0.07828571428571429,
          0.07897959183673471,
          0.0796734693877551,
          0.08036734693877551,
          0.08106122448979594,
          0.08175510204081633,
          0.08244897959183674,
          0.08314285714285716,
          0.08383673469387756,
          0.08453061224489798,
          0.08522448979591837,
          0.08591836734693878,
          0.08661224489795917,
          0.08730612244897959,
          0.088
         ]
        },
        {
         "customdata": [
          [
           0.7829861111111114,
           0.40798611111111094,
           -0.19097222222222238
          ]
         ],
         "hovertemplate": "Asset 1: %{customdata[0]:.1%}<br>Asset 2: %{customdata[1]:.1%}<br>Asset 3: %{customdata[2]:.1%}<br><extra></extra>",
         "marker": {
          "color": "black",
          "size": 10
         },
         "mode": "markers",
         "name": "GMV with shorting",
         "type": "scatter",
         "x": [
          0.14380094206054422
         ],
         "y": [
          0.058220486111111094
         ]
        },
        {
         "customdata": [
          [
           1,
           0,
           0
          ],
          [
           0.9184,
           0.0816,
           0
          ],
          [
           0.8367,
           0.1633,
           0
          ],
          [
           0.7551,
           0.2449,
           0
          ],
          [
           0.6736,
           0.3264,
           0
          ],
          [
           0.6116,
           0.3818,
           0.0066
          ],
          [
           0.5933,
           0.379,
           0.0277
          ],
          [
           0.575,
           0.3762,
           0.0488
          ],
          [
           0.5567,
           0.3734,
           0.0699
          ],
          [
           0.5384,
           0.3706,
           0.091
          ],
          [
           0.5201,
           0.3678,
           0.1121
          ],
          [
           0.5018,
           0.365,
           0.1332
          ],
          [
           0.4835,
           0.3622,
           0.1544
          ],
          [
           0.4652,
           0.3594,
           0.1755
          ],
          [
           0.4469,
           0.3566,
           0.1966
          ],
          [
           0.4285,
           0.3538,
           0.2177
          ],
          [
           0.4102,
           0.351,
           0.2388
          ],
          [
           0.3919,
           0.3482,
           0.2599
          ],
          [
           0.3736,
           0.3454,
           0.281
          ],
          [
           0.3553,
           0.3426,
           0.3021
          ],
          [
           0.337,
           0.3398,
           0.3232
          ],
          [
           0.3187,
           0.337,
           0.3443
          ],
          [
           0.3004,
           0.3342,
           0.3654
          ],
          [
           0.2821,
           0.3314,
           0.3865
          ],
          [
           0.2638,
           0.3286,
           0.4077
          ],
          [
           0.2455,
           0.3258,
           0.4288
          ],
          [
           0.2272,
           0.323,
           0.4499
          ],
          [
           0.2089,
           0.3202,
           0.471
          ],
          [
           0.1905,
           0.3174,
           0.4921
          ],
          [
           0.1722,
           0.3146,
           0.5132
          ],
          [
           0.1539,
           0.3118,
           0.5343
          ],
          [
           0.1356,
           0.309,
           0.5554
          ],
          [
           0.1173,
           0.3061,
           0.5765
          ],
          [
           0.099,
           0.3034,
           0.5976
          ],
          [
           0.0807,
           0.3006,
           0.6187
          ],
          [
           0.0624,
           0.2978,
           0.6398
          ],
          [
           0.0441,
           0.295,
           0.661
          ],
          [
           0.0258,
           0.2922,
           0.6821
          ],
          [
           0.0075,
           0.2894,
           0.7032
          ],
          [
           0.0002,
           0.2719,
           0.7279
          ],
          [
           0,
           0.2449,
           0.7551
          ],
          [
           0,
           0.2177,
           0.7823
          ],
          [
           0,
           0.1905,
           0.8095
          ],
          [
           0,
           0.1633,
           0.8367
          ],
          [
           0,
           0.136,
           0.864
          ],
          [
           0,
           0.1088,
           0.8912
          ],
          [
           0,
           0.0816,
           0.9184
          ],
          [
           0,
           0.0544,
           0.9456
          ],
          [
           0,
           0.0272,
           0.9728
          ],
          [
           0,
           0,
           1
          ]
         ],
         "hovertemplate": "Asset 1: %{customdata[0]:.1%}<br>Asset 2: %{customdata[1]:.1%}<br>Asset 3: %{customdata[2]:.1%}<br><extra></extra>",
         "marker": {
          "color": "blue"
         },
         "mode": "lines",
         "name": "Frontier without shorting",
         "type": "scatter",
         "x": [
          0.15000000004758812,
          0.1481253281440315,
          0.1467996888389911,
          0.1460380623904224,
          0.14584982226361967,
          0.1462101870802564,
          0.14674704076644476,
          0.14733607935237603,
          0.1479766796542143,
          0.14866817514794645,
          0.14940985917557165,
          0.15020098825680106,
          0.1510407854360856,
          0.1519284436645731,
          0.15286312917402464,
          0.15384398481822922,
          0.15487013335685024,
          0.15594068065942293,
          0.15705471880977306,
          0.15821132909386057,
          0.1594095848567788,
          0.16064855421730917,
          0.16192730263099905,
          0.16324489529517328,
          0.164600399391558,
          0.1659928861642781,
          0.16742143283287295,
          0.16888512434164954,
          0.17038305494815958,
          0.17191432965485268,
          0.17347806548905084,
          0.1750733926374065,
          0.17669945544236323,
          0.17835541320332135,
          0.180040441101912,
          0.18175373058831687,
          0.18349449002879323,
          0.18526194509952693,
          0.1870553390326551,
          0.18888001627256087,
          0.19075924712648748,
          0.19269471374718447,
          0.19468448221920467,
          0.19672697269246955,
          0.19882079227670837,
          0.20096372662713127,
          0.2031546595905604,
          0.20539220791707272,
          0.20767429907665252,
          0.209999999996362
         ],
         "y": [
          0.05999999999999999,
          0.06040816326530612,
          0.060816326530612246,
          0.06122448979591837,
          0.061632653061224486,
          0.062040816326530614,
          0.06244897959183673,
          0.06285714285714286,
          0.06326530612244897,
          0.0636734693877551,
          0.06408163265306122,
          0.06448979591836734,
          0.06489795918367347,
          0.0653061224489796,
          0.06571428571428571,
          0.06612244897959184,
          0.06653061224489795,
          0.06693877551020408,
          0.0673469387755102,
          0.06775510204081632,
          0.06816326530612245,
          0.06857142857142857,
          0.06897959183673469,
          0.06938775510204082,
          0.06979591836734694,
          0.07020408163265306,
          0.07061224489795917,
          0.0710204081632653,
          0.07142857142857142,
          0.07183673469387755,
          0.07224489795918368,
          0.07265306122448979,
          0.07306122448979592,
          0.07346938775510203,
          0.07387755102040816,
          0.07428571428571429,
          0.07469387755102042,
          0.07510204081632654,
          0.07551020408163267,
          0.07591836734693877,
          0.07632653061224491,
          0.07673469387755102,
          0.07714285714285714,
          0.07755102040816325,
          0.07795918367346939,
          0.0783673469387755,
          0.07877551020408163,
          0.07918367346938776,
          0.07959183673469387,
          0.08
         ]
        },
        {
         "customdata": [
          [
           0.6874998422646994,
           0.3124998463361399,
           3.113991607089933e-7
          ]
         ],
         "hovertemplate": "Asset 1: %{customdata[0]:.1%}<br>Asset 2: %{customdata[1]:.1%}<br>Asset 3: %{customdata[2]:.1%}<br><extra></extra>",
         "marker": {
          "color": "blue",
          "size": 10
         },
         "mode": "markers",
         "name": "GMV without shorting",
         "type": "scatter",
         "x": [
          0.14584078022550442
         ],
         "y": [
          0.061562505459663915
         ]
        }
       ],
       "layout": {
        "legend": {
         "x": 0.01,
         "xanchor": "left",
         "y": 0.99,
         "yanchor": "top"
        },
        "template": {
         "data": {
          "bar": [
           {
            "error_x": {
             "color": "#2a3f5f"
            },
            "error_y": {
             "color": "#2a3f5f"
            },
            "marker": {
             "line": {
              "color": "#E5ECF6",
              "width": 0.5
             },
             "pattern": {
              "fillmode": "overlay",
              "size": 10,
              "solidity": 0.2
             }
            },
            "type": "bar"
           }
          ],
          "barpolar": [
           {
            "marker": {
             "line": {
              "color": "#E5ECF6",
              "width": 0.5
             },
             "pattern": {
              "fillmode": "overlay",
              "size": 10,
              "solidity": 0.2
             }
            },
            "type": "barpolar"
           }
          ],
          "carpet": [
           {
            "aaxis": {
             "endlinecolor": "#2a3f5f",
             "gridcolor": "white",
             "linecolor": "white",
             "minorgridcolor": "white",
             "startlinecolor": "#2a3f5f"
            },
            "baxis": {
             "endlinecolor": "#2a3f5f",
             "gridcolor": "white",
             "linecolor": "white",
             "minorgridcolor": "white",
             "startlinecolor": "#2a3f5f"
            },
            "type": "carpet"
           }
          ],
          "choropleth": [
           {
            "colorbar": {
             "outlinewidth": 0,
             "ticks": ""
            },
            "type": "choropleth"
           }
          ],
          "contour": [
           {
            "colorbar": {
             "outlinewidth": 0,
             "ticks": ""
            },
            "colorscale": [
             [
              0,
              "#0d0887"
             ],
             [
              0.1111111111111111,
              "#46039f"
             ],
             [
              0.2222222222222222,
              "#7201a8"
             ],
             [
              0.3333333333333333,
              "#9c179e"
             ],
             [
              0.4444444444444444,
              "#bd3786"
             ],
             [
              0.5555555555555556,
              "#d8576b"
             ],
             [
              0.6666666666666666,
              "#ed7953"
             ],
             [
              0.7777777777777778,
              "#fb9f3a"
             ],
             [
              0.8888888888888888,
              "#fdca26"
             ],
             [
              1,
              "#f0f921"
             ]
            ],
            "type": "contour"
           }
          ],
          "contourcarpet": [
           {
            "colorbar": {
             "outlinewidth": 0,
             "ticks": ""
            },
            "type": "contourcarpet"
           }
          ],
          "heatmap": [
           {
            "colorbar": {
             "outlinewidth": 0,
             "ticks": ""
            },
            "colorscale": [
             [
              0,
              "#0d0887"
             ],
             [
              0.1111111111111111,
              "#46039f"
             ],
             [
              0.2222222222222222,
              "#7201a8"
             ],
             [
              0.3333333333333333,
              "#9c179e"
             ],
             [
              0.4444444444444444,
              "#bd3786"
             ],
             [
              0.5555555555555556,
              "#d8576b"
             ],
             [
              0.6666666666666666,
              "#ed7953"
             ],
             [
              0.7777777777777778,
              "#fb9f3a"
             ],
             [
              0.8888888888888888,
              "#fdca26"
             ],
             [
              1,
              "#f0f921"
             ]
            ],
            "type": "heatmap"
           }
          ],
          "heatmapgl": [
           {
            "colorbar": {
             "outlinewidth": 0,
             "ticks": ""
            },
            "colorscale": [
             [
              0,
              "#0d0887"
             ],
             [
              0.1111111111111111,
              "#46039f"
             ],
             [
              0.2222222222222222,
              "#7201a8"
             ],
             [
              0.3333333333333333,
              "#9c179e"
             ],
             [
              0.4444444444444444,
              "#bd3786"
             ],
             [
              0.5555555555555556,
              "#d8576b"
             ],
             [
              0.6666666666666666,
              "#ed7953"
             ],
             [
              0.7777777777777778,
              "#fb9f3a"
             ],
             [
              0.8888888888888888,
              "#fdca26"
             ],
             [
              1,
              "#f0f921"
             ]
            ],
            "type": "heatmapgl"
           }
          ],
          "histogram": [
           {
            "marker": {
             "pattern": {
              "fillmode": "overlay",
              "size": 10,
              "solidity": 0.2
             }
            },
            "type": "histogram"
           }
          ],
          "histogram2d": [
           {
            "colorbar": {
             "outlinewidth": 0,
             "ticks": ""
            },
            "colorscale": [
             [
              0,
              "#0d0887"
             ],
             [
              0.1111111111111111,
              "#46039f"
             ],
             [
              0.2222222222222222,
              "#7201a8"
             ],
             [
              0.3333333333333333,
              "#9c179e"
             ],
             [
              0.4444444444444444,
              "#bd3786"
             ],
             [
              0.5555555555555556,
              "#d8576b"
             ],
             [
              0.6666666666666666,
              "#ed7953"
             ],
             [
              0.7777777777777778,
              "#fb9f3a"
             ],
             [
              0.8888888888888888,
              "#fdca26"
             ],
             [
              1,
              "#f0f921"
             ]
            ],
            "type": "histogram2d"
           }
          ],
          "histogram2dcontour": [
           {
            "colorbar": {
             "outlinewidth": 0,
             "ticks": ""
            },
            "colorscale": [
             [
              0,
              "#0d0887"
             ],
             [
              0.1111111111111111,
              "#46039f"
             ],
             [
              0.2222222222222222,
              "#7201a8"
             ],
             [
              0.3333333333333333,
              "#9c179e"
             ],
             [
              0.4444444444444444,
              "#bd3786"
             ],
             [
              0.5555555555555556,
              "#d8576b"
             ],
             [
              0.6666666666666666,
              "#ed7953"
             ],
             [
              0.7777777777777778,
              "#fb9f3a"
             ],
             [
              0.8888888888888888,
              "#fdca26"
             ],
             [
              1,
              "#f0f921"
             ]
            ],
            "type": "histogram2dcontour"
           }
          ],
          "mesh3d": [
           {
            "colorbar": {
             "outlinewidth": 0,
             "ticks": ""
            },
            "type": "mesh3d"
           }
          ],
          "parcoords": [
           {
            "line": {
             "colorbar": {
              "outlinewidth": 0,
              "ticks": ""
             }
            },
            "type": "parcoords"
           }
          ],
          "pie": [
           {
            "automargin": true,
            "type": "pie"
           }
          ],
          "scatter": [
           {
            "fillpattern": {
             "fillmode": "overlay",
             "size": 10,
             "solidity": 0.2
            },
            "type": "scatter"
           }
          ],
          "scatter3d": [
           {
            "line": {
             "colorbar": {
              "outlinewidth": 0,
              "ticks": ""
             }
            },
            "marker": {
             "colorbar": {
              "outlinewidth": 0,
              "ticks": ""
             }
            },
            "type": "scatter3d"
           }
          ],
          "scattercarpet": [
           {
            "marker": {
             "colorbar": {
              "outlinewidth": 0,
              "ticks": ""
             }
            },
            "type": "scattercarpet"
           }
          ],
          "scattergeo": [
           {
            "marker": {
             "colorbar": {
              "outlinewidth": 0,
              "ticks": ""
             }
            },
            "type": "scattergeo"
           }
          ],
          "scattergl": [
           {
            "marker": {
             "colorbar": {
              "outlinewidth": 0,
              "ticks": ""
             }
            },
            "type": "scattergl"
           }
          ],
          "scattermapbox": [
           {
            "marker": {
             "colorbar": {
              "outlinewidth": 0,
              "ticks": ""
             }
            },
            "type": "scattermapbox"
           }
          ],
          "scatterpolar": [
           {
            "marker": {
             "colorbar": {
              "outlinewidth": 0,
              "ticks": ""
             }
            },
            "type": "scatterpolar"
           }
          ],
          "scatterpolargl": [
           {
            "marker": {
             "colorbar": {
              "outlinewidth": 0,
              "ticks": ""
             }
            },
            "type": "scatterpolargl"
           }
          ],
          "scatterternary": [
           {
            "marker": {
             "colorbar": {
              "outlinewidth": 0,
              "ticks": ""
             }
            },
            "type": "scatterternary"
           }
          ],
          "surface": [
           {
            "colorbar": {
             "outlinewidth": 0,
             "ticks": ""
            },
            "colorscale": [
             [
              0,
              "#0d0887"
             ],
             [
              0.1111111111111111,
              "#46039f"
             ],
             [
              0.2222222222222222,
              "#7201a8"
             ],
             [
              0.3333333333333333,
              "#9c179e"
             ],
             [
              0.4444444444444444,
              "#bd3786"
             ],
             [
              0.5555555555555556,
              "#d8576b"
             ],
             [
              0.6666666666666666,
              "#ed7953"
             ],
             [
              0.7777777777777778,
              "#fb9f3a"
             ],
             [
              0.8888888888888888,
              "#fdca26"
             ],
             [
              1,
              "#f0f921"
             ]
            ],
            "type": "surface"
           }
          ],
          "table": [
           {
            "cells": {
             "fill": {
              "color": "#EBF0F8"
             },
             "line": {
              "color": "white"
             }
            },
            "header": {
             "fill": {
              "color": "#C8D4E3"
             },
             "line": {
              "color": "white"
             }
            },
            "type": "table"
           }
          ]
         },
         "layout": {
          "annotationdefaults": {
           "arrowcolor": "#2a3f5f",
           "arrowhead": 0,
           "arrowwidth": 1
          },
          "autotypenumbers": "strict",
          "coloraxis": {
           "colorbar": {
            "outlinewidth": 0,
            "ticks": ""
           }
          },
          "colorscale": {
           "diverging": [
            [
             0,
             "#8e0152"
            ],
            [
             0.1,
             "#c51b7d"
            ],
            [
             0.2,
             "#de77ae"
            ],
            [
             0.3,
             "#f1b6da"
            ],
            [
             0.4,
             "#fde0ef"
            ],
            [
             0.5,
             "#f7f7f7"
            ],
            [
             0.6,
             "#e6f5d0"
            ],
            [
             0.7,
             "#b8e186"
            ],
            [
             0.8,
             "#7fbc41"
            ],
            [
             0.9,
             "#4d9221"
            ],
            [
             1,
             "#276419"
            ]
           ],
           "sequential": [
            [
             0,
             "#0d0887"
            ],
            [
             0.1111111111111111,
             "#46039f"
            ],
            [
             0.2222222222222222,
             "#7201a8"
            ],
            [
             0.3333333333333333,
             "#9c179e"
            ],
            [
             0.4444444444444444,
             "#bd3786"
            ],
            [
             0.5555555555555556,
             "#d8576b"
            ],
            [
             0.6666666666666666,
             "#ed7953"
            ],
            [
             0.7777777777777778,
             "#fb9f3a"
            ],
            [
             0.8888888888888888,
             "#fdca26"
            ],
            [
             1,
             "#f0f921"
            ]
           ],
           "sequentialminus": [
            [
             0,
             "#0d0887"
            ],
            [
             0.1111111111111111,
             "#46039f"
            ],
            [
             0.2222222222222222,
             "#7201a8"
            ],
            [
             0.3333333333333333,
             "#9c179e"
            ],
            [
             0.4444444444444444,
             "#bd3786"
            ],
            [
             0.5555555555555556,
             "#d8576b"
            ],
            [
             0.6666666666666666,
             "#ed7953"
            ],
            [
             0.7777777777777778,
             "#fb9f3a"
            ],
            [
             0.8888888888888888,
             "#fdca26"
            ],
            [
             1,
             "#f0f921"
            ]
           ]
          },
          "colorway": [
           "#636efa",
           "#EF553B",
           "#00cc96",
           "#ab63fa",
           "#FFA15A",
           "#19d3f3",
           "#FF6692",
           "#B6E880",
           "#FF97FF",
           "#FECB52"
          ],
          "font": {
           "color": "#2a3f5f"
          },
          "geo": {
           "bgcolor": "white",
           "lakecolor": "white",
           "landcolor": "#E5ECF6",
           "showlakes": true,
           "showland": true,
           "subunitcolor": "white"
          },
          "hoverlabel": {
           "align": "left"
          },
          "hovermode": "closest",
          "mapbox": {
           "style": "light"
          },
          "paper_bgcolor": "white",
          "plot_bgcolor": "#E5ECF6",
          "polar": {
           "angularaxis": {
            "gridcolor": "white",
            "linecolor": "white",
            "ticks": ""
           },
           "bgcolor": "#E5ECF6",
           "radialaxis": {
            "gridcolor": "white",
            "linecolor": "white",
            "ticks": ""
           }
          },
          "scene": {
           "xaxis": {
            "backgroundcolor": "#E5ECF6",
            "gridcolor": "white",
            "gridwidth": 2,
            "linecolor": "white",
            "showbackground": true,
            "ticks": "",
            "zerolinecolor": "white"
           },
           "yaxis": {
            "backgroundcolor": "#E5ECF6",
            "gridcolor": "white",
            "gridwidth": 2,
            "linecolor": "white",
            "showbackground": true,
            "ticks": "",
            "zerolinecolor": "white"
           },
           "zaxis": {
            "backgroundcolor": "#E5ECF6",
            "gridcolor": "white",
            "gridwidth": 2,
            "linecolor": "white",
            "showbackground": true,
            "ticks": "",
            "zerolinecolor": "white"
           }
          },
          "shapedefaults": {
           "line": {
            "color": "#2a3f5f"
           }
          },
          "ternary": {
           "aaxis": {
            "gridcolor": "white",
            "linecolor": "white",
            "ticks": ""
           },
           "baxis": {
            "gridcolor": "white",
            "linecolor": "white",
            "ticks": ""
           },
           "bgcolor": "#E5ECF6",
           "caxis": {
            "gridcolor": "white",
            "linecolor": "white",
            "ticks": ""
           }
          },
          "title": {
           "x": 0.05
          },
          "xaxis": {
           "automargin": true,
           "gridcolor": "white",
           "linecolor": "white",
           "ticks": "",
           "title": {
            "standoff": 15
           },
           "zerolinecolor": "white",
           "zerolinewidth": 2
          },
          "yaxis": {
           "automargin": true,
           "gridcolor": "white",
           "linecolor": "white",
           "ticks": "",
           "title": {
            "standoff": 15
           },
           "zerolinecolor": "white",
           "zerolinewidth": 2
          }
         }
        },
        "xaxis": {
         "range": [
          0.08628089224589026,
          0.2763906886225654
         ],
         "tickformat": ".1%",
         "title": {
          "text": "Standard Deviation"
         }
        },
        "yaxis": {
         "range": [
          0.03779999999999999,
          0.0968
         ],
         "tickformat": ".1%",
         "title": {
          "text": "Expected Return"
         }
        }
       }
      }
     },
     "metadata": {},
     "output_type": "display_data"
    }
   ],
   "source": [
    "fig = go.Figure()\n",
    "\n",
    "# Plot underlying assets\n",
    "trace1= go.Scatter(x=[SDS[0]], y=[MNS[0]],mode=\"markers\", marker=dict(size=10, color=\"red\"), name='Asset 1')\n",
    "fig.add_trace(trace1)\n",
    "trace2= go.Scatter(x=[SDS[1]], y=[MNS[1]],mode=\"markers\", marker=dict(size=10, color=\"red\"), name='Asset 2')\n",
    "fig.add_trace(trace2)\n",
    "trace3= go.Scatter(x=[SDS[2]], y=[MNS[2]],mode=\"markers\", marker=dict(size=10, color=\"red\"), name='Asset 3')\n",
    "fig.add_trace(trace3)\n",
    "\n",
    "# Plot frontier with shorting\n",
    "string =  \"Asset 1: %{customdata[0]:.1%}<br>\"\n",
    "string += \"Asset 2: %{customdata[1]:.1%}<br>\"\n",
    "string += \"Asset 3: %{customdata[2]:.1%}<br>\"\n",
    "string += \"<extra></extra>\"\n",
    "trace= go.Scatter(x=df.port_sd, y=df.port_expret,mode=\"lines\", marker=dict(color=\"black\"),\n",
    "    customdata=df[['w1','w2','w3']],hovertemplate=string, name='Frontier with shorting')\n",
    "fig.add_trace(trace)\n",
    "\n",
    "# Plot GMV with shorting\n",
    "trace= go.Scatter(x=[gmv_sd], y=[gmv_expret] ,\n",
    "    mode=\"markers\", marker=dict(size=10, color=\"black\"),\n",
    "    customdata=wgts_gmv.reshape(1,3),hovertemplate=string, name='GMV with shorting')\n",
    "fig.add_trace(trace)\n",
    "\n",
    "# Plot frontier without shorting\n",
    "trace= go.Scatter(x=df_ssc.port_sd, y=df_ssc.port_expret,mode=\"lines\",marker=dict(color=\"blue\"),\n",
    "    customdata=df_ssc[['w1','w2','w3']],hovertemplate=string, name='Frontier without shorting')\n",
    "fig.add_trace(trace)\n",
    "\n",
    "# Plot GMV without shorting\n",
    "trace= go.Scatter(x=[gmv_ssc_sd], y=[gmv_ssc_expret] ,\n",
    "    mode=\"markers\", marker=dict(size=10, color=\"blue\"),\n",
    "    customdata=wgts_gmv_ssc.reshape(1,3),hovertemplate=string, name='GMV without shorting')\n",
    "fig.add_trace(trace)\n",
    "\n",
    "\n",
    "# Formatting\n",
    "fig.layout.yaxis[\"title\"] = \"Expected Return\"\n",
    "fig.layout.xaxis[\"title\"] = \"Standard Deviation\"\n",
    "fig.update_yaxes(tickformat=\".1%\")\n",
    "fig.update_xaxes(tickformat=\".1%\")\n",
    "fig.update_xaxes(range=[0.6 * df[\"port_sd\"].min(), 1.1 * df[\"port_sd\"].max()])\n",
    "fig.update_yaxes(range=[0.7 * df[\"port_expret\"].min(), 1.1 * df[\"port_expret\"].max()])\n",
    "fig.update_layout(legend=dict(yanchor=\"top\", y=0.99, xanchor=\"left\", x=0.01))\n",
    "fig.show()"
   ]
  }
 ],
 "metadata": {
  "kernelspec": {
   "display_name": "venv",
   "language": "python",
   "name": "python3"
  },
  "language_info": {
   "codemirror_mode": {
    "name": "ipython",
    "version": 3
   },
   "file_extension": ".py",
   "mimetype": "text/x-python",
   "name": "python",
   "nbconvert_exporter": "python",
   "pygments_lexer": "ipython3",
   "version": "3.10.6"
  },
  "orig_nbformat": 4,
  "vscode": {
   "interpreter": {
    "hash": "cc788b38d8cb434c82f45ef9d481d0310e17b79321e4c8cbfbfe90f656a3f023"
   }
  }
 },
 "nbformat": 4,
 "nbformat_minor": 2
}
