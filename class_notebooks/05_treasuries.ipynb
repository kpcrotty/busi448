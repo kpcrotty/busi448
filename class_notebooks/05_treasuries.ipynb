{
 "cells": [
  {
   "cell_type": "markdown",
   "metadata": {},
   "source": [
    "# Bond markets"
   ]
  },
  {
   "cell_type": "code",
   "execution_count": 102,
   "metadata": {},
   "outputs": [],
   "source": [
    "import pandas as pd\n",
    "import numpy as np\n",
    "from pandas_datareader import DataReader as pdr\n",
    "import plotly.graph_objects as go"
   ]
  },
  {
   "cell_type": "markdown",
   "metadata": {},
   "source": [
    "## Term structure from FRED"
   ]
  },
  {
   "cell_type": "code",
   "execution_count": 226,
   "metadata": {},
   "outputs": [
    {
     "data": {
      "text/html": [
       "<div>\n",
       "<style scoped>\n",
       "    .dataframe tbody tr th:only-of-type {\n",
       "        vertical-align: middle;\n",
       "    }\n",
       "\n",
       "    .dataframe tbody tr th {\n",
       "        vertical-align: top;\n",
       "    }\n",
       "\n",
       "    .dataframe thead th {\n",
       "        text-align: right;\n",
       "    }\n",
       "</style>\n",
       "<table border=\"1\" class=\"dataframe\">\n",
       "  <thead>\n",
       "    <tr style=\"text-align: right;\">\n",
       "      <th></th>\n",
       "      <th>DGS1MO</th>\n",
       "      <th>DGS3MO</th>\n",
       "      <th>DGS1</th>\n",
       "      <th>DGS2</th>\n",
       "      <th>DGS3</th>\n",
       "      <th>DGS5</th>\n",
       "      <th>DGS10</th>\n",
       "      <th>DGS20</th>\n",
       "      <th>DGS30</th>\n",
       "    </tr>\n",
       "    <tr>\n",
       "      <th>DATE</th>\n",
       "      <th></th>\n",
       "      <th></th>\n",
       "      <th></th>\n",
       "      <th></th>\n",
       "      <th></th>\n",
       "      <th></th>\n",
       "      <th></th>\n",
       "      <th></th>\n",
       "      <th></th>\n",
       "    </tr>\n",
       "  </thead>\n",
       "  <tbody>\n",
       "    <tr>\n",
       "      <th>1962-01-02</th>\n",
       "      <td>NaN</td>\n",
       "      <td>NaN</td>\n",
       "      <td>3.22</td>\n",
       "      <td>NaN</td>\n",
       "      <td>3.70</td>\n",
       "      <td>3.88</td>\n",
       "      <td>4.06</td>\n",
       "      <td>4.07</td>\n",
       "      <td>NaN</td>\n",
       "    </tr>\n",
       "    <tr>\n",
       "      <th>1962-01-03</th>\n",
       "      <td>NaN</td>\n",
       "      <td>NaN</td>\n",
       "      <td>3.24</td>\n",
       "      <td>NaN</td>\n",
       "      <td>3.70</td>\n",
       "      <td>3.87</td>\n",
       "      <td>4.03</td>\n",
       "      <td>4.07</td>\n",
       "      <td>NaN</td>\n",
       "    </tr>\n",
       "    <tr>\n",
       "      <th>1962-01-04</th>\n",
       "      <td>NaN</td>\n",
       "      <td>NaN</td>\n",
       "      <td>3.24</td>\n",
       "      <td>NaN</td>\n",
       "      <td>3.69</td>\n",
       "      <td>3.86</td>\n",
       "      <td>3.99</td>\n",
       "      <td>4.06</td>\n",
       "      <td>NaN</td>\n",
       "    </tr>\n",
       "    <tr>\n",
       "      <th>1962-01-05</th>\n",
       "      <td>NaN</td>\n",
       "      <td>NaN</td>\n",
       "      <td>3.26</td>\n",
       "      <td>NaN</td>\n",
       "      <td>3.71</td>\n",
       "      <td>3.89</td>\n",
       "      <td>4.02</td>\n",
       "      <td>4.07</td>\n",
       "      <td>NaN</td>\n",
       "    </tr>\n",
       "    <tr>\n",
       "      <th>1962-01-08</th>\n",
       "      <td>NaN</td>\n",
       "      <td>NaN</td>\n",
       "      <td>3.31</td>\n",
       "      <td>NaN</td>\n",
       "      <td>3.71</td>\n",
       "      <td>3.91</td>\n",
       "      <td>4.03</td>\n",
       "      <td>4.08</td>\n",
       "      <td>NaN</td>\n",
       "    </tr>\n",
       "    <tr>\n",
       "      <th>...</th>\n",
       "      <td>...</td>\n",
       "      <td>...</td>\n",
       "      <td>...</td>\n",
       "      <td>...</td>\n",
       "      <td>...</td>\n",
       "      <td>...</td>\n",
       "      <td>...</td>\n",
       "      <td>...</td>\n",
       "      <td>...</td>\n",
       "    </tr>\n",
       "    <tr>\n",
       "      <th>2022-12-01</th>\n",
       "      <td>4.04</td>\n",
       "      <td>4.33</td>\n",
       "      <td>4.66</td>\n",
       "      <td>4.25</td>\n",
       "      <td>3.98</td>\n",
       "      <td>3.68</td>\n",
       "      <td>3.53</td>\n",
       "      <td>3.85</td>\n",
       "      <td>3.64</td>\n",
       "    </tr>\n",
       "    <tr>\n",
       "      <th>2022-12-02</th>\n",
       "      <td>3.91</td>\n",
       "      <td>4.34</td>\n",
       "      <td>4.69</td>\n",
       "      <td>4.28</td>\n",
       "      <td>3.99</td>\n",
       "      <td>3.67</td>\n",
       "      <td>3.51</td>\n",
       "      <td>3.79</td>\n",
       "      <td>3.56</td>\n",
       "    </tr>\n",
       "    <tr>\n",
       "      <th>2022-12-05</th>\n",
       "      <td>3.93</td>\n",
       "      <td>4.36</td>\n",
       "      <td>4.77</td>\n",
       "      <td>4.41</td>\n",
       "      <td>4.13</td>\n",
       "      <td>3.80</td>\n",
       "      <td>3.60</td>\n",
       "      <td>3.84</td>\n",
       "      <td>3.62</td>\n",
       "    </tr>\n",
       "    <tr>\n",
       "      <th>2022-12-06</th>\n",
       "      <td>3.87</td>\n",
       "      <td>4.37</td>\n",
       "      <td>4.73</td>\n",
       "      <td>4.34</td>\n",
       "      <td>4.07</td>\n",
       "      <td>3.73</td>\n",
       "      <td>3.51</td>\n",
       "      <td>3.77</td>\n",
       "      <td>3.52</td>\n",
       "    </tr>\n",
       "    <tr>\n",
       "      <th>2022-12-07</th>\n",
       "      <td>3.79</td>\n",
       "      <td>4.29</td>\n",
       "      <td>4.67</td>\n",
       "      <td>4.26</td>\n",
       "      <td>3.97</td>\n",
       "      <td>3.62</td>\n",
       "      <td>3.42</td>\n",
       "      <td>3.66</td>\n",
       "      <td>3.42</td>\n",
       "    </tr>\n",
       "  </tbody>\n",
       "</table>\n",
       "<p>15897 rows × 9 columns</p>\n",
       "</div>"
      ],
      "text/plain": [
       "            DGS1MO  DGS3MO  DGS1  DGS2  DGS3  DGS5  DGS10  DGS20  DGS30\n",
       "DATE                                                                   \n",
       "1962-01-02     NaN     NaN  3.22   NaN  3.70  3.88   4.06   4.07    NaN\n",
       "1962-01-03     NaN     NaN  3.24   NaN  3.70  3.87   4.03   4.07    NaN\n",
       "1962-01-04     NaN     NaN  3.24   NaN  3.69  3.86   3.99   4.06    NaN\n",
       "1962-01-05     NaN     NaN  3.26   NaN  3.71  3.89   4.02   4.07    NaN\n",
       "1962-01-08     NaN     NaN  3.31   NaN  3.71  3.91   4.03   4.08    NaN\n",
       "...            ...     ...   ...   ...   ...   ...    ...    ...    ...\n",
       "2022-12-01    4.04    4.33  4.66  4.25  3.98  3.68   3.53   3.85   3.64\n",
       "2022-12-02    3.91    4.34  4.69  4.28  3.99  3.67   3.51   3.79   3.56\n",
       "2022-12-05    3.93    4.36  4.77  4.41  4.13  3.80   3.60   3.84   3.62\n",
       "2022-12-06    3.87    4.37  4.73  4.34  4.07  3.73   3.51   3.77   3.52\n",
       "2022-12-07    3.79    4.29  4.67  4.26  3.97  3.62   3.42   3.66   3.42\n",
       "\n",
       "[15897 rows x 9 columns]"
      ]
     },
     "execution_count": 226,
     "metadata": {},
     "output_type": "execute_result"
    }
   ],
   "source": [
    "tseries = ['DGS'+x for x in ['1MO','3MO','1','2','3','5','10','20','30']]\n",
    "df = pdr(tseries, \"fred\", start=\"1929-12-01\")\n",
    "df"
   ]
  },
  {
   "cell_type": "code",
   "execution_count": 62,
   "metadata": {},
   "outputs": [
    {
     "data": {
      "text/html": [
       "<div>\n",
       "<style scoped>\n",
       "    .dataframe tbody tr th:only-of-type {\n",
       "        vertical-align: middle;\n",
       "    }\n",
       "\n",
       "    .dataframe tbody tr th {\n",
       "        vertical-align: top;\n",
       "    }\n",
       "\n",
       "    .dataframe thead th {\n",
       "        text-align: right;\n",
       "    }\n",
       "</style>\n",
       "<table border=\"1\" class=\"dataframe\">\n",
       "  <thead>\n",
       "    <tr style=\"text-align: right;\">\n",
       "      <th></th>\n",
       "      <th>DATE</th>\n",
       "      <th>DGS1MO</th>\n",
       "      <th>DGS3MO</th>\n",
       "      <th>DGS1</th>\n",
       "      <th>DGS2</th>\n",
       "      <th>DGS3</th>\n",
       "      <th>DGS5</th>\n",
       "      <th>DGS10</th>\n",
       "      <th>DGS20</th>\n",
       "      <th>DGS30</th>\n",
       "    </tr>\n",
       "    <tr>\n",
       "      <th>month</th>\n",
       "      <th></th>\n",
       "      <th></th>\n",
       "      <th></th>\n",
       "      <th></th>\n",
       "      <th></th>\n",
       "      <th></th>\n",
       "      <th></th>\n",
       "      <th></th>\n",
       "      <th></th>\n",
       "      <th></th>\n",
       "    </tr>\n",
       "  </thead>\n",
       "  <tbody>\n",
       "    <tr>\n",
       "      <th>1962-01</th>\n",
       "      <td>1962-01-31</td>\n",
       "      <td>NaN</td>\n",
       "      <td>NaN</td>\n",
       "      <td>3.29</td>\n",
       "      <td>NaN</td>\n",
       "      <td>3.81</td>\n",
       "      <td>3.99</td>\n",
       "      <td>4.10</td>\n",
       "      <td>4.13</td>\n",
       "      <td>NaN</td>\n",
       "    </tr>\n",
       "    <tr>\n",
       "      <th>1962-02</th>\n",
       "      <td>1962-02-28</td>\n",
       "      <td>NaN</td>\n",
       "      <td>NaN</td>\n",
       "      <td>3.21</td>\n",
       "      <td>NaN</td>\n",
       "      <td>3.53</td>\n",
       "      <td>3.77</td>\n",
       "      <td>4.00</td>\n",
       "      <td>4.10</td>\n",
       "      <td>NaN</td>\n",
       "    </tr>\n",
       "    <tr>\n",
       "      <th>1962-03</th>\n",
       "      <td>1962-03-30</td>\n",
       "      <td>NaN</td>\n",
       "      <td>NaN</td>\n",
       "      <td>2.97</td>\n",
       "      <td>NaN</td>\n",
       "      <td>3.39</td>\n",
       "      <td>3.61</td>\n",
       "      <td>3.86</td>\n",
       "      <td>3.98</td>\n",
       "      <td>NaN</td>\n",
       "    </tr>\n",
       "    <tr>\n",
       "      <th>1962-04</th>\n",
       "      <td>1962-04-30</td>\n",
       "      <td>NaN</td>\n",
       "      <td>NaN</td>\n",
       "      <td>3.07</td>\n",
       "      <td>NaN</td>\n",
       "      <td>3.47</td>\n",
       "      <td>3.64</td>\n",
       "      <td>3.86</td>\n",
       "      <td>3.91</td>\n",
       "      <td>NaN</td>\n",
       "    </tr>\n",
       "    <tr>\n",
       "      <th>1962-05</th>\n",
       "      <td>1962-05-31</td>\n",
       "      <td>NaN</td>\n",
       "      <td>NaN</td>\n",
       "      <td>2.99</td>\n",
       "      <td>NaN</td>\n",
       "      <td>3.36</td>\n",
       "      <td>3.66</td>\n",
       "      <td>3.90</td>\n",
       "      <td>3.94</td>\n",
       "      <td>NaN</td>\n",
       "    </tr>\n",
       "    <tr>\n",
       "      <th>...</th>\n",
       "      <td>...</td>\n",
       "      <td>...</td>\n",
       "      <td>...</td>\n",
       "      <td>...</td>\n",
       "      <td>...</td>\n",
       "      <td>...</td>\n",
       "      <td>...</td>\n",
       "      <td>...</td>\n",
       "      <td>...</td>\n",
       "      <td>...</td>\n",
       "    </tr>\n",
       "    <tr>\n",
       "      <th>2022-08</th>\n",
       "      <td>2022-08-31</td>\n",
       "      <td>2.40</td>\n",
       "      <td>2.96</td>\n",
       "      <td>3.50</td>\n",
       "      <td>3.45</td>\n",
       "      <td>3.46</td>\n",
       "      <td>3.30</td>\n",
       "      <td>3.15</td>\n",
       "      <td>3.53</td>\n",
       "      <td>3.27</td>\n",
       "    </tr>\n",
       "    <tr>\n",
       "      <th>2022-09</th>\n",
       "      <td>2022-09-30</td>\n",
       "      <td>2.79</td>\n",
       "      <td>3.33</td>\n",
       "      <td>4.05</td>\n",
       "      <td>4.22</td>\n",
       "      <td>4.25</td>\n",
       "      <td>4.06</td>\n",
       "      <td>3.83</td>\n",
       "      <td>4.08</td>\n",
       "      <td>3.79</td>\n",
       "    </tr>\n",
       "    <tr>\n",
       "      <th>2022-10</th>\n",
       "      <td>2022-10-31</td>\n",
       "      <td>3.73</td>\n",
       "      <td>4.22</td>\n",
       "      <td>4.66</td>\n",
       "      <td>4.51</td>\n",
       "      <td>4.45</td>\n",
       "      <td>4.27</td>\n",
       "      <td>4.10</td>\n",
       "      <td>4.44</td>\n",
       "      <td>4.22</td>\n",
       "    </tr>\n",
       "    <tr>\n",
       "      <th>2022-11</th>\n",
       "      <td>2022-11-30</td>\n",
       "      <td>4.07</td>\n",
       "      <td>4.37</td>\n",
       "      <td>4.74</td>\n",
       "      <td>4.38</td>\n",
       "      <td>4.13</td>\n",
       "      <td>3.82</td>\n",
       "      <td>3.68</td>\n",
       "      <td>4.00</td>\n",
       "      <td>3.80</td>\n",
       "    </tr>\n",
       "    <tr>\n",
       "      <th>2022-12</th>\n",
       "      <td>2022-12-06</td>\n",
       "      <td>3.87</td>\n",
       "      <td>4.37</td>\n",
       "      <td>4.73</td>\n",
       "      <td>4.34</td>\n",
       "      <td>4.07</td>\n",
       "      <td>3.73</td>\n",
       "      <td>3.51</td>\n",
       "      <td>3.77</td>\n",
       "      <td>3.52</td>\n",
       "    </tr>\n",
       "  </tbody>\n",
       "</table>\n",
       "<p>732 rows × 10 columns</p>\n",
       "</div>"
      ],
      "text/plain": [
       "              DATE  DGS1MO  DGS3MO  DGS1  DGS2  DGS3  DGS5  DGS10  DGS20  \\\n",
       "month                                                                      \n",
       "1962-01 1962-01-31     NaN     NaN  3.29   NaN  3.81  3.99   4.10   4.13   \n",
       "1962-02 1962-02-28     NaN     NaN  3.21   NaN  3.53  3.77   4.00   4.10   \n",
       "1962-03 1962-03-30     NaN     NaN  2.97   NaN  3.39  3.61   3.86   3.98   \n",
       "1962-04 1962-04-30     NaN     NaN  3.07   NaN  3.47  3.64   3.86   3.91   \n",
       "1962-05 1962-05-31     NaN     NaN  2.99   NaN  3.36  3.66   3.90   3.94   \n",
       "...            ...     ...     ...   ...   ...   ...   ...    ...    ...   \n",
       "2022-08 2022-08-31    2.40    2.96  3.50  3.45  3.46  3.30   3.15   3.53   \n",
       "2022-09 2022-09-30    2.79    3.33  4.05  4.22  4.25  4.06   3.83   4.08   \n",
       "2022-10 2022-10-31    3.73    4.22  4.66  4.51  4.45  4.27   4.10   4.44   \n",
       "2022-11 2022-11-30    4.07    4.37  4.74  4.38  4.13  3.82   3.68   4.00   \n",
       "2022-12 2022-12-06    3.87    4.37  4.73  4.34  4.07  3.73   3.51   3.77   \n",
       "\n",
       "         DGS30  \n",
       "month           \n",
       "1962-01    NaN  \n",
       "1962-02    NaN  \n",
       "1962-03    NaN  \n",
       "1962-04    NaN  \n",
       "1962-05    NaN  \n",
       "...        ...  \n",
       "2022-08   3.27  \n",
       "2022-09   3.79  \n",
       "2022-10   4.22  \n",
       "2022-11   3.80  \n",
       "2022-12   3.52  \n",
       "\n",
       "[732 rows x 10 columns]"
      ]
     },
     "execution_count": 62,
     "metadata": {},
     "output_type": "execute_result"
    }
   ],
   "source": [
    "# Convert to monthly\n",
    "df = df.reset_index()\n",
    "df['month'] = df.DATE.dt.to_period('M')\n",
    "df = df.groupby('month').last()\n",
    "df"
   ]
  },
  {
   "cell_type": "code",
   "execution_count": 64,
   "metadata": {},
   "outputs": [
    {
     "data": {
      "text/plain": [
       "DATE      1992-10-30 00:00:00\n",
       "DGS1MO                    NaN\n",
       "DGS3MO                   3.03\n",
       "DGS1                     3.54\n",
       "DGS2                      4.4\n",
       "DGS3                     4.98\n",
       "DGS5                      5.9\n",
       "DGS10                     6.8\n",
       "DGS20                     NaN\n",
       "DGS30                    7.63\n",
       "Name: 1992-10, dtype: object"
      ]
     },
     "execution_count": 64,
     "metadata": {},
     "output_type": "execute_result"
    }
   ],
   "source": [
    "# Two ways to filter on a period index\n",
    "# df.loc['2000']\n",
    "\n",
    "df.loc['1992-10']\n"
   ]
  },
  {
   "cell_type": "code",
   "execution_count": 97,
   "metadata": {},
   "outputs": [
    {
     "data": {
      "text/plain": [
       "0.25     3.03\n",
       "1.00     3.54\n",
       "2.00      4.4\n",
       "3.00     4.98\n",
       "5.00      5.9\n",
       "10.00     6.8\n",
       "30.00    7.63\n",
       "Name: 1992-10, dtype: object"
      ]
     },
     "execution_count": 97,
     "metadata": {},
     "output_type": "execute_result"
    }
   ],
   "source": [
    "ttms = [0.0833, 0.25, 1, 2, 3, 5, 10, 20, 30]\n",
    "months = ['1983-07', '1992-10', '2000-08', '2020-02', ]\n",
    "yields = df.loc[months[1], tseries]\n",
    "yields.index = ttms\n",
    "yields=yields.dropna()\n",
    "yields"
   ]
  },
  {
   "cell_type": "code",
   "execution_count": 101,
   "metadata": {},
   "outputs": [
    {
     "data": {
      "application/vnd.plotly.v1+json": {
       "config": {
        "plotlyServerURL": "https://plot.ly"
       },
       "data": [
        {
         "hovertemplate": "<br>1983-07<br>%{x:.2f} year bond <br>%{y:.1f}%<extra></extra>",
         "mode": "lines+markers",
         "name": "1983-07",
         "type": "scatter",
         "x": [
          0.25,
          1,
          2,
          3,
          5,
          10,
          20,
          30
         ],
         "y": [
          9.59,
          10.48,
          11.03,
          11.22,
          11.59,
          11.76,
          12.01,
          11.8
         ]
        },
        {
         "hovertemplate": "<br>1992-10<br>%{x:.2f} year bond <br>%{y:.1f}%<extra></extra>",
         "mode": "lines+markers",
         "name": "1992-10",
         "type": "scatter",
         "x": [
          0.25,
          1,
          2,
          3,
          5,
          10,
          30
         ],
         "y": [
          3.03,
          3.54,
          4.4,
          4.98,
          5.9,
          6.8,
          7.63
         ]
        },
        {
         "hovertemplate": "<br>2000-08<br>%{x:.2f} year bond <br>%{y:.1f}%<extra></extra>",
         "mode": "lines+markers",
         "name": "2000-08",
         "type": "scatter",
         "x": [
          0.25,
          1,
          2,
          3,
          5,
          10,
          20,
          30
         ],
         "y": [
          6.31,
          6.22,
          6.18,
          6.09,
          5.98,
          5.73,
          5.96,
          5.67
         ]
        },
        {
         "hovertemplate": "<br>2020-02<br>%{x:.2f} year bond <br>%{y:.1f}%<extra></extra>",
         "mode": "lines+markers",
         "name": "2020-02",
         "type": "scatter",
         "x": [
          0.0833,
          0.25,
          1,
          2,
          3,
          5,
          10,
          20,
          30
         ],
         "y": [
          1.45,
          1.27,
          0.97,
          0.86,
          0.85,
          0.89,
          1.13,
          1.46,
          1.65
         ]
        }
       ],
       "layout": {
        "template": {
         "data": {
          "bar": [
           {
            "error_x": {
             "color": "#2a3f5f"
            },
            "error_y": {
             "color": "#2a3f5f"
            },
            "marker": {
             "line": {
              "color": "#E5ECF6",
              "width": 0.5
             },
             "pattern": {
              "fillmode": "overlay",
              "size": 10,
              "solidity": 0.2
             }
            },
            "type": "bar"
           }
          ],
          "barpolar": [
           {
            "marker": {
             "line": {
              "color": "#E5ECF6",
              "width": 0.5
             },
             "pattern": {
              "fillmode": "overlay",
              "size": 10,
              "solidity": 0.2
             }
            },
            "type": "barpolar"
           }
          ],
          "carpet": [
           {
            "aaxis": {
             "endlinecolor": "#2a3f5f",
             "gridcolor": "white",
             "linecolor": "white",
             "minorgridcolor": "white",
             "startlinecolor": "#2a3f5f"
            },
            "baxis": {
             "endlinecolor": "#2a3f5f",
             "gridcolor": "white",
             "linecolor": "white",
             "minorgridcolor": "white",
             "startlinecolor": "#2a3f5f"
            },
            "type": "carpet"
           }
          ],
          "choropleth": [
           {
            "colorbar": {
             "outlinewidth": 0,
             "ticks": ""
            },
            "type": "choropleth"
           }
          ],
          "contour": [
           {
            "colorbar": {
             "outlinewidth": 0,
             "ticks": ""
            },
            "colorscale": [
             [
              0,
              "#0d0887"
             ],
             [
              0.1111111111111111,
              "#46039f"
             ],
             [
              0.2222222222222222,
              "#7201a8"
             ],
             [
              0.3333333333333333,
              "#9c179e"
             ],
             [
              0.4444444444444444,
              "#bd3786"
             ],
             [
              0.5555555555555556,
              "#d8576b"
             ],
             [
              0.6666666666666666,
              "#ed7953"
             ],
             [
              0.7777777777777778,
              "#fb9f3a"
             ],
             [
              0.8888888888888888,
              "#fdca26"
             ],
             [
              1,
              "#f0f921"
             ]
            ],
            "type": "contour"
           }
          ],
          "contourcarpet": [
           {
            "colorbar": {
             "outlinewidth": 0,
             "ticks": ""
            },
            "type": "contourcarpet"
           }
          ],
          "heatmap": [
           {
            "colorbar": {
             "outlinewidth": 0,
             "ticks": ""
            },
            "colorscale": [
             [
              0,
              "#0d0887"
             ],
             [
              0.1111111111111111,
              "#46039f"
             ],
             [
              0.2222222222222222,
              "#7201a8"
             ],
             [
              0.3333333333333333,
              "#9c179e"
             ],
             [
              0.4444444444444444,
              "#bd3786"
             ],
             [
              0.5555555555555556,
              "#d8576b"
             ],
             [
              0.6666666666666666,
              "#ed7953"
             ],
             [
              0.7777777777777778,
              "#fb9f3a"
             ],
             [
              0.8888888888888888,
              "#fdca26"
             ],
             [
              1,
              "#f0f921"
             ]
            ],
            "type": "heatmap"
           }
          ],
          "heatmapgl": [
           {
            "colorbar": {
             "outlinewidth": 0,
             "ticks": ""
            },
            "colorscale": [
             [
              0,
              "#0d0887"
             ],
             [
              0.1111111111111111,
              "#46039f"
             ],
             [
              0.2222222222222222,
              "#7201a8"
             ],
             [
              0.3333333333333333,
              "#9c179e"
             ],
             [
              0.4444444444444444,
              "#bd3786"
             ],
             [
              0.5555555555555556,
              "#d8576b"
             ],
             [
              0.6666666666666666,
              "#ed7953"
             ],
             [
              0.7777777777777778,
              "#fb9f3a"
             ],
             [
              0.8888888888888888,
              "#fdca26"
             ],
             [
              1,
              "#f0f921"
             ]
            ],
            "type": "heatmapgl"
           }
          ],
          "histogram": [
           {
            "marker": {
             "pattern": {
              "fillmode": "overlay",
              "size": 10,
              "solidity": 0.2
             }
            },
            "type": "histogram"
           }
          ],
          "histogram2d": [
           {
            "colorbar": {
             "outlinewidth": 0,
             "ticks": ""
            },
            "colorscale": [
             [
              0,
              "#0d0887"
             ],
             [
              0.1111111111111111,
              "#46039f"
             ],
             [
              0.2222222222222222,
              "#7201a8"
             ],
             [
              0.3333333333333333,
              "#9c179e"
             ],
             [
              0.4444444444444444,
              "#bd3786"
             ],
             [
              0.5555555555555556,
              "#d8576b"
             ],
             [
              0.6666666666666666,
              "#ed7953"
             ],
             [
              0.7777777777777778,
              "#fb9f3a"
             ],
             [
              0.8888888888888888,
              "#fdca26"
             ],
             [
              1,
              "#f0f921"
             ]
            ],
            "type": "histogram2d"
           }
          ],
          "histogram2dcontour": [
           {
            "colorbar": {
             "outlinewidth": 0,
             "ticks": ""
            },
            "colorscale": [
             [
              0,
              "#0d0887"
             ],
             [
              0.1111111111111111,
              "#46039f"
             ],
             [
              0.2222222222222222,
              "#7201a8"
             ],
             [
              0.3333333333333333,
              "#9c179e"
             ],
             [
              0.4444444444444444,
              "#bd3786"
             ],
             [
              0.5555555555555556,
              "#d8576b"
             ],
             [
              0.6666666666666666,
              "#ed7953"
             ],
             [
              0.7777777777777778,
              "#fb9f3a"
             ],
             [
              0.8888888888888888,
              "#fdca26"
             ],
             [
              1,
              "#f0f921"
             ]
            ],
            "type": "histogram2dcontour"
           }
          ],
          "mesh3d": [
           {
            "colorbar": {
             "outlinewidth": 0,
             "ticks": ""
            },
            "type": "mesh3d"
           }
          ],
          "parcoords": [
           {
            "line": {
             "colorbar": {
              "outlinewidth": 0,
              "ticks": ""
             }
            },
            "type": "parcoords"
           }
          ],
          "pie": [
           {
            "automargin": true,
            "type": "pie"
           }
          ],
          "scatter": [
           {
            "fillpattern": {
             "fillmode": "overlay",
             "size": 10,
             "solidity": 0.2
            },
            "type": "scatter"
           }
          ],
          "scatter3d": [
           {
            "line": {
             "colorbar": {
              "outlinewidth": 0,
              "ticks": ""
             }
            },
            "marker": {
             "colorbar": {
              "outlinewidth": 0,
              "ticks": ""
             }
            },
            "type": "scatter3d"
           }
          ],
          "scattercarpet": [
           {
            "marker": {
             "colorbar": {
              "outlinewidth": 0,
              "ticks": ""
             }
            },
            "type": "scattercarpet"
           }
          ],
          "scattergeo": [
           {
            "marker": {
             "colorbar": {
              "outlinewidth": 0,
              "ticks": ""
             }
            },
            "type": "scattergeo"
           }
          ],
          "scattergl": [
           {
            "marker": {
             "colorbar": {
              "outlinewidth": 0,
              "ticks": ""
             }
            },
            "type": "scattergl"
           }
          ],
          "scattermapbox": [
           {
            "marker": {
             "colorbar": {
              "outlinewidth": 0,
              "ticks": ""
             }
            },
            "type": "scattermapbox"
           }
          ],
          "scatterpolar": [
           {
            "marker": {
             "colorbar": {
              "outlinewidth": 0,
              "ticks": ""
             }
            },
            "type": "scatterpolar"
           }
          ],
          "scatterpolargl": [
           {
            "marker": {
             "colorbar": {
              "outlinewidth": 0,
              "ticks": ""
             }
            },
            "type": "scatterpolargl"
           }
          ],
          "scatterternary": [
           {
            "marker": {
             "colorbar": {
              "outlinewidth": 0,
              "ticks": ""
             }
            },
            "type": "scatterternary"
           }
          ],
          "surface": [
           {
            "colorbar": {
             "outlinewidth": 0,
             "ticks": ""
            },
            "colorscale": [
             [
              0,
              "#0d0887"
             ],
             [
              0.1111111111111111,
              "#46039f"
             ],
             [
              0.2222222222222222,
              "#7201a8"
             ],
             [
              0.3333333333333333,
              "#9c179e"
             ],
             [
              0.4444444444444444,
              "#bd3786"
             ],
             [
              0.5555555555555556,
              "#d8576b"
             ],
             [
              0.6666666666666666,
              "#ed7953"
             ],
             [
              0.7777777777777778,
              "#fb9f3a"
             ],
             [
              0.8888888888888888,
              "#fdca26"
             ],
             [
              1,
              "#f0f921"
             ]
            ],
            "type": "surface"
           }
          ],
          "table": [
           {
            "cells": {
             "fill": {
              "color": "#EBF0F8"
             },
             "line": {
              "color": "white"
             }
            },
            "header": {
             "fill": {
              "color": "#C8D4E3"
             },
             "line": {
              "color": "white"
             }
            },
            "type": "table"
           }
          ]
         },
         "layout": {
          "annotationdefaults": {
           "arrowcolor": "#2a3f5f",
           "arrowhead": 0,
           "arrowwidth": 1
          },
          "autotypenumbers": "strict",
          "coloraxis": {
           "colorbar": {
            "outlinewidth": 0,
            "ticks": ""
           }
          },
          "colorscale": {
           "diverging": [
            [
             0,
             "#8e0152"
            ],
            [
             0.1,
             "#c51b7d"
            ],
            [
             0.2,
             "#de77ae"
            ],
            [
             0.3,
             "#f1b6da"
            ],
            [
             0.4,
             "#fde0ef"
            ],
            [
             0.5,
             "#f7f7f7"
            ],
            [
             0.6,
             "#e6f5d0"
            ],
            [
             0.7,
             "#b8e186"
            ],
            [
             0.8,
             "#7fbc41"
            ],
            [
             0.9,
             "#4d9221"
            ],
            [
             1,
             "#276419"
            ]
           ],
           "sequential": [
            [
             0,
             "#0d0887"
            ],
            [
             0.1111111111111111,
             "#46039f"
            ],
            [
             0.2222222222222222,
             "#7201a8"
            ],
            [
             0.3333333333333333,
             "#9c179e"
            ],
            [
             0.4444444444444444,
             "#bd3786"
            ],
            [
             0.5555555555555556,
             "#d8576b"
            ],
            [
             0.6666666666666666,
             "#ed7953"
            ],
            [
             0.7777777777777778,
             "#fb9f3a"
            ],
            [
             0.8888888888888888,
             "#fdca26"
            ],
            [
             1,
             "#f0f921"
            ]
           ],
           "sequentialminus": [
            [
             0,
             "#0d0887"
            ],
            [
             0.1111111111111111,
             "#46039f"
            ],
            [
             0.2222222222222222,
             "#7201a8"
            ],
            [
             0.3333333333333333,
             "#9c179e"
            ],
            [
             0.4444444444444444,
             "#bd3786"
            ],
            [
             0.5555555555555556,
             "#d8576b"
            ],
            [
             0.6666666666666666,
             "#ed7953"
            ],
            [
             0.7777777777777778,
             "#fb9f3a"
            ],
            [
             0.8888888888888888,
             "#fdca26"
            ],
            [
             1,
             "#f0f921"
            ]
           ]
          },
          "colorway": [
           "#636efa",
           "#EF553B",
           "#00cc96",
           "#ab63fa",
           "#FFA15A",
           "#19d3f3",
           "#FF6692",
           "#B6E880",
           "#FF97FF",
           "#FECB52"
          ],
          "font": {
           "color": "#2a3f5f"
          },
          "geo": {
           "bgcolor": "white",
           "lakecolor": "white",
           "landcolor": "#E5ECF6",
           "showlakes": true,
           "showland": true,
           "subunitcolor": "white"
          },
          "hoverlabel": {
           "align": "left"
          },
          "hovermode": "closest",
          "mapbox": {
           "style": "light"
          },
          "paper_bgcolor": "white",
          "plot_bgcolor": "#E5ECF6",
          "polar": {
           "angularaxis": {
            "gridcolor": "white",
            "linecolor": "white",
            "ticks": ""
           },
           "bgcolor": "#E5ECF6",
           "radialaxis": {
            "gridcolor": "white",
            "linecolor": "white",
            "ticks": ""
           }
          },
          "scene": {
           "xaxis": {
            "backgroundcolor": "#E5ECF6",
            "gridcolor": "white",
            "gridwidth": 2,
            "linecolor": "white",
            "showbackground": true,
            "ticks": "",
            "zerolinecolor": "white"
           },
           "yaxis": {
            "backgroundcolor": "#E5ECF6",
            "gridcolor": "white",
            "gridwidth": 2,
            "linecolor": "white",
            "showbackground": true,
            "ticks": "",
            "zerolinecolor": "white"
           },
           "zaxis": {
            "backgroundcolor": "#E5ECF6",
            "gridcolor": "white",
            "gridwidth": 2,
            "linecolor": "white",
            "showbackground": true,
            "ticks": "",
            "zerolinecolor": "white"
           }
          },
          "shapedefaults": {
           "line": {
            "color": "#2a3f5f"
           }
          },
          "ternary": {
           "aaxis": {
            "gridcolor": "white",
            "linecolor": "white",
            "ticks": ""
           },
           "baxis": {
            "gridcolor": "white",
            "linecolor": "white",
            "ticks": ""
           },
           "bgcolor": "#E5ECF6",
           "caxis": {
            "gridcolor": "white",
            "linecolor": "white",
            "ticks": ""
           }
          },
          "title": {
           "x": 0.05
          },
          "xaxis": {
           "automargin": true,
           "gridcolor": "white",
           "linecolor": "white",
           "ticks": "",
           "title": {
            "standoff": 15
           },
           "zerolinecolor": "white",
           "zerolinewidth": 2
          },
          "yaxis": {
           "automargin": true,
           "gridcolor": "white",
           "linecolor": "white",
           "ticks": "",
           "title": {
            "standoff": 15
           },
           "zerolinecolor": "white",
           "zerolinewidth": 2
          }
         }
        },
        "xaxis": {
         "tickformat": ".0f",
         "title": {
          "text": "Maturity"
         }
        },
        "yaxis": {
         "tickformat": ".0f",
         "title": {
          "text": "Yield (%)"
         }
        }
       }
      }
     },
     "metadata": {},
     "output_type": "display_data"
    }
   ],
   "source": [
    "fig = go.Figure()\n",
    "for m in months:\n",
    "    yields = df.loc[m, tseries]\n",
    "    yields.index = ttms\n",
    "    yields=yields.dropna()\n",
    "    \n",
    "    trace= go.Scatter(\n",
    "                    x=yields.index, \n",
    "                    y=yields, \n",
    "                    hovertemplate=\"<br>\" + str(m) +\"<br>%{x:.2f} year bond <br>%{y:.1f}%<extra></extra>\",\n",
    "                    mode=\"lines+markers\", \n",
    "                    name=m)\n",
    "    fig.add_trace(trace)\n",
    "fig.update_yaxes(title='Yield (%)',tickformat=\".0f\")\n",
    "fig.update_xaxes(title='Maturity', tickformat=\".0f\")\n",
    "# fig.update_layout(title='Yield Curve')\n",
    "fig.show()\n"
   ]
  },
  {
   "cell_type": "code",
   "execution_count": 163,
   "metadata": {},
   "outputs": [],
   "source": [
    "# Pull recession data\n",
    "rec = pdr(\"USREC\", \"fred\", start=\"1935-12-01\")\n",
    "starts = rec[(rec.USREC==1) & (rec.USREC.shift()==0)]\n",
    "ends   = rec[(rec.USREC==1) & (rec.USREC.shift(-1)==0)]\n",
    "dates = pd.merge(starts.reset_index()['DATE'], ends.reset_index()['DATE'],left_index=True,right_index=True )\n",
    "dates.columns=['start','end']\n",
    "dates.start =dates.start.dt.to_period('M')\n",
    "dates.end   =dates.end.dt.to_period('M')"
   ]
  },
  {
   "cell_type": "code",
   "execution_count": 164,
   "metadata": {},
   "outputs": [],
   "source": [
    "# Create list of dictionaries for shading\n",
    "def dict_creator(start,end):\n",
    "    d = dict(\n",
    "            type=\"rect\",\n",
    "            xref=\"x\",\n",
    "            yref=\"paper\",\n",
    "            x0=str(start),\n",
    "            y0=0,\n",
    "            x1=str(end),\n",
    "            y1=1,\n",
    "            fillcolor=\"DarkGray\",\n",
    "            opacity=0.5,\n",
    "            layer=\"below\",\n",
    "            line_width=0,\n",
    "        )\n",
    "    return d\n",
    "dict_list = [dict_creator(dates.loc[i,'start'], dates.loc[i,'end']) for i in dates.index]"
   ]
  },
  {
   "cell_type": "code",
   "execution_count": 165,
   "metadata": {},
   "outputs": [
    {
     "data": {
      "application/vnd.plotly.v1+json": {
       "config": {
        "plotlyServerURL": "https://plot.ly"
       },
       "data": [
        {
         "hovertemplate": "1-yr Treasury<br>%{x}: %{y:.1f}%<extra></extra>",
         "mode": "lines",
         "name": "1-yr Treasury",
         "type": "scatter",
         "x": [
          "1962-01",
          "1962-02",
          "1962-03",
          "1962-04",
          "1962-05",
          "1962-06",
          "1962-07",
          "1962-08",
          "1962-09",
          "1962-10",
          "1962-11",
          "1962-12",
          "1963-01",
          "1963-02",
          "1963-03",
          "1963-04",
          "1963-05",
          "1963-06",
          "1963-07",
          "1963-08",
          "1963-09",
          "1963-10",
          "1963-11",
          "1963-12",
          "1964-01",
          "1964-02",
          "1964-03",
          "1964-04",
          "1964-05",
          "1964-06",
          "1964-07",
          "1964-08",
          "1964-09",
          "1964-10",
          "1964-11",
          "1964-12",
          "1965-01",
          "1965-02",
          "1965-03",
          "1965-04",
          "1965-05",
          "1965-06",
          "1965-07",
          "1965-08",
          "1965-09",
          "1965-10",
          "1965-11",
          "1965-12",
          "1966-01",
          "1966-02",
          "1966-03",
          "1966-04",
          "1966-05",
          "1966-06",
          "1966-07",
          "1966-08",
          "1966-09",
          "1966-10",
          "1966-11",
          "1966-12",
          "1967-01",
          "1967-02",
          "1967-03",
          "1967-04",
          "1967-05",
          "1967-06",
          "1967-07",
          "1967-08",
          "1967-09",
          "1967-10",
          "1967-11",
          "1967-12",
          "1968-01",
          "1968-02",
          "1968-03",
          "1968-04",
          "1968-05",
          "1968-06",
          "1968-07",
          "1968-08",
          "1968-09",
          "1968-10",
          "1968-11",
          "1968-12",
          "1969-01",
          "1969-02",
          "1969-03",
          "1969-04",
          "1969-05",
          "1969-06",
          "1969-07",
          "1969-08",
          "1969-09",
          "1969-10",
          "1969-11",
          "1969-12",
          "1970-01",
          "1970-02",
          "1970-03",
          "1970-04",
          "1970-05",
          "1970-06",
          "1970-07",
          "1970-08",
          "1970-09",
          "1970-10",
          "1970-11",
          "1970-12",
          "1971-01",
          "1971-02",
          "1971-03",
          "1971-04",
          "1971-05",
          "1971-06",
          "1971-07",
          "1971-08",
          "1971-09",
          "1971-10",
          "1971-11",
          "1971-12",
          "1972-01",
          "1972-02",
          "1972-03",
          "1972-04",
          "1972-05",
          "1972-06",
          "1972-07",
          "1972-08",
          "1972-09",
          "1972-10",
          "1972-11",
          "1972-12",
          "1973-01",
          "1973-02",
          "1973-03",
          "1973-04",
          "1973-05",
          "1973-06",
          "1973-07",
          "1973-08",
          "1973-09",
          "1973-10",
          "1973-11",
          "1973-12",
          "1974-01",
          "1974-02",
          "1974-03",
          "1974-04",
          "1974-05",
          "1974-06",
          "1974-07",
          "1974-08",
          "1974-09",
          "1974-10",
          "1974-11",
          "1974-12",
          "1975-01",
          "1975-02",
          "1975-03",
          "1975-04",
          "1975-05",
          "1975-06",
          "1975-07",
          "1975-08",
          "1975-09",
          "1975-10",
          "1975-11",
          "1975-12",
          "1976-01",
          "1976-02",
          "1976-03",
          "1976-04",
          "1976-05",
          "1976-06",
          "1976-07",
          "1976-08",
          "1976-09",
          "1976-10",
          "1976-11",
          "1976-12",
          "1977-01",
          "1977-02",
          "1977-03",
          "1977-04",
          "1977-05",
          "1977-06",
          "1977-07",
          "1977-08",
          "1977-09",
          "1977-10",
          "1977-11",
          "1977-12",
          "1978-01",
          "1978-02",
          "1978-03",
          "1978-04",
          "1978-05",
          "1978-06",
          "1978-07",
          "1978-08",
          "1978-09",
          "1978-10",
          "1978-11",
          "1978-12",
          "1979-01",
          "1979-02",
          "1979-03",
          "1979-04",
          "1979-05",
          "1979-06",
          "1979-07",
          "1979-08",
          "1979-09",
          "1979-10",
          "1979-11",
          "1979-12",
          "1980-01",
          "1980-02",
          "1980-03",
          "1980-04",
          "1980-05",
          "1980-06",
          "1980-07",
          "1980-08",
          "1980-09",
          "1980-10",
          "1980-11",
          "1980-12",
          "1981-01",
          "1981-02",
          "1981-03",
          "1981-04",
          "1981-05",
          "1981-06",
          "1981-07",
          "1981-08",
          "1981-09",
          "1981-10",
          "1981-11",
          "1981-12",
          "1982-01",
          "1982-02",
          "1982-03",
          "1982-04",
          "1982-05",
          "1982-06",
          "1982-07",
          "1982-08",
          "1982-09",
          "1982-10",
          "1982-11",
          "1982-12",
          "1983-01",
          "1983-02",
          "1983-03",
          "1983-04",
          "1983-05",
          "1983-06",
          "1983-07",
          "1983-08",
          "1983-09",
          "1983-10",
          "1983-11",
          "1983-12",
          "1984-01",
          "1984-02",
          "1984-03",
          "1984-04",
          "1984-05",
          "1984-06",
          "1984-07",
          "1984-08",
          "1984-09",
          "1984-10",
          "1984-11",
          "1984-12",
          "1985-01",
          "1985-02",
          "1985-03",
          "1985-04",
          "1985-05",
          "1985-06",
          "1985-07",
          "1985-08",
          "1985-09",
          "1985-10",
          "1985-11",
          "1985-12",
          "1986-01",
          "1986-02",
          "1986-03",
          "1986-04",
          "1986-05",
          "1986-06",
          "1986-07",
          "1986-08",
          "1986-09",
          "1986-10",
          "1986-11",
          "1986-12",
          "1987-01",
          "1987-02",
          "1987-03",
          "1987-04",
          "1987-05",
          "1987-06",
          "1987-07",
          "1987-08",
          "1987-09",
          "1987-10",
          "1987-11",
          "1987-12",
          "1988-01",
          "1988-02",
          "1988-03",
          "1988-04",
          "1988-05",
          "1988-06",
          "1988-07",
          "1988-08",
          "1988-09",
          "1988-10",
          "1988-11",
          "1988-12",
          "1989-01",
          "1989-02",
          "1989-03",
          "1989-04",
          "1989-05",
          "1989-06",
          "1989-07",
          "1989-08",
          "1989-09",
          "1989-10",
          "1989-11",
          "1989-12",
          "1990-01",
          "1990-02",
          "1990-03",
          "1990-04",
          "1990-05",
          "1990-06",
          "1990-07",
          "1990-08",
          "1990-09",
          "1990-10",
          "1990-11",
          "1990-12",
          "1991-01",
          "1991-02",
          "1991-03",
          "1991-04",
          "1991-05",
          "1991-06",
          "1991-07",
          "1991-08",
          "1991-09",
          "1991-10",
          "1991-11",
          "1991-12",
          "1992-01",
          "1992-02",
          "1992-03",
          "1992-04",
          "1992-05",
          "1992-06",
          "1992-07",
          "1992-08",
          "1992-09",
          "1992-10",
          "1992-11",
          "1992-12",
          "1993-01",
          "1993-02",
          "1993-03",
          "1993-04",
          "1993-05",
          "1993-06",
          "1993-07",
          "1993-08",
          "1993-09",
          "1993-10",
          "1993-11",
          "1993-12",
          "1994-01",
          "1994-02",
          "1994-03",
          "1994-04",
          "1994-05",
          "1994-06",
          "1994-07",
          "1994-08",
          "1994-09",
          "1994-10",
          "1994-11",
          "1994-12",
          "1995-01",
          "1995-02",
          "1995-03",
          "1995-04",
          "1995-05",
          "1995-06",
          "1995-07",
          "1995-08",
          "1995-09",
          "1995-10",
          "1995-11",
          "1995-12",
          "1996-01",
          "1996-02",
          "1996-03",
          "1996-04",
          "1996-05",
          "1996-06",
          "1996-07",
          "1996-08",
          "1996-09",
          "1996-10",
          "1996-11",
          "1996-12",
          "1997-01",
          "1997-02",
          "1997-03",
          "1997-04",
          "1997-05",
          "1997-06",
          "1997-07",
          "1997-08",
          "1997-09",
          "1997-10",
          "1997-11",
          "1997-12",
          "1998-01",
          "1998-02",
          "1998-03",
          "1998-04",
          "1998-05",
          "1998-06",
          "1998-07",
          "1998-08",
          "1998-09",
          "1998-10",
          "1998-11",
          "1998-12",
          "1999-01",
          "1999-02",
          "1999-03",
          "1999-04",
          "1999-05",
          "1999-06",
          "1999-07",
          "1999-08",
          "1999-09",
          "1999-10",
          "1999-11",
          "1999-12",
          "2000-01",
          "2000-02",
          "2000-03",
          "2000-04",
          "2000-05",
          "2000-06",
          "2000-07",
          "2000-08",
          "2000-09",
          "2000-10",
          "2000-11",
          "2000-12",
          "2001-01",
          "2001-02",
          "2001-03",
          "2001-04",
          "2001-05",
          "2001-06",
          "2001-07",
          "2001-08",
          "2001-09",
          "2001-10",
          "2001-11",
          "2001-12",
          "2002-01",
          "2002-02",
          "2002-03",
          "2002-04",
          "2002-05",
          "2002-06",
          "2002-07",
          "2002-08",
          "2002-09",
          "2002-10",
          "2002-11",
          "2002-12",
          "2003-01",
          "2003-02",
          "2003-03",
          "2003-04",
          "2003-05",
          "2003-06",
          "2003-07",
          "2003-08",
          "2003-09",
          "2003-10",
          "2003-11",
          "2003-12",
          "2004-01",
          "2004-02",
          "2004-03",
          "2004-04",
          "2004-05",
          "2004-06",
          "2004-07",
          "2004-08",
          "2004-09",
          "2004-10",
          "2004-11",
          "2004-12",
          "2005-01",
          "2005-02",
          "2005-03",
          "2005-04",
          "2005-05",
          "2005-06",
          "2005-07",
          "2005-08",
          "2005-09",
          "2005-10",
          "2005-11",
          "2005-12",
          "2006-01",
          "2006-02",
          "2006-03",
          "2006-04",
          "2006-05",
          "2006-06",
          "2006-07",
          "2006-08",
          "2006-09",
          "2006-10",
          "2006-11",
          "2006-12",
          "2007-01",
          "2007-02",
          "2007-03",
          "2007-04",
          "2007-05",
          "2007-06",
          "2007-07",
          "2007-08",
          "2007-09",
          "2007-10",
          "2007-11",
          "2007-12",
          "2008-01",
          "2008-02",
          "2008-03",
          "2008-04",
          "2008-05",
          "2008-06",
          "2008-07",
          "2008-08",
          "2008-09",
          "2008-10",
          "2008-11",
          "2008-12",
          "2009-01",
          "2009-02",
          "2009-03",
          "2009-04",
          "2009-05",
          "2009-06",
          "2009-07",
          "2009-08",
          "2009-09",
          "2009-10",
          "2009-11",
          "2009-12",
          "2010-01",
          "2010-02",
          "2010-03",
          "2010-04",
          "2010-05",
          "2010-06",
          "2010-07",
          "2010-08",
          "2010-09",
          "2010-10",
          "2010-11",
          "2010-12",
          "2011-01",
          "2011-02",
          "2011-03",
          "2011-04",
          "2011-05",
          "2011-06",
          "2011-07",
          "2011-08",
          "2011-09",
          "2011-10",
          "2011-11",
          "2011-12",
          "2012-01",
          "2012-02",
          "2012-03",
          "2012-04",
          "2012-05",
          "2012-06",
          "2012-07",
          "2012-08",
          "2012-09",
          "2012-10",
          "2012-11",
          "2012-12",
          "2013-01",
          "2013-02",
          "2013-03",
          "2013-04",
          "2013-05",
          "2013-06",
          "2013-07",
          "2013-08",
          "2013-09",
          "2013-10",
          "2013-11",
          "2013-12",
          "2014-01",
          "2014-02",
          "2014-03",
          "2014-04",
          "2014-05",
          "2014-06",
          "2014-07",
          "2014-08",
          "2014-09",
          "2014-10",
          "2014-11",
          "2014-12",
          "2015-01",
          "2015-02",
          "2015-03",
          "2015-04",
          "2015-05",
          "2015-06",
          "2015-07",
          "2015-08",
          "2015-09",
          "2015-10",
          "2015-11",
          "2015-12",
          "2016-01",
          "2016-02",
          "2016-03",
          "2016-04",
          "2016-05",
          "2016-06",
          "2016-07",
          "2016-08",
          "2016-09",
          "2016-10",
          "2016-11",
          "2016-12",
          "2017-01",
          "2017-02",
          "2017-03",
          "2017-04",
          "2017-05",
          "2017-06",
          "2017-07",
          "2017-08",
          "2017-09",
          "2017-10",
          "2017-11",
          "2017-12",
          "2018-01",
          "2018-02",
          "2018-03",
          "2018-04",
          "2018-05",
          "2018-06",
          "2018-07",
          "2018-08",
          "2018-09",
          "2018-10",
          "2018-11",
          "2018-12",
          "2019-01",
          "2019-02",
          "2019-03",
          "2019-04",
          "2019-05",
          "2019-06",
          "2019-07",
          "2019-08",
          "2019-09",
          "2019-10",
          "2019-11",
          "2019-12",
          "2020-01",
          "2020-02",
          "2020-03",
          "2020-04",
          "2020-05",
          "2020-06",
          "2020-07",
          "2020-08",
          "2020-09",
          "2020-10",
          "2020-11",
          "2020-12",
          "2021-01",
          "2021-02",
          "2021-03",
          "2021-04",
          "2021-05",
          "2021-06",
          "2021-07",
          "2021-08",
          "2021-09",
          "2021-10",
          "2021-11",
          "2021-12",
          "2022-01",
          "2022-02",
          "2022-03",
          "2022-04",
          "2022-05",
          "2022-06",
          "2022-07",
          "2022-08",
          "2022-09",
          "2022-10",
          "2022-11",
          "2022-12"
         ],
         "y": [
          3.29,
          3.21,
          2.97,
          3.07,
          2.99,
          3.2,
          3.33,
          3.14,
          3.02,
          2.97,
          3.02,
          3.05,
          3.03,
          3.02,
          3.09,
          3.11,
          3.2,
          3.19,
          3.5,
          3.59,
          3.59,
          3.68,
          3.74,
          3.83,
          3.76,
          3.91,
          3.94,
          3.84,
          3.84,
          3.78,
          3.69,
          3.81,
          3.84,
          3.86,
          4.1,
          3.99,
          3.96,
          4.09,
          4.03,
          4.04,
          4.04,
          3.96,
          4.02,
          4.13,
          4.36,
          4.33,
          4.4,
          4.96,
          4.89,
          5.01,
          4.9,
          4.91,
          5.04,
          5.05,
          5.24,
          5.84,
          5.62,
          5.5,
          5.45,
          5,
          4.62,
          4.76,
          4.13,
          4.14,
          4.18,
          4.97,
          5.05,
          5.2,
          5.27,
          5.47,
          5.65,
          5.76,
          5.36,
          5.43,
          5.59,
          6,
          6.06,
          5.91,
          5.5,
          5.43,
          5.44,
          5.66,
          5.78,
          6.46,
          6.41,
          6.47,
          6.27,
          6.26,
          6.64,
          7.58,
          7.57,
          7.64,
          8.01,
          7.58,
          8.04,
          8.32,
          8.15,
          7.11,
          6.9,
          7.72,
          7.65,
          7.4,
          7,
          6.84,
          6.58,
          6.29,
          5.06,
          4.94,
          4.23,
          3.69,
          3.92,
          4.77,
          5.13,
          6.24,
          6.18,
          5.28,
          5.27,
          4.64,
          4.76,
          4.46,
          4.36,
          4.34,
          5.11,
          4.61,
          4.64,
          5.15,
          4.82,
          5.4,
          5.61,
          5.44,
          5.35,
          5.68,
          6.09,
          6.43,
          7.09,
          6.8,
          7.16,
          7.74,
          8.87,
          8.47,
          7.5,
          7.21,
          7.28,
          7.3,
          7.12,
          7.16,
          8.36,
          8.99,
          8.71,
          8.87,
          9,
          9.73,
          8.21,
          7.93,
          7.66,
          7.35,
          6.36,
          6.01,
          6.36,
          6.88,
          6.08,
          6.85,
          7.38,
          7.56,
          7.83,
          6.27,
          6.68,
          6.16,
          5.65,
          6.21,
          6.11,
          6.14,
          6.75,
          6.46,
          6.12,
          5.9,
          5.78,
          5.5,
          4.95,
          4.86,
          5.56,
          5.56,
          5.4,
          5.6,
          5.86,
          5.72,
          6.22,
          6.36,
          6.66,
          7.05,
          6.92,
          6.98,
          7.26,
          7.32,
          7.48,
          7.7,
          7.94,
          8.38,
          8.33,
          8.48,
          8.81,
          9.92,
          10.09,
          10.57,
          10.13,
          10.33,
          10.17,
          10.29,
          9.91,
          9.4,
          9.75,
          10.4,
          10.8,
          12.89,
          11.88,
          11.7,
          12.4,
          15.45,
          15.8,
          11.12,
          8.83,
          8.49,
          9.36,
          11.15,
          12.29,
          13.78,
          15.13,
          13.86,
          14,
          14.59,
          13.05,
          15.33,
          14.81,
          14.87,
          16.12,
          16.97,
          16.64,
          14.31,
          11.82,
          13.35,
          14.04,
          14.27,
          14.3,
          13.67,
          12.93,
          14.34,
          12.56,
          11.13,
          10.26,
          9.21,
          9.38,
          8.68,
          8.91,
          8.61,
          9.34,
          8.75,
          9.48,
          9.7,
          10.48,
          10.59,
          9.89,
          9.82,
          9.98,
          10.08,
          9.85,
          10.21,
          10.8,
          11.11,
          12.15,
          12.3,
          11.86,
          11.96,
          11.43,
          10.26,
          9.71,
          9.22,
          9.09,
          9.72,
          9.49,
          8.99,
          7.98,
          7.71,
          8.12,
          8.03,
          7.99,
          7.92,
          7.85,
          7.6,
          7.57,
          7.43,
          6.72,
          6.54,
          6.88,
          6.41,
          6.2,
          5.52,
          5.82,
          5.73,
          5.76,
          5.95,
          5.93,
          5.9,
          6.15,
          6.62,
          6.88,
          6.77,
          6.89,
          7.23,
          7.92,
          6.75,
          7,
          7.1,
          6.66,
          6.63,
          6.76,
          7.14,
          7.66,
          7.5,
          7.9,
          8.28,
          8.13,
          8.06,
          8.62,
          9.02,
          9.04,
          9.4,
          9.64,
          9.12,
          8.86,
          8.12,
          7.65,
          8.28,
          8.48,
          7.88,
          7.72,
          7.76,
          8.08,
          8.12,
          8.35,
          8.58,
          8.22,
          8.05,
          7.72,
          7.76,
          7.69,
          7.43,
          7.31,
          6.82,
          6.51,
          6.41,
          6.28,
          6.06,
          6.16,
          6.32,
          6.19,
          5.72,
          5.42,
          5.1,
          4.69,
          4.12,
          4.23,
          4.35,
          4.54,
          4.4,
          4.24,
          4.05,
          3.62,
          3.47,
          3.06,
          3.54,
          3.83,
          3.61,
          3.39,
          3.32,
          3.32,
          3.26,
          3.62,
          3.45,
          3.53,
          3.38,
          3.39,
          3.47,
          3.65,
          3.63,
          3.53,
          4.03,
          4.5,
          5.07,
          5.38,
          5.51,
          5.37,
          5.56,
          5.96,
          6.18,
          6.91,
          7.2,
          6.84,
          6.44,
          6.49,
          6.32,
          5.8,
          5.65,
          5.67,
          5.65,
          5.65,
          5.55,
          5.36,
          5.18,
          4.9,
          5.23,
          5.41,
          5.62,
          5.77,
          5.7,
          5.85,
          5.91,
          5.71,
          5.44,
          5.38,
          5.51,
          5.58,
          5.67,
          6.02,
          5.9,
          5.78,
          5.67,
          5.45,
          5.59,
          5.47,
          5.36,
          5.52,
          5.51,
          5.24,
          5.41,
          5.41,
          5.4,
          5.42,
          5.38,
          5.38,
          4.95,
          4.41,
          4.18,
          4.53,
          4.53,
          4.51,
          4.88,
          4.72,
          4.78,
          4.97,
          5.07,
          5.13,
          5.3,
          5.22,
          5.43,
          5.7,
          5.98,
          6.3,
          6.2,
          6.28,
          6.24,
          6.37,
          6.08,
          6.07,
          6.22,
          6.07,
          6.12,
          5.92,
          5.32,
          4.6,
          4.47,
          4.09,
          3.94,
          3.63,
          3.72,
          3.53,
          3.41,
          2.49,
          2.07,
          2.06,
          2.17,
          2.29,
          2.25,
          2.7,
          2.35,
          2.34,
          2.06,
          1.8,
          1.74,
          1.53,
          1.46,
          1.56,
          1.32,
          1.31,
          1.24,
          1.19,
          1.22,
          1.13,
          1.09,
          1.28,
          1.35,
          1.15,
          1.31,
          1.39,
          1.26,
          1.28,
          1.21,
          1.2,
          1.55,
          1.83,
          2.09,
          2.13,
          1.99,
          2.21,
          2.28,
          2.63,
          2.75,
          2.96,
          3.2,
          3.35,
          3.33,
          3.32,
          3.45,
          3.8,
          3.77,
          4.01,
          4.31,
          4.34,
          4.38,
          4.58,
          4.73,
          4.82,
          4.9,
          5.07,
          5.21,
          5.11,
          5.01,
          4.91,
          4.99,
          4.94,
          5,
          5.09,
          4.96,
          4.9,
          4.89,
          4.95,
          4.91,
          4.85,
          4.19,
          4.05,
          4.04,
          3.26,
          3.34,
          2.11,
          1.77,
          1.55,
          1.85,
          2.22,
          2.36,
          2.27,
          2.17,
          1.78,
          1.34,
          0.9,
          0.37,
          0.51,
          0.72,
          0.57,
          0.49,
          0.47,
          0.56,
          0.48,
          0.43,
          0.4,
          0.37,
          0.27,
          0.47,
          0.3,
          0.32,
          0.41,
          0.41,
          0.34,
          0.32,
          0.29,
          0.25,
          0.27,
          0.22,
          0.27,
          0.29,
          0.26,
          0.25,
          0.3,
          0.22,
          0.18,
          0.19,
          0.2,
          0.1,
          0.13,
          0.12,
          0.12,
          0.12,
          0.13,
          0.18,
          0.19,
          0.2,
          0.18,
          0.21,
          0.16,
          0.16,
          0.17,
          0.18,
          0.18,
          0.16,
          0.15,
          0.17,
          0.14,
          0.11,
          0.14,
          0.15,
          0.11,
          0.13,
          0.1,
          0.1,
          0.13,
          0.13,
          0.1,
          0.12,
          0.13,
          0.11,
          0.1,
          0.11,
          0.12,
          0.09,
          0.13,
          0.11,
          0.13,
          0.25,
          0.18,
          0.22,
          0.26,
          0.24,
          0.26,
          0.28,
          0.33,
          0.39,
          0.33,
          0.34,
          0.51,
          0.65,
          0.47,
          0.62,
          0.59,
          0.56,
          0.68,
          0.45,
          0.5,
          0.61,
          0.59,
          0.66,
          0.8,
          0.85,
          0.84,
          0.88,
          1.03,
          1.07,
          1.17,
          1.24,
          1.23,
          1.23,
          1.31,
          1.43,
          1.62,
          1.76,
          1.9,
          2.07,
          2.09,
          2.24,
          2.23,
          2.33,
          2.44,
          2.46,
          2.59,
          2.69,
          2.7,
          2.63,
          2.55,
          2.54,
          2.4,
          2.39,
          2.21,
          1.92,
          2,
          1.76,
          1.75,
          1.53,
          1.6,
          1.59,
          1.45,
          0.97,
          0.17,
          0.16,
          0.17,
          0.16,
          0.11,
          0.12,
          0.12,
          0.13,
          0.11,
          0.1,
          0.1,
          0.08,
          0.07,
          0.05,
          0.05,
          0.07,
          0.07,
          0.07,
          0.09,
          0.15,
          0.24,
          0.39,
          0.78,
          1.01,
          1.63,
          2.1,
          2.08,
          2.8,
          2.98,
          3.5,
          4.05,
          4.66,
          4.74,
          4.73
         ]
        },
        {
         "hovertemplate": "10-yr Treasury<br>%{x}: %{y:.1f}%<extra></extra>",
         "mode": "lines",
         "name": "10-yr Treasury",
         "type": "scatter",
         "x": [
          "1962-01",
          "1962-02",
          "1962-03",
          "1962-04",
          "1962-05",
          "1962-06",
          "1962-07",
          "1962-08",
          "1962-09",
          "1962-10",
          "1962-11",
          "1962-12",
          "1963-01",
          "1963-02",
          "1963-03",
          "1963-04",
          "1963-05",
          "1963-06",
          "1963-07",
          "1963-08",
          "1963-09",
          "1963-10",
          "1963-11",
          "1963-12",
          "1964-01",
          "1964-02",
          "1964-03",
          "1964-04",
          "1964-05",
          "1964-06",
          "1964-07",
          "1964-08",
          "1964-09",
          "1964-10",
          "1964-11",
          "1964-12",
          "1965-01",
          "1965-02",
          "1965-03",
          "1965-04",
          "1965-05",
          "1965-06",
          "1965-07",
          "1965-08",
          "1965-09",
          "1965-10",
          "1965-11",
          "1965-12",
          "1966-01",
          "1966-02",
          "1966-03",
          "1966-04",
          "1966-05",
          "1966-06",
          "1966-07",
          "1966-08",
          "1966-09",
          "1966-10",
          "1966-11",
          "1966-12",
          "1967-01",
          "1967-02",
          "1967-03",
          "1967-04",
          "1967-05",
          "1967-06",
          "1967-07",
          "1967-08",
          "1967-09",
          "1967-10",
          "1967-11",
          "1967-12",
          "1968-01",
          "1968-02",
          "1968-03",
          "1968-04",
          "1968-05",
          "1968-06",
          "1968-07",
          "1968-08",
          "1968-09",
          "1968-10",
          "1968-11",
          "1968-12",
          "1969-01",
          "1969-02",
          "1969-03",
          "1969-04",
          "1969-05",
          "1969-06",
          "1969-07",
          "1969-08",
          "1969-09",
          "1969-10",
          "1969-11",
          "1969-12",
          "1970-01",
          "1970-02",
          "1970-03",
          "1970-04",
          "1970-05",
          "1970-06",
          "1970-07",
          "1970-08",
          "1970-09",
          "1970-10",
          "1970-11",
          "1970-12",
          "1971-01",
          "1971-02",
          "1971-03",
          "1971-04",
          "1971-05",
          "1971-06",
          "1971-07",
          "1971-08",
          "1971-09",
          "1971-10",
          "1971-11",
          "1971-12",
          "1972-01",
          "1972-02",
          "1972-03",
          "1972-04",
          "1972-05",
          "1972-06",
          "1972-07",
          "1972-08",
          "1972-09",
          "1972-10",
          "1972-11",
          "1972-12",
          "1973-01",
          "1973-02",
          "1973-03",
          "1973-04",
          "1973-05",
          "1973-06",
          "1973-07",
          "1973-08",
          "1973-09",
          "1973-10",
          "1973-11",
          "1973-12",
          "1974-01",
          "1974-02",
          "1974-03",
          "1974-04",
          "1974-05",
          "1974-06",
          "1974-07",
          "1974-08",
          "1974-09",
          "1974-10",
          "1974-11",
          "1974-12",
          "1975-01",
          "1975-02",
          "1975-03",
          "1975-04",
          "1975-05",
          "1975-06",
          "1975-07",
          "1975-08",
          "1975-09",
          "1975-10",
          "1975-11",
          "1975-12",
          "1976-01",
          "1976-02",
          "1976-03",
          "1976-04",
          "1976-05",
          "1976-06",
          "1976-07",
          "1976-08",
          "1976-09",
          "1976-10",
          "1976-11",
          "1976-12",
          "1977-01",
          "1977-02",
          "1977-03",
          "1977-04",
          "1977-05",
          "1977-06",
          "1977-07",
          "1977-08",
          "1977-09",
          "1977-10",
          "1977-11",
          "1977-12",
          "1978-01",
          "1978-02",
          "1978-03",
          "1978-04",
          "1978-05",
          "1978-06",
          "1978-07",
          "1978-08",
          "1978-09",
          "1978-10",
          "1978-11",
          "1978-12",
          "1979-01",
          "1979-02",
          "1979-03",
          "1979-04",
          "1979-05",
          "1979-06",
          "1979-07",
          "1979-08",
          "1979-09",
          "1979-10",
          "1979-11",
          "1979-12",
          "1980-01",
          "1980-02",
          "1980-03",
          "1980-04",
          "1980-05",
          "1980-06",
          "1980-07",
          "1980-08",
          "1980-09",
          "1980-10",
          "1980-11",
          "1980-12",
          "1981-01",
          "1981-02",
          "1981-03",
          "1981-04",
          "1981-05",
          "1981-06",
          "1981-07",
          "1981-08",
          "1981-09",
          "1981-10",
          "1981-11",
          "1981-12",
          "1982-01",
          "1982-02",
          "1982-03",
          "1982-04",
          "1982-05",
          "1982-06",
          "1982-07",
          "1982-08",
          "1982-09",
          "1982-10",
          "1982-11",
          "1982-12",
          "1983-01",
          "1983-02",
          "1983-03",
          "1983-04",
          "1983-05",
          "1983-06",
          "1983-07",
          "1983-08",
          "1983-09",
          "1983-10",
          "1983-11",
          "1983-12",
          "1984-01",
          "1984-02",
          "1984-03",
          "1984-04",
          "1984-05",
          "1984-06",
          "1984-07",
          "1984-08",
          "1984-09",
          "1984-10",
          "1984-11",
          "1984-12",
          "1985-01",
          "1985-02",
          "1985-03",
          "1985-04",
          "1985-05",
          "1985-06",
          "1985-07",
          "1985-08",
          "1985-09",
          "1985-10",
          "1985-11",
          "1985-12",
          "1986-01",
          "1986-02",
          "1986-03",
          "1986-04",
          "1986-05",
          "1986-06",
          "1986-07",
          "1986-08",
          "1986-09",
          "1986-10",
          "1986-11",
          "1986-12",
          "1987-01",
          "1987-02",
          "1987-03",
          "1987-04",
          "1987-05",
          "1987-06",
          "1987-07",
          "1987-08",
          "1987-09",
          "1987-10",
          "1987-11",
          "1987-12",
          "1988-01",
          "1988-02",
          "1988-03",
          "1988-04",
          "1988-05",
          "1988-06",
          "1988-07",
          "1988-08",
          "1988-09",
          "1988-10",
          "1988-11",
          "1988-12",
          "1989-01",
          "1989-02",
          "1989-03",
          "1989-04",
          "1989-05",
          "1989-06",
          "1989-07",
          "1989-08",
          "1989-09",
          "1989-10",
          "1989-11",
          "1989-12",
          "1990-01",
          "1990-02",
          "1990-03",
          "1990-04",
          "1990-05",
          "1990-06",
          "1990-07",
          "1990-08",
          "1990-09",
          "1990-10",
          "1990-11",
          "1990-12",
          "1991-01",
          "1991-02",
          "1991-03",
          "1991-04",
          "1991-05",
          "1991-06",
          "1991-07",
          "1991-08",
          "1991-09",
          "1991-10",
          "1991-11",
          "1991-12",
          "1992-01",
          "1992-02",
          "1992-03",
          "1992-04",
          "1992-05",
          "1992-06",
          "1992-07",
          "1992-08",
          "1992-09",
          "1992-10",
          "1992-11",
          "1992-12",
          "1993-01",
          "1993-02",
          "1993-03",
          "1993-04",
          "1993-05",
          "1993-06",
          "1993-07",
          "1993-08",
          "1993-09",
          "1993-10",
          "1993-11",
          "1993-12",
          "1994-01",
          "1994-02",
          "1994-03",
          "1994-04",
          "1994-05",
          "1994-06",
          "1994-07",
          "1994-08",
          "1994-09",
          "1994-10",
          "1994-11",
          "1994-12",
          "1995-01",
          "1995-02",
          "1995-03",
          "1995-04",
          "1995-05",
          "1995-06",
          "1995-07",
          "1995-08",
          "1995-09",
          "1995-10",
          "1995-11",
          "1995-12",
          "1996-01",
          "1996-02",
          "1996-03",
          "1996-04",
          "1996-05",
          "1996-06",
          "1996-07",
          "1996-08",
          "1996-09",
          "1996-10",
          "1996-11",
          "1996-12",
          "1997-01",
          "1997-02",
          "1997-03",
          "1997-04",
          "1997-05",
          "1997-06",
          "1997-07",
          "1997-08",
          "1997-09",
          "1997-10",
          "1997-11",
          "1997-12",
          "1998-01",
          "1998-02",
          "1998-03",
          "1998-04",
          "1998-05",
          "1998-06",
          "1998-07",
          "1998-08",
          "1998-09",
          "1998-10",
          "1998-11",
          "1998-12",
          "1999-01",
          "1999-02",
          "1999-03",
          "1999-04",
          "1999-05",
          "1999-06",
          "1999-07",
          "1999-08",
          "1999-09",
          "1999-10",
          "1999-11",
          "1999-12",
          "2000-01",
          "2000-02",
          "2000-03",
          "2000-04",
          "2000-05",
          "2000-06",
          "2000-07",
          "2000-08",
          "2000-09",
          "2000-10",
          "2000-11",
          "2000-12",
          "2001-01",
          "2001-02",
          "2001-03",
          "2001-04",
          "2001-05",
          "2001-06",
          "2001-07",
          "2001-08",
          "2001-09",
          "2001-10",
          "2001-11",
          "2001-12",
          "2002-01",
          "2002-02",
          "2002-03",
          "2002-04",
          "2002-05",
          "2002-06",
          "2002-07",
          "2002-08",
          "2002-09",
          "2002-10",
          "2002-11",
          "2002-12",
          "2003-01",
          "2003-02",
          "2003-03",
          "2003-04",
          "2003-05",
          "2003-06",
          "2003-07",
          "2003-08",
          "2003-09",
          "2003-10",
          "2003-11",
          "2003-12",
          "2004-01",
          "2004-02",
          "2004-03",
          "2004-04",
          "2004-05",
          "2004-06",
          "2004-07",
          "2004-08",
          "2004-09",
          "2004-10",
          "2004-11",
          "2004-12",
          "2005-01",
          "2005-02",
          "2005-03",
          "2005-04",
          "2005-05",
          "2005-06",
          "2005-07",
          "2005-08",
          "2005-09",
          "2005-10",
          "2005-11",
          "2005-12",
          "2006-01",
          "2006-02",
          "2006-03",
          "2006-04",
          "2006-05",
          "2006-06",
          "2006-07",
          "2006-08",
          "2006-09",
          "2006-10",
          "2006-11",
          "2006-12",
          "2007-01",
          "2007-02",
          "2007-03",
          "2007-04",
          "2007-05",
          "2007-06",
          "2007-07",
          "2007-08",
          "2007-09",
          "2007-10",
          "2007-11",
          "2007-12",
          "2008-01",
          "2008-02",
          "2008-03",
          "2008-04",
          "2008-05",
          "2008-06",
          "2008-07",
          "2008-08",
          "2008-09",
          "2008-10",
          "2008-11",
          "2008-12",
          "2009-01",
          "2009-02",
          "2009-03",
          "2009-04",
          "2009-05",
          "2009-06",
          "2009-07",
          "2009-08",
          "2009-09",
          "2009-10",
          "2009-11",
          "2009-12",
          "2010-01",
          "2010-02",
          "2010-03",
          "2010-04",
          "2010-05",
          "2010-06",
          "2010-07",
          "2010-08",
          "2010-09",
          "2010-10",
          "2010-11",
          "2010-12",
          "2011-01",
          "2011-02",
          "2011-03",
          "2011-04",
          "2011-05",
          "2011-06",
          "2011-07",
          "2011-08",
          "2011-09",
          "2011-10",
          "2011-11",
          "2011-12",
          "2012-01",
          "2012-02",
          "2012-03",
          "2012-04",
          "2012-05",
          "2012-06",
          "2012-07",
          "2012-08",
          "2012-09",
          "2012-10",
          "2012-11",
          "2012-12",
          "2013-01",
          "2013-02",
          "2013-03",
          "2013-04",
          "2013-05",
          "2013-06",
          "2013-07",
          "2013-08",
          "2013-09",
          "2013-10",
          "2013-11",
          "2013-12",
          "2014-01",
          "2014-02",
          "2014-03",
          "2014-04",
          "2014-05",
          "2014-06",
          "2014-07",
          "2014-08",
          "2014-09",
          "2014-10",
          "2014-11",
          "2014-12",
          "2015-01",
          "2015-02",
          "2015-03",
          "2015-04",
          "2015-05",
          "2015-06",
          "2015-07",
          "2015-08",
          "2015-09",
          "2015-10",
          "2015-11",
          "2015-12",
          "2016-01",
          "2016-02",
          "2016-03",
          "2016-04",
          "2016-05",
          "2016-06",
          "2016-07",
          "2016-08",
          "2016-09",
          "2016-10",
          "2016-11",
          "2016-12",
          "2017-01",
          "2017-02",
          "2017-03",
          "2017-04",
          "2017-05",
          "2017-06",
          "2017-07",
          "2017-08",
          "2017-09",
          "2017-10",
          "2017-11",
          "2017-12",
          "2018-01",
          "2018-02",
          "2018-03",
          "2018-04",
          "2018-05",
          "2018-06",
          "2018-07",
          "2018-08",
          "2018-09",
          "2018-10",
          "2018-11",
          "2018-12",
          "2019-01",
          "2019-02",
          "2019-03",
          "2019-04",
          "2019-05",
          "2019-06",
          "2019-07",
          "2019-08",
          "2019-09",
          "2019-10",
          "2019-11",
          "2019-12",
          "2020-01",
          "2020-02",
          "2020-03",
          "2020-04",
          "2020-05",
          "2020-06",
          "2020-07",
          "2020-08",
          "2020-09",
          "2020-10",
          "2020-11",
          "2020-12",
          "2021-01",
          "2021-02",
          "2021-03",
          "2021-04",
          "2021-05",
          "2021-06",
          "2021-07",
          "2021-08",
          "2021-09",
          "2021-10",
          "2021-11",
          "2021-12",
          "2022-01",
          "2022-02",
          "2022-03",
          "2022-04",
          "2022-05",
          "2022-06",
          "2022-07",
          "2022-08",
          "2022-09",
          "2022-10",
          "2022-11",
          "2022-12"
         ],
         "y": [
          4.1,
          4,
          3.86,
          3.86,
          3.9,
          4,
          4.04,
          3.96,
          3.94,
          3.92,
          3.92,
          3.85,
          3.87,
          3.94,
          3.95,
          3.95,
          3.96,
          4,
          4,
          4.02,
          4.07,
          4.15,
          4.08,
          4.14,
          4.15,
          4.18,
          4.23,
          4.22,
          4.19,
          4.15,
          4.19,
          4.21,
          4.18,
          4.16,
          4.2,
          4.21,
          4.19,
          4.22,
          4.2,
          4.21,
          4.23,
          4.2,
          4.22,
          4.27,
          4.35,
          4.41,
          4.48,
          4.65,
          4.69,
          5.02,
          4.71,
          4.79,
          4.8,
          4.97,
          5.05,
          5.36,
          5.02,
          4.97,
          5.12,
          4.64,
          4.52,
          4.72,
          4.5,
          4.78,
          4.81,
          5.22,
          5.16,
          5.27,
          5.31,
          5.64,
          5.74,
          5.7,
          5.54,
          5.56,
          5.76,
          5.74,
          5.86,
          5.64,
          5.39,
          5.42,
          5.49,
          5.61,
          5.78,
          6.16,
          6.19,
          6.26,
          6.3,
          6.2,
          6.56,
          6.73,
          6.66,
          6.83,
          7.51,
          6.94,
          7.29,
          7.88,
          7.75,
          6.9,
          7.08,
          7.82,
          7.95,
          7.68,
          7.38,
          7.49,
          7.29,
          7.33,
          6.49,
          6.5,
          6.09,
          6.14,
          5.53,
          6.08,
          6.38,
          6.7,
          6.85,
          6.28,
          6,
          5.87,
          5.93,
          5.89,
          6.09,
          6.04,
          6.12,
          6.14,
          6.05,
          6.15,
          6.12,
          6.42,
          6.54,
          6.41,
          6.28,
          6.41,
          6.54,
          6.64,
          6.73,
          6.7,
          6.93,
          6.94,
          7.43,
          7.25,
          6.9,
          6.71,
          6.69,
          6.9,
          7,
          7.01,
          7.41,
          7.66,
          7.52,
          7.64,
          7.89,
          8.11,
          7.94,
          7.79,
          7.64,
          7.4,
          7.53,
          7.46,
          8.01,
          8.31,
          8.04,
          7.96,
          8.2,
          8.22,
          8.48,
          7.91,
          8.14,
          7.76,
          7.8,
          7.77,
          7.66,
          7.67,
          7.96,
          7.86,
          7.86,
          7.66,
          7.55,
          7.42,
          7.01,
          6.81,
          7.4,
          7.45,
          7.42,
          7.45,
          7.38,
          7.2,
          7.42,
          7.28,
          7.41,
          7.62,
          7.55,
          7.78,
          7.94,
          8.04,
          8.15,
          8.24,
          8.42,
          8.62,
          8.56,
          8.39,
          8.56,
          8.96,
          8.86,
          9.15,
          8.95,
          9.17,
          9.11,
          9.35,
          9.06,
          8.81,
          9.01,
          9.24,
          9.44,
          10.72,
          10.38,
          10.33,
          11.13,
          12.72,
          12.64,
          10.76,
          10.25,
          10.09,
          10.76,
          11.55,
          11.86,
          12.46,
          12.72,
          12.43,
          12.68,
          13.43,
          13.13,
          14.11,
          13.5,
          13.86,
          14.67,
          15.41,
          15.84,
          14.63,
          13.13,
          13.98,
          14.14,
          14.03,
          14.18,
          13.87,
          13.71,
          14.44,
          13.68,
          12.81,
          11.73,
          10.71,
          10.79,
          10.36,
          10.8,
          10.27,
          10.62,
          10.27,
          10.81,
          10.96,
          11.76,
          11.98,
          11.44,
          11.74,
          11.63,
          11.82,
          11.67,
          12.04,
          12.53,
          12.82,
          13.91,
          13.84,
          12.91,
          12.79,
          12.47,
          11.79,
          11.58,
          11.55,
          11.17,
          11.91,
          11.65,
          11.41,
          10.28,
          10.25,
          10.57,
          10.28,
          10.31,
          10.01,
          9.59,
          9,
          9.08,
          8.13,
          7.39,
          7.38,
          8.05,
          7.35,
          7.34,
          6.95,
          7.45,
          7.34,
          7.15,
          7.23,
          7.18,
          7.19,
          7.51,
          8.21,
          8.49,
          8.38,
          8.66,
          9,
          9.63,
          8.88,
          8.99,
          8.83,
          8.26,
          8.16,
          8.57,
          8.87,
          9.2,
          8.82,
          9.12,
          9.25,
          8.87,
          8.65,
          9.06,
          9.14,
          9.01,
          9.32,
          9.3,
          9.02,
          8.6,
          8.1,
          7.82,
          8.26,
          8.31,
          7.92,
          7.84,
          7.93,
          8.43,
          8.51,
          8.65,
          9.04,
          8.6,
          8.43,
          8.36,
          8.86,
          8.82,
          8.65,
          8.26,
          8.08,
          8.03,
          8.02,
          8.05,
          8.02,
          8.06,
          8.24,
          8.2,
          7.82,
          7.47,
          7.47,
          7.38,
          6.71,
          7.31,
          7.27,
          7.54,
          7.61,
          7.33,
          7.14,
          6.72,
          6.62,
          6.37,
          6.8,
          6.95,
          6.7,
          6.39,
          6.03,
          6.03,
          6.05,
          6.16,
          5.8,
          5.83,
          5.45,
          5.4,
          5.43,
          5.83,
          5.83,
          5.7,
          6.15,
          6.77,
          7.06,
          7.17,
          7.34,
          7.12,
          7.19,
          7.62,
          7.81,
          7.91,
          7.84,
          7.6,
          7.22,
          7.2,
          7.07,
          6.3,
          6.21,
          6.45,
          6.28,
          6.17,
          6.03,
          5.76,
          5.58,
          5.6,
          6.13,
          6.34,
          6.66,
          6.85,
          6.73,
          6.8,
          6.96,
          6.72,
          6.37,
          6.06,
          6.43,
          6.53,
          6.56,
          6.92,
          6.72,
          6.67,
          6.51,
          6.02,
          6.34,
          6.12,
          5.84,
          5.86,
          5.75,
          5.53,
          5.62,
          5.67,
          5.68,
          5.56,
          5.44,
          5.5,
          5.05,
          4.44,
          4.64,
          4.74,
          4.65,
          4.66,
          5.29,
          5.25,
          5.36,
          5.64,
          5.81,
          5.92,
          5.98,
          5.9,
          6.02,
          6.18,
          6.45,
          6.68,
          6.42,
          6.03,
          6.23,
          6.29,
          6.03,
          6.04,
          5.73,
          5.8,
          5.77,
          5.48,
          5.12,
          5.19,
          4.92,
          4.93,
          5.35,
          5.43,
          5.42,
          5.07,
          4.85,
          4.6,
          4.3,
          4.78,
          5.07,
          5.07,
          4.88,
          5.42,
          5.11,
          5.08,
          4.86,
          4.51,
          4.14,
          3.63,
          3.93,
          4.22,
          3.83,
          4,
          3.71,
          3.83,
          3.89,
          3.37,
          3.54,
          4.49,
          4.45,
          3.96,
          4.33,
          4.34,
          4.27,
          4.16,
          3.99,
          3.86,
          4.53,
          4.66,
          4.62,
          4.5,
          4.13,
          4.14,
          4.05,
          4.36,
          4.24,
          4.14,
          4.36,
          4.5,
          4.21,
          4,
          3.94,
          4.28,
          4.02,
          4.34,
          4.57,
          4.49,
          4.39,
          4.53,
          4.55,
          4.86,
          5.07,
          5.12,
          5.15,
          4.99,
          4.74,
          4.64,
          4.61,
          4.46,
          4.71,
          4.83,
          4.56,
          4.65,
          4.63,
          4.9,
          5.03,
          4.78,
          4.54,
          4.59,
          4.48,
          3.97,
          4.04,
          3.67,
          3.53,
          3.45,
          3.77,
          4.06,
          3.99,
          3.99,
          3.83,
          3.85,
          4.01,
          2.93,
          2.25,
          2.87,
          3.02,
          2.71,
          3.16,
          3.47,
          3.53,
          3.52,
          3.4,
          3.31,
          3.41,
          3.21,
          3.85,
          3.63,
          3.61,
          3.84,
          3.69,
          3.31,
          2.97,
          2.94,
          2.47,
          2.53,
          2.63,
          2.81,
          3.3,
          3.42,
          3.42,
          3.47,
          3.32,
          3.05,
          3.18,
          2.82,
          2.23,
          1.92,
          2.17,
          2.08,
          1.89,
          1.83,
          1.98,
          2.23,
          1.95,
          1.59,
          1.67,
          1.51,
          1.57,
          1.65,
          1.72,
          1.62,
          1.78,
          2.02,
          1.89,
          1.87,
          1.7,
          2.16,
          2.52,
          2.6,
          2.78,
          2.64,
          2.57,
          2.75,
          3.04,
          2.67,
          2.66,
          2.73,
          2.67,
          2.48,
          2.53,
          2.58,
          2.35,
          2.52,
          2.35,
          2.18,
          2.17,
          1.68,
          2,
          1.94,
          2.05,
          2.12,
          2.35,
          2.2,
          2.21,
          2.06,
          2.16,
          2.21,
          2.27,
          1.94,
          1.74,
          1.78,
          1.83,
          1.84,
          1.49,
          1.46,
          1.58,
          1.6,
          1.84,
          2.37,
          2.45,
          2.45,
          2.36,
          2.4,
          2.29,
          2.21,
          2.31,
          2.3,
          2.12,
          2.33,
          2.38,
          2.42,
          2.4,
          2.72,
          2.87,
          2.74,
          2.95,
          2.83,
          2.85,
          2.96,
          2.86,
          3.05,
          3.15,
          3.01,
          2.69,
          2.63,
          2.73,
          2.41,
          2.51,
          2.14,
          2,
          2.02,
          1.5,
          1.68,
          1.69,
          1.78,
          1.92,
          1.51,
          1.13,
          0.7,
          0.64,
          0.65,
          0.66,
          0.55,
          0.72,
          0.69,
          0.88,
          0.84,
          0.93,
          1.11,
          1.44,
          1.74,
          1.65,
          1.58,
          1.45,
          1.24,
          1.3,
          1.52,
          1.55,
          1.43,
          1.52,
          1.79,
          1.83,
          2.32,
          2.89,
          2.85,
          2.98,
          2.67,
          3.15,
          3.83,
          4.1,
          3.68,
          3.51
         ]
        }
       ],
       "layout": {
        "legend": {
         "x": 0.6,
         "xanchor": "left",
         "y": 0.99,
         "yanchor": "top"
        },
        "shapes": [
         {
          "fillcolor": "DarkGray",
          "layer": "below",
          "line": {
           "width": 0
          },
          "opacity": 0.5,
          "type": "rect",
          "x0": "1937-06",
          "x1": "1938-06",
          "xref": "x",
          "y0": 0,
          "y1": 1,
          "yref": "paper"
         },
         {
          "fillcolor": "DarkGray",
          "layer": "below",
          "line": {
           "width": 0
          },
          "opacity": 0.5,
          "type": "rect",
          "x0": "1945-03",
          "x1": "1945-10",
          "xref": "x",
          "y0": 0,
          "y1": 1,
          "yref": "paper"
         },
         {
          "fillcolor": "DarkGray",
          "layer": "below",
          "line": {
           "width": 0
          },
          "opacity": 0.5,
          "type": "rect",
          "x0": "1948-12",
          "x1": "1949-10",
          "xref": "x",
          "y0": 0,
          "y1": 1,
          "yref": "paper"
         },
         {
          "fillcolor": "DarkGray",
          "layer": "below",
          "line": {
           "width": 0
          },
          "opacity": 0.5,
          "type": "rect",
          "x0": "1953-08",
          "x1": "1954-05",
          "xref": "x",
          "y0": 0,
          "y1": 1,
          "yref": "paper"
         },
         {
          "fillcolor": "DarkGray",
          "layer": "below",
          "line": {
           "width": 0
          },
          "opacity": 0.5,
          "type": "rect",
          "x0": "1957-09",
          "x1": "1958-04",
          "xref": "x",
          "y0": 0,
          "y1": 1,
          "yref": "paper"
         },
         {
          "fillcolor": "DarkGray",
          "layer": "below",
          "line": {
           "width": 0
          },
          "opacity": 0.5,
          "type": "rect",
          "x0": "1960-05",
          "x1": "1961-02",
          "xref": "x",
          "y0": 0,
          "y1": 1,
          "yref": "paper"
         },
         {
          "fillcolor": "DarkGray",
          "layer": "below",
          "line": {
           "width": 0
          },
          "opacity": 0.5,
          "type": "rect",
          "x0": "1970-01",
          "x1": "1970-11",
          "xref": "x",
          "y0": 0,
          "y1": 1,
          "yref": "paper"
         },
         {
          "fillcolor": "DarkGray",
          "layer": "below",
          "line": {
           "width": 0
          },
          "opacity": 0.5,
          "type": "rect",
          "x0": "1973-12",
          "x1": "1975-03",
          "xref": "x",
          "y0": 0,
          "y1": 1,
          "yref": "paper"
         },
         {
          "fillcolor": "DarkGray",
          "layer": "below",
          "line": {
           "width": 0
          },
          "opacity": 0.5,
          "type": "rect",
          "x0": "1980-02",
          "x1": "1980-07",
          "xref": "x",
          "y0": 0,
          "y1": 1,
          "yref": "paper"
         },
         {
          "fillcolor": "DarkGray",
          "layer": "below",
          "line": {
           "width": 0
          },
          "opacity": 0.5,
          "type": "rect",
          "x0": "1981-08",
          "x1": "1982-11",
          "xref": "x",
          "y0": 0,
          "y1": 1,
          "yref": "paper"
         },
         {
          "fillcolor": "DarkGray",
          "layer": "below",
          "line": {
           "width": 0
          },
          "opacity": 0.5,
          "type": "rect",
          "x0": "1990-08",
          "x1": "1991-03",
          "xref": "x",
          "y0": 0,
          "y1": 1,
          "yref": "paper"
         },
         {
          "fillcolor": "DarkGray",
          "layer": "below",
          "line": {
           "width": 0
          },
          "opacity": 0.5,
          "type": "rect",
          "x0": "2001-04",
          "x1": "2001-11",
          "xref": "x",
          "y0": 0,
          "y1": 1,
          "yref": "paper"
         },
         {
          "fillcolor": "DarkGray",
          "layer": "below",
          "line": {
           "width": 0
          },
          "opacity": 0.5,
          "type": "rect",
          "x0": "2008-01",
          "x1": "2009-06",
          "xref": "x",
          "y0": 0,
          "y1": 1,
          "yref": "paper"
         },
         {
          "fillcolor": "DarkGray",
          "layer": "below",
          "line": {
           "width": 0
          },
          "opacity": 0.5,
          "type": "rect",
          "x0": "2020-03",
          "x1": "2020-04",
          "xref": "x",
          "y0": 0,
          "y1": 1,
          "yref": "paper"
         }
        ],
        "template": {
         "data": {
          "bar": [
           {
            "error_x": {
             "color": "#2a3f5f"
            },
            "error_y": {
             "color": "#2a3f5f"
            },
            "marker": {
             "line": {
              "color": "#E5ECF6",
              "width": 0.5
             },
             "pattern": {
              "fillmode": "overlay",
              "size": 10,
              "solidity": 0.2
             }
            },
            "type": "bar"
           }
          ],
          "barpolar": [
           {
            "marker": {
             "line": {
              "color": "#E5ECF6",
              "width": 0.5
             },
             "pattern": {
              "fillmode": "overlay",
              "size": 10,
              "solidity": 0.2
             }
            },
            "type": "barpolar"
           }
          ],
          "carpet": [
           {
            "aaxis": {
             "endlinecolor": "#2a3f5f",
             "gridcolor": "white",
             "linecolor": "white",
             "minorgridcolor": "white",
             "startlinecolor": "#2a3f5f"
            },
            "baxis": {
             "endlinecolor": "#2a3f5f",
             "gridcolor": "white",
             "linecolor": "white",
             "minorgridcolor": "white",
             "startlinecolor": "#2a3f5f"
            },
            "type": "carpet"
           }
          ],
          "choropleth": [
           {
            "colorbar": {
             "outlinewidth": 0,
             "ticks": ""
            },
            "type": "choropleth"
           }
          ],
          "contour": [
           {
            "colorbar": {
             "outlinewidth": 0,
             "ticks": ""
            },
            "colorscale": [
             [
              0,
              "#0d0887"
             ],
             [
              0.1111111111111111,
              "#46039f"
             ],
             [
              0.2222222222222222,
              "#7201a8"
             ],
             [
              0.3333333333333333,
              "#9c179e"
             ],
             [
              0.4444444444444444,
              "#bd3786"
             ],
             [
              0.5555555555555556,
              "#d8576b"
             ],
             [
              0.6666666666666666,
              "#ed7953"
             ],
             [
              0.7777777777777778,
              "#fb9f3a"
             ],
             [
              0.8888888888888888,
              "#fdca26"
             ],
             [
              1,
              "#f0f921"
             ]
            ],
            "type": "contour"
           }
          ],
          "contourcarpet": [
           {
            "colorbar": {
             "outlinewidth": 0,
             "ticks": ""
            },
            "type": "contourcarpet"
           }
          ],
          "heatmap": [
           {
            "colorbar": {
             "outlinewidth": 0,
             "ticks": ""
            },
            "colorscale": [
             [
              0,
              "#0d0887"
             ],
             [
              0.1111111111111111,
              "#46039f"
             ],
             [
              0.2222222222222222,
              "#7201a8"
             ],
             [
              0.3333333333333333,
              "#9c179e"
             ],
             [
              0.4444444444444444,
              "#bd3786"
             ],
             [
              0.5555555555555556,
              "#d8576b"
             ],
             [
              0.6666666666666666,
              "#ed7953"
             ],
             [
              0.7777777777777778,
              "#fb9f3a"
             ],
             [
              0.8888888888888888,
              "#fdca26"
             ],
             [
              1,
              "#f0f921"
             ]
            ],
            "type": "heatmap"
           }
          ],
          "heatmapgl": [
           {
            "colorbar": {
             "outlinewidth": 0,
             "ticks": ""
            },
            "colorscale": [
             [
              0,
              "#0d0887"
             ],
             [
              0.1111111111111111,
              "#46039f"
             ],
             [
              0.2222222222222222,
              "#7201a8"
             ],
             [
              0.3333333333333333,
              "#9c179e"
             ],
             [
              0.4444444444444444,
              "#bd3786"
             ],
             [
              0.5555555555555556,
              "#d8576b"
             ],
             [
              0.6666666666666666,
              "#ed7953"
             ],
             [
              0.7777777777777778,
              "#fb9f3a"
             ],
             [
              0.8888888888888888,
              "#fdca26"
             ],
             [
              1,
              "#f0f921"
             ]
            ],
            "type": "heatmapgl"
           }
          ],
          "histogram": [
           {
            "marker": {
             "pattern": {
              "fillmode": "overlay",
              "size": 10,
              "solidity": 0.2
             }
            },
            "type": "histogram"
           }
          ],
          "histogram2d": [
           {
            "colorbar": {
             "outlinewidth": 0,
             "ticks": ""
            },
            "colorscale": [
             [
              0,
              "#0d0887"
             ],
             [
              0.1111111111111111,
              "#46039f"
             ],
             [
              0.2222222222222222,
              "#7201a8"
             ],
             [
              0.3333333333333333,
              "#9c179e"
             ],
             [
              0.4444444444444444,
              "#bd3786"
             ],
             [
              0.5555555555555556,
              "#d8576b"
             ],
             [
              0.6666666666666666,
              "#ed7953"
             ],
             [
              0.7777777777777778,
              "#fb9f3a"
             ],
             [
              0.8888888888888888,
              "#fdca26"
             ],
             [
              1,
              "#f0f921"
             ]
            ],
            "type": "histogram2d"
           }
          ],
          "histogram2dcontour": [
           {
            "colorbar": {
             "outlinewidth": 0,
             "ticks": ""
            },
            "colorscale": [
             [
              0,
              "#0d0887"
             ],
             [
              0.1111111111111111,
              "#46039f"
             ],
             [
              0.2222222222222222,
              "#7201a8"
             ],
             [
              0.3333333333333333,
              "#9c179e"
             ],
             [
              0.4444444444444444,
              "#bd3786"
             ],
             [
              0.5555555555555556,
              "#d8576b"
             ],
             [
              0.6666666666666666,
              "#ed7953"
             ],
             [
              0.7777777777777778,
              "#fb9f3a"
             ],
             [
              0.8888888888888888,
              "#fdca26"
             ],
             [
              1,
              "#f0f921"
             ]
            ],
            "type": "histogram2dcontour"
           }
          ],
          "mesh3d": [
           {
            "colorbar": {
             "outlinewidth": 0,
             "ticks": ""
            },
            "type": "mesh3d"
           }
          ],
          "parcoords": [
           {
            "line": {
             "colorbar": {
              "outlinewidth": 0,
              "ticks": ""
             }
            },
            "type": "parcoords"
           }
          ],
          "pie": [
           {
            "automargin": true,
            "type": "pie"
           }
          ],
          "scatter": [
           {
            "fillpattern": {
             "fillmode": "overlay",
             "size": 10,
             "solidity": 0.2
            },
            "type": "scatter"
           }
          ],
          "scatter3d": [
           {
            "line": {
             "colorbar": {
              "outlinewidth": 0,
              "ticks": ""
             }
            },
            "marker": {
             "colorbar": {
              "outlinewidth": 0,
              "ticks": ""
             }
            },
            "type": "scatter3d"
           }
          ],
          "scattercarpet": [
           {
            "marker": {
             "colorbar": {
              "outlinewidth": 0,
              "ticks": ""
             }
            },
            "type": "scattercarpet"
           }
          ],
          "scattergeo": [
           {
            "marker": {
             "colorbar": {
              "outlinewidth": 0,
              "ticks": ""
             }
            },
            "type": "scattergeo"
           }
          ],
          "scattergl": [
           {
            "marker": {
             "colorbar": {
              "outlinewidth": 0,
              "ticks": ""
             }
            },
            "type": "scattergl"
           }
          ],
          "scattermapbox": [
           {
            "marker": {
             "colorbar": {
              "outlinewidth": 0,
              "ticks": ""
             }
            },
            "type": "scattermapbox"
           }
          ],
          "scatterpolar": [
           {
            "marker": {
             "colorbar": {
              "outlinewidth": 0,
              "ticks": ""
             }
            },
            "type": "scatterpolar"
           }
          ],
          "scatterpolargl": [
           {
            "marker": {
             "colorbar": {
              "outlinewidth": 0,
              "ticks": ""
             }
            },
            "type": "scatterpolargl"
           }
          ],
          "scatterternary": [
           {
            "marker": {
             "colorbar": {
              "outlinewidth": 0,
              "ticks": ""
             }
            },
            "type": "scatterternary"
           }
          ],
          "surface": [
           {
            "colorbar": {
             "outlinewidth": 0,
             "ticks": ""
            },
            "colorscale": [
             [
              0,
              "#0d0887"
             ],
             [
              0.1111111111111111,
              "#46039f"
             ],
             [
              0.2222222222222222,
              "#7201a8"
             ],
             [
              0.3333333333333333,
              "#9c179e"
             ],
             [
              0.4444444444444444,
              "#bd3786"
             ],
             [
              0.5555555555555556,
              "#d8576b"
             ],
             [
              0.6666666666666666,
              "#ed7953"
             ],
             [
              0.7777777777777778,
              "#fb9f3a"
             ],
             [
              0.8888888888888888,
              "#fdca26"
             ],
             [
              1,
              "#f0f921"
             ]
            ],
            "type": "surface"
           }
          ],
          "table": [
           {
            "cells": {
             "fill": {
              "color": "#EBF0F8"
             },
             "line": {
              "color": "white"
             }
            },
            "header": {
             "fill": {
              "color": "#C8D4E3"
             },
             "line": {
              "color": "white"
             }
            },
            "type": "table"
           }
          ]
         },
         "layout": {
          "annotationdefaults": {
           "arrowcolor": "#2a3f5f",
           "arrowhead": 0,
           "arrowwidth": 1
          },
          "autotypenumbers": "strict",
          "coloraxis": {
           "colorbar": {
            "outlinewidth": 0,
            "ticks": ""
           }
          },
          "colorscale": {
           "diverging": [
            [
             0,
             "#8e0152"
            ],
            [
             0.1,
             "#c51b7d"
            ],
            [
             0.2,
             "#de77ae"
            ],
            [
             0.3,
             "#f1b6da"
            ],
            [
             0.4,
             "#fde0ef"
            ],
            [
             0.5,
             "#f7f7f7"
            ],
            [
             0.6,
             "#e6f5d0"
            ],
            [
             0.7,
             "#b8e186"
            ],
            [
             0.8,
             "#7fbc41"
            ],
            [
             0.9,
             "#4d9221"
            ],
            [
             1,
             "#276419"
            ]
           ],
           "sequential": [
            [
             0,
             "#0d0887"
            ],
            [
             0.1111111111111111,
             "#46039f"
            ],
            [
             0.2222222222222222,
             "#7201a8"
            ],
            [
             0.3333333333333333,
             "#9c179e"
            ],
            [
             0.4444444444444444,
             "#bd3786"
            ],
            [
             0.5555555555555556,
             "#d8576b"
            ],
            [
             0.6666666666666666,
             "#ed7953"
            ],
            [
             0.7777777777777778,
             "#fb9f3a"
            ],
            [
             0.8888888888888888,
             "#fdca26"
            ],
            [
             1,
             "#f0f921"
            ]
           ],
           "sequentialminus": [
            [
             0,
             "#0d0887"
            ],
            [
             0.1111111111111111,
             "#46039f"
            ],
            [
             0.2222222222222222,
             "#7201a8"
            ],
            [
             0.3333333333333333,
             "#9c179e"
            ],
            [
             0.4444444444444444,
             "#bd3786"
            ],
            [
             0.5555555555555556,
             "#d8576b"
            ],
            [
             0.6666666666666666,
             "#ed7953"
            ],
            [
             0.7777777777777778,
             "#fb9f3a"
            ],
            [
             0.8888888888888888,
             "#fdca26"
            ],
            [
             1,
             "#f0f921"
            ]
           ]
          },
          "colorway": [
           "#636efa",
           "#EF553B",
           "#00cc96",
           "#ab63fa",
           "#FFA15A",
           "#19d3f3",
           "#FF6692",
           "#B6E880",
           "#FF97FF",
           "#FECB52"
          ],
          "font": {
           "color": "#2a3f5f"
          },
          "geo": {
           "bgcolor": "white",
           "lakecolor": "white",
           "landcolor": "#E5ECF6",
           "showlakes": true,
           "showland": true,
           "subunitcolor": "white"
          },
          "hoverlabel": {
           "align": "left"
          },
          "hovermode": "closest",
          "mapbox": {
           "style": "light"
          },
          "paper_bgcolor": "white",
          "plot_bgcolor": "#E5ECF6",
          "polar": {
           "angularaxis": {
            "gridcolor": "white",
            "linecolor": "white",
            "ticks": ""
           },
           "bgcolor": "#E5ECF6",
           "radialaxis": {
            "gridcolor": "white",
            "linecolor": "white",
            "ticks": ""
           }
          },
          "scene": {
           "xaxis": {
            "backgroundcolor": "#E5ECF6",
            "gridcolor": "white",
            "gridwidth": 2,
            "linecolor": "white",
            "showbackground": true,
            "ticks": "",
            "zerolinecolor": "white"
           },
           "yaxis": {
            "backgroundcolor": "#E5ECF6",
            "gridcolor": "white",
            "gridwidth": 2,
            "linecolor": "white",
            "showbackground": true,
            "ticks": "",
            "zerolinecolor": "white"
           },
           "zaxis": {
            "backgroundcolor": "#E5ECF6",
            "gridcolor": "white",
            "gridwidth": 2,
            "linecolor": "white",
            "showbackground": true,
            "ticks": "",
            "zerolinecolor": "white"
           }
          },
          "shapedefaults": {
           "line": {
            "color": "#2a3f5f"
           }
          },
          "ternary": {
           "aaxis": {
            "gridcolor": "white",
            "linecolor": "white",
            "ticks": ""
           },
           "baxis": {
            "gridcolor": "white",
            "linecolor": "white",
            "ticks": ""
           },
           "bgcolor": "#E5ECF6",
           "caxis": {
            "gridcolor": "white",
            "linecolor": "white",
            "ticks": ""
           }
          },
          "title": {
           "x": 0.05
          },
          "xaxis": {
           "automargin": true,
           "gridcolor": "white",
           "linecolor": "white",
           "ticks": "",
           "title": {
            "standoff": 15
           },
           "zerolinecolor": "white",
           "zerolinewidth": 2
          },
          "yaxis": {
           "automargin": true,
           "gridcolor": "white",
           "linecolor": "white",
           "ticks": "",
           "title": {
            "standoff": 15
           },
           "zerolinecolor": "white",
           "zerolinewidth": 2
          }
         }
        },
        "xaxis": {
         "range": [
          "1962-01",
          "2022-12"
         ],
         "title": {
          "text": "Date"
         }
        },
        "yaxis": {
         "tickformat": ".0f",
         "title": {
          "text": "Yield (%)"
         }
        }
       }
      }
     },
     "metadata": {},
     "output_type": "display_data"
    }
   ],
   "source": [
    "fig = go.Figure()\n",
    "series_to_plot = ['DGS3MO','DGS1','DGS10']\n",
    "\n",
    "trace1= go.Scatter(x=df.index.astype(str), y=df['DGS1'], mode=\"lines\", name='1-yr Treasury',\n",
    "                hovertemplate=\"1-yr Treasury<br>%{x}: %{y:.1f}%<extra></extra>\")\n",
    "fig.add_trace(trace1)\n",
    "\n",
    "trace10= go.Scatter(x=df.index.astype(str), y=df['DGS10'], mode=\"lines\", name='10-yr Treasury',\n",
    "                hovertemplate=\"10-yr Treasury<br>%{x}: %{y:.1f}%<extra></extra>\")\n",
    "fig.add_trace(trace10)\n",
    "\n",
    "fig.update_yaxes(title='Yield (%)',tickformat=\".0f\")\n",
    "fig.update_xaxes(title='Date')\n",
    "fig.update_layout(xaxis_range=[str(min(df.index)),str(max(df.index))])\n",
    "fig.update_layout(legend=dict(yanchor=\"top\", y =0.99, xanchor=\"left\", x=0.6))\n",
    "# add nber recession indicators\n",
    "fig.update_layout(shapes=dict_list)\n",
    "fig.show()"
   ]
  },
  {
   "cell_type": "markdown",
   "metadata": {},
   "source": [
    "## Bootstrapping"
   ]
  },
  {
   "cell_type": "code",
   "execution_count": 172,
   "metadata": {},
   "outputs": [],
   "source": [
    "import numpy as np\n",
    "import pandas as pd\n",
    "A = [97.5, 0, 0.5, 100]\n",
    "B = [95, 0, 1.0, 100]\n",
    "C = [955, 0.025, 1.5, 1000]\n",
    "D = [1000, 0.0575, 2.0, 1000]\n",
    "\n",
    "bonds = np.row_stack((A, B, C, D))"
   ]
  },
  {
   "cell_type": "code",
   "execution_count": 173,
   "metadata": {},
   "outputs": [
    {
     "data": {
      "text/html": [
       "<div>\n",
       "<style scoped>\n",
       "    .dataframe tbody tr th:only-of-type {\n",
       "        vertical-align: middle;\n",
       "    }\n",
       "\n",
       "    .dataframe tbody tr th {\n",
       "        vertical-align: top;\n",
       "    }\n",
       "\n",
       "    .dataframe thead th {\n",
       "        text-align: right;\n",
       "    }\n",
       "</style>\n",
       "<table border=\"1\" class=\"dataframe\">\n",
       "  <thead>\n",
       "    <tr style=\"text-align: right;\">\n",
       "      <th></th>\n",
       "      <th>price</th>\n",
       "      <th>coupon_rate</th>\n",
       "      <th>maturity</th>\n",
       "      <th>face</th>\n",
       "      <th>period</th>\n",
       "    </tr>\n",
       "  </thead>\n",
       "  <tbody>\n",
       "    <tr>\n",
       "      <th>A</th>\n",
       "      <td>97.5</td>\n",
       "      <td>0.0000</td>\n",
       "      <td>0.5</td>\n",
       "      <td>100.0</td>\n",
       "      <td>1.0</td>\n",
       "    </tr>\n",
       "    <tr>\n",
       "      <th>B</th>\n",
       "      <td>95.0</td>\n",
       "      <td>0.0000</td>\n",
       "      <td>1.0</td>\n",
       "      <td>100.0</td>\n",
       "      <td>2.0</td>\n",
       "    </tr>\n",
       "    <tr>\n",
       "      <th>C</th>\n",
       "      <td>955.0</td>\n",
       "      <td>0.0250</td>\n",
       "      <td>1.5</td>\n",
       "      <td>1000.0</td>\n",
       "      <td>3.0</td>\n",
       "    </tr>\n",
       "    <tr>\n",
       "      <th>D</th>\n",
       "      <td>1000.0</td>\n",
       "      <td>0.0575</td>\n",
       "      <td>2.0</td>\n",
       "      <td>1000.0</td>\n",
       "      <td>4.0</td>\n",
       "    </tr>\n",
       "  </tbody>\n",
       "</table>\n",
       "</div>"
      ],
      "text/plain": [
       "    price  coupon_rate  maturity    face  period\n",
       "A    97.5       0.0000       0.5   100.0     1.0\n",
       "B    95.0       0.0000       1.0   100.0     2.0\n",
       "C   955.0       0.0250       1.5  1000.0     3.0\n",
       "D  1000.0       0.0575       2.0  1000.0     4.0"
      ]
     },
     "execution_count": 173,
     "metadata": {},
     "output_type": "execute_result"
    }
   ],
   "source": [
    "df = pd.DataFrame(bonds, \n",
    "        columns = ['price', 'coupon_rate', 'maturity','face'], \n",
    "        index=['A','B','C','D'])\n",
    "df['period'] = df.maturity*2\n",
    "df"
   ]
  },
  {
   "cell_type": "code",
   "execution_count": 174,
   "metadata": {},
   "outputs": [
    {
     "data": {
      "text/html": [
       "<div>\n",
       "<style scoped>\n",
       "    .dataframe tbody tr th:only-of-type {\n",
       "        vertical-align: middle;\n",
       "    }\n",
       "\n",
       "    .dataframe tbody tr th {\n",
       "        vertical-align: top;\n",
       "    }\n",
       "\n",
       "    .dataframe thead th {\n",
       "        text-align: right;\n",
       "    }\n",
       "</style>\n",
       "<table border=\"1\" class=\"dataframe\">\n",
       "  <thead>\n",
       "    <tr style=\"text-align: right;\">\n",
       "      <th></th>\n",
       "      <th>bond</th>\n",
       "      <th>price</th>\n",
       "      <th>coupon_rate</th>\n",
       "      <th>maturity</th>\n",
       "      <th>face</th>\n",
       "      <th>period</th>\n",
       "    </tr>\n",
       "  </thead>\n",
       "  <tbody>\n",
       "    <tr>\n",
       "      <th>1</th>\n",
       "      <td>A</td>\n",
       "      <td>97.5</td>\n",
       "      <td>0.0000</td>\n",
       "      <td>0.5</td>\n",
       "      <td>100.0</td>\n",
       "      <td>1.0</td>\n",
       "    </tr>\n",
       "    <tr>\n",
       "      <th>2</th>\n",
       "      <td>B</td>\n",
       "      <td>95.0</td>\n",
       "      <td>0.0000</td>\n",
       "      <td>1.0</td>\n",
       "      <td>100.0</td>\n",
       "      <td>2.0</td>\n",
       "    </tr>\n",
       "    <tr>\n",
       "      <th>3</th>\n",
       "      <td>C</td>\n",
       "      <td>955.0</td>\n",
       "      <td>0.0250</td>\n",
       "      <td>1.5</td>\n",
       "      <td>1000.0</td>\n",
       "      <td>3.0</td>\n",
       "    </tr>\n",
       "    <tr>\n",
       "      <th>4</th>\n",
       "      <td>D</td>\n",
       "      <td>1000.0</td>\n",
       "      <td>0.0575</td>\n",
       "      <td>2.0</td>\n",
       "      <td>1000.0</td>\n",
       "      <td>4.0</td>\n",
       "    </tr>\n",
       "  </tbody>\n",
       "</table>\n",
       "</div>"
      ],
      "text/plain": [
       "  bond   price  coupon_rate  maturity    face  period\n",
       "1    A    97.5       0.0000       0.5   100.0     1.0\n",
       "2    B    95.0       0.0000       1.0   100.0     2.0\n",
       "3    C   955.0       0.0250       1.5  1000.0     3.0\n",
       "4    D  1000.0       0.0575       2.0  1000.0     4.0"
      ]
     },
     "execution_count": 174,
     "metadata": {},
     "output_type": "execute_result"
    }
   ],
   "source": [
    "df=df.reset_index()\n",
    "df.index = df.index+1\n",
    "df.columns = ['bond', 'price', 'coupon_rate', 'maturity','face', 'period']\n",
    "df"
   ]
  },
  {
   "cell_type": "code",
   "execution_count": 175,
   "metadata": {},
   "outputs": [
    {
     "data": {
      "text/plain": [
       "0.02564102564102555"
      ]
     },
     "execution_count": 175,
     "metadata": {},
     "output_type": "execute_result"
    }
   ],
   "source": [
    "# Find z1 \n",
    "\n",
    "spot_rates = []\n",
    "nop = 2\n",
    "t = 1\n",
    "p      = df.loc[t,'price']\n",
    "face   = df.loc[t,'face']\n",
    "cr     = df.loc[t,'coupon_rate']\n",
    "period = df.loc[t,'period']\n",
    "coupon = face*cr/nop\n",
    "cf_maturity = face + coupon\n",
    "\n",
    "z1 = (cf_maturity / p )**(1/period) - 1\n",
    "spot_rates.append(z1)\n",
    "z1\n"
   ]
  },
  {
   "cell_type": "code",
   "execution_count": 176,
   "metadata": {},
   "outputs": [
    {
     "data": {
      "text/plain": [
       "0.025978352085153977"
      ]
     },
     "execution_count": 176,
     "metadata": {},
     "output_type": "execute_result"
    }
   ],
   "source": [
    "# Find z2\n",
    "t = 2\n",
    "p      = df.loc[t,'price']\n",
    "face   = df.loc[t,'face']\n",
    "cr     = df.loc[t,'coupon_rate']\n",
    "period = df.loc[t,'period']\n",
    "coupon = face*cr/nop\n",
    "cf_maturity = face + coupon\n",
    "\n",
    "z2 = (cf_maturity / p )**(1/period) - 1\n",
    "spot_rates.append(z2)\n",
    "z2\n",
    "\n"
   ]
  },
  {
   "cell_type": "code",
   "execution_count": 177,
   "metadata": {},
   "outputs": [
    {
     "name": "stdout",
     "output_type": "stream",
     "text": [
      "0\n",
      "1\n"
     ]
    },
    {
     "data": {
      "text/plain": [
       "0.028390767355670476"
      ]
     },
     "execution_count": 177,
     "metadata": {},
     "output_type": "execute_result"
    }
   ],
   "source": [
    "# Find z3 \n",
    "\n",
    "t = 3\n",
    "p      = df.loc[t,'price']\n",
    "face   = df.loc[t,'face']\n",
    "cr     = df.loc[t,'coupon_rate']\n",
    "period = int(df.loc[t,'period'])\n",
    "coupon = face*cr/nop\n",
    "cf_maturity = face + coupon\n",
    "\n",
    "pv_coupons = 0.0\n",
    "for i in range(period-1):\n",
    "    print(i)\n",
    "    pv_coupons = pv_coupons + coupon / (1+spot_rates[i])**(i+1)\n",
    "x = p - pv_coupons\n",
    "z3 = (cf_maturity / x )**(1/period) - 1\n",
    "spot_rates.append(z3)\n",
    "z3\n",
    "\n"
   ]
  },
  {
   "cell_type": "code",
   "execution_count": 178,
   "metadata": {},
   "outputs": [
    {
     "name": "stdout",
     "output_type": "stream",
     "text": [
      "0\n",
      "1\n",
      "2\n"
     ]
    },
    {
     "data": {
      "text/plain": [
       "0.02882263912764249"
      ]
     },
     "execution_count": 178,
     "metadata": {},
     "output_type": "execute_result"
    }
   ],
   "source": [
    "# Find z4 \n",
    "t = 4\n",
    "p      = df.loc[t,'price']\n",
    "face   = df.loc[t,'face']\n",
    "cr     = df.loc[t,'coupon_rate']\n",
    "period = int(df.loc[t,'period'])\n",
    "coupon = face*cr/nop\n",
    "cf_maturity = face + coupon\n",
    "\n",
    "pv_coupons = 0.0\n",
    "for i in range(period-1):\n",
    "    print(i)\n",
    "    pv_coupons = pv_coupons + coupon / (1+spot_rates[i])**(i+1)\n",
    "x = p - pv_coupons\n",
    "z4 = (cf_maturity / x )**(1/period) - 1\n",
    "spot_rates.append(z4)\n",
    "z4"
   ]
  },
  {
   "cell_type": "markdown",
   "metadata": {},
   "source": [
    "### Find new bond price"
   ]
  },
  {
   "cell_type": "code",
   "execution_count": 179,
   "metadata": {},
   "outputs": [
    {
     "data": {
      "text/plain": [
       "array([0.975     , 0.95      , 0.91944444, 0.89256109])"
      ]
     },
     "execution_count": 179,
     "metadata": {},
     "output_type": "execute_result"
    }
   ],
   "source": [
    "cfs = np.array([0,100,0,1100])\n",
    "discount_factors = np.array([1/(1+spot_rates[i])**(i+1) for i in range(len(spot_rates))])\n",
    "discount_factors"
   ]
  },
  {
   "cell_type": "code",
   "execution_count": 180,
   "metadata": {},
   "outputs": [
    {
     "data": {
      "text/plain": [
       "1076.8171999459971"
      ]
     },
     "execution_count": 180,
     "metadata": {},
     "output_type": "execute_result"
    }
   ],
   "source": [
    "cfs @ discount_factors"
   ]
  },
  {
   "cell_type": "markdown",
   "metadata": {},
   "source": [
    "### Functions to generalize bootstrapping and pricing"
   ]
  },
  {
   "cell_type": "code",
   "execution_count": 181,
   "metadata": {},
   "outputs": [
    {
     "data": {
      "text/plain": [
       "[0.02564102564102555,\n",
       " 0.025978352085153977,\n",
       " 0.028390767355670476,\n",
       " 0.02882263912764249]"
      ]
     },
     "execution_count": 181,
     "metadata": {},
     "output_type": "execute_result"
    }
   ],
   "source": [
    "def bootstrap(d, nop):\n",
    "    ''' \n",
    "    d: a dataset with prices, face value, coupon_rate, period of maturity\n",
    "    nop: compounding period (ie., 1 = annual, 2=semiannual)\n",
    "    '''\n",
    "    spot_rates = []\n",
    "    for t in d.index:\n",
    "        p      = d.loc[t,'price']\n",
    "        face   = d.loc[t,'face']\n",
    "        cr     = d.loc[t,'coupon_rate']\n",
    "        period = int(d.loc[t,'period'])\n",
    "        coupon = face*cr/nop\n",
    "        cf_maturity = face + coupon\n",
    "\n",
    "        pv_coupons = 0.0\n",
    "        for i in range(period-1):\n",
    "            pv_coupons = pv_coupons + coupon / (1+spot_rates[i])**(i+1)\n",
    "        x = p - pv_coupons\n",
    "        z = (cf_maturity / x )**(1/period) - 1\n",
    "        spot_rates.append(z)\n",
    "    return spot_rates\n",
    "spot_curve = bootstrap(df,2)\n",
    "spot_curve"
   ]
  },
  {
   "cell_type": "code",
   "execution_count": 182,
   "metadata": {},
   "outputs": [
    {
     "data": {
      "text/plain": [
       "1076.8171999459971"
      ]
     },
     "execution_count": 182,
     "metadata": {},
     "output_type": "execute_result"
    }
   ],
   "source": [
    "def spot_pricer(cfs, spot):\n",
    "    ''' \n",
    "    cfs:  list of cash flows at each period\n",
    "    spot: list of spot rates at each period\n",
    "    cfs should be the same length as spot\n",
    "    '''\n",
    "    cfs = np.array(cfs)\n",
    "    discount_factors = np.array([1/(1+spot[i])**(i+1) for i in range(len(spot))])\n",
    "    return cfs @ discount_factors\n",
    "spot_pricer([0,100,0,1100], spot_curve)"
   ]
  },
  {
   "cell_type": "code",
   "execution_count": 184,
   "metadata": {},
   "outputs": [
    {
     "name": "stdout",
     "output_type": "stream",
     "text": [
      "The bond cash flows for bond A are:  [100.   0.   0.   0.]\n",
      "The fair price for A is: $97.50\n"
     ]
    }
   ],
   "source": [
    "# Check that the prices are consistent with the spot curve\n",
    "\n",
    "# pick a bond\n",
    "BOND_ID = 'A'\n",
    "bond_dict = {'A': 1, 'B':2, 'C':3, 'D':4}\n",
    "def cf_generator(bond_id):\n",
    "    i = bond_dict[bond_id]\n",
    "    nop = 2\n",
    "    face   = df.loc[i,'face']\n",
    "    cr     = df.loc[i,'coupon_rate']\n",
    "    period = int(df.loc[i,'period'])\n",
    "    coupon = face*cr/nop\n",
    "    cf_maturity = face + coupon\n",
    "    cfs =  np.zeros(len(spot_curve))\n",
    "    for i in range(period-1):\n",
    "        cfs[i] = coupon\n",
    "    cfs[period-1] = cf_maturity\n",
    "    print('The bond cash flows for bond ' + bond_id + ' are: ', cfs)\n",
    "    return cfs\n",
    "cfs = cf_generator(BOND_ID)\n",
    "\n",
    "p = spot_pricer(cfs.tolist(),spot_curve)\n",
    "print('The fair price for ' + BOND_ID + f' is: ${p:,.2f}')\n"
   ]
  },
  {
   "cell_type": "markdown",
   "metadata": {},
   "source": [
    "### Arbitrage and replicating portfolio"
   ]
  },
  {
   "cell_type": "markdown",
   "metadata": {},
   "source": [
    "\n",
    "Example #1 (2-period bond)"
   ]
  },
  {
   "cell_type": "code",
   "execution_count": 223,
   "metadata": {},
   "outputs": [
    {
     "data": {
      "text/plain": [
       "123.87500000000003"
      ]
     },
     "execution_count": 223,
     "metadata": {},
     "output_type": "execute_result"
    }
   ],
   "source": [
    "spot_pricer([15,115,0,0], spot_curve)"
   ]
  },
  {
   "cell_type": "markdown",
   "metadata": {},
   "source": [
    "Example #2 (4-period bond)"
   ]
  },
  {
   "cell_type": "code",
   "execution_count": 205,
   "metadata": {},
   "outputs": [
    {
     "data": {
      "text/plain": [
       "array([   0,  100,    0, 1100])"
      ]
     },
     "execution_count": 205,
     "metadata": {},
     "output_type": "execute_result"
    }
   ],
   "source": [
    "# Target bond cash-flows\n",
    "cfs = np.array([0,100,0,1100])\n",
    "cfs"
   ]
  },
  {
   "cell_type": "code",
   "execution_count": 206,
   "metadata": {},
   "outputs": [
    {
     "name": "stdout",
     "output_type": "stream",
     "text": [
      "0\n",
      "A\n",
      "The bond cash flows for bond A are:  [100.   0.   0.   0.]\n",
      "1\n",
      "B\n",
      "The bond cash flows for bond B are:  [  0. 100.   0.   0.]\n",
      "2\n",
      "C\n",
      "The bond cash flows for bond C are:  [  12.5   12.5 1012.5    0. ]\n",
      "3\n",
      "D\n",
      "The bond cash flows for bond D are:  [  28.75   28.75   28.75 1028.75]\n"
     ]
    },
    {
     "data": {
      "text/plain": [
       "array([[ 100.  ,    0.  ,    0.  ,    0.  ],\n",
       "       [   0.  ,  100.  ,    0.  ,    0.  ],\n",
       "       [  12.5 ,   12.5 , 1012.5 ,    0.  ],\n",
       "       [  28.75,   28.75,   28.75, 1028.75]])"
      ]
     },
     "execution_count": 206,
     "metadata": {},
     "output_type": "execute_result"
    }
   ],
   "source": [
    "\n",
    "# matrix of cash flows for bonds A-D\n",
    "CF = np.zeros((len(df), len(df)))\n",
    "for j, id in enumerate(['A','B','C','D']):\n",
    "    print(j)\n",
    "    print(id)\n",
    "    CF[j] = cf_generator(id)\n",
    "CF"
   ]
  },
  {
   "cell_type": "code",
   "execution_count": 208,
   "metadata": {},
   "outputs": [
    {
     "data": {
      "text/plain": [
       "array([-0.3036167 ,  0.6963833 , -0.03036167,  1.06925881])"
      ]
     },
     "execution_count": 208,
     "metadata": {},
     "output_type": "execute_result"
    }
   ],
   "source": [
    "# Solve the system of equations\n",
    "portfolio = cfs @ np.linalg.inv(CF)\n",
    "portfolio"
   ]
  },
  {
   "cell_type": "code",
   "execution_count": 216,
   "metadata": {},
   "outputs": [
    {
     "data": {
      "text/plain": [
       "array([   0,  100,    0, 1100])"
      ]
     },
     "execution_count": 216,
     "metadata": {},
     "output_type": "execute_result"
    }
   ],
   "source": [
    "# Check that replicating portfolio delivers same cash flows\n",
    "repl_cfs = portfolio @ CF \n",
    "repl_cfs.astype(int)"
   ]
  },
  {
   "cell_type": "code",
   "execution_count": 218,
   "metadata": {},
   "outputs": [
    {
     "data": {
      "text/plain": [
       "1076.8171999459971"
      ]
     },
     "execution_count": 218,
     "metadata": {},
     "output_type": "execute_result"
    }
   ],
   "source": [
    "# Price of replicating portfolio\n",
    "repl_price = portfolio @ df.price\n",
    "repl_price"
   ]
  },
  {
   "cell_type": "code",
   "execution_count": 225,
   "metadata": {},
   "outputs": [
    {
     "data": {
      "text/plain": [
       "26.817199945997118"
      ]
     },
     "execution_count": 225,
     "metadata": {},
     "output_type": "execute_result"
    }
   ],
   "source": [
    "profit = repl_price-1050\n",
    "profit"
   ]
  }
 ],
 "metadata": {
  "kernelspec": {
   "display_name": "Python 3.10.6 ('venv': venv)",
   "language": "python",
   "name": "python3"
  },
  "language_info": {
   "codemirror_mode": {
    "name": "ipython",
    "version": 3
   },
   "file_extension": ".py",
   "mimetype": "text/x-python",
   "name": "python",
   "nbconvert_exporter": "python",
   "pygments_lexer": "ipython3",
   "version": "3.10.6"
  },
  "orig_nbformat": 4,
  "vscode": {
   "interpreter": {
    "hash": "cc788b38d8cb434c82f45ef9d481d0310e17b79321e4c8cbfbfe90f656a3f023"
   }
  }
 },
 "nbformat": 4,
 "nbformat_minor": 2
}
