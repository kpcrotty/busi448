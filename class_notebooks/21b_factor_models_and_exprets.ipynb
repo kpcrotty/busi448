{
 "cells": [
  {
   "attachments": {},
   "cell_type": "markdown",
   "metadata": {},
   "source": [
    "# Factor models and expected returns"
   ]
  },
  {
   "cell_type": "code",
   "execution_count": null,
   "metadata": {},
   "outputs": [],
   "source": [
    "import pandas as pd\n",
    "import numpy as np\n",
    "import statsmodels.api as sm\n",
    "from pandas_datareader import DataReader as pdr\n",
    "import yfinance as yf\n",
    "import plotly.graph_objects as go\n",
    "import plotly.express as px\n"
   ]
  },
  {
   "attachments": {},
   "cell_type": "markdown",
   "metadata": {},
   "source": [
    "Pull factor data"
   ]
  },
  {
   "cell_type": "code",
   "execution_count": 2,
   "metadata": {},
   "outputs": [
    {
     "name": "stderr",
     "output_type": "stream",
     "text": [
      "C:\\Users\\kpc2\\projects\\ipykernel_2596\\275179538.py:2: FutureWarning: The argument 'date_parser' is deprecated and will be removed in a future version. Please use 'date_format' instead, or read your data in as 'object' dtype and then call 'to_datetime'.\n",
      "  ff3 = pdr(\"F-F_Research_Data_Factors\", \"famafrench\", start=1926)\n",
      "C:\\Users\\kpc2\\projects\\ipykernel_2596\\275179538.py:2: FutureWarning: The argument 'date_parser' is deprecated and will be removed in a future version. Please use 'date_format' instead, or read your data in as 'object' dtype and then call 'to_datetime'.\n",
      "  ff3 = pdr(\"F-F_Research_Data_Factors\", \"famafrench\", start=1926)\n",
      "C:\\Users\\kpc2\\projects\\ipykernel_2596\\275179538.py:3: FutureWarning: The argument 'date_parser' is deprecated and will be removed in a future version. Please use 'date_format' instead, or read your data in as 'object' dtype and then call 'to_datetime'.\n",
      "  ff5 = pdr(\"F-F_Research_Data_5_Factors_2x3\", \"famafrench\", start=1964)\n",
      "C:\\Users\\kpc2\\projects\\ipykernel_2596\\275179538.py:3: FutureWarning: The argument 'date_parser' is deprecated and will be removed in a future version. Please use 'date_format' instead, or read your data in as 'object' dtype and then call 'to_datetime'.\n",
      "  ff5 = pdr(\"F-F_Research_Data_5_Factors_2x3\", \"famafrench\", start=1964)\n"
     ]
    }
   ],
   "source": [
    "# Pull data\n",
    "ff3 = pdr(\"F-F_Research_Data_Factors\", \"famafrench\", start=1926)\n",
    "ff5 = pdr(\"F-F_Research_Data_5_Factors_2x3\", \"famafrench\", start=1964)\n",
    "\n",
    "ff3_monthly = ff3[0]/100\n",
    "ff5_monthly = ff5[0]/100\n",
    "\n",
    "ff3_annual  = ff3[1]/100\n",
    "ff5_annual  = ff5[1]/100"
   ]
  },
  {
   "attachments": {},
   "cell_type": "markdown",
   "metadata": {},
   "source": [
    "Estimate factor risk premia as time-series average return (using annual data)"
   ]
  },
  {
   "cell_type": "code",
   "execution_count": 3,
   "metadata": {},
   "outputs": [
    {
     "data": {
      "text/plain": [
       "Mkt-RF    0.0880\n",
       "SMB       0.0270\n",
       "HML       0.0412\n",
       "RMW       0.0362\n",
       "CMA       0.0313\n",
       "dtype: float64"
      ]
     },
     "execution_count": 3,
     "metadata": {},
     "output_type": "execute_result"
    }
   ],
   "source": [
    "# Annual 3 factors from 1926\n",
    "fprem = ff3_annual[[\"Mkt-RF\", \"SMB\", \"HML\"]].mean()\n",
    "\n",
    "# Add annual RNW and CMA factors from 1964\n",
    "fprem = pd.concat((fprem, ff5_annual[[\"RMW\", \"CMA\"]].mean()))\n",
    "factors = fprem.index.to_list()\n",
    "fprem = fprem.round(4)\n",
    "fprem"
   ]
  },
  {
   "cell_type": "markdown",
   "metadata": {},
   "source": [
    "Estimate factor loadings"
   ]
  },
  {
   "cell_type": "code",
   "execution_count": 4,
   "metadata": {},
   "outputs": [],
   "source": [
    "# Function to fetch a yahoo time-series\n",
    "def returns(ticker):\n",
    "    ret = yf.download(ticker, start='2000-01-01', end='2024-12-31', progress=False)\n",
    "    ret = ret[\"Close\"].resample(\"ME\").last()\n",
    "    ret = ret.pct_change()\n",
    "    ret.index = ret.index.to_period('M')\n",
    "    ret.columns = ['ret']\n",
    "    return ret"
   ]
  },
  {
   "cell_type": "code",
   "execution_count": 5,
   "metadata": {},
   "outputs": [
    {
     "name": "stdout",
     "output_type": "stream",
     "text": [
      "YF.download() has changed argument auto_adjust default to True\n"
     ]
    }
   ],
   "source": [
    "# Pull stock returns\n",
    "TICKER = 'IBM'\n",
    "ret = returns('IBM')"
   ]
  },
  {
   "cell_type": "code",
   "execution_count": 6,
   "metadata": {},
   "outputs": [
    {
     "data": {
      "text/html": [
       "<div>\n",
       "<style scoped>\n",
       "    .dataframe tbody tr th:only-of-type {\n",
       "        vertical-align: middle;\n",
       "    }\n",
       "\n",
       "    .dataframe tbody tr th {\n",
       "        vertical-align: top;\n",
       "    }\n",
       "\n",
       "    .dataframe thead tr th {\n",
       "        text-align: left;\n",
       "    }\n",
       "\n",
       "    .dataframe thead tr:last-of-type th {\n",
       "        text-align: right;\n",
       "    }\n",
       "</style>\n",
       "<table border=\"1\" class=\"dataframe\">\n",
       "  <thead>\n",
       "    <tr>\n",
       "      <th>Price</th>\n",
       "      <th>Close</th>\n",
       "      <th>High</th>\n",
       "      <th>Low</th>\n",
       "      <th>Open</th>\n",
       "      <th>Volume</th>\n",
       "    </tr>\n",
       "    <tr>\n",
       "      <th>Ticker</th>\n",
       "      <th>IBM</th>\n",
       "      <th>IBM</th>\n",
       "      <th>IBM</th>\n",
       "      <th>IBM</th>\n",
       "      <th>IBM</th>\n",
       "    </tr>\n",
       "    <tr>\n",
       "      <th>Date</th>\n",
       "      <th></th>\n",
       "      <th></th>\n",
       "      <th></th>\n",
       "      <th></th>\n",
       "      <th></th>\n",
       "    </tr>\n",
       "  </thead>\n",
       "  <tbody>\n",
       "    <tr>\n",
       "      <th>2000-01-03</th>\n",
       "      <td>58.507248</td>\n",
       "      <td>58.507248</td>\n",
       "      <td>56.426713</td>\n",
       "      <td>56.710420</td>\n",
       "      <td>10823694</td>\n",
       "    </tr>\n",
       "    <tr>\n",
       "      <th>2000-01-04</th>\n",
       "      <td>56.521278</td>\n",
       "      <td>57.750688</td>\n",
       "      <td>55.922336</td>\n",
       "      <td>57.498501</td>\n",
       "      <td>8606279</td>\n",
       "    </tr>\n",
       "    <tr>\n",
       "      <th>2000-01-05</th>\n",
       "      <td>58.507248</td>\n",
       "      <td>60.398648</td>\n",
       "      <td>56.552807</td>\n",
       "      <td>56.962607</td>\n",
       "      <td>13318927</td>\n",
       "    </tr>\n",
       "    <tr>\n",
       "      <th>2000-01-06</th>\n",
       "      <td>57.498486</td>\n",
       "      <td>59.988824</td>\n",
       "      <td>57.246299</td>\n",
       "      <td>59.515975</td>\n",
       "      <td>8338607</td>\n",
       "    </tr>\n",
       "    <tr>\n",
       "      <th>2000-01-07</th>\n",
       "      <td>57.246304</td>\n",
       "      <td>59.484455</td>\n",
       "      <td>55.796232</td>\n",
       "      <td>59.137700</td>\n",
       "      <td>12402108</td>\n",
       "    </tr>\n",
       "    <tr>\n",
       "      <th>...</th>\n",
       "      <td>...</td>\n",
       "      <td>...</td>\n",
       "      <td>...</td>\n",
       "      <td>...</td>\n",
       "      <td>...</td>\n",
       "    </tr>\n",
       "    <tr>\n",
       "      <th>2024-12-23</th>\n",
       "      <td>220.461243</td>\n",
       "      <td>222.259277</td>\n",
       "      <td>219.616877</td>\n",
       "      <td>221.335424</td>\n",
       "      <td>2988100</td>\n",
       "    </tr>\n",
       "    <tr>\n",
       "      <th>2024-12-24</th>\n",
       "      <td>222.924835</td>\n",
       "      <td>222.954635</td>\n",
       "      <td>220.073819</td>\n",
       "      <td>220.798999</td>\n",
       "      <td>1186200</td>\n",
       "    </tr>\n",
       "    <tr>\n",
       "      <th>2024-12-26</th>\n",
       "      <td>223.401657</td>\n",
       "      <td>223.908276</td>\n",
       "      <td>221.077147</td>\n",
       "      <td>221.832112</td>\n",
       "      <td>3286500</td>\n",
       "    </tr>\n",
       "    <tr>\n",
       "      <th>2024-12-27</th>\n",
       "      <td>221.305618</td>\n",
       "      <td>222.934764</td>\n",
       "      <td>219.944690</td>\n",
       "      <td>221.663236</td>\n",
       "      <td>1810800</td>\n",
       "    </tr>\n",
       "    <tr>\n",
       "      <th>2024-12-30</th>\n",
       "      <td>218.792374</td>\n",
       "      <td>220.123502</td>\n",
       "      <td>216.209575</td>\n",
       "      <td>219.080448</td>\n",
       "      <td>2095600</td>\n",
       "    </tr>\n",
       "  </tbody>\n",
       "</table>\n",
       "<p>6288 rows × 5 columns</p>\n",
       "</div>"
      ],
      "text/plain": [
       "Price            Close        High         Low        Open    Volume\n",
       "Ticker             IBM         IBM         IBM         IBM       IBM\n",
       "Date                                                                \n",
       "2000-01-03   58.507248   58.507248   56.426713   56.710420  10823694\n",
       "2000-01-04   56.521278   57.750688   55.922336   57.498501   8606279\n",
       "2000-01-05   58.507248   60.398648   56.552807   56.962607  13318927\n",
       "2000-01-06   57.498486   59.988824   57.246299   59.515975   8338607\n",
       "2000-01-07   57.246304   59.484455   55.796232   59.137700  12402108\n",
       "...                ...         ...         ...         ...       ...\n",
       "2024-12-23  220.461243  222.259277  219.616877  221.335424   2988100\n",
       "2024-12-24  222.924835  222.954635  220.073819  220.798999   1186200\n",
       "2024-12-26  223.401657  223.908276  221.077147  221.832112   3286500\n",
       "2024-12-27  221.305618  222.934764  219.944690  221.663236   1810800\n",
       "2024-12-30  218.792374  220.123502  216.209575  219.080448   2095600\n",
       "\n",
       "[6288 rows x 5 columns]"
      ]
     },
     "execution_count": 6,
     "metadata": {},
     "output_type": "execute_result"
    }
   ],
   "source": [
    "yf.download('IBM', start='2000-01-01', end='2024-12-31', progress=False)"
   ]
  },
  {
   "cell_type": "code",
   "execution_count": 7,
   "metadata": {},
   "outputs": [
    {
     "data": {
      "text/html": [
       "<div>\n",
       "<style scoped>\n",
       "    .dataframe tbody tr th:only-of-type {\n",
       "        vertical-align: middle;\n",
       "    }\n",
       "\n",
       "    .dataframe tbody tr th {\n",
       "        vertical-align: top;\n",
       "    }\n",
       "\n",
       "    .dataframe thead th {\n",
       "        text-align: right;\n",
       "    }\n",
       "</style>\n",
       "<table border=\"1\" class=\"dataframe\">\n",
       "  <thead>\n",
       "    <tr style=\"text-align: right;\">\n",
       "      <th></th>\n",
       "      <th>ret</th>\n",
       "      <th>Mkt-RF</th>\n",
       "      <th>SMB</th>\n",
       "      <th>HML</th>\n",
       "      <th>RMW</th>\n",
       "      <th>CMA</th>\n",
       "      <th>RF</th>\n",
       "    </tr>\n",
       "    <tr>\n",
       "      <th>Date</th>\n",
       "      <th></th>\n",
       "      <th></th>\n",
       "      <th></th>\n",
       "      <th></th>\n",
       "      <th></th>\n",
       "      <th></th>\n",
       "      <th></th>\n",
       "    </tr>\n",
       "  </thead>\n",
       "  <tbody>\n",
       "    <tr>\n",
       "      <th>2000-02</th>\n",
       "      <td>-0.083669</td>\n",
       "      <td>0.0245</td>\n",
       "      <td>0.1828</td>\n",
       "      <td>-0.0959</td>\n",
       "      <td>-0.1865</td>\n",
       "      <td>-0.0048</td>\n",
       "      <td>0.0043</td>\n",
       "    </tr>\n",
       "    <tr>\n",
       "      <th>2000-03</th>\n",
       "      <td>0.152068</td>\n",
       "      <td>0.0520</td>\n",
       "      <td>-0.1532</td>\n",
       "      <td>0.0813</td>\n",
       "      <td>0.1179</td>\n",
       "      <td>-0.0159</td>\n",
       "      <td>0.0047</td>\n",
       "    </tr>\n",
       "    <tr>\n",
       "      <th>2000-04</th>\n",
       "      <td>-0.058078</td>\n",
       "      <td>-0.0640</td>\n",
       "      <td>-0.0501</td>\n",
       "      <td>0.0726</td>\n",
       "      <td>0.0766</td>\n",
       "      <td>0.0565</td>\n",
       "      <td>0.0046</td>\n",
       "    </tr>\n",
       "    <tr>\n",
       "      <th>2000-05</th>\n",
       "      <td>-0.036395</td>\n",
       "      <td>-0.0442</td>\n",
       "      <td>-0.0381</td>\n",
       "      <td>0.0475</td>\n",
       "      <td>0.0413</td>\n",
       "      <td>0.0137</td>\n",
       "      <td>0.0050</td>\n",
       "    </tr>\n",
       "    <tr>\n",
       "      <th>2000-06</th>\n",
       "      <td>0.020967</td>\n",
       "      <td>0.0464</td>\n",
       "      <td>0.0992</td>\n",
       "      <td>-0.0842</td>\n",
       "      <td>-0.0831</td>\n",
       "      <td>-0.0295</td>\n",
       "      <td>0.0040</td>\n",
       "    </tr>\n",
       "    <tr>\n",
       "      <th>...</th>\n",
       "      <td>...</td>\n",
       "      <td>...</td>\n",
       "      <td>...</td>\n",
       "      <td>...</td>\n",
       "      <td>...</td>\n",
       "      <td>...</td>\n",
       "      <td>...</td>\n",
       "    </tr>\n",
       "    <tr>\n",
       "      <th>2024-08</th>\n",
       "      <td>0.061194</td>\n",
       "      <td>0.0161</td>\n",
       "      <td>-0.0365</td>\n",
       "      <td>-0.0113</td>\n",
       "      <td>0.0085</td>\n",
       "      <td>0.0086</td>\n",
       "      <td>0.0048</td>\n",
       "    </tr>\n",
       "    <tr>\n",
       "      <th>2024-09</th>\n",
       "      <td>0.093752</td>\n",
       "      <td>0.0174</td>\n",
       "      <td>-0.0102</td>\n",
       "      <td>-0.0259</td>\n",
       "      <td>0.0004</td>\n",
       "      <td>-0.0026</td>\n",
       "      <td>0.0040</td>\n",
       "    </tr>\n",
       "    <tr>\n",
       "      <th>2024-10</th>\n",
       "      <td>-0.064954</td>\n",
       "      <td>-0.0097</td>\n",
       "      <td>-0.0088</td>\n",
       "      <td>0.0089</td>\n",
       "      <td>-0.0138</td>\n",
       "      <td>0.0103</td>\n",
       "      <td>0.0039</td>\n",
       "    </tr>\n",
       "    <tr>\n",
       "      <th>2024-11</th>\n",
       "      <td>0.108757</td>\n",
       "      <td>0.0651</td>\n",
       "      <td>0.0478</td>\n",
       "      <td>-0.0005</td>\n",
       "      <td>-0.0262</td>\n",
       "      <td>-0.0217</td>\n",
       "      <td>0.0040</td>\n",
       "    </tr>\n",
       "    <tr>\n",
       "      <th>2024-12</th>\n",
       "      <td>-0.031485</td>\n",
       "      <td>-0.0317</td>\n",
       "      <td>-0.0387</td>\n",
       "      <td>-0.0295</td>\n",
       "      <td>0.0182</td>\n",
       "      <td>-0.0110</td>\n",
       "      <td>0.0037</td>\n",
       "    </tr>\n",
       "  </tbody>\n",
       "</table>\n",
       "<p>299 rows × 7 columns</p>\n",
       "</div>"
      ],
      "text/plain": [
       "              ret  Mkt-RF     SMB     HML     RMW     CMA      RF\n",
       "Date                                                             \n",
       "2000-02 -0.083669  0.0245  0.1828 -0.0959 -0.1865 -0.0048  0.0043\n",
       "2000-03  0.152068  0.0520 -0.1532  0.0813  0.1179 -0.0159  0.0047\n",
       "2000-04 -0.058078 -0.0640 -0.0501  0.0726  0.0766  0.0565  0.0046\n",
       "2000-05 -0.036395 -0.0442 -0.0381  0.0475  0.0413  0.0137  0.0050\n",
       "2000-06  0.020967  0.0464  0.0992 -0.0842 -0.0831 -0.0295  0.0040\n",
       "...           ...     ...     ...     ...     ...     ...     ...\n",
       "2024-08  0.061194  0.0161 -0.0365 -0.0113  0.0085  0.0086  0.0048\n",
       "2024-09  0.093752  0.0174 -0.0102 -0.0259  0.0004 -0.0026  0.0040\n",
       "2024-10 -0.064954 -0.0097 -0.0088  0.0089 -0.0138  0.0103  0.0039\n",
       "2024-11  0.108757  0.0651  0.0478 -0.0005 -0.0262 -0.0217  0.0040\n",
       "2024-12 -0.031485 -0.0317 -0.0387 -0.0295  0.0182 -0.0110  0.0037\n",
       "\n",
       "[299 rows x 7 columns]"
      ]
     },
     "execution_count": 7,
     "metadata": {},
     "output_type": "execute_result"
    }
   ],
   "source": [
    "# Add in factor returns and risk-free rate\n",
    "df = pd.merge(ret,ff5_monthly, how=\"left\",left_index=True,right_index=True)\n",
    "df = df.dropna()\n",
    "df"
   ]
  },
  {
   "cell_type": "code",
   "execution_count": null,
   "metadata": {},
   "outputs": [],
   "source": [
    "# Calculate excess return\n",
    "df['xret'] = df.ret - df.RF "
   ]
  },
  {
   "cell_type": "code",
   "execution_count": 9,
   "metadata": {},
   "outputs": [
    {
     "data": {
      "text/plain": [
       "Mkt-RF    0.74\n",
       "SMB      -0.17\n",
       "HML       0.26\n",
       "RMW       0.22\n",
       "CMA       0.32\n",
       "dtype: float64"
      ]
     },
     "execution_count": 9,
     "metadata": {},
     "output_type": "execute_result"
    }
   ],
   "source": [
    "# Estimate factor loadings using last 60 months\n",
    "result = sm.OLS(df.ret.iloc[-60:], sm.add_constant(df[factors].iloc[-60:])).fit()\n",
    "betas = result.params[1:]\n",
    "betas = np.round(betas, 2)\n",
    "betas"
   ]
  },
  {
   "attachments": {},
   "cell_type": "markdown",
   "metadata": {},
   "source": [
    "Calculate expected return using \n",
    "1. estimated factor loadings (`betas`)\n",
    "2. estimated factor risk premia (`fprem`)\n",
    "3. risk-free rate (`rf`)"
   ]
  },
  {
   "cell_type": "code",
   "execution_count": 10,
   "metadata": {},
   "outputs": [
    {
     "data": {
      "text/plain": [
       "0.0433"
      ]
     },
     "execution_count": 10,
     "metadata": {},
     "output_type": "execute_result"
    }
   ],
   "source": [
    "# Most recent risk-free rate (in decimal notation)\n",
    "rf = pdr(\"DGS3MO\", \"fred\", start=1920).iloc[-1]/100\n",
    "rf = rf.iloc[0]\n",
    "rf"
   ]
  },
  {
   "cell_type": "code",
   "execution_count": 11,
   "metadata": {},
   "outputs": [
    {
     "name": "stdout",
     "output_type": "stream",
     "text": [
      "The estimated expected return for IBM is:\t  13.3%\n"
     ]
    }
   ],
   "source": [
    "# Expected return\n",
    "expret = rf + betas @ fprem\n",
    "print(f'The estimated expected return for {TICKER} is:\\t {expret: .1%}')"
   ]
  },
  {
   "cell_type": "code",
   "execution_count": null,
   "metadata": {},
   "outputs": [],
   "source": []
  }
 ],
 "metadata": {
  "kernelspec": {
   "display_name": "base",
   "language": "python",
   "name": "python3"
  },
  "language_info": {
   "codemirror_mode": {
    "name": "ipython",
    "version": 3
   },
   "file_extension": ".py",
   "mimetype": "text/x-python",
   "name": "python",
   "nbconvert_exporter": "python",
   "pygments_lexer": "ipython3",
   "version": "3.12.8"
  },
  "orig_nbformat": 4
 },
 "nbformat": 4,
 "nbformat_minor": 2
}
