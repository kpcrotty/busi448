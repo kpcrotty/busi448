{
 "cells": [
  {
   "attachments": {},
   "cell_type": "markdown",
   "metadata": {},
   "source": [
    "# Factor models and expected returns"
   ]
  },
  {
   "cell_type": "code",
   "execution_count": 1,
   "metadata": {},
   "outputs": [],
   "source": [
    "import pandas as pd\n",
    "import numpy as np\n",
    "import statsmodels.api as sm\n",
    "from pandas_datareader import DataReader as pdr\n",
    "import yfinance as yf\n",
    "import plotly.graph_objects as go\n",
    "import plotly.express as px\n"
   ]
  },
  {
   "attachments": {},
   "cell_type": "markdown",
   "metadata": {},
   "source": [
    "Pull factor data"
   ]
  },
  {
   "cell_type": "code",
   "execution_count": 2,
   "metadata": {},
   "outputs": [],
   "source": [
    "# Pull data\n",
    "ff3 = pdr(\"F-F_Research_Data_Factors\", \"famafrench\", start=1926)\n",
    "ff5 = pdr(\"F-F_Research_Data_5_Factors_2x3\", \"famafrench\", start=1964)\n",
    "\n",
    "ff3_monthly = ff3[0]/100\n",
    "ff5_monthly = ff5[0]/100\n",
    "\n",
    "ff3_annual  = ff3[1]/100\n",
    "ff5_annual  = ff5[1]/100"
   ]
  },
  {
   "attachments": {},
   "cell_type": "markdown",
   "metadata": {},
   "source": [
    "Estimate factor risk premia as time-series average return (using annual data)"
   ]
  },
  {
   "cell_type": "code",
   "execution_count": 3,
   "metadata": {},
   "outputs": [
    {
     "data": {
      "text/plain": [
       "Mkt-RF    0.0855\n",
       "SMB       0.0292\n",
       "HML       0.0444\n",
       "RMW       0.0353\n",
       "CMA       0.0375\n",
       "dtype: float64"
      ]
     },
     "execution_count": 3,
     "metadata": {},
     "output_type": "execute_result"
    }
   ],
   "source": [
    "# Annual 3 factors from 1926\n",
    "fprem = ff3_annual[[\"Mkt-RF\", \"SMB\", \"HML\"]].mean()\n",
    "\n",
    "# Add annual RNW and CMA factors from 1964\n",
    "fprem = pd.concat((fprem, ff5_annual[[\"RMW\", \"CMA\"]].mean()))\n",
    "factors = fprem.index.to_list()\n",
    "fprem = fprem.round(4)\n",
    "fprem"
   ]
  },
  {
   "cell_type": "markdown",
   "metadata": {},
   "source": [
    "Estimate factor loadings"
   ]
  },
  {
   "cell_type": "code",
   "execution_count": 4,
   "metadata": {},
   "outputs": [],
   "source": [
    "# Function to fetch a yahoo time-series\n",
    "def returns(ticker):\n",
    "    ret = yf.download(ticker, start='2000-01-01', progress=False)\n",
    "    ret.index = ret.index.to_period('D')\n",
    "    ret = ret[\"Adj Close\"].resample(\"M\").last()\n",
    "    ret = ret.pct_change()\n",
    "    # ret.index = ret.index.to_period(\"M\")\n",
    "    ret.name = 'ret'\n",
    "    return ret"
   ]
  },
  {
   "cell_type": "code",
   "execution_count": 5,
   "metadata": {},
   "outputs": [
    {
     "name": "stderr",
     "output_type": "stream",
     "text": [
      "d:\\bbcx-investments-quarto\\quarto\\venv\\lib\\site-packages\\pandas\\core\\arrays\\datetimes.py:1162: UserWarning: Converting to PeriodArray/Index representation will drop timezone information.\n",
      "  warnings.warn(\n"
     ]
    }
   ],
   "source": [
    "# Pull stock returns\n",
    "TICKER = 'IBM'\n",
    "ret = returns('IBM')"
   ]
  },
  {
   "cell_type": "code",
   "execution_count": 6,
   "metadata": {},
   "outputs": [
    {
     "data": {
      "text/html": [
       "<div>\n",
       "<style scoped>\n",
       "    .dataframe tbody tr th:only-of-type {\n",
       "        vertical-align: middle;\n",
       "    }\n",
       "\n",
       "    .dataframe tbody tr th {\n",
       "        vertical-align: top;\n",
       "    }\n",
       "\n",
       "    .dataframe thead th {\n",
       "        text-align: right;\n",
       "    }\n",
       "</style>\n",
       "<table border=\"1\" class=\"dataframe\">\n",
       "  <thead>\n",
       "    <tr style=\"text-align: right;\">\n",
       "      <th></th>\n",
       "      <th>ret</th>\n",
       "      <th>Mkt-RF</th>\n",
       "      <th>SMB</th>\n",
       "      <th>HML</th>\n",
       "      <th>RMW</th>\n",
       "      <th>CMA</th>\n",
       "      <th>RF</th>\n",
       "    </tr>\n",
       "    <tr>\n",
       "      <th>Date</th>\n",
       "      <th></th>\n",
       "      <th></th>\n",
       "      <th></th>\n",
       "      <th></th>\n",
       "      <th></th>\n",
       "      <th></th>\n",
       "      <th></th>\n",
       "    </tr>\n",
       "  </thead>\n",
       "  <tbody>\n",
       "    <tr>\n",
       "      <th>2000-02</th>\n",
       "      <td>-0.083669</td>\n",
       "      <td>0.0245</td>\n",
       "      <td>0.1834</td>\n",
       "      <td>-0.0970</td>\n",
       "      <td>-0.1873</td>\n",
       "      <td>-0.0036</td>\n",
       "      <td>0.0043</td>\n",
       "    </tr>\n",
       "    <tr>\n",
       "      <th>2000-03</th>\n",
       "      <td>0.152068</td>\n",
       "      <td>0.0520</td>\n",
       "      <td>-0.1535</td>\n",
       "      <td>0.0817</td>\n",
       "      <td>0.1182</td>\n",
       "      <td>-0.0165</td>\n",
       "      <td>0.0047</td>\n",
       "    </tr>\n",
       "    <tr>\n",
       "      <th>2000-04</th>\n",
       "      <td>-0.058079</td>\n",
       "      <td>-0.0640</td>\n",
       "      <td>-0.0501</td>\n",
       "      <td>0.0726</td>\n",
       "      <td>0.0766</td>\n",
       "      <td>0.0565</td>\n",
       "      <td>0.0046</td>\n",
       "    </tr>\n",
       "    <tr>\n",
       "      <th>2000-05</th>\n",
       "      <td>-0.036394</td>\n",
       "      <td>-0.0442</td>\n",
       "      <td>-0.0384</td>\n",
       "      <td>0.0481</td>\n",
       "      <td>0.0417</td>\n",
       "      <td>0.0130</td>\n",
       "      <td>0.0050</td>\n",
       "    </tr>\n",
       "    <tr>\n",
       "      <th>2000-06</th>\n",
       "      <td>0.020966</td>\n",
       "      <td>0.0464</td>\n",
       "      <td>0.0993</td>\n",
       "      <td>-0.0843</td>\n",
       "      <td>-0.0832</td>\n",
       "      <td>-0.0293</td>\n",
       "      <td>0.0040</td>\n",
       "    </tr>\n",
       "    <tr>\n",
       "      <th>...</th>\n",
       "      <td>...</td>\n",
       "      <td>...</td>\n",
       "      <td>...</td>\n",
       "      <td>...</td>\n",
       "      <td>...</td>\n",
       "      <td>...</td>\n",
       "      <td>...</td>\n",
       "    </tr>\n",
       "    <tr>\n",
       "      <th>2022-09</th>\n",
       "      <td>-0.075049</td>\n",
       "      <td>-0.0935</td>\n",
       "      <td>-0.0097</td>\n",
       "      <td>0.0006</td>\n",
       "      <td>-0.0151</td>\n",
       "      <td>-0.0084</td>\n",
       "      <td>0.0019</td>\n",
       "    </tr>\n",
       "    <tr>\n",
       "      <th>2022-10</th>\n",
       "      <td>0.163959</td>\n",
       "      <td>0.0783</td>\n",
       "      <td>0.0186</td>\n",
       "      <td>0.0805</td>\n",
       "      <td>0.0307</td>\n",
       "      <td>0.0652</td>\n",
       "      <td>0.0023</td>\n",
       "    </tr>\n",
       "    <tr>\n",
       "      <th>2022-11</th>\n",
       "      <td>0.089560</td>\n",
       "      <td>0.0460</td>\n",
       "      <td>-0.0267</td>\n",
       "      <td>0.0138</td>\n",
       "      <td>0.0601</td>\n",
       "      <td>0.0311</td>\n",
       "      <td>0.0029</td>\n",
       "    </tr>\n",
       "    <tr>\n",
       "      <th>2022-12</th>\n",
       "      <td>-0.053794</td>\n",
       "      <td>-0.0641</td>\n",
       "      <td>-0.0016</td>\n",
       "      <td>0.0132</td>\n",
       "      <td>0.0009</td>\n",
       "      <td>0.0419</td>\n",
       "      <td>0.0033</td>\n",
       "    </tr>\n",
       "    <tr>\n",
       "      <th>2023-01</th>\n",
       "      <td>-0.043722</td>\n",
       "      <td>0.0665</td>\n",
       "      <td>0.0443</td>\n",
       "      <td>-0.0408</td>\n",
       "      <td>-0.0261</td>\n",
       "      <td>-0.0452</td>\n",
       "      <td>0.0035</td>\n",
       "    </tr>\n",
       "  </tbody>\n",
       "</table>\n",
       "<p>276 rows × 7 columns</p>\n",
       "</div>"
      ],
      "text/plain": [
       "              ret  Mkt-RF     SMB     HML     RMW     CMA      RF\n",
       "Date                                                             \n",
       "2000-02 -0.083669  0.0245  0.1834 -0.0970 -0.1873 -0.0036  0.0043\n",
       "2000-03  0.152068  0.0520 -0.1535  0.0817  0.1182 -0.0165  0.0047\n",
       "2000-04 -0.058079 -0.0640 -0.0501  0.0726  0.0766  0.0565  0.0046\n",
       "2000-05 -0.036394 -0.0442 -0.0384  0.0481  0.0417  0.0130  0.0050\n",
       "2000-06  0.020966  0.0464  0.0993 -0.0843 -0.0832 -0.0293  0.0040\n",
       "...           ...     ...     ...     ...     ...     ...     ...\n",
       "2022-09 -0.075049 -0.0935 -0.0097  0.0006 -0.0151 -0.0084  0.0019\n",
       "2022-10  0.163959  0.0783  0.0186  0.0805  0.0307  0.0652  0.0023\n",
       "2022-11  0.089560  0.0460 -0.0267  0.0138  0.0601  0.0311  0.0029\n",
       "2022-12 -0.053794 -0.0641 -0.0016  0.0132  0.0009  0.0419  0.0033\n",
       "2023-01 -0.043722  0.0665  0.0443 -0.0408 -0.0261 -0.0452  0.0035\n",
       "\n",
       "[276 rows x 7 columns]"
      ]
     },
     "execution_count": 6,
     "metadata": {},
     "output_type": "execute_result"
    }
   ],
   "source": [
    "# Add in factor returns and risk-free rate\n",
    "df = pd.merge(ret,ff5_monthly, how=\"left\",left_index=True,right_index=True)\n",
    "df = df.dropna()\n",
    "df"
   ]
  },
  {
   "cell_type": "code",
   "execution_count": 7,
   "metadata": {},
   "outputs": [],
   "source": [
    "# Calculate excess return\n",
    "df['xret'] = df.ret - df.RF \n"
   ]
  },
  {
   "cell_type": "code",
   "execution_count": 8,
   "metadata": {},
   "outputs": [
    {
     "data": {
      "text/plain": [
       "Mkt-RF    0.82\n",
       "SMB       0.17\n",
       "HML       0.02\n",
       "RMW       0.53\n",
       "CMA       0.69\n",
       "dtype: float64"
      ]
     },
     "execution_count": 8,
     "metadata": {},
     "output_type": "execute_result"
    }
   ],
   "source": [
    "# Estimate factor loadings using last 60 months\n",
    "result = sm.OLS(df.ret.iloc[-60:], sm.add_constant(df[factors].iloc[-60:])).fit()\n",
    "betas = result.params[1:]\n",
    "betas = np.round(betas, 2)\n",
    "betas"
   ]
  },
  {
   "attachments": {},
   "cell_type": "markdown",
   "metadata": {},
   "source": [
    "Calculate expected return using \n",
    "1. estimated factor loadings (`betas`)\n",
    "2. estimated factor risk premia (`fprem`)\n",
    "3. risk-free rate (`rf`)"
   ]
  },
  {
   "cell_type": "code",
   "execution_count": 9,
   "metadata": {},
   "outputs": [
    {
     "data": {
      "text/plain": [
       "0.0473"
      ]
     },
     "execution_count": 9,
     "metadata": {},
     "output_type": "execute_result"
    }
   ],
   "source": [
    "# Most recent risk-free rate (in decimal notation)\n",
    "rf = pdr(\"DGS3MO\", \"fred\", start=1920).iloc[-1]/100\n",
    "rf = rf[0]\n",
    "rf"
   ]
  },
  {
   "cell_type": "code",
   "execution_count": 10,
   "metadata": {},
   "outputs": [
    {
     "name": "stdout",
     "output_type": "stream",
     "text": [
      "The estimated expected return for IBM is:\t  16.8%\n"
     ]
    }
   ],
   "source": [
    "# Expected return\n",
    "expret = rf + betas @ fprem\n",
    "print(f'The estimated expected return for {TICKER} is:\\t {expret: .1%}')"
   ]
  }
 ],
 "metadata": {
  "kernelspec": {
   "display_name": "Python 3.10.6 ('venv': venv)",
   "language": "python",
   "name": "python3"
  },
  "language_info": {
   "codemirror_mode": {
    "name": "ipython",
    "version": 3
   },
   "file_extension": ".py",
   "mimetype": "text/x-python",
   "name": "python",
   "nbconvert_exporter": "python",
   "pygments_lexer": "ipython3",
   "version": "3.10.6"
  },
  "orig_nbformat": 4,
  "vscode": {
   "interpreter": {
    "hash": "cc788b38d8cb434c82f45ef9d481d0310e17b79321e4c8cbfbfe90f656a3f023"
   }
  }
 },
 "nbformat": 4,
 "nbformat_minor": 2
}
