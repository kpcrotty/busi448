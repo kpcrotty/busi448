{
 "cells": [
  {
   "attachments": {},
   "cell_type": "markdown",
   "metadata": {},
   "source": [
    "# Estimation error and the estimation window"
   ]
  },
  {
   "cell_type": "code",
   "execution_count": 26,
   "metadata": {},
   "outputs": [],
   "source": [
    "import numpy as np\n",
    "import pandas as pd\n",
    "import plotly.graph_objects as go\n",
    "from scipy.optimize import minimize\n",
    "from cvxopt import matrix\n",
    "from cvxopt.solvers import qp as Solver, options as SolverOptions\n",
    "from scipy.stats import multivariate_normal as mvn"
   ]
  },
  {
   "cell_type": "markdown",
   "metadata": {},
   "source": [
    "Functions for portfolios and simulation"
   ]
  },
  {
   "cell_type": "code",
   "execution_count": 27,
   "metadata": {},
   "outputs": [],
   "source": [
    "def tangency(means, cov, rf, short_lb):\n",
    "    '''\n",
    "    short_lb: lower bound on position weights\n",
    "    examples: 0  = no short-selling\n",
    "              -1 = no more than -100% in a given asset\n",
    "              None=no restrictions on short-selling\n",
    "    '''\n",
    "\n",
    "    n = len(means)\n",
    "    def f(w):\n",
    "        mn = w @ means\n",
    "        sd = np.sqrt(w.T @ cov @ w)\n",
    "        return -(mn - rf) / sd\n",
    "    # Initial guess (equal-weighted)\n",
    "    w0 = (1/n)*np.ones(n)\n",
    "    # Constraint: fully-invested portfolio\n",
    "    A = np.ones(n)\n",
    "    b = 1\n",
    "    cons = [{\"type\": \"eq\", \"fun\": lambda x: A @ x - b}]\n",
    "    bnds = [(short_lb, None) for i in range(n)] \n",
    "    # Optimization\n",
    "    wgts_tangency = minimize(f, w0, bounds=bnds, constraints=cons).x\n",
    "    return wgts_tangency"
   ]
  },
  {
   "cell_type": "code",
   "execution_count": 28,
   "metadata": {},
   "outputs": [],
   "source": [
    "def gmv(cov, short_lb): \n",
    "    '''\n",
    "    short_lb: lower bound on position weights\n",
    "    examples: 0  = no short-selling\n",
    "              -1 = no more than -100% in a given asset\n",
    "              None=no restrictions on short-selling\n",
    "    '''    \n",
    "    n = len(cov)\n",
    "    Q = matrix(cov, tc=\"d\")\n",
    "    p = matrix(np.zeros(n), (n, 1), tc=\"d\")\n",
    "    if short_lb==None:\n",
    "        # No position limits\n",
    "        G = matrix(np.zeros((n,n)), tc=\"d\")\n",
    "        h = matrix(np.zeros(n), (n, 1), tc=\"d\")\n",
    "    else:\n",
    "        # Constraint: short-sales not allowed\n",
    "        G = matrix(-np.identity(n), tc=\"d\")\n",
    "        h = matrix(-short_lb * np.ones(n), (n, 1), tc=\"d\")\n",
    "    # Fully-invested constraint\n",
    "    A = matrix(np.ones(n), (1, n), tc=\"d\")\n",
    "    b = matrix([1], (1, 1), tc=\"d\")\n",
    "    sol = Solver(Q, p, G, h, A, b, options={'show_progress': False})\n",
    "    wgts_gmv = np.array(sol[\"x\"]).flatten() if sol[\"status\"] == \"optimal\" else np.array(n * [np.nan])\n",
    "    return wgts_gmv"
   ]
  },
  {
   "cell_type": "code",
   "execution_count": 29,
   "metadata": {},
   "outputs": [],
   "source": [
    "# Simulation function\n",
    "def simulation(means, cov, rf, short_lb, seed, window):\n",
    "\trets = mvn.rvs(means, cov, size=window+T, random_state = seed)\n",
    "\tn = len(means)\n",
    "\treturn_list = ['r' + str(i) for i in range(n)]\n",
    "\tmean_list   = ['mn'+ str(i) for i in range(n)]\n",
    "\tsd_list     = ['sd'+ str(i) for i in range(n)]\n",
    "\tcorr_list   = ['c' + str(i) + str(j) for i in np.arange(n) for j in np.arange(i+1,n)]\n",
    "\twgt_list    = ['wgt' + str(i) for i in range(n)]\n",
    "\tdf = pd.DataFrame(data=rets, columns=return_list)\n",
    "\n",
    "\t# Estimate rolling window historical inputs\n",
    "\tdf[mean_list] = df[return_list].rolling(window).mean()\n",
    "\tdf[sd_list]   = df[return_list].rolling(window).std()\n",
    "\tcorrs = df[return_list].rolling(window, min_periods=window).corr()\n",
    "\tfor i in np.arange(n):\n",
    "\t\tfor j in np.arange(i+1,n):\n",
    "\t\t\tdf['c'+str(i)+str(j)]=corrs.loc[(slice(None),'r'+str(i)),'r'+str(j)].values\n",
    "    \n",
    "\t# Calculate (unobservable) true optimal risky and CAL weights\n",
    "\twgts_true = tangency(means,cov,rf,short_lb)\n",
    "\twgt_cal_true = (wgts_true @ means - rf) / (RAVER * (wgts_true @ cov @ wgts_true))\n",
    "\n",
    "\t# Initialize empty columns for risky portfolio return, CAL location, CAL portfolio return\n",
    "\tmodel_list = ['true', 'est_all', 'est_sd_corr', 'est_sd', 'est_none']\n",
    "\tfor model in model_list:\n",
    "\t\tdf['risky_ret_'+model] = np.nan  # risky_ret is the realized portfolio return of the 100% risky asset portfolio\n",
    "\t\tdf['wgt_risky_'+model] = np.nan\n",
    "\t\tdf['port_ret_' +model] = np.nan  # port_ret is the realized return of the CAL choice of the raver investor\n",
    "\n",
    "\t# Choose optimal portfolios each time period\n",
    "\tfor i in np.arange(window,window+T):\n",
    "\t\t# Full estimation inputs at each point in time\n",
    "\t\tmeans = df[mean_list].iloc[i-1].values\n",
    "\t\tsds   = df[sd_list].iloc[i-1].values\n",
    "\t\tC = np.identity(n)\n",
    "\t\tfor i2 in np.arange(n):\n",
    "\t\t\tfor j in np.arange(i2+1,n):\n",
    "\t\t\t\tC[i2,j] = C[j,i2] = df.loc[i-1,'c'+str(i2)+str(j)]\n",
    "\t\tcov = np.diag(sds) @ C @ np.diag(sds)\n",
    "\n",
    "\t\t# Pull current period returns\n",
    "\t\trets = df.loc[i,return_list].values\n",
    "\n",
    "\t\t##### Note: all portfolio weights considered to be beginning of period weights\n",
    "\t\t##### (so multiply by contemporaneous realized returns)\n",
    "\t\t# Theoretical optimal weights\n",
    "\t\tmodel = 'true'\n",
    "\t\tdf.loc[i,'risky_ret_'+model] = rets @ wgts_true\n",
    "\t\tdf.loc[i,'port_ret_' +model] = rf + wgt_cal_true * (df.loc[i,'risky_ret_'+model] -rf)\n",
    "\n",
    "\n",
    "\t\t# Full estimation tangency portfolio\n",
    "\t\tmodel = 'est_all'\n",
    "\t\twgts = tangency(means,cov,rf,short_lb)\n",
    "\t\tdf.loc[i,'risky_ret_'+model] = rets @ wgts\n",
    "\t\tdf.loc[i,'wgt_risky_'+model] = max(0,(wgts @ means - rf) / (RAVER * (wgts @ cov @ wgts)))\n",
    "\t\tdf.loc[i,'port_ret_' +model] = rf + df.loc[i,'wgt_risky_'+model]  * (df.loc[i,'risky_ret_'+model] -rf)\n",
    "\n",
    "\n",
    "\t\t# Estimate only covariance matrix\n",
    "\t\tmodel = 'est_sd_corr'\n",
    "\t\twgts = gmv(cov,short_lb)\n",
    "\t\tdf.loc[i,'risky_ret_'+model] = rets @ wgts\n",
    "\t\tdf.loc[i,'wgt_risky_'+model] = max(0,(means.mean() - rf) / (RAVER * (wgts @ cov @ wgts)))\n",
    "\t\tdf.loc[i,'port_ret_' +model] = rf + df.loc[i,'wgt_risky_'+model]  * (df.loc[i,'risky_ret_'+model] -rf)\n",
    "\n",
    "\n",
    "\t\t# Estimate only standard deviations in covariance matrix\n",
    "\t\tmodel = 'est_sd'\n",
    "\t\tfor i2 in np.arange(n):\n",
    "\t\t\tfor j in np.arange(i2+1,n):\n",
    "\t\t\t\tcov[i2,j] = cov[j,i2] =0.0\t\t\n",
    "\t\twgts = gmv(cov,short_lb)\n",
    "\t\tdf.loc[i,'risky_ret_'+model] = rets @ wgts\t\t\n",
    "\t\tdf.loc[i,'wgt_risky_'+model] = max(0,(means.mean() - rf) / (RAVER * (wgts @ cov @ wgts)))\n",
    "\t\tdf.loc[i,'port_ret_' +model] = rf + df.loc[i,'wgt_risky_'+model]  * (df.loc[i,'risky_ret_'+model] -rf)  \n",
    "\n",
    "\t\t# Equal-weighted portfolio\n",
    "\t\tmodel = 'est_none'\n",
    "\t\tfor i2 in np.arange(n):\n",
    "\t\t\tcov[i2,i2] = (sds.mean())**2\n",
    "\t\twgts = (1/n)*np.ones(n)\n",
    "\t\tdf.loc[i,'risky_ret_'+model] = rets @ wgts\t\t\n",
    "\t\tdf.loc[i,'wgt_risky_'+model] = max(0,(means.mean() - rf) / (RAVER * (wgts @ cov @ wgts)))\n",
    "\t\tdf.loc[i,'port_ret_' +model] = rf + df.loc[i,'wgt_risky_'+model]  * (df.loc[i,'risky_ret_'+model] -rf) \n",
    "\n",
    "\n",
    "\n",
    "\tportret_list = ['port_ret_'+model for model in model_list]\n",
    "\tstats = df[portret_list].describe()\n",
    "\n",
    "\tsr_df = pd.DataFrame(dtype=float, columns = ['sr'], index = model_list)\n",
    "\tfor model in model_list:\n",
    "\t\tsr_df.loc[model,'sr'] = (stats.loc['mean','port_ret_'+model] - rf)/stats.loc['std','port_ret_'+model]\n",
    "\t\t\n",
    "\treturn sr_df"
   ]
  },
  {
   "cell_type": "markdown",
   "metadata": {},
   "source": [
    "# Varying Window Length"
   ]
  },
  {
   "cell_type": "code",
   "execution_count": 30,
   "metadata": {},
   "outputs": [
    {
     "name": "stdout",
     "output_type": "stream",
     "text": [
      "mns1\tsds1\tc1\tw1\n",
      "Simulation number: 0\n",
      "Simulation number: 25\n",
      "Simulation number: 50\n",
      "Simulation number: 75\n",
      "Simulation number: 100\n",
      "Simulation number: 125\n",
      "Simulation number: 150\n",
      "Simulation number: 175\n",
      "Simulation number: 200\n",
      "Simulation number: 225\n",
      "mns1\tsds1\tc1\tw2\n",
      "Simulation number: 0\n",
      "Simulation number: 25\n",
      "Simulation number: 50\n",
      "Simulation number: 75\n",
      "Simulation number: 100\n",
      "Simulation number: 125\n",
      "Simulation number: 150\n",
      "Simulation number: 175\n",
      "Simulation number: 200\n",
      "Simulation number: 225\n",
      "mns1\tsds1\tc1\tw3\n",
      "Simulation number: 0\n",
      "Simulation number: 25\n",
      "Simulation number: 50\n",
      "Simulation number: 75\n",
      "Simulation number: 100\n",
      "Simulation number: 125\n",
      "Simulation number: 150\n",
      "Simulation number: 175\n",
      "Simulation number: 200\n",
      "Simulation number: 225\n",
      "mns1\tsds1\tc1\tw4\n",
      "Simulation number: 0\n",
      "Simulation number: 25\n",
      "Simulation number: 50\n",
      "Simulation number: 75\n",
      "Simulation number: 100\n",
      "Simulation number: 125\n",
      "Simulation number: 150\n",
      "Simulation number: 175\n",
      "Simulation number: 200\n",
      "Simulation number: 225\n",
      "mns1\tsds1\tc1\tw5\n",
      "Simulation number: 0\n",
      "Simulation number: 25\n",
      "Simulation number: 50\n",
      "Simulation number: 75\n",
      "Simulation number: 100\n",
      "Simulation number: 125\n",
      "Simulation number: 150\n",
      "Simulation number: 175\n",
      "Simulation number: 200\n",
      "Simulation number: 225\n",
      "mns2\tsds1\tc1\tw1\n",
      "Simulation number: 0\n",
      "Simulation number: 25\n",
      "Simulation number: 50\n",
      "Simulation number: 75\n",
      "Simulation number: 100\n",
      "Simulation number: 125\n",
      "Simulation number: 150\n",
      "Simulation number: 175\n",
      "Simulation number: 200\n",
      "Simulation number: 225\n",
      "mns2\tsds1\tc1\tw2\n",
      "Simulation number: 0\n",
      "Simulation number: 25\n",
      "Simulation number: 50\n",
      "Simulation number: 75\n",
      "Simulation number: 100\n",
      "Simulation number: 125\n",
      "Simulation number: 150\n",
      "Simulation number: 175\n",
      "Simulation number: 200\n",
      "Simulation number: 225\n",
      "mns2\tsds1\tc1\tw3\n",
      "Simulation number: 0\n",
      "Simulation number: 25\n",
      "Simulation number: 50\n",
      "Simulation number: 75\n",
      "Simulation number: 100\n",
      "Simulation number: 125\n",
      "Simulation number: 150\n",
      "Simulation number: 175\n",
      "Simulation number: 200\n",
      "Simulation number: 225\n",
      "mns2\tsds1\tc1\tw4\n",
      "Simulation number: 0\n",
      "Simulation number: 25\n",
      "Simulation number: 50\n",
      "Simulation number: 75\n",
      "Simulation number: 100\n",
      "Simulation number: 125\n",
      "Simulation number: 150\n",
      "Simulation number: 175\n",
      "Simulation number: 200\n",
      "Simulation number: 225\n",
      "mns2\tsds1\tc1\tw5\n",
      "Simulation number: 0\n",
      "Simulation number: 25\n",
      "Simulation number: 50\n",
      "Simulation number: 75\n",
      "Simulation number: 100\n",
      "Simulation number: 125\n",
      "Simulation number: 150\n",
      "Simulation number: 175\n",
      "Simulation number: 200\n",
      "Simulation number: 225\n"
     ]
    }
   ],
   "source": [
    "## Run for a systematic list of inputs (varying window length)\n",
    "# Took 1 hour to run 10 parms @ 250 sims each\n",
    "\n",
    "# Risk aversion\n",
    "RAVER = 2\n",
    "\n",
    "# Risk-free rate\n",
    "RF = 0.02\n",
    "\n",
    "# Investment period\n",
    "T = 50\n",
    "\n",
    "# Number of simulations\n",
    "NUM_SIMS = 250\n",
    "\n",
    "# Asset Parameters\n",
    "mns1 = np.array([0.06, 0.10, 0.14])\n",
    "mns2 = np.array([0.08, 0.10, 0.12])\n",
    "mns3 = np.array([0.10, 0.10, 0.10])\n",
    "\n",
    "sds1 = np.array([0.16, 0.20, 0.24])\n",
    "sds2 = np.array([0.32, 0.40, 0.48])\n",
    "sds3 = np.array([0.18, 0.20, 0.22])\n",
    "\n",
    "c1 = 0.75\n",
    "c2 = 0.50\n",
    "\n",
    "w1 = 10\n",
    "w2 = 20\n",
    "w3 = 30\n",
    "w4 = 40\n",
    "w5 = 50\n",
    "\n",
    "mns_dict = {'mns1':mns1, 'mns2':mns2}\n",
    "sds_dict = {'sds1':sds1}\n",
    "corr_dict= {'c1':c1}\n",
    "window_dict = {'w1': w1, 'w2': w2, 'w3': w3, 'w4': w4, 'w5': w5 }\n",
    "\n",
    "iterables = [list(mns_dict.keys()),\n",
    "             list(sds_dict.keys()),\n",
    "             list(corr_dict.keys()), \n",
    "             list(window_dict.keys()),\n",
    "             np.arange(NUM_SIMS)]\n",
    "idx = pd.MultiIndex.from_product(iterables, names=[\"means\", \"sds\", \"corrs\", \"window\", \"sim\"])\n",
    "sim_results = pd.DataFrame(dtype='float', columns=['true', 'est_all', 'est_sd_corr', 'est_sd', 'est_none'], index=idx)\n",
    "\n",
    "for m in list(mns_dict.keys()):\n",
    "    means = mns_dict[m]\n",
    "    n = len(means)\n",
    "    for s in list(sds_dict.keys()):\n",
    "        sds = sds_dict[s]\n",
    "        for c in list(corr_dict.keys()):\n",
    "            corr12 = corr13 = corr23 = corr_dict[c]\n",
    "            # Covariance matrix\n",
    "            C  = np.identity(3)\n",
    "            C[0, 1] = C[1, 0] = corr12\n",
    "            C[0, 2] = C[2, 0] = corr13\n",
    "            C[1, 2] = C[2, 1] = corr23\n",
    "            cov = np.diag(sds) @ C @ np.diag(sds)\n",
    "\n",
    "            for w in list(window_dict.keys()):\n",
    "\n",
    "                print(m + \"\\t\" + s +  \"\\t\" + c + \"\\t\" + w)\n",
    "\n",
    "                # Outputs\n",
    "                # wgts_true = tangency(means,cov,r,short_lb=None)\n",
    "                # print(wgts_true)\n",
    "                # wgt_cal_true = (wgts_true @ means - r) / (raver * (wgts_true @ cov @ wgts_true))\n",
    "                # print(wgt_cal_true)\n",
    "\n",
    "                # Run the simulations\n",
    "                for sim in range(NUM_SIMS):\n",
    "                    if np.mod(sim,25)==0:\n",
    "                        print('Simulation number: ' + str(sim))\n",
    "                    sim_results.loc[(m,s,c,w,sim)] = simulation(means, cov, RF, short_lb=None, seed=sim, window=window_dict[w]).T.values\n",
    "\n",
    "# Save results\n",
    "sim_results.to_csv('../data/sim_results_vary_window.csv')"
   ]
  },
  {
   "cell_type": "markdown",
   "metadata": {},
   "source": [
    "### Read saved data and compare Sharpe ratios\n"
   ]
  },
  {
   "cell_type": "code",
   "execution_count": 31,
   "metadata": {},
   "outputs": [
    {
     "data": {
      "text/html": [
       "<div>\n",
       "<style scoped>\n",
       "    .dataframe tbody tr th:only-of-type {\n",
       "        vertical-align: middle;\n",
       "    }\n",
       "\n",
       "    .dataframe tbody tr th {\n",
       "        vertical-align: top;\n",
       "    }\n",
       "\n",
       "    .dataframe thead th {\n",
       "        text-align: right;\n",
       "    }\n",
       "</style>\n",
       "<table border=\"1\" class=\"dataframe\">\n",
       "  <thead>\n",
       "    <tr style=\"text-align: right;\">\n",
       "      <th></th>\n",
       "      <th>means</th>\n",
       "      <th>sds</th>\n",
       "      <th>corrs</th>\n",
       "      <th>window</th>\n",
       "      <th>sim</th>\n",
       "      <th>true</th>\n",
       "      <th>est_all</th>\n",
       "      <th>est_sd_corr</th>\n",
       "      <th>est_sd</th>\n",
       "      <th>est_none</th>\n",
       "    </tr>\n",
       "  </thead>\n",
       "  <tbody>\n",
       "    <tr>\n",
       "      <th>0</th>\n",
       "      <td>mns1</td>\n",
       "      <td>sds1</td>\n",
       "      <td>c1</td>\n",
       "      <td>w1</td>\n",
       "      <td>0</td>\n",
       "      <td>0.485014</td>\n",
       "      <td>0.244027</td>\n",
       "      <td>-0.174769</td>\n",
       "      <td>0.144301</td>\n",
       "      <td>0.184277</td>\n",
       "    </tr>\n",
       "    <tr>\n",
       "      <th>1</th>\n",
       "      <td>mns1</td>\n",
       "      <td>sds1</td>\n",
       "      <td>c1</td>\n",
       "      <td>w1</td>\n",
       "      <td>1</td>\n",
       "      <td>0.471938</td>\n",
       "      <td>0.307943</td>\n",
       "      <td>0.216782</td>\n",
       "      <td>0.348175</td>\n",
       "      <td>0.365837</td>\n",
       "    </tr>\n",
       "    <tr>\n",
       "      <th>2</th>\n",
       "      <td>mns1</td>\n",
       "      <td>sds1</td>\n",
       "      <td>c1</td>\n",
       "      <td>w1</td>\n",
       "      <td>2</td>\n",
       "      <td>0.355540</td>\n",
       "      <td>0.268477</td>\n",
       "      <td>0.080505</td>\n",
       "      <td>0.206039</td>\n",
       "      <td>0.230139</td>\n",
       "    </tr>\n",
       "    <tr>\n",
       "      <th>3</th>\n",
       "      <td>mns1</td>\n",
       "      <td>sds1</td>\n",
       "      <td>c1</td>\n",
       "      <td>w1</td>\n",
       "      <td>3</td>\n",
       "      <td>0.639033</td>\n",
       "      <td>0.537514</td>\n",
       "      <td>0.121981</td>\n",
       "      <td>0.483934</td>\n",
       "      <td>0.527965</td>\n",
       "    </tr>\n",
       "    <tr>\n",
       "      <th>4</th>\n",
       "      <td>mns1</td>\n",
       "      <td>sds1</td>\n",
       "      <td>c1</td>\n",
       "      <td>w1</td>\n",
       "      <td>4</td>\n",
       "      <td>0.456634</td>\n",
       "      <td>0.263591</td>\n",
       "      <td>0.287175</td>\n",
       "      <td>0.428160</td>\n",
       "      <td>0.446544</td>\n",
       "    </tr>\n",
       "  </tbody>\n",
       "</table>\n",
       "</div>"
      ],
      "text/plain": [
       "  means   sds corrs window  sim      true   est_all  est_sd_corr    est_sd  \\\n",
       "0  mns1  sds1    c1     w1    0  0.485014  0.244027    -0.174769  0.144301   \n",
       "1  mns1  sds1    c1     w1    1  0.471938  0.307943     0.216782  0.348175   \n",
       "2  mns1  sds1    c1     w1    2  0.355540  0.268477     0.080505  0.206039   \n",
       "3  mns1  sds1    c1     w1    3  0.639033  0.537514     0.121981  0.483934   \n",
       "4  mns1  sds1    c1     w1    4  0.456634  0.263591     0.287175  0.428160   \n",
       "\n",
       "   est_none  \n",
       "0  0.184277  \n",
       "1  0.365837  \n",
       "2  0.230139  \n",
       "3  0.527965  \n",
       "4  0.446544  "
      ]
     },
     "execution_count": 31,
     "metadata": {},
     "output_type": "execute_result"
    }
   ],
   "source": [
    "sim_results =pd.read_csv('../data/sim_results_vary_window.csv')\n",
    "sim_results.head()\n"
   ]
  },
  {
   "cell_type": "code",
   "execution_count": 32,
   "metadata": {},
   "outputs": [
    {
     "data": {
      "text/html": [
       "<div>\n",
       "<style scoped>\n",
       "    .dataframe tbody tr th:only-of-type {\n",
       "        vertical-align: middle;\n",
       "    }\n",
       "\n",
       "    .dataframe tbody tr th {\n",
       "        vertical-align: top;\n",
       "    }\n",
       "\n",
       "    .dataframe thead th {\n",
       "        text-align: right;\n",
       "    }\n",
       "</style>\n",
       "<table border=\"1\" class=\"dataframe\">\n",
       "  <thead>\n",
       "    <tr style=\"text-align: right;\">\n",
       "      <th></th>\n",
       "      <th></th>\n",
       "      <th></th>\n",
       "      <th></th>\n",
       "      <th>true</th>\n",
       "      <th>est_all</th>\n",
       "      <th>est_sd_corr</th>\n",
       "      <th>est_sd</th>\n",
       "      <th>est_none</th>\n",
       "    </tr>\n",
       "    <tr>\n",
       "      <th>means</th>\n",
       "      <th>sds</th>\n",
       "      <th>corrs</th>\n",
       "      <th>window</th>\n",
       "      <th></th>\n",
       "      <th></th>\n",
       "      <th></th>\n",
       "      <th></th>\n",
       "      <th></th>\n",
       "    </tr>\n",
       "  </thead>\n",
       "  <tbody>\n",
       "    <tr>\n",
       "      <th rowspan=\"5\" valign=\"top\">mns1</th>\n",
       "      <th rowspan=\"5\" valign=\"top\">sds1</th>\n",
       "      <th rowspan=\"5\" valign=\"top\">c1</th>\n",
       "      <th>w1</th>\n",
       "      <td>0.553081</td>\n",
       "      <td>0.295428</td>\n",
       "      <td>0.115590</td>\n",
       "      <td>0.286633</td>\n",
       "      <td>0.317707</td>\n",
       "    </tr>\n",
       "    <tr>\n",
       "      <th>w2</th>\n",
       "      <td>0.546252</td>\n",
       "      <td>0.392292</td>\n",
       "      <td>0.144398</td>\n",
       "      <td>0.316800</td>\n",
       "      <td>0.348379</td>\n",
       "    </tr>\n",
       "    <tr>\n",
       "      <th>w3</th>\n",
       "      <td>0.546227</td>\n",
       "      <td>0.428758</td>\n",
       "      <td>0.151906</td>\n",
       "      <td>0.333061</td>\n",
       "      <td>0.366756</td>\n",
       "    </tr>\n",
       "    <tr>\n",
       "      <th>w4</th>\n",
       "      <td>0.555677</td>\n",
       "      <td>0.456301</td>\n",
       "      <td>0.162364</td>\n",
       "      <td>0.351472</td>\n",
       "      <td>0.385965</td>\n",
       "    </tr>\n",
       "    <tr>\n",
       "      <th>w5</th>\n",
       "      <td>0.561290</td>\n",
       "      <td>0.478236</td>\n",
       "      <td>0.180459</td>\n",
       "      <td>0.374443</td>\n",
       "      <td>0.409465</td>\n",
       "    </tr>\n",
       "    <tr>\n",
       "      <th rowspan=\"5\" valign=\"top\">mns2</th>\n",
       "      <th rowspan=\"5\" valign=\"top\">sds1</th>\n",
       "      <th rowspan=\"5\" valign=\"top\">c1</th>\n",
       "      <th>w1</th>\n",
       "      <td>0.439653</td>\n",
       "      <td>0.205701</td>\n",
       "      <td>0.209793</td>\n",
       "      <td>0.309128</td>\n",
       "      <td>0.317707</td>\n",
       "    </tr>\n",
       "    <tr>\n",
       "      <th>w2</th>\n",
       "      <td>0.434277</td>\n",
       "      <td>0.275294</td>\n",
       "      <td>0.267630</td>\n",
       "      <td>0.343015</td>\n",
       "      <td>0.348379</td>\n",
       "    </tr>\n",
       "    <tr>\n",
       "      <th>w3</th>\n",
       "      <td>0.431930</td>\n",
       "      <td>0.307575</td>\n",
       "      <td>0.288028</td>\n",
       "      <td>0.361346</td>\n",
       "      <td>0.366756</td>\n",
       "    </tr>\n",
       "    <tr>\n",
       "      <th>w4</th>\n",
       "      <td>0.441196</td>\n",
       "      <td>0.333877</td>\n",
       "      <td>0.304365</td>\n",
       "      <td>0.380328</td>\n",
       "      <td>0.385965</td>\n",
       "    </tr>\n",
       "    <tr>\n",
       "      <th>w5</th>\n",
       "      <td>0.448782</td>\n",
       "      <td>0.358720</td>\n",
       "      <td>0.327169</td>\n",
       "      <td>0.404240</td>\n",
       "      <td>0.409465</td>\n",
       "    </tr>\n",
       "  </tbody>\n",
       "</table>\n",
       "</div>"
      ],
      "text/plain": [
       "                             true   est_all  est_sd_corr    est_sd  est_none\n",
       "means sds  corrs window                                                     \n",
       "mns1  sds1 c1    w1      0.553081  0.295428     0.115590  0.286633  0.317707\n",
       "                 w2      0.546252  0.392292     0.144398  0.316800  0.348379\n",
       "                 w3      0.546227  0.428758     0.151906  0.333061  0.366756\n",
       "                 w4      0.555677  0.456301     0.162364  0.351472  0.385965\n",
       "                 w5      0.561290  0.478236     0.180459  0.374443  0.409465\n",
       "mns2  sds1 c1    w1      0.439653  0.205701     0.209793  0.309128  0.317707\n",
       "                 w2      0.434277  0.275294     0.267630  0.343015  0.348379\n",
       "                 w3      0.431930  0.307575     0.288028  0.361346  0.366756\n",
       "                 w4      0.441196  0.333877     0.304365  0.380328  0.385965\n",
       "                 w5      0.448782  0.358720     0.327169  0.404240  0.409465"
      ]
     },
     "execution_count": 32,
     "metadata": {},
     "output_type": "execute_result"
    }
   ],
   "source": [
    "stats = sim_results.groupby(['means', 'sds','corrs','window']).mean()\n",
    "stats = stats[['true','est_all', 'est_sd_corr', 'est_sd','est_none']]\n",
    "stats"
   ]
  },
  {
   "cell_type": "code",
   "execution_count": 33,
   "metadata": {},
   "outputs": [],
   "source": [
    "def compare_plot(mns,sds,corr):\n",
    "    newdf = stats.loc[(mns,sds,corr,slice(None))].stack().reset_index()\n",
    "    newdf.columns=['window','strategy','sr']\n",
    "    label_dict = {'true':'True',\n",
    "                'est_none': 'Est-None',\n",
    "                'est_all': 'Est-All',\n",
    "                'est_sd_corr': 'Est-SD-Corr',\n",
    "                'est_sd': 'Est-SD'}\n",
    "\n",
    "    newdf['strategy'] = newdf['strategy'].apply(lambda y: label_dict[y])\n",
    "    newdf['window'] = newdf['window'].apply(lambda y: window_dict[y])\n",
    "    # newdf\n",
    "    import plotly.express as px\n",
    "    fig = go.Figure()\n",
    "    fig = px.histogram(newdf, x=\"strategy\", y=\"sr\",\n",
    "                color='window', barmode='group', histfunc='avg',\n",
    "                height=400)\n",
    "    fig.layout.yaxis[\"title\"] = \"Sharpe ratio\"\n",
    "    fig.layout.xaxis[\"title\"] = \"Strategy\"             \n",
    "    fig.show()\n"
   ]
  },
  {
   "cell_type": "markdown",
   "metadata": {},
   "source": [
    "### More expected return variation"
   ]
  },
  {
   "cell_type": "code",
   "execution_count": 34,
   "metadata": {},
   "outputs": [
    {
     "data": {
      "application/vnd.plotly.v1+json": {
       "config": {
        "plotlyServerURL": "https://plot.ly"
       },
       "data": [
        {
         "alignmentgroup": "True",
         "bingroup": "x",
         "histfunc": "avg",
         "hovertemplate": "window=10<br>strategy=%{x}<br>avg of sr=%{y}<extra></extra>",
         "legendgroup": "10",
         "marker": {
          "color": "#636efa",
          "pattern": {
           "shape": ""
          }
         },
         "name": "10",
         "offsetgroup": "10",
         "orientation": "v",
         "showlegend": true,
         "type": "histogram",
         "x": [
          "True",
          "Est-All",
          "Est-SD-Corr",
          "Est-SD",
          "Est-None"
         ],
         "xaxis": "x",
         "y": [
          0.5530809725040465,
          0.295428388411905,
          0.11559040500096988,
          0.2866328915611845,
          0.3177071914131491
         ],
         "yaxis": "y"
        },
        {
         "alignmentgroup": "True",
         "bingroup": "x",
         "histfunc": "avg",
         "hovertemplate": "window=20<br>strategy=%{x}<br>avg of sr=%{y}<extra></extra>",
         "legendgroup": "20",
         "marker": {
          "color": "#EF553B",
          "pattern": {
           "shape": ""
          }
         },
         "name": "20",
         "offsetgroup": "20",
         "orientation": "v",
         "showlegend": true,
         "type": "histogram",
         "x": [
          "True",
          "Est-All",
          "Est-SD-Corr",
          "Est-SD",
          "Est-None"
         ],
         "xaxis": "x",
         "y": [
          0.546251712059064,
          0.39229175137216693,
          0.1443976423410618,
          0.31680034235838406,
          0.34837923970242024
         ],
         "yaxis": "y"
        },
        {
         "alignmentgroup": "True",
         "bingroup": "x",
         "histfunc": "avg",
         "hovertemplate": "window=30<br>strategy=%{x}<br>avg of sr=%{y}<extra></extra>",
         "legendgroup": "30",
         "marker": {
          "color": "#00cc96",
          "pattern": {
           "shape": ""
          }
         },
         "name": "30",
         "offsetgroup": "30",
         "orientation": "v",
         "showlegend": true,
         "type": "histogram",
         "x": [
          "True",
          "Est-All",
          "Est-SD-Corr",
          "Est-SD",
          "Est-None"
         ],
         "xaxis": "x",
         "y": [
          0.5462268430267868,
          0.4287575593379311,
          0.15190637040503874,
          0.3330606552107961,
          0.3667555474547018
         ],
         "yaxis": "y"
        },
        {
         "alignmentgroup": "True",
         "bingroup": "x",
         "histfunc": "avg",
         "hovertemplate": "window=40<br>strategy=%{x}<br>avg of sr=%{y}<extra></extra>",
         "legendgroup": "40",
         "marker": {
          "color": "#ab63fa",
          "pattern": {
           "shape": ""
          }
         },
         "name": "40",
         "offsetgroup": "40",
         "orientation": "v",
         "showlegend": true,
         "type": "histogram",
         "x": [
          "True",
          "Est-All",
          "Est-SD-Corr",
          "Est-SD",
          "Est-None"
         ],
         "xaxis": "x",
         "y": [
          0.555676641697536,
          0.45630122445104915,
          0.16236401314105794,
          0.35147184371482676,
          0.3859649608059063
         ],
         "yaxis": "y"
        },
        {
         "alignmentgroup": "True",
         "bingroup": "x",
         "histfunc": "avg",
         "hovertemplate": "window=50<br>strategy=%{x}<br>avg of sr=%{y}<extra></extra>",
         "legendgroup": "50",
         "marker": {
          "color": "#FFA15A",
          "pattern": {
           "shape": ""
          }
         },
         "name": "50",
         "offsetgroup": "50",
         "orientation": "v",
         "showlegend": true,
         "type": "histogram",
         "x": [
          "True",
          "Est-All",
          "Est-SD-Corr",
          "Est-SD",
          "Est-None"
         ],
         "xaxis": "x",
         "y": [
          0.5612901096391506,
          0.4782358720438731,
          0.18045878613597194,
          0.37444310248869855,
          0.40946510868009045
         ],
         "yaxis": "y"
        }
       ],
       "layout": {
        "barmode": "group",
        "height": 400,
        "legend": {
         "title": {
          "text": "window"
         },
         "tracegroupgap": 0
        },
        "margin": {
         "t": 60
        },
        "template": {
         "data": {
          "bar": [
           {
            "error_x": {
             "color": "#2a3f5f"
            },
            "error_y": {
             "color": "#2a3f5f"
            },
            "marker": {
             "line": {
              "color": "#E5ECF6",
              "width": 0.5
             },
             "pattern": {
              "fillmode": "overlay",
              "size": 10,
              "solidity": 0.2
             }
            },
            "type": "bar"
           }
          ],
          "barpolar": [
           {
            "marker": {
             "line": {
              "color": "#E5ECF6",
              "width": 0.5
             },
             "pattern": {
              "fillmode": "overlay",
              "size": 10,
              "solidity": 0.2
             }
            },
            "type": "barpolar"
           }
          ],
          "carpet": [
           {
            "aaxis": {
             "endlinecolor": "#2a3f5f",
             "gridcolor": "white",
             "linecolor": "white",
             "minorgridcolor": "white",
             "startlinecolor": "#2a3f5f"
            },
            "baxis": {
             "endlinecolor": "#2a3f5f",
             "gridcolor": "white",
             "linecolor": "white",
             "minorgridcolor": "white",
             "startlinecolor": "#2a3f5f"
            },
            "type": "carpet"
           }
          ],
          "choropleth": [
           {
            "colorbar": {
             "outlinewidth": 0,
             "ticks": ""
            },
            "type": "choropleth"
           }
          ],
          "contour": [
           {
            "colorbar": {
             "outlinewidth": 0,
             "ticks": ""
            },
            "colorscale": [
             [
              0,
              "#0d0887"
             ],
             [
              0.1111111111111111,
              "#46039f"
             ],
             [
              0.2222222222222222,
              "#7201a8"
             ],
             [
              0.3333333333333333,
              "#9c179e"
             ],
             [
              0.4444444444444444,
              "#bd3786"
             ],
             [
              0.5555555555555556,
              "#d8576b"
             ],
             [
              0.6666666666666666,
              "#ed7953"
             ],
             [
              0.7777777777777778,
              "#fb9f3a"
             ],
             [
              0.8888888888888888,
              "#fdca26"
             ],
             [
              1,
              "#f0f921"
             ]
            ],
            "type": "contour"
           }
          ],
          "contourcarpet": [
           {
            "colorbar": {
             "outlinewidth": 0,
             "ticks": ""
            },
            "type": "contourcarpet"
           }
          ],
          "heatmap": [
           {
            "colorbar": {
             "outlinewidth": 0,
             "ticks": ""
            },
            "colorscale": [
             [
              0,
              "#0d0887"
             ],
             [
              0.1111111111111111,
              "#46039f"
             ],
             [
              0.2222222222222222,
              "#7201a8"
             ],
             [
              0.3333333333333333,
              "#9c179e"
             ],
             [
              0.4444444444444444,
              "#bd3786"
             ],
             [
              0.5555555555555556,
              "#d8576b"
             ],
             [
              0.6666666666666666,
              "#ed7953"
             ],
             [
              0.7777777777777778,
              "#fb9f3a"
             ],
             [
              0.8888888888888888,
              "#fdca26"
             ],
             [
              1,
              "#f0f921"
             ]
            ],
            "type": "heatmap"
           }
          ],
          "heatmapgl": [
           {
            "colorbar": {
             "outlinewidth": 0,
             "ticks": ""
            },
            "colorscale": [
             [
              0,
              "#0d0887"
             ],
             [
              0.1111111111111111,
              "#46039f"
             ],
             [
              0.2222222222222222,
              "#7201a8"
             ],
             [
              0.3333333333333333,
              "#9c179e"
             ],
             [
              0.4444444444444444,
              "#bd3786"
             ],
             [
              0.5555555555555556,
              "#d8576b"
             ],
             [
              0.6666666666666666,
              "#ed7953"
             ],
             [
              0.7777777777777778,
              "#fb9f3a"
             ],
             [
              0.8888888888888888,
              "#fdca26"
             ],
             [
              1,
              "#f0f921"
             ]
            ],
            "type": "heatmapgl"
           }
          ],
          "histogram": [
           {
            "marker": {
             "pattern": {
              "fillmode": "overlay",
              "size": 10,
              "solidity": 0.2
             }
            },
            "type": "histogram"
           }
          ],
          "histogram2d": [
           {
            "colorbar": {
             "outlinewidth": 0,
             "ticks": ""
            },
            "colorscale": [
             [
              0,
              "#0d0887"
             ],
             [
              0.1111111111111111,
              "#46039f"
             ],
             [
              0.2222222222222222,
              "#7201a8"
             ],
             [
              0.3333333333333333,
              "#9c179e"
             ],
             [
              0.4444444444444444,
              "#bd3786"
             ],
             [
              0.5555555555555556,
              "#d8576b"
             ],
             [
              0.6666666666666666,
              "#ed7953"
             ],
             [
              0.7777777777777778,
              "#fb9f3a"
             ],
             [
              0.8888888888888888,
              "#fdca26"
             ],
             [
              1,
              "#f0f921"
             ]
            ],
            "type": "histogram2d"
           }
          ],
          "histogram2dcontour": [
           {
            "colorbar": {
             "outlinewidth": 0,
             "ticks": ""
            },
            "colorscale": [
             [
              0,
              "#0d0887"
             ],
             [
              0.1111111111111111,
              "#46039f"
             ],
             [
              0.2222222222222222,
              "#7201a8"
             ],
             [
              0.3333333333333333,
              "#9c179e"
             ],
             [
              0.4444444444444444,
              "#bd3786"
             ],
             [
              0.5555555555555556,
              "#d8576b"
             ],
             [
              0.6666666666666666,
              "#ed7953"
             ],
             [
              0.7777777777777778,
              "#fb9f3a"
             ],
             [
              0.8888888888888888,
              "#fdca26"
             ],
             [
              1,
              "#f0f921"
             ]
            ],
            "type": "histogram2dcontour"
           }
          ],
          "mesh3d": [
           {
            "colorbar": {
             "outlinewidth": 0,
             "ticks": ""
            },
            "type": "mesh3d"
           }
          ],
          "parcoords": [
           {
            "line": {
             "colorbar": {
              "outlinewidth": 0,
              "ticks": ""
             }
            },
            "type": "parcoords"
           }
          ],
          "pie": [
           {
            "automargin": true,
            "type": "pie"
           }
          ],
          "scatter": [
           {
            "fillpattern": {
             "fillmode": "overlay",
             "size": 10,
             "solidity": 0.2
            },
            "type": "scatter"
           }
          ],
          "scatter3d": [
           {
            "line": {
             "colorbar": {
              "outlinewidth": 0,
              "ticks": ""
             }
            },
            "marker": {
             "colorbar": {
              "outlinewidth": 0,
              "ticks": ""
             }
            },
            "type": "scatter3d"
           }
          ],
          "scattercarpet": [
           {
            "marker": {
             "colorbar": {
              "outlinewidth": 0,
              "ticks": ""
             }
            },
            "type": "scattercarpet"
           }
          ],
          "scattergeo": [
           {
            "marker": {
             "colorbar": {
              "outlinewidth": 0,
              "ticks": ""
             }
            },
            "type": "scattergeo"
           }
          ],
          "scattergl": [
           {
            "marker": {
             "colorbar": {
              "outlinewidth": 0,
              "ticks": ""
             }
            },
            "type": "scattergl"
           }
          ],
          "scattermapbox": [
           {
            "marker": {
             "colorbar": {
              "outlinewidth": 0,
              "ticks": ""
             }
            },
            "type": "scattermapbox"
           }
          ],
          "scatterpolar": [
           {
            "marker": {
             "colorbar": {
              "outlinewidth": 0,
              "ticks": ""
             }
            },
            "type": "scatterpolar"
           }
          ],
          "scatterpolargl": [
           {
            "marker": {
             "colorbar": {
              "outlinewidth": 0,
              "ticks": ""
             }
            },
            "type": "scatterpolargl"
           }
          ],
          "scatterternary": [
           {
            "marker": {
             "colorbar": {
              "outlinewidth": 0,
              "ticks": ""
             }
            },
            "type": "scatterternary"
           }
          ],
          "surface": [
           {
            "colorbar": {
             "outlinewidth": 0,
             "ticks": ""
            },
            "colorscale": [
             [
              0,
              "#0d0887"
             ],
             [
              0.1111111111111111,
              "#46039f"
             ],
             [
              0.2222222222222222,
              "#7201a8"
             ],
             [
              0.3333333333333333,
              "#9c179e"
             ],
             [
              0.4444444444444444,
              "#bd3786"
             ],
             [
              0.5555555555555556,
              "#d8576b"
             ],
             [
              0.6666666666666666,
              "#ed7953"
             ],
             [
              0.7777777777777778,
              "#fb9f3a"
             ],
             [
              0.8888888888888888,
              "#fdca26"
             ],
             [
              1,
              "#f0f921"
             ]
            ],
            "type": "surface"
           }
          ],
          "table": [
           {
            "cells": {
             "fill": {
              "color": "#EBF0F8"
             },
             "line": {
              "color": "white"
             }
            },
            "header": {
             "fill": {
              "color": "#C8D4E3"
             },
             "line": {
              "color": "white"
             }
            },
            "type": "table"
           }
          ]
         },
         "layout": {
          "annotationdefaults": {
           "arrowcolor": "#2a3f5f",
           "arrowhead": 0,
           "arrowwidth": 1
          },
          "autotypenumbers": "strict",
          "coloraxis": {
           "colorbar": {
            "outlinewidth": 0,
            "ticks": ""
           }
          },
          "colorscale": {
           "diverging": [
            [
             0,
             "#8e0152"
            ],
            [
             0.1,
             "#c51b7d"
            ],
            [
             0.2,
             "#de77ae"
            ],
            [
             0.3,
             "#f1b6da"
            ],
            [
             0.4,
             "#fde0ef"
            ],
            [
             0.5,
             "#f7f7f7"
            ],
            [
             0.6,
             "#e6f5d0"
            ],
            [
             0.7,
             "#b8e186"
            ],
            [
             0.8,
             "#7fbc41"
            ],
            [
             0.9,
             "#4d9221"
            ],
            [
             1,
             "#276419"
            ]
           ],
           "sequential": [
            [
             0,
             "#0d0887"
            ],
            [
             0.1111111111111111,
             "#46039f"
            ],
            [
             0.2222222222222222,
             "#7201a8"
            ],
            [
             0.3333333333333333,
             "#9c179e"
            ],
            [
             0.4444444444444444,
             "#bd3786"
            ],
            [
             0.5555555555555556,
             "#d8576b"
            ],
            [
             0.6666666666666666,
             "#ed7953"
            ],
            [
             0.7777777777777778,
             "#fb9f3a"
            ],
            [
             0.8888888888888888,
             "#fdca26"
            ],
            [
             1,
             "#f0f921"
            ]
           ],
           "sequentialminus": [
            [
             0,
             "#0d0887"
            ],
            [
             0.1111111111111111,
             "#46039f"
            ],
            [
             0.2222222222222222,
             "#7201a8"
            ],
            [
             0.3333333333333333,
             "#9c179e"
            ],
            [
             0.4444444444444444,
             "#bd3786"
            ],
            [
             0.5555555555555556,
             "#d8576b"
            ],
            [
             0.6666666666666666,
             "#ed7953"
            ],
            [
             0.7777777777777778,
             "#fb9f3a"
            ],
            [
             0.8888888888888888,
             "#fdca26"
            ],
            [
             1,
             "#f0f921"
            ]
           ]
          },
          "colorway": [
           "#636efa",
           "#EF553B",
           "#00cc96",
           "#ab63fa",
           "#FFA15A",
           "#19d3f3",
           "#FF6692",
           "#B6E880",
           "#FF97FF",
           "#FECB52"
          ],
          "font": {
           "color": "#2a3f5f"
          },
          "geo": {
           "bgcolor": "white",
           "lakecolor": "white",
           "landcolor": "#E5ECF6",
           "showlakes": true,
           "showland": true,
           "subunitcolor": "white"
          },
          "hoverlabel": {
           "align": "left"
          },
          "hovermode": "closest",
          "mapbox": {
           "style": "light"
          },
          "paper_bgcolor": "white",
          "plot_bgcolor": "#E5ECF6",
          "polar": {
           "angularaxis": {
            "gridcolor": "white",
            "linecolor": "white",
            "ticks": ""
           },
           "bgcolor": "#E5ECF6",
           "radialaxis": {
            "gridcolor": "white",
            "linecolor": "white",
            "ticks": ""
           }
          },
          "scene": {
           "xaxis": {
            "backgroundcolor": "#E5ECF6",
            "gridcolor": "white",
            "gridwidth": 2,
            "linecolor": "white",
            "showbackground": true,
            "ticks": "",
            "zerolinecolor": "white"
           },
           "yaxis": {
            "backgroundcolor": "#E5ECF6",
            "gridcolor": "white",
            "gridwidth": 2,
            "linecolor": "white",
            "showbackground": true,
            "ticks": "",
            "zerolinecolor": "white"
           },
           "zaxis": {
            "backgroundcolor": "#E5ECF6",
            "gridcolor": "white",
            "gridwidth": 2,
            "linecolor": "white",
            "showbackground": true,
            "ticks": "",
            "zerolinecolor": "white"
           }
          },
          "shapedefaults": {
           "line": {
            "color": "#2a3f5f"
           }
          },
          "ternary": {
           "aaxis": {
            "gridcolor": "white",
            "linecolor": "white",
            "ticks": ""
           },
           "baxis": {
            "gridcolor": "white",
            "linecolor": "white",
            "ticks": ""
           },
           "bgcolor": "#E5ECF6",
           "caxis": {
            "gridcolor": "white",
            "linecolor": "white",
            "ticks": ""
           }
          },
          "title": {
           "x": 0.05
          },
          "xaxis": {
           "automargin": true,
           "gridcolor": "white",
           "linecolor": "white",
           "ticks": "",
           "title": {
            "standoff": 15
           },
           "zerolinecolor": "white",
           "zerolinewidth": 2
          },
          "yaxis": {
           "automargin": true,
           "gridcolor": "white",
           "linecolor": "white",
           "ticks": "",
           "title": {
            "standoff": 15
           },
           "zerolinecolor": "white",
           "zerolinewidth": 2
          }
         }
        },
        "xaxis": {
         "anchor": "y",
         "domain": [
          0,
          1
         ],
         "title": {
          "text": "Strategy"
         }
        },
        "yaxis": {
         "anchor": "x",
         "domain": [
          0,
          1
         ],
         "title": {
          "text": "Sharpe ratio"
         }
        }
       }
      }
     },
     "metadata": {},
     "output_type": "display_data"
    }
   ],
   "source": [
    "compare_plot('mns1','sds1','c1')"
   ]
  },
  {
   "cell_type": "markdown",
   "metadata": {},
   "source": [
    "### Less expected return variation"
   ]
  },
  {
   "cell_type": "code",
   "execution_count": 35,
   "metadata": {},
   "outputs": [
    {
     "data": {
      "application/vnd.plotly.v1+json": {
       "config": {
        "plotlyServerURL": "https://plot.ly"
       },
       "data": [
        {
         "alignmentgroup": "True",
         "bingroup": "x",
         "histfunc": "avg",
         "hovertemplate": "window=10<br>strategy=%{x}<br>avg of sr=%{y}<extra></extra>",
         "legendgroup": "10",
         "marker": {
          "color": "#636efa",
          "pattern": {
           "shape": ""
          }
         },
         "name": "10",
         "offsetgroup": "10",
         "orientation": "v",
         "showlegend": true,
         "type": "histogram",
         "x": [
          "True",
          "Est-All",
          "Est-SD-Corr",
          "Est-SD",
          "Est-None"
         ],
         "xaxis": "x",
         "y": [
          0.439653005020437,
          0.20570077318324392,
          0.2097925426667772,
          0.30912793208008316,
          0.31770719141314907
         ],
         "yaxis": "y"
        },
        {
         "alignmentgroup": "True",
         "bingroup": "x",
         "histfunc": "avg",
         "hovertemplate": "window=20<br>strategy=%{x}<br>avg of sr=%{y}<extra></extra>",
         "legendgroup": "20",
         "marker": {
          "color": "#EF553B",
          "pattern": {
           "shape": ""
          }
         },
         "name": "20",
         "offsetgroup": "20",
         "orientation": "v",
         "showlegend": true,
         "type": "histogram",
         "x": [
          "True",
          "Est-All",
          "Est-SD-Corr",
          "Est-SD",
          "Est-None"
         ],
         "xaxis": "x",
         "y": [
          0.4342766492237041,
          0.275293603706675,
          0.2676299355056734,
          0.343015288203871,
          0.34837923970242024
         ],
         "yaxis": "y"
        },
        {
         "alignmentgroup": "True",
         "bingroup": "x",
         "histfunc": "avg",
         "hovertemplate": "window=30<br>strategy=%{x}<br>avg of sr=%{y}<extra></extra>",
         "legendgroup": "30",
         "marker": {
          "color": "#00cc96",
          "pattern": {
           "shape": ""
          }
         },
         "name": "30",
         "offsetgroup": "30",
         "orientation": "v",
         "showlegend": true,
         "type": "histogram",
         "x": [
          "True",
          "Est-All",
          "Est-SD-Corr",
          "Est-SD",
          "Est-None"
         ],
         "xaxis": "x",
         "y": [
          0.4319303023720883,
          0.3075747177789318,
          0.28802780883076345,
          0.36134583665125575,
          0.36675554745470174
         ],
         "yaxis": "y"
        },
        {
         "alignmentgroup": "True",
         "bingroup": "x",
         "histfunc": "avg",
         "hovertemplate": "window=40<br>strategy=%{x}<br>avg of sr=%{y}<extra></extra>",
         "legendgroup": "40",
         "marker": {
          "color": "#ab63fa",
          "pattern": {
           "shape": ""
          }
         },
         "name": "40",
         "offsetgroup": "40",
         "orientation": "v",
         "showlegend": true,
         "type": "histogram",
         "x": [
          "True",
          "Est-All",
          "Est-SD-Corr",
          "Est-SD",
          "Est-None"
         ],
         "xaxis": "x",
         "y": [
          0.4411955149200643,
          0.3338769209847611,
          0.3043645221435796,
          0.3803275829995453,
          0.38596496080590625
         ],
         "yaxis": "y"
        },
        {
         "alignmentgroup": "True",
         "bingroup": "x",
         "histfunc": "avg",
         "hovertemplate": "window=50<br>strategy=%{x}<br>avg of sr=%{y}<extra></extra>",
         "legendgroup": "50",
         "marker": {
          "color": "#FFA15A",
          "pattern": {
           "shape": ""
          }
         },
         "name": "50",
         "offsetgroup": "50",
         "orientation": "v",
         "showlegend": true,
         "type": "histogram",
         "x": [
          "True",
          "Est-All",
          "Est-SD-Corr",
          "Est-SD",
          "Est-None"
         ],
         "xaxis": "x",
         "y": [
          0.4487822346887822,
          0.3587203799307046,
          0.3271685936334044,
          0.40423992441234435,
          0.40946510868009045
         ],
         "yaxis": "y"
        }
       ],
       "layout": {
        "barmode": "group",
        "height": 400,
        "legend": {
         "title": {
          "text": "window"
         },
         "tracegroupgap": 0
        },
        "margin": {
         "t": 60
        },
        "template": {
         "data": {
          "bar": [
           {
            "error_x": {
             "color": "#2a3f5f"
            },
            "error_y": {
             "color": "#2a3f5f"
            },
            "marker": {
             "line": {
              "color": "#E5ECF6",
              "width": 0.5
             },
             "pattern": {
              "fillmode": "overlay",
              "size": 10,
              "solidity": 0.2
             }
            },
            "type": "bar"
           }
          ],
          "barpolar": [
           {
            "marker": {
             "line": {
              "color": "#E5ECF6",
              "width": 0.5
             },
             "pattern": {
              "fillmode": "overlay",
              "size": 10,
              "solidity": 0.2
             }
            },
            "type": "barpolar"
           }
          ],
          "carpet": [
           {
            "aaxis": {
             "endlinecolor": "#2a3f5f",
             "gridcolor": "white",
             "linecolor": "white",
             "minorgridcolor": "white",
             "startlinecolor": "#2a3f5f"
            },
            "baxis": {
             "endlinecolor": "#2a3f5f",
             "gridcolor": "white",
             "linecolor": "white",
             "minorgridcolor": "white",
             "startlinecolor": "#2a3f5f"
            },
            "type": "carpet"
           }
          ],
          "choropleth": [
           {
            "colorbar": {
             "outlinewidth": 0,
             "ticks": ""
            },
            "type": "choropleth"
           }
          ],
          "contour": [
           {
            "colorbar": {
             "outlinewidth": 0,
             "ticks": ""
            },
            "colorscale": [
             [
              0,
              "#0d0887"
             ],
             [
              0.1111111111111111,
              "#46039f"
             ],
             [
              0.2222222222222222,
              "#7201a8"
             ],
             [
              0.3333333333333333,
              "#9c179e"
             ],
             [
              0.4444444444444444,
              "#bd3786"
             ],
             [
              0.5555555555555556,
              "#d8576b"
             ],
             [
              0.6666666666666666,
              "#ed7953"
             ],
             [
              0.7777777777777778,
              "#fb9f3a"
             ],
             [
              0.8888888888888888,
              "#fdca26"
             ],
             [
              1,
              "#f0f921"
             ]
            ],
            "type": "contour"
           }
          ],
          "contourcarpet": [
           {
            "colorbar": {
             "outlinewidth": 0,
             "ticks": ""
            },
            "type": "contourcarpet"
           }
          ],
          "heatmap": [
           {
            "colorbar": {
             "outlinewidth": 0,
             "ticks": ""
            },
            "colorscale": [
             [
              0,
              "#0d0887"
             ],
             [
              0.1111111111111111,
              "#46039f"
             ],
             [
              0.2222222222222222,
              "#7201a8"
             ],
             [
              0.3333333333333333,
              "#9c179e"
             ],
             [
              0.4444444444444444,
              "#bd3786"
             ],
             [
              0.5555555555555556,
              "#d8576b"
             ],
             [
              0.6666666666666666,
              "#ed7953"
             ],
             [
              0.7777777777777778,
              "#fb9f3a"
             ],
             [
              0.8888888888888888,
              "#fdca26"
             ],
             [
              1,
              "#f0f921"
             ]
            ],
            "type": "heatmap"
           }
          ],
          "heatmapgl": [
           {
            "colorbar": {
             "outlinewidth": 0,
             "ticks": ""
            },
            "colorscale": [
             [
              0,
              "#0d0887"
             ],
             [
              0.1111111111111111,
              "#46039f"
             ],
             [
              0.2222222222222222,
              "#7201a8"
             ],
             [
              0.3333333333333333,
              "#9c179e"
             ],
             [
              0.4444444444444444,
              "#bd3786"
             ],
             [
              0.5555555555555556,
              "#d8576b"
             ],
             [
              0.6666666666666666,
              "#ed7953"
             ],
             [
              0.7777777777777778,
              "#fb9f3a"
             ],
             [
              0.8888888888888888,
              "#fdca26"
             ],
             [
              1,
              "#f0f921"
             ]
            ],
            "type": "heatmapgl"
           }
          ],
          "histogram": [
           {
            "marker": {
             "pattern": {
              "fillmode": "overlay",
              "size": 10,
              "solidity": 0.2
             }
            },
            "type": "histogram"
           }
          ],
          "histogram2d": [
           {
            "colorbar": {
             "outlinewidth": 0,
             "ticks": ""
            },
            "colorscale": [
             [
              0,
              "#0d0887"
             ],
             [
              0.1111111111111111,
              "#46039f"
             ],
             [
              0.2222222222222222,
              "#7201a8"
             ],
             [
              0.3333333333333333,
              "#9c179e"
             ],
             [
              0.4444444444444444,
              "#bd3786"
             ],
             [
              0.5555555555555556,
              "#d8576b"
             ],
             [
              0.6666666666666666,
              "#ed7953"
             ],
             [
              0.7777777777777778,
              "#fb9f3a"
             ],
             [
              0.8888888888888888,
              "#fdca26"
             ],
             [
              1,
              "#f0f921"
             ]
            ],
            "type": "histogram2d"
           }
          ],
          "histogram2dcontour": [
           {
            "colorbar": {
             "outlinewidth": 0,
             "ticks": ""
            },
            "colorscale": [
             [
              0,
              "#0d0887"
             ],
             [
              0.1111111111111111,
              "#46039f"
             ],
             [
              0.2222222222222222,
              "#7201a8"
             ],
             [
              0.3333333333333333,
              "#9c179e"
             ],
             [
              0.4444444444444444,
              "#bd3786"
             ],
             [
              0.5555555555555556,
              "#d8576b"
             ],
             [
              0.6666666666666666,
              "#ed7953"
             ],
             [
              0.7777777777777778,
              "#fb9f3a"
             ],
             [
              0.8888888888888888,
              "#fdca26"
             ],
             [
              1,
              "#f0f921"
             ]
            ],
            "type": "histogram2dcontour"
           }
          ],
          "mesh3d": [
           {
            "colorbar": {
             "outlinewidth": 0,
             "ticks": ""
            },
            "type": "mesh3d"
           }
          ],
          "parcoords": [
           {
            "line": {
             "colorbar": {
              "outlinewidth": 0,
              "ticks": ""
             }
            },
            "type": "parcoords"
           }
          ],
          "pie": [
           {
            "automargin": true,
            "type": "pie"
           }
          ],
          "scatter": [
           {
            "fillpattern": {
             "fillmode": "overlay",
             "size": 10,
             "solidity": 0.2
            },
            "type": "scatter"
           }
          ],
          "scatter3d": [
           {
            "line": {
             "colorbar": {
              "outlinewidth": 0,
              "ticks": ""
             }
            },
            "marker": {
             "colorbar": {
              "outlinewidth": 0,
              "ticks": ""
             }
            },
            "type": "scatter3d"
           }
          ],
          "scattercarpet": [
           {
            "marker": {
             "colorbar": {
              "outlinewidth": 0,
              "ticks": ""
             }
            },
            "type": "scattercarpet"
           }
          ],
          "scattergeo": [
           {
            "marker": {
             "colorbar": {
              "outlinewidth": 0,
              "ticks": ""
             }
            },
            "type": "scattergeo"
           }
          ],
          "scattergl": [
           {
            "marker": {
             "colorbar": {
              "outlinewidth": 0,
              "ticks": ""
             }
            },
            "type": "scattergl"
           }
          ],
          "scattermapbox": [
           {
            "marker": {
             "colorbar": {
              "outlinewidth": 0,
              "ticks": ""
             }
            },
            "type": "scattermapbox"
           }
          ],
          "scatterpolar": [
           {
            "marker": {
             "colorbar": {
              "outlinewidth": 0,
              "ticks": ""
             }
            },
            "type": "scatterpolar"
           }
          ],
          "scatterpolargl": [
           {
            "marker": {
             "colorbar": {
              "outlinewidth": 0,
              "ticks": ""
             }
            },
            "type": "scatterpolargl"
           }
          ],
          "scatterternary": [
           {
            "marker": {
             "colorbar": {
              "outlinewidth": 0,
              "ticks": ""
             }
            },
            "type": "scatterternary"
           }
          ],
          "surface": [
           {
            "colorbar": {
             "outlinewidth": 0,
             "ticks": ""
            },
            "colorscale": [
             [
              0,
              "#0d0887"
             ],
             [
              0.1111111111111111,
              "#46039f"
             ],
             [
              0.2222222222222222,
              "#7201a8"
             ],
             [
              0.3333333333333333,
              "#9c179e"
             ],
             [
              0.4444444444444444,
              "#bd3786"
             ],
             [
              0.5555555555555556,
              "#d8576b"
             ],
             [
              0.6666666666666666,
              "#ed7953"
             ],
             [
              0.7777777777777778,
              "#fb9f3a"
             ],
             [
              0.8888888888888888,
              "#fdca26"
             ],
             [
              1,
              "#f0f921"
             ]
            ],
            "type": "surface"
           }
          ],
          "table": [
           {
            "cells": {
             "fill": {
              "color": "#EBF0F8"
             },
             "line": {
              "color": "white"
             }
            },
            "header": {
             "fill": {
              "color": "#C8D4E3"
             },
             "line": {
              "color": "white"
             }
            },
            "type": "table"
           }
          ]
         },
         "layout": {
          "annotationdefaults": {
           "arrowcolor": "#2a3f5f",
           "arrowhead": 0,
           "arrowwidth": 1
          },
          "autotypenumbers": "strict",
          "coloraxis": {
           "colorbar": {
            "outlinewidth": 0,
            "ticks": ""
           }
          },
          "colorscale": {
           "diverging": [
            [
             0,
             "#8e0152"
            ],
            [
             0.1,
             "#c51b7d"
            ],
            [
             0.2,
             "#de77ae"
            ],
            [
             0.3,
             "#f1b6da"
            ],
            [
             0.4,
             "#fde0ef"
            ],
            [
             0.5,
             "#f7f7f7"
            ],
            [
             0.6,
             "#e6f5d0"
            ],
            [
             0.7,
             "#b8e186"
            ],
            [
             0.8,
             "#7fbc41"
            ],
            [
             0.9,
             "#4d9221"
            ],
            [
             1,
             "#276419"
            ]
           ],
           "sequential": [
            [
             0,
             "#0d0887"
            ],
            [
             0.1111111111111111,
             "#46039f"
            ],
            [
             0.2222222222222222,
             "#7201a8"
            ],
            [
             0.3333333333333333,
             "#9c179e"
            ],
            [
             0.4444444444444444,
             "#bd3786"
            ],
            [
             0.5555555555555556,
             "#d8576b"
            ],
            [
             0.6666666666666666,
             "#ed7953"
            ],
            [
             0.7777777777777778,
             "#fb9f3a"
            ],
            [
             0.8888888888888888,
             "#fdca26"
            ],
            [
             1,
             "#f0f921"
            ]
           ],
           "sequentialminus": [
            [
             0,
             "#0d0887"
            ],
            [
             0.1111111111111111,
             "#46039f"
            ],
            [
             0.2222222222222222,
             "#7201a8"
            ],
            [
             0.3333333333333333,
             "#9c179e"
            ],
            [
             0.4444444444444444,
             "#bd3786"
            ],
            [
             0.5555555555555556,
             "#d8576b"
            ],
            [
             0.6666666666666666,
             "#ed7953"
            ],
            [
             0.7777777777777778,
             "#fb9f3a"
            ],
            [
             0.8888888888888888,
             "#fdca26"
            ],
            [
             1,
             "#f0f921"
            ]
           ]
          },
          "colorway": [
           "#636efa",
           "#EF553B",
           "#00cc96",
           "#ab63fa",
           "#FFA15A",
           "#19d3f3",
           "#FF6692",
           "#B6E880",
           "#FF97FF",
           "#FECB52"
          ],
          "font": {
           "color": "#2a3f5f"
          },
          "geo": {
           "bgcolor": "white",
           "lakecolor": "white",
           "landcolor": "#E5ECF6",
           "showlakes": true,
           "showland": true,
           "subunitcolor": "white"
          },
          "hoverlabel": {
           "align": "left"
          },
          "hovermode": "closest",
          "mapbox": {
           "style": "light"
          },
          "paper_bgcolor": "white",
          "plot_bgcolor": "#E5ECF6",
          "polar": {
           "angularaxis": {
            "gridcolor": "white",
            "linecolor": "white",
            "ticks": ""
           },
           "bgcolor": "#E5ECF6",
           "radialaxis": {
            "gridcolor": "white",
            "linecolor": "white",
            "ticks": ""
           }
          },
          "scene": {
           "xaxis": {
            "backgroundcolor": "#E5ECF6",
            "gridcolor": "white",
            "gridwidth": 2,
            "linecolor": "white",
            "showbackground": true,
            "ticks": "",
            "zerolinecolor": "white"
           },
           "yaxis": {
            "backgroundcolor": "#E5ECF6",
            "gridcolor": "white",
            "gridwidth": 2,
            "linecolor": "white",
            "showbackground": true,
            "ticks": "",
            "zerolinecolor": "white"
           },
           "zaxis": {
            "backgroundcolor": "#E5ECF6",
            "gridcolor": "white",
            "gridwidth": 2,
            "linecolor": "white",
            "showbackground": true,
            "ticks": "",
            "zerolinecolor": "white"
           }
          },
          "shapedefaults": {
           "line": {
            "color": "#2a3f5f"
           }
          },
          "ternary": {
           "aaxis": {
            "gridcolor": "white",
            "linecolor": "white",
            "ticks": ""
           },
           "baxis": {
            "gridcolor": "white",
            "linecolor": "white",
            "ticks": ""
           },
           "bgcolor": "#E5ECF6",
           "caxis": {
            "gridcolor": "white",
            "linecolor": "white",
            "ticks": ""
           }
          },
          "title": {
           "x": 0.05
          },
          "xaxis": {
           "automargin": true,
           "gridcolor": "white",
           "linecolor": "white",
           "ticks": "",
           "title": {
            "standoff": 15
           },
           "zerolinecolor": "white",
           "zerolinewidth": 2
          },
          "yaxis": {
           "automargin": true,
           "gridcolor": "white",
           "linecolor": "white",
           "ticks": "",
           "title": {
            "standoff": 15
           },
           "zerolinecolor": "white",
           "zerolinewidth": 2
          }
         }
        },
        "xaxis": {
         "anchor": "y",
         "domain": [
          0,
          1
         ],
         "title": {
          "text": "Strategy"
         }
        },
        "yaxis": {
         "anchor": "x",
         "domain": [
          0,
          1
         ],
         "title": {
          "text": "Sharpe ratio"
         }
        }
       }
      }
     },
     "metadata": {},
     "output_type": "display_data"
    }
   ],
   "source": [
    "\n",
    "compare_plot('mns2','sds1','c1')"
   ]
  },
  {
   "attachments": {},
   "cell_type": "markdown",
   "metadata": {},
   "source": [
    "### Compare average sharpe ratios across strategies for a single estimation window size"
   ]
  },
  {
   "cell_type": "code",
   "execution_count": 36,
   "metadata": {},
   "outputs": [],
   "source": [
    "def compare_means_singlehorizon(mns,sds,corr,w):\n",
    "    newdf = stats.loc[(mns,sds,corr,w)].reset_index()\n",
    "    newdf.columns=['strategy','sr']\n",
    "\n",
    "    label_dict = {'true':'True',\n",
    "                'est_none': 'Est-None',\n",
    "                'est_all': 'Est-All',\n",
    "                'est_sd_corr': 'Est-SD-Corr',\n",
    "                'est_sd': 'Est-SD'}\n",
    "\n",
    "    newdf['strategy'] = newdf['strategy'].apply(lambda y: label_dict[y])\n",
    "    # newdf['window'] = newdf['window'].apply(lambda y: window_dict[y])\n",
    "    # newdf\n",
    "    import plotly.express as px\n",
    "    fig = go.Figure()\n",
    "    fig = px.histogram(newdf, x=\"strategy\", y=\"sr\", barmode='group', histfunc='avg',\n",
    "                height=400)\n",
    "    fig.layout.yaxis[\"title\"] = \"Sharpe ratio\"\n",
    "    fig.layout.xaxis[\"title\"] = \"Strategy\" \n",
    "    fig.update_layout(title_text='Estimation window is: ' + str(window_dict[w]) + ' years')\n",
    "    fig.show()"
   ]
  },
  {
   "cell_type": "markdown",
   "metadata": {},
   "source": [
    "### More expected return variation"
   ]
  },
  {
   "cell_type": "code",
   "execution_count": 37,
   "metadata": {},
   "outputs": [
    {
     "data": {
      "application/vnd.plotly.v1+json": {
       "config": {
        "plotlyServerURL": "https://plot.ly"
       },
       "data": [
        {
         "alignmentgroup": "True",
         "bingroup": "x",
         "histfunc": "avg",
         "hovertemplate": "strategy=%{x}<br>avg of sr=%{y}<extra></extra>",
         "legendgroup": "",
         "marker": {
          "color": "#636efa",
          "pattern": {
           "shape": ""
          }
         },
         "name": "",
         "offsetgroup": "",
         "orientation": "v",
         "showlegend": false,
         "type": "histogram",
         "x": [
          "True",
          "Est-All",
          "Est-SD-Corr",
          "Est-SD",
          "Est-None"
         ],
         "xaxis": "x",
         "y": [
          0.5462268430267868,
          0.4287575593379311,
          0.15190637040503874,
          0.3330606552107961,
          0.3667555474547018
         ],
         "yaxis": "y"
        }
       ],
       "layout": {
        "barmode": "group",
        "height": 400,
        "legend": {
         "tracegroupgap": 0
        },
        "margin": {
         "t": 60
        },
        "template": {
         "data": {
          "bar": [
           {
            "error_x": {
             "color": "#2a3f5f"
            },
            "error_y": {
             "color": "#2a3f5f"
            },
            "marker": {
             "line": {
              "color": "#E5ECF6",
              "width": 0.5
             },
             "pattern": {
              "fillmode": "overlay",
              "size": 10,
              "solidity": 0.2
             }
            },
            "type": "bar"
           }
          ],
          "barpolar": [
           {
            "marker": {
             "line": {
              "color": "#E5ECF6",
              "width": 0.5
             },
             "pattern": {
              "fillmode": "overlay",
              "size": 10,
              "solidity": 0.2
             }
            },
            "type": "barpolar"
           }
          ],
          "carpet": [
           {
            "aaxis": {
             "endlinecolor": "#2a3f5f",
             "gridcolor": "white",
             "linecolor": "white",
             "minorgridcolor": "white",
             "startlinecolor": "#2a3f5f"
            },
            "baxis": {
             "endlinecolor": "#2a3f5f",
             "gridcolor": "white",
             "linecolor": "white",
             "minorgridcolor": "white",
             "startlinecolor": "#2a3f5f"
            },
            "type": "carpet"
           }
          ],
          "choropleth": [
           {
            "colorbar": {
             "outlinewidth": 0,
             "ticks": ""
            },
            "type": "choropleth"
           }
          ],
          "contour": [
           {
            "colorbar": {
             "outlinewidth": 0,
             "ticks": ""
            },
            "colorscale": [
             [
              0,
              "#0d0887"
             ],
             [
              0.1111111111111111,
              "#46039f"
             ],
             [
              0.2222222222222222,
              "#7201a8"
             ],
             [
              0.3333333333333333,
              "#9c179e"
             ],
             [
              0.4444444444444444,
              "#bd3786"
             ],
             [
              0.5555555555555556,
              "#d8576b"
             ],
             [
              0.6666666666666666,
              "#ed7953"
             ],
             [
              0.7777777777777778,
              "#fb9f3a"
             ],
             [
              0.8888888888888888,
              "#fdca26"
             ],
             [
              1,
              "#f0f921"
             ]
            ],
            "type": "contour"
           }
          ],
          "contourcarpet": [
           {
            "colorbar": {
             "outlinewidth": 0,
             "ticks": ""
            },
            "type": "contourcarpet"
           }
          ],
          "heatmap": [
           {
            "colorbar": {
             "outlinewidth": 0,
             "ticks": ""
            },
            "colorscale": [
             [
              0,
              "#0d0887"
             ],
             [
              0.1111111111111111,
              "#46039f"
             ],
             [
              0.2222222222222222,
              "#7201a8"
             ],
             [
              0.3333333333333333,
              "#9c179e"
             ],
             [
              0.4444444444444444,
              "#bd3786"
             ],
             [
              0.5555555555555556,
              "#d8576b"
             ],
             [
              0.6666666666666666,
              "#ed7953"
             ],
             [
              0.7777777777777778,
              "#fb9f3a"
             ],
             [
              0.8888888888888888,
              "#fdca26"
             ],
             [
              1,
              "#f0f921"
             ]
            ],
            "type": "heatmap"
           }
          ],
          "heatmapgl": [
           {
            "colorbar": {
             "outlinewidth": 0,
             "ticks": ""
            },
            "colorscale": [
             [
              0,
              "#0d0887"
             ],
             [
              0.1111111111111111,
              "#46039f"
             ],
             [
              0.2222222222222222,
              "#7201a8"
             ],
             [
              0.3333333333333333,
              "#9c179e"
             ],
             [
              0.4444444444444444,
              "#bd3786"
             ],
             [
              0.5555555555555556,
              "#d8576b"
             ],
             [
              0.6666666666666666,
              "#ed7953"
             ],
             [
              0.7777777777777778,
              "#fb9f3a"
             ],
             [
              0.8888888888888888,
              "#fdca26"
             ],
             [
              1,
              "#f0f921"
             ]
            ],
            "type": "heatmapgl"
           }
          ],
          "histogram": [
           {
            "marker": {
             "pattern": {
              "fillmode": "overlay",
              "size": 10,
              "solidity": 0.2
             }
            },
            "type": "histogram"
           }
          ],
          "histogram2d": [
           {
            "colorbar": {
             "outlinewidth": 0,
             "ticks": ""
            },
            "colorscale": [
             [
              0,
              "#0d0887"
             ],
             [
              0.1111111111111111,
              "#46039f"
             ],
             [
              0.2222222222222222,
              "#7201a8"
             ],
             [
              0.3333333333333333,
              "#9c179e"
             ],
             [
              0.4444444444444444,
              "#bd3786"
             ],
             [
              0.5555555555555556,
              "#d8576b"
             ],
             [
              0.6666666666666666,
              "#ed7953"
             ],
             [
              0.7777777777777778,
              "#fb9f3a"
             ],
             [
              0.8888888888888888,
              "#fdca26"
             ],
             [
              1,
              "#f0f921"
             ]
            ],
            "type": "histogram2d"
           }
          ],
          "histogram2dcontour": [
           {
            "colorbar": {
             "outlinewidth": 0,
             "ticks": ""
            },
            "colorscale": [
             [
              0,
              "#0d0887"
             ],
             [
              0.1111111111111111,
              "#46039f"
             ],
             [
              0.2222222222222222,
              "#7201a8"
             ],
             [
              0.3333333333333333,
              "#9c179e"
             ],
             [
              0.4444444444444444,
              "#bd3786"
             ],
             [
              0.5555555555555556,
              "#d8576b"
             ],
             [
              0.6666666666666666,
              "#ed7953"
             ],
             [
              0.7777777777777778,
              "#fb9f3a"
             ],
             [
              0.8888888888888888,
              "#fdca26"
             ],
             [
              1,
              "#f0f921"
             ]
            ],
            "type": "histogram2dcontour"
           }
          ],
          "mesh3d": [
           {
            "colorbar": {
             "outlinewidth": 0,
             "ticks": ""
            },
            "type": "mesh3d"
           }
          ],
          "parcoords": [
           {
            "line": {
             "colorbar": {
              "outlinewidth": 0,
              "ticks": ""
             }
            },
            "type": "parcoords"
           }
          ],
          "pie": [
           {
            "automargin": true,
            "type": "pie"
           }
          ],
          "scatter": [
           {
            "fillpattern": {
             "fillmode": "overlay",
             "size": 10,
             "solidity": 0.2
            },
            "type": "scatter"
           }
          ],
          "scatter3d": [
           {
            "line": {
             "colorbar": {
              "outlinewidth": 0,
              "ticks": ""
             }
            },
            "marker": {
             "colorbar": {
              "outlinewidth": 0,
              "ticks": ""
             }
            },
            "type": "scatter3d"
           }
          ],
          "scattercarpet": [
           {
            "marker": {
             "colorbar": {
              "outlinewidth": 0,
              "ticks": ""
             }
            },
            "type": "scattercarpet"
           }
          ],
          "scattergeo": [
           {
            "marker": {
             "colorbar": {
              "outlinewidth": 0,
              "ticks": ""
             }
            },
            "type": "scattergeo"
           }
          ],
          "scattergl": [
           {
            "marker": {
             "colorbar": {
              "outlinewidth": 0,
              "ticks": ""
             }
            },
            "type": "scattergl"
           }
          ],
          "scattermapbox": [
           {
            "marker": {
             "colorbar": {
              "outlinewidth": 0,
              "ticks": ""
             }
            },
            "type": "scattermapbox"
           }
          ],
          "scatterpolar": [
           {
            "marker": {
             "colorbar": {
              "outlinewidth": 0,
              "ticks": ""
             }
            },
            "type": "scatterpolar"
           }
          ],
          "scatterpolargl": [
           {
            "marker": {
             "colorbar": {
              "outlinewidth": 0,
              "ticks": ""
             }
            },
            "type": "scatterpolargl"
           }
          ],
          "scatterternary": [
           {
            "marker": {
             "colorbar": {
              "outlinewidth": 0,
              "ticks": ""
             }
            },
            "type": "scatterternary"
           }
          ],
          "surface": [
           {
            "colorbar": {
             "outlinewidth": 0,
             "ticks": ""
            },
            "colorscale": [
             [
              0,
              "#0d0887"
             ],
             [
              0.1111111111111111,
              "#46039f"
             ],
             [
              0.2222222222222222,
              "#7201a8"
             ],
             [
              0.3333333333333333,
              "#9c179e"
             ],
             [
              0.4444444444444444,
              "#bd3786"
             ],
             [
              0.5555555555555556,
              "#d8576b"
             ],
             [
              0.6666666666666666,
              "#ed7953"
             ],
             [
              0.7777777777777778,
              "#fb9f3a"
             ],
             [
              0.8888888888888888,
              "#fdca26"
             ],
             [
              1,
              "#f0f921"
             ]
            ],
            "type": "surface"
           }
          ],
          "table": [
           {
            "cells": {
             "fill": {
              "color": "#EBF0F8"
             },
             "line": {
              "color": "white"
             }
            },
            "header": {
             "fill": {
              "color": "#C8D4E3"
             },
             "line": {
              "color": "white"
             }
            },
            "type": "table"
           }
          ]
         },
         "layout": {
          "annotationdefaults": {
           "arrowcolor": "#2a3f5f",
           "arrowhead": 0,
           "arrowwidth": 1
          },
          "autotypenumbers": "strict",
          "coloraxis": {
           "colorbar": {
            "outlinewidth": 0,
            "ticks": ""
           }
          },
          "colorscale": {
           "diverging": [
            [
             0,
             "#8e0152"
            ],
            [
             0.1,
             "#c51b7d"
            ],
            [
             0.2,
             "#de77ae"
            ],
            [
             0.3,
             "#f1b6da"
            ],
            [
             0.4,
             "#fde0ef"
            ],
            [
             0.5,
             "#f7f7f7"
            ],
            [
             0.6,
             "#e6f5d0"
            ],
            [
             0.7,
             "#b8e186"
            ],
            [
             0.8,
             "#7fbc41"
            ],
            [
             0.9,
             "#4d9221"
            ],
            [
             1,
             "#276419"
            ]
           ],
           "sequential": [
            [
             0,
             "#0d0887"
            ],
            [
             0.1111111111111111,
             "#46039f"
            ],
            [
             0.2222222222222222,
             "#7201a8"
            ],
            [
             0.3333333333333333,
             "#9c179e"
            ],
            [
             0.4444444444444444,
             "#bd3786"
            ],
            [
             0.5555555555555556,
             "#d8576b"
            ],
            [
             0.6666666666666666,
             "#ed7953"
            ],
            [
             0.7777777777777778,
             "#fb9f3a"
            ],
            [
             0.8888888888888888,
             "#fdca26"
            ],
            [
             1,
             "#f0f921"
            ]
           ],
           "sequentialminus": [
            [
             0,
             "#0d0887"
            ],
            [
             0.1111111111111111,
             "#46039f"
            ],
            [
             0.2222222222222222,
             "#7201a8"
            ],
            [
             0.3333333333333333,
             "#9c179e"
            ],
            [
             0.4444444444444444,
             "#bd3786"
            ],
            [
             0.5555555555555556,
             "#d8576b"
            ],
            [
             0.6666666666666666,
             "#ed7953"
            ],
            [
             0.7777777777777778,
             "#fb9f3a"
            ],
            [
             0.8888888888888888,
             "#fdca26"
            ],
            [
             1,
             "#f0f921"
            ]
           ]
          },
          "colorway": [
           "#636efa",
           "#EF553B",
           "#00cc96",
           "#ab63fa",
           "#FFA15A",
           "#19d3f3",
           "#FF6692",
           "#B6E880",
           "#FF97FF",
           "#FECB52"
          ],
          "font": {
           "color": "#2a3f5f"
          },
          "geo": {
           "bgcolor": "white",
           "lakecolor": "white",
           "landcolor": "#E5ECF6",
           "showlakes": true,
           "showland": true,
           "subunitcolor": "white"
          },
          "hoverlabel": {
           "align": "left"
          },
          "hovermode": "closest",
          "mapbox": {
           "style": "light"
          },
          "paper_bgcolor": "white",
          "plot_bgcolor": "#E5ECF6",
          "polar": {
           "angularaxis": {
            "gridcolor": "white",
            "linecolor": "white",
            "ticks": ""
           },
           "bgcolor": "#E5ECF6",
           "radialaxis": {
            "gridcolor": "white",
            "linecolor": "white",
            "ticks": ""
           }
          },
          "scene": {
           "xaxis": {
            "backgroundcolor": "#E5ECF6",
            "gridcolor": "white",
            "gridwidth": 2,
            "linecolor": "white",
            "showbackground": true,
            "ticks": "",
            "zerolinecolor": "white"
           },
           "yaxis": {
            "backgroundcolor": "#E5ECF6",
            "gridcolor": "white",
            "gridwidth": 2,
            "linecolor": "white",
            "showbackground": true,
            "ticks": "",
            "zerolinecolor": "white"
           },
           "zaxis": {
            "backgroundcolor": "#E5ECF6",
            "gridcolor": "white",
            "gridwidth": 2,
            "linecolor": "white",
            "showbackground": true,
            "ticks": "",
            "zerolinecolor": "white"
           }
          },
          "shapedefaults": {
           "line": {
            "color": "#2a3f5f"
           }
          },
          "ternary": {
           "aaxis": {
            "gridcolor": "white",
            "linecolor": "white",
            "ticks": ""
           },
           "baxis": {
            "gridcolor": "white",
            "linecolor": "white",
            "ticks": ""
           },
           "bgcolor": "#E5ECF6",
           "caxis": {
            "gridcolor": "white",
            "linecolor": "white",
            "ticks": ""
           }
          },
          "title": {
           "x": 0.05
          },
          "xaxis": {
           "automargin": true,
           "gridcolor": "white",
           "linecolor": "white",
           "ticks": "",
           "title": {
            "standoff": 15
           },
           "zerolinecolor": "white",
           "zerolinewidth": 2
          },
          "yaxis": {
           "automargin": true,
           "gridcolor": "white",
           "linecolor": "white",
           "ticks": "",
           "title": {
            "standoff": 15
           },
           "zerolinecolor": "white",
           "zerolinewidth": 2
          }
         }
        },
        "title": {
         "text": "Estimation window is: 30 years"
        },
        "xaxis": {
         "anchor": "y",
         "domain": [
          0,
          1
         ],
         "title": {
          "text": "Strategy"
         }
        },
        "yaxis": {
         "anchor": "x",
         "domain": [
          0,
          1
         ],
         "title": {
          "text": "Sharpe ratio"
         }
        }
       }
      }
     },
     "metadata": {},
     "output_type": "display_data"
    }
   ],
   "source": [
    "# compare_means_singlehorizon('mns1','sds1','c1','w1')\n",
    "compare_means_singlehorizon('mns1','sds1','c1','w3')\n",
    "# compare_means_singlehorizon('mns1','sds1','c1','w5')"
   ]
  },
  {
   "cell_type": "markdown",
   "metadata": {},
   "source": [
    "### Less expected return variation"
   ]
  },
  {
   "cell_type": "code",
   "execution_count": 38,
   "metadata": {},
   "outputs": [
    {
     "data": {
      "application/vnd.plotly.v1+json": {
       "config": {
        "plotlyServerURL": "https://plot.ly"
       },
       "data": [
        {
         "alignmentgroup": "True",
         "bingroup": "x",
         "histfunc": "avg",
         "hovertemplate": "strategy=%{x}<br>avg of sr=%{y}<extra></extra>",
         "legendgroup": "",
         "marker": {
          "color": "#636efa",
          "pattern": {
           "shape": ""
          }
         },
         "name": "",
         "offsetgroup": "",
         "orientation": "v",
         "showlegend": false,
         "type": "histogram",
         "x": [
          "True",
          "Est-All",
          "Est-SD-Corr",
          "Est-SD",
          "Est-None"
         ],
         "xaxis": "x",
         "y": [
          0.4319303023720883,
          0.3075747177789318,
          0.28802780883076345,
          0.36134583665125575,
          0.36675554745470174
         ],
         "yaxis": "y"
        }
       ],
       "layout": {
        "barmode": "group",
        "height": 400,
        "legend": {
         "tracegroupgap": 0
        },
        "margin": {
         "t": 60
        },
        "template": {
         "data": {
          "bar": [
           {
            "error_x": {
             "color": "#2a3f5f"
            },
            "error_y": {
             "color": "#2a3f5f"
            },
            "marker": {
             "line": {
              "color": "#E5ECF6",
              "width": 0.5
             },
             "pattern": {
              "fillmode": "overlay",
              "size": 10,
              "solidity": 0.2
             }
            },
            "type": "bar"
           }
          ],
          "barpolar": [
           {
            "marker": {
             "line": {
              "color": "#E5ECF6",
              "width": 0.5
             },
             "pattern": {
              "fillmode": "overlay",
              "size": 10,
              "solidity": 0.2
             }
            },
            "type": "barpolar"
           }
          ],
          "carpet": [
           {
            "aaxis": {
             "endlinecolor": "#2a3f5f",
             "gridcolor": "white",
             "linecolor": "white",
             "minorgridcolor": "white",
             "startlinecolor": "#2a3f5f"
            },
            "baxis": {
             "endlinecolor": "#2a3f5f",
             "gridcolor": "white",
             "linecolor": "white",
             "minorgridcolor": "white",
             "startlinecolor": "#2a3f5f"
            },
            "type": "carpet"
           }
          ],
          "choropleth": [
           {
            "colorbar": {
             "outlinewidth": 0,
             "ticks": ""
            },
            "type": "choropleth"
           }
          ],
          "contour": [
           {
            "colorbar": {
             "outlinewidth": 0,
             "ticks": ""
            },
            "colorscale": [
             [
              0,
              "#0d0887"
             ],
             [
              0.1111111111111111,
              "#46039f"
             ],
             [
              0.2222222222222222,
              "#7201a8"
             ],
             [
              0.3333333333333333,
              "#9c179e"
             ],
             [
              0.4444444444444444,
              "#bd3786"
             ],
             [
              0.5555555555555556,
              "#d8576b"
             ],
             [
              0.6666666666666666,
              "#ed7953"
             ],
             [
              0.7777777777777778,
              "#fb9f3a"
             ],
             [
              0.8888888888888888,
              "#fdca26"
             ],
             [
              1,
              "#f0f921"
             ]
            ],
            "type": "contour"
           }
          ],
          "contourcarpet": [
           {
            "colorbar": {
             "outlinewidth": 0,
             "ticks": ""
            },
            "type": "contourcarpet"
           }
          ],
          "heatmap": [
           {
            "colorbar": {
             "outlinewidth": 0,
             "ticks": ""
            },
            "colorscale": [
             [
              0,
              "#0d0887"
             ],
             [
              0.1111111111111111,
              "#46039f"
             ],
             [
              0.2222222222222222,
              "#7201a8"
             ],
             [
              0.3333333333333333,
              "#9c179e"
             ],
             [
              0.4444444444444444,
              "#bd3786"
             ],
             [
              0.5555555555555556,
              "#d8576b"
             ],
             [
              0.6666666666666666,
              "#ed7953"
             ],
             [
              0.7777777777777778,
              "#fb9f3a"
             ],
             [
              0.8888888888888888,
              "#fdca26"
             ],
             [
              1,
              "#f0f921"
             ]
            ],
            "type": "heatmap"
           }
          ],
          "heatmapgl": [
           {
            "colorbar": {
             "outlinewidth": 0,
             "ticks": ""
            },
            "colorscale": [
             [
              0,
              "#0d0887"
             ],
             [
              0.1111111111111111,
              "#46039f"
             ],
             [
              0.2222222222222222,
              "#7201a8"
             ],
             [
              0.3333333333333333,
              "#9c179e"
             ],
             [
              0.4444444444444444,
              "#bd3786"
             ],
             [
              0.5555555555555556,
              "#d8576b"
             ],
             [
              0.6666666666666666,
              "#ed7953"
             ],
             [
              0.7777777777777778,
              "#fb9f3a"
             ],
             [
              0.8888888888888888,
              "#fdca26"
             ],
             [
              1,
              "#f0f921"
             ]
            ],
            "type": "heatmapgl"
           }
          ],
          "histogram": [
           {
            "marker": {
             "pattern": {
              "fillmode": "overlay",
              "size": 10,
              "solidity": 0.2
             }
            },
            "type": "histogram"
           }
          ],
          "histogram2d": [
           {
            "colorbar": {
             "outlinewidth": 0,
             "ticks": ""
            },
            "colorscale": [
             [
              0,
              "#0d0887"
             ],
             [
              0.1111111111111111,
              "#46039f"
             ],
             [
              0.2222222222222222,
              "#7201a8"
             ],
             [
              0.3333333333333333,
              "#9c179e"
             ],
             [
              0.4444444444444444,
              "#bd3786"
             ],
             [
              0.5555555555555556,
              "#d8576b"
             ],
             [
              0.6666666666666666,
              "#ed7953"
             ],
             [
              0.7777777777777778,
              "#fb9f3a"
             ],
             [
              0.8888888888888888,
              "#fdca26"
             ],
             [
              1,
              "#f0f921"
             ]
            ],
            "type": "histogram2d"
           }
          ],
          "histogram2dcontour": [
           {
            "colorbar": {
             "outlinewidth": 0,
             "ticks": ""
            },
            "colorscale": [
             [
              0,
              "#0d0887"
             ],
             [
              0.1111111111111111,
              "#46039f"
             ],
             [
              0.2222222222222222,
              "#7201a8"
             ],
             [
              0.3333333333333333,
              "#9c179e"
             ],
             [
              0.4444444444444444,
              "#bd3786"
             ],
             [
              0.5555555555555556,
              "#d8576b"
             ],
             [
              0.6666666666666666,
              "#ed7953"
             ],
             [
              0.7777777777777778,
              "#fb9f3a"
             ],
             [
              0.8888888888888888,
              "#fdca26"
             ],
             [
              1,
              "#f0f921"
             ]
            ],
            "type": "histogram2dcontour"
           }
          ],
          "mesh3d": [
           {
            "colorbar": {
             "outlinewidth": 0,
             "ticks": ""
            },
            "type": "mesh3d"
           }
          ],
          "parcoords": [
           {
            "line": {
             "colorbar": {
              "outlinewidth": 0,
              "ticks": ""
             }
            },
            "type": "parcoords"
           }
          ],
          "pie": [
           {
            "automargin": true,
            "type": "pie"
           }
          ],
          "scatter": [
           {
            "fillpattern": {
             "fillmode": "overlay",
             "size": 10,
             "solidity": 0.2
            },
            "type": "scatter"
           }
          ],
          "scatter3d": [
           {
            "line": {
             "colorbar": {
              "outlinewidth": 0,
              "ticks": ""
             }
            },
            "marker": {
             "colorbar": {
              "outlinewidth": 0,
              "ticks": ""
             }
            },
            "type": "scatter3d"
           }
          ],
          "scattercarpet": [
           {
            "marker": {
             "colorbar": {
              "outlinewidth": 0,
              "ticks": ""
             }
            },
            "type": "scattercarpet"
           }
          ],
          "scattergeo": [
           {
            "marker": {
             "colorbar": {
              "outlinewidth": 0,
              "ticks": ""
             }
            },
            "type": "scattergeo"
           }
          ],
          "scattergl": [
           {
            "marker": {
             "colorbar": {
              "outlinewidth": 0,
              "ticks": ""
             }
            },
            "type": "scattergl"
           }
          ],
          "scattermapbox": [
           {
            "marker": {
             "colorbar": {
              "outlinewidth": 0,
              "ticks": ""
             }
            },
            "type": "scattermapbox"
           }
          ],
          "scatterpolar": [
           {
            "marker": {
             "colorbar": {
              "outlinewidth": 0,
              "ticks": ""
             }
            },
            "type": "scatterpolar"
           }
          ],
          "scatterpolargl": [
           {
            "marker": {
             "colorbar": {
              "outlinewidth": 0,
              "ticks": ""
             }
            },
            "type": "scatterpolargl"
           }
          ],
          "scatterternary": [
           {
            "marker": {
             "colorbar": {
              "outlinewidth": 0,
              "ticks": ""
             }
            },
            "type": "scatterternary"
           }
          ],
          "surface": [
           {
            "colorbar": {
             "outlinewidth": 0,
             "ticks": ""
            },
            "colorscale": [
             [
              0,
              "#0d0887"
             ],
             [
              0.1111111111111111,
              "#46039f"
             ],
             [
              0.2222222222222222,
              "#7201a8"
             ],
             [
              0.3333333333333333,
              "#9c179e"
             ],
             [
              0.4444444444444444,
              "#bd3786"
             ],
             [
              0.5555555555555556,
              "#d8576b"
             ],
             [
              0.6666666666666666,
              "#ed7953"
             ],
             [
              0.7777777777777778,
              "#fb9f3a"
             ],
             [
              0.8888888888888888,
              "#fdca26"
             ],
             [
              1,
              "#f0f921"
             ]
            ],
            "type": "surface"
           }
          ],
          "table": [
           {
            "cells": {
             "fill": {
              "color": "#EBF0F8"
             },
             "line": {
              "color": "white"
             }
            },
            "header": {
             "fill": {
              "color": "#C8D4E3"
             },
             "line": {
              "color": "white"
             }
            },
            "type": "table"
           }
          ]
         },
         "layout": {
          "annotationdefaults": {
           "arrowcolor": "#2a3f5f",
           "arrowhead": 0,
           "arrowwidth": 1
          },
          "autotypenumbers": "strict",
          "coloraxis": {
           "colorbar": {
            "outlinewidth": 0,
            "ticks": ""
           }
          },
          "colorscale": {
           "diverging": [
            [
             0,
             "#8e0152"
            ],
            [
             0.1,
             "#c51b7d"
            ],
            [
             0.2,
             "#de77ae"
            ],
            [
             0.3,
             "#f1b6da"
            ],
            [
             0.4,
             "#fde0ef"
            ],
            [
             0.5,
             "#f7f7f7"
            ],
            [
             0.6,
             "#e6f5d0"
            ],
            [
             0.7,
             "#b8e186"
            ],
            [
             0.8,
             "#7fbc41"
            ],
            [
             0.9,
             "#4d9221"
            ],
            [
             1,
             "#276419"
            ]
           ],
           "sequential": [
            [
             0,
             "#0d0887"
            ],
            [
             0.1111111111111111,
             "#46039f"
            ],
            [
             0.2222222222222222,
             "#7201a8"
            ],
            [
             0.3333333333333333,
             "#9c179e"
            ],
            [
             0.4444444444444444,
             "#bd3786"
            ],
            [
             0.5555555555555556,
             "#d8576b"
            ],
            [
             0.6666666666666666,
             "#ed7953"
            ],
            [
             0.7777777777777778,
             "#fb9f3a"
            ],
            [
             0.8888888888888888,
             "#fdca26"
            ],
            [
             1,
             "#f0f921"
            ]
           ],
           "sequentialminus": [
            [
             0,
             "#0d0887"
            ],
            [
             0.1111111111111111,
             "#46039f"
            ],
            [
             0.2222222222222222,
             "#7201a8"
            ],
            [
             0.3333333333333333,
             "#9c179e"
            ],
            [
             0.4444444444444444,
             "#bd3786"
            ],
            [
             0.5555555555555556,
             "#d8576b"
            ],
            [
             0.6666666666666666,
             "#ed7953"
            ],
            [
             0.7777777777777778,
             "#fb9f3a"
            ],
            [
             0.8888888888888888,
             "#fdca26"
            ],
            [
             1,
             "#f0f921"
            ]
           ]
          },
          "colorway": [
           "#636efa",
           "#EF553B",
           "#00cc96",
           "#ab63fa",
           "#FFA15A",
           "#19d3f3",
           "#FF6692",
           "#B6E880",
           "#FF97FF",
           "#FECB52"
          ],
          "font": {
           "color": "#2a3f5f"
          },
          "geo": {
           "bgcolor": "white",
           "lakecolor": "white",
           "landcolor": "#E5ECF6",
           "showlakes": true,
           "showland": true,
           "subunitcolor": "white"
          },
          "hoverlabel": {
           "align": "left"
          },
          "hovermode": "closest",
          "mapbox": {
           "style": "light"
          },
          "paper_bgcolor": "white",
          "plot_bgcolor": "#E5ECF6",
          "polar": {
           "angularaxis": {
            "gridcolor": "white",
            "linecolor": "white",
            "ticks": ""
           },
           "bgcolor": "#E5ECF6",
           "radialaxis": {
            "gridcolor": "white",
            "linecolor": "white",
            "ticks": ""
           }
          },
          "scene": {
           "xaxis": {
            "backgroundcolor": "#E5ECF6",
            "gridcolor": "white",
            "gridwidth": 2,
            "linecolor": "white",
            "showbackground": true,
            "ticks": "",
            "zerolinecolor": "white"
           },
           "yaxis": {
            "backgroundcolor": "#E5ECF6",
            "gridcolor": "white",
            "gridwidth": 2,
            "linecolor": "white",
            "showbackground": true,
            "ticks": "",
            "zerolinecolor": "white"
           },
           "zaxis": {
            "backgroundcolor": "#E5ECF6",
            "gridcolor": "white",
            "gridwidth": 2,
            "linecolor": "white",
            "showbackground": true,
            "ticks": "",
            "zerolinecolor": "white"
           }
          },
          "shapedefaults": {
           "line": {
            "color": "#2a3f5f"
           }
          },
          "ternary": {
           "aaxis": {
            "gridcolor": "white",
            "linecolor": "white",
            "ticks": ""
           },
           "baxis": {
            "gridcolor": "white",
            "linecolor": "white",
            "ticks": ""
           },
           "bgcolor": "#E5ECF6",
           "caxis": {
            "gridcolor": "white",
            "linecolor": "white",
            "ticks": ""
           }
          },
          "title": {
           "x": 0.05
          },
          "xaxis": {
           "automargin": true,
           "gridcolor": "white",
           "linecolor": "white",
           "ticks": "",
           "title": {
            "standoff": 15
           },
           "zerolinecolor": "white",
           "zerolinewidth": 2
          },
          "yaxis": {
           "automargin": true,
           "gridcolor": "white",
           "linecolor": "white",
           "ticks": "",
           "title": {
            "standoff": 15
           },
           "zerolinecolor": "white",
           "zerolinewidth": 2
          }
         }
        },
        "title": {
         "text": "Estimation window is: 30 years"
        },
        "xaxis": {
         "anchor": "y",
         "domain": [
          0,
          1
         ],
         "title": {
          "text": "Strategy"
         }
        },
        "yaxis": {
         "anchor": "x",
         "domain": [
          0,
          1
         ],
         "title": {
          "text": "Sharpe ratio"
         }
        }
       }
      }
     },
     "metadata": {},
     "output_type": "display_data"
    }
   ],
   "source": [
    "# compare_means_singlehorizon('mns2','sds1','c1','w1')\n",
    "compare_means_singlehorizon('mns2','sds1','c1','w3')\n",
    "# compare_means_singlehorizon('mns2','sds1','c1','w5')"
   ]
  },
  {
   "attachments": {},
   "cell_type": "markdown",
   "metadata": {},
   "source": [
    "### Plot distribution of SRs as a function of strategy for a given estimation window"
   ]
  },
  {
   "cell_type": "code",
   "execution_count": 39,
   "metadata": {},
   "outputs": [
    {
     "data": {
      "application/vnd.plotly.v1+json": {
       "config": {
        "plotlyServerURL": "https://plot.ly"
       },
       "data": [
        {
         "boxmean": "sd",
         "name": "True",
         "type": "box",
         "y": [
          0.4850137463586284,
          0.4719377462170396,
          0.3555404907115118,
          0.639032548764789,
          0.4566344585555937,
          0.3675162894514041,
          0.7534582294668015,
          0.5876018632386568,
          0.5598147357078612,
          0.5758738709060498,
          0.4957584740662062,
          0.516115663146301,
          0.6292754786681222,
          0.8484552427975459,
          0.8668559465161874,
          0.5550664249878564,
          0.3916727729220577,
          0.366513976082305,
          0.3642754934480214,
          0.7430382663279216,
          0.3786787200182934,
          0.4490250484222517,
          0.3372374577105313,
          0.6103452270141798,
          0.5265219273688774,
          0.6138063109743968,
          0.6804639224041845,
          0.3833859168260192,
          0.5225983055331515,
          0.7408836741481278,
          0.7159261189034543,
          0.800305130668878,
          0.4375584096113761,
          0.6743723207329059,
          0.5203785804819071,
          0.5393354129615939,
          0.4835545893570503,
          0.5949056642605498,
          0.3100825506060924,
          0.6834279962617037,
          0.7301518536953441,
          0.5132789113187619,
          0.6614607495228455,
          0.4178947966784657,
          0.4434340545121408,
          0.5020528041792576,
          0.5183483442686624,
          0.4732624631658844,
          0.4763768672137568,
          0.6707731304317911,
          0.6786644985500585,
          0.6492812020277051,
          0.575659214574111,
          0.389213369940484,
          0.5089313787596325,
          0.4874701648177821,
          0.6059596141998973,
          0.5656693806261716,
          0.4631692607533902,
          0.4780126586809203,
          0.4588080437626893,
          0.4917018970264753,
          0.4134669027010815,
          0.2340468077140904,
          0.6332141078795869,
          0.8373299513302109,
          0.3567372326858283,
          0.8362521839325076,
          0.490655880199714,
          0.4457865669333931,
          0.4927330585938904,
          0.4828696038453156,
          0.5216684726738625,
          0.6311016287174034,
          0.4281714464396776,
          0.3714284900811417,
          0.597645402979179,
          0.3941997432411147,
          0.4192451445045809,
          0.4588984612784935,
          0.3960984236689761,
          0.7175973738713071,
          0.5714965101215495,
          0.557095162446102,
          0.6673475008977497,
          0.9270293846279918,
          0.4888095266056827,
          0.47628630524012,
          0.9702803134049678,
          0.6124751301835143,
          0.3694256685114921,
          0.5589786926476252,
          0.4827760350014169,
          0.6751405652697954,
          0.718408489058996,
          0.4907404357260372,
          0.5815972049157339,
          0.870737192583631,
          0.5943700304857845,
          0.3828681844043156,
          0.7777820522308441,
          0.6097728974848619,
          0.5286103901256235,
          0.4924877489709924,
          0.7103679561670232,
          0.5179441285045179,
          0.4784926541006577,
          0.5314208350260688,
          0.4354383576574789,
          0.5469768030581187,
          0.5680809229298228,
          0.5574149831132571,
          0.8616623110191237,
          0.3297626421901851,
          0.5304911734917706,
          0.3968532173610375,
          0.4718574825214902,
          0.2941092103338486,
          0.5642627610901577,
          0.4815750412567524,
          0.4639512072506154,
          0.3951693015761853,
          0.916611934309634,
          0.5845124026278413,
          0.3266157491980023,
          0.4578664948025385,
          0.7355616429938835,
          0.6585606121776312,
          0.4080108614448455,
          0.9787759017253408,
          0.4641244118854006,
          0.3020871311603894,
          0.5204068336064427,
          0.718536622695628,
          0.3713778380933356,
          0.3949375437070876,
          0.5038246567481365,
          0.7593312149482779,
          0.4551354631628478,
          0.1889358147779814,
          0.4918728552144324,
          0.5234717266685762,
          0.5264023749484196,
          0.4524912634360203,
          0.5354601913663092,
          0.6853223170341174,
          0.7262852586216998,
          0.8365646372368054,
          0.5115763957311076,
          0.6587901242888795,
          0.5218569647080283,
          0.4587443804825278,
          0.8212488634019547,
          0.3752474946453655,
          0.445503698582687,
          0.67233640131947,
          0.7750519125131529,
          0.4491450868401898,
          0.6452198134089379,
          0.3278137277121607,
          0.4959289904074583,
          0.564584526073436,
          0.6633833219073866,
          0.4191447790397509,
          0.3383694343866525,
          0.5005861440520246,
          0.4570375024324815,
          0.489201516314223,
          0.5008906302450057,
          0.7266548255450586,
          0.6404240627304219,
          0.6838120582953318,
          0.6368640683210317,
          0.5810270765412844,
          0.6040345506824111,
          0.4225399326907719,
          0.2062728113325448,
          0.7077265781546082,
          0.4072818496991229,
          0.5406974375351109,
          0.3702121234205658,
          0.7304030381099732,
          0.5683045475749499,
          0.5385380715109379,
          0.5252973529333379,
          0.3570246936379271,
          0.5770656172816864,
          0.7392553901607575,
          0.4502912229713134,
          0.7189331761766827,
          0.322451168107703,
          0.6917330649586813,
          0.5118570991941062,
          0.51864720469018,
          0.6612258705220928,
          0.4761796381745115,
          0.8284037905466886,
          0.5513890523004661,
          0.7562118659775456,
          0.475780454171013,
          0.3536337966683974,
          0.8530840132017992,
          0.6952705341449333,
          0.4225462505548292,
          0.4613322990599987,
          0.9064345181842228,
          0.5585337571408843,
          0.3332361051512872,
          0.6202764717247536,
          0.3352701759502828,
          0.6384807526503231,
          0.3079821200192209,
          0.3925086246510619,
          0.5601683904298734,
          0.72460819365142,
          0.6700847356752389,
          0.5074209038734993,
          0.7719909902765748,
          0.6391154277861837,
          0.4655868435930514,
          0.3928603651159095,
          0.5837762631268802,
          0.5304928929333009,
          0.6102185279484754,
          0.3704490968696066,
          0.5002390167439362,
          0.539242413469242,
          0.461424000438926,
          0.6317568080173833,
          0.3380177078222754,
          0.7997732649975874,
          1.0398962693313902,
          0.5278797800548567,
          0.4538165116533222,
          0.3855228364937741,
          0.475329300064442,
          0.7459479750929975,
          0.7065787533963186,
          0.58981069430012,
          0.6444939529645921,
          0.3621159133133982,
          0.624543458948814,
          0.429109302712848,
          0.6158603752710099,
          1.2224637261331128,
          0.702292900338654,
          0.3173161964917509,
          0.8100960306464474,
          0.4920145509149393,
          0.5167412248072486
         ]
        },
        {
         "boxmean": "sd",
         "name": "Est-All",
         "type": "box",
         "y": [
          0.2440270998362688,
          0.3079431600392296,
          0.2684770290049866,
          0.5375142488064676,
          0.2635911998004845,
          0.128556043815916,
          0.2849718667819908,
          0.5309657717645947,
          0.4186925199670709,
          0.2157840541915809,
          0.352784182088619,
          0.1498143198314335,
          0.3193435616043299,
          0.5281177638495543,
          0.6248894709454911,
          0.308619197281578,
          0.1395970836889976,
          0.214156749236764,
          0.1355501783466055,
          0.4733579782830786,
          0.2877193216714494,
          0.0383581728097391,
          0.1892285729066007,
          0.3087958948990382,
          0.361935538981677,
          0.2775389919015019,
          0.4137998331253337,
          0.0461035394956791,
          0.1511314419310123,
          0.3166770655095612,
          0.4603675852378625,
          0.5652479913378324,
          0.2570360855072684,
          0.4112468461675895,
          0.1371994708325832,
          0.2580475655753158,
          0.1236852547663496,
          0.3231433273450496,
          0.051577672218922,
          0.5819189525346412,
          0.3579724652540703,
          0.0981933199730077,
          0.5507690364580574,
          0.1899096662248767,
          0.2546718687094914,
          0.4504536718307586,
          0.3009685270849616,
          0.3950277590930866,
          0.2214841702772811,
          0.3077023528520697,
          0.40192126057481,
          0.275625311831316,
          0.3686290709792398,
          0.0586143922285158,
          0.2076721799676208,
          0.1564036934960433,
          0.3936301066249901,
          0.2651015706348597,
          0.0906363990484066,
          0.2754784643902811,
          0.2034942795414474,
          0.2067073524399137,
          0.4259669437631671,
          0.0416691668190906,
          0.4617080056305723,
          0.6023401587256273,
          0.1318187934601364,
          0.4992387983832682,
          0.2842190979335737,
          0.2818637985560617,
          0.1807482196491354,
          -0.052636539270496,
          0.2624718572917138,
          0.4705354591205613,
          0.2018791489236687,
          0.019721604219524,
          0.2747057472512994,
          0.2881148436376969,
          0.2614391235790685,
          0.4410223438973649,
          0.0213715035867934,
          0.5625122456952907,
          0.333721512971464,
          0.3344357564883045,
          0.3458866402504811,
          0.5386481435119266,
          0.3435572124283578,
          0.4585135264537456,
          0.5485937276563044,
          0.3410515618941684,
          0.1855908979465876,
          0.5190570406574515,
          0.0228715613873576,
          0.3632002720056485,
          0.4724740092595624,
          0.3585027555768144,
          0.3342497207016309,
          0.5320638079175194,
          0.2171334347301,
          0.097373975066879,
          0.4927256153345489,
          0.1639799266534832,
          0.0204407222286106,
          0.3046343849636748,
          0.3523984405614027,
          0.1713301585520725,
          0.4439938184860367,
          0.2877512633707187,
          0.3397431264513778,
          0.282332509943394,
          0.2678565392807959,
          0.3565277044488061,
          0.3434276220808521,
          0.0699242180945767,
          0.2675103263234406,
          0.0955798766046022,
          0.0453944587431855,
          0.1230298010724713,
          0.4408953562975038,
          0.3008967159281837,
          0.0297612052915801,
          0.1835150360135374,
          0.5983225853910219,
          0.0960532960942277,
          0.2910801962087052,
          0.2758405745855162,
          0.3207071385807593,
          0.3179445011438014,
          0.1814781192474951,
          0.6712289890894393,
          0.2349354837809806,
          0.1700178490799153,
          0.4016899486224297,
          0.5267660573399702,
          0.1955728259792894,
          0.0189983206122481,
          0.2694449864337278,
          0.4545318341874996,
          0.2881890486982664,
          -0.1594559334048017,
          0.259313592508132,
          0.3332182583657841,
          0.1906875152843188,
          0.39173586077245,
          0.251466865438369,
          0.4571433825276298,
          0.4035321264200876,
          0.4886913483718384,
          0.4412418822029049,
          0.5182948341211595,
          0.4569813116736799,
          0.3027872922745064,
          0.5777948259513003,
          0.2972627883850421,
          0.2707781723386924,
          0.4067447593033346,
          0.4699786652405777,
          0.2725066751003758,
          0.3142496088830155,
          0.0487543457477169,
          0.0830812124425036,
          0.2459584228345481,
          0.2958142662295226,
          0.2427922119246469,
          0.1035635889006751,
          0.2752123568184799,
          0.3214132615371062,
          0.365147629283336,
          0.2636923527789872,
          0.4568740594276813,
          0.4191288334237344,
          0.4163054381466083,
          0.5897670233474863,
          0.4447299072531244,
          0.4399693128452732,
          0.1815638950997225,
          -0.187188582592132,
          0.1434281616836708,
          0.1234988422870176,
          0.2981017614492837,
          0.1291930622444999,
          0.4415840213271347,
          0.2957138592808337,
          0.1389981279343535,
          0.3754057993245929,
          0.0794104876697072,
          0.287922865770389,
          0.3812187526362417,
          0.1900577120566365,
          0.5038646189419435,
          0.1795422671634612,
          0.4122556990733373,
          0.2027050613651757,
          0.4165965210179586,
          0.4146160772198052,
          0.1579771957378775,
          0.5437653490013091,
          0.341774682701298,
          0.5118093025729604,
          0.2707877468183252,
          0.0822512448868024,
          0.4043702127036824,
          0.4095897827836833,
          0.2480347138178513,
          0.1828133472000545,
          0.4993603385221086,
          0.2959789819165273,
          0.2362653741862359,
          0.167724963120804,
          -0.0519476816188475,
          0.5598091239733389,
          0.1493144846228116,
          0.1697241678393521,
          0.1494905276243858,
          0.4443775470336057,
          0.4180530707646655,
          0.1163513723274968,
          0.7312931646993382,
          0.3414082030753519,
          0.278380810500305,
          0.223396186024289,
          0.3238765143855592,
          0.3792404322220964,
          0.1540544260185719,
          0.2142308429200937,
          0.0404664338566721,
          0.3319972521960631,
          0.1843621459536809,
          0.2725418638825319,
          0.0967349855251081,
          0.4867256066435439,
          0.8187135888663034,
          0.3109830668478462,
          0.1785918229622958,
          0.1983373445314772,
          0.2247179825663848,
          0.3706136000803098,
          0.5939412186161178,
          0.1948510011053966,
          0.0935838566592791,
          -0.0366834627176345,
          0.4477449336314008,
          0.1891765587628862,
          0.3249521339088245,
          0.6564456216037654,
          0.3456966150438688,
          -0.0926186660550275,
          0.2928249873332724,
          0.2839963781999729,
          0.3865307559437911
         ]
        },
        {
         "boxmean": "sd",
         "name": "Est-SD-Corr",
         "type": "box",
         "y": [
          -0.1747691404936448,
          0.2167821883278416,
          0.0805049176331169,
          0.1219810392696564,
          0.2871747659907807,
          -0.1304036029729906,
          0.1177793816979122,
          0.2292054556610497,
          0.0834240653009911,
          0.0978705763299542,
          0.0274219329709318,
          0.0891579603122869,
          -0.0645945070520825,
          0.0702671289789472,
          0.167953884630428,
          -0.0562262975282959,
          0.078249640654384,
          0.1333496635143259,
          -0.1853614401493879,
          0.0894404288515502,
          -0.1980629174306406,
          0.1433818944018573,
          -0.2499352772236737,
          0.2772393313735907,
          0.2459849448097784,
          0.121844254762352,
          -0.2757120655816726,
          0.0532684452002773,
          0.017293254385001,
          0.1102494075225713,
          -0.0507369792516123,
          0.1020323548725738,
          0.2354549477501402,
          0.381943634694929,
          -0.0231201093929128,
          0.2432807222436821,
          0.200785749102432,
          0.343789793010556,
          0.0735535412458705,
          0.3535434442612503,
          0.1159873604417075,
          0.0725318770303864,
          0.3991375663327685,
          0.1490277051345863,
          -0.1039693924671269,
          0.1720910871505918,
          0.2845734533930545,
          0.2984450120796138,
          0.061760965476002,
          0.1524868543540951,
          0.0476494682570238,
          0.282375929549516,
          0.3006102214178505,
          -0.0903275330837386,
          0.126428586085662,
          0.0979336075664169,
          -0.0873963956668364,
          0.1471854229747349,
          -0.0803146222854886,
          0.1997479028054484,
          0.0553118337323735,
          -0.1949637680585006,
          -0.0536980175239859,
          0.0664232256622191,
          -0.0713890738516284,
          0.2815699859136366,
          0.1649100596415155,
          -0.112443332014803,
          0.1786566018285308,
          0.1332499750161379,
          -0.0707577321974563,
          -0.045640914875021,
          0.1987849947003973,
          0.2338467753558848,
          0.0719449469861055,
          -0.2127888775048783,
          0.0484397834955965,
          0.006308622230556,
          0.0312024912264577,
          0.2694542893543257,
          -0.0480910138304656,
          0.2864186242026022,
          0.2038726281892835,
          0.382256375077008,
          0.2970374037184355,
          0.2300982604052543,
          0.1208658956239498,
          0.382080474462976,
          0.2395696044454877,
          0.176749559495327,
          0.0445446659426442,
          0.3734904966792515,
          -0.2274901608660455,
          0.2417051840547428,
          0.3780709958304623,
          0.4399786438628587,
          0.0263149087237937,
          0.1920220706897379,
          -0.0247774082348294,
          0.0793417499210225,
          0.0351659885138735,
          -0.0494348856221538,
          0.0909908829772537,
          0.0919041635861817,
          0.2714689230575408,
          0.155092758192641,
          0.2795685883652531,
          0.0538825859883823,
          0.2877188692266761,
          0.320697900399664,
          0.2127479980335374,
          -0.0335230428222244,
          0.1928897459644564,
          -0.0053448416047021,
          0.2204550343606987,
          0.1510441554008275,
          0.0196865780444836,
          0.1541083237939531,
          0.4252954839497646,
          -0.1802863559219319,
          0.002112756385939,
          0.0936171779470267,
          0.4103105877912762,
          -0.0434174623133487,
          -0.0911242515199328,
          0.0512681215525106,
          0.223015189612357,
          0.2145731934463438,
          0.0748772506451002,
          0.1169101775406864,
          0.1419554710622848,
          -0.1034703231196408,
          0.1181722488133418,
          0.1535988269098427,
          0.3402015071166806,
          -0.0447378803089021,
          0.0704733080214003,
          0.4787681971418865,
          0.1254182611336868,
          -0.199101125039012,
          0.2603510553195894,
          0.2042637475020973,
          0.2366962075804202,
          0.0666290222899701,
          0.0400154977972022,
          0.2725169559266004,
          0.160997513479037,
          0.2903581902920694,
          0.2590280476765413,
          -0.0039790416147078,
          -0.0792392392517392,
          0.3184561871645421,
          0.3404930770324418,
          0.0848723623054647,
          -0.2045393690991768,
          0.0238521689864241,
          0.2898595973391308,
          -0.0491864826817415,
          0.2904191825546995,
          0.1301715312210801,
          0.0179566266169868,
          0.1409926277411892,
          0.1480830546529782,
          0.0576513027075527,
          -0.159892748272957,
          0.1426375473826682,
          -0.1799338062181376,
          0.0007907024581608,
          0.2676394362501533,
          0.3496537419673577,
          0.1048512362505129,
          0.3188303116670372,
          0.2370137721534336,
          -0.0051486921871544,
          0.1643082651651343,
          0.0325631494999019,
          -0.0521932026267161,
          -0.0747793724462322,
          0.2111701552291798,
          0.0748608468145891,
          -0.0103326682827829,
          0.0311051252349901,
          0.1912567477773055,
          0.0588412538532684,
          0.0393148279015519,
          0.1971161663518292,
          0.2694265407408743,
          0.1490084900554166,
          0.026925222913612,
          0.0200898692045846,
          0.0466584072637994,
          -0.0954322369548727,
          0.0182084372416671,
          0.2923669470406807,
          0.1454062901626936,
          -0.141925301173876,
          0.1685767530494056,
          0.3255152163731897,
          0.3281226042013525,
          0.2639567676099935,
          -0.0299515299513171,
          0.0958054360877441,
          0.4009335182580067,
          -0.01700731058369,
          0.254857920823463,
          0.1330941602952524,
          0.2421736868387121,
          0.3167150855309051,
          -0.0853691768939328,
          -0.0065090845406611,
          0.5632684414429496,
          0.0915819241258614,
          0.0758631763036834,
          0.0352842108423802,
          0.2309329975903937,
          0.2949217747877956,
          -0.115853914003512,
          0.5118638735011333,
          0.1341523258414856,
          0.1815483763466605,
          -0.0334808872012768,
          0.2554385346792919,
          0.4190870522061282,
          0.1666235600359609,
          0.0773540811415602,
          0.1403030213752141,
          0.0072677281004182,
          0.1051332406085654,
          0.2526812545623431,
          -0.0909455305317081,
          0.2676875530885112,
          0.2025664493109336,
          0.1442518536622855,
          -0.2162548411148168,
          -0.0882320954338548,
          0.187506676595217,
          0.2086901698054841,
          0.1396846089324811,
          -0.135741393113695,
          0.3371752285224964,
          0.067245708918472,
          -0.1199155562583444,
          -0.0471306340374517,
          0.1148081173856586,
          0.4573581725329236,
          0.0990168331820897,
          -0.2853566938318913,
          0.1954614815049885,
          0.0165377807516554,
          0.1598948515842142
         ]
        },
        {
         "boxmean": "sd",
         "name": "Est-SD",
         "type": "box",
         "y": [
          0.1443005763242035,
          0.3481745431060373,
          0.2060387051525523,
          0.4839341235165535,
          0.4281597599401541,
          0.0004243211283077,
          0.3616202761265509,
          0.3474025538930393,
          0.3633698883325427,
          0.2422182557886045,
          0.0963048437839683,
          0.404929137657089,
          0.1259378795751821,
          0.3551054746897528,
          0.3980198429986159,
          0.1176565399048473,
          0.2893535659243992,
          0.232599938661688,
          0.0481469680323796,
          0.5531824726241065,
          0.0328947888107777,
          0.2407128842523278,
          -0.1383370842640315,
          0.4443597192439694,
          0.407907207739156,
          0.2669716732797937,
          0.1320367722000176,
          0.2446902569327269,
          0.1957499034667254,
          0.3981742469902908,
          0.2936598858589931,
          0.5226821383220124,
          0.2825475173230221,
          0.4405553621962763,
          0.2186583614045928,
          0.4917051913594518,
          0.3050677365788495,
          0.4140868803383449,
          0.0864951942624467,
          0.4854813845517299,
          0.2680259842337654,
          0.2338598192938083,
          0.529834840531164,
          0.2945581876086167,
          0.0858979534873878,
          0.4142674954367997,
          0.3597479221903476,
          0.4322001205467921,
          0.3040804518395026,
          0.3588596633458927,
          0.3077088106063192,
          0.3128489754048203,
          0.3459989183032237,
          0.0930093771243541,
          0.3107865056048086,
          0.2564397537374082,
          0.3999445262833828,
          0.376288227331588,
          0.110294899408195,
          0.3310596818614014,
          0.2664057080280814,
          0.1180019867859104,
          0.1443059735086082,
          0.053871937731516,
          -0.0206902156509303,
          0.6533517139282448,
          0.1984661942275911,
          0.2623501852754166,
          0.257715130543103,
          0.2776504168778037,
          0.1876035249797233,
          0.1385818883943771,
          0.3352632980216139,
          0.2711467005469671,
          0.0541588260598251,
          -0.0777204391862453,
          0.2912871797235557,
          0.3011614838765972,
          0.2861299316714377,
          0.4082147426344356,
          0.1172047292466145,
          0.433074581355115,
          0.5464176794262772,
          0.3665663244769778,
          0.3543172763725477,
          0.46083805374783,
          0.1903314278598437,
          0.4668906421457033,
          0.5020452792974319,
          0.3118301227800579,
          0.1554402367316373,
          0.6088281602743871,
          -0.0330002814495082,
          0.3179446131839994,
          0.4988364266197839,
          0.4874621469721006,
          0.2121286509234514,
          0.5431694843459502,
          0.1167073855395555,
          0.1242903127437145,
          0.3648659628251734,
          0.3075741468372225,
          0.2625508157506417,
          0.1664243053460497,
          0.3709515019873529,
          0.2745643198621494,
          0.3455981337543677,
          0.2337805315555776,
          0.2818930231584681,
          0.5267622299798512,
          0.1922058213984314,
          0.3132252422534675,
          0.4510719127931721,
          0.2035947853070308,
          0.3066323862394178,
          0.2597905501313891,
          0.2270348645281562,
          0.1313038092425922,
          0.5522085328637457,
          -0.0104535756527067,
          -0.00001589496676842464,
          0.2379230879362743,
          0.6530371263657191,
          0.2094447161326168,
          0.0908584367253357,
          0.2645109521352281,
          0.4387872906313844,
          0.2979019608547667,
          0.1730225430392765,
          0.5019998377850025,
          0.1937188813203576,
          -0.0447299699788507,
          0.2793549920893188,
          0.44077437917208,
          0.4069856334201343,
          -0.0354904818281241,
          0.1738864569190855,
          0.5431761604522153,
          0.2981128428453584,
          -0.1683408908426238,
          0.3283775595457834,
          0.2857278182719527,
          0.3724931562527699,
          0.0318577935184836,
          0.264093148152591,
          0.4695686983882882,
          0.5020863510946626,
          0.473768143950888,
          0.4334306888650217,
          0.2692293949605729,
          0.3096489136351514,
          0.4964337035458213,
          0.7227704849997201,
          0.109038715678063,
          -0.0198105349689517,
          0.3032762453628794,
          0.4739886548482517,
          0.3207715581514586,
          0.3668876234272945,
          0.1848701710288334,
          0.1853406198621438,
          0.3675680337046621,
          0.482671131846095,
          0.1014650283070621,
          0.0666490356471141,
          0.2557878163338397,
          0.0625665133207774,
          0.2330118346745948,
          0.4489279622567614,
          0.5422819254499108,
          0.3035966852996423,
          0.4902422834909379,
          0.4915863607382491,
          0.1855104378555953,
          0.2996108108583269,
          0.1302600343710376,
          -0.024505945652573,
          0.0523551158352802,
          0.1077484795639606,
          0.2995018452476436,
          0.1490939375830965,
          0.4776088098860548,
          0.3342684792454919,
          0.1964289104120302,
          0.1986229826404465,
          0.2500958206371668,
          0.3837842602891619,
          0.4299301911653793,
          0.0234909295322252,
          0.1553009820292621,
          0.1532903048135296,
          0.2780723498437563,
          0.2389183197069515,
          0.4304410368588538,
          0.278879809671857,
          0.1723700766998147,
          0.23017673530265,
          0.3898026275733787,
          0.5083584073008315,
          0.3383335794248913,
          0.0812216195317057,
          0.3881129375820362,
          0.5745802256003817,
          0.1915745983686519,
          0.3987799269402434,
          0.4147851123354016,
          0.3388566843271177,
          0.3423831597583065,
          0.1768963262121604,
          0.1060130962601231,
          0.4849928105191248,
          0.1013799069133694,
          0.1903934247635746,
          0.4097106011644846,
          0.4247412557414274,
          0.5070826274180384,
          0.1351488233678318,
          0.4974688128361788,
          0.4486275595608524,
          0.4955768564523892,
          0.0784780201238862,
          0.3664131817921685,
          0.5077270431266728,
          0.3011781378970621,
          0.1091108732398936,
          0.2738779881224948,
          0.1234068126082151,
          0.0391121409533682,
          0.4714185001651628,
          0.0140272782972335,
          0.3789900381426433,
          0.7249101822428966,
          0.2510521788248172,
          0.2121131804932537,
          0.152799010394088,
          0.2611469320091568,
          0.4009499862250178,
          0.3732644172773572,
          0.1203461208496134,
          0.4751495357150749,
          0.1069584360426712,
          0.1844494897629861,
          0.1075720391575804,
          0.2374292814258895,
          0.7283089037721009,
          0.3384050440697888,
          -0.0819500759060851,
          0.347451216724889,
          0.1849543707376413,
          0.4191248288896883
         ]
        },
        {
         "boxmean": "sd",
         "name": "Est-None",
         "type": "box",
         "y": [
          0.1842770408593777,
          0.3658367609568477,
          0.2301390043215025,
          0.5279645112474497,
          0.4465435921289172,
          0.024162175196648,
          0.4697713149221237,
          0.3725362495098028,
          0.4721657724105263,
          0.2806525241693975,
          0.1160906511274243,
          0.408641700686576,
          0.1481389045272823,
          0.4195081478655248,
          0.440826416760067,
          0.1583180016662435,
          0.3153004784501314,
          0.2415728618352287,
          0.0884234427432883,
          0.5858441661772943,
          0.0640384055251969,
          0.2664430148060627,
          -0.1350129165144051,
          0.4514172665134686,
          0.421249738930683,
          0.3267446971955351,
          0.1865329109637267,
          0.2578455349918919,
          0.2405036946819471,
          0.4419048805324832,
          0.3318951939765496,
          0.5708962457987378,
          0.2892616325529669,
          0.4731920810798551,
          0.2476552146592097,
          0.5334300742143714,
          0.3171031602551413,
          0.4250874004272673,
          0.0849507016472232,
          0.5258856916362816,
          0.3284830421312001,
          0.31363548508064,
          0.5645171658635485,
          0.3029430445309705,
          0.1102808641943401,
          0.4562132416511707,
          0.3766952748801603,
          0.4319399118155451,
          0.3476464919657469,
          0.4140941950601824,
          0.3797594753337837,
          0.3197656432055917,
          0.345469739017924,
          0.1386805918396511,
          0.3623824446529436,
          0.2985888127333537,
          0.4454160452091623,
          0.4042380221417766,
          0.15122304120321,
          0.3185175469157742,
          0.2951659734033609,
          0.1461837931933725,
          0.1786014701087662,
          0.0430454935412647,
          0.0080968541294447,
          0.7069368703713427,
          0.2143615513745617,
          0.3267412291000687,
          0.2932290857885261,
          0.2933521230775914,
          0.2141131240716642,
          0.1717259681773118,
          0.3402369275878094,
          0.3005270713706243,
          0.0553761222867115,
          -0.0528595986369188,
          0.3019719528063188,
          0.3577069159994278,
          0.3130030678572796,
          0.4258701893051539,
          0.1341041003112199,
          0.4934010410248645,
          0.5626990696325385,
          0.3783044595894409,
          0.3726738937368459,
          0.5006387964554089,
          0.188442080783543,
          0.4654811999131789,
          0.5370186268558845,
          0.3493557110971921,
          0.1790478342982461,
          0.6057001869661897,
          0.0170469006460043,
          0.3506910236871668,
          0.531303645758313,
          0.5032225216425524,
          0.298537042534369,
          0.5673670092423452,
          0.1772611378930634,
          0.1526588711279073,
          0.4196840529195685,
          0.3973744192347405,
          0.2936595760085776,
          0.1773089086641696,
          0.4398123507076618,
          0.3006140496442965,
          0.3482699644248443,
          0.2635103698762336,
          0.2734848170549052,
          0.5500720762514116,
          0.2256214009585821,
          0.3443354617676966,
          0.526356634435309,
          0.2180931740720249,
          0.3391721117866396,
          0.2896581445923043,
          0.2825341328966372,
          0.1157217583559795,
          0.5967829655366732,
          0.0191562750346903,
          0.0129479805452129,
          0.2676199957965092,
          0.7255542292299801,
          0.2320098663518832,
          0.1554243952830251,
          0.293438694655588,
          0.5431312048746868,
          0.3277793517335048,
          0.1873596991596459,
          0.5624846279395739,
          0.1910434017913998,
          -0.0235405794165759,
          0.345391314261022,
          0.4732001869757604,
          0.3968794122637974,
          -0.022775102319803,
          0.2079188201135519,
          0.5608401044773119,
          0.3295005054688898,
          -0.1691507754829215,
          0.3252211288605229,
          0.3041350814996823,
          0.3816506768534331,
          0.0456197986456484,
          0.3447001554573259,
          0.5124672954154953,
          0.5375398667905458,
          0.5088907792409503,
          0.4685672564125997,
          0.3192506574635516,
          0.3345928592113806,
          0.5079831693172192,
          0.7323781966114504,
          0.1234596849159841,
          0.0057757251943231,
          0.3409129812834843,
          0.505122713262482,
          0.353086191697236,
          0.4003958916471555,
          0.2130361971173376,
          0.2409690495242604,
          0.3828401567349503,
          0.5149011856263662,
          0.0955331279644843,
          0.1502112154758933,
          0.2700495357057056,
          0.1096853911647797,
          0.2507639180117957,
          0.4823912169756749,
          0.5743165109488756,
          0.3278995148460669,
          0.4935109620213513,
          0.506665227792349,
          0.1928469354931833,
          0.3376409565429782,
          0.1750753978424903,
          -0.0133144764599582,
          0.1646722844073795,
          0.1083288672592688,
          0.3538368959712136,
          0.1635121106920197,
          0.517940385005029,
          0.3786379508260856,
          0.208631978273316,
          0.2134179315199244,
          0.2488493579335182,
          0.4289051817684078,
          0.4884295345000946,
          0.0286441877116556,
          0.2273646657585259,
          0.1556928023033464,
          0.3037119540446023,
          0.2812467598222389,
          0.4693513051270209,
          0.2923906947251426,
          0.2233301835689974,
          0.267836692004652,
          0.403479648529168,
          0.5187163377473032,
          0.3355947344353919,
          0.124303864665368,
          0.4261747130829836,
          0.597940556365613,
          0.2351042437615569,
          0.4390905125510124,
          0.4838159704901275,
          0.3561492408982422,
          0.3284199748375502,
          0.2681676480613469,
          0.1184719415267888,
          0.4847446100401537,
          0.0917869441491135,
          0.2093148688905075,
          0.4538899876456028,
          0.4499872575496917,
          0.5370230494408748,
          0.1963307392269241,
          0.4969214013824051,
          0.4935804570942136,
          0.4898797420362309,
          0.0914030232129125,
          0.3962238418150418,
          0.5362120989325209,
          0.3317259416460567,
          0.1352796703583249,
          0.2878847029567393,
          0.1556615617160797,
          0.0416556020883754,
          0.496473868218265,
          0.0426918463018358,
          0.4372071678473677,
          0.7809523227264451,
          0.3010258217993386,
          0.2652833405321108,
          0.1947834641653567,
          0.2749793011824188,
          0.455383616259158,
          0.4016462218504409,
          0.1697491290646267,
          0.5008552448921889,
          0.159510112257312,
          0.243256505987842,
          0.1569196685865343,
          0.2519262050926108,
          0.7748771697049047,
          0.379354119430238,
          -0.0387576543653358,
          0.3661213252579777,
          0.2229417628504865,
          0.4483288132819749
         ]
        }
       ],
       "layout": {
        "template": {
         "data": {
          "bar": [
           {
            "error_x": {
             "color": "#2a3f5f"
            },
            "error_y": {
             "color": "#2a3f5f"
            },
            "marker": {
             "line": {
              "color": "#E5ECF6",
              "width": 0.5
             },
             "pattern": {
              "fillmode": "overlay",
              "size": 10,
              "solidity": 0.2
             }
            },
            "type": "bar"
           }
          ],
          "barpolar": [
           {
            "marker": {
             "line": {
              "color": "#E5ECF6",
              "width": 0.5
             },
             "pattern": {
              "fillmode": "overlay",
              "size": 10,
              "solidity": 0.2
             }
            },
            "type": "barpolar"
           }
          ],
          "carpet": [
           {
            "aaxis": {
             "endlinecolor": "#2a3f5f",
             "gridcolor": "white",
             "linecolor": "white",
             "minorgridcolor": "white",
             "startlinecolor": "#2a3f5f"
            },
            "baxis": {
             "endlinecolor": "#2a3f5f",
             "gridcolor": "white",
             "linecolor": "white",
             "minorgridcolor": "white",
             "startlinecolor": "#2a3f5f"
            },
            "type": "carpet"
           }
          ],
          "choropleth": [
           {
            "colorbar": {
             "outlinewidth": 0,
             "ticks": ""
            },
            "type": "choropleth"
           }
          ],
          "contour": [
           {
            "colorbar": {
             "outlinewidth": 0,
             "ticks": ""
            },
            "colorscale": [
             [
              0,
              "#0d0887"
             ],
             [
              0.1111111111111111,
              "#46039f"
             ],
             [
              0.2222222222222222,
              "#7201a8"
             ],
             [
              0.3333333333333333,
              "#9c179e"
             ],
             [
              0.4444444444444444,
              "#bd3786"
             ],
             [
              0.5555555555555556,
              "#d8576b"
             ],
             [
              0.6666666666666666,
              "#ed7953"
             ],
             [
              0.7777777777777778,
              "#fb9f3a"
             ],
             [
              0.8888888888888888,
              "#fdca26"
             ],
             [
              1,
              "#f0f921"
             ]
            ],
            "type": "contour"
           }
          ],
          "contourcarpet": [
           {
            "colorbar": {
             "outlinewidth": 0,
             "ticks": ""
            },
            "type": "contourcarpet"
           }
          ],
          "heatmap": [
           {
            "colorbar": {
             "outlinewidth": 0,
             "ticks": ""
            },
            "colorscale": [
             [
              0,
              "#0d0887"
             ],
             [
              0.1111111111111111,
              "#46039f"
             ],
             [
              0.2222222222222222,
              "#7201a8"
             ],
             [
              0.3333333333333333,
              "#9c179e"
             ],
             [
              0.4444444444444444,
              "#bd3786"
             ],
             [
              0.5555555555555556,
              "#d8576b"
             ],
             [
              0.6666666666666666,
              "#ed7953"
             ],
             [
              0.7777777777777778,
              "#fb9f3a"
             ],
             [
              0.8888888888888888,
              "#fdca26"
             ],
             [
              1,
              "#f0f921"
             ]
            ],
            "type": "heatmap"
           }
          ],
          "heatmapgl": [
           {
            "colorbar": {
             "outlinewidth": 0,
             "ticks": ""
            },
            "colorscale": [
             [
              0,
              "#0d0887"
             ],
             [
              0.1111111111111111,
              "#46039f"
             ],
             [
              0.2222222222222222,
              "#7201a8"
             ],
             [
              0.3333333333333333,
              "#9c179e"
             ],
             [
              0.4444444444444444,
              "#bd3786"
             ],
             [
              0.5555555555555556,
              "#d8576b"
             ],
             [
              0.6666666666666666,
              "#ed7953"
             ],
             [
              0.7777777777777778,
              "#fb9f3a"
             ],
             [
              0.8888888888888888,
              "#fdca26"
             ],
             [
              1,
              "#f0f921"
             ]
            ],
            "type": "heatmapgl"
           }
          ],
          "histogram": [
           {
            "marker": {
             "pattern": {
              "fillmode": "overlay",
              "size": 10,
              "solidity": 0.2
             }
            },
            "type": "histogram"
           }
          ],
          "histogram2d": [
           {
            "colorbar": {
             "outlinewidth": 0,
             "ticks": ""
            },
            "colorscale": [
             [
              0,
              "#0d0887"
             ],
             [
              0.1111111111111111,
              "#46039f"
             ],
             [
              0.2222222222222222,
              "#7201a8"
             ],
             [
              0.3333333333333333,
              "#9c179e"
             ],
             [
              0.4444444444444444,
              "#bd3786"
             ],
             [
              0.5555555555555556,
              "#d8576b"
             ],
             [
              0.6666666666666666,
              "#ed7953"
             ],
             [
              0.7777777777777778,
              "#fb9f3a"
             ],
             [
              0.8888888888888888,
              "#fdca26"
             ],
             [
              1,
              "#f0f921"
             ]
            ],
            "type": "histogram2d"
           }
          ],
          "histogram2dcontour": [
           {
            "colorbar": {
             "outlinewidth": 0,
             "ticks": ""
            },
            "colorscale": [
             [
              0,
              "#0d0887"
             ],
             [
              0.1111111111111111,
              "#46039f"
             ],
             [
              0.2222222222222222,
              "#7201a8"
             ],
             [
              0.3333333333333333,
              "#9c179e"
             ],
             [
              0.4444444444444444,
              "#bd3786"
             ],
             [
              0.5555555555555556,
              "#d8576b"
             ],
             [
              0.6666666666666666,
              "#ed7953"
             ],
             [
              0.7777777777777778,
              "#fb9f3a"
             ],
             [
              0.8888888888888888,
              "#fdca26"
             ],
             [
              1,
              "#f0f921"
             ]
            ],
            "type": "histogram2dcontour"
           }
          ],
          "mesh3d": [
           {
            "colorbar": {
             "outlinewidth": 0,
             "ticks": ""
            },
            "type": "mesh3d"
           }
          ],
          "parcoords": [
           {
            "line": {
             "colorbar": {
              "outlinewidth": 0,
              "ticks": ""
             }
            },
            "type": "parcoords"
           }
          ],
          "pie": [
           {
            "automargin": true,
            "type": "pie"
           }
          ],
          "scatter": [
           {
            "fillpattern": {
             "fillmode": "overlay",
             "size": 10,
             "solidity": 0.2
            },
            "type": "scatter"
           }
          ],
          "scatter3d": [
           {
            "line": {
             "colorbar": {
              "outlinewidth": 0,
              "ticks": ""
             }
            },
            "marker": {
             "colorbar": {
              "outlinewidth": 0,
              "ticks": ""
             }
            },
            "type": "scatter3d"
           }
          ],
          "scattercarpet": [
           {
            "marker": {
             "colorbar": {
              "outlinewidth": 0,
              "ticks": ""
             }
            },
            "type": "scattercarpet"
           }
          ],
          "scattergeo": [
           {
            "marker": {
             "colorbar": {
              "outlinewidth": 0,
              "ticks": ""
             }
            },
            "type": "scattergeo"
           }
          ],
          "scattergl": [
           {
            "marker": {
             "colorbar": {
              "outlinewidth": 0,
              "ticks": ""
             }
            },
            "type": "scattergl"
           }
          ],
          "scattermapbox": [
           {
            "marker": {
             "colorbar": {
              "outlinewidth": 0,
              "ticks": ""
             }
            },
            "type": "scattermapbox"
           }
          ],
          "scatterpolar": [
           {
            "marker": {
             "colorbar": {
              "outlinewidth": 0,
              "ticks": ""
             }
            },
            "type": "scatterpolar"
           }
          ],
          "scatterpolargl": [
           {
            "marker": {
             "colorbar": {
              "outlinewidth": 0,
              "ticks": ""
             }
            },
            "type": "scatterpolargl"
           }
          ],
          "scatterternary": [
           {
            "marker": {
             "colorbar": {
              "outlinewidth": 0,
              "ticks": ""
             }
            },
            "type": "scatterternary"
           }
          ],
          "surface": [
           {
            "colorbar": {
             "outlinewidth": 0,
             "ticks": ""
            },
            "colorscale": [
             [
              0,
              "#0d0887"
             ],
             [
              0.1111111111111111,
              "#46039f"
             ],
             [
              0.2222222222222222,
              "#7201a8"
             ],
             [
              0.3333333333333333,
              "#9c179e"
             ],
             [
              0.4444444444444444,
              "#bd3786"
             ],
             [
              0.5555555555555556,
              "#d8576b"
             ],
             [
              0.6666666666666666,
              "#ed7953"
             ],
             [
              0.7777777777777778,
              "#fb9f3a"
             ],
             [
              0.8888888888888888,
              "#fdca26"
             ],
             [
              1,
              "#f0f921"
             ]
            ],
            "type": "surface"
           }
          ],
          "table": [
           {
            "cells": {
             "fill": {
              "color": "#EBF0F8"
             },
             "line": {
              "color": "white"
             }
            },
            "header": {
             "fill": {
              "color": "#C8D4E3"
             },
             "line": {
              "color": "white"
             }
            },
            "type": "table"
           }
          ]
         },
         "layout": {
          "annotationdefaults": {
           "arrowcolor": "#2a3f5f",
           "arrowhead": 0,
           "arrowwidth": 1
          },
          "autotypenumbers": "strict",
          "coloraxis": {
           "colorbar": {
            "outlinewidth": 0,
            "ticks": ""
           }
          },
          "colorscale": {
           "diverging": [
            [
             0,
             "#8e0152"
            ],
            [
             0.1,
             "#c51b7d"
            ],
            [
             0.2,
             "#de77ae"
            ],
            [
             0.3,
             "#f1b6da"
            ],
            [
             0.4,
             "#fde0ef"
            ],
            [
             0.5,
             "#f7f7f7"
            ],
            [
             0.6,
             "#e6f5d0"
            ],
            [
             0.7,
             "#b8e186"
            ],
            [
             0.8,
             "#7fbc41"
            ],
            [
             0.9,
             "#4d9221"
            ],
            [
             1,
             "#276419"
            ]
           ],
           "sequential": [
            [
             0,
             "#0d0887"
            ],
            [
             0.1111111111111111,
             "#46039f"
            ],
            [
             0.2222222222222222,
             "#7201a8"
            ],
            [
             0.3333333333333333,
             "#9c179e"
            ],
            [
             0.4444444444444444,
             "#bd3786"
            ],
            [
             0.5555555555555556,
             "#d8576b"
            ],
            [
             0.6666666666666666,
             "#ed7953"
            ],
            [
             0.7777777777777778,
             "#fb9f3a"
            ],
            [
             0.8888888888888888,
             "#fdca26"
            ],
            [
             1,
             "#f0f921"
            ]
           ],
           "sequentialminus": [
            [
             0,
             "#0d0887"
            ],
            [
             0.1111111111111111,
             "#46039f"
            ],
            [
             0.2222222222222222,
             "#7201a8"
            ],
            [
             0.3333333333333333,
             "#9c179e"
            ],
            [
             0.4444444444444444,
             "#bd3786"
            ],
            [
             0.5555555555555556,
             "#d8576b"
            ],
            [
             0.6666666666666666,
             "#ed7953"
            ],
            [
             0.7777777777777778,
             "#fb9f3a"
            ],
            [
             0.8888888888888888,
             "#fdca26"
            ],
            [
             1,
             "#f0f921"
            ]
           ]
          },
          "colorway": [
           "#636efa",
           "#EF553B",
           "#00cc96",
           "#ab63fa",
           "#FFA15A",
           "#19d3f3",
           "#FF6692",
           "#B6E880",
           "#FF97FF",
           "#FECB52"
          ],
          "font": {
           "color": "#2a3f5f"
          },
          "geo": {
           "bgcolor": "white",
           "lakecolor": "white",
           "landcolor": "#E5ECF6",
           "showlakes": true,
           "showland": true,
           "subunitcolor": "white"
          },
          "hoverlabel": {
           "align": "left"
          },
          "hovermode": "closest",
          "mapbox": {
           "style": "light"
          },
          "paper_bgcolor": "white",
          "plot_bgcolor": "#E5ECF6",
          "polar": {
           "angularaxis": {
            "gridcolor": "white",
            "linecolor": "white",
            "ticks": ""
           },
           "bgcolor": "#E5ECF6",
           "radialaxis": {
            "gridcolor": "white",
            "linecolor": "white",
            "ticks": ""
           }
          },
          "scene": {
           "xaxis": {
            "backgroundcolor": "#E5ECF6",
            "gridcolor": "white",
            "gridwidth": 2,
            "linecolor": "white",
            "showbackground": true,
            "ticks": "",
            "zerolinecolor": "white"
           },
           "yaxis": {
            "backgroundcolor": "#E5ECF6",
            "gridcolor": "white",
            "gridwidth": 2,
            "linecolor": "white",
            "showbackground": true,
            "ticks": "",
            "zerolinecolor": "white"
           },
           "zaxis": {
            "backgroundcolor": "#E5ECF6",
            "gridcolor": "white",
            "gridwidth": 2,
            "linecolor": "white",
            "showbackground": true,
            "ticks": "",
            "zerolinecolor": "white"
           }
          },
          "shapedefaults": {
           "line": {
            "color": "#2a3f5f"
           }
          },
          "ternary": {
           "aaxis": {
            "gridcolor": "white",
            "linecolor": "white",
            "ticks": ""
           },
           "baxis": {
            "gridcolor": "white",
            "linecolor": "white",
            "ticks": ""
           },
           "bgcolor": "#E5ECF6",
           "caxis": {
            "gridcolor": "white",
            "linecolor": "white",
            "ticks": ""
           }
          },
          "title": {
           "x": 0.05
          },
          "xaxis": {
           "automargin": true,
           "gridcolor": "white",
           "linecolor": "white",
           "ticks": "",
           "title": {
            "standoff": 15
           },
           "zerolinecolor": "white",
           "zerolinewidth": 2
          },
          "yaxis": {
           "automargin": true,
           "gridcolor": "white",
           "linecolor": "white",
           "ticks": "",
           "title": {
            "standoff": 15
           },
           "zerolinecolor": "white",
           "zerolinewidth": 2
          }
         }
        },
        "title": {
         "text": "Estimation window is: 10 years"
        }
       }
      }
     },
     "metadata": {},
     "output_type": "display_data"
    },
    {
     "data": {
      "application/vnd.plotly.v1+json": {
       "config": {
        "plotlyServerURL": "https://plot.ly"
       },
       "data": [
        {
         "boxmean": "sd",
         "name": "True",
         "type": "box",
         "y": [
          0.3937618777982221,
          0.3694490072081318,
          0.2825014925434457,
          0.5955011933727685,
          0.4540421321323584,
          0.4455401160215,
          0.5738480048465612,
          0.5508461905345732,
          0.6035658656490052,
          0.5294548483131203,
          0.5214781557481867,
          0.5647017826140398,
          0.7307162132516101,
          0.9611196276420316,
          0.8411365406420792,
          0.6293843551821868,
          0.3839700064417045,
          0.3736462706041815,
          0.3514571350951042,
          0.6963104042386461,
          0.3994590109469295,
          0.4626066056565384,
          0.1929619611931171,
          0.6747285512053084,
          0.5679944105150705,
          0.6943669989363681,
          0.5220980546514272,
          0.5258368805602719,
          0.6632338430660474,
          0.6514423616069193,
          0.7816472058558289,
          0.6322057047427623,
          0.2849783711540807,
          0.671300866063408,
          0.415923203597806,
          0.468907185474653,
          0.3879576967171861,
          0.6283266857869843,
          0.1984435254208394,
          0.4919589293739272,
          0.5919497094800079,
          0.4508129615951148,
          0.5162043502356256,
          0.4019614107455121,
          0.4986433849111293,
          0.4839632106859292,
          0.4140187715326205,
          0.4467766355086539,
          0.5452202884331295,
          0.7693735668992752,
          0.6757245269713515,
          0.5790825291632475,
          0.5491120179930133,
          0.4056840057547916,
          0.5025961896385357,
          0.4633232667376398,
          0.5348145602609607,
          0.6384390778659785,
          0.6424577644710364,
          0.5578431835227967,
          0.5229697151807121,
          0.5615959844491943,
          0.4187347375111007,
          0.3072227534703003,
          0.6423333931783352,
          0.7386335228575035,
          0.3667978716256442,
          0.6043521667869386,
          0.5493928877469548,
          0.4419816786338049,
          0.3781144269677731,
          0.4312540500677368,
          0.5192582668806924,
          0.7140171079512754,
          0.5162757089143357,
          0.306667368271404,
          0.6067220076870428,
          0.4338600468413812,
          0.4583345114616096,
          0.4025251840312606,
          0.4300703340533218,
          0.670537295474987,
          0.5289597584712216,
          0.526620067982559,
          0.5433340853388684,
          0.8490209852610983,
          0.4396507580172168,
          0.4572358982626384,
          0.8311426543292422,
          0.7041911669392306,
          0.5489606819262584,
          0.5458102963735838,
          0.3479703980501228,
          0.5633032762208664,
          0.7538035753471194,
          0.438344594433771,
          0.5555360231595645,
          0.7848109644287904,
          0.4585899283563334,
          0.5421872468985606,
          0.6523194857661516,
          0.7008940603056616,
          0.5902686321162692,
          0.4552246106241782,
          0.7548974725915801,
          0.3871294861340574,
          0.3837593663917064,
          0.519933604206333,
          0.5518165425282666,
          0.3521514297487494,
          0.5271357038864672,
          0.5855925632921413,
          0.7274545648450912,
          0.2575621553838539,
          0.5686493329928172,
          0.2250517481041228,
          0.5814801635605231,
          0.3177845705100969,
          0.5642301489506281,
          0.4294602739934233,
          0.4608746075663483,
          0.4454412323740929,
          0.7969038779535248,
          0.6846109184381111,
          0.3848652515333022,
          0.3493434324014008,
          0.7253348054308468,
          0.4791603677821802,
          0.4915647372970465,
          0.9222726556701344,
          0.7243116809712186,
          0.5001850281069457,
          0.3953569309214069,
          0.51747872147458,
          0.4174513277230303,
          0.5549221873753238,
          0.4412139997041666,
          0.6697716023689745,
          0.5509636660690327,
          0.0817146427593296,
          0.3446489022558214,
          0.4364688731717747,
          0.4992180773643478,
          0.3091529873468549,
          0.4210621804916823,
          0.7545410251723021,
          0.7630261880365871,
          0.8406720351938668,
          0.6508467321274787,
          0.4721780274136635,
          0.5475117210367578,
          0.5392349290551496,
          0.8419340480791011,
          0.4815840424549892,
          0.5814021948566039,
          0.4730649726269401,
          0.8022726135050728,
          0.3297748369787822,
          0.6986424704618013,
          0.500438541441826,
          0.4404094974425659,
          0.4958700491821493,
          0.5974777906367165,
          0.4924426244682315,
          0.2905394777186741,
          0.4122368340155986,
          0.424984956825641,
          0.4490827089057101,
          0.4553715883915058,
          0.827239042742788,
          0.6850159010856512,
          0.92413187910172,
          0.6859165679978778,
          0.4755137709468252,
          0.5894013062507147,
          0.468508175817645,
          0.3377388073396605,
          0.9106480075917108,
          0.3135982899264826,
          0.6850372092683449,
          0.3011544352541417,
          0.8301706855990808,
          0.4421136097789694,
          0.6396174654615339,
          0.479263675541409,
          0.3642351893518916,
          0.6391302235557857,
          0.7261293559376907,
          0.5564513998218459,
          0.4970906153770871,
          0.3363511172751333,
          0.642966455947879,
          0.6157704478228851,
          0.4191878522636828,
          0.6198397313300784,
          0.5536287033509361,
          0.6383925323639396,
          0.466310002368051,
          0.7380149787887669,
          0.545304529773931,
          0.5060331846091969,
          0.9926273594028124,
          0.7187451861478918,
          0.2570734128962807,
          0.4091409125131468,
          0.6759613182055958,
          0.7323246281977457,
          0.4522891533687211,
          0.6812207786780653,
          0.3266856316729805,
          0.568214378511419,
          0.4178199346340862,
          0.3618271745903152,
          0.6707120068526948,
          0.6167509844321316,
          0.793303719736564,
          0.6322298371299272,
          0.6457514881047961,
          0.5723100102226454,
          0.4331677647953708,
          0.3317166591109363,
          0.4548703614718566,
          0.439943747573287,
          0.6495026989023901,
          0.232550151610399,
          0.6185194430345413,
          0.5194202789873738,
          0.4981286004720198,
          0.5323865131344346,
          0.3304320679563896,
          0.6778842202079963,
          1.026352546746088,
          0.6522949976642033,
          0.6063440696596856,
          0.4221046542316205,
          0.5386582425520574,
          0.7118864979473568,
          0.62836486441655,
          0.577860984483547,
          0.810524493873039,
          0.2928592632436844,
          0.6553601520294251,
          0.6151362800774944,
          0.5962982668180385,
          1.3067509075695334,
          0.7327239951465196,
          0.4491148476786276,
          0.7686303479889823,
          0.6238712782923681,
          0.4938131709860824
         ]
        },
        {
         "boxmean": "sd",
         "name": "Est-All",
         "type": "box",
         "y": [
          0.2491961447242553,
          0.219758059188049,
          0.2560104980711339,
          0.4528902042638127,
          0.3152456091902032,
          0.2742264325789784,
          0.4248238391902278,
          0.3817312390576871,
          0.4835731858230879,
          0.2886749513939124,
          0.3616137048025281,
          0.4651727036615041,
          0.6747480832676062,
          0.6195939796847784,
          0.6776842212042844,
          0.4892838438524328,
          0.2830852545848374,
          0.2622225011681296,
          0.2914785087463718,
          0.5870182795315367,
          0.1558303574099669,
          0.144080651972466,
          0.1925129415826686,
          0.4603356518114745,
          0.5106450020362225,
          0.4904480592972256,
          0.4353935476387559,
          0.2646389794600394,
          0.5039852305889317,
          0.330785615961142,
          0.6024284198641531,
          0.4412243938352856,
          0.1278405896413962,
          0.3973657163514092,
          0.3154553752762555,
          0.4068924626605833,
          0.163571836604151,
          0.4673579133203172,
          0.1205014664409771,
          0.3814433899808982,
          0.3676028249813606,
          0.3208855689154041,
          0.6396166065948452,
          0.2150128594637661,
          0.3677990896322272,
          0.4182645183101949,
          0.3560152072493878,
          0.3408052785464663,
          0.3463160517431354,
          0.5017744473364519,
          0.5151994776321568,
          0.4583242844411423,
          0.5624905043594396,
          0.3143279990600039,
          0.393211970060544,
          0.2360827412815527,
          0.2956102007475885,
          0.44827045035935,
          0.503431193375904,
          0.3610674758744447,
          0.3310074065970766,
          0.5255827566711732,
          0.3470651613590281,
          0.1871996490216738,
          0.5485102877589332,
          0.6261354680429285,
          0.1959261303072165,
          0.4872540884849876,
          0.3083040842503309,
          0.2869294106733744,
          0.2037498096933086,
          0.2233893151694032,
          0.3613046836978359,
          0.6411167304960137,
          0.3928545086467133,
          0.1878014170834344,
          0.3422655804180965,
          0.108934783691635,
          0.3161863470448898,
          0.271479248567514,
          0.2781264156861527,
          0.4855734830721337,
          0.4936337513631846,
          0.3309392888149932,
          0.2662866368881332,
          0.6372154666101029,
          0.3452684561460798,
          0.2217666957761048,
          0.6513521790999104,
          0.4813964242532559,
          0.1594968651377893,
          0.5375911610303592,
          0.2164420449196973,
          0.4209476056716845,
          0.5438489902189444,
          0.3924364423784965,
          0.4837406483556987,
          0.6003664096608403,
          0.3140594859310936,
          0.3007156286568,
          0.5685914140978169,
          0.4191292564422241,
          0.4533096983100922,
          0.3013661179469831,
          0.4760987000782117,
          0.3354469464141362,
          0.4048164816765708,
          0.4174651493155848,
          0.3475231873015973,
          0.4020270416052177,
          0.3896917581146968,
          0.4165654846573314,
          0.4895890430852957,
          0.1248936444767509,
          0.5089139354116434,
          0.0347667414997623,
          0.4493296254918772,
          0.0637036708034847,
          0.466594765661435,
          0.2997024886999984,
          0.2493678354316729,
          0.1752112230217222,
          0.6530175774189194,
          0.4952546833177734,
          0.4108374929240401,
          0.013771331748259,
          0.4839239975746413,
          0.3682476119455866,
          0.2981859780261641,
          0.7135328929344179,
          0.434257225761048,
          0.3161850049857945,
          0.5003971893465937,
          0.4583904785204032,
          0.3265950498120245,
          0.3586836320186861,
          0.3068715398387662,
          0.5414003112796956,
          0.356194333738621,
          -0.2955924735572163,
          0.3768752863560702,
          0.2655853733866823,
          0.2803593639439404,
          0.1378903156487913,
          0.2128462335714917,
          0.5874729952845219,
          0.5816500081631322,
          0.5818217626091858,
          0.5525038181142827,
          0.49910447192959,
          0.4100911158395446,
          0.4756307343836895,
          0.7815468052037051,
          0.4308658721739162,
          0.4889846257020045,
          0.3510146072956844,
          0.5620981796998668,
          0.1153938739015491,
          0.5986913481899304,
          0.2951833780226051,
          0.2285408010122266,
          0.3237742133058113,
          0.6468164128338315,
          0.3688150377650548,
          0.1934306263499608,
          0.1864230826934108,
          0.0731343757975354,
          0.3535029391303612,
          0.2847371493196094,
          0.6916317855792152,
          0.5762918999188111,
          0.621493972992747,
          0.6017436311044737,
          0.2347709777500685,
          0.425224097521524,
          0.3139963027044243,
          0.1806781114886323,
          0.7382048078330078,
          0.2320141560528977,
          0.4036237071401176,
          0.2109378977830311,
          0.6550004538570027,
          0.4325356298499054,
          0.3641327417525029,
          0.3622346905907246,
          0.089209399162692,
          0.4301486819109352,
          0.5223201785837631,
          0.5341093187413103,
          0.4225396665843262,
          0.155867992913838,
          0.4469833349530845,
          0.5409705876220948,
          0.3025216982295747,
          0.5647243544372675,
          0.3970359882688356,
          0.6393134979615759,
          0.2880861099105327,
          0.6193489495547596,
          0.3671868105332246,
          0.4057413717897718,
          0.8084533702133957,
          0.5835317418654246,
          0.1863502031091356,
          0.2369951518028587,
          0.5968579878933524,
          0.4389062263771827,
          0.2431527407492485,
          0.5253786690935323,
          0.1251723851511168,
          0.4009256362950936,
          0.3549800306463665,
          0.1453770040176303,
          0.4979946082371572,
          0.4559835400352474,
          0.6882364553569962,
          0.5692395833592951,
          0.5089065692466865,
          0.4356310193068703,
          0.3765873424245181,
          0.1347918132574649,
          0.2776116565884175,
          0.3279195747911532,
          0.5156624266275215,
          0.1897185415744786,
          0.3744128804977903,
          0.4088319031994167,
          0.3457946626676265,
          0.2263708599070865,
          0.2731923814825042,
          0.5094282319145695,
          0.8409942597277169,
          0.5092120558994504,
          0.5199210805979955,
          0.3649722645851738,
          0.4170214520806533,
          0.5874362942675567,
          0.5119254451856925,
          0.3646788422705956,
          0.6478012295347315,
          0.060950878447097,
          0.3278364456405795,
          0.3490970838697828,
          0.3267298764283295,
          1.0609231296275967,
          0.5017720539531595,
          0.2181773891850181,
          0.4247125655047139,
          0.3327408222775332,
          0.4068952533541622
         ]
        },
        {
         "boxmean": "sd",
         "name": "Est-SD-Corr",
         "type": "box",
         "y": [
          -0.0344789914958562,
          0.1721187450078949,
          0.075966473139814,
          0.2576327126246565,
          0.2345918229530931,
          -0.1095698744735203,
          0.1276114433029849,
          0.0586279273044207,
          0.2856175562024668,
          0.0745201961970703,
          0.0937059451907307,
          0.2868794795798438,
          -0.2289879130497057,
          0.1347913506537668,
          0.0285868479097911,
          -0.0430669061830527,
          0.1514247670836732,
          0.0985336130334711,
          -0.0080785845334206,
          0.2729488328201065,
          -0.0696039151488389,
          0.1135069568211139,
          -0.1131592949162225,
          0.2848628722221075,
          0.3320982758796797,
          0.3015668158413926,
          0.1369092661782618,
          0.069523030270799,
          0.0339401494086078,
          0.1229789998061808,
          0.2092600580275687,
          0.264146423410276,
          0.0178254648922653,
          0.2865208308377228,
          0.0894875639378514,
          0.3505606127940821,
          0.067147008584741,
          0.2213335525376621,
          -0.0945963504979216,
          0.1974343793423711,
          -0.0021854427274066,
          0.0650989842353318,
          0.4542652033057773,
          -0.09902058906992,
          -0.1702566469168664,
          0.3445653398064663,
          0.1322030774434369,
          0.2715401637269013,
          0.0199695018673116,
          0.2707440689366215,
          0.0965381020883488,
          0.1125595324893355,
          0.2092660555372876,
          0.1234019523894719,
          0.1268986988121598,
          0.1663053311138192,
          0.1782617905275883,
          0.0021109294392268,
          0.1647053134333368,
          0.170887587549534,
          0.232384530146933,
          -0.0385804319545988,
          0.2555429130596306,
          0.0693823438729363,
          -0.1407120611555447,
          0.417681017052359,
          0.2076670156660374,
          0.0201499031892189,
          0.1925241161564966,
          0.1764491812682682,
          -0.0194676838326794,
          0.0307116550129868,
          0.2162322595640887,
          0.3034254623762744,
          0.1771634062629203,
          -0.0990198748421275,
          0.1920638091965147,
          0.2306198532454985,
          0.0240516712824178,
          -0.2237438760303557,
          0.0827930735717242,
          0.3969673745454131,
          0.4410518032262633,
          0.2531935249589295,
          0.0700898723269569,
          0.3958632180710961,
          0.2680962343791219,
          0.2176327394157383,
          0.2526711172268716,
          0.314843302293575,
          0.0571445763266166,
          0.4065755504980066,
          -0.0989629878648181,
          0.1295285699680011,
          0.4097478148008182,
          0.4209823550783619,
          0.0137866266852292,
          0.1593438899455225,
          -0.107260374118882,
          0.2648102906514241,
          0.1340094972638233,
          0.0930312391661559,
          0.3949423613434245,
          0.1118438390329397,
          0.1056229829433693,
          0.1701952133806301,
          0.3765259048934827,
          0.0177405757280184,
          0.1954627454232495,
          0.3712916854649293,
          0.2433773551132251,
          0.3044471431467856,
          0.3188427818252274,
          -0.070023933576721,
          0.3424754037673949,
          -0.0389702822224887,
          0.1461940987280858,
          -0.0461150807586669,
          0.3810959763535657,
          -0.1562668064678925,
          0.1206084993881417,
          -0.0971969907434269,
          0.4448485052825446,
          0.3351379078407114,
          -0.0435849233379083,
          -0.1339441245042217,
          0.2795943023341376,
          -0.1154942122057,
          0.2559729990538517,
          0.1753217988987878,
          0.3603672757894327,
          -0.0905795691359007,
          0.2843778401158168,
          0.3169062102821649,
          0.2437914011313147,
          0.023786109439558,
          0.1137856780672867,
          0.3644632428869353,
          0.2105423835741983,
          -0.0774626096716655,
          0.2793045252209901,
          0.0230860756159764,
          0.3174601456674017,
          0.2074827256987208,
          -0.0600786951079118,
          0.2961833991920203,
          0.4087693287144723,
          0.2131145961266261,
          0.2642086391942592,
          0.1317906932668307,
          -0.079705791692091,
          0.4087609237188326,
          0.4321190603210066,
          0.1471701169366901,
          0.0201582362891025,
          -0.1484372473857234,
          0.2595552519714283,
          0.0362174927550808,
          0.4651811363799385,
          -0.0629272003554004,
          -0.0028452090337191,
          0.1980783847486843,
          0.4444221683619051,
          -0.0375835121266793,
          -0.0633250121634772,
          -0.1332639551633239,
          -0.0193932582749826,
          0.0513322237709331,
          0.1869873241970165,
          0.4457008240159531,
          -0.000922458314921,
          0.4336548285041343,
          0.3950997958886748,
          0.0658560948086164,
          -0.0353934071010317,
          0.0741145116609682,
          -0.0503225482042968,
          0.3411057915582232,
          0.2231751333074253,
          0.0324418046959791,
          -0.0171468671909257,
          0.1591383018189501,
          0.2603959468620543,
          0.0886939191644777,
          -0.1019044513601038,
          0.1082672969861749,
          0.1627145365488101,
          0.4002290685537434,
          -0.0268714699001745,
          0.0282316292975056,
          0.0954374564303759,
          0.102632841100355,
          0.0468896976661777,
          0.2043785413554862,
          0.1523347666356012,
          -0.0801123680326642,
          0.0715576943667429,
          0.105908457996633,
          0.2428616565425127,
          0.285279449978083,
          -0.0090215293253205,
          0.2095293567766163,
          0.2915843640364405,
          -0.010636680692701,
          0.2256338646610561,
          0.2923776255784852,
          0.3384210325994581,
          0.1867424172401861,
          0.0807642876994811,
          0.1420990154306768,
          0.3594719253000621,
          0.1489149639147766,
          0.0246353446304806,
          0.2996081217707249,
          0.2371894682312855,
          0.1777879233298748,
          0.1091677973789911,
          0.4513790279670363,
          0.0781541590853856,
          0.1930534091101323,
          0.0343155500289798,
          0.1710953135396439,
          0.2826522286737038,
          0.2121681921634763,
          0.1722919525099901,
          0.1342516412985435,
          -0.1950179837955943,
          0.1568642948102699,
          0.1387784364746845,
          -0.0075733132940614,
          0.2002064309744651,
          0.1813555309119087,
          0.1612999983210674,
          -0.0616923327396551,
          -0.1307862834569493,
          0.1820702134735045,
          0.1141924829246279,
          -0.0737817467291759,
          0.0064042348759556,
          0.4531561233670557,
          0.0766254824260126,
          0.1738116572414618,
          0.0046334932097225,
          0.1883518223604894,
          0.8008797757971119,
          0.0281675027657194,
          -0.0576554565015671,
          0.0965495738671083,
          -0.1231570705098304,
          0.2254825990259723
         ]
        },
        {
         "boxmean": "sd",
         "name": "Est-SD",
         "type": "box",
         "y": [
          0.1123275121267017,
          0.2744886306292362,
          0.121226712616334,
          0.4372098798444228,
          0.4098673901501794,
          0.1200419857353071,
          0.3576525583958566,
          0.1985056448949532,
          0.4035326952665824,
          0.2292162871941188,
          0.2452013060110822,
          0.4334542703535923,
          0.0716276762222443,
          0.5188786274078548,
          0.3311480849489672,
          0.1520424603432836,
          0.2762537731123621,
          0.2099484741407975,
          0.1517624144668883,
          0.608667701545861,
          0.1251814125394342,
          0.2518902237980377,
          0.0445185622594923,
          0.5310789413711902,
          0.478770491138772,
          0.4785643193584637,
          0.3325424735262577,
          0.2488058525879513,
          0.2435623305442244,
          0.3595353290744877,
          0.4417935811330992,
          0.4365004841730642,
          0.10318102854468,
          0.4340179014135012,
          0.2042539879364325,
          0.4349900000952774,
          0.1737069104001569,
          0.3299424187966406,
          -0.0361443768777364,
          0.2991657601171338,
          0.1572462845307743,
          0.2174239397009051,
          0.4560402105721726,
          0.1079432113938768,
          0.0855923102810332,
          0.4631367187309757,
          0.230968792419597,
          0.2793833814133923,
          0.3603698235025334,
          0.4437343105581002,
          0.3581215428171094,
          0.2920557836896734,
          0.2589602556491053,
          0.3052926156457776,
          0.2423679922190424,
          0.3113300113970749,
          0.3254053387870009,
          0.3509357831444196,
          0.4233813351242309,
          0.32590904613595,
          0.3652978835530746,
          0.3551836582523771,
          0.3456808355258185,
          0.0297057798222586,
          0.2119119973073707,
          0.6912378111558193,
          0.270814135169743,
          0.3048255991617502,
          0.3282227821097002,
          0.2600557939854596,
          0.1588177234105798,
          0.2121158873626021,
          0.3683879425570539,
          0.4098781217028562,
          0.2878376047004028,
          0.0135539426313472,
          0.3038696730646619,
          0.3455040904318104,
          0.2040320315446886,
          0.0991248097667439,
          0.2924122835000935,
          0.5780523194764399,
          0.5983087515181982,
          0.3893533435477057,
          0.1894902688026745,
          0.5757030498986122,
          0.3477359558371201,
          0.2851522010074734,
          0.5091487643827313,
          0.5195250541014668,
          0.2483104221537553,
          0.6226900203712733,
          0.0668364350668491,
          0.2430813506006157,
          0.5035006473212403,
          0.4111620864072641,
          0.2694576228278799,
          0.4784921873598157,
          0.0537098634727528,
          0.5232376118052883,
          0.3690941540862874,
          0.4024035606011477,
          0.5888929091731047,
          0.2236020824931421,
          0.3299620947563223,
          0.2872286221735173,
          0.3864839969165518,
          0.1752953263445124,
          0.3510751311303212,
          0.5078543659947801,
          0.2506533562319026,
          0.4274043670986596,
          0.5407103452628359,
          0.0093762474945619,
          0.5004906651051179,
          0.0684200825548423,
          0.4160245189993357,
          0.0468287478371135,
          0.5134155912395507,
          0.0883608011347149,
          0.1385922332921221,
          0.1336224470844929,
          0.7587926569208383,
          0.4508661652064421,
          0.105695007679419,
          0.0379525112935848,
          0.467799912236076,
          0.023727843812491,
          0.338226025573799,
          0.506147958886476,
          0.4976969616765206,
          0.1866679952832047,
          0.329807811548056,
          0.3679565904314749,
          0.3289631146430536,
          0.264619196236921,
          0.2010361795725647,
          0.4600660117045887,
          0.4128034755338013,
          -0.0690645173751761,
          0.3385712950784206,
          0.1735691374870566,
          0.4377869642523829,
          0.2422748337093491,
          0.1552890941668849,
          0.4901214707500565,
          0.5565437252105033,
          0.4142906978915012,
          0.4777221331962925,
          0.3014771916849366,
          0.227489065144331,
          0.5177880334625146,
          0.677464956518725,
          0.1629578005089678,
          0.1761012859775965,
          0.1169073305389521,
          0.4336678424899979,
          0.2028340941357027,
          0.6569106550360309,
          0.2179023740441886,
          0.1531640585046705,
          0.3464327814354359,
          0.6572898539071328,
          0.1476857478672955,
          -0.0164437115545604,
          0.1330176695006946,
          0.1687013497819346,
          0.2562206211053465,
          0.2781702922978417,
          0.5711130783407928,
          0.3850326209860147,
          0.6786481105751474,
          0.5930266971640059,
          0.2227973668297724,
          0.1448169511108982,
          0.1185861629244948,
          0.2103481617192892,
          0.4948911061126881,
          0.2939495382338139,
          0.3263026702292492,
          0.0736893314721861,
          0.5199883588416123,
          0.355377628851031,
          0.3389820193999222,
          0.1564972920343202,
          0.1470235681228438,
          0.3381373271623968,
          0.5909187954921735,
          0.1504149051293807,
          0.1068373741161615,
          0.1653547764186659,
          0.3647647473521804,
          0.3054408126542959,
          0.3124539545795016,
          0.3899410214336438,
          0.1531072541360034,
          0.2194403534757407,
          0.224441767894519,
          0.472953524268712,
          0.4663812124837035,
          0.2191829372134232,
          0.5593829704858343,
          0.5828457346223,
          0.1217524238032111,
          0.3451100543259421,
          0.4643128044063278,
          0.491577525311598,
          0.3413942532739849,
          0.2826259740998767,
          0.2016531083942097,
          0.4060066794452469,
          0.1450931577257976,
          0.232432100515518,
          0.6161753987842139,
          0.3865742784067336,
          0.5038167126924821,
          0.3071678780818712,
          0.4976886443692448,
          0.3160832350900694,
          0.4144934925721794,
          0.1135325495368126,
          0.3245295920634307,
          0.385783074605832,
          0.3873693984426788,
          0.1384254875911295,
          0.4351975442408369,
          -0.0035094703439974,
          0.2036292891226558,
          0.344142152563037,
          0.089628762924897,
          0.3036806499837319,
          0.6733511758985987,
          0.3536133492207329,
          0.351715030830095,
          0.0949312290399353,
          0.3807017283837216,
          0.2995983916055237,
          0.2798439970215695,
          0.1368868498791243,
          0.5898487213192395,
          0.1755419424779471,
          0.5299962397914927,
          0.1787060565804856,
          0.3308783271775848,
          1.0548558291047645,
          0.3569642105719575,
          0.2294409777056918,
          0.329514417483027,
          0.0490145470732129,
          0.3818557448104888
         ]
        },
        {
         "boxmean": "sd",
         "name": "Est-None",
         "type": "box",
         "y": [
          0.1385211224339623,
          0.2938588096138694,
          0.1097394260854941,
          0.4756263000859562,
          0.427688893812465,
          0.1576437002862598,
          0.421580504496531,
          0.223183962222936,
          0.4400737269390952,
          0.2674528253112486,
          0.2719935429007039,
          0.4534703184992931,
          0.1437500708713649,
          0.5774599603939384,
          0.388952174858355,
          0.1893307233307447,
          0.2857392503979663,
          0.2212291145471355,
          0.1836211290683952,
          0.6538787462371615,
          0.1565454641610683,
          0.2578701734885719,
          0.0601533795979177,
          0.5644233094662786,
          0.495944540848641,
          0.5333918379499607,
          0.3628945791884578,
          0.2751685532368366,
          0.2898399274458543,
          0.4080813854979649,
          0.4883457134211711,
          0.4604574179121082,
          0.1160583721406769,
          0.4527688726369553,
          0.2157144681372219,
          0.4488763625608848,
          0.2073584589228906,
          0.3515305962806829,
          -0.0089765302461471,
          0.3474858150525854,
          0.2337200801000849,
          0.2614680207508775,
          0.4704756805336307,
          0.1590600867605771,
          0.1324535736277621,
          0.4797134963102894,
          0.2562703276599963,
          0.2859109482733237,
          0.3941476642886202,
          0.5025621843516785,
          0.4501624017854065,
          0.3096293887674509,
          0.2638410772796938,
          0.3314156120678018,
          0.2842835716522912,
          0.3488838037691465,
          0.3607119776600414,
          0.411685684164344,
          0.457467198584784,
          0.3572891564917645,
          0.3929026013954072,
          0.4018941634205402,
          0.3481670633478572,
          0.0210047260208284,
          0.280713033472084,
          0.7276220367984775,
          0.2741730380645066,
          0.3518746213985035,
          0.3841920908076669,
          0.2683832971931163,
          0.1970992476143585,
          0.2429846799674701,
          0.3912285034527644,
          0.4278766941710601,
          0.3076142182800239,
          0.0394498160280924,
          0.3354706362664348,
          0.3811731244820677,
          0.2444047066403063,
          0.1294333913994774,
          0.3034580755342025,
          0.6227585733572459,
          0.6120122138294274,
          0.410756968544639,
          0.2031723257478268,
          0.6123772825561445,
          0.3421794132358932,
          0.3016480120431649,
          0.5466385487727072,
          0.5769767137919276,
          0.2792921070954431,
          0.6416405873022382,
          0.0857369278427355,
          0.2852459677339476,
          0.5483730617311411,
          0.4017052864687777,
          0.3127185427760627,
          0.5160302575360979,
          0.1148299680521766,
          0.530234321752127,
          0.4083386380908715,
          0.4385349656642249,
          0.5996468971823316,
          0.2423335125470882,
          0.3874464917448155,
          0.3047859669717941,
          0.3829716197982838,
          0.2082526026925837,
          0.3806691224118976,
          0.5115732555213609,
          0.2683358095304662,
          0.4579426121266695,
          0.5798128137257739,
          0.0299224033093283,
          0.5251248148634425,
          0.1006540234541409,
          0.4428472064240396,
          0.0845737483399755,
          0.5688695603658259,
          0.1491413662374016,
          0.1487928901311751,
          0.1626842681421481,
          0.8253579997105366,
          0.483891797791823,
          0.1307662723710902,
          0.061038032431277,
          0.5354406558509013,
          0.0489901974192606,
          0.3458861275396965,
          0.5732820212152803,
          0.5092450842529257,
          0.2551605080222887,
          0.338211544102157,
          0.3741046812624027,
          0.3348239462356875,
          0.2844768983346862,
          0.203613165418905,
          0.4757714549194431,
          0.462777044206881,
          -0.0728841473454647,
          0.3236266707142839,
          0.1878146316471022,
          0.4523991868875986,
          0.2507216457375734,
          0.2039866139115299,
          0.5523492703731281,
          0.5794310563783154,
          0.4440267076430124,
          0.5002522140666106,
          0.3296414118601272,
          0.2887972141399764,
          0.5526773004008062,
          0.7071011658466159,
          0.1841386020177386,
          0.2163063292460203,
          0.1691936996407813,
          0.4677868028313589,
          0.2286700582975617,
          0.6931446057621349,
          0.2937033594799846,
          0.1768607132645812,
          0.3673299786819804,
          0.6590659892445666,
          0.1784048982434468,
          0.0095047929238186,
          0.1899586949455674,
          0.2054590261947223,
          0.2930645380731382,
          0.3020377920244825,
          0.6233861216832979,
          0.4200168391184752,
          0.7299057194660923,
          0.6039353631317927,
          0.2576563368132198,
          0.1946072913815792,
          0.1324867804713023,
          0.2383886647955272,
          0.5260022008466175,
          0.3101178178133142,
          0.3736330569682381,
          0.0843951819791005,
          0.5770188842363474,
          0.3758663402792885,
          0.3681019701984897,
          0.1888709827839839,
          0.1596944842256334,
          0.3683793081843752,
          0.6300643171379554,
          0.1836615698581552,
          0.14177437863028,
          0.1792334270942282,
          0.3854783054249228,
          0.3723294159046974,
          0.3436847151114016,
          0.4106764301513354,
          0.1938380970556393,
          0.2438358990865113,
          0.2454729928301147,
          0.5261689962067321,
          0.4752617894172887,
          0.2672317642735218,
          0.6258516095656315,
          0.6559069452388813,
          0.1507138131588134,
          0.3518431327495436,
          0.49506328062275,
          0.5225758513212125,
          0.3551319630825562,
          0.3497173962229947,
          0.213305537572115,
          0.4066046589805412,
          0.1482377789145708,
          0.2602763498588773,
          0.6521168911793179,
          0.4127703975331655,
          0.5735908800452263,
          0.3589977587716945,
          0.5037637909506624,
          0.3715475867865361,
          0.4107120323585063,
          0.130454095776293,
          0.3649922495152901,
          0.4302440945417851,
          0.4411965268334031,
          0.1251527757660619,
          0.4911515775221212,
          0.035145973143426,
          0.2262814589223734,
          0.3910751628881168,
          0.1041202457143354,
          0.34269278302046,
          0.7499717714886524,
          0.4057538185650505,
          0.4162747713821826,
          0.1263647209915864,
          0.4026410626281011,
          0.3469215179290176,
          0.3299229605038624,
          0.1781188053631055,
          0.6290641413582766,
          0.1984803617990811,
          0.5754586015161165,
          0.214712876961346,
          0.344385885097221,
          1.090907648649473,
          0.4123515193732457,
          0.2610670906107769,
          0.3850070847800741,
          0.0729556001625794,
          0.406051020936619
         ]
        }
       ],
       "layout": {
        "template": {
         "data": {
          "bar": [
           {
            "error_x": {
             "color": "#2a3f5f"
            },
            "error_y": {
             "color": "#2a3f5f"
            },
            "marker": {
             "line": {
              "color": "#E5ECF6",
              "width": 0.5
             },
             "pattern": {
              "fillmode": "overlay",
              "size": 10,
              "solidity": 0.2
             }
            },
            "type": "bar"
           }
          ],
          "barpolar": [
           {
            "marker": {
             "line": {
              "color": "#E5ECF6",
              "width": 0.5
             },
             "pattern": {
              "fillmode": "overlay",
              "size": 10,
              "solidity": 0.2
             }
            },
            "type": "barpolar"
           }
          ],
          "carpet": [
           {
            "aaxis": {
             "endlinecolor": "#2a3f5f",
             "gridcolor": "white",
             "linecolor": "white",
             "minorgridcolor": "white",
             "startlinecolor": "#2a3f5f"
            },
            "baxis": {
             "endlinecolor": "#2a3f5f",
             "gridcolor": "white",
             "linecolor": "white",
             "minorgridcolor": "white",
             "startlinecolor": "#2a3f5f"
            },
            "type": "carpet"
           }
          ],
          "choropleth": [
           {
            "colorbar": {
             "outlinewidth": 0,
             "ticks": ""
            },
            "type": "choropleth"
           }
          ],
          "contour": [
           {
            "colorbar": {
             "outlinewidth": 0,
             "ticks": ""
            },
            "colorscale": [
             [
              0,
              "#0d0887"
             ],
             [
              0.1111111111111111,
              "#46039f"
             ],
             [
              0.2222222222222222,
              "#7201a8"
             ],
             [
              0.3333333333333333,
              "#9c179e"
             ],
             [
              0.4444444444444444,
              "#bd3786"
             ],
             [
              0.5555555555555556,
              "#d8576b"
             ],
             [
              0.6666666666666666,
              "#ed7953"
             ],
             [
              0.7777777777777778,
              "#fb9f3a"
             ],
             [
              0.8888888888888888,
              "#fdca26"
             ],
             [
              1,
              "#f0f921"
             ]
            ],
            "type": "contour"
           }
          ],
          "contourcarpet": [
           {
            "colorbar": {
             "outlinewidth": 0,
             "ticks": ""
            },
            "type": "contourcarpet"
           }
          ],
          "heatmap": [
           {
            "colorbar": {
             "outlinewidth": 0,
             "ticks": ""
            },
            "colorscale": [
             [
              0,
              "#0d0887"
             ],
             [
              0.1111111111111111,
              "#46039f"
             ],
             [
              0.2222222222222222,
              "#7201a8"
             ],
             [
              0.3333333333333333,
              "#9c179e"
             ],
             [
              0.4444444444444444,
              "#bd3786"
             ],
             [
              0.5555555555555556,
              "#d8576b"
             ],
             [
              0.6666666666666666,
              "#ed7953"
             ],
             [
              0.7777777777777778,
              "#fb9f3a"
             ],
             [
              0.8888888888888888,
              "#fdca26"
             ],
             [
              1,
              "#f0f921"
             ]
            ],
            "type": "heatmap"
           }
          ],
          "heatmapgl": [
           {
            "colorbar": {
             "outlinewidth": 0,
             "ticks": ""
            },
            "colorscale": [
             [
              0,
              "#0d0887"
             ],
             [
              0.1111111111111111,
              "#46039f"
             ],
             [
              0.2222222222222222,
              "#7201a8"
             ],
             [
              0.3333333333333333,
              "#9c179e"
             ],
             [
              0.4444444444444444,
              "#bd3786"
             ],
             [
              0.5555555555555556,
              "#d8576b"
             ],
             [
              0.6666666666666666,
              "#ed7953"
             ],
             [
              0.7777777777777778,
              "#fb9f3a"
             ],
             [
              0.8888888888888888,
              "#fdca26"
             ],
             [
              1,
              "#f0f921"
             ]
            ],
            "type": "heatmapgl"
           }
          ],
          "histogram": [
           {
            "marker": {
             "pattern": {
              "fillmode": "overlay",
              "size": 10,
              "solidity": 0.2
             }
            },
            "type": "histogram"
           }
          ],
          "histogram2d": [
           {
            "colorbar": {
             "outlinewidth": 0,
             "ticks": ""
            },
            "colorscale": [
             [
              0,
              "#0d0887"
             ],
             [
              0.1111111111111111,
              "#46039f"
             ],
             [
              0.2222222222222222,
              "#7201a8"
             ],
             [
              0.3333333333333333,
              "#9c179e"
             ],
             [
              0.4444444444444444,
              "#bd3786"
             ],
             [
              0.5555555555555556,
              "#d8576b"
             ],
             [
              0.6666666666666666,
              "#ed7953"
             ],
             [
              0.7777777777777778,
              "#fb9f3a"
             ],
             [
              0.8888888888888888,
              "#fdca26"
             ],
             [
              1,
              "#f0f921"
             ]
            ],
            "type": "histogram2d"
           }
          ],
          "histogram2dcontour": [
           {
            "colorbar": {
             "outlinewidth": 0,
             "ticks": ""
            },
            "colorscale": [
             [
              0,
              "#0d0887"
             ],
             [
              0.1111111111111111,
              "#46039f"
             ],
             [
              0.2222222222222222,
              "#7201a8"
             ],
             [
              0.3333333333333333,
              "#9c179e"
             ],
             [
              0.4444444444444444,
              "#bd3786"
             ],
             [
              0.5555555555555556,
              "#d8576b"
             ],
             [
              0.6666666666666666,
              "#ed7953"
             ],
             [
              0.7777777777777778,
              "#fb9f3a"
             ],
             [
              0.8888888888888888,
              "#fdca26"
             ],
             [
              1,
              "#f0f921"
             ]
            ],
            "type": "histogram2dcontour"
           }
          ],
          "mesh3d": [
           {
            "colorbar": {
             "outlinewidth": 0,
             "ticks": ""
            },
            "type": "mesh3d"
           }
          ],
          "parcoords": [
           {
            "line": {
             "colorbar": {
              "outlinewidth": 0,
              "ticks": ""
             }
            },
            "type": "parcoords"
           }
          ],
          "pie": [
           {
            "automargin": true,
            "type": "pie"
           }
          ],
          "scatter": [
           {
            "fillpattern": {
             "fillmode": "overlay",
             "size": 10,
             "solidity": 0.2
            },
            "type": "scatter"
           }
          ],
          "scatter3d": [
           {
            "line": {
             "colorbar": {
              "outlinewidth": 0,
              "ticks": ""
             }
            },
            "marker": {
             "colorbar": {
              "outlinewidth": 0,
              "ticks": ""
             }
            },
            "type": "scatter3d"
           }
          ],
          "scattercarpet": [
           {
            "marker": {
             "colorbar": {
              "outlinewidth": 0,
              "ticks": ""
             }
            },
            "type": "scattercarpet"
           }
          ],
          "scattergeo": [
           {
            "marker": {
             "colorbar": {
              "outlinewidth": 0,
              "ticks": ""
             }
            },
            "type": "scattergeo"
           }
          ],
          "scattergl": [
           {
            "marker": {
             "colorbar": {
              "outlinewidth": 0,
              "ticks": ""
             }
            },
            "type": "scattergl"
           }
          ],
          "scattermapbox": [
           {
            "marker": {
             "colorbar": {
              "outlinewidth": 0,
              "ticks": ""
             }
            },
            "type": "scattermapbox"
           }
          ],
          "scatterpolar": [
           {
            "marker": {
             "colorbar": {
              "outlinewidth": 0,
              "ticks": ""
             }
            },
            "type": "scatterpolar"
           }
          ],
          "scatterpolargl": [
           {
            "marker": {
             "colorbar": {
              "outlinewidth": 0,
              "ticks": ""
             }
            },
            "type": "scatterpolargl"
           }
          ],
          "scatterternary": [
           {
            "marker": {
             "colorbar": {
              "outlinewidth": 0,
              "ticks": ""
             }
            },
            "type": "scatterternary"
           }
          ],
          "surface": [
           {
            "colorbar": {
             "outlinewidth": 0,
             "ticks": ""
            },
            "colorscale": [
             [
              0,
              "#0d0887"
             ],
             [
              0.1111111111111111,
              "#46039f"
             ],
             [
              0.2222222222222222,
              "#7201a8"
             ],
             [
              0.3333333333333333,
              "#9c179e"
             ],
             [
              0.4444444444444444,
              "#bd3786"
             ],
             [
              0.5555555555555556,
              "#d8576b"
             ],
             [
              0.6666666666666666,
              "#ed7953"
             ],
             [
              0.7777777777777778,
              "#fb9f3a"
             ],
             [
              0.8888888888888888,
              "#fdca26"
             ],
             [
              1,
              "#f0f921"
             ]
            ],
            "type": "surface"
           }
          ],
          "table": [
           {
            "cells": {
             "fill": {
              "color": "#EBF0F8"
             },
             "line": {
              "color": "white"
             }
            },
            "header": {
             "fill": {
              "color": "#C8D4E3"
             },
             "line": {
              "color": "white"
             }
            },
            "type": "table"
           }
          ]
         },
         "layout": {
          "annotationdefaults": {
           "arrowcolor": "#2a3f5f",
           "arrowhead": 0,
           "arrowwidth": 1
          },
          "autotypenumbers": "strict",
          "coloraxis": {
           "colorbar": {
            "outlinewidth": 0,
            "ticks": ""
           }
          },
          "colorscale": {
           "diverging": [
            [
             0,
             "#8e0152"
            ],
            [
             0.1,
             "#c51b7d"
            ],
            [
             0.2,
             "#de77ae"
            ],
            [
             0.3,
             "#f1b6da"
            ],
            [
             0.4,
             "#fde0ef"
            ],
            [
             0.5,
             "#f7f7f7"
            ],
            [
             0.6,
             "#e6f5d0"
            ],
            [
             0.7,
             "#b8e186"
            ],
            [
             0.8,
             "#7fbc41"
            ],
            [
             0.9,
             "#4d9221"
            ],
            [
             1,
             "#276419"
            ]
           ],
           "sequential": [
            [
             0,
             "#0d0887"
            ],
            [
             0.1111111111111111,
             "#46039f"
            ],
            [
             0.2222222222222222,
             "#7201a8"
            ],
            [
             0.3333333333333333,
             "#9c179e"
            ],
            [
             0.4444444444444444,
             "#bd3786"
            ],
            [
             0.5555555555555556,
             "#d8576b"
            ],
            [
             0.6666666666666666,
             "#ed7953"
            ],
            [
             0.7777777777777778,
             "#fb9f3a"
            ],
            [
             0.8888888888888888,
             "#fdca26"
            ],
            [
             1,
             "#f0f921"
            ]
           ],
           "sequentialminus": [
            [
             0,
             "#0d0887"
            ],
            [
             0.1111111111111111,
             "#46039f"
            ],
            [
             0.2222222222222222,
             "#7201a8"
            ],
            [
             0.3333333333333333,
             "#9c179e"
            ],
            [
             0.4444444444444444,
             "#bd3786"
            ],
            [
             0.5555555555555556,
             "#d8576b"
            ],
            [
             0.6666666666666666,
             "#ed7953"
            ],
            [
             0.7777777777777778,
             "#fb9f3a"
            ],
            [
             0.8888888888888888,
             "#fdca26"
            ],
            [
             1,
             "#f0f921"
            ]
           ]
          },
          "colorway": [
           "#636efa",
           "#EF553B",
           "#00cc96",
           "#ab63fa",
           "#FFA15A",
           "#19d3f3",
           "#FF6692",
           "#B6E880",
           "#FF97FF",
           "#FECB52"
          ],
          "font": {
           "color": "#2a3f5f"
          },
          "geo": {
           "bgcolor": "white",
           "lakecolor": "white",
           "landcolor": "#E5ECF6",
           "showlakes": true,
           "showland": true,
           "subunitcolor": "white"
          },
          "hoverlabel": {
           "align": "left"
          },
          "hovermode": "closest",
          "mapbox": {
           "style": "light"
          },
          "paper_bgcolor": "white",
          "plot_bgcolor": "#E5ECF6",
          "polar": {
           "angularaxis": {
            "gridcolor": "white",
            "linecolor": "white",
            "ticks": ""
           },
           "bgcolor": "#E5ECF6",
           "radialaxis": {
            "gridcolor": "white",
            "linecolor": "white",
            "ticks": ""
           }
          },
          "scene": {
           "xaxis": {
            "backgroundcolor": "#E5ECF6",
            "gridcolor": "white",
            "gridwidth": 2,
            "linecolor": "white",
            "showbackground": true,
            "ticks": "",
            "zerolinecolor": "white"
           },
           "yaxis": {
            "backgroundcolor": "#E5ECF6",
            "gridcolor": "white",
            "gridwidth": 2,
            "linecolor": "white",
            "showbackground": true,
            "ticks": "",
            "zerolinecolor": "white"
           },
           "zaxis": {
            "backgroundcolor": "#E5ECF6",
            "gridcolor": "white",
            "gridwidth": 2,
            "linecolor": "white",
            "showbackground": true,
            "ticks": "",
            "zerolinecolor": "white"
           }
          },
          "shapedefaults": {
           "line": {
            "color": "#2a3f5f"
           }
          },
          "ternary": {
           "aaxis": {
            "gridcolor": "white",
            "linecolor": "white",
            "ticks": ""
           },
           "baxis": {
            "gridcolor": "white",
            "linecolor": "white",
            "ticks": ""
           },
           "bgcolor": "#E5ECF6",
           "caxis": {
            "gridcolor": "white",
            "linecolor": "white",
            "ticks": ""
           }
          },
          "title": {
           "x": 0.05
          },
          "xaxis": {
           "automargin": true,
           "gridcolor": "white",
           "linecolor": "white",
           "ticks": "",
           "title": {
            "standoff": 15
           },
           "zerolinecolor": "white",
           "zerolinewidth": 2
          },
          "yaxis": {
           "automargin": true,
           "gridcolor": "white",
           "linecolor": "white",
           "ticks": "",
           "title": {
            "standoff": 15
           },
           "zerolinecolor": "white",
           "zerolinewidth": 2
          }
         }
        },
        "title": {
         "text": "Estimation window is: 20 years"
        }
       }
      }
     },
     "metadata": {},
     "output_type": "display_data"
    },
    {
     "data": {
      "application/vnd.plotly.v1+json": {
       "config": {
        "plotlyServerURL": "https://plot.ly"
       },
       "data": [
        {
         "boxmean": "sd",
         "name": "True",
         "type": "box",
         "y": [
          0.4189530687715349,
          0.3423521746643382,
          0.3175248041492983,
          0.5290465133219547,
          0.4283264425849165,
          0.544802280022941,
          0.5545419974950926,
          0.6037108210746861,
          0.689319980280881,
          0.536637001454823,
          0.5522398328334022,
          0.5572233789882676,
          0.7082131990181272,
          1.00201817392716,
          0.8332942776218483,
          0.6197696476266799,
          0.3238385891224212,
          0.4687714750835675,
          0.5583648985617286,
          0.777473246621864,
          0.5139567505792912,
          0.6091946943086455,
          0.1934597243331434,
          0.7945089599319148,
          0.6064172687259428,
          0.6677935817778294,
          0.5580149268889126,
          0.4421393873312897,
          0.6067881578769061,
          0.5954679121534274,
          0.8435909364176428,
          0.7965323605063432,
          0.2396010236403181,
          0.6343982307752521,
          0.4439671908693295,
          0.5492354596943237,
          0.4055324553825981,
          0.7438305510754815,
          0.2473277675687928,
          0.5135267814841609,
          0.6590129764868495,
          0.578358112390924,
          0.4502249887208167,
          0.350686477583452,
          0.5017554494289583,
          0.4252350268753167,
          0.489831907557037,
          0.411611225635317,
          0.5635982561505631,
          0.7406773942768458,
          0.6314078304738912,
          0.7574495558366758,
          0.6255357033850325,
          0.5260741559344593,
          0.4274272894992401,
          0.4851372062059911,
          0.4959130468914202,
          0.5990302496844762,
          0.6879522337303245,
          0.5104929604608761,
          0.7357921864631572,
          0.5025953213304516,
          0.4829906446042099,
          0.3374642382420156,
          0.5718979908718806,
          0.7408809830517575,
          0.3858363245605642,
          0.6326057451704791,
          0.7883471506517704,
          0.6141804521228579,
          0.4405488983768655,
          0.5310219606675325,
          0.512895494126138,
          0.8640438925927043,
          0.4910406774456533,
          0.3142147006830355,
          0.552192320475972,
          0.5222907732476191,
          0.4728812492812955,
          0.4924191140721087,
          0.3780700051364238,
          0.6917116248949967,
          0.6377790199632994,
          0.4970139048092538,
          0.6730443139575134,
          0.7536740267561024,
          0.4278488645594052,
          0.4046159188429682,
          0.7317575537288666,
          0.6857135673774909,
          0.543437592854422,
          0.4533647920332904,
          0.3444953504761506,
          0.5210359833860689,
          0.6233389731134601,
          0.4477245234442261,
          0.4432852928791307,
          0.5820971976167553,
          0.3900970741207816,
          0.4613399991003772,
          0.5750307999112154,
          0.7340811537451607,
          0.5824474291774638,
          0.5372366934355627,
          0.7563704986413365,
          0.347586346273147,
          0.3507622906919614,
          0.4717435693314036,
          0.4636268303497698,
          0.4218942405694804,
          0.4764945409829055,
          0.6642536376747807,
          0.5579539173185102,
          0.1343103161559549,
          0.5313491321953018,
          0.269562661515994,
          0.6069520748263879,
          0.294745586508063,
          0.6484354727323176,
          0.4223107612155617,
          0.4907484826539327,
          0.5555072355591907,
          0.742970156271659,
          0.6379687587004449,
          0.3559342576969546,
          0.4512894113519533,
          0.6845782249811154,
          0.6731919626429457,
          0.5191643081344924,
          1.0701221633599751,
          0.7247504409847728,
          0.4300430457589991,
          0.3554648645595425,
          0.4626855474645594,
          0.3622232327061944,
          0.466879584706207,
          0.4473503282257717,
          0.7069695929128055,
          0.4689506167981935,
          0.2945183388206189,
          0.4649372902266505,
          0.4496096926035762,
          0.5005953844220021,
          0.3782433624674339,
          0.392269916681418,
          0.6438794196138423,
          0.507767594050808,
          0.877627469685997,
          0.4036314729243875,
          0.3608977471557352,
          0.3821608383776998,
          0.5687668832390269,
          0.9494384828647744,
          0.4593295757098045,
          0.7156186149503598,
          0.6231191942173572,
          0.5451446508353641,
          0.2557775946779991,
          0.8354184958354297,
          0.4310482839930419,
          0.5979967581212065,
          0.5784367610591578,
          0.5466451636331676,
          0.5882618351996878,
          0.3264959089418005,
          0.4844908297559053,
          0.3787519672781769,
          0.4840549231233361,
          0.4372000174480241,
          0.5234808620581389,
          0.5582129442994561,
          0.6515694380175507,
          0.540988862646334,
          0.5801429091637822,
          0.4695113692618208,
          0.6880498233735943,
          0.3417301467665257,
          0.7995209658932995,
          0.3624938939243155,
          0.5629366189121833,
          0.4073663380190024,
          0.7719781156451283,
          0.4437395179058597,
          0.594849652385106,
          0.3657308361827388,
          0.3371618919316816,
          0.6012917935506895,
          0.7964023593315119,
          0.6929722901636026,
          0.4572105615591346,
          0.4150098470027766,
          0.5622431381500393,
          0.7195916644988342,
          0.2256440505404904,
          0.5456863025178067,
          0.5853800176820521,
          0.5508511825971061,
          0.5335180151935539,
          0.8290697498565864,
          0.514874129041946,
          0.3580374179215163,
          0.9425206076260932,
          0.8019892317225534,
          0.270683240181484,
          0.3096250706122567,
          0.6492265886470774,
          0.6675708805959244,
          0.4825136239985786,
          0.4748811185936843,
          0.3776765014970623,
          0.3670610797323663,
          0.4075761757286782,
          0.4086818169403949,
          0.6738801865410389,
          0.7592941847801681,
          0.8979876868476196,
          0.6922506203229372,
          0.6005849723419365,
          0.4324313627328297,
          0.5190906475241231,
          0.3807723520546255,
          0.3588126932292541,
          0.3823049983554286,
          0.6760531591466167,
          0.302232157045388,
          0.7552316991212025,
          0.4138504489285738,
          0.5115092340488869,
          0.5897119937752756,
          0.2832936714880961,
          0.691004365905033,
          0.919640257660706,
          0.6857502906192425,
          0.6955542470346737,
          0.4874508040932575,
          0.6369228358038439,
          0.6650417124736432,
          0.5260314943982983,
          0.5616325910614911,
          0.8363685823527427,
          0.3013460908044901,
          0.6292093318506947,
          0.6610935717407938,
          0.6356865499797242,
          1.0493198408244615,
          0.6036323354890734,
          0.4616082772749328,
          0.5706220137623579,
          0.70585250103576,
          0.5736200468967764
         ]
        },
        {
         "boxmean": "sd",
         "name": "Est-All",
         "type": "box",
         "y": [
          0.2827339267235808,
          0.1271731342167977,
          0.1973363937638394,
          0.3580323475586349,
          0.2733459329619167,
          0.4932721707628454,
          0.4593753537315061,
          0.4369179229964581,
          0.5764386164742441,
          0.486351705536955,
          0.2677680679853806,
          0.3798799051548331,
          0.6191769136047319,
          0.7546044954644257,
          0.7170858450451648,
          0.5793934007997735,
          0.3198501300010334,
          0.3734825249252459,
          0.4433390951316232,
          0.5839384049465827,
          0.3515017637253569,
          0.3386236809952536,
          0.1442633889322443,
          0.6825472202860148,
          0.4929499378925008,
          0.5644955499827637,
          0.4763937087883598,
          0.2841604895353397,
          0.4034028702486549,
          0.4603625903414639,
          0.673457388855744,
          0.6886382371410431,
          0.1758560971024261,
          0.4764088631444288,
          0.3923819916380857,
          0.4622252669600624,
          0.2064745871618949,
          0.6329124971122797,
          0.1726798582895895,
          0.3963050037786942,
          0.5203337683470017,
          0.4488106603419864,
          0.4502685099527548,
          0.2859910572830949,
          0.5206273105687499,
          0.5591343664266447,
          0.3692130931101661,
          0.1958849641776975,
          0.4690972349818779,
          0.5219074834946565,
          0.4468308813123937,
          0.5671942149100165,
          0.5918169964343573,
          0.4066521815877983,
          0.3217826777235776,
          0.2917474919562918,
          0.4128258109395824,
          0.4871004210945318,
          0.5054016189430469,
          0.3967994819966647,
          0.5458135152822072,
          0.3235682336489017,
          0.3572977001700683,
          0.2409714481786111,
          0.5186298564014173,
          0.6853370632613879,
          0.2050511286228138,
          0.5251664601845448,
          0.5320371524963886,
          0.4689257057231193,
          0.4625492363653817,
          0.3305263718329315,
          0.3572351560947078,
          0.5992750393012488,
          0.3524300238108501,
          0.1858109058139378,
          0.3636932173376268,
          0.3648489538760141,
          0.3480184687840471,
          0.3222619916524724,
          0.2767325451825851,
          0.5173093253840878,
          0.5672507033510877,
          0.3896157053657518,
          0.4572380800317901,
          0.6746123562428089,
          0.3341300452726349,
          0.1842530483063167,
          0.6279216797096165,
          0.414624031774746,
          0.4620528447039561,
          0.4184563309063046,
          0.195656414554959,
          0.4545945196680926,
          0.4861210525349331,
          0.401571132908829,
          0.3760898341166259,
          0.4182665542521093,
          0.24011100393373,
          0.3043148512034575,
          0.4536069187168557,
          0.5196494624773099,
          0.3853676570452048,
          0.4119221901050939,
          0.6580289180704582,
          0.2114723296101534,
          0.3353849027272092,
          0.4226796827215467,
          0.2557774891464661,
          0.3589552734193248,
          0.3221294615187208,
          0.6018552692895169,
          0.4408041295031753,
          0.0527753118896098,
          0.4538385223541477,
          0.1338744161718904,
          0.5046560760508625,
          0.132027943427583,
          0.5448358864924026,
          0.2714064219504865,
          0.198568109766664,
          0.4603562384824767,
          0.6576460451969847,
          0.5367840350143435,
          0.1648833509981938,
          0.2722138732659944,
          0.5214073354718785,
          0.6874067606288602,
          0.4548161199140358,
          0.9555903534908844,
          0.4962375326486863,
          0.3625536506831711,
          0.2061357355742226,
          0.596329886807561,
          0.2036601200057086,
          0.2489634498077581,
          0.3631910312340838,
          0.5807199651894588,
          0.2994752612320598,
          0.0713940423099909,
          0.4231886692401887,
          0.3172498823921276,
          0.3535118624576852,
          0.1764292894722052,
          0.2682641402991356,
          0.5668618730981059,
          0.3947908279277187,
          0.7554277538389629,
          0.3657085868771096,
          0.4148748088509511,
          0.2985434973690687,
          0.4459698510000178,
          0.7285200343824201,
          0.402813606423003,
          0.6276101049467027,
          0.5537370923215864,
          0.330120496897443,
          0.0846884846768711,
          0.7104622959028688,
          0.2257442687358806,
          0.5071577182789251,
          0.4640571766967664,
          0.5664978524143813,
          0.5294317750987773,
          0.2433574610734389,
          0.4456416155762638,
          0.231011646926268,
          0.3780297964255923,
          0.3194534756991844,
          0.4779433105509127,
          0.4735852836224864,
          0.5697446036561583,
          0.4611729869644568,
          0.4263123780198144,
          0.4143123964033579,
          0.621832617535461,
          0.1015351504784156,
          0.6465108738272136,
          0.3178252295559134,
          0.3372112231576588,
          0.2514909879365499,
          0.5353922543498081,
          0.3819923966480598,
          0.5041537018514605,
          0.3587656706870587,
          0.225831946430962,
          0.3158352148506325,
          0.6694389103917792,
          0.6071493548398523,
          0.5311998578289996,
          0.246953342934424,
          0.5249499086983498,
          0.7405685518824883,
          0.1892781778110547,
          0.4442013405139479,
          0.5805441042002301,
          0.6207072471264427,
          0.4370371718818481,
          0.6301533971173301,
          0.4680499232661264,
          0.3437449236651004,
          0.8291748521909809,
          0.6107156804102094,
          0.1988050891097955,
          0.1576537946332077,
          0.6900992234520056,
          0.5141659952755987,
          0.3359581953641795,
          0.3928341980687169,
          0.2676174211604754,
          0.137713318835166,
          0.3826325947558617,
          0.2555142349023981,
          0.5495539648339731,
          0.5813253060864861,
          0.7664976779488101,
          0.5838031742781186,
          0.5027549257117867,
          0.3120602872191685,
          0.3158844611168893,
          0.2003925915068018,
          0.2491216053098595,
          0.3310585852349633,
          0.6679145656157907,
          0.240623243332832,
          0.5835910812238121,
          0.4258679768436021,
          0.3697239028232967,
          0.4740605132461125,
          0.1297476252132218,
          0.5026774989295391,
          0.7553004338192357,
          0.5597784543872901,
          0.5447693121219586,
          0.3968883273045177,
          0.4704759750595657,
          0.5492642968512724,
          0.472943071622929,
          0.4447518924313549,
          0.8121891183072244,
          0.1547560183237062,
          0.4676396757563812,
          0.6220895434772906,
          0.5672032724939744,
          0.903759644491515,
          0.4795146407042708,
          0.2989368542086513,
          0.4193074423300696,
          0.6116350128744935,
          0.4393545253646089
         ]
        },
        {
         "boxmean": "sd",
         "name": "Est-SD-Corr",
         "type": "box",
         "y": [
          0.0594413515412804,
          -0.0063661334883881,
          0.0916080061446871,
          0.2033844651402241,
          0.2241552449292322,
          -0.0026113859069436,
          0.1112053124650649,
          0.0314940997660633,
          0.0993870531779251,
          0.2450057367144301,
          0.1067897134301133,
          0.145952006492438,
          -0.1204871670811919,
          0.1651035325980385,
          0.0298741935570877,
          0.0744609412418751,
          0.1627211608129377,
          -0.0143334074301001,
          0.198946621974155,
          0.2846540872846583,
          0.1245302218281231,
          0.0435162777429308,
          -0.1495630313929821,
          0.2946271947857595,
          0.1881248174989661,
          0.2970217863885156,
          0.3545591136527224,
          0.0470130730564229,
          0.2423025317759108,
          0.1815984880064658,
          0.4805819979752324,
          0.3394203403077931,
          -0.0380870199090654,
          0.1331315270219505,
          0.0530925892814032,
          0.3809787421414466,
          -0.0252167802677563,
          0.2713691621718949,
          -0.0930710848531892,
          0.0245625676328456,
          0.2117764091597492,
          0.2434739154395236,
          0.3279811564149539,
          -0.1316681709844906,
          -0.0906284682968085,
          0.4150146844804714,
          0.1430063490903775,
          -0.1468505586876842,
          0.2881776512349051,
          0.201618759410448,
          0.0908023287187262,
          0.1619484274199428,
          0.2710386505400647,
          0.1571535663182767,
          -0.0306041702942945,
          0.238214553482512,
          0.3850971809252481,
          -0.0297925085623258,
          0.2838715608717271,
          0.1308158939506608,
          0.2920316494406332,
          0.0124193108780453,
          0.3014757529301422,
          -0.0301577194926467,
          -0.1988618329519267,
          0.4104235539569803,
          0.1509250208261855,
          0.162611210507113,
          0.314870056865444,
          0.0432860733297232,
          0.0807956682414781,
          0.0467519848603306,
          0.146558750731927,
          0.3535100777256285,
          0.1291072832715645,
          -0.1368628668739883,
          0.0888560321805611,
          0.2079014743316233,
          0.0328453848419757,
          -0.2525740232630361,
          0.1293493953450649,
          0.3634976203912096,
          0.4293003494491664,
          0.1477150716054924,
          0.101510208531368,
          0.2808173728928219,
          0.1710956738933136,
          0.1163709211070834,
          0.2687117561820439,
          0.3502880440828572,
          0.2668586223264347,
          0.348326009158608,
          -0.1328285195923255,
          0.1802643257291363,
          0.3358176559045449,
          0.3966838716902945,
          0.1079366002956424,
          0.0364900496841497,
          -0.0387414567038291,
          0.0724173690533584,
          0.0930955704809455,
          0.1720185594028048,
          0.3232857259094127,
          0.1950370569012655,
          0.2398866576054697,
          0.1712244924849397,
          0.4046707622473293,
          -0.0124624130716903,
          0.1156755432494992,
          0.3010792620791057,
          0.087733669124103,
          0.3653031249842317,
          0.3081063284395537,
          -0.2706847131469886,
          0.3338362920902287,
          0.0533385835387449,
          0.1340817641916232,
          0.0103995251272569,
          0.3348531604753042,
          0.011449286439438,
          0.1287132852204966,
          -0.081850838220288,
          0.4665068669228508,
          0.2699520937921302,
          -0.0568572631373724,
          -0.0338549025462773,
          0.3381890304650197,
          0.0867857421574685,
          0.3830120733926576,
          0.2121822776638532,
          0.1985097190029964,
          -0.2376498240752544,
          0.2434465838068841,
          0.3382375610529987,
          0.0527593905079482,
          0.1045673396156716,
          0.2955392690753884,
          0.3645035705293314,
          0.2019698095123673,
          -0.0172018057986305,
          0.2829701487101372,
          -0.0474343610397054,
          0.1909698651548164,
          0.2106310031436691,
          0.0039925595158273,
          0.165081313162398,
          0.2567706707390714,
          0.2952213130965739,
          0.351827309393502,
          0.1973075054616482,
          -0.1146806007335953,
          0.2765513547708306,
          0.3934769838660066,
          -0.012277624834576,
          0.3119014977172195,
          0.0573270810814501,
          0.2124570445226506,
          -0.0338991013761768,
          0.5838989945986935,
          0.0926514206003715,
          0.3502227758862944,
          0.1491552371425615,
          0.4786457928758125,
          0.084609590286605,
          -0.0566492783277706,
          0.0259756247707618,
          0.0091289377313461,
          -0.0842688538948984,
          0.2065011564613263,
          0.2099679658680318,
          0.1921952431987917,
          0.2780195615837061,
          0.5011801881646026,
          0.2055688445681275,
          -0.004476671544233,
          0.0599783287160427,
          -0.1166469998707173,
          0.212681940731096,
          0.2684973606442398,
          0.1898596000389171,
          -0.0466591917019019,
          0.1696320774743483,
          0.2942902070075201,
          0.037480316885004,
          -0.0364886986738844,
          0.2261854429153317,
          0.1340394878903186,
          0.2637068262076136,
          0.1244872748995257,
          0.1253813464798004,
          0.099756174937055,
          0.0014266764987675,
          0.0762611997817131,
          0.03203792463691,
          0.2344273789172314,
          -0.0321854533292741,
          0.0709475994351797,
          0.3019497878794698,
          0.341602234721341,
          0.4006725563038111,
          -0.0195397833754625,
          0.3207360882429878,
          0.3305704673669387,
          -0.1286254262311791,
          0.1106188064787844,
          0.2937047876949847,
          0.43566002121025,
          0.0555425996977364,
          0.0650323212503117,
          -0.0609421600664984,
          0.1713753493483178,
          0.0930149673000472,
          0.143495479037047,
          0.3629042421706477,
          0.2588901401364341,
          0.1882396438043166,
          0.0754152027916825,
          0.4789662177743721,
          0.07130717983464,
          0.0944046449816156,
          0.1078525481584313,
          0.1382127253853877,
          0.2231780243601219,
          0.3633401365316686,
          0.3107599525910515,
          0.1955915553623025,
          -0.2634287994114368,
          0.3324812240755596,
          0.2189169651591268,
          0.0209842608691377,
          0.0540373309787033,
          0.0756436302599053,
          0.2846515225492497,
          -0.0585820675128493,
          0.0331453676121663,
          0.2040769696228289,
          0.1670018886420196,
          -0.1259409829618091,
          0.1569132537756664,
          0.5093830248399885,
          0.0235331952582658,
          0.054515630546943,
          -0.071408415096323,
          0.1499680379678344,
          0.661864062815572,
          0.1086640817934166,
          -0.0742547371580155,
          0.0290512557167464,
          -0.1724241029460358,
          0.2457452205807783
         ]
        },
        {
         "boxmean": "sd",
         "name": "Est-SD",
         "type": "box",
         "y": [
          0.1718043979451554,
          0.1087258162784362,
          0.2055987859334881,
          0.3127053062806847,
          0.3759647518415387,
          0.2922961571105541,
          0.3036255209895988,
          0.2453847929179033,
          0.3591473553265607,
          0.3644051060171733,
          0.3425560165448262,
          0.3789326551204129,
          0.1437767881102396,
          0.5731005514558183,
          0.3000687601574958,
          0.342983812958766,
          0.1732579468427442,
          0.1241273708709139,
          0.4156320551579373,
          0.6185605520081069,
          0.3423090578705243,
          0.2859610615884045,
          -0.0030561590898643,
          0.587496772633966,
          0.4605889700162108,
          0.4765756924461309,
          0.5304300014655299,
          0.2176553221708442,
          0.3228207269165439,
          0.3998783057028194,
          0.6070131801757539,
          0.6067619055822011,
          0.0764500983551211,
          0.4244652206061618,
          0.2322109837934811,
          0.509398923438117,
          0.0884889320824086,
          0.4465802074703313,
          0.0441386856900272,
          0.1703794247837943,
          0.3678463988539751,
          0.4040515039313621,
          0.3315554933758012,
          0.1431181025198708,
          0.2023910919707846,
          0.5244070967426477,
          0.2906024856665465,
          0.0276684586718384,
          0.5156003496675069,
          0.3998172342684699,
          0.3202677379197299,
          0.5078427537631275,
          0.4293997724008086,
          0.3970175204300766,
          0.1006045953861968,
          0.3143722632973339,
          0.4743785753080644,
          0.2914422989228518,
          0.4488366035774391,
          0.3010600598093487,
          0.4605022784949027,
          0.3178814002006077,
          0.4062082078496467,
          0.036960395117271,
          0.0633494588835662,
          0.6909622655961721,
          0.2273948507748611,
          0.375411498490022,
          0.459594494818168,
          0.2546190220578022,
          0.2120726957042921,
          0.3692595776380966,
          0.3257776825235243,
          0.4543399662146707,
          0.2620770200511001,
          -0.0268460090910687,
          0.3614338249128972,
          0.3555753091839517,
          0.2230907785409205,
          0.0958871967428664,
          0.3170983362238461,
          0.4981035558657874,
          0.6349289329653174,
          0.3178063874075444,
          0.3579762173863742,
          0.4832257299318532,
          0.2373882831895302,
          0.2517009239314385,
          0.5945181348388856,
          0.5217176695395576,
          0.4428430591478473,
          0.4932743834340353,
          0.0511955892126083,
          0.3359909871028117,
          0.4448729319911335,
          0.4222188308687757,
          0.3073816529216363,
          0.3126723773236992,
          0.0948306405546443,
          0.3480667422550309,
          0.3627432479823128,
          0.496265850941303,
          0.4914273970844915,
          0.3607424638835294,
          0.3884800467844307,
          0.2606425811577448,
          0.3819847936240906,
          0.0986939119458546,
          0.3205890898666075,
          0.3800207548676996,
          0.1648764617967542,
          0.5318099884694562,
          0.4279632198345696,
          -0.173831411327047,
          0.4730208443462759,
          0.2297672640179511,
          0.4011910391720255,
          0.0683792200534789,
          0.451366928435882,
          0.2643663605060332,
          0.1824111610960725,
          0.2050862580716815,
          0.6592636969771636,
          0.453356152645847,
          0.0904154293652484,
          0.2477764461766343,
          0.5033857051387031,
          0.3618409539605474,
          0.4659790957569508,
          0.6666472590839175,
          0.371074569329766,
          0.0353318155461936,
          0.3541100304070796,
          0.4096018514098925,
          0.1044523140928632,
          0.3258457583393391,
          0.331773680595766,
          0.4950200502988591,
          0.4137288383967612,
          0.0861790731597581,
          0.41042750708773,
          0.228572968752078,
          0.3806864830895053,
          0.3400388408484897,
          0.1320297541639491,
          0.3517801650284627,
          0.3960966869842662,
          0.5397605129014531,
          0.408184326310607,
          0.3175200450787849,
          0.0927687119056561,
          0.4219231398196027,
          0.7407528003638209,
          0.0373946679862257,
          0.4250006108099196,
          0.399452318404106,
          0.3433672348314885,
          0.0753464035383621,
          0.8098025617291866,
          0.2777437130875122,
          0.5236013009630954,
          0.3463468337059019,
          0.6125184588454367,
          0.2675463011112765,
          -0.0581069071337514,
          0.2426694662223072,
          0.1199124681773533,
          0.1578524909375602,
          0.3390097027110422,
          0.3272591035360369,
          0.4489129272164361,
          0.4968300791932665,
          0.5740570422953433,
          0.3714791813902915,
          0.2118760276808245,
          0.3022216259055814,
          0.0296698290679029,
          0.390160655088527,
          0.3549373929772458,
          0.3854405710844271,
          0.0775195347365059,
          0.514012463901798,
          0.3486163264281675,
          0.3258916403634599,
          0.1496237231263982,
          0.2672946945583012,
          0.3455416789927892,
          0.5517168821755645,
          0.2718293585124317,
          0.2292336943179885,
          0.2805506551271488,
          0.2304393152398031,
          0.3283008722680469,
          0.1103908541300837,
          0.4146234059897729,
          0.2467255438618788,
          0.2303002867311855,
          0.42714040212648,
          0.5426842063412443,
          0.5755241342836094,
          0.1115224862603608,
          0.6224559108144706,
          0.5673435477622066,
          -0.0567323240960507,
          0.2112464741878475,
          0.3741759134198736,
          0.524392755063908,
          0.2124584710226058,
          0.2433627514087141,
          0.0761146749620593,
          0.2542581004292094,
          0.2038212680857087,
          0.2770606240380628,
          0.6571615161371814,
          0.4873758959790955,
          0.5218100298494056,
          0.3407163895967943,
          0.5449498634609421,
          0.1637235066595063,
          0.3716154706755905,
          0.2782055393127602,
          0.2849482993353126,
          0.3063034371970358,
          0.5572627082333449,
          0.30668901980148,
          0.523438438295357,
          -0.0285233727265511,
          0.3637159352180974,
          0.4239628318681683,
          0.0939778819222224,
          0.2419612077792769,
          0.5393211029122442,
          0.4906906005896135,
          0.4413754967990287,
          0.2258399028442589,
          0.4263905617245913,
          0.3777218890934815,
          0.1646653822889713,
          0.3012441421930932,
          0.6536252344925644,
          0.121734611697024,
          0.3993515478922747,
          0.2214275162545647,
          0.2977252865341339,
          0.8206996682301506,
          0.2839595060489258,
          0.2136943174694724,
          0.2936802453263668,
          0.1441766743723679,
          0.4376355029321654
         ]
        },
        {
         "boxmean": "sd",
         "name": "Est-None",
         "type": "box",
         "y": [
          0.1999608205622662,
          0.139380752868001,
          0.2161925146569722,
          0.3350194007532049,
          0.3965157045806308,
          0.3349014038086669,
          0.3747178948210821,
          0.2919504183418405,
          0.4172311887909624,
          0.3811264854067716,
          0.3832840308855821,
          0.4060779756499427,
          0.2040061374400809,
          0.6363680852317931,
          0.3606602995585046,
          0.3881765270102641,
          0.1811658822318372,
          0.1412981121774174,
          0.4430967801102262,
          0.6698702575016653,
          0.378253085694742,
          0.3483147029880478,
          0.0118326241469053,
          0.624320603318498,
          0.5084524510943462,
          0.5352153995818693,
          0.5421281750902682,
          0.245488816529861,
          0.3436460627150078,
          0.4652011267311489,
          0.6297118667590023,
          0.643046731759414,
          0.0939377777413624,
          0.4711916042305486,
          0.2502941784086068,
          0.523452768269789,
          0.1196523150275736,
          0.4806014505086142,
          0.0685272190917489,
          0.2242314194561178,
          0.418007518117663,
          0.4308450488298669,
          0.3448723863422602,
          0.198832600536607,
          0.252464402831185,
          0.5281302045442984,
          0.31111646955097,
          0.0832992421517221,
          0.5234303818361148,
          0.4526934672605164,
          0.3895924512559411,
          0.55335747856737,
          0.4467330950842038,
          0.4364739748402203,
          0.1324100384080623,
          0.3330427758369789,
          0.4836981384181884,
          0.3430611975459413,
          0.4793299113574901,
          0.3293617273406972,
          0.5042783372998227,
          0.3749935186213916,
          0.4153051272587163,
          0.0473675448772857,
          0.1271596115973668,
          0.7276773691812374,
          0.2392576032761395,
          0.4404947212001012,
          0.506999799866124,
          0.3001478844803988,
          0.2429617815178198,
          0.4103423661445852,
          0.3449400211323119,
          0.4730738372638656,
          0.2864999783395949,
          0.0066821848650861,
          0.4152244908242274,
          0.3934590466050204,
          0.2829727899888185,
          0.1398302390370372,
          0.3270769892781688,
          0.5435137580546587,
          0.6719824835315741,
          0.3439247165845268,
          0.4150767394448543,
          0.5190599531876513,
          0.2394613646291244,
          0.268353031637104,
          0.6290264530893955,
          0.5614530699757592,
          0.4673217402501066,
          0.5033379623827169,
          0.0817216798881948,
          0.3757258307254446,
          0.478431657115215,
          0.4260814668555266,
          0.3352943206723762,
          0.3481317941867272,
          0.1270543625441136,
          0.3796294417386167,
          0.4070535717991544,
          0.5408021328213453,
          0.5149067387956487,
          0.3963585245317683,
          0.4272488247026747,
          0.280044477059264,
          0.3789825100834584,
          0.1318934608998848,
          0.3466343997430445,
          0.3907326081471711,
          0.2028621396777184,
          0.5624979130831744,
          0.4565524790149614,
          -0.1356701539446709,
          0.4992351131076857,
          0.2632685598291976,
          0.4336370001514179,
          0.0880240009139498,
          0.5057690036493125,
          0.3031696788121488,
          0.2009813978815692,
          0.2484702173574461,
          0.702119133582134,
          0.4950789042295473,
          0.1155334699431337,
          0.2888208558582755,
          0.551348901607467,
          0.4041639060101455,
          0.4723731809428475,
          0.7477566931827679,
          0.3981946247288506,
          0.1187924187094606,
          0.3757122796724561,
          0.4066071983913485,
          0.1073378052235194,
          0.3410666862567572,
          0.3312706067997862,
          0.5209431312963803,
          0.4627083930371937,
          0.0991870536238911,
          0.4274314684770946,
          0.2598595665661604,
          0.4010301677546753,
          0.3517584057846731,
          0.1701274657584682,
          0.4086818621896932,
          0.4168023897453771,
          0.5794224812534439,
          0.4177651353262915,
          0.33398448701547,
          0.1452759234328496,
          0.4651449602764286,
          0.7846272046598745,
          0.0577057754782945,
          0.4513112333372591,
          0.4514634098790988,
          0.3769425469330522,
          0.0930823786158304,
          0.8378431260885579,
          0.3042781872304518,
          0.5482337800696528,
          0.3903891851651248,
          0.6071485821358246,
          0.3056038161691907,
          -0.0413537915695758,
          0.2883563193353248,
          0.1446722465052356,
          0.2162023697370413,
          0.3604927484504444,
          0.3666105103691481,
          0.4687146515133718,
          0.5459872945851201,
          0.582782118459109,
          0.4150449817125101,
          0.2451793777962154,
          0.3444265614725628,
          0.0609108407215286,
          0.4215446851421124,
          0.3713629214520153,
          0.4174498228704149,
          0.094641208243876,
          0.5863546172070562,
          0.3560801392303176,
          0.3679369053793827,
          0.1804642268617372,
          0.2788439851508628,
          0.3961149598751847,
          0.643084304969445,
          0.3027673085233113,
          0.2580589492501278,
          0.3064533103589614,
          0.2746383858280119,
          0.393073665425778,
          0.1331045374525952,
          0.4252961738733336,
          0.3011871774715452,
          0.2576677239757277,
          0.4444417413710305,
          0.5946666936881291,
          0.5895528072911647,
          0.1498993354173307,
          0.6770072002215413,
          0.6317306154226127,
          -0.0294943846574773,
          0.2225319807508124,
          0.3878953416349989,
          0.5409906055409939,
          0.247560550032869,
          0.2990130958803235,
          0.1160507470137594,
          0.2696403812808632,
          0.222225592963883,
          0.3021783396713155,
          0.6939085711247374,
          0.5205688295661087,
          0.5889441211458407,
          0.3989672828485011,
          0.5628401498079441,
          0.1962349013254984,
          0.403041277723304,
          0.29695802924124,
          0.3164089976637873,
          0.331801365346324,
          0.5992831642870461,
          0.2827689696077458,
          0.59082977543781,
          0.0114229708097919,
          0.3714620460887434,
          0.456229810602344,
          0.1074833378393349,
          0.2805969855992733,
          0.6109460110511624,
          0.532650180181278,
          0.5065804355777427,
          0.2585059872953624,
          0.4550612027001278,
          0.4304037450210354,
          0.2165797812583612,
          0.3348088425492012,
          0.6957627338089054,
          0.1455830258463518,
          0.4431299603507943,
          0.2742855166619333,
          0.3193106962075795,
          0.8598932554266543,
          0.3125841358125286,
          0.2516220615859242,
          0.3535677143444211,
          0.1995519899291834,
          0.4793031089551293
         ]
        }
       ],
       "layout": {
        "template": {
         "data": {
          "bar": [
           {
            "error_x": {
             "color": "#2a3f5f"
            },
            "error_y": {
             "color": "#2a3f5f"
            },
            "marker": {
             "line": {
              "color": "#E5ECF6",
              "width": 0.5
             },
             "pattern": {
              "fillmode": "overlay",
              "size": 10,
              "solidity": 0.2
             }
            },
            "type": "bar"
           }
          ],
          "barpolar": [
           {
            "marker": {
             "line": {
              "color": "#E5ECF6",
              "width": 0.5
             },
             "pattern": {
              "fillmode": "overlay",
              "size": 10,
              "solidity": 0.2
             }
            },
            "type": "barpolar"
           }
          ],
          "carpet": [
           {
            "aaxis": {
             "endlinecolor": "#2a3f5f",
             "gridcolor": "white",
             "linecolor": "white",
             "minorgridcolor": "white",
             "startlinecolor": "#2a3f5f"
            },
            "baxis": {
             "endlinecolor": "#2a3f5f",
             "gridcolor": "white",
             "linecolor": "white",
             "minorgridcolor": "white",
             "startlinecolor": "#2a3f5f"
            },
            "type": "carpet"
           }
          ],
          "choropleth": [
           {
            "colorbar": {
             "outlinewidth": 0,
             "ticks": ""
            },
            "type": "choropleth"
           }
          ],
          "contour": [
           {
            "colorbar": {
             "outlinewidth": 0,
             "ticks": ""
            },
            "colorscale": [
             [
              0,
              "#0d0887"
             ],
             [
              0.1111111111111111,
              "#46039f"
             ],
             [
              0.2222222222222222,
              "#7201a8"
             ],
             [
              0.3333333333333333,
              "#9c179e"
             ],
             [
              0.4444444444444444,
              "#bd3786"
             ],
             [
              0.5555555555555556,
              "#d8576b"
             ],
             [
              0.6666666666666666,
              "#ed7953"
             ],
             [
              0.7777777777777778,
              "#fb9f3a"
             ],
             [
              0.8888888888888888,
              "#fdca26"
             ],
             [
              1,
              "#f0f921"
             ]
            ],
            "type": "contour"
           }
          ],
          "contourcarpet": [
           {
            "colorbar": {
             "outlinewidth": 0,
             "ticks": ""
            },
            "type": "contourcarpet"
           }
          ],
          "heatmap": [
           {
            "colorbar": {
             "outlinewidth": 0,
             "ticks": ""
            },
            "colorscale": [
             [
              0,
              "#0d0887"
             ],
             [
              0.1111111111111111,
              "#46039f"
             ],
             [
              0.2222222222222222,
              "#7201a8"
             ],
             [
              0.3333333333333333,
              "#9c179e"
             ],
             [
              0.4444444444444444,
              "#bd3786"
             ],
             [
              0.5555555555555556,
              "#d8576b"
             ],
             [
              0.6666666666666666,
              "#ed7953"
             ],
             [
              0.7777777777777778,
              "#fb9f3a"
             ],
             [
              0.8888888888888888,
              "#fdca26"
             ],
             [
              1,
              "#f0f921"
             ]
            ],
            "type": "heatmap"
           }
          ],
          "heatmapgl": [
           {
            "colorbar": {
             "outlinewidth": 0,
             "ticks": ""
            },
            "colorscale": [
             [
              0,
              "#0d0887"
             ],
             [
              0.1111111111111111,
              "#46039f"
             ],
             [
              0.2222222222222222,
              "#7201a8"
             ],
             [
              0.3333333333333333,
              "#9c179e"
             ],
             [
              0.4444444444444444,
              "#bd3786"
             ],
             [
              0.5555555555555556,
              "#d8576b"
             ],
             [
              0.6666666666666666,
              "#ed7953"
             ],
             [
              0.7777777777777778,
              "#fb9f3a"
             ],
             [
              0.8888888888888888,
              "#fdca26"
             ],
             [
              1,
              "#f0f921"
             ]
            ],
            "type": "heatmapgl"
           }
          ],
          "histogram": [
           {
            "marker": {
             "pattern": {
              "fillmode": "overlay",
              "size": 10,
              "solidity": 0.2
             }
            },
            "type": "histogram"
           }
          ],
          "histogram2d": [
           {
            "colorbar": {
             "outlinewidth": 0,
             "ticks": ""
            },
            "colorscale": [
             [
              0,
              "#0d0887"
             ],
             [
              0.1111111111111111,
              "#46039f"
             ],
             [
              0.2222222222222222,
              "#7201a8"
             ],
             [
              0.3333333333333333,
              "#9c179e"
             ],
             [
              0.4444444444444444,
              "#bd3786"
             ],
             [
              0.5555555555555556,
              "#d8576b"
             ],
             [
              0.6666666666666666,
              "#ed7953"
             ],
             [
              0.7777777777777778,
              "#fb9f3a"
             ],
             [
              0.8888888888888888,
              "#fdca26"
             ],
             [
              1,
              "#f0f921"
             ]
            ],
            "type": "histogram2d"
           }
          ],
          "histogram2dcontour": [
           {
            "colorbar": {
             "outlinewidth": 0,
             "ticks": ""
            },
            "colorscale": [
             [
              0,
              "#0d0887"
             ],
             [
              0.1111111111111111,
              "#46039f"
             ],
             [
              0.2222222222222222,
              "#7201a8"
             ],
             [
              0.3333333333333333,
              "#9c179e"
             ],
             [
              0.4444444444444444,
              "#bd3786"
             ],
             [
              0.5555555555555556,
              "#d8576b"
             ],
             [
              0.6666666666666666,
              "#ed7953"
             ],
             [
              0.7777777777777778,
              "#fb9f3a"
             ],
             [
              0.8888888888888888,
              "#fdca26"
             ],
             [
              1,
              "#f0f921"
             ]
            ],
            "type": "histogram2dcontour"
           }
          ],
          "mesh3d": [
           {
            "colorbar": {
             "outlinewidth": 0,
             "ticks": ""
            },
            "type": "mesh3d"
           }
          ],
          "parcoords": [
           {
            "line": {
             "colorbar": {
              "outlinewidth": 0,
              "ticks": ""
             }
            },
            "type": "parcoords"
           }
          ],
          "pie": [
           {
            "automargin": true,
            "type": "pie"
           }
          ],
          "scatter": [
           {
            "fillpattern": {
             "fillmode": "overlay",
             "size": 10,
             "solidity": 0.2
            },
            "type": "scatter"
           }
          ],
          "scatter3d": [
           {
            "line": {
             "colorbar": {
              "outlinewidth": 0,
              "ticks": ""
             }
            },
            "marker": {
             "colorbar": {
              "outlinewidth": 0,
              "ticks": ""
             }
            },
            "type": "scatter3d"
           }
          ],
          "scattercarpet": [
           {
            "marker": {
             "colorbar": {
              "outlinewidth": 0,
              "ticks": ""
             }
            },
            "type": "scattercarpet"
           }
          ],
          "scattergeo": [
           {
            "marker": {
             "colorbar": {
              "outlinewidth": 0,
              "ticks": ""
             }
            },
            "type": "scattergeo"
           }
          ],
          "scattergl": [
           {
            "marker": {
             "colorbar": {
              "outlinewidth": 0,
              "ticks": ""
             }
            },
            "type": "scattergl"
           }
          ],
          "scattermapbox": [
           {
            "marker": {
             "colorbar": {
              "outlinewidth": 0,
              "ticks": ""
             }
            },
            "type": "scattermapbox"
           }
          ],
          "scatterpolar": [
           {
            "marker": {
             "colorbar": {
              "outlinewidth": 0,
              "ticks": ""
             }
            },
            "type": "scatterpolar"
           }
          ],
          "scatterpolargl": [
           {
            "marker": {
             "colorbar": {
              "outlinewidth": 0,
              "ticks": ""
             }
            },
            "type": "scatterpolargl"
           }
          ],
          "scatterternary": [
           {
            "marker": {
             "colorbar": {
              "outlinewidth": 0,
              "ticks": ""
             }
            },
            "type": "scatterternary"
           }
          ],
          "surface": [
           {
            "colorbar": {
             "outlinewidth": 0,
             "ticks": ""
            },
            "colorscale": [
             [
              0,
              "#0d0887"
             ],
             [
              0.1111111111111111,
              "#46039f"
             ],
             [
              0.2222222222222222,
              "#7201a8"
             ],
             [
              0.3333333333333333,
              "#9c179e"
             ],
             [
              0.4444444444444444,
              "#bd3786"
             ],
             [
              0.5555555555555556,
              "#d8576b"
             ],
             [
              0.6666666666666666,
              "#ed7953"
             ],
             [
              0.7777777777777778,
              "#fb9f3a"
             ],
             [
              0.8888888888888888,
              "#fdca26"
             ],
             [
              1,
              "#f0f921"
             ]
            ],
            "type": "surface"
           }
          ],
          "table": [
           {
            "cells": {
             "fill": {
              "color": "#EBF0F8"
             },
             "line": {
              "color": "white"
             }
            },
            "header": {
             "fill": {
              "color": "#C8D4E3"
             },
             "line": {
              "color": "white"
             }
            },
            "type": "table"
           }
          ]
         },
         "layout": {
          "annotationdefaults": {
           "arrowcolor": "#2a3f5f",
           "arrowhead": 0,
           "arrowwidth": 1
          },
          "autotypenumbers": "strict",
          "coloraxis": {
           "colorbar": {
            "outlinewidth": 0,
            "ticks": ""
           }
          },
          "colorscale": {
           "diverging": [
            [
             0,
             "#8e0152"
            ],
            [
             0.1,
             "#c51b7d"
            ],
            [
             0.2,
             "#de77ae"
            ],
            [
             0.3,
             "#f1b6da"
            ],
            [
             0.4,
             "#fde0ef"
            ],
            [
             0.5,
             "#f7f7f7"
            ],
            [
             0.6,
             "#e6f5d0"
            ],
            [
             0.7,
             "#b8e186"
            ],
            [
             0.8,
             "#7fbc41"
            ],
            [
             0.9,
             "#4d9221"
            ],
            [
             1,
             "#276419"
            ]
           ],
           "sequential": [
            [
             0,
             "#0d0887"
            ],
            [
             0.1111111111111111,
             "#46039f"
            ],
            [
             0.2222222222222222,
             "#7201a8"
            ],
            [
             0.3333333333333333,
             "#9c179e"
            ],
            [
             0.4444444444444444,
             "#bd3786"
            ],
            [
             0.5555555555555556,
             "#d8576b"
            ],
            [
             0.6666666666666666,
             "#ed7953"
            ],
            [
             0.7777777777777778,
             "#fb9f3a"
            ],
            [
             0.8888888888888888,
             "#fdca26"
            ],
            [
             1,
             "#f0f921"
            ]
           ],
           "sequentialminus": [
            [
             0,
             "#0d0887"
            ],
            [
             0.1111111111111111,
             "#46039f"
            ],
            [
             0.2222222222222222,
             "#7201a8"
            ],
            [
             0.3333333333333333,
             "#9c179e"
            ],
            [
             0.4444444444444444,
             "#bd3786"
            ],
            [
             0.5555555555555556,
             "#d8576b"
            ],
            [
             0.6666666666666666,
             "#ed7953"
            ],
            [
             0.7777777777777778,
             "#fb9f3a"
            ],
            [
             0.8888888888888888,
             "#fdca26"
            ],
            [
             1,
             "#f0f921"
            ]
           ]
          },
          "colorway": [
           "#636efa",
           "#EF553B",
           "#00cc96",
           "#ab63fa",
           "#FFA15A",
           "#19d3f3",
           "#FF6692",
           "#B6E880",
           "#FF97FF",
           "#FECB52"
          ],
          "font": {
           "color": "#2a3f5f"
          },
          "geo": {
           "bgcolor": "white",
           "lakecolor": "white",
           "landcolor": "#E5ECF6",
           "showlakes": true,
           "showland": true,
           "subunitcolor": "white"
          },
          "hoverlabel": {
           "align": "left"
          },
          "hovermode": "closest",
          "mapbox": {
           "style": "light"
          },
          "paper_bgcolor": "white",
          "plot_bgcolor": "#E5ECF6",
          "polar": {
           "angularaxis": {
            "gridcolor": "white",
            "linecolor": "white",
            "ticks": ""
           },
           "bgcolor": "#E5ECF6",
           "radialaxis": {
            "gridcolor": "white",
            "linecolor": "white",
            "ticks": ""
           }
          },
          "scene": {
           "xaxis": {
            "backgroundcolor": "#E5ECF6",
            "gridcolor": "white",
            "gridwidth": 2,
            "linecolor": "white",
            "showbackground": true,
            "ticks": "",
            "zerolinecolor": "white"
           },
           "yaxis": {
            "backgroundcolor": "#E5ECF6",
            "gridcolor": "white",
            "gridwidth": 2,
            "linecolor": "white",
            "showbackground": true,
            "ticks": "",
            "zerolinecolor": "white"
           },
           "zaxis": {
            "backgroundcolor": "#E5ECF6",
            "gridcolor": "white",
            "gridwidth": 2,
            "linecolor": "white",
            "showbackground": true,
            "ticks": "",
            "zerolinecolor": "white"
           }
          },
          "shapedefaults": {
           "line": {
            "color": "#2a3f5f"
           }
          },
          "ternary": {
           "aaxis": {
            "gridcolor": "white",
            "linecolor": "white",
            "ticks": ""
           },
           "baxis": {
            "gridcolor": "white",
            "linecolor": "white",
            "ticks": ""
           },
           "bgcolor": "#E5ECF6",
           "caxis": {
            "gridcolor": "white",
            "linecolor": "white",
            "ticks": ""
           }
          },
          "title": {
           "x": 0.05
          },
          "xaxis": {
           "automargin": true,
           "gridcolor": "white",
           "linecolor": "white",
           "ticks": "",
           "title": {
            "standoff": 15
           },
           "zerolinecolor": "white",
           "zerolinewidth": 2
          },
          "yaxis": {
           "automargin": true,
           "gridcolor": "white",
           "linecolor": "white",
           "ticks": "",
           "title": {
            "standoff": 15
           },
           "zerolinecolor": "white",
           "zerolinewidth": 2
          }
         }
        },
        "title": {
         "text": "Estimation window is: 30 years"
        }
       }
      }
     },
     "metadata": {},
     "output_type": "display_data"
    },
    {
     "data": {
      "application/vnd.plotly.v1+json": {
       "config": {
        "plotlyServerURL": "https://plot.ly"
       },
       "data": [
        {
         "boxmean": "sd",
         "name": "True",
         "type": "box",
         "y": [
          0.7294646907607762,
          0.3746141452737483,
          0.3956729074906048,
          0.3782925861314019,
          0.4254381343900494,
          0.5440440496804413,
          0.4403296635865542,
          0.662780958179919,
          0.7794501849251992,
          0.6093117885229801,
          0.507183809889576,
          0.5802082947305709,
          0.8531898275226928,
          0.8989017979484933,
          0.8366563796508614,
          0.7443604260324416,
          0.5939447112568014,
          0.6175637235627266,
          0.5297708092530015,
          0.7063083818847258,
          0.4691598396996674,
          0.5736019243337288,
          0.2239903151581482,
          0.8077064432227793,
          0.6591459386442161,
          0.553879286776054,
          0.4486578506672294,
          0.4941698049610355,
          0.6496156394974296,
          0.7031083551250575,
          0.7541573040972592,
          0.6485889135934927,
          0.3152703014796172,
          0.3779754207337262,
          0.406932681670649,
          0.7478753074148362,
          0.6012800333152977,
          0.7233397797244887,
          0.3314281888888337,
          0.4979127429664484,
          0.700073443569297,
          0.5882333385718113,
          0.4421981162638372,
          0.3093916793281494,
          0.5725412838332496,
          0.3968809120220952,
          0.4199146507576342,
          0.5116616598125856,
          0.4879961017100715,
          0.5504211387066406,
          0.5650209228442659,
          0.8018753336431814,
          0.7126824945921655,
          0.6379237471709933,
          0.4352525450600693,
          0.4325151824685101,
          0.4822919372572633,
          0.6315980704220521,
          0.8248503718097283,
          0.6841112023376074,
          0.6294259323170778,
          0.4981995942493172,
          0.5446643299432168,
          0.3383047375661845,
          0.5720946021908855,
          0.6693819314266595,
          0.3873236451629628,
          0.7055825310558503,
          0.6492538860029152,
          0.6058494251493063,
          0.3704054240628547,
          0.3639293972558861,
          0.6456482698135383,
          0.8656873191355221,
          0.3932836033563735,
          0.4199118481051839,
          0.6591595336855774,
          0.6143028451020379,
          0.3695938340818401,
          0.6904659380738062,
          0.2814440247554587,
          0.5441158708288356,
          0.6672821477641611,
          0.4726130471388416,
          0.6194178827840361,
          0.6903059808237801,
          0.4496683627122362,
          0.6702664562638689,
          0.6135400683736083,
          0.6247352417910409,
          0.7476145818069089,
          0.4134747104234054,
          0.3489555866875141,
          0.4905010176573469,
          0.7511374559536422,
          0.4539422785580073,
          0.3040196449248176,
          0.5672586717546297,
          0.4124665103214331,
          0.6402802744953708,
          0.4399684379819294,
          0.5953202159260522,
          0.5333788099285103,
          0.7649808236982675,
          0.7475834939851062,
          0.4384142268501884,
          0.3279460418566279,
          0.6461784310994274,
          0.439730197454711,
          0.3986048563757882,
          0.3530811521214277,
          0.6889938603571008,
          0.4378706351491567,
          0.2823779899913857,
          0.4365175946203776,
          0.2556043787306032,
          0.5071857778048315,
          0.2404396597253245,
          0.725204776815621,
          0.4588073480571512,
          0.2927851584048923,
          0.5849102762990943,
          0.7282175550690648,
          0.634039044458446,
          0.3435294687066797,
          0.3498606018921472,
          0.7415092165685988,
          0.760360871675443,
          0.4925218144165313,
          0.9707110791964828,
          0.8175545416135864,
          0.4415374598114637,
          0.3954952310690199,
          0.5399118192027716,
          0.4493592483480154,
          0.477267057770591,
          0.4184162119293504,
          0.700149396448497,
          0.5420803479140291,
          0.3477187015399628,
          0.3871645147488717,
          0.5258818756545628,
          0.5431481379857768,
          0.5105954844271415,
          0.5280844252133049,
          0.556179417245175,
          0.547787222205388,
          0.6014191175105047,
          0.3324388365306353,
          0.2634975332432205,
          0.4314199070452931,
          0.4432805330454991,
          0.9776416307719762,
          0.7027078673625498,
          0.8444821347755199,
          0.5391831197671305,
          0.591958432491491,
          0.4605846603453863,
          0.7827656477458468,
          0.4518962525414819,
          0.7030656746887255,
          0.6327214605001714,
          0.5305719157392749,
          0.6777874002483678,
          0.3458639270778164,
          0.51147382708219,
          0.4576796650756137,
          0.3416021133958148,
          0.4842200630489021,
          0.5938322644718452,
          0.4693841919056346,
          0.5616212585521728,
          0.7587343392758888,
          0.6406577525660417,
          0.4484313184538026,
          0.7245104231879101,
          0.409270186786396,
          0.8659795794047908,
          0.4830321633776507,
          0.6603659510168375,
          0.2553051866885832,
          0.7160262331961887,
          0.3266146091987991,
          0.6095044924423485,
          0.3240914603310812,
          0.2072613774625832,
          0.5808658912452687,
          0.8000321030508228,
          0.875631775067117,
          0.398932485973864,
          0.6264007565115192,
          0.5680735002156071,
          0.6485962660174259,
          0.2376144027737719,
          0.3086593619071285,
          0.4173449787282515,
          0.4633764520876735,
          0.589117958951176,
          0.5936659319389223,
          0.7781776476141101,
          0.5439049676329349,
          0.9327837077181398,
          0.7474060055615711,
          0.3196086829610827,
          0.2371990099470868,
          0.6873904625879169,
          0.7330118355533615,
          0.4041851987283522,
          0.5475509988648586,
          0.506480962899205,
          0.5129336036227148,
          0.3727800081119595,
          0.3599724297093022,
          0.5110455072310955,
          0.7436988461674566,
          0.8231387150210077,
          0.8854863247506576,
          0.6019133462796982,
          0.5412915854776865,
          0.521213427101937,
          0.3482715005075461,
          0.3509953795224435,
          0.3634271626780785,
          0.7770919404139813,
          0.347333310121454,
          0.8221375695148044,
          0.4305650440359104,
          0.5626243727932861,
          0.7267738188840127,
          0.4957195395854462,
          0.6486561105061861,
          0.6603536179956871,
          0.5880039574889168,
          0.6462163362081902,
          0.6430773761911485,
          0.6549138213911432,
          0.7410250246390472,
          0.6175060097955032,
          0.3926710346716822,
          0.783260380243439,
          0.3671659202804401,
          0.787533839885157,
          0.543176769328233,
          0.6115189365121839,
          0.989668271085791,
          0.623828114516408,
          0.4315002803219442,
          0.6022814758058697,
          0.6294037854817316,
          0.6668992708904996
         ]
        },
        {
         "boxmean": "sd",
         "name": "Est-All",
         "type": "box",
         "y": [
          0.674611805484936,
          0.1320434985512427,
          0.2667174479595819,
          0.2618129150582023,
          0.252199739104567,
          0.4757711750352356,
          0.4199151989049928,
          0.66064365172394,
          0.599628013976826,
          0.5929002578564299,
          0.2801181389456023,
          0.4583713914162355,
          0.7457639256845771,
          0.7954705274754882,
          0.6768086825959342,
          0.6089183264941559,
          0.5189575517513636,
          0.5198897589522152,
          0.4450595615539161,
          0.5986616194967224,
          0.2957788700916931,
          0.4320044659504167,
          0.0185276789116521,
          0.6520004938093592,
          0.4695419675282501,
          0.5189277330362236,
          0.3814530552400425,
          0.402405688666554,
          0.4677131632099023,
          0.6075216284019047,
          0.6471318070911765,
          0.6423264102997615,
          0.2056426945905941,
          0.3926987151583755,
          0.3188915801493225,
          0.6294318498412086,
          0.498986300593795,
          0.6078163344573626,
          0.1036148774789904,
          0.3674430548711641,
          0.4903308825267404,
          0.3830919190464587,
          0.307087869333823,
          0.1509956522838592,
          0.5697293647400311,
          0.4564703607881477,
          0.2537393811356198,
          0.4395906479810476,
          0.4206328375318494,
          0.4705728023189058,
          0.4408434999944832,
          0.7623417094609617,
          0.5480713105827043,
          0.5719296377925948,
          0.3617650238603826,
          0.2590107661646142,
          0.3663145305577755,
          0.5798763583695938,
          0.6547537576305368,
          0.5137047143071619,
          0.5709865978151687,
          0.4123619621500281,
          0.4629370001503325,
          0.2901736646567753,
          0.493551763688895,
          0.5761338672177071,
          0.2319319675576854,
          0.6763980232834796,
          0.5045430070917629,
          0.5328726795545857,
          0.4680552115887557,
          0.3208756418071495,
          0.5361703366705178,
          0.5700441711819332,
          0.2395460508419012,
          0.38118493392096,
          0.5335040519510651,
          0.4476608652615353,
          0.4839333765594964,
          0.5192421414748754,
          0.1774345904838526,
          0.5238242132971078,
          0.8544804062950909,
          0.4257338055756765,
          0.4653831848418288,
          0.628906767018228,
          0.2630874928650216,
          0.4705086625278066,
          0.6578898777585435,
          0.5908308386967331,
          0.4950812158220357,
          0.3495214635234939,
          0.2369243221689919,
          0.4620309862927507,
          0.5745630375031644,
          0.4182124754056063,
          0.2671995996265482,
          0.4334855968700415,
          0.3735782411585749,
          0.5350234460812301,
          0.345996155673449,
          0.4856368572939286,
          0.3655968378997612,
          0.6914361809268676,
          0.6014758986908839,
          0.3086763460302281,
          0.3744320781254653,
          0.517957042700315,
          0.4867203037556049,
          0.1788350028785046,
          0.2778354900041428,
          0.5928309405036843,
          0.3843134274924343,
          0.2269209111034509,
          0.3201461772496149,
          0.0822413245976689,
          0.5032003365303072,
          0.1665746765586337,
          0.6383857017816288,
          0.4140672634145784,
          0.134740844167396,
          0.4862420888184925,
          0.663143894282616,
          0.5949928231410729,
          0.1744337775794796,
          0.1972270989668497,
          0.634300978666139,
          0.7228868929906792,
          0.291859336774783,
          0.9067996820705398,
          0.6266494955938917,
          0.4234271392100746,
          0.1852383871799575,
          0.7038203625035688,
          0.2444368979730831,
          0.2619941545594623,
          0.2738906497692938,
          0.5716517878056269,
          0.4298066093034119,
          0.1211964532236863,
          0.3334504677613632,
          0.4387500882327978,
          0.3817892740869918,
          0.4117743847934599,
          0.4866662635143798,
          0.5016007023043567,
          0.3987680869695859,
          0.5343341688943899,
          0.2777490191123921,
          0.2354775582560396,
          0.2774262525548185,
          0.3393425837240189,
          0.8906704013903596,
          0.6257372392583651,
          0.6642367409323223,
          0.4964713081954853,
          0.4704005553825979,
          0.291811168525637,
          0.6502138793180645,
          0.2371425834523896,
          0.5993886010235575,
          0.4863789294304091,
          0.3992792288731375,
          0.6396009335766818,
          0.3098335991267361,
          0.3564348812855563,
          0.4238138872885743,
          0.2592195753644888,
          0.3500456248644698,
          0.5130693356581449,
          0.4022716952705765,
          0.4621706584163122,
          0.683470058869649,
          0.5418072293861943,
          0.351841639973359,
          0.6507114702933281,
          0.3275480522967349,
          0.754664345979344,
          0.4525553874496587,
          0.4711304919563647,
          0.2054214728180121,
          0.5886097425281893,
          0.2761226949873812,
          0.5056326441389141,
          0.2904255686545812,
          0.0004806032720728,
          0.4436524709632122,
          0.7205817235362064,
          0.8484497989390549,
          0.4193780446406903,
          0.5099418615379313,
          0.5235355459730548,
          0.6100579586861289,
          0.0602008132467648,
          0.3107458903366902,
          0.4670699304913294,
          0.5113734405951985,
          0.4553963138377548,
          0.5159599575239878,
          0.6289033151286573,
          0.4626188342686677,
          0.8359213815948696,
          0.67830617728804,
          0.2272591848877534,
          0.1925693070200183,
          0.8473216560673439,
          0.5364487717371461,
          0.1904084135038443,
          0.3460601758296234,
          0.4707835173571494,
          0.3252953054801827,
          0.369190789525652,
          0.2402477405103121,
          0.4694116084450256,
          0.5933079725551017,
          0.6351665437383109,
          0.699122102642086,
          0.5284618743987536,
          0.3356481930692984,
          0.2779659620019386,
          0.148962416702847,
          0.3089780400482548,
          0.1914750022876132,
          0.7201102009593621,
          0.305134412395409,
          0.7257942362556713,
          0.473599190301367,
          0.417456644662197,
          0.5898966877779389,
          0.3002156996266973,
          0.5177619947344386,
          0.5957331894099986,
          0.467844351063824,
          0.5051962060077583,
          0.5180123420225005,
          0.4827270385151556,
          0.5793629569653521,
          0.5126146989543499,
          0.34274142545068,
          0.7393159735019778,
          0.2818581244600627,
          0.7503069467702006,
          0.4970835447657464,
          0.546874664248692,
          0.945513132629767,
          0.5113054858395475,
          0.3478258201905969,
          0.5193906518686955,
          0.5594083096269944,
          0.4275026380831732
         ]
        },
        {
         "boxmean": "sd",
         "name": "Est-SD-Corr",
         "type": "box",
         "y": [
          0.0698892150608668,
          0.057601548549933,
          0.1017379670136992,
          0.1942709403655013,
          0.1035726490378435,
          0.1180977397993345,
          0.0978954067663866,
          0.0885811963438807,
          0.2595995588480435,
          0.3851105001100962,
          0.0685454121316716,
          0.0786250310143644,
          -0.0322222991135008,
          0.0657071547509867,
          0.0417167489736941,
          0.0726902340240625,
          0.2221581335949135,
          -0.1318747040788819,
          0.060815575222202,
          0.356791388335009,
          0.0686781529651152,
          -0.0156078333641734,
          0.0156695958728715,
          0.2689590840126915,
          0.2203245528019777,
          0.362309287815856,
          0.294552451678395,
          -0.018287588063365,
          0.2250738671475149,
          0.0212285314570195,
          0.3808221617306753,
          0.3768427538677269,
          -0.0120307004241609,
          0.1194056726142857,
          0.1187259351976679,
          0.495330187953247,
          0.165164291315784,
          0.2022208459160463,
          -0.0931554622430932,
          0.0810626576538455,
          0.3859291593769511,
          0.3050197766951414,
          0.1363639110750375,
          -0.2582247818576798,
          -0.2330168505173053,
          0.5664718544430029,
          0.00995582152395,
          0.0410579550990902,
          0.1161185026046169,
          0.3072590139289922,
          0.1864508130264276,
          0.1896715457095543,
          0.3620779089985348,
          0.0891008827794992,
          0.030252032877653,
          0.1592334458078883,
          0.2208770423756134,
          -0.0162078420019996,
          0.3336783446135714,
          0.0911606064559279,
          0.2735649921051782,
          -0.159834570045257,
          0.4051063326583554,
          0.0714647813758261,
          -0.0410730795305918,
          0.3375621309077533,
          0.1131466436298356,
          0.2555978973373232,
          0.3231425829847112,
          0.0788717134790676,
          0.0611435180228369,
          0.1650108267222467,
          0.2839937740102733,
          0.518326206724488,
          0.1181251958100362,
          -0.0910406291504763,
          0.3201372826096178,
          0.2315686226399491,
          -0.026470145442566,
          -0.0908976145478668,
          0.1114306164115304,
          0.3798486195189839,
          0.624122318278434,
          0.1873024624560398,
          0.2289184253041253,
          0.2787542918035827,
          0.0666825309340225,
          0.2590091512037963,
          0.2678557235737744,
          0.3762456699645211,
          0.2254037793044497,
          0.2333463981619761,
          0.1339729808588704,
          0.2207647052253898,
          0.3948489399227941,
          0.2327340113567339,
          0.1650879854747733,
          0.1591814776857965,
          0.1424727104287527,
          0.1800075942900278,
          0.2158553391360773,
          0.1916116539799777,
          0.254101021769318,
          0.3504414575567892,
          0.2232382636365597,
          0.2007695350668772,
          0.3752651001246074,
          0.1628699032181631,
          0.2063727566169771,
          0.164696414507203,
          0.084156212970936,
          0.3539954339009073,
          0.2923987840523789,
          -0.004805715538152,
          0.2395938941272311,
          0.0943948208191237,
          0.0955749868024224,
          -0.0209610741339233,
          0.3220704440554828,
          0.2562813669027761,
          0.0682830667233017,
          -0.1288476811036068,
          0.4678024432902846,
          0.3772852701291024,
          -0.2809995791952983,
          0.0708421405189517,
          0.2631988664697939,
          -0.0222053589612858,
          0.2905954861471265,
          0.3486303164616052,
          0.1533819975728619,
          -0.0411115321542588,
          0.2233591810049011,
          0.3103766451838733,
          -0.1267742930312234,
          0.1694919703383022,
          0.0520037863698981,
          0.3048212554171763,
          0.1706925921267538,
          0.0665590259058027,
          0.1747886619484997,
          0.1111770137935947,
          0.2178589120752687,
          0.1767568185951031,
          0.1104368334563509,
          -0.0647337768805323,
          0.2986680425376707,
          0.3365104951918164,
          0.1872460543786214,
          0.1717979895463938,
          0.1168134268261829,
          0.1693485800474271,
          0.3240302074021905,
          0.169496037271229,
          0.399010922750073,
          0.0292719777282328,
          0.2770945150185604,
          0.0120534485177807,
          0.4469958189867593,
          0.1485479017061924,
          0.3636166157931333,
          0.0683630921612466,
          0.3060737892879976,
          0.0005521871705802,
          -0.3001841441965076,
          0.2374164772346301,
          -0.093938659671347,
          -0.1186267910018112,
          0.223362588556095,
          0.2897360725755871,
          0.0875295277261236,
          0.2198684954239121,
          0.6287249226693675,
          0.268134109977841,
          -0.0411315450635063,
          0.1469292578620229,
          0.1185669339554997,
          0.2781962028372841,
          0.2264451978795336,
          0.1885848749669187,
          -0.1175448167957904,
          0.2019887556942399,
          0.1194418150748906,
          0.0323067303786557,
          -0.037908233840045,
          0.1174770780502434,
          0.1020760348894042,
          0.3784336994299101,
          0.3746767610515439,
          -0.0348130620765963,
          0.1316331703671136,
          0.0821488175400329,
          -0.0029451732457305,
          -0.07899700108795,
          0.2408529644998081,
          -0.0768898497010655,
          0.1562336688242085,
          0.1240610324446001,
          0.2049410050501133,
          0.1935278239189181,
          0.0406631994295577,
          0.286799713583899,
          0.4611525454108993,
          -0.245243035477861,
          0.2054228066274789,
          0.3507138585001128,
          0.307846764191154,
          -0.2013081452224483,
          0.0568338279489239,
          0.0363588535812589,
          0.2679303499204057,
          0.1237717159063497,
          0.0918760858333194,
          0.3393398579969746,
          0.3179416218005615,
          0.055595942852895,
          0.1222998277149762,
          0.2785617430816706,
          -0.1343216930432505,
          0.0766385988628348,
          0.0695675122043945,
          0.2396697221764655,
          0.0537352081365747,
          0.3207542149169904,
          0.3396288090513529,
          0.1979501943042668,
          -0.1543574456436111,
          0.3139478489730528,
          0.2564719435366982,
          0.1604714922463704,
          0.032033566616323,
          0.1068876939514478,
          0.2778432404920408,
          0.1774470971669184,
          0.1532713692494,
          0.3916567420186356,
          0.0986476002396196,
          0.0589880725624139,
          0.2799285010334731,
          0.4562803955349357,
          0.1323362553961279,
          0.1494495498285745,
          -0.1249075917890163,
          0.097413876479044,
          0.7099308669246845,
          0.2140366169387778,
          -0.0453286165794434,
          0.2161195030821608,
          -0.01080183553653,
          0.1703960958286992
         ]
        },
        {
         "boxmean": "sd",
         "name": "Est-SD",
         "type": "box",
         "y": [
          0.3532553521921708,
          0.1685434549288962,
          0.248175784564105,
          0.2826999660305136,
          0.2786584275012893,
          0.3788444911083758,
          0.2379622857644444,
          0.3257194693524981,
          0.4614135293963438,
          0.5267576868760043,
          0.3162960467874901,
          0.3992642553231978,
          0.3128173066162657,
          0.4300027815075795,
          0.3012617322298104,
          0.3034368483321183,
          0.3521017751097213,
          0.1576199722936459,
          0.3018077437674065,
          0.603195040689275,
          0.2559143378351211,
          0.2143471080385099,
          0.0739173967557011,
          0.5466318766097861,
          0.5333345739896282,
          0.5059199272665906,
          0.4031927340772842,
          0.1871688029802093,
          0.3333985608003131,
          0.3237731260501605,
          0.4955062238194857,
          0.5653261280235414,
          0.127946585965939,
          0.2650120795627075,
          0.2348708963581106,
          0.6994805961862833,
          0.341242539809137,
          0.4995128735287667,
          0.0883643630056476,
          0.2127192009145301,
          0.5427476120123241,
          0.4037606603040787,
          0.1759409490746213,
          -0.0739554885895953,
          0.132420088902977,
          0.6300255500088454,
          0.1567846414862539,
          0.208148189892205,
          0.3516181080963821,
          0.403501656242132,
          0.3666446031203334,
          0.5510270098546362,
          0.5807631681104195,
          0.45420337210102,
          0.1694995741306172,
          0.2484635298645156,
          0.3748414412734367,
          0.3563191159530445,
          0.5737884704489038,
          0.3857759421739873,
          0.4399614798130078,
          0.237144400759947,
          0.547795403809428,
          0.2188891336781818,
          0.2685221014091173,
          0.5835821311936955,
          0.2523212861147675,
          0.4549111347530614,
          0.4266978000369673,
          0.2899116228269195,
          0.1841840751829773,
          0.3213205026273603,
          0.5410987378503723,
          0.5883358124422321,
          0.2651026960327202,
          0.073054222472249,
          0.4742702658065365,
          0.4823181753005286,
          0.1600249157466876,
          0.3428097440768959,
          0.2875501526300813,
          0.4743043018557198,
          0.8317322934282653,
          0.3612486480101195,
          0.4003719638498116,
          0.4707233753930686,
          0.1934368716588804,
          0.5236018766593481,
          0.530539379894716,
          0.5417476688308654,
          0.4814459798814671,
          0.3523532872428477,
          0.2538858584443948,
          0.3953233114966792,
          0.5458592933686276,
          0.2959300612857551,
          0.2405502318637593,
          0.3616056120838968,
          0.263842452046693,
          0.4898505323361852,
          0.3453330595696227,
          0.4653366988358391,
          0.4478419066510263,
          0.549639180676408,
          0.4191632931382491,
          0.3145747968246901,
          0.3666605534947565,
          0.3836365847962897,
          0.3592717939210577,
          0.2424468370738112,
          0.1141720701065849,
          0.5588685640421125,
          0.377430519368319,
          0.0940473888435478,
          0.3772959419350546,
          0.1578340550422244,
          0.3349816329339309,
          0.0419932814245859,
          0.4373144008318709,
          0.419213365574809,
          0.1169790992840559,
          0.2181795679927841,
          0.636805450497603,
          0.5888512511615901,
          -0.0765783090943731,
          0.2660663306393227,
          0.4765251384991492,
          0.2785041893601133,
          0.4412784886252626,
          0.677803618813565,
          0.4533980454879201,
          0.1317195996665613,
          0.3931850966221381,
          0.4414946007313235,
          0.0682957864516696,
          0.4051769365150951,
          0.140845187316291,
          0.4526673029426804,
          0.3858205531170248,
          0.1789286065269726,
          0.243226985054421,
          0.4451399767978758,
          0.4187381379746058,
          0.3892983434221524,
          0.3255306507188026,
          0.1600495872387842,
          0.456372403760296,
          0.483618480342769,
          0.276766228213934,
          0.2447955355570042,
          0.2850976519833917,
          0.2737982204137815,
          0.7763473391897073,
          0.3918876385206846,
          0.5108136356385744,
          0.3153480354937778,
          0.496727341402731,
          0.1767094232844012,
          0.6658510412048614,
          0.3107358547651225,
          0.5985459531339868,
          0.3496465292152646,
          0.4536831649070748,
          0.3361472814448437,
          -0.2768152458373483,
          0.3939530594346774,
          0.0793491797763494,
          0.0760467798332432,
          0.3321445299122973,
          0.4365455120149155,
          0.3533867407418001,
          0.40565509882273,
          0.7537644302109737,
          0.4103842970962414,
          0.1281549311579378,
          0.4500764266490942,
          0.2591286908302685,
          0.530685772940489,
          0.3666794685366505,
          0.4324598309272201,
          -0.0017679927603998,
          0.5063637124159697,
          0.1927780308344811,
          0.3662619833549076,
          0.1429244347775196,
          0.1093298454073641,
          0.3277858061519118,
          0.5945567521618955,
          0.518787686298956,
          0.0805523067411318,
          0.4851813949335692,
          0.411795468917212,
          0.235284009344063,
          0.0062461766971439,
          0.3401288755636455,
          0.1472787261025708,
          0.2989530064486972,
          0.337332084077891,
          0.3926839153635718,
          0.4981070871437943,
          0.2493419004761908,
          0.5682831868939873,
          0.6437871710199944,
          -0.0919323914910644,
          0.2460312199020998,
          0.4350940501338973,
          0.4657361491033183,
          -0.0125307254254896,
          0.2635677543591469,
          0.1802070734172511,
          0.3627487727918879,
          0.191367407019872,
          0.188630300637356,
          0.5029817458849274,
          0.5202054464222566,
          0.4036890129228024,
          0.4097596426877452,
          0.4374486443648865,
          0.0376273290264905,
          0.3962623785555474,
          0.2108995408719504,
          0.3396282105443752,
          0.1568564705892945,
          0.505204296081927,
          0.3782742907013193,
          0.5194151338444216,
          0.0684020698184843,
          0.395260052842708,
          0.4853724419515791,
          0.2823884735850955,
          0.2717594826373796,
          0.4234891983295994,
          0.4557046292724541,
          0.5346487442016801,
          0.3616633970073988,
          0.5076554345883492,
          0.3559766504177019,
          0.3735660454602941,
          0.3489565304664886,
          0.6419475987691737,
          0.2331108218463137,
          0.5088131946662896,
          0.1632737214112453,
          0.2785700393332967,
          0.868101620329891,
          0.3800989592915593,
          0.1901879380770065,
          0.4706484947574393,
          0.2787530731820132,
          0.4030967155784587
         ]
        },
        {
         "boxmean": "sd",
         "name": "Est-None",
         "type": "box",
         "y": [
          0.4200075109519355,
          0.1852276703670115,
          0.2589764159183636,
          0.2910842297564415,
          0.312539095953674,
          0.4079341414667173,
          0.291906230229212,
          0.3762071929469774,
          0.5033522445786753,
          0.5459827336014014,
          0.3530683693513822,
          0.4407957678329647,
          0.4069663117959948,
          0.4942063032531318,
          0.3663307405527162,
          0.3429596043339533,
          0.390905545594281,
          0.1970881188575964,
          0.3311712580762887,
          0.6292166695288038,
          0.288848975342039,
          0.2731673166420002,
          0.0809786084917103,
          0.578878634535379,
          0.5759934643256032,
          0.545288378558523,
          0.4053617397849614,
          0.2227279117285188,
          0.3602176324588597,
          0.3918558259457246,
          0.5188607797203856,
          0.5843825876599005,
          0.1487549242607054,
          0.2949198692474605,
          0.2489563912268829,
          0.7218234693130254,
          0.3788259403273483,
          0.5504602740263774,
          0.126494166520923,
          0.251878291164944,
          0.5810467459394439,
          0.4187734423680277,
          0.1893045342745919,
          -0.0239461878418091,
          0.2022413244185973,
          0.6204338446930298,
          0.1869264341273751,
          0.2542675975985515,
          0.399260066054256,
          0.4287728374574534,
          0.4074713500927906,
          0.5986472384719913,
          0.6086021133437121,
          0.5235511471498646,
          0.1914834510194626,
          0.2781893962364421,
          0.4054669976033119,
          0.4187143402911448,
          0.6165888247853939,
          0.4319364009661545,
          0.4823926641453075,
          0.3088555020072469,
          0.5648170058079243,
          0.2427966282060547,
          0.3322753789680213,
          0.6267574165435789,
          0.2695243008170864,
          0.5038932975009007,
          0.4580388342672869,
          0.3266883763988284,
          0.2020929224687488,
          0.3347083742982593,
          0.5682237726874177,
          0.5937311479073022,
          0.2860712493973982,
          0.1179655570560583,
          0.5021709137591964,
          0.5192386177070073,
          0.2229915739070886,
          0.4117099534436233,
          0.2924828110740176,
          0.4928274690464442,
          0.8497692387353192,
          0.3819937100692729,
          0.4338037860043918,
          0.5069718141058492,
          0.2126282767248328,
          0.5545366647909771,
          0.5580545116967802,
          0.5737691840776714,
          0.5235078767135419,
          0.3791082542397618,
          0.2630553017572603,
          0.4308313479185898,
          0.5837268830394565,
          0.3120422992714287,
          0.2533105636101126,
          0.3885811891295965,
          0.2843430512835418,
          0.5317908798011093,
          0.3598477464616365,
          0.4998746401314497,
          0.4762249005973034,
          0.5988799821810928,
          0.4761220774446716,
          0.3368392713093858,
          0.3618872224539617,
          0.4221428429098273,
          0.3794926306631649,
          0.2695516098937907,
          0.1338829037509174,
          0.5950901072225545,
          0.3933371410372476,
          0.11092997946437,
          0.4044078295646149,
          0.1805906238160747,
          0.3594184524297782,
          0.0616271843201231,
          0.5006034964966802,
          0.435513963727954,
          0.1324372467948218,
          0.2733640720142892,
          0.6711513374323327,
          0.6259780848970005,
          -0.0314558349515021,
          0.2904662336100159,
          0.5283435556664547,
          0.3214827394925313,
          0.4572976933101157,
          0.7356658550172681,
          0.4979586481169421,
          0.1787773767326327,
          0.4336255591266718,
          0.4454052153493128,
          0.0980821476072011,
          0.4199580092681892,
          0.1732389236403243,
          0.4863744524496375,
          0.4308145405851291,
          0.1932028541910787,
          0.2607707756084679,
          0.4821807675028827,
          0.4516327920447813,
          0.4191573004032441,
          0.3634581496213366,
          0.2251770967850283,
          0.4861913406994127,
          0.5030249507728025,
          0.2932686784271129,
          0.2588665310141165,
          0.3226224600722382,
          0.3101449395170245,
          0.8206310223716365,
          0.4207327502124572,
          0.5361696081905497,
          0.3659094769851408,
          0.5222477595567404,
          0.2068239103754825,
          0.7073679966875911,
          0.3363229435205424,
          0.6464091429653962,
          0.4098540086022322,
          0.4716075379969009,
          0.388865379129501,
          -0.2565077552080429,
          0.4195669047080717,
          0.1127880450412471,
          0.1232402586302467,
          0.3464714161677384,
          0.4653202096885438,
          0.3774029314421514,
          0.4534231130675971,
          0.7771639058624064,
          0.4459782290440203,
          0.1577359571417269,
          0.4958249807066954,
          0.2801323200706077,
          0.5778097137585234,
          0.4080355289512577,
          0.4706996426785587,
          0.0163141697082774,
          0.5696731904084532,
          0.2109385958225522,
          0.4184515473891659,
          0.1737144374198854,
          0.1119452463920748,
          0.375465346533897,
          0.6610976691526292,
          0.5453847061214723,
          0.1107843869154414,
          0.5109962384666135,
          0.4444564572756811,
          0.2981178987130511,
          0.0282033894865986,
          0.3453571641282584,
          0.1928739861299642,
          0.3148624173432828,
          0.3776693638456005,
          0.4493972626335126,
          0.565825912802365,
          0.2928844139790542,
          0.6277888083726046,
          0.6878458274293965,
          -0.0541870940708318,
          0.2459957908209962,
          0.4456920880238474,
          0.4885570996483866,
          0.0414338805674893,
          0.3196645264586067,
          0.21694863782019,
          0.3749208156206117,
          0.2062556845689589,
          0.2117438804096896,
          0.5310466894478985,
          0.5461968889655562,
          0.4863168288776621,
          0.4668948076892584,
          0.4680750136457292,
          0.0902317550547453,
          0.4431965223747101,
          0.230990689327089,
          0.3525885072508569,
          0.182029221504034,
          0.5508397572424105,
          0.3742864719763576,
          0.6060785763541605,
          0.1126837247417982,
          0.4280776913710726,
          0.5288321635781379,
          0.3016500944223671,
          0.3159403900221003,
          0.4700688632438835,
          0.4910200339768127,
          0.5825988384743893,
          0.4018734036108781,
          0.5199478417001209,
          0.4380541615297348,
          0.4161127133891046,
          0.3552576484373225,
          0.6871222874887443,
          0.2518766373896363,
          0.5594411931867584,
          0.2136107271668675,
          0.3084260812764655,
          0.897336344872012,
          0.4089962704129111,
          0.2383047829066861,
          0.5156074199785219,
          0.3298837558644111,
          0.4653037836836994
         ]
        }
       ],
       "layout": {
        "template": {
         "data": {
          "bar": [
           {
            "error_x": {
             "color": "#2a3f5f"
            },
            "error_y": {
             "color": "#2a3f5f"
            },
            "marker": {
             "line": {
              "color": "#E5ECF6",
              "width": 0.5
             },
             "pattern": {
              "fillmode": "overlay",
              "size": 10,
              "solidity": 0.2
             }
            },
            "type": "bar"
           }
          ],
          "barpolar": [
           {
            "marker": {
             "line": {
              "color": "#E5ECF6",
              "width": 0.5
             },
             "pattern": {
              "fillmode": "overlay",
              "size": 10,
              "solidity": 0.2
             }
            },
            "type": "barpolar"
           }
          ],
          "carpet": [
           {
            "aaxis": {
             "endlinecolor": "#2a3f5f",
             "gridcolor": "white",
             "linecolor": "white",
             "minorgridcolor": "white",
             "startlinecolor": "#2a3f5f"
            },
            "baxis": {
             "endlinecolor": "#2a3f5f",
             "gridcolor": "white",
             "linecolor": "white",
             "minorgridcolor": "white",
             "startlinecolor": "#2a3f5f"
            },
            "type": "carpet"
           }
          ],
          "choropleth": [
           {
            "colorbar": {
             "outlinewidth": 0,
             "ticks": ""
            },
            "type": "choropleth"
           }
          ],
          "contour": [
           {
            "colorbar": {
             "outlinewidth": 0,
             "ticks": ""
            },
            "colorscale": [
             [
              0,
              "#0d0887"
             ],
             [
              0.1111111111111111,
              "#46039f"
             ],
             [
              0.2222222222222222,
              "#7201a8"
             ],
             [
              0.3333333333333333,
              "#9c179e"
             ],
             [
              0.4444444444444444,
              "#bd3786"
             ],
             [
              0.5555555555555556,
              "#d8576b"
             ],
             [
              0.6666666666666666,
              "#ed7953"
             ],
             [
              0.7777777777777778,
              "#fb9f3a"
             ],
             [
              0.8888888888888888,
              "#fdca26"
             ],
             [
              1,
              "#f0f921"
             ]
            ],
            "type": "contour"
           }
          ],
          "contourcarpet": [
           {
            "colorbar": {
             "outlinewidth": 0,
             "ticks": ""
            },
            "type": "contourcarpet"
           }
          ],
          "heatmap": [
           {
            "colorbar": {
             "outlinewidth": 0,
             "ticks": ""
            },
            "colorscale": [
             [
              0,
              "#0d0887"
             ],
             [
              0.1111111111111111,
              "#46039f"
             ],
             [
              0.2222222222222222,
              "#7201a8"
             ],
             [
              0.3333333333333333,
              "#9c179e"
             ],
             [
              0.4444444444444444,
              "#bd3786"
             ],
             [
              0.5555555555555556,
              "#d8576b"
             ],
             [
              0.6666666666666666,
              "#ed7953"
             ],
             [
              0.7777777777777778,
              "#fb9f3a"
             ],
             [
              0.8888888888888888,
              "#fdca26"
             ],
             [
              1,
              "#f0f921"
             ]
            ],
            "type": "heatmap"
           }
          ],
          "heatmapgl": [
           {
            "colorbar": {
             "outlinewidth": 0,
             "ticks": ""
            },
            "colorscale": [
             [
              0,
              "#0d0887"
             ],
             [
              0.1111111111111111,
              "#46039f"
             ],
             [
              0.2222222222222222,
              "#7201a8"
             ],
             [
              0.3333333333333333,
              "#9c179e"
             ],
             [
              0.4444444444444444,
              "#bd3786"
             ],
             [
              0.5555555555555556,
              "#d8576b"
             ],
             [
              0.6666666666666666,
              "#ed7953"
             ],
             [
              0.7777777777777778,
              "#fb9f3a"
             ],
             [
              0.8888888888888888,
              "#fdca26"
             ],
             [
              1,
              "#f0f921"
             ]
            ],
            "type": "heatmapgl"
           }
          ],
          "histogram": [
           {
            "marker": {
             "pattern": {
              "fillmode": "overlay",
              "size": 10,
              "solidity": 0.2
             }
            },
            "type": "histogram"
           }
          ],
          "histogram2d": [
           {
            "colorbar": {
             "outlinewidth": 0,
             "ticks": ""
            },
            "colorscale": [
             [
              0,
              "#0d0887"
             ],
             [
              0.1111111111111111,
              "#46039f"
             ],
             [
              0.2222222222222222,
              "#7201a8"
             ],
             [
              0.3333333333333333,
              "#9c179e"
             ],
             [
              0.4444444444444444,
              "#bd3786"
             ],
             [
              0.5555555555555556,
              "#d8576b"
             ],
             [
              0.6666666666666666,
              "#ed7953"
             ],
             [
              0.7777777777777778,
              "#fb9f3a"
             ],
             [
              0.8888888888888888,
              "#fdca26"
             ],
             [
              1,
              "#f0f921"
             ]
            ],
            "type": "histogram2d"
           }
          ],
          "histogram2dcontour": [
           {
            "colorbar": {
             "outlinewidth": 0,
             "ticks": ""
            },
            "colorscale": [
             [
              0,
              "#0d0887"
             ],
             [
              0.1111111111111111,
              "#46039f"
             ],
             [
              0.2222222222222222,
              "#7201a8"
             ],
             [
              0.3333333333333333,
              "#9c179e"
             ],
             [
              0.4444444444444444,
              "#bd3786"
             ],
             [
              0.5555555555555556,
              "#d8576b"
             ],
             [
              0.6666666666666666,
              "#ed7953"
             ],
             [
              0.7777777777777778,
              "#fb9f3a"
             ],
             [
              0.8888888888888888,
              "#fdca26"
             ],
             [
              1,
              "#f0f921"
             ]
            ],
            "type": "histogram2dcontour"
           }
          ],
          "mesh3d": [
           {
            "colorbar": {
             "outlinewidth": 0,
             "ticks": ""
            },
            "type": "mesh3d"
           }
          ],
          "parcoords": [
           {
            "line": {
             "colorbar": {
              "outlinewidth": 0,
              "ticks": ""
             }
            },
            "type": "parcoords"
           }
          ],
          "pie": [
           {
            "automargin": true,
            "type": "pie"
           }
          ],
          "scatter": [
           {
            "fillpattern": {
             "fillmode": "overlay",
             "size": 10,
             "solidity": 0.2
            },
            "type": "scatter"
           }
          ],
          "scatter3d": [
           {
            "line": {
             "colorbar": {
              "outlinewidth": 0,
              "ticks": ""
             }
            },
            "marker": {
             "colorbar": {
              "outlinewidth": 0,
              "ticks": ""
             }
            },
            "type": "scatter3d"
           }
          ],
          "scattercarpet": [
           {
            "marker": {
             "colorbar": {
              "outlinewidth": 0,
              "ticks": ""
             }
            },
            "type": "scattercarpet"
           }
          ],
          "scattergeo": [
           {
            "marker": {
             "colorbar": {
              "outlinewidth": 0,
              "ticks": ""
             }
            },
            "type": "scattergeo"
           }
          ],
          "scattergl": [
           {
            "marker": {
             "colorbar": {
              "outlinewidth": 0,
              "ticks": ""
             }
            },
            "type": "scattergl"
           }
          ],
          "scattermapbox": [
           {
            "marker": {
             "colorbar": {
              "outlinewidth": 0,
              "ticks": ""
             }
            },
            "type": "scattermapbox"
           }
          ],
          "scatterpolar": [
           {
            "marker": {
             "colorbar": {
              "outlinewidth": 0,
              "ticks": ""
             }
            },
            "type": "scatterpolar"
           }
          ],
          "scatterpolargl": [
           {
            "marker": {
             "colorbar": {
              "outlinewidth": 0,
              "ticks": ""
             }
            },
            "type": "scatterpolargl"
           }
          ],
          "scatterternary": [
           {
            "marker": {
             "colorbar": {
              "outlinewidth": 0,
              "ticks": ""
             }
            },
            "type": "scatterternary"
           }
          ],
          "surface": [
           {
            "colorbar": {
             "outlinewidth": 0,
             "ticks": ""
            },
            "colorscale": [
             [
              0,
              "#0d0887"
             ],
             [
              0.1111111111111111,
              "#46039f"
             ],
             [
              0.2222222222222222,
              "#7201a8"
             ],
             [
              0.3333333333333333,
              "#9c179e"
             ],
             [
              0.4444444444444444,
              "#bd3786"
             ],
             [
              0.5555555555555556,
              "#d8576b"
             ],
             [
              0.6666666666666666,
              "#ed7953"
             ],
             [
              0.7777777777777778,
              "#fb9f3a"
             ],
             [
              0.8888888888888888,
              "#fdca26"
             ],
             [
              1,
              "#f0f921"
             ]
            ],
            "type": "surface"
           }
          ],
          "table": [
           {
            "cells": {
             "fill": {
              "color": "#EBF0F8"
             },
             "line": {
              "color": "white"
             }
            },
            "header": {
             "fill": {
              "color": "#C8D4E3"
             },
             "line": {
              "color": "white"
             }
            },
            "type": "table"
           }
          ]
         },
         "layout": {
          "annotationdefaults": {
           "arrowcolor": "#2a3f5f",
           "arrowhead": 0,
           "arrowwidth": 1
          },
          "autotypenumbers": "strict",
          "coloraxis": {
           "colorbar": {
            "outlinewidth": 0,
            "ticks": ""
           }
          },
          "colorscale": {
           "diverging": [
            [
             0,
             "#8e0152"
            ],
            [
             0.1,
             "#c51b7d"
            ],
            [
             0.2,
             "#de77ae"
            ],
            [
             0.3,
             "#f1b6da"
            ],
            [
             0.4,
             "#fde0ef"
            ],
            [
             0.5,
             "#f7f7f7"
            ],
            [
             0.6,
             "#e6f5d0"
            ],
            [
             0.7,
             "#b8e186"
            ],
            [
             0.8,
             "#7fbc41"
            ],
            [
             0.9,
             "#4d9221"
            ],
            [
             1,
             "#276419"
            ]
           ],
           "sequential": [
            [
             0,
             "#0d0887"
            ],
            [
             0.1111111111111111,
             "#46039f"
            ],
            [
             0.2222222222222222,
             "#7201a8"
            ],
            [
             0.3333333333333333,
             "#9c179e"
            ],
            [
             0.4444444444444444,
             "#bd3786"
            ],
            [
             0.5555555555555556,
             "#d8576b"
            ],
            [
             0.6666666666666666,
             "#ed7953"
            ],
            [
             0.7777777777777778,
             "#fb9f3a"
            ],
            [
             0.8888888888888888,
             "#fdca26"
            ],
            [
             1,
             "#f0f921"
            ]
           ],
           "sequentialminus": [
            [
             0,
             "#0d0887"
            ],
            [
             0.1111111111111111,
             "#46039f"
            ],
            [
             0.2222222222222222,
             "#7201a8"
            ],
            [
             0.3333333333333333,
             "#9c179e"
            ],
            [
             0.4444444444444444,
             "#bd3786"
            ],
            [
             0.5555555555555556,
             "#d8576b"
            ],
            [
             0.6666666666666666,
             "#ed7953"
            ],
            [
             0.7777777777777778,
             "#fb9f3a"
            ],
            [
             0.8888888888888888,
             "#fdca26"
            ],
            [
             1,
             "#f0f921"
            ]
           ]
          },
          "colorway": [
           "#636efa",
           "#EF553B",
           "#00cc96",
           "#ab63fa",
           "#FFA15A",
           "#19d3f3",
           "#FF6692",
           "#B6E880",
           "#FF97FF",
           "#FECB52"
          ],
          "font": {
           "color": "#2a3f5f"
          },
          "geo": {
           "bgcolor": "white",
           "lakecolor": "white",
           "landcolor": "#E5ECF6",
           "showlakes": true,
           "showland": true,
           "subunitcolor": "white"
          },
          "hoverlabel": {
           "align": "left"
          },
          "hovermode": "closest",
          "mapbox": {
           "style": "light"
          },
          "paper_bgcolor": "white",
          "plot_bgcolor": "#E5ECF6",
          "polar": {
           "angularaxis": {
            "gridcolor": "white",
            "linecolor": "white",
            "ticks": ""
           },
           "bgcolor": "#E5ECF6",
           "radialaxis": {
            "gridcolor": "white",
            "linecolor": "white",
            "ticks": ""
           }
          },
          "scene": {
           "xaxis": {
            "backgroundcolor": "#E5ECF6",
            "gridcolor": "white",
            "gridwidth": 2,
            "linecolor": "white",
            "showbackground": true,
            "ticks": "",
            "zerolinecolor": "white"
           },
           "yaxis": {
            "backgroundcolor": "#E5ECF6",
            "gridcolor": "white",
            "gridwidth": 2,
            "linecolor": "white",
            "showbackground": true,
            "ticks": "",
            "zerolinecolor": "white"
           },
           "zaxis": {
            "backgroundcolor": "#E5ECF6",
            "gridcolor": "white",
            "gridwidth": 2,
            "linecolor": "white",
            "showbackground": true,
            "ticks": "",
            "zerolinecolor": "white"
           }
          },
          "shapedefaults": {
           "line": {
            "color": "#2a3f5f"
           }
          },
          "ternary": {
           "aaxis": {
            "gridcolor": "white",
            "linecolor": "white",
            "ticks": ""
           },
           "baxis": {
            "gridcolor": "white",
            "linecolor": "white",
            "ticks": ""
           },
           "bgcolor": "#E5ECF6",
           "caxis": {
            "gridcolor": "white",
            "linecolor": "white",
            "ticks": ""
           }
          },
          "title": {
           "x": 0.05
          },
          "xaxis": {
           "automargin": true,
           "gridcolor": "white",
           "linecolor": "white",
           "ticks": "",
           "title": {
            "standoff": 15
           },
           "zerolinecolor": "white",
           "zerolinewidth": 2
          },
          "yaxis": {
           "automargin": true,
           "gridcolor": "white",
           "linecolor": "white",
           "ticks": "",
           "title": {
            "standoff": 15
           },
           "zerolinecolor": "white",
           "zerolinewidth": 2
          }
         }
        },
        "title": {
         "text": "Estimation window is: 40 years"
        }
       }
      }
     },
     "metadata": {},
     "output_type": "display_data"
    },
    {
     "data": {
      "application/vnd.plotly.v1+json": {
       "config": {
        "plotlyServerURL": "https://plot.ly"
       },
       "data": [
        {
         "boxmean": "sd",
         "name": "True",
         "type": "box",
         "y": [
          0.7227820459333631,
          0.4363457940546255,
          0.5688337593858985,
          0.2542517184390668,
          0.3363343918864878,
          0.6801864750798449,
          0.333581503181544,
          0.6411987261582615,
          0.654810031228462,
          0.5585307937976203,
          0.571177886718978,
          0.6288790503245039,
          0.9491746988747438,
          0.7710227107988631,
          0.7427439027845159,
          0.6923844266194956,
          0.6565977743970269,
          0.6862849412524007,
          0.7323259666980689,
          0.5970501001210807,
          0.5847505215738096,
          0.4663033166889584,
          0.3127993564795562,
          0.8245163654112723,
          0.535634488702384,
          0.5926019742426175,
          0.5070879498209049,
          0.6014182124984184,
          0.69977372616279,
          0.5827624707114558,
          0.6095455122702778,
          0.5674518730780024,
          0.367430546970499,
          0.3803883918949709,
          0.4272523816903608,
          0.589565932200944,
          0.6222752819150388,
          0.8004828514441827,
          0.3268023108387208,
          0.48489756424817,
          0.6850067690645899,
          0.8228805242267352,
          0.3538189628103808,
          0.417742299318646,
          0.6611467820211422,
          0.3978360544615609,
          0.5098740267902737,
          0.5699742952093458,
          0.4414578859909563,
          0.4806825290237101,
          0.6619054397477188,
          0.7906901927600151,
          0.6889719873711437,
          0.4894488215524682,
          0.6208935033398728,
          0.6433335039170567,
          0.423119828904454,
          0.6715926305630745,
          1.2402074016336295,
          0.6695473850864662,
          0.7335589025074106,
          0.6961285700517411,
          0.5241686136175646,
          0.3285397334153808,
          0.3912434846170893,
          0.7467114654591939,
          0.4877505430893106,
          0.5260818415541385,
          0.4221032858356912,
          0.6112798221266718,
          0.4604225174566784,
          0.3744686045450823,
          0.7287774126268937,
          0.8340709435938815,
          0.4084877838523706,
          0.5465889936357092,
          0.5828471268881583,
          0.7169561579309394,
          0.2239668353358223,
          0.6482513848692921,
          0.275635881466989,
          0.5340469879591688,
          0.7322254269328905,
          0.473008547513055,
          0.6206675420171243,
          0.5887073168199735,
          0.5175394627645206,
          0.6802196672434353,
          0.4846484045519607,
          0.4059968248293129,
          0.7533854019067616,
          0.4340562765492773,
          0.3885741083967473,
          0.4180438507145841,
          0.7402143578206347,
          0.6157509674857118,
          0.4569766271649428,
          0.3763873075840944,
          0.3044072909324544,
          0.5492782373404015,
          0.4163212919497949,
          0.5325590140064113,
          0.5389429692772474,
          0.8331514290120572,
          0.7052314474782171,
          0.4349023453976997,
          0.439546337946007,
          0.5074905255986516,
          0.4459669668707403,
          0.6135867855280485,
          0.3683734292574454,
          0.6103006678805099,
          0.4436019184895723,
          0.3483409753107587,
          0.4202624482610128,
          0.2050464313513982,
          0.5939074233061198,
          0.2396683235475353,
          0.8319446700038434,
          0.4509034864849291,
          0.237186817857618,
          0.5889655136501136,
          0.7142035305388286,
          0.8636642179935831,
          0.4318336539379968,
          0.2626749784089491,
          0.7395130574044555,
          0.7302678711400462,
          0.5098934812560979,
          1.0843448416728445,
          0.8735834520109935,
          0.4284990730239033,
          0.3149153184561735,
          0.5567049826554713,
          0.5502769768556949,
          0.4859154671109655,
          0.4274577156430882,
          0.6221219968509669,
          0.7030026785539408,
          0.477361359530922,
          0.5742146027746281,
          0.4689581819954657,
          0.4530520919159386,
          0.2783991138865891,
          0.51090148191743,
          0.4866876694395126,
          0.5989498718548318,
          0.3713924081025608,
          0.2966713573006857,
          0.3852982101274316,
          0.350707698276543,
          0.5792698660773361,
          1.0008917853221757,
          0.7503143504128521,
          0.877899380637858,
          0.4361439298564938,
          0.5785709522157187,
          0.50455268982794,
          0.8675913980263542,
          0.4646884486007834,
          0.5247169446526323,
          0.677208599907034,
          0.4713631452443829,
          0.816722228563806,
          0.5154537322233124,
          0.5782662543174757,
          0.5552955076570489,
          0.4411413737088025,
          0.4523695824350102,
          0.5876870344507664,
          0.4747427410394083,
          0.5220869962973772,
          0.7809044975393624,
          0.7145569541346688,
          0.4478208300564827,
          0.7771309446077211,
          0.5691647266794467,
          0.68516432598765,
          0.5576087297539707,
          0.6247731293754744,
          0.2879710552699805,
          0.7296197420146838,
          0.3149614893187391,
          0.5556895412239521,
          0.2235093691850341,
          0.3635878837768147,
          0.613428452307827,
          0.7622319133843064,
          0.8763070615591491,
          0.4853979608275146,
          0.6416101278885573,
          0.6200902185226901,
          0.4915259723778325,
          0.232805627779909,
          0.2768858763444169,
          0.312223423302793,
          0.4912572117323059,
          0.7209750720198556,
          0.4753885554430592,
          0.6389278604120077,
          0.5318977910141207,
          0.9300144574461362,
          0.8456163454254785,
          0.3740075445958098,
          0.1900677616671778,
          0.6071414315010502,
          0.7259223556143525,
          0.5703513242861449,
          0.5690713661284725,
          0.6376108312956482,
          0.7175135858157653,
          0.5643049935746223,
          0.3893493838858135,
          0.5602453041168199,
          0.6968637743771227,
          0.6950457522065849,
          0.9343382615564552,
          0.3964487320122949,
          0.6303578706857992,
          0.5119914284502584,
          0.347753700783014,
          0.2873748995443547,
          0.3031780828853692,
          0.6515901666511075,
          0.4963587540767833,
          0.7628717392601971,
          0.3612323450866015,
          0.5246545521072676,
          0.7032843809404299,
          0.4411308324882371,
          0.7400563048017156,
          0.502790990016512,
          0.573878316292865,
          0.553091273340621,
          0.628710258358439,
          0.6796135416440784,
          0.663335198885382,
          0.6096297685535803,
          0.5322953479945437,
          0.7330152888284891,
          0.5387324064984685,
          0.7023724770474858,
          0.560390519612736,
          0.5329398213262718,
          0.8080199267704574,
          0.6726986793178484,
          0.5729110185618387,
          0.5391858930207292,
          0.5491730868895826,
          0.6853904277692026
         ]
        },
        {
         "boxmean": "sd",
         "name": "Est-All",
         "type": "box",
         "y": [
          0.5905810258509396,
          0.2898607957251625,
          0.3803477048503264,
          0.1324116718081565,
          0.2145160361828471,
          0.5982939339887937,
          0.2538802638036152,
          0.5551376560133306,
          0.5385613254688199,
          0.5917956224433051,
          0.4381115515201507,
          0.507093621393215,
          0.8484884364996759,
          0.6598733687213467,
          0.7815504767960425,
          0.6739297459856771,
          0.4906220143486866,
          0.5845228476074862,
          0.6511884218900076,
          0.5171597808170114,
          0.4855999068352029,
          0.4324030742667378,
          0.0915901795698779,
          0.6354410574098831,
          0.3786428380165543,
          0.5650332056890268,
          0.3849610220420486,
          0.5225693543009251,
          0.5980529664701876,
          0.5274790094907679,
          0.5514842244943855,
          0.4974019337833579,
          0.2662999381727888,
          0.3103168979291421,
          0.3478458294237633,
          0.4912367644095899,
          0.6113981084216453,
          0.6166779651953433,
          0.1108005370621191,
          0.459668593843995,
          0.6360777453944869,
          0.6822667850822227,
          0.309565493322536,
          0.2572071005035503,
          0.6520034734802429,
          0.5280121730707699,
          0.3957815506060041,
          0.446811257632014,
          0.299199780155973,
          0.4124349434630994,
          0.5747165648240337,
          0.7476946484278996,
          0.5483240118952666,
          0.3824316900600377,
          0.536800823985713,
          0.5412473251084177,
          0.3918725733388682,
          0.5303302766440348,
          0.9869466063275384,
          0.5786106519589607,
          0.6664762494873295,
          0.5766090607160163,
          0.3624981968325138,
          0.2260488180561461,
          0.3659312144498359,
          0.629051462826136,
          0.4239816200324187,
          0.4815811886945044,
          0.2919660071173183,
          0.4894853267641191,
          0.5837798256660527,
          0.3153465942409422,
          0.6740802063542591,
          0.7336456386814855,
          0.2856408953167417,
          0.4961010092725506,
          0.494634616636628,
          0.6660034049550452,
          0.3861042743666242,
          0.4486312803099097,
          0.1875292672823892,
          0.4567913476929343,
          0.6696251754994322,
          0.4015294029338582,
          0.556440777539193,
          0.5096184943105593,
          0.4148188896664705,
          0.5826976800554059,
          0.4707998912895053,
          0.4230294039941668,
          0.6992082655633686,
          0.3425171423184085,
          0.2822150138842372,
          0.4283880381311949,
          0.6781209199605847,
          0.7693588690340538,
          0.4058790399052194,
          0.3268298037586227,
          0.338413587076972,
          0.3768129951282022,
          0.3007450932190958,
          0.4870706159332569,
          0.3966298512083828,
          0.7436490248504031,
          0.7161796512417095,
          0.2596017838839923,
          0.5449246603818853,
          0.4272032905689847,
          0.4090664440531927,
          0.3490445985361524,
          0.418831827701677,
          0.565040820501944,
          0.3580005456750542,
          0.2577701807567706,
          0.2725837721621206,
          0.0784438473173015,
          0.5282458772440786,
          0.1612795689578632,
          0.7439752054627913,
          0.3632887539686643,
          0.2053968010925372,
          0.5102817747311447,
          0.6479625526331781,
          0.8364329881363297,
          0.2477689942040334,
          0.1156089903520121,
          0.658480036468274,
          0.6608995836203142,
          0.3764088432148282,
          1.0624424084424784,
          0.7900872845862102,
          0.3457555393480958,
          0.2052546438610866,
          0.6504887690542304,
          0.4532673113498065,
          0.4609389015172933,
          0.3083313992642831,
          0.6188106606971437,
          0.6153280958697681,
          0.3353206852025439,
          0.380185691935981,
          0.354884250043272,
          0.3471270521888882,
          0.1303429626288936,
          0.441835767911226,
          0.4193708134003055,
          0.4530548381938111,
          0.3344370323786075,
          0.1708253481495761,
          0.1621370911284103,
          0.2299588690264876,
          0.4233257603489274,
          0.9769609972379252,
          0.5413532482343475,
          0.6597113391079164,
          0.350868102972011,
          0.5119073936283386,
          0.3585936608090108,
          0.8349715504786274,
          0.3131211040981863,
          0.43582389325566,
          0.5267134377837579,
          0.3545891999532117,
          0.6143197656603497,
          0.5616564846403659,
          0.4985483321406548,
          0.5134289995623419,
          0.4112922016377417,
          0.3379217841991538,
          0.5209960423126818,
          0.4126104942195107,
          0.3922049761664065,
          0.759275863408745,
          0.6212318080494806,
          0.3147934211691441,
          0.5732839024546112,
          0.5113623176994905,
          0.6204854424686866,
          0.4745272626152813,
          0.5194609478077284,
          0.2587408829037236,
          0.6248658965724556,
          0.2487924646560564,
          0.4508488285225037,
          0.1865366894739646,
          0.271965677500081,
          0.5725686031626892,
          0.6375956605067296,
          0.6964630294508344,
          0.4073868385739546,
          0.4812114693483164,
          0.551112875444277,
          0.413457122938726,
          0.0638851918544167,
          0.2422794627883484,
          0.3139907691093012,
          0.3980781756802772,
          0.6194378991190844,
          0.4418164577986612,
          0.5504321062980743,
          0.4676198137365515,
          0.880765491052343,
          0.7777884947568411,
          0.3085970005683107,
          0.1277461218851537,
          0.7973215808427632,
          0.5950205207423459,
          0.4629161716078726,
          0.5030524172298021,
          0.5153061997492315,
          0.6768182715491945,
          0.545614447505522,
          0.3224849666367983,
          0.4554316605773151,
          0.6009386445957525,
          0.5796969520543391,
          0.7582555144404782,
          0.3265797861603313,
          0.5492242088698875,
          0.3501094709340693,
          0.236127760594741,
          0.2142424059700931,
          0.1653274941615227,
          0.5776329419234965,
          0.406636139007401,
          0.5995171771639607,
          0.3768334305471001,
          0.3953474993508815,
          0.6353530597556778,
          0.3628803185091861,
          0.734974079811252,
          0.5388945817648547,
          0.517924450280939,
          0.4570077032590341,
          0.5665900251439974,
          0.5480970422082141,
          0.5797375172439053,
          0.5369735992109841,
          0.3826607329387561,
          0.654525839227055,
          0.5329357616131644,
          0.6138667703514951,
          0.4659015470885685,
          0.4429703362837665,
          0.7715966023088994,
          0.6435366732557469,
          0.4607683142102435,
          0.5036283112005893,
          0.5489019179684227,
          0.6590969334153121
         ]
        },
        {
         "boxmean": "sd",
         "name": "Est-SD-Corr",
         "type": "box",
         "y": [
          0.1805531070113055,
          0.1412550646017755,
          0.1719169916255682,
          0.0640625973559501,
          0.043271115693448,
          0.1016373145083206,
          0.0761814634422642,
          0.0886084277104122,
          0.2690197681277567,
          0.4013779712154988,
          0.0795309233280028,
          0.1119629009355542,
          -0.0203588519937781,
          0.0277218375252474,
          0.0751779867684176,
          0.242051555271687,
          0.1609652118982505,
          -0.00007834872686530357,
          0.154849438756301,
          0.1778465955649581,
          0.1972524496792115,
          -0.103788953787368,
          -0.0021595037859156,
          0.2331043206229415,
          0.1213725180065042,
          0.40563109025928,
          0.3974847143969295,
          -0.0611903804265494,
          0.240875419226065,
          -0.0640463951009318,
          0.2471786115410649,
          0.2929332773925072,
          -0.1003333681966788,
          0.1532253033513273,
          0.0804795521671373,
          0.2902675411149684,
          0.0795477202904373,
          0.3165031546012436,
          0.0505074427827137,
          0.2363303284745946,
          0.4049425693724799,
          0.3361869174149441,
          0.0448345977817875,
          -0.1638114165855749,
          0.050655251209529,
          0.6548728504576802,
          -0.0037973819955252,
          -0.0199098881398776,
          0.0827196923268059,
          0.2255835830693482,
          0.2765360185075168,
          0.0449950248961473,
          0.3350667706341672,
          0.0926155567732364,
          0.2145156056916345,
          0.1806269958690907,
          0.1032442303373361,
          -0.1320573670827401,
          0.456490818723122,
          0.1194839428482947,
          0.2284128314349048,
          0.0171555825327244,
          0.3823034537946488,
          0.0714535230038199,
          -0.0359874998490297,
          0.3379020558906737,
          0.2509043797550839,
          0.2905159971968276,
          0.1147409469629662,
          0.1152310760104687,
          -0.0716109761145041,
          0.2812879743094198,
          0.2781281612733704,
          0.6449737195316073,
          0.2437888143312587,
          0.1769646125725002,
          0.264684726787286,
          0.3641432010931886,
          -0.0876734412182542,
          0.0811436393928757,
          0.2332110266847286,
          0.3750379789074926,
          0.4611832167242846,
          0.1598670527752022,
          0.4039738352146661,
          0.2877120395960349,
          0.1090469571547726,
          0.3269629508510288,
          0.2329602059520271,
          0.4518719955457851,
          0.2902518929092068,
          0.1183784473683982,
          0.420565867914094,
          0.2645643955303297,
          0.4026533471598892,
          0.2359596512581479,
          0.2698883498112389,
          0.1773804899574005,
          0.0052544766880132,
          0.2015728926102286,
          0.4650567339381674,
          0.1447262126932017,
          0.1453132404962936,
          0.4036132482491291,
          0.3557927068201188,
          0.0730919908458975,
          0.3045976386969458,
          0.3450062229733687,
          0.1594420931127115,
          0.1972853432773474,
          0.3263795311470208,
          0.4158881997721432,
          0.2016500019187827,
          0.1003740212710595,
          0.1589291840457452,
          0.1696702232600706,
          0.085409923016921,
          -0.0029635537083556,
          0.456886556775838,
          0.1686508845693857,
          0.1059042352627127,
          -0.0344554973170167,
          0.3504790741623308,
          0.4530593051933608,
          0.0590540929766933,
          -0.0158466760817778,
          0.2843577994963918,
          0.0741029987747932,
          0.3994364094966822,
          0.3248341156397885,
          0.1133736929091569,
          0.062466910670454,
          0.2784049585494336,
          0.3711087547798429,
          0.0028436606976172,
          0.1705481639899688,
          0.2054339735951718,
          0.3202610235442071,
          0.189049563251644,
          0.0114883622160826,
          0.2430604721812052,
          0.1227631870136179,
          0.0935852566371224,
          -0.0267459136913997,
          0.0777112544933177,
          -0.1868956001652007,
          0.2830651954518636,
          0.2778979082186296,
          0.0886256595596926,
          0.1457790378213976,
          0.0099966724314411,
          0.1528540166280953,
          0.3842548540788691,
          0.1298286301893424,
          0.4321381224552356,
          0.0764366562701742,
          0.3505049878006038,
          0.0610326936290004,
          0.4566701637291133,
          0.0886654066797089,
          0.2678373392718361,
          0.0551468703313536,
          0.2609251819504763,
          -0.0332719089317278,
          -0.0062662193193344,
          0.1390398457988292,
          0.0289612720023462,
          -0.0473064997758703,
          0.1643091022774694,
          0.1812535715343118,
          0.0507304663982602,
          0.1651261928722957,
          0.5805361676942679,
          0.3938653367363583,
          0.1024532198286494,
          0.1525630989137552,
          0.3661394712508014,
          0.2158063736706595,
          0.1812046550953285,
          0.0299713161833274,
          -0.0694958265768909,
          0.2516089882434499,
          0.166989462344628,
          0.2225504858794043,
          -0.0253824199934511,
          0.2588296438122226,
          0.1940118397565042,
          0.3537319387704698,
          0.5149150832096789,
          0.0293229025093558,
          0.1205381239435008,
          -0.0253563788950419,
          -0.0027945142493101,
          -0.0207313653809992,
          0.3643902550407929,
          -0.0804123021674538,
          0.2214370418009089,
          0.165204307061295,
          0.1368646898679879,
          0.179988073870985,
          0.1959645214684808,
          0.4133919025516234,
          0.4755784312929072,
          -0.1039057077173487,
          0.1377804003844738,
          0.2136062302413213,
          0.3709739720609978,
          -0.0026252857734656,
          0.1255516055888251,
          -0.046120211921153,
          0.3250841878146157,
          0.1464812690072636,
          0.1945429407976923,
          0.2184245943924803,
          0.1254763926952118,
          -0.0277522278546528,
          0.0273355149975322,
          0.1171530980566282,
          -0.0739793687687893,
          0.0740981258917173,
          0.0113906098901636,
          0.1973445226221269,
          0.0176955013088157,
          0.3701402949498714,
          0.2432303584540554,
          0.1451879824632605,
          0.0106981540017627,
          0.3319331344764847,
          0.3111396452546633,
          0.1525644641628572,
          0.0299910812637788,
          0.2223666156162208,
          0.326867983098872,
          0.1699113343531379,
          0.2701966051094944,
          0.3432101932122527,
          0.3027286906285315,
          0.0285600838236245,
          0.2962148704415248,
          0.3084704173027502,
          0.2209953693497782,
          0.2102134995311762,
          0.0705694592032353,
          0.3297685630340618,
          0.5740720919850698,
          0.2150535231749073,
          -0.0105238555462424,
          -0.0230504273850222,
          0.2117411604887288,
          0.2125032188503244
         ]
        },
        {
         "boxmean": "sd",
         "name": "Est-SD",
         "type": "box",
         "y": [
          0.3976583633121267,
          0.2809210328038234,
          0.4102133496142742,
          0.1551549637894028,
          0.2139792467529306,
          0.3798689503962542,
          0.1858957073761617,
          0.2631528614995931,
          0.4373603057085405,
          0.5337756554609561,
          0.3653376557128168,
          0.4367121068855899,
          0.3851433230088457,
          0.3298190032370208,
          0.3093786221832468,
          0.4247474774026531,
          0.3334506194216875,
          0.3474197555615292,
          0.4526567200477106,
          0.4566286405556772,
          0.420562077316048,
          0.1036420492762117,
          0.1034812843751332,
          0.4991329757042371,
          0.377424150820779,
          0.5316526053174216,
          0.5118704394325979,
          0.2560989880355512,
          0.3767108726705831,
          0.2155943978959027,
          0.3559450492932443,
          0.4663929342710939,
          0.0658582141791742,
          0.3093821032845533,
          0.2354588027424741,
          0.4760372640717812,
          0.2628472259997327,
          0.5728626193561338,
          0.1987891714121535,
          0.3698157288150545,
          0.5599935446480445,
          0.5453576664724831,
          0.1294675446749077,
          -0.0244153682695718,
          0.34911158829748,
          0.6884068719413718,
          0.2400824536636603,
          0.198970882758483,
          0.2873146473903279,
          0.3556249068160833,
          0.4821585202618341,
          0.4671764667969169,
          0.5834197099595283,
          0.3981121633535808,
          0.40343698980379,
          0.3971196145478273,
          0.3081272648194783,
          0.3418021245615558,
          0.8116203078519938,
          0.3824027161313804,
          0.4316971118197981,
          0.3851456451931749,
          0.4882837607868082,
          0.2164337829956835,
          0.1338259371590481,
          0.5820122909531306,
          0.4363227664603807,
          0.4256601180407158,
          0.1835735330491782,
          0.3425616368900863,
          0.1063324575085645,
          0.4028985101236874,
          0.5655837964253314,
          0.7352723943231615,
          0.3708743522224836,
          0.330171235730584,
          0.4481199845143512,
          0.6400969505178884,
          0.0201317650527618,
          0.4413279936204206,
          0.3543709268475028,
          0.469400409512459,
          0.6677755622821372,
          0.3465719566921748,
          0.5123147374501825,
          0.4689092360948754,
          0.2796903343971418,
          0.6441880348286241,
          0.4662010668805815,
          0.5063552009462827,
          0.5743759990980232,
          0.2606797028995917,
          0.531928912210691,
          0.3556591156850361,
          0.560716111040876,
          0.4199094252845723,
          0.3778131197779523,
          0.2820459442146573,
          0.1230122016524369,
          0.4310609171124154,
          0.526873331208284,
          0.4022934089843158,
          0.3226177396484029,
          0.6038304449033773,
          0.5182056121189639,
          0.1883142240285318,
          0.339598345212052,
          0.4699719692570931,
          0.3182581860197656,
          0.341213181523001,
          0.332402591474531,
          0.5935758950511221,
          0.3091491864989217,
          0.2357363419201075,
          0.2632857459832932,
          0.2063880273256559,
          0.3541105667939847,
          0.0830673216732452,
          0.5824630280846463,
          0.4029490374994452,
          0.1195808568771146,
          0.2769976765491812,
          0.5478592879403791,
          0.6974846658957655,
          0.2443724358127297,
          0.1555604961822648,
          0.4674002782404892,
          0.3871156447525014,
          0.522295773270469,
          0.6959535703026747,
          0.4315174072816314,
          0.2182400247114386,
          0.3863706264649216,
          0.4873227807092367,
          0.32108803004528,
          0.3932748906500555,
          0.2919978756044284,
          0.4775290056373159,
          0.4626346045201288,
          0.2899100887790003,
          0.3663490846029244,
          0.3568645793221894,
          0.3354641867952756,
          0.155492836034584,
          0.2933038630480141,
          0.0470627426907276,
          0.4437924328225881,
          0.3626606651503612,
          0.1789646600096659,
          0.2340560732357116,
          0.1353185083187044,
          0.2640335450215056,
          0.8278010612658485,
          0.4066806290256701,
          0.5628027640432341,
          0.3202706836607337,
          0.5491212149043224,
          0.2358423987652644,
          0.7420109544078892,
          0.2856029360575952,
          0.446545146122916,
          0.3658672658896038,
          0.3576622320054298,
          0.3656647062776098,
          0.1816132325434939,
          0.4230049589625668,
          0.2471332573048438,
          0.1417246614862157,
          0.2916678439286472,
          0.3538964822172025,
          0.3490219767297826,
          0.332890572626178,
          0.7434603150098237,
          0.4996936635868556,
          0.2632337258285054,
          0.3959171485344686,
          0.472721426345191,
          0.4353460621362989,
          0.3713646342038605,
          0.3218798392284043,
          0.1015225214127915,
          0.4945251614645905,
          0.1986943687004799,
          0.4576007202147868,
          0.0796854582981797,
          0.3307633683678282,
          0.3932931265429039,
          0.546734471182055,
          0.6166923693575214,
          0.1538271322671003,
          0.4604455433832713,
          0.4361385018204233,
          0.1922993768992438,
          0.0304429040322872,
          0.3811051788470168,
          0.0874590896426266,
          0.4073294334055914,
          0.424695591635273,
          0.281923528468101,
          0.469441141196401,
          0.4124319230977618,
          0.6974645013347592,
          0.7341883585914004,
          0.0598696148979773,
          0.1602336304297402,
          0.2937275490366726,
          0.5382240663008321,
          0.2252597389372961,
          0.3568226177052476,
          0.2596419118377466,
          0.5649863647149329,
          0.2751872715188734,
          0.3032409019659827,
          0.4042243699476334,
          0.3968916234805077,
          0.2819421935582952,
          0.4100381340047568,
          0.2370704622287182,
          0.2016166971952261,
          0.3699874437158821,
          0.16968848932747,
          0.2716416619801225,
          0.1020234976756465,
          0.4692913126279323,
          0.4351814523047403,
          0.478832055333717,
          0.224259034033388,
          0.4178012899499532,
          0.5418860765036819,
          0.2621309151999033,
          0.324979418733006,
          0.4507629195589105,
          0.4810990657269214,
          0.4543182090035031,
          0.4857965364407073,
          0.5527008053731167,
          0.4984876014671324,
          0.3189232905643804,
          0.4129653865041285,
          0.4993760178671341,
          0.4112729940917377,
          0.555057419613599,
          0.3182000167304674,
          0.4340621650837828,
          0.7229906203734571,
          0.4490531794979358,
          0.2369251958954476,
          0.2291988733481196,
          0.4281367120134494,
          0.4800210023486683
         ]
        },
        {
         "boxmean": "sd",
         "name": "Est-None",
         "type": "box",
         "y": [
          0.4425863261236949,
          0.2985067720649983,
          0.4298744824770893,
          0.1716037010521708,
          0.2457025616397746,
          0.422597615443903,
          0.2225368070997349,
          0.3038192359615601,
          0.4734321436145876,
          0.5519546911934244,
          0.4036740308809224,
          0.4843011654158997,
          0.5044221548899049,
          0.3897130094713924,
          0.3659677736133608,
          0.4561942995980768,
          0.3945948409250998,
          0.3842857530105016,
          0.4852201858098198,
          0.4947440195667227,
          0.4509220356784092,
          0.1596696394872591,
          0.1239972061693388,
          0.538641149197372,
          0.416944336362907,
          0.5642046884463646,
          0.5184389728785369,
          0.315003084838138,
          0.4104283963197681,
          0.2831199832416259,
          0.3798162525372402,
          0.4915292699747473,
          0.0890599541086463,
          0.3256303020062562,
          0.2600090861775526,
          0.5103715218246612,
          0.3008251633519761,
          0.6221472517517528,
          0.221185791110257,
          0.3912707864683176,
          0.5990630027435608,
          0.5830213598575086,
          0.1463901284355142,
          0.0179680111537608,
          0.3977315263492653,
          0.671142217634361,
          0.2802012179769678,
          0.2524243072283073,
          0.329940875375199,
          0.3817320599806845,
          0.5196154894713716,
          0.5260379868380103,
          0.6172138218035396,
          0.4501634198869787,
          0.4318723151044538,
          0.4584895160604204,
          0.3431798092477632,
          0.4359346194560429,
          0.8800320252878637,
          0.4280357791376259,
          0.4758619145303115,
          0.457897166031264,
          0.5093993312582661,
          0.2439260062883923,
          0.1809399073973326,
          0.6334664942976851,
          0.4649074120776709,
          0.4577767413980766,
          0.201168665243163,
          0.3843732605034257,
          0.1484733342138015,
          0.3997495147694358,
          0.603657910132557,
          0.7487413795585851,
          0.3906759301290964,
          0.3641645288212767,
          0.4778903276564706,
          0.6911876916140101,
          0.0661592385924881,
          0.4847059585615702,
          0.3502688042862799,
          0.4820938253258803,
          0.7050215277724763,
          0.3704807619086109,
          0.5260440685694893,
          0.4986577684580357,
          0.3066772837279986,
          0.6754188649134079,
          0.4914382094453141,
          0.5105727816586788,
          0.614657578030812,
          0.2910386211994832,
          0.5336235880302734,
          0.3691233684780934,
          0.6000149224480116,
          0.4743030915576708,
          0.3986925340710579,
          0.2977241187457118,
          0.1446745899314434,
          0.4533988285980795,
          0.5154798826261795,
          0.4324695601406507,
          0.3556761118645525,
          0.6496654488632477,
          0.5537647449466678,
          0.2122286377863991,
          0.3622989545802003,
          0.4851379528119576,
          0.3405879564668111,
          0.3837939208649614,
          0.3351306951234122,
          0.6186793182226581,
          0.3310925333513756,
          0.2441875149499309,
          0.2899690233662538,
          0.2128300864311295,
          0.3837612970433543,
          0.1058635851943994,
          0.6492987260989778,
          0.4344195898613786,
          0.123563286784824,
          0.3235927262791723,
          0.5927227743295125,
          0.7649208745374128,
          0.2733794697191923,
          0.1906015413414343,
          0.5135573120986642,
          0.435749013582999,
          0.5316793277295204,
          0.7612576539260182,
          0.4833970600897913,
          0.2540746220321431,
          0.4024171842009016,
          0.4861244725796806,
          0.353226334787892,
          0.4221935108112047,
          0.3190408297453657,
          0.50382132154995,
          0.5270152965469145,
          0.3294110985801134,
          0.3969101218664664,
          0.3898502502220153,
          0.3758743673999515,
          0.1819571108718856,
          0.3289253140172211,
          0.1098714507283123,
          0.4731476612476096,
          0.3746870797651522,
          0.195127156225381,
          0.2532630700253306,
          0.1659139080287392,
          0.3033639473196454,
          0.8708712765414878,
          0.4517013077042127,
          0.5861113467843931,
          0.3569051157481444,
          0.5828247298467433,
          0.2649407493905313,
          0.7994983966989699,
          0.331102158736584,
          0.4889155923992259,
          0.4413806879898261,
          0.3761169398447614,
          0.4412257993789817,
          0.2385700068297084,
          0.4692841323633976,
          0.2819817856919355,
          0.1792746650680143,
          0.3112559100533164,
          0.3913158606471682,
          0.3773200421785285,
          0.3781744931281018,
          0.7710805194389321,
          0.5230922353295474,
          0.2861898238813841,
          0.4375995510865962,
          0.4768625403180841,
          0.4765218769709642,
          0.4242011014326955,
          0.372800127077308,
          0.1226113172856418,
          0.5438606298579792,
          0.2065024261893762,
          0.4850944607174077,
          0.0991063453625851,
          0.3432796840141864,
          0.4319002532088224,
          0.600794982763274,
          0.632430697554941,
          0.1822138162123944,
          0.4966294220402028,
          0.4965360539223419,
          0.2395811529755229,
          0.0447226181748773,
          0.3709707427103961,
          0.1246529720389507,
          0.4279539065522713,
          0.4721238420196057,
          0.3277034058536905,
          0.5262909597617954,
          0.4479389006518934,
          0.7519726328102785,
          0.7921976070513599,
          0.0903977898346345,
          0.1578741856863094,
          0.3077532969058486,
          0.5611880409196373,
          0.2774639484227317,
          0.4022923468124925,
          0.3289733005084163,
          0.608449161332881,
          0.3132565505874496,
          0.330003250195042,
          0.4442221433233184,
          0.4381033245738435,
          0.356688585510947,
          0.4844238135532018,
          0.2672878520095752,
          0.2679814683285888,
          0.4166117989108105,
          0.1995898710502703,
          0.2799387924320822,
          0.1228104166004185,
          0.4942528438710192,
          0.4645036544317626,
          0.558865725544816,
          0.2573556178139943,
          0.4418590703184743,
          0.5791211307816077,
          0.2792480052250178,
          0.3790447225933167,
          0.4800097598155193,
          0.512802893657844,
          0.4954130776337144,
          0.5217759705088462,
          0.584141479280493,
          0.5363163048172438,
          0.3612549322656956,
          0.4376968080199708,
          0.5548182636349999,
          0.4387130858563189,
          0.6037329898347942,
          0.3579343081605232,
          0.4459857681304253,
          0.7432072028721817,
          0.4889965915802402,
          0.2910584054814123,
          0.2852882308528738,
          0.4559742388195877,
          0.5422520778225206
         ]
        }
       ],
       "layout": {
        "template": {
         "data": {
          "bar": [
           {
            "error_x": {
             "color": "#2a3f5f"
            },
            "error_y": {
             "color": "#2a3f5f"
            },
            "marker": {
             "line": {
              "color": "#E5ECF6",
              "width": 0.5
             },
             "pattern": {
              "fillmode": "overlay",
              "size": 10,
              "solidity": 0.2
             }
            },
            "type": "bar"
           }
          ],
          "barpolar": [
           {
            "marker": {
             "line": {
              "color": "#E5ECF6",
              "width": 0.5
             },
             "pattern": {
              "fillmode": "overlay",
              "size": 10,
              "solidity": 0.2
             }
            },
            "type": "barpolar"
           }
          ],
          "carpet": [
           {
            "aaxis": {
             "endlinecolor": "#2a3f5f",
             "gridcolor": "white",
             "linecolor": "white",
             "minorgridcolor": "white",
             "startlinecolor": "#2a3f5f"
            },
            "baxis": {
             "endlinecolor": "#2a3f5f",
             "gridcolor": "white",
             "linecolor": "white",
             "minorgridcolor": "white",
             "startlinecolor": "#2a3f5f"
            },
            "type": "carpet"
           }
          ],
          "choropleth": [
           {
            "colorbar": {
             "outlinewidth": 0,
             "ticks": ""
            },
            "type": "choropleth"
           }
          ],
          "contour": [
           {
            "colorbar": {
             "outlinewidth": 0,
             "ticks": ""
            },
            "colorscale": [
             [
              0,
              "#0d0887"
             ],
             [
              0.1111111111111111,
              "#46039f"
             ],
             [
              0.2222222222222222,
              "#7201a8"
             ],
             [
              0.3333333333333333,
              "#9c179e"
             ],
             [
              0.4444444444444444,
              "#bd3786"
             ],
             [
              0.5555555555555556,
              "#d8576b"
             ],
             [
              0.6666666666666666,
              "#ed7953"
             ],
             [
              0.7777777777777778,
              "#fb9f3a"
             ],
             [
              0.8888888888888888,
              "#fdca26"
             ],
             [
              1,
              "#f0f921"
             ]
            ],
            "type": "contour"
           }
          ],
          "contourcarpet": [
           {
            "colorbar": {
             "outlinewidth": 0,
             "ticks": ""
            },
            "type": "contourcarpet"
           }
          ],
          "heatmap": [
           {
            "colorbar": {
             "outlinewidth": 0,
             "ticks": ""
            },
            "colorscale": [
             [
              0,
              "#0d0887"
             ],
             [
              0.1111111111111111,
              "#46039f"
             ],
             [
              0.2222222222222222,
              "#7201a8"
             ],
             [
              0.3333333333333333,
              "#9c179e"
             ],
             [
              0.4444444444444444,
              "#bd3786"
             ],
             [
              0.5555555555555556,
              "#d8576b"
             ],
             [
              0.6666666666666666,
              "#ed7953"
             ],
             [
              0.7777777777777778,
              "#fb9f3a"
             ],
             [
              0.8888888888888888,
              "#fdca26"
             ],
             [
              1,
              "#f0f921"
             ]
            ],
            "type": "heatmap"
           }
          ],
          "heatmapgl": [
           {
            "colorbar": {
             "outlinewidth": 0,
             "ticks": ""
            },
            "colorscale": [
             [
              0,
              "#0d0887"
             ],
             [
              0.1111111111111111,
              "#46039f"
             ],
             [
              0.2222222222222222,
              "#7201a8"
             ],
             [
              0.3333333333333333,
              "#9c179e"
             ],
             [
              0.4444444444444444,
              "#bd3786"
             ],
             [
              0.5555555555555556,
              "#d8576b"
             ],
             [
              0.6666666666666666,
              "#ed7953"
             ],
             [
              0.7777777777777778,
              "#fb9f3a"
             ],
             [
              0.8888888888888888,
              "#fdca26"
             ],
             [
              1,
              "#f0f921"
             ]
            ],
            "type": "heatmapgl"
           }
          ],
          "histogram": [
           {
            "marker": {
             "pattern": {
              "fillmode": "overlay",
              "size": 10,
              "solidity": 0.2
             }
            },
            "type": "histogram"
           }
          ],
          "histogram2d": [
           {
            "colorbar": {
             "outlinewidth": 0,
             "ticks": ""
            },
            "colorscale": [
             [
              0,
              "#0d0887"
             ],
             [
              0.1111111111111111,
              "#46039f"
             ],
             [
              0.2222222222222222,
              "#7201a8"
             ],
             [
              0.3333333333333333,
              "#9c179e"
             ],
             [
              0.4444444444444444,
              "#bd3786"
             ],
             [
              0.5555555555555556,
              "#d8576b"
             ],
             [
              0.6666666666666666,
              "#ed7953"
             ],
             [
              0.7777777777777778,
              "#fb9f3a"
             ],
             [
              0.8888888888888888,
              "#fdca26"
             ],
             [
              1,
              "#f0f921"
             ]
            ],
            "type": "histogram2d"
           }
          ],
          "histogram2dcontour": [
           {
            "colorbar": {
             "outlinewidth": 0,
             "ticks": ""
            },
            "colorscale": [
             [
              0,
              "#0d0887"
             ],
             [
              0.1111111111111111,
              "#46039f"
             ],
             [
              0.2222222222222222,
              "#7201a8"
             ],
             [
              0.3333333333333333,
              "#9c179e"
             ],
             [
              0.4444444444444444,
              "#bd3786"
             ],
             [
              0.5555555555555556,
              "#d8576b"
             ],
             [
              0.6666666666666666,
              "#ed7953"
             ],
             [
              0.7777777777777778,
              "#fb9f3a"
             ],
             [
              0.8888888888888888,
              "#fdca26"
             ],
             [
              1,
              "#f0f921"
             ]
            ],
            "type": "histogram2dcontour"
           }
          ],
          "mesh3d": [
           {
            "colorbar": {
             "outlinewidth": 0,
             "ticks": ""
            },
            "type": "mesh3d"
           }
          ],
          "parcoords": [
           {
            "line": {
             "colorbar": {
              "outlinewidth": 0,
              "ticks": ""
             }
            },
            "type": "parcoords"
           }
          ],
          "pie": [
           {
            "automargin": true,
            "type": "pie"
           }
          ],
          "scatter": [
           {
            "fillpattern": {
             "fillmode": "overlay",
             "size": 10,
             "solidity": 0.2
            },
            "type": "scatter"
           }
          ],
          "scatter3d": [
           {
            "line": {
             "colorbar": {
              "outlinewidth": 0,
              "ticks": ""
             }
            },
            "marker": {
             "colorbar": {
              "outlinewidth": 0,
              "ticks": ""
             }
            },
            "type": "scatter3d"
           }
          ],
          "scattercarpet": [
           {
            "marker": {
             "colorbar": {
              "outlinewidth": 0,
              "ticks": ""
             }
            },
            "type": "scattercarpet"
           }
          ],
          "scattergeo": [
           {
            "marker": {
             "colorbar": {
              "outlinewidth": 0,
              "ticks": ""
             }
            },
            "type": "scattergeo"
           }
          ],
          "scattergl": [
           {
            "marker": {
             "colorbar": {
              "outlinewidth": 0,
              "ticks": ""
             }
            },
            "type": "scattergl"
           }
          ],
          "scattermapbox": [
           {
            "marker": {
             "colorbar": {
              "outlinewidth": 0,
              "ticks": ""
             }
            },
            "type": "scattermapbox"
           }
          ],
          "scatterpolar": [
           {
            "marker": {
             "colorbar": {
              "outlinewidth": 0,
              "ticks": ""
             }
            },
            "type": "scatterpolar"
           }
          ],
          "scatterpolargl": [
           {
            "marker": {
             "colorbar": {
              "outlinewidth": 0,
              "ticks": ""
             }
            },
            "type": "scatterpolargl"
           }
          ],
          "scatterternary": [
           {
            "marker": {
             "colorbar": {
              "outlinewidth": 0,
              "ticks": ""
             }
            },
            "type": "scatterternary"
           }
          ],
          "surface": [
           {
            "colorbar": {
             "outlinewidth": 0,
             "ticks": ""
            },
            "colorscale": [
             [
              0,
              "#0d0887"
             ],
             [
              0.1111111111111111,
              "#46039f"
             ],
             [
              0.2222222222222222,
              "#7201a8"
             ],
             [
              0.3333333333333333,
              "#9c179e"
             ],
             [
              0.4444444444444444,
              "#bd3786"
             ],
             [
              0.5555555555555556,
              "#d8576b"
             ],
             [
              0.6666666666666666,
              "#ed7953"
             ],
             [
              0.7777777777777778,
              "#fb9f3a"
             ],
             [
              0.8888888888888888,
              "#fdca26"
             ],
             [
              1,
              "#f0f921"
             ]
            ],
            "type": "surface"
           }
          ],
          "table": [
           {
            "cells": {
             "fill": {
              "color": "#EBF0F8"
             },
             "line": {
              "color": "white"
             }
            },
            "header": {
             "fill": {
              "color": "#C8D4E3"
             },
             "line": {
              "color": "white"
             }
            },
            "type": "table"
           }
          ]
         },
         "layout": {
          "annotationdefaults": {
           "arrowcolor": "#2a3f5f",
           "arrowhead": 0,
           "arrowwidth": 1
          },
          "autotypenumbers": "strict",
          "coloraxis": {
           "colorbar": {
            "outlinewidth": 0,
            "ticks": ""
           }
          },
          "colorscale": {
           "diverging": [
            [
             0,
             "#8e0152"
            ],
            [
             0.1,
             "#c51b7d"
            ],
            [
             0.2,
             "#de77ae"
            ],
            [
             0.3,
             "#f1b6da"
            ],
            [
             0.4,
             "#fde0ef"
            ],
            [
             0.5,
             "#f7f7f7"
            ],
            [
             0.6,
             "#e6f5d0"
            ],
            [
             0.7,
             "#b8e186"
            ],
            [
             0.8,
             "#7fbc41"
            ],
            [
             0.9,
             "#4d9221"
            ],
            [
             1,
             "#276419"
            ]
           ],
           "sequential": [
            [
             0,
             "#0d0887"
            ],
            [
             0.1111111111111111,
             "#46039f"
            ],
            [
             0.2222222222222222,
             "#7201a8"
            ],
            [
             0.3333333333333333,
             "#9c179e"
            ],
            [
             0.4444444444444444,
             "#bd3786"
            ],
            [
             0.5555555555555556,
             "#d8576b"
            ],
            [
             0.6666666666666666,
             "#ed7953"
            ],
            [
             0.7777777777777778,
             "#fb9f3a"
            ],
            [
             0.8888888888888888,
             "#fdca26"
            ],
            [
             1,
             "#f0f921"
            ]
           ],
           "sequentialminus": [
            [
             0,
             "#0d0887"
            ],
            [
             0.1111111111111111,
             "#46039f"
            ],
            [
             0.2222222222222222,
             "#7201a8"
            ],
            [
             0.3333333333333333,
             "#9c179e"
            ],
            [
             0.4444444444444444,
             "#bd3786"
            ],
            [
             0.5555555555555556,
             "#d8576b"
            ],
            [
             0.6666666666666666,
             "#ed7953"
            ],
            [
             0.7777777777777778,
             "#fb9f3a"
            ],
            [
             0.8888888888888888,
             "#fdca26"
            ],
            [
             1,
             "#f0f921"
            ]
           ]
          },
          "colorway": [
           "#636efa",
           "#EF553B",
           "#00cc96",
           "#ab63fa",
           "#FFA15A",
           "#19d3f3",
           "#FF6692",
           "#B6E880",
           "#FF97FF",
           "#FECB52"
          ],
          "font": {
           "color": "#2a3f5f"
          },
          "geo": {
           "bgcolor": "white",
           "lakecolor": "white",
           "landcolor": "#E5ECF6",
           "showlakes": true,
           "showland": true,
           "subunitcolor": "white"
          },
          "hoverlabel": {
           "align": "left"
          },
          "hovermode": "closest",
          "mapbox": {
           "style": "light"
          },
          "paper_bgcolor": "white",
          "plot_bgcolor": "#E5ECF6",
          "polar": {
           "angularaxis": {
            "gridcolor": "white",
            "linecolor": "white",
            "ticks": ""
           },
           "bgcolor": "#E5ECF6",
           "radialaxis": {
            "gridcolor": "white",
            "linecolor": "white",
            "ticks": ""
           }
          },
          "scene": {
           "xaxis": {
            "backgroundcolor": "#E5ECF6",
            "gridcolor": "white",
            "gridwidth": 2,
            "linecolor": "white",
            "showbackground": true,
            "ticks": "",
            "zerolinecolor": "white"
           },
           "yaxis": {
            "backgroundcolor": "#E5ECF6",
            "gridcolor": "white",
            "gridwidth": 2,
            "linecolor": "white",
            "showbackground": true,
            "ticks": "",
            "zerolinecolor": "white"
           },
           "zaxis": {
            "backgroundcolor": "#E5ECF6",
            "gridcolor": "white",
            "gridwidth": 2,
            "linecolor": "white",
            "showbackground": true,
            "ticks": "",
            "zerolinecolor": "white"
           }
          },
          "shapedefaults": {
           "line": {
            "color": "#2a3f5f"
           }
          },
          "ternary": {
           "aaxis": {
            "gridcolor": "white",
            "linecolor": "white",
            "ticks": ""
           },
           "baxis": {
            "gridcolor": "white",
            "linecolor": "white",
            "ticks": ""
           },
           "bgcolor": "#E5ECF6",
           "caxis": {
            "gridcolor": "white",
            "linecolor": "white",
            "ticks": ""
           }
          },
          "title": {
           "x": 0.05
          },
          "xaxis": {
           "automargin": true,
           "gridcolor": "white",
           "linecolor": "white",
           "ticks": "",
           "title": {
            "standoff": 15
           },
           "zerolinecolor": "white",
           "zerolinewidth": 2
          },
          "yaxis": {
           "automargin": true,
           "gridcolor": "white",
           "linecolor": "white",
           "ticks": "",
           "title": {
            "standoff": 15
           },
           "zerolinecolor": "white",
           "zerolinewidth": 2
          }
         }
        },
        "title": {
         "text": "Estimation window is: 50 years"
        }
       }
      }
     },
     "metadata": {},
     "output_type": "display_data"
    }
   ],
   "source": [
    "import plotly.graph_objects as go\n",
    "def boxplots(df, w):\n",
    "    sim_results = df[df.window==w].copy()\n",
    "    sim_results = sim_results[['true', 'est_none', 'est_all', 'est_sd_corr', 'est_sd']]\n",
    "\n",
    "    label_dict = {'true': 'True', \n",
    "                'est_none': 'Est-None',\n",
    "                'est_all': 'Est-All',\n",
    "                'est_sd_corr': 'Est-SD-Corr',\n",
    "                'est_sd': 'Est-SD'}\n",
    "    fig = go.Figure()\n",
    "    for c in ['true','est_all','est_sd_corr','est_sd','est_none']:\n",
    "        fig.add_trace(go.Box(y=sim_results[c], boxmean='sd', name = label_dict[c])) \n",
    "    fig.update_layout(title_text='Estimation window is: ' + str(window_dict[w]) + ' years')\n",
    "    fig.show()\n",
    "for w in list(window_dict.keys()):\n",
    "    boxplots(sim_results[(sim_results.means=='mns1') & (sim_results.sds=='sds1') & (sim_results.corrs=='c1')],  w)"
   ]
  },
  {
   "attachments": {},
   "cell_type": "markdown",
   "metadata": {},
   "source": [
    "### Plot distribution of SRs as a function of estimation window for a given strategy"
   ]
  },
  {
   "cell_type": "code",
   "execution_count": 40,
   "metadata": {},
   "outputs": [],
   "source": [
    "import plotly.graph_objects as go\n",
    "def boxplots_time(df, method):\n",
    "    sim_results = df.copy()\n",
    "\n",
    "    label_dict = {'true': 'True', \n",
    "                'est_none': 'Est-None',\n",
    "                'est_all': 'Est-All',\n",
    "                'est_sd_corr': 'Est-SD-Corr',\n",
    "                'est_sd': 'Est-SD'}\n",
    "    fig = go.Figure()\n",
    "    for w in list(window_dict.keys()):\n",
    "        # fig.add_trace(go.Box(y=sim_results.loc[('mns1','sds2','c1',w,slice(None)),method], boxmean='sd', name = window_dict[w])) \n",
    "        fig.add_trace(go.Box(y=sim_results[(sim_results.window==w)][method], boxmean='sd', name = window_dict[w])) \n",
    "    fig.update_layout(title_text='Strategy is:\\t' + label_dict[method])\n",
    "    fig.show()\n"
   ]
  },
  {
   "cell_type": "code",
   "execution_count": 41,
   "metadata": {},
   "outputs": [
    {
     "data": {
      "application/vnd.plotly.v1+json": {
       "config": {
        "plotlyServerURL": "https://plot.ly"
       },
       "data": [
        {
         "boxmean": "sd",
         "name": "10",
         "type": "box",
         "y": [
          0.2440270998362688,
          0.3079431600392296,
          0.2684770290049866,
          0.5375142488064676,
          0.2635911998004845,
          0.128556043815916,
          0.2849718667819908,
          0.5309657717645947,
          0.4186925199670709,
          0.2157840541915809,
          0.352784182088619,
          0.1498143198314335,
          0.3193435616043299,
          0.5281177638495543,
          0.6248894709454911,
          0.308619197281578,
          0.1395970836889976,
          0.214156749236764,
          0.1355501783466055,
          0.4733579782830786,
          0.2877193216714494,
          0.0383581728097391,
          0.1892285729066007,
          0.3087958948990382,
          0.361935538981677,
          0.2775389919015019,
          0.4137998331253337,
          0.0461035394956791,
          0.1511314419310123,
          0.3166770655095612,
          0.4603675852378625,
          0.5652479913378324,
          0.2570360855072684,
          0.4112468461675895,
          0.1371994708325832,
          0.2580475655753158,
          0.1236852547663496,
          0.3231433273450496,
          0.051577672218922,
          0.5819189525346412,
          0.3579724652540703,
          0.0981933199730077,
          0.5507690364580574,
          0.1899096662248767,
          0.2546718687094914,
          0.4504536718307586,
          0.3009685270849616,
          0.3950277590930866,
          0.2214841702772811,
          0.3077023528520697,
          0.40192126057481,
          0.275625311831316,
          0.3686290709792398,
          0.0586143922285158,
          0.2076721799676208,
          0.1564036934960433,
          0.3936301066249901,
          0.2651015706348597,
          0.0906363990484066,
          0.2754784643902811,
          0.2034942795414474,
          0.2067073524399137,
          0.4259669437631671,
          0.0416691668190906,
          0.4617080056305723,
          0.6023401587256273,
          0.1318187934601364,
          0.4992387983832682,
          0.2842190979335737,
          0.2818637985560617,
          0.1807482196491354,
          -0.052636539270496,
          0.2624718572917138,
          0.4705354591205613,
          0.2018791489236687,
          0.019721604219524,
          0.2747057472512994,
          0.2881148436376969,
          0.2614391235790685,
          0.4410223438973649,
          0.0213715035867934,
          0.5625122456952907,
          0.333721512971464,
          0.3344357564883045,
          0.3458866402504811,
          0.5386481435119266,
          0.3435572124283578,
          0.4585135264537456,
          0.5485937276563044,
          0.3410515618941684,
          0.1855908979465876,
          0.5190570406574515,
          0.0228715613873576,
          0.3632002720056485,
          0.4724740092595624,
          0.3585027555768144,
          0.3342497207016309,
          0.5320638079175194,
          0.2171334347301,
          0.097373975066879,
          0.4927256153345489,
          0.1639799266534832,
          0.0204407222286106,
          0.3046343849636748,
          0.3523984405614027,
          0.1713301585520725,
          0.4439938184860367,
          0.2877512633707187,
          0.3397431264513778,
          0.282332509943394,
          0.2678565392807959,
          0.3565277044488061,
          0.3434276220808521,
          0.0699242180945767,
          0.2675103263234406,
          0.0955798766046022,
          0.0453944587431855,
          0.1230298010724713,
          0.4408953562975038,
          0.3008967159281837,
          0.0297612052915801,
          0.1835150360135374,
          0.5983225853910219,
          0.0960532960942277,
          0.2910801962087052,
          0.2758405745855162,
          0.3207071385807593,
          0.3179445011438014,
          0.1814781192474951,
          0.6712289890894393,
          0.2349354837809806,
          0.1700178490799153,
          0.4016899486224297,
          0.5267660573399702,
          0.1955728259792894,
          0.0189983206122481,
          0.2694449864337278,
          0.4545318341874996,
          0.2881890486982664,
          -0.1594559334048017,
          0.259313592508132,
          0.3332182583657841,
          0.1906875152843188,
          0.39173586077245,
          0.251466865438369,
          0.4571433825276298,
          0.4035321264200876,
          0.4886913483718384,
          0.4412418822029049,
          0.5182948341211595,
          0.4569813116736799,
          0.3027872922745064,
          0.5777948259513003,
          0.2972627883850421,
          0.2707781723386924,
          0.4067447593033346,
          0.4699786652405777,
          0.2725066751003758,
          0.3142496088830155,
          0.0487543457477169,
          0.0830812124425036,
          0.2459584228345481,
          0.2958142662295226,
          0.2427922119246469,
          0.1035635889006751,
          0.2752123568184799,
          0.3214132615371062,
          0.365147629283336,
          0.2636923527789872,
          0.4568740594276813,
          0.4191288334237344,
          0.4163054381466083,
          0.5897670233474863,
          0.4447299072531244,
          0.4399693128452732,
          0.1815638950997225,
          -0.187188582592132,
          0.1434281616836708,
          0.1234988422870176,
          0.2981017614492837,
          0.1291930622444999,
          0.4415840213271347,
          0.2957138592808337,
          0.1389981279343535,
          0.3754057993245929,
          0.0794104876697072,
          0.287922865770389,
          0.3812187526362417,
          0.1900577120566365,
          0.5038646189419435,
          0.1795422671634612,
          0.4122556990733373,
          0.2027050613651757,
          0.4165965210179586,
          0.4146160772198052,
          0.1579771957378775,
          0.5437653490013091,
          0.341774682701298,
          0.5118093025729604,
          0.2707877468183252,
          0.0822512448868024,
          0.4043702127036824,
          0.4095897827836833,
          0.2480347138178513,
          0.1828133472000545,
          0.4993603385221086,
          0.2959789819165273,
          0.2362653741862359,
          0.167724963120804,
          -0.0519476816188475,
          0.5598091239733389,
          0.1493144846228116,
          0.1697241678393521,
          0.1494905276243858,
          0.4443775470336057,
          0.4180530707646655,
          0.1163513723274968,
          0.7312931646993382,
          0.3414082030753519,
          0.278380810500305,
          0.223396186024289,
          0.3238765143855592,
          0.3792404322220964,
          0.1540544260185719,
          0.2142308429200937,
          0.0404664338566721,
          0.3319972521960631,
          0.1843621459536809,
          0.2725418638825319,
          0.0967349855251081,
          0.4867256066435439,
          0.8187135888663034,
          0.3109830668478462,
          0.1785918229622958,
          0.1983373445314772,
          0.2247179825663848,
          0.3706136000803098,
          0.5939412186161178,
          0.1948510011053966,
          0.0935838566592791,
          -0.0366834627176345,
          0.4477449336314008,
          0.1891765587628862,
          0.3249521339088245,
          0.6564456216037654,
          0.3456966150438688,
          -0.0926186660550275,
          0.2928249873332724,
          0.2839963781999729,
          0.3865307559437911
         ]
        },
        {
         "boxmean": "sd",
         "name": "20",
         "type": "box",
         "y": [
          0.2491961447242553,
          0.219758059188049,
          0.2560104980711339,
          0.4528902042638127,
          0.3152456091902032,
          0.2742264325789784,
          0.4248238391902278,
          0.3817312390576871,
          0.4835731858230879,
          0.2886749513939124,
          0.3616137048025281,
          0.4651727036615041,
          0.6747480832676062,
          0.6195939796847784,
          0.6776842212042844,
          0.4892838438524328,
          0.2830852545848374,
          0.2622225011681296,
          0.2914785087463718,
          0.5870182795315367,
          0.1558303574099669,
          0.144080651972466,
          0.1925129415826686,
          0.4603356518114745,
          0.5106450020362225,
          0.4904480592972256,
          0.4353935476387559,
          0.2646389794600394,
          0.5039852305889317,
          0.330785615961142,
          0.6024284198641531,
          0.4412243938352856,
          0.1278405896413962,
          0.3973657163514092,
          0.3154553752762555,
          0.4068924626605833,
          0.163571836604151,
          0.4673579133203172,
          0.1205014664409771,
          0.3814433899808982,
          0.3676028249813606,
          0.3208855689154041,
          0.6396166065948452,
          0.2150128594637661,
          0.3677990896322272,
          0.4182645183101949,
          0.3560152072493878,
          0.3408052785464663,
          0.3463160517431354,
          0.5017744473364519,
          0.5151994776321568,
          0.4583242844411423,
          0.5624905043594396,
          0.3143279990600039,
          0.393211970060544,
          0.2360827412815527,
          0.2956102007475885,
          0.44827045035935,
          0.503431193375904,
          0.3610674758744447,
          0.3310074065970766,
          0.5255827566711732,
          0.3470651613590281,
          0.1871996490216738,
          0.5485102877589332,
          0.6261354680429285,
          0.1959261303072165,
          0.4872540884849876,
          0.3083040842503309,
          0.2869294106733744,
          0.2037498096933086,
          0.2233893151694032,
          0.3613046836978359,
          0.6411167304960137,
          0.3928545086467133,
          0.1878014170834344,
          0.3422655804180965,
          0.108934783691635,
          0.3161863470448898,
          0.271479248567514,
          0.2781264156861527,
          0.4855734830721337,
          0.4936337513631846,
          0.3309392888149932,
          0.2662866368881332,
          0.6372154666101029,
          0.3452684561460798,
          0.2217666957761048,
          0.6513521790999104,
          0.4813964242532559,
          0.1594968651377893,
          0.5375911610303592,
          0.2164420449196973,
          0.4209476056716845,
          0.5438489902189444,
          0.3924364423784965,
          0.4837406483556987,
          0.6003664096608403,
          0.3140594859310936,
          0.3007156286568,
          0.5685914140978169,
          0.4191292564422241,
          0.4533096983100922,
          0.3013661179469831,
          0.4760987000782117,
          0.3354469464141362,
          0.4048164816765708,
          0.4174651493155848,
          0.3475231873015973,
          0.4020270416052177,
          0.3896917581146968,
          0.4165654846573314,
          0.4895890430852957,
          0.1248936444767509,
          0.5089139354116434,
          0.0347667414997623,
          0.4493296254918772,
          0.0637036708034847,
          0.466594765661435,
          0.2997024886999984,
          0.2493678354316729,
          0.1752112230217222,
          0.6530175774189194,
          0.4952546833177734,
          0.4108374929240401,
          0.013771331748259,
          0.4839239975746413,
          0.3682476119455866,
          0.2981859780261641,
          0.7135328929344179,
          0.434257225761048,
          0.3161850049857945,
          0.5003971893465937,
          0.4583904785204032,
          0.3265950498120245,
          0.3586836320186861,
          0.3068715398387662,
          0.5414003112796956,
          0.356194333738621,
          -0.2955924735572163,
          0.3768752863560702,
          0.2655853733866823,
          0.2803593639439404,
          0.1378903156487913,
          0.2128462335714917,
          0.5874729952845219,
          0.5816500081631322,
          0.5818217626091858,
          0.5525038181142827,
          0.49910447192959,
          0.4100911158395446,
          0.4756307343836895,
          0.7815468052037051,
          0.4308658721739162,
          0.4889846257020045,
          0.3510146072956844,
          0.5620981796998668,
          0.1153938739015491,
          0.5986913481899304,
          0.2951833780226051,
          0.2285408010122266,
          0.3237742133058113,
          0.6468164128338315,
          0.3688150377650548,
          0.1934306263499608,
          0.1864230826934108,
          0.0731343757975354,
          0.3535029391303612,
          0.2847371493196094,
          0.6916317855792152,
          0.5762918999188111,
          0.621493972992747,
          0.6017436311044737,
          0.2347709777500685,
          0.425224097521524,
          0.3139963027044243,
          0.1806781114886323,
          0.7382048078330078,
          0.2320141560528977,
          0.4036237071401176,
          0.2109378977830311,
          0.6550004538570027,
          0.4325356298499054,
          0.3641327417525029,
          0.3622346905907246,
          0.089209399162692,
          0.4301486819109352,
          0.5223201785837631,
          0.5341093187413103,
          0.4225396665843262,
          0.155867992913838,
          0.4469833349530845,
          0.5409705876220948,
          0.3025216982295747,
          0.5647243544372675,
          0.3970359882688356,
          0.6393134979615759,
          0.2880861099105327,
          0.6193489495547596,
          0.3671868105332246,
          0.4057413717897718,
          0.8084533702133957,
          0.5835317418654246,
          0.1863502031091356,
          0.2369951518028587,
          0.5968579878933524,
          0.4389062263771827,
          0.2431527407492485,
          0.5253786690935323,
          0.1251723851511168,
          0.4009256362950936,
          0.3549800306463665,
          0.1453770040176303,
          0.4979946082371572,
          0.4559835400352474,
          0.6882364553569962,
          0.5692395833592951,
          0.5089065692466865,
          0.4356310193068703,
          0.3765873424245181,
          0.1347918132574649,
          0.2776116565884175,
          0.3279195747911532,
          0.5156624266275215,
          0.1897185415744786,
          0.3744128804977903,
          0.4088319031994167,
          0.3457946626676265,
          0.2263708599070865,
          0.2731923814825042,
          0.5094282319145695,
          0.8409942597277169,
          0.5092120558994504,
          0.5199210805979955,
          0.3649722645851738,
          0.4170214520806533,
          0.5874362942675567,
          0.5119254451856925,
          0.3646788422705956,
          0.6478012295347315,
          0.060950878447097,
          0.3278364456405795,
          0.3490970838697828,
          0.3267298764283295,
          1.0609231296275967,
          0.5017720539531595,
          0.2181773891850181,
          0.4247125655047139,
          0.3327408222775332,
          0.4068952533541622
         ]
        },
        {
         "boxmean": "sd",
         "name": "30",
         "type": "box",
         "y": [
          0.2827339267235808,
          0.1271731342167977,
          0.1973363937638394,
          0.3580323475586349,
          0.2733459329619167,
          0.4932721707628454,
          0.4593753537315061,
          0.4369179229964581,
          0.5764386164742441,
          0.486351705536955,
          0.2677680679853806,
          0.3798799051548331,
          0.6191769136047319,
          0.7546044954644257,
          0.7170858450451648,
          0.5793934007997735,
          0.3198501300010334,
          0.3734825249252459,
          0.4433390951316232,
          0.5839384049465827,
          0.3515017637253569,
          0.3386236809952536,
          0.1442633889322443,
          0.6825472202860148,
          0.4929499378925008,
          0.5644955499827637,
          0.4763937087883598,
          0.2841604895353397,
          0.4034028702486549,
          0.4603625903414639,
          0.673457388855744,
          0.6886382371410431,
          0.1758560971024261,
          0.4764088631444288,
          0.3923819916380857,
          0.4622252669600624,
          0.2064745871618949,
          0.6329124971122797,
          0.1726798582895895,
          0.3963050037786942,
          0.5203337683470017,
          0.4488106603419864,
          0.4502685099527548,
          0.2859910572830949,
          0.5206273105687499,
          0.5591343664266447,
          0.3692130931101661,
          0.1958849641776975,
          0.4690972349818779,
          0.5219074834946565,
          0.4468308813123937,
          0.5671942149100165,
          0.5918169964343573,
          0.4066521815877983,
          0.3217826777235776,
          0.2917474919562918,
          0.4128258109395824,
          0.4871004210945318,
          0.5054016189430469,
          0.3967994819966647,
          0.5458135152822072,
          0.3235682336489017,
          0.3572977001700683,
          0.2409714481786111,
          0.5186298564014173,
          0.6853370632613879,
          0.2050511286228138,
          0.5251664601845448,
          0.5320371524963886,
          0.4689257057231193,
          0.4625492363653817,
          0.3305263718329315,
          0.3572351560947078,
          0.5992750393012488,
          0.3524300238108501,
          0.1858109058139378,
          0.3636932173376268,
          0.3648489538760141,
          0.3480184687840471,
          0.3222619916524724,
          0.2767325451825851,
          0.5173093253840878,
          0.5672507033510877,
          0.3896157053657518,
          0.4572380800317901,
          0.6746123562428089,
          0.3341300452726349,
          0.1842530483063167,
          0.6279216797096165,
          0.414624031774746,
          0.4620528447039561,
          0.4184563309063046,
          0.195656414554959,
          0.4545945196680926,
          0.4861210525349331,
          0.401571132908829,
          0.3760898341166259,
          0.4182665542521093,
          0.24011100393373,
          0.3043148512034575,
          0.4536069187168557,
          0.5196494624773099,
          0.3853676570452048,
          0.4119221901050939,
          0.6580289180704582,
          0.2114723296101534,
          0.3353849027272092,
          0.4226796827215467,
          0.2557774891464661,
          0.3589552734193248,
          0.3221294615187208,
          0.6018552692895169,
          0.4408041295031753,
          0.0527753118896098,
          0.4538385223541477,
          0.1338744161718904,
          0.5046560760508625,
          0.132027943427583,
          0.5448358864924026,
          0.2714064219504865,
          0.198568109766664,
          0.4603562384824767,
          0.6576460451969847,
          0.5367840350143435,
          0.1648833509981938,
          0.2722138732659944,
          0.5214073354718785,
          0.6874067606288602,
          0.4548161199140358,
          0.9555903534908844,
          0.4962375326486863,
          0.3625536506831711,
          0.2061357355742226,
          0.596329886807561,
          0.2036601200057086,
          0.2489634498077581,
          0.3631910312340838,
          0.5807199651894588,
          0.2994752612320598,
          0.0713940423099909,
          0.4231886692401887,
          0.3172498823921276,
          0.3535118624576852,
          0.1764292894722052,
          0.2682641402991356,
          0.5668618730981059,
          0.3947908279277187,
          0.7554277538389629,
          0.3657085868771096,
          0.4148748088509511,
          0.2985434973690687,
          0.4459698510000178,
          0.7285200343824201,
          0.402813606423003,
          0.6276101049467027,
          0.5537370923215864,
          0.330120496897443,
          0.0846884846768711,
          0.7104622959028688,
          0.2257442687358806,
          0.5071577182789251,
          0.4640571766967664,
          0.5664978524143813,
          0.5294317750987773,
          0.2433574610734389,
          0.4456416155762638,
          0.231011646926268,
          0.3780297964255923,
          0.3194534756991844,
          0.4779433105509127,
          0.4735852836224864,
          0.5697446036561583,
          0.4611729869644568,
          0.4263123780198144,
          0.4143123964033579,
          0.621832617535461,
          0.1015351504784156,
          0.6465108738272136,
          0.3178252295559134,
          0.3372112231576588,
          0.2514909879365499,
          0.5353922543498081,
          0.3819923966480598,
          0.5041537018514605,
          0.3587656706870587,
          0.225831946430962,
          0.3158352148506325,
          0.6694389103917792,
          0.6071493548398523,
          0.5311998578289996,
          0.246953342934424,
          0.5249499086983498,
          0.7405685518824883,
          0.1892781778110547,
          0.4442013405139479,
          0.5805441042002301,
          0.6207072471264427,
          0.4370371718818481,
          0.6301533971173301,
          0.4680499232661264,
          0.3437449236651004,
          0.8291748521909809,
          0.6107156804102094,
          0.1988050891097955,
          0.1576537946332077,
          0.6900992234520056,
          0.5141659952755987,
          0.3359581953641795,
          0.3928341980687169,
          0.2676174211604754,
          0.137713318835166,
          0.3826325947558617,
          0.2555142349023981,
          0.5495539648339731,
          0.5813253060864861,
          0.7664976779488101,
          0.5838031742781186,
          0.5027549257117867,
          0.3120602872191685,
          0.3158844611168893,
          0.2003925915068018,
          0.2491216053098595,
          0.3310585852349633,
          0.6679145656157907,
          0.240623243332832,
          0.5835910812238121,
          0.4258679768436021,
          0.3697239028232967,
          0.4740605132461125,
          0.1297476252132218,
          0.5026774989295391,
          0.7553004338192357,
          0.5597784543872901,
          0.5447693121219586,
          0.3968883273045177,
          0.4704759750595657,
          0.5492642968512724,
          0.472943071622929,
          0.4447518924313549,
          0.8121891183072244,
          0.1547560183237062,
          0.4676396757563812,
          0.6220895434772906,
          0.5672032724939744,
          0.903759644491515,
          0.4795146407042708,
          0.2989368542086513,
          0.4193074423300696,
          0.6116350128744935,
          0.4393545253646089
         ]
        },
        {
         "boxmean": "sd",
         "name": "40",
         "type": "box",
         "y": [
          0.674611805484936,
          0.1320434985512427,
          0.2667174479595819,
          0.2618129150582023,
          0.252199739104567,
          0.4757711750352356,
          0.4199151989049928,
          0.66064365172394,
          0.599628013976826,
          0.5929002578564299,
          0.2801181389456023,
          0.4583713914162355,
          0.7457639256845771,
          0.7954705274754882,
          0.6768086825959342,
          0.6089183264941559,
          0.5189575517513636,
          0.5198897589522152,
          0.4450595615539161,
          0.5986616194967224,
          0.2957788700916931,
          0.4320044659504167,
          0.0185276789116521,
          0.6520004938093592,
          0.4695419675282501,
          0.5189277330362236,
          0.3814530552400425,
          0.402405688666554,
          0.4677131632099023,
          0.6075216284019047,
          0.6471318070911765,
          0.6423264102997615,
          0.2056426945905941,
          0.3926987151583755,
          0.3188915801493225,
          0.6294318498412086,
          0.498986300593795,
          0.6078163344573626,
          0.1036148774789904,
          0.3674430548711641,
          0.4903308825267404,
          0.3830919190464587,
          0.307087869333823,
          0.1509956522838592,
          0.5697293647400311,
          0.4564703607881477,
          0.2537393811356198,
          0.4395906479810476,
          0.4206328375318494,
          0.4705728023189058,
          0.4408434999944832,
          0.7623417094609617,
          0.5480713105827043,
          0.5719296377925948,
          0.3617650238603826,
          0.2590107661646142,
          0.3663145305577755,
          0.5798763583695938,
          0.6547537576305368,
          0.5137047143071619,
          0.5709865978151687,
          0.4123619621500281,
          0.4629370001503325,
          0.2901736646567753,
          0.493551763688895,
          0.5761338672177071,
          0.2319319675576854,
          0.6763980232834796,
          0.5045430070917629,
          0.5328726795545857,
          0.4680552115887557,
          0.3208756418071495,
          0.5361703366705178,
          0.5700441711819332,
          0.2395460508419012,
          0.38118493392096,
          0.5335040519510651,
          0.4476608652615353,
          0.4839333765594964,
          0.5192421414748754,
          0.1774345904838526,
          0.5238242132971078,
          0.8544804062950909,
          0.4257338055756765,
          0.4653831848418288,
          0.628906767018228,
          0.2630874928650216,
          0.4705086625278066,
          0.6578898777585435,
          0.5908308386967331,
          0.4950812158220357,
          0.3495214635234939,
          0.2369243221689919,
          0.4620309862927507,
          0.5745630375031644,
          0.4182124754056063,
          0.2671995996265482,
          0.4334855968700415,
          0.3735782411585749,
          0.5350234460812301,
          0.345996155673449,
          0.4856368572939286,
          0.3655968378997612,
          0.6914361809268676,
          0.6014758986908839,
          0.3086763460302281,
          0.3744320781254653,
          0.517957042700315,
          0.4867203037556049,
          0.1788350028785046,
          0.2778354900041428,
          0.5928309405036843,
          0.3843134274924343,
          0.2269209111034509,
          0.3201461772496149,
          0.0822413245976689,
          0.5032003365303072,
          0.1665746765586337,
          0.6383857017816288,
          0.4140672634145784,
          0.134740844167396,
          0.4862420888184925,
          0.663143894282616,
          0.5949928231410729,
          0.1744337775794796,
          0.1972270989668497,
          0.634300978666139,
          0.7228868929906792,
          0.291859336774783,
          0.9067996820705398,
          0.6266494955938917,
          0.4234271392100746,
          0.1852383871799575,
          0.7038203625035688,
          0.2444368979730831,
          0.2619941545594623,
          0.2738906497692938,
          0.5716517878056269,
          0.4298066093034119,
          0.1211964532236863,
          0.3334504677613632,
          0.4387500882327978,
          0.3817892740869918,
          0.4117743847934599,
          0.4866662635143798,
          0.5016007023043567,
          0.3987680869695859,
          0.5343341688943899,
          0.2777490191123921,
          0.2354775582560396,
          0.2774262525548185,
          0.3393425837240189,
          0.8906704013903596,
          0.6257372392583651,
          0.6642367409323223,
          0.4964713081954853,
          0.4704005553825979,
          0.291811168525637,
          0.6502138793180645,
          0.2371425834523896,
          0.5993886010235575,
          0.4863789294304091,
          0.3992792288731375,
          0.6396009335766818,
          0.3098335991267361,
          0.3564348812855563,
          0.4238138872885743,
          0.2592195753644888,
          0.3500456248644698,
          0.5130693356581449,
          0.4022716952705765,
          0.4621706584163122,
          0.683470058869649,
          0.5418072293861943,
          0.351841639973359,
          0.6507114702933281,
          0.3275480522967349,
          0.754664345979344,
          0.4525553874496587,
          0.4711304919563647,
          0.2054214728180121,
          0.5886097425281893,
          0.2761226949873812,
          0.5056326441389141,
          0.2904255686545812,
          0.0004806032720728,
          0.4436524709632122,
          0.7205817235362064,
          0.8484497989390549,
          0.4193780446406903,
          0.5099418615379313,
          0.5235355459730548,
          0.6100579586861289,
          0.0602008132467648,
          0.3107458903366902,
          0.4670699304913294,
          0.5113734405951985,
          0.4553963138377548,
          0.5159599575239878,
          0.6289033151286573,
          0.4626188342686677,
          0.8359213815948696,
          0.67830617728804,
          0.2272591848877534,
          0.1925693070200183,
          0.8473216560673439,
          0.5364487717371461,
          0.1904084135038443,
          0.3460601758296234,
          0.4707835173571494,
          0.3252953054801827,
          0.369190789525652,
          0.2402477405103121,
          0.4694116084450256,
          0.5933079725551017,
          0.6351665437383109,
          0.699122102642086,
          0.5284618743987536,
          0.3356481930692984,
          0.2779659620019386,
          0.148962416702847,
          0.3089780400482548,
          0.1914750022876132,
          0.7201102009593621,
          0.305134412395409,
          0.7257942362556713,
          0.473599190301367,
          0.417456644662197,
          0.5898966877779389,
          0.3002156996266973,
          0.5177619947344386,
          0.5957331894099986,
          0.467844351063824,
          0.5051962060077583,
          0.5180123420225005,
          0.4827270385151556,
          0.5793629569653521,
          0.5126146989543499,
          0.34274142545068,
          0.7393159735019778,
          0.2818581244600627,
          0.7503069467702006,
          0.4970835447657464,
          0.546874664248692,
          0.945513132629767,
          0.5113054858395475,
          0.3478258201905969,
          0.5193906518686955,
          0.5594083096269944,
          0.4275026380831732
         ]
        },
        {
         "boxmean": "sd",
         "name": "50",
         "type": "box",
         "y": [
          0.5905810258509396,
          0.2898607957251625,
          0.3803477048503264,
          0.1324116718081565,
          0.2145160361828471,
          0.5982939339887937,
          0.2538802638036152,
          0.5551376560133306,
          0.5385613254688199,
          0.5917956224433051,
          0.4381115515201507,
          0.507093621393215,
          0.8484884364996759,
          0.6598733687213467,
          0.7815504767960425,
          0.6739297459856771,
          0.4906220143486866,
          0.5845228476074862,
          0.6511884218900076,
          0.5171597808170114,
          0.4855999068352029,
          0.4324030742667378,
          0.0915901795698779,
          0.6354410574098831,
          0.3786428380165543,
          0.5650332056890268,
          0.3849610220420486,
          0.5225693543009251,
          0.5980529664701876,
          0.5274790094907679,
          0.5514842244943855,
          0.4974019337833579,
          0.2662999381727888,
          0.3103168979291421,
          0.3478458294237633,
          0.4912367644095899,
          0.6113981084216453,
          0.6166779651953433,
          0.1108005370621191,
          0.459668593843995,
          0.6360777453944869,
          0.6822667850822227,
          0.309565493322536,
          0.2572071005035503,
          0.6520034734802429,
          0.5280121730707699,
          0.3957815506060041,
          0.446811257632014,
          0.299199780155973,
          0.4124349434630994,
          0.5747165648240337,
          0.7476946484278996,
          0.5483240118952666,
          0.3824316900600377,
          0.536800823985713,
          0.5412473251084177,
          0.3918725733388682,
          0.5303302766440348,
          0.9869466063275384,
          0.5786106519589607,
          0.6664762494873295,
          0.5766090607160163,
          0.3624981968325138,
          0.2260488180561461,
          0.3659312144498359,
          0.629051462826136,
          0.4239816200324187,
          0.4815811886945044,
          0.2919660071173183,
          0.4894853267641191,
          0.5837798256660527,
          0.3153465942409422,
          0.6740802063542591,
          0.7336456386814855,
          0.2856408953167417,
          0.4961010092725506,
          0.494634616636628,
          0.6660034049550452,
          0.3861042743666242,
          0.4486312803099097,
          0.1875292672823892,
          0.4567913476929343,
          0.6696251754994322,
          0.4015294029338582,
          0.556440777539193,
          0.5096184943105593,
          0.4148188896664705,
          0.5826976800554059,
          0.4707998912895053,
          0.4230294039941668,
          0.6992082655633686,
          0.3425171423184085,
          0.2822150138842372,
          0.4283880381311949,
          0.6781209199605847,
          0.7693588690340538,
          0.4058790399052194,
          0.3268298037586227,
          0.338413587076972,
          0.3768129951282022,
          0.3007450932190958,
          0.4870706159332569,
          0.3966298512083828,
          0.7436490248504031,
          0.7161796512417095,
          0.2596017838839923,
          0.5449246603818853,
          0.4272032905689847,
          0.4090664440531927,
          0.3490445985361524,
          0.418831827701677,
          0.565040820501944,
          0.3580005456750542,
          0.2577701807567706,
          0.2725837721621206,
          0.0784438473173015,
          0.5282458772440786,
          0.1612795689578632,
          0.7439752054627913,
          0.3632887539686643,
          0.2053968010925372,
          0.5102817747311447,
          0.6479625526331781,
          0.8364329881363297,
          0.2477689942040334,
          0.1156089903520121,
          0.658480036468274,
          0.6608995836203142,
          0.3764088432148282,
          1.0624424084424784,
          0.7900872845862102,
          0.3457555393480958,
          0.2052546438610866,
          0.6504887690542304,
          0.4532673113498065,
          0.4609389015172933,
          0.3083313992642831,
          0.6188106606971437,
          0.6153280958697681,
          0.3353206852025439,
          0.380185691935981,
          0.354884250043272,
          0.3471270521888882,
          0.1303429626288936,
          0.441835767911226,
          0.4193708134003055,
          0.4530548381938111,
          0.3344370323786075,
          0.1708253481495761,
          0.1621370911284103,
          0.2299588690264876,
          0.4233257603489274,
          0.9769609972379252,
          0.5413532482343475,
          0.6597113391079164,
          0.350868102972011,
          0.5119073936283386,
          0.3585936608090108,
          0.8349715504786274,
          0.3131211040981863,
          0.43582389325566,
          0.5267134377837579,
          0.3545891999532117,
          0.6143197656603497,
          0.5616564846403659,
          0.4985483321406548,
          0.5134289995623419,
          0.4112922016377417,
          0.3379217841991538,
          0.5209960423126818,
          0.4126104942195107,
          0.3922049761664065,
          0.759275863408745,
          0.6212318080494806,
          0.3147934211691441,
          0.5732839024546112,
          0.5113623176994905,
          0.6204854424686866,
          0.4745272626152813,
          0.5194609478077284,
          0.2587408829037236,
          0.6248658965724556,
          0.2487924646560564,
          0.4508488285225037,
          0.1865366894739646,
          0.271965677500081,
          0.5725686031626892,
          0.6375956605067296,
          0.6964630294508344,
          0.4073868385739546,
          0.4812114693483164,
          0.551112875444277,
          0.413457122938726,
          0.0638851918544167,
          0.2422794627883484,
          0.3139907691093012,
          0.3980781756802772,
          0.6194378991190844,
          0.4418164577986612,
          0.5504321062980743,
          0.4676198137365515,
          0.880765491052343,
          0.7777884947568411,
          0.3085970005683107,
          0.1277461218851537,
          0.7973215808427632,
          0.5950205207423459,
          0.4629161716078726,
          0.5030524172298021,
          0.5153061997492315,
          0.6768182715491945,
          0.545614447505522,
          0.3224849666367983,
          0.4554316605773151,
          0.6009386445957525,
          0.5796969520543391,
          0.7582555144404782,
          0.3265797861603313,
          0.5492242088698875,
          0.3501094709340693,
          0.236127760594741,
          0.2142424059700931,
          0.1653274941615227,
          0.5776329419234965,
          0.406636139007401,
          0.5995171771639607,
          0.3768334305471001,
          0.3953474993508815,
          0.6353530597556778,
          0.3628803185091861,
          0.734974079811252,
          0.5388945817648547,
          0.517924450280939,
          0.4570077032590341,
          0.5665900251439974,
          0.5480970422082141,
          0.5797375172439053,
          0.5369735992109841,
          0.3826607329387561,
          0.654525839227055,
          0.5329357616131644,
          0.6138667703514951,
          0.4659015470885685,
          0.4429703362837665,
          0.7715966023088994,
          0.6435366732557469,
          0.4607683142102435,
          0.5036283112005893,
          0.5489019179684227,
          0.6590969334153121
         ]
        }
       ],
       "layout": {
        "template": {
         "data": {
          "bar": [
           {
            "error_x": {
             "color": "#2a3f5f"
            },
            "error_y": {
             "color": "#2a3f5f"
            },
            "marker": {
             "line": {
              "color": "#E5ECF6",
              "width": 0.5
             },
             "pattern": {
              "fillmode": "overlay",
              "size": 10,
              "solidity": 0.2
             }
            },
            "type": "bar"
           }
          ],
          "barpolar": [
           {
            "marker": {
             "line": {
              "color": "#E5ECF6",
              "width": 0.5
             },
             "pattern": {
              "fillmode": "overlay",
              "size": 10,
              "solidity": 0.2
             }
            },
            "type": "barpolar"
           }
          ],
          "carpet": [
           {
            "aaxis": {
             "endlinecolor": "#2a3f5f",
             "gridcolor": "white",
             "linecolor": "white",
             "minorgridcolor": "white",
             "startlinecolor": "#2a3f5f"
            },
            "baxis": {
             "endlinecolor": "#2a3f5f",
             "gridcolor": "white",
             "linecolor": "white",
             "minorgridcolor": "white",
             "startlinecolor": "#2a3f5f"
            },
            "type": "carpet"
           }
          ],
          "choropleth": [
           {
            "colorbar": {
             "outlinewidth": 0,
             "ticks": ""
            },
            "type": "choropleth"
           }
          ],
          "contour": [
           {
            "colorbar": {
             "outlinewidth": 0,
             "ticks": ""
            },
            "colorscale": [
             [
              0,
              "#0d0887"
             ],
             [
              0.1111111111111111,
              "#46039f"
             ],
             [
              0.2222222222222222,
              "#7201a8"
             ],
             [
              0.3333333333333333,
              "#9c179e"
             ],
             [
              0.4444444444444444,
              "#bd3786"
             ],
             [
              0.5555555555555556,
              "#d8576b"
             ],
             [
              0.6666666666666666,
              "#ed7953"
             ],
             [
              0.7777777777777778,
              "#fb9f3a"
             ],
             [
              0.8888888888888888,
              "#fdca26"
             ],
             [
              1,
              "#f0f921"
             ]
            ],
            "type": "contour"
           }
          ],
          "contourcarpet": [
           {
            "colorbar": {
             "outlinewidth": 0,
             "ticks": ""
            },
            "type": "contourcarpet"
           }
          ],
          "heatmap": [
           {
            "colorbar": {
             "outlinewidth": 0,
             "ticks": ""
            },
            "colorscale": [
             [
              0,
              "#0d0887"
             ],
             [
              0.1111111111111111,
              "#46039f"
             ],
             [
              0.2222222222222222,
              "#7201a8"
             ],
             [
              0.3333333333333333,
              "#9c179e"
             ],
             [
              0.4444444444444444,
              "#bd3786"
             ],
             [
              0.5555555555555556,
              "#d8576b"
             ],
             [
              0.6666666666666666,
              "#ed7953"
             ],
             [
              0.7777777777777778,
              "#fb9f3a"
             ],
             [
              0.8888888888888888,
              "#fdca26"
             ],
             [
              1,
              "#f0f921"
             ]
            ],
            "type": "heatmap"
           }
          ],
          "heatmapgl": [
           {
            "colorbar": {
             "outlinewidth": 0,
             "ticks": ""
            },
            "colorscale": [
             [
              0,
              "#0d0887"
             ],
             [
              0.1111111111111111,
              "#46039f"
             ],
             [
              0.2222222222222222,
              "#7201a8"
             ],
             [
              0.3333333333333333,
              "#9c179e"
             ],
             [
              0.4444444444444444,
              "#bd3786"
             ],
             [
              0.5555555555555556,
              "#d8576b"
             ],
             [
              0.6666666666666666,
              "#ed7953"
             ],
             [
              0.7777777777777778,
              "#fb9f3a"
             ],
             [
              0.8888888888888888,
              "#fdca26"
             ],
             [
              1,
              "#f0f921"
             ]
            ],
            "type": "heatmapgl"
           }
          ],
          "histogram": [
           {
            "marker": {
             "pattern": {
              "fillmode": "overlay",
              "size": 10,
              "solidity": 0.2
             }
            },
            "type": "histogram"
           }
          ],
          "histogram2d": [
           {
            "colorbar": {
             "outlinewidth": 0,
             "ticks": ""
            },
            "colorscale": [
             [
              0,
              "#0d0887"
             ],
             [
              0.1111111111111111,
              "#46039f"
             ],
             [
              0.2222222222222222,
              "#7201a8"
             ],
             [
              0.3333333333333333,
              "#9c179e"
             ],
             [
              0.4444444444444444,
              "#bd3786"
             ],
             [
              0.5555555555555556,
              "#d8576b"
             ],
             [
              0.6666666666666666,
              "#ed7953"
             ],
             [
              0.7777777777777778,
              "#fb9f3a"
             ],
             [
              0.8888888888888888,
              "#fdca26"
             ],
             [
              1,
              "#f0f921"
             ]
            ],
            "type": "histogram2d"
           }
          ],
          "histogram2dcontour": [
           {
            "colorbar": {
             "outlinewidth": 0,
             "ticks": ""
            },
            "colorscale": [
             [
              0,
              "#0d0887"
             ],
             [
              0.1111111111111111,
              "#46039f"
             ],
             [
              0.2222222222222222,
              "#7201a8"
             ],
             [
              0.3333333333333333,
              "#9c179e"
             ],
             [
              0.4444444444444444,
              "#bd3786"
             ],
             [
              0.5555555555555556,
              "#d8576b"
             ],
             [
              0.6666666666666666,
              "#ed7953"
             ],
             [
              0.7777777777777778,
              "#fb9f3a"
             ],
             [
              0.8888888888888888,
              "#fdca26"
             ],
             [
              1,
              "#f0f921"
             ]
            ],
            "type": "histogram2dcontour"
           }
          ],
          "mesh3d": [
           {
            "colorbar": {
             "outlinewidth": 0,
             "ticks": ""
            },
            "type": "mesh3d"
           }
          ],
          "parcoords": [
           {
            "line": {
             "colorbar": {
              "outlinewidth": 0,
              "ticks": ""
             }
            },
            "type": "parcoords"
           }
          ],
          "pie": [
           {
            "automargin": true,
            "type": "pie"
           }
          ],
          "scatter": [
           {
            "fillpattern": {
             "fillmode": "overlay",
             "size": 10,
             "solidity": 0.2
            },
            "type": "scatter"
           }
          ],
          "scatter3d": [
           {
            "line": {
             "colorbar": {
              "outlinewidth": 0,
              "ticks": ""
             }
            },
            "marker": {
             "colorbar": {
              "outlinewidth": 0,
              "ticks": ""
             }
            },
            "type": "scatter3d"
           }
          ],
          "scattercarpet": [
           {
            "marker": {
             "colorbar": {
              "outlinewidth": 0,
              "ticks": ""
             }
            },
            "type": "scattercarpet"
           }
          ],
          "scattergeo": [
           {
            "marker": {
             "colorbar": {
              "outlinewidth": 0,
              "ticks": ""
             }
            },
            "type": "scattergeo"
           }
          ],
          "scattergl": [
           {
            "marker": {
             "colorbar": {
              "outlinewidth": 0,
              "ticks": ""
             }
            },
            "type": "scattergl"
           }
          ],
          "scattermapbox": [
           {
            "marker": {
             "colorbar": {
              "outlinewidth": 0,
              "ticks": ""
             }
            },
            "type": "scattermapbox"
           }
          ],
          "scatterpolar": [
           {
            "marker": {
             "colorbar": {
              "outlinewidth": 0,
              "ticks": ""
             }
            },
            "type": "scatterpolar"
           }
          ],
          "scatterpolargl": [
           {
            "marker": {
             "colorbar": {
              "outlinewidth": 0,
              "ticks": ""
             }
            },
            "type": "scatterpolargl"
           }
          ],
          "scatterternary": [
           {
            "marker": {
             "colorbar": {
              "outlinewidth": 0,
              "ticks": ""
             }
            },
            "type": "scatterternary"
           }
          ],
          "surface": [
           {
            "colorbar": {
             "outlinewidth": 0,
             "ticks": ""
            },
            "colorscale": [
             [
              0,
              "#0d0887"
             ],
             [
              0.1111111111111111,
              "#46039f"
             ],
             [
              0.2222222222222222,
              "#7201a8"
             ],
             [
              0.3333333333333333,
              "#9c179e"
             ],
             [
              0.4444444444444444,
              "#bd3786"
             ],
             [
              0.5555555555555556,
              "#d8576b"
             ],
             [
              0.6666666666666666,
              "#ed7953"
             ],
             [
              0.7777777777777778,
              "#fb9f3a"
             ],
             [
              0.8888888888888888,
              "#fdca26"
             ],
             [
              1,
              "#f0f921"
             ]
            ],
            "type": "surface"
           }
          ],
          "table": [
           {
            "cells": {
             "fill": {
              "color": "#EBF0F8"
             },
             "line": {
              "color": "white"
             }
            },
            "header": {
             "fill": {
              "color": "#C8D4E3"
             },
             "line": {
              "color": "white"
             }
            },
            "type": "table"
           }
          ]
         },
         "layout": {
          "annotationdefaults": {
           "arrowcolor": "#2a3f5f",
           "arrowhead": 0,
           "arrowwidth": 1
          },
          "autotypenumbers": "strict",
          "coloraxis": {
           "colorbar": {
            "outlinewidth": 0,
            "ticks": ""
           }
          },
          "colorscale": {
           "diverging": [
            [
             0,
             "#8e0152"
            ],
            [
             0.1,
             "#c51b7d"
            ],
            [
             0.2,
             "#de77ae"
            ],
            [
             0.3,
             "#f1b6da"
            ],
            [
             0.4,
             "#fde0ef"
            ],
            [
             0.5,
             "#f7f7f7"
            ],
            [
             0.6,
             "#e6f5d0"
            ],
            [
             0.7,
             "#b8e186"
            ],
            [
             0.8,
             "#7fbc41"
            ],
            [
             0.9,
             "#4d9221"
            ],
            [
             1,
             "#276419"
            ]
           ],
           "sequential": [
            [
             0,
             "#0d0887"
            ],
            [
             0.1111111111111111,
             "#46039f"
            ],
            [
             0.2222222222222222,
             "#7201a8"
            ],
            [
             0.3333333333333333,
             "#9c179e"
            ],
            [
             0.4444444444444444,
             "#bd3786"
            ],
            [
             0.5555555555555556,
             "#d8576b"
            ],
            [
             0.6666666666666666,
             "#ed7953"
            ],
            [
             0.7777777777777778,
             "#fb9f3a"
            ],
            [
             0.8888888888888888,
             "#fdca26"
            ],
            [
             1,
             "#f0f921"
            ]
           ],
           "sequentialminus": [
            [
             0,
             "#0d0887"
            ],
            [
             0.1111111111111111,
             "#46039f"
            ],
            [
             0.2222222222222222,
             "#7201a8"
            ],
            [
             0.3333333333333333,
             "#9c179e"
            ],
            [
             0.4444444444444444,
             "#bd3786"
            ],
            [
             0.5555555555555556,
             "#d8576b"
            ],
            [
             0.6666666666666666,
             "#ed7953"
            ],
            [
             0.7777777777777778,
             "#fb9f3a"
            ],
            [
             0.8888888888888888,
             "#fdca26"
            ],
            [
             1,
             "#f0f921"
            ]
           ]
          },
          "colorway": [
           "#636efa",
           "#EF553B",
           "#00cc96",
           "#ab63fa",
           "#FFA15A",
           "#19d3f3",
           "#FF6692",
           "#B6E880",
           "#FF97FF",
           "#FECB52"
          ],
          "font": {
           "color": "#2a3f5f"
          },
          "geo": {
           "bgcolor": "white",
           "lakecolor": "white",
           "landcolor": "#E5ECF6",
           "showlakes": true,
           "showland": true,
           "subunitcolor": "white"
          },
          "hoverlabel": {
           "align": "left"
          },
          "hovermode": "closest",
          "mapbox": {
           "style": "light"
          },
          "paper_bgcolor": "white",
          "plot_bgcolor": "#E5ECF6",
          "polar": {
           "angularaxis": {
            "gridcolor": "white",
            "linecolor": "white",
            "ticks": ""
           },
           "bgcolor": "#E5ECF6",
           "radialaxis": {
            "gridcolor": "white",
            "linecolor": "white",
            "ticks": ""
           }
          },
          "scene": {
           "xaxis": {
            "backgroundcolor": "#E5ECF6",
            "gridcolor": "white",
            "gridwidth": 2,
            "linecolor": "white",
            "showbackground": true,
            "ticks": "",
            "zerolinecolor": "white"
           },
           "yaxis": {
            "backgroundcolor": "#E5ECF6",
            "gridcolor": "white",
            "gridwidth": 2,
            "linecolor": "white",
            "showbackground": true,
            "ticks": "",
            "zerolinecolor": "white"
           },
           "zaxis": {
            "backgroundcolor": "#E5ECF6",
            "gridcolor": "white",
            "gridwidth": 2,
            "linecolor": "white",
            "showbackground": true,
            "ticks": "",
            "zerolinecolor": "white"
           }
          },
          "shapedefaults": {
           "line": {
            "color": "#2a3f5f"
           }
          },
          "ternary": {
           "aaxis": {
            "gridcolor": "white",
            "linecolor": "white",
            "ticks": ""
           },
           "baxis": {
            "gridcolor": "white",
            "linecolor": "white",
            "ticks": ""
           },
           "bgcolor": "#E5ECF6",
           "caxis": {
            "gridcolor": "white",
            "linecolor": "white",
            "ticks": ""
           }
          },
          "title": {
           "x": 0.05
          },
          "xaxis": {
           "automargin": true,
           "gridcolor": "white",
           "linecolor": "white",
           "ticks": "",
           "title": {
            "standoff": 15
           },
           "zerolinecolor": "white",
           "zerolinewidth": 2
          },
          "yaxis": {
           "automargin": true,
           "gridcolor": "white",
           "linecolor": "white",
           "ticks": "",
           "title": {
            "standoff": 15
           },
           "zerolinecolor": "white",
           "zerolinewidth": 2
          }
         }
        },
        "title": {
         "text": "Strategy is:\tEst-All"
        }
       }
      }
     },
     "metadata": {},
     "output_type": "display_data"
    },
    {
     "data": {
      "application/vnd.plotly.v1+json": {
       "config": {
        "plotlyServerURL": "https://plot.ly"
       },
       "data": [
        {
         "boxmean": "sd",
         "name": "10",
         "type": "box",
         "y": [
          -0.1747691404936448,
          0.2167821883278416,
          0.0805049176331169,
          0.1219810392696564,
          0.2871747659907807,
          -0.1304036029729906,
          0.1177793816979122,
          0.2292054556610497,
          0.0834240653009911,
          0.0978705763299542,
          0.0274219329709318,
          0.0891579603122869,
          -0.0645945070520825,
          0.0702671289789472,
          0.167953884630428,
          -0.0562262975282959,
          0.078249640654384,
          0.1333496635143259,
          -0.1853614401493879,
          0.0894404288515502,
          -0.1980629174306406,
          0.1433818944018573,
          -0.2499352772236737,
          0.2772393313735907,
          0.2459849448097784,
          0.121844254762352,
          -0.2757120655816726,
          0.0532684452002773,
          0.017293254385001,
          0.1102494075225713,
          -0.0507369792516123,
          0.1020323548725738,
          0.2354549477501402,
          0.381943634694929,
          -0.0231201093929128,
          0.2432807222436821,
          0.200785749102432,
          0.343789793010556,
          0.0735535412458705,
          0.3535434442612503,
          0.1159873604417075,
          0.0725318770303864,
          0.3991375663327685,
          0.1490277051345863,
          -0.1039693924671269,
          0.1720910871505918,
          0.2845734533930545,
          0.2984450120796138,
          0.061760965476002,
          0.1524868543540951,
          0.0476494682570238,
          0.282375929549516,
          0.3006102214178505,
          -0.0903275330837386,
          0.126428586085662,
          0.0979336075664169,
          -0.0873963956668364,
          0.1471854229747349,
          -0.0803146222854886,
          0.1997479028054484,
          0.0553118337323735,
          -0.1949637680585006,
          -0.0536980175239859,
          0.0664232256622191,
          -0.0713890738516284,
          0.2815699859136366,
          0.1649100596415155,
          -0.112443332014803,
          0.1786566018285308,
          0.1332499750161379,
          -0.0707577321974563,
          -0.045640914875021,
          0.1987849947003973,
          0.2338467753558848,
          0.0719449469861055,
          -0.2127888775048783,
          0.0484397834955965,
          0.006308622230556,
          0.0312024912264577,
          0.2694542893543257,
          -0.0480910138304656,
          0.2864186242026022,
          0.2038726281892835,
          0.382256375077008,
          0.2970374037184355,
          0.2300982604052543,
          0.1208658956239498,
          0.382080474462976,
          0.2395696044454877,
          0.176749559495327,
          0.0445446659426442,
          0.3734904966792515,
          -0.2274901608660455,
          0.2417051840547428,
          0.3780709958304623,
          0.4399786438628587,
          0.0263149087237937,
          0.1920220706897379,
          -0.0247774082348294,
          0.0793417499210225,
          0.0351659885138735,
          -0.0494348856221538,
          0.0909908829772537,
          0.0919041635861817,
          0.2714689230575408,
          0.155092758192641,
          0.2795685883652531,
          0.0538825859883823,
          0.2877188692266761,
          0.320697900399664,
          0.2127479980335374,
          -0.0335230428222244,
          0.1928897459644564,
          -0.0053448416047021,
          0.2204550343606987,
          0.1510441554008275,
          0.0196865780444836,
          0.1541083237939531,
          0.4252954839497646,
          -0.1802863559219319,
          0.002112756385939,
          0.0936171779470267,
          0.4103105877912762,
          -0.0434174623133487,
          -0.0911242515199328,
          0.0512681215525106,
          0.223015189612357,
          0.2145731934463438,
          0.0748772506451002,
          0.1169101775406864,
          0.1419554710622848,
          -0.1034703231196408,
          0.1181722488133418,
          0.1535988269098427,
          0.3402015071166806,
          -0.0447378803089021,
          0.0704733080214003,
          0.4787681971418865,
          0.1254182611336868,
          -0.199101125039012,
          0.2603510553195894,
          0.2042637475020973,
          0.2366962075804202,
          0.0666290222899701,
          0.0400154977972022,
          0.2725169559266004,
          0.160997513479037,
          0.2903581902920694,
          0.2590280476765413,
          -0.0039790416147078,
          -0.0792392392517392,
          0.3184561871645421,
          0.3404930770324418,
          0.0848723623054647,
          -0.2045393690991768,
          0.0238521689864241,
          0.2898595973391308,
          -0.0491864826817415,
          0.2904191825546995,
          0.1301715312210801,
          0.0179566266169868,
          0.1409926277411892,
          0.1480830546529782,
          0.0576513027075527,
          -0.159892748272957,
          0.1426375473826682,
          -0.1799338062181376,
          0.0007907024581608,
          0.2676394362501533,
          0.3496537419673577,
          0.1048512362505129,
          0.3188303116670372,
          0.2370137721534336,
          -0.0051486921871544,
          0.1643082651651343,
          0.0325631494999019,
          -0.0521932026267161,
          -0.0747793724462322,
          0.2111701552291798,
          0.0748608468145891,
          -0.0103326682827829,
          0.0311051252349901,
          0.1912567477773055,
          0.0588412538532684,
          0.0393148279015519,
          0.1971161663518292,
          0.2694265407408743,
          0.1490084900554166,
          0.026925222913612,
          0.0200898692045846,
          0.0466584072637994,
          -0.0954322369548727,
          0.0182084372416671,
          0.2923669470406807,
          0.1454062901626936,
          -0.141925301173876,
          0.1685767530494056,
          0.3255152163731897,
          0.3281226042013525,
          0.2639567676099935,
          -0.0299515299513171,
          0.0958054360877441,
          0.4009335182580067,
          -0.01700731058369,
          0.254857920823463,
          0.1330941602952524,
          0.2421736868387121,
          0.3167150855309051,
          -0.0853691768939328,
          -0.0065090845406611,
          0.5632684414429496,
          0.0915819241258614,
          0.0758631763036834,
          0.0352842108423802,
          0.2309329975903937,
          0.2949217747877956,
          -0.115853914003512,
          0.5118638735011333,
          0.1341523258414856,
          0.1815483763466605,
          -0.0334808872012768,
          0.2554385346792919,
          0.4190870522061282,
          0.1666235600359609,
          0.0773540811415602,
          0.1403030213752141,
          0.0072677281004182,
          0.1051332406085654,
          0.2526812545623431,
          -0.0909455305317081,
          0.2676875530885112,
          0.2025664493109336,
          0.1442518536622855,
          -0.2162548411148168,
          -0.0882320954338548,
          0.187506676595217,
          0.2086901698054841,
          0.1396846089324811,
          -0.135741393113695,
          0.3371752285224964,
          0.067245708918472,
          -0.1199155562583444,
          -0.0471306340374517,
          0.1148081173856586,
          0.4573581725329236,
          0.0990168331820897,
          -0.2853566938318913,
          0.1954614815049885,
          0.0165377807516554,
          0.1598948515842142
         ]
        },
        {
         "boxmean": "sd",
         "name": "20",
         "type": "box",
         "y": [
          -0.0344789914958562,
          0.1721187450078949,
          0.075966473139814,
          0.2576327126246565,
          0.2345918229530931,
          -0.1095698744735203,
          0.1276114433029849,
          0.0586279273044207,
          0.2856175562024668,
          0.0745201961970703,
          0.0937059451907307,
          0.2868794795798438,
          -0.2289879130497057,
          0.1347913506537668,
          0.0285868479097911,
          -0.0430669061830527,
          0.1514247670836732,
          0.0985336130334711,
          -0.0080785845334206,
          0.2729488328201065,
          -0.0696039151488389,
          0.1135069568211139,
          -0.1131592949162225,
          0.2848628722221075,
          0.3320982758796797,
          0.3015668158413926,
          0.1369092661782618,
          0.069523030270799,
          0.0339401494086078,
          0.1229789998061808,
          0.2092600580275687,
          0.264146423410276,
          0.0178254648922653,
          0.2865208308377228,
          0.0894875639378514,
          0.3505606127940821,
          0.067147008584741,
          0.2213335525376621,
          -0.0945963504979216,
          0.1974343793423711,
          -0.0021854427274066,
          0.0650989842353318,
          0.4542652033057773,
          -0.09902058906992,
          -0.1702566469168664,
          0.3445653398064663,
          0.1322030774434369,
          0.2715401637269013,
          0.0199695018673116,
          0.2707440689366215,
          0.0965381020883488,
          0.1125595324893355,
          0.2092660555372876,
          0.1234019523894719,
          0.1268986988121598,
          0.1663053311138192,
          0.1782617905275883,
          0.0021109294392268,
          0.1647053134333368,
          0.170887587549534,
          0.232384530146933,
          -0.0385804319545988,
          0.2555429130596306,
          0.0693823438729363,
          -0.1407120611555447,
          0.417681017052359,
          0.2076670156660374,
          0.0201499031892189,
          0.1925241161564966,
          0.1764491812682682,
          -0.0194676838326794,
          0.0307116550129868,
          0.2162322595640887,
          0.3034254623762744,
          0.1771634062629203,
          -0.0990198748421275,
          0.1920638091965147,
          0.2306198532454985,
          0.0240516712824178,
          -0.2237438760303557,
          0.0827930735717242,
          0.3969673745454131,
          0.4410518032262633,
          0.2531935249589295,
          0.0700898723269569,
          0.3958632180710961,
          0.2680962343791219,
          0.2176327394157383,
          0.2526711172268716,
          0.314843302293575,
          0.0571445763266166,
          0.4065755504980066,
          -0.0989629878648181,
          0.1295285699680011,
          0.4097478148008182,
          0.4209823550783619,
          0.0137866266852292,
          0.1593438899455225,
          -0.107260374118882,
          0.2648102906514241,
          0.1340094972638233,
          0.0930312391661559,
          0.3949423613434245,
          0.1118438390329397,
          0.1056229829433693,
          0.1701952133806301,
          0.3765259048934827,
          0.0177405757280184,
          0.1954627454232495,
          0.3712916854649293,
          0.2433773551132251,
          0.3044471431467856,
          0.3188427818252274,
          -0.070023933576721,
          0.3424754037673949,
          -0.0389702822224887,
          0.1461940987280858,
          -0.0461150807586669,
          0.3810959763535657,
          -0.1562668064678925,
          0.1206084993881417,
          -0.0971969907434269,
          0.4448485052825446,
          0.3351379078407114,
          -0.0435849233379083,
          -0.1339441245042217,
          0.2795943023341376,
          -0.1154942122057,
          0.2559729990538517,
          0.1753217988987878,
          0.3603672757894327,
          -0.0905795691359007,
          0.2843778401158168,
          0.3169062102821649,
          0.2437914011313147,
          0.023786109439558,
          0.1137856780672867,
          0.3644632428869353,
          0.2105423835741983,
          -0.0774626096716655,
          0.2793045252209901,
          0.0230860756159764,
          0.3174601456674017,
          0.2074827256987208,
          -0.0600786951079118,
          0.2961833991920203,
          0.4087693287144723,
          0.2131145961266261,
          0.2642086391942592,
          0.1317906932668307,
          -0.079705791692091,
          0.4087609237188326,
          0.4321190603210066,
          0.1471701169366901,
          0.0201582362891025,
          -0.1484372473857234,
          0.2595552519714283,
          0.0362174927550808,
          0.4651811363799385,
          -0.0629272003554004,
          -0.0028452090337191,
          0.1980783847486843,
          0.4444221683619051,
          -0.0375835121266793,
          -0.0633250121634772,
          -0.1332639551633239,
          -0.0193932582749826,
          0.0513322237709331,
          0.1869873241970165,
          0.4457008240159531,
          -0.000922458314921,
          0.4336548285041343,
          0.3950997958886748,
          0.0658560948086164,
          -0.0353934071010317,
          0.0741145116609682,
          -0.0503225482042968,
          0.3411057915582232,
          0.2231751333074253,
          0.0324418046959791,
          -0.0171468671909257,
          0.1591383018189501,
          0.2603959468620543,
          0.0886939191644777,
          -0.1019044513601038,
          0.1082672969861749,
          0.1627145365488101,
          0.4002290685537434,
          -0.0268714699001745,
          0.0282316292975056,
          0.0954374564303759,
          0.102632841100355,
          0.0468896976661777,
          0.2043785413554862,
          0.1523347666356012,
          -0.0801123680326642,
          0.0715576943667429,
          0.105908457996633,
          0.2428616565425127,
          0.285279449978083,
          -0.0090215293253205,
          0.2095293567766163,
          0.2915843640364405,
          -0.010636680692701,
          0.2256338646610561,
          0.2923776255784852,
          0.3384210325994581,
          0.1867424172401861,
          0.0807642876994811,
          0.1420990154306768,
          0.3594719253000621,
          0.1489149639147766,
          0.0246353446304806,
          0.2996081217707249,
          0.2371894682312855,
          0.1777879233298748,
          0.1091677973789911,
          0.4513790279670363,
          0.0781541590853856,
          0.1930534091101323,
          0.0343155500289798,
          0.1710953135396439,
          0.2826522286737038,
          0.2121681921634763,
          0.1722919525099901,
          0.1342516412985435,
          -0.1950179837955943,
          0.1568642948102699,
          0.1387784364746845,
          -0.0075733132940614,
          0.2002064309744651,
          0.1813555309119087,
          0.1612999983210674,
          -0.0616923327396551,
          -0.1307862834569493,
          0.1820702134735045,
          0.1141924829246279,
          -0.0737817467291759,
          0.0064042348759556,
          0.4531561233670557,
          0.0766254824260126,
          0.1738116572414618,
          0.0046334932097225,
          0.1883518223604894,
          0.8008797757971119,
          0.0281675027657194,
          -0.0576554565015671,
          0.0965495738671083,
          -0.1231570705098304,
          0.2254825990259723
         ]
        },
        {
         "boxmean": "sd",
         "name": "30",
         "type": "box",
         "y": [
          0.0594413515412804,
          -0.0063661334883881,
          0.0916080061446871,
          0.2033844651402241,
          0.2241552449292322,
          -0.0026113859069436,
          0.1112053124650649,
          0.0314940997660633,
          0.0993870531779251,
          0.2450057367144301,
          0.1067897134301133,
          0.145952006492438,
          -0.1204871670811919,
          0.1651035325980385,
          0.0298741935570877,
          0.0744609412418751,
          0.1627211608129377,
          -0.0143334074301001,
          0.198946621974155,
          0.2846540872846583,
          0.1245302218281231,
          0.0435162777429308,
          -0.1495630313929821,
          0.2946271947857595,
          0.1881248174989661,
          0.2970217863885156,
          0.3545591136527224,
          0.0470130730564229,
          0.2423025317759108,
          0.1815984880064658,
          0.4805819979752324,
          0.3394203403077931,
          -0.0380870199090654,
          0.1331315270219505,
          0.0530925892814032,
          0.3809787421414466,
          -0.0252167802677563,
          0.2713691621718949,
          -0.0930710848531892,
          0.0245625676328456,
          0.2117764091597492,
          0.2434739154395236,
          0.3279811564149539,
          -0.1316681709844906,
          -0.0906284682968085,
          0.4150146844804714,
          0.1430063490903775,
          -0.1468505586876842,
          0.2881776512349051,
          0.201618759410448,
          0.0908023287187262,
          0.1619484274199428,
          0.2710386505400647,
          0.1571535663182767,
          -0.0306041702942945,
          0.238214553482512,
          0.3850971809252481,
          -0.0297925085623258,
          0.2838715608717271,
          0.1308158939506608,
          0.2920316494406332,
          0.0124193108780453,
          0.3014757529301422,
          -0.0301577194926467,
          -0.1988618329519267,
          0.4104235539569803,
          0.1509250208261855,
          0.162611210507113,
          0.314870056865444,
          0.0432860733297232,
          0.0807956682414781,
          0.0467519848603306,
          0.146558750731927,
          0.3535100777256285,
          0.1291072832715645,
          -0.1368628668739883,
          0.0888560321805611,
          0.2079014743316233,
          0.0328453848419757,
          -0.2525740232630361,
          0.1293493953450649,
          0.3634976203912096,
          0.4293003494491664,
          0.1477150716054924,
          0.101510208531368,
          0.2808173728928219,
          0.1710956738933136,
          0.1163709211070834,
          0.2687117561820439,
          0.3502880440828572,
          0.2668586223264347,
          0.348326009158608,
          -0.1328285195923255,
          0.1802643257291363,
          0.3358176559045449,
          0.3966838716902945,
          0.1079366002956424,
          0.0364900496841497,
          -0.0387414567038291,
          0.0724173690533584,
          0.0930955704809455,
          0.1720185594028048,
          0.3232857259094127,
          0.1950370569012655,
          0.2398866576054697,
          0.1712244924849397,
          0.4046707622473293,
          -0.0124624130716903,
          0.1156755432494992,
          0.3010792620791057,
          0.087733669124103,
          0.3653031249842317,
          0.3081063284395537,
          -0.2706847131469886,
          0.3338362920902287,
          0.0533385835387449,
          0.1340817641916232,
          0.0103995251272569,
          0.3348531604753042,
          0.011449286439438,
          0.1287132852204966,
          -0.081850838220288,
          0.4665068669228508,
          0.2699520937921302,
          -0.0568572631373724,
          -0.0338549025462773,
          0.3381890304650197,
          0.0867857421574685,
          0.3830120733926576,
          0.2121822776638532,
          0.1985097190029964,
          -0.2376498240752544,
          0.2434465838068841,
          0.3382375610529987,
          0.0527593905079482,
          0.1045673396156716,
          0.2955392690753884,
          0.3645035705293314,
          0.2019698095123673,
          -0.0172018057986305,
          0.2829701487101372,
          -0.0474343610397054,
          0.1909698651548164,
          0.2106310031436691,
          0.0039925595158273,
          0.165081313162398,
          0.2567706707390714,
          0.2952213130965739,
          0.351827309393502,
          0.1973075054616482,
          -0.1146806007335953,
          0.2765513547708306,
          0.3934769838660066,
          -0.012277624834576,
          0.3119014977172195,
          0.0573270810814501,
          0.2124570445226506,
          -0.0338991013761768,
          0.5838989945986935,
          0.0926514206003715,
          0.3502227758862944,
          0.1491552371425615,
          0.4786457928758125,
          0.084609590286605,
          -0.0566492783277706,
          0.0259756247707618,
          0.0091289377313461,
          -0.0842688538948984,
          0.2065011564613263,
          0.2099679658680318,
          0.1921952431987917,
          0.2780195615837061,
          0.5011801881646026,
          0.2055688445681275,
          -0.004476671544233,
          0.0599783287160427,
          -0.1166469998707173,
          0.212681940731096,
          0.2684973606442398,
          0.1898596000389171,
          -0.0466591917019019,
          0.1696320774743483,
          0.2942902070075201,
          0.037480316885004,
          -0.0364886986738844,
          0.2261854429153317,
          0.1340394878903186,
          0.2637068262076136,
          0.1244872748995257,
          0.1253813464798004,
          0.099756174937055,
          0.0014266764987675,
          0.0762611997817131,
          0.03203792463691,
          0.2344273789172314,
          -0.0321854533292741,
          0.0709475994351797,
          0.3019497878794698,
          0.341602234721341,
          0.4006725563038111,
          -0.0195397833754625,
          0.3207360882429878,
          0.3305704673669387,
          -0.1286254262311791,
          0.1106188064787844,
          0.2937047876949847,
          0.43566002121025,
          0.0555425996977364,
          0.0650323212503117,
          -0.0609421600664984,
          0.1713753493483178,
          0.0930149673000472,
          0.143495479037047,
          0.3629042421706477,
          0.2588901401364341,
          0.1882396438043166,
          0.0754152027916825,
          0.4789662177743721,
          0.07130717983464,
          0.0944046449816156,
          0.1078525481584313,
          0.1382127253853877,
          0.2231780243601219,
          0.3633401365316686,
          0.3107599525910515,
          0.1955915553623025,
          -0.2634287994114368,
          0.3324812240755596,
          0.2189169651591268,
          0.0209842608691377,
          0.0540373309787033,
          0.0756436302599053,
          0.2846515225492497,
          -0.0585820675128493,
          0.0331453676121663,
          0.2040769696228289,
          0.1670018886420196,
          -0.1259409829618091,
          0.1569132537756664,
          0.5093830248399885,
          0.0235331952582658,
          0.054515630546943,
          -0.071408415096323,
          0.1499680379678344,
          0.661864062815572,
          0.1086640817934166,
          -0.0742547371580155,
          0.0290512557167464,
          -0.1724241029460358,
          0.2457452205807783
         ]
        },
        {
         "boxmean": "sd",
         "name": "40",
         "type": "box",
         "y": [
          0.0698892150608668,
          0.057601548549933,
          0.1017379670136992,
          0.1942709403655013,
          0.1035726490378435,
          0.1180977397993345,
          0.0978954067663866,
          0.0885811963438807,
          0.2595995588480435,
          0.3851105001100962,
          0.0685454121316716,
          0.0786250310143644,
          -0.0322222991135008,
          0.0657071547509867,
          0.0417167489736941,
          0.0726902340240625,
          0.2221581335949135,
          -0.1318747040788819,
          0.060815575222202,
          0.356791388335009,
          0.0686781529651152,
          -0.0156078333641734,
          0.0156695958728715,
          0.2689590840126915,
          0.2203245528019777,
          0.362309287815856,
          0.294552451678395,
          -0.018287588063365,
          0.2250738671475149,
          0.0212285314570195,
          0.3808221617306753,
          0.3768427538677269,
          -0.0120307004241609,
          0.1194056726142857,
          0.1187259351976679,
          0.495330187953247,
          0.165164291315784,
          0.2022208459160463,
          -0.0931554622430932,
          0.0810626576538455,
          0.3859291593769511,
          0.3050197766951414,
          0.1363639110750375,
          -0.2582247818576798,
          -0.2330168505173053,
          0.5664718544430029,
          0.00995582152395,
          0.0410579550990902,
          0.1161185026046169,
          0.3072590139289922,
          0.1864508130264276,
          0.1896715457095543,
          0.3620779089985348,
          0.0891008827794992,
          0.030252032877653,
          0.1592334458078883,
          0.2208770423756134,
          -0.0162078420019996,
          0.3336783446135714,
          0.0911606064559279,
          0.2735649921051782,
          -0.159834570045257,
          0.4051063326583554,
          0.0714647813758261,
          -0.0410730795305918,
          0.3375621309077533,
          0.1131466436298356,
          0.2555978973373232,
          0.3231425829847112,
          0.0788717134790676,
          0.0611435180228369,
          0.1650108267222467,
          0.2839937740102733,
          0.518326206724488,
          0.1181251958100362,
          -0.0910406291504763,
          0.3201372826096178,
          0.2315686226399491,
          -0.026470145442566,
          -0.0908976145478668,
          0.1114306164115304,
          0.3798486195189839,
          0.624122318278434,
          0.1873024624560398,
          0.2289184253041253,
          0.2787542918035827,
          0.0666825309340225,
          0.2590091512037963,
          0.2678557235737744,
          0.3762456699645211,
          0.2254037793044497,
          0.2333463981619761,
          0.1339729808588704,
          0.2207647052253898,
          0.3948489399227941,
          0.2327340113567339,
          0.1650879854747733,
          0.1591814776857965,
          0.1424727104287527,
          0.1800075942900278,
          0.2158553391360773,
          0.1916116539799777,
          0.254101021769318,
          0.3504414575567892,
          0.2232382636365597,
          0.2007695350668772,
          0.3752651001246074,
          0.1628699032181631,
          0.2063727566169771,
          0.164696414507203,
          0.084156212970936,
          0.3539954339009073,
          0.2923987840523789,
          -0.004805715538152,
          0.2395938941272311,
          0.0943948208191237,
          0.0955749868024224,
          -0.0209610741339233,
          0.3220704440554828,
          0.2562813669027761,
          0.0682830667233017,
          -0.1288476811036068,
          0.4678024432902846,
          0.3772852701291024,
          -0.2809995791952983,
          0.0708421405189517,
          0.2631988664697939,
          -0.0222053589612858,
          0.2905954861471265,
          0.3486303164616052,
          0.1533819975728619,
          -0.0411115321542588,
          0.2233591810049011,
          0.3103766451838733,
          -0.1267742930312234,
          0.1694919703383022,
          0.0520037863698981,
          0.3048212554171763,
          0.1706925921267538,
          0.0665590259058027,
          0.1747886619484997,
          0.1111770137935947,
          0.2178589120752687,
          0.1767568185951031,
          0.1104368334563509,
          -0.0647337768805323,
          0.2986680425376707,
          0.3365104951918164,
          0.1872460543786214,
          0.1717979895463938,
          0.1168134268261829,
          0.1693485800474271,
          0.3240302074021905,
          0.169496037271229,
          0.399010922750073,
          0.0292719777282328,
          0.2770945150185604,
          0.0120534485177807,
          0.4469958189867593,
          0.1485479017061924,
          0.3636166157931333,
          0.0683630921612466,
          0.3060737892879976,
          0.0005521871705802,
          -0.3001841441965076,
          0.2374164772346301,
          -0.093938659671347,
          -0.1186267910018112,
          0.223362588556095,
          0.2897360725755871,
          0.0875295277261236,
          0.2198684954239121,
          0.6287249226693675,
          0.268134109977841,
          -0.0411315450635063,
          0.1469292578620229,
          0.1185669339554997,
          0.2781962028372841,
          0.2264451978795336,
          0.1885848749669187,
          -0.1175448167957904,
          0.2019887556942399,
          0.1194418150748906,
          0.0323067303786557,
          -0.037908233840045,
          0.1174770780502434,
          0.1020760348894042,
          0.3784336994299101,
          0.3746767610515439,
          -0.0348130620765963,
          0.1316331703671136,
          0.0821488175400329,
          -0.0029451732457305,
          -0.07899700108795,
          0.2408529644998081,
          -0.0768898497010655,
          0.1562336688242085,
          0.1240610324446001,
          0.2049410050501133,
          0.1935278239189181,
          0.0406631994295577,
          0.286799713583899,
          0.4611525454108993,
          -0.245243035477861,
          0.2054228066274789,
          0.3507138585001128,
          0.307846764191154,
          -0.2013081452224483,
          0.0568338279489239,
          0.0363588535812589,
          0.2679303499204057,
          0.1237717159063497,
          0.0918760858333194,
          0.3393398579969746,
          0.3179416218005615,
          0.055595942852895,
          0.1222998277149762,
          0.2785617430816706,
          -0.1343216930432505,
          0.0766385988628348,
          0.0695675122043945,
          0.2396697221764655,
          0.0537352081365747,
          0.3207542149169904,
          0.3396288090513529,
          0.1979501943042668,
          -0.1543574456436111,
          0.3139478489730528,
          0.2564719435366982,
          0.1604714922463704,
          0.032033566616323,
          0.1068876939514478,
          0.2778432404920408,
          0.1774470971669184,
          0.1532713692494,
          0.3916567420186356,
          0.0986476002396196,
          0.0589880725624139,
          0.2799285010334731,
          0.4562803955349357,
          0.1323362553961279,
          0.1494495498285745,
          -0.1249075917890163,
          0.097413876479044,
          0.7099308669246845,
          0.2140366169387778,
          -0.0453286165794434,
          0.2161195030821608,
          -0.01080183553653,
          0.1703960958286992
         ]
        },
        {
         "boxmean": "sd",
         "name": "50",
         "type": "box",
         "y": [
          0.1805531070113055,
          0.1412550646017755,
          0.1719169916255682,
          0.0640625973559501,
          0.043271115693448,
          0.1016373145083206,
          0.0761814634422642,
          0.0886084277104122,
          0.2690197681277567,
          0.4013779712154988,
          0.0795309233280028,
          0.1119629009355542,
          -0.0203588519937781,
          0.0277218375252474,
          0.0751779867684176,
          0.242051555271687,
          0.1609652118982505,
          -0.00007834872686530357,
          0.154849438756301,
          0.1778465955649581,
          0.1972524496792115,
          -0.103788953787368,
          -0.0021595037859156,
          0.2331043206229415,
          0.1213725180065042,
          0.40563109025928,
          0.3974847143969295,
          -0.0611903804265494,
          0.240875419226065,
          -0.0640463951009318,
          0.2471786115410649,
          0.2929332773925072,
          -0.1003333681966788,
          0.1532253033513273,
          0.0804795521671373,
          0.2902675411149684,
          0.0795477202904373,
          0.3165031546012436,
          0.0505074427827137,
          0.2363303284745946,
          0.4049425693724799,
          0.3361869174149441,
          0.0448345977817875,
          -0.1638114165855749,
          0.050655251209529,
          0.6548728504576802,
          -0.0037973819955252,
          -0.0199098881398776,
          0.0827196923268059,
          0.2255835830693482,
          0.2765360185075168,
          0.0449950248961473,
          0.3350667706341672,
          0.0926155567732364,
          0.2145156056916345,
          0.1806269958690907,
          0.1032442303373361,
          -0.1320573670827401,
          0.456490818723122,
          0.1194839428482947,
          0.2284128314349048,
          0.0171555825327244,
          0.3823034537946488,
          0.0714535230038199,
          -0.0359874998490297,
          0.3379020558906737,
          0.2509043797550839,
          0.2905159971968276,
          0.1147409469629662,
          0.1152310760104687,
          -0.0716109761145041,
          0.2812879743094198,
          0.2781281612733704,
          0.6449737195316073,
          0.2437888143312587,
          0.1769646125725002,
          0.264684726787286,
          0.3641432010931886,
          -0.0876734412182542,
          0.0811436393928757,
          0.2332110266847286,
          0.3750379789074926,
          0.4611832167242846,
          0.1598670527752022,
          0.4039738352146661,
          0.2877120395960349,
          0.1090469571547726,
          0.3269629508510288,
          0.2329602059520271,
          0.4518719955457851,
          0.2902518929092068,
          0.1183784473683982,
          0.420565867914094,
          0.2645643955303297,
          0.4026533471598892,
          0.2359596512581479,
          0.2698883498112389,
          0.1773804899574005,
          0.0052544766880132,
          0.2015728926102286,
          0.4650567339381674,
          0.1447262126932017,
          0.1453132404962936,
          0.4036132482491291,
          0.3557927068201188,
          0.0730919908458975,
          0.3045976386969458,
          0.3450062229733687,
          0.1594420931127115,
          0.1972853432773474,
          0.3263795311470208,
          0.4158881997721432,
          0.2016500019187827,
          0.1003740212710595,
          0.1589291840457452,
          0.1696702232600706,
          0.085409923016921,
          -0.0029635537083556,
          0.456886556775838,
          0.1686508845693857,
          0.1059042352627127,
          -0.0344554973170167,
          0.3504790741623308,
          0.4530593051933608,
          0.0590540929766933,
          -0.0158466760817778,
          0.2843577994963918,
          0.0741029987747932,
          0.3994364094966822,
          0.3248341156397885,
          0.1133736929091569,
          0.062466910670454,
          0.2784049585494336,
          0.3711087547798429,
          0.0028436606976172,
          0.1705481639899688,
          0.2054339735951718,
          0.3202610235442071,
          0.189049563251644,
          0.0114883622160826,
          0.2430604721812052,
          0.1227631870136179,
          0.0935852566371224,
          -0.0267459136913997,
          0.0777112544933177,
          -0.1868956001652007,
          0.2830651954518636,
          0.2778979082186296,
          0.0886256595596926,
          0.1457790378213976,
          0.0099966724314411,
          0.1528540166280953,
          0.3842548540788691,
          0.1298286301893424,
          0.4321381224552356,
          0.0764366562701742,
          0.3505049878006038,
          0.0610326936290004,
          0.4566701637291133,
          0.0886654066797089,
          0.2678373392718361,
          0.0551468703313536,
          0.2609251819504763,
          -0.0332719089317278,
          -0.0062662193193344,
          0.1390398457988292,
          0.0289612720023462,
          -0.0473064997758703,
          0.1643091022774694,
          0.1812535715343118,
          0.0507304663982602,
          0.1651261928722957,
          0.5805361676942679,
          0.3938653367363583,
          0.1024532198286494,
          0.1525630989137552,
          0.3661394712508014,
          0.2158063736706595,
          0.1812046550953285,
          0.0299713161833274,
          -0.0694958265768909,
          0.2516089882434499,
          0.166989462344628,
          0.2225504858794043,
          -0.0253824199934511,
          0.2588296438122226,
          0.1940118397565042,
          0.3537319387704698,
          0.5149150832096789,
          0.0293229025093558,
          0.1205381239435008,
          -0.0253563788950419,
          -0.0027945142493101,
          -0.0207313653809992,
          0.3643902550407929,
          -0.0804123021674538,
          0.2214370418009089,
          0.165204307061295,
          0.1368646898679879,
          0.179988073870985,
          0.1959645214684808,
          0.4133919025516234,
          0.4755784312929072,
          -0.1039057077173487,
          0.1377804003844738,
          0.2136062302413213,
          0.3709739720609978,
          -0.0026252857734656,
          0.1255516055888251,
          -0.046120211921153,
          0.3250841878146157,
          0.1464812690072636,
          0.1945429407976923,
          0.2184245943924803,
          0.1254763926952118,
          -0.0277522278546528,
          0.0273355149975322,
          0.1171530980566282,
          -0.0739793687687893,
          0.0740981258917173,
          0.0113906098901636,
          0.1973445226221269,
          0.0176955013088157,
          0.3701402949498714,
          0.2432303584540554,
          0.1451879824632605,
          0.0106981540017627,
          0.3319331344764847,
          0.3111396452546633,
          0.1525644641628572,
          0.0299910812637788,
          0.2223666156162208,
          0.326867983098872,
          0.1699113343531379,
          0.2701966051094944,
          0.3432101932122527,
          0.3027286906285315,
          0.0285600838236245,
          0.2962148704415248,
          0.3084704173027502,
          0.2209953693497782,
          0.2102134995311762,
          0.0705694592032353,
          0.3297685630340618,
          0.5740720919850698,
          0.2150535231749073,
          -0.0105238555462424,
          -0.0230504273850222,
          0.2117411604887288,
          0.2125032188503244
         ]
        }
       ],
       "layout": {
        "template": {
         "data": {
          "bar": [
           {
            "error_x": {
             "color": "#2a3f5f"
            },
            "error_y": {
             "color": "#2a3f5f"
            },
            "marker": {
             "line": {
              "color": "#E5ECF6",
              "width": 0.5
             },
             "pattern": {
              "fillmode": "overlay",
              "size": 10,
              "solidity": 0.2
             }
            },
            "type": "bar"
           }
          ],
          "barpolar": [
           {
            "marker": {
             "line": {
              "color": "#E5ECF6",
              "width": 0.5
             },
             "pattern": {
              "fillmode": "overlay",
              "size": 10,
              "solidity": 0.2
             }
            },
            "type": "barpolar"
           }
          ],
          "carpet": [
           {
            "aaxis": {
             "endlinecolor": "#2a3f5f",
             "gridcolor": "white",
             "linecolor": "white",
             "minorgridcolor": "white",
             "startlinecolor": "#2a3f5f"
            },
            "baxis": {
             "endlinecolor": "#2a3f5f",
             "gridcolor": "white",
             "linecolor": "white",
             "minorgridcolor": "white",
             "startlinecolor": "#2a3f5f"
            },
            "type": "carpet"
           }
          ],
          "choropleth": [
           {
            "colorbar": {
             "outlinewidth": 0,
             "ticks": ""
            },
            "type": "choropleth"
           }
          ],
          "contour": [
           {
            "colorbar": {
             "outlinewidth": 0,
             "ticks": ""
            },
            "colorscale": [
             [
              0,
              "#0d0887"
             ],
             [
              0.1111111111111111,
              "#46039f"
             ],
             [
              0.2222222222222222,
              "#7201a8"
             ],
             [
              0.3333333333333333,
              "#9c179e"
             ],
             [
              0.4444444444444444,
              "#bd3786"
             ],
             [
              0.5555555555555556,
              "#d8576b"
             ],
             [
              0.6666666666666666,
              "#ed7953"
             ],
             [
              0.7777777777777778,
              "#fb9f3a"
             ],
             [
              0.8888888888888888,
              "#fdca26"
             ],
             [
              1,
              "#f0f921"
             ]
            ],
            "type": "contour"
           }
          ],
          "contourcarpet": [
           {
            "colorbar": {
             "outlinewidth": 0,
             "ticks": ""
            },
            "type": "contourcarpet"
           }
          ],
          "heatmap": [
           {
            "colorbar": {
             "outlinewidth": 0,
             "ticks": ""
            },
            "colorscale": [
             [
              0,
              "#0d0887"
             ],
             [
              0.1111111111111111,
              "#46039f"
             ],
             [
              0.2222222222222222,
              "#7201a8"
             ],
             [
              0.3333333333333333,
              "#9c179e"
             ],
             [
              0.4444444444444444,
              "#bd3786"
             ],
             [
              0.5555555555555556,
              "#d8576b"
             ],
             [
              0.6666666666666666,
              "#ed7953"
             ],
             [
              0.7777777777777778,
              "#fb9f3a"
             ],
             [
              0.8888888888888888,
              "#fdca26"
             ],
             [
              1,
              "#f0f921"
             ]
            ],
            "type": "heatmap"
           }
          ],
          "heatmapgl": [
           {
            "colorbar": {
             "outlinewidth": 0,
             "ticks": ""
            },
            "colorscale": [
             [
              0,
              "#0d0887"
             ],
             [
              0.1111111111111111,
              "#46039f"
             ],
             [
              0.2222222222222222,
              "#7201a8"
             ],
             [
              0.3333333333333333,
              "#9c179e"
             ],
             [
              0.4444444444444444,
              "#bd3786"
             ],
             [
              0.5555555555555556,
              "#d8576b"
             ],
             [
              0.6666666666666666,
              "#ed7953"
             ],
             [
              0.7777777777777778,
              "#fb9f3a"
             ],
             [
              0.8888888888888888,
              "#fdca26"
             ],
             [
              1,
              "#f0f921"
             ]
            ],
            "type": "heatmapgl"
           }
          ],
          "histogram": [
           {
            "marker": {
             "pattern": {
              "fillmode": "overlay",
              "size": 10,
              "solidity": 0.2
             }
            },
            "type": "histogram"
           }
          ],
          "histogram2d": [
           {
            "colorbar": {
             "outlinewidth": 0,
             "ticks": ""
            },
            "colorscale": [
             [
              0,
              "#0d0887"
             ],
             [
              0.1111111111111111,
              "#46039f"
             ],
             [
              0.2222222222222222,
              "#7201a8"
             ],
             [
              0.3333333333333333,
              "#9c179e"
             ],
             [
              0.4444444444444444,
              "#bd3786"
             ],
             [
              0.5555555555555556,
              "#d8576b"
             ],
             [
              0.6666666666666666,
              "#ed7953"
             ],
             [
              0.7777777777777778,
              "#fb9f3a"
             ],
             [
              0.8888888888888888,
              "#fdca26"
             ],
             [
              1,
              "#f0f921"
             ]
            ],
            "type": "histogram2d"
           }
          ],
          "histogram2dcontour": [
           {
            "colorbar": {
             "outlinewidth": 0,
             "ticks": ""
            },
            "colorscale": [
             [
              0,
              "#0d0887"
             ],
             [
              0.1111111111111111,
              "#46039f"
             ],
             [
              0.2222222222222222,
              "#7201a8"
             ],
             [
              0.3333333333333333,
              "#9c179e"
             ],
             [
              0.4444444444444444,
              "#bd3786"
             ],
             [
              0.5555555555555556,
              "#d8576b"
             ],
             [
              0.6666666666666666,
              "#ed7953"
             ],
             [
              0.7777777777777778,
              "#fb9f3a"
             ],
             [
              0.8888888888888888,
              "#fdca26"
             ],
             [
              1,
              "#f0f921"
             ]
            ],
            "type": "histogram2dcontour"
           }
          ],
          "mesh3d": [
           {
            "colorbar": {
             "outlinewidth": 0,
             "ticks": ""
            },
            "type": "mesh3d"
           }
          ],
          "parcoords": [
           {
            "line": {
             "colorbar": {
              "outlinewidth": 0,
              "ticks": ""
             }
            },
            "type": "parcoords"
           }
          ],
          "pie": [
           {
            "automargin": true,
            "type": "pie"
           }
          ],
          "scatter": [
           {
            "fillpattern": {
             "fillmode": "overlay",
             "size": 10,
             "solidity": 0.2
            },
            "type": "scatter"
           }
          ],
          "scatter3d": [
           {
            "line": {
             "colorbar": {
              "outlinewidth": 0,
              "ticks": ""
             }
            },
            "marker": {
             "colorbar": {
              "outlinewidth": 0,
              "ticks": ""
             }
            },
            "type": "scatter3d"
           }
          ],
          "scattercarpet": [
           {
            "marker": {
             "colorbar": {
              "outlinewidth": 0,
              "ticks": ""
             }
            },
            "type": "scattercarpet"
           }
          ],
          "scattergeo": [
           {
            "marker": {
             "colorbar": {
              "outlinewidth": 0,
              "ticks": ""
             }
            },
            "type": "scattergeo"
           }
          ],
          "scattergl": [
           {
            "marker": {
             "colorbar": {
              "outlinewidth": 0,
              "ticks": ""
             }
            },
            "type": "scattergl"
           }
          ],
          "scattermapbox": [
           {
            "marker": {
             "colorbar": {
              "outlinewidth": 0,
              "ticks": ""
             }
            },
            "type": "scattermapbox"
           }
          ],
          "scatterpolar": [
           {
            "marker": {
             "colorbar": {
              "outlinewidth": 0,
              "ticks": ""
             }
            },
            "type": "scatterpolar"
           }
          ],
          "scatterpolargl": [
           {
            "marker": {
             "colorbar": {
              "outlinewidth": 0,
              "ticks": ""
             }
            },
            "type": "scatterpolargl"
           }
          ],
          "scatterternary": [
           {
            "marker": {
             "colorbar": {
              "outlinewidth": 0,
              "ticks": ""
             }
            },
            "type": "scatterternary"
           }
          ],
          "surface": [
           {
            "colorbar": {
             "outlinewidth": 0,
             "ticks": ""
            },
            "colorscale": [
             [
              0,
              "#0d0887"
             ],
             [
              0.1111111111111111,
              "#46039f"
             ],
             [
              0.2222222222222222,
              "#7201a8"
             ],
             [
              0.3333333333333333,
              "#9c179e"
             ],
             [
              0.4444444444444444,
              "#bd3786"
             ],
             [
              0.5555555555555556,
              "#d8576b"
             ],
             [
              0.6666666666666666,
              "#ed7953"
             ],
             [
              0.7777777777777778,
              "#fb9f3a"
             ],
             [
              0.8888888888888888,
              "#fdca26"
             ],
             [
              1,
              "#f0f921"
             ]
            ],
            "type": "surface"
           }
          ],
          "table": [
           {
            "cells": {
             "fill": {
              "color": "#EBF0F8"
             },
             "line": {
              "color": "white"
             }
            },
            "header": {
             "fill": {
              "color": "#C8D4E3"
             },
             "line": {
              "color": "white"
             }
            },
            "type": "table"
           }
          ]
         },
         "layout": {
          "annotationdefaults": {
           "arrowcolor": "#2a3f5f",
           "arrowhead": 0,
           "arrowwidth": 1
          },
          "autotypenumbers": "strict",
          "coloraxis": {
           "colorbar": {
            "outlinewidth": 0,
            "ticks": ""
           }
          },
          "colorscale": {
           "diverging": [
            [
             0,
             "#8e0152"
            ],
            [
             0.1,
             "#c51b7d"
            ],
            [
             0.2,
             "#de77ae"
            ],
            [
             0.3,
             "#f1b6da"
            ],
            [
             0.4,
             "#fde0ef"
            ],
            [
             0.5,
             "#f7f7f7"
            ],
            [
             0.6,
             "#e6f5d0"
            ],
            [
             0.7,
             "#b8e186"
            ],
            [
             0.8,
             "#7fbc41"
            ],
            [
             0.9,
             "#4d9221"
            ],
            [
             1,
             "#276419"
            ]
           ],
           "sequential": [
            [
             0,
             "#0d0887"
            ],
            [
             0.1111111111111111,
             "#46039f"
            ],
            [
             0.2222222222222222,
             "#7201a8"
            ],
            [
             0.3333333333333333,
             "#9c179e"
            ],
            [
             0.4444444444444444,
             "#bd3786"
            ],
            [
             0.5555555555555556,
             "#d8576b"
            ],
            [
             0.6666666666666666,
             "#ed7953"
            ],
            [
             0.7777777777777778,
             "#fb9f3a"
            ],
            [
             0.8888888888888888,
             "#fdca26"
            ],
            [
             1,
             "#f0f921"
            ]
           ],
           "sequentialminus": [
            [
             0,
             "#0d0887"
            ],
            [
             0.1111111111111111,
             "#46039f"
            ],
            [
             0.2222222222222222,
             "#7201a8"
            ],
            [
             0.3333333333333333,
             "#9c179e"
            ],
            [
             0.4444444444444444,
             "#bd3786"
            ],
            [
             0.5555555555555556,
             "#d8576b"
            ],
            [
             0.6666666666666666,
             "#ed7953"
            ],
            [
             0.7777777777777778,
             "#fb9f3a"
            ],
            [
             0.8888888888888888,
             "#fdca26"
            ],
            [
             1,
             "#f0f921"
            ]
           ]
          },
          "colorway": [
           "#636efa",
           "#EF553B",
           "#00cc96",
           "#ab63fa",
           "#FFA15A",
           "#19d3f3",
           "#FF6692",
           "#B6E880",
           "#FF97FF",
           "#FECB52"
          ],
          "font": {
           "color": "#2a3f5f"
          },
          "geo": {
           "bgcolor": "white",
           "lakecolor": "white",
           "landcolor": "#E5ECF6",
           "showlakes": true,
           "showland": true,
           "subunitcolor": "white"
          },
          "hoverlabel": {
           "align": "left"
          },
          "hovermode": "closest",
          "mapbox": {
           "style": "light"
          },
          "paper_bgcolor": "white",
          "plot_bgcolor": "#E5ECF6",
          "polar": {
           "angularaxis": {
            "gridcolor": "white",
            "linecolor": "white",
            "ticks": ""
           },
           "bgcolor": "#E5ECF6",
           "radialaxis": {
            "gridcolor": "white",
            "linecolor": "white",
            "ticks": ""
           }
          },
          "scene": {
           "xaxis": {
            "backgroundcolor": "#E5ECF6",
            "gridcolor": "white",
            "gridwidth": 2,
            "linecolor": "white",
            "showbackground": true,
            "ticks": "",
            "zerolinecolor": "white"
           },
           "yaxis": {
            "backgroundcolor": "#E5ECF6",
            "gridcolor": "white",
            "gridwidth": 2,
            "linecolor": "white",
            "showbackground": true,
            "ticks": "",
            "zerolinecolor": "white"
           },
           "zaxis": {
            "backgroundcolor": "#E5ECF6",
            "gridcolor": "white",
            "gridwidth": 2,
            "linecolor": "white",
            "showbackground": true,
            "ticks": "",
            "zerolinecolor": "white"
           }
          },
          "shapedefaults": {
           "line": {
            "color": "#2a3f5f"
           }
          },
          "ternary": {
           "aaxis": {
            "gridcolor": "white",
            "linecolor": "white",
            "ticks": ""
           },
           "baxis": {
            "gridcolor": "white",
            "linecolor": "white",
            "ticks": ""
           },
           "bgcolor": "#E5ECF6",
           "caxis": {
            "gridcolor": "white",
            "linecolor": "white",
            "ticks": ""
           }
          },
          "title": {
           "x": 0.05
          },
          "xaxis": {
           "automargin": true,
           "gridcolor": "white",
           "linecolor": "white",
           "ticks": "",
           "title": {
            "standoff": 15
           },
           "zerolinecolor": "white",
           "zerolinewidth": 2
          },
          "yaxis": {
           "automargin": true,
           "gridcolor": "white",
           "linecolor": "white",
           "ticks": "",
           "title": {
            "standoff": 15
           },
           "zerolinecolor": "white",
           "zerolinewidth": 2
          }
         }
        },
        "title": {
         "text": "Strategy is:\tEst-SD-Corr"
        }
       }
      }
     },
     "metadata": {},
     "output_type": "display_data"
    },
    {
     "data": {
      "application/vnd.plotly.v1+json": {
       "config": {
        "plotlyServerURL": "https://plot.ly"
       },
       "data": [
        {
         "boxmean": "sd",
         "name": "10",
         "type": "box",
         "y": [
          0.1443005763242035,
          0.3481745431060373,
          0.2060387051525523,
          0.4839341235165535,
          0.4281597599401541,
          0.0004243211283077,
          0.3616202761265509,
          0.3474025538930393,
          0.3633698883325427,
          0.2422182557886045,
          0.0963048437839683,
          0.404929137657089,
          0.1259378795751821,
          0.3551054746897528,
          0.3980198429986159,
          0.1176565399048473,
          0.2893535659243992,
          0.232599938661688,
          0.0481469680323796,
          0.5531824726241065,
          0.0328947888107777,
          0.2407128842523278,
          -0.1383370842640315,
          0.4443597192439694,
          0.407907207739156,
          0.2669716732797937,
          0.1320367722000176,
          0.2446902569327269,
          0.1957499034667254,
          0.3981742469902908,
          0.2936598858589931,
          0.5226821383220124,
          0.2825475173230221,
          0.4405553621962763,
          0.2186583614045928,
          0.4917051913594518,
          0.3050677365788495,
          0.4140868803383449,
          0.0864951942624467,
          0.4854813845517299,
          0.2680259842337654,
          0.2338598192938083,
          0.529834840531164,
          0.2945581876086167,
          0.0858979534873878,
          0.4142674954367997,
          0.3597479221903476,
          0.4322001205467921,
          0.3040804518395026,
          0.3588596633458927,
          0.3077088106063192,
          0.3128489754048203,
          0.3459989183032237,
          0.0930093771243541,
          0.3107865056048086,
          0.2564397537374082,
          0.3999445262833828,
          0.376288227331588,
          0.110294899408195,
          0.3310596818614014,
          0.2664057080280814,
          0.1180019867859104,
          0.1443059735086082,
          0.053871937731516,
          -0.0206902156509303,
          0.6533517139282448,
          0.1984661942275911,
          0.2623501852754166,
          0.257715130543103,
          0.2776504168778037,
          0.1876035249797233,
          0.1385818883943771,
          0.3352632980216139,
          0.2711467005469671,
          0.0541588260598251,
          -0.0777204391862453,
          0.2912871797235557,
          0.3011614838765972,
          0.2861299316714377,
          0.4082147426344356,
          0.1172047292466145,
          0.433074581355115,
          0.5464176794262772,
          0.3665663244769778,
          0.3543172763725477,
          0.46083805374783,
          0.1903314278598437,
          0.4668906421457033,
          0.5020452792974319,
          0.3118301227800579,
          0.1554402367316373,
          0.6088281602743871,
          -0.0330002814495082,
          0.3179446131839994,
          0.4988364266197839,
          0.4874621469721006,
          0.2121286509234514,
          0.5431694843459502,
          0.1167073855395555,
          0.1242903127437145,
          0.3648659628251734,
          0.3075741468372225,
          0.2625508157506417,
          0.1664243053460497,
          0.3709515019873529,
          0.2745643198621494,
          0.3455981337543677,
          0.2337805315555776,
          0.2818930231584681,
          0.5267622299798512,
          0.1922058213984314,
          0.3132252422534675,
          0.4510719127931721,
          0.2035947853070308,
          0.3066323862394178,
          0.2597905501313891,
          0.2270348645281562,
          0.1313038092425922,
          0.5522085328637457,
          -0.0104535756527067,
          -0.00001589496676842464,
          0.2379230879362743,
          0.6530371263657191,
          0.2094447161326168,
          0.0908584367253357,
          0.2645109521352281,
          0.4387872906313844,
          0.2979019608547667,
          0.1730225430392765,
          0.5019998377850025,
          0.1937188813203576,
          -0.0447299699788507,
          0.2793549920893188,
          0.44077437917208,
          0.4069856334201343,
          -0.0354904818281241,
          0.1738864569190855,
          0.5431761604522153,
          0.2981128428453584,
          -0.1683408908426238,
          0.3283775595457834,
          0.2857278182719527,
          0.3724931562527699,
          0.0318577935184836,
          0.264093148152591,
          0.4695686983882882,
          0.5020863510946626,
          0.473768143950888,
          0.4334306888650217,
          0.2692293949605729,
          0.3096489136351514,
          0.4964337035458213,
          0.7227704849997201,
          0.109038715678063,
          -0.0198105349689517,
          0.3032762453628794,
          0.4739886548482517,
          0.3207715581514586,
          0.3668876234272945,
          0.1848701710288334,
          0.1853406198621438,
          0.3675680337046621,
          0.482671131846095,
          0.1014650283070621,
          0.0666490356471141,
          0.2557878163338397,
          0.0625665133207774,
          0.2330118346745948,
          0.4489279622567614,
          0.5422819254499108,
          0.3035966852996423,
          0.4902422834909379,
          0.4915863607382491,
          0.1855104378555953,
          0.2996108108583269,
          0.1302600343710376,
          -0.024505945652573,
          0.0523551158352802,
          0.1077484795639606,
          0.2995018452476436,
          0.1490939375830965,
          0.4776088098860548,
          0.3342684792454919,
          0.1964289104120302,
          0.1986229826404465,
          0.2500958206371668,
          0.3837842602891619,
          0.4299301911653793,
          0.0234909295322252,
          0.1553009820292621,
          0.1532903048135296,
          0.2780723498437563,
          0.2389183197069515,
          0.4304410368588538,
          0.278879809671857,
          0.1723700766998147,
          0.23017673530265,
          0.3898026275733787,
          0.5083584073008315,
          0.3383335794248913,
          0.0812216195317057,
          0.3881129375820362,
          0.5745802256003817,
          0.1915745983686519,
          0.3987799269402434,
          0.4147851123354016,
          0.3388566843271177,
          0.3423831597583065,
          0.1768963262121604,
          0.1060130962601231,
          0.4849928105191248,
          0.1013799069133694,
          0.1903934247635746,
          0.4097106011644846,
          0.4247412557414274,
          0.5070826274180384,
          0.1351488233678318,
          0.4974688128361788,
          0.4486275595608524,
          0.4955768564523892,
          0.0784780201238862,
          0.3664131817921685,
          0.5077270431266728,
          0.3011781378970621,
          0.1091108732398936,
          0.2738779881224948,
          0.1234068126082151,
          0.0391121409533682,
          0.4714185001651628,
          0.0140272782972335,
          0.3789900381426433,
          0.7249101822428966,
          0.2510521788248172,
          0.2121131804932537,
          0.152799010394088,
          0.2611469320091568,
          0.4009499862250178,
          0.3732644172773572,
          0.1203461208496134,
          0.4751495357150749,
          0.1069584360426712,
          0.1844494897629861,
          0.1075720391575804,
          0.2374292814258895,
          0.7283089037721009,
          0.3384050440697888,
          -0.0819500759060851,
          0.347451216724889,
          0.1849543707376413,
          0.4191248288896883
         ]
        },
        {
         "boxmean": "sd",
         "name": "20",
         "type": "box",
         "y": [
          0.1123275121267017,
          0.2744886306292362,
          0.121226712616334,
          0.4372098798444228,
          0.4098673901501794,
          0.1200419857353071,
          0.3576525583958566,
          0.1985056448949532,
          0.4035326952665824,
          0.2292162871941188,
          0.2452013060110822,
          0.4334542703535923,
          0.0716276762222443,
          0.5188786274078548,
          0.3311480849489672,
          0.1520424603432836,
          0.2762537731123621,
          0.2099484741407975,
          0.1517624144668883,
          0.608667701545861,
          0.1251814125394342,
          0.2518902237980377,
          0.0445185622594923,
          0.5310789413711902,
          0.478770491138772,
          0.4785643193584637,
          0.3325424735262577,
          0.2488058525879513,
          0.2435623305442244,
          0.3595353290744877,
          0.4417935811330992,
          0.4365004841730642,
          0.10318102854468,
          0.4340179014135012,
          0.2042539879364325,
          0.4349900000952774,
          0.1737069104001569,
          0.3299424187966406,
          -0.0361443768777364,
          0.2991657601171338,
          0.1572462845307743,
          0.2174239397009051,
          0.4560402105721726,
          0.1079432113938768,
          0.0855923102810332,
          0.4631367187309757,
          0.230968792419597,
          0.2793833814133923,
          0.3603698235025334,
          0.4437343105581002,
          0.3581215428171094,
          0.2920557836896734,
          0.2589602556491053,
          0.3052926156457776,
          0.2423679922190424,
          0.3113300113970749,
          0.3254053387870009,
          0.3509357831444196,
          0.4233813351242309,
          0.32590904613595,
          0.3652978835530746,
          0.3551836582523771,
          0.3456808355258185,
          0.0297057798222586,
          0.2119119973073707,
          0.6912378111558193,
          0.270814135169743,
          0.3048255991617502,
          0.3282227821097002,
          0.2600557939854596,
          0.1588177234105798,
          0.2121158873626021,
          0.3683879425570539,
          0.4098781217028562,
          0.2878376047004028,
          0.0135539426313472,
          0.3038696730646619,
          0.3455040904318104,
          0.2040320315446886,
          0.0991248097667439,
          0.2924122835000935,
          0.5780523194764399,
          0.5983087515181982,
          0.3893533435477057,
          0.1894902688026745,
          0.5757030498986122,
          0.3477359558371201,
          0.2851522010074734,
          0.5091487643827313,
          0.5195250541014668,
          0.2483104221537553,
          0.6226900203712733,
          0.0668364350668491,
          0.2430813506006157,
          0.5035006473212403,
          0.4111620864072641,
          0.2694576228278799,
          0.4784921873598157,
          0.0537098634727528,
          0.5232376118052883,
          0.3690941540862874,
          0.4024035606011477,
          0.5888929091731047,
          0.2236020824931421,
          0.3299620947563223,
          0.2872286221735173,
          0.3864839969165518,
          0.1752953263445124,
          0.3510751311303212,
          0.5078543659947801,
          0.2506533562319026,
          0.4274043670986596,
          0.5407103452628359,
          0.0093762474945619,
          0.5004906651051179,
          0.0684200825548423,
          0.4160245189993357,
          0.0468287478371135,
          0.5134155912395507,
          0.0883608011347149,
          0.1385922332921221,
          0.1336224470844929,
          0.7587926569208383,
          0.4508661652064421,
          0.105695007679419,
          0.0379525112935848,
          0.467799912236076,
          0.023727843812491,
          0.338226025573799,
          0.506147958886476,
          0.4976969616765206,
          0.1866679952832047,
          0.329807811548056,
          0.3679565904314749,
          0.3289631146430536,
          0.264619196236921,
          0.2010361795725647,
          0.4600660117045887,
          0.4128034755338013,
          -0.0690645173751761,
          0.3385712950784206,
          0.1735691374870566,
          0.4377869642523829,
          0.2422748337093491,
          0.1552890941668849,
          0.4901214707500565,
          0.5565437252105033,
          0.4142906978915012,
          0.4777221331962925,
          0.3014771916849366,
          0.227489065144331,
          0.5177880334625146,
          0.677464956518725,
          0.1629578005089678,
          0.1761012859775965,
          0.1169073305389521,
          0.4336678424899979,
          0.2028340941357027,
          0.6569106550360309,
          0.2179023740441886,
          0.1531640585046705,
          0.3464327814354359,
          0.6572898539071328,
          0.1476857478672955,
          -0.0164437115545604,
          0.1330176695006946,
          0.1687013497819346,
          0.2562206211053465,
          0.2781702922978417,
          0.5711130783407928,
          0.3850326209860147,
          0.6786481105751474,
          0.5930266971640059,
          0.2227973668297724,
          0.1448169511108982,
          0.1185861629244948,
          0.2103481617192892,
          0.4948911061126881,
          0.2939495382338139,
          0.3263026702292492,
          0.0736893314721861,
          0.5199883588416123,
          0.355377628851031,
          0.3389820193999222,
          0.1564972920343202,
          0.1470235681228438,
          0.3381373271623968,
          0.5909187954921735,
          0.1504149051293807,
          0.1068373741161615,
          0.1653547764186659,
          0.3647647473521804,
          0.3054408126542959,
          0.3124539545795016,
          0.3899410214336438,
          0.1531072541360034,
          0.2194403534757407,
          0.224441767894519,
          0.472953524268712,
          0.4663812124837035,
          0.2191829372134232,
          0.5593829704858343,
          0.5828457346223,
          0.1217524238032111,
          0.3451100543259421,
          0.4643128044063278,
          0.491577525311598,
          0.3413942532739849,
          0.2826259740998767,
          0.2016531083942097,
          0.4060066794452469,
          0.1450931577257976,
          0.232432100515518,
          0.6161753987842139,
          0.3865742784067336,
          0.5038167126924821,
          0.3071678780818712,
          0.4976886443692448,
          0.3160832350900694,
          0.4144934925721794,
          0.1135325495368126,
          0.3245295920634307,
          0.385783074605832,
          0.3873693984426788,
          0.1384254875911295,
          0.4351975442408369,
          -0.0035094703439974,
          0.2036292891226558,
          0.344142152563037,
          0.089628762924897,
          0.3036806499837319,
          0.6733511758985987,
          0.3536133492207329,
          0.351715030830095,
          0.0949312290399353,
          0.3807017283837216,
          0.2995983916055237,
          0.2798439970215695,
          0.1368868498791243,
          0.5898487213192395,
          0.1755419424779471,
          0.5299962397914927,
          0.1787060565804856,
          0.3308783271775848,
          1.0548558291047645,
          0.3569642105719575,
          0.2294409777056918,
          0.329514417483027,
          0.0490145470732129,
          0.3818557448104888
         ]
        },
        {
         "boxmean": "sd",
         "name": "30",
         "type": "box",
         "y": [
          0.1718043979451554,
          0.1087258162784362,
          0.2055987859334881,
          0.3127053062806847,
          0.3759647518415387,
          0.2922961571105541,
          0.3036255209895988,
          0.2453847929179033,
          0.3591473553265607,
          0.3644051060171733,
          0.3425560165448262,
          0.3789326551204129,
          0.1437767881102396,
          0.5731005514558183,
          0.3000687601574958,
          0.342983812958766,
          0.1732579468427442,
          0.1241273708709139,
          0.4156320551579373,
          0.6185605520081069,
          0.3423090578705243,
          0.2859610615884045,
          -0.0030561590898643,
          0.587496772633966,
          0.4605889700162108,
          0.4765756924461309,
          0.5304300014655299,
          0.2176553221708442,
          0.3228207269165439,
          0.3998783057028194,
          0.6070131801757539,
          0.6067619055822011,
          0.0764500983551211,
          0.4244652206061618,
          0.2322109837934811,
          0.509398923438117,
          0.0884889320824086,
          0.4465802074703313,
          0.0441386856900272,
          0.1703794247837943,
          0.3678463988539751,
          0.4040515039313621,
          0.3315554933758012,
          0.1431181025198708,
          0.2023910919707846,
          0.5244070967426477,
          0.2906024856665465,
          0.0276684586718384,
          0.5156003496675069,
          0.3998172342684699,
          0.3202677379197299,
          0.5078427537631275,
          0.4293997724008086,
          0.3970175204300766,
          0.1006045953861968,
          0.3143722632973339,
          0.4743785753080644,
          0.2914422989228518,
          0.4488366035774391,
          0.3010600598093487,
          0.4605022784949027,
          0.3178814002006077,
          0.4062082078496467,
          0.036960395117271,
          0.0633494588835662,
          0.6909622655961721,
          0.2273948507748611,
          0.375411498490022,
          0.459594494818168,
          0.2546190220578022,
          0.2120726957042921,
          0.3692595776380966,
          0.3257776825235243,
          0.4543399662146707,
          0.2620770200511001,
          -0.0268460090910687,
          0.3614338249128972,
          0.3555753091839517,
          0.2230907785409205,
          0.0958871967428664,
          0.3170983362238461,
          0.4981035558657874,
          0.6349289329653174,
          0.3178063874075444,
          0.3579762173863742,
          0.4832257299318532,
          0.2373882831895302,
          0.2517009239314385,
          0.5945181348388856,
          0.5217176695395576,
          0.4428430591478473,
          0.4932743834340353,
          0.0511955892126083,
          0.3359909871028117,
          0.4448729319911335,
          0.4222188308687757,
          0.3073816529216363,
          0.3126723773236992,
          0.0948306405546443,
          0.3480667422550309,
          0.3627432479823128,
          0.496265850941303,
          0.4914273970844915,
          0.3607424638835294,
          0.3884800467844307,
          0.2606425811577448,
          0.3819847936240906,
          0.0986939119458546,
          0.3205890898666075,
          0.3800207548676996,
          0.1648764617967542,
          0.5318099884694562,
          0.4279632198345696,
          -0.173831411327047,
          0.4730208443462759,
          0.2297672640179511,
          0.4011910391720255,
          0.0683792200534789,
          0.451366928435882,
          0.2643663605060332,
          0.1824111610960725,
          0.2050862580716815,
          0.6592636969771636,
          0.453356152645847,
          0.0904154293652484,
          0.2477764461766343,
          0.5033857051387031,
          0.3618409539605474,
          0.4659790957569508,
          0.6666472590839175,
          0.371074569329766,
          0.0353318155461936,
          0.3541100304070796,
          0.4096018514098925,
          0.1044523140928632,
          0.3258457583393391,
          0.331773680595766,
          0.4950200502988591,
          0.4137288383967612,
          0.0861790731597581,
          0.41042750708773,
          0.228572968752078,
          0.3806864830895053,
          0.3400388408484897,
          0.1320297541639491,
          0.3517801650284627,
          0.3960966869842662,
          0.5397605129014531,
          0.408184326310607,
          0.3175200450787849,
          0.0927687119056561,
          0.4219231398196027,
          0.7407528003638209,
          0.0373946679862257,
          0.4250006108099196,
          0.399452318404106,
          0.3433672348314885,
          0.0753464035383621,
          0.8098025617291866,
          0.2777437130875122,
          0.5236013009630954,
          0.3463468337059019,
          0.6125184588454367,
          0.2675463011112765,
          -0.0581069071337514,
          0.2426694662223072,
          0.1199124681773533,
          0.1578524909375602,
          0.3390097027110422,
          0.3272591035360369,
          0.4489129272164361,
          0.4968300791932665,
          0.5740570422953433,
          0.3714791813902915,
          0.2118760276808245,
          0.3022216259055814,
          0.0296698290679029,
          0.390160655088527,
          0.3549373929772458,
          0.3854405710844271,
          0.0775195347365059,
          0.514012463901798,
          0.3486163264281675,
          0.3258916403634599,
          0.1496237231263982,
          0.2672946945583012,
          0.3455416789927892,
          0.5517168821755645,
          0.2718293585124317,
          0.2292336943179885,
          0.2805506551271488,
          0.2304393152398031,
          0.3283008722680469,
          0.1103908541300837,
          0.4146234059897729,
          0.2467255438618788,
          0.2303002867311855,
          0.42714040212648,
          0.5426842063412443,
          0.5755241342836094,
          0.1115224862603608,
          0.6224559108144706,
          0.5673435477622066,
          -0.0567323240960507,
          0.2112464741878475,
          0.3741759134198736,
          0.524392755063908,
          0.2124584710226058,
          0.2433627514087141,
          0.0761146749620593,
          0.2542581004292094,
          0.2038212680857087,
          0.2770606240380628,
          0.6571615161371814,
          0.4873758959790955,
          0.5218100298494056,
          0.3407163895967943,
          0.5449498634609421,
          0.1637235066595063,
          0.3716154706755905,
          0.2782055393127602,
          0.2849482993353126,
          0.3063034371970358,
          0.5572627082333449,
          0.30668901980148,
          0.523438438295357,
          -0.0285233727265511,
          0.3637159352180974,
          0.4239628318681683,
          0.0939778819222224,
          0.2419612077792769,
          0.5393211029122442,
          0.4906906005896135,
          0.4413754967990287,
          0.2258399028442589,
          0.4263905617245913,
          0.3777218890934815,
          0.1646653822889713,
          0.3012441421930932,
          0.6536252344925644,
          0.121734611697024,
          0.3993515478922747,
          0.2214275162545647,
          0.2977252865341339,
          0.8206996682301506,
          0.2839595060489258,
          0.2136943174694724,
          0.2936802453263668,
          0.1441766743723679,
          0.4376355029321654
         ]
        },
        {
         "boxmean": "sd",
         "name": "40",
         "type": "box",
         "y": [
          0.3532553521921708,
          0.1685434549288962,
          0.248175784564105,
          0.2826999660305136,
          0.2786584275012893,
          0.3788444911083758,
          0.2379622857644444,
          0.3257194693524981,
          0.4614135293963438,
          0.5267576868760043,
          0.3162960467874901,
          0.3992642553231978,
          0.3128173066162657,
          0.4300027815075795,
          0.3012617322298104,
          0.3034368483321183,
          0.3521017751097213,
          0.1576199722936459,
          0.3018077437674065,
          0.603195040689275,
          0.2559143378351211,
          0.2143471080385099,
          0.0739173967557011,
          0.5466318766097861,
          0.5333345739896282,
          0.5059199272665906,
          0.4031927340772842,
          0.1871688029802093,
          0.3333985608003131,
          0.3237731260501605,
          0.4955062238194857,
          0.5653261280235414,
          0.127946585965939,
          0.2650120795627075,
          0.2348708963581106,
          0.6994805961862833,
          0.341242539809137,
          0.4995128735287667,
          0.0883643630056476,
          0.2127192009145301,
          0.5427476120123241,
          0.4037606603040787,
          0.1759409490746213,
          -0.0739554885895953,
          0.132420088902977,
          0.6300255500088454,
          0.1567846414862539,
          0.208148189892205,
          0.3516181080963821,
          0.403501656242132,
          0.3666446031203334,
          0.5510270098546362,
          0.5807631681104195,
          0.45420337210102,
          0.1694995741306172,
          0.2484635298645156,
          0.3748414412734367,
          0.3563191159530445,
          0.5737884704489038,
          0.3857759421739873,
          0.4399614798130078,
          0.237144400759947,
          0.547795403809428,
          0.2188891336781818,
          0.2685221014091173,
          0.5835821311936955,
          0.2523212861147675,
          0.4549111347530614,
          0.4266978000369673,
          0.2899116228269195,
          0.1841840751829773,
          0.3213205026273603,
          0.5410987378503723,
          0.5883358124422321,
          0.2651026960327202,
          0.073054222472249,
          0.4742702658065365,
          0.4823181753005286,
          0.1600249157466876,
          0.3428097440768959,
          0.2875501526300813,
          0.4743043018557198,
          0.8317322934282653,
          0.3612486480101195,
          0.4003719638498116,
          0.4707233753930686,
          0.1934368716588804,
          0.5236018766593481,
          0.530539379894716,
          0.5417476688308654,
          0.4814459798814671,
          0.3523532872428477,
          0.2538858584443948,
          0.3953233114966792,
          0.5458592933686276,
          0.2959300612857551,
          0.2405502318637593,
          0.3616056120838968,
          0.263842452046693,
          0.4898505323361852,
          0.3453330595696227,
          0.4653366988358391,
          0.4478419066510263,
          0.549639180676408,
          0.4191632931382491,
          0.3145747968246901,
          0.3666605534947565,
          0.3836365847962897,
          0.3592717939210577,
          0.2424468370738112,
          0.1141720701065849,
          0.5588685640421125,
          0.377430519368319,
          0.0940473888435478,
          0.3772959419350546,
          0.1578340550422244,
          0.3349816329339309,
          0.0419932814245859,
          0.4373144008318709,
          0.419213365574809,
          0.1169790992840559,
          0.2181795679927841,
          0.636805450497603,
          0.5888512511615901,
          -0.0765783090943731,
          0.2660663306393227,
          0.4765251384991492,
          0.2785041893601133,
          0.4412784886252626,
          0.677803618813565,
          0.4533980454879201,
          0.1317195996665613,
          0.3931850966221381,
          0.4414946007313235,
          0.0682957864516696,
          0.4051769365150951,
          0.140845187316291,
          0.4526673029426804,
          0.3858205531170248,
          0.1789286065269726,
          0.243226985054421,
          0.4451399767978758,
          0.4187381379746058,
          0.3892983434221524,
          0.3255306507188026,
          0.1600495872387842,
          0.456372403760296,
          0.483618480342769,
          0.276766228213934,
          0.2447955355570042,
          0.2850976519833917,
          0.2737982204137815,
          0.7763473391897073,
          0.3918876385206846,
          0.5108136356385744,
          0.3153480354937778,
          0.496727341402731,
          0.1767094232844012,
          0.6658510412048614,
          0.3107358547651225,
          0.5985459531339868,
          0.3496465292152646,
          0.4536831649070748,
          0.3361472814448437,
          -0.2768152458373483,
          0.3939530594346774,
          0.0793491797763494,
          0.0760467798332432,
          0.3321445299122973,
          0.4365455120149155,
          0.3533867407418001,
          0.40565509882273,
          0.7537644302109737,
          0.4103842970962414,
          0.1281549311579378,
          0.4500764266490942,
          0.2591286908302685,
          0.530685772940489,
          0.3666794685366505,
          0.4324598309272201,
          -0.0017679927603998,
          0.5063637124159697,
          0.1927780308344811,
          0.3662619833549076,
          0.1429244347775196,
          0.1093298454073641,
          0.3277858061519118,
          0.5945567521618955,
          0.518787686298956,
          0.0805523067411318,
          0.4851813949335692,
          0.411795468917212,
          0.235284009344063,
          0.0062461766971439,
          0.3401288755636455,
          0.1472787261025708,
          0.2989530064486972,
          0.337332084077891,
          0.3926839153635718,
          0.4981070871437943,
          0.2493419004761908,
          0.5682831868939873,
          0.6437871710199944,
          -0.0919323914910644,
          0.2460312199020998,
          0.4350940501338973,
          0.4657361491033183,
          -0.0125307254254896,
          0.2635677543591469,
          0.1802070734172511,
          0.3627487727918879,
          0.191367407019872,
          0.188630300637356,
          0.5029817458849274,
          0.5202054464222566,
          0.4036890129228024,
          0.4097596426877452,
          0.4374486443648865,
          0.0376273290264905,
          0.3962623785555474,
          0.2108995408719504,
          0.3396282105443752,
          0.1568564705892945,
          0.505204296081927,
          0.3782742907013193,
          0.5194151338444216,
          0.0684020698184843,
          0.395260052842708,
          0.4853724419515791,
          0.2823884735850955,
          0.2717594826373796,
          0.4234891983295994,
          0.4557046292724541,
          0.5346487442016801,
          0.3616633970073988,
          0.5076554345883492,
          0.3559766504177019,
          0.3735660454602941,
          0.3489565304664886,
          0.6419475987691737,
          0.2331108218463137,
          0.5088131946662896,
          0.1632737214112453,
          0.2785700393332967,
          0.868101620329891,
          0.3800989592915593,
          0.1901879380770065,
          0.4706484947574393,
          0.2787530731820132,
          0.4030967155784587
         ]
        },
        {
         "boxmean": "sd",
         "name": "50",
         "type": "box",
         "y": [
          0.3976583633121267,
          0.2809210328038234,
          0.4102133496142742,
          0.1551549637894028,
          0.2139792467529306,
          0.3798689503962542,
          0.1858957073761617,
          0.2631528614995931,
          0.4373603057085405,
          0.5337756554609561,
          0.3653376557128168,
          0.4367121068855899,
          0.3851433230088457,
          0.3298190032370208,
          0.3093786221832468,
          0.4247474774026531,
          0.3334506194216875,
          0.3474197555615292,
          0.4526567200477106,
          0.4566286405556772,
          0.420562077316048,
          0.1036420492762117,
          0.1034812843751332,
          0.4991329757042371,
          0.377424150820779,
          0.5316526053174216,
          0.5118704394325979,
          0.2560989880355512,
          0.3767108726705831,
          0.2155943978959027,
          0.3559450492932443,
          0.4663929342710939,
          0.0658582141791742,
          0.3093821032845533,
          0.2354588027424741,
          0.4760372640717812,
          0.2628472259997327,
          0.5728626193561338,
          0.1987891714121535,
          0.3698157288150545,
          0.5599935446480445,
          0.5453576664724831,
          0.1294675446749077,
          -0.0244153682695718,
          0.34911158829748,
          0.6884068719413718,
          0.2400824536636603,
          0.198970882758483,
          0.2873146473903279,
          0.3556249068160833,
          0.4821585202618341,
          0.4671764667969169,
          0.5834197099595283,
          0.3981121633535808,
          0.40343698980379,
          0.3971196145478273,
          0.3081272648194783,
          0.3418021245615558,
          0.8116203078519938,
          0.3824027161313804,
          0.4316971118197981,
          0.3851456451931749,
          0.4882837607868082,
          0.2164337829956835,
          0.1338259371590481,
          0.5820122909531306,
          0.4363227664603807,
          0.4256601180407158,
          0.1835735330491782,
          0.3425616368900863,
          0.1063324575085645,
          0.4028985101236874,
          0.5655837964253314,
          0.7352723943231615,
          0.3708743522224836,
          0.330171235730584,
          0.4481199845143512,
          0.6400969505178884,
          0.0201317650527618,
          0.4413279936204206,
          0.3543709268475028,
          0.469400409512459,
          0.6677755622821372,
          0.3465719566921748,
          0.5123147374501825,
          0.4689092360948754,
          0.2796903343971418,
          0.6441880348286241,
          0.4662010668805815,
          0.5063552009462827,
          0.5743759990980232,
          0.2606797028995917,
          0.531928912210691,
          0.3556591156850361,
          0.560716111040876,
          0.4199094252845723,
          0.3778131197779523,
          0.2820459442146573,
          0.1230122016524369,
          0.4310609171124154,
          0.526873331208284,
          0.4022934089843158,
          0.3226177396484029,
          0.6038304449033773,
          0.5182056121189639,
          0.1883142240285318,
          0.339598345212052,
          0.4699719692570931,
          0.3182581860197656,
          0.341213181523001,
          0.332402591474531,
          0.5935758950511221,
          0.3091491864989217,
          0.2357363419201075,
          0.2632857459832932,
          0.2063880273256559,
          0.3541105667939847,
          0.0830673216732452,
          0.5824630280846463,
          0.4029490374994452,
          0.1195808568771146,
          0.2769976765491812,
          0.5478592879403791,
          0.6974846658957655,
          0.2443724358127297,
          0.1555604961822648,
          0.4674002782404892,
          0.3871156447525014,
          0.522295773270469,
          0.6959535703026747,
          0.4315174072816314,
          0.2182400247114386,
          0.3863706264649216,
          0.4873227807092367,
          0.32108803004528,
          0.3932748906500555,
          0.2919978756044284,
          0.4775290056373159,
          0.4626346045201288,
          0.2899100887790003,
          0.3663490846029244,
          0.3568645793221894,
          0.3354641867952756,
          0.155492836034584,
          0.2933038630480141,
          0.0470627426907276,
          0.4437924328225881,
          0.3626606651503612,
          0.1789646600096659,
          0.2340560732357116,
          0.1353185083187044,
          0.2640335450215056,
          0.8278010612658485,
          0.4066806290256701,
          0.5628027640432341,
          0.3202706836607337,
          0.5491212149043224,
          0.2358423987652644,
          0.7420109544078892,
          0.2856029360575952,
          0.446545146122916,
          0.3658672658896038,
          0.3576622320054298,
          0.3656647062776098,
          0.1816132325434939,
          0.4230049589625668,
          0.2471332573048438,
          0.1417246614862157,
          0.2916678439286472,
          0.3538964822172025,
          0.3490219767297826,
          0.332890572626178,
          0.7434603150098237,
          0.4996936635868556,
          0.2632337258285054,
          0.3959171485344686,
          0.472721426345191,
          0.4353460621362989,
          0.3713646342038605,
          0.3218798392284043,
          0.1015225214127915,
          0.4945251614645905,
          0.1986943687004799,
          0.4576007202147868,
          0.0796854582981797,
          0.3307633683678282,
          0.3932931265429039,
          0.546734471182055,
          0.6166923693575214,
          0.1538271322671003,
          0.4604455433832713,
          0.4361385018204233,
          0.1922993768992438,
          0.0304429040322872,
          0.3811051788470168,
          0.0874590896426266,
          0.4073294334055914,
          0.424695591635273,
          0.281923528468101,
          0.469441141196401,
          0.4124319230977618,
          0.6974645013347592,
          0.7341883585914004,
          0.0598696148979773,
          0.1602336304297402,
          0.2937275490366726,
          0.5382240663008321,
          0.2252597389372961,
          0.3568226177052476,
          0.2596419118377466,
          0.5649863647149329,
          0.2751872715188734,
          0.3032409019659827,
          0.4042243699476334,
          0.3968916234805077,
          0.2819421935582952,
          0.4100381340047568,
          0.2370704622287182,
          0.2016166971952261,
          0.3699874437158821,
          0.16968848932747,
          0.2716416619801225,
          0.1020234976756465,
          0.4692913126279323,
          0.4351814523047403,
          0.478832055333717,
          0.224259034033388,
          0.4178012899499532,
          0.5418860765036819,
          0.2621309151999033,
          0.324979418733006,
          0.4507629195589105,
          0.4810990657269214,
          0.4543182090035031,
          0.4857965364407073,
          0.5527008053731167,
          0.4984876014671324,
          0.3189232905643804,
          0.4129653865041285,
          0.4993760178671341,
          0.4112729940917377,
          0.555057419613599,
          0.3182000167304674,
          0.4340621650837828,
          0.7229906203734571,
          0.4490531794979358,
          0.2369251958954476,
          0.2291988733481196,
          0.4281367120134494,
          0.4800210023486683
         ]
        }
       ],
       "layout": {
        "template": {
         "data": {
          "bar": [
           {
            "error_x": {
             "color": "#2a3f5f"
            },
            "error_y": {
             "color": "#2a3f5f"
            },
            "marker": {
             "line": {
              "color": "#E5ECF6",
              "width": 0.5
             },
             "pattern": {
              "fillmode": "overlay",
              "size": 10,
              "solidity": 0.2
             }
            },
            "type": "bar"
           }
          ],
          "barpolar": [
           {
            "marker": {
             "line": {
              "color": "#E5ECF6",
              "width": 0.5
             },
             "pattern": {
              "fillmode": "overlay",
              "size": 10,
              "solidity": 0.2
             }
            },
            "type": "barpolar"
           }
          ],
          "carpet": [
           {
            "aaxis": {
             "endlinecolor": "#2a3f5f",
             "gridcolor": "white",
             "linecolor": "white",
             "minorgridcolor": "white",
             "startlinecolor": "#2a3f5f"
            },
            "baxis": {
             "endlinecolor": "#2a3f5f",
             "gridcolor": "white",
             "linecolor": "white",
             "minorgridcolor": "white",
             "startlinecolor": "#2a3f5f"
            },
            "type": "carpet"
           }
          ],
          "choropleth": [
           {
            "colorbar": {
             "outlinewidth": 0,
             "ticks": ""
            },
            "type": "choropleth"
           }
          ],
          "contour": [
           {
            "colorbar": {
             "outlinewidth": 0,
             "ticks": ""
            },
            "colorscale": [
             [
              0,
              "#0d0887"
             ],
             [
              0.1111111111111111,
              "#46039f"
             ],
             [
              0.2222222222222222,
              "#7201a8"
             ],
             [
              0.3333333333333333,
              "#9c179e"
             ],
             [
              0.4444444444444444,
              "#bd3786"
             ],
             [
              0.5555555555555556,
              "#d8576b"
             ],
             [
              0.6666666666666666,
              "#ed7953"
             ],
             [
              0.7777777777777778,
              "#fb9f3a"
             ],
             [
              0.8888888888888888,
              "#fdca26"
             ],
             [
              1,
              "#f0f921"
             ]
            ],
            "type": "contour"
           }
          ],
          "contourcarpet": [
           {
            "colorbar": {
             "outlinewidth": 0,
             "ticks": ""
            },
            "type": "contourcarpet"
           }
          ],
          "heatmap": [
           {
            "colorbar": {
             "outlinewidth": 0,
             "ticks": ""
            },
            "colorscale": [
             [
              0,
              "#0d0887"
             ],
             [
              0.1111111111111111,
              "#46039f"
             ],
             [
              0.2222222222222222,
              "#7201a8"
             ],
             [
              0.3333333333333333,
              "#9c179e"
             ],
             [
              0.4444444444444444,
              "#bd3786"
             ],
             [
              0.5555555555555556,
              "#d8576b"
             ],
             [
              0.6666666666666666,
              "#ed7953"
             ],
             [
              0.7777777777777778,
              "#fb9f3a"
             ],
             [
              0.8888888888888888,
              "#fdca26"
             ],
             [
              1,
              "#f0f921"
             ]
            ],
            "type": "heatmap"
           }
          ],
          "heatmapgl": [
           {
            "colorbar": {
             "outlinewidth": 0,
             "ticks": ""
            },
            "colorscale": [
             [
              0,
              "#0d0887"
             ],
             [
              0.1111111111111111,
              "#46039f"
             ],
             [
              0.2222222222222222,
              "#7201a8"
             ],
             [
              0.3333333333333333,
              "#9c179e"
             ],
             [
              0.4444444444444444,
              "#bd3786"
             ],
             [
              0.5555555555555556,
              "#d8576b"
             ],
             [
              0.6666666666666666,
              "#ed7953"
             ],
             [
              0.7777777777777778,
              "#fb9f3a"
             ],
             [
              0.8888888888888888,
              "#fdca26"
             ],
             [
              1,
              "#f0f921"
             ]
            ],
            "type": "heatmapgl"
           }
          ],
          "histogram": [
           {
            "marker": {
             "pattern": {
              "fillmode": "overlay",
              "size": 10,
              "solidity": 0.2
             }
            },
            "type": "histogram"
           }
          ],
          "histogram2d": [
           {
            "colorbar": {
             "outlinewidth": 0,
             "ticks": ""
            },
            "colorscale": [
             [
              0,
              "#0d0887"
             ],
             [
              0.1111111111111111,
              "#46039f"
             ],
             [
              0.2222222222222222,
              "#7201a8"
             ],
             [
              0.3333333333333333,
              "#9c179e"
             ],
             [
              0.4444444444444444,
              "#bd3786"
             ],
             [
              0.5555555555555556,
              "#d8576b"
             ],
             [
              0.6666666666666666,
              "#ed7953"
             ],
             [
              0.7777777777777778,
              "#fb9f3a"
             ],
             [
              0.8888888888888888,
              "#fdca26"
             ],
             [
              1,
              "#f0f921"
             ]
            ],
            "type": "histogram2d"
           }
          ],
          "histogram2dcontour": [
           {
            "colorbar": {
             "outlinewidth": 0,
             "ticks": ""
            },
            "colorscale": [
             [
              0,
              "#0d0887"
             ],
             [
              0.1111111111111111,
              "#46039f"
             ],
             [
              0.2222222222222222,
              "#7201a8"
             ],
             [
              0.3333333333333333,
              "#9c179e"
             ],
             [
              0.4444444444444444,
              "#bd3786"
             ],
             [
              0.5555555555555556,
              "#d8576b"
             ],
             [
              0.6666666666666666,
              "#ed7953"
             ],
             [
              0.7777777777777778,
              "#fb9f3a"
             ],
             [
              0.8888888888888888,
              "#fdca26"
             ],
             [
              1,
              "#f0f921"
             ]
            ],
            "type": "histogram2dcontour"
           }
          ],
          "mesh3d": [
           {
            "colorbar": {
             "outlinewidth": 0,
             "ticks": ""
            },
            "type": "mesh3d"
           }
          ],
          "parcoords": [
           {
            "line": {
             "colorbar": {
              "outlinewidth": 0,
              "ticks": ""
             }
            },
            "type": "parcoords"
           }
          ],
          "pie": [
           {
            "automargin": true,
            "type": "pie"
           }
          ],
          "scatter": [
           {
            "fillpattern": {
             "fillmode": "overlay",
             "size": 10,
             "solidity": 0.2
            },
            "type": "scatter"
           }
          ],
          "scatter3d": [
           {
            "line": {
             "colorbar": {
              "outlinewidth": 0,
              "ticks": ""
             }
            },
            "marker": {
             "colorbar": {
              "outlinewidth": 0,
              "ticks": ""
             }
            },
            "type": "scatter3d"
           }
          ],
          "scattercarpet": [
           {
            "marker": {
             "colorbar": {
              "outlinewidth": 0,
              "ticks": ""
             }
            },
            "type": "scattercarpet"
           }
          ],
          "scattergeo": [
           {
            "marker": {
             "colorbar": {
              "outlinewidth": 0,
              "ticks": ""
             }
            },
            "type": "scattergeo"
           }
          ],
          "scattergl": [
           {
            "marker": {
             "colorbar": {
              "outlinewidth": 0,
              "ticks": ""
             }
            },
            "type": "scattergl"
           }
          ],
          "scattermapbox": [
           {
            "marker": {
             "colorbar": {
              "outlinewidth": 0,
              "ticks": ""
             }
            },
            "type": "scattermapbox"
           }
          ],
          "scatterpolar": [
           {
            "marker": {
             "colorbar": {
              "outlinewidth": 0,
              "ticks": ""
             }
            },
            "type": "scatterpolar"
           }
          ],
          "scatterpolargl": [
           {
            "marker": {
             "colorbar": {
              "outlinewidth": 0,
              "ticks": ""
             }
            },
            "type": "scatterpolargl"
           }
          ],
          "scatterternary": [
           {
            "marker": {
             "colorbar": {
              "outlinewidth": 0,
              "ticks": ""
             }
            },
            "type": "scatterternary"
           }
          ],
          "surface": [
           {
            "colorbar": {
             "outlinewidth": 0,
             "ticks": ""
            },
            "colorscale": [
             [
              0,
              "#0d0887"
             ],
             [
              0.1111111111111111,
              "#46039f"
             ],
             [
              0.2222222222222222,
              "#7201a8"
             ],
             [
              0.3333333333333333,
              "#9c179e"
             ],
             [
              0.4444444444444444,
              "#bd3786"
             ],
             [
              0.5555555555555556,
              "#d8576b"
             ],
             [
              0.6666666666666666,
              "#ed7953"
             ],
             [
              0.7777777777777778,
              "#fb9f3a"
             ],
             [
              0.8888888888888888,
              "#fdca26"
             ],
             [
              1,
              "#f0f921"
             ]
            ],
            "type": "surface"
           }
          ],
          "table": [
           {
            "cells": {
             "fill": {
              "color": "#EBF0F8"
             },
             "line": {
              "color": "white"
             }
            },
            "header": {
             "fill": {
              "color": "#C8D4E3"
             },
             "line": {
              "color": "white"
             }
            },
            "type": "table"
           }
          ]
         },
         "layout": {
          "annotationdefaults": {
           "arrowcolor": "#2a3f5f",
           "arrowhead": 0,
           "arrowwidth": 1
          },
          "autotypenumbers": "strict",
          "coloraxis": {
           "colorbar": {
            "outlinewidth": 0,
            "ticks": ""
           }
          },
          "colorscale": {
           "diverging": [
            [
             0,
             "#8e0152"
            ],
            [
             0.1,
             "#c51b7d"
            ],
            [
             0.2,
             "#de77ae"
            ],
            [
             0.3,
             "#f1b6da"
            ],
            [
             0.4,
             "#fde0ef"
            ],
            [
             0.5,
             "#f7f7f7"
            ],
            [
             0.6,
             "#e6f5d0"
            ],
            [
             0.7,
             "#b8e186"
            ],
            [
             0.8,
             "#7fbc41"
            ],
            [
             0.9,
             "#4d9221"
            ],
            [
             1,
             "#276419"
            ]
           ],
           "sequential": [
            [
             0,
             "#0d0887"
            ],
            [
             0.1111111111111111,
             "#46039f"
            ],
            [
             0.2222222222222222,
             "#7201a8"
            ],
            [
             0.3333333333333333,
             "#9c179e"
            ],
            [
             0.4444444444444444,
             "#bd3786"
            ],
            [
             0.5555555555555556,
             "#d8576b"
            ],
            [
             0.6666666666666666,
             "#ed7953"
            ],
            [
             0.7777777777777778,
             "#fb9f3a"
            ],
            [
             0.8888888888888888,
             "#fdca26"
            ],
            [
             1,
             "#f0f921"
            ]
           ],
           "sequentialminus": [
            [
             0,
             "#0d0887"
            ],
            [
             0.1111111111111111,
             "#46039f"
            ],
            [
             0.2222222222222222,
             "#7201a8"
            ],
            [
             0.3333333333333333,
             "#9c179e"
            ],
            [
             0.4444444444444444,
             "#bd3786"
            ],
            [
             0.5555555555555556,
             "#d8576b"
            ],
            [
             0.6666666666666666,
             "#ed7953"
            ],
            [
             0.7777777777777778,
             "#fb9f3a"
            ],
            [
             0.8888888888888888,
             "#fdca26"
            ],
            [
             1,
             "#f0f921"
            ]
           ]
          },
          "colorway": [
           "#636efa",
           "#EF553B",
           "#00cc96",
           "#ab63fa",
           "#FFA15A",
           "#19d3f3",
           "#FF6692",
           "#B6E880",
           "#FF97FF",
           "#FECB52"
          ],
          "font": {
           "color": "#2a3f5f"
          },
          "geo": {
           "bgcolor": "white",
           "lakecolor": "white",
           "landcolor": "#E5ECF6",
           "showlakes": true,
           "showland": true,
           "subunitcolor": "white"
          },
          "hoverlabel": {
           "align": "left"
          },
          "hovermode": "closest",
          "mapbox": {
           "style": "light"
          },
          "paper_bgcolor": "white",
          "plot_bgcolor": "#E5ECF6",
          "polar": {
           "angularaxis": {
            "gridcolor": "white",
            "linecolor": "white",
            "ticks": ""
           },
           "bgcolor": "#E5ECF6",
           "radialaxis": {
            "gridcolor": "white",
            "linecolor": "white",
            "ticks": ""
           }
          },
          "scene": {
           "xaxis": {
            "backgroundcolor": "#E5ECF6",
            "gridcolor": "white",
            "gridwidth": 2,
            "linecolor": "white",
            "showbackground": true,
            "ticks": "",
            "zerolinecolor": "white"
           },
           "yaxis": {
            "backgroundcolor": "#E5ECF6",
            "gridcolor": "white",
            "gridwidth": 2,
            "linecolor": "white",
            "showbackground": true,
            "ticks": "",
            "zerolinecolor": "white"
           },
           "zaxis": {
            "backgroundcolor": "#E5ECF6",
            "gridcolor": "white",
            "gridwidth": 2,
            "linecolor": "white",
            "showbackground": true,
            "ticks": "",
            "zerolinecolor": "white"
           }
          },
          "shapedefaults": {
           "line": {
            "color": "#2a3f5f"
           }
          },
          "ternary": {
           "aaxis": {
            "gridcolor": "white",
            "linecolor": "white",
            "ticks": ""
           },
           "baxis": {
            "gridcolor": "white",
            "linecolor": "white",
            "ticks": ""
           },
           "bgcolor": "#E5ECF6",
           "caxis": {
            "gridcolor": "white",
            "linecolor": "white",
            "ticks": ""
           }
          },
          "title": {
           "x": 0.05
          },
          "xaxis": {
           "automargin": true,
           "gridcolor": "white",
           "linecolor": "white",
           "ticks": "",
           "title": {
            "standoff": 15
           },
           "zerolinecolor": "white",
           "zerolinewidth": 2
          },
          "yaxis": {
           "automargin": true,
           "gridcolor": "white",
           "linecolor": "white",
           "ticks": "",
           "title": {
            "standoff": 15
           },
           "zerolinecolor": "white",
           "zerolinewidth": 2
          }
         }
        },
        "title": {
         "text": "Strategy is:\tEst-SD"
        }
       }
      }
     },
     "metadata": {},
     "output_type": "display_data"
    },
    {
     "data": {
      "application/vnd.plotly.v1+json": {
       "config": {
        "plotlyServerURL": "https://plot.ly"
       },
       "data": [
        {
         "boxmean": "sd",
         "name": "10",
         "type": "box",
         "y": [
          0.1842770408593777,
          0.3658367609568477,
          0.2301390043215025,
          0.5279645112474497,
          0.4465435921289172,
          0.024162175196648,
          0.4697713149221237,
          0.3725362495098028,
          0.4721657724105263,
          0.2806525241693975,
          0.1160906511274243,
          0.408641700686576,
          0.1481389045272823,
          0.4195081478655248,
          0.440826416760067,
          0.1583180016662435,
          0.3153004784501314,
          0.2415728618352287,
          0.0884234427432883,
          0.5858441661772943,
          0.0640384055251969,
          0.2664430148060627,
          -0.1350129165144051,
          0.4514172665134686,
          0.421249738930683,
          0.3267446971955351,
          0.1865329109637267,
          0.2578455349918919,
          0.2405036946819471,
          0.4419048805324832,
          0.3318951939765496,
          0.5708962457987378,
          0.2892616325529669,
          0.4731920810798551,
          0.2476552146592097,
          0.5334300742143714,
          0.3171031602551413,
          0.4250874004272673,
          0.0849507016472232,
          0.5258856916362816,
          0.3284830421312001,
          0.31363548508064,
          0.5645171658635485,
          0.3029430445309705,
          0.1102808641943401,
          0.4562132416511707,
          0.3766952748801603,
          0.4319399118155451,
          0.3476464919657469,
          0.4140941950601824,
          0.3797594753337837,
          0.3197656432055917,
          0.345469739017924,
          0.1386805918396511,
          0.3623824446529436,
          0.2985888127333537,
          0.4454160452091623,
          0.4042380221417766,
          0.15122304120321,
          0.3185175469157742,
          0.2951659734033609,
          0.1461837931933725,
          0.1786014701087662,
          0.0430454935412647,
          0.0080968541294447,
          0.7069368703713427,
          0.2143615513745617,
          0.3267412291000687,
          0.2932290857885261,
          0.2933521230775914,
          0.2141131240716642,
          0.1717259681773118,
          0.3402369275878094,
          0.3005270713706243,
          0.0553761222867115,
          -0.0528595986369188,
          0.3019719528063188,
          0.3577069159994278,
          0.3130030678572796,
          0.4258701893051539,
          0.1341041003112199,
          0.4934010410248645,
          0.5626990696325385,
          0.3783044595894409,
          0.3726738937368459,
          0.5006387964554089,
          0.188442080783543,
          0.4654811999131789,
          0.5370186268558845,
          0.3493557110971921,
          0.1790478342982461,
          0.6057001869661897,
          0.0170469006460043,
          0.3506910236871668,
          0.531303645758313,
          0.5032225216425524,
          0.298537042534369,
          0.5673670092423452,
          0.1772611378930634,
          0.1526588711279073,
          0.4196840529195685,
          0.3973744192347405,
          0.2936595760085776,
          0.1773089086641696,
          0.4398123507076618,
          0.3006140496442965,
          0.3482699644248443,
          0.2635103698762336,
          0.2734848170549052,
          0.5500720762514116,
          0.2256214009585821,
          0.3443354617676966,
          0.526356634435309,
          0.2180931740720249,
          0.3391721117866396,
          0.2896581445923043,
          0.2825341328966372,
          0.1157217583559795,
          0.5967829655366732,
          0.0191562750346903,
          0.0129479805452129,
          0.2676199957965092,
          0.7255542292299801,
          0.2320098663518832,
          0.1554243952830251,
          0.293438694655588,
          0.5431312048746868,
          0.3277793517335048,
          0.1873596991596459,
          0.5624846279395739,
          0.1910434017913998,
          -0.0235405794165759,
          0.345391314261022,
          0.4732001869757604,
          0.3968794122637974,
          -0.022775102319803,
          0.2079188201135519,
          0.5608401044773119,
          0.3295005054688898,
          -0.1691507754829215,
          0.3252211288605229,
          0.3041350814996823,
          0.3816506768534331,
          0.0456197986456484,
          0.3447001554573259,
          0.5124672954154953,
          0.5375398667905458,
          0.5088907792409503,
          0.4685672564125997,
          0.3192506574635516,
          0.3345928592113806,
          0.5079831693172192,
          0.7323781966114504,
          0.1234596849159841,
          0.0057757251943231,
          0.3409129812834843,
          0.505122713262482,
          0.353086191697236,
          0.4003958916471555,
          0.2130361971173376,
          0.2409690495242604,
          0.3828401567349503,
          0.5149011856263662,
          0.0955331279644843,
          0.1502112154758933,
          0.2700495357057056,
          0.1096853911647797,
          0.2507639180117957,
          0.4823912169756749,
          0.5743165109488756,
          0.3278995148460669,
          0.4935109620213513,
          0.506665227792349,
          0.1928469354931833,
          0.3376409565429782,
          0.1750753978424903,
          -0.0133144764599582,
          0.1646722844073795,
          0.1083288672592688,
          0.3538368959712136,
          0.1635121106920197,
          0.517940385005029,
          0.3786379508260856,
          0.208631978273316,
          0.2134179315199244,
          0.2488493579335182,
          0.4289051817684078,
          0.4884295345000946,
          0.0286441877116556,
          0.2273646657585259,
          0.1556928023033464,
          0.3037119540446023,
          0.2812467598222389,
          0.4693513051270209,
          0.2923906947251426,
          0.2233301835689974,
          0.267836692004652,
          0.403479648529168,
          0.5187163377473032,
          0.3355947344353919,
          0.124303864665368,
          0.4261747130829836,
          0.597940556365613,
          0.2351042437615569,
          0.4390905125510124,
          0.4838159704901275,
          0.3561492408982422,
          0.3284199748375502,
          0.2681676480613469,
          0.1184719415267888,
          0.4847446100401537,
          0.0917869441491135,
          0.2093148688905075,
          0.4538899876456028,
          0.4499872575496917,
          0.5370230494408748,
          0.1963307392269241,
          0.4969214013824051,
          0.4935804570942136,
          0.4898797420362309,
          0.0914030232129125,
          0.3962238418150418,
          0.5362120989325209,
          0.3317259416460567,
          0.1352796703583249,
          0.2878847029567393,
          0.1556615617160797,
          0.0416556020883754,
          0.496473868218265,
          0.0426918463018358,
          0.4372071678473677,
          0.7809523227264451,
          0.3010258217993386,
          0.2652833405321108,
          0.1947834641653567,
          0.2749793011824188,
          0.455383616259158,
          0.4016462218504409,
          0.1697491290646267,
          0.5008552448921889,
          0.159510112257312,
          0.243256505987842,
          0.1569196685865343,
          0.2519262050926108,
          0.7748771697049047,
          0.379354119430238,
          -0.0387576543653358,
          0.3661213252579777,
          0.2229417628504865,
          0.4483288132819749
         ]
        },
        {
         "boxmean": "sd",
         "name": "20",
         "type": "box",
         "y": [
          0.1385211224339623,
          0.2938588096138694,
          0.1097394260854941,
          0.4756263000859562,
          0.427688893812465,
          0.1576437002862598,
          0.421580504496531,
          0.223183962222936,
          0.4400737269390952,
          0.2674528253112486,
          0.2719935429007039,
          0.4534703184992931,
          0.1437500708713649,
          0.5774599603939384,
          0.388952174858355,
          0.1893307233307447,
          0.2857392503979663,
          0.2212291145471355,
          0.1836211290683952,
          0.6538787462371615,
          0.1565454641610683,
          0.2578701734885719,
          0.0601533795979177,
          0.5644233094662786,
          0.495944540848641,
          0.5333918379499607,
          0.3628945791884578,
          0.2751685532368366,
          0.2898399274458543,
          0.4080813854979649,
          0.4883457134211711,
          0.4604574179121082,
          0.1160583721406769,
          0.4527688726369553,
          0.2157144681372219,
          0.4488763625608848,
          0.2073584589228906,
          0.3515305962806829,
          -0.0089765302461471,
          0.3474858150525854,
          0.2337200801000849,
          0.2614680207508775,
          0.4704756805336307,
          0.1590600867605771,
          0.1324535736277621,
          0.4797134963102894,
          0.2562703276599963,
          0.2859109482733237,
          0.3941476642886202,
          0.5025621843516785,
          0.4501624017854065,
          0.3096293887674509,
          0.2638410772796938,
          0.3314156120678018,
          0.2842835716522912,
          0.3488838037691465,
          0.3607119776600414,
          0.411685684164344,
          0.457467198584784,
          0.3572891564917645,
          0.3929026013954072,
          0.4018941634205402,
          0.3481670633478572,
          0.0210047260208284,
          0.280713033472084,
          0.7276220367984775,
          0.2741730380645066,
          0.3518746213985035,
          0.3841920908076669,
          0.2683832971931163,
          0.1970992476143585,
          0.2429846799674701,
          0.3912285034527644,
          0.4278766941710601,
          0.3076142182800239,
          0.0394498160280924,
          0.3354706362664348,
          0.3811731244820677,
          0.2444047066403063,
          0.1294333913994774,
          0.3034580755342025,
          0.6227585733572459,
          0.6120122138294274,
          0.410756968544639,
          0.2031723257478268,
          0.6123772825561445,
          0.3421794132358932,
          0.3016480120431649,
          0.5466385487727072,
          0.5769767137919276,
          0.2792921070954431,
          0.6416405873022382,
          0.0857369278427355,
          0.2852459677339476,
          0.5483730617311411,
          0.4017052864687777,
          0.3127185427760627,
          0.5160302575360979,
          0.1148299680521766,
          0.530234321752127,
          0.4083386380908715,
          0.4385349656642249,
          0.5996468971823316,
          0.2423335125470882,
          0.3874464917448155,
          0.3047859669717941,
          0.3829716197982838,
          0.2082526026925837,
          0.3806691224118976,
          0.5115732555213609,
          0.2683358095304662,
          0.4579426121266695,
          0.5798128137257739,
          0.0299224033093283,
          0.5251248148634425,
          0.1006540234541409,
          0.4428472064240396,
          0.0845737483399755,
          0.5688695603658259,
          0.1491413662374016,
          0.1487928901311751,
          0.1626842681421481,
          0.8253579997105366,
          0.483891797791823,
          0.1307662723710902,
          0.061038032431277,
          0.5354406558509013,
          0.0489901974192606,
          0.3458861275396965,
          0.5732820212152803,
          0.5092450842529257,
          0.2551605080222887,
          0.338211544102157,
          0.3741046812624027,
          0.3348239462356875,
          0.2844768983346862,
          0.203613165418905,
          0.4757714549194431,
          0.462777044206881,
          -0.0728841473454647,
          0.3236266707142839,
          0.1878146316471022,
          0.4523991868875986,
          0.2507216457375734,
          0.2039866139115299,
          0.5523492703731281,
          0.5794310563783154,
          0.4440267076430124,
          0.5002522140666106,
          0.3296414118601272,
          0.2887972141399764,
          0.5526773004008062,
          0.7071011658466159,
          0.1841386020177386,
          0.2163063292460203,
          0.1691936996407813,
          0.4677868028313589,
          0.2286700582975617,
          0.6931446057621349,
          0.2937033594799846,
          0.1768607132645812,
          0.3673299786819804,
          0.6590659892445666,
          0.1784048982434468,
          0.0095047929238186,
          0.1899586949455674,
          0.2054590261947223,
          0.2930645380731382,
          0.3020377920244825,
          0.6233861216832979,
          0.4200168391184752,
          0.7299057194660923,
          0.6039353631317927,
          0.2576563368132198,
          0.1946072913815792,
          0.1324867804713023,
          0.2383886647955272,
          0.5260022008466175,
          0.3101178178133142,
          0.3736330569682381,
          0.0843951819791005,
          0.5770188842363474,
          0.3758663402792885,
          0.3681019701984897,
          0.1888709827839839,
          0.1596944842256334,
          0.3683793081843752,
          0.6300643171379554,
          0.1836615698581552,
          0.14177437863028,
          0.1792334270942282,
          0.3854783054249228,
          0.3723294159046974,
          0.3436847151114016,
          0.4106764301513354,
          0.1938380970556393,
          0.2438358990865113,
          0.2454729928301147,
          0.5261689962067321,
          0.4752617894172887,
          0.2672317642735218,
          0.6258516095656315,
          0.6559069452388813,
          0.1507138131588134,
          0.3518431327495436,
          0.49506328062275,
          0.5225758513212125,
          0.3551319630825562,
          0.3497173962229947,
          0.213305537572115,
          0.4066046589805412,
          0.1482377789145708,
          0.2602763498588773,
          0.6521168911793179,
          0.4127703975331655,
          0.5735908800452263,
          0.3589977587716945,
          0.5037637909506624,
          0.3715475867865361,
          0.4107120323585063,
          0.130454095776293,
          0.3649922495152901,
          0.4302440945417851,
          0.4411965268334031,
          0.1251527757660619,
          0.4911515775221212,
          0.035145973143426,
          0.2262814589223734,
          0.3910751628881168,
          0.1041202457143354,
          0.34269278302046,
          0.7499717714886524,
          0.4057538185650505,
          0.4162747713821826,
          0.1263647209915864,
          0.4026410626281011,
          0.3469215179290176,
          0.3299229605038624,
          0.1781188053631055,
          0.6290641413582766,
          0.1984803617990811,
          0.5754586015161165,
          0.214712876961346,
          0.344385885097221,
          1.090907648649473,
          0.4123515193732457,
          0.2610670906107769,
          0.3850070847800741,
          0.0729556001625794,
          0.406051020936619
         ]
        },
        {
         "boxmean": "sd",
         "name": "30",
         "type": "box",
         "y": [
          0.1999608205622662,
          0.139380752868001,
          0.2161925146569722,
          0.3350194007532049,
          0.3965157045806308,
          0.3349014038086669,
          0.3747178948210821,
          0.2919504183418405,
          0.4172311887909624,
          0.3811264854067716,
          0.3832840308855821,
          0.4060779756499427,
          0.2040061374400809,
          0.6363680852317931,
          0.3606602995585046,
          0.3881765270102641,
          0.1811658822318372,
          0.1412981121774174,
          0.4430967801102262,
          0.6698702575016653,
          0.378253085694742,
          0.3483147029880478,
          0.0118326241469053,
          0.624320603318498,
          0.5084524510943462,
          0.5352153995818693,
          0.5421281750902682,
          0.245488816529861,
          0.3436460627150078,
          0.4652011267311489,
          0.6297118667590023,
          0.643046731759414,
          0.0939377777413624,
          0.4711916042305486,
          0.2502941784086068,
          0.523452768269789,
          0.1196523150275736,
          0.4806014505086142,
          0.0685272190917489,
          0.2242314194561178,
          0.418007518117663,
          0.4308450488298669,
          0.3448723863422602,
          0.198832600536607,
          0.252464402831185,
          0.5281302045442984,
          0.31111646955097,
          0.0832992421517221,
          0.5234303818361148,
          0.4526934672605164,
          0.3895924512559411,
          0.55335747856737,
          0.4467330950842038,
          0.4364739748402203,
          0.1324100384080623,
          0.3330427758369789,
          0.4836981384181884,
          0.3430611975459413,
          0.4793299113574901,
          0.3293617273406972,
          0.5042783372998227,
          0.3749935186213916,
          0.4153051272587163,
          0.0473675448772857,
          0.1271596115973668,
          0.7276773691812374,
          0.2392576032761395,
          0.4404947212001012,
          0.506999799866124,
          0.3001478844803988,
          0.2429617815178198,
          0.4103423661445852,
          0.3449400211323119,
          0.4730738372638656,
          0.2864999783395949,
          0.0066821848650861,
          0.4152244908242274,
          0.3934590466050204,
          0.2829727899888185,
          0.1398302390370372,
          0.3270769892781688,
          0.5435137580546587,
          0.6719824835315741,
          0.3439247165845268,
          0.4150767394448543,
          0.5190599531876513,
          0.2394613646291244,
          0.268353031637104,
          0.6290264530893955,
          0.5614530699757592,
          0.4673217402501066,
          0.5033379623827169,
          0.0817216798881948,
          0.3757258307254446,
          0.478431657115215,
          0.4260814668555266,
          0.3352943206723762,
          0.3481317941867272,
          0.1270543625441136,
          0.3796294417386167,
          0.4070535717991544,
          0.5408021328213453,
          0.5149067387956487,
          0.3963585245317683,
          0.4272488247026747,
          0.280044477059264,
          0.3789825100834584,
          0.1318934608998848,
          0.3466343997430445,
          0.3907326081471711,
          0.2028621396777184,
          0.5624979130831744,
          0.4565524790149614,
          -0.1356701539446709,
          0.4992351131076857,
          0.2632685598291976,
          0.4336370001514179,
          0.0880240009139498,
          0.5057690036493125,
          0.3031696788121488,
          0.2009813978815692,
          0.2484702173574461,
          0.702119133582134,
          0.4950789042295473,
          0.1155334699431337,
          0.2888208558582755,
          0.551348901607467,
          0.4041639060101455,
          0.4723731809428475,
          0.7477566931827679,
          0.3981946247288506,
          0.1187924187094606,
          0.3757122796724561,
          0.4066071983913485,
          0.1073378052235194,
          0.3410666862567572,
          0.3312706067997862,
          0.5209431312963803,
          0.4627083930371937,
          0.0991870536238911,
          0.4274314684770946,
          0.2598595665661604,
          0.4010301677546753,
          0.3517584057846731,
          0.1701274657584682,
          0.4086818621896932,
          0.4168023897453771,
          0.5794224812534439,
          0.4177651353262915,
          0.33398448701547,
          0.1452759234328496,
          0.4651449602764286,
          0.7846272046598745,
          0.0577057754782945,
          0.4513112333372591,
          0.4514634098790988,
          0.3769425469330522,
          0.0930823786158304,
          0.8378431260885579,
          0.3042781872304518,
          0.5482337800696528,
          0.3903891851651248,
          0.6071485821358246,
          0.3056038161691907,
          -0.0413537915695758,
          0.2883563193353248,
          0.1446722465052356,
          0.2162023697370413,
          0.3604927484504444,
          0.3666105103691481,
          0.4687146515133718,
          0.5459872945851201,
          0.582782118459109,
          0.4150449817125101,
          0.2451793777962154,
          0.3444265614725628,
          0.0609108407215286,
          0.4215446851421124,
          0.3713629214520153,
          0.4174498228704149,
          0.094641208243876,
          0.5863546172070562,
          0.3560801392303176,
          0.3679369053793827,
          0.1804642268617372,
          0.2788439851508628,
          0.3961149598751847,
          0.643084304969445,
          0.3027673085233113,
          0.2580589492501278,
          0.3064533103589614,
          0.2746383858280119,
          0.393073665425778,
          0.1331045374525952,
          0.4252961738733336,
          0.3011871774715452,
          0.2576677239757277,
          0.4444417413710305,
          0.5946666936881291,
          0.5895528072911647,
          0.1498993354173307,
          0.6770072002215413,
          0.6317306154226127,
          -0.0294943846574773,
          0.2225319807508124,
          0.3878953416349989,
          0.5409906055409939,
          0.247560550032869,
          0.2990130958803235,
          0.1160507470137594,
          0.2696403812808632,
          0.222225592963883,
          0.3021783396713155,
          0.6939085711247374,
          0.5205688295661087,
          0.5889441211458407,
          0.3989672828485011,
          0.5628401498079441,
          0.1962349013254984,
          0.403041277723304,
          0.29695802924124,
          0.3164089976637873,
          0.331801365346324,
          0.5992831642870461,
          0.2827689696077458,
          0.59082977543781,
          0.0114229708097919,
          0.3714620460887434,
          0.456229810602344,
          0.1074833378393349,
          0.2805969855992733,
          0.6109460110511624,
          0.532650180181278,
          0.5065804355777427,
          0.2585059872953624,
          0.4550612027001278,
          0.4304037450210354,
          0.2165797812583612,
          0.3348088425492012,
          0.6957627338089054,
          0.1455830258463518,
          0.4431299603507943,
          0.2742855166619333,
          0.3193106962075795,
          0.8598932554266543,
          0.3125841358125286,
          0.2516220615859242,
          0.3535677143444211,
          0.1995519899291834,
          0.4793031089551293
         ]
        },
        {
         "boxmean": "sd",
         "name": "40",
         "type": "box",
         "y": [
          0.4200075109519355,
          0.1852276703670115,
          0.2589764159183636,
          0.2910842297564415,
          0.312539095953674,
          0.4079341414667173,
          0.291906230229212,
          0.3762071929469774,
          0.5033522445786753,
          0.5459827336014014,
          0.3530683693513822,
          0.4407957678329647,
          0.4069663117959948,
          0.4942063032531318,
          0.3663307405527162,
          0.3429596043339533,
          0.390905545594281,
          0.1970881188575964,
          0.3311712580762887,
          0.6292166695288038,
          0.288848975342039,
          0.2731673166420002,
          0.0809786084917103,
          0.578878634535379,
          0.5759934643256032,
          0.545288378558523,
          0.4053617397849614,
          0.2227279117285188,
          0.3602176324588597,
          0.3918558259457246,
          0.5188607797203856,
          0.5843825876599005,
          0.1487549242607054,
          0.2949198692474605,
          0.2489563912268829,
          0.7218234693130254,
          0.3788259403273483,
          0.5504602740263774,
          0.126494166520923,
          0.251878291164944,
          0.5810467459394439,
          0.4187734423680277,
          0.1893045342745919,
          -0.0239461878418091,
          0.2022413244185973,
          0.6204338446930298,
          0.1869264341273751,
          0.2542675975985515,
          0.399260066054256,
          0.4287728374574534,
          0.4074713500927906,
          0.5986472384719913,
          0.6086021133437121,
          0.5235511471498646,
          0.1914834510194626,
          0.2781893962364421,
          0.4054669976033119,
          0.4187143402911448,
          0.6165888247853939,
          0.4319364009661545,
          0.4823926641453075,
          0.3088555020072469,
          0.5648170058079243,
          0.2427966282060547,
          0.3322753789680213,
          0.6267574165435789,
          0.2695243008170864,
          0.5038932975009007,
          0.4580388342672869,
          0.3266883763988284,
          0.2020929224687488,
          0.3347083742982593,
          0.5682237726874177,
          0.5937311479073022,
          0.2860712493973982,
          0.1179655570560583,
          0.5021709137591964,
          0.5192386177070073,
          0.2229915739070886,
          0.4117099534436233,
          0.2924828110740176,
          0.4928274690464442,
          0.8497692387353192,
          0.3819937100692729,
          0.4338037860043918,
          0.5069718141058492,
          0.2126282767248328,
          0.5545366647909771,
          0.5580545116967802,
          0.5737691840776714,
          0.5235078767135419,
          0.3791082542397618,
          0.2630553017572603,
          0.4308313479185898,
          0.5837268830394565,
          0.3120422992714287,
          0.2533105636101126,
          0.3885811891295965,
          0.2843430512835418,
          0.5317908798011093,
          0.3598477464616365,
          0.4998746401314497,
          0.4762249005973034,
          0.5988799821810928,
          0.4761220774446716,
          0.3368392713093858,
          0.3618872224539617,
          0.4221428429098273,
          0.3794926306631649,
          0.2695516098937907,
          0.1338829037509174,
          0.5950901072225545,
          0.3933371410372476,
          0.11092997946437,
          0.4044078295646149,
          0.1805906238160747,
          0.3594184524297782,
          0.0616271843201231,
          0.5006034964966802,
          0.435513963727954,
          0.1324372467948218,
          0.2733640720142892,
          0.6711513374323327,
          0.6259780848970005,
          -0.0314558349515021,
          0.2904662336100159,
          0.5283435556664547,
          0.3214827394925313,
          0.4572976933101157,
          0.7356658550172681,
          0.4979586481169421,
          0.1787773767326327,
          0.4336255591266718,
          0.4454052153493128,
          0.0980821476072011,
          0.4199580092681892,
          0.1732389236403243,
          0.4863744524496375,
          0.4308145405851291,
          0.1932028541910787,
          0.2607707756084679,
          0.4821807675028827,
          0.4516327920447813,
          0.4191573004032441,
          0.3634581496213366,
          0.2251770967850283,
          0.4861913406994127,
          0.5030249507728025,
          0.2932686784271129,
          0.2588665310141165,
          0.3226224600722382,
          0.3101449395170245,
          0.8206310223716365,
          0.4207327502124572,
          0.5361696081905497,
          0.3659094769851408,
          0.5222477595567404,
          0.2068239103754825,
          0.7073679966875911,
          0.3363229435205424,
          0.6464091429653962,
          0.4098540086022322,
          0.4716075379969009,
          0.388865379129501,
          -0.2565077552080429,
          0.4195669047080717,
          0.1127880450412471,
          0.1232402586302467,
          0.3464714161677384,
          0.4653202096885438,
          0.3774029314421514,
          0.4534231130675971,
          0.7771639058624064,
          0.4459782290440203,
          0.1577359571417269,
          0.4958249807066954,
          0.2801323200706077,
          0.5778097137585234,
          0.4080355289512577,
          0.4706996426785587,
          0.0163141697082774,
          0.5696731904084532,
          0.2109385958225522,
          0.4184515473891659,
          0.1737144374198854,
          0.1119452463920748,
          0.375465346533897,
          0.6610976691526292,
          0.5453847061214723,
          0.1107843869154414,
          0.5109962384666135,
          0.4444564572756811,
          0.2981178987130511,
          0.0282033894865986,
          0.3453571641282584,
          0.1928739861299642,
          0.3148624173432828,
          0.3776693638456005,
          0.4493972626335126,
          0.565825912802365,
          0.2928844139790542,
          0.6277888083726046,
          0.6878458274293965,
          -0.0541870940708318,
          0.2459957908209962,
          0.4456920880238474,
          0.4885570996483866,
          0.0414338805674893,
          0.3196645264586067,
          0.21694863782019,
          0.3749208156206117,
          0.2062556845689589,
          0.2117438804096896,
          0.5310466894478985,
          0.5461968889655562,
          0.4863168288776621,
          0.4668948076892584,
          0.4680750136457292,
          0.0902317550547453,
          0.4431965223747101,
          0.230990689327089,
          0.3525885072508569,
          0.182029221504034,
          0.5508397572424105,
          0.3742864719763576,
          0.6060785763541605,
          0.1126837247417982,
          0.4280776913710726,
          0.5288321635781379,
          0.3016500944223671,
          0.3159403900221003,
          0.4700688632438835,
          0.4910200339768127,
          0.5825988384743893,
          0.4018734036108781,
          0.5199478417001209,
          0.4380541615297348,
          0.4161127133891046,
          0.3552576484373225,
          0.6871222874887443,
          0.2518766373896363,
          0.5594411931867584,
          0.2136107271668675,
          0.3084260812764655,
          0.897336344872012,
          0.4089962704129111,
          0.2383047829066861,
          0.5156074199785219,
          0.3298837558644111,
          0.4653037836836994
         ]
        },
        {
         "boxmean": "sd",
         "name": "50",
         "type": "box",
         "y": [
          0.4425863261236949,
          0.2985067720649983,
          0.4298744824770893,
          0.1716037010521708,
          0.2457025616397746,
          0.422597615443903,
          0.2225368070997349,
          0.3038192359615601,
          0.4734321436145876,
          0.5519546911934244,
          0.4036740308809224,
          0.4843011654158997,
          0.5044221548899049,
          0.3897130094713924,
          0.3659677736133608,
          0.4561942995980768,
          0.3945948409250998,
          0.3842857530105016,
          0.4852201858098198,
          0.4947440195667227,
          0.4509220356784092,
          0.1596696394872591,
          0.1239972061693388,
          0.538641149197372,
          0.416944336362907,
          0.5642046884463646,
          0.5184389728785369,
          0.315003084838138,
          0.4104283963197681,
          0.2831199832416259,
          0.3798162525372402,
          0.4915292699747473,
          0.0890599541086463,
          0.3256303020062562,
          0.2600090861775526,
          0.5103715218246612,
          0.3008251633519761,
          0.6221472517517528,
          0.221185791110257,
          0.3912707864683176,
          0.5990630027435608,
          0.5830213598575086,
          0.1463901284355142,
          0.0179680111537608,
          0.3977315263492653,
          0.671142217634361,
          0.2802012179769678,
          0.2524243072283073,
          0.329940875375199,
          0.3817320599806845,
          0.5196154894713716,
          0.5260379868380103,
          0.6172138218035396,
          0.4501634198869787,
          0.4318723151044538,
          0.4584895160604204,
          0.3431798092477632,
          0.4359346194560429,
          0.8800320252878637,
          0.4280357791376259,
          0.4758619145303115,
          0.457897166031264,
          0.5093993312582661,
          0.2439260062883923,
          0.1809399073973326,
          0.6334664942976851,
          0.4649074120776709,
          0.4577767413980766,
          0.201168665243163,
          0.3843732605034257,
          0.1484733342138015,
          0.3997495147694358,
          0.603657910132557,
          0.7487413795585851,
          0.3906759301290964,
          0.3641645288212767,
          0.4778903276564706,
          0.6911876916140101,
          0.0661592385924881,
          0.4847059585615702,
          0.3502688042862799,
          0.4820938253258803,
          0.7050215277724763,
          0.3704807619086109,
          0.5260440685694893,
          0.4986577684580357,
          0.3066772837279986,
          0.6754188649134079,
          0.4914382094453141,
          0.5105727816586788,
          0.614657578030812,
          0.2910386211994832,
          0.5336235880302734,
          0.3691233684780934,
          0.6000149224480116,
          0.4743030915576708,
          0.3986925340710579,
          0.2977241187457118,
          0.1446745899314434,
          0.4533988285980795,
          0.5154798826261795,
          0.4324695601406507,
          0.3556761118645525,
          0.6496654488632477,
          0.5537647449466678,
          0.2122286377863991,
          0.3622989545802003,
          0.4851379528119576,
          0.3405879564668111,
          0.3837939208649614,
          0.3351306951234122,
          0.6186793182226581,
          0.3310925333513756,
          0.2441875149499309,
          0.2899690233662538,
          0.2128300864311295,
          0.3837612970433543,
          0.1058635851943994,
          0.6492987260989778,
          0.4344195898613786,
          0.123563286784824,
          0.3235927262791723,
          0.5927227743295125,
          0.7649208745374128,
          0.2733794697191923,
          0.1906015413414343,
          0.5135573120986642,
          0.435749013582999,
          0.5316793277295204,
          0.7612576539260182,
          0.4833970600897913,
          0.2540746220321431,
          0.4024171842009016,
          0.4861244725796806,
          0.353226334787892,
          0.4221935108112047,
          0.3190408297453657,
          0.50382132154995,
          0.5270152965469145,
          0.3294110985801134,
          0.3969101218664664,
          0.3898502502220153,
          0.3758743673999515,
          0.1819571108718856,
          0.3289253140172211,
          0.1098714507283123,
          0.4731476612476096,
          0.3746870797651522,
          0.195127156225381,
          0.2532630700253306,
          0.1659139080287392,
          0.3033639473196454,
          0.8708712765414878,
          0.4517013077042127,
          0.5861113467843931,
          0.3569051157481444,
          0.5828247298467433,
          0.2649407493905313,
          0.7994983966989699,
          0.331102158736584,
          0.4889155923992259,
          0.4413806879898261,
          0.3761169398447614,
          0.4412257993789817,
          0.2385700068297084,
          0.4692841323633976,
          0.2819817856919355,
          0.1792746650680143,
          0.3112559100533164,
          0.3913158606471682,
          0.3773200421785285,
          0.3781744931281018,
          0.7710805194389321,
          0.5230922353295474,
          0.2861898238813841,
          0.4375995510865962,
          0.4768625403180841,
          0.4765218769709642,
          0.4242011014326955,
          0.372800127077308,
          0.1226113172856418,
          0.5438606298579792,
          0.2065024261893762,
          0.4850944607174077,
          0.0991063453625851,
          0.3432796840141864,
          0.4319002532088224,
          0.600794982763274,
          0.632430697554941,
          0.1822138162123944,
          0.4966294220402028,
          0.4965360539223419,
          0.2395811529755229,
          0.0447226181748773,
          0.3709707427103961,
          0.1246529720389507,
          0.4279539065522713,
          0.4721238420196057,
          0.3277034058536905,
          0.5262909597617954,
          0.4479389006518934,
          0.7519726328102785,
          0.7921976070513599,
          0.0903977898346345,
          0.1578741856863094,
          0.3077532969058486,
          0.5611880409196373,
          0.2774639484227317,
          0.4022923468124925,
          0.3289733005084163,
          0.608449161332881,
          0.3132565505874496,
          0.330003250195042,
          0.4442221433233184,
          0.4381033245738435,
          0.356688585510947,
          0.4844238135532018,
          0.2672878520095752,
          0.2679814683285888,
          0.4166117989108105,
          0.1995898710502703,
          0.2799387924320822,
          0.1228104166004185,
          0.4942528438710192,
          0.4645036544317626,
          0.558865725544816,
          0.2573556178139943,
          0.4418590703184743,
          0.5791211307816077,
          0.2792480052250178,
          0.3790447225933167,
          0.4800097598155193,
          0.512802893657844,
          0.4954130776337144,
          0.5217759705088462,
          0.584141479280493,
          0.5363163048172438,
          0.3612549322656956,
          0.4376968080199708,
          0.5548182636349999,
          0.4387130858563189,
          0.6037329898347942,
          0.3579343081605232,
          0.4459857681304253,
          0.7432072028721817,
          0.4889965915802402,
          0.2910584054814123,
          0.2852882308528738,
          0.4559742388195877,
          0.5422520778225206
         ]
        }
       ],
       "layout": {
        "template": {
         "data": {
          "bar": [
           {
            "error_x": {
             "color": "#2a3f5f"
            },
            "error_y": {
             "color": "#2a3f5f"
            },
            "marker": {
             "line": {
              "color": "#E5ECF6",
              "width": 0.5
             },
             "pattern": {
              "fillmode": "overlay",
              "size": 10,
              "solidity": 0.2
             }
            },
            "type": "bar"
           }
          ],
          "barpolar": [
           {
            "marker": {
             "line": {
              "color": "#E5ECF6",
              "width": 0.5
             },
             "pattern": {
              "fillmode": "overlay",
              "size": 10,
              "solidity": 0.2
             }
            },
            "type": "barpolar"
           }
          ],
          "carpet": [
           {
            "aaxis": {
             "endlinecolor": "#2a3f5f",
             "gridcolor": "white",
             "linecolor": "white",
             "minorgridcolor": "white",
             "startlinecolor": "#2a3f5f"
            },
            "baxis": {
             "endlinecolor": "#2a3f5f",
             "gridcolor": "white",
             "linecolor": "white",
             "minorgridcolor": "white",
             "startlinecolor": "#2a3f5f"
            },
            "type": "carpet"
           }
          ],
          "choropleth": [
           {
            "colorbar": {
             "outlinewidth": 0,
             "ticks": ""
            },
            "type": "choropleth"
           }
          ],
          "contour": [
           {
            "colorbar": {
             "outlinewidth": 0,
             "ticks": ""
            },
            "colorscale": [
             [
              0,
              "#0d0887"
             ],
             [
              0.1111111111111111,
              "#46039f"
             ],
             [
              0.2222222222222222,
              "#7201a8"
             ],
             [
              0.3333333333333333,
              "#9c179e"
             ],
             [
              0.4444444444444444,
              "#bd3786"
             ],
             [
              0.5555555555555556,
              "#d8576b"
             ],
             [
              0.6666666666666666,
              "#ed7953"
             ],
             [
              0.7777777777777778,
              "#fb9f3a"
             ],
             [
              0.8888888888888888,
              "#fdca26"
             ],
             [
              1,
              "#f0f921"
             ]
            ],
            "type": "contour"
           }
          ],
          "contourcarpet": [
           {
            "colorbar": {
             "outlinewidth": 0,
             "ticks": ""
            },
            "type": "contourcarpet"
           }
          ],
          "heatmap": [
           {
            "colorbar": {
             "outlinewidth": 0,
             "ticks": ""
            },
            "colorscale": [
             [
              0,
              "#0d0887"
             ],
             [
              0.1111111111111111,
              "#46039f"
             ],
             [
              0.2222222222222222,
              "#7201a8"
             ],
             [
              0.3333333333333333,
              "#9c179e"
             ],
             [
              0.4444444444444444,
              "#bd3786"
             ],
             [
              0.5555555555555556,
              "#d8576b"
             ],
             [
              0.6666666666666666,
              "#ed7953"
             ],
             [
              0.7777777777777778,
              "#fb9f3a"
             ],
             [
              0.8888888888888888,
              "#fdca26"
             ],
             [
              1,
              "#f0f921"
             ]
            ],
            "type": "heatmap"
           }
          ],
          "heatmapgl": [
           {
            "colorbar": {
             "outlinewidth": 0,
             "ticks": ""
            },
            "colorscale": [
             [
              0,
              "#0d0887"
             ],
             [
              0.1111111111111111,
              "#46039f"
             ],
             [
              0.2222222222222222,
              "#7201a8"
             ],
             [
              0.3333333333333333,
              "#9c179e"
             ],
             [
              0.4444444444444444,
              "#bd3786"
             ],
             [
              0.5555555555555556,
              "#d8576b"
             ],
             [
              0.6666666666666666,
              "#ed7953"
             ],
             [
              0.7777777777777778,
              "#fb9f3a"
             ],
             [
              0.8888888888888888,
              "#fdca26"
             ],
             [
              1,
              "#f0f921"
             ]
            ],
            "type": "heatmapgl"
           }
          ],
          "histogram": [
           {
            "marker": {
             "pattern": {
              "fillmode": "overlay",
              "size": 10,
              "solidity": 0.2
             }
            },
            "type": "histogram"
           }
          ],
          "histogram2d": [
           {
            "colorbar": {
             "outlinewidth": 0,
             "ticks": ""
            },
            "colorscale": [
             [
              0,
              "#0d0887"
             ],
             [
              0.1111111111111111,
              "#46039f"
             ],
             [
              0.2222222222222222,
              "#7201a8"
             ],
             [
              0.3333333333333333,
              "#9c179e"
             ],
             [
              0.4444444444444444,
              "#bd3786"
             ],
             [
              0.5555555555555556,
              "#d8576b"
             ],
             [
              0.6666666666666666,
              "#ed7953"
             ],
             [
              0.7777777777777778,
              "#fb9f3a"
             ],
             [
              0.8888888888888888,
              "#fdca26"
             ],
             [
              1,
              "#f0f921"
             ]
            ],
            "type": "histogram2d"
           }
          ],
          "histogram2dcontour": [
           {
            "colorbar": {
             "outlinewidth": 0,
             "ticks": ""
            },
            "colorscale": [
             [
              0,
              "#0d0887"
             ],
             [
              0.1111111111111111,
              "#46039f"
             ],
             [
              0.2222222222222222,
              "#7201a8"
             ],
             [
              0.3333333333333333,
              "#9c179e"
             ],
             [
              0.4444444444444444,
              "#bd3786"
             ],
             [
              0.5555555555555556,
              "#d8576b"
             ],
             [
              0.6666666666666666,
              "#ed7953"
             ],
             [
              0.7777777777777778,
              "#fb9f3a"
             ],
             [
              0.8888888888888888,
              "#fdca26"
             ],
             [
              1,
              "#f0f921"
             ]
            ],
            "type": "histogram2dcontour"
           }
          ],
          "mesh3d": [
           {
            "colorbar": {
             "outlinewidth": 0,
             "ticks": ""
            },
            "type": "mesh3d"
           }
          ],
          "parcoords": [
           {
            "line": {
             "colorbar": {
              "outlinewidth": 0,
              "ticks": ""
             }
            },
            "type": "parcoords"
           }
          ],
          "pie": [
           {
            "automargin": true,
            "type": "pie"
           }
          ],
          "scatter": [
           {
            "fillpattern": {
             "fillmode": "overlay",
             "size": 10,
             "solidity": 0.2
            },
            "type": "scatter"
           }
          ],
          "scatter3d": [
           {
            "line": {
             "colorbar": {
              "outlinewidth": 0,
              "ticks": ""
             }
            },
            "marker": {
             "colorbar": {
              "outlinewidth": 0,
              "ticks": ""
             }
            },
            "type": "scatter3d"
           }
          ],
          "scattercarpet": [
           {
            "marker": {
             "colorbar": {
              "outlinewidth": 0,
              "ticks": ""
             }
            },
            "type": "scattercarpet"
           }
          ],
          "scattergeo": [
           {
            "marker": {
             "colorbar": {
              "outlinewidth": 0,
              "ticks": ""
             }
            },
            "type": "scattergeo"
           }
          ],
          "scattergl": [
           {
            "marker": {
             "colorbar": {
              "outlinewidth": 0,
              "ticks": ""
             }
            },
            "type": "scattergl"
           }
          ],
          "scattermapbox": [
           {
            "marker": {
             "colorbar": {
              "outlinewidth": 0,
              "ticks": ""
             }
            },
            "type": "scattermapbox"
           }
          ],
          "scatterpolar": [
           {
            "marker": {
             "colorbar": {
              "outlinewidth": 0,
              "ticks": ""
             }
            },
            "type": "scatterpolar"
           }
          ],
          "scatterpolargl": [
           {
            "marker": {
             "colorbar": {
              "outlinewidth": 0,
              "ticks": ""
             }
            },
            "type": "scatterpolargl"
           }
          ],
          "scatterternary": [
           {
            "marker": {
             "colorbar": {
              "outlinewidth": 0,
              "ticks": ""
             }
            },
            "type": "scatterternary"
           }
          ],
          "surface": [
           {
            "colorbar": {
             "outlinewidth": 0,
             "ticks": ""
            },
            "colorscale": [
             [
              0,
              "#0d0887"
             ],
             [
              0.1111111111111111,
              "#46039f"
             ],
             [
              0.2222222222222222,
              "#7201a8"
             ],
             [
              0.3333333333333333,
              "#9c179e"
             ],
             [
              0.4444444444444444,
              "#bd3786"
             ],
             [
              0.5555555555555556,
              "#d8576b"
             ],
             [
              0.6666666666666666,
              "#ed7953"
             ],
             [
              0.7777777777777778,
              "#fb9f3a"
             ],
             [
              0.8888888888888888,
              "#fdca26"
             ],
             [
              1,
              "#f0f921"
             ]
            ],
            "type": "surface"
           }
          ],
          "table": [
           {
            "cells": {
             "fill": {
              "color": "#EBF0F8"
             },
             "line": {
              "color": "white"
             }
            },
            "header": {
             "fill": {
              "color": "#C8D4E3"
             },
             "line": {
              "color": "white"
             }
            },
            "type": "table"
           }
          ]
         },
         "layout": {
          "annotationdefaults": {
           "arrowcolor": "#2a3f5f",
           "arrowhead": 0,
           "arrowwidth": 1
          },
          "autotypenumbers": "strict",
          "coloraxis": {
           "colorbar": {
            "outlinewidth": 0,
            "ticks": ""
           }
          },
          "colorscale": {
           "diverging": [
            [
             0,
             "#8e0152"
            ],
            [
             0.1,
             "#c51b7d"
            ],
            [
             0.2,
             "#de77ae"
            ],
            [
             0.3,
             "#f1b6da"
            ],
            [
             0.4,
             "#fde0ef"
            ],
            [
             0.5,
             "#f7f7f7"
            ],
            [
             0.6,
             "#e6f5d0"
            ],
            [
             0.7,
             "#b8e186"
            ],
            [
             0.8,
             "#7fbc41"
            ],
            [
             0.9,
             "#4d9221"
            ],
            [
             1,
             "#276419"
            ]
           ],
           "sequential": [
            [
             0,
             "#0d0887"
            ],
            [
             0.1111111111111111,
             "#46039f"
            ],
            [
             0.2222222222222222,
             "#7201a8"
            ],
            [
             0.3333333333333333,
             "#9c179e"
            ],
            [
             0.4444444444444444,
             "#bd3786"
            ],
            [
             0.5555555555555556,
             "#d8576b"
            ],
            [
             0.6666666666666666,
             "#ed7953"
            ],
            [
             0.7777777777777778,
             "#fb9f3a"
            ],
            [
             0.8888888888888888,
             "#fdca26"
            ],
            [
             1,
             "#f0f921"
            ]
           ],
           "sequentialminus": [
            [
             0,
             "#0d0887"
            ],
            [
             0.1111111111111111,
             "#46039f"
            ],
            [
             0.2222222222222222,
             "#7201a8"
            ],
            [
             0.3333333333333333,
             "#9c179e"
            ],
            [
             0.4444444444444444,
             "#bd3786"
            ],
            [
             0.5555555555555556,
             "#d8576b"
            ],
            [
             0.6666666666666666,
             "#ed7953"
            ],
            [
             0.7777777777777778,
             "#fb9f3a"
            ],
            [
             0.8888888888888888,
             "#fdca26"
            ],
            [
             1,
             "#f0f921"
            ]
           ]
          },
          "colorway": [
           "#636efa",
           "#EF553B",
           "#00cc96",
           "#ab63fa",
           "#FFA15A",
           "#19d3f3",
           "#FF6692",
           "#B6E880",
           "#FF97FF",
           "#FECB52"
          ],
          "font": {
           "color": "#2a3f5f"
          },
          "geo": {
           "bgcolor": "white",
           "lakecolor": "white",
           "landcolor": "#E5ECF6",
           "showlakes": true,
           "showland": true,
           "subunitcolor": "white"
          },
          "hoverlabel": {
           "align": "left"
          },
          "hovermode": "closest",
          "mapbox": {
           "style": "light"
          },
          "paper_bgcolor": "white",
          "plot_bgcolor": "#E5ECF6",
          "polar": {
           "angularaxis": {
            "gridcolor": "white",
            "linecolor": "white",
            "ticks": ""
           },
           "bgcolor": "#E5ECF6",
           "radialaxis": {
            "gridcolor": "white",
            "linecolor": "white",
            "ticks": ""
           }
          },
          "scene": {
           "xaxis": {
            "backgroundcolor": "#E5ECF6",
            "gridcolor": "white",
            "gridwidth": 2,
            "linecolor": "white",
            "showbackground": true,
            "ticks": "",
            "zerolinecolor": "white"
           },
           "yaxis": {
            "backgroundcolor": "#E5ECF6",
            "gridcolor": "white",
            "gridwidth": 2,
            "linecolor": "white",
            "showbackground": true,
            "ticks": "",
            "zerolinecolor": "white"
           },
           "zaxis": {
            "backgroundcolor": "#E5ECF6",
            "gridcolor": "white",
            "gridwidth": 2,
            "linecolor": "white",
            "showbackground": true,
            "ticks": "",
            "zerolinecolor": "white"
           }
          },
          "shapedefaults": {
           "line": {
            "color": "#2a3f5f"
           }
          },
          "ternary": {
           "aaxis": {
            "gridcolor": "white",
            "linecolor": "white",
            "ticks": ""
           },
           "baxis": {
            "gridcolor": "white",
            "linecolor": "white",
            "ticks": ""
           },
           "bgcolor": "#E5ECF6",
           "caxis": {
            "gridcolor": "white",
            "linecolor": "white",
            "ticks": ""
           }
          },
          "title": {
           "x": 0.05
          },
          "xaxis": {
           "automargin": true,
           "gridcolor": "white",
           "linecolor": "white",
           "ticks": "",
           "title": {
            "standoff": 15
           },
           "zerolinecolor": "white",
           "zerolinewidth": 2
          },
          "yaxis": {
           "automargin": true,
           "gridcolor": "white",
           "linecolor": "white",
           "ticks": "",
           "title": {
            "standoff": 15
           },
           "zerolinecolor": "white",
           "zerolinewidth": 2
          }
         }
        },
        "title": {
         "text": "Strategy is:\tEst-None"
        }
       }
      }
     },
     "metadata": {},
     "output_type": "display_data"
    }
   ],
   "source": [
    "for c in ['est_all','est_sd_corr','est_sd','est_none']:\n",
    "    boxplots_time(sim_results[(sim_results.means=='mns1') & (sim_results.sds=='sds1') & (sim_results.corrs=='c1')],   c)"
   ]
  }
 ],
 "metadata": {
  "kernelspec": {
   "display_name": "Python 3.10.6 64-bit",
   "language": "python",
   "name": "python3"
  },
  "language_info": {
   "codemirror_mode": {
    "name": "ipython",
    "version": 3
   },
   "file_extension": ".py",
   "mimetype": "text/x-python",
   "name": "python",
   "nbconvert_exporter": "python",
   "pygments_lexer": "ipython3",
   "version": "3.10.6"
  },
  "orig_nbformat": 4,
  "vscode": {
   "interpreter": {
    "hash": "ccc24e96417f052bb8e778a20aea1a77290106e9fd9f576a53c5e4f232bbe7b1"
   }
  }
 },
 "nbformat": 4,
 "nbformat_minor": 2
}
