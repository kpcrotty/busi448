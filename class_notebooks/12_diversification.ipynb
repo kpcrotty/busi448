{
 "cells": [
  {
   "cell_type": "markdown",
   "metadata": {},
   "source": [
    "# Diversification"
   ]
  },
  {
   "cell_type": "code",
   "execution_count": 1,
   "metadata": {},
   "outputs": [],
   "source": [
    "import numpy as np\n",
    "import pandas as pd\n",
    "import plotly.graph_objects as go\n",
    "from cvxopt import matrix\n",
    "from cvxopt.solvers import qp as Solver, options as SolverOptions"
   ]
  },
  {
   "attachments": {},
   "cell_type": "markdown",
   "metadata": {},
   "source": [
    "### Inputs"
   ]
  },
  {
   "cell_type": "code",
   "execution_count": 2,
   "metadata": {},
   "outputs": [
    {
     "name": "stdout",
     "output_type": "stream",
     "text": [
      "[[0.0225    0.0185625 0.023625 ]\n",
      " [0.0185625 0.027225  0.0259875]\n",
      " [0.023625  0.0259875 0.0441   ]]\n"
     ]
    }
   ],
   "source": [
    "##### Inputs\n",
    "# Expected returns\n",
    "MNS = np.array([0.06, 0.065, 0.08])\n",
    "\n",
    "# Standard deviations\n",
    "SDS = np.array([0.15, 0.165, 0.21])\n",
    "\n",
    "# Correlations\n",
    "C  = np.identity(3)\n",
    "C[0, 1] = C[1, 0] = 0.75\n",
    "C[0, 2] = C[2, 0] = 0.75\n",
    "C[1, 2] = C[2, 1] = 0.75\n",
    "\n",
    "# Covariance matrix\n",
    "COV = np.diag(SDS) @ C @ np.diag(SDS)\n",
    "\n",
    "print(COV)"
   ]
  },
  {
   "cell_type": "code",
   "execution_count": 3,
   "metadata": {},
   "outputs": [
    {
     "name": "stdout",
     "output_type": "stream",
     "text": [
      "Portfolio Expected Return:\t  0.0675\n",
      "Portfolio Standard Deviation:\t  0.1583\n"
     ]
    }
   ],
   "source": [
    "# Portfolio weights\n",
    "WGTS = np.array([0.25, 0.5, 0.25])\n",
    "\n",
    "#Portfolio expected return\n",
    "port_expret = WGTS @ MNS\n",
    "print(f'Portfolio Expected Return:\\t {port_expret: ,.4f}')\n",
    "\n",
    "# Portfolio standard deviation\n",
    "port_sd = np.sqrt(WGTS @ COV @ WGTS)\n",
    "print(f'Portfolio Standard Deviation:\\t {port_sd: ,.4f}')"
   ]
  },
  {
   "attachments": {},
   "cell_type": "markdown",
   "metadata": {},
   "source": [
    "### Investment opportunity set\n",
    "First, let's consider the set of just investing in asset 1 and asset 2"
   ]
  },
  {
   "cell_type": "code",
   "execution_count": 4,
   "metadata": {},
   "outputs": [],
   "source": [
    "WGT1 = np.arange(0,1.05,0.05)\n",
    "df = pd.DataFrame(dtype='float',columns = ['w1','w2','w3','port_expret','port_sd'], index=np.arange(len(WGT1)))\n",
    "df.w1 = WGT1\n",
    "df.w2 = 1-WGT1\n",
    "df.w3 = 0\n",
    "df.port_expret = [[w,1-w,0] @ MNS for w in WGT1]\n",
    "df.port_sd = [np.sqrt([w,1-w,0] @ COV @ [w,1-w,0]) for w in WGT1]"
   ]
  },
  {
   "cell_type": "code",
   "execution_count": 5,
   "metadata": {},
   "outputs": [
    {
     "data": {
      "application/vnd.plotly.v1+json": {
       "config": {
        "plotlyServerURL": "https://plot.ly"
       },
       "data": [
        {
         "name": "Portfolios",
         "type": "scatter",
         "x": [
          0.165,
          0.16245076177106713,
          0.16005780205913114,
          0.15782822941413238,
          0.15576905982896605,
          0.15388713396512393,
          0.1521890271997295,
          0.1506809543373017,
          0.14936867141405524,
          0.1482573775567341,
          0.14735162028291376,
          0.1466552078857072,
          0.14617113258095799,
          0.1459015078743191,
          0.14584752311918087,
          0.1460094175044884,
          0.14638647478507022,
          0.14697703902310727,
          0.14777855054100375,
          0.1487876002898091,
          0.15
         ],
         "y": [
          0.065,
          0.06475,
          0.0645,
          0.06425,
          0.064,
          0.06375,
          0.0635,
          0.06325,
          0.063,
          0.06275,
          0.0625,
          0.06225,
          0.062,
          0.06175,
          0.0615,
          0.06125,
          0.061,
          0.06075,
          0.0605,
          0.06025,
          0.06
         ]
        },
        {
         "marker": {
          "color": "red",
          "size": 10
         },
         "mode": "markers",
         "name": "Asset 1",
         "type": "scatter",
         "x": [
          0.15
         ],
         "y": [
          0.06
         ]
        },
        {
         "marker": {
          "color": "red",
          "size": 10
         },
         "mode": "markers",
         "name": "Asset 2",
         "type": "scatter",
         "x": [
          0.165
         ],
         "y": [
          0.065
         ]
        }
       ],
       "layout": {
        "legend": {
         "x": 0.01,
         "xanchor": "left",
         "y": 0.99,
         "yanchor": "top"
        },
        "template": {
         "data": {
          "bar": [
           {
            "error_x": {
             "color": "#2a3f5f"
            },
            "error_y": {
             "color": "#2a3f5f"
            },
            "marker": {
             "line": {
              "color": "#E5ECF6",
              "width": 0.5
             },
             "pattern": {
              "fillmode": "overlay",
              "size": 10,
              "solidity": 0.2
             }
            },
            "type": "bar"
           }
          ],
          "barpolar": [
           {
            "marker": {
             "line": {
              "color": "#E5ECF6",
              "width": 0.5
             },
             "pattern": {
              "fillmode": "overlay",
              "size": 10,
              "solidity": 0.2
             }
            },
            "type": "barpolar"
           }
          ],
          "carpet": [
           {
            "aaxis": {
             "endlinecolor": "#2a3f5f",
             "gridcolor": "white",
             "linecolor": "white",
             "minorgridcolor": "white",
             "startlinecolor": "#2a3f5f"
            },
            "baxis": {
             "endlinecolor": "#2a3f5f",
             "gridcolor": "white",
             "linecolor": "white",
             "minorgridcolor": "white",
             "startlinecolor": "#2a3f5f"
            },
            "type": "carpet"
           }
          ],
          "choropleth": [
           {
            "colorbar": {
             "outlinewidth": 0,
             "ticks": ""
            },
            "type": "choropleth"
           }
          ],
          "contour": [
           {
            "colorbar": {
             "outlinewidth": 0,
             "ticks": ""
            },
            "colorscale": [
             [
              0,
              "#0d0887"
             ],
             [
              0.1111111111111111,
              "#46039f"
             ],
             [
              0.2222222222222222,
              "#7201a8"
             ],
             [
              0.3333333333333333,
              "#9c179e"
             ],
             [
              0.4444444444444444,
              "#bd3786"
             ],
             [
              0.5555555555555556,
              "#d8576b"
             ],
             [
              0.6666666666666666,
              "#ed7953"
             ],
             [
              0.7777777777777778,
              "#fb9f3a"
             ],
             [
              0.8888888888888888,
              "#fdca26"
             ],
             [
              1,
              "#f0f921"
             ]
            ],
            "type": "contour"
           }
          ],
          "contourcarpet": [
           {
            "colorbar": {
             "outlinewidth": 0,
             "ticks": ""
            },
            "type": "contourcarpet"
           }
          ],
          "heatmap": [
           {
            "colorbar": {
             "outlinewidth": 0,
             "ticks": ""
            },
            "colorscale": [
             [
              0,
              "#0d0887"
             ],
             [
              0.1111111111111111,
              "#46039f"
             ],
             [
              0.2222222222222222,
              "#7201a8"
             ],
             [
              0.3333333333333333,
              "#9c179e"
             ],
             [
              0.4444444444444444,
              "#bd3786"
             ],
             [
              0.5555555555555556,
              "#d8576b"
             ],
             [
              0.6666666666666666,
              "#ed7953"
             ],
             [
              0.7777777777777778,
              "#fb9f3a"
             ],
             [
              0.8888888888888888,
              "#fdca26"
             ],
             [
              1,
              "#f0f921"
             ]
            ],
            "type": "heatmap"
           }
          ],
          "heatmapgl": [
           {
            "colorbar": {
             "outlinewidth": 0,
             "ticks": ""
            },
            "colorscale": [
             [
              0,
              "#0d0887"
             ],
             [
              0.1111111111111111,
              "#46039f"
             ],
             [
              0.2222222222222222,
              "#7201a8"
             ],
             [
              0.3333333333333333,
              "#9c179e"
             ],
             [
              0.4444444444444444,
              "#bd3786"
             ],
             [
              0.5555555555555556,
              "#d8576b"
             ],
             [
              0.6666666666666666,
              "#ed7953"
             ],
             [
              0.7777777777777778,
              "#fb9f3a"
             ],
             [
              0.8888888888888888,
              "#fdca26"
             ],
             [
              1,
              "#f0f921"
             ]
            ],
            "type": "heatmapgl"
           }
          ],
          "histogram": [
           {
            "marker": {
             "pattern": {
              "fillmode": "overlay",
              "size": 10,
              "solidity": 0.2
             }
            },
            "type": "histogram"
           }
          ],
          "histogram2d": [
           {
            "colorbar": {
             "outlinewidth": 0,
             "ticks": ""
            },
            "colorscale": [
             [
              0,
              "#0d0887"
             ],
             [
              0.1111111111111111,
              "#46039f"
             ],
             [
              0.2222222222222222,
              "#7201a8"
             ],
             [
              0.3333333333333333,
              "#9c179e"
             ],
             [
              0.4444444444444444,
              "#bd3786"
             ],
             [
              0.5555555555555556,
              "#d8576b"
             ],
             [
              0.6666666666666666,
              "#ed7953"
             ],
             [
              0.7777777777777778,
              "#fb9f3a"
             ],
             [
              0.8888888888888888,
              "#fdca26"
             ],
             [
              1,
              "#f0f921"
             ]
            ],
            "type": "histogram2d"
           }
          ],
          "histogram2dcontour": [
           {
            "colorbar": {
             "outlinewidth": 0,
             "ticks": ""
            },
            "colorscale": [
             [
              0,
              "#0d0887"
             ],
             [
              0.1111111111111111,
              "#46039f"
             ],
             [
              0.2222222222222222,
              "#7201a8"
             ],
             [
              0.3333333333333333,
              "#9c179e"
             ],
             [
              0.4444444444444444,
              "#bd3786"
             ],
             [
              0.5555555555555556,
              "#d8576b"
             ],
             [
              0.6666666666666666,
              "#ed7953"
             ],
             [
              0.7777777777777778,
              "#fb9f3a"
             ],
             [
              0.8888888888888888,
              "#fdca26"
             ],
             [
              1,
              "#f0f921"
             ]
            ],
            "type": "histogram2dcontour"
           }
          ],
          "mesh3d": [
           {
            "colorbar": {
             "outlinewidth": 0,
             "ticks": ""
            },
            "type": "mesh3d"
           }
          ],
          "parcoords": [
           {
            "line": {
             "colorbar": {
              "outlinewidth": 0,
              "ticks": ""
             }
            },
            "type": "parcoords"
           }
          ],
          "pie": [
           {
            "automargin": true,
            "type": "pie"
           }
          ],
          "scatter": [
           {
            "fillpattern": {
             "fillmode": "overlay",
             "size": 10,
             "solidity": 0.2
            },
            "type": "scatter"
           }
          ],
          "scatter3d": [
           {
            "line": {
             "colorbar": {
              "outlinewidth": 0,
              "ticks": ""
             }
            },
            "marker": {
             "colorbar": {
              "outlinewidth": 0,
              "ticks": ""
             }
            },
            "type": "scatter3d"
           }
          ],
          "scattercarpet": [
           {
            "marker": {
             "colorbar": {
              "outlinewidth": 0,
              "ticks": ""
             }
            },
            "type": "scattercarpet"
           }
          ],
          "scattergeo": [
           {
            "marker": {
             "colorbar": {
              "outlinewidth": 0,
              "ticks": ""
             }
            },
            "type": "scattergeo"
           }
          ],
          "scattergl": [
           {
            "marker": {
             "colorbar": {
              "outlinewidth": 0,
              "ticks": ""
             }
            },
            "type": "scattergl"
           }
          ],
          "scattermapbox": [
           {
            "marker": {
             "colorbar": {
              "outlinewidth": 0,
              "ticks": ""
             }
            },
            "type": "scattermapbox"
           }
          ],
          "scatterpolar": [
           {
            "marker": {
             "colorbar": {
              "outlinewidth": 0,
              "ticks": ""
             }
            },
            "type": "scatterpolar"
           }
          ],
          "scatterpolargl": [
           {
            "marker": {
             "colorbar": {
              "outlinewidth": 0,
              "ticks": ""
             }
            },
            "type": "scatterpolargl"
           }
          ],
          "scatterternary": [
           {
            "marker": {
             "colorbar": {
              "outlinewidth": 0,
              "ticks": ""
             }
            },
            "type": "scatterternary"
           }
          ],
          "surface": [
           {
            "colorbar": {
             "outlinewidth": 0,
             "ticks": ""
            },
            "colorscale": [
             [
              0,
              "#0d0887"
             ],
             [
              0.1111111111111111,
              "#46039f"
             ],
             [
              0.2222222222222222,
              "#7201a8"
             ],
             [
              0.3333333333333333,
              "#9c179e"
             ],
             [
              0.4444444444444444,
              "#bd3786"
             ],
             [
              0.5555555555555556,
              "#d8576b"
             ],
             [
              0.6666666666666666,
              "#ed7953"
             ],
             [
              0.7777777777777778,
              "#fb9f3a"
             ],
             [
              0.8888888888888888,
              "#fdca26"
             ],
             [
              1,
              "#f0f921"
             ]
            ],
            "type": "surface"
           }
          ],
          "table": [
           {
            "cells": {
             "fill": {
              "color": "#EBF0F8"
             },
             "line": {
              "color": "white"
             }
            },
            "header": {
             "fill": {
              "color": "#C8D4E3"
             },
             "line": {
              "color": "white"
             }
            },
            "type": "table"
           }
          ]
         },
         "layout": {
          "annotationdefaults": {
           "arrowcolor": "#2a3f5f",
           "arrowhead": 0,
           "arrowwidth": 1
          },
          "autotypenumbers": "strict",
          "coloraxis": {
           "colorbar": {
            "outlinewidth": 0,
            "ticks": ""
           }
          },
          "colorscale": {
           "diverging": [
            [
             0,
             "#8e0152"
            ],
            [
             0.1,
             "#c51b7d"
            ],
            [
             0.2,
             "#de77ae"
            ],
            [
             0.3,
             "#f1b6da"
            ],
            [
             0.4,
             "#fde0ef"
            ],
            [
             0.5,
             "#f7f7f7"
            ],
            [
             0.6,
             "#e6f5d0"
            ],
            [
             0.7,
             "#b8e186"
            ],
            [
             0.8,
             "#7fbc41"
            ],
            [
             0.9,
             "#4d9221"
            ],
            [
             1,
             "#276419"
            ]
           ],
           "sequential": [
            [
             0,
             "#0d0887"
            ],
            [
             0.1111111111111111,
             "#46039f"
            ],
            [
             0.2222222222222222,
             "#7201a8"
            ],
            [
             0.3333333333333333,
             "#9c179e"
            ],
            [
             0.4444444444444444,
             "#bd3786"
            ],
            [
             0.5555555555555556,
             "#d8576b"
            ],
            [
             0.6666666666666666,
             "#ed7953"
            ],
            [
             0.7777777777777778,
             "#fb9f3a"
            ],
            [
             0.8888888888888888,
             "#fdca26"
            ],
            [
             1,
             "#f0f921"
            ]
           ],
           "sequentialminus": [
            [
             0,
             "#0d0887"
            ],
            [
             0.1111111111111111,
             "#46039f"
            ],
            [
             0.2222222222222222,
             "#7201a8"
            ],
            [
             0.3333333333333333,
             "#9c179e"
            ],
            [
             0.4444444444444444,
             "#bd3786"
            ],
            [
             0.5555555555555556,
             "#d8576b"
            ],
            [
             0.6666666666666666,
             "#ed7953"
            ],
            [
             0.7777777777777778,
             "#fb9f3a"
            ],
            [
             0.8888888888888888,
             "#fdca26"
            ],
            [
             1,
             "#f0f921"
            ]
           ]
          },
          "colorway": [
           "#636efa",
           "#EF553B",
           "#00cc96",
           "#ab63fa",
           "#FFA15A",
           "#19d3f3",
           "#FF6692",
           "#B6E880",
           "#FF97FF",
           "#FECB52"
          ],
          "font": {
           "color": "#2a3f5f"
          },
          "geo": {
           "bgcolor": "white",
           "lakecolor": "white",
           "landcolor": "#E5ECF6",
           "showlakes": true,
           "showland": true,
           "subunitcolor": "white"
          },
          "hoverlabel": {
           "align": "left"
          },
          "hovermode": "closest",
          "mapbox": {
           "style": "light"
          },
          "paper_bgcolor": "white",
          "plot_bgcolor": "#E5ECF6",
          "polar": {
           "angularaxis": {
            "gridcolor": "white",
            "linecolor": "white",
            "ticks": ""
           },
           "bgcolor": "#E5ECF6",
           "radialaxis": {
            "gridcolor": "white",
            "linecolor": "white",
            "ticks": ""
           }
          },
          "scene": {
           "xaxis": {
            "backgroundcolor": "#E5ECF6",
            "gridcolor": "white",
            "gridwidth": 2,
            "linecolor": "white",
            "showbackground": true,
            "ticks": "",
            "zerolinecolor": "white"
           },
           "yaxis": {
            "backgroundcolor": "#E5ECF6",
            "gridcolor": "white",
            "gridwidth": 2,
            "linecolor": "white",
            "showbackground": true,
            "ticks": "",
            "zerolinecolor": "white"
           },
           "zaxis": {
            "backgroundcolor": "#E5ECF6",
            "gridcolor": "white",
            "gridwidth": 2,
            "linecolor": "white",
            "showbackground": true,
            "ticks": "",
            "zerolinecolor": "white"
           }
          },
          "shapedefaults": {
           "line": {
            "color": "#2a3f5f"
           }
          },
          "ternary": {
           "aaxis": {
            "gridcolor": "white",
            "linecolor": "white",
            "ticks": ""
           },
           "baxis": {
            "gridcolor": "white",
            "linecolor": "white",
            "ticks": ""
           },
           "bgcolor": "#E5ECF6",
           "caxis": {
            "gridcolor": "white",
            "linecolor": "white",
            "ticks": ""
           }
          },
          "title": {
           "x": 0.05
          },
          "xaxis": {
           "automargin": true,
           "gridcolor": "white",
           "linecolor": "white",
           "ticks": "",
           "title": {
            "standoff": 15
           },
           "zerolinecolor": "white",
           "zerolinewidth": 2
          },
          "yaxis": {
           "automargin": true,
           "gridcolor": "white",
           "linecolor": "white",
           "ticks": "",
           "title": {
            "standoff": 15
           },
           "zerolinecolor": "white",
           "zerolinewidth": 2
          }
         }
        },
        "xaxis": {
         "range": [
          0.12397039465130373,
          0.20625000000000002
         ],
         "tickformat": ".1%",
         "title": {
          "text": "Standard Deviation"
         }
        },
        "yaxis": {
         "range": [
          0.051,
          0.08125
         ],
         "tickformat": ".1%",
         "title": {
          "text": "Expected Return"
         }
        }
       }
      }
     },
     "metadata": {},
     "output_type": "display_data"
    }
   ],
   "source": [
    "fig = go.Figure()\n",
    "\n",
    "# Plot portfolios\n",
    "trace= go.Scatter(x=df.port_sd, y=df.port_expret, name='Portfolios')\n",
    "fig.add_trace(trace)\n",
    "\n",
    "# Plot underlying assets\n",
    "trace1= go.Scatter(x=[SDS[0]], y=[MNS[0]],mode=\"markers\", marker=dict(size=10, color=\"red\"), name='Asset 1')\n",
    "fig.add_trace(trace1)\n",
    "trace2= go.Scatter(x=[SDS[1]], y=[MNS[1]],mode=\"markers\", marker=dict(size=10, color=\"red\"), name='Asset 2')\n",
    "fig.add_trace(trace2)\n",
    "\n",
    "# Formatting\n",
    "fig.layout.yaxis[\"title\"] = \"Expected Return\"\n",
    "fig.layout.xaxis[\"title\"] = \"Standard Deviation\"\n",
    "fig.update_yaxes(tickformat=\".1%\")\n",
    "fig.update_xaxes(tickformat=\".1%\")\n",
    "fig.update_xaxes(range=[0.85 * df[\"port_sd\"].min(), 1.25 * df[\"port_sd\"].max()])\n",
    "fig.update_yaxes(range=[0.85 * df[\"port_expret\"].min(), 1.25 * df[\"port_expret\"].max()])\n",
    "fig.update_layout(legend=dict(yanchor=\"top\", y=0.99, xanchor=\"left\", x=0.01))\n",
    "fig.show()"
   ]
  },
  {
   "attachments": {},
   "cell_type": "markdown",
   "metadata": {},
   "source": [
    "Let's add some of asset 3 now.  We will simulate weights that are non-negative and sum to 1.\n"
   ]
  },
  {
   "cell_type": "code",
   "execution_count": 6,
   "metadata": {},
   "outputs": [
    {
     "data": {
      "text/plain": [
       "array([0.30804601, 0.47178612, 0.22016787])"
      ]
     },
     "execution_count": 6,
     "metadata": {},
     "output_type": "execute_result"
    }
   ],
   "source": [
    "def simulate_weights(n):\n",
    "    ''' Simulate non-negative weights that sum to 1.'''\n",
    "    x = np.random.exponential(scale=1.0, size=n)\n",
    "    return x / sum(x)\n",
    "simulate_weights(3)\n",
    "# simulate_weights(3).sum()"
   ]
  },
  {
   "cell_type": "code",
   "execution_count": 7,
   "metadata": {},
   "outputs": [
    {
     "data": {
      "text/html": [
       "<div>\n",
       "<style scoped>\n",
       "    .dataframe tbody tr th:only-of-type {\n",
       "        vertical-align: middle;\n",
       "    }\n",
       "\n",
       "    .dataframe tbody tr th {\n",
       "        vertical-align: top;\n",
       "    }\n",
       "\n",
       "    .dataframe thead th {\n",
       "        text-align: right;\n",
       "    }\n",
       "</style>\n",
       "<table border=\"1\" class=\"dataframe\">\n",
       "  <thead>\n",
       "    <tr style=\"text-align: right;\">\n",
       "      <th></th>\n",
       "      <th>w1</th>\n",
       "      <th>w2</th>\n",
       "      <th>w3</th>\n",
       "      <th>port_expret</th>\n",
       "      <th>port_sd</th>\n",
       "    </tr>\n",
       "  </thead>\n",
       "  <tbody>\n",
       "    <tr>\n",
       "      <th>0</th>\n",
       "      <td>0.549491</td>\n",
       "      <td>0.330444</td>\n",
       "      <td>0.120065</td>\n",
       "      <td>0.064054</td>\n",
       "      <td>0.149407</td>\n",
       "    </tr>\n",
       "    <tr>\n",
       "      <th>1</th>\n",
       "      <td>0.317636</td>\n",
       "      <td>0.145703</td>\n",
       "      <td>0.536661</td>\n",
       "      <td>0.071462</td>\n",
       "      <td>0.171423</td>\n",
       "    </tr>\n",
       "    <tr>\n",
       "      <th>2</th>\n",
       "      <td>0.645725</td>\n",
       "      <td>0.113278</td>\n",
       "      <td>0.240997</td>\n",
       "      <td>0.065386</td>\n",
       "      <td>0.154207</td>\n",
       "    </tr>\n",
       "    <tr>\n",
       "      <th>3</th>\n",
       "      <td>0.016917</td>\n",
       "      <td>0.766479</td>\n",
       "      <td>0.216604</td>\n",
       "      <td>0.068164</td>\n",
       "      <td>0.165389</td>\n",
       "    </tr>\n",
       "    <tr>\n",
       "      <th>4</th>\n",
       "      <td>0.344663</td>\n",
       "      <td>0.536064</td>\n",
       "      <td>0.119272</td>\n",
       "      <td>0.065066</td>\n",
       "      <td>0.152475</td>\n",
       "    </tr>\n",
       "  </tbody>\n",
       "</table>\n",
       "</div>"
      ],
      "text/plain": [
       "         w1        w2        w3  port_expret   port_sd\n",
       "0  0.549491  0.330444  0.120065     0.064054  0.149407\n",
       "1  0.317636  0.145703  0.536661     0.071462  0.171423\n",
       "2  0.645725  0.113278  0.240997     0.065386  0.154207\n",
       "3  0.016917  0.766479  0.216604     0.068164  0.165389\n",
       "4  0.344663  0.536064  0.119272     0.065066  0.152475"
      ]
     },
     "execution_count": 7,
     "metadata": {},
     "output_type": "execute_result"
    }
   ],
   "source": [
    "num_sims = 500\n",
    "df = pd.DataFrame(dtype='float',columns = ['w1','w2','w3','port_expret','port_sd'], index=np.arange(num_sims))\n",
    "for i in df.index:\n",
    "    wgts = simulate_weights(3)\n",
    "    df.loc[i,['w1','w2','w3']] = wgts\n",
    "    df.loc[i,'port_expret'] = wgts @ MNS\n",
    "    df.loc[i,'port_sd'] = np.sqrt(wgts @ COV @ wgts)\n",
    "df.head()"
   ]
  },
  {
   "cell_type": "code",
   "execution_count": 8,
   "metadata": {},
   "outputs": [
    {
     "data": {
      "application/vnd.plotly.v1+json": {
       "config": {
        "plotlyServerURL": "https://plot.ly"
       },
       "data": [
        {
         "mode": "markers",
         "name": "Portfolios",
         "type": "scatter",
         "x": [
          0.14940740783722561,
          0.17142258205132893,
          0.154206596232794,
          0.16538877634054047,
          0.15247472592455866,
          0.15795252043975028,
          0.15451018112277629,
          0.1744498304281528,
          0.16695395689035863,
          0.1585043195606876,
          0.1724664410879975,
          0.16838799047623623,
          0.15802827615391332,
          0.15133666047389785,
          0.18356641915639577,
          0.15083267053614888,
          0.17452066614809328,
          0.16076783553156934,
          0.18115258504779755,
          0.1880439229751779,
          0.16515088149368995,
          0.14850920618503938,
          0.14810434765853245,
          0.1495825784247525,
          0.15239795303357032,
          0.1619298562439362,
          0.19300396679677334,
          0.16240454781620123,
          0.15812075102806833,
          0.17706638195595428,
          0.14893230962558004,
          0.15039933298382485,
          0.1500134030085402,
          0.15715389193189383,
          0.16543407741683072,
          0.17885351532276053,
          0.14874993424549313,
          0.1490625778227211,
          0.15164366940466872,
          0.15878682942109337,
          0.154912135051155,
          0.1524496711804743,
          0.14863140906079786,
          0.15753408519590179,
          0.17977135382786044,
          0.1505945684974872,
          0.16476079574893662,
          0.15251173918202363,
          0.15436307531581708,
          0.18876455070366732,
          0.14880056382228124,
          0.17848368424889435,
          0.1880298624556967,
          0.16534959642657396,
          0.15266566760465547,
          0.16252752663986475,
          0.15991197926401038,
          0.15495047482007596,
          0.15058546810099455,
          0.18588739781596447,
          0.15880990155653343,
          0.1644318113540968,
          0.1574954696668329,
          0.1484949721120414,
          0.16687350605372037,
          0.18436363742532247,
          0.17795555314587144,
          0.1735018205407932,
          0.15400339727424883,
          0.1608422636366812,
          0.14757068002228915,
          0.14992924431964696,
          0.1671096834334547,
          0.14935177998066687,
          0.14658262874069508,
          0.15710027513027786,
          0.15717962194763482,
          0.1493187963152915,
          0.15561062054167424,
          0.14887668784264937,
          0.15965550879532686,
          0.14612549646270862,
          0.14859651094520693,
          0.15421632793330814,
          0.1682628028405592,
          0.15581139942486869,
          0.1643800947734367,
          0.18525469560001193,
          0.1522968023754435,
          0.14852663525638976,
          0.15643331306738098,
          0.15009873814860442,
          0.17931250200662338,
          0.15058481108605798,
          0.18076632360109438,
          0.16657723949124634,
          0.19825626272757071,
          0.15455019769610803,
          0.15462465180744184,
          0.15319468067288727,
          0.15418258315233455,
          0.15707606929102422,
          0.17707511608333057,
          0.1525244981571554,
          0.18319147482124368,
          0.15665441405756533,
          0.1567548238948933,
          0.20042355266798956,
          0.1581167814529809,
          0.17010710099283768,
          0.16101724935571365,
          0.14766972169358297,
          0.17123918202513558,
          0.15423476719973386,
          0.1674360432255924,
          0.16253972195469663,
          0.17475444832015985,
          0.15673461642479644,
          0.16925825135373135,
          0.19813235112012131,
          0.16122821470757615,
          0.14770757320531858,
          0.14974392048834648,
          0.1630024256724005,
          0.16669907866736175,
          0.152341752070573,
          0.16262132847516578,
          0.16778444916127375,
          0.1756569981924623,
          0.16149002115375108,
          0.15285133589861788,
          0.1589601926271236,
          0.18601551680094397,
          0.1816155736216019,
          0.14645159639785177,
          0.1580668526770853,
          0.15875797277290365,
          0.1545731824738206,
          0.17869332481311642,
          0.15906127875276502,
          0.15780205097760938,
          0.17621885648565658,
          0.18065187133065747,
          0.14690641962507306,
          0.16110305591524102,
          0.18310468715154737,
          0.176252969138278,
          0.17153935512122861,
          0.15209344349775936,
          0.16982052940711415,
          0.1466598544274618,
          0.15318384731627716,
          0.14741414331477057,
          0.15255943226928373,
          0.16590414683016305,
          0.16338341841114246,
          0.15311244141590977,
          0.16979837429171976,
          0.1473917945163844,
          0.15281485995647798,
          0.147378701733103,
          0.15959583989163606,
          0.20306508294895634,
          0.15006740412842415,
          0.17323236404901082,
          0.1582643483063425,
          0.1857709585168787,
          0.14873410072112875,
          0.15297179918906118,
          0.15538519808393558,
          0.15570637202627924,
          0.15813333722364242,
          0.16052943251813243,
          0.16343252018398804,
          0.20308782047093743,
          0.15950037425466917,
          0.15351788018073215,
          0.19464641526761237,
          0.19005217509198277,
          0.16341112658054532,
          0.1542718656342276,
          0.14899729125869782,
          0.17732329449894396,
          0.15778874383243863,
          0.1608582093178827,
          0.15237751009905778,
          0.14917963448732158,
          0.1483231550475808,
          0.1625053418514474,
          0.1875909186254334,
          0.14937648555011857,
          0.1562034403535946,
          0.18844623722693782,
          0.17840086692892343,
          0.16481780555021705,
          0.18374264341715693,
          0.19461260940282774,
          0.1528219974973566,
          0.1725290029670545,
          0.16659963757633667,
          0.16536828257776626,
          0.1479257495224106,
          0.17087530112441587,
          0.15916154320180717,
          0.16747921514290393,
          0.14809480084184284,
          0.16889732496669535,
          0.1475219312687767,
          0.1929694689305958,
          0.16092784242799887,
          0.17856353661369043,
          0.16099737937320066,
          0.1560356246737083,
          0.15134907758513869,
          0.17114884927341362,
          0.1524440094754135,
          0.16756302540088872,
          0.16046904433716497,
          0.1642698375783322,
          0.16918801701585154,
          0.16430500304365045,
          0.1824259756254861,
          0.17088086797755364,
          0.14971614263242145,
          0.14690902000246783,
          0.14719407329642809,
          0.1811968029754028,
          0.16387338113186511,
          0.15333658699809466,
          0.1727933482985082,
          0.15096836094050273,
          0.1667685537037532,
          0.172052701954959,
          0.1748220953255958,
          0.1635456542215156,
          0.16526618992383021,
          0.15941346274959386,
          0.19836386637365097,
          0.16451104073999495,
          0.1489055906664157,
          0.1825538580787971,
          0.17563051151980363,
          0.16300287761794097,
          0.16791799969835453,
          0.1653985949241892,
          0.16927154499662006,
          0.15078832065251088,
          0.16188095151510473,
          0.16283305318090738,
          0.1623475307750794,
          0.1847247870455484,
          0.18667341296774476,
          0.16630542275670712,
          0.16281420358414422,
          0.17612842834442577,
          0.15913363303195505,
          0.17475750242212995,
          0.17738180731781736,
          0.14742090360254456,
          0.178816219332451,
          0.15426238777181386,
          0.15686115772663148,
          0.15491321072788491,
          0.1497569541463942,
          0.15329132281563354,
          0.15067812684078472,
          0.16587670379662298,
          0.15782203220786248,
          0.14810445854815632,
          0.15102442821798281,
          0.1627620870265568,
          0.14821359212052093,
          0.14983663155166235,
          0.15664073645460194,
          0.16035698225110018,
          0.17540599990005468,
          0.1477471515220244,
          0.15251199431574083,
          0.19231021746883273,
          0.17442274527946822,
          0.16081826020344503,
          0.1507771721472029,
          0.19228666963209048,
          0.15257362079129944,
          0.15540096376916054,
          0.17564024029043365,
          0.14806178421069835,
          0.1740651271951339,
          0.15729366972026174,
          0.16663988233209803,
          0.1539354347511769,
          0.14707473669554838,
          0.15253167232548648,
          0.17512365497859572,
          0.1666456859515055,
          0.17530461063515104,
          0.1710837482054402,
          0.19041495207258557,
          0.15863442162427865,
          0.14964273752341375,
          0.1541131528791643,
          0.18845719972480313,
          0.14793362315168543,
          0.16279056276632461,
          0.15693612780566885,
          0.1556691619000464,
          0.16288983055201087,
          0.1678090617635858,
          0.14923898281149728,
          0.1776812492661218,
          0.16570266818828153,
          0.19097195046987714,
          0.15771186171498122,
          0.16741956380080403,
          0.1556246737402534,
          0.14922823099602445,
          0.15599267299722064,
          0.14775182110151736,
          0.17166704966523968,
          0.1488338086878117,
          0.1763739111858785,
          0.16450044914591602,
          0.16518571501679513,
          0.1545008101660328,
          0.17732479615480232,
          0.15433711500116634,
          0.15226718692090238,
          0.17365864176414283,
          0.18001097308232486,
          0.17211494514677367,
          0.17421251721684922,
          0.15665208017369348,
          0.15354419541684744,
          0.1839672353650483,
          0.18242703731452423,
          0.17220501460094664,
          0.16725692111764745,
          0.17471081933007857,
          0.15470981305848283,
          0.1979324603667869,
          0.16337182223965094,
          0.1638278053958143,
          0.19517563372431815,
          0.15919328667509666,
          0.15524643328503873,
          0.1601541781957726,
          0.19473968304316652,
          0.16302366665705056,
          0.1528430631997131,
          0.14889881607185979,
          0.15014212505806762,
          0.15254767276195624,
          0.14716862725322719,
          0.1755758525342704,
          0.15948107494286962,
          0.18681736246015215,
          0.18788040521901225,
          0.1634917078997597,
          0.16378158840420776,
          0.1473040905259542,
          0.15533946744368893,
          0.15835627267700014,
          0.14757952322606505,
          0.1735212189445112,
          0.15351670622034183,
          0.17739776693288253,
          0.14898163177283202,
          0.1538791746632998,
          0.1684725243016029,
          0.14687620327897696,
          0.1492408868956695,
          0.15192614436160795,
          0.17829130472986435,
          0.1535511890120343,
          0.15299945606578338,
          0.14904378791030418,
          0.1602803586158886,
          0.16597003947613834,
          0.17776519262471527,
          0.16303118654679238,
          0.15547309802586526,
          0.16601098739118003,
          0.15776756169747264,
          0.16213944344325945,
          0.15134799121795525,
          0.15006271545962402,
          0.15007549283915664,
          0.19391340167602533,
          0.1634569364892827,
          0.1512364852003134,
          0.16937498712947305,
          0.164128716094078,
          0.19531386393512135,
          0.15340796996574607,
          0.17949785338990004,
          0.17869039103025708,
          0.15873020846179237,
          0.1627726490621548,
          0.17680735770742437,
          0.16149971730356277,
          0.1539927256230502,
          0.15831872946630599,
          0.1618142010822162,
          0.15278579491308364,
          0.1573044253353598,
          0.19824815721444694,
          0.16333822874611142,
          0.15163312600148118,
          0.19655750457713111,
          0.16497801752176044,
          0.161965017271792,
          0.15073285780603649,
          0.16024238098007187,
          0.184672675688191,
          0.16573978913806398,
          0.1673330841879417,
          0.1860047994207481,
          0.17061249619130908,
          0.14787374874967968,
          0.16612840613890806,
          0.1656138840151861,
          0.17745193730357586,
          0.18338150624674474,
          0.14885512369783369,
          0.1509548509404706,
          0.15212753772975648,
          0.1787580378669705,
          0.14925813252040637,
          0.15778911258502387,
          0.15551341395285018,
          0.17641047482846325,
          0.1796980948129652,
          0.1751725373867463,
          0.16271712516364298,
          0.155338336717867,
          0.18398331264244228,
          0.18135819881190954,
          0.15394007880701036,
          0.16513290805997333,
          0.1616934185472564,
          0.17053181931936381,
          0.17467813285163036,
          0.17993625569291236,
          0.15004080559994418,
          0.1632050238446637,
          0.15169062786018897,
          0.15336827375899223,
          0.16473631113863016,
          0.1719920753837906,
          0.15424627309712896,
          0.1560211783827883,
          0.15132116109538438,
          0.15162995383154396,
          0.15924719510702542,
          0.14658387310912832,
          0.14950306316940168,
          0.1820668788293098,
          0.15245358292030278,
          0.1544735174303876,
          0.1473747607377779,
          0.15894636806720625,
          0.15489239715862818,
          0.16115966533611467,
          0.14935485347796693,
          0.17930200383983178,
          0.16461484124671666,
          0.15488530882396295,
          0.1652406975642121,
          0.1520265164883812,
          0.14620722951705828,
          0.18797701237409808,
          0.14795064741313851,
          0.1681947177809699,
          0.14599264889371852,
          0.15817472442304256,
          0.1481899045540792,
          0.19052751683154345,
          0.1510513724760301,
          0.1462835194699399,
          0.1546776120648821,
          0.15504083110665046,
          0.14707171143690115,
          0.16578508857870944,
          0.1692164647399086,
          0.14921888158377142,
          0.15594083836491726,
          0.15262722585600472,
          0.1606050687305494,
          0.1904379976936611,
          0.1723728382401164,
          0.15733977750564782,
          0.16460584689640634,
          0.15496849326666612,
          0.14906867914337468,
          0.14697150487960875,
          0.1616309118340553,
          0.20272204516947015,
          0.16498886542294944,
          0.14968391589908783,
          0.14688306048697528
         ],
         "y": [
          0.06405351105925679,
          0.07146173988960734,
          0.06538632517936088,
          0.06816447720618125,
          0.0650657709166767,
          0.06759156565583407,
          0.06589201534044428,
          0.07245155826290395,
          0.0694565049069083,
          0.06770965969913338,
          0.07172763008605615,
          0.07083032939820014,
          0.0657234701715583,
          0.06475898621063032,
          0.07453127921130381,
          0.06358258779177312,
          0.07249377627507847,
          0.06828022438612015,
          0.0740971193886795,
          0.07560509389090396,
          0.06991448126506797,
          0.06309058160449375,
          0.06286004329742753,
          0.0609950418252852,
          0.06357499832441077,
          0.06602697923710173,
          0.07679116853619523,
          0.06876069791428857,
          0.06717005746035537,
          0.0731103279695985,
          0.062277795370508184,
          0.0643555471888253,
          0.06354014362132082,
          0.06736978875475483,
          0.06887287693492976,
          0.07358701165642453,
          0.06349933880093361,
          0.06019828687728558,
          0.06459728756989258,
          0.06660714446567131,
          0.06569459932044971,
          0.06338124068836702,
          0.06364941857917895,
          0.06746046622647643,
          0.07328645667749129,
          0.0621489073667688,
          0.06668829225857738,
          0.06508352840710356,
          0.06633110947518447,
          0.07553065384908776,
          0.06123585740662613,
          0.07296327628945476,
          0.07544235616569589,
          0.06803497705506246,
          0.06545537867562998,
          0.06906853433763402,
          0.06818787670287756,
          0.0657676497353517,
          0.06449450339159012,
          0.07496181594298358,
          0.06552779231138137,
          0.06958335077365485,
          0.06729733941335053,
          0.06154268077429635,
          0.07044355302625939,
          0.07474258426689026,
          0.07336273952304292,
          0.07200425797494608,
          0.0647649801892625,
          0.06860683712278043,
          0.06289171993803137,
          0.06423067224052288,
          0.0697833919048465,
          0.06261373376603513,
          0.062314691365314305,
          0.06692357428491066,
          0.06736643363609836,
          0.06072623060299936,
          0.06601270416809156,
          0.06378613015423444,
          0.06787616281646185,
          0.06173922912465639,
          0.06262082367760248,
          0.06392800733876011,
          0.07070996267272467,
          0.06465391544613441,
          0.06895743267565292,
          0.07484293507159881,
          0.06500742226553971,
          0.06292398324986896,
          0.06555316064054398,
          0.06247859938099993,
          0.07361764367870675,
          0.06450442498414072,
          0.0735982922943584,
          0.0697718257917689,
          0.07773321653977575,
          0.06467714221774166,
          0.0641782366855161,
          0.06532942921169886,
          0.06625812029683711,
          0.06567402414236773,
          0.07302068295182267,
          0.0653045608638971,
          0.07458047481976332,
          0.06663972791650606,
          0.06462917710522119,
          0.07813043862332805,
          0.06544847043562685,
          0.07095269702030671,
          0.06854697193090896,
          0.06281042701639888,
          0.07114623129110575,
          0.06603741947690263,
          0.06958976337769093,
          0.0678402856289217,
          0.07216459864894044,
          0.0671951094953368,
          0.07103180331010166,
          0.0777877633773385,
          0.06737514549944289,
          0.06307912069627403,
          0.06310427009671374,
          0.06890414307794102,
          0.07028028208555873,
          0.06462014797582447,
          0.06915934260061674,
          0.0695682117845621,
          0.07279151668481619,
          0.06771550195872683,
          0.06491199206776214,
          0.0678870913151751,
          0.07518041390531024,
          0.07421303109823824,
          0.06222407921679688,
          0.06766512501322607,
          0.06488058467442893,
          0.06618120649035097,
          0.07336979860093093,
          0.06802193714791822,
          0.06725293440011414,
          0.07271663191151065,
          0.07355895641764096,
          0.06252064950252434,
          0.06717164979992732,
          0.07453896486056374,
          0.07294456128042479,
          0.07162406353865014,
          0.06537799206830446,
          0.07108153519893318,
          0.062380421002659364,
          0.06576127185921782,
          0.06290610725094531,
          0.06493439585492022,
          0.06900627733476222,
          0.06602155808029757,
          0.06572352140054427,
          0.07113608204719266,
          0.061557770863259836,
          0.06566792753835796,
          0.06253365970841213,
          0.06738414756994983,
          0.07874703546428163,
          0.06428592450271076,
          0.0720657747233577,
          0.06663973107943913,
          0.07519182239103428,
          0.0636870455446595,
          0.06528796824157994,
          0.06570049068370637,
          0.06594600050031411,
          0.0670131390685396,
          0.06788657247058685,
          0.06592758771915382,
          0.07857978403580126,
          0.06812573279013191,
          0.06512317445336031,
          0.07711237014488496,
          0.07617216341674193,
          0.06932113282844476,
          0.06509562280333098,
          0.062442470059179245,
          0.07319430807941425,
          0.06757085036141702,
          0.06588223190839955,
          0.06534147011283975,
          0.06301383406197253,
          0.0634393822331215,
          0.06878779294786111,
          0.07552706551641576,
          0.06133858418777792,
          0.06653788296739528,
          0.07534187948013032,
          0.0728892538192218,
          0.06980993442356086,
          0.07429665427691466,
          0.07709403224157893,
          0.06416828374386552,
          0.07155731583846735,
          0.06942497872944502,
          0.06895934970683583,
          0.06058238157729109,
          0.07156071323620296,
          0.06807871982142957,
          0.07044149403129041,
          0.061052418860022065,
          0.07093679622243224,
          0.06297808265249452,
          0.07670116193154788,
          0.06860483818197936,
          0.07303246734179378,
          0.06865147343602362,
          0.06697149625746687,
          0.06492078792241365,
          0.07146128303520413,
          0.06455052661460067,
          0.06965702238438487,
          0.0676698544925329,
          0.06967407685058154,
          0.07089134299565006,
          0.06970742953218084,
          0.07384187519561235,
          0.0715317923437362,
          0.06197326143575321,
          0.06128538835029244,
          0.06274171151477648,
          0.07372548817770569,
          0.06874562734875506,
          0.06420438590507166,
          0.07205347610839366,
          0.0640157704092958,
          0.06938388319421429,
          0.07166593970834315,
          0.07258766324305312,
          0.0694218732035414,
          0.06757468754797535,
          0.0681150082232113,
          0.07766176513828699,
          0.0697275084021664,
          0.06376936532080572,
          0.07437630461956782,
          0.07240816930551056,
          0.06759956529884606,
          0.07073911579156679,
          0.06976951727012368,
          0.0710191524516913,
          0.06346555580954369,
          0.06870394282013068,
          0.06809256231553967,
          0.06895343468613674,
          0.07497776301592465,
          0.07488009967142996,
          0.07023800545256141,
          0.06922267283624908,
          0.07291840968563117,
          0.06773660535029573,
          0.07257279161978385,
          0.0731312396105055,
          0.06256171267301322,
          0.07354388560373191,
          0.0662320153679695,
          0.0667595147369926,
          0.06576869301685612,
          0.06376260891316564,
          0.0649457874471922,
          0.06466814252229888,
          0.0690734702756658,
          0.0661010350570813,
          0.06333462760992109,
          0.0644454033560338,
          0.06911178255868633,
          0.06334797387646567,
          0.0639189822863195,
          0.06718347228439517,
          0.06467646579062142,
          0.07273617910880421,
          0.06201932438897624,
          0.06411701967486583,
          0.07652436195620585,
          0.07248227852966013,
          0.06761691060505245,
          0.06298967089117727,
          0.07661617719910242,
          0.06513657080843875,
          0.0660574143435671,
          0.07263850369006088,
          0.062443170555732494,
          0.0723959848608573,
          0.06743150361203373,
          0.06948844044822014,
          0.06568039261657119,
          0.0618790611492924,
          0.06522030282510541,
          0.07248301657593215,
          0.07039182036673866,
          0.07234591950887038,
          0.07161548132894452,
          0.07609557465444697,
          0.0647682018877466,
          0.06340908912981388,
          0.06612824963637162,
          0.0756771046174209,
          0.06123030273083892,
          0.06924778165037435,
          0.06682230172875786,
          0.0651407643954859,
          0.06924901186796176,
          0.07021515863354422,
          0.0638928695682255,
          0.07329575554018303,
          0.06797390191136159,
          0.07629175967123049,
          0.06660010547123855,
          0.0706055892396981,
          0.06671816445832598,
          0.06354794638028889,
          0.06680143132576061,
          0.06303739250381556,
          0.07167994680249062,
          0.06374547827592261,
          0.07252225265283163,
          0.06942735071083153,
          0.06918482323645718,
          0.06610809389703873,
          0.07312072305141562,
          0.06593570698508315,
          0.06531047483347512,
          0.07209840205227105,
          0.07386954803412261,
          0.0714193909731394,
          0.07231439910725145,
          0.06522781227383799,
          0.06598647558753742,
          0.0746421012847763,
          0.07391512604582547,
          0.07161989133214511,
          0.07055583066087306,
          0.07255075645209572,
          0.06540347448241651,
          0.07776691496215077,
          0.06926358427010787,
          0.0694727273017836,
          0.07703158861516994,
          0.06557181170625637,
          0.06626826600160868,
          0.06772384166730341,
          0.07704900303898149,
          0.06910226541856973,
          0.06570521640801663,
          0.0602297188612318,
          0.06253169686134957,
          0.06544439661586036,
          0.06261076061612825,
          0.07277054236181482,
          0.06599824473949159,
          0.07501641627737218,
          0.0754797181512929,
          0.06944609580945205,
          0.0675826395680602,
          0.06246669857260121,
          0.06659524250875831,
          0.06503192905664881,
          0.06075258602661443,
          0.07218484324849583,
          0.063963752250811,
          0.07259016754069784,
          0.062433427069104805,
          0.06506124005920526,
          0.07024285739270567,
          0.061413733546848114,
          0.06399100549208107,
          0.06447114627068438,
          0.07341503470797885,
          0.06591303640170987,
          0.06453166764561794,
          0.06338192493938899,
          0.06832017675230699,
          0.06874460766265886,
          0.07311772084144642,
          0.06898917434037802,
          0.06587618648744205,
          0.06987419018677415,
          0.067220065986176,
          0.0675317283231881,
          0.06502829030620803,
          0.06268488061398345,
          0.06433662056103184,
          0.07666396156783775,
          0.06860886423580706,
          0.06334667848642522,
          0.07115461337492521,
          0.06905050057678694,
          0.07711582217587515,
          0.06427029776417564,
          0.07359833995401857,
          0.07317292233696529,
          0.0676059790454824,
          0.06891047107138348,
          0.07302749452519117,
          0.06702991386336536,
          0.06616868932964919,
          0.06677602600475298,
          0.06521470779967768,
          0.06497677446738441,
          0.06440555513269977,
          0.077667775732656,
          0.06823021226565798,
          0.06479352979627323,
          0.07727576925696521,
          0.06809134883411935,
          0.06656193153584047,
          0.06392341266104473,
          0.06766576798799878,
          0.07477176407775805,
          0.07012445625834814,
          0.07057438710930425,
          0.07522778293792863,
          0.07111283675424435,
          0.06301700348439356,
          0.06864417351260341,
          0.070086190150799,
          0.07322829982187812,
          0.07445705132846148,
          0.06311874564934952,
          0.06437945854404273,
          0.06380569373999355,
          0.0730878031290754,
          0.060474646972024315,
          0.06708963693486328,
          0.06625768609739717,
          0.07281040237342915,
          0.0733900476430038,
          0.07249783817050331,
          0.06706356726236137,
          0.06570254243427956,
          0.074594662955214,
          0.07419105512389174,
          0.06598759005510586,
          0.06909942320677599,
          0.06889755657754087,
          0.07103243773749951,
          0.07192799229883887,
          0.0736963803150939,
          0.06174534470499352,
          0.06878979056671722,
          0.06490301774562729,
          0.06438809575947277,
          0.06942094344402404,
          0.07180042721677138,
          0.06570988686800087,
          0.06423524844141225,
          0.06502782418249861,
          0.0650297995724245,
          0.0680831795458196,
          0.06163116900370294,
          0.06368429795019759,
          0.07373587905901331,
          0.06510193934090361,
          0.06613813952115387,
          0.06266784113706314,
          0.06793390353283096,
          0.06606960401632131,
          0.0686624942218837,
          0.06391126233504324,
          0.07369889759920138,
          0.06923456373036155,
          0.06500343221347481,
          0.06992558995521567,
          0.06531456052212387,
          0.061819174378701915,
          0.07567266973294576,
          0.06065446293113788,
          0.07059931400827107,
          0.06170347259564021,
          0.06759927174815746,
          0.062708296264629,
          0.07610142010826962,
          0.06483292274327718,
          0.06173797221368371,
          0.06599002453994052,
          0.06632770574736549,
          0.0625102945360199,
          0.0700620631253025,
          0.07080600439116586,
          0.06397008665788718,
          0.06620692467643347,
          0.06547997138369838,
          0.06855650016918056,
          0.07622674571055474,
          0.07140115534605396,
          0.06568492336592076,
          0.06852402747747113,
          0.06468322765821466,
          0.06353871674632389,
          0.06212911317623137,
          0.06778214347134146,
          0.07868649360860491,
          0.06990920919963188,
          0.06365893633639662,
          0.06170250875405632
         ]
        },
        {
         "marker": {
          "color": "red",
          "size": 10
         },
         "mode": "markers",
         "name": "Asset 1",
         "type": "scatter",
         "x": [
          0.15
         ],
         "y": [
          0.06
         ]
        },
        {
         "marker": {
          "color": "red",
          "size": 10
         },
         "mode": "markers",
         "name": "Asset 2",
         "type": "scatter",
         "x": [
          0.165
         ],
         "y": [
          0.065
         ]
        },
        {
         "marker": {
          "color": "red",
          "size": 10
         },
         "mode": "markers",
         "name": "Asset 3",
         "type": "scatter",
         "x": [
          0.21
         ],
         "y": [
          0.08
         ]
        }
       ],
       "layout": {
        "legend": {
         "x": 0.01,
         "xanchor": "left",
         "y": 0.99,
         "yanchor": "top"
        },
        "template": {
         "data": {
          "bar": [
           {
            "error_x": {
             "color": "#2a3f5f"
            },
            "error_y": {
             "color": "#2a3f5f"
            },
            "marker": {
             "line": {
              "color": "#E5ECF6",
              "width": 0.5
             },
             "pattern": {
              "fillmode": "overlay",
              "size": 10,
              "solidity": 0.2
             }
            },
            "type": "bar"
           }
          ],
          "barpolar": [
           {
            "marker": {
             "line": {
              "color": "#E5ECF6",
              "width": 0.5
             },
             "pattern": {
              "fillmode": "overlay",
              "size": 10,
              "solidity": 0.2
             }
            },
            "type": "barpolar"
           }
          ],
          "carpet": [
           {
            "aaxis": {
             "endlinecolor": "#2a3f5f",
             "gridcolor": "white",
             "linecolor": "white",
             "minorgridcolor": "white",
             "startlinecolor": "#2a3f5f"
            },
            "baxis": {
             "endlinecolor": "#2a3f5f",
             "gridcolor": "white",
             "linecolor": "white",
             "minorgridcolor": "white",
             "startlinecolor": "#2a3f5f"
            },
            "type": "carpet"
           }
          ],
          "choropleth": [
           {
            "colorbar": {
             "outlinewidth": 0,
             "ticks": ""
            },
            "type": "choropleth"
           }
          ],
          "contour": [
           {
            "colorbar": {
             "outlinewidth": 0,
             "ticks": ""
            },
            "colorscale": [
             [
              0,
              "#0d0887"
             ],
             [
              0.1111111111111111,
              "#46039f"
             ],
             [
              0.2222222222222222,
              "#7201a8"
             ],
             [
              0.3333333333333333,
              "#9c179e"
             ],
             [
              0.4444444444444444,
              "#bd3786"
             ],
             [
              0.5555555555555556,
              "#d8576b"
             ],
             [
              0.6666666666666666,
              "#ed7953"
             ],
             [
              0.7777777777777778,
              "#fb9f3a"
             ],
             [
              0.8888888888888888,
              "#fdca26"
             ],
             [
              1,
              "#f0f921"
             ]
            ],
            "type": "contour"
           }
          ],
          "contourcarpet": [
           {
            "colorbar": {
             "outlinewidth": 0,
             "ticks": ""
            },
            "type": "contourcarpet"
           }
          ],
          "heatmap": [
           {
            "colorbar": {
             "outlinewidth": 0,
             "ticks": ""
            },
            "colorscale": [
             [
              0,
              "#0d0887"
             ],
             [
              0.1111111111111111,
              "#46039f"
             ],
             [
              0.2222222222222222,
              "#7201a8"
             ],
             [
              0.3333333333333333,
              "#9c179e"
             ],
             [
              0.4444444444444444,
              "#bd3786"
             ],
             [
              0.5555555555555556,
              "#d8576b"
             ],
             [
              0.6666666666666666,
              "#ed7953"
             ],
             [
              0.7777777777777778,
              "#fb9f3a"
             ],
             [
              0.8888888888888888,
              "#fdca26"
             ],
             [
              1,
              "#f0f921"
             ]
            ],
            "type": "heatmap"
           }
          ],
          "heatmapgl": [
           {
            "colorbar": {
             "outlinewidth": 0,
             "ticks": ""
            },
            "colorscale": [
             [
              0,
              "#0d0887"
             ],
             [
              0.1111111111111111,
              "#46039f"
             ],
             [
              0.2222222222222222,
              "#7201a8"
             ],
             [
              0.3333333333333333,
              "#9c179e"
             ],
             [
              0.4444444444444444,
              "#bd3786"
             ],
             [
              0.5555555555555556,
              "#d8576b"
             ],
             [
              0.6666666666666666,
              "#ed7953"
             ],
             [
              0.7777777777777778,
              "#fb9f3a"
             ],
             [
              0.8888888888888888,
              "#fdca26"
             ],
             [
              1,
              "#f0f921"
             ]
            ],
            "type": "heatmapgl"
           }
          ],
          "histogram": [
           {
            "marker": {
             "pattern": {
              "fillmode": "overlay",
              "size": 10,
              "solidity": 0.2
             }
            },
            "type": "histogram"
           }
          ],
          "histogram2d": [
           {
            "colorbar": {
             "outlinewidth": 0,
             "ticks": ""
            },
            "colorscale": [
             [
              0,
              "#0d0887"
             ],
             [
              0.1111111111111111,
              "#46039f"
             ],
             [
              0.2222222222222222,
              "#7201a8"
             ],
             [
              0.3333333333333333,
              "#9c179e"
             ],
             [
              0.4444444444444444,
              "#bd3786"
             ],
             [
              0.5555555555555556,
              "#d8576b"
             ],
             [
              0.6666666666666666,
              "#ed7953"
             ],
             [
              0.7777777777777778,
              "#fb9f3a"
             ],
             [
              0.8888888888888888,
              "#fdca26"
             ],
             [
              1,
              "#f0f921"
             ]
            ],
            "type": "histogram2d"
           }
          ],
          "histogram2dcontour": [
           {
            "colorbar": {
             "outlinewidth": 0,
             "ticks": ""
            },
            "colorscale": [
             [
              0,
              "#0d0887"
             ],
             [
              0.1111111111111111,
              "#46039f"
             ],
             [
              0.2222222222222222,
              "#7201a8"
             ],
             [
              0.3333333333333333,
              "#9c179e"
             ],
             [
              0.4444444444444444,
              "#bd3786"
             ],
             [
              0.5555555555555556,
              "#d8576b"
             ],
             [
              0.6666666666666666,
              "#ed7953"
             ],
             [
              0.7777777777777778,
              "#fb9f3a"
             ],
             [
              0.8888888888888888,
              "#fdca26"
             ],
             [
              1,
              "#f0f921"
             ]
            ],
            "type": "histogram2dcontour"
           }
          ],
          "mesh3d": [
           {
            "colorbar": {
             "outlinewidth": 0,
             "ticks": ""
            },
            "type": "mesh3d"
           }
          ],
          "parcoords": [
           {
            "line": {
             "colorbar": {
              "outlinewidth": 0,
              "ticks": ""
             }
            },
            "type": "parcoords"
           }
          ],
          "pie": [
           {
            "automargin": true,
            "type": "pie"
           }
          ],
          "scatter": [
           {
            "fillpattern": {
             "fillmode": "overlay",
             "size": 10,
             "solidity": 0.2
            },
            "type": "scatter"
           }
          ],
          "scatter3d": [
           {
            "line": {
             "colorbar": {
              "outlinewidth": 0,
              "ticks": ""
             }
            },
            "marker": {
             "colorbar": {
              "outlinewidth": 0,
              "ticks": ""
             }
            },
            "type": "scatter3d"
           }
          ],
          "scattercarpet": [
           {
            "marker": {
             "colorbar": {
              "outlinewidth": 0,
              "ticks": ""
             }
            },
            "type": "scattercarpet"
           }
          ],
          "scattergeo": [
           {
            "marker": {
             "colorbar": {
              "outlinewidth": 0,
              "ticks": ""
             }
            },
            "type": "scattergeo"
           }
          ],
          "scattergl": [
           {
            "marker": {
             "colorbar": {
              "outlinewidth": 0,
              "ticks": ""
             }
            },
            "type": "scattergl"
           }
          ],
          "scattermapbox": [
           {
            "marker": {
             "colorbar": {
              "outlinewidth": 0,
              "ticks": ""
             }
            },
            "type": "scattermapbox"
           }
          ],
          "scatterpolar": [
           {
            "marker": {
             "colorbar": {
              "outlinewidth": 0,
              "ticks": ""
             }
            },
            "type": "scatterpolar"
           }
          ],
          "scatterpolargl": [
           {
            "marker": {
             "colorbar": {
              "outlinewidth": 0,
              "ticks": ""
             }
            },
            "type": "scatterpolargl"
           }
          ],
          "scatterternary": [
           {
            "marker": {
             "colorbar": {
              "outlinewidth": 0,
              "ticks": ""
             }
            },
            "type": "scatterternary"
           }
          ],
          "surface": [
           {
            "colorbar": {
             "outlinewidth": 0,
             "ticks": ""
            },
            "colorscale": [
             [
              0,
              "#0d0887"
             ],
             [
              0.1111111111111111,
              "#46039f"
             ],
             [
              0.2222222222222222,
              "#7201a8"
             ],
             [
              0.3333333333333333,
              "#9c179e"
             ],
             [
              0.4444444444444444,
              "#bd3786"
             ],
             [
              0.5555555555555556,
              "#d8576b"
             ],
             [
              0.6666666666666666,
              "#ed7953"
             ],
             [
              0.7777777777777778,
              "#fb9f3a"
             ],
             [
              0.8888888888888888,
              "#fdca26"
             ],
             [
              1,
              "#f0f921"
             ]
            ],
            "type": "surface"
           }
          ],
          "table": [
           {
            "cells": {
             "fill": {
              "color": "#EBF0F8"
             },
             "line": {
              "color": "white"
             }
            },
            "header": {
             "fill": {
              "color": "#C8D4E3"
             },
             "line": {
              "color": "white"
             }
            },
            "type": "table"
           }
          ]
         },
         "layout": {
          "annotationdefaults": {
           "arrowcolor": "#2a3f5f",
           "arrowhead": 0,
           "arrowwidth": 1
          },
          "autotypenumbers": "strict",
          "coloraxis": {
           "colorbar": {
            "outlinewidth": 0,
            "ticks": ""
           }
          },
          "colorscale": {
           "diverging": [
            [
             0,
             "#8e0152"
            ],
            [
             0.1,
             "#c51b7d"
            ],
            [
             0.2,
             "#de77ae"
            ],
            [
             0.3,
             "#f1b6da"
            ],
            [
             0.4,
             "#fde0ef"
            ],
            [
             0.5,
             "#f7f7f7"
            ],
            [
             0.6,
             "#e6f5d0"
            ],
            [
             0.7,
             "#b8e186"
            ],
            [
             0.8,
             "#7fbc41"
            ],
            [
             0.9,
             "#4d9221"
            ],
            [
             1,
             "#276419"
            ]
           ],
           "sequential": [
            [
             0,
             "#0d0887"
            ],
            [
             0.1111111111111111,
             "#46039f"
            ],
            [
             0.2222222222222222,
             "#7201a8"
            ],
            [
             0.3333333333333333,
             "#9c179e"
            ],
            [
             0.4444444444444444,
             "#bd3786"
            ],
            [
             0.5555555555555556,
             "#d8576b"
            ],
            [
             0.6666666666666666,
             "#ed7953"
            ],
            [
             0.7777777777777778,
             "#fb9f3a"
            ],
            [
             0.8888888888888888,
             "#fdca26"
            ],
            [
             1,
             "#f0f921"
            ]
           ],
           "sequentialminus": [
            [
             0,
             "#0d0887"
            ],
            [
             0.1111111111111111,
             "#46039f"
            ],
            [
             0.2222222222222222,
             "#7201a8"
            ],
            [
             0.3333333333333333,
             "#9c179e"
            ],
            [
             0.4444444444444444,
             "#bd3786"
            ],
            [
             0.5555555555555556,
             "#d8576b"
            ],
            [
             0.6666666666666666,
             "#ed7953"
            ],
            [
             0.7777777777777778,
             "#fb9f3a"
            ],
            [
             0.8888888888888888,
             "#fdca26"
            ],
            [
             1,
             "#f0f921"
            ]
           ]
          },
          "colorway": [
           "#636efa",
           "#EF553B",
           "#00cc96",
           "#ab63fa",
           "#FFA15A",
           "#19d3f3",
           "#FF6692",
           "#B6E880",
           "#FF97FF",
           "#FECB52"
          ],
          "font": {
           "color": "#2a3f5f"
          },
          "geo": {
           "bgcolor": "white",
           "lakecolor": "white",
           "landcolor": "#E5ECF6",
           "showlakes": true,
           "showland": true,
           "subunitcolor": "white"
          },
          "hoverlabel": {
           "align": "left"
          },
          "hovermode": "closest",
          "mapbox": {
           "style": "light"
          },
          "paper_bgcolor": "white",
          "plot_bgcolor": "#E5ECF6",
          "polar": {
           "angularaxis": {
            "gridcolor": "white",
            "linecolor": "white",
            "ticks": ""
           },
           "bgcolor": "#E5ECF6",
           "radialaxis": {
            "gridcolor": "white",
            "linecolor": "white",
            "ticks": ""
           }
          },
          "scene": {
           "xaxis": {
            "backgroundcolor": "#E5ECF6",
            "gridcolor": "white",
            "gridwidth": 2,
            "linecolor": "white",
            "showbackground": true,
            "ticks": "",
            "zerolinecolor": "white"
           },
           "yaxis": {
            "backgroundcolor": "#E5ECF6",
            "gridcolor": "white",
            "gridwidth": 2,
            "linecolor": "white",
            "showbackground": true,
            "ticks": "",
            "zerolinecolor": "white"
           },
           "zaxis": {
            "backgroundcolor": "#E5ECF6",
            "gridcolor": "white",
            "gridwidth": 2,
            "linecolor": "white",
            "showbackground": true,
            "ticks": "",
            "zerolinecolor": "white"
           }
          },
          "shapedefaults": {
           "line": {
            "color": "#2a3f5f"
           }
          },
          "ternary": {
           "aaxis": {
            "gridcolor": "white",
            "linecolor": "white",
            "ticks": ""
           },
           "baxis": {
            "gridcolor": "white",
            "linecolor": "white",
            "ticks": ""
           },
           "bgcolor": "#E5ECF6",
           "caxis": {
            "gridcolor": "white",
            "linecolor": "white",
            "ticks": ""
           }
          },
          "title": {
           "x": 0.05
          },
          "xaxis": {
           "automargin": true,
           "gridcolor": "white",
           "linecolor": "white",
           "ticks": "",
           "title": {
            "standoff": 15
           },
           "zerolinecolor": "white",
           "zerolinewidth": 2
          },
          "yaxis": {
           "automargin": true,
           "gridcolor": "white",
           "linecolor": "white",
           "ticks": "",
           "title": {
            "standoff": 15
           },
           "zerolinecolor": "white",
           "zerolinewidth": 2
          }
         }
        },
        "xaxis": {
         "range": [
          0.10219485422560295,
          0.2538597755886718
         ],
         "tickformat": ".1%",
         "title": {
          "text": "Standard Deviation"
         }
        },
        "yaxis": {
         "range": [
          0.0421388008140999,
          0.09843379433035204
         ],
         "tickformat": ".1%",
         "title": {
          "text": "Expected Return"
         }
        }
       }
      }
     },
     "metadata": {},
     "output_type": "display_data"
    }
   ],
   "source": [
    "fig = go.Figure()\n",
    "\n",
    "# Plot portfolios\n",
    "trace= go.Scatter(x=df.port_sd, y=df.port_expret,mode=\"markers\", name='Portfolios')\n",
    "fig.add_trace(trace)\n",
    "fig.layout.yaxis[\"title\"] = \"Expected Return\"\n",
    "fig.layout.xaxis[\"title\"] = \"Standard Deviation\"\n",
    "\n",
    "# Plot underlying assets\n",
    "trace1= go.Scatter(x=[SDS[0]], y=[MNS[0]],mode=\"markers\", marker=dict(size=10, color=\"red\"), name='Asset 1')\n",
    "fig.add_trace(trace1)\n",
    "trace2= go.Scatter(x=[SDS[1]], y=[MNS[1]],mode=\"markers\", marker=dict(size=10, color=\"red\"), name='Asset 2')\n",
    "fig.add_trace(trace2)\n",
    "trace3= go.Scatter(x=[SDS[2]], y=[MNS[2]],mode=\"markers\", marker=dict(size=10, color=\"red\"), name='Asset 3')\n",
    "fig.add_trace(trace3)\n",
    "\n",
    "# Formatting\n",
    "fig.update_yaxes(tickformat=\".1%\")\n",
    "fig.update_xaxes(tickformat=\".1%\")\n",
    "fig.update_xaxes(range=[0.7 * df[\"port_sd\"].min(), 1.25 * df[\"port_sd\"].max()])\n",
    "fig.update_yaxes(range=[0.7 * df[\"port_expret\"].min(), 1.25 * df[\"port_expret\"].max()])\n",
    "fig.update_layout(legend=dict(yanchor=\"top\", y=0.99, xanchor=\"left\", x=0.01))\n",
    "fig.show()"
   ]
  },
  {
   "attachments": {},
   "cell_type": "markdown",
   "metadata": {},
   "source": [
    "### Allowing short sales"
   ]
  },
  {
   "cell_type": "code",
   "execution_count": 9,
   "metadata": {},
   "outputs": [
    {
     "data": {
      "text/plain": [
       "array([ 0.69660837, -0.13275239,  0.43614402])"
      ]
     },
     "execution_count": 9,
     "metadata": {},
     "output_type": "execute_result"
    }
   ],
   "source": [
    "def simulate_weights(n):\n",
    "    ''' Simulate weights that sum to 1.'''\n",
    "    x = np.random.uniform(low=-0.5, high=2, size=n-1)\n",
    "    x = np.append(x, 1-x.sum())\n",
    "    return x \n",
    "simulate_weights(3)\n",
    "# simulate_weights(3).sum()"
   ]
  },
  {
   "cell_type": "code",
   "execution_count": 10,
   "metadata": {},
   "outputs": [
    {
     "data": {
      "text/html": [
       "<div>\n",
       "<style scoped>\n",
       "    .dataframe tbody tr th:only-of-type {\n",
       "        vertical-align: middle;\n",
       "    }\n",
       "\n",
       "    .dataframe tbody tr th {\n",
       "        vertical-align: top;\n",
       "    }\n",
       "\n",
       "    .dataframe thead th {\n",
       "        text-align: right;\n",
       "    }\n",
       "</style>\n",
       "<table border=\"1\" class=\"dataframe\">\n",
       "  <thead>\n",
       "    <tr style=\"text-align: right;\">\n",
       "      <th></th>\n",
       "      <th>w1</th>\n",
       "      <th>w2</th>\n",
       "      <th>w3</th>\n",
       "      <th>port_expret</th>\n",
       "      <th>port_sd</th>\n",
       "    </tr>\n",
       "  </thead>\n",
       "  <tbody>\n",
       "    <tr>\n",
       "      <th>0</th>\n",
       "      <td>-0.036979</td>\n",
       "      <td>1.665248</td>\n",
       "      <td>-0.628268</td>\n",
       "      <td>0.055761</td>\n",
       "      <td>0.193309</td>\n",
       "    </tr>\n",
       "    <tr>\n",
       "      <th>1</th>\n",
       "      <td>1.192450</td>\n",
       "      <td>0.661827</td>\n",
       "      <td>-0.854277</td>\n",
       "      <td>0.046224</td>\n",
       "      <td>0.166981</td>\n",
       "    </tr>\n",
       "    <tr>\n",
       "      <th>2</th>\n",
       "      <td>0.239937</td>\n",
       "      <td>1.736158</td>\n",
       "      <td>-0.976095</td>\n",
       "      <td>0.049159</td>\n",
       "      <td>0.204192</td>\n",
       "    </tr>\n",
       "    <tr>\n",
       "      <th>3</th>\n",
       "      <td>0.245192</td>\n",
       "      <td>0.290382</td>\n",
       "      <td>0.464426</td>\n",
       "      <td>0.070740</td>\n",
       "      <td>0.167909</td>\n",
       "    </tr>\n",
       "    <tr>\n",
       "      <th>4</th>\n",
       "      <td>1.173444</td>\n",
       "      <td>0.972220</td>\n",
       "      <td>-1.145664</td>\n",
       "      <td>0.041948</td>\n",
       "      <td>0.188518</td>\n",
       "    </tr>\n",
       "  </tbody>\n",
       "</table>\n",
       "</div>"
      ],
      "text/plain": [
       "         w1        w2        w3  port_expret   port_sd\n",
       "0 -0.036979  1.665248 -0.628268     0.055761  0.193309\n",
       "1  1.192450  0.661827 -0.854277     0.046224  0.166981\n",
       "2  0.239937  1.736158 -0.976095     0.049159  0.204192\n",
       "3  0.245192  0.290382  0.464426     0.070740  0.167909\n",
       "4  1.173444  0.972220 -1.145664     0.041948  0.188518"
      ]
     },
     "execution_count": 10,
     "metadata": {},
     "output_type": "execute_result"
    }
   ],
   "source": [
    "num_sims = 500\n",
    "df = pd.DataFrame(dtype='float',columns = ['w1','w2','w3','port_expret','port_sd'], index=np.arange(num_sims))\n",
    "for i in df.index:\n",
    "    wgts = simulate_weights(3)\n",
    "    df.loc[i,['w1','w2','w3']] = wgts\n",
    "    df.loc[i,'port_expret'] = wgts @ MNS\n",
    "    df.loc[i,'port_sd'] = np.sqrt(wgts @ COV @ wgts)\n",
    "df.head()"
   ]
  },
  {
   "cell_type": "code",
   "execution_count": 11,
   "metadata": {},
   "outputs": [
    {
     "data": {
      "application/vnd.plotly.v1+json": {
       "config": {
        "plotlyServerURL": "https://plot.ly"
       },
       "data": [
        {
         "customdata": [
          [
           -0.03697942423332501,
           1.6652478924031247,
           -0.6282684681697996
          ],
          [
           1.1924502942154398,
           0.6618267056464333,
           -0.8542769998618731
          ],
          [
           0.23993733695862318,
           1.7361576102439984,
           -0.9760949472026215
          ],
          [
           0.24519213022848008,
           0.29038193144195745,
           0.46442593832956247
          ],
          [
           1.1734437139350546,
           0.9722198454334776,
           -1.1456635593685323
          ],
          [
           -0.18465421870582738,
           0.44059182871060687,
           0.7440623899952206
          ],
          [
           1.1090893026943751,
           -0.06585418840190715,
           -0.04323511429246807
          ],
          [
           0.9650561222554823,
           1.9478972746163912,
           -1.9129533968718735
          ],
          [
           0.7458479105846889,
           -0.019988400503910653,
           0.2741404899192217
          ],
          [
           1.148894076115567,
           0.8747895860293655,
           -1.0236836621449328
          ],
          [
           1.210972618027165,
           1.6179642517595267,
           -1.8289368697866917
          ],
          [
           1.2991929105584237,
           -0.17796547873123414,
           -0.12122743182718954
          ],
          [
           -0.38775078982117694,
           0.1477215870700661,
           1.2400292027511108
          ],
          [
           1.9754015726554397,
           1.116971733218514,
           -2.092373305873954
          ],
          [
           0.9380489690196387,
           1.6588683778581608,
           -1.5969173468777997
          ],
          [
           1.0624824247010425,
           0.781961954396533,
           -0.8444443790975755
          ],
          [
           0.4254787045545685,
           0.42632903062586225,
           0.14819226481956926
          ],
          [
           0.2524015280017038,
           -0.039671708875909484,
           0.7872701808742057
          ],
          [
           0.3738796346673485,
           0.9652996279120811,
           -0.33917926257942965
          ],
          [
           0.9642117999747857,
           1.9030936651520234,
           -1.867305465126809
          ],
          [
           1.9853360086737477,
           1.4671590714588172,
           -2.452495080132565
          ],
          [
           1.825710175542917,
           -0.31375180504716865,
           -0.5119583704957484
          ],
          [
           0.9599034615006423,
           0.29920470519737075,
           -0.25910816669801306
          ],
          [
           1.2777055623966787,
           1.6918060173508538,
           -1.9695115797475324
          ],
          [
           -0.08724114128537974,
           -0.1440431007528063,
           1.231284242038186
          ],
          [
           0.6426227143025225,
           1.1934925224369657,
           -0.8361152367394882
          ],
          [
           0.5998953891686478,
           0.6075413357687214,
           -0.2074367249373692
          ],
          [
           -0.18700709245826824,
           0.43329768327175766,
           0.7537094091865106
          ],
          [
           0.729550779867489,
           -0.4430711261176666,
           0.7135203462501776
          ],
          [
           -0.45603890176968154,
           0.2280953374932092,
           1.2279435642764724
          ],
          [
           1.4934875254670898,
           0.052806128831951016,
           -0.5462936542990409
          ],
          [
           0.5699264225773517,
           0.6817994164536036,
           -0.25172583903095536
          ],
          [
           0.1286799595264867,
           1.0442577100702681,
           -0.17293766959675483
          ],
          [
           -0.2115846486383342,
           0.10029702013412312,
           1.111287628504211
          ],
          [
           0.9233226553512555,
           0.24147357614636422,
           -0.16479623149761968
          ],
          [
           1.8982949374592373,
           1.198247218018496,
           -2.0965421554777333
          ],
          [
           1.022120101895697,
           1.666893137628091,
           -1.689013239523788
          ],
          [
           0.3489947937586748,
           1.869375843410571,
           -1.2183706371692455
          ],
          [
           1.1783956901963735,
           0.6977360077491772,
           -0.8761316979455507
          ],
          [
           1.253103437439185,
           1.813620296296207,
           -2.066723733735392
          ],
          [
           -0.49609699598008883,
           0.22367809312070597,
           1.2724189028593829
          ],
          [
           1.1330746322410086,
           0.28259626084107325,
           -0.4156708930820818
          ],
          [
           1.0836778095666753,
           0.25936966337581047,
           -0.3430474729424857
          ],
          [
           0.1402141043696421,
           0.2816563763153592,
           0.5781295193149987
          ],
          [
           0.8099980869321939,
           0.021522990666545283,
           0.16847892240126083
          ],
          [
           1.5527253269826042,
           0.5857849809401068,
           -1.138510307922711
          ],
          [
           0.33000691405830274,
           0.4107413430957384,
           0.25925174284595887
          ],
          [
           0.9015420112789989,
           0.8491699117419953,
           -0.7507119230209942
          ],
          [
           0.5996916886404389,
           -0.44143189232285673,
           0.8417402036824179
          ],
          [
           1.4473405053075679,
           1.9540777598212022,
           -2.40141826512877
          ],
          [
           1.674382935002925,
           -0.3494020150943781,
           -0.3249809199085467
          ],
          [
           0.9640681484339104,
           -0.03692161134176819,
           0.07285346290785777
          ],
          [
           -0.2635545105089841,
           1.2316477763650764,
           0.031906734143907656
          ],
          [
           1.922674333721813,
           0.19198999636223535,
           -1.1146643300840484
          ],
          [
           0.3534345266818921,
           -0.49637558706995083,
           1.1429410603880588
          ],
          [
           1.8912330853497248,
           1.4983056590660666,
           -2.389538744415791
          ],
          [
           1.1395572040725659,
           1.5695860432396898,
           -1.7091432473122556
          ],
          [
           -0.29831848958053975,
           0.7042304879230614,
           0.5940880016574783
          ],
          [
           -0.23469524395776747,
           0.5261887562405934,
           0.7085064877171741
          ],
          [
           1.337806696743138,
           0.9852653741379909,
           -1.3230720708811288
          ],
          [
           1.9415847132289366,
           0.5721692397304416,
           -1.5137539529593784
          ],
          [
           1.4459959466075263,
           1.1060643114922044,
           -1.552060258099731
          ],
          [
           0.005339856252415842,
           1.9029393102603311,
           -0.908279166512747
          ],
          [
           0.5053195988443611,
           1.6230711433308191,
           -1.1283907421751804
          ],
          [
           1.206463991759522,
           0.6644041869222481,
           -0.87086817868177
          ],
          [
           0.5903802018810254,
           -0.2828864855017614,
           0.6925062836207361
          ],
          [
           1.5375409289921933,
           1.3829802535102902,
           -1.9205211825024833
          ],
          [
           1.5197494912146952,
           1.9909431859061657,
           -2.510692677120861
          ],
          [
           0.3350486038042926,
           -0.23923034909245144,
           0.9041817452881589
          ],
          [
           1.3809920104506919,
           1.0775160351902229,
           -1.4585080456409147
          ],
          [
           1.51898018916166,
           0.03481820049838147,
           -0.5537983896600416
          ],
          [
           0.039353663467980526,
           0.14907205056947004,
           0.8115742859625494
          ],
          [
           1.7189580737481998,
           0.7065569230486375,
           -1.4255149967968372
          ],
          [
           -0.4463162583273604,
           0.33696057776242005,
           1.1093556805649403
          ],
          [
           1.9473165062961515,
           1.6078104892637035,
           -2.555126995559855
          ],
          [
           -0.25419508184846573,
           1.627276857193948,
           -0.37308177534548226
          ],
          [
           1.2129262989214014,
           1.6208071054035407,
           -1.833733404324942
          ],
          [
           1.8474139530289513,
           1.7520055265623453,
           -2.5994194795912966
          ],
          [
           0.2205756404253303,
           0.5371530570294438,
           0.2422713025452259
          ],
          [
           1.7800550218556426,
           1.685100189689221,
           -2.4651552115448636
          ],
          [
           0.5898858828008342,
           0.9773032267536248,
           -0.567189109554459
          ],
          [
           1.9891724726916369,
           0.23037854085167364,
           -1.2195510135433105
          ],
          [
           0.17132547927377217,
           1.167511870464641,
           -0.3388373497384132
          ],
          [
           1.7582452307847936,
           0.897160655776132,
           -1.6554058865609256
          ],
          [
           1.3570849699158196,
           0.32240706604944647,
           -0.6794920359652661
          ],
          [
           0.6571603707651139,
           0.5537131065967742,
           -0.2108734773618881
          ],
          [
           0.9503242561425378,
           -0.0028041160918735875,
           0.052479859949335794
          ],
          [
           1.0183471662685533,
           1.0037334605794355,
           -1.0220806268479885
          ],
          [
           0.646547329139652,
           -0.2922320765974022,
           0.6456847474577503
          ],
          [
           1.6287357139738439,
           -0.46721583882196366,
           -0.16151987515188027
          ],
          [
           0.5256995700450515,
           0.5069264864068259,
           -0.03262605645187744
          ],
          [
           -0.2602684065872655,
           0.8327292780057602,
           0.42753912858150533
          ],
          [
           0.11024369925767152,
           -0.3696296458167282,
           1.2593859465590567
          ],
          [
           -0.3868307720659701,
           0.036173467197163856,
           1.3506573048688062
          ],
          [
           0.004553683563520039,
           0.19616429099824184,
           0.7992820254382381
          ],
          [
           0.05148612871851743,
           0.37140142936501797,
           0.5771124419164646
          ],
          [
           0.1927637312220778,
           0.03507581933240289,
           0.7721604494455193
          ],
          [
           -0.48732930632848626,
           1.232242787676788,
           0.2550865186516982
          ],
          [
           0.9543089858736473,
           0.644613499870462,
           -0.5989224857441093
          ],
          [
           0.40081515628012754,
           -0.4199496806169818,
           1.0191345243368541
          ],
          [
           1.7384958933481953,
           0.07944838543493193,
           -0.8179442787831273
          ],
          [
           0.5371663648714944,
           0.5530523516905863,
           -0.09021871656208069
          ],
          [
           0.001397309532334079,
           1.9031448000101538,
           -0.9045421095424879
          ],
          [
           0.713838405929176,
           0.9627037847299613,
           -0.6765421906591373
          ],
          [
           0.42639734672164076,
           1.4078706233965468,
           -0.8342679701181877
          ],
          [
           1.7502888926895093,
           -0.311454282730305,
           -0.4388346099592042
          ],
          [
           -0.15174205406924363,
           -0.26945267298191117,
           1.4211947270511547
          ],
          [
           1.1756155891855518,
           1.595148318949604,
           -1.770763908135156
          ],
          [
           -0.1368426438876037,
           0.28065656382194093,
           0.8561860800656628
          ],
          [
           1.935118057598587,
           -0.48902161528572086,
           -0.44609644231286616
          ],
          [
           0.8344544210472506,
           0.33003840891863945,
           -0.1644928299658901
          ],
          [
           -0.3565036817409621,
           1.5958890965811476,
           -0.2393854148401855
          ],
          [
           1.2228106589257193,
           1.915306067703661,
           -2.1381167266293803
          ],
          [
           0.6405756883549765,
           1.9597315110125484,
           -1.600307199367525
          ],
          [
           -0.3520584866653835,
           0.9396893419357255,
           0.412369144729658
          ],
          [
           0.4185322179164044,
           0.41473587828180325,
           0.16673190380179237
          ],
          [
           1.1301950860680183,
           1.7226661726867003,
           -1.8528612587547189
          ],
          [
           0.24128350210301008,
           0.43237564810449736,
           0.32634084979249256
          ],
          [
           0.43436166338277393,
           1.5848128335932992,
           -1.0191744969760732
          ],
          [
           1.8870843156575399,
           0.4019996537893804,
           -1.2890839694469203
          ],
          [
           1.4376818258504722,
           0.39860456516885145,
           -0.8362863910193237
          ],
          [
           0.6908174466231767,
           0.9054877637763372,
           -0.5963052103995139
          ],
          [
           1.7206036301703858,
           -0.35064098454655784,
           -0.36996264562382786
          ],
          [
           1.9641320421138375,
           -0.27636508130199283,
           -0.6877669608118446
          ],
          [
           -0.1714726930726072,
           1.5487696012523173,
           -0.3772969081797102
          ],
          [
           1.9911858468874946,
           1.754872797274193,
           -2.7460586441616877
          ],
          [
           0.7188011358159645,
           1.7744744413979192,
           -1.4932755772138835
          ],
          [
           0.9417286659279946,
           0.9398568948723913,
           -0.881585560800386
          ],
          [
           0.2849833621233884,
           1.3073658602919171,
           -0.5923492224153055
          ],
          [
           0.6177377237598458,
           0.8400969443239739,
           -0.4578346680838197
          ],
          [
           -0.2671936887515279,
           0.338641747483583,
           0.9285519412679448
          ],
          [
           1.6759248521758319,
           -0.04761111233001003,
           -0.6283137398458218
          ],
          [
           0.6329062342820544,
           0.45056183561536556,
           -0.08346806989741995
          ],
          [
           -0.48669220799217827,
           -0.2442662472883812,
           1.7309584552805595
          ],
          [
           0.9654799149288498,
           0.7070815455607231,
           -0.6725614604895729
          ],
          [
           1.575849695386133,
           0.5504245769169771,
           -1.1262742723031103
          ],
          [
           0.2883667464596583,
           0.20998174191459462,
           0.5016515116257471
          ],
          [
           -0.20468044660062645,
           0.047933296343454446,
           1.156747150257172
          ],
          [
           -0.18914879480883506,
           -0.2136896569862416,
           1.4028384517950767
          ],
          [
           1.3816428906812432,
           1.4873670522544697,
           -1.8690099429357128
          ],
          [
           1.0079848033436098,
           0.4457656653818164,
           -0.45375046872542635
          ],
          [
           -0.2298384740654864,
           -0.2926913104431118,
           1.522529784508598
          ],
          [
           1.4609885490433006,
           0.9384778436355479,
           -1.3994663926788484
          ],
          [
           -0.0020386802395678805,
           1.6817761594158003,
           -0.6797374791762323
          ],
          [
           -0.3766589982258357,
           1.2465040180229976,
           0.1301549802028381
          ],
          [
           0.2219226425766151,
           1.7160343699422191,
           -0.9379570125188343
          ],
          [
           1.6839215448030496,
           0.3848761271303949,
           -1.0687976719334444
          ],
          [
           -0.18910160728345876,
           1.7023771956303708,
           -0.513275588346912
          ],
          [
           1.956112977404131,
           1.069644748553407,
           -2.025757725957538
          ],
          [
           0.3471058770165938,
           0.14169085152952998,
           0.5112032714538762
          ],
          [
           0.7305337371493839,
           -0.08443730399208715,
           0.3539035668427033
          ],
          [
           1.3139879564825458,
           0.34930667700612694,
           -0.6632946334886727
          ],
          [
           0.7744850356193376,
           -0.48975561748727453,
           0.715270581867937
          ],
          [
           0.3038614226239902,
           0.4595355999643582,
           0.2366029774116516
          ],
          [
           1.704454187880168,
           0.5151889726691272,
           -1.2196431605492952
          ],
          [
           1.7469460662121286,
           1.0846543063537908,
           -1.8316003725659193
          ],
          [
           0.059263571392515146,
           0.18480438947987365,
           0.7559320391276112
          ],
          [
           0.6958147492360722,
           1.3307843723154613,
           -1.0265991215515333
          ],
          [
           0.541513538596901,
           0.12585901992677329,
           0.3326274414763257
          ],
          [
           0.5843851740819388,
           0.36203281619906735,
           0.05358200971899385
          ],
          [
           0.3112648850564572,
           0.6434181716623273,
           0.045316943281215494
          ],
          [
           0.40281773835266277,
           1.7643351259578295,
           -1.1671528643104923
          ],
          [
           0.43804406957616326,
           -0.2547764989827748,
           0.8167324294066116
          ],
          [
           0.7729768048155887,
           0.30231351543572027,
           -0.07529032025130888
          ],
          [
           0.7774042430829093,
           -0.468975119200173,
           0.6915708761172636
          ],
          [
           -0.17486053145578978,
           0.25225387720064685,
           0.922606654255143
          ],
          [
           0.7334687809856941,
           1.5279219994026816,
           -1.2613907803883757
          ],
          [
           0.9577131098467073,
           0.7748449117811655,
           -0.7325580216278729
          ],
          [
           1.047331297846251,
           1.8653853707129344,
           -1.9127166685591854
          ],
          [
           0.40471511858448095,
           -0.24474513288720146,
           0.8400300143027205
          ],
          [
           0.5423511799852627,
           0.1530467349220448,
           0.3046020850926925
          ],
          [
           0.1858631064725057,
           1.9709893382521866,
           -1.1568524447246924
          ],
          [
           1.4301051600657142,
           0.21691130057775887,
           -0.647016460643473
          ],
          [
           0.05767343178098816,
           0.585303601175085,
           0.3570229670439269
          ],
          [
           -0.2986613702824796,
           -0.466864118357224,
           1.7655254886397036
          ],
          [
           -0.425114879327539,
           1.5312847459314227,
           -0.10616986660388372
          ],
          [
           1.0753382152286153,
           -0.2346104062336869,
           0.15927219100507162
          ],
          [
           1.2958589391274595,
           0.29166411249902,
           -0.5875230516264796
          ],
          [
           0.4480031801691585,
           0.4021051757981067,
           0.1498916440327348
          ],
          [
           0.13589413361268887,
           -0.0672867002113543,
           0.9313925665986654
          ],
          [
           0.06791710753470581,
           1.9796655703120605,
           -1.0475826778467665
          ],
          [
           0.03683538314839607,
           1.0496677699596928,
           -0.08650315310808887
          ],
          [
           -0.4833486412424874,
           1.3690965083350677,
           0.11425213290741976
          ],
          [
           0.37340970580630417,
           1.6798429867788767,
           -1.0532526925851808
          ],
          [
           0.03896649551775555,
           1.629642443417143,
           -0.6686089389348986
          ],
          [
           1.3898780442262635,
           0.13894864240395977,
           -0.5288266866302234
          ],
          [
           -0.018692779118924363,
           1.1435192387621325,
           -0.12482645964320804
          ],
          [
           0.33560425528336035,
           0.7422745201200922,
           -0.07787877540345267
          ],
          [
           -0.29776193462060546,
           1.9687062214443993,
           -0.6709442868237938
          ],
          [
           -0.20362400672931585,
           0.15603494843123245,
           1.0475890582980834
          ],
          [
           1.6922827976090815,
           0.08480238553193709,
           -0.7770851831410186
          ],
          [
           0.6929140360084187,
           0.4024132997425369,
           -0.09532733575095564
          ],
          [
           -0.34691871162945626,
           1.3291609585970339,
           0.01775775303242244
          ],
          [
           -0.49366368682034184,
           0.10435348434773661,
           1.3893102024726052
          ],
          [
           0.5638648550112544,
           -0.21600436908727244,
           0.652139514076018
          ],
          [
           0.7049870792804818,
           1.9857204158578172,
           -1.690707495138299
          ],
          [
           1.8263427937127892,
           -0.4722885518342891,
           -0.3540542418785
          ],
          [
           1.6016810189343333,
           0.646742964627159,
           -1.2484239835614925
          ],
          [
           0.7084523282563697,
           1.4371940905317686,
           -1.1456464187881386
          ],
          [
           1.627978807596365,
           1.3798800309370014,
           -2.0078588385333664
          ],
          [
           0.47845114456119153,
           0.009801755319708505,
           0.5117471001191
          ],
          [
           0.378053717648031,
           0.477038371311596,
           0.14490791104037304
          ],
          [
           -0.465794756606548,
           1.1420488858538445,
           0.32374587075270356
          ],
          [
           -0.08760101896946854,
           0.6563534020640196,
           0.4312476169054489
          ],
          [
           0.11908565817198946,
           1.3505896403010538,
           -0.46967529847304323
          ],
          [
           1.4237663278852282,
           0.40904675583689865,
           -0.8328130837221268
          ],
          [
           0.8084637096211769,
           1.1462542151096162,
           -0.9547179247307931
          ],
          [
           0.8177259906674221,
           -0.2737529830625475,
           0.45602699239512534
          ],
          [
           0.7548637122684834,
           0.34989565729574856,
           -0.10475936956423193
          ],
          [
           0.8457549001764804,
           0.3631935666403887,
           -0.20894846681686907
          ],
          [
           0.06478828071492604,
           0.343033118219668,
           0.592178601065406
          ],
          [
           -0.008412116685129867,
           1.7818818441208872,
           -0.7734697274357574
          ],
          [
           1.5268502141410325,
           0.9058279571701247,
           -1.4326781713111574
          ],
          [
           1.0214159436656385,
           0.48008069663647446,
           -0.501496640302113
          ],
          [
           0.7950298262149709,
           -0.1643826929585125,
           0.3693528667435416
          ],
          [
           0.9311695012519614,
           0.5130191838571456,
           -0.44418868510910703
          ],
          [
           0.41110090684041545,
           0.7496053963489713,
           -0.16070630318938672
          ],
          [
           -0.47378135619124806,
           1.529184832245968,
           -0.05540347605471996
          ],
          [
           0.4228147950461987,
           -0.0021812864717150604,
           0.5793664914255163
          ],
          [
           -0.08531566968891746,
           0.3118788051045336,
           0.7734368645843839
          ],
          [
           1.820816207744822,
           1.284789342614349,
           -2.1056055503591713
          ],
          [
           0.46196345520696225,
           0.36679429876923586,
           0.1712422460238019
          ],
          [
           1.1582414288736278,
           0.6682243580790543,
           -0.8264657869526821
          ],
          [
           -0.42159689160873604,
           0.03923414443763362,
           1.3823627471711024
          ],
          [
           1.30992854356737,
           1.6801981419285017,
           -1.9901266854958717
          ],
          [
           0.7303903518778749,
           -0.41290806334574337,
           0.6825177114678684
          ],
          [
           0.40432422280033253,
           0.9918734688884929,
           -0.39619769168882546
          ],
          [
           -0.11050772547187016,
           1.1999316612849698,
           -0.08942393581309949
          ],
          [
           1.8920769133243276,
           1.7778056230913304,
           -2.669882536415658
          ],
          [
           -0.38566313823307147,
           0.5414171425693461,
           0.8442459956637254
          ],
          [
           0.5202070776334842,
           1.7336908804971172,
           -1.2538979581306013
          ],
          [
           0.8969804582738024,
           0.7687938781893031,
           -0.6657743364631055
          ],
          [
           1.6420171115481073,
           0.7669011103535577,
           -1.408918221901665
          ],
          [
           0.42044190718175023,
           0.5913427917718608,
           -0.011784698953611006
          ],
          [
           1.6872486653580951,
           1.876726583039888,
           -2.563975248397983
          ],
          [
           -0.24743992185020725,
           1.1330437447906325,
           0.11439617705957472
          ],
          [
           -0.05630486389945771,
           1.5213240465498457,
           -0.465019182650388
          ],
          [
           1.9216519915339774,
           1.9311468059386208,
           -2.852798797472598
          ],
          [
           -0.2208902653275825,
           -0.2179920159097849,
           1.4388822812373674
          ],
          [
           0.6469915828230424,
           0.9464579171932361,
           -0.5934495000162785
          ],
          [
           1.2210791770778178,
           0.1562147100405935,
           -0.3772938871184113
          ],
          [
           0.09625124380416428,
           1.2722133377772467,
           -0.36846458158141093
          ],
          [
           1.8036723869759506,
           0.4293145980504638,
           -1.2329869850264146
          ],
          [
           0.8662484362706893,
           -0.12159345747933353,
           0.25534502120864433
          ],
          [
           0.5034994395952934,
           1.8445891513881758,
           -1.348088590983469
          ],
          [
           -0.036303515416987286,
           -0.10038938666230496,
           1.1366929020792922
          ],
          [
           0.26141133014961115,
           -0.29393684045510887,
           1.0325255103054978
          ],
          [
           -0.32826851199071927,
           0.5437392778957593,
           0.78452923409496
          ],
          [
           0.34326632261327195,
           0.48804982585282586,
           0.1686838515339022
          ],
          [
           -0.06636209016885869,
           0.7646818057085616,
           0.30168028446029704
          ],
          [
           1.507960888957495,
           1.5820023651584116,
           -2.0899632541159066
          ],
          [
           -0.17273227275125685,
           -0.3837090880355949,
           1.5564413607868517
          ],
          [
           0.8087461810156042,
           1.8560254964235656,
           -1.6647716774391697
          ],
          [
           -0.145636722622854,
           0.5666272551051359,
           0.5790094675177181
          ],
          [
           1.757933399517528,
           1.1988421769353776,
           -1.9567755764529053
          ],
          [
           -0.3406592329657322,
           1.2573171214982917,
           0.08334211146744053
          ],
          [
           0.11066985588747236,
           1.7171599795258135,
           -0.8278298354132858
          ],
          [
           1.6806600518054977,
           1.948584473322513,
           -2.6292445251280108
          ],
          [
           0.13686607376123283,
           0.193331174797285,
           0.6698027514414822
          ],
          [
           -0.28121973708732273,
           1.4848129976032833,
           -0.2035932605159605
          ],
          [
           -0.022564704070788644,
           1.1683609391887397,
           -0.14579623511795115
          ],
          [
           0.26862893813463673,
           0.17791036451707565,
           0.5534606973482876
          ],
          [
           0.5446797782740911,
           0.7784679204900402,
           -0.3231476987641313
          ],
          [
           1.1524637034781764,
           0.16045566245192588,
           -0.31291936593010217
          ],
          [
           1.9916243871754191,
           1.9797082840746558,
           -2.971332671250075
          ],
          [
           0.18100874587246918,
           1.4692149500735652,
           -0.6502236959460344
          ],
          [
           0.21805951563629988,
           0.6379690857110478,
           0.1439713986526523
          ],
          [
           1.383397468761426,
           1.1013786145653768,
           -1.4847760833268029
          ],
          [
           1.3324378680448685,
           1.2098472875604305,
           -1.542285155605299
          ],
          [
           1.141851537597173,
           0.4230259893824586,
           -0.5648775269796316
          ],
          [
           -0.2881001158879388,
           1.9640622390877085,
           -0.6759621231997697
          ],
          [
           0.5543319701886353,
           1.1738464279296175,
           -0.7281783981182528
          ],
          [
           -0.3744027983111532,
           -0.3800398774058304,
           1.7544426757169835
          ],
          [
           1.1386965834501366,
           0.25478871307639994,
           -0.3934852965265365
          ],
          [
           0.6240850497760977,
           0.3927047493688747,
           -0.01678979914497236
          ],
          [
           1.755216262736722,
           1.8092205077080918,
           -2.564436770444814
          ],
          [
           1.3943766523225434,
           1.1798924584229444,
           -1.5742691107454876
          ],
          [
           1.5350321755109904,
           -0.4858174350722201,
           -0.04921474043877039
          ],
          [
           1.0830679086591286,
           -0.13978873350506527,
           0.05672082484593666
          ],
          [
           0.014721962161046376,
           1.1771963884463479,
           -0.19191835060739426
          ],
          [
           1.3703112819148258,
           1.5148803069493084,
           -1.8851915888641342
          ],
          [
           1.0810418285478278,
           -0.06913622118259921,
           -0.01190560736522861
          ],
          [
           0.1506860805400092,
           1.688107582132901,
           -0.8387936626729102
          ],
          [
           -0.07800421939026203,
           1.9151123138223802,
           -0.8371080944321183
          ],
          [
           0.30246638629512645,
           1.3752742227995312,
           -0.6777406090946576
          ],
          [
           1.8090135206165288,
           1.1895333846134895,
           -1.9985469052300182
          ],
          [
           1.6921643282647003,
           1.6184166123941521,
           -2.3105809406588524
          ],
          [
           0.21436191266256088,
           0.8373670249535972,
           -0.051728937616158044
          ],
          [
           1.035356701264039,
           1.3899473043166917,
           -1.4253040055807307
          ],
          [
           -0.14492289357587546,
           0.42924531136833965,
           0.7156775822075359
          ],
          [
           -0.2861431876069488,
           0.8998382628030996,
           0.38630492480384915
          ],
          [
           1.3923886407570438,
           1.9587081233819843,
           -2.351096764139028
          ],
          [
           0.850322986323695,
           -0.36102252390798434,
           0.5106995375842893
          ],
          [
           1.547353300863732,
           1.2275731935557173,
           -1.7749264944194492
          ],
          [
           -0.44106046989451153,
           1.8695650455673372,
           -0.4285045756728256
          ],
          [
           1.1039084095108196,
           1.391358978897697,
           -1.4952673884085166
          ],
          [
           0.12248560090011029,
           0.6387736685055767,
           0.238740730594313
          ],
          [
           0.8060286016771272,
           1.1475125803083714,
           -0.9535411819854986
          ],
          [
           -0.08236499274096598,
           -0.11151567995987083,
           1.1938806727008369
          ],
          [
           1.8539045415573274,
           -0.3220515190786911,
           -0.5318530224786362
          ],
          [
           -0.1386232374776723,
           -0.05091116136953022,
           1.1895343988472025
          ],
          [
           1.892567853705975,
           0.7398689768470905,
           -1.6324368305530657
          ],
          [
           1.6281110512257313,
           0.8359182808019661,
           -1.4640293320276974
          ],
          [
           1.1145266245748071,
           1.6982689789378256,
           -1.8127956035126327
          ],
          [
           -0.18157690365581747,
           1.526833406829823,
           -0.3452565031740056
          ],
          [
           0.35000914991067267,
           -0.4049610815578859,
           1.0549519316472131
          ],
          [
           1.8042875487985537,
           1.676574433909018,
           -2.4808619827075717
          ],
          [
           -0.4403047103380143,
           0.46165935783823686,
           0.9786453524997775
          ],
          [
           0.0318063432022222,
           0.31710470444086636,
           0.6510889523569114
          ],
          [
           0.8767871863731229,
           1.1739346132786816,
           -1.0507217996518046
          ],
          [
           0.7980946535326632,
           0.508506985435319,
           -0.3066016389679822
          ],
          [
           0.8366829562286968,
           0.24017191656895553,
           -0.07685487279765235
          ],
          [
           0.8919101169740871,
           -0.24908935194555903,
           0.35717923497147197
          ],
          [
           1.9934198029099623,
           1.5942572161775685,
           -2.587677019087531
          ],
          [
           -0.34434040294402485,
           0.3830194313706139,
           0.961320971573411
          ],
          [
           -0.4372421581430656,
           0.9992341911017926,
           0.4380079670412731
          ],
          [
           0.5195027303351791,
           1.924413863241183,
           -1.443916593576362
          ],
          [
           1.8233850848327586,
           0.1927089869885581,
           -1.0160940718213167
          ],
          [
           0.5260814152740196,
           0.05435899833308744,
           0.4195595863928929
          ],
          [
           0.3527187054916274,
           0.9444177812096093,
           -0.2971364867012367
          ],
          [
           -0.3616512399988174,
           1.5897873701412069,
           -0.22813613014238943
          ],
          [
           0.32179989855643365,
           1.9229215866943847,
           -1.2447214852508184
          ],
          [
           1.4638432043311638,
           0.43584703577739714,
           -0.8996902401085609
          ],
          [
           0.012863673969193856,
           0.02507108307981276,
           0.9620652429509934
          ],
          [
           1.6003151009189795,
           1.635917535020551,
           -2.2362326359395306
          ],
          [
           0.6382086820514599,
           1.4775878080325073,
           -1.1157964900839672
          ],
          [
           1.4905264163946512,
           0.6021561275116305,
           -1.0926825439062817
          ],
          [
           0.7536521918635328,
           0.7272618077669064,
           -0.48091399963043924
          ],
          [
           1.635532274792701,
           1.2052858974990228,
           -1.8408181722917236
          ],
          [
           1.0415514614914902,
           1.5636669499089413,
           -1.6052184114004318
          ],
          [
           1.6140846922879324,
           0.8029826341191373,
           -1.4170673264070697
          ],
          [
           1.8252066226276211,
           -0.48570560218526193,
           -0.3395010204423592
          ],
          [
           1.470284612548305,
           1.6331049456365472,
           -2.103389558184852
          ],
          [
           -0.2647291573371178,
           -0.3689488222393862,
           1.633677979576504
          ],
          [
           0.5952914129549229,
           1.5639782184475326,
           -1.1592696314024558
          ],
          [
           1.5449348461766768,
           1.05635197449933,
           -1.6012868206760067
          ],
          [
           0.073935043253469,
           1.5258191645479737,
           -0.5997542078014426
          ],
          [
           1.6010861678858412,
           1.9964698353025194,
           -2.5975560031883607
          ],
          [
           1.3574108897030368,
           -0.2590619703137138,
           -0.098348919389323
          ],
          [
           -0.40345109235711146,
           1.3954672869993163,
           0.007983805357795193
          ],
          [
           1.6221010717105067,
           1.6860278198454535,
           -2.30812889155596
          ],
          [
           0.7067965615749856,
           0.66906831308624,
           -0.37586487466122565
          ],
          [
           1.739515868691298,
           1.0308559253273193,
           -1.770371794018617
          ],
          [
           0.029887617631560337,
           1.2568201282433145,
           -0.2867077458748748
          ],
          [
           0.2717832339910685,
           -0.0748105631111391,
           0.8030273291200706
          ],
          [
           -0.4465535442618294,
           1.8540331648730488,
           -0.40747962061121945
          ],
          [
           0.5364489268530128,
           1.4129418458411394,
           -0.9493907726941522
          ],
          [
           0.05638336070099581,
           1.9535533597058423,
           -1.009936720406838
          ],
          [
           0.7905534002160526,
           1.0652427407445069,
           -0.8557961409605594
          ],
          [
           0.9148597083018053,
           0.3613667247288592,
           -0.2762264330306645
          ],
          [
           1.6243737720643119,
           1.1827892297318368,
           -1.8071630017961486
          ],
          [
           1.338792242682644,
           -0.11275506498087406,
           -0.22603717770177
          ],
          [
           0.762097632201518,
           1.7233871627131752,
           -1.4854847949146932
          ],
          [
           0.9425861511776195,
           1.5633829847609957,
           -1.5059691359386154
          ],
          [
           0.0751244288494004,
           0.3503521018993734,
           0.5745234692512262
          ],
          [
           1.078003551514235,
           0.4021376834196193,
           -0.4801412349338543
          ],
          [
           0.5163277446613876,
           1.321596664953427,
           -0.8379244096148146
          ],
          [
           1.666539236409196,
           0.15606752580085914,
           -0.822606762210055
          ],
          [
           1.8221985675453252,
           1.6369461408913297,
           -2.459144708436655
          ],
          [
           0.5319114495759452,
           0.552353088443734,
           -0.08426453801967915
          ],
          [
           0.19421058062035745,
           1.03620557928132,
           -0.23041615990167763
          ],
          [
           0.4925416627240202,
           0.4825590338038964,
           0.024899303472083356
          ],
          [
           0.12078523378823935,
           1.105989528899499,
           -0.22677476268773833
          ],
          [
           0.7075969427654787,
           1.4171112868801299,
           -1.1247082296456083
          ],
          [
           0.33430546677512873,
           1.4632114581211122,
           -0.7975169248962408
          ],
          [
           1.615851653378935,
           -0.46781058525102126,
           -0.14804106812791384
          ],
          [
           -0.3954320501972068,
           0.7428290421349966,
           0.6526030080622103
          ],
          [
           -0.44332332433515653,
           0.6331743072753673,
           0.8101490170597893
          ],
          [
           0.9214371055284192,
           0.365847017299217,
           -0.28728412282763616
          ],
          [
           -0.020887943634517014,
           1.7397277976684857,
           -0.7188398540339687
          ],
          [
           -0.07639417220919664,
           0.5753026062001139,
           0.5010915660090828
          ],
          [
           0.6405704117759514,
           -0.19269211178342693,
           0.5521217000074755
          ],
          [
           1.5683438099964366,
           -0.3020771632680956,
           -0.266266646728341
          ],
          [
           0.6178061541307416,
           1.6216802989284673,
           -1.2394864530592091
          ],
          [
           0.8321965744825675,
           0.7211227993893243,
           -0.5533193738718918
          ],
          [
           1.4810088747444077,
           0.06189754649072998,
           -0.5429064212351378
          ],
          [
           1.3328397631261102,
           1.877400571791478,
           -2.210240334917588
          ],
          [
           0.9675586305030146,
           0.8677531529764306,
           -0.8353117834794452
          ],
          [
           0.7996391338544078,
           0.9160055586991351,
           -0.7156446925535429
          ],
          [
           0.6478065292503143,
           0.06081523969973901,
           0.29137823104994665
          ],
          [
           1.0049219273869614,
           1.9562739912998728,
           -1.9611959186868342
          ],
          [
           -0.42413527273484475,
           0.96070914876428,
           0.4634261239705647
          ],
          [
           1.1851491956983058,
           -0.19244035766257256,
           0.0072911619642668235
          ],
          [
           0.11778119574614099,
           0.6075269129106693,
           0.2746918913431897
          ],
          [
           1.0566693016289417,
           1.42753038612277,
           -1.4841996877517118
          ],
          [
           0.34690294730483395,
           1.289336455699528,
           -0.6362394030043619
          ],
          [
           0.8117690451416157,
           1.090768707781667,
           -0.9025377529232828
          ],
          [
           0.6029635309981236,
           0.9504159478032461,
           -0.5533794788013697
          ],
          [
           0.45185530200675217,
           1.2781312633039903,
           -0.7299865653107425
          ],
          [
           1.7411028611419521,
           0.8069889250147209,
           -1.548091786156673
          ],
          [
           0.102815194661942,
           -0.18550581348088663,
           1.0826906188189447
          ],
          [
           0.18598053362667866,
           1.1252656052126437,
           -0.3112461388393224
          ],
          [
           1.325866577799977,
           0.0045789801310723854,
           -0.33044555793104946
          ],
          [
           -0.47274251359266756,
           1.0272334962830558,
           0.4455090173096117
          ],
          [
           0.0052936073343994305,
           0.4996635785084257,
           0.4950428141571749
          ],
          [
           1.4205120699937714,
           0.651755023699851,
           -1.0722670936936227
          ],
          [
           0.9282639857953909,
           1.2996201206986733,
           -1.2278841064940642
          ],
          [
           1.484156626824647,
           0.18512839008475956,
           -0.6692850169094067
          ],
          [
           0.41579015073060455,
           0.8385426204343118,
           -0.25433277116491637
          ],
          [
           1.1627351358913094,
           0.3083144343385782,
           -0.4710495702298876
          ],
          [
           1.6598621370588185,
           1.4924304733077103,
           -2.152292610366529
          ],
          [
           0.15472309475844348,
           0.31506236210873106,
           0.5302145431328255
          ],
          [
           0.7283438714416377,
           0.9909879618773327,
           -0.7193318333189704
          ],
          [
           0.6432350590247451,
           1.1887675931764106,
           -0.8320026522011557
          ],
          [
           0.955426018874181,
           0.6125294910958095,
           -0.5679555099699904
          ],
          [
           -0.12494867775235768,
           1.7906706318383057,
           -0.665721954085948
          ],
          [
           0.601602653596119,
           -0.26929113470831834,
           0.6676884811121994
          ],
          [
           1.3622425124769795,
           1.444615887671346,
           -1.8068584001483252
          ],
          [
           1.9525280890642782,
           1.5431781337861339,
           -2.495706222850412
          ],
          [
           0.09086985118571822,
           -0.441124060461545,
           1.3502542092758267
          ],
          [
           0.9129439573747014,
           0.45055273977427024,
           -0.3634966971489715
          ],
          [
           1.4279591919896033,
           -0.2837462862190491,
           -0.14421290577055412
          ],
          [
           0.6966164620816122,
           0.626373874450288,
           -0.32299033653190024
          ],
          [
           0.6588393419142617,
           0.420952033192016,
           -0.07979137510627776
          ],
          [
           -0.47704586852121544,
           0.2771314887777345,
           1.1999143797434808
          ],
          [
           1.4746561016471356,
           1.5650702078040006,
           -2.039726309451136
          ],
          [
           0.7568620659216827,
           1.870917889285797,
           -1.6277799552074796
          ],
          [
           1.6240575997688218,
           -0.3066397419916751,
           -0.3174178577771467
          ],
          [
           1.4054936597342707,
           0.7606467637193717,
           -1.1661404234536423
          ],
          [
           0.011655087662043817,
           0.8081993692037219,
           0.18014554313423425
          ],
          [
           0.6192666673094629,
           0.44260943843450096,
           -0.06187610574396385
          ],
          [
           0.7837731604912741,
           0.8639808321605615,
           -0.6477539926518356
          ],
          [
           1.1584176471796184,
           1.6445305683150466,
           -1.802948215494665
          ],
          [
           -0.41685705931128453,
           0.6663904680606523,
           0.7504665912506323
          ],
          [
           0.23487400947690928,
           0.8902663095917556,
           -0.12514031906866485
          ],
          [
           1.5642871952635695,
           1.0966614759348532,
           -1.6609486711984225
          ],
          [
           0.292641611767263,
           1.4809121889758539,
           -0.7735538007431169
          ],
          [
           1.2881458351236066,
           1.91534470953746,
           -2.203490544661067
          ],
          [
           0.8435276089052206,
           1.2062570263600088,
           -1.0497846352652296
          ],
          [
           0.08610348095828635,
           1.8507460670252471,
           -0.9368495479835335
          ],
          [
           1.4594239665449897,
           0.1753879853713629,
           -0.6348119519163526
          ],
          [
           0.43920377872877936,
           1.9568056961035762,
           -1.3960094748323555
          ],
          [
           1.2696383876573516,
           1.5842297465534925,
           -1.853868134210844
          ],
          [
           1.7648155726765626,
           1.5840260612045576,
           -2.34884163388112
          ],
          [
           0.036964489048093796,
           1.4322730721957821,
           -0.46923756124387594
          ],
          [
           0.5472720457399742,
           0.1059587411306333,
           0.34676921312939246
          ],
          [
           -0.09878921862248768,
           0.2789161643204018,
           0.8198730543020859
          ],
          [
           -0.16197435953126765,
           1.3077301035902213,
           -0.14575574405895364
          ],
          [
           -0.3985476532186853,
           -0.4249486484185151,
           1.8234963016372003
          ],
          [
           1.723938391925984,
           0.9987385052708118,
           -1.7226768971967958
          ],
          [
           0.5359522115091404,
           -0.1565823420305416,
           0.6206301305214013
          ],
          [
           -0.2769404923722944,
           -0.23976428449551568,
           1.5167047768678101
          ],
          [
           0.6800640662368453,
           1.0885141649076777,
           -0.7685782311445231
          ],
          [
           0.8914682887195928,
           -0.24479513805302594,
           0.35332684933343317
          ],
          [
           -0.2807570439492694,
           1.6349649027135174,
           -0.3542078587642479
          ],
          [
           1.423617908557119,
           1.1430750816978057,
           -1.566692990254925
          ],
          [
           1.0596197302712953,
           0.4892064983392529,
           -0.5488262286105483
          ],
          [
           1.817953444808293,
           0.478226595216686,
           -1.296180040024979
          ],
          [
           -0.38971971711249925,
           0.7070047442416425,
           0.6827149728708568
          ],
          [
           1.4345266894634268,
           0.7678168011664579,
           -1.2023434906298847
          ],
          [
           0.8433887815576553,
           0.9625904624112827,
           -0.8059792439689379
          ],
          [
           0.6190218749614749,
           0.3832058661029094,
           -0.002227741064384281
          ],
          [
           -0.27979711123251605,
           0.4071631293242923,
           0.8726339819082237
          ],
          [
           1.3740185332416406,
           1.031261429006214,
           -1.405279962247855
          ],
          [
           0.7915821764055044,
           -0.2660804243069124,
           0.47449824790140793
          ],
          [
           1.7482473220646773,
           -0.3112111947192762,
           -0.4370361273454011
          ],
          [
           1.4933725799135393,
           1.7440510994907008,
           -2.23742367940424
          ],
          [
           1.6054236321273052,
           0.7420200366978018,
           -1.347443668825107
          ],
          [
           1.5702235002448481,
           0.15747602534681615,
           -0.7276995255916643
          ],
          [
           0.7750987023676739,
           1.9086343900205796,
           -1.6837330923882536
          ],
          [
           1.1073650796163137,
           0.03975356277515041,
           -0.1471186423914641
          ],
          [
           0.9273177821585921,
           0.9292003151032886,
           -0.8565180972618807
          ],
          [
           -0.15700477506300947,
           0.4094422419604381,
           0.7475625331025714
          ],
          [
           1.0363041422459727,
           -0.34590755569114295,
           0.3096034134451703
          ],
          [
           1.8600056543230075,
           0.34690513145204815,
           -1.2069107857750554
          ],
          [
           1.8631743121352464,
           0.5737940357253493,
           -1.4369683478605957
          ],
          [
           0.6338051176585731,
           1.7676281035162509,
           -1.4014332211748242
          ],
          [
           0.7910128391908557,
           1.9100791117188622,
           -1.701091950909718
          ],
          [
           -0.10176277132019335,
           0.4903705451630054,
           0.611392226157188
          ],
          [
           -0.16039575553127278,
           1.490993071422594,
           -0.33059731589132135
          ],
          [
           0.6081262583491858,
           1.5021609121717092,
           -1.1102871705208948
          ],
          [
           -0.41841957047965517,
           1.9685729064463988,
           -0.5501533359667437
          ],
          [
           0.44227561631751666,
           -0.14526979958404557,
           0.702994183266529
          ],
          [
           0.8780083974766568,
           0.011791130694964957,
           0.11020047182837822
          ],
          [
           0.306582130056551,
           0.9188597081135548,
           -0.22544183817010577
          ],
          [
           1.52688220452273,
           1.6112245662898954,
           -2.1381067708126253
          ],
          [
           0.30791210452649165,
           -0.14073242413726272,
           0.8328203196107711
          ],
          [
           1.247411363556084,
           0.16117786934739597,
           -0.4085892329034799
          ],
          [
           0.40755427533013633,
           1.8945364364176966,
           -1.3020907117478329
          ],
          [
           1.4917576510089952,
           0.6535819742153832,
           -1.1453396252243784
          ],
          [
           0.1703873618098175,
           0.7286411425720325,
           0.10097149561815
          ],
          [
           1.6813910081718086,
           0.8085453818575292,
           -1.4899363900293379
          ],
          [
           0.10834439074755442,
           0.3329746468487156,
           0.55868096240373
          ],
          [
           0.6220091736756808,
           0.2373808459326031,
           0.14060998039171613
          ],
          [
           1.2238467771365105,
           1.2797048677602167,
           -1.503551644896727
          ],
          [
           0.9979227474787096,
           0.5652038905749903,
           -0.5631266380536999
          ],
          [
           -0.32753661785114474,
           -0.21137814343482897,
           1.5389147612859737
          ],
          [
           1.464545252903427,
           0.6790996229088759,
           -1.1436448758123028
          ],
          [
           1.7531505025431273,
           1.9059063963485752,
           -2.6590568988917025
          ],
          [
           0.3705796350404632,
           1.0253476706788787,
           -0.39592730571934176
          ],
          [
           1.9144164852995105,
           -0.49092228871261506,
           -0.42349419658689547
          ],
          [
           -0.2572360593954313,
           0.06346020674873842,
           1.1937758526466928
          ],
          [
           0.9019978277546721,
           1.0818444470382274,
           -0.9838422747928994
          ],
          [
           1.614607916027948,
           0.2469147620089478,
           -0.8615226780368959
          ],
          [
           1.9886011847587355,
           -0.1274842868075558,
           -0.8611168979511796
          ],
          [
           0.29055443328672514,
           1.0935337498172761,
           -0.3840881831040013
          ],
          [
           -0.3334423216194472,
           -0.30764324768773676,
           1.641085569307184
          ],
          [
           1.7278663346457703,
           0.06990699891282803,
           -0.7977733335585984
          ],
          [
           -0.2361839090577515,
           1.051838349278965,
           0.18434555977878664
          ],
          [
           0.3785075847734083,
           -0.24676228029792507,
           0.8682546955245167
          ]
         ],
         "hovertemplate": "Asset 1: %{customdata[0]:.1%}<br>Asset 2: %{customdata[1]:.1%}<br>Asset 3: %{customdata[2]:.1%}<br><extra></extra>",
         "mode": "markers",
         "name": "Random Portfolios",
         "type": "scatter",
         "x": [
          0.19330922280132054,
          0.16698073583769013,
          0.20419180517048724,
          0.16790929276378236,
          0.1885181449837581,
          0.1949198676093469,
          0.15181571539945088,
          0.2729890457484061,
          0.15704912060859832,
          0.17872882469858212,
          0.25703775392836054,
          0.15679281070814552,
          0.23762097770435747,
          0.2828129458470683,
          0.23766265573239065,
          0.16620664237107868,
          0.1516153625416768,
          0.1902711114071953,
          0.15484362170388644,
          0.26765653238114073,
          0.321866357524111,
          0.17931761829808615,
          0.14495183494775893,
          0.2718161655241387,
          0.2318776106215529,
          0.17355574011339944,
          0.14541086231943012,
          0.19559258498021567,
          0.18956812343321705,
          0.2383864264109687,
          0.1621770537600229,
          0.14657829956204133,
          0.16102978400922555,
          0.222796249580213,
          0.14486684720695317,
          0.28255426927012095,
          0.24557965762166004,
          0.22157359692734857,
          0.1682820913064397,
          0.28360950893753506,
          0.24320075734972438,
          0.14902614440518153,
          0.14727281326238678,
          0.17635600077806177,
          0.15267731718396413,
          0.19059714197680774,
          0.15689714098954616,
          0.1614998104247491,
          0.1983775420036817,
          0.31981568670521926,
          0.17185134595734966,
          0.1517915169731504,
          0.1802805166426841,
          0.20072366126746333,
          0.22408462870971815,
          0.3146197360543338,
          0.2450685552717999,
          0.19141749518915235,
          0.19455011379225812,
          0.2035756146096642,
          0.2283409754633974,
          0.22515343028144935,
          0.21279782870609568,
          0.20477715921302844,
          0.16809286750935726,
          0.18467651622545556,
          0.2632327526478362,
          0.3318254318605258,
          0.20058283051954723,
          0.2161538983684709,
          0.1633602820343677,
          0.19416853861141434,
          0.21598344061709324,
          0.22868445600027762,
          0.3335088748663003,
          0.19301479897043694,
          0.25754167632755903,
          0.33896159915458685,
          0.1588270443716728,
          0.3235902726853222,
          0.15748865914033364,
          0.20940340223368104,
          0.16418096256180958,
          0.2369914678194526,
          0.16098344028182696,
          0.14462852729338357,
          0.150637642999172,
          0.17966033130029502,
          0.18171363958398298,
          0.17326868544514404,
          0.14657635982921152,
          0.1834786827920085,
          0.23407410109483878,
          0.24735790820301334,
          0.1938447500220125,
          0.17820528747710146,
          0.18935412815766828,
          0.19422095827182814,
          0.1529320242516265,
          0.21219623188716627,
          0.17955635269434086,
          0.14602895547117986,
          0.2127339497030572,
          0.16038803857689474,
          0.18215051397972537,
          0.17503154944945076,
          0.2509828020003376,
          0.2511936837194536,
          0.2010498456406048,
          0.18697569013291168,
          0.14402370460721456,
          0.1943694063012514,
          0.2927259881336927,
          0.24879022015544294,
          0.1879539842641874,
          0.15226812716479735,
          0.2614756004740132,
          0.1613179733724382,
          0.19778941547665088,
          0.209988519764026,
          0.1697469547640874,
          0.1563188316098573,
          0.17395701723804596,
          0.1887834807832573,
          0.18726919498237568,
          0.35566902811552253,
          0.23366924580687812,
          0.16983464474578935,
          0.17157949409178266,
          0.15151383736022228,
          0.20979310673163484,
          0.17177216374179033,
          0.14485459129627432,
          0.2858660203359989,
          0.15645694263553714,
          0.19021809627388891,
          0.16949170211778938,
          0.22659285609378324,
          0.24943408934455708,
          0.2588876089089888,
          0.1480127379516107,
          0.26182107961178175,
          0.21072891416654022,
          0.19468106294352167,
          0.18688542744196138,
          0.20179906186444896,
          0.18934551897511928,
          0.19632339545578806,
          0.27575177829283204,
          0.16957806124399158,
          0.1615490098992675,
          0.1593363568941168,
          0.19098230708424063,
          0.15661255179295672,
          0.19977363140646065,
          0.2540543344943809,
          0.18971896018698944,
          0.1876268748158453,
          0.1585094769167349,
          0.14738039134520625,
          0.15217886103227976,
          0.2135765830106075,
          0.19351352546419165,
          0.14465245020956827,
          0.18891375229559765,
          0.20686788017699054,
          0.20868303707969374,
          0.15983334415994124,
          0.2705285484131798,
          0.1952845062996914,
          0.15702858518582735,
          0.22470079514353852,
          0.16205252218184502,
          0.16766032677362752,
          0.2877935550937007,
          0.19472236267971357,
          0.15943490729538876,
          0.1564392652866469,
          0.15133449694886492,
          0.2029258207813197,
          0.2214452735346764,
          0.16408126733096276,
          0.19446515445603094,
          0.20403331720423656,
          0.19116944243481085,
          0.1579389600121756,
          0.16790802739100216,
          0.1510317432716895,
          0.2153820365310629,
          0.21732508457271746,
          0.1761497833061057,
          0.14439320978093745,
          0.18610840505474902,
          0.2532136483744935,
          0.18086078056001487,
          0.2564204026873892,
          0.18101295064839767,
          0.1996322946982529,
          0.19819412494390246,
          0.2724094075226182,
          0.16942883791757418,
          0.1523614289330606,
          0.19327547798989578,
          0.17576873650598268,
          0.1733976524763475,
          0.16923819752605368,
          0.17812555646671138,
          0.17052034468371083,
          0.14422880755837897,
          0.14394578712132067,
          0.17877017410071358,
          0.2023467163165994,
          0.21411930363645434,
          0.14942541618914718,
          0.16383154684108261,
          0.14738825268081585,
          0.14932240228605465,
          0.19694879266586227,
          0.17406900008297466,
          0.19397005353668717,
          0.28310190037285543,
          0.15182490453146014,
          0.16511446212670963,
          0.2509592535211947,
          0.27361835676062324,
          0.18681127436856942,
          0.1558187814108253,
          0.1726093563171334,
          0.3470472403564121,
          0.20827968110002376,
          0.21663329748006777,
          0.1565971878177512,
          0.21330151008710563,
          0.14878705508504256,
          0.336016271425002,
          0.17859671274953393,
          0.1841346029516949,
          0.36868223550158463,
          0.25330347340872694,
          0.15727640035810342,
          0.1507986478423818,
          0.1696064297439391,
          0.2035056301789005,
          0.1583944377199275,
          0.22725717487233893,
          0.22257328616938496,
          0.21220674520176103,
          0.20246733209212986,
          0.15370514696088944,
          0.17085772745645503,
          0.2823716980008676,
          0.2650083316067857,
          0.24947655675888963,
          0.1844098274332139,
          0.26701696421592747,
          0.1848229874962223,
          0.19904041089639785,
          0.3439368440268065,
          0.18239584768677472,
          0.18740586472692378,
          0.16862965592422247,
          0.17294797812422794,
          0.14875884232888062,
          0.14872398750330992,
          0.38252650057621906,
          0.18113306391527859,
          0.15648185168717818,
          0.21868604167686162,
          0.2246360494034278,
          0.1526955638767972,
          0.21501265234219866,
          0.1687288135153076,
          0.2870881676621762,
          0.14885868370855643,
          0.14572297331579817,
          0.33543771663229266,
          0.2275054686667012,
          0.17186343088499934,
          0.15471594173032993,
          0.16770444959881262,
          0.2608240857319841,
          0.1519572299253377,
          0.19747931223242307,
          0.21238455317685143,
          0.1764087859302172,
          0.2716572714470884,
          0.3061813005828398,
          0.1553391531327139,
          0.21688102236416013,
          0.1919198647432241,
          0.18371943805407226,
          0.31474006194102794,
          0.1756644933806722,
          0.24765434872519598,
          0.21050506419930565,
          0.22275607867435054,
          0.16177897129182953,
          0.17809055613406646,
          0.22830710041163838,
          0.1810469304023352,
          0.22853242637022647,
          0.2371593713406729,
          0.217903403346348,
          0.2572648230453986,
          0.18637922426799616,
          0.2151306510681137,
          0.32529613713433575,
          0.21903630659835502,
          0.18313649979189195,
          0.18459785479234384,
          0.14463155828332946,
          0.1450663341220149,
          0.16551315385489804,
          0.3372484112840574,
          0.21451482867963817,
          0.19345347783168368,
          0.2368334053499517,
          0.1915065768460884,
          0.16354422993908158,
          0.15428867780553276,
          0.19429329112659563,
          0.22576075368991072,
          0.17366300536718454,
          0.20661271626855107,
          0.29828818910358024,
          0.1979392008413181,
          0.18622784653375854,
          0.149744446392811,
          0.2545281715716489,
          0.2358291266160981,
          0.21361508096734663,
          0.1812223159783544,
          0.28432157807626285,
          0.27357835919564105,
          0.20385076821655712,
          0.23008898935659283,
          0.18411658666291297,
          0.3411346722157258,
          0.16022685414182786,
          0.19028035941887275,
          0.3064305594817352,
          0.1469381918398263,
          0.24787163184663963,
          0.1700314091995077,
          0.1915396080766489,
          0.20973364211575288,
          0.18689721399211104,
          0.2186476162338285,
          0.1707880726115827,
          0.1445573079380398,
          0.25101444812878176,
          0.15604273484569353,
          0.23119456718504935,
          0.22763040250556418,
          0.1774921226738906,
          0.14939368467249567,
          0.17845793305331226,
          0.17664422115434636,
          0.32269916037150964,
          0.1461360705098963,
          0.15927745381619698,
          0.14782874546602637,
          0.16287254828338796,
          0.19623412093954282,
          0.18374736333150196,
          0.17293084696544478,
          0.19854549289383314,
          0.20869025465126934,
          0.1446779599870214,
          0.19889554933420278,
          0.17820822863212804,
          0.1740278144194148,
          0.16677783737142626,
          0.2108975501040496,
          0.15174029483465953,
          0.1616144672601308,
          0.2989931673291004,
          0.16626207334848392,
          0.16093105800502155,
          0.15681006553269144,
          0.2774635672569596,
          0.19331805018265794,
          0.1564667435366009,
          0.16293278324757557,
          0.2225411589353944,
          0.17134120085648627,
          0.17386341800423796,
          0.1563665762341449,
          0.1730059334781435,
          0.2269364630297028,
          0.21675399326528508,
          0.16233975075867463,
          0.15431962340184077,
          0.1957432038974553,
          0.17516701575382274,
          0.1837099017515095,
          0.19962822406387132,
          0.16454347878484124,
          0.15082584379052028,
          0.15057722933478038,
          0.2883265954511828,
          0.17322601198767343,
          0.16273267719654033,
          0.1732191172929109,
          0.15160555101621923,
          0.20213321427510392,
          0.18274999419598073,
          0.25226432284285694,
          0.3267010383590068,
          0.24338752568409922,
          0.1455505281544793,
          0.16230370605681024,
          0.1457862133993997,
          0.1447003169303526,
          0.23671724359706905,
          0.2770033907507268,
          0.24719771931982085,
          0.16900099528588736,
          0.1905610781788488,
          0.16502525976420798,
          0.14516410561290816,
          0.15719910433618908,
          0.2551659138924031,
          0.20429223041646866,
          0.15522016704406666,
          0.23603219008971954,
          0.18405170157884956,
          0.29909246905727,
          0.18531468815652108,
          0.21002910999103225,
          0.1627052555284416,
          0.23555485079273228,
          0.25879192353933594,
          0.31021155391130334,
          0.17834006602647542,
          0.1593017567691044,
          0.19752641426102654,
          0.17728811627985502,
          0.294622562867332,
          0.24304764561114986,
          0.1779528968124381,
          0.2616403368723034,
          0.16738263703976924,
          0.16523813487711259,
          0.1940095519478615,
          0.22664302187729046,
          0.15124007940031287,
          0.2083229591217469,
          0.1996683761699743,
          0.19369378658751732,
          0.16605853501974305,
          0.1460029105110335,
          0.20629477860304246,
          0.211115103553504,
          0.17123342309760203,
          0.17492109967515432,
          0.29959449692462436,
          0.20759674952820317,
          0.16952239612001857,
          0.2528757203439803,
          0.1490669463529342,
          0.16823183285524645,
          0.1942687727263392,
          0.16713359664453792,
          0.20366478617965547,
          0.2201431381882251,
          0.22712624201447454,
          0.25427096955837575,
          0.1845384257839242,
          0.18419887465747728,
          0.1986023482229681,
          0.21633027528689558,
          0.18375979991593253,
          0.1513545809419939,
          0.15416976889126047,
          0.2876854884406426,
          0.19410266342310964,
          0.15178713448747447,
          0.22715623676483127,
          0.19002558639022152,
          0.157489642724141,
          0.2208932489017387,
          0.1758277227036792,
          0.14986707584440515,
          0.22175184695020786,
          0.15143608350127002,
          0.2644187054314447,
          0.1895052970781441,
          0.34675269092534705,
          0.15716089713259604,
          0.18584874406509008,
          0.2307969474575241,
          0.17841655969723852,
          0.17625827693973667,
          0.19365658921942216,
          0.16016841506044055,
          0.2748799479581979,
          0.17840550872871996,
          0.17796762114133094,
          0.19761525788642142
         ],
         "y": [
          0.05576087009861963,
          0.0462235935309947,
          0.049158889107167564,
          0.07074042842380104,
          0.04194782803979674,
          0.07708420694345745,
          0.05880602677214109,
          0.0314804184356445,
          0.06538286779586487,
          0.043900274687248164,
          0.03151108386306378,
          0.05668562396980004,
          0.08553919199037255,
          0.023737392548613456,
          0.036355994951734805,
          0.047020922190031164,
          0.0650954904495207,
          0.07554704507310457,
          0.05804291288797181,
          0.03216935902322393,
          0.01828589375464279,
          0.04819207356484919,
          0.05631386019202658,
          0.029068798491803632,
          0.08390546933699969,
          0.04924515787739506,
          0.05888897218009623,
          0.07724067660008901,
          0.07205505129441522,
          0.08569934797299551,
          0.049338157558178934,
          0.05837448030164891,
          0.061762535158416246,
          0.08272723767075484,
          0.05791144325077943,
          0.024060392980537804,
          0.0345542008976647,
          0.04497946647366795,
          0.04596604607983487,
          0.027733626806773187,
          0.08656676852279119,
          0.053099563442563724,
          0.05443589885802935,
          0.07297087226787677,
          0.06347719340135793,
          0.04015871874624631,
          0.06723874157239787,
          0.0492316110982901,
          0.07462764461203407,
          0.021742023496530594,
          0.051753371526357166,
          0.06127246120144832,
          0.06679637356470354,
          0.03866666338013021,
          0.08037694327241142,
          0.01970075340701452,
          0.03366506526995336,
          0.07540291247276487,
          0.07680107353554645,
          0.038464885453067366,
          0.03258576713946462,
          0.03448911639546641,
          0.05134911322104671,
          0.04554754087315048,
          0.04590465736097585,
          0.07243569324490592,
          0.0285044776175018,
          0.019740862387113617,
          0.07688748316030092,
          0.03621741926313282,
          0.04909812320929107,
          0.07697684597209833,
          0.03502248467930645,
          0.0838719165001109,
          0.016936512535121434,
          0.0606747487790601,
          0.03142936744051886,
          0.016771638040985803,
          0.06753119133605173,
          0.01912239671754884,
          0.05354273394267894,
          0.036760872433392155,
          0.05906081235755495,
          0.031377685547662154,
          0.0480221946109419,
          0.05855109598574611,
          0.06103557661852735,
          0.044577054765937416,
          0.071452534566168,
          0.05443352330285257,
          0.06188211130299658,
          0.07271442896165892,
          0.08333957070209749,
          0.08719401343336193,
          0.07696646196375598,
          0.07339925598515439,
          0.0756185880855724,
          0.07126294431141791,
          0.051244617784470134,
          0.07828294208365216,
          0.04403835635151211,
          0.06096088742721132,
          0.051424881809201003,
          0.051282675110467066,
          0.050353993714618975,
          0.04966603638716438,
          0.08707663117611353,
          0.032560463432044884,
          0.07852700442042296,
          0.04863296307731406,
          0.0583603354452754,
          0.06319173718610205,
          0.026814195805930724,
          0.03779251356771224,
          0.07294582960427179,
          0.06540831746744487,
          0.03155610568833914,
          0.06868869523637233,
          0.047540574228445015,
          0.036228318880008506,
          0.045267295005457786,
          0.05260133461089142,
          0.05084754216479065,
          0.04486283537725313,
          0.06019790984266739,
          0.013853191103137208,
          0.039006860662711945,
          0.04706757325835423,
          0.05468984485315349,
          0.055043791359943486,
          0.08026424756277681,
          0.04719566964143351,
          0.060583447780128426,
          0.09339783786916929,
          0.050084178518012154,
          0.04022663743852267,
          0.07108293894208792,
          0.0833746094868607,
          0.08698832075097032,
          0.030056636402558123,
          0.05315381895240055,
          0.08898713913795639,
          0.036703061364600775,
          0.054814131213554364,
          0.06883561969417176,
          0.0498210315993344,
          0.04054842719698307,
          0.05824637421121362,
          0.024833069223616278,
          0.07093251968672518,
          0.06665588481689362,
          0.04848064071525718,
          0.07185663354992237,
          0.06702973754805483,
          0.038183081652359716,
          0.028791264080450574,
          0.07604266272995158,
          0.046121939430546655,
          0.06728184392916038,
          0.06288180427537521,
          0.06412342972393595,
          0.045478618343579316,
          0.07506076609321836,
          0.06000576117215242,
          0.0714865419263444,
          0.0797134024711061,
          0.0424117943892459,
          0.04922306412634836,
          0.03107259348238095,
          0.07557687462161841,
          0.06685727537646408,
          0.046717897796767105,
          0.04814422729001934,
          0.07006697734675396,
          0.09297618918100797,
          0.06553302639757945,
          0.062012391788932995,
          0.0497078595299655,
          0.06500835875964524,
          0.07829141783091653,
          0.04894667429462496,
          0.06351827578763669,
          0.06913052519982375,
          0.04733416108219077,
          0.054776033438387745,
          0.05011820947941532,
          0.06322106700094653,
          0.062153797092531396,
          0.05642464537074613,
          0.08173195590811783,
          0.0448823082648393,
          0.06010551978369357,
          0.06700095985363362,
          0.0883079714711908,
          0.07196276843608398,
          0.03611445217652309,
          0.050557472403258544,
          0.03826523515190591,
          0.04427304207689607,
          0.026742223384017688,
          0.07028395077898054,
          0.06528335007736544,
          0.0721851618443233,
          0.07190671934842907,
          0.057359442232044394,
          0.045388972104741965,
          0.04663691258093222,
          0.06775177493258977,
          0.0596542908951941,
          0.05763699849686456,
          0.07355873761240646,
          0.05344001467188929,
          0.03587557635962746,
          0.0523704706771401,
          0.06656514387007827,
          0.05368132221710358,
          0.06053390091795712,
          0.06653785464013544,
          0.07157642339615175,
          0.07702813131721034,
          0.024311835705888296,
          0.06525881641432223,
          0.04681180605134162,
          0.08784342566561021,
          0.028598456999725075,
          0.07158581391262867,
          0.057035413510665954,
          0.06421117959016287,
          0.015491377387143485,
          0.07959200562612125,
          0.04359049523987356,
          0.0505284826616844,
          0.03565614111373448,
          0.06272101997978707,
          0.018104127947239756,
          0.06795314226514466,
          0.05830623657974148,
          0.012599758080241136,
          0.08768768554519843,
          0.052863299585640615,
          0.05323519580783474,
          0.05899177505725803,
          0.037486833289724006,
          0.06449893313677622,
          0.04226117393727151,
          0.08223191110827432,
          0.07918082600383441,
          0.078409281071378,
          0.06581392615994218,
          0.06985701471774874,
          0.02611074674347394,
          0.08921028177555905,
          0.03598469393333445,
          0.07441332562588004,
          0.02685869935561877,
          0.06795342783684026,
          0.052029203189363354,
          0.01715803186405232,
          0.07436271090281607,
          0.06335219977769721,
          0.06292587999358468,
          0.07195876576955113,
          0.05742938562716758,
          0.054543890993657584,
          0.010471887995371743,
          0.054341600831447144,
          0.06606927340160829,
          0.03581137140629084,
          0.035203533325696174,
          0.050817579407319666,
          0.056301068731443145,
          0.05130566417728304,
          0.09318865412731052,
          0.05340423763485126,
          0.06162772776394492,
          0.017757367129644153,
          0.03441408007720498,
          0.05658661801586348,
          0.0604354728293934,
          0.06204761493008386,
          0.029870569757463855,
          0.05941620674678243,
          0.0516646646572063,
          0.05283339968046953,
          0.05332155893210451,
          0.025976728818467076,
          0.021880464248793696,
          0.06315225637244483,
          0.03844365640996884,
          0.07645977820099242,
          0.07222528981009249,
          0.022771605334129363,
          0.06840887813214586,
          0.030639336079389595,
          0.060777733714380174,
          0.03705144712631814,
          0.06796868295441415,
          0.04666673926183189,
          0.08332003505421738,
          0.04775268195503383,
          0.08353613217009641,
          0.03105060827317413,
          0.03489900476345589,
          0.03223543282443647,
          0.060729036970669004,
          0.07907423322515483,
          0.01876563251539365,
          0.08188120383918673,
          0.07460730256934256,
          0.044855237073357326,
          0.05641050214781694,
          0.05966376212689173,
          0.06589813793970165,
          0.016217745699137226,
          0.08114151658832129,
          0.07375633029633444,
          0.04074373744467867,
          0.040641663498516445,
          0.06866298671952328,
          0.058779359172023316,
          0.06338621424785826,
          0.04472017822845556,
          0.04418543037671577,
          0.07936666027441892,
          0.023454934956312123,
          0.045072009238483215,
          0.04115712975943252,
          0.05401802904622575,
          0.029210066041660654,
          0.03571396652153608,
          0.0356735666424543,
          0.05078145158022649,
          0.026097733564485692,
          0.09082881548033314,
          0.04463449846418853,
          0.03325602345897652,
          0.05563401166671103,
          0.01803122911274535,
          0.056737711760644974,
          0.0671370125421525,
          0.022267561268108055,
          0.05582804407220669,
          0.029746843746264268,
          0.06054994572371908,
          0.0756864937668457,
          0.061120573412140854,
          0.04807689377532266,
          0.04956903239039244,
          0.04821029088451134,
          0.05628230496303101,
          0.0297706861127362,
          0.054915481121060206,
          0.03890723991527201,
          0.03769753220503265,
          0.0732422298945214,
          0.05240786371842101,
          0.04984949513247085,
          0.0443282023848032,
          0.019001836535723543,
          0.06107647468182509,
          0.06057270469837303,
          0.06291078123846115,
          0.06099445239074272,
          0.0445913918414885,
          0.051365718792680745,
          0.05470012571118661,
          0.0767662053719192,
          0.07936885187757262,
          0.05608355262994336,
          0.054321841907663065,
          0.07289834435118223,
          0.07007897344123237,
          0.053164281249092706,
          0.04331867243345815,
          0.05253922651950879,
          0.049451359307750874,
          0.02518219616060563,
          0.04763253009529325,
          0.05026713394242483,
          0.06613164081949763,
          0.030557451582762685,
          0.0740720682232327,
          0.059183621450972466,
          0.06853147239141713,
          0.03745365817557959,
          0.05372189421841041,
          0.04740308848044268,
          0.05368449016298883,
          0.05179092501030509,
          0.03307310890194014,
          0.08072628330897447,
          0.05940140524927677,
          0.05341398374203436,
          0.07404634782760752,
          0.07239917417568563,
          0.041813433244626774,
          0.04194041847361207,
          0.04753994161223565,
          0.05910605767887323,
          0.05212058076709514,
          0.024416300159207954,
          0.07217960267320017,
          0.05056830314300725,
          0.04930378492185894,
          0.05170353725607923,
          0.055638914077472575,
          0.07200731394870238,
          0.031085911435390218,
          0.01780176621192242,
          0.0847994638832088,
          0.05498282975589193,
          0.05569701045349367,
          0.05667206264161343,
          0.06050893266383452,
          0.08538394503875828,
          0.027030824849997276,
          0.036798990342279375,
          0.052118444134498676,
          0.04048042534952402,
          0.0676439077087033,
          0.06097552507729323,
          0.05136482430776609,
          0.032163688531681944,
          0.07834128416531591,
          0.06194852516658547,
          0.032264333955705826,
          0.05193348493001693,
          0.025506912654465946,
          0.04503559242649545,
          0.05051673937545556,
          0.04818070088852975,
          0.04186383898387078,
          0.030843786048550592,
          0.020943297628400387,
          0.0577766141361014,
          0.06746517796824102,
          0.07779204190764372,
          0.06362353563677203,
          0.09434518279065143,
          0.030540154582418155,
          0.07162969090027532,
          0.08913527411487862,
          0.05007100620164792,
          0.06584256129640353,
          0.06109066733828264,
          0.034381515603390506,
          0.0514695079194853,
          0.03646753217558385,
          0.07718932317862535,
          0.0397922141932346,
          0.048693367432677645,
          0.06187147450922686,
          0.07948849528478594,
          0.03705070790007395,
          0.06815956283649359,
          0.04970322147949559,
          0.02397178190936869,
          0.036761226806986874,
          0.04623338961490078,
          0.0358685101023378,
          0.05725639496604648,
          0.04751563963027883,
          0.07699846187185361,
          0.06446253049044769,
          0.03759630994175914,
          0.034129603221414825,
          0.04080947609408475,
          0.035528556540399936,
          0.07467969724895879,
          0.06084301903928655,
          0.04530506115044067,
          0.05883979781289712,
          0.07333353466741035,
          0.062262965090042394,
          0.06008546177716567,
          0.025293987415196978,
          0.07595274427152911,
          0.05263410468866738,
          0.04343086794713184,
          0.04036111736658933,
          0.06566263562522316,
          0.03424399910870089,
          0.07283849248231818,
          0.06399910383749734,
          0.03632749144086657,
          0.051563486691800955,
          0.08972140450854534,
          0.04052260059829835,
          0.016348394003908806,
          0.05720819223900757,
          0.04907550462469899,
          0.08419281808667756,
          0.045732376739333155,
          0.04400412024930682,
          0.04214024060693862,
          0.05778590508700635,
          0.09128349514770501,
          0.04439406832339217,
          0.06894610294197057,
          0.0761312825090007
         ]
        },
        {
         "marker": {
          "color": "red",
          "size": 10
         },
         "mode": "markers",
         "name": "Asset 1",
         "type": "scatter",
         "x": [
          0.15
         ],
         "y": [
          0.06
         ]
        },
        {
         "marker": {
          "color": "red",
          "size": 10
         },
         "mode": "markers",
         "name": "Asset 2",
         "type": "scatter",
         "x": [
          0.165
         ],
         "y": [
          0.065
         ]
        },
        {
         "marker": {
          "color": "red",
          "size": 10
         },
         "mode": "markers",
         "name": "Asset 3",
         "type": "scatter",
         "x": [
          0.21
         ],
         "y": [
          0.08
         ]
        }
       ],
       "layout": {
        "legend": {
         "x": 0.01,
         "xanchor": "left",
         "y": 0.99,
         "yanchor": "top"
        },
        "template": {
         "data": {
          "bar": [
           {
            "error_x": {
             "color": "#2a3f5f"
            },
            "error_y": {
             "color": "#2a3f5f"
            },
            "marker": {
             "line": {
              "color": "#E5ECF6",
              "width": 0.5
             },
             "pattern": {
              "fillmode": "overlay",
              "size": 10,
              "solidity": 0.2
             }
            },
            "type": "bar"
           }
          ],
          "barpolar": [
           {
            "marker": {
             "line": {
              "color": "#E5ECF6",
              "width": 0.5
             },
             "pattern": {
              "fillmode": "overlay",
              "size": 10,
              "solidity": 0.2
             }
            },
            "type": "barpolar"
           }
          ],
          "carpet": [
           {
            "aaxis": {
             "endlinecolor": "#2a3f5f",
             "gridcolor": "white",
             "linecolor": "white",
             "minorgridcolor": "white",
             "startlinecolor": "#2a3f5f"
            },
            "baxis": {
             "endlinecolor": "#2a3f5f",
             "gridcolor": "white",
             "linecolor": "white",
             "minorgridcolor": "white",
             "startlinecolor": "#2a3f5f"
            },
            "type": "carpet"
           }
          ],
          "choropleth": [
           {
            "colorbar": {
             "outlinewidth": 0,
             "ticks": ""
            },
            "type": "choropleth"
           }
          ],
          "contour": [
           {
            "colorbar": {
             "outlinewidth": 0,
             "ticks": ""
            },
            "colorscale": [
             [
              0,
              "#0d0887"
             ],
             [
              0.1111111111111111,
              "#46039f"
             ],
             [
              0.2222222222222222,
              "#7201a8"
             ],
             [
              0.3333333333333333,
              "#9c179e"
             ],
             [
              0.4444444444444444,
              "#bd3786"
             ],
             [
              0.5555555555555556,
              "#d8576b"
             ],
             [
              0.6666666666666666,
              "#ed7953"
             ],
             [
              0.7777777777777778,
              "#fb9f3a"
             ],
             [
              0.8888888888888888,
              "#fdca26"
             ],
             [
              1,
              "#f0f921"
             ]
            ],
            "type": "contour"
           }
          ],
          "contourcarpet": [
           {
            "colorbar": {
             "outlinewidth": 0,
             "ticks": ""
            },
            "type": "contourcarpet"
           }
          ],
          "heatmap": [
           {
            "colorbar": {
             "outlinewidth": 0,
             "ticks": ""
            },
            "colorscale": [
             [
              0,
              "#0d0887"
             ],
             [
              0.1111111111111111,
              "#46039f"
             ],
             [
              0.2222222222222222,
              "#7201a8"
             ],
             [
              0.3333333333333333,
              "#9c179e"
             ],
             [
              0.4444444444444444,
              "#bd3786"
             ],
             [
              0.5555555555555556,
              "#d8576b"
             ],
             [
              0.6666666666666666,
              "#ed7953"
             ],
             [
              0.7777777777777778,
              "#fb9f3a"
             ],
             [
              0.8888888888888888,
              "#fdca26"
             ],
             [
              1,
              "#f0f921"
             ]
            ],
            "type": "heatmap"
           }
          ],
          "heatmapgl": [
           {
            "colorbar": {
             "outlinewidth": 0,
             "ticks": ""
            },
            "colorscale": [
             [
              0,
              "#0d0887"
             ],
             [
              0.1111111111111111,
              "#46039f"
             ],
             [
              0.2222222222222222,
              "#7201a8"
             ],
             [
              0.3333333333333333,
              "#9c179e"
             ],
             [
              0.4444444444444444,
              "#bd3786"
             ],
             [
              0.5555555555555556,
              "#d8576b"
             ],
             [
              0.6666666666666666,
              "#ed7953"
             ],
             [
              0.7777777777777778,
              "#fb9f3a"
             ],
             [
              0.8888888888888888,
              "#fdca26"
             ],
             [
              1,
              "#f0f921"
             ]
            ],
            "type": "heatmapgl"
           }
          ],
          "histogram": [
           {
            "marker": {
             "pattern": {
              "fillmode": "overlay",
              "size": 10,
              "solidity": 0.2
             }
            },
            "type": "histogram"
           }
          ],
          "histogram2d": [
           {
            "colorbar": {
             "outlinewidth": 0,
             "ticks": ""
            },
            "colorscale": [
             [
              0,
              "#0d0887"
             ],
             [
              0.1111111111111111,
              "#46039f"
             ],
             [
              0.2222222222222222,
              "#7201a8"
             ],
             [
              0.3333333333333333,
              "#9c179e"
             ],
             [
              0.4444444444444444,
              "#bd3786"
             ],
             [
              0.5555555555555556,
              "#d8576b"
             ],
             [
              0.6666666666666666,
              "#ed7953"
             ],
             [
              0.7777777777777778,
              "#fb9f3a"
             ],
             [
              0.8888888888888888,
              "#fdca26"
             ],
             [
              1,
              "#f0f921"
             ]
            ],
            "type": "histogram2d"
           }
          ],
          "histogram2dcontour": [
           {
            "colorbar": {
             "outlinewidth": 0,
             "ticks": ""
            },
            "colorscale": [
             [
              0,
              "#0d0887"
             ],
             [
              0.1111111111111111,
              "#46039f"
             ],
             [
              0.2222222222222222,
              "#7201a8"
             ],
             [
              0.3333333333333333,
              "#9c179e"
             ],
             [
              0.4444444444444444,
              "#bd3786"
             ],
             [
              0.5555555555555556,
              "#d8576b"
             ],
             [
              0.6666666666666666,
              "#ed7953"
             ],
             [
              0.7777777777777778,
              "#fb9f3a"
             ],
             [
              0.8888888888888888,
              "#fdca26"
             ],
             [
              1,
              "#f0f921"
             ]
            ],
            "type": "histogram2dcontour"
           }
          ],
          "mesh3d": [
           {
            "colorbar": {
             "outlinewidth": 0,
             "ticks": ""
            },
            "type": "mesh3d"
           }
          ],
          "parcoords": [
           {
            "line": {
             "colorbar": {
              "outlinewidth": 0,
              "ticks": ""
             }
            },
            "type": "parcoords"
           }
          ],
          "pie": [
           {
            "automargin": true,
            "type": "pie"
           }
          ],
          "scatter": [
           {
            "fillpattern": {
             "fillmode": "overlay",
             "size": 10,
             "solidity": 0.2
            },
            "type": "scatter"
           }
          ],
          "scatter3d": [
           {
            "line": {
             "colorbar": {
              "outlinewidth": 0,
              "ticks": ""
             }
            },
            "marker": {
             "colorbar": {
              "outlinewidth": 0,
              "ticks": ""
             }
            },
            "type": "scatter3d"
           }
          ],
          "scattercarpet": [
           {
            "marker": {
             "colorbar": {
              "outlinewidth": 0,
              "ticks": ""
             }
            },
            "type": "scattercarpet"
           }
          ],
          "scattergeo": [
           {
            "marker": {
             "colorbar": {
              "outlinewidth": 0,
              "ticks": ""
             }
            },
            "type": "scattergeo"
           }
          ],
          "scattergl": [
           {
            "marker": {
             "colorbar": {
              "outlinewidth": 0,
              "ticks": ""
             }
            },
            "type": "scattergl"
           }
          ],
          "scattermapbox": [
           {
            "marker": {
             "colorbar": {
              "outlinewidth": 0,
              "ticks": ""
             }
            },
            "type": "scattermapbox"
           }
          ],
          "scatterpolar": [
           {
            "marker": {
             "colorbar": {
              "outlinewidth": 0,
              "ticks": ""
             }
            },
            "type": "scatterpolar"
           }
          ],
          "scatterpolargl": [
           {
            "marker": {
             "colorbar": {
              "outlinewidth": 0,
              "ticks": ""
             }
            },
            "type": "scatterpolargl"
           }
          ],
          "scatterternary": [
           {
            "marker": {
             "colorbar": {
              "outlinewidth": 0,
              "ticks": ""
             }
            },
            "type": "scatterternary"
           }
          ],
          "surface": [
           {
            "colorbar": {
             "outlinewidth": 0,
             "ticks": ""
            },
            "colorscale": [
             [
              0,
              "#0d0887"
             ],
             [
              0.1111111111111111,
              "#46039f"
             ],
             [
              0.2222222222222222,
              "#7201a8"
             ],
             [
              0.3333333333333333,
              "#9c179e"
             ],
             [
              0.4444444444444444,
              "#bd3786"
             ],
             [
              0.5555555555555556,
              "#d8576b"
             ],
             [
              0.6666666666666666,
              "#ed7953"
             ],
             [
              0.7777777777777778,
              "#fb9f3a"
             ],
             [
              0.8888888888888888,
              "#fdca26"
             ],
             [
              1,
              "#f0f921"
             ]
            ],
            "type": "surface"
           }
          ],
          "table": [
           {
            "cells": {
             "fill": {
              "color": "#EBF0F8"
             },
             "line": {
              "color": "white"
             }
            },
            "header": {
             "fill": {
              "color": "#C8D4E3"
             },
             "line": {
              "color": "white"
             }
            },
            "type": "table"
           }
          ]
         },
         "layout": {
          "annotationdefaults": {
           "arrowcolor": "#2a3f5f",
           "arrowhead": 0,
           "arrowwidth": 1
          },
          "autotypenumbers": "strict",
          "coloraxis": {
           "colorbar": {
            "outlinewidth": 0,
            "ticks": ""
           }
          },
          "colorscale": {
           "diverging": [
            [
             0,
             "#8e0152"
            ],
            [
             0.1,
             "#c51b7d"
            ],
            [
             0.2,
             "#de77ae"
            ],
            [
             0.3,
             "#f1b6da"
            ],
            [
             0.4,
             "#fde0ef"
            ],
            [
             0.5,
             "#f7f7f7"
            ],
            [
             0.6,
             "#e6f5d0"
            ],
            [
             0.7,
             "#b8e186"
            ],
            [
             0.8,
             "#7fbc41"
            ],
            [
             0.9,
             "#4d9221"
            ],
            [
             1,
             "#276419"
            ]
           ],
           "sequential": [
            [
             0,
             "#0d0887"
            ],
            [
             0.1111111111111111,
             "#46039f"
            ],
            [
             0.2222222222222222,
             "#7201a8"
            ],
            [
             0.3333333333333333,
             "#9c179e"
            ],
            [
             0.4444444444444444,
             "#bd3786"
            ],
            [
             0.5555555555555556,
             "#d8576b"
            ],
            [
             0.6666666666666666,
             "#ed7953"
            ],
            [
             0.7777777777777778,
             "#fb9f3a"
            ],
            [
             0.8888888888888888,
             "#fdca26"
            ],
            [
             1,
             "#f0f921"
            ]
           ],
           "sequentialminus": [
            [
             0,
             "#0d0887"
            ],
            [
             0.1111111111111111,
             "#46039f"
            ],
            [
             0.2222222222222222,
             "#7201a8"
            ],
            [
             0.3333333333333333,
             "#9c179e"
            ],
            [
             0.4444444444444444,
             "#bd3786"
            ],
            [
             0.5555555555555556,
             "#d8576b"
            ],
            [
             0.6666666666666666,
             "#ed7953"
            ],
            [
             0.7777777777777778,
             "#fb9f3a"
            ],
            [
             0.8888888888888888,
             "#fdca26"
            ],
            [
             1,
             "#f0f921"
            ]
           ]
          },
          "colorway": [
           "#636efa",
           "#EF553B",
           "#00cc96",
           "#ab63fa",
           "#FFA15A",
           "#19d3f3",
           "#FF6692",
           "#B6E880",
           "#FF97FF",
           "#FECB52"
          ],
          "font": {
           "color": "#2a3f5f"
          },
          "geo": {
           "bgcolor": "white",
           "lakecolor": "white",
           "landcolor": "#E5ECF6",
           "showlakes": true,
           "showland": true,
           "subunitcolor": "white"
          },
          "hoverlabel": {
           "align": "left"
          },
          "hovermode": "closest",
          "mapbox": {
           "style": "light"
          },
          "paper_bgcolor": "white",
          "plot_bgcolor": "#E5ECF6",
          "polar": {
           "angularaxis": {
            "gridcolor": "white",
            "linecolor": "white",
            "ticks": ""
           },
           "bgcolor": "#E5ECF6",
           "radialaxis": {
            "gridcolor": "white",
            "linecolor": "white",
            "ticks": ""
           }
          },
          "scene": {
           "xaxis": {
            "backgroundcolor": "#E5ECF6",
            "gridcolor": "white",
            "gridwidth": 2,
            "linecolor": "white",
            "showbackground": true,
            "ticks": "",
            "zerolinecolor": "white"
           },
           "yaxis": {
            "backgroundcolor": "#E5ECF6",
            "gridcolor": "white",
            "gridwidth": 2,
            "linecolor": "white",
            "showbackground": true,
            "ticks": "",
            "zerolinecolor": "white"
           },
           "zaxis": {
            "backgroundcolor": "#E5ECF6",
            "gridcolor": "white",
            "gridwidth": 2,
            "linecolor": "white",
            "showbackground": true,
            "ticks": "",
            "zerolinecolor": "white"
           }
          },
          "shapedefaults": {
           "line": {
            "color": "#2a3f5f"
           }
          },
          "ternary": {
           "aaxis": {
            "gridcolor": "white",
            "linecolor": "white",
            "ticks": ""
           },
           "baxis": {
            "gridcolor": "white",
            "linecolor": "white",
            "ticks": ""
           },
           "bgcolor": "#E5ECF6",
           "caxis": {
            "gridcolor": "white",
            "linecolor": "white",
            "ticks": ""
           }
          },
          "title": {
           "x": 0.05
          },
          "xaxis": {
           "automargin": true,
           "gridcolor": "white",
           "linecolor": "white",
           "ticks": "",
           "title": {
            "standoff": 15
           },
           "zerolinecolor": "white",
           "zerolinewidth": 2
          },
          "yaxis": {
           "automargin": true,
           "gridcolor": "white",
           "linecolor": "white",
           "ticks": "",
           "title": {
            "standoff": 15
           },
           "zerolinecolor": "white",
           "zerolinewidth": 2
          }
         }
        },
        "xaxis": {
         "range": [
          0.10076205098492447,
          0.47815812572027383
         ],
         "tickformat": ".1%",
         "title": {
          "text": "Standard Deviation"
         }
        },
        "yaxis": {
         "range": [
          0.007330321596760219,
          0.11793147848831428
         ],
         "tickformat": ".1%",
         "title": {
          "text": "Expected Return"
         }
        }
       }
      }
     },
     "metadata": {},
     "output_type": "display_data"
    }
   ],
   "source": [
    "fig = go.Figure()\n",
    "# Plot random portfolios\n",
    "string =  \"Asset 1: %{customdata[0]:.1%}<br>\"\n",
    "string += \"Asset 2: %{customdata[1]:.1%}<br>\"\n",
    "string += \"Asset 3: %{customdata[2]:.1%}<br>\"\n",
    "string += \"<extra></extra>\"\n",
    "trace= go.Scatter(x=df.port_sd, y=df.port_expret,mode=\"markers\",\n",
    "    customdata=df[['w1','w2','w3']],hovertemplate=string, name='Random Portfolios')\n",
    "fig.add_trace(trace)\n",
    "\n",
    "# Plot underlying assets\n",
    "trace1= go.Scatter(x=[SDS[0]], y=[MNS[0]],mode=\"markers\", marker=dict(size=10, color=\"red\"), name='Asset 1')\n",
    "fig.add_trace(trace1)\n",
    "trace2= go.Scatter(x=[SDS[1]], y=[MNS[1]],mode=\"markers\", marker=dict(size=10, color=\"red\"), name='Asset 2')\n",
    "fig.add_trace(trace2)\n",
    "trace3= go.Scatter(x=[SDS[2]], y=[MNS[2]],mode=\"markers\", marker=dict(size=10, color=\"red\"), name='Asset 3')\n",
    "fig.add_trace(trace3)\n",
    "\n",
    "# Formatting\n",
    "fig.layout.yaxis[\"title\"] = \"Expected Return\"\n",
    "fig.layout.xaxis[\"title\"] = \"Standard Deviation\"\n",
    "fig.update_yaxes(tickformat=\".1%\")\n",
    "fig.update_xaxes(tickformat=\".1%\")\n",
    "fig.update_xaxes(range=[0.7 * df[\"port_sd\"].min(), 1.25 * df[\"port_sd\"].max()])\n",
    "fig.update_yaxes(range=[0.7 * df[\"port_expret\"].min(), 1.25 * df[\"port_expret\"].max()])\n",
    "fig.update_layout(legend=dict(yanchor=\"top\", y=0.99, xanchor=\"left\", x=0.01))\n",
    "fig.show()"
   ]
  },
  {
   "attachments": {},
   "cell_type": "markdown",
   "metadata": {},
   "source": [
    "### Efficient portfolios"
   ]
  },
  {
   "attachments": {},
   "cell_type": "markdown",
   "metadata": {},
   "source": [
    "The function `cvxopt.solvers.qp` solves problems of the general form:\n",
    "\\begin{align*}\n",
    "    \\underset{w}{\\text{min  }}& \\frac{1}{2} w' Q w + p'w \\\\\n",
    "     \\text{subject to  } & Gw \\le h \\\\\n",
    "                        & Aw = b \\\\\n",
    "\\end{align*}"
   ]
  },
  {
   "cell_type": "code",
   "execution_count": 12,
   "metadata": {},
   "outputs": [
    {
     "data": {
      "text/plain": [
       "array([0.25461741, 0.32717678, 0.4182058 ])"
      ]
     },
     "execution_count": 12,
     "metadata": {},
     "output_type": "execute_result"
    }
   ],
   "source": [
    "def frontier(means, cov, target):\n",
    "    n = len(means)\n",
    "    Q = matrix(cov, tc=\"d\")\n",
    "    p = matrix(np.zeros(n), (n, 1), tc=\"d\")\n",
    "    # Constraint: short-sales allowed\n",
    "    G = matrix(np.zeros((n,n)), tc=\"d\")\n",
    "    h = matrix(np.zeros(n), (n, 1), tc=\"d\")\n",
    "    # Fully-invested constraint + E[r] = target\n",
    "    A = matrix(np.vstack((np.ones(n), means)), (2, n), tc=\"d\")\n",
    "    b = matrix([1, target], (2, 1), tc=\"d\")\n",
    "    sol = Solver(Q, p, G, h, A, b)\n",
    "    wgts = np.array(sol[\"x\"]).flatten() if sol[\"status\"] == \"optimal\" else np.array(n * [np.nan])\n",
    "    return wgts\n",
    "SolverOptions['show_progress'] = False\n",
    "\n",
    "TARGET_EXP_RET = 0.07\n",
    "frontier(MNS, COV, TARGET_EXP_RET)"
   ]
  },
  {
   "attachments": {},
   "cell_type": "markdown",
   "metadata": {},
   "source": [
    "We can trace out the frontier by solving for the minimum variance portfolio for a number of expected return targets."
   ]
  },
  {
   "cell_type": "code",
   "execution_count": 13,
   "metadata": {},
   "outputs": [
    {
     "data": {
      "text/html": [
       "<div>\n",
       "<style scoped>\n",
       "    .dataframe tbody tr th:only-of-type {\n",
       "        vertical-align: middle;\n",
       "    }\n",
       "\n",
       "    .dataframe tbody tr th {\n",
       "        vertical-align: top;\n",
       "    }\n",
       "\n",
       "    .dataframe thead th {\n",
       "        text-align: right;\n",
       "    }\n",
       "</style>\n",
       "<table border=\"1\" class=\"dataframe\">\n",
       "  <thead>\n",
       "    <tr style=\"text-align: right;\">\n",
       "      <th></th>\n",
       "      <th>target_expret</th>\n",
       "      <th>w1</th>\n",
       "      <th>w2</th>\n",
       "      <th>w3</th>\n",
       "      <th>port_expret</th>\n",
       "      <th>port_sd</th>\n",
       "    </tr>\n",
       "  </thead>\n",
       "  <tbody>\n",
       "    <tr>\n",
       "      <th>0</th>\n",
       "      <td>0.050000</td>\n",
       "      <td>1.151715</td>\n",
       "      <td>0.464380</td>\n",
       "      <td>-0.616095</td>\n",
       "      <td>0.050000</td>\n",
       "      <td>0.154641</td>\n",
       "    </tr>\n",
       "    <tr>\n",
       "      <th>1</th>\n",
       "      <td>0.052632</td>\n",
       "      <td>1.033676</td>\n",
       "      <td>0.446327</td>\n",
       "      <td>-0.480003</td>\n",
       "      <td>0.052632</td>\n",
       "      <td>0.148910</td>\n",
       "    </tr>\n",
       "    <tr>\n",
       "      <th>2</th>\n",
       "      <td>0.055263</td>\n",
       "      <td>0.915637</td>\n",
       "      <td>0.428274</td>\n",
       "      <td>-0.343911</td>\n",
       "      <td>0.055263</td>\n",
       "      <td>0.145249</td>\n",
       "    </tr>\n",
       "    <tr>\n",
       "      <th>3</th>\n",
       "      <td>0.057895</td>\n",
       "      <td>0.797598</td>\n",
       "      <td>0.410221</td>\n",
       "      <td>-0.207818</td>\n",
       "      <td>0.057895</td>\n",
       "      <td>0.143819</td>\n",
       "    </tr>\n",
       "    <tr>\n",
       "      <th>4</th>\n",
       "      <td>0.060526</td>\n",
       "      <td>0.679558</td>\n",
       "      <td>0.392168</td>\n",
       "      <td>-0.071726</td>\n",
       "      <td>0.060526</td>\n",
       "      <td>0.144683</td>\n",
       "    </tr>\n",
       "  </tbody>\n",
       "</table>\n",
       "</div>"
      ],
      "text/plain": [
       "   target_expret        w1        w2        w3  port_expret   port_sd\n",
       "0       0.050000  1.151715  0.464380 -0.616095     0.050000  0.154641\n",
       "1       0.052632  1.033676  0.446327 -0.480003     0.052632  0.148910\n",
       "2       0.055263  0.915637  0.428274 -0.343911     0.055263  0.145249\n",
       "3       0.057895  0.797598  0.410221 -0.207818     0.057895  0.143819\n",
       "4       0.060526  0.679558  0.392168 -0.071726     0.060526  0.144683"
      ]
     },
     "execution_count": 13,
     "metadata": {},
     "output_type": "execute_result"
    }
   ],
   "source": [
    "NUM_TARGETS = 20\n",
    "df = pd.DataFrame(dtype='float',columns=['target_expret','w1','w2','w3','port_expret','port_sd'], index=np.arange(NUM_TARGETS))\n",
    "df.target_expret = np.linspace(0.05, 0.10,NUM_TARGETS)\n",
    "for i in df.index:\n",
    "    wgts = frontier(MNS, COV, df.loc[i,'target_expret'])\n",
    "    df.loc[i,['w1','w2','w3']] = wgts\n",
    "    df.loc[i,'port_expret'] = wgts @ MNS\n",
    "    df.loc[i,'port_sd'] = np.sqrt(wgts @ COV @ wgts)\n",
    "df.head()"
   ]
  },
  {
   "cell_type": "code",
   "execution_count": 14,
   "metadata": {},
   "outputs": [
    {
     "data": {
      "application/vnd.plotly.v1+json": {
       "config": {
        "plotlyServerURL": "https://plot.ly"
       },
       "data": [
        {
         "customdata": [
          [
           1.151715039577836,
           0.4643799472295511,
           -0.6160949868073871
          ],
          [
           1.0336758783502293,
           0.4463268990417993,
           -0.4800027773920286
          ],
          [
           0.9156367171226222,
           0.4282738508540472,
           -0.34391056797666936
          ],
          [
           0.7975975558950145,
           0.41022080266629624,
           -0.20781835856131067
          ],
          [
           0.6795583946674073,
           0.3921677544785447,
           -0.07172614914595203
          ],
          [
           0.5615192334398001,
           0.37411470629079263,
           0.06436606026940729
          ],
          [
           0.4434800722121927,
           0.35606165810304047,
           0.2004582696847668
          ],
          [
           0.3254409109845853,
           0.3380086099152894,
           0.3365504791001253
          ],
          [
           0.20740174975697798,
           0.3199555617275381,
           0.4726426885154839
          ],
          [
           0.08936258852937036,
           0.3019025135397866,
           0.608734897930843
          ],
          [
           -0.028676572698236136,
           0.2838494653520343,
           0.7448271073462018
          ],
          [
           -0.14671573392584247,
           0.26579641716428243,
           0.8809193167615602
          ],
          [
           -0.26475489515345113,
           0.2477433689765319,
           1.0170115261769193
          ],
          [
           -0.3827940563810593,
           0.22969032078877955,
           1.1531037355922797
          ],
          [
           -0.5008332176086657,
           0.21163727260102735,
           1.2891959450076382
          ],
          [
           -0.6188723788362733,
           0.19358422441327525,
           1.4252881544229978
          ],
          [
           -0.7369115400638805,
           0.1755311762255243,
           1.5613803638383563
          ],
          [
           -0.8549507012914874,
           0.15747812803777192,
           1.6974725732537155
          ],
          [
           -0.9729898625190933,
           0.13942507985002228,
           1.833564782669071
          ],
          [
           -1.0910290237467033,
           0.1213720316622705,
           1.969656992084433
          ]
         ],
         "hovertemplate": "Asset 1: %{customdata[0]:.1%}<br>Asset 2: %{customdata[1]:.1%}<br>Asset 3: %{customdata[2]:.1%}<br><extra></extra>",
         "mode": "lines",
         "name": "Frontier",
         "type": "scatter",
         "x": [
          0.15464093656342653,
          0.14890962809504496,
          0.1452494448177335,
          0.14381860416016878,
          0.14468326229237136,
          0.14780313824412272,
          0.15304036972094545,
          0.16018741416260018,
          0.16900214895125276,
          0.1792386979601413,
          0.19066819646972172,
          0.20308933316609795,
          0.21633136422846455,
          0.23025270216505866,
          0.24473745189884208,
          0.2596913546343606,
          0.2750378969960044,
          0.2907149044999318,
          0.3066717013600837,
          0.32286680680125196
         ],
         "y": [
          0.05,
          0.052631578947368425,
          0.05526315789473685,
          0.05789473684210527,
          0.060526315789473685,
          0.06315789473684211,
          0.06578947368421054,
          0.06842105263157897,
          0.07105263157894737,
          0.0736842105263158,
          0.07631578947368421,
          0.07894736842105263,
          0.08157894736842106,
          0.0842105263157895,
          0.08684210526315789,
          0.08947368421052633,
          0.09210526315789476,
          0.09473684210526317,
          0.09736842105263155,
          0.1
         ]
        },
        {
         "marker": {
          "color": "red",
          "size": 10
         },
         "mode": "markers",
         "name": "Asset 1",
         "type": "scatter",
         "x": [
          0.15
         ],
         "y": [
          0.06
         ]
        },
        {
         "marker": {
          "color": "red",
          "size": 10
         },
         "mode": "markers",
         "name": "Asset 2",
         "type": "scatter",
         "x": [
          0.165
         ],
         "y": [
          0.065
         ]
        },
        {
         "marker": {
          "color": "red",
          "size": 10
         },
         "mode": "markers",
         "name": "Asset 3",
         "type": "scatter",
         "x": [
          0.21
         ],
         "y": [
          0.08
         ]
        }
       ],
       "layout": {
        "legend": {
         "x": 0.01,
         "xanchor": "left",
         "y": 0.99,
         "yanchor": "top"
        },
        "template": {
         "data": {
          "bar": [
           {
            "error_x": {
             "color": "#2a3f5f"
            },
            "error_y": {
             "color": "#2a3f5f"
            },
            "marker": {
             "line": {
              "color": "#E5ECF6",
              "width": 0.5
             },
             "pattern": {
              "fillmode": "overlay",
              "size": 10,
              "solidity": 0.2
             }
            },
            "type": "bar"
           }
          ],
          "barpolar": [
           {
            "marker": {
             "line": {
              "color": "#E5ECF6",
              "width": 0.5
             },
             "pattern": {
              "fillmode": "overlay",
              "size": 10,
              "solidity": 0.2
             }
            },
            "type": "barpolar"
           }
          ],
          "carpet": [
           {
            "aaxis": {
             "endlinecolor": "#2a3f5f",
             "gridcolor": "white",
             "linecolor": "white",
             "minorgridcolor": "white",
             "startlinecolor": "#2a3f5f"
            },
            "baxis": {
             "endlinecolor": "#2a3f5f",
             "gridcolor": "white",
             "linecolor": "white",
             "minorgridcolor": "white",
             "startlinecolor": "#2a3f5f"
            },
            "type": "carpet"
           }
          ],
          "choropleth": [
           {
            "colorbar": {
             "outlinewidth": 0,
             "ticks": ""
            },
            "type": "choropleth"
           }
          ],
          "contour": [
           {
            "colorbar": {
             "outlinewidth": 0,
             "ticks": ""
            },
            "colorscale": [
             [
              0,
              "#0d0887"
             ],
             [
              0.1111111111111111,
              "#46039f"
             ],
             [
              0.2222222222222222,
              "#7201a8"
             ],
             [
              0.3333333333333333,
              "#9c179e"
             ],
             [
              0.4444444444444444,
              "#bd3786"
             ],
             [
              0.5555555555555556,
              "#d8576b"
             ],
             [
              0.6666666666666666,
              "#ed7953"
             ],
             [
              0.7777777777777778,
              "#fb9f3a"
             ],
             [
              0.8888888888888888,
              "#fdca26"
             ],
             [
              1,
              "#f0f921"
             ]
            ],
            "type": "contour"
           }
          ],
          "contourcarpet": [
           {
            "colorbar": {
             "outlinewidth": 0,
             "ticks": ""
            },
            "type": "contourcarpet"
           }
          ],
          "heatmap": [
           {
            "colorbar": {
             "outlinewidth": 0,
             "ticks": ""
            },
            "colorscale": [
             [
              0,
              "#0d0887"
             ],
             [
              0.1111111111111111,
              "#46039f"
             ],
             [
              0.2222222222222222,
              "#7201a8"
             ],
             [
              0.3333333333333333,
              "#9c179e"
             ],
             [
              0.4444444444444444,
              "#bd3786"
             ],
             [
              0.5555555555555556,
              "#d8576b"
             ],
             [
              0.6666666666666666,
              "#ed7953"
             ],
             [
              0.7777777777777778,
              "#fb9f3a"
             ],
             [
              0.8888888888888888,
              "#fdca26"
             ],
             [
              1,
              "#f0f921"
             ]
            ],
            "type": "heatmap"
           }
          ],
          "heatmapgl": [
           {
            "colorbar": {
             "outlinewidth": 0,
             "ticks": ""
            },
            "colorscale": [
             [
              0,
              "#0d0887"
             ],
             [
              0.1111111111111111,
              "#46039f"
             ],
             [
              0.2222222222222222,
              "#7201a8"
             ],
             [
              0.3333333333333333,
              "#9c179e"
             ],
             [
              0.4444444444444444,
              "#bd3786"
             ],
             [
              0.5555555555555556,
              "#d8576b"
             ],
             [
              0.6666666666666666,
              "#ed7953"
             ],
             [
              0.7777777777777778,
              "#fb9f3a"
             ],
             [
              0.8888888888888888,
              "#fdca26"
             ],
             [
              1,
              "#f0f921"
             ]
            ],
            "type": "heatmapgl"
           }
          ],
          "histogram": [
           {
            "marker": {
             "pattern": {
              "fillmode": "overlay",
              "size": 10,
              "solidity": 0.2
             }
            },
            "type": "histogram"
           }
          ],
          "histogram2d": [
           {
            "colorbar": {
             "outlinewidth": 0,
             "ticks": ""
            },
            "colorscale": [
             [
              0,
              "#0d0887"
             ],
             [
              0.1111111111111111,
              "#46039f"
             ],
             [
              0.2222222222222222,
              "#7201a8"
             ],
             [
              0.3333333333333333,
              "#9c179e"
             ],
             [
              0.4444444444444444,
              "#bd3786"
             ],
             [
              0.5555555555555556,
              "#d8576b"
             ],
             [
              0.6666666666666666,
              "#ed7953"
             ],
             [
              0.7777777777777778,
              "#fb9f3a"
             ],
             [
              0.8888888888888888,
              "#fdca26"
             ],
             [
              1,
              "#f0f921"
             ]
            ],
            "type": "histogram2d"
           }
          ],
          "histogram2dcontour": [
           {
            "colorbar": {
             "outlinewidth": 0,
             "ticks": ""
            },
            "colorscale": [
             [
              0,
              "#0d0887"
             ],
             [
              0.1111111111111111,
              "#46039f"
             ],
             [
              0.2222222222222222,
              "#7201a8"
             ],
             [
              0.3333333333333333,
              "#9c179e"
             ],
             [
              0.4444444444444444,
              "#bd3786"
             ],
             [
              0.5555555555555556,
              "#d8576b"
             ],
             [
              0.6666666666666666,
              "#ed7953"
             ],
             [
              0.7777777777777778,
              "#fb9f3a"
             ],
             [
              0.8888888888888888,
              "#fdca26"
             ],
             [
              1,
              "#f0f921"
             ]
            ],
            "type": "histogram2dcontour"
           }
          ],
          "mesh3d": [
           {
            "colorbar": {
             "outlinewidth": 0,
             "ticks": ""
            },
            "type": "mesh3d"
           }
          ],
          "parcoords": [
           {
            "line": {
             "colorbar": {
              "outlinewidth": 0,
              "ticks": ""
             }
            },
            "type": "parcoords"
           }
          ],
          "pie": [
           {
            "automargin": true,
            "type": "pie"
           }
          ],
          "scatter": [
           {
            "fillpattern": {
             "fillmode": "overlay",
             "size": 10,
             "solidity": 0.2
            },
            "type": "scatter"
           }
          ],
          "scatter3d": [
           {
            "line": {
             "colorbar": {
              "outlinewidth": 0,
              "ticks": ""
             }
            },
            "marker": {
             "colorbar": {
              "outlinewidth": 0,
              "ticks": ""
             }
            },
            "type": "scatter3d"
           }
          ],
          "scattercarpet": [
           {
            "marker": {
             "colorbar": {
              "outlinewidth": 0,
              "ticks": ""
             }
            },
            "type": "scattercarpet"
           }
          ],
          "scattergeo": [
           {
            "marker": {
             "colorbar": {
              "outlinewidth": 0,
              "ticks": ""
             }
            },
            "type": "scattergeo"
           }
          ],
          "scattergl": [
           {
            "marker": {
             "colorbar": {
              "outlinewidth": 0,
              "ticks": ""
             }
            },
            "type": "scattergl"
           }
          ],
          "scattermapbox": [
           {
            "marker": {
             "colorbar": {
              "outlinewidth": 0,
              "ticks": ""
             }
            },
            "type": "scattermapbox"
           }
          ],
          "scatterpolar": [
           {
            "marker": {
             "colorbar": {
              "outlinewidth": 0,
              "ticks": ""
             }
            },
            "type": "scatterpolar"
           }
          ],
          "scatterpolargl": [
           {
            "marker": {
             "colorbar": {
              "outlinewidth": 0,
              "ticks": ""
             }
            },
            "type": "scatterpolargl"
           }
          ],
          "scatterternary": [
           {
            "marker": {
             "colorbar": {
              "outlinewidth": 0,
              "ticks": ""
             }
            },
            "type": "scatterternary"
           }
          ],
          "surface": [
           {
            "colorbar": {
             "outlinewidth": 0,
             "ticks": ""
            },
            "colorscale": [
             [
              0,
              "#0d0887"
             ],
             [
              0.1111111111111111,
              "#46039f"
             ],
             [
              0.2222222222222222,
              "#7201a8"
             ],
             [
              0.3333333333333333,
              "#9c179e"
             ],
             [
              0.4444444444444444,
              "#bd3786"
             ],
             [
              0.5555555555555556,
              "#d8576b"
             ],
             [
              0.6666666666666666,
              "#ed7953"
             ],
             [
              0.7777777777777778,
              "#fb9f3a"
             ],
             [
              0.8888888888888888,
              "#fdca26"
             ],
             [
              1,
              "#f0f921"
             ]
            ],
            "type": "surface"
           }
          ],
          "table": [
           {
            "cells": {
             "fill": {
              "color": "#EBF0F8"
             },
             "line": {
              "color": "white"
             }
            },
            "header": {
             "fill": {
              "color": "#C8D4E3"
             },
             "line": {
              "color": "white"
             }
            },
            "type": "table"
           }
          ]
         },
         "layout": {
          "annotationdefaults": {
           "arrowcolor": "#2a3f5f",
           "arrowhead": 0,
           "arrowwidth": 1
          },
          "autotypenumbers": "strict",
          "coloraxis": {
           "colorbar": {
            "outlinewidth": 0,
            "ticks": ""
           }
          },
          "colorscale": {
           "diverging": [
            [
             0,
             "#8e0152"
            ],
            [
             0.1,
             "#c51b7d"
            ],
            [
             0.2,
             "#de77ae"
            ],
            [
             0.3,
             "#f1b6da"
            ],
            [
             0.4,
             "#fde0ef"
            ],
            [
             0.5,
             "#f7f7f7"
            ],
            [
             0.6,
             "#e6f5d0"
            ],
            [
             0.7,
             "#b8e186"
            ],
            [
             0.8,
             "#7fbc41"
            ],
            [
             0.9,
             "#4d9221"
            ],
            [
             1,
             "#276419"
            ]
           ],
           "sequential": [
            [
             0,
             "#0d0887"
            ],
            [
             0.1111111111111111,
             "#46039f"
            ],
            [
             0.2222222222222222,
             "#7201a8"
            ],
            [
             0.3333333333333333,
             "#9c179e"
            ],
            [
             0.4444444444444444,
             "#bd3786"
            ],
            [
             0.5555555555555556,
             "#d8576b"
            ],
            [
             0.6666666666666666,
             "#ed7953"
            ],
            [
             0.7777777777777778,
             "#fb9f3a"
            ],
            [
             0.8888888888888888,
             "#fdca26"
            ],
            [
             1,
             "#f0f921"
            ]
           ],
           "sequentialminus": [
            [
             0,
             "#0d0887"
            ],
            [
             0.1111111111111111,
             "#46039f"
            ],
            [
             0.2222222222222222,
             "#7201a8"
            ],
            [
             0.3333333333333333,
             "#9c179e"
            ],
            [
             0.4444444444444444,
             "#bd3786"
            ],
            [
             0.5555555555555556,
             "#d8576b"
            ],
            [
             0.6666666666666666,
             "#ed7953"
            ],
            [
             0.7777777777777778,
             "#fb9f3a"
            ],
            [
             0.8888888888888888,
             "#fdca26"
            ],
            [
             1,
             "#f0f921"
            ]
           ]
          },
          "colorway": [
           "#636efa",
           "#EF553B",
           "#00cc96",
           "#ab63fa",
           "#FFA15A",
           "#19d3f3",
           "#FF6692",
           "#B6E880",
           "#FF97FF",
           "#FECB52"
          ],
          "font": {
           "color": "#2a3f5f"
          },
          "geo": {
           "bgcolor": "white",
           "lakecolor": "white",
           "landcolor": "#E5ECF6",
           "showlakes": true,
           "showland": true,
           "subunitcolor": "white"
          },
          "hoverlabel": {
           "align": "left"
          },
          "hovermode": "closest",
          "mapbox": {
           "style": "light"
          },
          "paper_bgcolor": "white",
          "plot_bgcolor": "#E5ECF6",
          "polar": {
           "angularaxis": {
            "gridcolor": "white",
            "linecolor": "white",
            "ticks": ""
           },
           "bgcolor": "#E5ECF6",
           "radialaxis": {
            "gridcolor": "white",
            "linecolor": "white",
            "ticks": ""
           }
          },
          "scene": {
           "xaxis": {
            "backgroundcolor": "#E5ECF6",
            "gridcolor": "white",
            "gridwidth": 2,
            "linecolor": "white",
            "showbackground": true,
            "ticks": "",
            "zerolinecolor": "white"
           },
           "yaxis": {
            "backgroundcolor": "#E5ECF6",
            "gridcolor": "white",
            "gridwidth": 2,
            "linecolor": "white",
            "showbackground": true,
            "ticks": "",
            "zerolinecolor": "white"
           },
           "zaxis": {
            "backgroundcolor": "#E5ECF6",
            "gridcolor": "white",
            "gridwidth": 2,
            "linecolor": "white",
            "showbackground": true,
            "ticks": "",
            "zerolinecolor": "white"
           }
          },
          "shapedefaults": {
           "line": {
            "color": "#2a3f5f"
           }
          },
          "ternary": {
           "aaxis": {
            "gridcolor": "white",
            "linecolor": "white",
            "ticks": ""
           },
           "baxis": {
            "gridcolor": "white",
            "linecolor": "white",
            "ticks": ""
           },
           "bgcolor": "#E5ECF6",
           "caxis": {
            "gridcolor": "white",
            "linecolor": "white",
            "ticks": ""
           }
          },
          "title": {
           "x": 0.05
          },
          "xaxis": {
           "automargin": true,
           "gridcolor": "white",
           "linecolor": "white",
           "ticks": "",
           "title": {
            "standoff": 15
           },
           "zerolinecolor": "white",
           "zerolinewidth": 2
          },
          "yaxis": {
           "automargin": true,
           "gridcolor": "white",
           "linecolor": "white",
           "ticks": "",
           "title": {
            "standoff": 15
           },
           "zerolinecolor": "white",
           "zerolinewidth": 2
          }
         }
        },
        "xaxis": {
         "range": [
          0.10067302291211815,
          0.40358350850156494
         ],
         "tickformat": ".1%",
         "title": {
          "text": "Standard Deviation"
         }
        },
        "yaxis": {
         "range": [
          0.034999999999999996,
          0.125
         ],
         "tickformat": ".1%",
         "title": {
          "text": "Expected Return"
         }
        }
       }
      }
     },
     "metadata": {},
     "output_type": "display_data"
    }
   ],
   "source": [
    "fig = go.Figure()\n",
    "# Plot frontier\n",
    "string =  \"Asset 1: %{customdata[0]:.1%}<br>\"\n",
    "string += \"Asset 2: %{customdata[1]:.1%}<br>\"\n",
    "string += \"Asset 3: %{customdata[2]:.1%}<br>\"\n",
    "string += \"<extra></extra>\"\n",
    "trace= go.Scatter(x=df.port_sd, y=df.port_expret,mode=\"lines\",\n",
    "    customdata=df[['w1','w2','w3']],hovertemplate=string, name='Frontier')\n",
    "fig.add_trace(trace)\n",
    "\n",
    "# Plot underlying assets\n",
    "trace1= go.Scatter(x=[SDS[0]], y=[MNS[0]],mode=\"markers\", marker=dict(size=10, color=\"red\"), name='Asset 1')\n",
    "fig.add_trace(trace1)\n",
    "trace2= go.Scatter(x=[SDS[1]], y=[MNS[1]],mode=\"markers\", marker=dict(size=10, color=\"red\"), name='Asset 2')\n",
    "fig.add_trace(trace2)\n",
    "trace3= go.Scatter(x=[SDS[2]], y=[MNS[2]],mode=\"markers\", marker=dict(size=10, color=\"red\"), name='Asset 3')\n",
    "fig.add_trace(trace3)\n",
    "\n",
    "# Formatting\n",
    "fig.layout.yaxis[\"title\"] = \"Expected Return\"\n",
    "fig.layout.xaxis[\"title\"] = \"Standard Deviation\"\n",
    "fig.update_yaxes(tickformat=\".1%\")\n",
    "fig.update_xaxes(tickformat=\".1%\")\n",
    "fig.update_xaxes(range=[0.7 * df[\"port_sd\"].min(), 1.25 * df[\"port_sd\"].max()])\n",
    "fig.update_yaxes(range=[0.7 * df[\"port_expret\"].min(), 1.25 * df[\"port_expret\"].max()])\n",
    "fig.update_layout(legend=dict(yanchor=\"top\", y=0.99, xanchor=\"left\", x=0.01))\n",
    "fig.show()"
   ]
  },
  {
   "attachments": {},
   "cell_type": "markdown",
   "metadata": {},
   "source": [
    "### Global minimum variance\n",
    "\n",
    "Note there is no longer a target expected return constraint"
   ]
  },
  {
   "cell_type": "code",
   "execution_count": 15,
   "metadata": {},
   "outputs": [
    {
     "data": {
      "text/plain": [
       "array([ 0.78298611,  0.40798611, -0.19097222])"
      ]
     },
     "execution_count": 15,
     "metadata": {},
     "output_type": "execute_result"
    }
   ],
   "source": [
    "import numpy as np\n",
    "from cvxopt import matrix\n",
    "from cvxopt.solvers import qp as Solver, options as SolverOptions\n",
    "\n",
    "def gmv(means, cov):\n",
    "    n = len(means)\n",
    "    Q = matrix(cov, tc=\"d\")\n",
    "    p = matrix(np.zeros(n), (n, 1), tc=\"d\")\n",
    "    # Constraint: short-sales allowed\n",
    "    G = matrix(np.zeros((n,n)), tc=\"d\")\n",
    "    h = matrix(np.zeros(n), (n, 1), tc=\"d\")\n",
    "    # Constraint: fully-invested portfolio\n",
    "    A = matrix(np.ones(n), (1, n), tc=\"d\")\n",
    "    b = matrix([1], (1, 1), tc=\"d\")\n",
    "    sol = Solver(Q, p, G, h, A, b)\n",
    "    wgts = np.array(sol[\"x\"]).flatten() if sol[\"status\"] == \"optimal\" else np.array(n * [np.nan])\n",
    "    return wgts\n",
    "SolverOptions['show_progress'] = False\n",
    "\n",
    "wgts_gmv = gmv(MNS, COV)\n",
    "wgts_gmv"
   ]
  },
  {
   "cell_type": "code",
   "execution_count": 16,
   "metadata": {},
   "outputs": [
    {
     "data": {
      "application/vnd.plotly.v1+json": {
       "config": {
        "plotlyServerURL": "https://plot.ly"
       },
       "data": [
        {
         "customdata": [
          [
           1.151715039577836,
           0.4643799472295511,
           -0.6160949868073871
          ],
          [
           1.0336758783502293,
           0.4463268990417993,
           -0.4800027773920286
          ],
          [
           0.9156367171226222,
           0.4282738508540472,
           -0.34391056797666936
          ],
          [
           0.7975975558950145,
           0.41022080266629624,
           -0.20781835856131067
          ],
          [
           0.6795583946674073,
           0.3921677544785447,
           -0.07172614914595203
          ],
          [
           0.5615192334398001,
           0.37411470629079263,
           0.06436606026940729
          ],
          [
           0.4434800722121927,
           0.35606165810304047,
           0.2004582696847668
          ],
          [
           0.3254409109845853,
           0.3380086099152894,
           0.3365504791001253
          ],
          [
           0.20740174975697798,
           0.3199555617275381,
           0.4726426885154839
          ],
          [
           0.08936258852937036,
           0.3019025135397866,
           0.608734897930843
          ],
          [
           -0.028676572698236136,
           0.2838494653520343,
           0.7448271073462018
          ],
          [
           -0.14671573392584247,
           0.26579641716428243,
           0.8809193167615602
          ],
          [
           -0.26475489515345113,
           0.2477433689765319,
           1.0170115261769193
          ],
          [
           -0.3827940563810593,
           0.22969032078877955,
           1.1531037355922797
          ],
          [
           -0.5008332176086657,
           0.21163727260102735,
           1.2891959450076382
          ],
          [
           -0.6188723788362733,
           0.19358422441327525,
           1.4252881544229978
          ],
          [
           -0.7369115400638805,
           0.1755311762255243,
           1.5613803638383563
          ],
          [
           -0.8549507012914874,
           0.15747812803777192,
           1.6974725732537155
          ],
          [
           -0.9729898625190933,
           0.13942507985002228,
           1.833564782669071
          ],
          [
           -1.0910290237467033,
           0.1213720316622705,
           1.969656992084433
          ]
         ],
         "hovertemplate": "Asset 1: %{customdata[0]:.1%}<br>Asset 2: %{customdata[1]:.1%}<br>Asset 3: %{customdata[2]:.1%}<br><extra></extra>",
         "mode": "lines",
         "name": "Frontier",
         "type": "scatter",
         "x": [
          0.15464093656342653,
          0.14890962809504496,
          0.1452494448177335,
          0.14381860416016878,
          0.14468326229237136,
          0.14780313824412272,
          0.15304036972094545,
          0.16018741416260018,
          0.16900214895125276,
          0.1792386979601413,
          0.19066819646972172,
          0.20308933316609795,
          0.21633136422846455,
          0.23025270216505866,
          0.24473745189884208,
          0.2596913546343606,
          0.2750378969960044,
          0.2907149044999318,
          0.3066717013600837,
          0.32286680680125196
         ],
         "y": [
          0.05,
          0.052631578947368425,
          0.05526315789473685,
          0.05789473684210527,
          0.060526315789473685,
          0.06315789473684211,
          0.06578947368421054,
          0.06842105263157897,
          0.07105263157894737,
          0.0736842105263158,
          0.07631578947368421,
          0.07894736842105263,
          0.08157894736842106,
          0.0842105263157895,
          0.08684210526315789,
          0.08947368421052633,
          0.09210526315789476,
          0.09473684210526317,
          0.09736842105263155,
          0.1
         ]
        },
        {
         "marker": {
          "color": "red",
          "size": 10
         },
         "mode": "markers",
         "name": "Asset 1",
         "type": "scatter",
         "x": [
          0.15
         ],
         "y": [
          0.06
         ]
        },
        {
         "marker": {
          "color": "red",
          "size": 10
         },
         "mode": "markers",
         "name": "Asset 2",
         "type": "scatter",
         "x": [
          0.165
         ],
         "y": [
          0.065
         ]
        },
        {
         "marker": {
          "color": "red",
          "size": 10
         },
         "mode": "markers",
         "name": "Asset 3",
         "type": "scatter",
         "x": [
          0.21
         ],
         "y": [
          0.08
         ]
        },
        {
         "customdata": [
          [
           0.7829861111111114,
           0.40798611111111094,
           -0.19097222222222238
          ]
         ],
         "hovertemplate": "Asset 1: %{customdata[0]:.1%}<br>Asset 2: %{customdata[1]:.1%}<br>Asset 3: %{customdata[2]:.1%}<br><extra></extra>",
         "marker": {
          "color": "black",
          "size": 10
         },
         "mode": "markers",
         "name": "GMV",
         "type": "scatter",
         "x": [
          0.14380094206054422
         ],
         "y": [
          0.058220486111111094
         ]
        }
       ],
       "layout": {
        "legend": {
         "x": 0.01,
         "xanchor": "left",
         "y": 0.99,
         "yanchor": "top"
        },
        "template": {
         "data": {
          "bar": [
           {
            "error_x": {
             "color": "#2a3f5f"
            },
            "error_y": {
             "color": "#2a3f5f"
            },
            "marker": {
             "line": {
              "color": "#E5ECF6",
              "width": 0.5
             },
             "pattern": {
              "fillmode": "overlay",
              "size": 10,
              "solidity": 0.2
             }
            },
            "type": "bar"
           }
          ],
          "barpolar": [
           {
            "marker": {
             "line": {
              "color": "#E5ECF6",
              "width": 0.5
             },
             "pattern": {
              "fillmode": "overlay",
              "size": 10,
              "solidity": 0.2
             }
            },
            "type": "barpolar"
           }
          ],
          "carpet": [
           {
            "aaxis": {
             "endlinecolor": "#2a3f5f",
             "gridcolor": "white",
             "linecolor": "white",
             "minorgridcolor": "white",
             "startlinecolor": "#2a3f5f"
            },
            "baxis": {
             "endlinecolor": "#2a3f5f",
             "gridcolor": "white",
             "linecolor": "white",
             "minorgridcolor": "white",
             "startlinecolor": "#2a3f5f"
            },
            "type": "carpet"
           }
          ],
          "choropleth": [
           {
            "colorbar": {
             "outlinewidth": 0,
             "ticks": ""
            },
            "type": "choropleth"
           }
          ],
          "contour": [
           {
            "colorbar": {
             "outlinewidth": 0,
             "ticks": ""
            },
            "colorscale": [
             [
              0,
              "#0d0887"
             ],
             [
              0.1111111111111111,
              "#46039f"
             ],
             [
              0.2222222222222222,
              "#7201a8"
             ],
             [
              0.3333333333333333,
              "#9c179e"
             ],
             [
              0.4444444444444444,
              "#bd3786"
             ],
             [
              0.5555555555555556,
              "#d8576b"
             ],
             [
              0.6666666666666666,
              "#ed7953"
             ],
             [
              0.7777777777777778,
              "#fb9f3a"
             ],
             [
              0.8888888888888888,
              "#fdca26"
             ],
             [
              1,
              "#f0f921"
             ]
            ],
            "type": "contour"
           }
          ],
          "contourcarpet": [
           {
            "colorbar": {
             "outlinewidth": 0,
             "ticks": ""
            },
            "type": "contourcarpet"
           }
          ],
          "heatmap": [
           {
            "colorbar": {
             "outlinewidth": 0,
             "ticks": ""
            },
            "colorscale": [
             [
              0,
              "#0d0887"
             ],
             [
              0.1111111111111111,
              "#46039f"
             ],
             [
              0.2222222222222222,
              "#7201a8"
             ],
             [
              0.3333333333333333,
              "#9c179e"
             ],
             [
              0.4444444444444444,
              "#bd3786"
             ],
             [
              0.5555555555555556,
              "#d8576b"
             ],
             [
              0.6666666666666666,
              "#ed7953"
             ],
             [
              0.7777777777777778,
              "#fb9f3a"
             ],
             [
              0.8888888888888888,
              "#fdca26"
             ],
             [
              1,
              "#f0f921"
             ]
            ],
            "type": "heatmap"
           }
          ],
          "heatmapgl": [
           {
            "colorbar": {
             "outlinewidth": 0,
             "ticks": ""
            },
            "colorscale": [
             [
              0,
              "#0d0887"
             ],
             [
              0.1111111111111111,
              "#46039f"
             ],
             [
              0.2222222222222222,
              "#7201a8"
             ],
             [
              0.3333333333333333,
              "#9c179e"
             ],
             [
              0.4444444444444444,
              "#bd3786"
             ],
             [
              0.5555555555555556,
              "#d8576b"
             ],
             [
              0.6666666666666666,
              "#ed7953"
             ],
             [
              0.7777777777777778,
              "#fb9f3a"
             ],
             [
              0.8888888888888888,
              "#fdca26"
             ],
             [
              1,
              "#f0f921"
             ]
            ],
            "type": "heatmapgl"
           }
          ],
          "histogram": [
           {
            "marker": {
             "pattern": {
              "fillmode": "overlay",
              "size": 10,
              "solidity": 0.2
             }
            },
            "type": "histogram"
           }
          ],
          "histogram2d": [
           {
            "colorbar": {
             "outlinewidth": 0,
             "ticks": ""
            },
            "colorscale": [
             [
              0,
              "#0d0887"
             ],
             [
              0.1111111111111111,
              "#46039f"
             ],
             [
              0.2222222222222222,
              "#7201a8"
             ],
             [
              0.3333333333333333,
              "#9c179e"
             ],
             [
              0.4444444444444444,
              "#bd3786"
             ],
             [
              0.5555555555555556,
              "#d8576b"
             ],
             [
              0.6666666666666666,
              "#ed7953"
             ],
             [
              0.7777777777777778,
              "#fb9f3a"
             ],
             [
              0.8888888888888888,
              "#fdca26"
             ],
             [
              1,
              "#f0f921"
             ]
            ],
            "type": "histogram2d"
           }
          ],
          "histogram2dcontour": [
           {
            "colorbar": {
             "outlinewidth": 0,
             "ticks": ""
            },
            "colorscale": [
             [
              0,
              "#0d0887"
             ],
             [
              0.1111111111111111,
              "#46039f"
             ],
             [
              0.2222222222222222,
              "#7201a8"
             ],
             [
              0.3333333333333333,
              "#9c179e"
             ],
             [
              0.4444444444444444,
              "#bd3786"
             ],
             [
              0.5555555555555556,
              "#d8576b"
             ],
             [
              0.6666666666666666,
              "#ed7953"
             ],
             [
              0.7777777777777778,
              "#fb9f3a"
             ],
             [
              0.8888888888888888,
              "#fdca26"
             ],
             [
              1,
              "#f0f921"
             ]
            ],
            "type": "histogram2dcontour"
           }
          ],
          "mesh3d": [
           {
            "colorbar": {
             "outlinewidth": 0,
             "ticks": ""
            },
            "type": "mesh3d"
           }
          ],
          "parcoords": [
           {
            "line": {
             "colorbar": {
              "outlinewidth": 0,
              "ticks": ""
             }
            },
            "type": "parcoords"
           }
          ],
          "pie": [
           {
            "automargin": true,
            "type": "pie"
           }
          ],
          "scatter": [
           {
            "fillpattern": {
             "fillmode": "overlay",
             "size": 10,
             "solidity": 0.2
            },
            "type": "scatter"
           }
          ],
          "scatter3d": [
           {
            "line": {
             "colorbar": {
              "outlinewidth": 0,
              "ticks": ""
             }
            },
            "marker": {
             "colorbar": {
              "outlinewidth": 0,
              "ticks": ""
             }
            },
            "type": "scatter3d"
           }
          ],
          "scattercarpet": [
           {
            "marker": {
             "colorbar": {
              "outlinewidth": 0,
              "ticks": ""
             }
            },
            "type": "scattercarpet"
           }
          ],
          "scattergeo": [
           {
            "marker": {
             "colorbar": {
              "outlinewidth": 0,
              "ticks": ""
             }
            },
            "type": "scattergeo"
           }
          ],
          "scattergl": [
           {
            "marker": {
             "colorbar": {
              "outlinewidth": 0,
              "ticks": ""
             }
            },
            "type": "scattergl"
           }
          ],
          "scattermapbox": [
           {
            "marker": {
             "colorbar": {
              "outlinewidth": 0,
              "ticks": ""
             }
            },
            "type": "scattermapbox"
           }
          ],
          "scatterpolar": [
           {
            "marker": {
             "colorbar": {
              "outlinewidth": 0,
              "ticks": ""
             }
            },
            "type": "scatterpolar"
           }
          ],
          "scatterpolargl": [
           {
            "marker": {
             "colorbar": {
              "outlinewidth": 0,
              "ticks": ""
             }
            },
            "type": "scatterpolargl"
           }
          ],
          "scatterternary": [
           {
            "marker": {
             "colorbar": {
              "outlinewidth": 0,
              "ticks": ""
             }
            },
            "type": "scatterternary"
           }
          ],
          "surface": [
           {
            "colorbar": {
             "outlinewidth": 0,
             "ticks": ""
            },
            "colorscale": [
             [
              0,
              "#0d0887"
             ],
             [
              0.1111111111111111,
              "#46039f"
             ],
             [
              0.2222222222222222,
              "#7201a8"
             ],
             [
              0.3333333333333333,
              "#9c179e"
             ],
             [
              0.4444444444444444,
              "#bd3786"
             ],
             [
              0.5555555555555556,
              "#d8576b"
             ],
             [
              0.6666666666666666,
              "#ed7953"
             ],
             [
              0.7777777777777778,
              "#fb9f3a"
             ],
             [
              0.8888888888888888,
              "#fdca26"
             ],
             [
              1,
              "#f0f921"
             ]
            ],
            "type": "surface"
           }
          ],
          "table": [
           {
            "cells": {
             "fill": {
              "color": "#EBF0F8"
             },
             "line": {
              "color": "white"
             }
            },
            "header": {
             "fill": {
              "color": "#C8D4E3"
             },
             "line": {
              "color": "white"
             }
            },
            "type": "table"
           }
          ]
         },
         "layout": {
          "annotationdefaults": {
           "arrowcolor": "#2a3f5f",
           "arrowhead": 0,
           "arrowwidth": 1
          },
          "autotypenumbers": "strict",
          "coloraxis": {
           "colorbar": {
            "outlinewidth": 0,
            "ticks": ""
           }
          },
          "colorscale": {
           "diverging": [
            [
             0,
             "#8e0152"
            ],
            [
             0.1,
             "#c51b7d"
            ],
            [
             0.2,
             "#de77ae"
            ],
            [
             0.3,
             "#f1b6da"
            ],
            [
             0.4,
             "#fde0ef"
            ],
            [
             0.5,
             "#f7f7f7"
            ],
            [
             0.6,
             "#e6f5d0"
            ],
            [
             0.7,
             "#b8e186"
            ],
            [
             0.8,
             "#7fbc41"
            ],
            [
             0.9,
             "#4d9221"
            ],
            [
             1,
             "#276419"
            ]
           ],
           "sequential": [
            [
             0,
             "#0d0887"
            ],
            [
             0.1111111111111111,
             "#46039f"
            ],
            [
             0.2222222222222222,
             "#7201a8"
            ],
            [
             0.3333333333333333,
             "#9c179e"
            ],
            [
             0.4444444444444444,
             "#bd3786"
            ],
            [
             0.5555555555555556,
             "#d8576b"
            ],
            [
             0.6666666666666666,
             "#ed7953"
            ],
            [
             0.7777777777777778,
             "#fb9f3a"
            ],
            [
             0.8888888888888888,
             "#fdca26"
            ],
            [
             1,
             "#f0f921"
            ]
           ],
           "sequentialminus": [
            [
             0,
             "#0d0887"
            ],
            [
             0.1111111111111111,
             "#46039f"
            ],
            [
             0.2222222222222222,
             "#7201a8"
            ],
            [
             0.3333333333333333,
             "#9c179e"
            ],
            [
             0.4444444444444444,
             "#bd3786"
            ],
            [
             0.5555555555555556,
             "#d8576b"
            ],
            [
             0.6666666666666666,
             "#ed7953"
            ],
            [
             0.7777777777777778,
             "#fb9f3a"
            ],
            [
             0.8888888888888888,
             "#fdca26"
            ],
            [
             1,
             "#f0f921"
            ]
           ]
          },
          "colorway": [
           "#636efa",
           "#EF553B",
           "#00cc96",
           "#ab63fa",
           "#FFA15A",
           "#19d3f3",
           "#FF6692",
           "#B6E880",
           "#FF97FF",
           "#FECB52"
          ],
          "font": {
           "color": "#2a3f5f"
          },
          "geo": {
           "bgcolor": "white",
           "lakecolor": "white",
           "landcolor": "#E5ECF6",
           "showlakes": true,
           "showland": true,
           "subunitcolor": "white"
          },
          "hoverlabel": {
           "align": "left"
          },
          "hovermode": "closest",
          "mapbox": {
           "style": "light"
          },
          "paper_bgcolor": "white",
          "plot_bgcolor": "#E5ECF6",
          "polar": {
           "angularaxis": {
            "gridcolor": "white",
            "linecolor": "white",
            "ticks": ""
           },
           "bgcolor": "#E5ECF6",
           "radialaxis": {
            "gridcolor": "white",
            "linecolor": "white",
            "ticks": ""
           }
          },
          "scene": {
           "xaxis": {
            "backgroundcolor": "#E5ECF6",
            "gridcolor": "white",
            "gridwidth": 2,
            "linecolor": "white",
            "showbackground": true,
            "ticks": "",
            "zerolinecolor": "white"
           },
           "yaxis": {
            "backgroundcolor": "#E5ECF6",
            "gridcolor": "white",
            "gridwidth": 2,
            "linecolor": "white",
            "showbackground": true,
            "ticks": "",
            "zerolinecolor": "white"
           },
           "zaxis": {
            "backgroundcolor": "#E5ECF6",
            "gridcolor": "white",
            "gridwidth": 2,
            "linecolor": "white",
            "showbackground": true,
            "ticks": "",
            "zerolinecolor": "white"
           }
          },
          "shapedefaults": {
           "line": {
            "color": "#2a3f5f"
           }
          },
          "ternary": {
           "aaxis": {
            "gridcolor": "white",
            "linecolor": "white",
            "ticks": ""
           },
           "baxis": {
            "gridcolor": "white",
            "linecolor": "white",
            "ticks": ""
           },
           "bgcolor": "#E5ECF6",
           "caxis": {
            "gridcolor": "white",
            "linecolor": "white",
            "ticks": ""
           }
          },
          "title": {
           "x": 0.05
          },
          "xaxis": {
           "automargin": true,
           "gridcolor": "white",
           "linecolor": "white",
           "ticks": "",
           "title": {
            "standoff": 15
           },
           "zerolinecolor": "white",
           "zerolinewidth": 2
          },
          "yaxis": {
           "automargin": true,
           "gridcolor": "white",
           "linecolor": "white",
           "ticks": "",
           "title": {
            "standoff": 15
           },
           "zerolinecolor": "white",
           "zerolinewidth": 2
          }
         }
        },
        "xaxis": {
         "range": [
          0.10067302291211815,
          0.40358350850156494
         ],
         "tickformat": ".1%",
         "title": {
          "text": "Standard Deviation"
         }
        },
        "yaxis": {
         "range": [
          0.034999999999999996,
          0.125
         ],
         "tickformat": ".1%",
         "title": {
          "text": "Expected Return"
         }
        }
       }
      }
     },
     "metadata": {},
     "output_type": "display_data"
    }
   ],
   "source": [
    "fig = go.Figure()\n",
    "\n",
    "# Plot frontier\n",
    "string =  \"Asset 1: %{customdata[0]:.1%}<br>\"\n",
    "string += \"Asset 2: %{customdata[1]:.1%}<br>\"\n",
    "string += \"Asset 3: %{customdata[2]:.1%}<br>\"\n",
    "string += \"<extra></extra>\"\n",
    "trace= go.Scatter(x=df.port_sd, y=df.port_expret,mode=\"lines\",\n",
    "    customdata=df[['w1','w2','w3']],hovertemplate=string, name='Frontier')\n",
    "fig.add_trace(trace)\n",
    "\n",
    "# Plot underlying assets\n",
    "trace1= go.Scatter(x=[SDS[0]], y=[MNS[0]],mode=\"markers\", marker=dict(size=10, color=\"red\"), name='Asset 1')\n",
    "fig.add_trace(trace1)\n",
    "trace2= go.Scatter(x=[SDS[1]], y=[MNS[1]],mode=\"markers\", marker=dict(size=10, color=\"red\"), name='Asset 2')\n",
    "fig.add_trace(trace2)\n",
    "trace3= go.Scatter(x=[SDS[2]], y=[MNS[2]],mode=\"markers\", marker=dict(size=10, color=\"red\"), name='Asset 3')\n",
    "fig.add_trace(trace3)\n",
    "\n",
    "# Plot GMV\n",
    "trace= go.Scatter(x=[np.sqrt(wgts_gmv @ COV @ wgts_gmv)], y=[wgts_gmv @ MNS] ,\n",
    "    mode=\"markers\", marker=dict(size=10, color=\"black\"),\n",
    "    customdata=wgts_gmv.reshape(1,3),hovertemplate=string, name='GMV')\n",
    "fig.add_trace(trace)\n",
    "\n",
    "# Formatting\n",
    "fig.layout.yaxis[\"title\"] = \"Expected Return\"\n",
    "fig.layout.xaxis[\"title\"] = \"Standard Deviation\"\n",
    "fig.update_yaxes(tickformat=\".1%\")\n",
    "fig.update_xaxes(tickformat=\".1%\")\n",
    "fig.update_xaxes(range=[0.7 * df[\"port_sd\"].min(), 1.25 * df[\"port_sd\"].max()])\n",
    "fig.update_yaxes(range=[0.7 * df[\"port_expret\"].min(), 1.25 * df[\"port_expret\"].max()])\n",
    "fig.update_layout(legend=dict(yanchor=\"top\", y=0.99, xanchor=\"left\", x=0.01))\n",
    "fig.show()"
   ]
  }
 ],
 "metadata": {
  "kernelspec": {
   "display_name": "venv",
   "language": "python",
   "name": "python3"
  },
  "language_info": {
   "codemirror_mode": {
    "name": "ipython",
    "version": 3
   },
   "file_extension": ".py",
   "mimetype": "text/x-python",
   "name": "python",
   "nbconvert_exporter": "python",
   "pygments_lexer": "ipython3",
   "version": "3.10.6"
  },
  "orig_nbformat": 4,
  "vscode": {
   "interpreter": {
    "hash": "cc788b38d8cb434c82f45ef9d481d0310e17b79321e4c8cbfbfe90f656a3f023"
   }
  }
 },
 "nbformat": 4,
 "nbformat_minor": 2
}
