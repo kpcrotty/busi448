{
 "cells": [
  {
   "cell_type": "markdown",
   "metadata": {},
   "source": [
    "# Market Model Regression"
   ]
  },
  {
   "cell_type": "code",
   "execution_count": 9,
   "metadata": {},
   "outputs": [],
   "source": [
    "import pandas as pd\n",
    "import numpy as np\n",
    "from pandas_datareader import DataReader as pdr\n",
    "import statsmodels.api as sm\n",
    "import plotly.graph_objects as go\n",
    "\n",
    "# Read industry and clean-up missing data (coded -99.99)\n",
    "ff48 = pdr(\"48_Industry_Portfolios\", \"famafrench\", start=1900)[0]\n",
    "\n",
    "# Clean-up missings\n",
    "for c in ff48.columns:\n",
    "    ff48[c] = np.where(ff48[c]==-99.99, np.nan, ff48[c])\n",
    "ff48 = ff48/100\n",
    "\n",
    "# Pull and merge market returns\n",
    "ff3 = pdr('F-F_Research_Data_Factors','famafrench', start=1900)[0]/100\n",
    "df = ff48.join(ff3[['Mkt-RF','RF']])\n",
    "df = df.loc['1970-01':].copy()  # There is missing data prior to 1970"
   ]
  },
  {
   "cell_type": "code",
   "execution_count": 11,
   "metadata": {},
   "outputs": [
    {
     "data": {
      "text/plain": [
       "Index(['Agric', 'Food ', 'Soda ', 'Beer ', 'Smoke', 'Toys ', 'Fun  ', 'Books',\n",
       "       'Hshld', 'Clths', 'Hlth ', 'MedEq', 'Drugs', 'Chems', 'Rubbr', 'Txtls',\n",
       "       'BldMt', 'Cnstr', 'Steel', 'FabPr', 'Mach ', 'ElcEq', 'Autos', 'Aero ',\n",
       "       'Ships', 'Guns ', 'Gold ', 'Mines', 'Coal ', 'Oil  ', 'Util ', 'Telcm',\n",
       "       'PerSv', 'BusSv', 'Comps', 'Chips', 'LabEq', 'Paper', 'Boxes', 'Trans',\n",
       "       'Whlsl', 'Rtail', 'Meals', 'Banks', 'Insur', 'RlEst', 'Fin  ', 'Other',\n",
       "       'Mkt-RF', 'RF'],\n",
       "      dtype='object')"
      ]
     },
     "execution_count": 11,
     "metadata": {},
     "output_type": "execute_result"
    }
   ],
   "source": [
    "df.columns"
   ]
  },
  {
   "cell_type": "code",
   "execution_count": 10,
   "metadata": {},
   "outputs": [
    {
     "name": "stdout",
     "output_type": "stream",
     "text": [
      "                            OLS Regression Results                            \n",
      "==============================================================================\n",
      "Dep. Variable:                      y   R-squared:                       0.332\n",
      "Model:                            OLS   Adj. R-squared:                  0.331\n",
      "Method:                 Least Squares   F-statistic:                     313.2\n",
      "Date:                Tue, 15 Nov 2022   Prob (F-statistic):           3.26e-57\n",
      "Time:                        10:22:41   Log-Likelihood:                 1246.8\n",
      "No. Observations:                 633   AIC:                            -2490.\n",
      "Df Residuals:                     631   BIC:                            -2481.\n",
      "Df Model:                           1                                         \n",
      "Covariance Type:            nonrobust                                         \n",
      "==============================================================================\n",
      "                 coef    std err          t      P>|t|      [0.025      0.975]\n",
      "------------------------------------------------------------------------------\n",
      "const          0.0025      0.001      1.849      0.065      -0.000       0.005\n",
      "Mkt-RF         0.5158      0.029     17.698      0.000       0.459       0.573\n",
      "==============================================================================\n",
      "Omnibus:                        8.824   Durbin-Watson:                   1.992\n",
      "Prob(Omnibus):                  0.012   Jarque-Bera (JB):               13.735\n",
      "Skew:                          -0.011   Prob(JB):                      0.00104\n",
      "Kurtosis:                       3.721   Cond. No.                         21.7\n",
      "==============================================================================\n",
      "\n",
      "Notes:\n",
      "[1] Standard Errors assume that the covariance matrix of the errors is correctly specified.\n"
     ]
    }
   ],
   "source": [
    "## Market model\n",
    "varname = 'Util '\n",
    "y = df[varname]-df['RF']\n",
    "X = sm.add_constant(df['Mkt-RF'])\n",
    "mm = sm.OLS(y, X, missing='drop').fit()\n",
    "print(mm.summary())"
   ]
  },
  {
   "cell_type": "code",
   "execution_count": 17,
   "metadata": {},
   "outputs": [
    {
     "name": "stdout",
     "output_type": "stream",
     "text": [
      "                            OLS Regression Results                            \n",
      "==============================================================================\n",
      "Dep. Variable:                      y   R-squared:                       0.535\n",
      "Model:                            OLS   Adj. R-squared:                  0.534\n",
      "Method:                 Least Squares   F-statistic:                     725.4\n",
      "Date:                Tue, 15 Nov 2022   Prob (F-statistic):          5.93e-107\n",
      "Time:                        10:25:03   Log-Likelihood:                 957.86\n",
      "No. Observations:                 633   AIC:                            -1912.\n",
      "Df Residuals:                     631   BIC:                            -1903.\n",
      "Df Model:                           1                                         \n",
      "Covariance Type:            nonrobust                                         \n",
      "==============================================================================\n",
      "                 coef    std err          t      P>|t|      [0.025      0.975]\n",
      "------------------------------------------------------------------------------\n",
      "const       8.597e-05      0.002      0.040      0.968      -0.004       0.004\n",
      "Mkt-RF         1.2390      0.046     26.934      0.000       1.149       1.329\n",
      "==============================================================================\n",
      "Omnibus:                      221.667   Durbin-Watson:                   1.909\n",
      "Prob(Omnibus):                  0.000   Jarque-Bera (JB):             2301.473\n",
      "Skew:                           1.246   Prob(JB):                         0.00\n",
      "Kurtosis:                      12.003   Cond. No.                         21.7\n",
      "==============================================================================\n",
      "\n",
      "Notes:\n",
      "[1] Standard Errors assume that the covariance matrix of the errors is correctly specified.\n"
     ]
    }
   ],
   "source": [
    "## Market model\n",
    "varname = 'Autos'\n",
    "y = df[varname]-df['RF']\n",
    "X = sm.add_constant(df['Mkt-RF'])\n",
    "mm = sm.OLS(y, X, missing='drop').fit()\n",
    "print(mm.summary())"
   ]
  },
  {
   "cell_type": "code",
   "execution_count": 29,
   "metadata": {},
   "outputs": [],
   "source": [
    "def params(varname):\n",
    "    y = df[varname]-df['RF']\n",
    "    X = sm.add_constant(df['Mkt-RF'])\n",
    "    mm = sm.OLS(y, X, missing='drop').fit()\n",
    "    return mm.params.values\n",
    "df_beta = pd.DataFrame(index=ff48.columns, columns = ['alpha','beta'],dtype=float)\n",
    "for c in ff48.columns:\n",
    "    df_beta.loc[c,:] = params(c)"
   ]
  },
  {
   "cell_type": "code",
   "execution_count": 30,
   "metadata": {},
   "outputs": [
    {
     "data": {
      "text/html": [
       "<div>\n",
       "<style scoped>\n",
       "    .dataframe tbody tr th:only-of-type {\n",
       "        vertical-align: middle;\n",
       "    }\n",
       "\n",
       "    .dataframe tbody tr th {\n",
       "        vertical-align: top;\n",
       "    }\n",
       "\n",
       "    .dataframe thead th {\n",
       "        text-align: right;\n",
       "    }\n",
       "</style>\n",
       "<table border=\"1\" class=\"dataframe\">\n",
       "  <thead>\n",
       "    <tr style=\"text-align: right;\">\n",
       "      <th></th>\n",
       "      <th>alpha</th>\n",
       "      <th>beta</th>\n",
       "    </tr>\n",
       "  </thead>\n",
       "  <tbody>\n",
       "    <tr>\n",
       "      <th>Agric</th>\n",
       "      <td>0.001613</td>\n",
       "      <td>0.844771</td>\n",
       "    </tr>\n",
       "    <tr>\n",
       "      <th>Food</th>\n",
       "      <td>0.003292</td>\n",
       "      <td>0.65051</td>\n",
       "    </tr>\n",
       "    <tr>\n",
       "      <th>Soda</th>\n",
       "      <td>0.002821</td>\n",
       "      <td>0.799203</td>\n",
       "    </tr>\n",
       "    <tr>\n",
       "      <th>Beer</th>\n",
       "      <td>0.003371</td>\n",
       "      <td>0.722205</td>\n",
       "    </tr>\n",
       "    <tr>\n",
       "      <th>Smoke</th>\n",
       "      <td>0.006245</td>\n",
       "      <td>0.635587</td>\n",
       "    </tr>\n",
       "    <tr>\n",
       "      <th>Toys</th>\n",
       "      <td>-0.003034</td>\n",
       "      <td>1.178129</td>\n",
       "    </tr>\n",
       "    <tr>\n",
       "      <th>Fun</th>\n",
       "      <td>0.001189</td>\n",
       "      <td>1.338614</td>\n",
       "    </tr>\n",
       "    <tr>\n",
       "      <th>Books</th>\n",
       "      <td>-0.00128</td>\n",
       "      <td>1.081942</td>\n",
       "    </tr>\n",
       "    <tr>\n",
       "      <th>Hshld</th>\n",
       "      <td>0.000399</td>\n",
       "      <td>0.773439</td>\n",
       "    </tr>\n",
       "    <tr>\n",
       "      <th>Clths</th>\n",
       "      <td>0.000556</td>\n",
       "      <td>1.114118</td>\n",
       "    </tr>\n",
       "    <tr>\n",
       "      <th>Hlth</th>\n",
       "      <td>-0.000596</td>\n",
       "      <td>1.125943</td>\n",
       "    </tr>\n",
       "    <tr>\n",
       "      <th>MedEq</th>\n",
       "      <td>0.001239</td>\n",
       "      <td>0.906563</td>\n",
       "    </tr>\n",
       "    <tr>\n",
       "      <th>Drugs</th>\n",
       "      <td>0.002562</td>\n",
       "      <td>0.76777</td>\n",
       "    </tr>\n",
       "    <tr>\n",
       "      <th>Chems</th>\n",
       "      <td>0.000487</td>\n",
       "      <td>1.052284</td>\n",
       "    </tr>\n",
       "    <tr>\n",
       "      <th>Rubbr</th>\n",
       "      <td>0.000781</td>\n",
       "      <td>1.068038</td>\n",
       "    </tr>\n",
       "    <tr>\n",
       "      <th>Txtls</th>\n",
       "      <td>-0.001042</td>\n",
       "      <td>1.15003</td>\n",
       "    </tr>\n",
       "    <tr>\n",
       "      <th>BldMt</th>\n",
       "      <td>-0.000257</td>\n",
       "      <td>1.191047</td>\n",
       "    </tr>\n",
       "    <tr>\n",
       "      <th>Cnstr</th>\n",
       "      <td>-0.001452</td>\n",
       "      <td>1.277505</td>\n",
       "    </tr>\n",
       "    <tr>\n",
       "      <th>Steel</th>\n",
       "      <td>-0.003125</td>\n",
       "      <td>1.328546</td>\n",
       "    </tr>\n",
       "    <tr>\n",
       "      <th>FabPr</th>\n",
       "      <td>-0.001528</td>\n",
       "      <td>1.106557</td>\n",
       "    </tr>\n",
       "    <tr>\n",
       "      <th>Mach</th>\n",
       "      <td>-0.00041</td>\n",
       "      <td>1.22478</td>\n",
       "    </tr>\n",
       "    <tr>\n",
       "      <th>ElcEq</th>\n",
       "      <td>0.000686</td>\n",
       "      <td>1.228995</td>\n",
       "    </tr>\n",
       "    <tr>\n",
       "      <th>Autos</th>\n",
       "      <td>0.000086</td>\n",
       "      <td>1.239019</td>\n",
       "    </tr>\n",
       "    <tr>\n",
       "      <th>Aero</th>\n",
       "      <td>0.001712</td>\n",
       "      <td>1.133451</td>\n",
       "    </tr>\n",
       "    <tr>\n",
       "      <th>Ships</th>\n",
       "      <td>0.000662</td>\n",
       "      <td>1.100845</td>\n",
       "    </tr>\n",
       "    <tr>\n",
       "      <th>Guns</th>\n",
       "      <td>0.004919</td>\n",
       "      <td>0.782415</td>\n",
       "    </tr>\n",
       "    <tr>\n",
       "      <th>Gold</th>\n",
       "      <td>0.002327</td>\n",
       "      <td>0.564163</td>\n",
       "    </tr>\n",
       "    <tr>\n",
       "      <th>Mines</th>\n",
       "      <td>0.00042</td>\n",
       "      <td>1.118807</td>\n",
       "    </tr>\n",
       "    <tr>\n",
       "      <th>Coal</th>\n",
       "      <td>0.000767</td>\n",
       "      <td>1.153815</td>\n",
       "    </tr>\n",
       "    <tr>\n",
       "      <th>Oil</th>\n",
       "      <td>0.002281</td>\n",
       "      <td>0.858441</td>\n",
       "    </tr>\n",
       "    <tr>\n",
       "      <th>Util</th>\n",
       "      <td>0.002504</td>\n",
       "      <td>0.515812</td>\n",
       "    </tr>\n",
       "    <tr>\n",
       "      <th>Telcm</th>\n",
       "      <td>0.000741</td>\n",
       "      <td>0.792798</td>\n",
       "    </tr>\n",
       "    <tr>\n",
       "      <th>PerSv</th>\n",
       "      <td>-0.003733</td>\n",
       "      <td>1.08776</td>\n",
       "    </tr>\n",
       "    <tr>\n",
       "      <th>BusSv</th>\n",
       "      <td>0.000191</td>\n",
       "      <td>1.261318</td>\n",
       "    </tr>\n",
       "    <tr>\n",
       "      <th>Comps</th>\n",
       "      <td>-0.001625</td>\n",
       "      <td>1.198053</td>\n",
       "    </tr>\n",
       "    <tr>\n",
       "      <th>Chips</th>\n",
       "      <td>0.000015</td>\n",
       "      <td>1.387478</td>\n",
       "    </tr>\n",
       "    <tr>\n",
       "      <th>LabEq</th>\n",
       "      <td>-0.000058</td>\n",
       "      <td>1.264037</td>\n",
       "    </tr>\n",
       "    <tr>\n",
       "      <th>Paper</th>\n",
       "      <td>-0.000362</td>\n",
       "      <td>0.957084</td>\n",
       "    </tr>\n",
       "    <tr>\n",
       "      <th>Boxes</th>\n",
       "      <td>0.000462</td>\n",
       "      <td>0.956197</td>\n",
       "    </tr>\n",
       "    <tr>\n",
       "      <th>Trans</th>\n",
       "      <td>0.000062</td>\n",
       "      <td>1.062852</td>\n",
       "    </tr>\n",
       "    <tr>\n",
       "      <th>Whlsl</th>\n",
       "      <td>0.000094</td>\n",
       "      <td>1.03725</td>\n",
       "    </tr>\n",
       "    <tr>\n",
       "      <th>Rtail</th>\n",
       "      <td>0.001487</td>\n",
       "      <td>1.001465</td>\n",
       "    </tr>\n",
       "    <tr>\n",
       "      <th>Meals</th>\n",
       "      <td>0.001114</td>\n",
       "      <td>1.026546</td>\n",
       "    </tr>\n",
       "    <tr>\n",
       "      <th>Banks</th>\n",
       "      <td>-0.000077</td>\n",
       "      <td>1.073443</td>\n",
       "    </tr>\n",
       "    <tr>\n",
       "      <th>Insur</th>\n",
       "      <td>0.001834</td>\n",
       "      <td>0.942057</td>\n",
       "    </tr>\n",
       "    <tr>\n",
       "      <th>RlEst</th>\n",
       "      <td>-0.004439</td>\n",
       "      <td>1.232069</td>\n",
       "    </tr>\n",
       "    <tr>\n",
       "      <th>Fin</th>\n",
       "      <td>0.000546</td>\n",
       "      <td>1.22512</td>\n",
       "    </tr>\n",
       "    <tr>\n",
       "      <th>Other</th>\n",
       "      <td>-0.0048</td>\n",
       "      <td>1.130517</td>\n",
       "    </tr>\n",
       "  </tbody>\n",
       "</table>\n",
       "</div>"
      ],
      "text/plain": [
       "          alpha      beta\n",
       "Agric  0.001613  0.844771\n",
       "Food   0.003292   0.65051\n",
       "Soda   0.002821  0.799203\n",
       "Beer   0.003371  0.722205\n",
       "Smoke  0.006245  0.635587\n",
       "Toys  -0.003034  1.178129\n",
       "Fun    0.001189  1.338614\n",
       "Books  -0.00128  1.081942\n",
       "Hshld  0.000399  0.773439\n",
       "Clths  0.000556  1.114118\n",
       "Hlth  -0.000596  1.125943\n",
       "MedEq  0.001239  0.906563\n",
       "Drugs  0.002562   0.76777\n",
       "Chems  0.000487  1.052284\n",
       "Rubbr  0.000781  1.068038\n",
       "Txtls -0.001042   1.15003\n",
       "BldMt -0.000257  1.191047\n",
       "Cnstr -0.001452  1.277505\n",
       "Steel -0.003125  1.328546\n",
       "FabPr -0.001528  1.106557\n",
       "Mach   -0.00041   1.22478\n",
       "ElcEq  0.000686  1.228995\n",
       "Autos  0.000086  1.239019\n",
       "Aero   0.001712  1.133451\n",
       "Ships  0.000662  1.100845\n",
       "Guns   0.004919  0.782415\n",
       "Gold   0.002327  0.564163\n",
       "Mines   0.00042  1.118807\n",
       "Coal   0.000767  1.153815\n",
       "Oil    0.002281  0.858441\n",
       "Util   0.002504  0.515812\n",
       "Telcm  0.000741  0.792798\n",
       "PerSv -0.003733   1.08776\n",
       "BusSv  0.000191  1.261318\n",
       "Comps -0.001625  1.198053\n",
       "Chips  0.000015  1.387478\n",
       "LabEq -0.000058  1.264037\n",
       "Paper -0.000362  0.957084\n",
       "Boxes  0.000462  0.956197\n",
       "Trans  0.000062  1.062852\n",
       "Whlsl  0.000094   1.03725\n",
       "Rtail  0.001487  1.001465\n",
       "Meals  0.001114  1.026546\n",
       "Banks -0.000077  1.073443\n",
       "Insur  0.001834  0.942057\n",
       "RlEst -0.004439  1.232069\n",
       "Fin    0.000546   1.22512\n",
       "Other   -0.0048  1.130517"
      ]
     },
     "execution_count": 30,
     "metadata": {},
     "output_type": "execute_result"
    }
   ],
   "source": [
    "df_beta"
   ]
  },
  {
   "cell_type": "markdown",
   "metadata": {},
   "source": [
    "## Let's split the sample into two half and estimate alphas and betas on each"
   ]
  },
  {
   "cell_type": "code",
   "execution_count": 63,
   "metadata": {},
   "outputs": [],
   "source": [
    "# Adjust function to take a dataframe as an argument\n",
    "def params(frame, varname):\n",
    "    y = frame[varname]-frame['RF']\n",
    "    X = sm.add_constant(frame['Mkt-RF'])\n",
    "    mm = sm.OLS(y, X, missing='drop').fit()\n",
    "    return mm.params.values\n",
    "\n",
    "# Find the halfway mark\n",
    "T = len(df.index)\n",
    "halfway = df.index[int(T/2)]\n",
    "halfway\n",
    "\n",
    "# Split sample\n",
    "df_first_half = df.loc[:halfway]\n",
    "df_second_half= df.loc[halfway+1:]\n",
    "\n",
    "# Output dataframe will have two sets of parameters\n",
    "df_beta = pd.DataFrame(index=ff48.columns, columns = ['alpha_0','beta_0','alpha_1','beta_1'],dtype=float)\n",
    "for c in ff48.columns:\n",
    "    # First half regression\n",
    "    df_beta.loc[c,['alpha_0','beta_0']] = params(df_first_half,c)\n",
    "\n",
    "    # Second half regression\n",
    "    df_beta.loc[c,['alpha_1','beta_1']] = params(df_second_half,c)    "
   ]
  },
  {
   "cell_type": "markdown",
   "metadata": {},
   "source": [
    "### Compare the persistence of alpha to the persistence of beta"
   ]
  },
  {
   "cell_type": "code",
   "execution_count": 108,
   "metadata": {},
   "outputs": [
    {
     "name": "stdout",
     "output_type": "stream",
     "text": [
      "                                 OLS Regression Results                                \n",
      "=======================================================================================\n",
      "Dep. Variable:                alpha_1   R-squared (uncentered):                   0.151\n",
      "Model:                            OLS   Adj. R-squared (uncentered):              0.133\n",
      "Method:                 Least Squares   F-statistic:                              8.389\n",
      "Date:                Tue, 15 Nov 2022   Prob (F-statistic):                     0.00571\n",
      "Time:                        12:45:08   Log-Likelihood:                          217.50\n",
      "No. Observations:                  48   AIC:                                     -433.0\n",
      "Df Residuals:                      47   BIC:                                     -431.1\n",
      "Df Model:                           1                                                  \n",
      "Covariance Type:            nonrobust                                                  \n",
      "==============================================================================\n",
      "                 coef    std err          t      P>|t|      [0.025      0.975]\n",
      "------------------------------------------------------------------------------\n",
      "alpha_0        0.4572      0.158      2.896      0.006       0.140       0.775\n",
      "==============================================================================\n",
      "Omnibus:                        1.064   Durbin-Watson:                   1.525\n",
      "Prob(Omnibus):                  0.588   Jarque-Bera (JB):                0.840\n",
      "Skew:                           0.320   Prob(JB):                        0.657\n",
      "Kurtosis:                       2.902   Cond. No.                         1.00\n",
      "==============================================================================\n",
      "\n",
      "Notes:\n",
      "[1] R² is computed without centering (uncentered) since the model does not contain a constant.\n",
      "[2] Standard Errors assume that the covariance matrix of the errors is correctly specified.\n"
     ]
    }
   ],
   "source": [
    "# Alpha regression\n",
    "y = df_beta['alpha_1']\n",
    "X = sm.add_constant(df_beta['alpha_0'])\n",
    "X = df_beta['alpha_0']\n",
    "results = sm.OLS(y, X, missing='drop').fit()\n",
    "print(results.summary())"
   ]
  },
  {
   "cell_type": "code",
   "execution_count": 109,
   "metadata": {},
   "outputs": [
    {
     "data": {
      "application/vnd.plotly.v1+json": {
       "config": {
        "plotlyServerURL": "https://plot.ly"
       },
       "data": [
        {
         "mode": "markers",
         "type": "scatter",
         "x": [
          -0.0007726254527481596,
          0.0037648738081696624,
          0.0005456432291372779,
          0.00360249249493419,
          0.0054374133041808995,
          -0.0018282108285977167,
          0.0026552183238473357,
          0.00015930894860709483,
          -0.0011489587371980845,
          0.0002244351620545094,
          -0.0005200236144070327,
          -0.00035608346452105323,
          0.0016945713701072384,
          0.0010401226247307243,
          0.00026056323224447116,
          0.0007622053652588756,
          -0.00042027682904964125,
          -0.004276781968319192,
          -0.002483073132529109,
          -0.0015018086974035816,
          -0.0014175563218314544,
          0.000890791886767483,
          -0.00012928125888074515,
          0.0018399306568803073,
          -0.003749863837354867,
          0.003741629285459824,
          0.003254544672848603,
          -0.0005165714263770634,
          -0.003371011927089651,
          0.0022575907236561,
          0.0012086902548628653,
          0.0032369366395620216,
          -0.004829673330788183,
          0.00010954807321051502,
          -0.0031831464140691917,
          -0.0007328168615691434,
          -0.0015652795541685155,
          0.00021902655077053615,
          0.0003357743842069493,
          0.00001842002786440664,
          0.00023965336878892056,
          0.000375944327039123,
          -0.00040248288147161284,
          0.0005674683001328992,
          0.0012864080056747774,
          -0.005699036010902264,
          0.0005828164390743424,
          -0.005624955822995728
         ],
         "y": [
          0.004219388868012615,
          0.003057491735112148,
          0.00525128806700419,
          0.003412064042280943,
          0.0072530170146741894,
          -0.004047076792600468,
          -0.00030958433224274537,
          -0.0026824194447831497,
          0.0021997638504450373,
          0.0010053760516193619,
          -0.00027540328859280527,
          0.002976263464429134,
          0.003622739261861724,
          -0.00005732065151166279,
          0.0013705358753060082,
          -0.002954037996916931,
          -0.00007488790909445731,
          0.0014894536237900927,
          -0.004087471081016783,
          -0.001571530175449341,
          0.0005158324189598745,
          0.0004208576706302004,
          0.000014561819511442389,
          0.0017003477385525406,
          0.005138720696050047,
          0.0064685085359318766,
          0.001592066155564096,
          0.0012541874740858295,
          0.004915854380401761,
          0.002269384407823526,
          0.0039276349460889565,
          -0.0019333173874735948,
          -0.0023926933781180165,
          0.00030263392222622406,
          -0.0002664373283443205,
          0.0006540688976051182,
          0.0015518115101856949,
          -0.00081686046244169,
          0.0005672917979807697,
          0.00024300248079560198,
          0.00011455290626780204,
          0.002746841163131045,
          0.0029622056371259673,
          -0.0007047134539167784,
          0.002457833760270127,
          -0.0031654071984823827,
          0.0003313263575532169,
          -0.003800625275935764
         ]
        },
        {
         "mode": "lines",
         "name": "45-degree line",
         "type": "scatter",
         "x": [
          -0.005699036010902264,
          -0.0050173490095561345,
          -0.004335662008210005,
          -0.0036539750068638765,
          -0.0029722880055177473,
          -0.002290601004171618,
          -0.0016089140028254893,
          -0.0009272270014793601,
          -0.0002455400001332309,
          0.0004361470012128983,
          0.0011178340025590275,
          0.0017995210039051567,
          0.002481208005251285,
          0.003162895006597415,
          0.0038445820079435434,
          0.0045262690092896735,
          0.005207956010635802,
          0.00588964301198193,
          0.00657133001332806,
          0.0072530170146741894
         ],
         "y": [
          -0.005699036010902264,
          -0.0050173490095561345,
          -0.004335662008210005,
          -0.0036539750068638765,
          -0.0029722880055177473,
          -0.002290601004171618,
          -0.0016089140028254893,
          -0.0009272270014793601,
          -0.0002455400001332309,
          0.0004361470012128983,
          0.0011178340025590275,
          0.0017995210039051567,
          0.002481208005251285,
          0.003162895006597415,
          0.0038445820079435434,
          0.0045262690092896735,
          0.005207956010635802,
          0.00588964301198193,
          0.00657133001332806,
          0.0072530170146741894
         ]
        },
        {
         "mode": "lines",
         "name": "Predicted",
         "type": "scatter",
         "x": [
          -0.005699036010902264,
          -0.0050173490095561345,
          -0.004335662008210005,
          -0.0036539750068638765,
          -0.0029722880055177473,
          -0.002290601004171618,
          -0.0016089140028254893,
          -0.0009272270014793601,
          -0.0002455400001332309,
          0.0004361470012128983,
          0.0011178340025590275,
          0.0017995210039051567,
          0.002481208005251285,
          0.003162895006597415,
          0.0038445820079435434,
          0.0045262690092896735,
          0.005207956010635802,
          0.00588964301198193,
          0.00657133001332806,
          0.0072530170146741894
         ],
         "y": [
          -0.002605425029905865,
          -0.002293778573826095,
          -0.0019821321177463254,
          -0.001670485661666556,
          -0.0013588392055867862,
          -0.0010471927495070167,
          -0.0007355462934272472,
          -0.0004238998373474776,
          -0.00011225338126770794,
          0.0001993930748120617,
          0.0005110395308918313,
          0.000822685986971601,
          0.0011343324430513702,
          0.0014459788991311403,
          0.0017576253552109096,
          0.0020692718112906797,
          0.002380918267370449,
          0.002692564723450218,
          0.0030042111795299882,
          0.0033158576356097577
         ]
        }
       ],
       "layout": {
        "legend": {
         "x": 0.01,
         "xanchor": "left",
         "y": 0.99,
         "yanchor": "top"
        },
        "template": {
         "data": {
          "bar": [
           {
            "error_x": {
             "color": "#2a3f5f"
            },
            "error_y": {
             "color": "#2a3f5f"
            },
            "marker": {
             "line": {
              "color": "#E5ECF6",
              "width": 0.5
             },
             "pattern": {
              "fillmode": "overlay",
              "size": 10,
              "solidity": 0.2
             }
            },
            "type": "bar"
           }
          ],
          "barpolar": [
           {
            "marker": {
             "line": {
              "color": "#E5ECF6",
              "width": 0.5
             },
             "pattern": {
              "fillmode": "overlay",
              "size": 10,
              "solidity": 0.2
             }
            },
            "type": "barpolar"
           }
          ],
          "carpet": [
           {
            "aaxis": {
             "endlinecolor": "#2a3f5f",
             "gridcolor": "white",
             "linecolor": "white",
             "minorgridcolor": "white",
             "startlinecolor": "#2a3f5f"
            },
            "baxis": {
             "endlinecolor": "#2a3f5f",
             "gridcolor": "white",
             "linecolor": "white",
             "minorgridcolor": "white",
             "startlinecolor": "#2a3f5f"
            },
            "type": "carpet"
           }
          ],
          "choropleth": [
           {
            "colorbar": {
             "outlinewidth": 0,
             "ticks": ""
            },
            "type": "choropleth"
           }
          ],
          "contour": [
           {
            "colorbar": {
             "outlinewidth": 0,
             "ticks": ""
            },
            "colorscale": [
             [
              0,
              "#0d0887"
             ],
             [
              0.1111111111111111,
              "#46039f"
             ],
             [
              0.2222222222222222,
              "#7201a8"
             ],
             [
              0.3333333333333333,
              "#9c179e"
             ],
             [
              0.4444444444444444,
              "#bd3786"
             ],
             [
              0.5555555555555556,
              "#d8576b"
             ],
             [
              0.6666666666666666,
              "#ed7953"
             ],
             [
              0.7777777777777778,
              "#fb9f3a"
             ],
             [
              0.8888888888888888,
              "#fdca26"
             ],
             [
              1,
              "#f0f921"
             ]
            ],
            "type": "contour"
           }
          ],
          "contourcarpet": [
           {
            "colorbar": {
             "outlinewidth": 0,
             "ticks": ""
            },
            "type": "contourcarpet"
           }
          ],
          "heatmap": [
           {
            "colorbar": {
             "outlinewidth": 0,
             "ticks": ""
            },
            "colorscale": [
             [
              0,
              "#0d0887"
             ],
             [
              0.1111111111111111,
              "#46039f"
             ],
             [
              0.2222222222222222,
              "#7201a8"
             ],
             [
              0.3333333333333333,
              "#9c179e"
             ],
             [
              0.4444444444444444,
              "#bd3786"
             ],
             [
              0.5555555555555556,
              "#d8576b"
             ],
             [
              0.6666666666666666,
              "#ed7953"
             ],
             [
              0.7777777777777778,
              "#fb9f3a"
             ],
             [
              0.8888888888888888,
              "#fdca26"
             ],
             [
              1,
              "#f0f921"
             ]
            ],
            "type": "heatmap"
           }
          ],
          "heatmapgl": [
           {
            "colorbar": {
             "outlinewidth": 0,
             "ticks": ""
            },
            "colorscale": [
             [
              0,
              "#0d0887"
             ],
             [
              0.1111111111111111,
              "#46039f"
             ],
             [
              0.2222222222222222,
              "#7201a8"
             ],
             [
              0.3333333333333333,
              "#9c179e"
             ],
             [
              0.4444444444444444,
              "#bd3786"
             ],
             [
              0.5555555555555556,
              "#d8576b"
             ],
             [
              0.6666666666666666,
              "#ed7953"
             ],
             [
              0.7777777777777778,
              "#fb9f3a"
             ],
             [
              0.8888888888888888,
              "#fdca26"
             ],
             [
              1,
              "#f0f921"
             ]
            ],
            "type": "heatmapgl"
           }
          ],
          "histogram": [
           {
            "marker": {
             "pattern": {
              "fillmode": "overlay",
              "size": 10,
              "solidity": 0.2
             }
            },
            "type": "histogram"
           }
          ],
          "histogram2d": [
           {
            "colorbar": {
             "outlinewidth": 0,
             "ticks": ""
            },
            "colorscale": [
             [
              0,
              "#0d0887"
             ],
             [
              0.1111111111111111,
              "#46039f"
             ],
             [
              0.2222222222222222,
              "#7201a8"
             ],
             [
              0.3333333333333333,
              "#9c179e"
             ],
             [
              0.4444444444444444,
              "#bd3786"
             ],
             [
              0.5555555555555556,
              "#d8576b"
             ],
             [
              0.6666666666666666,
              "#ed7953"
             ],
             [
              0.7777777777777778,
              "#fb9f3a"
             ],
             [
              0.8888888888888888,
              "#fdca26"
             ],
             [
              1,
              "#f0f921"
             ]
            ],
            "type": "histogram2d"
           }
          ],
          "histogram2dcontour": [
           {
            "colorbar": {
             "outlinewidth": 0,
             "ticks": ""
            },
            "colorscale": [
             [
              0,
              "#0d0887"
             ],
             [
              0.1111111111111111,
              "#46039f"
             ],
             [
              0.2222222222222222,
              "#7201a8"
             ],
             [
              0.3333333333333333,
              "#9c179e"
             ],
             [
              0.4444444444444444,
              "#bd3786"
             ],
             [
              0.5555555555555556,
              "#d8576b"
             ],
             [
              0.6666666666666666,
              "#ed7953"
             ],
             [
              0.7777777777777778,
              "#fb9f3a"
             ],
             [
              0.8888888888888888,
              "#fdca26"
             ],
             [
              1,
              "#f0f921"
             ]
            ],
            "type": "histogram2dcontour"
           }
          ],
          "mesh3d": [
           {
            "colorbar": {
             "outlinewidth": 0,
             "ticks": ""
            },
            "type": "mesh3d"
           }
          ],
          "parcoords": [
           {
            "line": {
             "colorbar": {
              "outlinewidth": 0,
              "ticks": ""
             }
            },
            "type": "parcoords"
           }
          ],
          "pie": [
           {
            "automargin": true,
            "type": "pie"
           }
          ],
          "scatter": [
           {
            "fillpattern": {
             "fillmode": "overlay",
             "size": 10,
             "solidity": 0.2
            },
            "type": "scatter"
           }
          ],
          "scatter3d": [
           {
            "line": {
             "colorbar": {
              "outlinewidth": 0,
              "ticks": ""
             }
            },
            "marker": {
             "colorbar": {
              "outlinewidth": 0,
              "ticks": ""
             }
            },
            "type": "scatter3d"
           }
          ],
          "scattercarpet": [
           {
            "marker": {
             "colorbar": {
              "outlinewidth": 0,
              "ticks": ""
             }
            },
            "type": "scattercarpet"
           }
          ],
          "scattergeo": [
           {
            "marker": {
             "colorbar": {
              "outlinewidth": 0,
              "ticks": ""
             }
            },
            "type": "scattergeo"
           }
          ],
          "scattergl": [
           {
            "marker": {
             "colorbar": {
              "outlinewidth": 0,
              "ticks": ""
             }
            },
            "type": "scattergl"
           }
          ],
          "scattermapbox": [
           {
            "marker": {
             "colorbar": {
              "outlinewidth": 0,
              "ticks": ""
             }
            },
            "type": "scattermapbox"
           }
          ],
          "scatterpolar": [
           {
            "marker": {
             "colorbar": {
              "outlinewidth": 0,
              "ticks": ""
             }
            },
            "type": "scatterpolar"
           }
          ],
          "scatterpolargl": [
           {
            "marker": {
             "colorbar": {
              "outlinewidth": 0,
              "ticks": ""
             }
            },
            "type": "scatterpolargl"
           }
          ],
          "scatterternary": [
           {
            "marker": {
             "colorbar": {
              "outlinewidth": 0,
              "ticks": ""
             }
            },
            "type": "scatterternary"
           }
          ],
          "surface": [
           {
            "colorbar": {
             "outlinewidth": 0,
             "ticks": ""
            },
            "colorscale": [
             [
              0,
              "#0d0887"
             ],
             [
              0.1111111111111111,
              "#46039f"
             ],
             [
              0.2222222222222222,
              "#7201a8"
             ],
             [
              0.3333333333333333,
              "#9c179e"
             ],
             [
              0.4444444444444444,
              "#bd3786"
             ],
             [
              0.5555555555555556,
              "#d8576b"
             ],
             [
              0.6666666666666666,
              "#ed7953"
             ],
             [
              0.7777777777777778,
              "#fb9f3a"
             ],
             [
              0.8888888888888888,
              "#fdca26"
             ],
             [
              1,
              "#f0f921"
             ]
            ],
            "type": "surface"
           }
          ],
          "table": [
           {
            "cells": {
             "fill": {
              "color": "#EBF0F8"
             },
             "line": {
              "color": "white"
             }
            },
            "header": {
             "fill": {
              "color": "#C8D4E3"
             },
             "line": {
              "color": "white"
             }
            },
            "type": "table"
           }
          ]
         },
         "layout": {
          "annotationdefaults": {
           "arrowcolor": "#2a3f5f",
           "arrowhead": 0,
           "arrowwidth": 1
          },
          "autotypenumbers": "strict",
          "coloraxis": {
           "colorbar": {
            "outlinewidth": 0,
            "ticks": ""
           }
          },
          "colorscale": {
           "diverging": [
            [
             0,
             "#8e0152"
            ],
            [
             0.1,
             "#c51b7d"
            ],
            [
             0.2,
             "#de77ae"
            ],
            [
             0.3,
             "#f1b6da"
            ],
            [
             0.4,
             "#fde0ef"
            ],
            [
             0.5,
             "#f7f7f7"
            ],
            [
             0.6,
             "#e6f5d0"
            ],
            [
             0.7,
             "#b8e186"
            ],
            [
             0.8,
             "#7fbc41"
            ],
            [
             0.9,
             "#4d9221"
            ],
            [
             1,
             "#276419"
            ]
           ],
           "sequential": [
            [
             0,
             "#0d0887"
            ],
            [
             0.1111111111111111,
             "#46039f"
            ],
            [
             0.2222222222222222,
             "#7201a8"
            ],
            [
             0.3333333333333333,
             "#9c179e"
            ],
            [
             0.4444444444444444,
             "#bd3786"
            ],
            [
             0.5555555555555556,
             "#d8576b"
            ],
            [
             0.6666666666666666,
             "#ed7953"
            ],
            [
             0.7777777777777778,
             "#fb9f3a"
            ],
            [
             0.8888888888888888,
             "#fdca26"
            ],
            [
             1,
             "#f0f921"
            ]
           ],
           "sequentialminus": [
            [
             0,
             "#0d0887"
            ],
            [
             0.1111111111111111,
             "#46039f"
            ],
            [
             0.2222222222222222,
             "#7201a8"
            ],
            [
             0.3333333333333333,
             "#9c179e"
            ],
            [
             0.4444444444444444,
             "#bd3786"
            ],
            [
             0.5555555555555556,
             "#d8576b"
            ],
            [
             0.6666666666666666,
             "#ed7953"
            ],
            [
             0.7777777777777778,
             "#fb9f3a"
            ],
            [
             0.8888888888888888,
             "#fdca26"
            ],
            [
             1,
             "#f0f921"
            ]
           ]
          },
          "colorway": [
           "#636efa",
           "#EF553B",
           "#00cc96",
           "#ab63fa",
           "#FFA15A",
           "#19d3f3",
           "#FF6692",
           "#B6E880",
           "#FF97FF",
           "#FECB52"
          ],
          "font": {
           "color": "#2a3f5f"
          },
          "geo": {
           "bgcolor": "white",
           "lakecolor": "white",
           "landcolor": "#E5ECF6",
           "showlakes": true,
           "showland": true,
           "subunitcolor": "white"
          },
          "hoverlabel": {
           "align": "left"
          },
          "hovermode": "closest",
          "mapbox": {
           "style": "light"
          },
          "paper_bgcolor": "white",
          "plot_bgcolor": "#E5ECF6",
          "polar": {
           "angularaxis": {
            "gridcolor": "white",
            "linecolor": "white",
            "ticks": ""
           },
           "bgcolor": "#E5ECF6",
           "radialaxis": {
            "gridcolor": "white",
            "linecolor": "white",
            "ticks": ""
           }
          },
          "scene": {
           "xaxis": {
            "backgroundcolor": "#E5ECF6",
            "gridcolor": "white",
            "gridwidth": 2,
            "linecolor": "white",
            "showbackground": true,
            "ticks": "",
            "zerolinecolor": "white"
           },
           "yaxis": {
            "backgroundcolor": "#E5ECF6",
            "gridcolor": "white",
            "gridwidth": 2,
            "linecolor": "white",
            "showbackground": true,
            "ticks": "",
            "zerolinecolor": "white"
           },
           "zaxis": {
            "backgroundcolor": "#E5ECF6",
            "gridcolor": "white",
            "gridwidth": 2,
            "linecolor": "white",
            "showbackground": true,
            "ticks": "",
            "zerolinecolor": "white"
           }
          },
          "shapedefaults": {
           "line": {
            "color": "#2a3f5f"
           }
          },
          "ternary": {
           "aaxis": {
            "gridcolor": "white",
            "linecolor": "white",
            "ticks": ""
           },
           "baxis": {
            "gridcolor": "white",
            "linecolor": "white",
            "ticks": ""
           },
           "bgcolor": "#E5ECF6",
           "caxis": {
            "gridcolor": "white",
            "linecolor": "white",
            "ticks": ""
           }
          },
          "title": {
           "x": 0.05
          },
          "xaxis": {
           "automargin": true,
           "gridcolor": "white",
           "linecolor": "white",
           "ticks": "",
           "title": {
            "standoff": 15
           },
           "zerolinecolor": "white",
           "zerolinewidth": 2
          },
          "yaxis": {
           "automargin": true,
           "gridcolor": "white",
           "linecolor": "white",
           "ticks": "",
           "title": {
            "standoff": 15
           },
           "zerolinecolor": "white",
           "zerolinewidth": 2
          }
         }
        },
        "title": {
         "text": "Alpha Persistence"
        },
        "xaxis": {
         "range": [
          -0.006268939611992491,
          0.00797831871614161
         ],
         "tickformat": ".2%",
         "title": {
          "text": "1st Half Alpha"
         }
        },
        "yaxis": {
         "range": [
          -0.006268939611992491,
          0.00797831871614161
         ],
         "tickformat": ".2%",
         "title": {
          "text": "2nd Half Alpha"
         }
        }
       }
      }
     },
     "metadata": {},
     "output_type": "display_data"
    }
   ],
   "source": [
    "# Scatter plot\n",
    "\n",
    "trace  = go.Scatter(x=df_beta['alpha_0'], y=df_beta['alpha_1'], mode=\"markers\")\n",
    "minval = np.min([df_beta['alpha_1'].min(), df_beta['alpha_0'].min()])\n",
    "maxval = np.max([df_beta['alpha_1'].max(), df_beta['alpha_0'].max()])\n",
    "trace_45 = go.Scatter(x= np.linspace(minval,maxval,20), y = np.linspace(minval,maxval,20), mode='lines',name='45-degree line')\n",
    "# ols_fit = results.params[0] + results.params[1]*np.linspace(minval,maxval,20)\n",
    "ols_fit = results.params['alpha_0']*np.linspace(minval,maxval,20)\n",
    "trace_ols= go.Scatter(x= np.linspace(minval,maxval,20), y = ols_fit, mode='lines',name='Predicted')\n",
    "\n",
    "fig = go.Figure()\n",
    "fig.add_trace(trace)\n",
    "fig.add_trace(trace_45)\n",
    "fig.add_trace(trace_ols)\n",
    "fig.update_xaxes(title='1st Half Alpha',tickformat=\".2%\", range=[1.1*minval, 1.1*maxval])\n",
    "fig.update_yaxes(title='2nd Half Alpha',tickformat=\".2%\", range=[1.1*minval, 1.1*maxval])\n",
    "fig.update_layout(title='Alpha Persistence')\n",
    "fig.update_layout(legend=dict(yanchor=\"top\", y =0.99, xanchor=\"left\", x=0.01))\n",
    "fig.show()"
   ]
  },
  {
   "cell_type": "code",
   "execution_count": 103,
   "metadata": {},
   "outputs": [
    {
     "name": "stdout",
     "output_type": "stream",
     "text": [
      "                            OLS Regression Results                            \n",
      "==============================================================================\n",
      "Dep. Variable:                 beta_1   R-squared:                       0.249\n",
      "Model:                            OLS   Adj. R-squared:                  0.233\n",
      "Method:                 Least Squares   F-statistic:                     15.29\n",
      "Date:                Tue, 15 Nov 2022   Prob (F-statistic):           0.000302\n",
      "Time:                        12:44:10   Log-Likelihood:                -3.0123\n",
      "No. Observations:                  48   AIC:                             10.02\n",
      "Df Residuals:                      46   BIC:                             13.77\n",
      "Df Model:                           1                                         \n",
      "Covariance Type:            nonrobust                                         \n",
      "==============================================================================\n",
      "                 coef    std err          t      P>|t|      [0.025      0.975]\n",
      "------------------------------------------------------------------------------\n",
      "const          0.0906      0.231      0.393      0.696      -0.374       0.555\n",
      "beta_0         0.8158      0.209      3.910      0.000       0.396       1.236\n",
      "==============================================================================\n",
      "Omnibus:                        0.771   Durbin-Watson:                   1.446\n",
      "Prob(Omnibus):                  0.680   Jarque-Bera (JB):                0.804\n",
      "Skew:                           0.278   Prob(JB):                        0.669\n",
      "Kurtosis:                       2.695   Cond. No.                         12.1\n",
      "==============================================================================\n",
      "\n",
      "Notes:\n",
      "[1] Standard Errors assume that the covariance matrix of the errors is correctly specified.\n"
     ]
    }
   ],
   "source": [
    "# Beta regression\n",
    "y = df_beta['beta_1']\n",
    "X = sm.add_constant(df_beta['beta_0'])\n",
    "results = sm.OLS(y, X, missing='drop').fit()\n",
    "print(results.summary())"
   ]
  },
  {
   "cell_type": "code",
   "execution_count": 104,
   "metadata": {},
   "outputs": [
    {
     "data": {
      "application/vnd.plotly.v1+json": {
       "config": {
        "plotlyServerURL": "https://plot.ly"
       },
       "data": [
        {
         "mode": "markers",
         "name": "Alphas",
         "type": "scatter",
         "x": [
          1.0165283674845846,
          0.8553638883762509,
          0.9153370648169254,
          0.9534723670907389,
          0.7989758577575722,
          1.3491921094959207,
          1.3209343860592684,
          1.1228311228903225,
          0.9766497597719981,
          1.2120297341283492,
          1.4612734338904363,
          1.016692349902819,
          0.9248037353107631,
          1.0639321052040969,
          1.1232807113732972,
          1.069948728933583,
          1.206700220705842,
          1.3587274428452818,
          1.0623658599575814,
          1.0915786705990755,
          1.1492449299241958,
          1.1791070677172806,
          0.9956360232126966,
          1.2326326453107228,
          1.127828737400943,
          1.0898057457013608,
          0.7323877224009432,
          1.0271734891899955,
          1.1372404665476665,
          0.8285500483908443,
          0.6163638156618267,
          0.657166411866376,
          1.2866968225435924,
          1.2863555404162241,
          1.0202633381936461,
          1.2916872208394152,
          1.341799666306996,
          1.0666764279624528,
          0.9372460604278292,
          1.1786218083383364,
          1.17911405113865,
          1.1196477298397225,
          1.2973737908381882,
          1.0922438384803628,
          1.0030139295916887,
          1.2356105840466096,
          1.0758799134695218,
          1.2731940062021674
         ],
         "y": [
          0.6776211447598257,
          0.4533489032328941,
          0.6857449205170368,
          0.4994214558411182,
          0.47754822209316394,
          1.014025718782293,
          1.356627332863113,
          1.0434787916528823,
          0.5765217896656718,
          1.0195137476670229,
          0.8027415198344,
          0.7993432949576351,
          0.6158168118132785,
          1.0414223335545252,
          1.0144410689448464,
          1.228421527714545,
          1.1758497582128768,
          1.1973381725732142,
          1.5855646680279272,
          1.1210132587196928,
          1.2969271519780377,
          1.277220855234634,
          1.4734921922616275,
          1.03792628533894,
          1.071912121085263,
          0.48531599514437157,
          0.4026119243574814,
          1.2065193679072514,
          1.1670516281512484,
          0.8872390497923073,
          0.41802347405838536,
          0.9251970204796931,
          0.895261639447107,
          1.2371286179384307,
          1.3684076836859997,
          1.4793241218362199,
          1.188076839455085,
          0.8518233392063185,
          0.9743818964797032,
          0.9512226671654085,
          0.9005930019510049,
          0.8868028236600081,
          0.7644696195272009,
          1.0557466531125002,
          0.8829332130791182,
          1.2278205359751269,
          1.369008348356406,
          0.9924324691103098
         ]
        },
        {
         "mode": "lines",
         "name": "45-degree line",
         "type": "scatter",
         "x": [
          0.4026119243574814,
          0.46487259507697853,
          0.5271332657964757,
          0.5893939365159728,
          0.65165460723547,
          0.7139152779549671,
          0.7761759486744644,
          0.8384366193939614,
          0.9006972901134587,
          0.9629579608329558,
          1.025218631552453,
          1.0874793022719502,
          1.1497399729914473,
          1.2120006437109443,
          1.2742613144304415,
          1.3365219851499388,
          1.3987826558694358,
          1.4610433265889329,
          1.5233039973084304,
          1.5855646680279272
         ],
         "y": [
          0.4026119243574814,
          0.46487259507697853,
          0.5271332657964757,
          0.5893939365159728,
          0.65165460723547,
          0.7139152779549671,
          0.7761759486744644,
          0.8384366193939614,
          0.9006972901134587,
          0.9629579608329558,
          1.025218631552453,
          1.0874793022719502,
          1.1497399729914473,
          1.2120006437109443,
          1.2742613144304415,
          1.3365219851499388,
          1.3987826558694358,
          1.4610433265889329,
          1.5233039973084304,
          1.5855646680279272
         ]
        },
        {
         "mode": "lines",
         "name": "Predicted",
         "type": "scatter",
         "x": [
          0.4026119243574814,
          0.46487259507697853,
          0.5271332657964757,
          0.5893939365159728,
          0.65165460723547,
          0.7139152779549671,
          0.7761759486744644,
          0.8384366193939614,
          0.9006972901134587,
          0.9629579608329558,
          1.025218631552453,
          1.0874793022719502,
          1.1497399729914473,
          1.2120006437109443,
          1.2742613144304415,
          1.3365219851499388,
          1.3987826558694358,
          1.4610433265889329,
          1.5233039973084304,
          1.5855646680279272
         ],
         "y": [
          0.41902431432899184,
          0.4698137948192177,
          0.5206032753094435,
          0.5713927557996693,
          0.6221822362898952,
          0.672971716780121,
          0.7237611972703468,
          0.7745506777605726,
          0.8253401582507984,
          0.8761296387410242,
          0.9269191192312503,
          0.9777085997214761,
          1.0284980802117019,
          1.0792875607019274,
          1.1300770411921535,
          1.1808665216823793,
          1.231656002172605,
          1.2824454826628306,
          1.333234963153057,
          1.3840244436432825
         ]
        }
       ],
       "layout": {
        "legend": {
         "x": 0.01,
         "xanchor": "left",
         "y": 0.99,
         "yanchor": "top"
        },
        "template": {
         "data": {
          "bar": [
           {
            "error_x": {
             "color": "#2a3f5f"
            },
            "error_y": {
             "color": "#2a3f5f"
            },
            "marker": {
             "line": {
              "color": "#E5ECF6",
              "width": 0.5
             },
             "pattern": {
              "fillmode": "overlay",
              "size": 10,
              "solidity": 0.2
             }
            },
            "type": "bar"
           }
          ],
          "barpolar": [
           {
            "marker": {
             "line": {
              "color": "#E5ECF6",
              "width": 0.5
             },
             "pattern": {
              "fillmode": "overlay",
              "size": 10,
              "solidity": 0.2
             }
            },
            "type": "barpolar"
           }
          ],
          "carpet": [
           {
            "aaxis": {
             "endlinecolor": "#2a3f5f",
             "gridcolor": "white",
             "linecolor": "white",
             "minorgridcolor": "white",
             "startlinecolor": "#2a3f5f"
            },
            "baxis": {
             "endlinecolor": "#2a3f5f",
             "gridcolor": "white",
             "linecolor": "white",
             "minorgridcolor": "white",
             "startlinecolor": "#2a3f5f"
            },
            "type": "carpet"
           }
          ],
          "choropleth": [
           {
            "colorbar": {
             "outlinewidth": 0,
             "ticks": ""
            },
            "type": "choropleth"
           }
          ],
          "contour": [
           {
            "colorbar": {
             "outlinewidth": 0,
             "ticks": ""
            },
            "colorscale": [
             [
              0,
              "#0d0887"
             ],
             [
              0.1111111111111111,
              "#46039f"
             ],
             [
              0.2222222222222222,
              "#7201a8"
             ],
             [
              0.3333333333333333,
              "#9c179e"
             ],
             [
              0.4444444444444444,
              "#bd3786"
             ],
             [
              0.5555555555555556,
              "#d8576b"
             ],
             [
              0.6666666666666666,
              "#ed7953"
             ],
             [
              0.7777777777777778,
              "#fb9f3a"
             ],
             [
              0.8888888888888888,
              "#fdca26"
             ],
             [
              1,
              "#f0f921"
             ]
            ],
            "type": "contour"
           }
          ],
          "contourcarpet": [
           {
            "colorbar": {
             "outlinewidth": 0,
             "ticks": ""
            },
            "type": "contourcarpet"
           }
          ],
          "heatmap": [
           {
            "colorbar": {
             "outlinewidth": 0,
             "ticks": ""
            },
            "colorscale": [
             [
              0,
              "#0d0887"
             ],
             [
              0.1111111111111111,
              "#46039f"
             ],
             [
              0.2222222222222222,
              "#7201a8"
             ],
             [
              0.3333333333333333,
              "#9c179e"
             ],
             [
              0.4444444444444444,
              "#bd3786"
             ],
             [
              0.5555555555555556,
              "#d8576b"
             ],
             [
              0.6666666666666666,
              "#ed7953"
             ],
             [
              0.7777777777777778,
              "#fb9f3a"
             ],
             [
              0.8888888888888888,
              "#fdca26"
             ],
             [
              1,
              "#f0f921"
             ]
            ],
            "type": "heatmap"
           }
          ],
          "heatmapgl": [
           {
            "colorbar": {
             "outlinewidth": 0,
             "ticks": ""
            },
            "colorscale": [
             [
              0,
              "#0d0887"
             ],
             [
              0.1111111111111111,
              "#46039f"
             ],
             [
              0.2222222222222222,
              "#7201a8"
             ],
             [
              0.3333333333333333,
              "#9c179e"
             ],
             [
              0.4444444444444444,
              "#bd3786"
             ],
             [
              0.5555555555555556,
              "#d8576b"
             ],
             [
              0.6666666666666666,
              "#ed7953"
             ],
             [
              0.7777777777777778,
              "#fb9f3a"
             ],
             [
              0.8888888888888888,
              "#fdca26"
             ],
             [
              1,
              "#f0f921"
             ]
            ],
            "type": "heatmapgl"
           }
          ],
          "histogram": [
           {
            "marker": {
             "pattern": {
              "fillmode": "overlay",
              "size": 10,
              "solidity": 0.2
             }
            },
            "type": "histogram"
           }
          ],
          "histogram2d": [
           {
            "colorbar": {
             "outlinewidth": 0,
             "ticks": ""
            },
            "colorscale": [
             [
              0,
              "#0d0887"
             ],
             [
              0.1111111111111111,
              "#46039f"
             ],
             [
              0.2222222222222222,
              "#7201a8"
             ],
             [
              0.3333333333333333,
              "#9c179e"
             ],
             [
              0.4444444444444444,
              "#bd3786"
             ],
             [
              0.5555555555555556,
              "#d8576b"
             ],
             [
              0.6666666666666666,
              "#ed7953"
             ],
             [
              0.7777777777777778,
              "#fb9f3a"
             ],
             [
              0.8888888888888888,
              "#fdca26"
             ],
             [
              1,
              "#f0f921"
             ]
            ],
            "type": "histogram2d"
           }
          ],
          "histogram2dcontour": [
           {
            "colorbar": {
             "outlinewidth": 0,
             "ticks": ""
            },
            "colorscale": [
             [
              0,
              "#0d0887"
             ],
             [
              0.1111111111111111,
              "#46039f"
             ],
             [
              0.2222222222222222,
              "#7201a8"
             ],
             [
              0.3333333333333333,
              "#9c179e"
             ],
             [
              0.4444444444444444,
              "#bd3786"
             ],
             [
              0.5555555555555556,
              "#d8576b"
             ],
             [
              0.6666666666666666,
              "#ed7953"
             ],
             [
              0.7777777777777778,
              "#fb9f3a"
             ],
             [
              0.8888888888888888,
              "#fdca26"
             ],
             [
              1,
              "#f0f921"
             ]
            ],
            "type": "histogram2dcontour"
           }
          ],
          "mesh3d": [
           {
            "colorbar": {
             "outlinewidth": 0,
             "ticks": ""
            },
            "type": "mesh3d"
           }
          ],
          "parcoords": [
           {
            "line": {
             "colorbar": {
              "outlinewidth": 0,
              "ticks": ""
             }
            },
            "type": "parcoords"
           }
          ],
          "pie": [
           {
            "automargin": true,
            "type": "pie"
           }
          ],
          "scatter": [
           {
            "fillpattern": {
             "fillmode": "overlay",
             "size": 10,
             "solidity": 0.2
            },
            "type": "scatter"
           }
          ],
          "scatter3d": [
           {
            "line": {
             "colorbar": {
              "outlinewidth": 0,
              "ticks": ""
             }
            },
            "marker": {
             "colorbar": {
              "outlinewidth": 0,
              "ticks": ""
             }
            },
            "type": "scatter3d"
           }
          ],
          "scattercarpet": [
           {
            "marker": {
             "colorbar": {
              "outlinewidth": 0,
              "ticks": ""
             }
            },
            "type": "scattercarpet"
           }
          ],
          "scattergeo": [
           {
            "marker": {
             "colorbar": {
              "outlinewidth": 0,
              "ticks": ""
             }
            },
            "type": "scattergeo"
           }
          ],
          "scattergl": [
           {
            "marker": {
             "colorbar": {
              "outlinewidth": 0,
              "ticks": ""
             }
            },
            "type": "scattergl"
           }
          ],
          "scattermapbox": [
           {
            "marker": {
             "colorbar": {
              "outlinewidth": 0,
              "ticks": ""
             }
            },
            "type": "scattermapbox"
           }
          ],
          "scatterpolar": [
           {
            "marker": {
             "colorbar": {
              "outlinewidth": 0,
              "ticks": ""
             }
            },
            "type": "scatterpolar"
           }
          ],
          "scatterpolargl": [
           {
            "marker": {
             "colorbar": {
              "outlinewidth": 0,
              "ticks": ""
             }
            },
            "type": "scatterpolargl"
           }
          ],
          "scatterternary": [
           {
            "marker": {
             "colorbar": {
              "outlinewidth": 0,
              "ticks": ""
             }
            },
            "type": "scatterternary"
           }
          ],
          "surface": [
           {
            "colorbar": {
             "outlinewidth": 0,
             "ticks": ""
            },
            "colorscale": [
             [
              0,
              "#0d0887"
             ],
             [
              0.1111111111111111,
              "#46039f"
             ],
             [
              0.2222222222222222,
              "#7201a8"
             ],
             [
              0.3333333333333333,
              "#9c179e"
             ],
             [
              0.4444444444444444,
              "#bd3786"
             ],
             [
              0.5555555555555556,
              "#d8576b"
             ],
             [
              0.6666666666666666,
              "#ed7953"
             ],
             [
              0.7777777777777778,
              "#fb9f3a"
             ],
             [
              0.8888888888888888,
              "#fdca26"
             ],
             [
              1,
              "#f0f921"
             ]
            ],
            "type": "surface"
           }
          ],
          "table": [
           {
            "cells": {
             "fill": {
              "color": "#EBF0F8"
             },
             "line": {
              "color": "white"
             }
            },
            "header": {
             "fill": {
              "color": "#C8D4E3"
             },
             "line": {
              "color": "white"
             }
            },
            "type": "table"
           }
          ]
         },
         "layout": {
          "annotationdefaults": {
           "arrowcolor": "#2a3f5f",
           "arrowhead": 0,
           "arrowwidth": 1
          },
          "autotypenumbers": "strict",
          "coloraxis": {
           "colorbar": {
            "outlinewidth": 0,
            "ticks": ""
           }
          },
          "colorscale": {
           "diverging": [
            [
             0,
             "#8e0152"
            ],
            [
             0.1,
             "#c51b7d"
            ],
            [
             0.2,
             "#de77ae"
            ],
            [
             0.3,
             "#f1b6da"
            ],
            [
             0.4,
             "#fde0ef"
            ],
            [
             0.5,
             "#f7f7f7"
            ],
            [
             0.6,
             "#e6f5d0"
            ],
            [
             0.7,
             "#b8e186"
            ],
            [
             0.8,
             "#7fbc41"
            ],
            [
             0.9,
             "#4d9221"
            ],
            [
             1,
             "#276419"
            ]
           ],
           "sequential": [
            [
             0,
             "#0d0887"
            ],
            [
             0.1111111111111111,
             "#46039f"
            ],
            [
             0.2222222222222222,
             "#7201a8"
            ],
            [
             0.3333333333333333,
             "#9c179e"
            ],
            [
             0.4444444444444444,
             "#bd3786"
            ],
            [
             0.5555555555555556,
             "#d8576b"
            ],
            [
             0.6666666666666666,
             "#ed7953"
            ],
            [
             0.7777777777777778,
             "#fb9f3a"
            ],
            [
             0.8888888888888888,
             "#fdca26"
            ],
            [
             1,
             "#f0f921"
            ]
           ],
           "sequentialminus": [
            [
             0,
             "#0d0887"
            ],
            [
             0.1111111111111111,
             "#46039f"
            ],
            [
             0.2222222222222222,
             "#7201a8"
            ],
            [
             0.3333333333333333,
             "#9c179e"
            ],
            [
             0.4444444444444444,
             "#bd3786"
            ],
            [
             0.5555555555555556,
             "#d8576b"
            ],
            [
             0.6666666666666666,
             "#ed7953"
            ],
            [
             0.7777777777777778,
             "#fb9f3a"
            ],
            [
             0.8888888888888888,
             "#fdca26"
            ],
            [
             1,
             "#f0f921"
            ]
           ]
          },
          "colorway": [
           "#636efa",
           "#EF553B",
           "#00cc96",
           "#ab63fa",
           "#FFA15A",
           "#19d3f3",
           "#FF6692",
           "#B6E880",
           "#FF97FF",
           "#FECB52"
          ],
          "font": {
           "color": "#2a3f5f"
          },
          "geo": {
           "bgcolor": "white",
           "lakecolor": "white",
           "landcolor": "#E5ECF6",
           "showlakes": true,
           "showland": true,
           "subunitcolor": "white"
          },
          "hoverlabel": {
           "align": "left"
          },
          "hovermode": "closest",
          "mapbox": {
           "style": "light"
          },
          "paper_bgcolor": "white",
          "plot_bgcolor": "#E5ECF6",
          "polar": {
           "angularaxis": {
            "gridcolor": "white",
            "linecolor": "white",
            "ticks": ""
           },
           "bgcolor": "#E5ECF6",
           "radialaxis": {
            "gridcolor": "white",
            "linecolor": "white",
            "ticks": ""
           }
          },
          "scene": {
           "xaxis": {
            "backgroundcolor": "#E5ECF6",
            "gridcolor": "white",
            "gridwidth": 2,
            "linecolor": "white",
            "showbackground": true,
            "ticks": "",
            "zerolinecolor": "white"
           },
           "yaxis": {
            "backgroundcolor": "#E5ECF6",
            "gridcolor": "white",
            "gridwidth": 2,
            "linecolor": "white",
            "showbackground": true,
            "ticks": "",
            "zerolinecolor": "white"
           },
           "zaxis": {
            "backgroundcolor": "#E5ECF6",
            "gridcolor": "white",
            "gridwidth": 2,
            "linecolor": "white",
            "showbackground": true,
            "ticks": "",
            "zerolinecolor": "white"
           }
          },
          "shapedefaults": {
           "line": {
            "color": "#2a3f5f"
           }
          },
          "ternary": {
           "aaxis": {
            "gridcolor": "white",
            "linecolor": "white",
            "ticks": ""
           },
           "baxis": {
            "gridcolor": "white",
            "linecolor": "white",
            "ticks": ""
           },
           "bgcolor": "#E5ECF6",
           "caxis": {
            "gridcolor": "white",
            "linecolor": "white",
            "ticks": ""
           }
          },
          "title": {
           "x": 0.05
          },
          "xaxis": {
           "automargin": true,
           "gridcolor": "white",
           "linecolor": "white",
           "ticks": "",
           "title": {
            "standoff": 15
           },
           "zerolinecolor": "white",
           "zerolinewidth": 2
          },
          "yaxis": {
           "automargin": true,
           "gridcolor": "white",
           "linecolor": "white",
           "ticks": "",
           "title": {
            "standoff": 15
           },
           "zerolinecolor": "white",
           "zerolinewidth": 2
          }
         }
        },
        "title": {
         "text": "Beta Persistence"
        },
        "xaxis": {
         "range": [
          0.3623507319217333,
          1.74412113483072
         ],
         "tickformat": ".2f",
         "title": {
          "text": "1st Half Beta"
         }
        },
        "yaxis": {
         "range": [
          0.3623507319217333,
          1.74412113483072
         ],
         "tickformat": ".2f",
         "title": {
          "text": "2nd Half Beta"
         }
        }
       }
      }
     },
     "metadata": {},
     "output_type": "display_data"
    }
   ],
   "source": [
    "# Scatter plot\n",
    "\n",
    "trace  = go.Scatter(x=df_beta['beta_0'], y=df_beta['beta_1'], mode=\"markers\", name = 'Alphas')\n",
    "minval = np.min([df_beta['beta_1'].min(), df_beta['beta_0'].min()])\n",
    "maxval = np.max([df_beta['beta_1'].max(), df_beta['beta_0'].max()])\n",
    "\n",
    "trace_45 = go.Scatter(x= np.linspace(minval,maxval,20), y = np.linspace(minval,maxval,20), mode='lines',name='45-degree line')\n",
    "ols_fit = results.params[0] + results.params[1]*np.linspace(minval,maxval,20)\n",
    "trace_ols= go.Scatter(x= np.linspace(minval,maxval,20), y = ols_fit, mode='lines',name='Predicted')\n",
    "\n",
    "fig = go.Figure()\n",
    "fig.add_trace(trace)\n",
    "fig.add_trace(trace_45)\n",
    "fig.add_trace(trace_ols)\n",
    "fig.update_xaxes(title='1st Half Beta',tickformat=\".2f\", range=[0.9*minval, 1.1*maxval])\n",
    "fig.update_yaxes(title='2nd Half Beta',tickformat=\".2f\", range=[0.9*minval, 1.1*maxval])\n",
    "fig.update_layout(title='Beta Persistence')\n",
    "fig.update_layout(legend=dict(yanchor=\"top\", y =0.99, xanchor=\"left\", x=0.01))\n",
    "fig.show()"
   ]
  },
  {
   "cell_type": "code",
   "execution_count": 94,
   "metadata": {},
   "outputs": [],
   "source": [
    "#Shrinking betas vs. using prior estimates\n",
    "df_beta['beta_adj'] = 0.67*df_beta['beta_0'] +0.33"
   ]
  },
  {
   "cell_type": "code",
   "execution_count": 98,
   "metadata": {},
   "outputs": [
    {
     "data": {
      "text/plain": [
       "0.07968999708606787"
      ]
     },
     "execution_count": 98,
     "metadata": {},
     "output_type": "execute_result"
    }
   ],
   "source": [
    "# Use first-half estimate\n",
    "((df_beta.beta_1 - df_beta.beta_0)**2).mean()"
   ]
  },
  {
   "cell_type": "code",
   "execution_count": 100,
   "metadata": {},
   "outputs": [
    {
     "data": {
      "text/plain": [
       "0.07355069002791492"
      ]
     },
     "execution_count": 100,
     "metadata": {},
     "output_type": "execute_result"
    }
   ],
   "source": [
    "# Use adjusted version of first-half estimate\n",
    "((df_beta.beta_1 - df_beta.beta_adj)**2).mean()"
   ]
  }
 ],
 "metadata": {
  "kernelspec": {
   "display_name": "Python 3.10.6 ('venv': venv)",
   "language": "python",
   "name": "python3"
  },
  "language_info": {
   "codemirror_mode": {
    "name": "ipython",
    "version": 3
   },
   "file_extension": ".py",
   "mimetype": "text/x-python",
   "name": "python",
   "nbconvert_exporter": "python",
   "pygments_lexer": "ipython3",
   "version": "3.10.6"
  },
  "orig_nbformat": 4,
  "vscode": {
   "interpreter": {
    "hash": "cc788b38d8cb434c82f45ef9d481d0310e17b79321e4c8cbfbfe90f656a3f023"
   }
  }
 },
 "nbformat": 4,
 "nbformat_minor": 2
}
