{
 "cells": [
  {
   "attachments": {},
   "cell_type": "markdown",
   "metadata": {},
   "source": [
    "## Problem Set 9 Template"
   ]
  },
  {
   "cell_type": "code",
   "execution_count": 1,
   "metadata": {},
   "outputs": [],
   "source": [
    "import pandas as pd\n",
    "import numpy as np\n",
    "import plotly.graph_objects as go\n",
    "import statsmodels.api as sm\n",
    "from pandas_datareader import DataReader as pdr"
   ]
  },
  {
   "attachments": {},
   "cell_type": "markdown",
   "metadata": {},
   "source": [
    "Read dataset of industry returns"
   ]
  },
  {
   "cell_type": "code",
   "execution_count": null,
   "metadata": {},
   "outputs": [],
   "source": [
    "df = pd.read_csv('https://www.dropbox.com/s/yoficjiwlm88qe4/ps_09_industry_returns.csv?dl=1')\n",
    "df['Date'] = pd.to_datetime(df['Date']).dt.to_period('M')\n",
    "df = df.set_index('Date')\n",
    "df.iloc[:12,:10]"
   ]
  },
  {
   "attachments": {},
   "cell_type": "markdown",
   "metadata": {},
   "source": [
    "Calculate rolling average means using last 12 months of data"
   ]
  },
  {
   "cell_type": "code",
   "execution_count": null,
   "metadata": {},
   "outputs": [],
   "source": [
    "WINDOW = 12\n",
    "avgs = df.rolling(WINDOW).mean()    # calculate 12-month rolling average\n",
    "avgs = avgs.dropna()                # drop any rows with missing rolling averages\n",
    "avgs.iloc[:10,:10]                  # display 1st 10 rows and columns of dataframe"
   ]
  },
  {
   "attachments": {},
   "cell_type": "markdown",
   "metadata": {},
   "source": [
    "Sort into quintiles each month"
   ]
  },
  {
   "cell_type": "code",
   "execution_count": 4,
   "metadata": {},
   "outputs": [],
   "source": [
    "def cut_quintiles(x):\n",
    "    try:\n",
    "        out = pd.qcut(x, 5, labels=[\"Lo\", \"Q2\", \"Q3\", \"Q4\", \"Hi\"])\n",
    "    except:\n",
    "        out = pd.Series(np.nan, index=x.index)\n",
    "    return out"
   ]
  },
  {
   "cell_type": "code",
   "execution_count": null,
   "metadata": {},
   "outputs": [],
   "source": [
    "ports = avgs.apply(cut_quintiles, axis=1)   # assign industry to a quintile based on each row (axis=1 applies the function row-by-row)\n",
    "ports.iloc[:10,:10]                         # display 1st 10 rows and columns of dataframe"
   ]
  },
  {
   "attachments": {},
   "cell_type": "markdown",
   "metadata": {},
   "source": [
    "Calculate portfolio weights for 'winner' portfolio"
   ]
  },
  {
   "cell_type": "code",
   "execution_count": null,
   "metadata": {},
   "outputs": [],
   "source": [
    "hi = (ports=='Hi')*1.0              # create a dataframe with 1's for entries equal to 'Hi' and 0's elsewhere\n",
    "sum_wgts = hi.sum(axis=1)           # sum over the weights each month (axis=1 applies sum function row-by-row)\n",
    "hi = hi.div(sum_wgts, axis=0)       # divide by the sum of the weights each month to create portfolio weights summing to 1\n",
    "hi.iloc[:10,:10]                    # display 1st 10 rows and columns of dataframe"
   ]
  },
  {
   "attachments": {},
   "cell_type": "markdown",
   "metadata": {},
   "source": [
    "Calculate portfolio weights for 'loser' portfolio"
   ]
  },
  {
   "cell_type": "code",
   "execution_count": null,
   "metadata": {},
   "outputs": [],
   "source": [
    "lo = (ports=='Lo')*1.0              # create a dataframe with 1's for entries equal to 'Lo' and 0's elsewhere\n",
    "sum_wgts = lo.sum(axis=1)           # sum over the weights each month (axis=1 applies sum function row-by-row)\n",
    "lo = lo.div(sum_wgts, axis=0)       # divide by the sum of the weights each month to create portfolio weights summing to 1\n",
    "lo.iloc[:10,:10]                    # display 1st 10 rows and columns of dataframe"
   ]
  },
  {
   "attachments": {},
   "cell_type": "markdown",
   "metadata": {},
   "source": [
    "Calculate time-series of returns for each portfolio\n",
    "\n",
    "(Note: the rolling average return included the current period's return, so we need to skip a month when applying the weights)"
   ]
  },
  {
   "cell_type": "code",
   "execution_count": null,
   "metadata": {},
   "outputs": [],
   "source": [
    "#  Multiply returns by weights calculated in prior month\n",
    "rets = pd.DataFrame(dtype=float,columns=['hi','lo'],index=hi.index[1:])     # create a dataframe to store time-series of 'Hi' and 'Lo' returns; 1st month is one-month after first 12-month rolling average\n",
    "for d in rets.index:                                                        # loop over dates\n",
    "    rets.loc[d,'hi'] = hi.loc[d-1] @ df.loc[d]                              # for date d, calculate the 'Hi' portfolio return by summing the product of the industry's portfolio weight by its realized return\n",
    "    rets.loc[d,'lo'] = lo.loc[d-1] @ df.loc[d]                              # for date d, calculate the 'Lo' portfolio return by summing the product of the industry's portfolio weight by its realized return\n",
    "rets"
   ]
  },
  {
   "attachments": {},
   "cell_type": "markdown",
   "metadata": {},
   "source": [
    "Visualize the cumulative returns"
   ]
  },
  {
   "cell_type": "code",
   "execution_count": null,
   "metadata": {},
   "outputs": [],
   "source": [
    "# Plot cumulative returns of the past winners and past losers\n",
    "fig = go.Figure()\n",
    "\n",
    "string =  \"Strategy: Buy Past Winners<br>\"\n",
    "string += \"Date: %{x}<br>\"\n",
    "string += \"FV of $1: $%{y:,.2f}<br>\"\n",
    "string += \"<extra></extra>\"\n",
    "trace_hi  = go.Scatter(x=rets.index.to_timestamp('M'), y=(1+rets.hi).cumprod(), mode=\"lines\", name='Buy Winners', hovertemplate=string)\n",
    "fig.add_trace(trace_hi)\n",
    "\n",
    "string =  \"Strategy: Buy Past Losers<br>\"\n",
    "string += \"Date: %{x}<br>\"\n",
    "string += \"FV of $1: $%{y:,.2f}<br>\"\n",
    "string += \"<extra></extra>\"\n",
    "trace_lo= go.Scatter(x=rets.index.to_timestamp('M'), y=(1+rets.lo).cumprod(), mode=\"lines\", name='Sell Losers',hovertemplate=string)\n",
    "fig.add_trace(trace_lo)\n",
    "#Formatting\n",
    "fig.update_yaxes(type=\"log\", title=\"FV of $1\")\n",
    "fig.update_layout(legend=dict(yanchor=\"top\", y =0.99, xanchor=\"left\", x=0.01),\n",
    "                  yaxis = dict(tickmode = 'array',tickvals = [2, 10, 100, 1000, 2500],)    \n",
    "                  )\n",
    "fig.show()"
   ]
  },
  {
   "attachments": {},
   "cell_type": "markdown",
   "metadata": {},
   "source": [
    "Merge in market excess return and risk-free rate & calculate excess returns"
   ]
  },
  {
   "cell_type": "code",
   "execution_count": null,
   "metadata": {},
   "outputs": [],
   "source": [
    "# Portfolio alpha and beta\n",
    "ff3 = pdr('F-F_Research_Data_Factors','famafrench', start=1900)[0]/100\n",
    "rets = rets.join(ff3[['Mkt-RF','RF']], how='left')\n",
    "rets['hi-rf'] = rets['hi']-rets['RF']\n",
    "rets['lo-rf'] = rets['lo']-rets['RF']\n",
    "rets"
   ]
  },
  {
   "attachments": {},
   "cell_type": "markdown",
   "metadata": {},
   "source": [
    "Market model regressions to be completed by you below"
   ]
  },
  {
   "cell_type": "code",
   "execution_count": null,
   "metadata": {},
   "outputs": [],
   "source": []
  },
  {
   "cell_type": "code",
   "execution_count": null,
   "metadata": {},
   "outputs": [],
   "source": []
  },
  {
   "cell_type": "code",
   "execution_count": null,
   "metadata": {},
   "outputs": [],
   "source": []
  },
  {
   "cell_type": "code",
   "execution_count": null,
   "metadata": {},
   "outputs": [],
   "source": []
  },
  {
   "cell_type": "code",
   "execution_count": null,
   "metadata": {},
   "outputs": [],
   "source": []
  },
  {
   "cell_type": "code",
   "execution_count": null,
   "metadata": {},
   "outputs": [],
   "source": []
  },
  {
   "cell_type": "code",
   "execution_count": null,
   "metadata": {},
   "outputs": [],
   "source": []
  },
  {
   "cell_type": "code",
   "execution_count": null,
   "metadata": {},
   "outputs": [],
   "source": []
  },
  {
   "cell_type": "code",
   "execution_count": null,
   "metadata": {},
   "outputs": [],
   "source": []
  }
 ],
 "metadata": {
  "kernelspec": {
   "display_name": "Python 3",
   "language": "python",
   "name": "python3"
  },
  "language_info": {
   "codemirror_mode": {
    "name": "ipython",
    "version": 3
   },
   "file_extension": ".py",
   "mimetype": "text/x-python",
   "name": "python",
   "nbconvert_exporter": "python",
   "pygments_lexer": "ipython3",
   "version": "3.10.6"
  },
  "orig_nbformat": 4
 },
 "nbformat": 4,
 "nbformat_minor": 2
}
