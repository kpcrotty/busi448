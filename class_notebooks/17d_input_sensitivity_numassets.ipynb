{
 "cells": [
  {
   "attachments": {},
   "cell_type": "markdown",
   "metadata": {},
   "source": [
    "# Estimation error and the number of assets\n",
    "3, 5, 10 assets"
   ]
  },
  {
   "cell_type": "code",
   "execution_count": 74,
   "metadata": {},
   "outputs": [],
   "source": [
    "import numpy as np\n",
    "import pandas as pd\n",
    "import plotly.graph_objects as go\n",
    "from scipy.optimize import minimize\n",
    "from cvxopt import matrix\n",
    "from cvxopt.solvers import qp as Solver, options as SolverOptions\n",
    "from scipy.stats import multivariate_normal as mvn\n"
   ]
  },
  {
   "attachments": {},
   "cell_type": "markdown",
   "metadata": {},
   "source": [
    "Functions for portfolios and simulation"
   ]
  },
  {
   "cell_type": "code",
   "execution_count": 75,
   "metadata": {},
   "outputs": [],
   "source": [
    "def tangency(means, cov, rf, short_lb):\n",
    "    '''\n",
    "    short_lb: lower bound on position weights\n",
    "    examples: 0  = no short-selling\n",
    "              -1 = no more than -100% in a given asset\n",
    "              None=no restrictions on short-selling\n",
    "    '''\n",
    "\n",
    "    n = len(means)\n",
    "    def f(w):\n",
    "        mn = w @ means\n",
    "        sd = np.sqrt(w.T @ cov @ w)\n",
    "        return -(mn - rf) / sd\n",
    "    # Initial guess (equal-weighted)\n",
    "    w0 = (1/n)*np.ones(n)\n",
    "    # Constraint: fully-invested portfolio\n",
    "    A = np.ones(n)\n",
    "    b = 1\n",
    "    cons = [{\"type\": \"eq\", \"fun\": lambda x: A @ x - b}]\n",
    "    bnds = [(short_lb, None) for i in range(n)] \n",
    "    # Optimization\n",
    "    wgts_tangency = minimize(f, w0, bounds=bnds, constraints=cons).x\n",
    "    return wgts_tangency"
   ]
  },
  {
   "cell_type": "code",
   "execution_count": 76,
   "metadata": {},
   "outputs": [],
   "source": [
    "def gmv(cov, short_lb): \n",
    "    '''\n",
    "    short_lb: lower bound on position weights\n",
    "    examples: 0  = no short-selling\n",
    "              -1 = no more than -100% in a given asset\n",
    "              None=no restrictions on short-selling\n",
    "    '''    \n",
    "    n = len(cov)\n",
    "    Q = matrix(cov, tc=\"d\")\n",
    "    p = matrix(np.zeros(n), (n, 1), tc=\"d\")\n",
    "    if short_lb==None:\n",
    "        # No position limits\n",
    "        G = matrix(np.zeros((n,n)), tc=\"d\")\n",
    "        h = matrix(np.zeros(n), (n, 1), tc=\"d\")\n",
    "    else:\n",
    "        # Constraint: short-sales not allowed\n",
    "        G = matrix(-np.identity(n), tc=\"d\")\n",
    "        h = matrix(-short_lb * np.ones(n), (n, 1), tc=\"d\")\n",
    "    # Fully-invested constraint\n",
    "    A = matrix(np.ones(n), (1, n), tc=\"d\")\n",
    "    b = matrix([1], (1, 1), tc=\"d\")\n",
    "    sol = Solver(Q, p, G, h, A, b, options={'show_progress': False})\n",
    "    wgts_gmv = np.array(sol[\"x\"]).flatten() if sol[\"status\"] == \"optimal\" else np.array(n * [np.nan])\n",
    "    return wgts_gmv"
   ]
  },
  {
   "cell_type": "code",
   "execution_count": 77,
   "metadata": {},
   "outputs": [],
   "source": [
    "# Simulation function\n",
    "def simulation(means, cov, rf, short_lb, seed, window):\n",
    "\trets = mvn.rvs(means, cov, size=window+T, random_state = seed)\n",
    "\tn = len(means)\n",
    "\treturn_list = ['r' + str(i) for i in range(n)]\n",
    "\tmean_list   = ['mn'+ str(i) for i in range(n)]\n",
    "\tsd_list     = ['sd'+ str(i) for i in range(n)]\n",
    "\tcorr_list   = ['c' + str(i) + str(j) for i in np.arange(n) for j in np.arange(i+1,n)]\n",
    "\twgt_list    = ['wgt' + str(i) for i in range(n)]\n",
    "\tdf = pd.DataFrame(data=rets, columns=return_list)\n",
    "\n",
    "\t# Estimate rolling window historical inputs\n",
    "\tdf[mean_list] = df[return_list].rolling(window).mean()\n",
    "\tdf[sd_list]   = df[return_list].rolling(window).std()\n",
    "\tcorrs = df[return_list].rolling(window, min_periods=window).corr()\n",
    "\tfor i in np.arange(n):\n",
    "\t\tfor j in np.arange(i+1,n):\n",
    "\t\t\tdf['c'+str(i)+str(j)]=corrs.loc[(slice(None),'r'+str(i)),'r'+str(j)].values\n",
    "    \n",
    "\t# Calculate (unobservable) true optimal risky and CAL weights\n",
    "\twgts_true = tangency(means,cov,rf,short_lb)\n",
    "\twgt_cal_true = (wgts_true @ means - rf) / (RAVER * (wgts_true @ cov @ wgts_true))\n",
    "\n",
    "\t# Initialize empty columns for risky portfolio return, CAL location, CAL portfolio return\n",
    "\tmodel_list = ['true', 'est_all', 'est_sd_corr', 'est_sd', 'est_none']\n",
    "\tfor model in model_list:\n",
    "\t\tdf['risky_ret_'+model] = np.nan  # risky_ret is the realized portfolio return of the 100% risky asset portfolio\n",
    "\t\tdf['wgt_risky_'+model] = np.nan\n",
    "\t\tdf['port_ret_' +model] = np.nan  # port_ret is the realized return of the CAL choice of the raver investor\n",
    "\n",
    "\t# Choose optimal portfolios each time period\n",
    "\tfor i in np.arange(window,window+T):\n",
    "\t\t# Full estimation inputs at each point in time\n",
    "\t\tmeans = df[mean_list].iloc[i-1].values\n",
    "\t\tsds   = df[sd_list].iloc[i-1].values\n",
    "\t\tC = np.identity(n)\n",
    "\t\tfor i2 in np.arange(n):\n",
    "\t\t\tfor j in np.arange(i2+1,n):\n",
    "\t\t\t\tC[i2,j] = C[j,i2] = df.loc[i-1,'c'+str(i2)+str(j)]\n",
    "\t\tcov = np.diag(sds) @ C @ np.diag(sds)\n",
    "\n",
    "\t\t# Pull current period returns\n",
    "\t\trets = df.loc[i,return_list].values\n",
    "\n",
    "\t\t##### Note: all portfolio weights considered to be beginning of period weights\n",
    "\t\t##### (so multiply by contemporaneous realized returns)\n",
    "\t\t# Theoretical optimal weights\n",
    "\t\tmodel = 'true'\n",
    "\t\tdf.loc[i,'risky_ret_'+model] = rets @ wgts_true\n",
    "\t\tdf.loc[i,'port_ret_' +model] = rf + wgt_cal_true * (df.loc[i,'risky_ret_'+model] -rf)\n",
    "\n",
    "\n",
    "\t\t# Full estimation tangency portfolio\n",
    "\t\tmodel = 'est_all'\n",
    "\t\twgts = tangency(means,cov,rf,short_lb)\n",
    "\t\tdf.loc[i,'risky_ret_'+model] = rets @ wgts\n",
    "\t\tdf.loc[i,'wgt_risky_'+model] = max(0,(wgts @ means - rf) / (RAVER * (wgts @ cov @ wgts)))\n",
    "\t\tdf.loc[i,'port_ret_' +model] = rf + df.loc[i,'wgt_risky_'+model]  * (df.loc[i,'risky_ret_'+model] -rf)\n",
    "\n",
    "\n",
    "\t\t# Estimate only covariance matrix\n",
    "\t\tmodel = 'est_sd_corr'\n",
    "\t\twgts = gmv(cov,short_lb)\n",
    "\t\tdf.loc[i,'risky_ret_'+model] = rets @ wgts\n",
    "\t\tdf.loc[i,'wgt_risky_'+model] = max(0,(means.mean() - rf) / (RAVER * (wgts @ cov @ wgts)))\n",
    "\t\tdf.loc[i,'port_ret_' +model] = rf + df.loc[i,'wgt_risky_'+model]  * (df.loc[i,'risky_ret_'+model] -rf)\n",
    "\n",
    "\n",
    "\t\t# Estimate only standard deviations in covariance matrix\n",
    "\t\tmodel = 'est_sd'\n",
    "\t\tfor i2 in np.arange(n):\n",
    "\t\t\tfor j in np.arange(i2+1,n):\n",
    "\t\t\t\tcov[i2,j] = cov[j,i2] =0.0\t\t\n",
    "\t\twgts = gmv(cov,short_lb)\n",
    "\t\tdf.loc[i,'risky_ret_'+model] = rets @ wgts\t\t\n",
    "\t\tdf.loc[i,'wgt_risky_'+model] = max(0,(means.mean() - rf) / (RAVER * (wgts @ cov @ wgts)))\n",
    "\t\tdf.loc[i,'port_ret_' +model] = rf + df.loc[i,'wgt_risky_'+model]  * (df.loc[i,'risky_ret_'+model] -rf)  \n",
    "\n",
    "\t\t# Equal-weighted portfolio\n",
    "\t\tmodel = 'est_none'\n",
    "\t\tfor i2 in np.arange(n):\n",
    "\t\t\tcov[i2,i2] = (sds.mean())**2\n",
    "\t\twgts = (1/n)*np.ones(n)\n",
    "\t\tdf.loc[i,'risky_ret_'+model] = rets @ wgts\t\t\n",
    "\t\tdf.loc[i,'wgt_risky_'+model] = max(0,(means.mean() - rf) / (RAVER * (wgts @ cov @ wgts)))\n",
    "\t\tdf.loc[i,'port_ret_' +model] = rf + df.loc[i,'wgt_risky_'+model]  * (df.loc[i,'risky_ret_'+model] -rf) \n",
    "\n",
    "\n",
    "\n",
    "\tportret_list = ['port_ret_'+model for model in model_list]\n",
    "\tstats = df[portret_list].describe()\n",
    "\n",
    "\tsr_df = pd.DataFrame(dtype=float, columns = ['sr'], index = model_list)\n",
    "\tfor model in model_list:\n",
    "\t\tsr_df.loc[model,'sr'] = (stats.loc['mean','port_ret_'+model] - rf)/stats.loc['std','port_ret_'+model]\n",
    "\t\t\n",
    "\treturn sr_df\n"
   ]
  },
  {
   "cell_type": "markdown",
   "metadata": {},
   "source": [
    "Parameters"
   ]
  },
  {
   "cell_type": "code",
   "execution_count": 78,
   "metadata": {},
   "outputs": [],
   "source": [
    "# Risk aversion\n",
    "RAVER = 2\n",
    "\n",
    "# Risk-free rate\n",
    "RF = 0.02\n",
    "\n",
    "# Estimation Window"
   ]
  },
  {
   "attachments": {},
   "cell_type": "markdown",
   "metadata": {},
   "source": [
    "Adjust covariance matrix so that the underlying theoretical Sharpe ratio is constant"
   ]
  },
  {
   "cell_type": "code",
   "execution_count": 79,
   "metadata": {},
   "outputs": [
    {
     "name": "stdout",
     "output_type": "stream",
     "text": [
      "Checking current SRs\n",
      "\n",
      "Number of assets: 3\n",
      "[-0.19521254  0.4643534   0.73085914]\n",
      "Sharpe ratio with unadjusted covariance matrix:\n",
      "0.5326815603694003\n",
      "Checking current SRs\n",
      "\n",
      "Number of assets: 5\n",
      "[-0.88858366  0.04465473  0.45750009  0.64758459  0.73884424]\n",
      "Sharpe ratio with unadjusted covariance matrix:\n",
      "0.7376094416311172\n",
      "Checking current SRs\n",
      "\n",
      "Number of assets: 10\n",
      "[-2.66388897 -0.31883859  0.74535036  1.23841602  1.4989613  -2.6638891\n",
      " -0.31883854  0.74535032  1.23841598  1.49896123]\n",
      "Sharpe ratio with unadjusted covariance matrix:\n",
      "0.8685902437905962\n",
      "\n",
      "Testing new covariance matrix produces same Sharpe ratios\n",
      "\n",
      "Number of assets: 3\n",
      "Standard Deviations:\n",
      "[0.16 0.2  0.24]\n",
      "Sharpe ratio with adjusted covariance matrix:\n",
      "0.5326815603694003\n",
      "\n",
      "Number of assets: 5\n",
      "Standard Deviations:\n",
      "[0.22155359 0.27694198 0.33233038 0.38771878 0.44310717]\n",
      "Sharpe ratio with adjusted covariance matrix:\n",
      "0.5326807274473699\n",
      "\n",
      "Number of assets: 10\n",
      "Standard Deviations:\n",
      "[0.26089591 0.32611988 0.39134386 0.45656784 0.52179181 0.26089591\n",
      " 0.32611988 0.39134386 0.45656784 0.52179181]\n",
      "Sharpe ratio with adjusted covariance matrix:\n",
      "0.5326642192990659\n"
     ]
    }
   ],
   "source": [
    "mns3 = np.array([0.06, 0.10, 0.14])\n",
    "mns5 = np.array([0.06, 0.10, 0.14, 0.18, 0.22])\n",
    "mns10= np.array([0.06, 0.10, 0.14, 0.18, 0.22, 0.06, 0.10, 0.14, 0.18, 0.22])\n",
    "\n",
    "sds3 = np.array([0.16, 0.20, 0.24])\n",
    "sds5 = np.array([0.16, 0.20, 0.24, 0.28, 0.32])\n",
    "sds10= np.array([0.16, 0.20, 0.24, 0.28, 0.32, 0.16, 0.20, 0.24, 0.28, 0.32])\n",
    "\n",
    "corr = 0.5\n",
    "\n",
    "mns_dict = {'3':mns3, '5':mns5, '10':mns10}\n",
    "sds_dict = {'3':sds3, '5':sds5, '10':sds10}\n",
    "\n",
    "# Check Sharpe ratios at current params\n",
    "sharpes = np.zeros(len(mns_dict.keys()))\n",
    "for k,key in enumerate(mns_dict.keys()):\n",
    "    print('Checking current SRs') \n",
    "    print(f'\\nNumber of assets: {key}')\n",
    "    means = mns_dict[key]\n",
    "    sds   = sds_dict[key]\n",
    "    n = len(means)\n",
    "    C = np.identity(n)\n",
    "    for i in np.arange(0,n):\n",
    "        for j in np.arange(i+1,n):\n",
    "            C[i,j] = C[j,i] = corr\n",
    "    cov = np.diag(sds) @ C @ np.diag(sds)\n",
    "    wgts_true = tangency(means,cov,RF,short_lb=None)\n",
    "    print(wgts_true)\n",
    "    sr_true = (wgts_true @ means - RF) / (np.sqrt(wgts_true @ cov @ wgts_true))\n",
    "    print('Sharpe ratio with unadjusted covariance matrix:')    \n",
    "    print(sr_true)\n",
    "    sharpes[k] = sr_true\n",
    "\n",
    "# Adjust covariance matrix so theoretical sharpe ratio is same\n",
    "print('\\nTesting new covariance matrix produces same Sharpe ratios')\n",
    "for k,key in enumerate(mns_dict.keys()):\n",
    "    print(f'\\nNumber of assets: {key}')\n",
    "    means = mns_dict[key]\n",
    "    sds   = sds_dict[key]\n",
    "    n = len(means)\n",
    "    C = np.identity(n)\n",
    "    for i in np.arange(0,n):\n",
    "        for j in np.arange(i+1,n):\n",
    "            C[i,j] = C[j,i] = corr\n",
    "    cov = np.diag(sds) @ C @ np.diag(sds)\n",
    "    cov = cov * (sharpes[k]/sharpes[0])**2\n",
    "    print('Standard Deviations:')\n",
    "    print(np.sqrt(np.diag(cov)))\n",
    "    wgts_true = tangency(means,cov,RF,short_lb=None)\n",
    "    # print(wgts_true)\n",
    "    sr_true = (wgts_true @ means - RF) / (np.sqrt(wgts_true @ cov @ wgts_true))\n",
    "    print('Sharpe ratio with adjusted covariance matrix:')        \n",
    "    print(sr_true)\n"
   ]
  },
  {
   "attachments": {},
   "cell_type": "markdown",
   "metadata": {},
   "source": [
    "## Run the simulation and save data"
   ]
  },
  {
   "cell_type": "code",
   "execution_count": 80,
   "metadata": {},
   "outputs": [],
   "source": [
    "## Run for a systematic list of inputs (varying asset number)\n",
    "NUM_SIMS = 500\n",
    "WINDOW   = 20\n",
    "T        = 50\n",
    "\n",
    "\n",
    "iterables = [list(mns_dict.keys()),\n",
    "             np.arange(NUM_SIMS)]\n",
    "idx = pd.MultiIndex.from_product(iterables, names=[\"n_assets\", \"sim\"])\n",
    "sim_results = pd.DataFrame(dtype='float', columns=['true', 'est_all', 'est_sd_corr', 'est_sd', 'est_none'], index=idx)\n",
    "                                                  \n"
   ]
  },
  {
   "cell_type": "code",
   "execution_count": 81,
   "metadata": {},
   "outputs": [
    {
     "name": "stdout",
     "output_type": "stream",
     "text": [
      "3\n",
      "Simulation number: 0\n",
      "Simulation number: 25\n",
      "Simulation number: 50\n",
      "Simulation number: 75\n",
      "Simulation number: 100\n",
      "Simulation number: 125\n",
      "Simulation number: 150\n",
      "Simulation number: 175\n",
      "Simulation number: 200\n",
      "Simulation number: 225\n",
      "Simulation number: 250\n",
      "Simulation number: 275\n",
      "Simulation number: 300\n",
      "Simulation number: 325\n",
      "Simulation number: 350\n",
      "Simulation number: 375\n",
      "Simulation number: 400\n",
      "Simulation number: 425\n",
      "Simulation number: 450\n",
      "Simulation number: 475\n",
      "5\n",
      "Simulation number: 0\n",
      "Simulation number: 25\n",
      "Simulation number: 50\n",
      "Simulation number: 75\n",
      "Simulation number: 100\n",
      "Simulation number: 125\n",
      "Simulation number: 150\n",
      "Simulation number: 175\n",
      "Simulation number: 200\n",
      "Simulation number: 225\n",
      "Simulation number: 250\n",
      "Simulation number: 275\n",
      "Simulation number: 300\n",
      "Simulation number: 325\n",
      "Simulation number: 350\n",
      "Simulation number: 375\n",
      "Simulation number: 400\n",
      "Simulation number: 425\n",
      "Simulation number: 450\n",
      "Simulation number: 475\n",
      "10\n",
      "Simulation number: 0\n",
      "Simulation number: 25\n",
      "Simulation number: 50\n",
      "Simulation number: 75\n",
      "Simulation number: 100\n",
      "Simulation number: 125\n",
      "Simulation number: 150\n",
      "Simulation number: 175\n",
      "Simulation number: 200\n",
      "Simulation number: 225\n",
      "Simulation number: 250\n",
      "Simulation number: 275\n",
      "Simulation number: 300\n",
      "Simulation number: 325\n",
      "Simulation number: 350\n",
      "Simulation number: 375\n",
      "Simulation number: 400\n",
      "Simulation number: 425\n",
      "Simulation number: 450\n",
      "Simulation number: 475\n"
     ]
    }
   ],
   "source": [
    "for k,key in enumerate(mns_dict.keys()):\n",
    "    print(key)\n",
    "    means = mns_dict[key]\n",
    "    sds   = sds_dict[key]\n",
    "    n = len(means)\n",
    "    C = np.identity(n)\n",
    "    for i in np.arange(0,n):\n",
    "        for j in np.arange(i+1,n):\n",
    "            C[i,j] = C[j,i] = corr\n",
    "    cov = np.diag(sds) @ C @ np.diag(sds)\n",
    "    cov = cov * (sharpes[k]/sharpes[0])**2\n",
    "\n",
    "    # Run the simulations\n",
    "    for sim in range(NUM_SIMS):\n",
    "        if np.mod(sim,25)==0:\n",
    "            print('Simulation number: ' + str(sim))\n",
    "        sim_results.loc[(key,sim)] = simulation(means, cov, RF, short_lb=None, seed=sim, window=WINDOW).T.values\n",
    "\n",
    "# Save results\n",
    "sim_results.to_csv('../data/sim_results_vary_nassets.csv')\n"
   ]
  },
  {
   "attachments": {},
   "cell_type": "markdown",
   "metadata": {},
   "source": [
    "### Read saved data and compare Sharpe ratios\n"
   ]
  },
  {
   "cell_type": "code",
   "execution_count": 82,
   "metadata": {},
   "outputs": [
    {
     "data": {
      "text/html": [
       "<div>\n",
       "<style scoped>\n",
       "    .dataframe tbody tr th:only-of-type {\n",
       "        vertical-align: middle;\n",
       "    }\n",
       "\n",
       "    .dataframe tbody tr th {\n",
       "        vertical-align: top;\n",
       "    }\n",
       "\n",
       "    .dataframe thead th {\n",
       "        text-align: right;\n",
       "    }\n",
       "</style>\n",
       "<table border=\"1\" class=\"dataframe\">\n",
       "  <thead>\n",
       "    <tr style=\"text-align: right;\">\n",
       "      <th></th>\n",
       "      <th>n_assets</th>\n",
       "      <th>sim</th>\n",
       "      <th>true</th>\n",
       "      <th>est_all</th>\n",
       "      <th>est_sd_corr</th>\n",
       "      <th>est_sd</th>\n",
       "      <th>est_none</th>\n",
       "    </tr>\n",
       "  </thead>\n",
       "  <tbody>\n",
       "    <tr>\n",
       "      <th>0</th>\n",
       "      <td>3</td>\n",
       "      <td>0</td>\n",
       "      <td>0.351705</td>\n",
       "      <td>0.188265</td>\n",
       "      <td>0.079492</td>\n",
       "      <td>0.171911</td>\n",
       "      <td>0.196575</td>\n",
       "    </tr>\n",
       "    <tr>\n",
       "      <th>1</th>\n",
       "      <td>3</td>\n",
       "      <td>1</td>\n",
       "      <td>0.374888</td>\n",
       "      <td>0.230869</td>\n",
       "      <td>0.295605</td>\n",
       "      <td>0.347252</td>\n",
       "      <td>0.359619</td>\n",
       "    </tr>\n",
       "    <tr>\n",
       "      <th>2</th>\n",
       "      <td>3</td>\n",
       "      <td>2</td>\n",
       "      <td>0.258342</td>\n",
       "      <td>0.240074</td>\n",
       "      <td>0.187756</td>\n",
       "      <td>0.208892</td>\n",
       "      <td>0.151306</td>\n",
       "    </tr>\n",
       "    <tr>\n",
       "      <th>3</th>\n",
       "      <td>3</td>\n",
       "      <td>3</td>\n",
       "      <td>0.622437</td>\n",
       "      <td>0.438985</td>\n",
       "      <td>0.387090</td>\n",
       "      <td>0.488606</td>\n",
       "      <td>0.541386</td>\n",
       "    </tr>\n",
       "    <tr>\n",
       "      <th>4</th>\n",
       "      <td>3</td>\n",
       "      <td>4</td>\n",
       "      <td>0.478478</td>\n",
       "      <td>0.354124</td>\n",
       "      <td>0.388637</td>\n",
       "      <td>0.494816</td>\n",
       "      <td>0.500837</td>\n",
       "    </tr>\n",
       "  </tbody>\n",
       "</table>\n",
       "</div>"
      ],
      "text/plain": [
       "   n_assets  sim      true   est_all  est_sd_corr    est_sd  est_none\n",
       "0         3    0  0.351705  0.188265     0.079492  0.171911  0.196575\n",
       "1         3    1  0.374888  0.230869     0.295605  0.347252  0.359619\n",
       "2         3    2  0.258342  0.240074     0.187756  0.208892  0.151306\n",
       "3         3    3  0.622437  0.438985     0.387090  0.488606  0.541386\n",
       "4         3    4  0.478478  0.354124     0.388637  0.494816  0.500837"
      ]
     },
     "execution_count": 82,
     "metadata": {},
     "output_type": "execute_result"
    }
   ],
   "source": [
    "sim_results = pd.read_csv('../data/sim_results_vary_nassets.csv')\n",
    "sim_results.head()"
   ]
  },
  {
   "cell_type": "code",
   "execution_count": 83,
   "metadata": {},
   "outputs": [],
   "source": [
    "stats = sim_results.groupby(['n_assets']).mean()\n",
    "stats = stats.reset_index()\n",
    "stats['num'] = stats['n_assets'].apply(lambda x: int(x))\n",
    "stats = stats.sort_values('num')\n",
    "stats = stats[['num','true','est_all', 'est_sd_corr', 'est_sd','est_none']]"
   ]
  },
  {
   "cell_type": "code",
   "execution_count": 84,
   "metadata": {},
   "outputs": [
    {
     "data": {
      "application/vnd.plotly.v1+json": {
       "config": {
        "plotlyServerURL": "https://plot.ly"
       },
       "data": [
        {
         "alignmentgroup": "True",
         "bingroup": "x",
         "histfunc": "avg",
         "hovertemplate": "n_assets=3<br>strategy=%{x}<br>avg of sr=%{y}<extra></extra>",
         "legendgroup": "3",
         "marker": {
          "color": "#636efa",
          "pattern": {
           "shape": ""
          }
         },
         "name": "3",
         "offsetgroup": "3",
         "orientation": "v",
         "showlegend": true,
         "type": "histogram",
         "x": [
          "True",
          "Est-All",
          "Est-SD-Corr",
          "Est-SD",
          "Est-None"
         ],
         "xaxis": "x",
         "y": [
          0.534057895818172,
          0.3705266664397175,
          0.2817586423890594,
          0.37656151248880265,
          0.41606586836297976
         ],
         "yaxis": "y"
        },
        {
         "alignmentgroup": "True",
         "bingroup": "x",
         "histfunc": "avg",
         "hovertemplate": "n_assets=5<br>strategy=%{x}<br>avg of sr=%{y}<extra></extra>",
         "legendgroup": "5",
         "marker": {
          "color": "#EF553B",
          "pattern": {
           "shape": ""
          }
         },
         "name": "5",
         "offsetgroup": "5",
         "orientation": "v",
         "showlegend": true,
         "type": "histogram",
         "x": [
          "True",
          "Est-All",
          "Est-SD-Corr",
          "Est-SD",
          "Est-None"
         ],
         "xaxis": "x",
         "y": [
          0.5253803149631491,
          0.3011178354866581,
          0.14330986657620015,
          0.3342202236136717,
          0.38826280552716536
         ],
         "yaxis": "y"
        },
        {
         "alignmentgroup": "True",
         "bingroup": "x",
         "histfunc": "avg",
         "hovertemplate": "n_assets=10<br>strategy=%{x}<br>avg of sr=%{y}<extra></extra>",
         "legendgroup": "10",
         "marker": {
          "color": "#00cc96",
          "pattern": {
           "shape": ""
          }
         },
         "name": "10",
         "offsetgroup": "10",
         "orientation": "v",
         "showlegend": true,
         "type": "histogram",
         "x": [
          "True",
          "Est-All",
          "Est-SD-Corr",
          "Est-SD",
          "Est-None"
         ],
         "xaxis": "x",
         "y": [
          0.5332031576931866,
          0.19581049365277076,
          0.006178668631790651,
          0.2717943319193942,
          0.3217735313078548
         ],
         "yaxis": "y"
        }
       ],
       "layout": {
        "barmode": "group",
        "height": 400,
        "legend": {
         "title": {
          "text": "n_assets"
         },
         "tracegroupgap": 0
        },
        "margin": {
         "t": 60
        },
        "template": {
         "data": {
          "bar": [
           {
            "error_x": {
             "color": "#2a3f5f"
            },
            "error_y": {
             "color": "#2a3f5f"
            },
            "marker": {
             "line": {
              "color": "#E5ECF6",
              "width": 0.5
             },
             "pattern": {
              "fillmode": "overlay",
              "size": 10,
              "solidity": 0.2
             }
            },
            "type": "bar"
           }
          ],
          "barpolar": [
           {
            "marker": {
             "line": {
              "color": "#E5ECF6",
              "width": 0.5
             },
             "pattern": {
              "fillmode": "overlay",
              "size": 10,
              "solidity": 0.2
             }
            },
            "type": "barpolar"
           }
          ],
          "carpet": [
           {
            "aaxis": {
             "endlinecolor": "#2a3f5f",
             "gridcolor": "white",
             "linecolor": "white",
             "minorgridcolor": "white",
             "startlinecolor": "#2a3f5f"
            },
            "baxis": {
             "endlinecolor": "#2a3f5f",
             "gridcolor": "white",
             "linecolor": "white",
             "minorgridcolor": "white",
             "startlinecolor": "#2a3f5f"
            },
            "type": "carpet"
           }
          ],
          "choropleth": [
           {
            "colorbar": {
             "outlinewidth": 0,
             "ticks": ""
            },
            "type": "choropleth"
           }
          ],
          "contour": [
           {
            "colorbar": {
             "outlinewidth": 0,
             "ticks": ""
            },
            "colorscale": [
             [
              0,
              "#0d0887"
             ],
             [
              0.1111111111111111,
              "#46039f"
             ],
             [
              0.2222222222222222,
              "#7201a8"
             ],
             [
              0.3333333333333333,
              "#9c179e"
             ],
             [
              0.4444444444444444,
              "#bd3786"
             ],
             [
              0.5555555555555556,
              "#d8576b"
             ],
             [
              0.6666666666666666,
              "#ed7953"
             ],
             [
              0.7777777777777778,
              "#fb9f3a"
             ],
             [
              0.8888888888888888,
              "#fdca26"
             ],
             [
              1,
              "#f0f921"
             ]
            ],
            "type": "contour"
           }
          ],
          "contourcarpet": [
           {
            "colorbar": {
             "outlinewidth": 0,
             "ticks": ""
            },
            "type": "contourcarpet"
           }
          ],
          "heatmap": [
           {
            "colorbar": {
             "outlinewidth": 0,
             "ticks": ""
            },
            "colorscale": [
             [
              0,
              "#0d0887"
             ],
             [
              0.1111111111111111,
              "#46039f"
             ],
             [
              0.2222222222222222,
              "#7201a8"
             ],
             [
              0.3333333333333333,
              "#9c179e"
             ],
             [
              0.4444444444444444,
              "#bd3786"
             ],
             [
              0.5555555555555556,
              "#d8576b"
             ],
             [
              0.6666666666666666,
              "#ed7953"
             ],
             [
              0.7777777777777778,
              "#fb9f3a"
             ],
             [
              0.8888888888888888,
              "#fdca26"
             ],
             [
              1,
              "#f0f921"
             ]
            ],
            "type": "heatmap"
           }
          ],
          "heatmapgl": [
           {
            "colorbar": {
             "outlinewidth": 0,
             "ticks": ""
            },
            "colorscale": [
             [
              0,
              "#0d0887"
             ],
             [
              0.1111111111111111,
              "#46039f"
             ],
             [
              0.2222222222222222,
              "#7201a8"
             ],
             [
              0.3333333333333333,
              "#9c179e"
             ],
             [
              0.4444444444444444,
              "#bd3786"
             ],
             [
              0.5555555555555556,
              "#d8576b"
             ],
             [
              0.6666666666666666,
              "#ed7953"
             ],
             [
              0.7777777777777778,
              "#fb9f3a"
             ],
             [
              0.8888888888888888,
              "#fdca26"
             ],
             [
              1,
              "#f0f921"
             ]
            ],
            "type": "heatmapgl"
           }
          ],
          "histogram": [
           {
            "marker": {
             "pattern": {
              "fillmode": "overlay",
              "size": 10,
              "solidity": 0.2
             }
            },
            "type": "histogram"
           }
          ],
          "histogram2d": [
           {
            "colorbar": {
             "outlinewidth": 0,
             "ticks": ""
            },
            "colorscale": [
             [
              0,
              "#0d0887"
             ],
             [
              0.1111111111111111,
              "#46039f"
             ],
             [
              0.2222222222222222,
              "#7201a8"
             ],
             [
              0.3333333333333333,
              "#9c179e"
             ],
             [
              0.4444444444444444,
              "#bd3786"
             ],
             [
              0.5555555555555556,
              "#d8576b"
             ],
             [
              0.6666666666666666,
              "#ed7953"
             ],
             [
              0.7777777777777778,
              "#fb9f3a"
             ],
             [
              0.8888888888888888,
              "#fdca26"
             ],
             [
              1,
              "#f0f921"
             ]
            ],
            "type": "histogram2d"
           }
          ],
          "histogram2dcontour": [
           {
            "colorbar": {
             "outlinewidth": 0,
             "ticks": ""
            },
            "colorscale": [
             [
              0,
              "#0d0887"
             ],
             [
              0.1111111111111111,
              "#46039f"
             ],
             [
              0.2222222222222222,
              "#7201a8"
             ],
             [
              0.3333333333333333,
              "#9c179e"
             ],
             [
              0.4444444444444444,
              "#bd3786"
             ],
             [
              0.5555555555555556,
              "#d8576b"
             ],
             [
              0.6666666666666666,
              "#ed7953"
             ],
             [
              0.7777777777777778,
              "#fb9f3a"
             ],
             [
              0.8888888888888888,
              "#fdca26"
             ],
             [
              1,
              "#f0f921"
             ]
            ],
            "type": "histogram2dcontour"
           }
          ],
          "mesh3d": [
           {
            "colorbar": {
             "outlinewidth": 0,
             "ticks": ""
            },
            "type": "mesh3d"
           }
          ],
          "parcoords": [
           {
            "line": {
             "colorbar": {
              "outlinewidth": 0,
              "ticks": ""
             }
            },
            "type": "parcoords"
           }
          ],
          "pie": [
           {
            "automargin": true,
            "type": "pie"
           }
          ],
          "scatter": [
           {
            "fillpattern": {
             "fillmode": "overlay",
             "size": 10,
             "solidity": 0.2
            },
            "type": "scatter"
           }
          ],
          "scatter3d": [
           {
            "line": {
             "colorbar": {
              "outlinewidth": 0,
              "ticks": ""
             }
            },
            "marker": {
             "colorbar": {
              "outlinewidth": 0,
              "ticks": ""
             }
            },
            "type": "scatter3d"
           }
          ],
          "scattercarpet": [
           {
            "marker": {
             "colorbar": {
              "outlinewidth": 0,
              "ticks": ""
             }
            },
            "type": "scattercarpet"
           }
          ],
          "scattergeo": [
           {
            "marker": {
             "colorbar": {
              "outlinewidth": 0,
              "ticks": ""
             }
            },
            "type": "scattergeo"
           }
          ],
          "scattergl": [
           {
            "marker": {
             "colorbar": {
              "outlinewidth": 0,
              "ticks": ""
             }
            },
            "type": "scattergl"
           }
          ],
          "scattermapbox": [
           {
            "marker": {
             "colorbar": {
              "outlinewidth": 0,
              "ticks": ""
             }
            },
            "type": "scattermapbox"
           }
          ],
          "scatterpolar": [
           {
            "marker": {
             "colorbar": {
              "outlinewidth": 0,
              "ticks": ""
             }
            },
            "type": "scatterpolar"
           }
          ],
          "scatterpolargl": [
           {
            "marker": {
             "colorbar": {
              "outlinewidth": 0,
              "ticks": ""
             }
            },
            "type": "scatterpolargl"
           }
          ],
          "scatterternary": [
           {
            "marker": {
             "colorbar": {
              "outlinewidth": 0,
              "ticks": ""
             }
            },
            "type": "scatterternary"
           }
          ],
          "surface": [
           {
            "colorbar": {
             "outlinewidth": 0,
             "ticks": ""
            },
            "colorscale": [
             [
              0,
              "#0d0887"
             ],
             [
              0.1111111111111111,
              "#46039f"
             ],
             [
              0.2222222222222222,
              "#7201a8"
             ],
             [
              0.3333333333333333,
              "#9c179e"
             ],
             [
              0.4444444444444444,
              "#bd3786"
             ],
             [
              0.5555555555555556,
              "#d8576b"
             ],
             [
              0.6666666666666666,
              "#ed7953"
             ],
             [
              0.7777777777777778,
              "#fb9f3a"
             ],
             [
              0.8888888888888888,
              "#fdca26"
             ],
             [
              1,
              "#f0f921"
             ]
            ],
            "type": "surface"
           }
          ],
          "table": [
           {
            "cells": {
             "fill": {
              "color": "#EBF0F8"
             },
             "line": {
              "color": "white"
             }
            },
            "header": {
             "fill": {
              "color": "#C8D4E3"
             },
             "line": {
              "color": "white"
             }
            },
            "type": "table"
           }
          ]
         },
         "layout": {
          "annotationdefaults": {
           "arrowcolor": "#2a3f5f",
           "arrowhead": 0,
           "arrowwidth": 1
          },
          "autotypenumbers": "strict",
          "coloraxis": {
           "colorbar": {
            "outlinewidth": 0,
            "ticks": ""
           }
          },
          "colorscale": {
           "diverging": [
            [
             0,
             "#8e0152"
            ],
            [
             0.1,
             "#c51b7d"
            ],
            [
             0.2,
             "#de77ae"
            ],
            [
             0.3,
             "#f1b6da"
            ],
            [
             0.4,
             "#fde0ef"
            ],
            [
             0.5,
             "#f7f7f7"
            ],
            [
             0.6,
             "#e6f5d0"
            ],
            [
             0.7,
             "#b8e186"
            ],
            [
             0.8,
             "#7fbc41"
            ],
            [
             0.9,
             "#4d9221"
            ],
            [
             1,
             "#276419"
            ]
           ],
           "sequential": [
            [
             0,
             "#0d0887"
            ],
            [
             0.1111111111111111,
             "#46039f"
            ],
            [
             0.2222222222222222,
             "#7201a8"
            ],
            [
             0.3333333333333333,
             "#9c179e"
            ],
            [
             0.4444444444444444,
             "#bd3786"
            ],
            [
             0.5555555555555556,
             "#d8576b"
            ],
            [
             0.6666666666666666,
             "#ed7953"
            ],
            [
             0.7777777777777778,
             "#fb9f3a"
            ],
            [
             0.8888888888888888,
             "#fdca26"
            ],
            [
             1,
             "#f0f921"
            ]
           ],
           "sequentialminus": [
            [
             0,
             "#0d0887"
            ],
            [
             0.1111111111111111,
             "#46039f"
            ],
            [
             0.2222222222222222,
             "#7201a8"
            ],
            [
             0.3333333333333333,
             "#9c179e"
            ],
            [
             0.4444444444444444,
             "#bd3786"
            ],
            [
             0.5555555555555556,
             "#d8576b"
            ],
            [
             0.6666666666666666,
             "#ed7953"
            ],
            [
             0.7777777777777778,
             "#fb9f3a"
            ],
            [
             0.8888888888888888,
             "#fdca26"
            ],
            [
             1,
             "#f0f921"
            ]
           ]
          },
          "colorway": [
           "#636efa",
           "#EF553B",
           "#00cc96",
           "#ab63fa",
           "#FFA15A",
           "#19d3f3",
           "#FF6692",
           "#B6E880",
           "#FF97FF",
           "#FECB52"
          ],
          "font": {
           "color": "#2a3f5f"
          },
          "geo": {
           "bgcolor": "white",
           "lakecolor": "white",
           "landcolor": "#E5ECF6",
           "showlakes": true,
           "showland": true,
           "subunitcolor": "white"
          },
          "hoverlabel": {
           "align": "left"
          },
          "hovermode": "closest",
          "mapbox": {
           "style": "light"
          },
          "paper_bgcolor": "white",
          "plot_bgcolor": "#E5ECF6",
          "polar": {
           "angularaxis": {
            "gridcolor": "white",
            "linecolor": "white",
            "ticks": ""
           },
           "bgcolor": "#E5ECF6",
           "radialaxis": {
            "gridcolor": "white",
            "linecolor": "white",
            "ticks": ""
           }
          },
          "scene": {
           "xaxis": {
            "backgroundcolor": "#E5ECF6",
            "gridcolor": "white",
            "gridwidth": 2,
            "linecolor": "white",
            "showbackground": true,
            "ticks": "",
            "zerolinecolor": "white"
           },
           "yaxis": {
            "backgroundcolor": "#E5ECF6",
            "gridcolor": "white",
            "gridwidth": 2,
            "linecolor": "white",
            "showbackground": true,
            "ticks": "",
            "zerolinecolor": "white"
           },
           "zaxis": {
            "backgroundcolor": "#E5ECF6",
            "gridcolor": "white",
            "gridwidth": 2,
            "linecolor": "white",
            "showbackground": true,
            "ticks": "",
            "zerolinecolor": "white"
           }
          },
          "shapedefaults": {
           "line": {
            "color": "#2a3f5f"
           }
          },
          "ternary": {
           "aaxis": {
            "gridcolor": "white",
            "linecolor": "white",
            "ticks": ""
           },
           "baxis": {
            "gridcolor": "white",
            "linecolor": "white",
            "ticks": ""
           },
           "bgcolor": "#E5ECF6",
           "caxis": {
            "gridcolor": "white",
            "linecolor": "white",
            "ticks": ""
           }
          },
          "title": {
           "x": 0.05
          },
          "xaxis": {
           "automargin": true,
           "gridcolor": "white",
           "linecolor": "white",
           "ticks": "",
           "title": {
            "standoff": 15
           },
           "zerolinecolor": "white",
           "zerolinewidth": 2
          },
          "yaxis": {
           "automargin": true,
           "gridcolor": "white",
           "linecolor": "white",
           "ticks": "",
           "title": {
            "standoff": 15
           },
           "zerolinecolor": "white",
           "zerolinewidth": 2
          }
         }
        },
        "xaxis": {
         "anchor": "y",
         "domain": [
          0,
          1
         ],
         "title": {
          "text": "Strategy"
         }
        },
        "yaxis": {
         "anchor": "x",
         "domain": [
          0,
          1
         ],
         "title": {
          "text": "Sharpe ratio"
         }
        }
       }
      }
     },
     "metadata": {},
     "output_type": "display_data"
    }
   ],
   "source": [
    "import plotly.express as px\n",
    "newdf = stats.set_index('num').stack().reset_index()\n",
    "newdf.columns=['n_assets','strategy','sr']\n",
    "label_dict = {'true':'True',\n",
    "            'est_none': 'Est-None',\n",
    "            'est_all': 'Est-All',\n",
    "            'est_sd_corr': 'Est-SD-Corr',\n",
    "            'est_sd': 'Est-SD'}\n",
    "\n",
    "newdf['strategy'] = newdf['strategy'].apply(lambda y: label_dict[y])\n",
    "fig = go.Figure()\n",
    "fig = px.histogram(newdf, x=\"strategy\", y=\"sr\",\n",
    "            color='n_assets', barmode='group', histfunc='avg',\n",
    "            height=400)\n",
    "fig.layout.yaxis[\"title\"] = \"Sharpe ratio\"\n",
    "fig.layout.xaxis[\"title\"] = \"Strategy\"             \n",
    "fig.show()"
   ]
  },
  {
   "attachments": {},
   "cell_type": "markdown",
   "metadata": {},
   "source": [
    "### Plot distribution of SRs as a function of number of assets for a strategy"
   ]
  },
  {
   "cell_type": "code",
   "execution_count": 85,
   "metadata": {},
   "outputs": [],
   "source": [
    "import plotly.graph_objects as go\n",
    "def boxplots(df,method):\n",
    "    sim_results = df.copy()\n",
    "    label_dict = {'true': 'True', \n",
    "                'est_none': 'Est-None',\n",
    "                'est_all': 'Est-All',\n",
    "                'est_sd_corr': 'Est-SD-Corr',\n",
    "                'est_sd': 'Est-SD'}\n",
    "    fig = go.Figure()\n",
    "    sim_results = sim_results.set_index('n_assets')\n",
    "    for key in mns_dict.keys():\n",
    "        fig.add_trace(go.Box(y=sim_results.loc[int(key),method], boxmean='sd', name = key)) \n",
    "    fig.layout.yaxis[\"title\"] = \"Sharpe ratio\"\n",
    "    fig.layout.xaxis[\"title\"] = \"N(assets)\"           \n",
    "    fig.update_layout(title_text='Strategy is:\\t' + label_dict[method])\n",
    "    fig.show()"
   ]
  },
  {
   "cell_type": "code",
   "execution_count": 86,
   "metadata": {},
   "outputs": [
    {
     "data": {
      "application/vnd.plotly.v1+json": {
       "config": {
        "plotlyServerURL": "https://plot.ly"
       },
       "data": [
        {
         "boxmean": "sd",
         "name": "3",
         "type": "box",
         "y": [
          0.1882651692902366,
          0.2308685299965539,
          0.2400743949836884,
          0.4389846012773357,
          0.3541238807391765,
          0.1821616416684684,
          0.4003539586564719,
          0.338015188767911,
          0.4745132678800561,
          0.2491030746232072,
          0.3257386185538116,
          0.4695881730718395,
          0.5819648037149464,
          0.5773018319702103,
          0.6031651515226791,
          0.3570818796185979,
          0.3708190029550859,
          0.230289494771698,
          0.1305206071661029,
          0.5942160593961776,
          0.0319659615495337,
          0.1566001320312826,
          0.091497069153948,
          0.4675063246872916,
          0.5400080009912629,
          0.5084801958606825,
          0.3915159574918858,
          0.2702998724538909,
          0.3263614400040711,
          0.3241663623283378,
          0.5560490529133684,
          0.412423337640675,
          0.0816682216519299,
          0.3790307324425409,
          0.3123589937464467,
          0.4320021933286794,
          0.1616693396113752,
          0.4289151129495498,
          0.0573789386515868,
          0.3567601206459957,
          0.304675387252395,
          0.2609441749958456,
          0.6206166471062512,
          0.1411526775060068,
          0.2311202615206291,
          0.4278607182218988,
          0.3403313061523105,
          0.3596567844481146,
          0.3335311645562617,
          0.5013631498480423,
          0.4613786840982371,
          0.4298755314126994,
          0.4551279368501155,
          0.3367912725205156,
          0.3304508817390137,
          0.2221086823766243,
          0.2951876330653435,
          0.4270586756508169,
          0.4851792758360372,
          0.3407204802103572,
          0.3359891548240009,
          0.4087277977451637,
          0.333691765872709,
          -0.0039488313211536,
          0.4616320850236697,
          0.6507404704967428,
          0.2468679351831728,
          0.4351332669239557,
          0.3117203832991543,
          0.2568528678013537,
          0.1608669711350135,
          0.1961819287449982,
          0.3619857192484214,
          0.5670916178175024,
          0.3422733162140803,
          0.1063975318615884,
          0.3403143237932122,
          0.1815443188608085,
          0.3149463454197378,
          0.2433056386297966,
          0.2567736834365444,
          0.5020162417957833,
          0.5817482973362843,
          0.3427640474640894,
          0.2546388951960509,
          0.614113960948234,
          0.3199724863861911,
          0.2385961564976679,
          0.6031263078689837,
          0.4525393646700344,
          0.097068404989437,
          0.6299151864355951,
          0.1647860463097441,
          0.3622747502786094,
          0.5448938872552159,
          0.4475828534672939,
          0.4640128206004556,
          0.5520681235758114,
          0.2233422985426891,
          0.3314114029266967,
          0.5147807893543404,
          0.4091885781761046,
          0.5314301579923699,
          0.2851712784449289,
          0.426414143605785,
          0.3586305383745182,
          0.4441896414093695,
          0.3207920148552823,
          0.3887514693476526,
          0.4908099654956254,
          0.3625909717990001,
          0.3960321601500096,
          0.5104766702554108,
          -0.0011509271522601,
          0.50800411875742,
          0.0862229176690416,
          0.4429081185205119,
          0.0307712088730506,
          0.5128644426868516,
          0.2631779255846816,
          0.1991957238109383,
          0.087994771395169,
          0.6780962117248062,
          0.4811285084123959,
          0.3589578964361195,
          -0.0022557193641322,
          0.4705821704058835,
          0.2568517339951298,
          0.3095958648074612,
          0.6219814369799883,
          0.416498555879137,
          0.1987792349809986,
          0.4759656424269968,
          0.4554491817744289,
          0.3338289635915216,
          0.3007866796382736,
          0.2328766284848391,
          0.5176731497071486,
          0.3791312774559626,
          -0.2310782303088639,
          0.4295706535262893,
          0.1943622312529452,
          0.3493051445905715,
          0.1700687403093845,
          0.1656163607385889,
          0.5602788444694213,
          0.5733844891210498,
          0.5402074313388804,
          0.5595225802448752,
          0.466745497891574,
          0.3618945491435621,
          0.5444035632084719,
          0.776496340638378,
          0.3089780685860728,
          0.3936684049405938,
          0.231097460006952,
          0.5174562679047248,
          0.0901053144973043,
          0.65106833347666,
          0.2347334823508616,
          0.2058397661055769,
          0.3350995305918229,
          0.7032269488812766,
          0.2110864708438975,
          0.1231262591396387,
          0.1144241712971348,
          0.0416640455920515,
          0.3104482900466765,
          0.3134198961507287,
          0.6663255926248582,
          0.4762715222246879,
          0.6410244510573145,
          0.6202631276293914,
          0.1825047072700749,
          0.3220037781493167,
          0.2586994061792083,
          0.0967114964213608,
          0.7033721636942449,
          0.2873906904498968,
          0.3236702796885979,
          0.1553874772781108,
          0.6113460429207506,
          0.4440828589602643,
          0.329456653156511,
          0.2339906570392989,
          0.1372139874931525,
          0.3902193404611118,
          0.5569772526549844,
          0.4412737153178219,
          0.3410706675115659,
          0.1725799389995662,
          0.3861677274852478,
          0.5393891765525713,
          0.2995248899315147,
          0.5463261132173328,
          0.2520822128633749,
          0.524259510919686,
          0.2952553133702027,
          0.6034850627343162,
          0.4008603224290068,
          0.3683642313368588,
          0.7268929029706571,
          0.6104117268190624,
          0.1548348959750476,
          0.2823250659496823,
          0.5905719719717946,
          0.4412443866510315,
          0.2982880214421372,
          0.4472348017480121,
          0.1236774229294867,
          0.4065704837844029,
          0.3196806539593732,
          0.1102292266374267,
          0.5681306649284982,
          0.4401788400676041,
          0.6270340020650427,
          0.4723852416239195,
          0.5066508294117418,
          0.3843151945743838,
          0.4405409449640657,
          0.1209437177715824,
          0.286317814595336,
          0.3509622824628822,
          0.5036103777792781,
          0.2308035826021198,
          0.3744020521541527,
          0.3141406612979872,
          0.2548927517266081,
          0.2532162617658826,
          0.2180553988108908,
          0.4597381903254268,
          0.7921115764100449,
          0.4724951935053332,
          0.4347772875655543,
          0.3187364200635886,
          0.3746614519746987,
          0.5282872146572591,
          0.4098381674858675,
          0.2709746640556794,
          0.6617302564755237,
          0.0817993043912461,
          0.2861221890297012,
          0.2494787918503892,
          0.2925617903256465,
          1.0841667632084442,
          0.4464710975061736,
          0.1620067754542962,
          0.3591285869849994,
          0.2232578864372618,
          0.4457328012347222,
          0.4126874295585713,
          0.108191188425873,
          0.4481848257018752,
          0.100518068569356,
          0.3604693344697693,
          0.5820515157630423,
          0.396375891596341,
          0.3501435553634232,
          0.349208987288783,
          0.3584656344872129,
          0.2674288157719314,
          0.3080837945840889,
          0.5037652779955695,
          0.3427492948759068,
          0.5208340690842663,
          0.6286341440330434,
          0.2742512761011489,
          0.7205547649753541,
          0.3452783232146355,
          0.3797136370627227,
          0.2067944053498787,
          0.2042244444064443,
          0.0124888910531834,
          0.1846454851625847,
          0.2727917123366155,
          0.3038129586194477,
          0.2203362323323228,
          0.2914275917913977,
          0.1458406033289289,
          0.4076858673791407,
          0.3160203941636431,
          0.4161353801072396,
          0.434010851859603,
          0.5852228755167207,
          0.2553145268671387,
          0.5398600795561038,
          0.5022540565441331,
          0.547641571795267,
          0.6020274836260393,
          0.5176178495163242,
          0.3972122912263571,
          0.4081898411198357,
          0.5916214133453199,
          0.445187224515409,
          0.4888038851676849,
          0.3063617571468894,
          0.6979833843109029,
          0.4774909633569629,
          0.3306804762759334,
          0.40998074817829,
          0.1179294764390194,
          0.5437378482859974,
          0.3965378503652527,
          0.6486539823382448,
          0.3166899231407186,
          0.8903587410779545,
          0.4409123787412552,
          0.2546665602021063,
          0.4472950675470787,
          0.4332862380509742,
          0.3490922109183146,
          0.5600051879868858,
          0.2032236505794518,
          0.2829242675803692,
          0.3702640968063236,
          0.4988609961859599,
          0.8137257757829832,
          0.3188613976665951,
          0.490424707390944,
          0.5682467100966965,
          0.2399907400463546,
          0.3338545431919925,
          0.6598721387225425,
          0.2163314050215378,
          0.3419951760738031,
          0.1097634289775676,
          0.139216185784323,
          0.341110862908728,
          0.417622520728898,
          0.1916547469292536,
          0.198811432295047,
          0.2378863752282649,
          0.2215318789535623,
          0.210355668989785,
          0.5394628644589036,
          0.5128327135750459,
          0.3466384701011468,
          0.1210637844163366,
          0.4149225727135604,
          0.6993824031571669,
          0.6751286742070026,
          0.3704843525428174,
          0.3352551100834655,
          0.3382014520932248,
          0.4227609637297208,
          0.3776379740772033,
          0.089415619662859,
          0.335368143732999,
          0.2046044880269331,
          0.2039798820437136,
          0.486871687658452,
          0.4404879467547017,
          0.3918802928017908,
          0.3320942816520383,
          0.3231494937700739,
          0.0314546008956442,
          0.3505139341550556,
          0.3072719260041151,
          0.255780636983535,
          0.2389347283884458,
          0.3944408203331016,
          0.6961874791954554,
          0.0950498534380567,
          -0.098436450628634,
          0.4870046262039346,
          0.2306936441086254,
          0.2498883714378706,
          0.6629252615733006,
          0.261064054854149,
          0.4528159103991978,
          0.4519966193814245,
          0.4343132231169819,
          0.659431001420786,
          0.4978451948627043,
          0.510156853534746,
          0.4311648904979182,
          0.4752258207788459,
          0.1288116856283406,
          0.3453188664873524,
          0.3807921266442706,
          0.3037355560788005,
          0.2272276169301541,
          0.2332292094845658,
          0.3605485592064604,
          0.3092756941477769,
          0.543214148680925,
          0.337945815185922,
          0.626679897539658,
          0.1526726791874932,
          0.3938207072112826,
          0.0817711353221045,
          0.3167127978010375,
          0.4059514288465262,
          0.1434312567951012,
          0.4808223250698755,
          0.4023714595211091,
          0.6432975551481942,
          0.6006678955772463,
          0.1353576450989344,
          0.3032544105315036,
          0.3138741930881029,
          0.4309544972589713,
          0.2062475243309686,
          0.5159828093775232,
          0.4207575192457395,
          0.4174138200493991,
          0.1593021056735958,
          0.4304025594855931,
          0.4199633774117314,
          0.2924808153323149,
          0.4257887937296428,
          0.2821695996257304,
          0.5187553324113527,
          0.27287282904758,
          0.3511960414646956,
          0.6390612661028776,
          0.0220673335837655,
          0.3481525730540712,
          0.3611186962906393,
          0.1159544798468719,
          0.3767343949800318,
          0.0526042301957003,
          0.2667733608835284,
          0.362386877098194,
          0.238001493560493,
          0.4140491920277233,
          0.1462297620536646,
          0.3582028733045053,
          0.4672004536839562,
          0.3559143276638803,
          0.5649112493027431,
          0.3200651959308283,
          0.4631850696434311,
          0.4827766998048224,
          0.1619323816408555,
          0.4376948658008979,
          0.1508009881043908,
          0.5933267011960182,
          0.440729713397084,
          0.1256064641958007,
          0.3732034265133101,
          0.4819484726312411,
          0.2256581069416921,
          0.2428887078334797,
          0.2333329408005318,
          0.6115674946083606,
          0.4291880368490721,
          0.3658769720694999,
          0.529969339017141,
          0.5298190328253896,
          0.2876614048963079,
          0.4421985583602548,
          0.4845247410870197,
          0.4616932851948449,
          0.4871523248108501,
          0.454115580841917,
          0.3959590072500662,
          0.278212901163438,
          0.5823912781020688,
          0.1526093985835426,
          0.6182235920697686,
          0.4115478127214238,
          0.4926119839612507,
          0.2820427127313035,
          0.2634197772276463,
          0.3855824696759503,
          0.3000416302847427,
          0.3836201485963209,
          0.3695359210373659,
          0.3764112609104965,
          0.3325610823468874,
          0.4321962026249704,
          0.5006723650713332,
          0.3465801511948733,
          0.466816021298195,
          0.3710758713335949,
          0.4026723185754946,
          0.4877164409139699,
          0.2148872332163655,
          0.4352379594915435,
          0.7197737368320534,
          0.1561053960422732,
          0.2865163422576143,
          0.4414574368549393,
          0.3477123414975114,
          0.4208900081363833,
          0.3666366253938622,
          0.4651149528489834,
          0.4302313839219227,
          0.6044500889651987,
          0.7325397828069113,
          0.3651706158487826,
          0.4153956309456352,
          0.4864708993404712,
          0.3638816611660796,
          0.6206648931306089,
          0.2551969237367229,
          0.4157523511315056,
          0.1712723387730644,
          0.2873656940470251
         ]
        },
        {
         "boxmean": "sd",
         "name": "5",
         "type": "box",
         "y": [
          0.2935582455963441,
          0.4685943861777578,
          0.1977375579855423,
          0.3456350484083479,
          0.2946293229938014,
          0.1164115487915207,
          0.2309258097880814,
          0.3418367731278572,
          0.3728042198549947,
          0.3989183719606531,
          0.3989801450448453,
          0.1373918468722036,
          0.2447129661772979,
          0.3341228146273342,
          0.5000964964691003,
          0.4034150427701239,
          0.2473141961581665,
          0.1354871462082136,
          -0.0462346954642495,
          0.3488470609088274,
          0.5177026420946828,
          0.2440905964759172,
          0.0904966631387289,
          0.1732639072055985,
          0.1861330366543045,
          0.2534970850633875,
          0.3270060416668601,
          0.1396046290053592,
          0.2209572015499228,
          0.4007461626315686,
          0.4621688541674618,
          0.1327390393794745,
          0.120990580543054,
          0.3348837036032677,
          0.5596895769782758,
          0.2895437608844888,
          0.2216917325555173,
          0.2810902182712161,
          0.2207936827794563,
          0.1688333547447216,
          0.1114411446512572,
          0.5431075355601194,
          0.3088781918956993,
          0.1077922331168192,
          0.3230653557555906,
          0.4026832917157225,
          0.3389870037576323,
          0.1395698010752292,
          -0.0767298045041378,
          0.3349546850976745,
          0.4247777412554128,
          0.4655630645072589,
          0.1451873989742513,
          0.2614150307407962,
          0.2107422631987275,
          0.4806309978161457,
          -0.094415948597016,
          0.3700543292270529,
          0.6433685019502043,
          0.4610359635023349,
          0.3819835875074636,
          0.3024144079552687,
          0.4222440208396157,
          0.1482895998000249,
          0.3108716749025522,
          0.5860246803178961,
          0.1230261255087352,
          0.2046782641712438,
          0.2494656689986209,
          0.3066355406783557,
          0.1707125636391706,
          -0.144238732773512,
          0.3513153753086624,
          0.3153739007784803,
          0.5778626592245828,
          0.1804467522063788,
          0.0060242394356952,
          0.5306487722200408,
          0.4131798868615721,
          0.5643715699554682,
          0.1217867797050781,
          0.299857016501881,
          0.3346907670869393,
          0.4595653182052732,
          0.2989293105669738,
          0.2777732504035355,
          0.3043951587183501,
          0.1030047566999358,
          0.3062777983499314,
          0.4088611055301263,
          0.1036097612233763,
          0.4402703777588936,
          0.1985830048263296,
          0.6170627705450668,
          0.6169694139423879,
          0.4013644568494198,
          0.0748940152508229,
          0.2313231145259496,
          0.1485875833592972,
          0.1377081132657051,
          0.3864825522863138,
          0.3892168528274307,
          0.3213973537944233,
          0.2227853254815127,
          0.3066999616309944,
          -0.0029226719929566,
          0.0981766113974452,
          0.3769445250512962,
          0.2085020274851771,
          0.1032115350824791,
          0.2286753003204485,
          0.484252760797854,
          0.3357520435813682,
          0.1623428396110464,
          0.3930739507603189,
          0.225379664767375,
          0.3709935614104589,
          0.4188864042961327,
          0.4471375401059294,
          0.2874685258351417,
          0.3667775144989224,
          0.3046042339551454,
          0.2301701917833475,
          0.5508445088616041,
          0.187313468554583,
          0.3684022505689504,
          0.1660514749420752,
          0.3932525164399373,
          0.2024245280216328,
          0.8286771579288831,
          0.253870201738274,
          0.35387999590745,
          0.0205359846182494,
          0.1261445232915983,
          0.2738251763236987,
          0.6253629719669953,
          0.2714232219785959,
          0.5083643747415758,
          0.1804147072101314,
          0.3242807290887796,
          0.2182271611918027,
          0.1193766217102198,
          0.0644512184411197,
          0.1821524865120383,
          0.4785580461530467,
          0.6690500223522604,
          0.3630016218698701,
          0.2800612703658266,
          0.3997820333213253,
          0.295998455546985,
          0.3520842137671536,
          0.36595000583482,
          0.5892023555109435,
          0.2733493301325242,
          0.5330769645323381,
          0.337589244221342,
          0.3470105608332899,
          0.326985799864222,
          0.3043355180913109,
          0.2931985060155844,
          0.5256996703251077,
          0.2649645547294471,
          0.3077058033086627,
          0.168479723667137,
          0.3448476224274785,
          0.3132991914988124,
          0.3974507078070106,
          0.1589408722811629,
          0.3016328590539406,
          0.2116500999203239,
          0.121595529413284,
          0.3157926313008731,
          0.0979570168496629,
          0.2655070829697276,
          0.5031185749050477,
          0.2740586603869032,
          0.0649594599505736,
          0.4760863467531966,
          0.4233969110859645,
          0.4428734411080201,
          0.0954383348877135,
          0.4242793935597825,
          0.3211725780518227,
          0.3438209080512878,
          0.2963784780669145,
          0.1298508681132513,
          0.2363358648231112,
          0.3391013842580359,
          0.2239150931581401,
          0.4751851140942618,
          0.377665872439342,
          0.1793013438450529,
          0.2666608501887881,
          0.3362223282272967,
          -0.014487575611785,
          0.2954161314347994,
          0.4127741582205075,
          0.2155289165203101,
          0.4537156889182563,
          0.4459572788918241,
          0.2147064221669709,
          0.3967204969429209,
          0.2545439866054566,
          0.2388740699380657,
          0.351248670534961,
          0.0307822833874194,
          0.5310515498281028,
          0.5807330624893542,
          0.1450169257906999,
          0.2689681484156184,
          0.4511788324812331,
          0.4258163263197674,
          0.2997208509340074,
          0.466247828689357,
          0.4371402475774685,
          0.3601482563762799,
          0.5121691095260638,
          0.1115652409208991,
          0.380114982342026,
          0.3786386844659049,
          0.2481315412521719,
          0.4194146596006647,
          0.2190514553849546,
          0.4013714347637267,
          0.5505211804428246,
          0.3066808871590196,
          0.1536412500254333,
          0.2617575356574793,
          0.1299569747734008,
          0.311636150983376,
          0.4583004365410664,
          0.6145165107030818,
          0.2368140507782621,
          0.3438080439918907,
          0.1760495257833936,
          0.234469174512691,
          0.4144625188027202,
          0.4146823107295924,
          0.2802497961312882,
          0.2400059440959976,
          0.1161686754133746,
          0.0460015225284011,
          0.139215922518776,
          -0.0578300484895008,
          0.5653548804087017,
          0.3054625955720327,
          0.1857441994925235,
          0.280637668348944,
          0.3128641846749985,
          0.2606516921309246,
          0.3388208246044202,
          0.2762656111904364,
          0.5134300184186333,
          0.078991394973385,
          0.0780049915444611,
          0.2489121924262692,
          0.2619761610598334,
          0.4383488159810864,
          0.1773992071892715,
          0.2076173743963406,
          0.2899890774610438,
          0.229154071031465,
          0.432147524247724,
          0.4813032302300043,
          0.2451326510831726,
          0.3073705176464236,
          0.3134685868153806,
          0.5177019191355344,
          0.3545768619052055,
          0.4121291350073641,
          0.1419495493129876,
          0.4089689982795212,
          0.2338022633142939,
          0.3365009528572853,
          0.2555212515967243,
          0.2534222189425224,
          0.1242099614543454,
          0.3109081691998181,
          0.1514677766789396,
          0.2604558621976517,
          0.4324748214010407,
          0.3259220978462929,
          0.6601297489198769,
          0.2110063053363737,
          0.2739038192795102,
          0.4004590409472355,
          0.2425742789388362,
          0.5187818155621513,
          0.2695993577078183,
          0.2689185468806984,
          0.6159696630457121,
          0.4046451860997829,
          0.3524777574683883,
          0.4527903811276499,
          0.2424676814753053,
          0.4352453057777753,
          0.2265458882104847,
          0.335921567415179,
          0.1772924745359746,
          0.2197081165291932,
          -0.0650381531836574,
          0.650306495581986,
          0.5654334647624221,
          0.219157433099487,
          0.2355145931084007,
          0.4044493917185786,
          0.595141639892328,
          0.2123256697912269,
          0.3629574427187148,
          0.1982000496718246,
          0.5393689824364747,
          0.5592188230767953,
          0.1262961567837379,
          0.2787292721788268,
          0.0133845535202199,
          0.5001034212209938,
          0.4875945549366139,
          0.3306802997299241,
          0.0388362624813015,
          0.3223113314655896,
          0.109646243280943,
          0.3093830410382083,
          0.4799761468582696,
          0.0606343438600993,
          0.1538808950343129,
          0.2060640783420501,
          0.355423324669627,
          0.3560198202398804,
          0.121566980635974,
          0.0291651418698747,
          0.0619074472126529,
          -0.0439318473108523,
          0.3268303160729401,
          0.437183858154309,
          0.5168930676392028,
          0.2426132197918749,
          0.3303838299445998,
          0.3042104643912826,
          0.1852128683988754,
          0.5284080445141822,
          0.4104177461426145,
          0.2943229265179027,
          0.1245807393877707,
          0.3587481238899526,
          0.3998727048820099,
          0.4762119606952539,
          -0.038251573268692,
          0.124392658881936,
          0.410925930484863,
          0.5572041424653615,
          0.4765088901208707,
          0.3393675257752054,
          0.1059363400320893,
          0.3384243964524659,
          0.1780588089668495,
          0.3863451751842899,
          0.1421080233923757,
          0.2160530220831989,
          0.4154084099328977,
          0.166011602670729,
          0.2148049316983383,
          0.4774662870647361,
          -0.0754322837926084,
          0.301905128475935,
          0.168880826397794,
          0.1993157332764778,
          0.4081979953433087,
          0.3927450325887353,
          0.5915700891913085,
          0.5306207606737938,
          0.410036003730427,
          0.3241014210038329,
          0.0658043058191003,
          0.3749563601461922,
          0.458837825339157,
          0.2259954779992221,
          0.3494903277190815,
          0.2197684555073195,
          0.3468626295697461,
          0.3919727295498345,
          0.2399762279976246,
          0.0739674046947594,
          0.3881272756211776,
          0.3686665699509426,
          0.2052898086371473,
          0.585530616680938,
          0.2803834904113252,
          0.4070933769105654,
          0.3202468681245318,
          0.4106164364112093,
          0.4897464164663954,
          0.0999847411520274,
          0.502970225329816,
          0.1402435773615092,
          0.6076730980350116,
          0.5944921399478164,
          0.2343217138348421,
          0.5452896509016074,
          0.4808863943592207,
          0.2819873424373982,
          0.2602429223153319,
          0.3273056549367799,
          0.20892733278191,
          0.2608668606089871,
          0.2710429842998667,
          0.530622789843139,
          0.2897682045759505,
          0.2774224926475981,
          0.2436990503533917,
          0.3976464056027284,
          0.0969767760974548,
          0.0815509644237538,
          0.4229816751304162,
          0.2506514006841932,
          -0.053930074360616,
          0.1116067197435642,
          0.2059263580960469,
          0.3821070763355636,
          0.5594196027727554,
          0.2765488882444458,
          0.1982742421353878,
          0.2750226697259416,
          0.2571805556100005,
          0.4976813646580966,
          0.2118295958589772,
          0.2891581553896706,
          0.0811058964521519,
          0.3604250444393558,
          0.4356249616234121,
          0.4538180581553345,
          0.3808442763860643,
          0.059967629089098,
          0.1617012289484759,
          0.1866471139253083,
          0.0907592933952284,
          0.3313385692732313,
          0.1024827132501766,
          0.3255183384257349,
          0.3050205518158469,
          0.3463180938928508,
          0.2892141017009201,
          0.0688076231457361,
          0.5128567249278796,
          0.2872719695228965,
          0.3275656081489788,
          0.4035853838837148,
          0.3533285033840296,
          0.4520668454154599,
          0.3838478025486578,
          0.3775428774015978,
          0.1629465650494096,
          0.3711005606103555,
          0.2211201019645472,
          0.5152000476529138,
          0.3552179499969083,
          0.2799378349968597,
          0.3169833743874293,
          0.0334963605981404,
          0.3060023000809034,
          0.3111642074030771,
          0.2839864485256947,
          -0.0438448259642408,
          0.1184614904061187,
          0.2091721937681915,
          0.3517922052286008,
          0.5046463588629297,
          0.2972392324724041,
          0.4285322117610346,
          0.4000781805471338,
          0.4099191078255941,
          0.0472429325608595,
          0.222786844913202,
          0.3166498746921738,
          0.1980904350287205,
          0.4991540603404269,
          0.3851025219828184,
          0.5756078646780852,
          0.2491025195444296,
          0.3926749622080078,
          0.2099462213430446,
          0.2248458462228951,
          0.2200036838180131,
          0.1586934303514248,
          0.2014383081213709,
          0.3084900487292589,
          0.3519634960849068,
          0.4542206699524355,
          0.1597507862292906,
          0.1569425891511798,
          0.107567140920683,
          0.4347637635399989,
          0.1559296824087646,
          0.2236086661942804,
          0.2636269907768939,
          0.4139438912362775,
          0.4854078166684666,
          0.1271676216437575,
          0.4242541843084432,
          0.0207722449875586,
          0.3825556603365897
         ]
        },
        {
         "boxmean": "sd",
         "name": "10",
         "type": "box",
         "y": [
          0.7291417656619366,
          -0.0713559939589475,
          0.1767498163208836,
          -0.0382185057504778,
          0.1371401685003904,
          0.0967534233347949,
          0.2288727185253504,
          0.1084659966406953,
          0.0854386136380042,
          0.0365425221423892,
          0.1167821399174979,
          -0.089867278172974,
          0.3583340297214051,
          0.2526295694828276,
          0.1121211387012205,
          -0.0310671899332155,
          0.260188203488019,
          0.2700699500948879,
          0.0493232592266563,
          0.0774287087939915,
          0.4003636564443911,
          0.1456697731889399,
          0.2047742441770576,
          0.1784891460598534,
          0.3183438355298269,
          0.0564969314192009,
          0.4206154449512662,
          0.1237886052170882,
          0.3350544016569408,
          0.2579533863570967,
          0.1003404764757677,
          0.0370834174520662,
          0.5530549418247118,
          0.2296371422167756,
          0.564919437273084,
          0.20664697963539,
          0.2613835344778126,
          0.0863478212845436,
          0.3186481130628204,
          -0.0344811024220676,
          0.0818194985603317,
          0.3724153379764486,
          0.2336271570310124,
          0.0741040023505002,
          0.1816921966904817,
          0.0546721079355607,
          0.1733474198151592,
          -0.0142132137889734,
          0.1401688687093598,
          0.3547331296183649,
          0.3324099102741611,
          0.0993968921920712,
          0.1347565731754776,
          0.1780336020513719,
          0.3614595839932619,
          0.2153297762542484,
          0.1831545665363253,
          0.2896924132796507,
          0.3014599710580868,
          0.4153052165669652,
          -0.0552281365011074,
          0.2130704860893814,
          0.6232256567113766,
          -0.0198313862362594,
          0.3462499855092559,
          0.2361082560050816,
          0.2129880108483852,
          0.0260925424125795,
          0.3752921174644436,
          0.2025643780513925,
          0.2709462320267242,
          -0.1123699732513107,
          0.0397501961034356,
          0.3987639539852664,
          0.2082430900939152,
          0.0305176550360981,
          -0.0071091915081985,
          0.0906258669136264,
          0.1758301692417327,
          0.2148022364269523,
          0.5746318631984298,
          -0.0019109674651875,
          0.1883551779717903,
          0.418892936161347,
          -0.0499840007182025,
          0.3119090848824445,
          0.2030185593366088,
          0.2502848971931496,
          0.4381122594361269,
          0.3849378969915848,
          0.2361810257970579,
          0.395694603488341,
          0.1285640538349083,
          0.2788360538631022,
          0.112981817246878,
          0.2627692102273604,
          -0.0216305185141837,
          -0.2359059703015466,
          0.0927769142746718,
          -0.1627037833744157,
          0.1824639289159596,
          0.1314106851042641,
          -0.0071083028010016,
          0.4178962458369258,
          0.5437810580134972,
          0.1593553064056953,
          0.4200151145094111,
          0.5393931475525919,
          0.3133979367245473,
          -0.0451335403854177,
          0.1504308034447071,
          0.5644719248370823,
          0.2862464022516213,
          0.3722352094151659,
          0.0924720570702297,
          0.2844110100250134,
          0.379380087504003,
          0.1140819850108389,
          0.4292711766226108,
          0.1550258882163628,
          0.3380302781510803,
          0.1968823481048732,
          0.1886720021071082,
          0.1487817804903779,
          0.2896173344489207,
          -0.0544109075851607,
          0.1411422090395234,
          0.2141446685673742,
          0.3035483717983582,
          0.5676613894855137,
          0.5348300873977949,
          0.2878502292555064,
          0.0447960710941264,
          0.0799371945979049,
          0.3418988077270132,
          0.118029820170867,
          0.1119332177577779,
          0.1422294373977831,
          0.1707675793159304,
          0.4188367005801832,
          0.5070980940522755,
          0.1494873961563749,
          0.2282528060464513,
          0.3217498924749625,
          0.3099168040756406,
          0.3572265637578245,
          -0.0590409022561834,
          0.4030038837034451,
          -0.0737434467938941,
          -0.08425782598936,
          0.3861710104463968,
          0.0921299909432669,
          0.1632074918384495,
          -0.051945932142644,
          0.1915356242500235,
          0.1204908852033936,
          0.2724887341934274,
          0.4797978276394115,
          0.2676016203909457,
          0.1168300617263606,
          -0.0366653179928657,
          0.2071638358770756,
          0.1855748994832194,
          0.1314534895408044,
          0.3385744324019436,
          0.2322382498950965,
          0.151605643937664,
          0.2438707982320686,
          0.3053792063222001,
          0.3771362255899561,
          0.0963525629866479,
          0.1484526423359047,
          0.0125496715418829,
          0.1426593019279612,
          0.3081483015161889,
          0.3902752950003844,
          0.1193551272334163,
          0.3761360358137526,
          0.2291129122493778,
          0.0632382475045631,
          0.2441085000382383,
          0.2806992171833967,
          0.3788971501425882,
          -0.0331163346431589,
          0.3033531173242311,
          0.1066499670431109,
          0.5377243089364618,
          0.4387645355429742,
          0.2051442546732428,
          0.30706447753827,
          0.0118663885200034,
          0.3112518808124528,
          0.412590489480626,
          0.1970925833138874,
          -0.1764500634398356,
          0.203125483057452,
          0.1692227450109524,
          0.0862469938928595,
          0.2608439481268591,
          0.0769831295555322,
          0.1745149858909748,
          0.1758504698053126,
          0.0182444037560524,
          0.2915435881777446,
          0.4024949635731643,
          0.3425368021886487,
          0.4331905084342081,
          0.1829126650410705,
          0.2947742722590156,
          0.288805398557595,
          0.0690723131847875,
          0.3899572721581357,
          0.5261432794376524,
          0.4689133517152248,
          0.3518447796211119,
          0.13420173232591,
          0.5129247261894551,
          -0.102835664547236,
          0.1234266170061282,
          0.5758386088972692,
          0.090723701232897,
          0.2733553125325837,
          0.2302740555749517,
          0.1535472636148876,
          0.1930697653680573,
          0.0321228751563632,
          0.2295928583838756,
          0.2260388928236041,
          -0.0396898434742828,
          0.2726665973693883,
          0.1411784903420615,
          0.1840210946314535,
          0.1098747213744872,
          0.1659903709483935,
          -0.0119425622060406,
          0.4693644019821256,
          -0.0044621764512485,
          0.2523704824359396,
          0.045848148103264,
          0.097027512484694,
          0.1195643952751532,
          0.2155137182431737,
          0.2192741549577132,
          0.3472470795092369,
          0.3626519371175734,
          0.2154174629077883,
          0.2563124914654976,
          -0.0633131270809204,
          0.3654389788420552,
          0.043855000665794,
          0.2015965343676553,
          0.3252016374123916,
          0.1915000418140473,
          0.2357457647769003,
          0.183299665999062,
          0.1143402946557919,
          0.0241878059876474,
          0.0426531059355858,
          0.1633966758695593,
          0.0746297696167453,
          0.3002386502617037,
          0.2787449406001865,
          0.1524359138002575,
          0.3107530254299274,
          -0.0828090762692371,
          0.3311261328461993,
          -0.0691095025114656,
          -0.0936689074914076,
          0.1212382499366382,
          0.4081315877272279,
          0.517868416006723,
          0.4203921156851896,
          -0.1673774899860331,
          0.2273973573488418,
          0.0084120982181947,
          0.2153628702072761,
          0.2381685547985253,
          0.3328401385662132,
          0.36241905277419,
          0.2024674172593785,
          -0.0182402043308723,
          0.2368893514806369,
          0.2133495712177714,
          0.2702517444295666,
          0.014530005404423,
          0.0624861841785461,
          0.2971922152073116,
          0.0521248615109274,
          0.0205477961155597,
          0.4031617856298635,
          0.1865679552318268,
          -0.0272122973510096,
          -0.0466444867985296,
          -0.0547225108493577,
          -0.0524582179879513,
          0.2249976323518619,
          0.0579525293290396,
          -0.0541865130611383,
          0.2108662546595813,
          0.1549856326643418,
          0.4658754154367118,
          0.2190640639582228,
          0.5555555460878985,
          0.0147647843884788,
          0.252095430275465,
          0.1433646984879954,
          0.4871016264321494,
          0.2337325778640878,
          0.5234194427318944,
          -0.0209420407916698,
          0.2810008009262941,
          0.619224581175025,
          0.0095158740929639,
          0.0331542757059861,
          0.0751053794250435,
          0.4076449351113332,
          0.170771098308494,
          0.0768878515082412,
          0.4009491250111247,
          0.2362984452373956,
          0.1116031601750255,
          0.2814101655800837,
          0.1808025470474285,
          0.349925740681704,
          0.2948438809157059,
          -0.1641948813300051,
          0.3109157734488411,
          0.0144365039817377,
          0.2724847122667342,
          0.2427323253734492,
          0.1132120874538391,
          0.2340870949500799,
          -0.0201749311623421,
          0.0753402366465438,
          0.2745781290740731,
          0.1719126900158532,
          0.1595275375786976,
          0.109856072993798,
          0.2556882876551519,
          0.3328470844435743,
          0.2174399018746028,
          0.3214491293801517,
          0.2354817215462319,
          0.0340039128805582,
          0.1860696406877742,
          0.137668106528944,
          0.162226223655134,
          0.0792902192082265,
          0.5026069673027445,
          0.2726587574579694,
          0.3418356733534996,
          0.2230849875199251,
          -0.171646887524347,
          0.1415462916507809,
          0.1372161127002946,
          0.3472685488441595,
          0.3641540415873932,
          0.2628760794483618,
          0.0548675576165426,
          0.1984911813298103,
          0.1288921311514516,
          0.1887831762670902,
          0.144204367401166,
          0.3024089714951584,
          0.1138401192404206,
          0.2284629162911448,
          0.1205080394828177,
          0.1828260438118227,
          -0.0029146108127081,
          0.4657120602371427,
          0.110562811456171,
          0.2863356183785264,
          0.109773713020716,
          0.1306596730494536,
          0.2963315324725936,
          -0.0805913209017999,
          0.3319421778338712,
          0.2040585294016578,
          0.0943977173807456,
          0.0935371074614762,
          0.2510592006240443,
          0.315938578999925,
          0.1633060246048538,
          0.0552011595860436,
          0.0093887787413183,
          0.1584257258605174,
          0.2929309427483813,
          0.162992617583978,
          0.1950113982374202,
          0.1384139929653905,
          0.3355882319321367,
          -0.0662962716651297,
          0.1997680067975117,
          0.1992972880028309,
          0.1613876403774716,
          0.5182418023515563,
          0.3257631561709875,
          0.3251473953129526,
          0.3190483216332671,
          0.3596394761144821,
          0.06109151163744,
          -0.1365622608884766,
          0.2170861012409136,
          0.5468961222408719,
          0.1020106708092406,
          0.3897063816279401,
          -0.0843638498381401,
          0.3550288500240054,
          0.3154274266760989,
          -0.0401756449211977,
          -0.0910037374394601,
          0.7171352396231228,
          -0.0260973998737217,
          0.0178739387433387,
          0.2681739009470924,
          0.1656341763076,
          -0.0640145375396501,
          0.0789430957027243,
          0.2629475043333764,
          0.0039042710943749,
          0.0632923778623054,
          0.08467589268888,
          0.1428887907393207,
          0.2894053735434424,
          -0.0212149068606691,
          0.1995715362774236,
          0.2600728975070486,
          0.1545373478451875,
          0.1777754802402573,
          -0.3346014309788904,
          0.1042520331909638,
          0.2259924787745429,
          0.1223407201144587,
          0.3828261276394079,
          -0.0222974891225262,
          -0.0094842473220099,
          0.1083932157375483,
          0.1762027702351903,
          -0.0323345767459504,
          0.045396008946698,
          0.1874093331133128,
          0.3271793434813265,
          0.057580490595484,
          0.1216036268344565,
          0.0807202185837973,
          -0.1111314667198778,
          0.2661188602571314,
          0.4259064333532997,
          -0.0469737888915836,
          0.1768870657934264,
          0.0678224714529685,
          0.3821455587084005,
          0.2053904707911762,
          0.4282183661488184,
          0.0296175288248621,
          0.1077663246959068,
          0.2378472614938877,
          0.3011552580845526,
          -0.0010395452910968,
          0.3408441351586082,
          0.1212617134887911,
          0.3099429524325704,
          0.0437288747555546,
          0.0980397450646922,
          0.3014116262536096,
          0.4455634022124162,
          -0.0797837588120286,
          0.0971158832970452,
          0.4085432146037972,
          0.3029561746072021,
          0.2586230567138413,
          0.4632825983174115,
          0.2759401561691698,
          -0.0876561234997569,
          0.3654798974557657,
          -0.0505626379776445,
          0.1139397315104553,
          0.0085336414682111,
          0.2275349268814513,
          0.3540209542367277,
          0.3433071854138536,
          0.1377442032894939,
          0.1002048704092918,
          0.1208862107279562,
          0.373584063316362,
          0.3225571195637519,
          0.555477568408552,
          0.2416393120827674,
          -0.006614934774834,
          0.3446376374138092,
          0.4411073938113061,
          0.0846297862228257,
          0.1138876385989048,
          0.1203293463858953,
          0.0462773778040866,
          0.1963258973889825,
          0.3476812829432563,
          0.0611498306304222,
          0.1925558725773986,
          0.1695980626215219
         ]
        }
       ],
       "layout": {
        "template": {
         "data": {
          "bar": [
           {
            "error_x": {
             "color": "#2a3f5f"
            },
            "error_y": {
             "color": "#2a3f5f"
            },
            "marker": {
             "line": {
              "color": "#E5ECF6",
              "width": 0.5
             },
             "pattern": {
              "fillmode": "overlay",
              "size": 10,
              "solidity": 0.2
             }
            },
            "type": "bar"
           }
          ],
          "barpolar": [
           {
            "marker": {
             "line": {
              "color": "#E5ECF6",
              "width": 0.5
             },
             "pattern": {
              "fillmode": "overlay",
              "size": 10,
              "solidity": 0.2
             }
            },
            "type": "barpolar"
           }
          ],
          "carpet": [
           {
            "aaxis": {
             "endlinecolor": "#2a3f5f",
             "gridcolor": "white",
             "linecolor": "white",
             "minorgridcolor": "white",
             "startlinecolor": "#2a3f5f"
            },
            "baxis": {
             "endlinecolor": "#2a3f5f",
             "gridcolor": "white",
             "linecolor": "white",
             "minorgridcolor": "white",
             "startlinecolor": "#2a3f5f"
            },
            "type": "carpet"
           }
          ],
          "choropleth": [
           {
            "colorbar": {
             "outlinewidth": 0,
             "ticks": ""
            },
            "type": "choropleth"
           }
          ],
          "contour": [
           {
            "colorbar": {
             "outlinewidth": 0,
             "ticks": ""
            },
            "colorscale": [
             [
              0,
              "#0d0887"
             ],
             [
              0.1111111111111111,
              "#46039f"
             ],
             [
              0.2222222222222222,
              "#7201a8"
             ],
             [
              0.3333333333333333,
              "#9c179e"
             ],
             [
              0.4444444444444444,
              "#bd3786"
             ],
             [
              0.5555555555555556,
              "#d8576b"
             ],
             [
              0.6666666666666666,
              "#ed7953"
             ],
             [
              0.7777777777777778,
              "#fb9f3a"
             ],
             [
              0.8888888888888888,
              "#fdca26"
             ],
             [
              1,
              "#f0f921"
             ]
            ],
            "type": "contour"
           }
          ],
          "contourcarpet": [
           {
            "colorbar": {
             "outlinewidth": 0,
             "ticks": ""
            },
            "type": "contourcarpet"
           }
          ],
          "heatmap": [
           {
            "colorbar": {
             "outlinewidth": 0,
             "ticks": ""
            },
            "colorscale": [
             [
              0,
              "#0d0887"
             ],
             [
              0.1111111111111111,
              "#46039f"
             ],
             [
              0.2222222222222222,
              "#7201a8"
             ],
             [
              0.3333333333333333,
              "#9c179e"
             ],
             [
              0.4444444444444444,
              "#bd3786"
             ],
             [
              0.5555555555555556,
              "#d8576b"
             ],
             [
              0.6666666666666666,
              "#ed7953"
             ],
             [
              0.7777777777777778,
              "#fb9f3a"
             ],
             [
              0.8888888888888888,
              "#fdca26"
             ],
             [
              1,
              "#f0f921"
             ]
            ],
            "type": "heatmap"
           }
          ],
          "heatmapgl": [
           {
            "colorbar": {
             "outlinewidth": 0,
             "ticks": ""
            },
            "colorscale": [
             [
              0,
              "#0d0887"
             ],
             [
              0.1111111111111111,
              "#46039f"
             ],
             [
              0.2222222222222222,
              "#7201a8"
             ],
             [
              0.3333333333333333,
              "#9c179e"
             ],
             [
              0.4444444444444444,
              "#bd3786"
             ],
             [
              0.5555555555555556,
              "#d8576b"
             ],
             [
              0.6666666666666666,
              "#ed7953"
             ],
             [
              0.7777777777777778,
              "#fb9f3a"
             ],
             [
              0.8888888888888888,
              "#fdca26"
             ],
             [
              1,
              "#f0f921"
             ]
            ],
            "type": "heatmapgl"
           }
          ],
          "histogram": [
           {
            "marker": {
             "pattern": {
              "fillmode": "overlay",
              "size": 10,
              "solidity": 0.2
             }
            },
            "type": "histogram"
           }
          ],
          "histogram2d": [
           {
            "colorbar": {
             "outlinewidth": 0,
             "ticks": ""
            },
            "colorscale": [
             [
              0,
              "#0d0887"
             ],
             [
              0.1111111111111111,
              "#46039f"
             ],
             [
              0.2222222222222222,
              "#7201a8"
             ],
             [
              0.3333333333333333,
              "#9c179e"
             ],
             [
              0.4444444444444444,
              "#bd3786"
             ],
             [
              0.5555555555555556,
              "#d8576b"
             ],
             [
              0.6666666666666666,
              "#ed7953"
             ],
             [
              0.7777777777777778,
              "#fb9f3a"
             ],
             [
              0.8888888888888888,
              "#fdca26"
             ],
             [
              1,
              "#f0f921"
             ]
            ],
            "type": "histogram2d"
           }
          ],
          "histogram2dcontour": [
           {
            "colorbar": {
             "outlinewidth": 0,
             "ticks": ""
            },
            "colorscale": [
             [
              0,
              "#0d0887"
             ],
             [
              0.1111111111111111,
              "#46039f"
             ],
             [
              0.2222222222222222,
              "#7201a8"
             ],
             [
              0.3333333333333333,
              "#9c179e"
             ],
             [
              0.4444444444444444,
              "#bd3786"
             ],
             [
              0.5555555555555556,
              "#d8576b"
             ],
             [
              0.6666666666666666,
              "#ed7953"
             ],
             [
              0.7777777777777778,
              "#fb9f3a"
             ],
             [
              0.8888888888888888,
              "#fdca26"
             ],
             [
              1,
              "#f0f921"
             ]
            ],
            "type": "histogram2dcontour"
           }
          ],
          "mesh3d": [
           {
            "colorbar": {
             "outlinewidth": 0,
             "ticks": ""
            },
            "type": "mesh3d"
           }
          ],
          "parcoords": [
           {
            "line": {
             "colorbar": {
              "outlinewidth": 0,
              "ticks": ""
             }
            },
            "type": "parcoords"
           }
          ],
          "pie": [
           {
            "automargin": true,
            "type": "pie"
           }
          ],
          "scatter": [
           {
            "fillpattern": {
             "fillmode": "overlay",
             "size": 10,
             "solidity": 0.2
            },
            "type": "scatter"
           }
          ],
          "scatter3d": [
           {
            "line": {
             "colorbar": {
              "outlinewidth": 0,
              "ticks": ""
             }
            },
            "marker": {
             "colorbar": {
              "outlinewidth": 0,
              "ticks": ""
             }
            },
            "type": "scatter3d"
           }
          ],
          "scattercarpet": [
           {
            "marker": {
             "colorbar": {
              "outlinewidth": 0,
              "ticks": ""
             }
            },
            "type": "scattercarpet"
           }
          ],
          "scattergeo": [
           {
            "marker": {
             "colorbar": {
              "outlinewidth": 0,
              "ticks": ""
             }
            },
            "type": "scattergeo"
           }
          ],
          "scattergl": [
           {
            "marker": {
             "colorbar": {
              "outlinewidth": 0,
              "ticks": ""
             }
            },
            "type": "scattergl"
           }
          ],
          "scattermapbox": [
           {
            "marker": {
             "colorbar": {
              "outlinewidth": 0,
              "ticks": ""
             }
            },
            "type": "scattermapbox"
           }
          ],
          "scatterpolar": [
           {
            "marker": {
             "colorbar": {
              "outlinewidth": 0,
              "ticks": ""
             }
            },
            "type": "scatterpolar"
           }
          ],
          "scatterpolargl": [
           {
            "marker": {
             "colorbar": {
              "outlinewidth": 0,
              "ticks": ""
             }
            },
            "type": "scatterpolargl"
           }
          ],
          "scatterternary": [
           {
            "marker": {
             "colorbar": {
              "outlinewidth": 0,
              "ticks": ""
             }
            },
            "type": "scatterternary"
           }
          ],
          "surface": [
           {
            "colorbar": {
             "outlinewidth": 0,
             "ticks": ""
            },
            "colorscale": [
             [
              0,
              "#0d0887"
             ],
             [
              0.1111111111111111,
              "#46039f"
             ],
             [
              0.2222222222222222,
              "#7201a8"
             ],
             [
              0.3333333333333333,
              "#9c179e"
             ],
             [
              0.4444444444444444,
              "#bd3786"
             ],
             [
              0.5555555555555556,
              "#d8576b"
             ],
             [
              0.6666666666666666,
              "#ed7953"
             ],
             [
              0.7777777777777778,
              "#fb9f3a"
             ],
             [
              0.8888888888888888,
              "#fdca26"
             ],
             [
              1,
              "#f0f921"
             ]
            ],
            "type": "surface"
           }
          ],
          "table": [
           {
            "cells": {
             "fill": {
              "color": "#EBF0F8"
             },
             "line": {
              "color": "white"
             }
            },
            "header": {
             "fill": {
              "color": "#C8D4E3"
             },
             "line": {
              "color": "white"
             }
            },
            "type": "table"
           }
          ]
         },
         "layout": {
          "annotationdefaults": {
           "arrowcolor": "#2a3f5f",
           "arrowhead": 0,
           "arrowwidth": 1
          },
          "autotypenumbers": "strict",
          "coloraxis": {
           "colorbar": {
            "outlinewidth": 0,
            "ticks": ""
           }
          },
          "colorscale": {
           "diverging": [
            [
             0,
             "#8e0152"
            ],
            [
             0.1,
             "#c51b7d"
            ],
            [
             0.2,
             "#de77ae"
            ],
            [
             0.3,
             "#f1b6da"
            ],
            [
             0.4,
             "#fde0ef"
            ],
            [
             0.5,
             "#f7f7f7"
            ],
            [
             0.6,
             "#e6f5d0"
            ],
            [
             0.7,
             "#b8e186"
            ],
            [
             0.8,
             "#7fbc41"
            ],
            [
             0.9,
             "#4d9221"
            ],
            [
             1,
             "#276419"
            ]
           ],
           "sequential": [
            [
             0,
             "#0d0887"
            ],
            [
             0.1111111111111111,
             "#46039f"
            ],
            [
             0.2222222222222222,
             "#7201a8"
            ],
            [
             0.3333333333333333,
             "#9c179e"
            ],
            [
             0.4444444444444444,
             "#bd3786"
            ],
            [
             0.5555555555555556,
             "#d8576b"
            ],
            [
             0.6666666666666666,
             "#ed7953"
            ],
            [
             0.7777777777777778,
             "#fb9f3a"
            ],
            [
             0.8888888888888888,
             "#fdca26"
            ],
            [
             1,
             "#f0f921"
            ]
           ],
           "sequentialminus": [
            [
             0,
             "#0d0887"
            ],
            [
             0.1111111111111111,
             "#46039f"
            ],
            [
             0.2222222222222222,
             "#7201a8"
            ],
            [
             0.3333333333333333,
             "#9c179e"
            ],
            [
             0.4444444444444444,
             "#bd3786"
            ],
            [
             0.5555555555555556,
             "#d8576b"
            ],
            [
             0.6666666666666666,
             "#ed7953"
            ],
            [
             0.7777777777777778,
             "#fb9f3a"
            ],
            [
             0.8888888888888888,
             "#fdca26"
            ],
            [
             1,
             "#f0f921"
            ]
           ]
          },
          "colorway": [
           "#636efa",
           "#EF553B",
           "#00cc96",
           "#ab63fa",
           "#FFA15A",
           "#19d3f3",
           "#FF6692",
           "#B6E880",
           "#FF97FF",
           "#FECB52"
          ],
          "font": {
           "color": "#2a3f5f"
          },
          "geo": {
           "bgcolor": "white",
           "lakecolor": "white",
           "landcolor": "#E5ECF6",
           "showlakes": true,
           "showland": true,
           "subunitcolor": "white"
          },
          "hoverlabel": {
           "align": "left"
          },
          "hovermode": "closest",
          "mapbox": {
           "style": "light"
          },
          "paper_bgcolor": "white",
          "plot_bgcolor": "#E5ECF6",
          "polar": {
           "angularaxis": {
            "gridcolor": "white",
            "linecolor": "white",
            "ticks": ""
           },
           "bgcolor": "#E5ECF6",
           "radialaxis": {
            "gridcolor": "white",
            "linecolor": "white",
            "ticks": ""
           }
          },
          "scene": {
           "xaxis": {
            "backgroundcolor": "#E5ECF6",
            "gridcolor": "white",
            "gridwidth": 2,
            "linecolor": "white",
            "showbackground": true,
            "ticks": "",
            "zerolinecolor": "white"
           },
           "yaxis": {
            "backgroundcolor": "#E5ECF6",
            "gridcolor": "white",
            "gridwidth": 2,
            "linecolor": "white",
            "showbackground": true,
            "ticks": "",
            "zerolinecolor": "white"
           },
           "zaxis": {
            "backgroundcolor": "#E5ECF6",
            "gridcolor": "white",
            "gridwidth": 2,
            "linecolor": "white",
            "showbackground": true,
            "ticks": "",
            "zerolinecolor": "white"
           }
          },
          "shapedefaults": {
           "line": {
            "color": "#2a3f5f"
           }
          },
          "ternary": {
           "aaxis": {
            "gridcolor": "white",
            "linecolor": "white",
            "ticks": ""
           },
           "baxis": {
            "gridcolor": "white",
            "linecolor": "white",
            "ticks": ""
           },
           "bgcolor": "#E5ECF6",
           "caxis": {
            "gridcolor": "white",
            "linecolor": "white",
            "ticks": ""
           }
          },
          "title": {
           "x": 0.05
          },
          "xaxis": {
           "automargin": true,
           "gridcolor": "white",
           "linecolor": "white",
           "ticks": "",
           "title": {
            "standoff": 15
           },
           "zerolinecolor": "white",
           "zerolinewidth": 2
          },
          "yaxis": {
           "automargin": true,
           "gridcolor": "white",
           "linecolor": "white",
           "ticks": "",
           "title": {
            "standoff": 15
           },
           "zerolinecolor": "white",
           "zerolinewidth": 2
          }
         }
        },
        "title": {
         "text": "Strategy is:\tEst-All"
        },
        "xaxis": {
         "title": {
          "text": "N(assets)"
         }
        },
        "yaxis": {
         "title": {
          "text": "Sharpe ratio"
         }
        }
       }
      }
     },
     "metadata": {},
     "output_type": "display_data"
    },
    {
     "data": {
      "application/vnd.plotly.v1+json": {
       "config": {
        "plotlyServerURL": "https://plot.ly"
       },
       "data": [
        {
         "boxmean": "sd",
         "name": "3",
         "type": "box",
         "y": [
          0.079492437880083,
          0.2956053133013684,
          0.1877563709012323,
          0.3870904443868864,
          0.3886374573775682,
          0.0369599064386588,
          0.2787303286167638,
          0.1737391268642459,
          0.4074573540800889,
          0.1864543173095492,
          0.2327732469256091,
          0.4152222159744603,
          -0.0986344864676267,
          0.2990819047529871,
          0.1590633695572069,
          0.0742009097287198,
          0.3658259022648157,
          0.2050455647150255,
          0.1230856211060406,
          0.4764646632778844,
          0.1077923470383643,
          0.2546323293172732,
          0.0016351168492876,
          0.4394195102673484,
          0.4826072141697169,
          0.4354207228582345,
          0.3083319813493968,
          0.2407390719420437,
          0.1481371012773336,
          0.2744459111719111,
          0.3908361314068174,
          0.4176515456419957,
          0.0999863177710286,
          0.4223124835412686,
          0.2320472544504917,
          0.4601790152721714,
          0.1785340974286935,
          0.3631539161373653,
          0.0016280867194255,
          0.299302713100849,
          0.1217960161406585,
          0.2076367745504758,
          0.526238992159388,
          0.0280334924501701,
          -0.0277231699374433,
          0.44073051473309,
          0.2360861483256818,
          0.3571659679458095,
          0.1569546965339225,
          0.4225663824636732,
          0.2272087700136179,
          0.2529828242125035,
          0.3180778573354442,
          0.2786749637693172,
          0.2263687107001342,
          0.2520072067232182,
          0.3054161642299995,
          0.1918605669907246,
          0.3464202771866819,
          0.3100431165566248,
          0.3559591600333508,
          0.1221755811931277,
          0.3969324906096111,
          0.1376557392689488,
          0.0179729260074528,
          0.5933916646933841,
          0.3448896329098911,
          0.2070086569538203,
          0.2738899756908049,
          0.3141134236876254,
          0.1130724271637918,
          0.1826714383321095,
          0.3564491718316751,
          0.3506596875921871,
          0.3264314682420156,
          0.0097269231680463,
          0.3014281902407936,
          0.3777661493349315,
          0.1960993327661976,
          -0.0607979447779869,
          0.2495823512012505,
          0.538958568347866,
          0.5859755638454106,
          0.375124380060238,
          0.1608031801644286,
          0.5435523793886298,
          0.373315893458976,
          0.3193612079191357,
          0.427906868807699,
          0.4386029332562105,
          0.1843994065090647,
          0.5804915617551751,
          0.0294510576501974,
          0.2621498384191845,
          0.517371580619042,
          0.5037790605000892,
          0.1889921519380192,
          0.3085030486111803,
          0.0010446167409136,
          0.4396036113384859,
          0.2851400680181613,
          0.2885106446599295,
          0.5479273860702142,
          0.226948188069938,
          0.2641933927318768,
          0.2935481301210385,
          0.4961158161570795,
          0.1288860556838785,
          0.3587007684639929,
          0.5027841583881596,
          0.3624851900366818,
          0.4085438015942713,
          0.4703525636883909,
          0.0392855147784726,
          0.4413064027376231,
          0.1058976588146763,
          0.3175878747333728,
          0.0702670573708865,
          0.4742275195027973,
          0.0217057393607195,
          0.2070705575872815,
          0.020398868808999,
          0.5880267571040432,
          0.4464216648107315,
          0.1547815149523449,
          0.0201051150859193,
          0.3935409124500543,
          0.0064966180032219,
          0.3438895403191452,
          0.3367817783206045,
          0.4998391364285277,
          0.0467635855001299,
          0.3833464351459689,
          0.4660260042947619,
          0.3263102162487022,
          0.1731484867260412,
          0.2330369068377775,
          0.4667287977712254,
          0.3785685095174033,
          0.0600500729604583,
          0.3817362716037916,
          0.1279074975999778,
          0.4417186028754058,
          0.3029111227169193,
          0.0936593918845588,
          0.4165174036546006,
          0.5293056757631717,
          0.3597451026686183,
          0.4168244332692936,
          0.2687966806957844,
          0.074725847686317,
          0.5166771869348129,
          0.5830304037824858,
          0.23042854437488,
          0.1290040274289829,
          0.0202579254424273,
          0.3621129118342386,
          0.1402890967471469,
          0.5954275511695551,
          0.0802484685261114,
          0.14073488548868,
          0.347968042967514,
          0.6090490184449209,
          0.091508349774761,
          0.0525787846527003,
          0.0312737902760363,
          0.0757983597378416,
          0.1959161084156508,
          0.2914078469906543,
          0.5324602363376605,
          0.1934503916719596,
          0.5720325560123093,
          0.5474931198729732,
          0.1977079787532814,
          0.0838998542368541,
          0.1531823560182189,
          0.0725030635517305,
          0.4760562795550227,
          0.3369639084333311,
          0.1987409343930246,
          0.103240222709085,
          0.3220659761060499,
          0.3867740637952183,
          0.2509884271148876,
          0.0521429099422159,
          0.2230471647877295,
          0.2696393497284714,
          0.5348914126955514,
          0.1246205668780175,
          0.1366422045869125,
          0.2370788721891968,
          0.2276707791190479,
          0.179807813424392,
          0.301686831310558,
          0.3754433605366578,
          0.0457708117035273,
          0.2017321804112434,
          0.230728083173166,
          0.3793710289946492,
          0.4169626630993504,
          0.1259766228917031,
          0.3662717462919395,
          0.435004221703009,
          0.0675888508990856,
          0.3432465820101583,
          0.45926772275218,
          0.4273315815431907,
          0.3081648150547876,
          0.2442649124137591,
          0.2263662747348868,
          0.4464576765999415,
          0.2599733400983048,
          0.153951634124742,
          0.4546799840450456,
          0.3884483969746691,
          0.3380331366280362,
          0.2518432599948809,
          0.5707385385886493,
          0.1997205110593987,
          0.349529494205801,
          0.1573630910496873,
          0.2894606827451572,
          0.3644164998843342,
          0.3612040846020947,
          0.2933580394195694,
          0.2851128116560006,
          -0.0911654603151784,
          0.2583999395850617,
          0.2632985913532954,
          0.0979910822288083,
          0.3142091949339743,
          0.3589334055667545,
          0.2935645044118223,
          0.1098750299387316,
          0.0148562504496209,
          0.305756336245332,
          0.2458781477734922,
          0.0811858545115094,
          0.1231490727059286,
          0.5706488369133695,
          0.2149813648560825,
          0.3353864819072019,
          0.119236089511918,
          0.3229425144794585,
          0.9736125902636056,
          0.1615205971879424,
          0.1276155174536746,
          0.2395019038641765,
          -0.0177504735480024,
          0.4075736575475041,
          0.2103732494078192,
          0.192281377778954,
          0.4479856116647516,
          0.1444411692933,
          0.3755678077253257,
          0.5685463272425219,
          0.099632924821804,
          0.1490248189171287,
          0.195486404648633,
          0.3518581279962516,
          0.2803556170954133,
          0.09197596019174,
          0.3139541503724645,
          0.3049836156897537,
          0.4516788860194253,
          0.577378869514048,
          0.1885217267485802,
          0.689337148716484,
          0.1345134886122615,
          0.3668120606763486,
          0.1635031709431627,
          -0.0372564984323147,
          -0.077448387216301,
          -0.0076107052786264,
          0.087406193177231,
          0.1749211594992002,
          0.2426083408752144,
          0.3150045611255577,
          0.0694924731334859,
          0.4039724151127303,
          0.3747763188246977,
          0.398502417932794,
          0.2403777182108158,
          0.337509305919951,
          0.2768978290494792,
          0.4416399846687859,
          0.179419143340449,
          0.6245010877594099,
          0.3740091503800979,
          0.282664799365149,
          -0.0531093352600025,
          0.1882869001644623,
          0.4739684860316104,
          0.1929612922212326,
          0.2852528769684914,
          0.1316507539089044,
          0.5142196825590227,
          0.2131978301623391,
          0.1499068043995021,
          0.3591058077145322,
          -0.0993695488587756,
          0.3112150104786164,
          0.3350838182792042,
          0.3868218016686769,
          0.4175840556911259,
          0.8400540439567522,
          -0.1255305916154584,
          0.2254490534758209,
          0.3480437570683673,
          0.1720102055447426,
          0.1937483555765074,
          0.2602312775784465,
          0.2408146809485187,
          0.1952705527318251,
          0.3967888844841977,
          0.3516098557663938,
          0.3877460637928134,
          0.1729526744818304,
          0.4798638876324604,
          0.6051576329906361,
          0.3041812255313783,
          0.2547805835382322,
          0.6133923044530778,
          0.0064926747324461,
          0.2794249500394311,
          0.2891092791438134,
          0.0008384410956137,
          0.2628261224423038,
          0.5179212895339221,
          0.1752573812350122,
          0.0975437083344645,
          0.1918529979389227,
          0.1118382760783775,
          0.2230929624708278,
          0.6527831204135851,
          0.4309758025530849,
          0.2324068729565029,
          0.0281615875405346,
          0.4709388756588361,
          0.5936793827762026,
          0.53416365806034,
          0.0635989185754463,
          0.226145644198864,
          0.2490120448547308,
          0.2802291366421572,
          0.1072836238579119,
          0.0556527164088371,
          0.2777984811173484,
          0.1900850656489386,
          0.1945231371423866,
          0.3234832971493105,
          0.4984706561156901,
          0.2500952855971877,
          0.1791567473220475,
          0.251097502103899,
          -0.0083249528474752,
          0.1378224210361839,
          0.0591302288419813,
          0.2446072226752584,
          -0.0092809672499043,
          0.4395270768700562,
          0.4600523514110622,
          -0.0465250542688511,
          0.0796893224468079,
          0.5267448515915534,
          0.1500478851111258,
          0.18334487682247,
          0.5039304743909059,
          0.3812638104383635,
          0.2648267143393156,
          0.129442769822218,
          0.272861632509407,
          0.4973168702424002,
          0.2085725689647146,
          0.2106370290107607,
          0.4552206470684537,
          -0.0470355296971108,
          0.1646282624842829,
          0.1633828804156714,
          0.2350950418048167,
          0.0780223176154374,
          0.1382477503031362,
          0.2402503666543019,
          0.4286261963377346,
          0.195438004375734,
          0.4527097158024823,
          0.2939831923759239,
          0.2977922741577165,
          0.2199371846450357,
          0.3345149857192241,
          0.1744099266704472,
          0.3571189344780568,
          0.334096769850856,
          0.137524015512899,
          0.3257913138290761,
          0.202138189683248,
          0.7409097796389621,
          0.6114300802250596,
          0.2792572983022763,
          -0.0276580399914095,
          0.2804899556953028,
          0.3287364195838336,
          0.2039361264278064,
          0.2659828488702916,
          0.4175736777390559,
          0.4564607643794889,
          0.2164634601311766,
          0.2470801911852306,
          0.3036477137033098,
          0.2028510837698925,
          0.2847993839149649,
          0.2806689357872134,
          0.3991098815887841,
          0.2651482533110894,
          0.206140790857679,
          0.4676791440882398,
          0.143146520338347,
          0.2843239247873462,
          0.0682466291460361,
          0.0996569979037728,
          0.3958923887272753,
          0.0052401945043016,
          0.1029636985457707,
          0.4416024281211765,
          0.4718726548381998,
          0.4392667399440564,
          0.2053639936390153,
          0.4099587478883388,
          0.3940501626535053,
          0.2458824095914273,
          0.644731031101543,
          0.3297598403485625,
          0.5062248401549453,
          0.2027750863851818,
          0.1341939303631654,
          0.4910687628013065,
          0.0736617529204704,
          0.416370328821708,
          0.2232078631550104,
          0.1509095371934324,
          0.3316474323439804,
          0.3912140327899329,
          0.1182881213742911,
          0.0697557766967967,
          0.2202335270025151,
          0.2525174996607711,
          0.2732726084238221,
          0.2851455420056734,
          0.2914761159471303,
          0.3643250449544822,
          0.3094124940697953,
          0.2902662807283675,
          0.3524451733021911,
          0.4188244538955478,
          0.3045762281106329,
          0.3527553453143985,
          0.2559228983797958,
          0.365467889025355,
          0.4076771565765557,
          0.0086784636194141,
          0.4438905416262224,
          0.4040202744220591,
          0.5059744419742365,
          0.3170730130622333,
          0.3130446737371801,
          0.3371290929584394,
          0.4171579445516469,
          0.0857822484078527,
          0.1288632026441072,
          0.2676283644511994,
          0.2472971823054497,
          0.4748762674533487,
          0.2673749653801835,
          0.4084686457270925,
          0.3811485079842559,
          0.3539770752270761,
          0.2555960040234578,
          0.23137626684467,
          0.0509706040516345,
          0.4794735690086328,
          0.5956569592415977,
          0.2675339697927087,
          0.2406427786278917,
          0.5142833367214611,
          0.1943756355345117,
          0.2655236948597406,
          0.4139948602619455,
          0.4430070606152696,
          0.3140660189922644,
          0.3900009402624006,
          0.8128771231573261,
          0.3909025443543495,
          0.4314322931332565,
          0.4451587256441507,
          0.2828674310775423,
          0.537569799175349,
          0.1383370137499175,
          0.3299057101547493,
          0.1392454381560182,
          0.2644448088364852
         ]
        },
        {
         "boxmean": "sd",
         "name": "5",
         "type": "box",
         "y": [
          0.1176954067979087,
          0.179389688935082,
          0.0991787813662204,
          0.0214358400286757,
          0.1873563342245219,
          0.1399343216464922,
          0.0251266200848399,
          0.1640134010837393,
          0.1343189716305159,
          0.3347595645907778,
          -0.0100796697394666,
          0.004127741081553,
          0.081784525446601,
          0.1650554467461455,
          0.2978523499751159,
          0.2329929857679181,
          0.0575253739171111,
          0.4080662028383335,
          0.0036800602580884,
          0.3361200585197587,
          0.2177463384073956,
          -0.0955059121058184,
          -0.0902211202643886,
          0.2306095116919647,
          0.1586717193719808,
          0.0119669026296595,
          0.153887722412358,
          0.0291964361844933,
          0.28188557188852,
          0.1643128046550049,
          0.363436091034046,
          0.1721340584709107,
          -0.0215331412812149,
          0.1791824622637524,
          0.3323249653089639,
          0.0132786890275189,
          -0.0636443295456558,
          -0.0465070234563304,
          0.1133706416524419,
          0.0649808788388734,
          0.1469895182429657,
          0.1150434970991451,
          0.2638246118513297,
          0.0073377684577142,
          0.2218010361314032,
          0.0164487734440123,
          0.3019044642277912,
          0.3471663575497351,
          0.0145361480506332,
          0.2800091076533164,
          0.0061016117652016,
          0.1750062516059469,
          0.3302672986002951,
          -0.0178182034132983,
          0.0388561380452947,
          0.0862701951975696,
          -0.0610355756799025,
          0.1917326805540225,
          0.0575684309887495,
          0.0936851229303438,
          0.2614796445898268,
          0.1909604675838051,
          0.3308425307413901,
          0.1288577768146416,
          0.3235364023521505,
          0.1596325666569185,
          0.183136297515008,
          0.2342355717864425,
          0.2879876150226463,
          0.1891180219023489,
          0.394203451655394,
          -0.1033888394220056,
          0.2529523791536534,
          0.2694065398640596,
          0.2839960190876371,
          0.2104370830386556,
          -0.098430477132546,
          0.0510788202312856,
          -0.0260981173667782,
          0.4940459588291917,
          0.1592995012806425,
          0.1547422921909816,
          0.2304364877379006,
          0.0142190370499333,
          0.2305359029737098,
          0.0660195261906636,
          0.0500946081741917,
          0.2609144671219658,
          -0.009012193805184,
          0.0049516583596611,
          0.1641044664793653,
          -0.0255950707363313,
          0.0473294316222097,
          0.3679893851481395,
          0.1459539134543779,
          0.116828565404923,
          0.1374268988912404,
          -0.00407059024144,
          0.0235061498735873,
          0.1965449354641144,
          0.3691551977530851,
          0.2096550600611267,
          -0.0369027867588265,
          0.0287656528622719,
          0.3134097524513181,
          -0.0049777320717307,
          -0.1334155785613968,
          0.3004566057869706,
          -0.0198307963704635,
          -0.0823812677980309,
          0.0877916581530903,
          0.2084183804893794,
          0.1817984613901024,
          0.0506224540148337,
          -0.0326910973879813,
          0.0567092376752545,
          0.278497699723234,
          0.2397620197662053,
          0.1311019030645674,
          0.1714518333333987,
          0.1706124036842599,
          0.3757553429759352,
          0.1494899121193519,
          0.3824895751683776,
          0.0818103654918506,
          0.1821839049119086,
          0.1610992888227686,
          0.2065122552616345,
          -0.2642749280449332,
          0.5614525227032474,
          0.3604412234533876,
          0.1468555340731558,
          0.0156052179313155,
          0.2130713073767203,
          0.032556832711987,
          -0.074111318478127,
          0.2863364415234077,
          0.1202090040004312,
          -0.060783025710971,
          0.2448016801043736,
          -0.2124137546444343,
          0.2588134926740443,
          -0.1286522177845099,
          0.0658646556872601,
          0.3432071500038816,
          0.5954813023507551,
          0.1940144174915801,
          0.2319484601905936,
          -0.0063589149501897,
          0.2807092124724422,
          0.4783498313561714,
          0.0057653122417897,
          0.3508913132845452,
          0.1775730597780216,
          0.2609771766710783,
          0.3055441527687108,
          -0.0443260757847889,
          0.3138434127409497,
          0.0569012944869738,
          0.1734313259336085,
          0.218218264310037,
          0.2711767290366177,
          -0.027900874909556,
          0.228509912925403,
          0.1216665084450307,
          0.2347336259274844,
          0.3682317187797998,
          -0.137909200443118,
          0.2085435422816629,
          0.330563439735673,
          0.0929273922647392,
          0.2454144341158717,
          0.1425350855520029,
          -0.2017350380500696,
          0.2650707017795878,
          0.1507639585125469,
          -0.049139169103297,
          0.5669706079907605,
          0.2761474901329415,
          0.0828632782389366,
          -0.115706796018228,
          0.2566175623442553,
          -0.0622529421922489,
          0.0995906095048344,
          0.0466214292681863,
          -0.0237933470440166,
          0.1256040491814685,
          0.0693964778357457,
          0.2440178403764939,
          0.3788834906641898,
          0.0721294929226558,
          0.3074497048124239,
          0.147783711436704,
          0.2084482761423575,
          0.0421866872442516,
          0.0166877031686841,
          0.3129423075579557,
          0.0667437925694305,
          -0.0789997626252173,
          0.4177418254370375,
          0.1748418426198748,
          0.3167310670209902,
          0.0212864623147861,
          0.1553390127814082,
          0.0314245139230836,
          0.1322059407281291,
          0.4530916325872237,
          0.3466241234108826,
          0.160191342470062,
          0.2593890415525753,
          -0.0738105728258232,
          0.4093401191482845,
          0.2402544773245897,
          0.2792793464791143,
          0.3247613249641692,
          0.1396523578604359,
          0.0722944968897025,
          -0.0458655063793924,
          0.1337190822023097,
          0.2450201882380586,
          0.057648026436169,
          0.1322388117739952,
          0.129808781148728,
          0.2506083321830604,
          0.1236089142229263,
          0.1684277216599025,
          0.1662926548902879,
          0.0497931790890581,
          0.0408321199306149,
          0.0550280657726721,
          -0.0235768644966694,
          0.4113265061250805,
          0.0655647847949622,
          0.1287908186507781,
          -0.0830255615360213,
          0.2719170666121334,
          -0.071662192395355,
          0.0440805840403119,
          0.1083179119016864,
          0.2247444116168954,
          0.0796488911401503,
          0.178463973536908,
          0.13254825374338,
          0.0196334153632297,
          0.1539990134236607,
          0.0545093582316736,
          0.198692521378048,
          0.0788133863394341,
          0.1549516752535965,
          -0.1040617177193699,
          0.3941453734861057,
          0.2753151911772342,
          -0.0497273177994659,
          0.067494528962657,
          0.0933665280078999,
          0.0090583091971817,
          0.2072647033783529,
          0.0031781776417885,
          0.1974250560718017,
          0.1138004097105175,
          0.162724924682143,
          0.2921672368020953,
          0.1004299762823331,
          0.2015400695725756,
          0.1209780961125346,
          0.4125341680852234,
          -0.0816734895781813,
          0.4383675616166624,
          0.3230375333811121,
          0.1767588258072703,
          0.0170359730330673,
          0.3385863589759765,
          0.1362925809598659,
          -0.0809626112448541,
          0.0788447088578241,
          0.228340640806743,
          0.0726193280672972,
          -0.2395848676448206,
          0.1091614646571467,
          -0.1093756364536423,
          0.3914193497751131,
          -0.073951205489897,
          0.2075981580192616,
          0.307189076663599,
          0.1228025459426536,
          -0.0452186638110187,
          0.3923302603739316,
          0.2279401407121379,
          0.3012858624880043,
          0.2804838295151766,
          0.4620482799521335,
          0.1674996898785093,
          0.1164067567089338,
          0.3622256170082822,
          0.111924584004243,
          0.1545735698391477,
          0.2053592936453633,
          0.0931561045683056,
          0.036918885419418,
          0.1660646849388598,
          -0.1176367763435481,
          0.0106672799002643,
          0.4068157654991082,
          -0.0058691344348763,
          0.1737829818609386,
          0.3145516346923414,
          0.5850271459091229,
          0.4371278367274238,
          0.4030086417742262,
          -0.1784453501921949,
          0.1460739609624139,
          0.576287526652603,
          0.0098115976596595,
          0.0668582518332698,
          -0.0351453543697322,
          0.1111094469725213,
          0.3006799081340908,
          -0.0023945600043982,
          -0.0639246679307835,
          0.2126651004710175,
          -0.024587360513222,
          -0.0655208381028037,
          0.2580561223844576,
          0.1569460367505003,
          -0.0752764985014164,
          0.0857337670925709,
          -0.0326148121156228,
          -0.0183120963856825,
          0.0116205924144765,
          0.0483951764105178,
          -0.0434453036947224,
          0.1393389590555772,
          -0.1975099863151324,
          0.1066637509467794,
          0.3996570328826115,
          0.0254860882465372,
          0.2364939509583783,
          0.2559893484277696,
          -0.0007326613344835,
          0.1382079092464929,
          -0.0673387958348611,
          0.3242252296155912,
          0.2175331972545321,
          0.2889030900214572,
          0.1416179309161331,
          -0.0373591105371001,
          -0.0206397053761887,
          -0.0767032779130591,
          0.1676037648998005,
          0.3204754985179753,
          0.0221927092392359,
          0.1339445362510015,
          -0.224087639786372,
          0.131129518508265,
          -0.0639396675515459,
          0.0390137648315526,
          0.2060274681513898,
          0.3660573618765149,
          0.1115213496902852,
          0.0748789098045178,
          0.2164988855674015,
          0.2609825237514462,
          0.060398239875002,
          0.13582763674451,
          0.2209310922504062,
          0.1045634394504324,
          0.1774483116666079,
          0.326219919028023,
          0.1572656842499071,
          0.258414948895531,
          0.4805427708462562,
          0.2732803655281974,
          0.0014041555414116,
          0.3879977394361566,
          0.3437756548359366,
          -0.0203714730882877,
          0.1092808047067697,
          0.1711103957039519,
          0.0848399950036096,
          0.2856279243216481,
          0.0262140848832525,
          0.1068698960626511,
          0.28061100498178,
          0.0982816386855682,
          0.1072091065456427,
          0.4304813354353847,
          0.3447018602364251,
          0.3958614258876887,
          0.0419201174855323,
          0.3844732640014693,
          0.2257781970797096,
          -0.2156098292776931,
          -0.0434998084477208,
          0.1001723818567241,
          0.3828536155843353,
          0.0369978421222197,
          0.0585408470484724,
          0.3094449700655322,
          0.2830890193800589,
          0.4006319133510976,
          0.3314936869997606,
          -0.1081486563047318,
          -0.049460104099169,
          0.2974873929297135,
          0.1043197769941759,
          0.4730894697819302,
          0.2329113696608283,
          0.1117682456404923,
          0.1887998656714963,
          0.074019297228846,
          0.1512795991154177,
          -0.2050475007905093,
          0.3517612384660327,
          0.1912848043508726,
          -0.1737712919502887,
          0.0993757544586178,
          0.0241828055789077,
          0.0229468346008586,
          0.0388156073188153,
          0.2703519353171481,
          0.2756578305602935,
          0.2072656204256212,
          -0.0071927059674987,
          0.1301660723182928,
          0.2927122733757969,
          -0.1272181126923936,
          0.2097377820106182,
          -0.1915863530736614,
          0.1614950476443352,
          0.1568354144528882,
          -0.1488748170404021,
          0.0019675521572513,
          0.170069017551432,
          0.0714420970462,
          0.112485537056852,
          0.1940443028721736,
          -0.0715000582335523,
          0.0081004155162477,
          0.1582648653525926,
          0.0464455455378315,
          0.4947135781032563,
          0.0702870204785507,
          0.1198369735469849,
          0.0070166544953898,
          -0.0183417647356165,
          -0.0246052940756315,
          0.0426694852342304,
          0.1064489409679629,
          0.1364075180647871,
          0.241938823252907,
          0.1488282581529647,
          -0.0846363010540686,
          0.4151258947726036,
          0.4539136722968655,
          -0.126809478164572,
          -0.0453155516876064,
          0.1768343326648105,
          0.0736923222189141,
          0.3047529359454952,
          0.1912953829183895,
          0.1582971422311894,
          0.2440525157575852,
          0.1425570876077939,
          0.2769388871697632,
          0.1070403127429677,
          0.252909285892426,
          0.0998148886602195,
          0.1393502563289394,
          0.3794589267905119,
          0.3139999118178419,
          -0.0326036389789491,
          0.0371316444040784,
          0.0748786891809903,
          0.0235505123404758,
          0.0506339065039579,
          -0.0173668897718318,
          0.1458017902720393,
          0.1289137535372608,
          -0.1013781741657674,
          0.1674424437844314,
          -0.0362899510133701,
          0.2214566920576787,
          0.1504599170618899,
          0.1038534101962097,
          0.23527870761791,
          0.2326840457278416,
          0.1323560634931687,
          0.1992250770741942,
          0.1357388550489865,
          0.2090676727827769,
          0.2502275250596366,
          0.1246861595535421,
          0.1380536181063364,
          -0.0694726250900452,
          0.433929062713464,
          0.3856886026987658,
          0.2199794774417305,
          0.2218023844499926,
          -0.0046757398367419,
          0.098307100977178
         ]
        },
        {
         "boxmean": "sd",
         "name": "10",
         "type": "box",
         "y": [
          0.2588090533070946,
          -0.1025282931975751,
          -0.2462888809995295,
          0.0445295153828284,
          -0.2985923373380653,
          0.3687726817482637,
          0.1265305072700481,
          -0.2550658758348462,
          -0.2679893971847351,
          -0.0467316437650382,
          -0.1193633919444772,
          0.0864831170761584,
          0.1063638155660641,
          0.0739082300592063,
          -0.2050253098171844,
          -0.2637932656268271,
          0.0397853266593277,
          -0.218557621332763,
          0.0077508272533307,
          -0.0563815022405893,
          -0.0297063985927045,
          -0.1897711802883747,
          0.0971976624904812,
          -0.0957000555539947,
          0.0714261631986093,
          0.095904842221921,
          0.0041989016187027,
          0.085779450239272,
          -0.0472546987038741,
          0.0252270581137454,
          0.0848201513322476,
          -0.0258233182512779,
          -0.0225192539408228,
          0.0252924420586622,
          0.2018212366164406,
          -0.209055698010857,
          0.0525596590018866,
          0.0798993937397007,
          -0.096649952409557,
          -0.1249612218758692,
          -0.2126382942853187,
          0.0120363807396471,
          0.0858158094223912,
          0.2112365457499853,
          0.0968335640922654,
          -0.0196475725234934,
          0.0051496303811086,
          0.1230293369361227,
          0.032563185410997,
          -0.1391385094361856,
          -0.0254952392046957,
          0.1868958960271683,
          0.0096010476878947,
          0.1853538601958131,
          0.0301912134707197,
          -0.0302247191096417,
          -0.1411371515167948,
          -0.0024741508770012,
          0.1384597219791496,
          0.1071062730052163,
          0.0409158715013511,
          0.1888264588242808,
          0.2906163413688456,
          -0.1520484830352892,
          0.2282637388181821,
          -0.0262522268443534,
          -0.009079879104318,
          0.0903603931654482,
          -0.0636078379131676,
          0.1349237323513928,
          0.0228117930085005,
          -0.2676705837294132,
          0.0004577642947072,
          0.0560195514279059,
          0.0680634094498774,
          -0.1181783747966694,
          0.1855696980716631,
          -0.1014054208957966,
          -0.1268524942034993,
          0.2197261555125972,
          0.2219165025368247,
          -0.1575931380945541,
          0.2289305571064329,
          -0.0105633287108626,
          -0.0461008205777535,
          0.2244373105728578,
          -0.2116082158065252,
          0.1956359320610675,
          -0.1086619770119879,
          -0.2133070139280099,
          0.0415428329704234,
          -0.1882566355908539,
          -0.0607460587118061,
          0.0735215885566932,
          -0.0265526030251074,
          -0.0654713185967615,
          0.1149768677694164,
          -0.2616183027988333,
          -0.1445346004207934,
          -0.2767404017615384,
          0.079974443946853,
          0.0673123580180505,
          0.0679259063940414,
          -0.2366665934270218,
          -0.0659877895595428,
          0.0188052758380902,
          0.0500378360419418,
          0.3295379793202677,
          0.0699888525808945,
          -0.0297343802863405,
          0.1056350767356203,
          0.1147841729787056,
          -0.3095925318895918,
          -0.2948489049847154,
          -0.1403127265955145,
          -0.2849588544205916,
          -0.0291847590462369,
          0.0977722821794209,
          0.0872202596945676,
          -0.052685451636329,
          0.1560035785380256,
          0.0181641241927632,
          -0.0910628444387131,
          0.0039856446521883,
          -0.0828339499117624,
          -0.0986160307134072,
          0.0515709311859252,
          -0.2277124792920508,
          0.0930528741755672,
          0.4227405163745443,
          0.2367054233111769,
          0.0766899415915684,
          0.1598828560421531,
          -0.2404803217515639,
          0.0931434524149562,
          0.0961062127199032,
          -0.130836944792066,
          0.1718719512829182,
          -0.0468575280914245,
          0.0812343901757339,
          0.2942519015623997,
          0.0281647004627976,
          0.1812934297926496,
          -0.0035814658233744,
          0.1088145340294435,
          0.002283424743762,
          -0.0889494156070199,
          -0.0627506408614108,
          0.1825954154150174,
          -0.0593025020412915,
          0.168646059258623,
          -0.0343199038050587,
          0.1724236905981484,
          0.0003316072490931,
          0.0491951528291721,
          0.1845286126321324,
          -0.0206940085151526,
          0.0097590417468382,
          -0.2290600973666838,
          -0.0660512260193224,
          -0.0172528553736603,
          -0.1024388663771397,
          -0.1761181004714296,
          -0.1101774507783786,
          0.0989052971505948,
          -0.264297366413631,
          -0.0677391434615029,
          -0.0904760979819983,
          -0.1505580528319334,
          0.104950818462996,
          -0.0104856818306033,
          0.0691904844498951,
          0.076134378918298,
          -0.1407051152690362,
          -0.208560364667773,
          -0.0701903828343032,
          0.1296508713415054,
          -0.2287019348197405,
          0.0970573287619291,
          0.0790069817237763,
          0.01145291610384,
          0.0364390577624756,
          -0.2036963384857219,
          -0.023666917273087,
          0.184575992611289,
          0.0926836546291902,
          0.3998182579336379,
          -0.0422121232656315,
          -0.2779942075659932,
          0.0617178649808905,
          0.0700240939867933,
          0.3869536445833754,
          0.0019667976420359,
          -0.0097610219186936,
          -0.0601867765376902,
          -0.0926163658022991,
          0.1006803416304645,
          -0.2351218235718059,
          -0.0829888357317958,
          0.2884707524643645,
          -0.079585031000349,
          0.1590878045507877,
          0.0551779224398124,
          -0.0866294463206289,
          0.2187415668035522,
          0.0370747893793505,
          0.2558613107401948,
          0.0354347871296404,
          0.1551295217450677,
          0.1485356928131681,
          -0.1276288275263249,
          0.1047228343499463,
          -0.3377901181784229,
          0.3614751146919225,
          -0.0334815271867345,
          -0.1690506121816624,
          -0.0481161023071397,
          -0.2522076203412599,
          0.2337887056516595,
          0.2835525649941346,
          0.2003170250791157,
          0.2104198394334648,
          -0.2495252043693294,
          0.1010589598791218,
          0.1246334100885751,
          0.0377829284605183,
          -0.0918072987620914,
          0.0632230456483457,
          -0.17522872861456,
          -0.226916581643288,
          -0.0446657415755584,
          0.0814459156247269,
          0.0498263570548314,
          -0.1096868464508125,
          0.1623489511414826,
          0.0598774146625538,
          -0.0207297268082677,
          0.037068062238421,
          -0.0911092303681749,
          -0.2198604347842195,
          -0.0471796154891826,
          0.2377730818586415,
          0.1129139531236665,
          0.0978889769490053,
          0.1622389372412083,
          0.1818420056238389,
          -0.0142889464356813,
          -0.1187746900125249,
          0.1344301623533819,
          -0.0246632900968532,
          -0.2015724438366918,
          0.2374588161848258,
          0.0401555573872478,
          -0.124549246140199,
          0.0007090090770907,
          0.0887316430600913,
          0.0989568830122229,
          0.1453768308027582,
          0.0545685330464214,
          0.1850574343919649,
          0.0874292209936309,
          0.1421323297774885,
          -0.2076720253362966,
          0.3651705633056503,
          0.0968252784264175,
          0.1735122657453625,
          0.0011793199655999,
          -0.1828894828082864,
          0.1377064552054817,
          0.3378187959161708,
          -0.1043640520263814,
          0.0350307266908642,
          0.0156761047058614,
          0.059530229089209,
          -0.0560708023899387,
          0.0830459401336926,
          -0.2347549414343215,
          0.2420410937251035,
          0.0044931174863812,
          0.1690986890271902,
          0.0920921554539462,
          0.0185721914752437,
          0.0058343614152771,
          -0.2103865108060556,
          0.028228638491317,
          -0.1190629915156662,
          0.079302248551124,
          0.0189054962203425,
          0.1689326155254278,
          0.014288581157106,
          0.210093894559791,
          -0.0920365106212039,
          -0.0028296427111926,
          -0.270877023644864,
          -0.1271713786415661,
          0.1386226648313706,
          -0.1335015799663605,
          -0.1040542473966462,
          0.0511961485561843,
          0.0400319742092562,
          0.0817688878580351,
          0.0487598626500072,
          -0.1058780974279869,
          -0.2303458163130572,
          0.2213781759478862,
          0.127590077360456,
          -0.0570464143615333,
          0.0009447176936768,
          -0.2439218755313079,
          -0.2589238375016671,
          0.0211916267712085,
          -0.2038164798199112,
          -0.1106611419301815,
          -0.1418652105629631,
          -0.1770458866112685,
          0.2570965097337757,
          -0.263575948138512,
          0.0445207692519837,
          -0.2352409289747842,
          0.1362444436071787,
          0.1363426896791532,
          -0.2931634851911371,
          0.0102606544527163,
          0.110342442647564,
          0.1992416894457236,
          -0.1704297810220992,
          0.3020429067515388,
          -0.199225910780084,
          0.0641695719345945,
          -0.1032784714045135,
          0.3502897172787708,
          0.0354376332365019,
          -0.0712623901830317,
          -0.1676142294513596,
          -0.0738635480722148,
          0.15967968928653,
          0.1250030305957691,
          -0.0536163681336574,
          -0.0196246471587471,
          -0.0402248123860093,
          0.1052247303721515,
          0.0503285094421367,
          -0.0179251582741679,
          -0.0944565715672253,
          -0.2445158050314429,
          0.1518404571171929,
          -0.1090773648385017,
          -0.030058556215252,
          0.2394949779404658,
          0.0933467573494415,
          0.0177661016762278,
          -0.1562497334970363,
          -0.09351707265609,
          0.108130160421992,
          -0.010124681663388,
          0.1863558537427554,
          -0.1976313563157622,
          -0.3727815709050312,
          0.1096654648800213,
          -0.1298222556042612,
          0.1690165355750911,
          -0.20404143816786,
          -0.1845727523134681,
          -0.3169710737518771,
          0.1565422513099505,
          -0.1886117916239672,
          -0.0038648823948934,
          0.1789349702674541,
          0.004324869902126,
          -0.0339046679261869,
          0.0262008016785514,
          0.0963102977522867,
          -0.1701606284166247,
          0.2048328472184279,
          0.080953713142376,
          -0.0306055139998177,
          0.310619574648358,
          0.0507600816790975,
          0.1754426384261025,
          0.222156885624326,
          -0.1900739562627095,
          -0.0583323331535373,
          -0.0067925129012136,
          -0.0767018456563354,
          0.0469575286852972,
          0.0795853659337569,
          0.066031636180449,
          0.0746640084176735,
          -0.0611650204081075,
          -0.0091466688751298,
          -0.0936850204480548,
          0.0006262146684511,
          0.1304395155321319,
          -0.1371124201978583,
          0.2688905243469341,
          -0.2715652933866425,
          0.1797231319141455,
          -0.1264742914406426,
          0.0735358542439015,
          -0.1539437706059603,
          -0.0101722668385229,
          -0.2297537365976504,
          -0.0739815087169944,
          -0.2514473633361129,
          -0.0142311218970165,
          0.1131617590099062,
          0.0089224203666855,
          0.0193660617332224,
          0.1673811560610778,
          -0.2430327714026332,
          0.0682689692109851,
          -0.0418588928002228,
          -0.1960469519870311,
          -0.1021766012064023,
          0.1702626566588808,
          0.1956594375560431,
          -0.1004884650564057,
          -0.1170282428784924,
          0.1048714347127318,
          -0.0216586401221522,
          -0.0628176975396034,
          0.065108442419807,
          -0.1094327804267328,
          -0.0200349458862195,
          0.0046788452057714,
          0.024022710645978,
          -0.0966857665102653,
          0.1313998894860104,
          0.2056551954683479,
          -0.2220681696680178,
          0.0045058099840767,
          -0.0047182297163159,
          -0.010273037737484,
          0.1137421554979778,
          -0.000155319909733,
          0.033834733413761,
          -0.0589798263629873,
          -0.0017202599451156,
          -0.1649357407176382,
          -0.0043572909646355,
          0.0294893162800714,
          -0.0205501776417352,
          -0.1082846286665391,
          0.2176132081589826,
          0.345156284607208,
          -0.0212638290447142,
          -0.0146049962494482,
          -0.0524625938677759,
          0.1030619135652723,
          -0.0097205409494056,
          0.1199684575219909,
          -0.1424267462181023,
          -0.0763764700543915,
          0.1045773842832493,
          0.0744262907235656,
          -0.0547003007369324,
          0.0586350055655092,
          -0.0536159979183211,
          0.2238508530320225,
          -0.0030837406729141,
          0.0834463490037863,
          -0.0080881103562677,
          -0.0186161914453129,
          0.0639359008869944,
          -0.1459344987823278,
          0.1631815483161975,
          -0.0533467249133116,
          0.0694172604823388,
          -0.0731410279510597,
          0.0120962158281307,
          -0.0630179272617197,
          0.10657633218305,
          0.1299125042152731,
          -0.0418013409302794,
          0.3792796925667558,
          0.2306439966041892,
          -0.0711004033754141,
          -0.2442434052404534,
          0.1079658134996949,
          0.0720934658955906,
          0.1211111532231193,
          -0.2699733394926337,
          -0.0195557673015444,
          -0.1731401133944644,
          -0.1548762045354114,
          0.1188081644564239,
          0.1137548632487265,
          -0.0252195346357789,
          -0.0013056923065669,
          -0.0315076885134504,
          0.3262700173967816,
          -0.0685976349738772,
          -0.0187419346388372,
          -0.1624544514672511,
          0.015841486108224,
          0.1051599572217246,
          0.0288672503826877,
          -0.1466734854778652,
          -0.0204200786532534,
          0.0444275209522406
         ]
        }
       ],
       "layout": {
        "template": {
         "data": {
          "bar": [
           {
            "error_x": {
             "color": "#2a3f5f"
            },
            "error_y": {
             "color": "#2a3f5f"
            },
            "marker": {
             "line": {
              "color": "#E5ECF6",
              "width": 0.5
             },
             "pattern": {
              "fillmode": "overlay",
              "size": 10,
              "solidity": 0.2
             }
            },
            "type": "bar"
           }
          ],
          "barpolar": [
           {
            "marker": {
             "line": {
              "color": "#E5ECF6",
              "width": 0.5
             },
             "pattern": {
              "fillmode": "overlay",
              "size": 10,
              "solidity": 0.2
             }
            },
            "type": "barpolar"
           }
          ],
          "carpet": [
           {
            "aaxis": {
             "endlinecolor": "#2a3f5f",
             "gridcolor": "white",
             "linecolor": "white",
             "minorgridcolor": "white",
             "startlinecolor": "#2a3f5f"
            },
            "baxis": {
             "endlinecolor": "#2a3f5f",
             "gridcolor": "white",
             "linecolor": "white",
             "minorgridcolor": "white",
             "startlinecolor": "#2a3f5f"
            },
            "type": "carpet"
           }
          ],
          "choropleth": [
           {
            "colorbar": {
             "outlinewidth": 0,
             "ticks": ""
            },
            "type": "choropleth"
           }
          ],
          "contour": [
           {
            "colorbar": {
             "outlinewidth": 0,
             "ticks": ""
            },
            "colorscale": [
             [
              0,
              "#0d0887"
             ],
             [
              0.1111111111111111,
              "#46039f"
             ],
             [
              0.2222222222222222,
              "#7201a8"
             ],
             [
              0.3333333333333333,
              "#9c179e"
             ],
             [
              0.4444444444444444,
              "#bd3786"
             ],
             [
              0.5555555555555556,
              "#d8576b"
             ],
             [
              0.6666666666666666,
              "#ed7953"
             ],
             [
              0.7777777777777778,
              "#fb9f3a"
             ],
             [
              0.8888888888888888,
              "#fdca26"
             ],
             [
              1,
              "#f0f921"
             ]
            ],
            "type": "contour"
           }
          ],
          "contourcarpet": [
           {
            "colorbar": {
             "outlinewidth": 0,
             "ticks": ""
            },
            "type": "contourcarpet"
           }
          ],
          "heatmap": [
           {
            "colorbar": {
             "outlinewidth": 0,
             "ticks": ""
            },
            "colorscale": [
             [
              0,
              "#0d0887"
             ],
             [
              0.1111111111111111,
              "#46039f"
             ],
             [
              0.2222222222222222,
              "#7201a8"
             ],
             [
              0.3333333333333333,
              "#9c179e"
             ],
             [
              0.4444444444444444,
              "#bd3786"
             ],
             [
              0.5555555555555556,
              "#d8576b"
             ],
             [
              0.6666666666666666,
              "#ed7953"
             ],
             [
              0.7777777777777778,
              "#fb9f3a"
             ],
             [
              0.8888888888888888,
              "#fdca26"
             ],
             [
              1,
              "#f0f921"
             ]
            ],
            "type": "heatmap"
           }
          ],
          "heatmapgl": [
           {
            "colorbar": {
             "outlinewidth": 0,
             "ticks": ""
            },
            "colorscale": [
             [
              0,
              "#0d0887"
             ],
             [
              0.1111111111111111,
              "#46039f"
             ],
             [
              0.2222222222222222,
              "#7201a8"
             ],
             [
              0.3333333333333333,
              "#9c179e"
             ],
             [
              0.4444444444444444,
              "#bd3786"
             ],
             [
              0.5555555555555556,
              "#d8576b"
             ],
             [
              0.6666666666666666,
              "#ed7953"
             ],
             [
              0.7777777777777778,
              "#fb9f3a"
             ],
             [
              0.8888888888888888,
              "#fdca26"
             ],
             [
              1,
              "#f0f921"
             ]
            ],
            "type": "heatmapgl"
           }
          ],
          "histogram": [
           {
            "marker": {
             "pattern": {
              "fillmode": "overlay",
              "size": 10,
              "solidity": 0.2
             }
            },
            "type": "histogram"
           }
          ],
          "histogram2d": [
           {
            "colorbar": {
             "outlinewidth": 0,
             "ticks": ""
            },
            "colorscale": [
             [
              0,
              "#0d0887"
             ],
             [
              0.1111111111111111,
              "#46039f"
             ],
             [
              0.2222222222222222,
              "#7201a8"
             ],
             [
              0.3333333333333333,
              "#9c179e"
             ],
             [
              0.4444444444444444,
              "#bd3786"
             ],
             [
              0.5555555555555556,
              "#d8576b"
             ],
             [
              0.6666666666666666,
              "#ed7953"
             ],
             [
              0.7777777777777778,
              "#fb9f3a"
             ],
             [
              0.8888888888888888,
              "#fdca26"
             ],
             [
              1,
              "#f0f921"
             ]
            ],
            "type": "histogram2d"
           }
          ],
          "histogram2dcontour": [
           {
            "colorbar": {
             "outlinewidth": 0,
             "ticks": ""
            },
            "colorscale": [
             [
              0,
              "#0d0887"
             ],
             [
              0.1111111111111111,
              "#46039f"
             ],
             [
              0.2222222222222222,
              "#7201a8"
             ],
             [
              0.3333333333333333,
              "#9c179e"
             ],
             [
              0.4444444444444444,
              "#bd3786"
             ],
             [
              0.5555555555555556,
              "#d8576b"
             ],
             [
              0.6666666666666666,
              "#ed7953"
             ],
             [
              0.7777777777777778,
              "#fb9f3a"
             ],
             [
              0.8888888888888888,
              "#fdca26"
             ],
             [
              1,
              "#f0f921"
             ]
            ],
            "type": "histogram2dcontour"
           }
          ],
          "mesh3d": [
           {
            "colorbar": {
             "outlinewidth": 0,
             "ticks": ""
            },
            "type": "mesh3d"
           }
          ],
          "parcoords": [
           {
            "line": {
             "colorbar": {
              "outlinewidth": 0,
              "ticks": ""
             }
            },
            "type": "parcoords"
           }
          ],
          "pie": [
           {
            "automargin": true,
            "type": "pie"
           }
          ],
          "scatter": [
           {
            "fillpattern": {
             "fillmode": "overlay",
             "size": 10,
             "solidity": 0.2
            },
            "type": "scatter"
           }
          ],
          "scatter3d": [
           {
            "line": {
             "colorbar": {
              "outlinewidth": 0,
              "ticks": ""
             }
            },
            "marker": {
             "colorbar": {
              "outlinewidth": 0,
              "ticks": ""
             }
            },
            "type": "scatter3d"
           }
          ],
          "scattercarpet": [
           {
            "marker": {
             "colorbar": {
              "outlinewidth": 0,
              "ticks": ""
             }
            },
            "type": "scattercarpet"
           }
          ],
          "scattergeo": [
           {
            "marker": {
             "colorbar": {
              "outlinewidth": 0,
              "ticks": ""
             }
            },
            "type": "scattergeo"
           }
          ],
          "scattergl": [
           {
            "marker": {
             "colorbar": {
              "outlinewidth": 0,
              "ticks": ""
             }
            },
            "type": "scattergl"
           }
          ],
          "scattermapbox": [
           {
            "marker": {
             "colorbar": {
              "outlinewidth": 0,
              "ticks": ""
             }
            },
            "type": "scattermapbox"
           }
          ],
          "scatterpolar": [
           {
            "marker": {
             "colorbar": {
              "outlinewidth": 0,
              "ticks": ""
             }
            },
            "type": "scatterpolar"
           }
          ],
          "scatterpolargl": [
           {
            "marker": {
             "colorbar": {
              "outlinewidth": 0,
              "ticks": ""
             }
            },
            "type": "scatterpolargl"
           }
          ],
          "scatterternary": [
           {
            "marker": {
             "colorbar": {
              "outlinewidth": 0,
              "ticks": ""
             }
            },
            "type": "scatterternary"
           }
          ],
          "surface": [
           {
            "colorbar": {
             "outlinewidth": 0,
             "ticks": ""
            },
            "colorscale": [
             [
              0,
              "#0d0887"
             ],
             [
              0.1111111111111111,
              "#46039f"
             ],
             [
              0.2222222222222222,
              "#7201a8"
             ],
             [
              0.3333333333333333,
              "#9c179e"
             ],
             [
              0.4444444444444444,
              "#bd3786"
             ],
             [
              0.5555555555555556,
              "#d8576b"
             ],
             [
              0.6666666666666666,
              "#ed7953"
             ],
             [
              0.7777777777777778,
              "#fb9f3a"
             ],
             [
              0.8888888888888888,
              "#fdca26"
             ],
             [
              1,
              "#f0f921"
             ]
            ],
            "type": "surface"
           }
          ],
          "table": [
           {
            "cells": {
             "fill": {
              "color": "#EBF0F8"
             },
             "line": {
              "color": "white"
             }
            },
            "header": {
             "fill": {
              "color": "#C8D4E3"
             },
             "line": {
              "color": "white"
             }
            },
            "type": "table"
           }
          ]
         },
         "layout": {
          "annotationdefaults": {
           "arrowcolor": "#2a3f5f",
           "arrowhead": 0,
           "arrowwidth": 1
          },
          "autotypenumbers": "strict",
          "coloraxis": {
           "colorbar": {
            "outlinewidth": 0,
            "ticks": ""
           }
          },
          "colorscale": {
           "diverging": [
            [
             0,
             "#8e0152"
            ],
            [
             0.1,
             "#c51b7d"
            ],
            [
             0.2,
             "#de77ae"
            ],
            [
             0.3,
             "#f1b6da"
            ],
            [
             0.4,
             "#fde0ef"
            ],
            [
             0.5,
             "#f7f7f7"
            ],
            [
             0.6,
             "#e6f5d0"
            ],
            [
             0.7,
             "#b8e186"
            ],
            [
             0.8,
             "#7fbc41"
            ],
            [
             0.9,
             "#4d9221"
            ],
            [
             1,
             "#276419"
            ]
           ],
           "sequential": [
            [
             0,
             "#0d0887"
            ],
            [
             0.1111111111111111,
             "#46039f"
            ],
            [
             0.2222222222222222,
             "#7201a8"
            ],
            [
             0.3333333333333333,
             "#9c179e"
            ],
            [
             0.4444444444444444,
             "#bd3786"
            ],
            [
             0.5555555555555556,
             "#d8576b"
            ],
            [
             0.6666666666666666,
             "#ed7953"
            ],
            [
             0.7777777777777778,
             "#fb9f3a"
            ],
            [
             0.8888888888888888,
             "#fdca26"
            ],
            [
             1,
             "#f0f921"
            ]
           ],
           "sequentialminus": [
            [
             0,
             "#0d0887"
            ],
            [
             0.1111111111111111,
             "#46039f"
            ],
            [
             0.2222222222222222,
             "#7201a8"
            ],
            [
             0.3333333333333333,
             "#9c179e"
            ],
            [
             0.4444444444444444,
             "#bd3786"
            ],
            [
             0.5555555555555556,
             "#d8576b"
            ],
            [
             0.6666666666666666,
             "#ed7953"
            ],
            [
             0.7777777777777778,
             "#fb9f3a"
            ],
            [
             0.8888888888888888,
             "#fdca26"
            ],
            [
             1,
             "#f0f921"
            ]
           ]
          },
          "colorway": [
           "#636efa",
           "#EF553B",
           "#00cc96",
           "#ab63fa",
           "#FFA15A",
           "#19d3f3",
           "#FF6692",
           "#B6E880",
           "#FF97FF",
           "#FECB52"
          ],
          "font": {
           "color": "#2a3f5f"
          },
          "geo": {
           "bgcolor": "white",
           "lakecolor": "white",
           "landcolor": "#E5ECF6",
           "showlakes": true,
           "showland": true,
           "subunitcolor": "white"
          },
          "hoverlabel": {
           "align": "left"
          },
          "hovermode": "closest",
          "mapbox": {
           "style": "light"
          },
          "paper_bgcolor": "white",
          "plot_bgcolor": "#E5ECF6",
          "polar": {
           "angularaxis": {
            "gridcolor": "white",
            "linecolor": "white",
            "ticks": ""
           },
           "bgcolor": "#E5ECF6",
           "radialaxis": {
            "gridcolor": "white",
            "linecolor": "white",
            "ticks": ""
           }
          },
          "scene": {
           "xaxis": {
            "backgroundcolor": "#E5ECF6",
            "gridcolor": "white",
            "gridwidth": 2,
            "linecolor": "white",
            "showbackground": true,
            "ticks": "",
            "zerolinecolor": "white"
           },
           "yaxis": {
            "backgroundcolor": "#E5ECF6",
            "gridcolor": "white",
            "gridwidth": 2,
            "linecolor": "white",
            "showbackground": true,
            "ticks": "",
            "zerolinecolor": "white"
           },
           "zaxis": {
            "backgroundcolor": "#E5ECF6",
            "gridcolor": "white",
            "gridwidth": 2,
            "linecolor": "white",
            "showbackground": true,
            "ticks": "",
            "zerolinecolor": "white"
           }
          },
          "shapedefaults": {
           "line": {
            "color": "#2a3f5f"
           }
          },
          "ternary": {
           "aaxis": {
            "gridcolor": "white",
            "linecolor": "white",
            "ticks": ""
           },
           "baxis": {
            "gridcolor": "white",
            "linecolor": "white",
            "ticks": ""
           },
           "bgcolor": "#E5ECF6",
           "caxis": {
            "gridcolor": "white",
            "linecolor": "white",
            "ticks": ""
           }
          },
          "title": {
           "x": 0.05
          },
          "xaxis": {
           "automargin": true,
           "gridcolor": "white",
           "linecolor": "white",
           "ticks": "",
           "title": {
            "standoff": 15
           },
           "zerolinecolor": "white",
           "zerolinewidth": 2
          },
          "yaxis": {
           "automargin": true,
           "gridcolor": "white",
           "linecolor": "white",
           "ticks": "",
           "title": {
            "standoff": 15
           },
           "zerolinecolor": "white",
           "zerolinewidth": 2
          }
         }
        },
        "title": {
         "text": "Strategy is:\tEst-SD-Corr"
        },
        "xaxis": {
         "title": {
          "text": "N(assets)"
         }
        },
        "yaxis": {
         "title": {
          "text": "Sharpe ratio"
         }
        }
       }
      }
     },
     "metadata": {},
     "output_type": "display_data"
    },
    {
     "data": {
      "application/vnd.plotly.v1+json": {
       "config": {
        "plotlyServerURL": "https://plot.ly"
       },
       "data": [
        {
         "boxmean": "sd",
         "name": "3",
         "type": "box",
         "y": [
          0.1719107747014368,
          0.3472523171728374,
          0.2088920028159616,
          0.4886059552610508,
          0.4948162904653812,
          0.1736345174361573,
          0.3690758758067632,
          0.2520117724413866,
          0.4585255065115367,
          0.2776931522924664,
          0.2955689618924547,
          0.4912903318359644,
          0.04815028581302,
          0.5486276528302081,
          0.3370843548735442,
          0.1970638365333442,
          0.4112288455103234,
          0.252983016334438,
          0.203373362740536,
          0.6764312381657623,
          0.2080695353255906,
          0.3143343308182644,
          0.0708293373336949,
          0.5984266053535335,
          0.5490157278991133,
          0.5185207297130837,
          0.4037176082127027,
          0.321561600745107,
          0.2590229881909956,
          0.4285290018418854,
          0.4693144678373185,
          0.5104086091418513,
          0.1429589582688248,
          0.4843217768174842,
          0.2879103771889866,
          0.5000136001860933,
          0.2369992987746224,
          0.3806232888416765,
          0.0282534514712017,
          0.3463910388977756,
          0.2128350754232336,
          0.2751537453196101,
          0.5039361879055148,
          0.1242212442555822,
          0.1199153320892203,
          0.5188963570689484,
          0.2820042146079783,
          0.3392432512748267,
          0.3984096847346219,
          0.4907339767574376,
          0.4272109782111083,
          0.3394907040775751,
          0.3260109428726133,
          0.3743858181173582,
          0.2740683483824523,
          0.3487311367837022,
          0.3740428453425201,
          0.4188939812570852,
          0.4706069667571159,
          0.3948336480500266,
          0.4172141779554509,
          0.3775143314968949,
          0.4389894835307546,
          0.1078481608638777,
          0.200523251636144,
          0.7486804754121368,
          0.3703745068138046,
          0.366544403911425,
          0.3348923220215394,
          0.3280017570535357,
          0.1947128008911247,
          0.2748476035416803,
          0.4242522298951123,
          0.4426603519277272,
          0.364187659205276,
          0.0772957909843383,
          0.3865959044029551,
          0.4318584518731737,
          0.2882301461817089,
          0.169052689835222,
          0.3675910170560725,
          0.61319479434499,
          0.6957101161644841,
          0.4602694895280445,
          0.2328996171828291,
          0.6238124108047552,
          0.4159093658865423,
          0.3394968152977657,
          0.5448804416072575,
          0.5500933795655907,
          0.2949942373727129,
          0.6860541349602426,
          0.1475827240457481,
          0.2872142539760497,
          0.556374554153929,
          0.492039428576768,
          0.3471705579853361,
          0.4990101384570498,
          0.0764650448993013,
          0.600121888884803,
          0.3980276998089281,
          0.4776818361760231,
          0.6473856359209189,
          0.292538485925687,
          0.3782820079190249,
          0.3481139671448128,
          0.4849339128972925,
          0.2054421929458227,
          0.4205186854089959,
          0.6275396996632975,
          0.3743905345218703,
          0.4909768423769455,
          0.5994585610667568,
          0.0831334162006623,
          0.5347177730677156,
          0.1268085922000866,
          0.4780542375129476,
          0.1147782544357457,
          0.558269339352452,
          0.1640358779455021,
          0.2028677161142203,
          0.1590399312372649,
          0.7737666192176715,
          0.4987662775006048,
          0.2110812302718036,
          0.1340441132458476,
          0.509335505439407,
          0.0737567375664991,
          0.3911894829432695,
          0.5200089807925514,
          0.561065928302255,
          0.2042651275164088,
          0.4316532148504978,
          0.4585430947819256,
          0.3637395564138544,
          0.3108277482035698,
          0.2857226655536744,
          0.5126695142604821,
          0.4704312613298198,
          0.0746491785527947,
          0.4293109726552273,
          0.2220290390522169,
          0.512324858806804,
          0.3202574794129625,
          0.2266585934845012,
          0.5065301677576514,
          0.6210548549170948,
          0.4585397701350518,
          0.554126534788016,
          0.3541704234245478,
          0.2399348953602284,
          0.592339802669418,
          0.7106575250040164,
          0.1800516170688571,
          0.2188420918046826,
          0.1513756002285022,
          0.4459984759180004,
          0.2292804942498978,
          0.7115110220616021,
          0.229774148782322,
          0.2297545932127979,
          0.4186560216407737,
          0.7521089352842074,
          0.1792696792870525,
          0.0233989678724066,
          0.1577871565337226,
          0.1992823768991831,
          0.2872476295885012,
          0.3495228412134256,
          0.6038816813220523,
          0.4254426135904363,
          0.7460909632828807,
          0.6641274314410534,
          0.2827913397084591,
          0.1783668338770177,
          0.1719237741363884,
          0.2417525012539648,
          0.5259420974647084,
          0.3738806643333015,
          0.3558322465481037,
          0.1393863218247049,
          0.5443343478091898,
          0.4216788371862354,
          0.4012521182096762,
          0.1959858647337387,
          0.2373835211527886,
          0.3546717395941919,
          0.621530065524456,
          0.2064323317093679,
          0.1403135263805059,
          0.2395445238943454,
          0.4226916968635579,
          0.3189216911856667,
          0.3575350291752818,
          0.4614577333981568,
          0.1935107064736902,
          0.2727361072195265,
          0.3312281006067161,
          0.4871320096605641,
          0.5369784272845296,
          0.278317079634294,
          0.5559698400909988,
          0.5821820111760891,
          0.1325048748688851,
          0.427598449060691,
          0.541402048599798,
          0.5149851813677507,
          0.4182667613018944,
          0.3316779988025751,
          0.2573788284670266,
          0.484086596305592,
          0.216146042900901,
          0.2714672317082319,
          0.6660828288209784,
          0.4484262180293391,
          0.5157200216432307,
          0.3583239488535203,
          0.5645243259264795,
          0.3194187871258427,
          0.4812780907338005,
          0.2016484973495749,
          0.3818471649934672,
          0.4216613862671688,
          0.4660881369678668,
          0.2644762197352284,
          0.4489686696981319,
          0.0181671125137786,
          0.2618403262737513,
          0.396605146093395,
          0.1551751389742433,
          0.335243551943032,
          0.6854248837609753,
          0.4032103622445646,
          0.3576638565587084,
          0.1325666390110724,
          0.4264744193379031,
          0.3351012781170644,
          0.3021553974875269,
          0.1819114990743798,
          0.6583807748166987,
          0.284739491012877,
          0.5533186900483499,
          0.2039593560761781,
          0.3741647654004195,
          1.1231264167003938,
          0.3587254830229573,
          0.283566515497549,
          0.3921449733901264,
          0.098778493053207,
          0.4843137246608276,
          0.3187889868009405,
          0.2254074768525602,
          0.4686233732855533,
          0.1709817219473579,
          0.4530791872377582,
          0.7283863251551648,
          0.3510206063509172,
          0.2785410824687813,
          0.3336129352920125,
          0.4178235884966843,
          0.3245938347878298,
          0.253099183191597,
          0.4242317367948689,
          0.3839536775493984,
          0.5139503017027651,
          0.6579674170791989,
          0.3438399812069928,
          0.7426967106696014,
          0.2539552757097013,
          0.4880854156044233,
          0.2078987608299951,
          0.1420016744549611,
          0.0336693715963495,
          0.0240933214859401,
          0.2262171951884053,
          0.2703621502226712,
          0.2846508580828781,
          0.3918087898134074,
          0.1781312975921921,
          0.5300326239636197,
          0.3875545601886663,
          0.4934674489929661,
          0.3131883658394956,
          0.4485186159919548,
          0.3539474873343491,
          0.5802693664869865,
          0.3245848026283622,
          0.6453374822959617,
          0.5622278739003339,
          0.3857623251319446,
          0.1625710022837992,
          0.3264080699803313,
          0.5778908084392209,
          0.3236442048711409,
          0.3146710947042259,
          0.2629766198310462,
          0.6849029826876004,
          0.3628642589934009,
          0.2437737389093563,
          0.4915921982890752,
          0.0342431950565908,
          0.4111136974970553,
          0.4207305667556627,
          0.527123968551272,
          0.5172985837492291,
          0.9640217946403254,
          0.0743958324493299,
          0.3122900315015973,
          0.4829705827176972,
          0.3379836712032065,
          0.2558210275611525,
          0.5392157668848842,
          0.2252933058408723,
          0.3171308967375216,
          0.4167458930393874,
          0.5855860253475542,
          0.7135256226511812,
          0.3063882114356862,
          0.5747339361998742,
          0.6207904525155036,
          0.4534157670617363,
          0.3142955891664226,
          0.6119186158244246,
          0.2032722921807574,
          0.3694209209458586,
          0.4149853567089392,
          0.0705089681315898,
          0.3471634733197079,
          0.5137632421291836,
          0.2431378654062744,
          0.2545918096595527,
          0.2601712525139299,
          0.1576588018010253,
          0.2182296203424844,
          0.7485882266192806,
          0.5557315131088157,
          0.269818555254344,
          0.1323194963082762,
          0.5901406999322368,
          0.6912498043851687,
          0.6256784907235187,
          0.2964836266155978,
          0.3216192511405922,
          0.3455429179462683,
          0.3957027481853579,
          0.1806135089933433,
          0.0694025745026385,
          0.337308418153861,
          0.2541088803255328,
          0.2063131596291563,
          0.4293804351837951,
          0.6108452943639208,
          0.4047784021850773,
          0.3060366807159512,
          0.3221030397507872,
          0.0560814596473275,
          0.2133786931667019,
          0.2192468754364751,
          0.2771874633817017,
          0.0654474171375101,
          0.5949952487107706,
          0.626104151159982,
          -0.0063914809479325,
          0.0933763505740807,
          0.6042777257820113,
          0.2334349455545864,
          0.2974852829427096,
          0.5947815440239312,
          0.4630469295192433,
          0.4011014365032981,
          0.4083287357798658,
          0.3885379258016339,
          0.6273096866550166,
          0.3430234075370794,
          0.2383904327441877,
          0.5174431659616007,
          0.1769991367106303,
          0.2323020080681976,
          0.2146913835995335,
          0.352333373995719,
          0.2155601238723912,
          0.3226975644011498,
          0.3435407726585383,
          0.5480354919590813,
          0.2765700074179326,
          0.590682911944152,
          0.3420894969967812,
          0.4199433345586021,
          0.15090561578645,
          0.4442360422806388,
          0.2582241298572693,
          0.4204726075113094,
          0.4453901576925039,
          0.1814902114978013,
          0.399416507760316,
          0.3818135349866077,
          0.8867760513709702,
          0.7455747569020605,
          0.4425895951658854,
          0.1025588517057609,
          0.3328949563965925,
          0.4462278413450787,
          0.2709373192890684,
          0.4278626951903593,
          0.4379417562990929,
          0.5877433259479417,
          0.2628805562288659,
          0.3386971787041994,
          0.4496312791577156,
          0.2797125171261169,
          0.3457288395982371,
          0.2295590336525744,
          0.5271285475721142,
          0.2812100329943392,
          0.3566224007727925,
          0.564809293300997,
          0.1137580110451522,
          0.3936390182826261,
          0.282624154141041,
          0.2306220312429693,
          0.4071794497934621,
          0.0509968197918444,
          0.1794774301519922,
          0.5038817766821936,
          0.4672932080533818,
          0.550124404569332,
          0.2934795795789834,
          0.4752974006836157,
          0.6752708616641905,
          0.263218873344238,
          0.6130006568343289,
          0.3608008702830683,
          0.5286745452361322,
          0.374076318305265,
          0.2431323039465192,
          0.4878392620554091,
          0.147703304298883,
          0.5277383282926064,
          0.3169875649589754,
          0.179130792363469,
          0.3970812939209147,
          0.4007550161040446,
          0.2285397282732634,
          0.1750643166411246,
          0.3121053081203435,
          0.3985236076883487,
          0.3694950211417299,
          0.3642180102989331,
          0.3677157111835994,
          0.4424430982863342,
          0.3194869017021179,
          0.3467589977717774,
          0.4497016513567187,
          0.5644158382064287,
          0.3547336608301898,
          0.487822485865338,
          0.3876463163933569,
          0.3927843471984962,
          0.5403666026366932,
          0.1583917950325559,
          0.5195790051142837,
          0.4340320076587267,
          0.6005614728771866,
          0.3754083971457984,
          0.3495315731629494,
          0.4118704233087595,
          0.399685641614097,
          0.2627699736344637,
          0.3047363130366924,
          0.4196010031362245,
          0.3230013277506095,
          0.5742535863953183,
          0.4025235341980834,
          0.4320541739399574,
          0.4144088465754406,
          0.5374845986594078,
          0.3965965898018837,
          0.410893016405992,
          0.1402201200463415,
          0.5145215288642703,
          0.6813247568069635,
          0.3418631960756321,
          0.3364826904851078,
          0.581844043958059,
          0.3007374831864292,
          0.4014651887134311,
          0.4681116560761002,
          0.5292387018143184,
          0.3637258272610033,
          0.5111542833083298,
          0.8889178517345848,
          0.4440748830042917,
          0.5362699197902877,
          0.5686431752387334,
          0.4127110897916299,
          0.5867193160049823,
          0.200161977945906,
          0.4940514221797684,
          0.2039310748676372,
          0.3306906066745332
         ]
        },
        {
         "boxmean": "sd",
         "name": "5",
         "type": "box",
         "y": [
          0.3386476335091706,
          0.3789545042318565,
          0.2945356098009434,
          0.2413121030317116,
          0.2560415879953033,
          0.2311102577435365,
          0.13048048351045,
          0.4222353395221433,
          0.3087734461021104,
          0.5480760063645786,
          0.2144304938020413,
          0.1967167634460691,
          0.2850439214106776,
          0.2708408447919169,
          0.5364709679670709,
          0.5975229450226158,
          0.1551848702745813,
          0.465350197413044,
          -0.0022020409640073,
          0.4682401632869863,
          0.42575207643843,
          0.1432936966274581,
          -0.1039207537621251,
          0.3844471774479381,
          0.2727755072234697,
          0.2543509056086617,
          0.3681350494399957,
          0.1581075256292472,
          0.4265161231244403,
          0.4470119738464319,
          0.6475547234852796,
          0.334693552518656,
          0.0888463933784518,
          0.4126897199052113,
          0.6195331372924524,
          0.1861443515852394,
          0.1557117569135004,
          0.1962207834687037,
          0.2273106114566492,
          0.2887408159644264,
          0.1866591011417318,
          0.5160247593531965,
          0.5030742308074584,
          0.2269698889677439,
          0.427987344893047,
          0.1982853672109421,
          0.5474071755710163,
          0.3226397107736898,
          0.0436640642091353,
          0.4531686566817128,
          0.3678001714317152,
          0.4798008695855593,
          0.2672099885025421,
          0.3140069362376369,
          0.2285008584811231,
          0.3522815802695578,
          0.0446570770118433,
          0.3701661224026761,
          0.3855745312695558,
          0.3861162439587304,
          0.4462447462620214,
          0.2637101004024144,
          0.5108626720719942,
          0.2735577491960637,
          0.3411312046811162,
          0.6004674542726187,
          0.2647909797273376,
          0.3491257773670293,
          0.2716195363902743,
          0.3029592026331685,
          0.5279008480036143,
          0.1092059829116368,
          0.4722481306834545,
          0.3690074280519987,
          0.4266770727507022,
          0.2354281084060048,
          0.0308242541114292,
          0.2857445217590789,
          0.259107208419065,
          0.6571500556784383,
          0.2548279972031939,
          0.1603329387372815,
          0.3770172800571548,
          0.3722636018004781,
          0.3228389624930147,
          0.1092116466685198,
          0.2271557283484991,
          0.3278959312082604,
          0.3243169905768165,
          0.3714712736893573,
          0.2755200990682687,
          0.2220893176791011,
          0.2934168726374346,
          0.6004109678449159,
          0.519512143090505,
          0.4166367502151237,
          0.2392233087824948,
          0.2697311647373378,
          0.2231513861867963,
          0.2919111074585353,
          0.4201953634958502,
          0.3808265907996287,
          0.1635690324613928,
          0.4025444010977415,
          0.4553032341037812,
          0.0891759687100687,
          0.1859948169359344,
          0.5105415760692612,
          0.3446666933565821,
          0.0944976637637797,
          0.3114884747213449,
          0.6190417622360387,
          0.4644418063796209,
          0.1466089619651542,
          0.2159437341479,
          0.1452000680085343,
          0.6143823508002285,
          0.352159308757541,
          0.4584626793045477,
          0.4311966851406923,
          0.3294652996738179,
          0.4674247328857465,
          0.3537432660630328,
          0.6193380929135738,
          0.2489906782438785,
          0.4404704051511003,
          0.373502411241718,
          0.5841517430977046,
          0.0317132019179603,
          0.7093522838383942,
          0.4725835043181974,
          0.3883520040987168,
          0.1371093605894734,
          0.2439846728229786,
          0.2199942504077732,
          0.4653154492189838,
          0.4057182410869017,
          0.4519385835607744,
          0.2133271587950918,
          0.4634056631211084,
          -0.0566882129590935,
          0.3911276951208994,
          0.1422264541251574,
          0.2712233175090429,
          0.5586078769420795,
          0.8064721820398266,
          0.2782425088894311,
          0.4203931138225621,
          0.2998420489526726,
          0.4044102814227994,
          0.5888919865700438,
          0.2357036082369347,
          0.6139087948008018,
          0.359882072374167,
          0.4492161189847806,
          0.4748313678323914,
          0.2299940271943296,
          0.5472877122118984,
          0.4256199696597699,
          0.3297700747893414,
          0.2086321988293001,
          0.3045782742471261,
          0.1676876413313872,
          0.3896066918077736,
          0.3086374118713675,
          0.3792385808298751,
          0.3282801163116308,
          0.0529783231224901,
          0.2257801196094388,
          0.3165746621074076,
          0.2923820237058783,
          0.4280104732073339,
          0.305303271957522,
          0.2057414599795204,
          0.4675947630024184,
          0.3053445591534467,
          0.1347934563268773,
          0.6947368180534603,
          0.4782813328766551,
          0.4099577989194986,
          0.0169222006438182,
          0.6106826941955532,
          0.1491972026343586,
          0.3600667543476844,
          0.2009315204989716,
          0.0951224862561088,
          0.4282697349701117,
          0.3403815299866072,
          0.2931807907851764,
          0.4538898530516598,
          0.1852153738672077,
          0.4045333703310461,
          0.3663047950609854,
          0.3957306544069966,
          0.0605039079945897,
          0.1891067852649611,
          0.521521409486574,
          0.2759432579687935,
          0.1993498516994582,
          0.6067062877253815,
          0.4623555880713352,
          0.5235199893847947,
          0.2644484760015696,
          0.2506300215984409,
          0.1933256197584507,
          0.2084024362609132,
          0.4558731284566654,
          0.5804466838388342,
          0.2902174814925385,
          0.4477542058467655,
          0.2010454439574291,
          0.4671133784225642,
          0.285349838780597,
          0.5070310130622113,
          0.4997710062674481,
          0.3505416493576092,
          0.4015285648503156,
          0.2258427865859109,
          0.293333895935831,
          0.4620786077785412,
          0.161913740131026,
          0.2716515236334341,
          0.3326163528235246,
          0.3944442066249531,
          0.4857366302270137,
          0.3715862639082175,
          0.3008760015490436,
          0.3433072761683277,
          0.1671395315811404,
          0.1283521807362665,
          0.3418620915972333,
          0.7609402656394243,
          0.145624811776015,
          0.3085664747664821,
          0.1753536881024707,
          0.3437548063767027,
          0.2852556395978032,
          0.4082231714589684,
          0.2602930435755387,
          0.276281849130979,
          0.1688963851887166,
          0.3010930048378223,
          0.2860153836068889,
          0.3161603616071301,
          0.2834999674820238,
          0.2104234232328262,
          0.2830944576845125,
          0.3476135515699499,
          0.4757452569529137,
          0.12380237203371,
          0.5330908271599244,
          0.286860040750973,
          0.3503201063169656,
          0.3056962869813443,
          0.2073818048042187,
          0.1909585116929894,
          0.3120044714288353,
          0.3370405442239137,
          0.3683835151125408,
          0.2730202070776212,
          0.5150826869551685,
          0.5584833157497645,
          0.2188065877829411,
          0.1854352062366864,
          0.2901182712608957,
          0.4716385864902261,
          0.1537519797533038,
          0.5990405942760628,
          0.4589749730294626,
          0.4366623585514572,
          0.1963499248503991,
          0.5560328336820503,
          0.3428193840249906,
          0.2499943134274613,
          0.2711441334608999,
          0.3746419049261743,
          0.202679327034186,
          -0.022812740665974,
          0.4075702255375384,
          0.0918300741624314,
          0.4816713483169826,
          0.364677064318939,
          0.4700677968227451,
          0.4932846070887767,
          0.3570552282795674,
          0.3632492214288551,
          0.4776859653085999,
          0.5193484335347927,
          0.4088983053925085,
          0.2900994575613262,
          0.7034429401873122,
          0.3779533842072082,
          0.2025117322875388,
          0.6180884785000239,
          0.3461616328419756,
          0.507652407909041,
          0.264648715277243,
          0.3779479590989204,
          0.3011267512674166,
          0.4472337437730598,
          0.0580443170756428,
          0.3382200661943196,
          0.5202952358585726,
          0.0856911597071855,
          0.3153965542588707,
          0.4706044221464335,
          0.5807219834495108,
          0.5606828092351964,
          0.4683729130499002,
          0.1327607906344064,
          0.3966261683168119,
          0.6331855192286854,
          0.2363295086868703,
          0.330904592910158,
          -0.0168942365801449,
          0.3024198725089519,
          0.4998072997792778,
          0.385378604524268,
          0.0792979834008627,
          0.4057765913676441,
          0.170296788686735,
          0.1703894774185251,
          0.485785943957487,
          0.243042333167555,
          0.0478963195563443,
          0.174625068634143,
          0.1853096727204603,
          0.1353490507376142,
          0.0838742195399275,
          0.1318527008996737,
          0.1336746675170005,
          0.1385781371298607,
          0.0273291445876294,
          0.4200099041700118,
          0.6319563656162945,
          0.2804234604973044,
          0.4721697480011969,
          0.4415244288234411,
          0.2550076418950378,
          0.4144744760018372,
          0.2251629636987957,
          0.5159519360118211,
          0.3953204291470134,
          0.4228028541226089,
          0.6052089408368452,
          0.2277238548301734,
          0.0201221909771667,
          -0.0565948515268621,
          0.232576279386293,
          0.6189105548102114,
          0.2411904666421202,
          0.4069633061161644,
          -0.0311239505114159,
          0.3491978838107764,
          0.1193404241816794,
          0.2489360517142633,
          0.334363713006147,
          0.4626322715480498,
          0.3760645220956515,
          0.2506970744092209,
          0.3327458052416087,
          0.4865411637888991,
          0.1156023839421606,
          0.2809255074196546,
          0.3754639203012106,
          0.236698212943464,
          0.4160831759177454,
          0.4614003369839747,
          0.566000818629151,
          0.6098101004890665,
          0.5279498801062283,
          0.3711992901121201,
          0.1824240978376574,
          0.5403458764742937,
          0.5866210267678984,
          0.2436488286503105,
          0.4706675663120234,
          0.3460084653040465,
          0.3389411493289656,
          0.4503838200758335,
          0.2456051261641874,
          0.2064241714961034,
          0.3796316852817535,
          0.2138174628965238,
          0.3310900714264062,
          0.6161932201694074,
          0.4724107265937889,
          0.4270279383409042,
          0.2324532310081773,
          0.4459456950098091,
          0.4702805904993171,
          -0.0107394087202853,
          0.3051441329260486,
          0.2761282179701974,
          0.7839809341716827,
          0.3291109612995449,
          0.2428972600970673,
          0.4454179093985421,
          0.5260517150923413,
          0.5631583439152131,
          0.4663893294781794,
          0.2328104049230931,
          0.1724715813798634,
          0.4423538913632007,
          0.2453886654800706,
          0.6518086833999414,
          0.4620502681525084,
          0.1941821295393749,
          0.2587121220618462,
          0.1637043818343381,
          0.3473381943875277,
          -0.0852681876606824,
          0.4612484010807887,
          0.3423776610635332,
          -0.0224376287046029,
          0.088334491615835,
          0.2044224693626515,
          0.227288732163453,
          0.3426820605888461,
          0.4032629029786231,
          0.3450198248239859,
          0.3524817967344863,
          0.2887791708774261,
          0.5001316881244657,
          0.4316499032172722,
          0.2084412975056736,
          0.1603551815871564,
          0.1496590522561714,
          0.417489216973348,
          0.3145363209607545,
          0.239791330282369,
          0.2058246408697244,
          0.1609743253068912,
          0.2245073308927406,
          0.1780877500240918,
          0.3713140255987403,
          0.2256249194194082,
          0.2073708015909444,
          0.3242222569499064,
          0.1307049539729753,
          0.5478898404036119,
          0.2748957263907193,
          0.4803590628533185,
          0.3401304167144432,
          0.3034256687973694,
          0.2960972454482805,
          0.2273970945298846,
          0.4116059349509663,
          0.4898754996814525,
          0.4953803278685531,
          0.2683313361650217,
          0.2608592555209412,
          0.5174094501634059,
          0.7363463698193897,
          0.2009475947869045,
          0.2058064064192781,
          0.3902024377799254,
          0.2834987815202483,
          0.3959700445380528,
          0.3761661326126878,
          0.3734910180968226,
          0.3930383403002716,
          0.3094900332127172,
          0.4703080922367594,
          0.3631840769319686,
          0.499974033118635,
          0.2278765488319973,
          0.2552761974836149,
          0.59196127294278,
          0.5125742832920421,
          0.0848146920522056,
          0.3043765696790609,
          0.276065527269726,
          0.1502501617182087,
          0.3432643631682781,
          0.3305409163312759,
          0.3464955313439885,
          0.2783922925759166,
          0.2488613664344954,
          0.2354727951023838,
          0.1714431142729406,
          0.3488529156881564,
          0.2526428291745304,
          0.32385174186415,
          0.472409197739635,
          0.4197478136012157,
          0.4809596168585848,
          0.3596093522103339,
          0.3710948759214365,
          0.247311719474834,
          0.5316976763850082,
          0.3537425491016052,
          0.4359147446837437,
          0.2333452642127294,
          0.5417189841651199,
          0.5948486108266435,
          0.3461190390860977,
          0.2964819825299944,
          0.1339315830085669,
          0.4541701042892858
         ]
        },
        {
         "boxmean": "sd",
         "name": "10",
         "type": "box",
         "y": [
          0.6782424668436812,
          0.0825350628242998,
          0.1577782832305484,
          0.1563819538565317,
          0.0604284021072781,
          0.3331476309221369,
          0.4040745561877438,
          0.1840364996536465,
          0.0787443149927058,
          0.2827201541110158,
          0.3013861369831142,
          0.1368429849946816,
          0.2269951531687302,
          0.3417704201545015,
          0.2057694805599726,
          0.1429226497359038,
          0.2410885485853511,
          0.0234094688534603,
          0.1980984654330389,
          0.1113749453398124,
          0.4306836698165254,
          -0.113839249904946,
          0.3345262267759349,
          0.3406980886348379,
          0.3409064828815663,
          0.1896348507838462,
          0.2876357721419328,
          0.3779050977532154,
          0.2890428538844092,
          0.3104858382797695,
          0.4224336800506174,
          0.1564710247108569,
          0.2138539844230439,
          0.1589216294864683,
          0.603403049999846,
          0.1872560084661126,
          0.3200853604536623,
          0.2479977746787883,
          0.407708985531827,
          0.1255966995900339,
          -0.0309894504609789,
          0.3271912993802975,
          0.25269896666772,
          0.2390224900232082,
          0.1206424839916816,
          0.2852471367256858,
          0.4166462320346459,
          0.2974902447346354,
          0.1845128499403297,
          0.1737234326661331,
          0.412505278492464,
          0.3083370002889589,
          0.3420737376646506,
          0.4273841702567962,
          0.4133969019511702,
          0.2062918432081937,
          0.0723835515406505,
          0.3069960624210417,
          0.2913071517943676,
          0.5090132862119423,
          0.1887845772180494,
          0.3321831568495493,
          0.5104404379293893,
          -0.3060001326419063,
          0.5394921676806969,
          0.0863060487230303,
          0.2243744246457993,
          0.3096011360388113,
          0.273749396510811,
          0.3117721279905221,
          0.0865172785179862,
          -0.1049460361426003,
          0.2772467937148979,
          0.3745210169524678,
          0.2468044207612023,
          0.3197933538647775,
          0.2822044242538982,
          0.1452603856644243,
          0.1637184081606325,
          0.5494779549252975,
          0.5589242022611568,
          0.0403360100549948,
          0.6101272330786849,
          0.341217503851063,
          0.1410010944619484,
          0.3225346114631656,
          0.1058794783984988,
          0.4221547558903254,
          0.302746188458317,
          0.1444102581316015,
          0.1074322427935881,
          0.3640026286897248,
          0.2136344750286235,
          0.4207307031943217,
          0.2199060908417247,
          0.5824374958668137,
          0.3969825296343543,
          0.0334285273974139,
          0.0251578108433247,
          -0.0325791596242522,
          0.3342667985501703,
          0.2771876861915536,
          0.2935655376906334,
          0.4217568867696158,
          0.4066749925741422,
          0.1873006146744424,
          0.3088690438443956,
          0.6676038681954337,
          0.5556877326484214,
          -0.0563901777928925,
          0.1318873103015062,
          0.6271010906928135,
          0.3701553528222345,
          0.0649837440315213,
          0.1572277965885023,
          0.1160698119212374,
          0.3605507361098644,
          0.4024823537266373,
          0.4995955651886159,
          0.1722355754814165,
          0.2892451530561453,
          0.4179543839777638,
          0.1742752872066209,
          0.3404622944936064,
          -0.0364498519291189,
          0.2496628244409868,
          0.2345889575379267,
          0.1129090018195104,
          0.0683107793736075,
          0.5380951307743472,
          0.4525318766836925,
          0.4038669063184782,
          0.1861371020025402,
          -0.0198738022626792,
          0.4583987799039423,
          0.373511368880314,
          0.0760059192387649,
          0.2856664963793139,
          0.1904148737230852,
          0.6257555258616663,
          0.2264075810314957,
          0.279892487969312,
          0.3799985740083433,
          0.3249648732708876,
          0.2621544287669469,
          0.2078688443836965,
          0.0290031058090513,
          0.4261382083608414,
          0.0988341470145699,
          0.0970955376945749,
          0.3122822903936662,
          0.2374307816410742,
          0.3390048048789698,
          0.2154731618045818,
          0.3854677132957846,
          0.3098687897206629,
          0.3892558425840097,
          0.4831788846167865,
          0.1030471870753396,
          0.3201536891912124,
          0.1314784787778806,
          0.2994823320019012,
          0.1460967737476484,
          0.1528218407113971,
          0.1468029927737518,
          0.066031730093698,
          0.2963018697893354,
          0.0909257790809845,
          0.0866732608432089,
          0.415573461663607,
          0.1932980906426291,
          0.0650135532398118,
          0.3195442468049452,
          0.1264384028489673,
          0.038091316966204,
          0.4778431082082224,
          0.2105539050123306,
          0.4477522646277921,
          0.4101549678388715,
          0.446474852953232,
          -0.1857322885800074,
          0.4222435458980167,
          0.056596471788798,
          0.2162959473857138,
          0.2296532576997645,
          0.3062671238620031,
          0.6020994892518939,
          0.3618819080275311,
          0.1040933467130134,
          0.325109977329115,
          0.4626228709659705,
          0.5817670912686518,
          0.4874074826387727,
          0.3407268434021828,
          -0.0206798547476777,
          0.1488290425605105,
          0.3491487444969305,
          0.0931377009109894,
          0.1511016636631502,
          0.3303105861035569,
          0.1553273878235682,
          0.4275392152022013,
          0.2449378339942026,
          0.057330072094124,
          0.6082659054560365,
          0.3626653735363098,
          0.3515025091543498,
          0.514511395045491,
          0.1874447272957164,
          0.1256577139496364,
          0.1487503822138179,
          0.5199577488784451,
          0.1704703378526727,
          0.5698332853668543,
          0.3364672055202652,
          -0.003052176525191,
          0.458598737782463,
          0.0131219885903791,
          0.5955782004224054,
          0.820881991313954,
          0.4434746722236138,
          0.3588789601588357,
          0.127832914509361,
          0.2525498668525315,
          0.6253034396474705,
          0.1500644261338532,
          0.2527360313394989,
          0.253628805781154,
          0.3252407039711741,
          0.0670027981141621,
          0.4044649248966047,
          0.285653271544279,
          0.1364486168142035,
          0.0041917805160632,
          0.2323536719058474,
          0.0779705116183361,
          0.1990704225021778,
          0.4087063350020936,
          0.1693602981278725,
          0.1509702616307502,
          0.488355250115965,
          0.4064822900760423,
          0.3517787027697632,
          0.6803278960305664,
          0.3737170309520026,
          0.4643319563147831,
          0.4057519793057717,
          -0.0282175049550791,
          0.3777135240694797,
          0.1140542356672928,
          0.0664620671579996,
          0.3575993447506349,
          0.3139437101212402,
          0.0568934519150068,
          -0.0021426267704728,
          0.1739192477111325,
          0.3215116424199589,
          0.622493701411536,
          0.5132076945477332,
          0.143965821061934,
          0.3926778659371588,
          0.4392618801087365,
          0.0523112801122841,
          0.4841588617179902,
          0.1776440942703332,
          0.3611426823928759,
          0.2505840610001867,
          0.1559561281781234,
          0.191785342115749,
          0.538235002929403,
          0.2427989154029574,
          0.3021052731223964,
          0.0732139571545943,
          0.296992435595539,
          0.2095290425541552,
          0.2370290028569173,
          0.2645613224324241,
          0.3592631429688426,
          0.6364298712007399,
          0.3216998255530911,
          0.3162332767879887,
          0.1998904056058261,
          0.5138110181720296,
          0.0959172930600541,
          0.158973379341947,
          0.3740902124813451,
          0.1980244031456725,
          0.1039845298515664,
          0.4629494147132566,
          0.1852684687680703,
          0.304354512945115,
          0.07396491722561,
          0.2068504039393057,
          0.0693114841578365,
          0.1544144701640194,
          0.2603868671628847,
          0.1072239703868919,
          0.1058148463624917,
          0.4437986859605391,
          0.4434971013145931,
          0.5007462196255774,
          0.3256425153301755,
          0.2081045261276711,
          -0.0720975909531336,
          0.4684544184607812,
          0.449513118523654,
          0.6151566077558082,
          0.2220512398984777,
          0.4889830036365744,
          -0.0426955686085523,
          0.4436444396278221,
          0.371514933521042,
          0.31231423861968,
          0.1514192678727616,
          0.0805533773848502,
          0.6189059601976936,
          0.0335807952311861,
          0.1701866247702739,
          0.3404376734674624,
          0.3427034165572991,
          0.2820031050787561,
          0.0564534456355943,
          0.1707298983855141,
          0.2036383233265432,
          0.4079487059474668,
          0.0839929950140796,
          0.4102024840216663,
          0.128862061788577,
          0.1593344524124255,
          0.1133356574813482,
          0.2236307541621971,
          0.2757968045835376,
          0.1976014034611656,
          0.2482566396085063,
          0.3768785754052132,
          0.3288845000633654,
          0.2815119107640338,
          0.2398009036955042,
          0.2110130349486209,
          0.2390950139690114,
          0.3600394292916713,
          0.2333116248937238,
          0.1572355390125165,
          0.1446605283310489,
          0.2527852194356503,
          0.524280456020945,
          0.254004231490316,
          0.2324370554040237,
          0.6163734063392181,
          0.3318589530624541,
          0.361093505161552,
          0.4236211470857418,
          0.0240002703556732,
          0.3635417017115236,
          -0.0702877928425566,
          0.4955879622963949,
          0.2416806424083142,
          0.149764118575316,
          0.4431713322951629,
          0.1580745797710439,
          0.2201871407394716,
          0.0943053463173419,
          0.1813291798836789,
          0.1911908973915051,
          0.2487098558506174,
          0.2605048589014675,
          0.1981805105545981,
          0.2889828743154058,
          0.1098363309690105,
          0.431710598064886,
          0.1094640567436191,
          0.2839038204732952,
          0.246970725212429,
          0.3711476928206921,
          0.3759755595786211,
          0.1948894872053596,
          0.6814667043068335,
          0.374000855263818,
          0.2993080323987299,
          0.3499797838782338,
          0.1768327100047694,
          0.1799109918298991,
          0.3659122362149777,
          0.1473240261526827,
          0.2200738367105617,
          0.4088635619029604,
          0.3247004883924719,
          0.2291116516472038,
          0.1005932968775575,
          0.1913278111933792,
          0.1711130067856567,
          0.2818508869312267,
          0.1689252768544284,
          0.3327233117304033,
          0.6429565626715965,
          0.5726660454354523,
          0.3713155335792509,
          0.3877057073053585,
          0.2253654048331761,
          0.2956854768064501,
          0.1319034925462595,
          0.0912345310984866,
          0.3726295643627935,
          0.1592762997185768,
          0.3515743088349716,
          0.5067552832871801,
          0.1411055573255803,
          0.2570937094026203,
          0.4439032609873038,
          -0.0781438188376035,
          0.1972079448200935,
          0.3686742564853015,
          0.0064192068794376,
          0.0676607037198207,
          0.2332205357864346,
          0.291354595421189,
          -0.0067754749573392,
          0.2480181985210585,
          0.2582801450389201,
          0.3965606702792706,
          0.030102177518984,
          0.3038345759200519,
          0.2433527425703829,
          0.4372117403839975,
          0.1921437269934987,
          0.0273141449495573,
          0.1117158320479741,
          0.2445953509216793,
          0.3085708744611817,
          0.1365409194591395,
          0.3380122741437544,
          0.3294024165767205,
          0.4117410495114974,
          0.4355695816771961,
          0.3431246812430383,
          0.2764301197805007,
          -0.0422470278642257,
          0.0941810693575565,
          0.157115860043766,
          0.2656869643214951,
          0.2490016792144853,
          0.4365118362313954,
          0.0793295121689327,
          0.4734652650312441,
          0.3369200321002818,
          0.1242031919478009,
          0.3043694434547575,
          0.2585485243884182,
          0.2365996001225636,
          0.4740979169501857,
          0.4474345465648186,
          0.2000126132081569,
          0.1829677817044255,
          0.2367451103372059,
          0.1272178479686248,
          0.4550547722841706,
          0.2882388817192223,
          0.2205702901401411,
          0.2038546772683341,
          0.3847534251983802,
          0.3616550280307815,
          0.206156923092615,
          0.1677089355731824,
          0.3316910572734484,
          0.186755344673233,
          0.6531537218609069,
          0.0804385258791683,
          0.4204378503617851,
          0.2841259578519748,
          0.3159820255883336,
          0.0952696447298242,
          0.2996228200325784,
          0.4086386319465133,
          0.2175403965251394,
          0.6763330910793945,
          0.2393583586562275,
          0.0999186647924377,
          -0.0582593893558653,
          0.4676214557815588,
          0.2929330885723548,
          0.190526537076105,
          -0.1004784452254645,
          0.0779040794175287,
          0.2565860115409808,
          0.4800450318578546,
          0.3344374109606929,
          0.3984180894025755,
          0.3490759636458167,
          0.4915504433493856,
          0.3671953922549922,
          0.7076804707445054,
          0.5094486692612604,
          0.2745242348539428,
          0.3365398758532134,
          0.1343053725151254,
          0.402885631686608,
          0.1481865716828387,
          0.195419074277194,
          0.4965523927032815,
          0.3198919431288611
         ]
        }
       ],
       "layout": {
        "template": {
         "data": {
          "bar": [
           {
            "error_x": {
             "color": "#2a3f5f"
            },
            "error_y": {
             "color": "#2a3f5f"
            },
            "marker": {
             "line": {
              "color": "#E5ECF6",
              "width": 0.5
             },
             "pattern": {
              "fillmode": "overlay",
              "size": 10,
              "solidity": 0.2
             }
            },
            "type": "bar"
           }
          ],
          "barpolar": [
           {
            "marker": {
             "line": {
              "color": "#E5ECF6",
              "width": 0.5
             },
             "pattern": {
              "fillmode": "overlay",
              "size": 10,
              "solidity": 0.2
             }
            },
            "type": "barpolar"
           }
          ],
          "carpet": [
           {
            "aaxis": {
             "endlinecolor": "#2a3f5f",
             "gridcolor": "white",
             "linecolor": "white",
             "minorgridcolor": "white",
             "startlinecolor": "#2a3f5f"
            },
            "baxis": {
             "endlinecolor": "#2a3f5f",
             "gridcolor": "white",
             "linecolor": "white",
             "minorgridcolor": "white",
             "startlinecolor": "#2a3f5f"
            },
            "type": "carpet"
           }
          ],
          "choropleth": [
           {
            "colorbar": {
             "outlinewidth": 0,
             "ticks": ""
            },
            "type": "choropleth"
           }
          ],
          "contour": [
           {
            "colorbar": {
             "outlinewidth": 0,
             "ticks": ""
            },
            "colorscale": [
             [
              0,
              "#0d0887"
             ],
             [
              0.1111111111111111,
              "#46039f"
             ],
             [
              0.2222222222222222,
              "#7201a8"
             ],
             [
              0.3333333333333333,
              "#9c179e"
             ],
             [
              0.4444444444444444,
              "#bd3786"
             ],
             [
              0.5555555555555556,
              "#d8576b"
             ],
             [
              0.6666666666666666,
              "#ed7953"
             ],
             [
              0.7777777777777778,
              "#fb9f3a"
             ],
             [
              0.8888888888888888,
              "#fdca26"
             ],
             [
              1,
              "#f0f921"
             ]
            ],
            "type": "contour"
           }
          ],
          "contourcarpet": [
           {
            "colorbar": {
             "outlinewidth": 0,
             "ticks": ""
            },
            "type": "contourcarpet"
           }
          ],
          "heatmap": [
           {
            "colorbar": {
             "outlinewidth": 0,
             "ticks": ""
            },
            "colorscale": [
             [
              0,
              "#0d0887"
             ],
             [
              0.1111111111111111,
              "#46039f"
             ],
             [
              0.2222222222222222,
              "#7201a8"
             ],
             [
              0.3333333333333333,
              "#9c179e"
             ],
             [
              0.4444444444444444,
              "#bd3786"
             ],
             [
              0.5555555555555556,
              "#d8576b"
             ],
             [
              0.6666666666666666,
              "#ed7953"
             ],
             [
              0.7777777777777778,
              "#fb9f3a"
             ],
             [
              0.8888888888888888,
              "#fdca26"
             ],
             [
              1,
              "#f0f921"
             ]
            ],
            "type": "heatmap"
           }
          ],
          "heatmapgl": [
           {
            "colorbar": {
             "outlinewidth": 0,
             "ticks": ""
            },
            "colorscale": [
             [
              0,
              "#0d0887"
             ],
             [
              0.1111111111111111,
              "#46039f"
             ],
             [
              0.2222222222222222,
              "#7201a8"
             ],
             [
              0.3333333333333333,
              "#9c179e"
             ],
             [
              0.4444444444444444,
              "#bd3786"
             ],
             [
              0.5555555555555556,
              "#d8576b"
             ],
             [
              0.6666666666666666,
              "#ed7953"
             ],
             [
              0.7777777777777778,
              "#fb9f3a"
             ],
             [
              0.8888888888888888,
              "#fdca26"
             ],
             [
              1,
              "#f0f921"
             ]
            ],
            "type": "heatmapgl"
           }
          ],
          "histogram": [
           {
            "marker": {
             "pattern": {
              "fillmode": "overlay",
              "size": 10,
              "solidity": 0.2
             }
            },
            "type": "histogram"
           }
          ],
          "histogram2d": [
           {
            "colorbar": {
             "outlinewidth": 0,
             "ticks": ""
            },
            "colorscale": [
             [
              0,
              "#0d0887"
             ],
             [
              0.1111111111111111,
              "#46039f"
             ],
             [
              0.2222222222222222,
              "#7201a8"
             ],
             [
              0.3333333333333333,
              "#9c179e"
             ],
             [
              0.4444444444444444,
              "#bd3786"
             ],
             [
              0.5555555555555556,
              "#d8576b"
             ],
             [
              0.6666666666666666,
              "#ed7953"
             ],
             [
              0.7777777777777778,
              "#fb9f3a"
             ],
             [
              0.8888888888888888,
              "#fdca26"
             ],
             [
              1,
              "#f0f921"
             ]
            ],
            "type": "histogram2d"
           }
          ],
          "histogram2dcontour": [
           {
            "colorbar": {
             "outlinewidth": 0,
             "ticks": ""
            },
            "colorscale": [
             [
              0,
              "#0d0887"
             ],
             [
              0.1111111111111111,
              "#46039f"
             ],
             [
              0.2222222222222222,
              "#7201a8"
             ],
             [
              0.3333333333333333,
              "#9c179e"
             ],
             [
              0.4444444444444444,
              "#bd3786"
             ],
             [
              0.5555555555555556,
              "#d8576b"
             ],
             [
              0.6666666666666666,
              "#ed7953"
             ],
             [
              0.7777777777777778,
              "#fb9f3a"
             ],
             [
              0.8888888888888888,
              "#fdca26"
             ],
             [
              1,
              "#f0f921"
             ]
            ],
            "type": "histogram2dcontour"
           }
          ],
          "mesh3d": [
           {
            "colorbar": {
             "outlinewidth": 0,
             "ticks": ""
            },
            "type": "mesh3d"
           }
          ],
          "parcoords": [
           {
            "line": {
             "colorbar": {
              "outlinewidth": 0,
              "ticks": ""
             }
            },
            "type": "parcoords"
           }
          ],
          "pie": [
           {
            "automargin": true,
            "type": "pie"
           }
          ],
          "scatter": [
           {
            "fillpattern": {
             "fillmode": "overlay",
             "size": 10,
             "solidity": 0.2
            },
            "type": "scatter"
           }
          ],
          "scatter3d": [
           {
            "line": {
             "colorbar": {
              "outlinewidth": 0,
              "ticks": ""
             }
            },
            "marker": {
             "colorbar": {
              "outlinewidth": 0,
              "ticks": ""
             }
            },
            "type": "scatter3d"
           }
          ],
          "scattercarpet": [
           {
            "marker": {
             "colorbar": {
              "outlinewidth": 0,
              "ticks": ""
             }
            },
            "type": "scattercarpet"
           }
          ],
          "scattergeo": [
           {
            "marker": {
             "colorbar": {
              "outlinewidth": 0,
              "ticks": ""
             }
            },
            "type": "scattergeo"
           }
          ],
          "scattergl": [
           {
            "marker": {
             "colorbar": {
              "outlinewidth": 0,
              "ticks": ""
             }
            },
            "type": "scattergl"
           }
          ],
          "scattermapbox": [
           {
            "marker": {
             "colorbar": {
              "outlinewidth": 0,
              "ticks": ""
             }
            },
            "type": "scattermapbox"
           }
          ],
          "scatterpolar": [
           {
            "marker": {
             "colorbar": {
              "outlinewidth": 0,
              "ticks": ""
             }
            },
            "type": "scatterpolar"
           }
          ],
          "scatterpolargl": [
           {
            "marker": {
             "colorbar": {
              "outlinewidth": 0,
              "ticks": ""
             }
            },
            "type": "scatterpolargl"
           }
          ],
          "scatterternary": [
           {
            "marker": {
             "colorbar": {
              "outlinewidth": 0,
              "ticks": ""
             }
            },
            "type": "scatterternary"
           }
          ],
          "surface": [
           {
            "colorbar": {
             "outlinewidth": 0,
             "ticks": ""
            },
            "colorscale": [
             [
              0,
              "#0d0887"
             ],
             [
              0.1111111111111111,
              "#46039f"
             ],
             [
              0.2222222222222222,
              "#7201a8"
             ],
             [
              0.3333333333333333,
              "#9c179e"
             ],
             [
              0.4444444444444444,
              "#bd3786"
             ],
             [
              0.5555555555555556,
              "#d8576b"
             ],
             [
              0.6666666666666666,
              "#ed7953"
             ],
             [
              0.7777777777777778,
              "#fb9f3a"
             ],
             [
              0.8888888888888888,
              "#fdca26"
             ],
             [
              1,
              "#f0f921"
             ]
            ],
            "type": "surface"
           }
          ],
          "table": [
           {
            "cells": {
             "fill": {
              "color": "#EBF0F8"
             },
             "line": {
              "color": "white"
             }
            },
            "header": {
             "fill": {
              "color": "#C8D4E3"
             },
             "line": {
              "color": "white"
             }
            },
            "type": "table"
           }
          ]
         },
         "layout": {
          "annotationdefaults": {
           "arrowcolor": "#2a3f5f",
           "arrowhead": 0,
           "arrowwidth": 1
          },
          "autotypenumbers": "strict",
          "coloraxis": {
           "colorbar": {
            "outlinewidth": 0,
            "ticks": ""
           }
          },
          "colorscale": {
           "diverging": [
            [
             0,
             "#8e0152"
            ],
            [
             0.1,
             "#c51b7d"
            ],
            [
             0.2,
             "#de77ae"
            ],
            [
             0.3,
             "#f1b6da"
            ],
            [
             0.4,
             "#fde0ef"
            ],
            [
             0.5,
             "#f7f7f7"
            ],
            [
             0.6,
             "#e6f5d0"
            ],
            [
             0.7,
             "#b8e186"
            ],
            [
             0.8,
             "#7fbc41"
            ],
            [
             0.9,
             "#4d9221"
            ],
            [
             1,
             "#276419"
            ]
           ],
           "sequential": [
            [
             0,
             "#0d0887"
            ],
            [
             0.1111111111111111,
             "#46039f"
            ],
            [
             0.2222222222222222,
             "#7201a8"
            ],
            [
             0.3333333333333333,
             "#9c179e"
            ],
            [
             0.4444444444444444,
             "#bd3786"
            ],
            [
             0.5555555555555556,
             "#d8576b"
            ],
            [
             0.6666666666666666,
             "#ed7953"
            ],
            [
             0.7777777777777778,
             "#fb9f3a"
            ],
            [
             0.8888888888888888,
             "#fdca26"
            ],
            [
             1,
             "#f0f921"
            ]
           ],
           "sequentialminus": [
            [
             0,
             "#0d0887"
            ],
            [
             0.1111111111111111,
             "#46039f"
            ],
            [
             0.2222222222222222,
             "#7201a8"
            ],
            [
             0.3333333333333333,
             "#9c179e"
            ],
            [
             0.4444444444444444,
             "#bd3786"
            ],
            [
             0.5555555555555556,
             "#d8576b"
            ],
            [
             0.6666666666666666,
             "#ed7953"
            ],
            [
             0.7777777777777778,
             "#fb9f3a"
            ],
            [
             0.8888888888888888,
             "#fdca26"
            ],
            [
             1,
             "#f0f921"
            ]
           ]
          },
          "colorway": [
           "#636efa",
           "#EF553B",
           "#00cc96",
           "#ab63fa",
           "#FFA15A",
           "#19d3f3",
           "#FF6692",
           "#B6E880",
           "#FF97FF",
           "#FECB52"
          ],
          "font": {
           "color": "#2a3f5f"
          },
          "geo": {
           "bgcolor": "white",
           "lakecolor": "white",
           "landcolor": "#E5ECF6",
           "showlakes": true,
           "showland": true,
           "subunitcolor": "white"
          },
          "hoverlabel": {
           "align": "left"
          },
          "hovermode": "closest",
          "mapbox": {
           "style": "light"
          },
          "paper_bgcolor": "white",
          "plot_bgcolor": "#E5ECF6",
          "polar": {
           "angularaxis": {
            "gridcolor": "white",
            "linecolor": "white",
            "ticks": ""
           },
           "bgcolor": "#E5ECF6",
           "radialaxis": {
            "gridcolor": "white",
            "linecolor": "white",
            "ticks": ""
           }
          },
          "scene": {
           "xaxis": {
            "backgroundcolor": "#E5ECF6",
            "gridcolor": "white",
            "gridwidth": 2,
            "linecolor": "white",
            "showbackground": true,
            "ticks": "",
            "zerolinecolor": "white"
           },
           "yaxis": {
            "backgroundcolor": "#E5ECF6",
            "gridcolor": "white",
            "gridwidth": 2,
            "linecolor": "white",
            "showbackground": true,
            "ticks": "",
            "zerolinecolor": "white"
           },
           "zaxis": {
            "backgroundcolor": "#E5ECF6",
            "gridcolor": "white",
            "gridwidth": 2,
            "linecolor": "white",
            "showbackground": true,
            "ticks": "",
            "zerolinecolor": "white"
           }
          },
          "shapedefaults": {
           "line": {
            "color": "#2a3f5f"
           }
          },
          "ternary": {
           "aaxis": {
            "gridcolor": "white",
            "linecolor": "white",
            "ticks": ""
           },
           "baxis": {
            "gridcolor": "white",
            "linecolor": "white",
            "ticks": ""
           },
           "bgcolor": "#E5ECF6",
           "caxis": {
            "gridcolor": "white",
            "linecolor": "white",
            "ticks": ""
           }
          },
          "title": {
           "x": 0.05
          },
          "xaxis": {
           "automargin": true,
           "gridcolor": "white",
           "linecolor": "white",
           "ticks": "",
           "title": {
            "standoff": 15
           },
           "zerolinecolor": "white",
           "zerolinewidth": 2
          },
          "yaxis": {
           "automargin": true,
           "gridcolor": "white",
           "linecolor": "white",
           "ticks": "",
           "title": {
            "standoff": 15
           },
           "zerolinecolor": "white",
           "zerolinewidth": 2
          }
         }
        },
        "title": {
         "text": "Strategy is:\tEst-SD"
        },
        "xaxis": {
         "title": {
          "text": "N(assets)"
         }
        },
        "yaxis": {
         "title": {
          "text": "Sharpe ratio"
         }
        }
       }
      }
     },
     "metadata": {},
     "output_type": "display_data"
    },
    {
     "data": {
      "application/vnd.plotly.v1+json": {
       "config": {
        "plotlyServerURL": "https://plot.ly"
       },
       "data": [
        {
         "boxmean": "sd",
         "name": "3",
         "type": "box",
         "y": [
          0.196574697337223,
          0.3596187302213078,
          0.1513062569597458,
          0.5413855147126942,
          0.5008366059906976,
          0.220169716878769,
          0.4735210168096088,
          0.2806197218935259,
          0.5096809506387969,
          0.3192475565463665,
          0.3271295357459832,
          0.5085373305988934,
          0.1446539403115277,
          0.6228709244994215,
          0.4235695207764048,
          0.2457075033235749,
          0.3907150772444474,
          0.2668605382292122,
          0.2393062216566937,
          0.7203481685661035,
          0.2366680567279638,
          0.3279740449449345,
          0.0846170483842498,
          0.6254931868804363,
          0.5638114046862026,
          0.59190851885613,
          0.4313245608185088,
          0.3446121585679229,
          0.326984686174073,
          0.4874623316518018,
          0.5360524405167976,
          0.5266582460881376,
          0.1507001837174326,
          0.5049965545289848,
          0.2929904982885059,
          0.5187979054017238,
          0.2779952235219552,
          0.3922795576212987,
          0.0597519652999294,
          0.3945793414507388,
          0.2904514595280846,
          0.3223672851380956,
          0.5113002296987738,
          0.1842578751219195,
          0.1817208444550987,
          0.5408666820542768,
          0.3056714937818934,
          0.3377799441315864,
          0.436713326703476,
          0.5694116720471524,
          0.5213383313938227,
          0.3530482831189733,
          0.3162670639213564,
          0.3980724412039183,
          0.3269471100418227,
          0.4004157815730068,
          0.4159920207805011,
          0.4892915387163308,
          0.5101426989377171,
          0.4329686647767617,
          0.4413111154933921,
          0.4495247557111371,
          0.427843272101259,
          0.075999812975525,
          0.3049252562224542,
          0.7937934825880811,
          0.3617996690492013,
          0.443302149692423,
          0.4312602885499478,
          0.3287831458168068,
          0.2407706442258319,
          0.3139099634789185,
          0.4497239979211345,
          0.4638102364943486,
          0.3813319700095588,
          0.1022793228306761,
          0.4025648473310647,
          0.481168596683054,
          0.3215410728762949,
          0.2015417212553922,
          0.3728967767099418,
          0.6751854337665789,
          0.6949901852848215,
          0.473786969628137,
          0.2551580621939722,
          0.6695652450912751,
          0.393211374609182,
          0.3521675759173844,
          0.6031112326946607,
          0.6363562145248203,
          0.3483231131659182,
          0.7197676508430872,
          0.1681596251991486,
          0.3304329239308098,
          0.6027616418459274,
          0.4721246866012345,
          0.3836384836252388,
          0.5518657291493553,
          0.1603762236972928,
          0.5979039631053292,
          0.4519298098195069,
          0.5250419626066131,
          0.655629503666411,
          0.3083886409135188,
          0.4509035109561701,
          0.3633844787905467,
          0.4636479502905724,
          0.2581444599571186,
          0.448258209871581,
          0.6109056847300903,
          0.3693115235197867,
          0.5298499013889147,
          0.6491498142655587,
          0.1067039105663415,
          0.5715989516208927,
          0.1767172294095647,
          0.5068016779575034,
          0.1564746463283847,
          0.6525593746154037,
          0.2384726233025283,
          0.2021762155611731,
          0.2014652280802048,
          0.8810097226080443,
          0.5423814312961776,
          0.2234214801911399,
          0.1547088779217425,
          0.6066910384388756,
          0.1016211856813523,
          0.3999403503682172,
          0.6137274689638944,
          0.5743565454774033,
          0.3009671114613424,
          0.4228265731071141,
          0.442762483403351,
          0.3715616165108026,
          0.3346531698576228,
          0.2790346108800616,
          0.5270865082391565,
          0.5291675112256926,
          0.0424386073604235,
          0.4033278112448652,
          0.2367395079267323,
          0.5212457897306552,
          0.3265254497339029,
          0.2793613425696929,
          0.5947977525925972,
          0.6507492517470617,
          0.4942440542787481,
          0.5873613953272704,
          0.3852641670057554,
          0.3175901303617943,
          0.6291503492540107,
          0.7463963774322893,
          0.1965051187340812,
          0.267092126458023,
          0.2121857368130082,
          0.4977807905300471,
          0.2726696997807593,
          0.7614712844543439,
          0.3237382643067612,
          0.2700502945602535,
          0.4232321364193984,
          0.745500417952622,
          0.2107631394254678,
          0.047513839796833,
          0.2426107704334811,
          0.2555859489486231,
          0.3377538748620631,
          0.3743773273761668,
          0.6703643351894703,
          0.4763335681385889,
          0.8111876757298466,
          0.6669332535068042,
          0.3280975045683426,
          0.2446283229872013,
          0.1833796650544307,
          0.2851163739792076,
          0.5539425290510028,
          0.3814925079829146,
          0.4284537101440548,
          0.1415530218022487,
          0.6269729887484835,
          0.4348391311385501,
          0.4374224144138074,
          0.2352217588252049,
          0.2385890150861311,
          0.4063775144074175,
          0.678427416127036,
          0.2366985429556589,
          0.1750373607395179,
          0.2376406537887413,
          0.4358068591699121,
          0.4263503089988983,
          0.3849789388250939,
          0.4812293568346104,
          0.2486256287900624,
          0.3051752871763387,
          0.3332156681090921,
          0.5780841931989198,
          0.5645115386846487,
          0.3325077664064692,
          0.6487165894747281,
          0.7003025762635191,
          0.1674564488364604,
          0.4316184021696649,
          0.5673248013230633,
          0.5735562778150338,
          0.4309358064578154,
          0.41588018929698,
          0.2610596130189478,
          0.4736219672061118,
          0.1934050549733596,
          0.3196530283704299,
          0.7352078037773877,
          0.4732358711207829,
          0.6116933848447778,
          0.425560202446409,
          0.5470165035338701,
          0.4033961470002672,
          0.4749490041725963,
          0.2113591554380789,
          0.4135944040593829,
          0.4700643393244646,
          0.5127968119409771,
          0.2241716073700613,
          0.5374437970424789,
          0.0688330669882376,
          0.2787726536013052,
          0.4720401101206782,
          0.1659135983882878,
          0.3818939418310748,
          0.8016161753539358,
          0.4673042293502342,
          0.4617816636222574,
          0.1808948760651666,
          0.4424991067738467,
          0.391128400009408,
          0.375760054519733,
          0.2210482408877444,
          0.6971610276951753,
          0.3018077602106728,
          0.6417730380004384,
          0.2576215648004823,
          0.3847515789784362,
          1.163929758979615,
          0.444072307349819,
          0.3289071301100854,
          0.4552682364201209,
          0.1326248498723986,
          0.4951560639641403,
          0.3860271669594066,
          0.2257468826986507,
          0.422649312588931,
          0.1899745777707652,
          0.48645193136222,
          0.7954230881919464,
          0.4447781268605769,
          0.3191477374099282,
          0.4089030203698465,
          0.4340630487412312,
          0.3356698484218884,
          0.3314472381571461,
          0.4350838106154934,
          0.3933645648378878,
          0.5760047361851287,
          0.7313896021837325,
          0.4249354485853364,
          0.778186211172195,
          0.2858554075508057,
          0.5348952756865446,
          0.2515416640710479,
          0.2047197890234889,
          0.1223426356427809,
          0.083624633770882,
          0.2973442814039078,
          0.348090664882479,
          0.2965558401401711,
          0.3994044967993193,
          0.183258560500159,
          0.5499919820608583,
          0.3390291364920971,
          0.5009020314796393,
          0.3391696710741296,
          0.5152263546582345,
          0.3875300549109589,
          0.632408434577237,
          0.391195019819074,
          0.644556704496741,
          0.6425754162042543,
          0.4328769517447836,
          0.2591569406887334,
          0.380295528413871,
          0.6064258969299833,
          0.3777351284610253,
          0.3607009698186559,
          0.3332648599379478,
          0.776394358604955,
          0.4356162556291087,
          0.3121120262460755,
          0.5592166706271572,
          0.0748694803642827,
          0.471252779951704,
          0.4742493241245755,
          0.635747256325299,
          0.5667344566186505,
          0.969088338296736,
          0.1833582876358477,
          0.3715101526421296,
          0.5362908057480652,
          0.38828980172236,
          0.2992618623852296,
          0.6529830794652433,
          0.197538752250723,
          0.3861901111684132,
          0.4097120498692377,
          0.6222192374427296,
          0.781267878466719,
          0.3904955679011141,
          0.6330072479983683,
          0.5947189859382204,
          0.4586001947441222,
          0.3658928341871994,
          0.6114316359832854,
          0.247833544728604,
          0.4062576289624252,
          0.4475166282185501,
          0.0957171782987161,
          0.3753102218762303,
          0.5075631041424391,
          0.2873630007149367,
          0.3022132871143466,
          0.2909618963561252,
          0.1418470580993821,
          0.2107242025465652,
          0.8137737300380669,
          0.6105913100562141,
          0.3398163888074715,
          0.186851902796092,
          0.6118468590043941,
          0.7195995364201617,
          0.6784938506750788,
          0.3748346870982801,
          0.3470873882238703,
          0.3776074339892425,
          0.4380766986869159,
          0.2364328540702162,
          0.0759785942939221,
          0.3591956070008627,
          0.3117790033597081,
          0.2362866406321744,
          0.4920777741887525,
          0.6474749390899243,
          0.4832787564976405,
          0.361603355694254,
          0.3886876124381231,
          0.0983327276550316,
          0.2782084663155403,
          0.2655606894882385,
          0.3074408886759762,
          0.1082950813121561,
          0.607438643162726,
          0.6959440591398945,
          0.0482130980947727,
          0.1023596196594886,
          0.6372651955093119,
          0.2750384616287809,
          0.4072553678752962,
          0.6436314757646383,
          0.4426414619147573,
          0.4452768440130409,
          0.4899649062042736,
          0.4546528402373604,
          0.6773779407205288,
          0.4185572879072031,
          0.2846812786298683,
          0.5236640112993554,
          0.3516104343687158,
          0.2625780887441939,
          0.3096726754455777,
          0.4103214491081444,
          0.2810347321866554,
          0.3992724488384652,
          0.369182435774504,
          0.5572519582416978,
          0.3299386860033673,
          0.6237417604586607,
          0.3608490434275097,
          0.4903849190651618,
          0.1232723679033767,
          0.4674585058606452,
          0.2880042314654354,
          0.4704195918831981,
          0.5321742590444404,
          0.2188738338651777,
          0.4126798110908232,
          0.4450340272216556,
          0.8962744543902531,
          0.8168880455544567,
          0.4424290576576234,
          0.2088956940834304,
          0.368734426696527,
          0.4804732854643127,
          0.3087029082163058,
          0.5080718321752219,
          0.455912500467213,
          0.5991218357498943,
          0.2789670025435383,
          0.3778335416079436,
          0.4798733424794167,
          0.3344078074138459,
          0.3788953924880234,
          0.2160932217792394,
          0.5814718285528218,
          0.317081815195178,
          0.4058359983140887,
          0.6122350058495863,
          0.0658897454382988,
          0.4612248280687271,
          0.3451559259687635,
          0.2581955745926467,
          0.445493206144269,
          0.0812303472919576,
          0.2512402970416163,
          0.5224036769802975,
          0.4514977416076882,
          0.6101025161630516,
          0.293499071538902,
          0.4760589629305186,
          0.7193364241322926,
          0.2612512823723511,
          0.592708762235769,
          0.3713140115905313,
          0.5572533748362529,
          0.4139269923350328,
          0.2746947574165487,
          0.4738964992961732,
          0.1837979329211619,
          0.5858197735038788,
          0.3526278634017226,
          0.2246995335494082,
          0.4135547276904328,
          0.4221120126310924,
          0.3118518667345856,
          0.2647504891361265,
          0.3515129478484948,
          0.489779071956606,
          0.4156779777665913,
          0.4038006290518783,
          0.3980321555133695,
          0.4943385614798578,
          0.3335542578436211,
          0.3479458306949766,
          0.5048981004517217,
          0.6104446486828814,
          0.3668359685672194,
          0.5521247075229547,
          0.4186619800513952,
          0.3932399952469951,
          0.6882099908113254,
          0.2253688012026982,
          0.5782018894924491,
          0.4635027417393708,
          0.5943734141845229,
          0.4079279244730465,
          0.3836522906147065,
          0.4214853317353171,
          0.4081909105781867,
          0.3091017358293937,
          0.3655446002110024,
          0.5518243672295816,
          0.3688542250438676,
          0.6419378650065306,
          0.4595060906627189,
          0.5096850217103529,
          0.4310516605350196,
          0.5793202752121297,
          0.4672122532549986,
          0.4870415739310641,
          0.1602423651860762,
          0.5367132627979886,
          0.7235263594559731,
          0.3459588484172822,
          0.3542261838735913,
          0.6992215285812813,
          0.33797790478253,
          0.5032273049642991,
          0.4652595031734044,
          0.5728821641138814,
          0.4005471781383391,
          0.5680284721869727,
          0.8816012936916534,
          0.4474837214531336,
          0.6116884344410994,
          0.6053906537384268,
          0.4573204629429127,
          0.6004729612837917,
          0.2296277985470239,
          0.5687799160649119,
          0.2139659138066489,
          0.3684161573861259
         ]
        },
        {
         "boxmean": "sd",
         "name": "5",
         "type": "box",
         "y": [
          0.4179750358676426,
          0.5031532758925733,
          0.3464602106966349,
          0.3146630101571065,
          0.2945837626967662,
          0.2674935871087519,
          0.2177888445376762,
          0.4774491407140815,
          0.3411312337501805,
          0.602604445446255,
          0.2757815360868251,
          0.2761146133935694,
          0.3714502956795425,
          0.3068394290949209,
          0.5972236568336429,
          0.6535130097322025,
          0.2204235548849533,
          0.4450876034996894,
          0.0220639827065543,
          0.4829344812697976,
          0.5029361439760911,
          0.1879301667918491,
          -0.0595302420559204,
          0.4446414358586906,
          0.3104810132281395,
          0.2801031302547084,
          0.4063539010252682,
          0.2111650501583553,
          0.431187434955858,
          0.539699086264227,
          0.7177266400790335,
          0.3756007362168546,
          0.1260741629370117,
          0.4310661910616807,
          0.6803395595411456,
          0.2509768655311427,
          0.2228076588546969,
          0.2548349604553838,
          0.2836606037891743,
          0.3761217285376916,
          0.2038436157731772,
          0.6044161629072534,
          0.5397601161400242,
          0.2762238964348894,
          0.4988801762449417,
          0.2634595121955249,
          0.6458970715813896,
          0.2969852589251054,
          0.0567520992152323,
          0.5271110977178202,
          0.44092172510462,
          0.5690928970028526,
          0.253001834288089,
          0.3580309709808456,
          0.3522333862689003,
          0.4460935047092747,
          0.0724693497475922,
          0.3964192050995166,
          0.4517615572877707,
          0.5140833563987538,
          0.5058548145117345,
          0.262337845524177,
          0.5697941900638474,
          0.3187907702135876,
          0.3366831336703088,
          0.6841983094266934,
          0.3250025879262332,
          0.3894642659231002,
          0.2946741171321251,
          0.3795450186164271,
          0.5035825798223347,
          0.1676478079432768,
          0.5528685702349664,
          0.4027322227277641,
          0.5186435884114667,
          0.2990639892842816,
          0.0676974552193719,
          0.3928397338668898,
          0.3138701962663608,
          0.7025682724959998,
          0.2581777997962682,
          0.1681811329941441,
          0.4058949714106747,
          0.4547072600182126,
          0.3525574428425129,
          0.0933244817926368,
          0.285018861186491,
          0.3353049492908614,
          0.3872319088800666,
          0.4632253109257936,
          0.3119929501608124,
          0.2972765194465885,
          0.3468270721556877,
          0.6045092065923056,
          0.6155431361941697,
          0.4893624464682042,
          0.2498227029535143,
          0.3132946243471076,
          0.2488370448518107,
          0.3456433698354004,
          0.438582488877885,
          0.4665982193799283,
          0.2333768102530597,
          0.4528398076023245,
          0.4886958184547157,
          0.0837762893022372,
          0.2480897780721125,
          0.5413511502508942,
          0.3964029015381576,
          0.1453292898882058,
          0.3963887041516967,
          0.686304075909419,
          0.5440319534218461,
          0.1922997525835481,
          0.2945999142494521,
          0.181193863596471,
          0.6738013881669751,
          0.3933974403900984,
          0.5175509321690952,
          0.5086112112809098,
          0.3931925015146828,
          0.5339504120253463,
          0.4193475746482796,
          0.6249864929382558,
          0.268906776465331,
          0.5198927390981932,
          0.423285783032209,
          0.6905587643995283,
          0.1652537106651757,
          0.732336177853046,
          0.501050913035063,
          0.4226606953431052,
          0.2005414847554865,
          0.2335074257160799,
          0.2710103901637793,
          0.5478150293970777,
          0.4278422980453897,
          0.5595651871412994,
          0.266390028823208,
          0.5121075401881351,
          -0.0098308342316877,
          0.4255874129399696,
          0.2165266207483215,
          0.3806052128954754,
          0.6239928900159684,
          0.7902981989994562,
          0.3123113065742843,
          0.4134262250327973,
          0.3806296132028006,
          0.473479134423553,
          0.5896642075775164,
          0.248577523000453,
          0.6761740743436915,
          0.39085698091184,
          0.4982510465515804,
          0.5240955974644486,
          0.2795683729671243,
          0.6168553043190534,
          0.5765627599131985,
          0.3524105909697821,
          0.2278389105552231,
          0.3632989068756427,
          0.223626236460779,
          0.4286429500974317,
          0.391464827318401,
          0.3994481487472524,
          0.357130209597755,
          0.1395316303216714,
          0.2697475963953588,
          0.3270244515951991,
          0.3249985768566529,
          0.471798796358919,
          0.3846987309098134,
          0.3202015026083504,
          0.570634163200697,
          0.3547516087041881,
          0.1689217931265549,
          0.680703968222086,
          0.562136536671112,
          0.5185733562725775,
          0.0167317784637422,
          0.683511258590975,
          0.29149638209896,
          0.5064494715174026,
          0.3056853265111796,
          0.1409203174941476,
          0.4654961742265429,
          0.3999821325981657,
          0.3261948932348847,
          0.5060677456421508,
          0.2480828272589641,
          0.4322969028535545,
          0.4167642099759491,
          0.439785220072038,
          0.0562889724292573,
          0.2423046505986695,
          0.5342952578136394,
          0.3332447540273045,
          0.2680845737799789,
          0.6370391728506544,
          0.5599869839861396,
          0.5772660299937028,
          0.3195404365683054,
          0.3122905301312866,
          0.3169745455005349,
          0.2053496719818715,
          0.5274969998148742,
          0.6613560622658675,
          0.3734773379982026,
          0.4706717287578425,
          0.3059966131228648,
          0.4852636009304079,
          0.3397143339852513,
          0.5616326256123552,
          0.5260207634874409,
          0.3695519518915301,
          0.5026109673563453,
          0.281184647430262,
          0.3985405984880686,
          0.532776081391608,
          0.2157060018642703,
          0.3547030125054769,
          0.3483801176248303,
          0.4523912056740647,
          0.6682635788044108,
          0.4769819028082627,
          0.3357163007874781,
          0.4072526328955914,
          0.2104027464158483,
          0.1496355785354439,
          0.4815937070047603,
          0.7790939554588594,
          0.174916126499762,
          0.3334649645963009,
          0.2982194467586638,
          0.3871057381653857,
          0.3693974198199855,
          0.5066532607844308,
          0.3197198349485231,
          0.2888091609252862,
          0.1869456671013401,
          0.3155390574160734,
          0.3272300487631491,
          0.3619486857717508,
          0.3422023557800251,
          0.2561498967881199,
          0.3409814962503988,
          0.4125202292924861,
          0.5681164565923793,
          0.2288172287307983,
          0.5286127052981143,
          0.2923919483558339,
          0.4299366182862825,
          0.3336900630069875,
          0.2270675718803567,
          0.2772639863382539,
          0.3775610712657603,
          0.4687085967053674,
          0.3735264926873283,
          0.3289685426882989,
          0.583810903421004,
          0.5720019192995165,
          0.2850023333808866,
          0.2738265217471148,
          0.2993454252067748,
          0.4252387016392755,
          0.1895421343690643,
          0.6269660616511766,
          0.4747254965450964,
          0.4584458479308766,
          0.2770893211882155,
          0.6035451517160347,
          0.4090988517008434,
          0.3789004495758828,
          0.342009123180671,
          0.4178362526387696,
          0.2435997256154962,
          0.1326671380469104,
          0.4751287308531557,
          0.1599579417989299,
          0.4805183970228452,
          0.480599930064287,
          0.6248043730621394,
          0.5211841222942244,
          0.3905988172491272,
          0.4409717960151345,
          0.5114917029300556,
          0.5867441311435052,
          0.4222009262291644,
          0.3675118462207304,
          0.7952035266174844,
          0.4673485865904575,
          0.2709150197655385,
          0.650585002383554,
          0.3878277237278308,
          0.5905637202435412,
          0.3089338175644128,
          0.4480188916079806,
          0.3851793803637105,
          0.5102191258852042,
          0.1130236407085646,
          0.4904097593322067,
          0.521049772452577,
          0.1626745927311864,
          0.3747145768829511,
          0.4505120765011245,
          0.5616488131936003,
          0.5581329822306553,
          0.4379001252369409,
          0.2212936475971441,
          0.4886345561272739,
          0.623330320725442,
          0.25870788871271,
          0.3829587657823704,
          -0.0045574946124107,
          0.3369775105967693,
          0.5425408707413911,
          0.4322284433734358,
          0.1766251847821006,
          0.4691929977758999,
          0.2293658382276317,
          0.2220232071851184,
          0.5413502686131365,
          0.277872622949493,
          0.1341761564276531,
          0.1739581167906236,
          0.2777193826013362,
          0.1817778778200714,
          0.1337607853370958,
          0.1764692814350705,
          0.1982581644172012,
          0.1857136811007384,
          0.0928405369706879,
          0.4871937842734178,
          0.7091368638565773,
          0.3267167192285479,
          0.4964204012162947,
          0.520860594652512,
          0.3269603650978766,
          0.5021760865656767,
          0.3539090308898961,
          0.536684361474925,
          0.4183115210712839,
          0.5073069279818324,
          0.6438166800306656,
          0.3950450970446078,
          0.0292945899498669,
          0.001868535277562,
          0.2381363161284586,
          0.6578855075420014,
          0.3442282032203499,
          0.4130169200306136,
          0.075274080758776,
          0.3989753317959656,
          0.1356778495584246,
          0.3707080200239586,
          0.3917371413443649,
          0.4437868392157477,
          0.450313563810176,
          0.3060549584650648,
          0.3571064695165434,
          0.5405436276972866,
          0.1289256086869842,
          0.3536534613251607,
          0.401937616049059,
          0.241189400101649,
          0.5058856636736618,
          0.4902670796768587,
          0.6972248167116201,
          0.7022459779219397,
          0.5315981675229516,
          0.3759631405244427,
          0.2073302968619546,
          0.5617103203133476,
          0.6369272223091581,
          0.2988829245305445,
          0.6056024581069761,
          0.3687435088524905,
          0.3858642695832728,
          0.4615075412863242,
          0.2931769731451756,
          0.2122452958337904,
          0.4565391847437214,
          0.2126347974029037,
          0.3941396047979435,
          0.659398494395369,
          0.5125904593352957,
          0.467668936613697,
          0.2760318070114789,
          0.4821569124669383,
          0.543791771497691,
          0.0508809802866354,
          0.3709415801716641,
          0.3045251439723739,
          0.8535813348984137,
          0.3884744304103143,
          0.2762595392948866,
          0.4819689585884368,
          0.5588980788888549,
          0.6433250204259228,
          0.4989658546702537,
          0.2840261032355821,
          0.2371942249088307,
          0.4453859289590897,
          0.2741298229960506,
          0.7257322285168933,
          0.4982787251637803,
          0.2695564753264026,
          0.2513338675556736,
          0.1944185030175557,
          0.3960090082592538,
          -0.0452358651039457,
          0.4878146419744457,
          0.3584885424238031,
          0.0299540818928633,
          0.1045653834323008,
          0.2469172151079404,
          0.2998487928564338,
          0.4037046505088391,
          0.4480453429186063,
          0.337174843893631,
          0.4022828217506187,
          0.3849062415573019,
          0.5768111321078498,
          0.4274173617237499,
          0.3499442220779531,
          0.1488502692873347,
          0.2193475398646745,
          0.4612057365078127,
          0.3318298765066665,
          0.3409813234603144,
          0.2535526122041341,
          0.1687234641065984,
          0.2684376476708993,
          0.184714284337978,
          0.4303065946542177,
          0.2564859087669791,
          0.2412415063804375,
          0.3481133496748803,
          0.1788067682359855,
          0.5334614059812189,
          0.3487353780002928,
          0.5863020370488009,
          0.4065895748197373,
          0.3695065112353456,
          0.3497084350802608,
          0.2938535948062881,
          0.5007441529980307,
          0.5298542312897626,
          0.594941457773775,
          0.3052154044311211,
          0.3338545933272178,
          0.505986083157788,
          0.8333437048604363,
          0.3191907253485925,
          0.2733047301513979,
          0.4209597599750334,
          0.363007794817155,
          0.4737659444989313,
          0.4681651649190768,
          0.4239009935087413,
          0.3753762768184661,
          0.3400322210226967,
          0.5196078437449098,
          0.4994974442594309,
          0.5712509098659472,
          0.3174805475559775,
          0.3592139744485461,
          0.6790897584840727,
          0.52138951761024,
          0.1608656280304393,
          0.368750656015646,
          0.3537095062044821,
          0.2080311100580923,
          0.4808783874950569,
          0.410982573225515,
          0.4758253762494803,
          0.35327597655768,
          0.3592744615808428,
          0.2507500426558793,
          0.2769217603403326,
          0.3764834993863195,
          0.3253734492030186,
          0.4218609120521605,
          0.5179902751519421,
          0.4843561270043038,
          0.563125660142083,
          0.4232719722388349,
          0.4442725804042408,
          0.2820714884993932,
          0.5993331960343989,
          0.4118845725793107,
          0.535547459373228,
          0.2637796361316267,
          0.6098419117737609,
          0.6785982057621635,
          0.3695523675340829,
          0.329498405275798,
          0.1849040154305483,
          0.556926168917577
         ]
        },
        {
         "boxmean": "sd",
         "name": "10",
         "type": "box",
         "y": [
          0.7110092269488983,
          0.1480160427321436,
          0.2087150828773764,
          0.1769637085033346,
          0.1527515779288654,
          0.3410561260809449,
          0.4880885564378239,
          0.2808392012461798,
          0.15990285172263,
          0.3508758591376283,
          0.3374528053554498,
          0.1852540497328439,
          0.3322762691810993,
          0.3966282102572624,
          0.2555194925750395,
          0.2214577734258763,
          0.2704564303313096,
          0.0851615767547807,
          0.2208841236118086,
          0.1579105045067066,
          0.4732021040506786,
          -0.0871307123529558,
          0.3342823457077147,
          0.3578603670570747,
          0.4096097143480778,
          0.2248363996290019,
          0.3030129686888773,
          0.4456667547816896,
          0.3218299167892698,
          0.364519146615283,
          0.4753043343026785,
          0.1975583704612084,
          0.289106271049118,
          0.2035556812935787,
          0.641271577962984,
          0.2356022062619752,
          0.3190094117953228,
          0.2631104104201608,
          0.4772891854982201,
          0.1725170414595966,
          0.0324659588773014,
          0.4098758577098202,
          0.3118125216855338,
          0.268505005745866,
          0.1309887875468144,
          0.346374189907269,
          0.4613068857813262,
          0.3318709048328979,
          0.2360417940752227,
          0.2258918394903801,
          0.4887624436101415,
          0.3015988729105127,
          0.3845255085035148,
          0.511280273684211,
          0.4575406242553846,
          0.2922999886154127,
          0.1343349305826997,
          0.3390642556026199,
          0.3222160026589359,
          0.5537288107736491,
          0.2248019904377505,
          0.3588329363662724,
          0.5397892530480289,
          -0.2773806417390052,
          0.5667888291500695,
          0.1573664915475873,
          0.2706552769981331,
          0.3669024123571001,
          0.3239357391573547,
          0.3520228066267308,
          0.1878245680352471,
          -0.066538135555428,
          0.3217193141965272,
          0.4705966455361783,
          0.3136009665864382,
          0.368368798389843,
          0.3236103332335123,
          0.168499808521749,
          0.2214975600075552,
          0.5843912535007082,
          0.60730870152035,
          0.096514113192697,
          0.6497406492902115,
          0.3842789230566186,
          0.2210289874409054,
          0.3344680919610104,
          0.1430337525430479,
          0.4594743762154856,
          0.3807499818578725,
          0.2131801380526608,
          0.107871573694238,
          0.4126554210030055,
          0.2619225826488263,
          0.4860833885525228,
          0.2284460272605357,
          0.6220680544011468,
          0.4321375590906329,
          0.0761944599365468,
          0.0819416083779694,
          0.0179153764080165,
          0.4031773410600635,
          0.3319849247017636,
          0.3424193282729491,
          0.4641086641101736,
          0.5170768353330001,
          0.2540044376336168,
          0.3716656810101653,
          0.6991132091379124,
          0.619168817473097,
          -0.0448918098495286,
          0.1767167957808372,
          0.6655963242348503,
          0.4507072130413257,
          0.109642450711022,
          0.1988334629045955,
          0.1997604523142482,
          0.4909521577971859,
          0.4375292564320903,
          0.55264897288612,
          0.2310622207724845,
          0.3259099436665604,
          0.4780602510739771,
          0.2131009523277038,
          0.410206895012996,
          0.006457281754115,
          0.3178023917290285,
          0.3118360289652973,
          0.2233241510056473,
          0.0693540610781513,
          0.580898431175946,
          0.4837065050140819,
          0.4482162070571313,
          0.1915805191870825,
          0.0613677199953503,
          0.5543153756549393,
          0.4218816668402716,
          0.1844325400584997,
          0.2810873783705194,
          0.2525648978291166,
          0.6635077455853307,
          0.2966495417582192,
          0.3141049255066964,
          0.3810650501893466,
          0.4054003378483522,
          0.2888466078021384,
          0.3085765647105276,
          0.0646215316437741,
          0.4726406920418554,
          0.091142663912035,
          0.1325401736659589,
          0.3764855898417427,
          0.2954887069507436,
          0.3562048588222907,
          0.2447845007816976,
          0.4714605131439053,
          0.3617232852511258,
          0.4352942646543253,
          0.5867279414827591,
          0.1666448042205753,
          0.3787885909275064,
          0.1219601277642015,
          0.3883742032952273,
          0.2451246744447419,
          0.2491271324105747,
          0.218582369823071,
          0.1634692508890199,
          0.366464766998674,
          0.1515783386139622,
          0.1282468864491284,
          0.4627653043556934,
          0.2377427921774479,
          0.1062653214441061,
          0.3785389871921897,
          0.1763531808875283,
          0.0946551826834121,
          0.5345446139271989,
          0.2461236982750181,
          0.5336453105896727,
          0.456473283958256,
          0.5582828278487082,
          -0.1729411346011642,
          0.4454988326326731,
          0.1183078445967139,
          0.2344501459500038,
          0.2355938966646778,
          0.3437156067430333,
          0.6558074967701638,
          0.3978400546004955,
          0.1710346595424329,
          0.4088293731777267,
          0.4785198453747232,
          0.6668920329995386,
          0.545374469726575,
          0.3903381341872574,
          0.0148998260805385,
          0.1984733474699481,
          0.4303708594528906,
          0.1497075706080382,
          0.2011884778536118,
          0.3323930512009561,
          0.2270378954294956,
          0.5145538075918832,
          0.2932591275136863,
          0.0965227178843722,
          0.6832922130056329,
          0.3857069340639986,
          0.4269218143524919,
          0.528310006216957,
          0.2190525676278828,
          0.159060331022539,
          0.2132884699054332,
          0.6107030741858833,
          0.2841533162370387,
          0.610662090540557,
          0.422470785707175,
          0.0843961137719211,
          0.517636015744855,
          0.0822765416606982,
          0.5983258609250953,
          0.8721517624314331,
          0.4684562735067564,
          0.3776070736481446,
          0.2000305339150188,
          0.2433914848192963,
          0.646570350256622,
          0.1841542724140934,
          0.2844379060907493,
          0.3020195574660807,
          0.3801041081818106,
          0.1348921676742593,
          0.486463165951414,
          0.3070404715660157,
          0.1632528092674964,
          0.0467461316953202,
          0.2672575148714057,
          0.1523676981750898,
          0.2488396141820142,
          0.4776668269252275,
          0.2003874552879033,
          0.2277568895376475,
          0.5064587915045901,
          0.4479428006624787,
          0.4134635133330376,
          0.7190513908670322,
          0.4112735781817284,
          0.4512510895060967,
          0.4569610195192654,
          -0.0030796350084469,
          0.4035628099075538,
          0.1321055071062428,
          0.1415687603393919,
          0.4158598097374243,
          0.3384221553844762,
          0.1092577419507409,
          0.0225653153448358,
          0.2266846521275244,
          0.3318227619363759,
          0.6917009561660222,
          0.5801595414303333,
          0.1649413874062398,
          0.4206907189395887,
          0.5117082536404719,
          0.1036425294969474,
          0.598528982580396,
          0.2235325598729683,
          0.4147343021364478,
          0.2695381300983715,
          0.2017762060770581,
          0.2352874419393311,
          0.5351008066927959,
          0.3132094194570298,
          0.3792655588320407,
          0.0957498486629283,
          0.3321635965744113,
          0.2709473140400826,
          0.2832022763982698,
          0.341535353067513,
          0.3617060989283182,
          0.6789044223834925,
          0.3731317360120226,
          0.3397340043527604,
          0.241391020387828,
          0.5742313138500096,
          0.1824481261090274,
          0.1806607870255224,
          0.4326497191677065,
          0.2051398395167118,
          0.1284846189857406,
          0.4968305156730097,
          0.243474678136098,
          0.2982598874892611,
          0.1163664562254309,
          0.2157333603895584,
          0.1623748581752772,
          0.1884764177837136,
          0.2905681141942525,
          0.1732713984046673,
          0.2093435927464612,
          0.4786326058682043,
          0.4882268643173873,
          0.5104458151017133,
          0.3720137899231439,
          0.2809355384903364,
          -0.0473338013972375,
          0.5172207103459713,
          0.5173336072259792,
          0.6777154530974667,
          0.279828992451848,
          0.5791287745801643,
          -0.0150494577483852,
          0.5216328578540417,
          0.4616743674640776,
          0.3614164133749337,
          0.2183154626330762,
          0.1428610807587297,
          0.6369355636188639,
          0.0754135844776279,
          0.1966703168996021,
          0.398168075903651,
          0.4055952436122938,
          0.2890059331496981,
          0.1505925273355789,
          0.2055653867630012,
          0.2664777909033712,
          0.4237239177522675,
          0.1620318118237061,
          0.4086072198612702,
          0.2249841296079831,
          0.1738671653849214,
          0.1723252514716028,
          0.1754172747065845,
          0.3040460655388036,
          0.2458991160542435,
          0.3171207458780747,
          0.432190500866131,
          0.3719843284292762,
          0.3091315110617192,
          0.2709664641409702,
          0.258831207936855,
          0.2935724103636177,
          0.4266434411015667,
          0.3079957228259856,
          0.2041831798281138,
          0.1894081578650524,
          0.33648215372923,
          0.5724239867922826,
          0.2859427713522589,
          0.2961432855589909,
          0.7241766248891894,
          0.3748981393380618,
          0.4030290926038034,
          0.5132130592622837,
          0.0360827862244465,
          0.3957491133180685,
          -0.0651186638942387,
          0.5390370162001654,
          0.3401968341116191,
          0.2278779685129593,
          0.4544428699542317,
          0.1968951532367164,
          0.2879472049782355,
          0.18502207218202,
          0.2781524741764352,
          0.3002590505907284,
          0.2981260022474148,
          0.3074949584912829,
          0.2189438042156266,
          0.352287061251029,
          0.1552203201885451,
          0.5112355390663722,
          0.1518152977105071,
          0.3117498848843532,
          0.3007181635979967,
          0.405036294020198,
          0.4485036133117615,
          0.2319867268339642,
          0.7532194150356863,
          0.4261973474235592,
          0.3285242705697473,
          0.3787581438080807,
          0.2137732540461452,
          0.2473071019393295,
          0.3851380958268203,
          0.1616725499338051,
          0.2908211273361596,
          0.4290578712926515,
          0.364422565603992,
          0.275566100320027,
          0.1667933865768459,
          0.247036680632367,
          0.2524935181851808,
          0.3239455220713063,
          0.1824058016866144,
          0.4018816189468341,
          0.7016011098050657,
          0.650477111790821,
          0.3873986526257925,
          0.4855627839270168,
          0.2866754766305716,
          0.3611895155980512,
          0.1483701061265297,
          0.1570012996084211,
          0.4607818640479501,
          0.2967073845878636,
          0.4096680250461326,
          0.6258996740406363,
          0.1846965445216432,
          0.287489537975298,
          0.4635950751065843,
          -0.0178921520550711,
          0.2111251306857437,
          0.4311077450046522,
          0.0601750070110042,
          0.1671723887315332,
          0.2323159932304633,
          0.3431866832833036,
          0.0331086962979701,
          0.3183463471061782,
          0.3040182616064824,
          0.4346334664652209,
          0.0588056932361239,
          0.3626410793290806,
          0.2835907803365196,
          0.4978777022403484,
          0.2460350915116268,
          0.0561762766634117,
          0.1823763460560601,
          0.2674904613196688,
          0.3189402001685498,
          0.1850835878309418,
          0.4356508906721812,
          0.3561974507626335,
          0.4599473739158933,
          0.4738148590382475,
          0.3914975922173205,
          0.3692957216785858,
          0.0223436635427844,
          0.161013845450027,
          0.2126877465240934,
          0.2950730396942251,
          0.3092799740820088,
          0.4817557262143241,
          0.1317209790377509,
          0.5429383453658803,
          0.3312294846212132,
          0.1467892432116517,
          0.3532429441776039,
          0.3358552280437349,
          0.2987518762762377,
          0.5671997691816603,
          0.5214045191132533,
          0.2767861349330482,
          0.2264373587459373,
          0.2371299637450281,
          0.1712396428116287,
          0.4889633237138334,
          0.3368295645521711,
          0.2611015979633081,
          0.2135116464316768,
          0.4143934847113154,
          0.3991364600630732,
          0.2813372486543676,
          0.207906260311378,
          0.4112697216058473,
          0.2742987591204234,
          0.7200119705445119,
          0.1222694781739738,
          0.4675408557978376,
          0.3670133426364683,
          0.3664872095109656,
          0.1445755246445952,
          0.3485262667119573,
          0.4647141971350592,
          0.2524589338297326,
          0.6784118592994941,
          0.2438278475469585,
          0.1242526345615298,
          -0.0021385957971729,
          0.5489502824715653,
          0.3486234731207622,
          0.2690054518347857,
          -0.040891459404245,
          0.0835827779231287,
          0.314444799828328,
          0.5692699886804332,
          0.3956679136148242,
          0.4930360665006246,
          0.3948667001187496,
          0.549307084507228,
          0.4322876050902842,
          0.758242606409066,
          0.595893041566391,
          0.3203971705094501,
          0.361513183012689,
          0.1836350982171309,
          0.4901446643132961,
          0.159059474323954,
          0.2362322173823215,
          0.5555227129771462,
          0.3435229115999095
         ]
        }
       ],
       "layout": {
        "template": {
         "data": {
          "bar": [
           {
            "error_x": {
             "color": "#2a3f5f"
            },
            "error_y": {
             "color": "#2a3f5f"
            },
            "marker": {
             "line": {
              "color": "#E5ECF6",
              "width": 0.5
             },
             "pattern": {
              "fillmode": "overlay",
              "size": 10,
              "solidity": 0.2
             }
            },
            "type": "bar"
           }
          ],
          "barpolar": [
           {
            "marker": {
             "line": {
              "color": "#E5ECF6",
              "width": 0.5
             },
             "pattern": {
              "fillmode": "overlay",
              "size": 10,
              "solidity": 0.2
             }
            },
            "type": "barpolar"
           }
          ],
          "carpet": [
           {
            "aaxis": {
             "endlinecolor": "#2a3f5f",
             "gridcolor": "white",
             "linecolor": "white",
             "minorgridcolor": "white",
             "startlinecolor": "#2a3f5f"
            },
            "baxis": {
             "endlinecolor": "#2a3f5f",
             "gridcolor": "white",
             "linecolor": "white",
             "minorgridcolor": "white",
             "startlinecolor": "#2a3f5f"
            },
            "type": "carpet"
           }
          ],
          "choropleth": [
           {
            "colorbar": {
             "outlinewidth": 0,
             "ticks": ""
            },
            "type": "choropleth"
           }
          ],
          "contour": [
           {
            "colorbar": {
             "outlinewidth": 0,
             "ticks": ""
            },
            "colorscale": [
             [
              0,
              "#0d0887"
             ],
             [
              0.1111111111111111,
              "#46039f"
             ],
             [
              0.2222222222222222,
              "#7201a8"
             ],
             [
              0.3333333333333333,
              "#9c179e"
             ],
             [
              0.4444444444444444,
              "#bd3786"
             ],
             [
              0.5555555555555556,
              "#d8576b"
             ],
             [
              0.6666666666666666,
              "#ed7953"
             ],
             [
              0.7777777777777778,
              "#fb9f3a"
             ],
             [
              0.8888888888888888,
              "#fdca26"
             ],
             [
              1,
              "#f0f921"
             ]
            ],
            "type": "contour"
           }
          ],
          "contourcarpet": [
           {
            "colorbar": {
             "outlinewidth": 0,
             "ticks": ""
            },
            "type": "contourcarpet"
           }
          ],
          "heatmap": [
           {
            "colorbar": {
             "outlinewidth": 0,
             "ticks": ""
            },
            "colorscale": [
             [
              0,
              "#0d0887"
             ],
             [
              0.1111111111111111,
              "#46039f"
             ],
             [
              0.2222222222222222,
              "#7201a8"
             ],
             [
              0.3333333333333333,
              "#9c179e"
             ],
             [
              0.4444444444444444,
              "#bd3786"
             ],
             [
              0.5555555555555556,
              "#d8576b"
             ],
             [
              0.6666666666666666,
              "#ed7953"
             ],
             [
              0.7777777777777778,
              "#fb9f3a"
             ],
             [
              0.8888888888888888,
              "#fdca26"
             ],
             [
              1,
              "#f0f921"
             ]
            ],
            "type": "heatmap"
           }
          ],
          "heatmapgl": [
           {
            "colorbar": {
             "outlinewidth": 0,
             "ticks": ""
            },
            "colorscale": [
             [
              0,
              "#0d0887"
             ],
             [
              0.1111111111111111,
              "#46039f"
             ],
             [
              0.2222222222222222,
              "#7201a8"
             ],
             [
              0.3333333333333333,
              "#9c179e"
             ],
             [
              0.4444444444444444,
              "#bd3786"
             ],
             [
              0.5555555555555556,
              "#d8576b"
             ],
             [
              0.6666666666666666,
              "#ed7953"
             ],
             [
              0.7777777777777778,
              "#fb9f3a"
             ],
             [
              0.8888888888888888,
              "#fdca26"
             ],
             [
              1,
              "#f0f921"
             ]
            ],
            "type": "heatmapgl"
           }
          ],
          "histogram": [
           {
            "marker": {
             "pattern": {
              "fillmode": "overlay",
              "size": 10,
              "solidity": 0.2
             }
            },
            "type": "histogram"
           }
          ],
          "histogram2d": [
           {
            "colorbar": {
             "outlinewidth": 0,
             "ticks": ""
            },
            "colorscale": [
             [
              0,
              "#0d0887"
             ],
             [
              0.1111111111111111,
              "#46039f"
             ],
             [
              0.2222222222222222,
              "#7201a8"
             ],
             [
              0.3333333333333333,
              "#9c179e"
             ],
             [
              0.4444444444444444,
              "#bd3786"
             ],
             [
              0.5555555555555556,
              "#d8576b"
             ],
             [
              0.6666666666666666,
              "#ed7953"
             ],
             [
              0.7777777777777778,
              "#fb9f3a"
             ],
             [
              0.8888888888888888,
              "#fdca26"
             ],
             [
              1,
              "#f0f921"
             ]
            ],
            "type": "histogram2d"
           }
          ],
          "histogram2dcontour": [
           {
            "colorbar": {
             "outlinewidth": 0,
             "ticks": ""
            },
            "colorscale": [
             [
              0,
              "#0d0887"
             ],
             [
              0.1111111111111111,
              "#46039f"
             ],
             [
              0.2222222222222222,
              "#7201a8"
             ],
             [
              0.3333333333333333,
              "#9c179e"
             ],
             [
              0.4444444444444444,
              "#bd3786"
             ],
             [
              0.5555555555555556,
              "#d8576b"
             ],
             [
              0.6666666666666666,
              "#ed7953"
             ],
             [
              0.7777777777777778,
              "#fb9f3a"
             ],
             [
              0.8888888888888888,
              "#fdca26"
             ],
             [
              1,
              "#f0f921"
             ]
            ],
            "type": "histogram2dcontour"
           }
          ],
          "mesh3d": [
           {
            "colorbar": {
             "outlinewidth": 0,
             "ticks": ""
            },
            "type": "mesh3d"
           }
          ],
          "parcoords": [
           {
            "line": {
             "colorbar": {
              "outlinewidth": 0,
              "ticks": ""
             }
            },
            "type": "parcoords"
           }
          ],
          "pie": [
           {
            "automargin": true,
            "type": "pie"
           }
          ],
          "scatter": [
           {
            "fillpattern": {
             "fillmode": "overlay",
             "size": 10,
             "solidity": 0.2
            },
            "type": "scatter"
           }
          ],
          "scatter3d": [
           {
            "line": {
             "colorbar": {
              "outlinewidth": 0,
              "ticks": ""
             }
            },
            "marker": {
             "colorbar": {
              "outlinewidth": 0,
              "ticks": ""
             }
            },
            "type": "scatter3d"
           }
          ],
          "scattercarpet": [
           {
            "marker": {
             "colorbar": {
              "outlinewidth": 0,
              "ticks": ""
             }
            },
            "type": "scattercarpet"
           }
          ],
          "scattergeo": [
           {
            "marker": {
             "colorbar": {
              "outlinewidth": 0,
              "ticks": ""
             }
            },
            "type": "scattergeo"
           }
          ],
          "scattergl": [
           {
            "marker": {
             "colorbar": {
              "outlinewidth": 0,
              "ticks": ""
             }
            },
            "type": "scattergl"
           }
          ],
          "scattermapbox": [
           {
            "marker": {
             "colorbar": {
              "outlinewidth": 0,
              "ticks": ""
             }
            },
            "type": "scattermapbox"
           }
          ],
          "scatterpolar": [
           {
            "marker": {
             "colorbar": {
              "outlinewidth": 0,
              "ticks": ""
             }
            },
            "type": "scatterpolar"
           }
          ],
          "scatterpolargl": [
           {
            "marker": {
             "colorbar": {
              "outlinewidth": 0,
              "ticks": ""
             }
            },
            "type": "scatterpolargl"
           }
          ],
          "scatterternary": [
           {
            "marker": {
             "colorbar": {
              "outlinewidth": 0,
              "ticks": ""
             }
            },
            "type": "scatterternary"
           }
          ],
          "surface": [
           {
            "colorbar": {
             "outlinewidth": 0,
             "ticks": ""
            },
            "colorscale": [
             [
              0,
              "#0d0887"
             ],
             [
              0.1111111111111111,
              "#46039f"
             ],
             [
              0.2222222222222222,
              "#7201a8"
             ],
             [
              0.3333333333333333,
              "#9c179e"
             ],
             [
              0.4444444444444444,
              "#bd3786"
             ],
             [
              0.5555555555555556,
              "#d8576b"
             ],
             [
              0.6666666666666666,
              "#ed7953"
             ],
             [
              0.7777777777777778,
              "#fb9f3a"
             ],
             [
              0.8888888888888888,
              "#fdca26"
             ],
             [
              1,
              "#f0f921"
             ]
            ],
            "type": "surface"
           }
          ],
          "table": [
           {
            "cells": {
             "fill": {
              "color": "#EBF0F8"
             },
             "line": {
              "color": "white"
             }
            },
            "header": {
             "fill": {
              "color": "#C8D4E3"
             },
             "line": {
              "color": "white"
             }
            },
            "type": "table"
           }
          ]
         },
         "layout": {
          "annotationdefaults": {
           "arrowcolor": "#2a3f5f",
           "arrowhead": 0,
           "arrowwidth": 1
          },
          "autotypenumbers": "strict",
          "coloraxis": {
           "colorbar": {
            "outlinewidth": 0,
            "ticks": ""
           }
          },
          "colorscale": {
           "diverging": [
            [
             0,
             "#8e0152"
            ],
            [
             0.1,
             "#c51b7d"
            ],
            [
             0.2,
             "#de77ae"
            ],
            [
             0.3,
             "#f1b6da"
            ],
            [
             0.4,
             "#fde0ef"
            ],
            [
             0.5,
             "#f7f7f7"
            ],
            [
             0.6,
             "#e6f5d0"
            ],
            [
             0.7,
             "#b8e186"
            ],
            [
             0.8,
             "#7fbc41"
            ],
            [
             0.9,
             "#4d9221"
            ],
            [
             1,
             "#276419"
            ]
           ],
           "sequential": [
            [
             0,
             "#0d0887"
            ],
            [
             0.1111111111111111,
             "#46039f"
            ],
            [
             0.2222222222222222,
             "#7201a8"
            ],
            [
             0.3333333333333333,
             "#9c179e"
            ],
            [
             0.4444444444444444,
             "#bd3786"
            ],
            [
             0.5555555555555556,
             "#d8576b"
            ],
            [
             0.6666666666666666,
             "#ed7953"
            ],
            [
             0.7777777777777778,
             "#fb9f3a"
            ],
            [
             0.8888888888888888,
             "#fdca26"
            ],
            [
             1,
             "#f0f921"
            ]
           ],
           "sequentialminus": [
            [
             0,
             "#0d0887"
            ],
            [
             0.1111111111111111,
             "#46039f"
            ],
            [
             0.2222222222222222,
             "#7201a8"
            ],
            [
             0.3333333333333333,
             "#9c179e"
            ],
            [
             0.4444444444444444,
             "#bd3786"
            ],
            [
             0.5555555555555556,
             "#d8576b"
            ],
            [
             0.6666666666666666,
             "#ed7953"
            ],
            [
             0.7777777777777778,
             "#fb9f3a"
            ],
            [
             0.8888888888888888,
             "#fdca26"
            ],
            [
             1,
             "#f0f921"
            ]
           ]
          },
          "colorway": [
           "#636efa",
           "#EF553B",
           "#00cc96",
           "#ab63fa",
           "#FFA15A",
           "#19d3f3",
           "#FF6692",
           "#B6E880",
           "#FF97FF",
           "#FECB52"
          ],
          "font": {
           "color": "#2a3f5f"
          },
          "geo": {
           "bgcolor": "white",
           "lakecolor": "white",
           "landcolor": "#E5ECF6",
           "showlakes": true,
           "showland": true,
           "subunitcolor": "white"
          },
          "hoverlabel": {
           "align": "left"
          },
          "hovermode": "closest",
          "mapbox": {
           "style": "light"
          },
          "paper_bgcolor": "white",
          "plot_bgcolor": "#E5ECF6",
          "polar": {
           "angularaxis": {
            "gridcolor": "white",
            "linecolor": "white",
            "ticks": ""
           },
           "bgcolor": "#E5ECF6",
           "radialaxis": {
            "gridcolor": "white",
            "linecolor": "white",
            "ticks": ""
           }
          },
          "scene": {
           "xaxis": {
            "backgroundcolor": "#E5ECF6",
            "gridcolor": "white",
            "gridwidth": 2,
            "linecolor": "white",
            "showbackground": true,
            "ticks": "",
            "zerolinecolor": "white"
           },
           "yaxis": {
            "backgroundcolor": "#E5ECF6",
            "gridcolor": "white",
            "gridwidth": 2,
            "linecolor": "white",
            "showbackground": true,
            "ticks": "",
            "zerolinecolor": "white"
           },
           "zaxis": {
            "backgroundcolor": "#E5ECF6",
            "gridcolor": "white",
            "gridwidth": 2,
            "linecolor": "white",
            "showbackground": true,
            "ticks": "",
            "zerolinecolor": "white"
           }
          },
          "shapedefaults": {
           "line": {
            "color": "#2a3f5f"
           }
          },
          "ternary": {
           "aaxis": {
            "gridcolor": "white",
            "linecolor": "white",
            "ticks": ""
           },
           "baxis": {
            "gridcolor": "white",
            "linecolor": "white",
            "ticks": ""
           },
           "bgcolor": "#E5ECF6",
           "caxis": {
            "gridcolor": "white",
            "linecolor": "white",
            "ticks": ""
           }
          },
          "title": {
           "x": 0.05
          },
          "xaxis": {
           "automargin": true,
           "gridcolor": "white",
           "linecolor": "white",
           "ticks": "",
           "title": {
            "standoff": 15
           },
           "zerolinecolor": "white",
           "zerolinewidth": 2
          },
          "yaxis": {
           "automargin": true,
           "gridcolor": "white",
           "linecolor": "white",
           "ticks": "",
           "title": {
            "standoff": 15
           },
           "zerolinecolor": "white",
           "zerolinewidth": 2
          }
         }
        },
        "title": {
         "text": "Strategy is:\tEst-None"
        },
        "xaxis": {
         "title": {
          "text": "N(assets)"
         }
        },
        "yaxis": {
         "title": {
          "text": "Sharpe ratio"
         }
        }
       }
      }
     },
     "metadata": {},
     "output_type": "display_data"
    }
   ],
   "source": [
    "for c in ['est_all','est_sd_corr','est_sd','est_none']:\n",
    "    boxplots(sim_results,c)"
   ]
  }
 ],
 "metadata": {
  "kernelspec": {
   "display_name": "Python 3.10.6 64-bit",
   "language": "python",
   "name": "python3"
  },
  "language_info": {
   "codemirror_mode": {
    "name": "ipython",
    "version": 3
   },
   "file_extension": ".py",
   "mimetype": "text/x-python",
   "name": "python",
   "nbconvert_exporter": "python",
   "pygments_lexer": "ipython3",
   "version": "3.10.6"
  },
  "orig_nbformat": 4,
  "vscode": {
   "interpreter": {
    "hash": "ccc24e96417f052bb8e778a20aea1a77290106e9fd9f576a53c5e4f232bbe7b1"
   }
  }
 },
 "nbformat": 4,
 "nbformat_minor": 2
}
