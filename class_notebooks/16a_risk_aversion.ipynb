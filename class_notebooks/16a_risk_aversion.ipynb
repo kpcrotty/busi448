{
 "cells": [
  {
   "attachments": {},
   "cell_type": "markdown",
   "metadata": {},
   "source": [
    "## Eliciting Risk Aversion"
   ]
  },
  {
   "cell_type": "code",
   "execution_count": 1,
   "metadata": {},
   "outputs": [],
   "source": [
    "import numpy as np\n",
    "\n",
    "def raver(a, b):\n",
    "    ma = np.mean(a)\n",
    "    mb = np.mean(b)\n",
    "    va = np.var(a)\n",
    "    vb = np.var(b)\n",
    "    return 2*(mb-ma)/(vb-va)\n"
   ]
  },
  {
   "attachments": {},
   "cell_type": "markdown",
   "metadata": {},
   "source": [
    "### Question #1"
   ]
  },
  {
   "cell_type": "code",
   "execution_count": null,
   "metadata": {},
   "outputs": [],
   "source": [
    "string = \"\"\"Consider two alternatives: earning zero for sure or a coin flip in which you might lose 10% or win x.  \n",
    "            How large must x be before you would take the gamble?  \n",
    "            Enter as a decimal.\\n\n",
    "         \"\"\"\n",
    "\n",
    "x = float(input(string))\n",
    "\n",
    "a = [0, 0]   \n",
    "b = [-0.1, x]\n",
    "if x < 0.1:\n",
    "    print(\"You are a risk lover.  Your risk aversion is undefined.\")\n",
    "else:\n",
    "    print(f\"Your risk aversion is {raver(a,b):.2f}\")"
   ]
  },
  {
   "attachments": {},
   "cell_type": "markdown",
   "metadata": {},
   "source": [
    "### Question #2"
   ]
  },
  {
   "cell_type": "code",
   "execution_count": null,
   "metadata": {},
   "outputs": [],
   "source": [
    "string = \"\"\"What fraction x of your wealth would you pay to eliminate an uncertain coin flip\n",
    "            in which you either gain 10% or lose 10% of your wealth?\n",
    "            Enter your estimate of x as a decimal. \\n\n",
    "         \"\"\"\n",
    "\n",
    "x = float(input(string))\n",
    "\n",
    "a = [-0.1,0.1]\n",
    "b = [-x,-x]\n",
    "if -x > 0.0:\n",
    "    print(\"You are a risk lover.  Your risk aversion is undefined.\")\n",
    "else:\n",
    "    print(f\"Your risk aversion is {raver(a,b):.2f}\")"
   ]
  },
  {
   "attachments": {},
   "cell_type": "markdown",
   "metadata": {},
   "source": [
    "### Question #3"
   ]
  },
  {
   "cell_type": "code",
   "execution_count": null,
   "metadata": {},
   "outputs": [],
   "source": [
    "string = \"\"\"What fraction x of your wealth would you pay to eliminate an uncertain coin flip\n",
    "            in which you either gain 25% or lose 25% of your wealth?\n",
    "            Enter your estimate of x as a decimal. \\n\n",
    "         \"\"\"\n",
    "\n",
    "x = float(input(string))\n",
    "\n",
    "a = [-0.3,0.3]\n",
    "b = [-x,-x]\n",
    "if -x > 0.0:\n",
    "    print(\"You are a risk lover.  Your risk aversion is undefined.\")\n",
    "else:\n",
    "    print(f\"Your risk aversion is {raver(a,b):.2f}\")"
   ]
  }
 ],
 "metadata": {
  "kernelspec": {
   "display_name": "venv",
   "language": "python",
   "name": "python3"
  },
  "language_info": {
   "codemirror_mode": {
    "name": "ipython",
    "version": 3
   },
   "file_extension": ".py",
   "mimetype": "text/x-python",
   "name": "python",
   "nbconvert_exporter": "python",
   "pygments_lexer": "ipython3",
   "version": "3.10.6"
  },
  "orig_nbformat": 4,
  "vscode": {
   "interpreter": {
    "hash": "cc788b38d8cb434c82f45ef9d481d0310e17b79321e4c8cbfbfe90f656a3f023"
   }
  }
 },
 "nbformat": 4,
 "nbformat_minor": 2
}
