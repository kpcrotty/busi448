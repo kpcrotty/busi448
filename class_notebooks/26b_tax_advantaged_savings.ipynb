{
 "cells": [
  {
   "attachments": {},
   "cell_type": "markdown",
   "metadata": {},
   "source": [
    "## Tax-advantaged Savings Vehicles"
   ]
  },
  {
   "cell_type": "code",
   "execution_count": 1,
   "metadata": {},
   "outputs": [],
   "source": [
    "import pandas as pd\n",
    "import numpy as np\n",
    "import numpy_financial as npf\n",
    "import plotly.graph_objects as go\n",
    "import plotly.express as px"
   ]
  },
  {
   "cell_type": "code",
   "execution_count": 2,
   "metadata": {},
   "outputs": [],
   "source": [
    "def post_tax_return(tax_treat, t_oi_0, t_cg_0, t_oi_T, t_cg_T, r, T):\n",
    "    # Enter tax rates and rate of return in decimal notation\n",
    "    # tax_treat_labels: \"No tax advantage\",  \"Nondeductible IRA\", \"Non-Dividend Stock\", \"Roth IRA/529 Plan\", \"Deductible IRA/401(k)/403(b)\"\n",
    "    # tax_treat: ['no_advantage','nondeductible_ira','nondividend_stock', 'roth','401k']\n",
    "    # Assumes taxes are constant from t=0 to t=T-1 and then jump at t=T\n",
    "    # Assumes constant rate of return\n",
    "    if tax_treat == 'no_advantage':\n",
    "        ret = (1+r*(1-t_oi_0))**(T-1)*(1+r*(1-t_oi_T))   \n",
    "    elif tax_treat == 'nondeductible_ira':\n",
    "        ret = (1-t_oi_T)* (1+r)**T  + t_oi_T\n",
    "    elif tax_treat == 'nondividend_stock':\n",
    "        ret = (1-t_cg_T)* (1+r)**T  + t_cg_T  \n",
    "    elif tax_treat == 'roth':\n",
    "        ret = (1+r)**T\n",
    "    elif tax_treat == '401k':\n",
    "        if T == 0:\n",
    "            ret = ((1-t_oi_0)* (1+r)**T) / (1 - t_oi_0)\n",
    "        else:\n",
    "            ret = ((1-t_oi_T)* (1+r)**T) / (1 - t_oi_0)\n",
    "    else:\n",
    "        print('Tax treatment not defined')\n",
    "    return ret"
   ]
  },
  {
   "cell_type": "code",
   "execution_count": 3,
   "metadata": {},
   "outputs": [],
   "source": [
    "# Parameters (falling ordinary rates)\n",
    "T_OI_0 = 0.35\n",
    "T_CG_0 = 0.20\n",
    "T_OI_T = 0.25\n",
    "T_CG_T = 0.20\n",
    "RET = 0.10\n",
    "HORIZON = 30"
   ]
  },
  {
   "cell_type": "code",
   "execution_count": 4,
   "metadata": {},
   "outputs": [
    {
     "name": "stdout",
     "output_type": "stream",
     "text": [
      " 6.68\n"
     ]
    }
   ],
   "source": [
    "# Future value of $1 invested in a taxable account\n",
    "fv = post_tax_return('no_advantage',T_OI_0,T_CG_0,T_OI_T,T_CG_T,RET,HORIZON)\n",
    "print(f'{fv: .2f}')"
   ]
  },
  {
   "cell_type": "code",
   "execution_count": 5,
   "metadata": {},
   "outputs": [
    {
     "name": "stdout",
     "output_type": "stream",
     "text": [
      " 13.34\n"
     ]
    }
   ],
   "source": [
    "# Future value of $1 invested in a non-deductible IRA\n",
    "fv = post_tax_return('nondeductible_ira',T_OI_0,T_CG_0,T_OI_T,T_CG_T,RET,HORIZON)\n",
    "print(f'{fv: .2f}')"
   ]
  },
  {
   "cell_type": "code",
   "execution_count": 6,
   "metadata": {},
   "outputs": [
    {
     "name": "stdout",
     "output_type": "stream",
     "text": [
      " 14.16\n"
     ]
    }
   ],
   "source": [
    "# Future value of $1 invested in non-dividend/interest-paying asset in a taxable account\n",
    "fv = post_tax_return('nondividend_stock',T_OI_0,T_CG_0,T_OI_T,T_CG_T,RET,HORIZON)\n",
    "print(f'{fv: .2f}')"
   ]
  },
  {
   "cell_type": "code",
   "execution_count": 7,
   "metadata": {},
   "outputs": [
    {
     "name": "stdout",
     "output_type": "stream",
     "text": [
      " 17.45\n"
     ]
    }
   ],
   "source": [
    "# Future value of $1 invested in a Roth IRA\n",
    "fv = post_tax_return('roth',T_OI_0,T_CG_0,T_OI_T,T_CG_T,RET,HORIZON)\n",
    "print(f'{fv: .2f}')"
   ]
  },
  {
   "cell_type": "code",
   "execution_count": 8,
   "metadata": {},
   "outputs": [
    {
     "name": "stdout",
     "output_type": "stream",
     "text": [
      " 20.13\n"
     ]
    }
   ],
   "source": [
    "# Future value of $1 invested in a 401k\n",
    "fv = post_tax_return('401k',T_OI_0,T_CG_0,T_OI_T,T_CG_T,RET,HORIZON)\n",
    "print(f'{fv: .2f}')"
   ]
  },
  {
   "cell_type": "code",
   "execution_count": 9,
   "metadata": {},
   "outputs": [
    {
     "data": {
      "text/html": [
       "<div>\n",
       "<style scoped>\n",
       "    .dataframe tbody tr th:only-of-type {\n",
       "        vertical-align: middle;\n",
       "    }\n",
       "\n",
       "    .dataframe tbody tr th {\n",
       "        vertical-align: top;\n",
       "    }\n",
       "\n",
       "    .dataframe thead th {\n",
       "        text-align: right;\n",
       "    }\n",
       "</style>\n",
       "<table border=\"1\" class=\"dataframe\">\n",
       "  <thead>\n",
       "    <tr style=\"text-align: right;\">\n",
       "      <th></th>\n",
       "      <th>no_advantage</th>\n",
       "      <th>nondeductible_ira</th>\n",
       "      <th>nondividend_stock</th>\n",
       "      <th>roth</th>\n",
       "      <th>401k</th>\n",
       "    </tr>\n",
       "  </thead>\n",
       "  <tbody>\n",
       "    <tr>\n",
       "      <th>30</th>\n",
       "      <td>6.676473</td>\n",
       "      <td>13.337052</td>\n",
       "      <td>14.159522</td>\n",
       "      <td>17.449402</td>\n",
       "      <td>20.133926</td>\n",
       "    </tr>\n",
       "  </tbody>\n",
       "</table>\n",
       "</div>"
      ],
      "text/plain": [
       "    no_advantage  nondeductible_ira  nondividend_stock       roth       401k\n",
       "30      6.676473          13.337052          14.159522  17.449402  20.133926"
      ]
     },
     "execution_count": 9,
     "metadata": {},
     "output_type": "execute_result"
    }
   ],
   "source": [
    "# Create dataframe with accumulations each year\n",
    "cols = ['no_advantage','nondeductible_ira','nondividend_stock','roth','401k']\n",
    "df = pd.DataFrame(dtype=float,columns=cols,index=np.arange(HORIZON+1))\n",
    "for t in np.arange(HORIZON+1):\n",
    "    for c in cols:\n",
    "        df.loc[t,c] = post_tax_return(c,T_OI_0,T_CG_0,T_OI_T,T_CG_T,RET,t)\n",
    "df.tail(1)"
   ]
  },
  {
   "cell_type": "code",
   "execution_count": 10,
   "metadata": {},
   "outputs": [
    {
     "data": {
      "application/vnd.plotly.v1+json": {
       "config": {
        "plotlyServerURL": "https://plot.ly"
       },
       "data": [
        {
         "customdata": [
          [
           "no_advantage"
          ],
          [
           "no_advantage"
          ],
          [
           "no_advantage"
          ],
          [
           "no_advantage"
          ],
          [
           "no_advantage"
          ],
          [
           "no_advantage"
          ],
          [
           "no_advantage"
          ],
          [
           "no_advantage"
          ],
          [
           "no_advantage"
          ],
          [
           "no_advantage"
          ],
          [
           "no_advantage"
          ],
          [
           "no_advantage"
          ],
          [
           "no_advantage"
          ],
          [
           "no_advantage"
          ],
          [
           "no_advantage"
          ],
          [
           "no_advantage"
          ],
          [
           "no_advantage"
          ],
          [
           "no_advantage"
          ],
          [
           "no_advantage"
          ],
          [
           "no_advantage"
          ],
          [
           "no_advantage"
          ],
          [
           "no_advantage"
          ],
          [
           "no_advantage"
          ],
          [
           "no_advantage"
          ],
          [
           "no_advantage"
          ],
          [
           "no_advantage"
          ],
          [
           "no_advantage"
          ],
          [
           "no_advantage"
          ],
          [
           "no_advantage"
          ],
          [
           "no_advantage"
          ],
          [
           "no_advantage"
          ]
         ],
         "hovertemplate": "%{customdata}<br>$%{y:,.2f}<extra></extra>",
         "legendgroup": "no_advantage",
         "line": {
          "color": "#636efa",
          "dash": "solid"
         },
         "marker": {
          "symbol": "circle"
         },
         "mode": "lines",
         "name": "no_advantage",
         "orientation": "v",
         "showlegend": true,
         "type": "scatter",
         "x": [
          0,
          1,
          2,
          3,
          4,
          5,
          6,
          7,
          8,
          9,
          10,
          11,
          12,
          13,
          14,
          15,
          16,
          17,
          18,
          19,
          20,
          21,
          22,
          23,
          24,
          25,
          26,
          27,
          28,
          29,
          30
         ],
         "xaxis": "x",
         "y": [
          1.0093896713615023,
          1.075,
          1.1448749999999999,
          1.2192918749999997,
          1.298545846875,
          1.3829513269218747,
          1.4728431631717964,
          1.568577968777963,
          1.6705355367485306,
          1.779120346637185,
          1.894763169168602,
          2.017922775164561,
          2.149087755550257,
          2.288778459661024,
          2.437549059538991,
          2.595989748409025,
          2.764729082055611,
          2.9444364723892256,
          3.1358248430945252,
          3.339653457895669,
          3.5567309326588874,
          3.7879184432817152,
          4.034133142095026,
          4.296351796331203,
          4.575614663092731,
          4.873029616193758,
          5.189776541246352,
          5.527112016427364,
          5.886374297495143,
          6.268988626832328,
          6.676472887576428
         ],
         "yaxis": "y"
        },
        {
         "customdata": [
          [
           "nondeductible_ira"
          ],
          [
           "nondeductible_ira"
          ],
          [
           "nondeductible_ira"
          ],
          [
           "nondeductible_ira"
          ],
          [
           "nondeductible_ira"
          ],
          [
           "nondeductible_ira"
          ],
          [
           "nondeductible_ira"
          ],
          [
           "nondeductible_ira"
          ],
          [
           "nondeductible_ira"
          ],
          [
           "nondeductible_ira"
          ],
          [
           "nondeductible_ira"
          ],
          [
           "nondeductible_ira"
          ],
          [
           "nondeductible_ira"
          ],
          [
           "nondeductible_ira"
          ],
          [
           "nondeductible_ira"
          ],
          [
           "nondeductible_ira"
          ],
          [
           "nondeductible_ira"
          ],
          [
           "nondeductible_ira"
          ],
          [
           "nondeductible_ira"
          ],
          [
           "nondeductible_ira"
          ],
          [
           "nondeductible_ira"
          ],
          [
           "nondeductible_ira"
          ],
          [
           "nondeductible_ira"
          ],
          [
           "nondeductible_ira"
          ],
          [
           "nondeductible_ira"
          ],
          [
           "nondeductible_ira"
          ],
          [
           "nondeductible_ira"
          ],
          [
           "nondeductible_ira"
          ],
          [
           "nondeductible_ira"
          ],
          [
           "nondeductible_ira"
          ],
          [
           "nondeductible_ira"
          ]
         ],
         "hovertemplate": "%{customdata}<br>$%{y:,.2f}<extra></extra>",
         "legendgroup": "nondeductible_ira",
         "line": {
          "color": "#EF553B",
          "dash": "solid"
         },
         "marker": {
          "symbol": "circle"
         },
         "mode": "lines",
         "name": "nondeductible_ira",
         "orientation": "v",
         "showlegend": true,
         "type": "scatter",
         "x": [
          0,
          1,
          2,
          3,
          4,
          5,
          6,
          7,
          8,
          9,
          10,
          11,
          12,
          13,
          14,
          15,
          16,
          17,
          18,
          19,
          20,
          21,
          22,
          23,
          24,
          25,
          26,
          27,
          28,
          29,
          30
         ],
         "xaxis": "x",
         "y": [
          1,
          1.0750000000000002,
          1.1575000000000002,
          1.2482500000000003,
          1.3480750000000004,
          1.4578825000000004,
          1.5786707500000006,
          1.7115378250000008,
          1.8576916075000012,
          2.0184607682500015,
          2.1953068450750015,
          2.389837529582502,
          2.6038212825407525,
          2.839203410794828,
          3.0981237518743105,
          3.3829361270617424,
          3.6962297397679165,
          4.040852713744709,
          4.41993798511918,
          4.836931783631098,
          5.295624961994208,
          5.80018745819363,
          6.355206204012993,
          6.965726824414293,
          7.637299506855722,
          8.376029457541296,
          9.188632403295426,
          10.08249564362497,
          11.065745207987467,
          12.147319728786215,
          13.337051701664837
         ],
         "yaxis": "y"
        },
        {
         "customdata": [
          [
           "nondividend_stock"
          ],
          [
           "nondividend_stock"
          ],
          [
           "nondividend_stock"
          ],
          [
           "nondividend_stock"
          ],
          [
           "nondividend_stock"
          ],
          [
           "nondividend_stock"
          ],
          [
           "nondividend_stock"
          ],
          [
           "nondividend_stock"
          ],
          [
           "nondividend_stock"
          ],
          [
           "nondividend_stock"
          ],
          [
           "nondividend_stock"
          ],
          [
           "nondividend_stock"
          ],
          [
           "nondividend_stock"
          ],
          [
           "nondividend_stock"
          ],
          [
           "nondividend_stock"
          ],
          [
           "nondividend_stock"
          ],
          [
           "nondividend_stock"
          ],
          [
           "nondividend_stock"
          ],
          [
           "nondividend_stock"
          ],
          [
           "nondividend_stock"
          ],
          [
           "nondividend_stock"
          ],
          [
           "nondividend_stock"
          ],
          [
           "nondividend_stock"
          ],
          [
           "nondividend_stock"
          ],
          [
           "nondividend_stock"
          ],
          [
           "nondividend_stock"
          ],
          [
           "nondividend_stock"
          ],
          [
           "nondividend_stock"
          ],
          [
           "nondividend_stock"
          ],
          [
           "nondividend_stock"
          ],
          [
           "nondividend_stock"
          ]
         ],
         "hovertemplate": "%{customdata}<br>$%{y:,.2f}<extra></extra>",
         "legendgroup": "nondividend_stock",
         "line": {
          "color": "#00cc96",
          "dash": "solid"
         },
         "marker": {
          "symbol": "circle"
         },
         "mode": "lines",
         "name": "nondividend_stock",
         "orientation": "v",
         "showlegend": true,
         "type": "scatter",
         "x": [
          0,
          1,
          2,
          3,
          4,
          5,
          6,
          7,
          8,
          9,
          10,
          11,
          12,
          13,
          14,
          15,
          16,
          17,
          18,
          19,
          20,
          21,
          22,
          23,
          24,
          25,
          26,
          27,
          28,
          29,
          30
         ],
         "xaxis": "x",
         "y": [
          1,
          1.08,
          1.1680000000000001,
          1.2648000000000004,
          1.3712800000000003,
          1.4884080000000004,
          1.6172488000000007,
          1.758973680000001,
          1.9148710480000013,
          2.0863581528000017,
          2.274993968080002,
          2.4824933648880023,
          2.7107427013768026,
          2.9618169715144833,
          3.2379986686659317,
          3.5417985355325254,
          3.8759783890857777,
          4.243576227994357,
          4.647933850793792,
          5.092727235873172,
          5.581999959460489,
          6.120199955406538,
          6.712219950947193,
          7.363441946041913,
          8.079786140646103,
          8.867764754710715,
          9.734541230181787,
          10.687995353199968,
          11.736794888519965,
          12.890474377371962,
          14.159521815109159
         ],
         "yaxis": "y"
        },
        {
         "customdata": [
          [
           "roth"
          ],
          [
           "roth"
          ],
          [
           "roth"
          ],
          [
           "roth"
          ],
          [
           "roth"
          ],
          [
           "roth"
          ],
          [
           "roth"
          ],
          [
           "roth"
          ],
          [
           "roth"
          ],
          [
           "roth"
          ],
          [
           "roth"
          ],
          [
           "roth"
          ],
          [
           "roth"
          ],
          [
           "roth"
          ],
          [
           "roth"
          ],
          [
           "roth"
          ],
          [
           "roth"
          ],
          [
           "roth"
          ],
          [
           "roth"
          ],
          [
           "roth"
          ],
          [
           "roth"
          ],
          [
           "roth"
          ],
          [
           "roth"
          ],
          [
           "roth"
          ],
          [
           "roth"
          ],
          [
           "roth"
          ],
          [
           "roth"
          ],
          [
           "roth"
          ],
          [
           "roth"
          ],
          [
           "roth"
          ],
          [
           "roth"
          ]
         ],
         "hovertemplate": "%{customdata}<br>$%{y:,.2f}<extra></extra>",
         "legendgroup": "roth",
         "line": {
          "color": "#ab63fa",
          "dash": "solid"
         },
         "marker": {
          "symbol": "circle"
         },
         "mode": "lines",
         "name": "roth",
         "orientation": "v",
         "showlegend": true,
         "type": "scatter",
         "x": [
          0,
          1,
          2,
          3,
          4,
          5,
          6,
          7,
          8,
          9,
          10,
          11,
          12,
          13,
          14,
          15,
          16,
          17,
          18,
          19,
          20,
          21,
          22,
          23,
          24,
          25,
          26,
          27,
          28,
          29,
          30
         ],
         "xaxis": "x",
         "y": [
          1,
          1.1,
          1.2100000000000002,
          1.3310000000000004,
          1.4641000000000004,
          1.6105100000000006,
          1.7715610000000008,
          1.9487171000000012,
          2.1435888100000016,
          2.357947691000002,
          2.5937424601000023,
          2.8531167061100025,
          3.138428376721003,
          3.452271214393104,
          3.7974983358324144,
          4.177248169415656,
          4.594972986357222,
          5.054470284992945,
          5.55991731349224,
          6.115909044841464,
          6.727499949325611,
          7.400249944258173,
          8.14027493868399,
          8.95430243255239,
          9.84973267580763,
          10.834705943388395,
          11.918176537727234,
          13.10999419149996,
          14.420993610649957,
          15.863092971714952,
          17.44940226888645
         ],
         "yaxis": "y"
        },
        {
         "customdata": [
          [
           "401k"
          ],
          [
           "401k"
          ],
          [
           "401k"
          ],
          [
           "401k"
          ],
          [
           "401k"
          ],
          [
           "401k"
          ],
          [
           "401k"
          ],
          [
           "401k"
          ],
          [
           "401k"
          ],
          [
           "401k"
          ],
          [
           "401k"
          ],
          [
           "401k"
          ],
          [
           "401k"
          ],
          [
           "401k"
          ],
          [
           "401k"
          ],
          [
           "401k"
          ],
          [
           "401k"
          ],
          [
           "401k"
          ],
          [
           "401k"
          ],
          [
           "401k"
          ],
          [
           "401k"
          ],
          [
           "401k"
          ],
          [
           "401k"
          ],
          [
           "401k"
          ],
          [
           "401k"
          ],
          [
           "401k"
          ],
          [
           "401k"
          ],
          [
           "401k"
          ],
          [
           "401k"
          ],
          [
           "401k"
          ],
          [
           "401k"
          ]
         ],
         "hovertemplate": "%{customdata}<br>$%{y:,.2f}<extra></extra>",
         "legendgroup": "401k",
         "line": {
          "color": "#FFA15A",
          "dash": "solid"
         },
         "marker": {
          "symbol": "circle"
         },
         "mode": "lines",
         "name": "401k",
         "orientation": "v",
         "showlegend": true,
         "type": "scatter",
         "x": [
          0,
          1,
          2,
          3,
          4,
          5,
          6,
          7,
          8,
          9,
          10,
          11,
          12,
          13,
          14,
          15,
          16,
          17,
          18,
          19,
          20,
          21,
          22,
          23,
          24,
          25,
          26,
          27,
          28,
          29,
          30
         ],
         "xaxis": "x",
         "y": [
          1,
          1.2692307692307694,
          1.3961538461538463,
          1.5357692307692312,
          1.6893461538461543,
          1.85828076923077,
          2.044108846153847,
          2.248519730769232,
          2.473371703846156,
          2.7207088742307715,
          2.9927797616538485,
          3.2920577378192335,
          3.621263511601158,
          3.9833898627612734,
          4.381728849037401,
          4.819901733941142,
          5.301891907335256,
          5.832081098068783,
          6.415289207875661,
          7.0568181286632266,
          7.76249994152955,
          8.538749935682507,
          9.392624929250758,
          10.331887422175836,
          11.365076164393418,
          12.501583780832764,
          13.75174215891604,
          15.126916374807646,
          16.63960801228841,
          18.303568813517252,
          20.133925694868978
         ],
         "yaxis": "y"
        }
       ],
       "layout": {
        "hovermode": "x unified",
        "legend": {
         "title": {
          "text": "Vehicle"
         },
         "tracegroupgap": 0,
         "x": 0.01,
         "xanchor": "left",
         "y": 0.99,
         "yanchor": "top"
        },
        "margin": {
         "t": 60
        },
        "template": {
         "data": {
          "bar": [
           {
            "error_x": {
             "color": "#2a3f5f"
            },
            "error_y": {
             "color": "#2a3f5f"
            },
            "marker": {
             "line": {
              "color": "#E5ECF6",
              "width": 0.5
             },
             "pattern": {
              "fillmode": "overlay",
              "size": 10,
              "solidity": 0.2
             }
            },
            "type": "bar"
           }
          ],
          "barpolar": [
           {
            "marker": {
             "line": {
              "color": "#E5ECF6",
              "width": 0.5
             },
             "pattern": {
              "fillmode": "overlay",
              "size": 10,
              "solidity": 0.2
             }
            },
            "type": "barpolar"
           }
          ],
          "carpet": [
           {
            "aaxis": {
             "endlinecolor": "#2a3f5f",
             "gridcolor": "white",
             "linecolor": "white",
             "minorgridcolor": "white",
             "startlinecolor": "#2a3f5f"
            },
            "baxis": {
             "endlinecolor": "#2a3f5f",
             "gridcolor": "white",
             "linecolor": "white",
             "minorgridcolor": "white",
             "startlinecolor": "#2a3f5f"
            },
            "type": "carpet"
           }
          ],
          "choropleth": [
           {
            "colorbar": {
             "outlinewidth": 0,
             "ticks": ""
            },
            "type": "choropleth"
           }
          ],
          "contour": [
           {
            "colorbar": {
             "outlinewidth": 0,
             "ticks": ""
            },
            "colorscale": [
             [
              0,
              "#0d0887"
             ],
             [
              0.1111111111111111,
              "#46039f"
             ],
             [
              0.2222222222222222,
              "#7201a8"
             ],
             [
              0.3333333333333333,
              "#9c179e"
             ],
             [
              0.4444444444444444,
              "#bd3786"
             ],
             [
              0.5555555555555556,
              "#d8576b"
             ],
             [
              0.6666666666666666,
              "#ed7953"
             ],
             [
              0.7777777777777778,
              "#fb9f3a"
             ],
             [
              0.8888888888888888,
              "#fdca26"
             ],
             [
              1,
              "#f0f921"
             ]
            ],
            "type": "contour"
           }
          ],
          "contourcarpet": [
           {
            "colorbar": {
             "outlinewidth": 0,
             "ticks": ""
            },
            "type": "contourcarpet"
           }
          ],
          "heatmap": [
           {
            "colorbar": {
             "outlinewidth": 0,
             "ticks": ""
            },
            "colorscale": [
             [
              0,
              "#0d0887"
             ],
             [
              0.1111111111111111,
              "#46039f"
             ],
             [
              0.2222222222222222,
              "#7201a8"
             ],
             [
              0.3333333333333333,
              "#9c179e"
             ],
             [
              0.4444444444444444,
              "#bd3786"
             ],
             [
              0.5555555555555556,
              "#d8576b"
             ],
             [
              0.6666666666666666,
              "#ed7953"
             ],
             [
              0.7777777777777778,
              "#fb9f3a"
             ],
             [
              0.8888888888888888,
              "#fdca26"
             ],
             [
              1,
              "#f0f921"
             ]
            ],
            "type": "heatmap"
           }
          ],
          "heatmapgl": [
           {
            "colorbar": {
             "outlinewidth": 0,
             "ticks": ""
            },
            "colorscale": [
             [
              0,
              "#0d0887"
             ],
             [
              0.1111111111111111,
              "#46039f"
             ],
             [
              0.2222222222222222,
              "#7201a8"
             ],
             [
              0.3333333333333333,
              "#9c179e"
             ],
             [
              0.4444444444444444,
              "#bd3786"
             ],
             [
              0.5555555555555556,
              "#d8576b"
             ],
             [
              0.6666666666666666,
              "#ed7953"
             ],
             [
              0.7777777777777778,
              "#fb9f3a"
             ],
             [
              0.8888888888888888,
              "#fdca26"
             ],
             [
              1,
              "#f0f921"
             ]
            ],
            "type": "heatmapgl"
           }
          ],
          "histogram": [
           {
            "marker": {
             "pattern": {
              "fillmode": "overlay",
              "size": 10,
              "solidity": 0.2
             }
            },
            "type": "histogram"
           }
          ],
          "histogram2d": [
           {
            "colorbar": {
             "outlinewidth": 0,
             "ticks": ""
            },
            "colorscale": [
             [
              0,
              "#0d0887"
             ],
             [
              0.1111111111111111,
              "#46039f"
             ],
             [
              0.2222222222222222,
              "#7201a8"
             ],
             [
              0.3333333333333333,
              "#9c179e"
             ],
             [
              0.4444444444444444,
              "#bd3786"
             ],
             [
              0.5555555555555556,
              "#d8576b"
             ],
             [
              0.6666666666666666,
              "#ed7953"
             ],
             [
              0.7777777777777778,
              "#fb9f3a"
             ],
             [
              0.8888888888888888,
              "#fdca26"
             ],
             [
              1,
              "#f0f921"
             ]
            ],
            "type": "histogram2d"
           }
          ],
          "histogram2dcontour": [
           {
            "colorbar": {
             "outlinewidth": 0,
             "ticks": ""
            },
            "colorscale": [
             [
              0,
              "#0d0887"
             ],
             [
              0.1111111111111111,
              "#46039f"
             ],
             [
              0.2222222222222222,
              "#7201a8"
             ],
             [
              0.3333333333333333,
              "#9c179e"
             ],
             [
              0.4444444444444444,
              "#bd3786"
             ],
             [
              0.5555555555555556,
              "#d8576b"
             ],
             [
              0.6666666666666666,
              "#ed7953"
             ],
             [
              0.7777777777777778,
              "#fb9f3a"
             ],
             [
              0.8888888888888888,
              "#fdca26"
             ],
             [
              1,
              "#f0f921"
             ]
            ],
            "type": "histogram2dcontour"
           }
          ],
          "mesh3d": [
           {
            "colorbar": {
             "outlinewidth": 0,
             "ticks": ""
            },
            "type": "mesh3d"
           }
          ],
          "parcoords": [
           {
            "line": {
             "colorbar": {
              "outlinewidth": 0,
              "ticks": ""
             }
            },
            "type": "parcoords"
           }
          ],
          "pie": [
           {
            "automargin": true,
            "type": "pie"
           }
          ],
          "scatter": [
           {
            "fillpattern": {
             "fillmode": "overlay",
             "size": 10,
             "solidity": 0.2
            },
            "type": "scatter"
           }
          ],
          "scatter3d": [
           {
            "line": {
             "colorbar": {
              "outlinewidth": 0,
              "ticks": ""
             }
            },
            "marker": {
             "colorbar": {
              "outlinewidth": 0,
              "ticks": ""
             }
            },
            "type": "scatter3d"
           }
          ],
          "scattercarpet": [
           {
            "marker": {
             "colorbar": {
              "outlinewidth": 0,
              "ticks": ""
             }
            },
            "type": "scattercarpet"
           }
          ],
          "scattergeo": [
           {
            "marker": {
             "colorbar": {
              "outlinewidth": 0,
              "ticks": ""
             }
            },
            "type": "scattergeo"
           }
          ],
          "scattergl": [
           {
            "marker": {
             "colorbar": {
              "outlinewidth": 0,
              "ticks": ""
             }
            },
            "type": "scattergl"
           }
          ],
          "scattermapbox": [
           {
            "marker": {
             "colorbar": {
              "outlinewidth": 0,
              "ticks": ""
             }
            },
            "type": "scattermapbox"
           }
          ],
          "scatterpolar": [
           {
            "marker": {
             "colorbar": {
              "outlinewidth": 0,
              "ticks": ""
             }
            },
            "type": "scatterpolar"
           }
          ],
          "scatterpolargl": [
           {
            "marker": {
             "colorbar": {
              "outlinewidth": 0,
              "ticks": ""
             }
            },
            "type": "scatterpolargl"
           }
          ],
          "scatterternary": [
           {
            "marker": {
             "colorbar": {
              "outlinewidth": 0,
              "ticks": ""
             }
            },
            "type": "scatterternary"
           }
          ],
          "surface": [
           {
            "colorbar": {
             "outlinewidth": 0,
             "ticks": ""
            },
            "colorscale": [
             [
              0,
              "#0d0887"
             ],
             [
              0.1111111111111111,
              "#46039f"
             ],
             [
              0.2222222222222222,
              "#7201a8"
             ],
             [
              0.3333333333333333,
              "#9c179e"
             ],
             [
              0.4444444444444444,
              "#bd3786"
             ],
             [
              0.5555555555555556,
              "#d8576b"
             ],
             [
              0.6666666666666666,
              "#ed7953"
             ],
             [
              0.7777777777777778,
              "#fb9f3a"
             ],
             [
              0.8888888888888888,
              "#fdca26"
             ],
             [
              1,
              "#f0f921"
             ]
            ],
            "type": "surface"
           }
          ],
          "table": [
           {
            "cells": {
             "fill": {
              "color": "#EBF0F8"
             },
             "line": {
              "color": "white"
             }
            },
            "header": {
             "fill": {
              "color": "#C8D4E3"
             },
             "line": {
              "color": "white"
             }
            },
            "type": "table"
           }
          ]
         },
         "layout": {
          "annotationdefaults": {
           "arrowcolor": "#2a3f5f",
           "arrowhead": 0,
           "arrowwidth": 1
          },
          "autotypenumbers": "strict",
          "coloraxis": {
           "colorbar": {
            "outlinewidth": 0,
            "ticks": ""
           }
          },
          "colorscale": {
           "diverging": [
            [
             0,
             "#8e0152"
            ],
            [
             0.1,
             "#c51b7d"
            ],
            [
             0.2,
             "#de77ae"
            ],
            [
             0.3,
             "#f1b6da"
            ],
            [
             0.4,
             "#fde0ef"
            ],
            [
             0.5,
             "#f7f7f7"
            ],
            [
             0.6,
             "#e6f5d0"
            ],
            [
             0.7,
             "#b8e186"
            ],
            [
             0.8,
             "#7fbc41"
            ],
            [
             0.9,
             "#4d9221"
            ],
            [
             1,
             "#276419"
            ]
           ],
           "sequential": [
            [
             0,
             "#0d0887"
            ],
            [
             0.1111111111111111,
             "#46039f"
            ],
            [
             0.2222222222222222,
             "#7201a8"
            ],
            [
             0.3333333333333333,
             "#9c179e"
            ],
            [
             0.4444444444444444,
             "#bd3786"
            ],
            [
             0.5555555555555556,
             "#d8576b"
            ],
            [
             0.6666666666666666,
             "#ed7953"
            ],
            [
             0.7777777777777778,
             "#fb9f3a"
            ],
            [
             0.8888888888888888,
             "#fdca26"
            ],
            [
             1,
             "#f0f921"
            ]
           ],
           "sequentialminus": [
            [
             0,
             "#0d0887"
            ],
            [
             0.1111111111111111,
             "#46039f"
            ],
            [
             0.2222222222222222,
             "#7201a8"
            ],
            [
             0.3333333333333333,
             "#9c179e"
            ],
            [
             0.4444444444444444,
             "#bd3786"
            ],
            [
             0.5555555555555556,
             "#d8576b"
            ],
            [
             0.6666666666666666,
             "#ed7953"
            ],
            [
             0.7777777777777778,
             "#fb9f3a"
            ],
            [
             0.8888888888888888,
             "#fdca26"
            ],
            [
             1,
             "#f0f921"
            ]
           ]
          },
          "colorway": [
           "#636efa",
           "#EF553B",
           "#00cc96",
           "#ab63fa",
           "#FFA15A",
           "#19d3f3",
           "#FF6692",
           "#B6E880",
           "#FF97FF",
           "#FECB52"
          ],
          "font": {
           "color": "#2a3f5f"
          },
          "geo": {
           "bgcolor": "white",
           "lakecolor": "white",
           "landcolor": "#E5ECF6",
           "showlakes": true,
           "showland": true,
           "subunitcolor": "white"
          },
          "hoverlabel": {
           "align": "left"
          },
          "hovermode": "closest",
          "mapbox": {
           "style": "light"
          },
          "paper_bgcolor": "white",
          "plot_bgcolor": "#E5ECF6",
          "polar": {
           "angularaxis": {
            "gridcolor": "white",
            "linecolor": "white",
            "ticks": ""
           },
           "bgcolor": "#E5ECF6",
           "radialaxis": {
            "gridcolor": "white",
            "linecolor": "white",
            "ticks": ""
           }
          },
          "scene": {
           "xaxis": {
            "backgroundcolor": "#E5ECF6",
            "gridcolor": "white",
            "gridwidth": 2,
            "linecolor": "white",
            "showbackground": true,
            "ticks": "",
            "zerolinecolor": "white"
           },
           "yaxis": {
            "backgroundcolor": "#E5ECF6",
            "gridcolor": "white",
            "gridwidth": 2,
            "linecolor": "white",
            "showbackground": true,
            "ticks": "",
            "zerolinecolor": "white"
           },
           "zaxis": {
            "backgroundcolor": "#E5ECF6",
            "gridcolor": "white",
            "gridwidth": 2,
            "linecolor": "white",
            "showbackground": true,
            "ticks": "",
            "zerolinecolor": "white"
           }
          },
          "shapedefaults": {
           "line": {
            "color": "#2a3f5f"
           }
          },
          "ternary": {
           "aaxis": {
            "gridcolor": "white",
            "linecolor": "white",
            "ticks": ""
           },
           "baxis": {
            "gridcolor": "white",
            "linecolor": "white",
            "ticks": ""
           },
           "bgcolor": "#E5ECF6",
           "caxis": {
            "gridcolor": "white",
            "linecolor": "white",
            "ticks": ""
           }
          },
          "title": {
           "x": 0.05
          },
          "xaxis": {
           "automargin": true,
           "gridcolor": "white",
           "linecolor": "white",
           "ticks": "",
           "title": {
            "standoff": 15
           },
           "zerolinecolor": "white",
           "zerolinewidth": 2
          },
          "yaxis": {
           "automargin": true,
           "gridcolor": "white",
           "linecolor": "white",
           "ticks": "",
           "title": {
            "standoff": 15
           },
           "zerolinecolor": "white",
           "zerolinewidth": 2
          }
         }
        },
        "xaxis": {
         "anchor": "y",
         "domain": [
          0,
          1
         ],
         "title": {
          "text": "Year of Withdrawal"
         }
        },
        "yaxis": {
         "anchor": "x",
         "domain": [
          0,
          1
         ],
         "tickformat": "$,.0f",
         "title": {
          "text": "After-Tax FV of $1 of After-tax Initial Investment"
         }
        }
       }
      }
     },
     "metadata": {},
     "output_type": "display_data"
    }
   ],
   "source": [
    "# Plot the data\n",
    "df = df.stack().reset_index()\n",
    "df.columns = ['Year','Vehicle','Withdrawal']\n",
    "fig = px.line(df, x='Year',y='Withdrawal',color='Vehicle',custom_data=['Vehicle'])\n",
    "fig.layout.xaxis['title'] = 'Year of Withdrawal'\n",
    "fig.update_yaxes(\n",
    "    title='After-Tax FV of $1 of After-tax Initial Investment',\n",
    "    tickformat='$,.0f'\n",
    ")\n",
    "string = '%{customdata}<br>$%{y:,.2f}<extra></extra>'\n",
    "fig.update_traces(hovertemplate=string)\n",
    "fig.update_layout(hovermode=\"x unified\")\n",
    "fig.update_layout(legend=dict(\n",
    "    yanchor=\"top\",\n",
    "    y=0.99,\n",
    "    xanchor=\"left\",\n",
    "    x=0.01\n",
    "    ))\n",
    "fig.show()"
   ]
  },
  {
   "cell_type": "code",
   "execution_count": 11,
   "metadata": {},
   "outputs": [
    {
     "data": {
      "application/vnd.plotly.v1+json": {
       "config": {
        "plotlyServerURL": "https://plot.ly"
       },
       "data": [
        {
         "customdata": [
          [
           "no_advantage"
          ],
          [
           "no_advantage"
          ],
          [
           "no_advantage"
          ],
          [
           "no_advantage"
          ],
          [
           "no_advantage"
          ],
          [
           "no_advantage"
          ],
          [
           "no_advantage"
          ],
          [
           "no_advantage"
          ],
          [
           "no_advantage"
          ],
          [
           "no_advantage"
          ],
          [
           "no_advantage"
          ],
          [
           "no_advantage"
          ],
          [
           "no_advantage"
          ],
          [
           "no_advantage"
          ],
          [
           "no_advantage"
          ],
          [
           "no_advantage"
          ],
          [
           "no_advantage"
          ],
          [
           "no_advantage"
          ],
          [
           "no_advantage"
          ],
          [
           "no_advantage"
          ],
          [
           "no_advantage"
          ],
          [
           "no_advantage"
          ],
          [
           "no_advantage"
          ],
          [
           "no_advantage"
          ],
          [
           "no_advantage"
          ],
          [
           "no_advantage"
          ],
          [
           "no_advantage"
          ],
          [
           "no_advantage"
          ],
          [
           "no_advantage"
          ],
          [
           "no_advantage"
          ],
          [
           "no_advantage"
          ]
         ],
         "hovertemplate": "%{customdata}<br>$%{y:,.2f}<extra></extra>",
         "legendgroup": "no_advantage",
         "line": {
          "color": "#636efa",
          "dash": "solid"
         },
         "marker": {
          "symbol": "circle"
         },
         "mode": "lines",
         "name": "no_advantage",
         "orientation": "v",
         "showlegend": true,
         "type": "scatter",
         "x": [
          0,
          1,
          2,
          3,
          4,
          5,
          6,
          7,
          8,
          9,
          10,
          11,
          12,
          13,
          14,
          15,
          16,
          17,
          18,
          19,
          20,
          21,
          22,
          23,
          24,
          25,
          26,
          27,
          28,
          29,
          30
         ],
         "xaxis": "x",
         "y": [
          0.9906976744186046,
          1.065,
          1.1448749999999999,
          1.230740625,
          1.3230461718749997,
          1.4222746347656248,
          1.5289452323730464,
          1.643616124801025,
          1.7668873341611018,
          1.8994038842231842,
          2.0418591755399227,
          2.194998613705417,
          2.359623509733323,
          2.5365952729633223,
          2.726839918435571,
          2.931352912318239,
          3.151204380742107,
          3.387544709297765,
          3.641610562495097,
          3.914731354682229,
          4.208336206283396,
          4.5239614217546515,
          4.8632585283862495,
          5.228002918015218,
          5.620103136866359,
          6.041610872131336,
          6.494731687541186,
          6.981836564106774,
          7.505474306414782,
          8.068384879395891,
          8.673513745350581
         ],
         "yaxis": "y"
        },
        {
         "customdata": [
          [
           "nondeductible_ira"
          ],
          [
           "nondeductible_ira"
          ],
          [
           "nondeductible_ira"
          ],
          [
           "nondeductible_ira"
          ],
          [
           "nondeductible_ira"
          ],
          [
           "nondeductible_ira"
          ],
          [
           "nondeductible_ira"
          ],
          [
           "nondeductible_ira"
          ],
          [
           "nondeductible_ira"
          ],
          [
           "nondeductible_ira"
          ],
          [
           "nondeductible_ira"
          ],
          [
           "nondeductible_ira"
          ],
          [
           "nondeductible_ira"
          ],
          [
           "nondeductible_ira"
          ],
          [
           "nondeductible_ira"
          ],
          [
           "nondeductible_ira"
          ],
          [
           "nondeductible_ira"
          ],
          [
           "nondeductible_ira"
          ],
          [
           "nondeductible_ira"
          ],
          [
           "nondeductible_ira"
          ],
          [
           "nondeductible_ira"
          ],
          [
           "nondeductible_ira"
          ],
          [
           "nondeductible_ira"
          ],
          [
           "nondeductible_ira"
          ],
          [
           "nondeductible_ira"
          ],
          [
           "nondeductible_ira"
          ],
          [
           "nondeductible_ira"
          ],
          [
           "nondeductible_ira"
          ],
          [
           "nondeductible_ira"
          ],
          [
           "nondeductible_ira"
          ],
          [
           "nondeductible_ira"
          ]
         ],
         "hovertemplate": "%{customdata}<br>$%{y:,.2f}<extra></extra>",
         "legendgroup": "nondeductible_ira",
         "line": {
          "color": "#EF553B",
          "dash": "solid"
         },
         "marker": {
          "symbol": "circle"
         },
         "mode": "lines",
         "name": "nondeductible_ira",
         "orientation": "v",
         "showlegend": true,
         "type": "scatter",
         "x": [
          0,
          1,
          2,
          3,
          4,
          5,
          6,
          7,
          8,
          9,
          10,
          11,
          12,
          13,
          14,
          15,
          16,
          17,
          18,
          19,
          20,
          21,
          22,
          23,
          24,
          25,
          26,
          27,
          28,
          29,
          30
         ],
         "xaxis": "x",
         "y": [
          1,
          1.065,
          1.1365000000000003,
          1.2151500000000004,
          1.3016650000000003,
          1.3968315000000002,
          1.5015146500000007,
          1.616666115000001,
          1.7433327265000012,
          1.8826659991500012,
          2.0359325990650015,
          2.2045258589715018,
          2.3899784448686523,
          2.593976289355518,
          2.8183739182910696,
          3.065211310120177,
          3.3367324411321944,
          3.6354056852454146,
          3.963946253769956,
          4.325340879146951,
          4.722874967061647,
          5.160162463767812,
          5.641178710144594,
          6.170296581159054,
          6.752326239274959,
          7.392558863202456,
          8.096814749522702,
          8.871496224474974,
          9.723645846922471,
          10.661010431614718,
          11.692111474776192
         ],
         "yaxis": "y"
        },
        {
         "customdata": [
          [
           "nondividend_stock"
          ],
          [
           "nondividend_stock"
          ],
          [
           "nondividend_stock"
          ],
          [
           "nondividend_stock"
          ],
          [
           "nondividend_stock"
          ],
          [
           "nondividend_stock"
          ],
          [
           "nondividend_stock"
          ],
          [
           "nondividend_stock"
          ],
          [
           "nondividend_stock"
          ],
          [
           "nondividend_stock"
          ],
          [
           "nondividend_stock"
          ],
          [
           "nondividend_stock"
          ],
          [
           "nondividend_stock"
          ],
          [
           "nondividend_stock"
          ],
          [
           "nondividend_stock"
          ],
          [
           "nondividend_stock"
          ],
          [
           "nondividend_stock"
          ],
          [
           "nondividend_stock"
          ],
          [
           "nondividend_stock"
          ],
          [
           "nondividend_stock"
          ],
          [
           "nondividend_stock"
          ],
          [
           "nondividend_stock"
          ],
          [
           "nondividend_stock"
          ],
          [
           "nondividend_stock"
          ],
          [
           "nondividend_stock"
          ],
          [
           "nondividend_stock"
          ],
          [
           "nondividend_stock"
          ],
          [
           "nondividend_stock"
          ],
          [
           "nondividend_stock"
          ],
          [
           "nondividend_stock"
          ],
          [
           "nondividend_stock"
          ]
         ],
         "hovertemplate": "%{customdata}<br>$%{y:,.2f}<extra></extra>",
         "legendgroup": "nondividend_stock",
         "line": {
          "color": "#00cc96",
          "dash": "solid"
         },
         "marker": {
          "symbol": "circle"
         },
         "mode": "lines",
         "name": "nondividend_stock",
         "orientation": "v",
         "showlegend": true,
         "type": "scatter",
         "x": [
          0,
          1,
          2,
          3,
          4,
          5,
          6,
          7,
          8,
          9,
          10,
          11,
          12,
          13,
          14,
          15,
          16,
          17,
          18,
          19,
          20,
          21,
          22,
          23,
          24,
          25,
          26,
          27,
          28,
          29,
          30
         ],
         "xaxis": "x",
         "y": [
          1,
          1.08,
          1.1680000000000001,
          1.2648000000000004,
          1.3712800000000003,
          1.4884080000000004,
          1.6172488000000007,
          1.758973680000001,
          1.9148710480000013,
          2.0863581528000017,
          2.274993968080002,
          2.4824933648880023,
          2.7107427013768026,
          2.9618169715144833,
          3.2379986686659317,
          3.5417985355325254,
          3.8759783890857777,
          4.243576227994357,
          4.647933850793792,
          5.092727235873172,
          5.581999959460489,
          6.120199955406538,
          6.712219950947193,
          7.363441946041913,
          8.079786140646103,
          8.867764754710715,
          9.734541230181787,
          10.687995353199968,
          11.736794888519965,
          12.890474377371962,
          14.159521815109159
         ],
         "yaxis": "y"
        },
        {
         "customdata": [
          [
           "roth"
          ],
          [
           "roth"
          ],
          [
           "roth"
          ],
          [
           "roth"
          ],
          [
           "roth"
          ],
          [
           "roth"
          ],
          [
           "roth"
          ],
          [
           "roth"
          ],
          [
           "roth"
          ],
          [
           "roth"
          ],
          [
           "roth"
          ],
          [
           "roth"
          ],
          [
           "roth"
          ],
          [
           "roth"
          ],
          [
           "roth"
          ],
          [
           "roth"
          ],
          [
           "roth"
          ],
          [
           "roth"
          ],
          [
           "roth"
          ],
          [
           "roth"
          ],
          [
           "roth"
          ],
          [
           "roth"
          ],
          [
           "roth"
          ],
          [
           "roth"
          ],
          [
           "roth"
          ],
          [
           "roth"
          ],
          [
           "roth"
          ],
          [
           "roth"
          ],
          [
           "roth"
          ],
          [
           "roth"
          ],
          [
           "roth"
          ]
         ],
         "hovertemplate": "%{customdata}<br>$%{y:,.2f}<extra></extra>",
         "legendgroup": "roth",
         "line": {
          "color": "#ab63fa",
          "dash": "solid"
         },
         "marker": {
          "symbol": "circle"
         },
         "mode": "lines",
         "name": "roth",
         "orientation": "v",
         "showlegend": true,
         "type": "scatter",
         "x": [
          0,
          1,
          2,
          3,
          4,
          5,
          6,
          7,
          8,
          9,
          10,
          11,
          12,
          13,
          14,
          15,
          16,
          17,
          18,
          19,
          20,
          21,
          22,
          23,
          24,
          25,
          26,
          27,
          28,
          29,
          30
         ],
         "xaxis": "x",
         "y": [
          1,
          1.1,
          1.2100000000000002,
          1.3310000000000004,
          1.4641000000000004,
          1.6105100000000006,
          1.7715610000000008,
          1.9487171000000012,
          2.1435888100000016,
          2.357947691000002,
          2.5937424601000023,
          2.8531167061100025,
          3.138428376721003,
          3.452271214393104,
          3.7974983358324144,
          4.177248169415656,
          4.594972986357222,
          5.054470284992945,
          5.55991731349224,
          6.115909044841464,
          6.727499949325611,
          7.400249944258173,
          8.14027493868399,
          8.95430243255239,
          9.84973267580763,
          10.834705943388395,
          11.918176537727234,
          13.10999419149996,
          14.420993610649957,
          15.863092971714952,
          17.44940226888645
         ],
         "yaxis": "y"
        },
        {
         "customdata": [
          [
           "401k"
          ],
          [
           "401k"
          ],
          [
           "401k"
          ],
          [
           "401k"
          ],
          [
           "401k"
          ],
          [
           "401k"
          ],
          [
           "401k"
          ],
          [
           "401k"
          ],
          [
           "401k"
          ],
          [
           "401k"
          ],
          [
           "401k"
          ],
          [
           "401k"
          ],
          [
           "401k"
          ],
          [
           "401k"
          ],
          [
           "401k"
          ],
          [
           "401k"
          ],
          [
           "401k"
          ],
          [
           "401k"
          ],
          [
           "401k"
          ],
          [
           "401k"
          ],
          [
           "401k"
          ],
          [
           "401k"
          ],
          [
           "401k"
          ],
          [
           "401k"
          ],
          [
           "401k"
          ],
          [
           "401k"
          ],
          [
           "401k"
          ],
          [
           "401k"
          ],
          [
           "401k"
          ],
          [
           "401k"
          ],
          [
           "401k"
          ]
         ],
         "hovertemplate": "%{customdata}<br>$%{y:,.2f}<extra></extra>",
         "legendgroup": "401k",
         "line": {
          "color": "#FFA15A",
          "dash": "solid"
         },
         "marker": {
          "symbol": "circle"
         },
         "mode": "lines",
         "name": "401k",
         "orientation": "v",
         "showlegend": true,
         "type": "scatter",
         "x": [
          0,
          1,
          2,
          3,
          4,
          5,
          6,
          7,
          8,
          9,
          10,
          11,
          12,
          13,
          14,
          15,
          16,
          17,
          18,
          19,
          20,
          21,
          22,
          23,
          24,
          25,
          26,
          27,
          28,
          29,
          30
         ],
         "xaxis": "x",
         "y": [
          1,
          0.9533333333333335,
          1.0486666666666669,
          1.1535333333333337,
          1.2688866666666672,
          1.3957753333333338,
          1.5353528666666676,
          1.6888881533333346,
          1.857776968666668,
          2.043554665533335,
          2.247910132086669,
          2.4727011452953356,
          2.7199712598248698,
          2.991968385807357,
          3.291165224388093,
          3.6202817468269024,
          3.9823099215095925,
          4.380540913660552,
          4.818595005026608,
          5.300454505529269,
          5.830499956082196,
          6.413549951690417,
          7.054904946859459,
          7.7603954415454055,
          8.536434985699946,
          9.390078484269942,
          10.329086332696937,
          11.361994965966632,
          12.498194462563296,
          13.748013908819624,
          15.12281529970159
         ],
         "yaxis": "y"
        }
       ],
       "layout": {
        "hovermode": "x unified",
        "legend": {
         "title": {
          "text": "Vehicle"
         },
         "tracegroupgap": 0,
         "x": 0.01,
         "xanchor": "left",
         "y": 0.99,
         "yanchor": "top"
        },
        "margin": {
         "t": 60
        },
        "template": {
         "data": {
          "bar": [
           {
            "error_x": {
             "color": "#2a3f5f"
            },
            "error_y": {
             "color": "#2a3f5f"
            },
            "marker": {
             "line": {
              "color": "#E5ECF6",
              "width": 0.5
             },
             "pattern": {
              "fillmode": "overlay",
              "size": 10,
              "solidity": 0.2
             }
            },
            "type": "bar"
           }
          ],
          "barpolar": [
           {
            "marker": {
             "line": {
              "color": "#E5ECF6",
              "width": 0.5
             },
             "pattern": {
              "fillmode": "overlay",
              "size": 10,
              "solidity": 0.2
             }
            },
            "type": "barpolar"
           }
          ],
          "carpet": [
           {
            "aaxis": {
             "endlinecolor": "#2a3f5f",
             "gridcolor": "white",
             "linecolor": "white",
             "minorgridcolor": "white",
             "startlinecolor": "#2a3f5f"
            },
            "baxis": {
             "endlinecolor": "#2a3f5f",
             "gridcolor": "white",
             "linecolor": "white",
             "minorgridcolor": "white",
             "startlinecolor": "#2a3f5f"
            },
            "type": "carpet"
           }
          ],
          "choropleth": [
           {
            "colorbar": {
             "outlinewidth": 0,
             "ticks": ""
            },
            "type": "choropleth"
           }
          ],
          "contour": [
           {
            "colorbar": {
             "outlinewidth": 0,
             "ticks": ""
            },
            "colorscale": [
             [
              0,
              "#0d0887"
             ],
             [
              0.1111111111111111,
              "#46039f"
             ],
             [
              0.2222222222222222,
              "#7201a8"
             ],
             [
              0.3333333333333333,
              "#9c179e"
             ],
             [
              0.4444444444444444,
              "#bd3786"
             ],
             [
              0.5555555555555556,
              "#d8576b"
             ],
             [
              0.6666666666666666,
              "#ed7953"
             ],
             [
              0.7777777777777778,
              "#fb9f3a"
             ],
             [
              0.8888888888888888,
              "#fdca26"
             ],
             [
              1,
              "#f0f921"
             ]
            ],
            "type": "contour"
           }
          ],
          "contourcarpet": [
           {
            "colorbar": {
             "outlinewidth": 0,
             "ticks": ""
            },
            "type": "contourcarpet"
           }
          ],
          "heatmap": [
           {
            "colorbar": {
             "outlinewidth": 0,
             "ticks": ""
            },
            "colorscale": [
             [
              0,
              "#0d0887"
             ],
             [
              0.1111111111111111,
              "#46039f"
             ],
             [
              0.2222222222222222,
              "#7201a8"
             ],
             [
              0.3333333333333333,
              "#9c179e"
             ],
             [
              0.4444444444444444,
              "#bd3786"
             ],
             [
              0.5555555555555556,
              "#d8576b"
             ],
             [
              0.6666666666666666,
              "#ed7953"
             ],
             [
              0.7777777777777778,
              "#fb9f3a"
             ],
             [
              0.8888888888888888,
              "#fdca26"
             ],
             [
              1,
              "#f0f921"
             ]
            ],
            "type": "heatmap"
           }
          ],
          "heatmapgl": [
           {
            "colorbar": {
             "outlinewidth": 0,
             "ticks": ""
            },
            "colorscale": [
             [
              0,
              "#0d0887"
             ],
             [
              0.1111111111111111,
              "#46039f"
             ],
             [
              0.2222222222222222,
              "#7201a8"
             ],
             [
              0.3333333333333333,
              "#9c179e"
             ],
             [
              0.4444444444444444,
              "#bd3786"
             ],
             [
              0.5555555555555556,
              "#d8576b"
             ],
             [
              0.6666666666666666,
              "#ed7953"
             ],
             [
              0.7777777777777778,
              "#fb9f3a"
             ],
             [
              0.8888888888888888,
              "#fdca26"
             ],
             [
              1,
              "#f0f921"
             ]
            ],
            "type": "heatmapgl"
           }
          ],
          "histogram": [
           {
            "marker": {
             "pattern": {
              "fillmode": "overlay",
              "size": 10,
              "solidity": 0.2
             }
            },
            "type": "histogram"
           }
          ],
          "histogram2d": [
           {
            "colorbar": {
             "outlinewidth": 0,
             "ticks": ""
            },
            "colorscale": [
             [
              0,
              "#0d0887"
             ],
             [
              0.1111111111111111,
              "#46039f"
             ],
             [
              0.2222222222222222,
              "#7201a8"
             ],
             [
              0.3333333333333333,
              "#9c179e"
             ],
             [
              0.4444444444444444,
              "#bd3786"
             ],
             [
              0.5555555555555556,
              "#d8576b"
             ],
             [
              0.6666666666666666,
              "#ed7953"
             ],
             [
              0.7777777777777778,
              "#fb9f3a"
             ],
             [
              0.8888888888888888,
              "#fdca26"
             ],
             [
              1,
              "#f0f921"
             ]
            ],
            "type": "histogram2d"
           }
          ],
          "histogram2dcontour": [
           {
            "colorbar": {
             "outlinewidth": 0,
             "ticks": ""
            },
            "colorscale": [
             [
              0,
              "#0d0887"
             ],
             [
              0.1111111111111111,
              "#46039f"
             ],
             [
              0.2222222222222222,
              "#7201a8"
             ],
             [
              0.3333333333333333,
              "#9c179e"
             ],
             [
              0.4444444444444444,
              "#bd3786"
             ],
             [
              0.5555555555555556,
              "#d8576b"
             ],
             [
              0.6666666666666666,
              "#ed7953"
             ],
             [
              0.7777777777777778,
              "#fb9f3a"
             ],
             [
              0.8888888888888888,
              "#fdca26"
             ],
             [
              1,
              "#f0f921"
             ]
            ],
            "type": "histogram2dcontour"
           }
          ],
          "mesh3d": [
           {
            "colorbar": {
             "outlinewidth": 0,
             "ticks": ""
            },
            "type": "mesh3d"
           }
          ],
          "parcoords": [
           {
            "line": {
             "colorbar": {
              "outlinewidth": 0,
              "ticks": ""
             }
            },
            "type": "parcoords"
           }
          ],
          "pie": [
           {
            "automargin": true,
            "type": "pie"
           }
          ],
          "scatter": [
           {
            "fillpattern": {
             "fillmode": "overlay",
             "size": 10,
             "solidity": 0.2
            },
            "type": "scatter"
           }
          ],
          "scatter3d": [
           {
            "line": {
             "colorbar": {
              "outlinewidth": 0,
              "ticks": ""
             }
            },
            "marker": {
             "colorbar": {
              "outlinewidth": 0,
              "ticks": ""
             }
            },
            "type": "scatter3d"
           }
          ],
          "scattercarpet": [
           {
            "marker": {
             "colorbar": {
              "outlinewidth": 0,
              "ticks": ""
             }
            },
            "type": "scattercarpet"
           }
          ],
          "scattergeo": [
           {
            "marker": {
             "colorbar": {
              "outlinewidth": 0,
              "ticks": ""
             }
            },
            "type": "scattergeo"
           }
          ],
          "scattergl": [
           {
            "marker": {
             "colorbar": {
              "outlinewidth": 0,
              "ticks": ""
             }
            },
            "type": "scattergl"
           }
          ],
          "scattermapbox": [
           {
            "marker": {
             "colorbar": {
              "outlinewidth": 0,
              "ticks": ""
             }
            },
            "type": "scattermapbox"
           }
          ],
          "scatterpolar": [
           {
            "marker": {
             "colorbar": {
              "outlinewidth": 0,
              "ticks": ""
             }
            },
            "type": "scatterpolar"
           }
          ],
          "scatterpolargl": [
           {
            "marker": {
             "colorbar": {
              "outlinewidth": 0,
              "ticks": ""
             }
            },
            "type": "scatterpolargl"
           }
          ],
          "scatterternary": [
           {
            "marker": {
             "colorbar": {
              "outlinewidth": 0,
              "ticks": ""
             }
            },
            "type": "scatterternary"
           }
          ],
          "surface": [
           {
            "colorbar": {
             "outlinewidth": 0,
             "ticks": ""
            },
            "colorscale": [
             [
              0,
              "#0d0887"
             ],
             [
              0.1111111111111111,
              "#46039f"
             ],
             [
              0.2222222222222222,
              "#7201a8"
             ],
             [
              0.3333333333333333,
              "#9c179e"
             ],
             [
              0.4444444444444444,
              "#bd3786"
             ],
             [
              0.5555555555555556,
              "#d8576b"
             ],
             [
              0.6666666666666666,
              "#ed7953"
             ],
             [
              0.7777777777777778,
              "#fb9f3a"
             ],
             [
              0.8888888888888888,
              "#fdca26"
             ],
             [
              1,
              "#f0f921"
             ]
            ],
            "type": "surface"
           }
          ],
          "table": [
           {
            "cells": {
             "fill": {
              "color": "#EBF0F8"
             },
             "line": {
              "color": "white"
             }
            },
            "header": {
             "fill": {
              "color": "#C8D4E3"
             },
             "line": {
              "color": "white"
             }
            },
            "type": "table"
           }
          ]
         },
         "layout": {
          "annotationdefaults": {
           "arrowcolor": "#2a3f5f",
           "arrowhead": 0,
           "arrowwidth": 1
          },
          "autotypenumbers": "strict",
          "coloraxis": {
           "colorbar": {
            "outlinewidth": 0,
            "ticks": ""
           }
          },
          "colorscale": {
           "diverging": [
            [
             0,
             "#8e0152"
            ],
            [
             0.1,
             "#c51b7d"
            ],
            [
             0.2,
             "#de77ae"
            ],
            [
             0.3,
             "#f1b6da"
            ],
            [
             0.4,
             "#fde0ef"
            ],
            [
             0.5,
             "#f7f7f7"
            ],
            [
             0.6,
             "#e6f5d0"
            ],
            [
             0.7,
             "#b8e186"
            ],
            [
             0.8,
             "#7fbc41"
            ],
            [
             0.9,
             "#4d9221"
            ],
            [
             1,
             "#276419"
            ]
           ],
           "sequential": [
            [
             0,
             "#0d0887"
            ],
            [
             0.1111111111111111,
             "#46039f"
            ],
            [
             0.2222222222222222,
             "#7201a8"
            ],
            [
             0.3333333333333333,
             "#9c179e"
            ],
            [
             0.4444444444444444,
             "#bd3786"
            ],
            [
             0.5555555555555556,
             "#d8576b"
            ],
            [
             0.6666666666666666,
             "#ed7953"
            ],
            [
             0.7777777777777778,
             "#fb9f3a"
            ],
            [
             0.8888888888888888,
             "#fdca26"
            ],
            [
             1,
             "#f0f921"
            ]
           ],
           "sequentialminus": [
            [
             0,
             "#0d0887"
            ],
            [
             0.1111111111111111,
             "#46039f"
            ],
            [
             0.2222222222222222,
             "#7201a8"
            ],
            [
             0.3333333333333333,
             "#9c179e"
            ],
            [
             0.4444444444444444,
             "#bd3786"
            ],
            [
             0.5555555555555556,
             "#d8576b"
            ],
            [
             0.6666666666666666,
             "#ed7953"
            ],
            [
             0.7777777777777778,
             "#fb9f3a"
            ],
            [
             0.8888888888888888,
             "#fdca26"
            ],
            [
             1,
             "#f0f921"
            ]
           ]
          },
          "colorway": [
           "#636efa",
           "#EF553B",
           "#00cc96",
           "#ab63fa",
           "#FFA15A",
           "#19d3f3",
           "#FF6692",
           "#B6E880",
           "#FF97FF",
           "#FECB52"
          ],
          "font": {
           "color": "#2a3f5f"
          },
          "geo": {
           "bgcolor": "white",
           "lakecolor": "white",
           "landcolor": "#E5ECF6",
           "showlakes": true,
           "showland": true,
           "subunitcolor": "white"
          },
          "hoverlabel": {
           "align": "left"
          },
          "hovermode": "closest",
          "mapbox": {
           "style": "light"
          },
          "paper_bgcolor": "white",
          "plot_bgcolor": "#E5ECF6",
          "polar": {
           "angularaxis": {
            "gridcolor": "white",
            "linecolor": "white",
            "ticks": ""
           },
           "bgcolor": "#E5ECF6",
           "radialaxis": {
            "gridcolor": "white",
            "linecolor": "white",
            "ticks": ""
           }
          },
          "scene": {
           "xaxis": {
            "backgroundcolor": "#E5ECF6",
            "gridcolor": "white",
            "gridwidth": 2,
            "linecolor": "white",
            "showbackground": true,
            "ticks": "",
            "zerolinecolor": "white"
           },
           "yaxis": {
            "backgroundcolor": "#E5ECF6",
            "gridcolor": "white",
            "gridwidth": 2,
            "linecolor": "white",
            "showbackground": true,
            "ticks": "",
            "zerolinecolor": "white"
           },
           "zaxis": {
            "backgroundcolor": "#E5ECF6",
            "gridcolor": "white",
            "gridwidth": 2,
            "linecolor": "white",
            "showbackground": true,
            "ticks": "",
            "zerolinecolor": "white"
           }
          },
          "shapedefaults": {
           "line": {
            "color": "#2a3f5f"
           }
          },
          "ternary": {
           "aaxis": {
            "gridcolor": "white",
            "linecolor": "white",
            "ticks": ""
           },
           "baxis": {
            "gridcolor": "white",
            "linecolor": "white",
            "ticks": ""
           },
           "bgcolor": "#E5ECF6",
           "caxis": {
            "gridcolor": "white",
            "linecolor": "white",
            "ticks": ""
           }
          },
          "title": {
           "x": 0.05
          },
          "xaxis": {
           "automargin": true,
           "gridcolor": "white",
           "linecolor": "white",
           "ticks": "",
           "title": {
            "standoff": 15
           },
           "zerolinecolor": "white",
           "zerolinewidth": 2
          },
          "yaxis": {
           "automargin": true,
           "gridcolor": "white",
           "linecolor": "white",
           "ticks": "",
           "title": {
            "standoff": 15
           },
           "zerolinecolor": "white",
           "zerolinewidth": 2
          }
         }
        },
        "xaxis": {
         "anchor": "y",
         "domain": [
          0,
          1
         ],
         "title": {
          "text": "Year of Withdrawal"
         }
        },
        "yaxis": {
         "anchor": "x",
         "domain": [
          0,
          1
         ],
         "tickformat": "$,.0f",
         "title": {
          "text": "After-Tax FV of $1 of After-tax Initial Investment"
         }
        }
       }
      }
     },
     "metadata": {},
     "output_type": "display_data"
    }
   ],
   "source": [
    "# Parameters (higher future ordinary rates)\n",
    "T_OI_0 = 0.25\n",
    "T_CG_0 = 0.20\n",
    "T_OI_T = 0.35\n",
    "T_CG_T = 0.20\n",
    "RET = 0.10\n",
    "HORIZON = 30\n",
    "\n",
    "# Create dataframe with accumulations each year\n",
    "cols = ['no_advantage','nondeductible_ira','nondividend_stock','roth','401k']\n",
    "df = pd.DataFrame(dtype=float,columns=cols,index=np.arange(HORIZON+1))\n",
    "for t in np.arange(HORIZON+1):\n",
    "    for c in cols:\n",
    "        df.loc[t,c] = post_tax_return(c,T_OI_0,T_CG_0,T_OI_T,T_CG_T,RET,t)\n",
    "\n",
    "# Plot the data\n",
    "df = df.stack().reset_index()\n",
    "df.columns = ['Year','Vehicle','Withdrawal']\n",
    "fig = px.line(df, x='Year',y='Withdrawal',color='Vehicle',custom_data=['Vehicle'])\n",
    "fig.layout.xaxis['title'] = 'Year of Withdrawal'\n",
    "fig.update_yaxes(\n",
    "    title='After-Tax FV of $1 of After-tax Initial Investment',\n",
    "    tickformat='$,.0f'\n",
    ")\n",
    "string = '%{customdata}<br>$%{y:,.2f}<extra></extra>'\n",
    "fig.update_traces(hovertemplate=string)\n",
    "fig.update_layout(hovermode=\"x unified\")\n",
    "fig.update_layout(legend=dict(\n",
    "    yanchor=\"top\",\n",
    "    y=0.99,\n",
    "    xanchor=\"left\",\n",
    "    x=0.01\n",
    "    ))\n",
    "fig.show()\n"
   ]
  }
 ],
 "metadata": {
  "kernelspec": {
   "display_name": "Python 3.10.6 ('venv': venv)",
   "language": "python",
   "name": "python3"
  },
  "language_info": {
   "codemirror_mode": {
    "name": "ipython",
    "version": 3
   },
   "file_extension": ".py",
   "mimetype": "text/x-python",
   "name": "python",
   "nbconvert_exporter": "python",
   "pygments_lexer": "ipython3",
   "version": "3.10.6"
  },
  "orig_nbformat": 4,
  "vscode": {
   "interpreter": {
    "hash": "cc788b38d8cb434c82f45ef9d481d0310e17b79321e4c8cbfbfe90f656a3f023"
   }
  }
 },
 "nbformat": 4,
 "nbformat_minor": 2
}
